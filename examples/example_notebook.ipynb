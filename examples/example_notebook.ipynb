version https://git-lfs.github.com/spec/v1
oid sha256:6d012da65f41f3bc434e16fd15b230d8e9baa3d9fba42402300059d38b82fa47
size 112543
