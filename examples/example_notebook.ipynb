version https://git-lfs.github.com/spec/v1
oid sha256:8e3a03b7ffa8d780c288c902ad00561f44a67766835ddf114f178557cda25454
size 114430
