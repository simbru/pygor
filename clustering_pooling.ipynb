{
 "cells": [
  {
   "cell_type": "code",
   "execution_count": 4,
   "metadata": {},
   "outputs": [
    {
     "name": "stdout",
     "output_type": "stream",
     "text": [
      "{'SD_threshold': 1.2, 'correlation_threshold': 0.68, 'min_traces_per_cluster': 6, 'cluster_threshold': 45, 'depth': 250}\n",
      "{'SD_threshold': 1.4, 'correlation_threshold': 0.34, 'min_traces_per_cluster': 6, 'cluster_threshold': 35, 'depth': 266}\n",
      "{'SD_threshold': 1.4, 'correlation_threshold': 0.6, 'min_traces_per_cluster': 6, 'cluster_threshold': 35, 'depth': 245}\n"
     ]
    },
    {
     "data": {
      "application/vnd.plotly.v1+json": {
       "config": {
        "plotlyServerURL": "https://plot.ly"
       },
       "data": [
        {
         "opacity": 0.3,
         "type": "histogram",
         "x": [
          56,
          60,
          83,
          57,
          61,
          77,
          54,
          41,
          57,
          82,
          54,
          60,
          78,
          57,
          93,
          53,
          72,
          65,
          83,
          56,
          86,
          72,
          21,
          62,
          64,
          49,
          60,
          78,
          74,
          65,
          94,
          44,
          49,
          51,
          58,
          28,
          81,
          79,
          50,
          42,
          64,
          64,
          72,
          26,
          76,
          72,
          96,
          67,
          91,
          92,
          63,
          44,
          76,
          71,
          18,
          23,
          32,
          70,
          88,
          44,
          74,
          90,
          48,
          71,
          83,
          85,
          97,
          86,
          64,
          76,
          72,
          51,
          61,
          72,
          85,
          53,
          34,
          91,
          46,
          87,
          46,
          58,
          37,
          37,
          41,
          78,
          91,
          75,
          84,
          90,
          63,
          34,
          93,
          72,
          72,
          79,
          50,
          83,
          69,
          101,
          101,
          85,
          82,
          47,
          80,
          38
         ]
        },
        {
         "opacity": 0.3,
         "type": "histogram",
         "x": [
          61,
          61,
          54,
          62,
          61,
          58,
          72,
          54,
          59,
          57,
          61,
          32,
          72,
          26,
          57,
          14,
          86,
          40,
          34,
          28,
          29,
          43,
          52,
          30,
          41,
          78,
          61,
          47,
          46,
          41,
          80,
          67,
          64,
          76,
          49,
          59,
          78,
          47,
          71,
          65,
          16,
          44,
          44,
          71,
          40,
          48,
          50,
          67,
          23,
          73,
          63,
          21,
          70,
          33,
          50,
          82,
          56,
          21,
          45,
          56,
          89,
          57,
          11,
          49,
          42,
          57,
          21,
          57,
          58,
          15,
          14,
          48,
          87,
          61,
          61,
          54,
          62,
          61,
          58,
          72,
          54,
          59,
          57,
          61,
          32,
          72,
          26,
          57,
          14,
          86,
          40,
          34,
          28,
          29,
          43,
          52,
          30,
          41,
          78,
          61,
          47,
          46,
          41,
          80,
          67,
          64,
          76,
          49,
          59,
          78,
          47,
          71,
          65,
          16,
          44,
          44,
          71,
          40,
          48,
          50,
          67,
          23,
          73,
          63,
          21,
          70,
          33,
          50,
          82,
          56,
          21,
          45,
          56,
          89,
          57,
          11,
          49,
          42,
          57,
          21,
          57,
          58,
          15,
          14,
          48,
          87,
          -1,
          -1,
          -1,
          -1,
          -1,
          -1,
          -1,
          69,
          -1,
          -1,
          -1,
          5,
          -1,
          -1
         ]
        },
        {
         "opacity": 0.3,
         "type": "histogram",
         "x": [
          38,
          37,
          29,
          39,
          63,
          43,
          39,
          41,
          43,
          48,
          34,
          49,
          25,
          51,
          29,
          30,
          75,
          44,
          57,
          52,
          33,
          42,
          45,
          63,
          41,
          49,
          39,
          42,
          45,
          71,
          52,
          37,
          41,
          20,
          83,
          75,
          74,
          29,
          27,
          43,
          50,
          35,
          30,
          47,
          20,
          41,
          81,
          88,
          38,
          64,
          80,
          62,
          49,
          35,
          57,
          31,
          33,
          33,
          48,
          65,
          55,
          81,
          55,
          45,
          39,
          77,
          55,
          34,
          65,
          44,
          58,
          36,
          52,
          64,
          85,
          37,
          30,
          58,
          66,
          -1,
          63,
          43,
          101,
          59,
          49,
          78
         ]
        }
       ],
       "layout": {
        "barmode": "overlay",
        "height": 400,
        "margin": {
         "b": 20,
         "l": 20,
         "r": 20,
         "t": 20
        },
        "template": {
         "data": {
          "bar": [
           {
            "error_x": {
             "color": "#2a3f5f"
            },
            "error_y": {
             "color": "#2a3f5f"
            },
            "marker": {
             "line": {
              "color": "#E5ECF6",
              "width": 0.5
             },
             "pattern": {
              "fillmode": "overlay",
              "size": 10,
              "solidity": 0.2
             }
            },
            "type": "bar"
           }
          ],
          "barpolar": [
           {
            "marker": {
             "line": {
              "color": "#E5ECF6",
              "width": 0.5
             },
             "pattern": {
              "fillmode": "overlay",
              "size": 10,
              "solidity": 0.2
             }
            },
            "type": "barpolar"
           }
          ],
          "carpet": [
           {
            "aaxis": {
             "endlinecolor": "#2a3f5f",
             "gridcolor": "white",
             "linecolor": "white",
             "minorgridcolor": "white",
             "startlinecolor": "#2a3f5f"
            },
            "baxis": {
             "endlinecolor": "#2a3f5f",
             "gridcolor": "white",
             "linecolor": "white",
             "minorgridcolor": "white",
             "startlinecolor": "#2a3f5f"
            },
            "type": "carpet"
           }
          ],
          "choropleth": [
           {
            "colorbar": {
             "outlinewidth": 0,
             "ticks": ""
            },
            "type": "choropleth"
           }
          ],
          "contour": [
           {
            "colorbar": {
             "outlinewidth": 0,
             "ticks": ""
            },
            "colorscale": [
             [
              0,
              "#0d0887"
             ],
             [
              0.1111111111111111,
              "#46039f"
             ],
             [
              0.2222222222222222,
              "#7201a8"
             ],
             [
              0.3333333333333333,
              "#9c179e"
             ],
             [
              0.4444444444444444,
              "#bd3786"
             ],
             [
              0.5555555555555556,
              "#d8576b"
             ],
             [
              0.6666666666666666,
              "#ed7953"
             ],
             [
              0.7777777777777778,
              "#fb9f3a"
             ],
             [
              0.8888888888888888,
              "#fdca26"
             ],
             [
              1,
              "#f0f921"
             ]
            ],
            "type": "contour"
           }
          ],
          "contourcarpet": [
           {
            "colorbar": {
             "outlinewidth": 0,
             "ticks": ""
            },
            "type": "contourcarpet"
           }
          ],
          "heatmap": [
           {
            "colorbar": {
             "outlinewidth": 0,
             "ticks": ""
            },
            "colorscale": [
             [
              0,
              "#0d0887"
             ],
             [
              0.1111111111111111,
              "#46039f"
             ],
             [
              0.2222222222222222,
              "#7201a8"
             ],
             [
              0.3333333333333333,
              "#9c179e"
             ],
             [
              0.4444444444444444,
              "#bd3786"
             ],
             [
              0.5555555555555556,
              "#d8576b"
             ],
             [
              0.6666666666666666,
              "#ed7953"
             ],
             [
              0.7777777777777778,
              "#fb9f3a"
             ],
             [
              0.8888888888888888,
              "#fdca26"
             ],
             [
              1,
              "#f0f921"
             ]
            ],
            "type": "heatmap"
           }
          ],
          "heatmapgl": [
           {
            "colorbar": {
             "outlinewidth": 0,
             "ticks": ""
            },
            "colorscale": [
             [
              0,
              "#0d0887"
             ],
             [
              0.1111111111111111,
              "#46039f"
             ],
             [
              0.2222222222222222,
              "#7201a8"
             ],
             [
              0.3333333333333333,
              "#9c179e"
             ],
             [
              0.4444444444444444,
              "#bd3786"
             ],
             [
              0.5555555555555556,
              "#d8576b"
             ],
             [
              0.6666666666666666,
              "#ed7953"
             ],
             [
              0.7777777777777778,
              "#fb9f3a"
             ],
             [
              0.8888888888888888,
              "#fdca26"
             ],
             [
              1,
              "#f0f921"
             ]
            ],
            "type": "heatmapgl"
           }
          ],
          "histogram": [
           {
            "marker": {
             "pattern": {
              "fillmode": "overlay",
              "size": 10,
              "solidity": 0.2
             }
            },
            "type": "histogram"
           }
          ],
          "histogram2d": [
           {
            "colorbar": {
             "outlinewidth": 0,
             "ticks": ""
            },
            "colorscale": [
             [
              0,
              "#0d0887"
             ],
             [
              0.1111111111111111,
              "#46039f"
             ],
             [
              0.2222222222222222,
              "#7201a8"
             ],
             [
              0.3333333333333333,
              "#9c179e"
             ],
             [
              0.4444444444444444,
              "#bd3786"
             ],
             [
              0.5555555555555556,
              "#d8576b"
             ],
             [
              0.6666666666666666,
              "#ed7953"
             ],
             [
              0.7777777777777778,
              "#fb9f3a"
             ],
             [
              0.8888888888888888,
              "#fdca26"
             ],
             [
              1,
              "#f0f921"
             ]
            ],
            "type": "histogram2d"
           }
          ],
          "histogram2dcontour": [
           {
            "colorbar": {
             "outlinewidth": 0,
             "ticks": ""
            },
            "colorscale": [
             [
              0,
              "#0d0887"
             ],
             [
              0.1111111111111111,
              "#46039f"
             ],
             [
              0.2222222222222222,
              "#7201a8"
             ],
             [
              0.3333333333333333,
              "#9c179e"
             ],
             [
              0.4444444444444444,
              "#bd3786"
             ],
             [
              0.5555555555555556,
              "#d8576b"
             ],
             [
              0.6666666666666666,
              "#ed7953"
             ],
             [
              0.7777777777777778,
              "#fb9f3a"
             ],
             [
              0.8888888888888888,
              "#fdca26"
             ],
             [
              1,
              "#f0f921"
             ]
            ],
            "type": "histogram2dcontour"
           }
          ],
          "mesh3d": [
           {
            "colorbar": {
             "outlinewidth": 0,
             "ticks": ""
            },
            "type": "mesh3d"
           }
          ],
          "parcoords": [
           {
            "line": {
             "colorbar": {
              "outlinewidth": 0,
              "ticks": ""
             }
            },
            "type": "parcoords"
           }
          ],
          "pie": [
           {
            "automargin": true,
            "type": "pie"
           }
          ],
          "scatter": [
           {
            "fillpattern": {
             "fillmode": "overlay",
             "size": 10,
             "solidity": 0.2
            },
            "type": "scatter"
           }
          ],
          "scatter3d": [
           {
            "line": {
             "colorbar": {
              "outlinewidth": 0,
              "ticks": ""
             }
            },
            "marker": {
             "colorbar": {
              "outlinewidth": 0,
              "ticks": ""
             }
            },
            "type": "scatter3d"
           }
          ],
          "scattercarpet": [
           {
            "marker": {
             "colorbar": {
              "outlinewidth": 0,
              "ticks": ""
             }
            },
            "type": "scattercarpet"
           }
          ],
          "scattergeo": [
           {
            "marker": {
             "colorbar": {
              "outlinewidth": 0,
              "ticks": ""
             }
            },
            "type": "scattergeo"
           }
          ],
          "scattergl": [
           {
            "marker": {
             "colorbar": {
              "outlinewidth": 0,
              "ticks": ""
             }
            },
            "type": "scattergl"
           }
          ],
          "scattermapbox": [
           {
            "marker": {
             "colorbar": {
              "outlinewidth": 0,
              "ticks": ""
             }
            },
            "type": "scattermapbox"
           }
          ],
          "scatterpolar": [
           {
            "marker": {
             "colorbar": {
              "outlinewidth": 0,
              "ticks": ""
             }
            },
            "type": "scatterpolar"
           }
          ],
          "scatterpolargl": [
           {
            "marker": {
             "colorbar": {
              "outlinewidth": 0,
              "ticks": ""
             }
            },
            "type": "scatterpolargl"
           }
          ],
          "scatterternary": [
           {
            "marker": {
             "colorbar": {
              "outlinewidth": 0,
              "ticks": ""
             }
            },
            "type": "scatterternary"
           }
          ],
          "surface": [
           {
            "colorbar": {
             "outlinewidth": 0,
             "ticks": ""
            },
            "colorscale": [
             [
              0,
              "#0d0887"
             ],
             [
              0.1111111111111111,
              "#46039f"
             ],
             [
              0.2222222222222222,
              "#7201a8"
             ],
             [
              0.3333333333333333,
              "#9c179e"
             ],
             [
              0.4444444444444444,
              "#bd3786"
             ],
             [
              0.5555555555555556,
              "#d8576b"
             ],
             [
              0.6666666666666666,
              "#ed7953"
             ],
             [
              0.7777777777777778,
              "#fb9f3a"
             ],
             [
              0.8888888888888888,
              "#fdca26"
             ],
             [
              1,
              "#f0f921"
             ]
            ],
            "type": "surface"
           }
          ],
          "table": [
           {
            "cells": {
             "fill": {
              "color": "#EBF0F8"
             },
             "line": {
              "color": "white"
             }
            },
            "header": {
             "fill": {
              "color": "#C8D4E3"
             },
             "line": {
              "color": "white"
             }
            },
            "type": "table"
           }
          ]
         },
         "layout": {
          "annotationdefaults": {
           "arrowcolor": "#2a3f5f",
           "arrowhead": 0,
           "arrowwidth": 1
          },
          "autotypenumbers": "strict",
          "coloraxis": {
           "colorbar": {
            "outlinewidth": 0,
            "ticks": ""
           }
          },
          "colorscale": {
           "diverging": [
            [
             0,
             "#8e0152"
            ],
            [
             0.1,
             "#c51b7d"
            ],
            [
             0.2,
             "#de77ae"
            ],
            [
             0.3,
             "#f1b6da"
            ],
            [
             0.4,
             "#fde0ef"
            ],
            [
             0.5,
             "#f7f7f7"
            ],
            [
             0.6,
             "#e6f5d0"
            ],
            [
             0.7,
             "#b8e186"
            ],
            [
             0.8,
             "#7fbc41"
            ],
            [
             0.9,
             "#4d9221"
            ],
            [
             1,
             "#276419"
            ]
           ],
           "sequential": [
            [
             0,
             "#0d0887"
            ],
            [
             0.1111111111111111,
             "#46039f"
            ],
            [
             0.2222222222222222,
             "#7201a8"
            ],
            [
             0.3333333333333333,
             "#9c179e"
            ],
            [
             0.4444444444444444,
             "#bd3786"
            ],
            [
             0.5555555555555556,
             "#d8576b"
            ],
            [
             0.6666666666666666,
             "#ed7953"
            ],
            [
             0.7777777777777778,
             "#fb9f3a"
            ],
            [
             0.8888888888888888,
             "#fdca26"
            ],
            [
             1,
             "#f0f921"
            ]
           ],
           "sequentialminus": [
            [
             0,
             "#0d0887"
            ],
            [
             0.1111111111111111,
             "#46039f"
            ],
            [
             0.2222222222222222,
             "#7201a8"
            ],
            [
             0.3333333333333333,
             "#9c179e"
            ],
            [
             0.4444444444444444,
             "#bd3786"
            ],
            [
             0.5555555555555556,
             "#d8576b"
            ],
            [
             0.6666666666666666,
             "#ed7953"
            ],
            [
             0.7777777777777778,
             "#fb9f3a"
            ],
            [
             0.8888888888888888,
             "#fdca26"
            ],
            [
             1,
             "#f0f921"
            ]
           ]
          },
          "colorway": [
           "#636efa",
           "#EF553B",
           "#00cc96",
           "#ab63fa",
           "#FFA15A",
           "#19d3f3",
           "#FF6692",
           "#B6E880",
           "#FF97FF",
           "#FECB52"
          ],
          "font": {
           "color": "#2a3f5f"
          },
          "geo": {
           "bgcolor": "white",
           "lakecolor": "white",
           "landcolor": "#E5ECF6",
           "showlakes": true,
           "showland": true,
           "subunitcolor": "white"
          },
          "hoverlabel": {
           "align": "left"
          },
          "hovermode": "closest",
          "mapbox": {
           "style": "light"
          },
          "paper_bgcolor": "white",
          "plot_bgcolor": "#E5ECF6",
          "polar": {
           "angularaxis": {
            "gridcolor": "white",
            "linecolor": "white",
            "ticks": ""
           },
           "bgcolor": "#E5ECF6",
           "radialaxis": {
            "gridcolor": "white",
            "linecolor": "white",
            "ticks": ""
           }
          },
          "scene": {
           "xaxis": {
            "backgroundcolor": "#E5ECF6",
            "gridcolor": "white",
            "gridwidth": 2,
            "linecolor": "white",
            "showbackground": true,
            "ticks": "",
            "zerolinecolor": "white"
           },
           "yaxis": {
            "backgroundcolor": "#E5ECF6",
            "gridcolor": "white",
            "gridwidth": 2,
            "linecolor": "white",
            "showbackground": true,
            "ticks": "",
            "zerolinecolor": "white"
           },
           "zaxis": {
            "backgroundcolor": "#E5ECF6",
            "gridcolor": "white",
            "gridwidth": 2,
            "linecolor": "white",
            "showbackground": true,
            "ticks": "",
            "zerolinecolor": "white"
           }
          },
          "shapedefaults": {
           "line": {
            "color": "#2a3f5f"
           }
          },
          "ternary": {
           "aaxis": {
            "gridcolor": "white",
            "linecolor": "white",
            "ticks": ""
           },
           "baxis": {
            "gridcolor": "white",
            "linecolor": "white",
            "ticks": ""
           },
           "bgcolor": "#E5ECF6",
           "caxis": {
            "gridcolor": "white",
            "linecolor": "white",
            "ticks": ""
           }
          },
          "title": {
           "x": 0.05
          },
          "xaxis": {
           "automargin": true,
           "gridcolor": "white",
           "linecolor": "white",
           "ticks": "",
           "title": {
            "standoff": 15
           },
           "zerolinecolor": "white",
           "zerolinewidth": 2
          },
          "yaxis": {
           "automargin": true,
           "gridcolor": "white",
           "linecolor": "white",
           "ticks": "",
           "title": {
            "standoff": 15
           },
           "zerolinecolor": "white",
           "zerolinewidth": 2
          }
         }
        },
        "width": 600,
        "xaxis": {
         "title": {
          "text": "Relative OT Depth"
         }
        },
        "yaxis": {
         "title": {
          "text": "# ROIs"
         }
        }
       }
      }
     },
     "metadata": {},
     "output_type": "display_data"
    }
   ],
   "source": [
    "import numpy as np\n",
    "import plotly.graph_objects as go\n",
    "import os\n",
    "import pickle \n",
    "import pandas as pd\n",
    "\n",
    "filepath = 'C:/Users/Michael Forsthofer/OneDrive - University of Sussex/BadenLab/2p-imaging/singleplane/St53/'\n",
    "pkl_files = [f for f in os.listdir(filepath) if f.endswith('.pkl')]\n",
    "\n",
    "stimuli = ['moving stripes', 'dots_ON', 'dots_OFF', 'loom']\n",
    "\n",
    "depths = {}\n",
    "for stim in stimuli:\n",
    "    depths[stim] = []\n",
    "\n",
    "\n",
    "fig = go.Figure()\n",
    "\n",
    "for pkl_file in pkl_files:\n",
    "    with open(filepath+pkl_file, 'rb') as f:\n",
    "        extracted_data_loaded = pickle.load(f)\n",
    "        print(extracted_data_loaded['metadata'])\n",
    "        for stim in stimuli:\n",
    "            flattened_list = extracted_data_loaded['depths'][stim]\n",
    "            if len(flattened_list)>0:\n",
    "                flattened_list = np.hstack(flattened_list)\n",
    "            depths[stim].append(flattened_list)\n",
    "            if stim == 'loom':\n",
    "                fig.add_trace(go.Histogram(x=flattened_list))\n",
    "\n",
    "fig.update_layout(barmode='overlay', width=600, height=400,\n",
    "                  margin=dict(l=20, r=20, t=20, b=20),\n",
    "                  xaxis_title='Relative OT Depth',\n",
    "                  yaxis_title='# ROIs')           \n",
    "fig.update_traces(opacity=0.3)   \n",
    "fig.show()\n",
    "\n"
   ]
  },
  {
   "cell_type": "code",
   "execution_count": 3,
   "metadata": {},
   "outputs": [
    {
     "data": {
      "application/vnd.plotly.v1+json": {
       "config": {
        "plotlyServerURL": "https://plot.ly"
       },
       "data": [
        {
         "name": "moving stripes",
         "opacity": 0.3,
         "type": "histogram",
         "y": [
          61,
          56,
          57,
          57,
          61,
          54,
          57,
          59,
          54,
          60,
          93,
          72,
          83,
          56,
          86,
          72,
          62,
          64,
          49,
          60,
          74,
          65,
          94,
          49,
          58,
          81,
          50,
          42,
          64,
          72,
          72,
          96,
          92,
          63,
          76,
          71,
          88,
          44,
          74,
          90,
          83,
          85,
          97,
          64,
          72,
          53,
          46,
          71,
          -1,
          41,
          78,
          -1,
          91,
          84,
          90,
          91,
          88,
          -1,
          92,
          61,
          61,
          54,
          62,
          61,
          58,
          54,
          57,
          55,
          57,
          52,
          78,
          47,
          64,
          46,
          49,
          59,
          47,
          44,
          44,
          61,
          78,
          40,
          67,
          73,
          49,
          45,
          78,
          -1,
          75,
          60,
          74,
          81,
          70,
          68,
          78,
          62,
          28,
          -1,
          62,
          61,
          52,
          45,
          68,
          56,
          49,
          44,
          45,
          52,
          90,
          59,
          41,
          58,
          -1,
          47,
          -1,
          47,
          92,
          41,
          93,
          38,
          88,
          62,
          91,
          49,
          -1,
          35,
          57,
          33,
          35,
          -1,
          47,
          33,
          93,
          54,
          39,
          34,
          65,
          51,
          66,
          72,
          42,
          91,
          71,
          58,
          65,
          64,
          63,
          88,
          72
         ]
        },
        {
         "name": "loom",
         "opacity": 0.3,
         "type": "histogram",
         "y": [
          56,
          60,
          83,
          57,
          61,
          77,
          54,
          41,
          57,
          82,
          54,
          60,
          78,
          57,
          93,
          53,
          72,
          65,
          83,
          56,
          86,
          72,
          21,
          62,
          64,
          49,
          60,
          78,
          74,
          65,
          94,
          44,
          49,
          51,
          58,
          28,
          81,
          79,
          50,
          42,
          64,
          64,
          72,
          26,
          76,
          72,
          96,
          67,
          91,
          92,
          63,
          44,
          76,
          71,
          18,
          23,
          32,
          70,
          88,
          44,
          74,
          90,
          48,
          71,
          83,
          85,
          97,
          86,
          64,
          76,
          72,
          51,
          61,
          72,
          85,
          53,
          34,
          91,
          46,
          87,
          46,
          58,
          37,
          37,
          41,
          78,
          91,
          75,
          84,
          90,
          63,
          34,
          93,
          72,
          72,
          79,
          50,
          83,
          69,
          101,
          101,
          85,
          82,
          47,
          80,
          38,
          61,
          61,
          54,
          62,
          61,
          58,
          72,
          54,
          59,
          57,
          61,
          32,
          72,
          26,
          57,
          14,
          86,
          40,
          34,
          28,
          29,
          43,
          52,
          30,
          41,
          78,
          61,
          47,
          46,
          41,
          80,
          67,
          64,
          76,
          49,
          59,
          78,
          47,
          71,
          65,
          16,
          44,
          44,
          71,
          40,
          48,
          50,
          67,
          23,
          73,
          63,
          21,
          70,
          33,
          50,
          82,
          56,
          21,
          45,
          56,
          89,
          57,
          11,
          49,
          42,
          57,
          21,
          57,
          58,
          15,
          14,
          48,
          87,
          61,
          61,
          54,
          62,
          61,
          58,
          72,
          54,
          59,
          57,
          61,
          32,
          72,
          26,
          57,
          14,
          86,
          40,
          34,
          28,
          29,
          43,
          52,
          30,
          41,
          78,
          61,
          47,
          46,
          41,
          80,
          67,
          64,
          76,
          49,
          59,
          78,
          47,
          71,
          65,
          16,
          44,
          44,
          71,
          40,
          48,
          50,
          67,
          23,
          73,
          63,
          21,
          70,
          33,
          50,
          82,
          56,
          21,
          45,
          56,
          89,
          57,
          11,
          49,
          42,
          57,
          21,
          57,
          58,
          15,
          14,
          48,
          87,
          -1,
          -1,
          -1,
          -1,
          -1,
          -1,
          -1,
          69,
          -1,
          -1,
          -1,
          5,
          -1,
          -1,
          38,
          37,
          29,
          39,
          63,
          43,
          39,
          41,
          43,
          48,
          34,
          49,
          25,
          51,
          29,
          30,
          75,
          44,
          57,
          52,
          33,
          42,
          45,
          63,
          41,
          49,
          39,
          42,
          45,
          71,
          52,
          37,
          41,
          20,
          83,
          75,
          74,
          29,
          27,
          43,
          50,
          35,
          30,
          47,
          20,
          41,
          81,
          88,
          38,
          64,
          80,
          62,
          49,
          35,
          57,
          31,
          33,
          33,
          48,
          65,
          55,
          81,
          55,
          45,
          39,
          77,
          55,
          34,
          65,
          44,
          58,
          36,
          52,
          64,
          85,
          37,
          30,
          58,
          66,
          -1,
          63,
          43,
          101,
          59,
          49,
          78
         ]
        },
        {
         "name": "dots_ON",
         "opacity": 0.3,
         "type": "histogram",
         "y": [
          61,
          56,
          60,
          57,
          57,
          61,
          77,
          54,
          62,
          41,
          57,
          59,
          54,
          60,
          57,
          93,
          53,
          72,
          47,
          65,
          83,
          56,
          86,
          72,
          21,
          62,
          64,
          49,
          60,
          78,
          74,
          65,
          94,
          44,
          49,
          51,
          58,
          28,
          81,
          79,
          50,
          42,
          64,
          64,
          72,
          26,
          72,
          96,
          67,
          92,
          63,
          44,
          76,
          69,
          71,
          44,
          18,
          23,
          32,
          70,
          88,
          44,
          69,
          74,
          90,
          48,
          71,
          83,
          -1,
          85,
          79,
          97,
          86,
          48,
          64,
          76,
          72,
          51,
          61,
          72,
          85,
          53,
          34,
          79,
          91,
          46,
          87,
          50,
          68,
          46,
          83,
          96,
          71,
          37,
          37,
          46,
          41,
          78,
          69,
          91,
          84,
          90,
          65,
          63,
          34,
          100,
          93,
          -1,
          72,
          72,
          24,
          54,
          31,
          77,
          50,
          83,
          -1,
          83,
          75,
          93,
          91,
          77,
          101,
          74,
          83,
          88,
          56,
          80,
          34,
          95,
          92,
          85,
          92,
          64,
          74,
          82,
          87,
          64,
          47,
          90,
          80,
          75,
          89,
          83,
          44,
          77,
          89,
          86,
          61,
          61,
          54,
          62,
          61,
          58,
          54,
          57,
          72,
          55,
          57,
          40,
          34,
          52,
          29,
          52,
          30,
          41,
          78,
          61,
          47,
          41,
          67,
          64,
          76,
          46,
          49,
          59,
          78,
          47,
          71,
          65,
          44,
          44,
          61,
          71,
          78,
          40,
          48,
          50,
          67,
          74,
          73,
          63,
          21,
          49,
          50,
          56,
          101,
          45,
          56,
          57,
          98,
          84,
          92,
          75,
          101,
          49,
          42,
          60,
          57,
          48,
          57,
          38,
          33,
          74,
          71,
          81,
          63,
          76,
          86,
          56,
          71,
          85,
          83,
          82,
          61,
          61,
          54,
          62,
          61,
          58,
          54,
          57,
          72,
          55,
          57,
          40,
          34,
          52,
          29,
          52,
          30,
          41,
          78,
          61,
          47,
          41,
          67,
          64,
          76,
          46,
          49,
          59,
          78,
          47,
          71,
          65,
          44,
          44,
          61,
          71,
          78,
          40,
          48,
          50,
          67,
          74,
          73,
          63,
          21,
          49,
          50,
          56,
          101,
          45,
          56,
          57,
          98,
          84,
          92,
          75,
          101,
          49,
          42,
          60,
          57,
          48,
          57,
          38,
          33,
          74,
          71,
          81,
          63,
          76,
          86,
          56,
          71,
          85,
          83,
          82,
          28,
          94,
          96,
          69,
          97,
          60,
          89,
          101,
          58,
          14,
          88,
          86,
          67,
          75,
          57,
          101,
          70,
          43,
          76,
          91,
          70,
          68,
          78,
          70,
          62,
          28,
          -1,
          62,
          61,
          52,
          45,
          68,
          56,
          49,
          45,
          -1,
          52,
          37,
          90,
          59,
          -1,
          47,
          47,
          92,
          41,
          93,
          81,
          50,
          88,
          62,
          91,
          49,
          -1,
          80,
          33,
          86,
          93,
          54,
          81,
          83,
          65,
          87,
          83,
          66,
          72,
          73,
          94,
          91,
          71,
          58,
          86,
          85,
          59
         ]
        },
        {
         "name": "dots_OFF",
         "opacity": 0.3,
         "type": "histogram",
         "y": [
          56,
          54,
          60,
          83,
          86,
          72,
          49,
          74,
          94,
          81,
          64,
          72,
          72,
          96,
          92,
          63,
          76,
          69,
          69,
          74,
          83,
          79,
          97,
          53,
          79,
          78,
          84,
          100,
          72,
          77,
          74,
          74,
          64,
          80,
          -1,
          61,
          61,
          54,
          62,
          61,
          58,
          54,
          57,
          17,
          72,
          26,
          57,
          86,
          40,
          -1,
          34,
          28,
          29,
          80,
          30,
          78,
          61,
          80,
          67,
          64,
          59,
          78,
          16,
          71,
          40,
          48,
          50,
          67,
          84,
          73,
          21,
          97,
          89,
          57,
          98,
          91,
          81,
          101,
          83,
          82
         ]
        }
       ],
       "layout": {
        "barmode": "overlay",
        "height": 400,
        "margin": {
         "b": 20,
         "l": 20,
         "r": 20,
         "t": 20
        },
        "template": {
         "data": {
          "bar": [
           {
            "error_x": {
             "color": "#2a3f5f"
            },
            "error_y": {
             "color": "#2a3f5f"
            },
            "marker": {
             "line": {
              "color": "#E5ECF6",
              "width": 0.5
             },
             "pattern": {
              "fillmode": "overlay",
              "size": 10,
              "solidity": 0.2
             }
            },
            "type": "bar"
           }
          ],
          "barpolar": [
           {
            "marker": {
             "line": {
              "color": "#E5ECF6",
              "width": 0.5
             },
             "pattern": {
              "fillmode": "overlay",
              "size": 10,
              "solidity": 0.2
             }
            },
            "type": "barpolar"
           }
          ],
          "carpet": [
           {
            "aaxis": {
             "endlinecolor": "#2a3f5f",
             "gridcolor": "white",
             "linecolor": "white",
             "minorgridcolor": "white",
             "startlinecolor": "#2a3f5f"
            },
            "baxis": {
             "endlinecolor": "#2a3f5f",
             "gridcolor": "white",
             "linecolor": "white",
             "minorgridcolor": "white",
             "startlinecolor": "#2a3f5f"
            },
            "type": "carpet"
           }
          ],
          "choropleth": [
           {
            "colorbar": {
             "outlinewidth": 0,
             "ticks": ""
            },
            "type": "choropleth"
           }
          ],
          "contour": [
           {
            "colorbar": {
             "outlinewidth": 0,
             "ticks": ""
            },
            "colorscale": [
             [
              0,
              "#0d0887"
             ],
             [
              0.1111111111111111,
              "#46039f"
             ],
             [
              0.2222222222222222,
              "#7201a8"
             ],
             [
              0.3333333333333333,
              "#9c179e"
             ],
             [
              0.4444444444444444,
              "#bd3786"
             ],
             [
              0.5555555555555556,
              "#d8576b"
             ],
             [
              0.6666666666666666,
              "#ed7953"
             ],
             [
              0.7777777777777778,
              "#fb9f3a"
             ],
             [
              0.8888888888888888,
              "#fdca26"
             ],
             [
              1,
              "#f0f921"
             ]
            ],
            "type": "contour"
           }
          ],
          "contourcarpet": [
           {
            "colorbar": {
             "outlinewidth": 0,
             "ticks": ""
            },
            "type": "contourcarpet"
           }
          ],
          "heatmap": [
           {
            "colorbar": {
             "outlinewidth": 0,
             "ticks": ""
            },
            "colorscale": [
             [
              0,
              "#0d0887"
             ],
             [
              0.1111111111111111,
              "#46039f"
             ],
             [
              0.2222222222222222,
              "#7201a8"
             ],
             [
              0.3333333333333333,
              "#9c179e"
             ],
             [
              0.4444444444444444,
              "#bd3786"
             ],
             [
              0.5555555555555556,
              "#d8576b"
             ],
             [
              0.6666666666666666,
              "#ed7953"
             ],
             [
              0.7777777777777778,
              "#fb9f3a"
             ],
             [
              0.8888888888888888,
              "#fdca26"
             ],
             [
              1,
              "#f0f921"
             ]
            ],
            "type": "heatmap"
           }
          ],
          "heatmapgl": [
           {
            "colorbar": {
             "outlinewidth": 0,
             "ticks": ""
            },
            "colorscale": [
             [
              0,
              "#0d0887"
             ],
             [
              0.1111111111111111,
              "#46039f"
             ],
             [
              0.2222222222222222,
              "#7201a8"
             ],
             [
              0.3333333333333333,
              "#9c179e"
             ],
             [
              0.4444444444444444,
              "#bd3786"
             ],
             [
              0.5555555555555556,
              "#d8576b"
             ],
             [
              0.6666666666666666,
              "#ed7953"
             ],
             [
              0.7777777777777778,
              "#fb9f3a"
             ],
             [
              0.8888888888888888,
              "#fdca26"
             ],
             [
              1,
              "#f0f921"
             ]
            ],
            "type": "heatmapgl"
           }
          ],
          "histogram": [
           {
            "marker": {
             "pattern": {
              "fillmode": "overlay",
              "size": 10,
              "solidity": 0.2
             }
            },
            "type": "histogram"
           }
          ],
          "histogram2d": [
           {
            "colorbar": {
             "outlinewidth": 0,
             "ticks": ""
            },
            "colorscale": [
             [
              0,
              "#0d0887"
             ],
             [
              0.1111111111111111,
              "#46039f"
             ],
             [
              0.2222222222222222,
              "#7201a8"
             ],
             [
              0.3333333333333333,
              "#9c179e"
             ],
             [
              0.4444444444444444,
              "#bd3786"
             ],
             [
              0.5555555555555556,
              "#d8576b"
             ],
             [
              0.6666666666666666,
              "#ed7953"
             ],
             [
              0.7777777777777778,
              "#fb9f3a"
             ],
             [
              0.8888888888888888,
              "#fdca26"
             ],
             [
              1,
              "#f0f921"
             ]
            ],
            "type": "histogram2d"
           }
          ],
          "histogram2dcontour": [
           {
            "colorbar": {
             "outlinewidth": 0,
             "ticks": ""
            },
            "colorscale": [
             [
              0,
              "#0d0887"
             ],
             [
              0.1111111111111111,
              "#46039f"
             ],
             [
              0.2222222222222222,
              "#7201a8"
             ],
             [
              0.3333333333333333,
              "#9c179e"
             ],
             [
              0.4444444444444444,
              "#bd3786"
             ],
             [
              0.5555555555555556,
              "#d8576b"
             ],
             [
              0.6666666666666666,
              "#ed7953"
             ],
             [
              0.7777777777777778,
              "#fb9f3a"
             ],
             [
              0.8888888888888888,
              "#fdca26"
             ],
             [
              1,
              "#f0f921"
             ]
            ],
            "type": "histogram2dcontour"
           }
          ],
          "mesh3d": [
           {
            "colorbar": {
             "outlinewidth": 0,
             "ticks": ""
            },
            "type": "mesh3d"
           }
          ],
          "parcoords": [
           {
            "line": {
             "colorbar": {
              "outlinewidth": 0,
              "ticks": ""
             }
            },
            "type": "parcoords"
           }
          ],
          "pie": [
           {
            "automargin": true,
            "type": "pie"
           }
          ],
          "scatter": [
           {
            "fillpattern": {
             "fillmode": "overlay",
             "size": 10,
             "solidity": 0.2
            },
            "type": "scatter"
           }
          ],
          "scatter3d": [
           {
            "line": {
             "colorbar": {
              "outlinewidth": 0,
              "ticks": ""
             }
            },
            "marker": {
             "colorbar": {
              "outlinewidth": 0,
              "ticks": ""
             }
            },
            "type": "scatter3d"
           }
          ],
          "scattercarpet": [
           {
            "marker": {
             "colorbar": {
              "outlinewidth": 0,
              "ticks": ""
             }
            },
            "type": "scattercarpet"
           }
          ],
          "scattergeo": [
           {
            "marker": {
             "colorbar": {
              "outlinewidth": 0,
              "ticks": ""
             }
            },
            "type": "scattergeo"
           }
          ],
          "scattergl": [
           {
            "marker": {
             "colorbar": {
              "outlinewidth": 0,
              "ticks": ""
             }
            },
            "type": "scattergl"
           }
          ],
          "scattermapbox": [
           {
            "marker": {
             "colorbar": {
              "outlinewidth": 0,
              "ticks": ""
             }
            },
            "type": "scattermapbox"
           }
          ],
          "scatterpolar": [
           {
            "marker": {
             "colorbar": {
              "outlinewidth": 0,
              "ticks": ""
             }
            },
            "type": "scatterpolar"
           }
          ],
          "scatterpolargl": [
           {
            "marker": {
             "colorbar": {
              "outlinewidth": 0,
              "ticks": ""
             }
            },
            "type": "scatterpolargl"
           }
          ],
          "scatterternary": [
           {
            "marker": {
             "colorbar": {
              "outlinewidth": 0,
              "ticks": ""
             }
            },
            "type": "scatterternary"
           }
          ],
          "surface": [
           {
            "colorbar": {
             "outlinewidth": 0,
             "ticks": ""
            },
            "colorscale": [
             [
              0,
              "#0d0887"
             ],
             [
              0.1111111111111111,
              "#46039f"
             ],
             [
              0.2222222222222222,
              "#7201a8"
             ],
             [
              0.3333333333333333,
              "#9c179e"
             ],
             [
              0.4444444444444444,
              "#bd3786"
             ],
             [
              0.5555555555555556,
              "#d8576b"
             ],
             [
              0.6666666666666666,
              "#ed7953"
             ],
             [
              0.7777777777777778,
              "#fb9f3a"
             ],
             [
              0.8888888888888888,
              "#fdca26"
             ],
             [
              1,
              "#f0f921"
             ]
            ],
            "type": "surface"
           }
          ],
          "table": [
           {
            "cells": {
             "fill": {
              "color": "#EBF0F8"
             },
             "line": {
              "color": "white"
             }
            },
            "header": {
             "fill": {
              "color": "#C8D4E3"
             },
             "line": {
              "color": "white"
             }
            },
            "type": "table"
           }
          ]
         },
         "layout": {
          "annotationdefaults": {
           "arrowcolor": "#2a3f5f",
           "arrowhead": 0,
           "arrowwidth": 1
          },
          "autotypenumbers": "strict",
          "coloraxis": {
           "colorbar": {
            "outlinewidth": 0,
            "ticks": ""
           }
          },
          "colorscale": {
           "diverging": [
            [
             0,
             "#8e0152"
            ],
            [
             0.1,
             "#c51b7d"
            ],
            [
             0.2,
             "#de77ae"
            ],
            [
             0.3,
             "#f1b6da"
            ],
            [
             0.4,
             "#fde0ef"
            ],
            [
             0.5,
             "#f7f7f7"
            ],
            [
             0.6,
             "#e6f5d0"
            ],
            [
             0.7,
             "#b8e186"
            ],
            [
             0.8,
             "#7fbc41"
            ],
            [
             0.9,
             "#4d9221"
            ],
            [
             1,
             "#276419"
            ]
           ],
           "sequential": [
            [
             0,
             "#0d0887"
            ],
            [
             0.1111111111111111,
             "#46039f"
            ],
            [
             0.2222222222222222,
             "#7201a8"
            ],
            [
             0.3333333333333333,
             "#9c179e"
            ],
            [
             0.4444444444444444,
             "#bd3786"
            ],
            [
             0.5555555555555556,
             "#d8576b"
            ],
            [
             0.6666666666666666,
             "#ed7953"
            ],
            [
             0.7777777777777778,
             "#fb9f3a"
            ],
            [
             0.8888888888888888,
             "#fdca26"
            ],
            [
             1,
             "#f0f921"
            ]
           ],
           "sequentialminus": [
            [
             0,
             "#0d0887"
            ],
            [
             0.1111111111111111,
             "#46039f"
            ],
            [
             0.2222222222222222,
             "#7201a8"
            ],
            [
             0.3333333333333333,
             "#9c179e"
            ],
            [
             0.4444444444444444,
             "#bd3786"
            ],
            [
             0.5555555555555556,
             "#d8576b"
            ],
            [
             0.6666666666666666,
             "#ed7953"
            ],
            [
             0.7777777777777778,
             "#fb9f3a"
            ],
            [
             0.8888888888888888,
             "#fdca26"
            ],
            [
             1,
             "#f0f921"
            ]
           ]
          },
          "colorway": [
           "#636efa",
           "#EF553B",
           "#00cc96",
           "#ab63fa",
           "#FFA15A",
           "#19d3f3",
           "#FF6692",
           "#B6E880",
           "#FF97FF",
           "#FECB52"
          ],
          "font": {
           "color": "#2a3f5f"
          },
          "geo": {
           "bgcolor": "white",
           "lakecolor": "white",
           "landcolor": "#E5ECF6",
           "showlakes": true,
           "showland": true,
           "subunitcolor": "white"
          },
          "hoverlabel": {
           "align": "left"
          },
          "hovermode": "closest",
          "mapbox": {
           "style": "light"
          },
          "paper_bgcolor": "white",
          "plot_bgcolor": "#E5ECF6",
          "polar": {
           "angularaxis": {
            "gridcolor": "white",
            "linecolor": "white",
            "ticks": ""
           },
           "bgcolor": "#E5ECF6",
           "radialaxis": {
            "gridcolor": "white",
            "linecolor": "white",
            "ticks": ""
           }
          },
          "scene": {
           "xaxis": {
            "backgroundcolor": "#E5ECF6",
            "gridcolor": "white",
            "gridwidth": 2,
            "linecolor": "white",
            "showbackground": true,
            "ticks": "",
            "zerolinecolor": "white"
           },
           "yaxis": {
            "backgroundcolor": "#E5ECF6",
            "gridcolor": "white",
            "gridwidth": 2,
            "linecolor": "white",
            "showbackground": true,
            "ticks": "",
            "zerolinecolor": "white"
           },
           "zaxis": {
            "backgroundcolor": "#E5ECF6",
            "gridcolor": "white",
            "gridwidth": 2,
            "linecolor": "white",
            "showbackground": true,
            "ticks": "",
            "zerolinecolor": "white"
           }
          },
          "shapedefaults": {
           "line": {
            "color": "#2a3f5f"
           }
          },
          "ternary": {
           "aaxis": {
            "gridcolor": "white",
            "linecolor": "white",
            "ticks": ""
           },
           "baxis": {
            "gridcolor": "white",
            "linecolor": "white",
            "ticks": ""
           },
           "bgcolor": "#E5ECF6",
           "caxis": {
            "gridcolor": "white",
            "linecolor": "white",
            "ticks": ""
           }
          },
          "title": {
           "x": 0.05
          },
          "xaxis": {
           "automargin": true,
           "gridcolor": "white",
           "linecolor": "white",
           "ticks": "",
           "title": {
            "standoff": 15
           },
           "zerolinecolor": "white",
           "zerolinewidth": 2
          },
          "yaxis": {
           "automargin": true,
           "gridcolor": "white",
           "linecolor": "white",
           "ticks": "",
           "title": {
            "standoff": 15
           },
           "zerolinecolor": "white",
           "zerolinewidth": 2
          }
         }
        },
        "width": 600,
        "xaxis": {
         "title": {
          "text": "# ROIs"
         }
        },
        "yaxis": {
         "title": {
          "text": "relative depth"
         }
        }
       }
      }
     },
     "metadata": {},
     "output_type": "display_data"
    }
   ],
   "source": [
    "stripes = np.hstack(depths['moving stripes'])\n",
    "loom = np.hstack(depths['loom'])\n",
    "dots_on = np.hstack(depths['dots_ON'])\n",
    "dots_off = np.hstack(depths['dots_OFF'])\n",
    "\n",
    "flattened_list = np.hstack([stripes, loom, dots_on, dots_off])\n",
    "\n",
    "fig = go.Figure()\n",
    "fig.add_trace(go.Histogram(y=stripes, name='moving stripes'))\n",
    "fig.add_trace(go.Histogram(y=loom, name='loom'))\n",
    "fig.add_trace(go.Histogram(y=dots_on,name='dots_ON'))\n",
    "fig.add_trace(go.Histogram(y=dots_off, name='dots_OFF'))\n",
    "fig.update_layout(barmode='overlay', width=600, height=400,\n",
    "                  margin=dict(l=20, r=20, t=20, b=20),\n",
    "                  xaxis_title='# ROIs',\n",
    "                  yaxis_title='relative depth')  \n",
    "fig.update_traces(opacity=0.3)    \n"
   ]
  }
 ],
 "metadata": {
  "kernelspec": {
   "display_name": "PYGOR-TIMESERIES",
   "language": "python",
   "name": "python3"
  },
  "language_info": {
   "codemirror_mode": {
    "name": "ipython",
    "version": 3
   },
   "file_extension": ".py",
   "mimetype": "text/x-python",
   "name": "python",
   "nbconvert_exporter": "python",
   "pygments_lexer": "ipython3",
   "version": "3.12.5"
  }
 },
 "nbformat": 4,
 "nbformat_minor": 2
}
