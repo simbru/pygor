{
 "cells": [
  {
   "cell_type": "code",
   "execution_count": 455,
   "metadata": {},
   "outputs": [],
   "source": [
    "import numpy as np\n",
    "import plotly.graph_objects as go\n",
    "import os\n",
    "import pickle \n",
    "import pandas as pd\n",
    "\n",
    "filepath = 'C:/Users/Michael Forsthofer/OneDrive - University of Sussex/BadenLab/2p-imaging/multiplane/St53/'\n",
    "pkl_files = [f for f in os.listdir(filepath) if f.endswith('.pkl')]\n",
    "\n",
    "roi_data = pd.DataFrame(columns=['stimulus', 'ot_depth', 'plane_depth', 'amplitude', 'size', 'xy_centroid','experiment_ID', 'stage'])\n",
    "\n",
    "y_res = 64\n",
    "\n"
   ]
  },
  {
   "cell_type": "code",
   "execution_count": 456,
   "metadata": {},
   "outputs": [],
   "source": [
    "def pool_variable(input_data, stim):\n",
    "    data_to_get = input_data[stim]\n",
    "    if len(data_to_get)>0:\n",
    "        flattened_data = np.hstack(data_to_get)\n",
    "    else:\n",
    "        flattened_data = np.array([])\n",
    "    return flattened_data\n",
    "\n",
    "#def measure_rois(inptud_data, stim):\n",
    "    "
   ]
  },
  {
   "cell_type": "code",
   "execution_count": 457,
   "metadata": {},
   "outputs": [
    {
     "name": "stdout",
     "output_type": "stream",
     "text": [
      "2024-10-14_x241014_53_cOTm.h5_processed.pkl {'SD_threshold': 2.5, 'correlation_threshold': 0.62, 'min_traces_per_cluster': 7, 'cluster_threshold': 45, 'depth': 350, 'stage': 53, 'cluster_monotony_threshold': 0.7}\n"
     ]
    }
   ],
   "source": [
    "ot_depth = []\n",
    "amplitude = []\n",
    "integral = []\n",
    "latency = []\n",
    "size = []\n",
    "stimulus = []\n",
    "plane_depth = []\n",
    "experiment_ID = []\n",
    "stage = []\n",
    "x_centroid = []\n",
    "y_centroid = []\n",
    "cluster_ID = []\n",
    "\n",
    "for pkl_file in pkl_files[0:1]:\n",
    "    with open(filepath+pkl_file, 'rb') as f:\n",
    "        extracted_data_loaded = pickle.load(f)\n",
    "        \n",
    "        stims = list(extracted_data_loaded['depths'].keys())\n",
    "        cur_plane_depth = extracted_data_loaded['metadata']['depth']\n",
    "        cur_stage = filepath.split('St')[-1].split('/')[0]\n",
    "        print(pkl_file, extracted_data_loaded['metadata'])\n",
    "        \n",
    "        for cur_stim in stims:\n",
    "\n",
    "            cur_ot_depth = pool_variable(extracted_data_loaded['depths'], cur_stim)\n",
    "            ot_depth.extend(cur_ot_depth)\n",
    "            amplitude.extend(pool_variable(extracted_data_loaded['amplitudes'], cur_stim))\n",
    "            size.extend(pool_variable(extracted_data_loaded['sizes'], cur_stim))\n",
    "            x_centroid.extend(pool_variable(extracted_data_loaded['x_centroid'], cur_stim))\n",
    "            y_centroid.extend(pool_variable(extracted_data_loaded['y_centroid'], cur_stim))\n",
    "            integral.extend(pool_variable(extracted_data_loaded['activity_area'], cur_stim))\n",
    "            plane_depth.extend(pool_variable(extracted_data_loaded['plane_depth'], cur_stim))\n",
    "            latency.extend(pool_variable(extracted_data_loaded['latency'], cur_stim))\n",
    "            #cluster_ID.extend(pool_variable(extracted_data_loaded['cluster_ID'], cur_stim))\n",
    "            stimulus.extend(np.repeat(np.array(cur_stim), len(cur_ot_depth)))\n",
    "            experiment_ID.extend(np.repeat(np.array(pkl_file[11:26]), len(cur_ot_depth)))\n",
    "            stage.extend(np.repeat(np.array(cur_stage), len(cur_ot_depth)))"
   ]
  },
  {
   "cell_type": "code",
   "execution_count": 458,
   "metadata": {},
   "outputs": [],
   "source": [
    "pooled_data = pd.DataFrame({'ot_depth': ot_depth, \n",
    "                     'amplitude': amplitude, \n",
    "                     'size': size,\n",
    "                     'x_centroid': x_centroid,\n",
    "                     'integral': integral,\n",
    "                     'latency': latency,\n",
    "                     'y_centroid': y_centroid,\n",
    "                     'stimtype': stimulus,\n",
    "                     'plane_depth': plane_depth,\n",
    "                     'experiment_id': experiment_ID,\n",
    "                     #'cluster_ID' : cluster_ID,\n",
    "                     'stage': stage})"
   ]
  },
  {
   "cell_type": "code",
   "execution_count": 459,
   "metadata": {},
   "outputs": [
    {
     "data": {
      "application/vnd.plotly.v1+json": {
       "config": {
        "plotlyServerURL": "https://plot.ly"
       },
       "data": [
        {
         "name": "moving stripes",
         "nbinsy": 30,
         "opacity": 0.75,
         "type": "histogram",
         "xaxis": "x",
         "y": [
          56,
          101,
          60,
          54,
          101,
          101,
          101,
          101,
          101,
          101,
          92,
          101,
          101,
          101,
          101,
          101,
          101,
          94,
          101,
          33,
          101,
          101,
          101
         ],
         "yaxis": "y"
        },
        {
         "name": "dots_ON",
         "nbinsy": 30,
         "opacity": 0.75,
         "type": "histogram",
         "xaxis": "x2",
         "y": [
          101,
          101,
          78,
          101,
          101,
          101,
          101,
          101,
          101,
          101,
          101,
          101,
          101,
          101,
          101,
          101,
          101,
          101,
          101,
          56,
          101,
          32,
          101,
          60,
          101,
          101,
          40,
          101,
          54,
          101,
          101,
          81,
          101,
          101,
          101,
          101,
          101,
          101,
          101,
          101,
          101,
          101,
          101,
          101,
          67,
          92,
          101,
          101,
          101,
          101,
          101,
          101,
          101,
          101,
          101,
          101,
          101,
          101,
          101,
          81,
          101,
          101,
          101,
          101,
          101,
          101,
          93,
          101,
          101,
          101
         ],
         "yaxis": "y2"
        },
        {
         "name": "dots_OFF",
         "nbinsy": 30,
         "opacity": 0.75,
         "type": "histogram",
         "xaxis": "x3",
         "y": [
          56,
          101,
          54,
          101,
          101,
          101,
          101
         ],
         "yaxis": "y3"
        },
        {
         "name": "loom",
         "nbinsy": 30,
         "opacity": 0.75,
         "type": "histogram",
         "xaxis": "x4",
         "y": [
          56,
          101,
          32,
          4,
          101,
          60,
          101,
          101,
          101,
          101,
          101,
          40,
          101,
          101,
          43,
          78,
          101,
          101,
          54,
          101,
          71,
          101,
          101,
          101,
          101,
          101,
          101,
          101,
          81,
          78,
          101,
          30,
          101,
          101,
          101,
          101,
          101,
          5,
          101,
          101,
          101,
          101,
          101,
          101,
          101,
          101,
          101,
          101,
          101,
          101,
          101,
          101,
          101,
          101,
          101,
          101,
          101,
          101,
          101,
          101,
          101,
          101,
          101,
          67,
          101,
          92,
          101,
          101,
          101,
          101,
          101,
          101,
          101,
          101,
          101,
          101,
          101,
          101,
          101,
          101,
          101,
          101,
          101,
          101,
          94,
          101,
          101,
          101,
          101,
          101,
          101,
          101,
          101,
          101,
          60,
          101,
          15,
          101,
          101,
          101,
          101,
          101,
          101,
          101,
          101,
          101,
          101,
          101,
          101,
          101,
          101,
          101,
          101,
          101,
          74,
          101,
          101,
          101,
          101,
          101,
          60,
          30,
          101,
          101,
          101,
          101,
          101,
          101,
          58,
          101,
          101,
          101,
          101,
          101,
          101,
          101,
          101,
          101,
          -1,
          101,
          101,
          101,
          101,
          101,
          101,
          101,
          101,
          101,
          101,
          101,
          101,
          101,
          101,
          101,
          101,
          101,
          101,
          101,
          101,
          101,
          101,
          101,
          24,
          101,
          101,
          101,
          101,
          101,
          101,
          101,
          101,
          101,
          101,
          101,
          101,
          101,
          101,
          101,
          101,
          101,
          101,
          101,
          101,
          101,
          101,
          101,
          101,
          101,
          101,
          101,
          101,
          101,
          101,
          101,
          101,
          101,
          101,
          101,
          101,
          101,
          101,
          101,
          101,
          101,
          101,
          101,
          -1,
          75,
          101,
          -1,
          101,
          101,
          101,
          101,
          101,
          101,
          101,
          101,
          101,
          101,
          -1,
          101,
          101,
          101,
          101,
          101,
          101,
          101,
          101,
          101,
          101,
          101,
          101,
          101,
          101,
          -1,
          101,
          101,
          101,
          101,
          101,
          101,
          101,
          101,
          101,
          101,
          101,
          101,
          101,
          101,
          101,
          101,
          101,
          101,
          101,
          101,
          101,
          101,
          101,
          101,
          101,
          101,
          101
         ],
         "yaxis": "y4"
        }
       ],
       "layout": {
        "barmode": "overlay",
        "height": 300,
        "margin": {
         "b": 20,
         "l": 20,
         "r": 20,
         "t": 20
        },
        "template": {
         "data": {
          "bar": [
           {
            "error_x": {
             "color": "#2a3f5f"
            },
            "error_y": {
             "color": "#2a3f5f"
            },
            "marker": {
             "line": {
              "color": "#E5ECF6",
              "width": 0.5
             },
             "pattern": {
              "fillmode": "overlay",
              "size": 10,
              "solidity": 0.2
             }
            },
            "type": "bar"
           }
          ],
          "barpolar": [
           {
            "marker": {
             "line": {
              "color": "#E5ECF6",
              "width": 0.5
             },
             "pattern": {
              "fillmode": "overlay",
              "size": 10,
              "solidity": 0.2
             }
            },
            "type": "barpolar"
           }
          ],
          "carpet": [
           {
            "aaxis": {
             "endlinecolor": "#2a3f5f",
             "gridcolor": "white",
             "linecolor": "white",
             "minorgridcolor": "white",
             "startlinecolor": "#2a3f5f"
            },
            "baxis": {
             "endlinecolor": "#2a3f5f",
             "gridcolor": "white",
             "linecolor": "white",
             "minorgridcolor": "white",
             "startlinecolor": "#2a3f5f"
            },
            "type": "carpet"
           }
          ],
          "choropleth": [
           {
            "colorbar": {
             "outlinewidth": 0,
             "ticks": ""
            },
            "type": "choropleth"
           }
          ],
          "contour": [
           {
            "colorbar": {
             "outlinewidth": 0,
             "ticks": ""
            },
            "colorscale": [
             [
              0,
              "#0d0887"
             ],
             [
              0.1111111111111111,
              "#46039f"
             ],
             [
              0.2222222222222222,
              "#7201a8"
             ],
             [
              0.3333333333333333,
              "#9c179e"
             ],
             [
              0.4444444444444444,
              "#bd3786"
             ],
             [
              0.5555555555555556,
              "#d8576b"
             ],
             [
              0.6666666666666666,
              "#ed7953"
             ],
             [
              0.7777777777777778,
              "#fb9f3a"
             ],
             [
              0.8888888888888888,
              "#fdca26"
             ],
             [
              1,
              "#f0f921"
             ]
            ],
            "type": "contour"
           }
          ],
          "contourcarpet": [
           {
            "colorbar": {
             "outlinewidth": 0,
             "ticks": ""
            },
            "type": "contourcarpet"
           }
          ],
          "heatmap": [
           {
            "colorbar": {
             "outlinewidth": 0,
             "ticks": ""
            },
            "colorscale": [
             [
              0,
              "#0d0887"
             ],
             [
              0.1111111111111111,
              "#46039f"
             ],
             [
              0.2222222222222222,
              "#7201a8"
             ],
             [
              0.3333333333333333,
              "#9c179e"
             ],
             [
              0.4444444444444444,
              "#bd3786"
             ],
             [
              0.5555555555555556,
              "#d8576b"
             ],
             [
              0.6666666666666666,
              "#ed7953"
             ],
             [
              0.7777777777777778,
              "#fb9f3a"
             ],
             [
              0.8888888888888888,
              "#fdca26"
             ],
             [
              1,
              "#f0f921"
             ]
            ],
            "type": "heatmap"
           }
          ],
          "heatmapgl": [
           {
            "colorbar": {
             "outlinewidth": 0,
             "ticks": ""
            },
            "colorscale": [
             [
              0,
              "#0d0887"
             ],
             [
              0.1111111111111111,
              "#46039f"
             ],
             [
              0.2222222222222222,
              "#7201a8"
             ],
             [
              0.3333333333333333,
              "#9c179e"
             ],
             [
              0.4444444444444444,
              "#bd3786"
             ],
             [
              0.5555555555555556,
              "#d8576b"
             ],
             [
              0.6666666666666666,
              "#ed7953"
             ],
             [
              0.7777777777777778,
              "#fb9f3a"
             ],
             [
              0.8888888888888888,
              "#fdca26"
             ],
             [
              1,
              "#f0f921"
             ]
            ],
            "type": "heatmapgl"
           }
          ],
          "histogram": [
           {
            "marker": {
             "pattern": {
              "fillmode": "overlay",
              "size": 10,
              "solidity": 0.2
             }
            },
            "type": "histogram"
           }
          ],
          "histogram2d": [
           {
            "colorbar": {
             "outlinewidth": 0,
             "ticks": ""
            },
            "colorscale": [
             [
              0,
              "#0d0887"
             ],
             [
              0.1111111111111111,
              "#46039f"
             ],
             [
              0.2222222222222222,
              "#7201a8"
             ],
             [
              0.3333333333333333,
              "#9c179e"
             ],
             [
              0.4444444444444444,
              "#bd3786"
             ],
             [
              0.5555555555555556,
              "#d8576b"
             ],
             [
              0.6666666666666666,
              "#ed7953"
             ],
             [
              0.7777777777777778,
              "#fb9f3a"
             ],
             [
              0.8888888888888888,
              "#fdca26"
             ],
             [
              1,
              "#f0f921"
             ]
            ],
            "type": "histogram2d"
           }
          ],
          "histogram2dcontour": [
           {
            "colorbar": {
             "outlinewidth": 0,
             "ticks": ""
            },
            "colorscale": [
             [
              0,
              "#0d0887"
             ],
             [
              0.1111111111111111,
              "#46039f"
             ],
             [
              0.2222222222222222,
              "#7201a8"
             ],
             [
              0.3333333333333333,
              "#9c179e"
             ],
             [
              0.4444444444444444,
              "#bd3786"
             ],
             [
              0.5555555555555556,
              "#d8576b"
             ],
             [
              0.6666666666666666,
              "#ed7953"
             ],
             [
              0.7777777777777778,
              "#fb9f3a"
             ],
             [
              0.8888888888888888,
              "#fdca26"
             ],
             [
              1,
              "#f0f921"
             ]
            ],
            "type": "histogram2dcontour"
           }
          ],
          "mesh3d": [
           {
            "colorbar": {
             "outlinewidth": 0,
             "ticks": ""
            },
            "type": "mesh3d"
           }
          ],
          "parcoords": [
           {
            "line": {
             "colorbar": {
              "outlinewidth": 0,
              "ticks": ""
             }
            },
            "type": "parcoords"
           }
          ],
          "pie": [
           {
            "automargin": true,
            "type": "pie"
           }
          ],
          "scatter": [
           {
            "fillpattern": {
             "fillmode": "overlay",
             "size": 10,
             "solidity": 0.2
            },
            "type": "scatter"
           }
          ],
          "scatter3d": [
           {
            "line": {
             "colorbar": {
              "outlinewidth": 0,
              "ticks": ""
             }
            },
            "marker": {
             "colorbar": {
              "outlinewidth": 0,
              "ticks": ""
             }
            },
            "type": "scatter3d"
           }
          ],
          "scattercarpet": [
           {
            "marker": {
             "colorbar": {
              "outlinewidth": 0,
              "ticks": ""
             }
            },
            "type": "scattercarpet"
           }
          ],
          "scattergeo": [
           {
            "marker": {
             "colorbar": {
              "outlinewidth": 0,
              "ticks": ""
             }
            },
            "type": "scattergeo"
           }
          ],
          "scattergl": [
           {
            "marker": {
             "colorbar": {
              "outlinewidth": 0,
              "ticks": ""
             }
            },
            "type": "scattergl"
           }
          ],
          "scattermapbox": [
           {
            "marker": {
             "colorbar": {
              "outlinewidth": 0,
              "ticks": ""
             }
            },
            "type": "scattermapbox"
           }
          ],
          "scatterpolar": [
           {
            "marker": {
             "colorbar": {
              "outlinewidth": 0,
              "ticks": ""
             }
            },
            "type": "scatterpolar"
           }
          ],
          "scatterpolargl": [
           {
            "marker": {
             "colorbar": {
              "outlinewidth": 0,
              "ticks": ""
             }
            },
            "type": "scatterpolargl"
           }
          ],
          "scatterternary": [
           {
            "marker": {
             "colorbar": {
              "outlinewidth": 0,
              "ticks": ""
             }
            },
            "type": "scatterternary"
           }
          ],
          "surface": [
           {
            "colorbar": {
             "outlinewidth": 0,
             "ticks": ""
            },
            "colorscale": [
             [
              0,
              "#0d0887"
             ],
             [
              0.1111111111111111,
              "#46039f"
             ],
             [
              0.2222222222222222,
              "#7201a8"
             ],
             [
              0.3333333333333333,
              "#9c179e"
             ],
             [
              0.4444444444444444,
              "#bd3786"
             ],
             [
              0.5555555555555556,
              "#d8576b"
             ],
             [
              0.6666666666666666,
              "#ed7953"
             ],
             [
              0.7777777777777778,
              "#fb9f3a"
             ],
             [
              0.8888888888888888,
              "#fdca26"
             ],
             [
              1,
              "#f0f921"
             ]
            ],
            "type": "surface"
           }
          ],
          "table": [
           {
            "cells": {
             "fill": {
              "color": "#EBF0F8"
             },
             "line": {
              "color": "white"
             }
            },
            "header": {
             "fill": {
              "color": "#C8D4E3"
             },
             "line": {
              "color": "white"
             }
            },
            "type": "table"
           }
          ]
         },
         "layout": {
          "annotationdefaults": {
           "arrowcolor": "#2a3f5f",
           "arrowhead": 0,
           "arrowwidth": 1
          },
          "autotypenumbers": "strict",
          "coloraxis": {
           "colorbar": {
            "outlinewidth": 0,
            "ticks": ""
           }
          },
          "colorscale": {
           "diverging": [
            [
             0,
             "#8e0152"
            ],
            [
             0.1,
             "#c51b7d"
            ],
            [
             0.2,
             "#de77ae"
            ],
            [
             0.3,
             "#f1b6da"
            ],
            [
             0.4,
             "#fde0ef"
            ],
            [
             0.5,
             "#f7f7f7"
            ],
            [
             0.6,
             "#e6f5d0"
            ],
            [
             0.7,
             "#b8e186"
            ],
            [
             0.8,
             "#7fbc41"
            ],
            [
             0.9,
             "#4d9221"
            ],
            [
             1,
             "#276419"
            ]
           ],
           "sequential": [
            [
             0,
             "#0d0887"
            ],
            [
             0.1111111111111111,
             "#46039f"
            ],
            [
             0.2222222222222222,
             "#7201a8"
            ],
            [
             0.3333333333333333,
             "#9c179e"
            ],
            [
             0.4444444444444444,
             "#bd3786"
            ],
            [
             0.5555555555555556,
             "#d8576b"
            ],
            [
             0.6666666666666666,
             "#ed7953"
            ],
            [
             0.7777777777777778,
             "#fb9f3a"
            ],
            [
             0.8888888888888888,
             "#fdca26"
            ],
            [
             1,
             "#f0f921"
            ]
           ],
           "sequentialminus": [
            [
             0,
             "#0d0887"
            ],
            [
             0.1111111111111111,
             "#46039f"
            ],
            [
             0.2222222222222222,
             "#7201a8"
            ],
            [
             0.3333333333333333,
             "#9c179e"
            ],
            [
             0.4444444444444444,
             "#bd3786"
            ],
            [
             0.5555555555555556,
             "#d8576b"
            ],
            [
             0.6666666666666666,
             "#ed7953"
            ],
            [
             0.7777777777777778,
             "#fb9f3a"
            ],
            [
             0.8888888888888888,
             "#fdca26"
            ],
            [
             1,
             "#f0f921"
            ]
           ]
          },
          "colorway": [
           "#636efa",
           "#EF553B",
           "#00cc96",
           "#ab63fa",
           "#FFA15A",
           "#19d3f3",
           "#FF6692",
           "#B6E880",
           "#FF97FF",
           "#FECB52"
          ],
          "font": {
           "color": "#2a3f5f"
          },
          "geo": {
           "bgcolor": "white",
           "lakecolor": "white",
           "landcolor": "#E5ECF6",
           "showlakes": true,
           "showland": true,
           "subunitcolor": "white"
          },
          "hoverlabel": {
           "align": "left"
          },
          "hovermode": "closest",
          "mapbox": {
           "style": "light"
          },
          "paper_bgcolor": "white",
          "plot_bgcolor": "#E5ECF6",
          "polar": {
           "angularaxis": {
            "gridcolor": "white",
            "linecolor": "white",
            "ticks": ""
           },
           "bgcolor": "#E5ECF6",
           "radialaxis": {
            "gridcolor": "white",
            "linecolor": "white",
            "ticks": ""
           }
          },
          "scene": {
           "xaxis": {
            "backgroundcolor": "#E5ECF6",
            "gridcolor": "white",
            "gridwidth": 2,
            "linecolor": "white",
            "showbackground": true,
            "ticks": "",
            "zerolinecolor": "white"
           },
           "yaxis": {
            "backgroundcolor": "#E5ECF6",
            "gridcolor": "white",
            "gridwidth": 2,
            "linecolor": "white",
            "showbackground": true,
            "ticks": "",
            "zerolinecolor": "white"
           },
           "zaxis": {
            "backgroundcolor": "#E5ECF6",
            "gridcolor": "white",
            "gridwidth": 2,
            "linecolor": "white",
            "showbackground": true,
            "ticks": "",
            "zerolinecolor": "white"
           }
          },
          "shapedefaults": {
           "line": {
            "color": "#2a3f5f"
           }
          },
          "ternary": {
           "aaxis": {
            "gridcolor": "white",
            "linecolor": "white",
            "ticks": ""
           },
           "baxis": {
            "gridcolor": "white",
            "linecolor": "white",
            "ticks": ""
           },
           "bgcolor": "#E5ECF6",
           "caxis": {
            "gridcolor": "white",
            "linecolor": "white",
            "ticks": ""
           }
          },
          "title": {
           "x": 0.05
          },
          "xaxis": {
           "automargin": true,
           "gridcolor": "white",
           "linecolor": "white",
           "ticks": "",
           "title": {
            "standoff": 15
           },
           "zerolinecolor": "white",
           "zerolinewidth": 2
          },
          "yaxis": {
           "automargin": true,
           "gridcolor": "white",
           "linecolor": "white",
           "ticks": "",
           "title": {
            "standoff": 15
           },
           "zerolinecolor": "white",
           "zerolinewidth": 2
          }
         }
        },
        "width": 600,
        "xaxis": {
         "anchor": "y",
         "domain": [
          0,
          0.2125
         ],
         "range": [
          0,
          6
         ],
         "title": {
          "text": "Count"
         }
        },
        "xaxis2": {
         "anchor": "y2",
         "domain": [
          0.2625,
          0.475
         ],
         "range": [
          0,
          6
         ]
        },
        "xaxis3": {
         "anchor": "y3",
         "domain": [
          0.525,
          0.7375
         ],
         "range": [
          0,
          6
         ]
        },
        "xaxis4": {
         "anchor": "y4",
         "domain": [
          0.7875,
          1
         ],
         "range": [
          0,
          6
         ]
        },
        "yaxis": {
         "anchor": "x",
         "domain": [
          0,
          1
         ],
         "range": [
          0,
          100
         ],
         "title": {
          "text": "y_centroid"
         }
        },
        "yaxis2": {
         "anchor": "x2",
         "domain": [
          0,
          1
         ],
         "matches": "y",
         "range": [
          0,
          100
         ],
         "showticklabels": false
        },
        "yaxis3": {
         "anchor": "x3",
         "domain": [
          0,
          1
         ],
         "matches": "y",
         "range": [
          0,
          100
         ],
         "showticklabels": false
        },
        "yaxis4": {
         "anchor": "x4",
         "domain": [
          0,
          1
         ],
         "matches": "y",
         "range": [
          0,
          100
         ],
         "showticklabels": false
        }
       }
      }
     },
     "metadata": {},
     "output_type": "display_data"
    }
   ],
   "source": [
    "import plotly.graph_objects as go\n",
    "from plotly.subplots import make_subplots\n",
    "\n",
    "# Get the number of unique 'stimtype' values\n",
    "num_stimtypes = pooled_data['stimtype'].nunique()\n",
    "\n",
    "# Create a subplot with 1 row and 'num_stimtypes' columns\n",
    "fig = make_subplots(rows=1, cols=num_stimtypes, shared_yaxes=True)\n",
    "\n",
    "# Loop through each unique value of 'stimtype'\n",
    "for i, stim in enumerate(pooled_data['stimtype'].unique(), start=1):\n",
    "    filtered_data = pooled_data[(pooled_data['stimtype'] == stim)] #&(pooled_data['experiment_id'] == 'x241014_53_cOTs')\n",
    "    fig.add_trace(go.Histogram(y=filtered_data['ot_depth'], name=stim,\n",
    "                               nbinsy=30, opacity=0.75),\n",
    "                  row=1, col=i)\n",
    "fig.update_xaxes(range=[0, 6])\n",
    "fig.update_yaxes(range=[0, 100])\n",
    "# Update the layout\n",
    "fig.update_layout(barmode='overlay', yaxis_title='y_centroid', xaxis_title='Count',\n",
    "                  width=150 * num_stimtypes, height=300, margin=dict(l=20, r=20, t=20, b=20))\n",
    "\n",
    "# Display the figure\n",
    "fig.show()\n"
   ]
  },
  {
   "cell_type": "code",
   "execution_count": 460,
   "metadata": {},
   "outputs": [
    {
     "data": {
      "application/vnd.plotly.v1+json": {
       "config": {
        "plotlyServerURL": "https://plot.ly"
       },
       "data": [
        {
         "name": "moving stripes",
         "opacity": 0.75,
         "type": "histogram",
         "x": [
          67,
          67,
          62.9,
          74.27272727272727,
          59.5,
          55.02439024390244,
          78.26315789473684,
          79.76315789473684,
          67,
          66,
          71,
          71.375,
          74.23809523809524,
          92.4375,
          67.42857142857143,
          66,
          57.83870967741935,
          76,
          63.625,
          58,
          98,
          55.333333333333336,
          84
         ],
         "ybins": {
          "end": 512,
          "size": 50,
          "start": 0
         }
        },
        {
         "name": "dots_ON",
         "opacity": 0.75,
         "type": "histogram",
         "x": [
          31,
          32,
          32.08571428571429,
          25.72972972972973,
          24.83783783783784,
          23.852941176470587,
          36.294117647058826,
          30,
          20.5,
          24,
          36.14705882352941,
          24,
          29,
          33.75,
          30,
          38,
          32.03333333333333,
          34.266666666666666,
          47,
          67,
          70,
          79,
          67,
          62.9,
          64,
          70.375,
          83.5,
          65,
          74.27272727272727,
          59.5,
          51.705882352941174,
          86.32352941176471,
          80.72222222222223,
          70.03225806451613,
          55.02439024390244,
          61.973684210526315,
          78.26315789473684,
          79.76315789473684,
          61.72727272727273,
          77.05555555555556,
          67,
          63.63333333333333,
          66,
          49.72727272727273,
          59,
          71,
          56.729729729729726,
          84.17948717948718,
          71.375,
          74.23809523809524,
          45.388888888888886,
          59.5,
          75.91891891891892,
          56.13333333333333,
          70.96774193548387,
          67.42857142857143,
          84.5,
          66,
          59.45454545454545,
          84,
          84,
          27.16216216216216,
          57.83870967741935,
          30.64516129032258,
          23.26086956521739,
          51.7,
          77,
          63.625,
          27.5,
          61.333333333333336
         ],
         "ybins": {
          "end": 512,
          "size": 50,
          "start": 0
         }
        },
        {
         "name": "dots_OFF",
         "opacity": 0.75,
         "type": "histogram",
         "x": [
          67,
          64,
          74.27272727272727,
          71.375,
          67.42857142857143,
          63.625,
          56
         ],
         "ybins": {
          "end": 512,
          "size": 50,
          "start": 0
         }
        },
        {
         "name": "loom",
         "opacity": 0.75,
         "type": "histogram",
         "x": [
          67,
          70,
          79,
          74.38709677419355,
          67,
          62.9,
          64,
          83,
          68,
          56,
          78.16216216216216,
          83.5,
          31,
          32,
          86.75675675675676,
          32.08571428571429,
          25.72972972972973,
          65,
          74.27272727272727,
          24.83783783783784,
          39.36363636363637,
          59.5,
          51.705882352941174,
          23,
          33.078947368421055,
          71.95454545454545,
          20,
          26,
          86.32352941176471,
          25.78787878787879,
          23.852941176470587,
          74.05405405405405,
          80.72222222222223,
          42,
          70.03225806451613,
          36.294117647058826,
          87.27272727272727,
          79.18181818181819,
          55.02439024390244,
          29,
          30,
          61.973684210526315,
          25,
          78.26315789473684,
          51.05714285714286,
          20.5,
          73.29411764705883,
          79.76315789473684,
          62.205128205128204,
          24,
          36,
          61.72727272727273,
          77.05555555555556,
          36.14705882352941,
          24,
          63.63333333333333,
          57.03225806451613,
          29.27777777777778,
          28.82051282051282,
          20.727272727272727,
          39,
          49.72727272727273,
          33.97222222222222,
          59,
          29,
          71,
          19,
          28.27777777777778,
          33.75,
          28,
          23.970588235294116,
          33.0625,
          37,
          58.82608695652174,
          39.38709677419355,
          56.729729729729726,
          84.17948717948718,
          19.3,
          71.375,
          74.23809523809524,
          45.388888888888886,
          22,
          47.5,
          30.22222222222222,
          91.60606060606061,
          26.68421052631579,
          46,
          71.8,
          18.6875,
          18.833333333333332,
          31.27777777777778,
          25.625,
          59.5,
          42.67741935483871,
          48.94736842105263,
          66.13513513513513,
          84.87878787878788,
          75.91891891891892,
          23,
          48.233333333333334,
          28.70967741935484,
          22.026315789473685,
          30,
          56.13333333333333,
          36,
          15.757575757575758,
          48,
          38.85,
          92.4375,
          67.78787878787878,
          16.147058823529413,
          64,
          35,
          38,
          21.085714285714285,
          41.96666666666667,
          39.205128205128204,
          15.34375,
          32.325,
          57.83870967741935,
          43.76923076923077,
          28.096774193548388,
          86.23333333333333,
          30.939393939393938,
          51.25806451612903,
          63.354838709677416,
          90.25806451612904,
          84.5,
          54.666666666666664,
          22.65714285714286,
          36.53333333333333,
          51.976190476190474,
          44.87179487179487,
          45.388888888888886,
          37.72222222222222,
          26.952380952380953,
          66,
          18.4,
          32.69444444444444,
          48.46666666666667,
          32,
          59.45454545454545,
          48.535714285714285,
          44.5,
          35.375,
          38.6,
          43,
          44.55555555555556,
          86.78571428571429,
          32,
          78.3225806451613,
          40.78947368421053,
          25.558823529411764,
          79.45,
          59.333333333333336,
          25,
          27.16216216216216,
          32.03333333333333,
          57.83870967741935,
          24.25,
          64.46666666666667,
          50.65714285714286,
          33.94444444444444,
          43,
          33.61904761904762,
          41,
          51.193548387096776,
          54.6875,
          17,
          41.470588235294116,
          47.09090909090909,
          23.114285714285714,
          30.64516129032258,
          48.4,
          13.428571428571429,
          42,
          36.8,
          27.130434782608695,
          75.7,
          36.1875,
          37.16129032258065,
          48.59375,
          34,
          41,
          33.25806451612903,
          41.57142857142857,
          53.5,
          33.225806451612904,
          40.5,
          23.72,
          25.264705882352942,
          66.8529411764706,
          34.266666666666666,
          44.266666666666666,
          29.73076923076923,
          37,
          51.03703703703704,
          27.2,
          54.44444444444444,
          23.09090909090909,
          56.806451612903224,
          40.592592592592595,
          20.64,
          47.5,
          42.3,
          63.625,
          32,
          92,
          35.57142857142857,
          27.4375,
          44.857142857142854,
          68,
          95.63636363636364,
          18.772727272727273,
          55.5,
          43,
          39,
          42.4,
          45.22222222222222,
          98,
          81.33333333333333,
          36,
          39.75,
          83.42857142857143,
          67,
          66,
          35.027027027027025,
          70.96774193548387,
          38.90625,
          67.42857142857143,
          32,
          44,
          84,
          29.216216216216218,
          23.26086956521739,
          20.357142857142858,
          18.63157894736842,
          52.23529411764706,
          75,
          75.33333333333333,
          21.25,
          44.38461538461539,
          51.05,
          56,
          37,
          72.66666666666667,
          39,
          51.666666666666664,
          64,
          95,
          61.333333333333336,
          43.5,
          55.333333333333336,
          41.5,
          28,
          31.333333333333332,
          37,
          44.5,
          60,
          88,
          38,
          40,
          32
         ],
         "ybins": {
          "end": 512,
          "size": 50,
          "start": 0
         }
        }
       ],
       "layout": {
        "barmode": "overlay",
        "height": 300,
        "margin": {
         "b": 20,
         "l": 20,
         "r": 20,
         "t": 20
        },
        "template": {
         "data": {
          "bar": [
           {
            "error_x": {
             "color": "#2a3f5f"
            },
            "error_y": {
             "color": "#2a3f5f"
            },
            "marker": {
             "line": {
              "color": "#E5ECF6",
              "width": 0.5
             },
             "pattern": {
              "fillmode": "overlay",
              "size": 10,
              "solidity": 0.2
             }
            },
            "type": "bar"
           }
          ],
          "barpolar": [
           {
            "marker": {
             "line": {
              "color": "#E5ECF6",
              "width": 0.5
             },
             "pattern": {
              "fillmode": "overlay",
              "size": 10,
              "solidity": 0.2
             }
            },
            "type": "barpolar"
           }
          ],
          "carpet": [
           {
            "aaxis": {
             "endlinecolor": "#2a3f5f",
             "gridcolor": "white",
             "linecolor": "white",
             "minorgridcolor": "white",
             "startlinecolor": "#2a3f5f"
            },
            "baxis": {
             "endlinecolor": "#2a3f5f",
             "gridcolor": "white",
             "linecolor": "white",
             "minorgridcolor": "white",
             "startlinecolor": "#2a3f5f"
            },
            "type": "carpet"
           }
          ],
          "choropleth": [
           {
            "colorbar": {
             "outlinewidth": 0,
             "ticks": ""
            },
            "type": "choropleth"
           }
          ],
          "contour": [
           {
            "colorbar": {
             "outlinewidth": 0,
             "ticks": ""
            },
            "colorscale": [
             [
              0,
              "#0d0887"
             ],
             [
              0.1111111111111111,
              "#46039f"
             ],
             [
              0.2222222222222222,
              "#7201a8"
             ],
             [
              0.3333333333333333,
              "#9c179e"
             ],
             [
              0.4444444444444444,
              "#bd3786"
             ],
             [
              0.5555555555555556,
              "#d8576b"
             ],
             [
              0.6666666666666666,
              "#ed7953"
             ],
             [
              0.7777777777777778,
              "#fb9f3a"
             ],
             [
              0.8888888888888888,
              "#fdca26"
             ],
             [
              1,
              "#f0f921"
             ]
            ],
            "type": "contour"
           }
          ],
          "contourcarpet": [
           {
            "colorbar": {
             "outlinewidth": 0,
             "ticks": ""
            },
            "type": "contourcarpet"
           }
          ],
          "heatmap": [
           {
            "colorbar": {
             "outlinewidth": 0,
             "ticks": ""
            },
            "colorscale": [
             [
              0,
              "#0d0887"
             ],
             [
              0.1111111111111111,
              "#46039f"
             ],
             [
              0.2222222222222222,
              "#7201a8"
             ],
             [
              0.3333333333333333,
              "#9c179e"
             ],
             [
              0.4444444444444444,
              "#bd3786"
             ],
             [
              0.5555555555555556,
              "#d8576b"
             ],
             [
              0.6666666666666666,
              "#ed7953"
             ],
             [
              0.7777777777777778,
              "#fb9f3a"
             ],
             [
              0.8888888888888888,
              "#fdca26"
             ],
             [
              1,
              "#f0f921"
             ]
            ],
            "type": "heatmap"
           }
          ],
          "heatmapgl": [
           {
            "colorbar": {
             "outlinewidth": 0,
             "ticks": ""
            },
            "colorscale": [
             [
              0,
              "#0d0887"
             ],
             [
              0.1111111111111111,
              "#46039f"
             ],
             [
              0.2222222222222222,
              "#7201a8"
             ],
             [
              0.3333333333333333,
              "#9c179e"
             ],
             [
              0.4444444444444444,
              "#bd3786"
             ],
             [
              0.5555555555555556,
              "#d8576b"
             ],
             [
              0.6666666666666666,
              "#ed7953"
             ],
             [
              0.7777777777777778,
              "#fb9f3a"
             ],
             [
              0.8888888888888888,
              "#fdca26"
             ],
             [
              1,
              "#f0f921"
             ]
            ],
            "type": "heatmapgl"
           }
          ],
          "histogram": [
           {
            "marker": {
             "pattern": {
              "fillmode": "overlay",
              "size": 10,
              "solidity": 0.2
             }
            },
            "type": "histogram"
           }
          ],
          "histogram2d": [
           {
            "colorbar": {
             "outlinewidth": 0,
             "ticks": ""
            },
            "colorscale": [
             [
              0,
              "#0d0887"
             ],
             [
              0.1111111111111111,
              "#46039f"
             ],
             [
              0.2222222222222222,
              "#7201a8"
             ],
             [
              0.3333333333333333,
              "#9c179e"
             ],
             [
              0.4444444444444444,
              "#bd3786"
             ],
             [
              0.5555555555555556,
              "#d8576b"
             ],
             [
              0.6666666666666666,
              "#ed7953"
             ],
             [
              0.7777777777777778,
              "#fb9f3a"
             ],
             [
              0.8888888888888888,
              "#fdca26"
             ],
             [
              1,
              "#f0f921"
             ]
            ],
            "type": "histogram2d"
           }
          ],
          "histogram2dcontour": [
           {
            "colorbar": {
             "outlinewidth": 0,
             "ticks": ""
            },
            "colorscale": [
             [
              0,
              "#0d0887"
             ],
             [
              0.1111111111111111,
              "#46039f"
             ],
             [
              0.2222222222222222,
              "#7201a8"
             ],
             [
              0.3333333333333333,
              "#9c179e"
             ],
             [
              0.4444444444444444,
              "#bd3786"
             ],
             [
              0.5555555555555556,
              "#d8576b"
             ],
             [
              0.6666666666666666,
              "#ed7953"
             ],
             [
              0.7777777777777778,
              "#fb9f3a"
             ],
             [
              0.8888888888888888,
              "#fdca26"
             ],
             [
              1,
              "#f0f921"
             ]
            ],
            "type": "histogram2dcontour"
           }
          ],
          "mesh3d": [
           {
            "colorbar": {
             "outlinewidth": 0,
             "ticks": ""
            },
            "type": "mesh3d"
           }
          ],
          "parcoords": [
           {
            "line": {
             "colorbar": {
              "outlinewidth": 0,
              "ticks": ""
             }
            },
            "type": "parcoords"
           }
          ],
          "pie": [
           {
            "automargin": true,
            "type": "pie"
           }
          ],
          "scatter": [
           {
            "fillpattern": {
             "fillmode": "overlay",
             "size": 10,
             "solidity": 0.2
            },
            "type": "scatter"
           }
          ],
          "scatter3d": [
           {
            "line": {
             "colorbar": {
              "outlinewidth": 0,
              "ticks": ""
             }
            },
            "marker": {
             "colorbar": {
              "outlinewidth": 0,
              "ticks": ""
             }
            },
            "type": "scatter3d"
           }
          ],
          "scattercarpet": [
           {
            "marker": {
             "colorbar": {
              "outlinewidth": 0,
              "ticks": ""
             }
            },
            "type": "scattercarpet"
           }
          ],
          "scattergeo": [
           {
            "marker": {
             "colorbar": {
              "outlinewidth": 0,
              "ticks": ""
             }
            },
            "type": "scattergeo"
           }
          ],
          "scattergl": [
           {
            "marker": {
             "colorbar": {
              "outlinewidth": 0,
              "ticks": ""
             }
            },
            "type": "scattergl"
           }
          ],
          "scattermapbox": [
           {
            "marker": {
             "colorbar": {
              "outlinewidth": 0,
              "ticks": ""
             }
            },
            "type": "scattermapbox"
           }
          ],
          "scatterpolar": [
           {
            "marker": {
             "colorbar": {
              "outlinewidth": 0,
              "ticks": ""
             }
            },
            "type": "scatterpolar"
           }
          ],
          "scatterpolargl": [
           {
            "marker": {
             "colorbar": {
              "outlinewidth": 0,
              "ticks": ""
             }
            },
            "type": "scatterpolargl"
           }
          ],
          "scatterternary": [
           {
            "marker": {
             "colorbar": {
              "outlinewidth": 0,
              "ticks": ""
             }
            },
            "type": "scatterternary"
           }
          ],
          "surface": [
           {
            "colorbar": {
             "outlinewidth": 0,
             "ticks": ""
            },
            "colorscale": [
             [
              0,
              "#0d0887"
             ],
             [
              0.1111111111111111,
              "#46039f"
             ],
             [
              0.2222222222222222,
              "#7201a8"
             ],
             [
              0.3333333333333333,
              "#9c179e"
             ],
             [
              0.4444444444444444,
              "#bd3786"
             ],
             [
              0.5555555555555556,
              "#d8576b"
             ],
             [
              0.6666666666666666,
              "#ed7953"
             ],
             [
              0.7777777777777778,
              "#fb9f3a"
             ],
             [
              0.8888888888888888,
              "#fdca26"
             ],
             [
              1,
              "#f0f921"
             ]
            ],
            "type": "surface"
           }
          ],
          "table": [
           {
            "cells": {
             "fill": {
              "color": "#EBF0F8"
             },
             "line": {
              "color": "white"
             }
            },
            "header": {
             "fill": {
              "color": "#C8D4E3"
             },
             "line": {
              "color": "white"
             }
            },
            "type": "table"
           }
          ]
         },
         "layout": {
          "annotationdefaults": {
           "arrowcolor": "#2a3f5f",
           "arrowhead": 0,
           "arrowwidth": 1
          },
          "autotypenumbers": "strict",
          "coloraxis": {
           "colorbar": {
            "outlinewidth": 0,
            "ticks": ""
           }
          },
          "colorscale": {
           "diverging": [
            [
             0,
             "#8e0152"
            ],
            [
             0.1,
             "#c51b7d"
            ],
            [
             0.2,
             "#de77ae"
            ],
            [
             0.3,
             "#f1b6da"
            ],
            [
             0.4,
             "#fde0ef"
            ],
            [
             0.5,
             "#f7f7f7"
            ],
            [
             0.6,
             "#e6f5d0"
            ],
            [
             0.7,
             "#b8e186"
            ],
            [
             0.8,
             "#7fbc41"
            ],
            [
             0.9,
             "#4d9221"
            ],
            [
             1,
             "#276419"
            ]
           ],
           "sequential": [
            [
             0,
             "#0d0887"
            ],
            [
             0.1111111111111111,
             "#46039f"
            ],
            [
             0.2222222222222222,
             "#7201a8"
            ],
            [
             0.3333333333333333,
             "#9c179e"
            ],
            [
             0.4444444444444444,
             "#bd3786"
            ],
            [
             0.5555555555555556,
             "#d8576b"
            ],
            [
             0.6666666666666666,
             "#ed7953"
            ],
            [
             0.7777777777777778,
             "#fb9f3a"
            ],
            [
             0.8888888888888888,
             "#fdca26"
            ],
            [
             1,
             "#f0f921"
            ]
           ],
           "sequentialminus": [
            [
             0,
             "#0d0887"
            ],
            [
             0.1111111111111111,
             "#46039f"
            ],
            [
             0.2222222222222222,
             "#7201a8"
            ],
            [
             0.3333333333333333,
             "#9c179e"
            ],
            [
             0.4444444444444444,
             "#bd3786"
            ],
            [
             0.5555555555555556,
             "#d8576b"
            ],
            [
             0.6666666666666666,
             "#ed7953"
            ],
            [
             0.7777777777777778,
             "#fb9f3a"
            ],
            [
             0.8888888888888888,
             "#fdca26"
            ],
            [
             1,
             "#f0f921"
            ]
           ]
          },
          "colorway": [
           "#636efa",
           "#EF553B",
           "#00cc96",
           "#ab63fa",
           "#FFA15A",
           "#19d3f3",
           "#FF6692",
           "#B6E880",
           "#FF97FF",
           "#FECB52"
          ],
          "font": {
           "color": "#2a3f5f"
          },
          "geo": {
           "bgcolor": "white",
           "lakecolor": "white",
           "landcolor": "#E5ECF6",
           "showlakes": true,
           "showland": true,
           "subunitcolor": "white"
          },
          "hoverlabel": {
           "align": "left"
          },
          "hovermode": "closest",
          "mapbox": {
           "style": "light"
          },
          "paper_bgcolor": "white",
          "plot_bgcolor": "#E5ECF6",
          "polar": {
           "angularaxis": {
            "gridcolor": "white",
            "linecolor": "white",
            "ticks": ""
           },
           "bgcolor": "#E5ECF6",
           "radialaxis": {
            "gridcolor": "white",
            "linecolor": "white",
            "ticks": ""
           }
          },
          "scene": {
           "xaxis": {
            "backgroundcolor": "#E5ECF6",
            "gridcolor": "white",
            "gridwidth": 2,
            "linecolor": "white",
            "showbackground": true,
            "ticks": "",
            "zerolinecolor": "white"
           },
           "yaxis": {
            "backgroundcolor": "#E5ECF6",
            "gridcolor": "white",
            "gridwidth": 2,
            "linecolor": "white",
            "showbackground": true,
            "ticks": "",
            "zerolinecolor": "white"
           },
           "zaxis": {
            "backgroundcolor": "#E5ECF6",
            "gridcolor": "white",
            "gridwidth": 2,
            "linecolor": "white",
            "showbackground": true,
            "ticks": "",
            "zerolinecolor": "white"
           }
          },
          "shapedefaults": {
           "line": {
            "color": "#2a3f5f"
           }
          },
          "ternary": {
           "aaxis": {
            "gridcolor": "white",
            "linecolor": "white",
            "ticks": ""
           },
           "baxis": {
            "gridcolor": "white",
            "linecolor": "white",
            "ticks": ""
           },
           "bgcolor": "#E5ECF6",
           "caxis": {
            "gridcolor": "white",
            "linecolor": "white",
            "ticks": ""
           }
          },
          "title": {
           "x": 0.05
          },
          "xaxis": {
           "automargin": true,
           "gridcolor": "white",
           "linecolor": "white",
           "ticks": "",
           "title": {
            "standoff": 15
           },
           "zerolinecolor": "white",
           "zerolinewidth": 2
          },
          "yaxis": {
           "automargin": true,
           "gridcolor": "white",
           "linecolor": "white",
           "ticks": "",
           "title": {
            "standoff": 15
           },
           "zerolinecolor": "white",
           "zerolinewidth": 2
          }
         }
        },
        "width": 600,
        "xaxis": {
         "range": [
          0,
          128
         ],
         "title": {
          "text": "Count"
         }
        },
        "yaxis": {
         "range": [
          0,
          64
         ],
         "title": {
          "text": "x_centroid"
         }
        }
       }
      }
     },
     "metadata": {},
     "output_type": "display_data"
    },
    {
     "data": {
      "application/vnd.plotly.v1+json": {
       "config": {
        "plotlyServerURL": "https://plot.ly"
       },
       "data": [
        {
         "name": "moving stripes",
         "opacity": 0.75,
         "type": "histogram",
         "y": [
          47,
          41,
          50.56666666666667,
          40.72727272727273,
          50.5,
          52.804878048780495,
          34.0263157894737,
          28.78947368421052,
          45,
          44,
          50.75,
          47.65625,
          43.04761904761905,
          23.9375,
          51.85714285714286,
          45.40625,
          50.03225806451613,
          47,
          49,
          49,
          33,
          26.666666666666657,
          27
         ],
         "ybins": {
          "size": 10
         }
        },
        {
         "name": "dots_ON",
         "opacity": 0.75,
         "type": "histogram",
         "y": [
          31,
          56,
          58.51428571428571,
          27.83783783783784,
          55.81081081081081,
          33.29411764705881,
          35.14705882352942,
          38.61290322580646,
          52.5,
          40,
          20.705882352941188,
          46,
          26,
          44.375,
          31,
          26,
          38.69999999999999,
          39.93333333333334,
          27,
          47,
          36,
          31,
          41,
          50.56666666666667,
          47,
          31.09375,
          27.5,
          35,
          40.72727272727273,
          50.5,
          30.14705882352942,
          34.44117647058823,
          34.27777777777777,
          39.258064516129025,
          52.804878048780495,
          30.18421052631578,
          34.0263157894737,
          28.78947368421052,
          39.27272727272728,
          39.111111111111114,
          45,
          37.53333333333333,
          44,
          34.27272727272728,
          53.9,
          50.75,
          34.16216216216216,
          18.97435897435895,
          47.65625,
          43.04761904761905,
          29.444444444444457,
          33.5,
          40.16216216216219,
          38.33333333333334,
          45.225806451612925,
          51.85714285714286,
          26.69999999999999,
          45.40625,
          44.24242424242425,
          37,
          36.90625,
          27,
          50.03225806451613,
          22.774193548387103,
          23.52173913043478,
          33.30000000000001,
          46,
          49,
          19,
          45.33333333333334
         ],
         "ybins": {
          "size": 10
         }
        },
        {
         "name": "dots_OFF",
         "opacity": 0.75,
         "type": "histogram",
         "y": [
          47,
          47,
          40.72727272727273,
          47.65625,
          51.85714285714286,
          49,
          7
         ],
         "ybins": {
          "size": 10
         }
        },
        {
         "name": "loom",
         "opacity": 0.75,
         "type": "histogram",
         "y": [
          47,
          36,
          31,
          29.35483870967742,
          41,
          50.56666666666667,
          47,
          28,
          27,
          27,
          23.729729729729726,
          27.5,
          31,
          56,
          24.135135135135137,
          58.51428571428571,
          27.83783783783784,
          35,
          40.72727272727273,
          55.81081081081081,
          58.54545454545455,
          50.5,
          30.14705882352942,
          37,
          24.76315789473685,
          24.272727272727266,
          43,
          49,
          34.44117647058823,
          56.45454545454545,
          33.29411764705881,
          35.91891891891892,
          34.27777777777777,
          56,
          39.258064516129025,
          35.14705882352942,
          24.727272727272734,
          23.636363636363637,
          52.804878048780495,
          34,
          38.61290322580646,
          30.18421052631578,
          30,
          34.0263157894737,
          23.657142857142844,
          52.5,
          24.85294117647058,
          28.78947368421052,
          26.358974358974365,
          40,
          50,
          39.27272727272728,
          39.111111111111114,
          20.705882352941188,
          46,
          37.53333333333333,
          13.870967741935488,
          25.72222222222223,
          18.974358974358978,
          51.27272727272728,
          42,
          34.27272727272728,
          15.277777777777771,
          53.9,
          26,
          50.75,
          46,
          42.72222222222223,
          44.375,
          33,
          23.058823529411768,
          14.84375,
          52.5,
          45,
          28.064516129032256,
          34.16216216216216,
          18.97435897435895,
          28.53333333333333,
          47.65625,
          43.04761904761905,
          29.444444444444457,
          25,
          53.5,
          35.30555555555554,
          31.636363636363637,
          19.84210526315789,
          46,
          32.80000000000001,
          34.96875,
          32.22222222222223,
          54.27777777777777,
          48,
          33.5,
          36.87096774193549,
          56.23684210526316,
          21.756756756756744,
          18.393939393939394,
          40.16216216216219,
          47,
          39.23333333333332,
          46.51612903225808,
          37.263157894736835,
          31,
          38.33333333333334,
          31,
          45.78787878787878,
          28,
          56.875,
          23.9375,
          16.818181818181813,
          37.58823529411765,
          26,
          30,
          26,
          53.82857142857143,
          50.30000000000001,
          15.358974358974365,
          50.75,
          25.399999999999977,
          20.903225806451616,
          57.07692307692308,
          51.935483870967744,
          14.899999999999977,
          50.484848484848484,
          58.096774193548384,
          39.12903225806451,
          31.25806451612904,
          26.69999999999999,
          54.166666666666664,
          45.94285714285715,
          34.133333333333326,
          44.309523809523796,
          12.051282051282044,
          47.638888888888886,
          44.388888888888886,
          56.71428571428572,
          45.40625,
          41.73333333333332,
          37.666666666666664,
          49.16666666666667,
          47.5,
          44.24242424242425,
          44.60714285714286,
          23.5,
          10.5,
          18.94999999999999,
          33,
          22.75,
          33.35714285714283,
          18.72222222222223,
          28.032258064516128,
          12.63157894736841,
          27.14705882352939,
          24.100000000000023,
          26.791666666666657,
          34.25,
          27,
          38.69999999999999,
          50.03225806451613,
          31.78125,
          21.900000000000006,
          18.657142857142844,
          52.55555555555556,
          31.5,
          30.85714285714286,
          32.5,
          12.741935483870975,
          28.9375,
          27.5,
          19.441176470588232,
          36.39393939393938,
          42.2,
          22.774193548387103,
          10.949999999999989,
          32.35714285714286,
          14,
          21.80000000000001,
          21.82608695652175,
          22.30000000000001,
          42.9375,
          16.19354838709677,
          19.6875,
          10.800000000000011,
          13,
          52.064516129032256,
          39.17142857142858,
          38.5,
          19.25806451612904,
          9.5625,
          18.28,
          40.23529411764707,
          32.970588235294116,
          39.93333333333334,
          18.933333333333337,
          37.92307692307692,
          30,
          33.925925925925924,
          51.866666666666674,
          11.444444444444457,
          16.636363636363626,
          25.80645161290323,
          46.44444444444446,
          34.31999999999999,
          41,
          39.73333333333332,
          49,
          43.5,
          26,
          25.285714285714278,
          40.75,
          9.428571428571416,
          28,
          35.90909090909091,
          21.136363636363626,
          10,
          7,
          10,
          22.799999999999997,
          14.333333333333314,
          33,
          7.666666666666667,
          12,
          15.75,
          19.171428571428578,
          45,
          44,
          50.16216216216219,
          45.225806451612925,
          49.25,
          51.85714285714286,
          24,
          34,
          36.90625,
          52.621621621621614,
          23.52173913043478,
          37.214285714285715,
          33.05263157894737,
          51.470588235294116,
          20.83333333333333,
          30.666666666666686,
          49.125,
          6.461538461538453,
          40,
          7,
          35.71428571428571,
          42.66666666666666,
          18,
          14.666666666666657,
          19.5,
          32.5,
          45.33333333333334,
          13,
          26.666666666666657,
          14,
          48,
          44.33333333333333,
          29,
          15,
          6,
          30,
          27,
          36,
          55
         ],
         "ybins": {
          "size": 10
         }
        }
       ],
       "layout": {
        "barmode": "overlay",
        "height": 400,
        "margin": {
         "b": 20,
         "l": 20,
         "r": 20,
         "t": 20
        },
        "template": {
         "data": {
          "bar": [
           {
            "error_x": {
             "color": "#2a3f5f"
            },
            "error_y": {
             "color": "#2a3f5f"
            },
            "marker": {
             "line": {
              "color": "#E5ECF6",
              "width": 0.5
             },
             "pattern": {
              "fillmode": "overlay",
              "size": 10,
              "solidity": 0.2
             }
            },
            "type": "bar"
           }
          ],
          "barpolar": [
           {
            "marker": {
             "line": {
              "color": "#E5ECF6",
              "width": 0.5
             },
             "pattern": {
              "fillmode": "overlay",
              "size": 10,
              "solidity": 0.2
             }
            },
            "type": "barpolar"
           }
          ],
          "carpet": [
           {
            "aaxis": {
             "endlinecolor": "#2a3f5f",
             "gridcolor": "white",
             "linecolor": "white",
             "minorgridcolor": "white",
             "startlinecolor": "#2a3f5f"
            },
            "baxis": {
             "endlinecolor": "#2a3f5f",
             "gridcolor": "white",
             "linecolor": "white",
             "minorgridcolor": "white",
             "startlinecolor": "#2a3f5f"
            },
            "type": "carpet"
           }
          ],
          "choropleth": [
           {
            "colorbar": {
             "outlinewidth": 0,
             "ticks": ""
            },
            "type": "choropleth"
           }
          ],
          "contour": [
           {
            "colorbar": {
             "outlinewidth": 0,
             "ticks": ""
            },
            "colorscale": [
             [
              0,
              "#0d0887"
             ],
             [
              0.1111111111111111,
              "#46039f"
             ],
             [
              0.2222222222222222,
              "#7201a8"
             ],
             [
              0.3333333333333333,
              "#9c179e"
             ],
             [
              0.4444444444444444,
              "#bd3786"
             ],
             [
              0.5555555555555556,
              "#d8576b"
             ],
             [
              0.6666666666666666,
              "#ed7953"
             ],
             [
              0.7777777777777778,
              "#fb9f3a"
             ],
             [
              0.8888888888888888,
              "#fdca26"
             ],
             [
              1,
              "#f0f921"
             ]
            ],
            "type": "contour"
           }
          ],
          "contourcarpet": [
           {
            "colorbar": {
             "outlinewidth": 0,
             "ticks": ""
            },
            "type": "contourcarpet"
           }
          ],
          "heatmap": [
           {
            "colorbar": {
             "outlinewidth": 0,
             "ticks": ""
            },
            "colorscale": [
             [
              0,
              "#0d0887"
             ],
             [
              0.1111111111111111,
              "#46039f"
             ],
             [
              0.2222222222222222,
              "#7201a8"
             ],
             [
              0.3333333333333333,
              "#9c179e"
             ],
             [
              0.4444444444444444,
              "#bd3786"
             ],
             [
              0.5555555555555556,
              "#d8576b"
             ],
             [
              0.6666666666666666,
              "#ed7953"
             ],
             [
              0.7777777777777778,
              "#fb9f3a"
             ],
             [
              0.8888888888888888,
              "#fdca26"
             ],
             [
              1,
              "#f0f921"
             ]
            ],
            "type": "heatmap"
           }
          ],
          "heatmapgl": [
           {
            "colorbar": {
             "outlinewidth": 0,
             "ticks": ""
            },
            "colorscale": [
             [
              0,
              "#0d0887"
             ],
             [
              0.1111111111111111,
              "#46039f"
             ],
             [
              0.2222222222222222,
              "#7201a8"
             ],
             [
              0.3333333333333333,
              "#9c179e"
             ],
             [
              0.4444444444444444,
              "#bd3786"
             ],
             [
              0.5555555555555556,
              "#d8576b"
             ],
             [
              0.6666666666666666,
              "#ed7953"
             ],
             [
              0.7777777777777778,
              "#fb9f3a"
             ],
             [
              0.8888888888888888,
              "#fdca26"
             ],
             [
              1,
              "#f0f921"
             ]
            ],
            "type": "heatmapgl"
           }
          ],
          "histogram": [
           {
            "marker": {
             "pattern": {
              "fillmode": "overlay",
              "size": 10,
              "solidity": 0.2
             }
            },
            "type": "histogram"
           }
          ],
          "histogram2d": [
           {
            "colorbar": {
             "outlinewidth": 0,
             "ticks": ""
            },
            "colorscale": [
             [
              0,
              "#0d0887"
             ],
             [
              0.1111111111111111,
              "#46039f"
             ],
             [
              0.2222222222222222,
              "#7201a8"
             ],
             [
              0.3333333333333333,
              "#9c179e"
             ],
             [
              0.4444444444444444,
              "#bd3786"
             ],
             [
              0.5555555555555556,
              "#d8576b"
             ],
             [
              0.6666666666666666,
              "#ed7953"
             ],
             [
              0.7777777777777778,
              "#fb9f3a"
             ],
             [
              0.8888888888888888,
              "#fdca26"
             ],
             [
              1,
              "#f0f921"
             ]
            ],
            "type": "histogram2d"
           }
          ],
          "histogram2dcontour": [
           {
            "colorbar": {
             "outlinewidth": 0,
             "ticks": ""
            },
            "colorscale": [
             [
              0,
              "#0d0887"
             ],
             [
              0.1111111111111111,
              "#46039f"
             ],
             [
              0.2222222222222222,
              "#7201a8"
             ],
             [
              0.3333333333333333,
              "#9c179e"
             ],
             [
              0.4444444444444444,
              "#bd3786"
             ],
             [
              0.5555555555555556,
              "#d8576b"
             ],
             [
              0.6666666666666666,
              "#ed7953"
             ],
             [
              0.7777777777777778,
              "#fb9f3a"
             ],
             [
              0.8888888888888888,
              "#fdca26"
             ],
             [
              1,
              "#f0f921"
             ]
            ],
            "type": "histogram2dcontour"
           }
          ],
          "mesh3d": [
           {
            "colorbar": {
             "outlinewidth": 0,
             "ticks": ""
            },
            "type": "mesh3d"
           }
          ],
          "parcoords": [
           {
            "line": {
             "colorbar": {
              "outlinewidth": 0,
              "ticks": ""
             }
            },
            "type": "parcoords"
           }
          ],
          "pie": [
           {
            "automargin": true,
            "type": "pie"
           }
          ],
          "scatter": [
           {
            "fillpattern": {
             "fillmode": "overlay",
             "size": 10,
             "solidity": 0.2
            },
            "type": "scatter"
           }
          ],
          "scatter3d": [
           {
            "line": {
             "colorbar": {
              "outlinewidth": 0,
              "ticks": ""
             }
            },
            "marker": {
             "colorbar": {
              "outlinewidth": 0,
              "ticks": ""
             }
            },
            "type": "scatter3d"
           }
          ],
          "scattercarpet": [
           {
            "marker": {
             "colorbar": {
              "outlinewidth": 0,
              "ticks": ""
             }
            },
            "type": "scattercarpet"
           }
          ],
          "scattergeo": [
           {
            "marker": {
             "colorbar": {
              "outlinewidth": 0,
              "ticks": ""
             }
            },
            "type": "scattergeo"
           }
          ],
          "scattergl": [
           {
            "marker": {
             "colorbar": {
              "outlinewidth": 0,
              "ticks": ""
             }
            },
            "type": "scattergl"
           }
          ],
          "scattermapbox": [
           {
            "marker": {
             "colorbar": {
              "outlinewidth": 0,
              "ticks": ""
             }
            },
            "type": "scattermapbox"
           }
          ],
          "scatterpolar": [
           {
            "marker": {
             "colorbar": {
              "outlinewidth": 0,
              "ticks": ""
             }
            },
            "type": "scatterpolar"
           }
          ],
          "scatterpolargl": [
           {
            "marker": {
             "colorbar": {
              "outlinewidth": 0,
              "ticks": ""
             }
            },
            "type": "scatterpolargl"
           }
          ],
          "scatterternary": [
           {
            "marker": {
             "colorbar": {
              "outlinewidth": 0,
              "ticks": ""
             }
            },
            "type": "scatterternary"
           }
          ],
          "surface": [
           {
            "colorbar": {
             "outlinewidth": 0,
             "ticks": ""
            },
            "colorscale": [
             [
              0,
              "#0d0887"
             ],
             [
              0.1111111111111111,
              "#46039f"
             ],
             [
              0.2222222222222222,
              "#7201a8"
             ],
             [
              0.3333333333333333,
              "#9c179e"
             ],
             [
              0.4444444444444444,
              "#bd3786"
             ],
             [
              0.5555555555555556,
              "#d8576b"
             ],
             [
              0.6666666666666666,
              "#ed7953"
             ],
             [
              0.7777777777777778,
              "#fb9f3a"
             ],
             [
              0.8888888888888888,
              "#fdca26"
             ],
             [
              1,
              "#f0f921"
             ]
            ],
            "type": "surface"
           }
          ],
          "table": [
           {
            "cells": {
             "fill": {
              "color": "#EBF0F8"
             },
             "line": {
              "color": "white"
             }
            },
            "header": {
             "fill": {
              "color": "#C8D4E3"
             },
             "line": {
              "color": "white"
             }
            },
            "type": "table"
           }
          ]
         },
         "layout": {
          "annotationdefaults": {
           "arrowcolor": "#2a3f5f",
           "arrowhead": 0,
           "arrowwidth": 1
          },
          "autotypenumbers": "strict",
          "coloraxis": {
           "colorbar": {
            "outlinewidth": 0,
            "ticks": ""
           }
          },
          "colorscale": {
           "diverging": [
            [
             0,
             "#8e0152"
            ],
            [
             0.1,
             "#c51b7d"
            ],
            [
             0.2,
             "#de77ae"
            ],
            [
             0.3,
             "#f1b6da"
            ],
            [
             0.4,
             "#fde0ef"
            ],
            [
             0.5,
             "#f7f7f7"
            ],
            [
             0.6,
             "#e6f5d0"
            ],
            [
             0.7,
             "#b8e186"
            ],
            [
             0.8,
             "#7fbc41"
            ],
            [
             0.9,
             "#4d9221"
            ],
            [
             1,
             "#276419"
            ]
           ],
           "sequential": [
            [
             0,
             "#0d0887"
            ],
            [
             0.1111111111111111,
             "#46039f"
            ],
            [
             0.2222222222222222,
             "#7201a8"
            ],
            [
             0.3333333333333333,
             "#9c179e"
            ],
            [
             0.4444444444444444,
             "#bd3786"
            ],
            [
             0.5555555555555556,
             "#d8576b"
            ],
            [
             0.6666666666666666,
             "#ed7953"
            ],
            [
             0.7777777777777778,
             "#fb9f3a"
            ],
            [
             0.8888888888888888,
             "#fdca26"
            ],
            [
             1,
             "#f0f921"
            ]
           ],
           "sequentialminus": [
            [
             0,
             "#0d0887"
            ],
            [
             0.1111111111111111,
             "#46039f"
            ],
            [
             0.2222222222222222,
             "#7201a8"
            ],
            [
             0.3333333333333333,
             "#9c179e"
            ],
            [
             0.4444444444444444,
             "#bd3786"
            ],
            [
             0.5555555555555556,
             "#d8576b"
            ],
            [
             0.6666666666666666,
             "#ed7953"
            ],
            [
             0.7777777777777778,
             "#fb9f3a"
            ],
            [
             0.8888888888888888,
             "#fdca26"
            ],
            [
             1,
             "#f0f921"
            ]
           ]
          },
          "colorway": [
           "#636efa",
           "#EF553B",
           "#00cc96",
           "#ab63fa",
           "#FFA15A",
           "#19d3f3",
           "#FF6692",
           "#B6E880",
           "#FF97FF",
           "#FECB52"
          ],
          "font": {
           "color": "#2a3f5f"
          },
          "geo": {
           "bgcolor": "white",
           "lakecolor": "white",
           "landcolor": "#E5ECF6",
           "showlakes": true,
           "showland": true,
           "subunitcolor": "white"
          },
          "hoverlabel": {
           "align": "left"
          },
          "hovermode": "closest",
          "mapbox": {
           "style": "light"
          },
          "paper_bgcolor": "white",
          "plot_bgcolor": "#E5ECF6",
          "polar": {
           "angularaxis": {
            "gridcolor": "white",
            "linecolor": "white",
            "ticks": ""
           },
           "bgcolor": "#E5ECF6",
           "radialaxis": {
            "gridcolor": "white",
            "linecolor": "white",
            "ticks": ""
           }
          },
          "scene": {
           "xaxis": {
            "backgroundcolor": "#E5ECF6",
            "gridcolor": "white",
            "gridwidth": 2,
            "linecolor": "white",
            "showbackground": true,
            "ticks": "",
            "zerolinecolor": "white"
           },
           "yaxis": {
            "backgroundcolor": "#E5ECF6",
            "gridcolor": "white",
            "gridwidth": 2,
            "linecolor": "white",
            "showbackground": true,
            "ticks": "",
            "zerolinecolor": "white"
           },
           "zaxis": {
            "backgroundcolor": "#E5ECF6",
            "gridcolor": "white",
            "gridwidth": 2,
            "linecolor": "white",
            "showbackground": true,
            "ticks": "",
            "zerolinecolor": "white"
           }
          },
          "shapedefaults": {
           "line": {
            "color": "#2a3f5f"
           }
          },
          "ternary": {
           "aaxis": {
            "gridcolor": "white",
            "linecolor": "white",
            "ticks": ""
           },
           "baxis": {
            "gridcolor": "white",
            "linecolor": "white",
            "ticks": ""
           },
           "bgcolor": "#E5ECF6",
           "caxis": {
            "gridcolor": "white",
            "linecolor": "white",
            "ticks": ""
           }
          },
          "title": {
           "x": 0.05
          },
          "xaxis": {
           "automargin": true,
           "gridcolor": "white",
           "linecolor": "white",
           "ticks": "",
           "title": {
            "standoff": 15
           },
           "zerolinecolor": "white",
           "zerolinewidth": 2
          },
          "yaxis": {
           "automargin": true,
           "gridcolor": "white",
           "linecolor": "white",
           "ticks": "",
           "title": {
            "standoff": 15
           },
           "zerolinecolor": "white",
           "zerolinewidth": 2
          }
         }
        },
        "width": 400,
        "xaxis": {
         "title": {
          "text": "Count"
         }
        },
        "yaxis": {
         "title": {
          "text": "y_centroid"
         }
        }
       }
      }
     },
     "metadata": {},
     "output_type": "display_data"
    }
   ],
   "source": [
    "import plotly.graph_objects as go\n",
    "\n",
    "fig = go.Figure()\n",
    "\n",
    "# Loop through each unique value of 'stimtype'\n",
    "for stim in pooled_data['stimtype'].unique():\n",
    "    filtered_data = pooled_data[pooled_data['stimtype'] == stim]\n",
    "    fig.add_trace(go.Histogram(x=filtered_data['x_centroid'], name=stim, \n",
    "                               ybins = dict(  \n",
    "            start=0,\n",
    "            end=512,\n",
    "            size=50)\n",
    "        ))  # Set nbinsx to desired number of bins\n",
    "\n",
    "# Update the layout\n",
    "fig.update_layout(barmode='overlay', yaxis_title='x_centroid', xaxis_title='Count', width=600, height=300, margin=dict(l=20, r=20, t=20, b=20),)\n",
    "fig.update_traces(opacity=0.75)\n",
    "fig.update_xaxes(range=[0, 128])  # Disable gridlines for x-axis\n",
    "fig.update_yaxes(range=[0,64])  # Disable gridlines for y-axis\n",
    "\n",
    "fig.show()\n",
    "\n",
    "fig2 = go.Figure()\n",
    "\n",
    "# Loop through each unique value of 'stimtype'\n",
    "for stim in pooled_data['stimtype'].unique():\n",
    "    filtered_data = pooled_data[pooled_data['stimtype'] == stim]\n",
    "    fig2.add_trace(go.Histogram(y=filtered_data['y_centroid']%y_res, name=stim, \n",
    "                               ybins = dict(  \n",
    "            # start=0,\n",
    "            # end=128,\n",
    "            size=10)\n",
    "        ))  # Set nbinsx to desired number of bins\n",
    "\n",
    "# Update the layout\n",
    "fig2.update_layout(barmode='overlay', yaxis_title='y_centroid', xaxis_title='Count', width=400, height=400, margin=dict(l=20, r=20, t=20, b=20),)\n",
    "fig2.update_traces(opacity=0.75)\n",
    "#fig.update_xaxes(range=[0, 100])  # Disable gridlines for x-axis\n",
    "#fig.update_yaxes(range=[0,128])  # Disable gridlines for y-axis\n",
    "\n",
    "fig2.show()"
   ]
  },
  {
   "cell_type": "code",
   "execution_count": 461,
   "metadata": {},
   "outputs": [
    {
     "data": {
      "application/vnd.plotly.v1+json": {
       "config": {
        "plotlyServerURL": "https://plot.ly"
       },
       "data": [
        {
         "hovertemplate": "color=moving stripes<br>x=%{x}<br>y=%{y}<br>size=%{marker.size}<extra></extra>",
         "legendgroup": "moving stripes",
         "marker": {
          "color": "#636efa",
          "opacity": [
           0.9761904761904762,
           0.9285714285714286,
           0.7142857142857143,
           0.7857142857142857,
           0.7619047619047619,
           0.9761904761904762,
           0.9047619047619048,
           0.9047619047619048,
           0.023809523809523808,
           0.023809523809523808,
           0.2857142857142857,
           0.7619047619047619,
           0.5,
           0.7619047619047619,
           0.16666666666666666,
           0.7619047619047619,
           0.7380952380952381,
           0.023809523809523808,
           0.19047619047619047,
           0.023809523809523808,
           0.023809523809523808,
           0.07142857142857142,
           0.023809523809523808,
           0.9761904761904762,
           0.9761904761904762,
           0.8333333333333334,
           0.8809523809523809,
           0.8809523809523809,
           0.8095238095238095,
           0.8095238095238095,
           0.7380952380952381,
           0.7619047619047619,
           0.9285714285714286,
           0.8095238095238095,
           0.023809523809523808,
           0.023809523809523808,
           0.7619047619047619,
           0.9761904761904762,
           0.9761904761904762,
           0.7142857142857143,
           0.7142857142857143,
           0.023809523809523808,
           0.9761904761904762,
           0.9761904761904762,
           0.9761904761904762,
           0.9285714285714286,
           0.7142857142857143,
           0.9761904761904762,
           0.7619047619047619,
           0.7619047619047619,
           0.9761904761904762,
           0.7857142857142857,
           0.7619047619047619,
           0.8095238095238095,
           0.8095238095238095,
           0.8571428571428571,
           0.7380952380952381,
           0.9761904761904762,
           0.9047619047619048,
           0.9047619047619048,
           0.9047619047619048,
           0.7857142857142857,
           0.8571428571428571,
           0.023809523809523808,
           0.7142857142857143,
           0.023809523809523808,
           0.7857142857142857,
           0.9523809523809523,
           0.2857142857142857,
           0.8809523809523809,
           0.9285714285714286,
           0.7619047619047619,
           0.5,
           0.8571428571428571,
           0.7619047619047619,
           0.8809523809523809,
           0.7142857142857143,
           0.7380952380952381,
           0.16666666666666666,
           0.7142857142857143,
           0.7619047619047619,
           0.7857142857142857,
           0.023809523809523808,
           0.7619047619047619,
           0.8809523809523809,
           0.7380952380952381,
           0.7380952380952381,
           0.5476190476190477,
           0.23809523809523808,
           0.023809523809523808,
           0.19047619047619047,
           0.09523809523809523,
           0.07142857142857142,
           0.9761904761904762,
           0.9761904761904762,
           0.7857142857142857,
           0.7619047619047619,
           0.16666666666666666,
           0.19047619047619047,
           0.023809523809523808,
           0.9761904761904762,
           0.9761904761904762,
           0.9761904761904762,
           0.7380952380952381,
           0.9285714285714286,
           0.7142857142857143,
           0.9761904761904762,
           0.9761904761904762,
           0.9761904761904762,
           0.9761904761904762,
           0.8809523809523809,
           0.7619047619047619,
           0.9761904761904762,
           0.9761904761904762,
           0.8809523809523809,
           0.8333333333333334,
           0.8809523809523809,
           0.9761904761904762,
           0.7857142857142857,
           0.8809523809523809,
           0.7857142857142857,
           0.7619047619047619,
           0.8095238095238095,
           0.9761904761904762,
           0.9047619047619048,
           0.5238095238095238,
           0.9761904761904762,
           0.9761904761904762,
           0.8095238095238095,
           0.7857142857142857,
           0.8095238095238095,
           0.8809523809523809,
           0.8571428571428571,
           0.9761904761904762,
           0.7380952380952381,
           0.8095238095238095,
           0.7857142857142857,
           0.7857142857142857,
           0.9761904761904762,
           0.023809523809523808,
           0.7380952380952381,
           0.9047619047619048,
           0.9761904761904762,
           0.9047619047619048,
           0.8333333333333334,
           0.7619047619047619,
           0.8095238095238095,
           0.9047619047619048,
           0.9285714285714286,
           0.9285714285714286,
           0.9761904761904762,
           0.7857142857142857,
           0.8571428571428571,
           0.8095238095238095,
           0.023809523809523808,
           0.7142857142857143,
           0.7380952380952381,
           0.8571428571428571,
           0.9285714285714286,
           0.7857142857142857,
           0.9761904761904762,
           0.7857142857142857,
           0.8571428571428571,
           0.9523809523809523,
           0.023809523809523808,
           0.2857142857142857,
           0.9761904761904762,
           0.8571428571428571,
           0.7619047619047619,
           0.023809523809523808,
           0.8095238095238095,
           0.7619047619047619,
           0.7619047619047619,
           0.5476190476190477,
           0.7380952380952381,
           0.8809523809523809,
           0.9285714285714286,
           0.7142857142857143,
           0.7619047619047619,
           0.5,
           0.8571428571428571,
           0.9285714285714286,
           0.7619047619047619,
           0.8571428571428571,
           0.7857142857142857,
           0.9047619047619048,
           0.9761904761904762,
           0.7142857142857143,
           0.7619047619047619,
           0.8571428571428571,
           0.8571428571428571,
           0.7619047619047619,
           0.7619047619047619,
           0.7380952380952381,
           0.9047619047619048,
           0.8809523809523809,
           0.7857142857142857,
           0.8809523809523809,
           0.023809523809523808,
           0.7142857142857143,
           0.7380952380952381,
           0.9047619047619048,
           0.9761904761904762,
           0.7142857142857143,
           0.023809523809523808,
           0.7857142857142857,
           0.9761904761904762,
           0.9523809523809523,
           0.7619047619047619,
           0.7857142857142857,
           0.8095238095238095,
           0.023809523809523808,
           0.023809523809523808,
           0.9761904761904762,
           0.8333333333333334,
           0.7142857142857143,
           0.9285714285714286,
           0.7619047619047619,
           0.9523809523809523,
           0.7380952380952381,
           0.6190476190476191,
           0.7380952380952381,
           0.7142857142857143,
           0.7857142857142857,
           0.7380952380952381,
           0.7380952380952381,
           0.7380952380952381,
           0.7142857142857143,
           0.7142857142857143,
           0.8333333333333334,
           0.7142857142857143,
           1,
           0.9285714285714286,
           0.8571428571428571,
           0.8571428571428571,
           0.5,
           0.7619047619047619,
           0.7142857142857143,
           0.8571428571428571,
           0.7142857142857143,
           0.2857142857142857,
           0.7857142857142857,
           0.6666666666666666,
           0.7619047619047619,
           0.38095238095238093,
           0.47619047619047616,
           0.023809523809523808,
           0.8571428571428571,
           0.3333333333333333,
           0.8571428571428571,
           0.7380952380952381,
           0.4523809523809524,
           0.8095238095238095,
           0.47619047619047616,
           0.5714285714285714,
           0.8571428571428571,
           0.8809523809523809,
           0.7142857142857143,
           0.7380952380952381,
           0.7619047619047619,
           0.7142857142857143,
           0.8333333333333334,
           0.8571428571428571,
           0.7619047619047619,
           0.5,
           0.09523809523809523,
           0.7380952380952381,
           0.7619047619047619,
           0.19047619047619047,
           0.8095238095238095,
           0.7857142857142857,
           0.8333333333333334,
           0.7380952380952381,
           0.47619047619047616,
           0.3333333333333333,
           0.023809523809523808,
           0.11904761904761904,
           0.5476190476190477,
           0.23809523809523808,
           0.7619047619047619,
           0.7380952380952381,
           0.7619047619047619,
           0.11904761904761904,
           0.023809523809523808,
           0.7380952380952381,
           0.8333333333333334,
           0.7619047619047619,
           0.7380952380952381,
           0.38095238095238093,
           0.5952380952380952,
           0.8095238095238095,
           0.8095238095238095,
           0.7142857142857143,
           0.35714285714285715,
           0.6190476190476191,
           0.023809523809523808,
           0.6428571428571429,
           0.35714285714285715,
           0.21428571428571427,
           0.2619047619047619,
           0.7380952380952381,
           0.6428571428571429,
           0.5952380952380952,
           0.19047619047619047,
           0.7142857142857143,
           0.19047619047619047,
           0.047619047619047616,
           0.023809523809523808,
           0.16666666666666666,
           0.38095238095238093,
           0.16666666666666666,
           0.023809523809523808,
           0.2619047619047619,
           0.5238095238095238,
           0.047619047619047616,
           0.023809523809523808,
           0.023809523809523808,
           0.11904761904761904,
           0.21428571428571427,
           0.023809523809523808,
           0.07142857142857142,
           0.023809523809523808,
           0.09523809523809523,
           0.8333333333333334,
           0.023809523809523808,
           0.023809523809523808,
           0.8809523809523809,
           0.7380952380952381,
           0.7619047619047619,
           0.16666666666666666,
           0.023809523809523808,
           0.023809523809523808,
           0.7619047619047619,
           0.8809523809523809,
           0.5476190476190477,
           0.3333333333333333,
           0.4523809523809524,
           0.40476190476190477,
           0.14285714285714285,
           0.07142857142857142,
           0.19047619047619047,
           0.30952380952380953,
           0.47619047619047616,
           0.023809523809523808,
           0.16666666666666666,
           0.07142857142857142,
           0.023809523809523808,
           0.07142857142857142,
           0.047619047619047616,
           0.047619047619047616,
           0.07142857142857142,
           0.047619047619047616,
           0.07142857142857142,
           0.047619047619047616,
           0.023809523809523808,
           0.07142857142857142,
           0.023809523809523808,
           0.047619047619047616,
           0.023809523809523808,
           0.023809523809523808,
           0.023809523809523808,
           0.023809523809523808,
           0.023809523809523808
          ],
          "size": [
           5.294517517089844,
           3.1093106269836426,
           2.577725410461426,
           7.427844524383545,
           4.143466949462891,
           1.9902009963989258,
           1.6526689529418945,
           1.8581528663635254,
           2.150787353515625,
           3.1253905296325684,
           9.895279884338379,
           4.263268947601318,
           3.543747663497925,
           1.730065941810608,
           2.2139151096343994,
           2.4809188842773438,
           3.014556646347046,
           2.563852310180664,
           2.743513822555542,
           2.017770767211914,
           1.850557565689087,
           1.9554791450500488,
           2.0771517753601074
          ],
          "sizemode": "area",
          "sizeref": 0.032671575546264646,
          "symbol": "circle"
         },
         "mode": "markers",
         "name": "moving stripes",
         "orientation": "v",
         "showlegend": true,
         "type": "scatter",
         "x": [
          67,
          67,
          62.9,
          74.27272727272727,
          59.5,
          55.02439024390244,
          78.26315789473684,
          79.76315789473684,
          67,
          66,
          71,
          71.375,
          74.23809523809524,
          92.4375,
          67.42857142857143,
          66,
          57.83870967741935,
          76,
          63.625,
          58,
          98,
          55.333333333333336,
          84
         ],
         "xaxis": "x",
         "y": [
          47,
          41,
          50.56666666666667,
          40.72727272727273,
          50.5,
          52.804878048780495,
          34.0263157894737,
          28.78947368421052,
          45,
          44,
          50.75,
          47.65625,
          43.04761904761905,
          23.9375,
          51.85714285714286,
          45.40625,
          50.03225806451613,
          47,
          49,
          49,
          33,
          26.666666666666657,
          27
         ],
         "yaxis": "y"
        },
        {
         "hovertemplate": "color=dots_ON<br>x=%{x}<br>y=%{y}<br>size=%{marker.size}<extra></extra>",
         "legendgroup": "dots_ON",
         "marker": {
          "color": "#EF553B",
          "opacity": [
           0.9761904761904762,
           0.9285714285714286,
           0.7142857142857143,
           0.7857142857142857,
           0.7619047619047619,
           0.9761904761904762,
           0.9047619047619048,
           0.9047619047619048,
           0.023809523809523808,
           0.023809523809523808,
           0.2857142857142857,
           0.7619047619047619,
           0.5,
           0.7619047619047619,
           0.16666666666666666,
           0.7619047619047619,
           0.7380952380952381,
           0.023809523809523808,
           0.19047619047619047,
           0.023809523809523808,
           0.023809523809523808,
           0.07142857142857142,
           0.023809523809523808,
           0.9761904761904762,
           0.9761904761904762,
           0.8333333333333334,
           0.8809523809523809,
           0.8809523809523809,
           0.8095238095238095,
           0.8095238095238095,
           0.7380952380952381,
           0.7619047619047619,
           0.9285714285714286,
           0.8095238095238095,
           0.023809523809523808,
           0.023809523809523808,
           0.7619047619047619,
           0.9761904761904762,
           0.9761904761904762,
           0.7142857142857143,
           0.7142857142857143,
           0.023809523809523808,
           0.9761904761904762,
           0.9761904761904762,
           0.9761904761904762,
           0.9285714285714286,
           0.7142857142857143,
           0.9761904761904762,
           0.7619047619047619,
           0.7619047619047619,
           0.9761904761904762,
           0.7857142857142857,
           0.7619047619047619,
           0.8095238095238095,
           0.8095238095238095,
           0.8571428571428571,
           0.7380952380952381,
           0.9761904761904762,
           0.9047619047619048,
           0.9047619047619048,
           0.9047619047619048,
           0.7857142857142857,
           0.8571428571428571,
           0.023809523809523808,
           0.7142857142857143,
           0.023809523809523808,
           0.7857142857142857,
           0.9523809523809523,
           0.2857142857142857,
           0.8809523809523809,
           0.9285714285714286,
           0.7619047619047619,
           0.5,
           0.8571428571428571,
           0.7619047619047619,
           0.8809523809523809,
           0.7142857142857143,
           0.7380952380952381,
           0.16666666666666666,
           0.7142857142857143,
           0.7619047619047619,
           0.7857142857142857,
           0.023809523809523808,
           0.7619047619047619,
           0.8809523809523809,
           0.7380952380952381,
           0.7380952380952381,
           0.5476190476190477,
           0.23809523809523808,
           0.023809523809523808,
           0.19047619047619047,
           0.09523809523809523,
           0.07142857142857142,
           0.9761904761904762,
           0.9761904761904762,
           0.7857142857142857,
           0.7619047619047619,
           0.16666666666666666,
           0.19047619047619047,
           0.023809523809523808,
           0.9761904761904762,
           0.9761904761904762,
           0.9761904761904762,
           0.7380952380952381,
           0.9285714285714286,
           0.7142857142857143,
           0.9761904761904762,
           0.9761904761904762,
           0.9761904761904762,
           0.9761904761904762,
           0.8809523809523809,
           0.7619047619047619,
           0.9761904761904762,
           0.9761904761904762,
           0.8809523809523809,
           0.8333333333333334,
           0.8809523809523809,
           0.9761904761904762,
           0.7857142857142857,
           0.8809523809523809,
           0.7857142857142857,
           0.7619047619047619,
           0.8095238095238095,
           0.9761904761904762,
           0.9047619047619048,
           0.5238095238095238,
           0.9761904761904762,
           0.9761904761904762,
           0.8095238095238095,
           0.7857142857142857,
           0.8095238095238095,
           0.8809523809523809,
           0.8571428571428571,
           0.9761904761904762,
           0.7380952380952381,
           0.8095238095238095,
           0.7857142857142857,
           0.7857142857142857,
           0.9761904761904762,
           0.023809523809523808,
           0.7380952380952381,
           0.9047619047619048,
           0.9761904761904762,
           0.9047619047619048,
           0.8333333333333334,
           0.7619047619047619,
           0.8095238095238095,
           0.9047619047619048,
           0.9285714285714286,
           0.9285714285714286,
           0.9761904761904762,
           0.7857142857142857,
           0.8571428571428571,
           0.8095238095238095,
           0.023809523809523808,
           0.7142857142857143,
           0.7380952380952381,
           0.8571428571428571,
           0.9285714285714286,
           0.7857142857142857,
           0.9761904761904762,
           0.7857142857142857,
           0.8571428571428571,
           0.9523809523809523,
           0.023809523809523808,
           0.2857142857142857,
           0.9761904761904762,
           0.8571428571428571,
           0.7619047619047619,
           0.023809523809523808,
           0.8095238095238095,
           0.7619047619047619,
           0.7619047619047619,
           0.5476190476190477,
           0.7380952380952381,
           0.8809523809523809,
           0.9285714285714286,
           0.7142857142857143,
           0.7619047619047619,
           0.5,
           0.8571428571428571,
           0.9285714285714286,
           0.7619047619047619,
           0.8571428571428571,
           0.7857142857142857,
           0.9047619047619048,
           0.9761904761904762,
           0.7142857142857143,
           0.7619047619047619,
           0.8571428571428571,
           0.8571428571428571,
           0.7619047619047619,
           0.7619047619047619,
           0.7380952380952381,
           0.9047619047619048,
           0.8809523809523809,
           0.7857142857142857,
           0.8809523809523809,
           0.023809523809523808,
           0.7142857142857143,
           0.7380952380952381,
           0.9047619047619048,
           0.9761904761904762,
           0.7142857142857143,
           0.023809523809523808,
           0.7857142857142857,
           0.9761904761904762,
           0.9523809523809523,
           0.7619047619047619,
           0.7857142857142857,
           0.8095238095238095,
           0.023809523809523808,
           0.023809523809523808,
           0.9761904761904762,
           0.8333333333333334,
           0.7142857142857143,
           0.9285714285714286,
           0.7619047619047619,
           0.9523809523809523,
           0.7380952380952381,
           0.6190476190476191,
           0.7380952380952381,
           0.7142857142857143,
           0.7857142857142857,
           0.7380952380952381,
           0.7380952380952381,
           0.7380952380952381,
           0.7142857142857143,
           0.7142857142857143,
           0.8333333333333334,
           0.7142857142857143,
           1,
           0.9285714285714286,
           0.8571428571428571,
           0.8571428571428571,
           0.5,
           0.7619047619047619,
           0.7142857142857143,
           0.8571428571428571,
           0.7142857142857143,
           0.2857142857142857,
           0.7857142857142857,
           0.6666666666666666,
           0.7619047619047619,
           0.38095238095238093,
           0.47619047619047616,
           0.023809523809523808,
           0.8571428571428571,
           0.3333333333333333,
           0.8571428571428571,
           0.7380952380952381,
           0.4523809523809524,
           0.8095238095238095,
           0.47619047619047616,
           0.5714285714285714,
           0.8571428571428571,
           0.8809523809523809,
           0.7142857142857143,
           0.7380952380952381,
           0.7619047619047619,
           0.7142857142857143,
           0.8333333333333334,
           0.8571428571428571,
           0.7619047619047619,
           0.5,
           0.09523809523809523,
           0.7380952380952381,
           0.7619047619047619,
           0.19047619047619047,
           0.8095238095238095,
           0.7857142857142857,
           0.8333333333333334,
           0.7380952380952381,
           0.47619047619047616,
           0.3333333333333333,
           0.023809523809523808,
           0.11904761904761904,
           0.5476190476190477,
           0.23809523809523808,
           0.7619047619047619,
           0.7380952380952381,
           0.7619047619047619,
           0.11904761904761904,
           0.023809523809523808,
           0.7380952380952381,
           0.8333333333333334,
           0.7619047619047619,
           0.7380952380952381,
           0.38095238095238093,
           0.5952380952380952,
           0.8095238095238095,
           0.8095238095238095,
           0.7142857142857143,
           0.35714285714285715,
           0.6190476190476191,
           0.023809523809523808,
           0.6428571428571429,
           0.35714285714285715,
           0.21428571428571427,
           0.2619047619047619,
           0.7380952380952381,
           0.6428571428571429,
           0.5952380952380952,
           0.19047619047619047,
           0.7142857142857143,
           0.19047619047619047,
           0.047619047619047616,
           0.023809523809523808,
           0.16666666666666666,
           0.38095238095238093,
           0.16666666666666666,
           0.023809523809523808,
           0.2619047619047619,
           0.5238095238095238,
           0.047619047619047616,
           0.023809523809523808,
           0.023809523809523808,
           0.11904761904761904,
           0.21428571428571427,
           0.023809523809523808,
           0.07142857142857142,
           0.023809523809523808,
           0.09523809523809523,
           0.8333333333333334,
           0.023809523809523808,
           0.023809523809523808,
           0.8809523809523809,
           0.7380952380952381,
           0.7619047619047619,
           0.16666666666666666,
           0.023809523809523808,
           0.023809523809523808,
           0.7619047619047619,
           0.8809523809523809,
           0.5476190476190477,
           0.3333333333333333,
           0.4523809523809524,
           0.40476190476190477,
           0.14285714285714285,
           0.07142857142857142,
           0.19047619047619047,
           0.30952380952380953,
           0.47619047619047616,
           0.023809523809523808,
           0.16666666666666666,
           0.07142857142857142,
           0.023809523809523808,
           0.07142857142857142,
           0.047619047619047616,
           0.047619047619047616,
           0.07142857142857142,
           0.047619047619047616,
           0.07142857142857142,
           0.047619047619047616,
           0.023809523809523808,
           0.07142857142857142,
           0.023809523809523808,
           0.047619047619047616,
           0.023809523809523808,
           0.023809523809523808,
           0.023809523809523808,
           0.023809523809523808,
           0.023809523809523808
          ],
          "size": [
           4.235620498657227,
           1.5937209129333496,
           1.52773118019104,
           2.0870425701141357,
           4.628746509552002,
           1.806147813796997,
           1.5425441265106201,
           2.347661256790161,
           3.092153310775757,
           1.3508713245391846,
           1.460023045539856,
           2.178907632827759,
           1.752389907836914,
           1.9112114906311035,
           2.744274139404297,
           1.9767261743545532,
           2.6125524044036865,
           1.4444491863250732,
           1.7098324298858643,
           8.42481517791748,
           8.297382354736328,
           3.5709166526794434,
           3.4727494716644287,
           5.928927421569824,
           11.772180557250977,
           7.838544845581055,
           4.305970191955566,
           2.3458662033081055,
           9.679024696350098,
           4.958643913269043,
           7.323162078857422,
           4.666014194488525,
           2.2567903995513916,
           2.232862949371338,
           2.8164634704589844,
           2.0780625343322754,
           2.915302276611328,
           3.091538190841675,
           2.8354647159576416,
           4.386618614196777,
           2.074949264526367,
           1.8102768659591675,
           2.636770725250244,
           4.134169101715088,
           5.071809768676758,
           9.927506446838379,
           2.1067023277282715,
           1.9380221366882324,
           3.077915668487549,
           2.8446645736694336,
           2.6735787391662598,
           2.481127977371216,
           3.095690965652466,
           3.44006609916687,
           3.0076005458831787,
           5.286747932434082,
           4.418164253234863,
           2.6375629901885986,
           1.6721198558807373,
           2.1291966438293457,
           1.8243522644042969,
           2.4942333698272705,
           3.0882885456085205,
           3.536489248275757,
           3.446601390838623,
           2.634220838546753,
           2.03558087348938,
           2.689243793487549,
           1.7833250761032104,
           2.030829668045044
          ],
          "sizemode": "area",
          "sizeref": 0.032671575546264646,
          "symbol": "circle"
         },
         "mode": "markers",
         "name": "dots_ON",
         "orientation": "v",
         "showlegend": true,
         "type": "scatter",
         "x": [
          31,
          32,
          32.08571428571429,
          25.72972972972973,
          24.83783783783784,
          23.852941176470587,
          36.294117647058826,
          30,
          20.5,
          24,
          36.14705882352941,
          24,
          29,
          33.75,
          30,
          38,
          32.03333333333333,
          34.266666666666666,
          47,
          67,
          70,
          79,
          67,
          62.9,
          64,
          70.375,
          83.5,
          65,
          74.27272727272727,
          59.5,
          51.705882352941174,
          86.32352941176471,
          80.72222222222223,
          70.03225806451613,
          55.02439024390244,
          61.973684210526315,
          78.26315789473684,
          79.76315789473684,
          61.72727272727273,
          77.05555555555556,
          67,
          63.63333333333333,
          66,
          49.72727272727273,
          59,
          71,
          56.729729729729726,
          84.17948717948718,
          71.375,
          74.23809523809524,
          45.388888888888886,
          59.5,
          75.91891891891892,
          56.13333333333333,
          70.96774193548387,
          67.42857142857143,
          84.5,
          66,
          59.45454545454545,
          84,
          84,
          27.16216216216216,
          57.83870967741935,
          30.64516129032258,
          23.26086956521739,
          51.7,
          77,
          63.625,
          27.5,
          61.333333333333336
         ],
         "xaxis": "x",
         "y": [
          31,
          56,
          58.51428571428571,
          27.83783783783784,
          55.81081081081081,
          33.29411764705881,
          35.14705882352942,
          38.61290322580646,
          52.5,
          40,
          20.705882352941188,
          46,
          26,
          44.375,
          31,
          26,
          38.69999999999999,
          39.93333333333334,
          27,
          47,
          36,
          31,
          41,
          50.56666666666667,
          47,
          31.09375,
          27.5,
          35,
          40.72727272727273,
          50.5,
          30.14705882352942,
          34.44117647058823,
          34.27777777777777,
          39.258064516129025,
          52.804878048780495,
          30.18421052631578,
          34.0263157894737,
          28.78947368421052,
          39.27272727272728,
          39.111111111111114,
          45,
          37.53333333333333,
          44,
          34.27272727272728,
          53.9,
          50.75,
          34.16216216216216,
          18.97435897435895,
          47.65625,
          43.04761904761905,
          29.444444444444457,
          33.5,
          40.16216216216219,
          38.33333333333334,
          45.225806451612925,
          51.85714285714286,
          26.69999999999999,
          45.40625,
          44.24242424242425,
          37,
          36.90625,
          27,
          50.03225806451613,
          22.774193548387103,
          23.52173913043478,
          33.30000000000001,
          46,
          49,
          19,
          45.33333333333334
         ],
         "yaxis": "y"
        },
        {
         "hovertemplate": "color=dots_OFF<br>x=%{x}<br>y=%{y}<br>size=%{marker.size}<extra></extra>",
         "legendgroup": "dots_OFF",
         "marker": {
          "color": "#00cc96",
          "opacity": [
           0.9761904761904762,
           0.9285714285714286,
           0.7142857142857143,
           0.7857142857142857,
           0.7619047619047619,
           0.9761904761904762,
           0.9047619047619048,
           0.9047619047619048,
           0.023809523809523808,
           0.023809523809523808,
           0.2857142857142857,
           0.7619047619047619,
           0.5,
           0.7619047619047619,
           0.16666666666666666,
           0.7619047619047619,
           0.7380952380952381,
           0.023809523809523808,
           0.19047619047619047,
           0.023809523809523808,
           0.023809523809523808,
           0.07142857142857142,
           0.023809523809523808,
           0.9761904761904762,
           0.9761904761904762,
           0.8333333333333334,
           0.8809523809523809,
           0.8809523809523809,
           0.8095238095238095,
           0.8095238095238095,
           0.7380952380952381,
           0.7619047619047619,
           0.9285714285714286,
           0.8095238095238095,
           0.023809523809523808,
           0.023809523809523808,
           0.7619047619047619,
           0.9761904761904762,
           0.9761904761904762,
           0.7142857142857143,
           0.7142857142857143,
           0.023809523809523808,
           0.9761904761904762,
           0.9761904761904762,
           0.9761904761904762,
           0.9285714285714286,
           0.7142857142857143,
           0.9761904761904762,
           0.7619047619047619,
           0.7619047619047619,
           0.9761904761904762,
           0.7857142857142857,
           0.7619047619047619,
           0.8095238095238095,
           0.8095238095238095,
           0.8571428571428571,
           0.7380952380952381,
           0.9761904761904762,
           0.9047619047619048,
           0.9047619047619048,
           0.9047619047619048,
           0.7857142857142857,
           0.8571428571428571,
           0.023809523809523808,
           0.7142857142857143,
           0.023809523809523808,
           0.7857142857142857,
           0.9523809523809523,
           0.2857142857142857,
           0.8809523809523809,
           0.9285714285714286,
           0.7619047619047619,
           0.5,
           0.8571428571428571,
           0.7619047619047619,
           0.8809523809523809,
           0.7142857142857143,
           0.7380952380952381,
           0.16666666666666666,
           0.7142857142857143,
           0.7619047619047619,
           0.7857142857142857,
           0.023809523809523808,
           0.7619047619047619,
           0.8809523809523809,
           0.7380952380952381,
           0.7380952380952381,
           0.5476190476190477,
           0.23809523809523808,
           0.023809523809523808,
           0.19047619047619047,
           0.09523809523809523,
           0.07142857142857142,
           0.9761904761904762,
           0.9761904761904762,
           0.7857142857142857,
           0.7619047619047619,
           0.16666666666666666,
           0.19047619047619047,
           0.023809523809523808,
           0.9761904761904762,
           0.9761904761904762,
           0.9761904761904762,
           0.7380952380952381,
           0.9285714285714286,
           0.7142857142857143,
           0.9761904761904762,
           0.9761904761904762,
           0.9761904761904762,
           0.9761904761904762,
           0.8809523809523809,
           0.7619047619047619,
           0.9761904761904762,
           0.9761904761904762,
           0.8809523809523809,
           0.8333333333333334,
           0.8809523809523809,
           0.9761904761904762,
           0.7857142857142857,
           0.8809523809523809,
           0.7857142857142857,
           0.7619047619047619,
           0.8095238095238095,
           0.9761904761904762,
           0.9047619047619048,
           0.5238095238095238,
           0.9761904761904762,
           0.9761904761904762,
           0.8095238095238095,
           0.7857142857142857,
           0.8095238095238095,
           0.8809523809523809,
           0.8571428571428571,
           0.9761904761904762,
           0.7380952380952381,
           0.8095238095238095,
           0.7857142857142857,
           0.7857142857142857,
           0.9761904761904762,
           0.023809523809523808,
           0.7380952380952381,
           0.9047619047619048,
           0.9761904761904762,
           0.9047619047619048,
           0.8333333333333334,
           0.7619047619047619,
           0.8095238095238095,
           0.9047619047619048,
           0.9285714285714286,
           0.9285714285714286,
           0.9761904761904762,
           0.7857142857142857,
           0.8571428571428571,
           0.8095238095238095,
           0.023809523809523808,
           0.7142857142857143,
           0.7380952380952381,
           0.8571428571428571,
           0.9285714285714286,
           0.7857142857142857,
           0.9761904761904762,
           0.7857142857142857,
           0.8571428571428571,
           0.9523809523809523,
           0.023809523809523808,
           0.2857142857142857,
           0.9761904761904762,
           0.8571428571428571,
           0.7619047619047619,
           0.023809523809523808,
           0.8095238095238095,
           0.7619047619047619,
           0.7619047619047619,
           0.5476190476190477,
           0.7380952380952381,
           0.8809523809523809,
           0.9285714285714286,
           0.7142857142857143,
           0.7619047619047619,
           0.5,
           0.8571428571428571,
           0.9285714285714286,
           0.7619047619047619,
           0.8571428571428571,
           0.7857142857142857,
           0.9047619047619048,
           0.9761904761904762,
           0.7142857142857143,
           0.7619047619047619,
           0.8571428571428571,
           0.8571428571428571,
           0.7619047619047619,
           0.7619047619047619,
           0.7380952380952381,
           0.9047619047619048,
           0.8809523809523809,
           0.7857142857142857,
           0.8809523809523809,
           0.023809523809523808,
           0.7142857142857143,
           0.7380952380952381,
           0.9047619047619048,
           0.9761904761904762,
           0.7142857142857143,
           0.023809523809523808,
           0.7857142857142857,
           0.9761904761904762,
           0.9523809523809523,
           0.7619047619047619,
           0.7857142857142857,
           0.8095238095238095,
           0.023809523809523808,
           0.023809523809523808,
           0.9761904761904762,
           0.8333333333333334,
           0.7142857142857143,
           0.9285714285714286,
           0.7619047619047619,
           0.9523809523809523,
           0.7380952380952381,
           0.6190476190476191,
           0.7380952380952381,
           0.7142857142857143,
           0.7857142857142857,
           0.7380952380952381,
           0.7380952380952381,
           0.7380952380952381,
           0.7142857142857143,
           0.7142857142857143,
           0.8333333333333334,
           0.7142857142857143,
           1,
           0.9285714285714286,
           0.8571428571428571,
           0.8571428571428571,
           0.5,
           0.7619047619047619,
           0.7142857142857143,
           0.8571428571428571,
           0.7142857142857143,
           0.2857142857142857,
           0.7857142857142857,
           0.6666666666666666,
           0.7619047619047619,
           0.38095238095238093,
           0.47619047619047616,
           0.023809523809523808,
           0.8571428571428571,
           0.3333333333333333,
           0.8571428571428571,
           0.7380952380952381,
           0.4523809523809524,
           0.8095238095238095,
           0.47619047619047616,
           0.5714285714285714,
           0.8571428571428571,
           0.8809523809523809,
           0.7142857142857143,
           0.7380952380952381,
           0.7619047619047619,
           0.7142857142857143,
           0.8333333333333334,
           0.8571428571428571,
           0.7619047619047619,
           0.5,
           0.09523809523809523,
           0.7380952380952381,
           0.7619047619047619,
           0.19047619047619047,
           0.8095238095238095,
           0.7857142857142857,
           0.8333333333333334,
           0.7380952380952381,
           0.47619047619047616,
           0.3333333333333333,
           0.023809523809523808,
           0.11904761904761904,
           0.5476190476190477,
           0.23809523809523808,
           0.7619047619047619,
           0.7380952380952381,
           0.7619047619047619,
           0.11904761904761904,
           0.023809523809523808,
           0.7380952380952381,
           0.8333333333333334,
           0.7619047619047619,
           0.7380952380952381,
           0.38095238095238093,
           0.5952380952380952,
           0.8095238095238095,
           0.8095238095238095,
           0.7142857142857143,
           0.35714285714285715,
           0.6190476190476191,
           0.023809523809523808,
           0.6428571428571429,
           0.35714285714285715,
           0.21428571428571427,
           0.2619047619047619,
           0.7380952380952381,
           0.6428571428571429,
           0.5952380952380952,
           0.19047619047619047,
           0.7142857142857143,
           0.19047619047619047,
           0.047619047619047616,
           0.023809523809523808,
           0.16666666666666666,
           0.38095238095238093,
           0.16666666666666666,
           0.023809523809523808,
           0.2619047619047619,
           0.5238095238095238,
           0.047619047619047616,
           0.023809523809523808,
           0.023809523809523808,
           0.11904761904761904,
           0.21428571428571427,
           0.023809523809523808,
           0.07142857142857142,
           0.023809523809523808,
           0.09523809523809523,
           0.8333333333333334,
           0.023809523809523808,
           0.023809523809523808,
           0.8809523809523809,
           0.7380952380952381,
           0.7619047619047619,
           0.16666666666666666,
           0.023809523809523808,
           0.023809523809523808,
           0.7619047619047619,
           0.8809523809523809,
           0.5476190476190477,
           0.3333333333333333,
           0.4523809523809524,
           0.40476190476190477,
           0.14285714285714285,
           0.07142857142857142,
           0.19047619047619047,
           0.30952380952380953,
           0.47619047619047616,
           0.023809523809523808,
           0.16666666666666666,
           0.07142857142857142,
           0.023809523809523808,
           0.07142857142857142,
           0.047619047619047616,
           0.047619047619047616,
           0.07142857142857142,
           0.047619047619047616,
           0.07142857142857142,
           0.047619047619047616,
           0.023809523809523808,
           0.07142857142857142,
           0.023809523809523808,
           0.047619047619047616,
           0.023809523809523808,
           0.023809523809523808,
           0.023809523809523808,
           0.023809523809523808,
           0.023809523809523808
          ],
          "size": [
           1.3679628372192383,
           4.963944911956787,
           5.124996662139893,
           2.824368476867676,
           1.7015621662139893,
           1.848413109779358,
           1.9778163433074951
          ],
          "sizemode": "area",
          "sizeref": 0.032671575546264646,
          "symbol": "circle"
         },
         "mode": "markers",
         "name": "dots_OFF",
         "orientation": "v",
         "showlegend": true,
         "type": "scatter",
         "x": [
          67,
          64,
          74.27272727272727,
          71.375,
          67.42857142857143,
          63.625,
          56
         ],
         "xaxis": "x",
         "y": [
          47,
          47,
          40.72727272727273,
          47.65625,
          51.85714285714286,
          49,
          7
         ],
         "yaxis": "y"
        },
        {
         "hovertemplate": "color=loom<br>x=%{x}<br>y=%{y}<br>size=%{marker.size}<extra></extra>",
         "legendgroup": "loom",
         "marker": {
          "color": "#ab63fa",
          "opacity": [
           0.9761904761904762,
           0.9285714285714286,
           0.7142857142857143,
           0.7857142857142857,
           0.7619047619047619,
           0.9761904761904762,
           0.9047619047619048,
           0.9047619047619048,
           0.023809523809523808,
           0.023809523809523808,
           0.2857142857142857,
           0.7619047619047619,
           0.5,
           0.7619047619047619,
           0.16666666666666666,
           0.7619047619047619,
           0.7380952380952381,
           0.023809523809523808,
           0.19047619047619047,
           0.023809523809523808,
           0.023809523809523808,
           0.07142857142857142,
           0.023809523809523808,
           0.9761904761904762,
           0.9761904761904762,
           0.8333333333333334,
           0.8809523809523809,
           0.8809523809523809,
           0.8095238095238095,
           0.8095238095238095,
           0.7380952380952381,
           0.7619047619047619,
           0.9285714285714286,
           0.8095238095238095,
           0.023809523809523808,
           0.023809523809523808,
           0.7619047619047619,
           0.9761904761904762,
           0.9761904761904762,
           0.7142857142857143,
           0.7142857142857143,
           0.023809523809523808,
           0.9761904761904762,
           0.9761904761904762,
           0.9761904761904762,
           0.9285714285714286,
           0.7142857142857143,
           0.9761904761904762,
           0.7619047619047619,
           0.7619047619047619,
           0.9761904761904762,
           0.7857142857142857,
           0.7619047619047619,
           0.8095238095238095,
           0.8095238095238095,
           0.8571428571428571,
           0.7380952380952381,
           0.9761904761904762,
           0.9047619047619048,
           0.9047619047619048,
           0.9047619047619048,
           0.7857142857142857,
           0.8571428571428571,
           0.023809523809523808,
           0.7142857142857143,
           0.023809523809523808,
           0.7857142857142857,
           0.9523809523809523,
           0.2857142857142857,
           0.8809523809523809,
           0.9285714285714286,
           0.7619047619047619,
           0.5,
           0.8571428571428571,
           0.7619047619047619,
           0.8809523809523809,
           0.7142857142857143,
           0.7380952380952381,
           0.16666666666666666,
           0.7142857142857143,
           0.7619047619047619,
           0.7857142857142857,
           0.023809523809523808,
           0.7619047619047619,
           0.8809523809523809,
           0.7380952380952381,
           0.7380952380952381,
           0.5476190476190477,
           0.23809523809523808,
           0.023809523809523808,
           0.19047619047619047,
           0.09523809523809523,
           0.07142857142857142,
           0.9761904761904762,
           0.9761904761904762,
           0.7857142857142857,
           0.7619047619047619,
           0.16666666666666666,
           0.19047619047619047,
           0.023809523809523808,
           0.9761904761904762,
           0.9761904761904762,
           0.9761904761904762,
           0.7380952380952381,
           0.9285714285714286,
           0.7142857142857143,
           0.9761904761904762,
           0.9761904761904762,
           0.9761904761904762,
           0.9761904761904762,
           0.8809523809523809,
           0.7619047619047619,
           0.9761904761904762,
           0.9761904761904762,
           0.8809523809523809,
           0.8333333333333334,
           0.8809523809523809,
           0.9761904761904762,
           0.7857142857142857,
           0.8809523809523809,
           0.7857142857142857,
           0.7619047619047619,
           0.8095238095238095,
           0.9761904761904762,
           0.9047619047619048,
           0.5238095238095238,
           0.9761904761904762,
           0.9761904761904762,
           0.8095238095238095,
           0.7857142857142857,
           0.8095238095238095,
           0.8809523809523809,
           0.8571428571428571,
           0.9761904761904762,
           0.7380952380952381,
           0.8095238095238095,
           0.7857142857142857,
           0.7857142857142857,
           0.9761904761904762,
           0.023809523809523808,
           0.7380952380952381,
           0.9047619047619048,
           0.9761904761904762,
           0.9047619047619048,
           0.8333333333333334,
           0.7619047619047619,
           0.8095238095238095,
           0.9047619047619048,
           0.9285714285714286,
           0.9285714285714286,
           0.9761904761904762,
           0.7857142857142857,
           0.8571428571428571,
           0.8095238095238095,
           0.023809523809523808,
           0.7142857142857143,
           0.7380952380952381,
           0.8571428571428571,
           0.9285714285714286,
           0.7857142857142857,
           0.9761904761904762,
           0.7857142857142857,
           0.8571428571428571,
           0.9523809523809523,
           0.023809523809523808,
           0.2857142857142857,
           0.9761904761904762,
           0.8571428571428571,
           0.7619047619047619,
           0.023809523809523808,
           0.8095238095238095,
           0.7619047619047619,
           0.7619047619047619,
           0.5476190476190477,
           0.7380952380952381,
           0.8809523809523809,
           0.9285714285714286,
           0.7142857142857143,
           0.7619047619047619,
           0.5,
           0.8571428571428571,
           0.9285714285714286,
           0.7619047619047619,
           0.8571428571428571,
           0.7857142857142857,
           0.9047619047619048,
           0.9761904761904762,
           0.7142857142857143,
           0.7619047619047619,
           0.8571428571428571,
           0.8571428571428571,
           0.7619047619047619,
           0.7619047619047619,
           0.7380952380952381,
           0.9047619047619048,
           0.8809523809523809,
           0.7857142857142857,
           0.8809523809523809,
           0.023809523809523808,
           0.7142857142857143,
           0.7380952380952381,
           0.9047619047619048,
           0.9761904761904762,
           0.7142857142857143,
           0.023809523809523808,
           0.7857142857142857,
           0.9761904761904762,
           0.9523809523809523,
           0.7619047619047619,
           0.7857142857142857,
           0.8095238095238095,
           0.023809523809523808,
           0.023809523809523808,
           0.9761904761904762,
           0.8333333333333334,
           0.7142857142857143,
           0.9285714285714286,
           0.7619047619047619,
           0.9523809523809523,
           0.7380952380952381,
           0.6190476190476191,
           0.7380952380952381,
           0.7142857142857143,
           0.7857142857142857,
           0.7380952380952381,
           0.7380952380952381,
           0.7380952380952381,
           0.7142857142857143,
           0.7142857142857143,
           0.8333333333333334,
           0.7142857142857143,
           1,
           0.9285714285714286,
           0.8571428571428571,
           0.8571428571428571,
           0.5,
           0.7619047619047619,
           0.7142857142857143,
           0.8571428571428571,
           0.7142857142857143,
           0.2857142857142857,
           0.7857142857142857,
           0.6666666666666666,
           0.7619047619047619,
           0.38095238095238093,
           0.47619047619047616,
           0.023809523809523808,
           0.8571428571428571,
           0.3333333333333333,
           0.8571428571428571,
           0.7380952380952381,
           0.4523809523809524,
           0.8095238095238095,
           0.47619047619047616,
           0.5714285714285714,
           0.8571428571428571,
           0.8809523809523809,
           0.7142857142857143,
           0.7380952380952381,
           0.7619047619047619,
           0.7142857142857143,
           0.8333333333333334,
           0.8571428571428571,
           0.7619047619047619,
           0.5,
           0.09523809523809523,
           0.7380952380952381,
           0.7619047619047619,
           0.19047619047619047,
           0.8095238095238095,
           0.7857142857142857,
           0.8333333333333334,
           0.7380952380952381,
           0.47619047619047616,
           0.3333333333333333,
           0.023809523809523808,
           0.11904761904761904,
           0.5476190476190477,
           0.23809523809523808,
           0.7619047619047619,
           0.7380952380952381,
           0.7619047619047619,
           0.11904761904761904,
           0.023809523809523808,
           0.7380952380952381,
           0.8333333333333334,
           0.7619047619047619,
           0.7380952380952381,
           0.38095238095238093,
           0.5952380952380952,
           0.8095238095238095,
           0.8095238095238095,
           0.7142857142857143,
           0.35714285714285715,
           0.6190476190476191,
           0.023809523809523808,
           0.6428571428571429,
           0.35714285714285715,
           0.21428571428571427,
           0.2619047619047619,
           0.7380952380952381,
           0.6428571428571429,
           0.5952380952380952,
           0.19047619047619047,
           0.7142857142857143,
           0.19047619047619047,
           0.047619047619047616,
           0.023809523809523808,
           0.16666666666666666,
           0.38095238095238093,
           0.16666666666666666,
           0.023809523809523808,
           0.2619047619047619,
           0.5238095238095238,
           0.047619047619047616,
           0.023809523809523808,
           0.023809523809523808,
           0.11904761904761904,
           0.21428571428571427,
           0.023809523809523808,
           0.07142857142857142,
           0.023809523809523808,
           0.09523809523809523,
           0.8333333333333334,
           0.023809523809523808,
           0.023809523809523808,
           0.8809523809523809,
           0.7380952380952381,
           0.7619047619047619,
           0.16666666666666666,
           0.023809523809523808,
           0.023809523809523808,
           0.7619047619047619,
           0.8809523809523809,
           0.5476190476190477,
           0.3333333333333333,
           0.4523809523809524,
           0.40476190476190477,
           0.14285714285714285,
           0.07142857142857142,
           0.19047619047619047,
           0.30952380952380953,
           0.47619047619047616,
           0.023809523809523808,
           0.16666666666666666,
           0.07142857142857142,
           0.023809523809523808,
           0.07142857142857142,
           0.047619047619047616,
           0.047619047619047616,
           0.07142857142857142,
           0.047619047619047616,
           0.07142857142857142,
           0.047619047619047616,
           0.023809523809523808,
           0.07142857142857142,
           0.023809523809523808,
           0.047619047619047616,
           0.023809523809523808,
           0.023809523809523808,
           0.023809523809523808,
           0.023809523809523808,
           0.023809523809523808
          ],
          "size": [
           5.169304370880127,
           12.383881568908691,
           2.950728416442871,
           3.2394394874572754,
           5.797037601470947,
           3.491334915161133,
           7.946142196655273,
           4.886739730834961,
           1.9125020503997803,
           3.3031857013702393,
           7.527618885040283,
           11.443883895874023,
           12.023859024047852,
           3.7651724815368652,
           4.667210102081299,
           3.210320472717285,
           8.56594467163086,
           4.915120601654053,
           7.699710845947266,
           8.036958694458008,
           2.5940656661987305,
           3.6015379428863525,
           9.078606605529785,
           5.807929992675781,
           7.813838958740234,
           6.740826606750488,
           5.033555030822754,
           5.155589580535889,
           5.870794296264648,
           2.4510393142700195,
           6.793848991394043,
           2.370922088623047,
           2.040494203567505,
           1.1924554109573364,
           3.8147363662719727,
           7.512545585632324,
           3.153862476348877,
           3.153406858444214,
           3.7181663513183594,
           1.3715648651123047,
           5.23274040222168,
           7.05785608291626,
           8.04429817199707,
           2.0187594890594482,
           8.931599617004395,
           7.49365758895874,
           3.4916868209838867,
           6.199788570404053,
           2.2870779037475586,
           4.313973903656006,
           2.5498993396759033,
           3.401005744934082,
           3.1473445892333984,
           13.06863021850586,
           3.723160743713379,
           4.4050798416137695,
           1.2482943534851074,
           5.678144931793213,
           8.555618286132812,
           3.2191731929779053,
           4.379782676696777,
           5.99501371383667,
           5.673834800720215,
           3.87705659866333,
           3.166658401489258,
           6.596050262451172,
           3.289698362350464,
           4.50327730178833,
           4.914271354675293,
           2.5276129245758057,
           6.2993903160095215,
           5.266557216644287,
           2.6258962154388428,
           2.2089667320251465,
           10.896867752075195,
           4.7524919509887695,
           4.208785057067871,
           2.406562566757202,
           2.747075319290161,
           4.499538421630859,
           8.853349685668945,
           8.36544418334961,
           2.0144007205963135,
           5.347407817840576,
           4.062931060791016,
           5.009930610656738,
           2.1875758171081543,
           2.7065038681030273,
           4.224015235900879,
           3.115090847015381,
           2.7167513370513916,
           3.534064292907715,
           1.9568346738815308,
           7.697083950042725,
           2.1127634048461914,
           1.908861756324768,
           2.809307098388672,
           1.8413865566253662,
           1.3343356847763062,
           3.771310329437256,
           2.9705162048339844,
           4.7913360595703125,
           6.59982967376709,
           4.633951187133789,
           3.77087664604187,
           2.163646697998047,
           2.280345916748047,
           1.3037140369415283,
           6.746522426605225,
           2.463197708129883,
           5.190887451171875,
           1.6445045471191406,
           3.178708791732788,
           10.845022201538086,
           3.0011463165283203,
           3.260023355484009,
           6.232069969177246,
           1.9530963897705078,
           5.574817180633545,
           12.015569686889648,
           2.1008105278015137,
           2.1519010066986084,
           7.758929252624512,
           2.712942600250244,
           1.4625532627105713,
           3.002321720123291,
           3.7679591178894043,
           8.058732986450195,
           2.5599160194396973,
           3.286634922027588,
           3.9463322162628174,
           2.551621437072754,
           5.229525566101074,
           2.7006728649139404,
           4.463506698608398,
           1.981055498123169,
           2.2995901107788086,
           4.195960521697998,
           3.168302059173584,
           2.4259533882141113,
           2.317641496658325,
           1.6495935916900635,
           2.7324047088623047,
           3.417587995529175,
           2.873077869415283,
           4.743292808532715,
           1.8179482221603394,
           9.637219429016113,
           3.9708707332611084,
           3.5646276473999023,
           2.6073691844940186,
           4.194862365722656,
           5.25830078125,
           1.4195549488067627,
           2.395747661590576,
           3.1688411235809326,
           2.665182113647461,
           5.748525619506836,
           3.3181447982788086,
           3.217630624771118,
           4.845697402954102,
           4.48604679107666,
           4.200050354003906,
           4.783515930175781,
           4.3628716468811035,
           4.476266860961914,
           4.191478252410889,
           1.3493549823760986,
           3.640451431274414,
           3.090762138366699,
           5.502739906311035,
           1.8413883447647095,
           4.186521530151367,
           1.8507304191589355,
           2.7128262519836426,
           3.679513692855835,
           3.0356264114379883,
           4.687291622161865,
           5.075215816497803,
           2.457689046859741,
           2.463624954223633,
           2.873380661010742,
           2.55540132522583,
           1.8516969680786133,
           4.064118385314941,
           6.108698844909668,
           3.4881181716918945,
           7.490363597869873,
           3.007474899291992,
           2.37526798248291,
           3.0951449871063232,
           1.3601651191711426,
           5.565934181213379,
           4.540031433105469,
           5.631135940551758,
           1.406055212020874,
           1.8646456003189087,
           1.6161913871765137,
           2.1331489086151123,
           1.8372809886932373,
           1.6018683910369873,
           1.9668406248092651,
           3.98795747756958,
           2.698657751083374,
           3.463099718093872,
           1.6835191249847412,
           1.7654469013214111,
           1.3769469261169434,
           2.1410298347473145,
           1.382291316986084,
           2.245408535003662,
           2.8543806076049805,
           2.00704026222229,
           2.6072466373443604,
           2.0921385288238525,
           2.6395506858825684,
           1.702498435974121,
           2.0562102794647217,
           4.13962984085083,
           3.2773163318634033,
           2.076881170272827,
           2.2357566356658936,
           1.6520999670028687,
           1.7550063133239746,
           1.1863213777542114,
           1.5230005979537964,
           2.177032947540283,
           1.852301836013794,
           2.7436234951019287,
           2.349181890487671,
           2.605241537094116,
           2.1675291061401367,
           2.6808388233184814,
           1.900883436203003,
           1.7617073059082031,
           3.2664794921875,
           2.079862594604492,
           2.276158332824707,
           1.2729511260986328,
           2.1374053955078125,
           1.6231316328048706,
           2.1052796840667725,
           4.004675388336182,
           3.9484729766845703,
           1.6612704992294312,
           1.6466552019119263,
           1.6339324712753296,
           1.5829544067382812,
           1.4080432653427124,
           1.9932032823562622,
           1.8510817289352417,
           2.0124740600585938,
           2.381505250930786,
           1.1874992847442627,
           2.230038642883301,
           1.585217833518982,
           1.5347082614898682,
           1.6363837718963623,
           1.608621597290039,
           1.3083693981170654,
           1.2846870422363281,
           1.339192509651184,
           1.5670742988586426
          ],
          "sizemode": "area",
          "sizeref": 0.032671575546264646,
          "symbol": "circle"
         },
         "mode": "markers",
         "name": "loom",
         "orientation": "v",
         "showlegend": true,
         "type": "scatter",
         "x": [
          67,
          70,
          79,
          74.38709677419355,
          67,
          62.9,
          64,
          83,
          68,
          56,
          78.16216216216216,
          83.5,
          31,
          32,
          86.75675675675676,
          32.08571428571429,
          25.72972972972973,
          65,
          74.27272727272727,
          24.83783783783784,
          39.36363636363637,
          59.5,
          51.705882352941174,
          23,
          33.078947368421055,
          71.95454545454545,
          20,
          26,
          86.32352941176471,
          25.78787878787879,
          23.852941176470587,
          74.05405405405405,
          80.72222222222223,
          42,
          70.03225806451613,
          36.294117647058826,
          87.27272727272727,
          79.18181818181819,
          55.02439024390244,
          29,
          30,
          61.973684210526315,
          25,
          78.26315789473684,
          51.05714285714286,
          20.5,
          73.29411764705883,
          79.76315789473684,
          62.205128205128204,
          24,
          36,
          61.72727272727273,
          77.05555555555556,
          36.14705882352941,
          24,
          63.63333333333333,
          57.03225806451613,
          29.27777777777778,
          28.82051282051282,
          20.727272727272727,
          39,
          49.72727272727273,
          33.97222222222222,
          59,
          29,
          71,
          19,
          28.27777777777778,
          33.75,
          28,
          23.970588235294116,
          33.0625,
          37,
          58.82608695652174,
          39.38709677419355,
          56.729729729729726,
          84.17948717948718,
          19.3,
          71.375,
          74.23809523809524,
          45.388888888888886,
          22,
          47.5,
          30.22222222222222,
          91.60606060606061,
          26.68421052631579,
          46,
          71.8,
          18.6875,
          18.833333333333332,
          31.27777777777778,
          25.625,
          59.5,
          42.67741935483871,
          48.94736842105263,
          66.13513513513513,
          84.87878787878788,
          75.91891891891892,
          23,
          48.233333333333334,
          28.70967741935484,
          22.026315789473685,
          30,
          56.13333333333333,
          36,
          15.757575757575758,
          48,
          38.85,
          92.4375,
          67.78787878787878,
          16.147058823529413,
          64,
          35,
          38,
          21.085714285714285,
          41.96666666666667,
          39.205128205128204,
          15.34375,
          32.325,
          57.83870967741935,
          43.76923076923077,
          28.096774193548388,
          86.23333333333333,
          30.939393939393938,
          51.25806451612903,
          63.354838709677416,
          90.25806451612904,
          84.5,
          54.666666666666664,
          22.65714285714286,
          36.53333333333333,
          51.976190476190474,
          44.87179487179487,
          45.388888888888886,
          37.72222222222222,
          26.952380952380953,
          66,
          18.4,
          32.69444444444444,
          48.46666666666667,
          32,
          59.45454545454545,
          48.535714285714285,
          44.5,
          35.375,
          38.6,
          43,
          44.55555555555556,
          86.78571428571429,
          32,
          78.3225806451613,
          40.78947368421053,
          25.558823529411764,
          79.45,
          59.333333333333336,
          25,
          27.16216216216216,
          32.03333333333333,
          57.83870967741935,
          24.25,
          64.46666666666667,
          50.65714285714286,
          33.94444444444444,
          43,
          33.61904761904762,
          41,
          51.193548387096776,
          54.6875,
          17,
          41.470588235294116,
          47.09090909090909,
          23.114285714285714,
          30.64516129032258,
          48.4,
          13.428571428571429,
          42,
          36.8,
          27.130434782608695,
          75.7,
          36.1875,
          37.16129032258065,
          48.59375,
          34,
          41,
          33.25806451612903,
          41.57142857142857,
          53.5,
          33.225806451612904,
          40.5,
          23.72,
          25.264705882352942,
          66.8529411764706,
          34.266666666666666,
          44.266666666666666,
          29.73076923076923,
          37,
          51.03703703703704,
          27.2,
          54.44444444444444,
          23.09090909090909,
          56.806451612903224,
          40.592592592592595,
          20.64,
          47.5,
          42.3,
          63.625,
          32,
          92,
          35.57142857142857,
          27.4375,
          44.857142857142854,
          68,
          95.63636363636364,
          18.772727272727273,
          55.5,
          43,
          39,
          42.4,
          45.22222222222222,
          98,
          81.33333333333333,
          36,
          39.75,
          83.42857142857143,
          67,
          66,
          35.027027027027025,
          70.96774193548387,
          38.90625,
          67.42857142857143,
          32,
          44,
          84,
          29.216216216216218,
          23.26086956521739,
          20.357142857142858,
          18.63157894736842,
          52.23529411764706,
          75,
          75.33333333333333,
          21.25,
          44.38461538461539,
          51.05,
          56,
          37,
          72.66666666666667,
          39,
          51.666666666666664,
          64,
          95,
          61.333333333333336,
          43.5,
          55.333333333333336,
          41.5,
          28,
          31.333333333333332,
          37,
          44.5,
          60,
          88,
          38,
          40,
          32
         ],
         "xaxis": "x",
         "y": [
          47,
          36,
          31,
          29.35483870967742,
          41,
          50.56666666666667,
          47,
          28,
          27,
          27,
          23.729729729729726,
          27.5,
          31,
          56,
          24.135135135135137,
          58.51428571428571,
          27.83783783783784,
          35,
          40.72727272727273,
          55.81081081081081,
          58.54545454545455,
          50.5,
          30.14705882352942,
          37,
          24.76315789473685,
          24.272727272727266,
          43,
          49,
          34.44117647058823,
          56.45454545454545,
          33.29411764705881,
          35.91891891891892,
          34.27777777777777,
          56,
          39.258064516129025,
          35.14705882352942,
          24.727272727272734,
          23.636363636363637,
          52.804878048780495,
          34,
          38.61290322580646,
          30.18421052631578,
          30,
          34.0263157894737,
          23.657142857142844,
          52.5,
          24.85294117647058,
          28.78947368421052,
          26.358974358974365,
          40,
          50,
          39.27272727272728,
          39.111111111111114,
          20.705882352941188,
          46,
          37.53333333333333,
          13.870967741935488,
          25.72222222222223,
          18.974358974358978,
          51.27272727272728,
          42,
          34.27272727272728,
          15.277777777777771,
          53.9,
          26,
          50.75,
          46,
          42.72222222222223,
          44.375,
          33,
          23.058823529411768,
          14.84375,
          52.5,
          45,
          28.064516129032256,
          34.16216216216216,
          18.97435897435895,
          28.53333333333333,
          47.65625,
          43.04761904761905,
          29.444444444444457,
          25,
          53.5,
          35.30555555555554,
          31.636363636363637,
          19.84210526315789,
          46,
          32.80000000000001,
          34.96875,
          32.22222222222223,
          54.27777777777777,
          48,
          33.5,
          36.87096774193549,
          56.23684210526316,
          21.756756756756744,
          18.393939393939394,
          40.16216216216219,
          47,
          39.23333333333332,
          46.51612903225808,
          37.263157894736835,
          31,
          38.33333333333334,
          31,
          45.78787878787878,
          28,
          56.875,
          23.9375,
          16.818181818181813,
          37.58823529411765,
          26,
          30,
          26,
          53.82857142857143,
          50.30000000000001,
          15.358974358974365,
          50.75,
          25.399999999999977,
          20.903225806451616,
          57.07692307692308,
          51.935483870967744,
          14.899999999999977,
          50.484848484848484,
          58.096774193548384,
          39.12903225806451,
          31.25806451612904,
          26.69999999999999,
          54.166666666666664,
          45.94285714285715,
          34.133333333333326,
          44.309523809523796,
          12.051282051282044,
          47.638888888888886,
          44.388888888888886,
          56.71428571428572,
          45.40625,
          41.73333333333332,
          37.666666666666664,
          49.16666666666667,
          47.5,
          44.24242424242425,
          44.60714285714286,
          23.5,
          10.5,
          18.94999999999999,
          33,
          22.75,
          33.35714285714283,
          18.72222222222223,
          28.032258064516128,
          12.63157894736841,
          27.14705882352939,
          24.100000000000023,
          26.791666666666657,
          34.25,
          27,
          38.69999999999999,
          50.03225806451613,
          31.78125,
          21.900000000000006,
          18.657142857142844,
          52.55555555555556,
          31.5,
          30.85714285714286,
          32.5,
          12.741935483870975,
          28.9375,
          27.5,
          19.441176470588232,
          36.39393939393938,
          42.2,
          22.774193548387103,
          10.949999999999989,
          32.35714285714286,
          14,
          21.80000000000001,
          21.82608695652175,
          22.30000000000001,
          42.9375,
          16.19354838709677,
          19.6875,
          10.800000000000011,
          13,
          52.064516129032256,
          39.17142857142858,
          38.5,
          19.25806451612904,
          9.5625,
          18.28,
          40.23529411764707,
          32.970588235294116,
          39.93333333333334,
          18.933333333333337,
          37.92307692307692,
          30,
          33.925925925925924,
          51.866666666666674,
          11.444444444444457,
          16.636363636363626,
          25.80645161290323,
          46.44444444444446,
          34.31999999999999,
          41,
          39.73333333333332,
          49,
          43.5,
          26,
          25.285714285714278,
          40.75,
          9.428571428571416,
          28,
          35.90909090909091,
          21.136363636363626,
          10,
          7,
          10,
          22.799999999999997,
          14.333333333333314,
          33,
          7.666666666666667,
          12,
          15.75,
          19.171428571428578,
          45,
          44,
          50.16216216216219,
          45.225806451612925,
          49.25,
          51.85714285714286,
          24,
          34,
          36.90625,
          52.621621621621614,
          23.52173913043478,
          37.214285714285715,
          33.05263157894737,
          51.470588235294116,
          20.83333333333333,
          30.666666666666686,
          49.125,
          6.461538461538453,
          40,
          7,
          35.71428571428571,
          42.66666666666666,
          18,
          14.666666666666657,
          19.5,
          32.5,
          45.33333333333334,
          13,
          26.666666666666657,
          14,
          48,
          44.33333333333333,
          29,
          15,
          6,
          30,
          27,
          36,
          55
         ],
         "yaxis": "y"
        }
       ],
       "layout": {
        "legend": {
         "itemsizing": "constant",
         "title": {
          "text": "color"
         },
         "tracegroupgap": 0
        },
        "margin": {
         "t": 60
        },
        "plot_bgcolor": "rgba(0,0,0,0)",
        "template": {
         "data": {
          "bar": [
           {
            "error_x": {
             "color": "#2a3f5f"
            },
            "error_y": {
             "color": "#2a3f5f"
            },
            "marker": {
             "line": {
              "color": "#E5ECF6",
              "width": 0.5
             },
             "pattern": {
              "fillmode": "overlay",
              "size": 10,
              "solidity": 0.2
             }
            },
            "type": "bar"
           }
          ],
          "barpolar": [
           {
            "marker": {
             "line": {
              "color": "#E5ECF6",
              "width": 0.5
             },
             "pattern": {
              "fillmode": "overlay",
              "size": 10,
              "solidity": 0.2
             }
            },
            "type": "barpolar"
           }
          ],
          "carpet": [
           {
            "aaxis": {
             "endlinecolor": "#2a3f5f",
             "gridcolor": "white",
             "linecolor": "white",
             "minorgridcolor": "white",
             "startlinecolor": "#2a3f5f"
            },
            "baxis": {
             "endlinecolor": "#2a3f5f",
             "gridcolor": "white",
             "linecolor": "white",
             "minorgridcolor": "white",
             "startlinecolor": "#2a3f5f"
            },
            "type": "carpet"
           }
          ],
          "choropleth": [
           {
            "colorbar": {
             "outlinewidth": 0,
             "ticks": ""
            },
            "type": "choropleth"
           }
          ],
          "contour": [
           {
            "colorbar": {
             "outlinewidth": 0,
             "ticks": ""
            },
            "colorscale": [
             [
              0,
              "#0d0887"
             ],
             [
              0.1111111111111111,
              "#46039f"
             ],
             [
              0.2222222222222222,
              "#7201a8"
             ],
             [
              0.3333333333333333,
              "#9c179e"
             ],
             [
              0.4444444444444444,
              "#bd3786"
             ],
             [
              0.5555555555555556,
              "#d8576b"
             ],
             [
              0.6666666666666666,
              "#ed7953"
             ],
             [
              0.7777777777777778,
              "#fb9f3a"
             ],
             [
              0.8888888888888888,
              "#fdca26"
             ],
             [
              1,
              "#f0f921"
             ]
            ],
            "type": "contour"
           }
          ],
          "contourcarpet": [
           {
            "colorbar": {
             "outlinewidth": 0,
             "ticks": ""
            },
            "type": "contourcarpet"
           }
          ],
          "heatmap": [
           {
            "colorbar": {
             "outlinewidth": 0,
             "ticks": ""
            },
            "colorscale": [
             [
              0,
              "#0d0887"
             ],
             [
              0.1111111111111111,
              "#46039f"
             ],
             [
              0.2222222222222222,
              "#7201a8"
             ],
             [
              0.3333333333333333,
              "#9c179e"
             ],
             [
              0.4444444444444444,
              "#bd3786"
             ],
             [
              0.5555555555555556,
              "#d8576b"
             ],
             [
              0.6666666666666666,
              "#ed7953"
             ],
             [
              0.7777777777777778,
              "#fb9f3a"
             ],
             [
              0.8888888888888888,
              "#fdca26"
             ],
             [
              1,
              "#f0f921"
             ]
            ],
            "type": "heatmap"
           }
          ],
          "heatmapgl": [
           {
            "colorbar": {
             "outlinewidth": 0,
             "ticks": ""
            },
            "colorscale": [
             [
              0,
              "#0d0887"
             ],
             [
              0.1111111111111111,
              "#46039f"
             ],
             [
              0.2222222222222222,
              "#7201a8"
             ],
             [
              0.3333333333333333,
              "#9c179e"
             ],
             [
              0.4444444444444444,
              "#bd3786"
             ],
             [
              0.5555555555555556,
              "#d8576b"
             ],
             [
              0.6666666666666666,
              "#ed7953"
             ],
             [
              0.7777777777777778,
              "#fb9f3a"
             ],
             [
              0.8888888888888888,
              "#fdca26"
             ],
             [
              1,
              "#f0f921"
             ]
            ],
            "type": "heatmapgl"
           }
          ],
          "histogram": [
           {
            "marker": {
             "pattern": {
              "fillmode": "overlay",
              "size": 10,
              "solidity": 0.2
             }
            },
            "type": "histogram"
           }
          ],
          "histogram2d": [
           {
            "colorbar": {
             "outlinewidth": 0,
             "ticks": ""
            },
            "colorscale": [
             [
              0,
              "#0d0887"
             ],
             [
              0.1111111111111111,
              "#46039f"
             ],
             [
              0.2222222222222222,
              "#7201a8"
             ],
             [
              0.3333333333333333,
              "#9c179e"
             ],
             [
              0.4444444444444444,
              "#bd3786"
             ],
             [
              0.5555555555555556,
              "#d8576b"
             ],
             [
              0.6666666666666666,
              "#ed7953"
             ],
             [
              0.7777777777777778,
              "#fb9f3a"
             ],
             [
              0.8888888888888888,
              "#fdca26"
             ],
             [
              1,
              "#f0f921"
             ]
            ],
            "type": "histogram2d"
           }
          ],
          "histogram2dcontour": [
           {
            "colorbar": {
             "outlinewidth": 0,
             "ticks": ""
            },
            "colorscale": [
             [
              0,
              "#0d0887"
             ],
             [
              0.1111111111111111,
              "#46039f"
             ],
             [
              0.2222222222222222,
              "#7201a8"
             ],
             [
              0.3333333333333333,
              "#9c179e"
             ],
             [
              0.4444444444444444,
              "#bd3786"
             ],
             [
              0.5555555555555556,
              "#d8576b"
             ],
             [
              0.6666666666666666,
              "#ed7953"
             ],
             [
              0.7777777777777778,
              "#fb9f3a"
             ],
             [
              0.8888888888888888,
              "#fdca26"
             ],
             [
              1,
              "#f0f921"
             ]
            ],
            "type": "histogram2dcontour"
           }
          ],
          "mesh3d": [
           {
            "colorbar": {
             "outlinewidth": 0,
             "ticks": ""
            },
            "type": "mesh3d"
           }
          ],
          "parcoords": [
           {
            "line": {
             "colorbar": {
              "outlinewidth": 0,
              "ticks": ""
             }
            },
            "type": "parcoords"
           }
          ],
          "pie": [
           {
            "automargin": true,
            "type": "pie"
           }
          ],
          "scatter": [
           {
            "fillpattern": {
             "fillmode": "overlay",
             "size": 10,
             "solidity": 0.2
            },
            "type": "scatter"
           }
          ],
          "scatter3d": [
           {
            "line": {
             "colorbar": {
              "outlinewidth": 0,
              "ticks": ""
             }
            },
            "marker": {
             "colorbar": {
              "outlinewidth": 0,
              "ticks": ""
             }
            },
            "type": "scatter3d"
           }
          ],
          "scattercarpet": [
           {
            "marker": {
             "colorbar": {
              "outlinewidth": 0,
              "ticks": ""
             }
            },
            "type": "scattercarpet"
           }
          ],
          "scattergeo": [
           {
            "marker": {
             "colorbar": {
              "outlinewidth": 0,
              "ticks": ""
             }
            },
            "type": "scattergeo"
           }
          ],
          "scattergl": [
           {
            "marker": {
             "colorbar": {
              "outlinewidth": 0,
              "ticks": ""
             }
            },
            "type": "scattergl"
           }
          ],
          "scattermapbox": [
           {
            "marker": {
             "colorbar": {
              "outlinewidth": 0,
              "ticks": ""
             }
            },
            "type": "scattermapbox"
           }
          ],
          "scatterpolar": [
           {
            "marker": {
             "colorbar": {
              "outlinewidth": 0,
              "ticks": ""
             }
            },
            "type": "scatterpolar"
           }
          ],
          "scatterpolargl": [
           {
            "marker": {
             "colorbar": {
              "outlinewidth": 0,
              "ticks": ""
             }
            },
            "type": "scatterpolargl"
           }
          ],
          "scatterternary": [
           {
            "marker": {
             "colorbar": {
              "outlinewidth": 0,
              "ticks": ""
             }
            },
            "type": "scatterternary"
           }
          ],
          "surface": [
           {
            "colorbar": {
             "outlinewidth": 0,
             "ticks": ""
            },
            "colorscale": [
             [
              0,
              "#0d0887"
             ],
             [
              0.1111111111111111,
              "#46039f"
             ],
             [
              0.2222222222222222,
              "#7201a8"
             ],
             [
              0.3333333333333333,
              "#9c179e"
             ],
             [
              0.4444444444444444,
              "#bd3786"
             ],
             [
              0.5555555555555556,
              "#d8576b"
             ],
             [
              0.6666666666666666,
              "#ed7953"
             ],
             [
              0.7777777777777778,
              "#fb9f3a"
             ],
             [
              0.8888888888888888,
              "#fdca26"
             ],
             [
              1,
              "#f0f921"
             ]
            ],
            "type": "surface"
           }
          ],
          "table": [
           {
            "cells": {
             "fill": {
              "color": "#EBF0F8"
             },
             "line": {
              "color": "white"
             }
            },
            "header": {
             "fill": {
              "color": "#C8D4E3"
             },
             "line": {
              "color": "white"
             }
            },
            "type": "table"
           }
          ]
         },
         "layout": {
          "annotationdefaults": {
           "arrowcolor": "#2a3f5f",
           "arrowhead": 0,
           "arrowwidth": 1
          },
          "autotypenumbers": "strict",
          "coloraxis": {
           "colorbar": {
            "outlinewidth": 0,
            "ticks": ""
           }
          },
          "colorscale": {
           "diverging": [
            [
             0,
             "#8e0152"
            ],
            [
             0.1,
             "#c51b7d"
            ],
            [
             0.2,
             "#de77ae"
            ],
            [
             0.3,
             "#f1b6da"
            ],
            [
             0.4,
             "#fde0ef"
            ],
            [
             0.5,
             "#f7f7f7"
            ],
            [
             0.6,
             "#e6f5d0"
            ],
            [
             0.7,
             "#b8e186"
            ],
            [
             0.8,
             "#7fbc41"
            ],
            [
             0.9,
             "#4d9221"
            ],
            [
             1,
             "#276419"
            ]
           ],
           "sequential": [
            [
             0,
             "#0d0887"
            ],
            [
             0.1111111111111111,
             "#46039f"
            ],
            [
             0.2222222222222222,
             "#7201a8"
            ],
            [
             0.3333333333333333,
             "#9c179e"
            ],
            [
             0.4444444444444444,
             "#bd3786"
            ],
            [
             0.5555555555555556,
             "#d8576b"
            ],
            [
             0.6666666666666666,
             "#ed7953"
            ],
            [
             0.7777777777777778,
             "#fb9f3a"
            ],
            [
             0.8888888888888888,
             "#fdca26"
            ],
            [
             1,
             "#f0f921"
            ]
           ],
           "sequentialminus": [
            [
             0,
             "#0d0887"
            ],
            [
             0.1111111111111111,
             "#46039f"
            ],
            [
             0.2222222222222222,
             "#7201a8"
            ],
            [
             0.3333333333333333,
             "#9c179e"
            ],
            [
             0.4444444444444444,
             "#bd3786"
            ],
            [
             0.5555555555555556,
             "#d8576b"
            ],
            [
             0.6666666666666666,
             "#ed7953"
            ],
            [
             0.7777777777777778,
             "#fb9f3a"
            ],
            [
             0.8888888888888888,
             "#fdca26"
            ],
            [
             1,
             "#f0f921"
            ]
           ]
          },
          "colorway": [
           "#636efa",
           "#EF553B",
           "#00cc96",
           "#ab63fa",
           "#FFA15A",
           "#19d3f3",
           "#FF6692",
           "#B6E880",
           "#FF97FF",
           "#FECB52"
          ],
          "font": {
           "color": "#2a3f5f"
          },
          "geo": {
           "bgcolor": "white",
           "lakecolor": "white",
           "landcolor": "#E5ECF6",
           "showlakes": true,
           "showland": true,
           "subunitcolor": "white"
          },
          "hoverlabel": {
           "align": "left"
          },
          "hovermode": "closest",
          "mapbox": {
           "style": "light"
          },
          "paper_bgcolor": "white",
          "plot_bgcolor": "#E5ECF6",
          "polar": {
           "angularaxis": {
            "gridcolor": "white",
            "linecolor": "white",
            "ticks": ""
           },
           "bgcolor": "#E5ECF6",
           "radialaxis": {
            "gridcolor": "white",
            "linecolor": "white",
            "ticks": ""
           }
          },
          "scene": {
           "xaxis": {
            "backgroundcolor": "#E5ECF6",
            "gridcolor": "white",
            "gridwidth": 2,
            "linecolor": "white",
            "showbackground": true,
            "ticks": "",
            "zerolinecolor": "white"
           },
           "yaxis": {
            "backgroundcolor": "#E5ECF6",
            "gridcolor": "white",
            "gridwidth": 2,
            "linecolor": "white",
            "showbackground": true,
            "ticks": "",
            "zerolinecolor": "white"
           },
           "zaxis": {
            "backgroundcolor": "#E5ECF6",
            "gridcolor": "white",
            "gridwidth": 2,
            "linecolor": "white",
            "showbackground": true,
            "ticks": "",
            "zerolinecolor": "white"
           }
          },
          "shapedefaults": {
           "line": {
            "color": "#2a3f5f"
           }
          },
          "ternary": {
           "aaxis": {
            "gridcolor": "white",
            "linecolor": "white",
            "ticks": ""
           },
           "baxis": {
            "gridcolor": "white",
            "linecolor": "white",
            "ticks": ""
           },
           "bgcolor": "#E5ECF6",
           "caxis": {
            "gridcolor": "white",
            "linecolor": "white",
            "ticks": ""
           }
          },
          "title": {
           "x": 0.05
          },
          "xaxis": {
           "automargin": true,
           "gridcolor": "white",
           "linecolor": "white",
           "ticks": "",
           "title": {
            "standoff": 15
           },
           "zerolinecolor": "white",
           "zerolinewidth": 2
          },
          "yaxis": {
           "automargin": true,
           "gridcolor": "white",
           "linecolor": "white",
           "ticks": "",
           "title": {
            "standoff": 15
           },
           "zerolinecolor": "white",
           "zerolinewidth": 2
          }
         }
        },
        "xaxis": {
         "anchor": "y",
         "domain": [
          0,
          1
         ],
         "showgrid": false,
         "title": {
          "text": "x"
         }
        },
        "yaxis": {
         "anchor": "x",
         "domain": [
          0,
          1
         ],
         "showgrid": false,
         "title": {
          "text": "y"
         }
        }
       }
      }
     },
     "metadata": {},
     "output_type": "display_data"
    }
   ],
   "source": [
    "import plotly.express as px\n",
    "fig = px.scatter(x=pooled_data['x_centroid'], y=pooled_data['y_centroid']%y_res, color=pooled_data['stimtype'], size=abs(pooled_data['amplitude']), opacity=pooled_data['size']/ pooled_data['size'].max())\n",
    "\n",
    "fig.update_layout(\n",
    "    plot_bgcolor='rgba(0,0,0,0)',  # Transparent background for the plot area\n",
    "    #paper_bgcolor='rgba(0,0,0,0)',  # Transparent background for the overall figure\n",
    ")\n",
    "\n",
    "# Update axes to remove gridlines\n",
    "fig.update_xaxes(showgrid=False)  # Disable gridlines for x-axis\n",
    "fig.update_yaxes(showgrid=False)  # Disable gridlines for y-axis"
   ]
  },
  {
   "cell_type": "code",
   "execution_count": 462,
   "metadata": {},
   "outputs": [
    {
     "data": {
      "application/vnd.plotly.v1+json": {
       "config": {
        "plotlyServerURL": "https://plot.ly"
       },
       "data": [
        {
         "hovertemplate": "x=%{x}<br>y=%{y}<br>size=%{marker.size}<br>color=%{marker.color}<extra></extra>",
         "legendgroup": "",
         "marker": {
          "color": [
           282.5,
           215,
           282.5,
           282.5,
           215,
           215,
           350,
           350,
           215,
           215,
           282.5,
           215,
           215,
           215,
           215,
           147.49999999999997,
           147.49999999999997,
           282.5,
           147.49999999999997,
           282.5,
           282.5,
           147.49999999999997,
           147.49999999999997
          ],
          "coloraxis": "coloraxis",
          "opacity": [
           1,
           0.9512195121951219,
           0.7317073170731707,
           0.8048780487804879,
           0.7804878048780488,
           1,
           0.926829268292683,
           0.926829268292683,
           0.024390243902439025,
           0.024390243902439025,
           0.2926829268292683,
           0.7804878048780488,
           0.5121951219512195,
           0.7804878048780488,
           0.17073170731707318,
           0.7804878048780488,
           0.7560975609756098,
           0.024390243902439025,
           0.1951219512195122,
           0.024390243902439025,
           0.024390243902439025,
           0.07317073170731707,
           0.024390243902439025
          ],
          "size": [
           5.294517517089844,
           3.1093106269836426,
           2.577725410461426,
           7.427844524383545,
           4.143466949462891,
           1.9902009963989258,
           1.6526689529418945,
           1.8581528663635254,
           2.150787353515625,
           3.1253905296325684,
           9.895279884338379,
           4.263268947601318,
           3.543747663497925,
           1.730065941810608,
           2.2139151096343994,
           2.4809188842773438,
           3.014556646347046,
           2.563852310180664,
           2.743513822555542,
           2.017770767211914,
           1.850557565689087,
           1.9554791450500488,
           2.0771517753601074
          ],
          "sizemode": "area",
          "sizeref": 0.024738199710845947,
          "symbol": "circle"
         },
         "mode": "markers",
         "name": "",
         "orientation": "v",
         "showlegend": false,
         "type": "scatter",
         "x": [
          67,
          67,
          62.9,
          74.27272727272727,
          59.5,
          55.02439024390244,
          78.26315789473684,
          79.76315789473684,
          67,
          66,
          71,
          71.375,
          74.23809523809524,
          92.4375,
          67.42857142857143,
          66,
          57.83870967741935,
          76,
          63.625,
          58,
          98,
          55.333333333333336,
          84
         ],
         "xaxis": "x",
         "y": [
          47,
          41,
          50.56666666666667,
          40.72727272727273,
          50.5,
          52.804878048780495,
          34.0263157894737,
          28.78947368421052,
          45,
          44,
          50.75,
          47.65625,
          43.04761904761905,
          23.9375,
          51.85714285714286,
          45.40625,
          50.03225806451613,
          47,
          49,
          49,
          33,
          26.666666666666657,
          27
         ],
         "yaxis": "y"
        },
        {
         "hovertemplate": "x=%{x}<br>y=%{y}<br>size=%{marker.size}<br>color=%{marker.color}<extra></extra>",
         "legendgroup": "",
         "marker": {
          "color": [
           80,
           215,
           282.5,
           80,
           215,
           80,
           80,
           80,
           215,
           80,
           80,
           147.49999999999997,
           80,
           80,
           12.5,
           12.5,
           12.5,
           147.49999999999997,
           215,
           282.5,
           215,
           282.5,
           215,
           282.5,
           215,
           215,
           282.5,
           147.49999999999997,
           282.5,
           215,
           80,
           282.5,
           215,
           147.49999999999997,
           215,
           147.49999999999997,
           350,
           350,
           147.49999999999997,
           215,
           215,
           215,
           215,
           80,
           282.5,
           282.5,
           147.49999999999997,
           350,
           215,
           215,
           80,
           80,
           350,
           80,
           350,
           215,
           350,
           147.49999999999997,
           147.49999999999997,
           282.5,
           350,
           215,
           147.49999999999997,
           215,
           215,
           12.5,
           282.5,
           147.49999999999997,
           215,
           80
          ],
          "coloraxis": "coloraxis",
          "opacity": [
           1,
           1,
           0.8536585365853658,
           0.9024390243902439,
           0.9024390243902439,
           0.8292682926829268,
           0.8292682926829268,
           0.7560975609756098,
           0.7804878048780488,
           0.9512195121951219,
           0.8292682926829268,
           0.024390243902439025,
           0.024390243902439025,
           0.7804878048780488,
           1,
           1,
           0.7317073170731707,
           0.7317073170731707,
           0.024390243902439025,
           1,
           1,
           1,
           0.9512195121951219,
           0.7317073170731707,
           1,
           0.7804878048780488,
           0.7804878048780488,
           1,
           0.8048780487804879,
           0.7804878048780488,
           0.8292682926829268,
           0.8292682926829268,
           0.8780487804878049,
           0.7560975609756098,
           1,
           0.926829268292683,
           0.926829268292683,
           0.926829268292683,
           0.8048780487804879,
           0.8780487804878049,
           0.024390243902439025,
           0.7317073170731707,
           0.024390243902439025,
           0.8048780487804879,
           0.975609756097561,
           0.2926829268292683,
           0.9024390243902439,
           0.9512195121951219,
           0.7804878048780488,
           0.5121951219512195,
           0.8780487804878049,
           0.7804878048780488,
           0.9024390243902439,
           0.7317073170731707,
           0.7560975609756098,
           0.17073170731707318,
           0.7317073170731707,
           0.7804878048780488,
           0.8048780487804879,
           0.024390243902439025,
           0.7804878048780488,
           0.9024390243902439,
           0.7560975609756098,
           0.7560975609756098,
           0.5609756097560976,
           0.24390243902439024,
           0.024390243902439025,
           0.1951219512195122,
           0.0975609756097561,
           0.07317073170731707
          ],
          "size": [
           4.235620498657227,
           1.5937209129333496,
           1.52773118019104,
           2.0870425701141357,
           4.628746509552002,
           1.806147813796997,
           1.5425441265106201,
           2.347661256790161,
           3.092153310775757,
           1.3508713245391846,
           1.460023045539856,
           2.178907632827759,
           1.752389907836914,
           1.9112114906311035,
           2.744274139404297,
           1.9767261743545532,
           2.6125524044036865,
           1.4444491863250732,
           1.7098324298858643,
           8.42481517791748,
           8.297382354736328,
           3.5709166526794434,
           3.4727494716644287,
           5.928927421569824,
           11.772180557250977,
           7.838544845581055,
           4.305970191955566,
           2.3458662033081055,
           9.679024696350098,
           4.958643913269043,
           7.323162078857422,
           4.666014194488525,
           2.2567903995513916,
           2.232862949371338,
           2.8164634704589844,
           2.0780625343322754,
           2.915302276611328,
           3.091538190841675,
           2.8354647159576416,
           4.386618614196777,
           2.074949264526367,
           1.8102768659591675,
           2.636770725250244,
           4.134169101715088,
           5.071809768676758,
           9.927506446838379,
           2.1067023277282715,
           1.9380221366882324,
           3.077915668487549,
           2.8446645736694336,
           2.6735787391662598,
           2.481127977371216,
           3.095690965652466,
           3.44006609916687,
           3.0076005458831787,
           5.286747932434082,
           4.418164253234863,
           2.6375629901885986,
           1.6721198558807373,
           2.1291966438293457,
           1.8243522644042969,
           2.4942333698272705,
           3.0882885456085205,
           3.536489248275757,
           3.446601390838623,
           2.634220838546753,
           2.03558087348938,
           2.689243793487549,
           1.7833250761032104,
           2.030829668045044
          ],
          "sizemode": "area",
          "sizeref": 0.02943045139312744,
          "symbol": "circle"
         },
         "mode": "markers",
         "name": "",
         "orientation": "v",
         "showlegend": false,
         "type": "scatter",
         "x": [
          31,
          32,
          32.08571428571429,
          25.72972972972973,
          24.83783783783784,
          23.852941176470587,
          36.294117647058826,
          30,
          20.5,
          24,
          36.14705882352941,
          24,
          29,
          33.75,
          30,
          38,
          32.03333333333333,
          34.266666666666666,
          47,
          67,
          70,
          79,
          67,
          62.9,
          64,
          70.375,
          83.5,
          65,
          74.27272727272727,
          59.5,
          51.705882352941174,
          86.32352941176471,
          80.72222222222223,
          70.03225806451613,
          55.02439024390244,
          61.973684210526315,
          78.26315789473684,
          79.76315789473684,
          61.72727272727273,
          77.05555555555556,
          67,
          63.63333333333333,
          66,
          49.72727272727273,
          59,
          71,
          56.729729729729726,
          84.17948717948718,
          71.375,
          74.23809523809524,
          45.388888888888886,
          59.5,
          75.91891891891892,
          56.13333333333333,
          70.96774193548387,
          67.42857142857143,
          84.5,
          66,
          59.45454545454545,
          84,
          84,
          27.16216216216216,
          57.83870967741935,
          30.64516129032258,
          23.26086956521739,
          51.7,
          77,
          63.625,
          27.5,
          61.333333333333336
         ],
         "xaxis": "x2",
         "y": [
          31,
          56,
          58.51428571428571,
          27.83783783783784,
          55.81081081081081,
          33.29411764705881,
          35.14705882352942,
          38.61290322580646,
          52.5,
          40,
          20.705882352941188,
          46,
          26,
          44.375,
          31,
          26,
          38.69999999999999,
          39.93333333333334,
          27,
          47,
          36,
          31,
          41,
          50.56666666666667,
          47,
          31.09375,
          27.5,
          35,
          40.72727272727273,
          50.5,
          30.14705882352942,
          34.44117647058823,
          34.27777777777777,
          39.258064516129025,
          52.804878048780495,
          30.18421052631578,
          34.0263157894737,
          28.78947368421052,
          39.27272727272728,
          39.111111111111114,
          45,
          37.53333333333333,
          44,
          34.27272727272728,
          53.9,
          50.75,
          34.16216216216216,
          18.97435897435895,
          47.65625,
          43.04761904761905,
          29.444444444444457,
          33.5,
          40.16216216216219,
          38.33333333333334,
          45.225806451612925,
          51.85714285714286,
          26.69999999999999,
          45.40625,
          44.24242424242425,
          37,
          36.90625,
          27,
          50.03225806451613,
          22.774193548387103,
          23.52173913043478,
          33.30000000000001,
          46,
          49,
          19,
          45.33333333333334
         ],
         "yaxis": "y2"
        },
        {
         "hovertemplate": "x=%{x}<br>y=%{y}<br>size=%{marker.size}<br>color=%{marker.color}<extra></extra>",
         "legendgroup": "",
         "marker": {
          "color": [
           282.5,
           215,
           282.5,
           215,
           215,
           147.49999999999997,
           80
          ],
          "coloraxis": "coloraxis",
          "opacity": [
           1,
           1,
           0.8048780487804879,
           0.7804878048780488,
           0.17073170731707318,
           0.1951219512195122,
           0.024390243902439025
          ],
          "size": [
           1.3679628372192383,
           4.963944911956787,
           5.124996662139893,
           2.824368476867676,
           1.7015621662139893,
           1.848413109779358,
           1.9778163433074951
          ],
          "sizemode": "area",
          "sizeref": 0.012812491655349732,
          "symbol": "circle"
         },
         "mode": "markers",
         "name": "",
         "orientation": "v",
         "showlegend": false,
         "type": "scatter",
         "x": [
          67,
          64,
          74.27272727272727,
          71.375,
          67.42857142857143,
          63.625,
          56
         ],
         "xaxis": "x3",
         "y": [
          47,
          47,
          40.72727272727273,
          47.65625,
          51.85714285714286,
          49,
          7
         ],
         "yaxis": "y3"
        },
        {
         "hovertemplate": "x=%{x}<br>y=%{y}<br>size=%{marker.size}<br>color=%{marker.color}<extra></extra>",
         "legendgroup": "",
         "marker": {
          "color": [
           282.5,
           215,
           282.5,
           282.5,
           215,
           282.5,
           215,
           215,
           147.49999999999997,
           80,
           215,
           282.5,
           80,
           215,
           282.5,
           282.5,
           80,
           147.49999999999997,
           282.5,
           215,
           282.5,
           215,
           80,
           147.49999999999997,
           80,
           215,
           147.49999999999997,
           147.49999999999997,
           282.5,
           282.5,
           80,
           282.5,
           215,
           215,
           147.49999999999997,
           80,
           215,
           282.5,
           215,
           80,
           80,
           147.49999999999997,
           147.49999999999997,
           350,
           80,
           215,
           147.49999999999997,
           350,
           80,
           80,
           147.49999999999997,
           147.49999999999997,
           215,
           80,
           147.49999999999997,
           215,
           80,
           147.49999999999997,
           80,
           147.49999999999997,
           80,
           80,
           147.49999999999997,
           282.5,
           80,
           282.5,
           215,
           147.49999999999997,
           80,
           80,
           80,
           80,
           215,
           215,
           80,
           147.49999999999997,
           350,
           80,
           215,
           215,
           80,
           147.49999999999997,
           215,
           147.49999999999997,
           282.5,
           147.49999999999997,
           147.49999999999997,
           147.49999999999997,
           80,
           147.49999999999997,
           147.49999999999997,
           215,
           80,
           80,
           282.5,
           147.49999999999997,
           282.5,
           350,
           147.49999999999997,
           80,
           80,
           215,
           12.5,
           80,
           80,
           147.49999999999997,
           12.5,
           147.49999999999997,
           215,
           147.49999999999997,
           147.49999999999997,
           147.49999999999997,
           80,
           12.5,
           282.5,
           147.49999999999997,
           80,
           215,
           12.5,
           80,
           282.5,
           282.5,
           350,
           215,
           215,
           80,
           215,
           350,
           282.5,
           80,
           12.5,
           147.49999999999997,
           80,
           80,
           147.49999999999997,
           147.49999999999997,
           147.49999999999997,
           80,
           282.5,
           215,
           147.49999999999997,
           147.49999999999997,
           80,
           12.5,
           80,
           147.49999999999997,
           80,
           80,
           350,
           12.5,
           147.49999999999997,
           147.49999999999997,
           12.5,
           350,
           147.49999999999997,
           12.5,
           215,
           12.5,
           147.49999999999997,
           215,
           80,
           80,
           282.5,
           12.5,
           147.49999999999997,
           80,
           80,
           12.5,
           147.49999999999997,
           12.5,
           12.5,
           215,
           215,
           147.49999999999997,
           147.49999999999997,
           80,
           12.5,
           12.5,
           147.49999999999997,
           12.5,
           12.5,
           12.5,
           147.49999999999997,
           80,
           80,
           12.5,
           147.49999999999997,
           215,
           80,
           80,
           12.5,
           80,
           147.49999999999997,
           80,
           215,
           12.5,
           147.49999999999997,
           80,
           147.49999999999997,
           147.49999999999997,
           12.5,
           350,
           12.5,
           147.49999999999997,
           147.49999999999997,
           147.49999999999997,
           282.5,
           282.5,
           147.49999999999997,
           282.5,
           147.49999999999997,
           215,
           282.5,
           147.49999999999997,
           80,
           147.49999999999997,
           147.49999999999997,
           215,
           12.5,
           282.5,
           282.5,
           147.49999999999997,
           215,
           215,
           215,
           215,
           350,
           350,
           80,
           215,
           147.49999999999997,
           80,
           350,
           350,
           215,
           282.5,
           215,
           147.49999999999997,
           215,
           350,
           80,
           80,
           12.5,
           80,
           215,
           147.49999999999997,
           215,
           147.49999999999997,
           147.49999999999997,
           215,
           80,
           215,
           147.49999999999997,
           215,
           12.5,
           215,
           147.49999999999997,
           147.49999999999997,
           147.49999999999997,
           350,
           147.49999999999997,
           147.49999999999997,
           80
          ],
          "coloraxis": "coloraxis",
          "opacity": [
           0.9761904761904762,
           0.9761904761904762,
           0.9761904761904762,
           0.7380952380952381,
           0.9285714285714286,
           0.7142857142857143,
           0.9761904761904762,
           0.9761904761904762,
           0.9761904761904762,
           0.9761904761904762,
           0.8809523809523809,
           0.7619047619047619,
           0.9761904761904762,
           0.9761904761904762,
           0.8809523809523809,
           0.8333333333333334,
           0.8809523809523809,
           0.9761904761904762,
           0.7857142857142857,
           0.8809523809523809,
           0.7857142857142857,
           0.7619047619047619,
           0.8095238095238095,
           0.9761904761904762,
           0.9047619047619048,
           0.5238095238095238,
           0.9761904761904762,
           0.9761904761904762,
           0.8095238095238095,
           0.7857142857142857,
           0.8095238095238095,
           0.8809523809523809,
           0.8571428571428571,
           0.9761904761904762,
           0.7380952380952381,
           0.8095238095238095,
           0.7857142857142857,
           0.7857142857142857,
           0.9761904761904762,
           0.023809523809523808,
           0.7380952380952381,
           0.9047619047619048,
           0.9761904761904762,
           0.9047619047619048,
           0.8333333333333334,
           0.7619047619047619,
           0.8095238095238095,
           0.9047619047619048,
           0.9285714285714286,
           0.9285714285714286,
           0.9761904761904762,
           0.7857142857142857,
           0.8571428571428571,
           0.8095238095238095,
           0.023809523809523808,
           0.7142857142857143,
           0.7380952380952381,
           0.8571428571428571,
           0.9285714285714286,
           0.7857142857142857,
           0.9761904761904762,
           0.7857142857142857,
           0.8571428571428571,
           0.9523809523809523,
           0.023809523809523808,
           0.2857142857142857,
           0.9761904761904762,
           0.8571428571428571,
           0.7619047619047619,
           0.023809523809523808,
           0.8095238095238095,
           0.7619047619047619,
           0.7619047619047619,
           0.5476190476190477,
           0.7380952380952381,
           0.8809523809523809,
           0.9285714285714286,
           0.7142857142857143,
           0.7619047619047619,
           0.5,
           0.8571428571428571,
           0.9285714285714286,
           0.7619047619047619,
           0.8571428571428571,
           0.7857142857142857,
           0.9047619047619048,
           0.9761904761904762,
           0.7142857142857143,
           0.7619047619047619,
           0.8571428571428571,
           0.8571428571428571,
           0.7619047619047619,
           0.7619047619047619,
           0.7380952380952381,
           0.9047619047619048,
           0.8809523809523809,
           0.7857142857142857,
           0.8809523809523809,
           0.023809523809523808,
           0.7142857142857143,
           0.7380952380952381,
           0.9047619047619048,
           0.9761904761904762,
           0.7142857142857143,
           0.023809523809523808,
           0.7857142857142857,
           0.9761904761904762,
           0.9523809523809523,
           0.7619047619047619,
           0.7857142857142857,
           0.8095238095238095,
           0.023809523809523808,
           0.023809523809523808,
           0.9761904761904762,
           0.8333333333333334,
           0.7142857142857143,
           0.9285714285714286,
           0.7619047619047619,
           0.9523809523809523,
           0.7380952380952381,
           0.6190476190476191,
           0.7380952380952381,
           0.7142857142857143,
           0.7857142857142857,
           0.7380952380952381,
           0.7380952380952381,
           0.7380952380952381,
           0.7142857142857143,
           0.7142857142857143,
           0.8333333333333334,
           0.7142857142857143,
           1,
           0.9285714285714286,
           0.8571428571428571,
           0.8571428571428571,
           0.5,
           0.7619047619047619,
           0.7142857142857143,
           0.8571428571428571,
           0.7142857142857143,
           0.2857142857142857,
           0.7857142857142857,
           0.6666666666666666,
           0.7619047619047619,
           0.38095238095238093,
           0.47619047619047616,
           0.023809523809523808,
           0.8571428571428571,
           0.3333333333333333,
           0.8571428571428571,
           0.7380952380952381,
           0.4523809523809524,
           0.8095238095238095,
           0.47619047619047616,
           0.5714285714285714,
           0.8571428571428571,
           0.8809523809523809,
           0.7142857142857143,
           0.7380952380952381,
           0.7619047619047619,
           0.7142857142857143,
           0.8333333333333334,
           0.8571428571428571,
           0.7619047619047619,
           0.5,
           0.09523809523809523,
           0.7380952380952381,
           0.7619047619047619,
           0.19047619047619047,
           0.8095238095238095,
           0.7857142857142857,
           0.8333333333333334,
           0.7380952380952381,
           0.47619047619047616,
           0.3333333333333333,
           0.023809523809523808,
           0.11904761904761904,
           0.5476190476190477,
           0.23809523809523808,
           0.7619047619047619,
           0.7380952380952381,
           0.7619047619047619,
           0.11904761904761904,
           0.023809523809523808,
           0.7380952380952381,
           0.8333333333333334,
           0.7619047619047619,
           0.7380952380952381,
           0.38095238095238093,
           0.5952380952380952,
           0.8095238095238095,
           0.8095238095238095,
           0.7142857142857143,
           0.35714285714285715,
           0.6190476190476191,
           0.023809523809523808,
           0.6428571428571429,
           0.35714285714285715,
           0.21428571428571427,
           0.2619047619047619,
           0.7380952380952381,
           0.6428571428571429,
           0.5952380952380952,
           0.19047619047619047,
           0.7142857142857143,
           0.19047619047619047,
           0.047619047619047616,
           0.023809523809523808,
           0.16666666666666666,
           0.38095238095238093,
           0.16666666666666666,
           0.023809523809523808,
           0.2619047619047619,
           0.5238095238095238,
           0.047619047619047616,
           0.023809523809523808,
           0.023809523809523808,
           0.11904761904761904,
           0.21428571428571427,
           0.023809523809523808,
           0.07142857142857142,
           0.023809523809523808,
           0.09523809523809523,
           0.8333333333333334,
           0.023809523809523808,
           0.023809523809523808,
           0.8809523809523809,
           0.7380952380952381,
           0.7619047619047619,
           0.16666666666666666,
           0.023809523809523808,
           0.023809523809523808,
           0.7619047619047619,
           0.8809523809523809,
           0.5476190476190477,
           0.3333333333333333,
           0.4523809523809524,
           0.40476190476190477,
           0.14285714285714285,
           0.07142857142857142,
           0.19047619047619047,
           0.30952380952380953,
           0.47619047619047616,
           0.023809523809523808,
           0.16666666666666666,
           0.07142857142857142,
           0.023809523809523808,
           0.07142857142857142,
           0.047619047619047616,
           0.047619047619047616,
           0.07142857142857142,
           0.047619047619047616,
           0.07142857142857142,
           0.047619047619047616,
           0.023809523809523808,
           0.07142857142857142,
           0.023809523809523808,
           0.047619047619047616,
           0.023809523809523808,
           0.023809523809523808,
           0.023809523809523808,
           0.023809523809523808,
           0.023809523809523808
          ],
          "size": [
           5.169304370880127,
           12.383881568908691,
           2.950728416442871,
           3.2394394874572754,
           5.797037601470947,
           3.491334915161133,
           7.946142196655273,
           4.886739730834961,
           1.9125020503997803,
           3.3031857013702393,
           7.527618885040283,
           11.443883895874023,
           12.023859024047852,
           3.7651724815368652,
           4.667210102081299,
           3.210320472717285,
           8.56594467163086,
           4.915120601654053,
           7.699710845947266,
           8.036958694458008,
           2.5940656661987305,
           3.6015379428863525,
           9.078606605529785,
           5.807929992675781,
           7.813838958740234,
           6.740826606750488,
           5.033555030822754,
           5.155589580535889,
           5.870794296264648,
           2.4510393142700195,
           6.793848991394043,
           2.370922088623047,
           2.040494203567505,
           1.1924554109573364,
           3.8147363662719727,
           7.512545585632324,
           3.153862476348877,
           3.153406858444214,
           3.7181663513183594,
           1.3715648651123047,
           5.23274040222168,
           7.05785608291626,
           8.04429817199707,
           2.0187594890594482,
           8.931599617004395,
           7.49365758895874,
           3.4916868209838867,
           6.199788570404053,
           2.2870779037475586,
           4.313973903656006,
           2.5498993396759033,
           3.401005744934082,
           3.1473445892333984,
           13.06863021850586,
           3.723160743713379,
           4.4050798416137695,
           1.2482943534851074,
           5.678144931793213,
           8.555618286132812,
           3.2191731929779053,
           4.379782676696777,
           5.99501371383667,
           5.673834800720215,
           3.87705659866333,
           3.166658401489258,
           6.596050262451172,
           3.289698362350464,
           4.50327730178833,
           4.914271354675293,
           2.5276129245758057,
           6.2993903160095215,
           5.266557216644287,
           2.6258962154388428,
           2.2089667320251465,
           10.896867752075195,
           4.7524919509887695,
           4.208785057067871,
           2.406562566757202,
           2.747075319290161,
           4.499538421630859,
           8.853349685668945,
           8.36544418334961,
           2.0144007205963135,
           5.347407817840576,
           4.062931060791016,
           5.009930610656738,
           2.1875758171081543,
           2.7065038681030273,
           4.224015235900879,
           3.115090847015381,
           2.7167513370513916,
           3.534064292907715,
           1.9568346738815308,
           7.697083950042725,
           2.1127634048461914,
           1.908861756324768,
           2.809307098388672,
           1.8413865566253662,
           1.3343356847763062,
           3.771310329437256,
           2.9705162048339844,
           4.7913360595703125,
           6.59982967376709,
           4.633951187133789,
           3.77087664604187,
           2.163646697998047,
           2.280345916748047,
           1.3037140369415283,
           6.746522426605225,
           2.463197708129883,
           5.190887451171875,
           1.6445045471191406,
           3.178708791732788,
           10.845022201538086,
           3.0011463165283203,
           3.260023355484009,
           6.232069969177246,
           1.9530963897705078,
           5.574817180633545,
           12.015569686889648,
           2.1008105278015137,
           2.1519010066986084,
           7.758929252624512,
           2.712942600250244,
           1.4625532627105713,
           3.002321720123291,
           3.7679591178894043,
           8.058732986450195,
           2.5599160194396973,
           3.286634922027588,
           3.9463322162628174,
           2.551621437072754,
           5.229525566101074,
           2.7006728649139404,
           4.463506698608398,
           1.981055498123169,
           2.2995901107788086,
           4.195960521697998,
           3.168302059173584,
           2.4259533882141113,
           2.317641496658325,
           1.6495935916900635,
           2.7324047088623047,
           3.417587995529175,
           2.873077869415283,
           4.743292808532715,
           1.8179482221603394,
           9.637219429016113,
           3.9708707332611084,
           3.5646276473999023,
           2.6073691844940186,
           4.194862365722656,
           5.25830078125,
           1.4195549488067627,
           2.395747661590576,
           3.1688411235809326,
           2.665182113647461,
           5.748525619506836,
           3.3181447982788086,
           3.217630624771118,
           4.845697402954102,
           4.48604679107666,
           4.200050354003906,
           4.783515930175781,
           4.3628716468811035,
           4.476266860961914,
           4.191478252410889,
           1.3493549823760986,
           3.640451431274414,
           3.090762138366699,
           5.502739906311035,
           1.8413883447647095,
           4.186521530151367,
           1.8507304191589355,
           2.7128262519836426,
           3.679513692855835,
           3.0356264114379883,
           4.687291622161865,
           5.075215816497803,
           2.457689046859741,
           2.463624954223633,
           2.873380661010742,
           2.55540132522583,
           1.8516969680786133,
           4.064118385314941,
           6.108698844909668,
           3.4881181716918945,
           7.490363597869873,
           3.007474899291992,
           2.37526798248291,
           3.0951449871063232,
           1.3601651191711426,
           5.565934181213379,
           4.540031433105469,
           5.631135940551758,
           1.406055212020874,
           1.8646456003189087,
           1.6161913871765137,
           2.1331489086151123,
           1.8372809886932373,
           1.6018683910369873,
           1.9668406248092651,
           3.98795747756958,
           2.698657751083374,
           3.463099718093872,
           1.6835191249847412,
           1.7654469013214111,
           1.3769469261169434,
           2.1410298347473145,
           1.382291316986084,
           2.245408535003662,
           2.8543806076049805,
           2.00704026222229,
           2.6072466373443604,
           2.0921385288238525,
           2.6395506858825684,
           1.702498435974121,
           2.0562102794647217,
           4.13962984085083,
           3.2773163318634033,
           2.076881170272827,
           2.2357566356658936,
           1.6520999670028687,
           1.7550063133239746,
           1.1863213777542114,
           1.5230005979537964,
           2.177032947540283,
           1.852301836013794,
           2.7436234951019287,
           2.349181890487671,
           2.605241537094116,
           2.1675291061401367,
           2.6808388233184814,
           1.900883436203003,
           1.7617073059082031,
           3.2664794921875,
           2.079862594604492,
           2.276158332824707,
           1.2729511260986328,
           2.1374053955078125,
           1.6231316328048706,
           2.1052796840667725,
           4.004675388336182,
           3.9484729766845703,
           1.6612704992294312,
           1.6466552019119263,
           1.6339324712753296,
           1.5829544067382812,
           1.4080432653427124,
           1.9932032823562622,
           1.8510817289352417,
           2.0124740600585938,
           2.381505250930786,
           1.1874992847442627,
           2.230038642883301,
           1.585217833518982,
           1.5347082614898682,
           1.6363837718963623,
           1.608621597290039,
           1.3083693981170654,
           1.2846870422363281,
           1.339192509651184,
           1.5670742988586426
          ],
          "sizemode": "area",
          "sizeref": 0.032671575546264646,
          "symbol": "circle"
         },
         "mode": "markers",
         "name": "",
         "orientation": "v",
         "showlegend": false,
         "type": "scatter",
         "x": [
          67,
          70,
          79,
          74.38709677419355,
          67,
          62.9,
          64,
          83,
          68,
          56,
          78.16216216216216,
          83.5,
          31,
          32,
          86.75675675675676,
          32.08571428571429,
          25.72972972972973,
          65,
          74.27272727272727,
          24.83783783783784,
          39.36363636363637,
          59.5,
          51.705882352941174,
          23,
          33.078947368421055,
          71.95454545454545,
          20,
          26,
          86.32352941176471,
          25.78787878787879,
          23.852941176470587,
          74.05405405405405,
          80.72222222222223,
          42,
          70.03225806451613,
          36.294117647058826,
          87.27272727272727,
          79.18181818181819,
          55.02439024390244,
          29,
          30,
          61.973684210526315,
          25,
          78.26315789473684,
          51.05714285714286,
          20.5,
          73.29411764705883,
          79.76315789473684,
          62.205128205128204,
          24,
          36,
          61.72727272727273,
          77.05555555555556,
          36.14705882352941,
          24,
          63.63333333333333,
          57.03225806451613,
          29.27777777777778,
          28.82051282051282,
          20.727272727272727,
          39,
          49.72727272727273,
          33.97222222222222,
          59,
          29,
          71,
          19,
          28.27777777777778,
          33.75,
          28,
          23.970588235294116,
          33.0625,
          37,
          58.82608695652174,
          39.38709677419355,
          56.729729729729726,
          84.17948717948718,
          19.3,
          71.375,
          74.23809523809524,
          45.388888888888886,
          22,
          47.5,
          30.22222222222222,
          91.60606060606061,
          26.68421052631579,
          46,
          71.8,
          18.6875,
          18.833333333333332,
          31.27777777777778,
          25.625,
          59.5,
          42.67741935483871,
          48.94736842105263,
          66.13513513513513,
          84.87878787878788,
          75.91891891891892,
          23,
          48.233333333333334,
          28.70967741935484,
          22.026315789473685,
          30,
          56.13333333333333,
          36,
          15.757575757575758,
          48,
          38.85,
          92.4375,
          67.78787878787878,
          16.147058823529413,
          64,
          35,
          38,
          21.085714285714285,
          41.96666666666667,
          39.205128205128204,
          15.34375,
          32.325,
          57.83870967741935,
          43.76923076923077,
          28.096774193548388,
          86.23333333333333,
          30.939393939393938,
          51.25806451612903,
          63.354838709677416,
          90.25806451612904,
          84.5,
          54.666666666666664,
          22.65714285714286,
          36.53333333333333,
          51.976190476190474,
          44.87179487179487,
          45.388888888888886,
          37.72222222222222,
          26.952380952380953,
          66,
          18.4,
          32.69444444444444,
          48.46666666666667,
          32,
          59.45454545454545,
          48.535714285714285,
          44.5,
          35.375,
          38.6,
          43,
          44.55555555555556,
          86.78571428571429,
          32,
          78.3225806451613,
          40.78947368421053,
          25.558823529411764,
          79.45,
          59.333333333333336,
          25,
          27.16216216216216,
          32.03333333333333,
          57.83870967741935,
          24.25,
          64.46666666666667,
          50.65714285714286,
          33.94444444444444,
          43,
          33.61904761904762,
          41,
          51.193548387096776,
          54.6875,
          17,
          41.470588235294116,
          47.09090909090909,
          23.114285714285714,
          30.64516129032258,
          48.4,
          13.428571428571429,
          42,
          36.8,
          27.130434782608695,
          75.7,
          36.1875,
          37.16129032258065,
          48.59375,
          34,
          41,
          33.25806451612903,
          41.57142857142857,
          53.5,
          33.225806451612904,
          40.5,
          23.72,
          25.264705882352942,
          66.8529411764706,
          34.266666666666666,
          44.266666666666666,
          29.73076923076923,
          37,
          51.03703703703704,
          27.2,
          54.44444444444444,
          23.09090909090909,
          56.806451612903224,
          40.592592592592595,
          20.64,
          47.5,
          42.3,
          63.625,
          32,
          92,
          35.57142857142857,
          27.4375,
          44.857142857142854,
          68,
          95.63636363636364,
          18.772727272727273,
          55.5,
          43,
          39,
          42.4,
          45.22222222222222,
          98,
          81.33333333333333,
          36,
          39.75,
          83.42857142857143,
          67,
          66,
          35.027027027027025,
          70.96774193548387,
          38.90625,
          67.42857142857143,
          32,
          44,
          84,
          29.216216216216218,
          23.26086956521739,
          20.357142857142858,
          18.63157894736842,
          52.23529411764706,
          75,
          75.33333333333333,
          21.25,
          44.38461538461539,
          51.05,
          56,
          37,
          72.66666666666667,
          39,
          51.666666666666664,
          64,
          95,
          61.333333333333336,
          43.5,
          55.333333333333336,
          41.5,
          28,
          31.333333333333332,
          37,
          44.5,
          60,
          88,
          38,
          40,
          32
         ],
         "xaxis": "x4",
         "y": [
          47,
          36,
          31,
          29.35483870967742,
          41,
          50.56666666666667,
          47,
          28,
          27,
          27,
          23.729729729729726,
          27.5,
          31,
          56,
          24.135135135135137,
          58.51428571428571,
          27.83783783783784,
          35,
          40.72727272727273,
          55.81081081081081,
          58.54545454545455,
          50.5,
          30.14705882352942,
          37,
          24.76315789473685,
          24.272727272727266,
          43,
          49,
          34.44117647058823,
          56.45454545454545,
          33.29411764705881,
          35.91891891891892,
          34.27777777777777,
          56,
          39.258064516129025,
          35.14705882352942,
          24.727272727272734,
          23.636363636363637,
          52.804878048780495,
          34,
          38.61290322580646,
          30.18421052631578,
          30,
          34.0263157894737,
          23.657142857142844,
          52.5,
          24.85294117647058,
          28.78947368421052,
          26.358974358974365,
          40,
          50,
          39.27272727272728,
          39.111111111111114,
          20.705882352941188,
          46,
          37.53333333333333,
          13.870967741935488,
          25.72222222222223,
          18.974358974358978,
          51.27272727272728,
          42,
          34.27272727272728,
          15.277777777777771,
          53.9,
          26,
          50.75,
          46,
          42.72222222222223,
          44.375,
          33,
          23.058823529411768,
          14.84375,
          52.5,
          45,
          28.064516129032256,
          34.16216216216216,
          18.97435897435895,
          28.53333333333333,
          47.65625,
          43.04761904761905,
          29.444444444444457,
          25,
          53.5,
          35.30555555555554,
          31.636363636363637,
          19.84210526315789,
          46,
          32.80000000000001,
          34.96875,
          32.22222222222223,
          54.27777777777777,
          48,
          33.5,
          36.87096774193549,
          56.23684210526316,
          21.756756756756744,
          18.393939393939394,
          40.16216216216219,
          47,
          39.23333333333332,
          46.51612903225808,
          37.263157894736835,
          31,
          38.33333333333334,
          31,
          45.78787878787878,
          28,
          56.875,
          23.9375,
          16.818181818181813,
          37.58823529411765,
          26,
          30,
          26,
          53.82857142857143,
          50.30000000000001,
          15.358974358974365,
          50.75,
          25.399999999999977,
          20.903225806451616,
          57.07692307692308,
          51.935483870967744,
          14.899999999999977,
          50.484848484848484,
          58.096774193548384,
          39.12903225806451,
          31.25806451612904,
          26.69999999999999,
          54.166666666666664,
          45.94285714285715,
          34.133333333333326,
          44.309523809523796,
          12.051282051282044,
          47.638888888888886,
          44.388888888888886,
          56.71428571428572,
          45.40625,
          41.73333333333332,
          37.666666666666664,
          49.16666666666667,
          47.5,
          44.24242424242425,
          44.60714285714286,
          23.5,
          10.5,
          18.94999999999999,
          33,
          22.75,
          33.35714285714283,
          18.72222222222223,
          28.032258064516128,
          12.63157894736841,
          27.14705882352939,
          24.100000000000023,
          26.791666666666657,
          34.25,
          27,
          38.69999999999999,
          50.03225806451613,
          31.78125,
          21.900000000000006,
          18.657142857142844,
          52.55555555555556,
          31.5,
          30.85714285714286,
          32.5,
          12.741935483870975,
          28.9375,
          27.5,
          19.441176470588232,
          36.39393939393938,
          42.2,
          22.774193548387103,
          10.949999999999989,
          32.35714285714286,
          14,
          21.80000000000001,
          21.82608695652175,
          22.30000000000001,
          42.9375,
          16.19354838709677,
          19.6875,
          10.800000000000011,
          13,
          52.064516129032256,
          39.17142857142858,
          38.5,
          19.25806451612904,
          9.5625,
          18.28,
          40.23529411764707,
          32.970588235294116,
          39.93333333333334,
          18.933333333333337,
          37.92307692307692,
          30,
          33.925925925925924,
          51.866666666666674,
          11.444444444444457,
          16.636363636363626,
          25.80645161290323,
          46.44444444444446,
          34.31999999999999,
          41,
          39.73333333333332,
          49,
          43.5,
          26,
          25.285714285714278,
          40.75,
          9.428571428571416,
          28,
          35.90909090909091,
          21.136363636363626,
          10,
          7,
          10,
          22.799999999999997,
          14.333333333333314,
          33,
          7.666666666666667,
          12,
          15.75,
          19.171428571428578,
          45,
          44,
          50.16216216216219,
          45.225806451612925,
          49.25,
          51.85714285714286,
          24,
          34,
          36.90625,
          52.621621621621614,
          23.52173913043478,
          37.214285714285715,
          33.05263157894737,
          51.470588235294116,
          20.83333333333333,
          30.666666666666686,
          49.125,
          6.461538461538453,
          40,
          7,
          35.71428571428571,
          42.66666666666666,
          18,
          14.666666666666657,
          19.5,
          32.5,
          45.33333333333334,
          13,
          26.666666666666657,
          14,
          48,
          44.33333333333333,
          29,
          15,
          6,
          30,
          27,
          36,
          55
         ],
         "yaxis": "y4"
        }
       ],
       "layout": {
        "annotations": [
         {
          "font": {
           "size": 16
          },
          "showarrow": false,
          "text": "moving stripes",
          "x": 0.5,
          "xanchor": "center",
          "xref": "paper",
          "y": 1,
          "yanchor": "bottom",
          "yref": "paper"
         },
         {
          "font": {
           "size": 16
          },
          "showarrow": false,
          "text": "dots_ON",
          "x": 0.5,
          "xanchor": "center",
          "xref": "paper",
          "y": 0.71875,
          "yanchor": "bottom",
          "yref": "paper"
         },
         {
          "font": {
           "size": 16
          },
          "showarrow": false,
          "text": "dots_OFF",
          "x": 0.5,
          "xanchor": "center",
          "xref": "paper",
          "y": 0.4375,
          "yanchor": "bottom",
          "yref": "paper"
         },
         {
          "font": {
           "size": 16
          },
          "showarrow": false,
          "text": "loom",
          "x": 0.5,
          "xanchor": "center",
          "xref": "paper",
          "y": 0.15625,
          "yanchor": "bottom",
          "yref": "paper"
         }
        ],
        "coloraxis": {
         "colorbar": {
          "len": 0.17,
          "thickness": 15,
          "y": -0.01,
          "yanchor": "bottom"
         },
         "colorscale": [
          [
           0,
           "#0d0887"
          ],
          [
           0.1111111111111111,
           "#46039f"
          ],
          [
           0.2222222222222222,
           "#7201a8"
          ],
          [
           0.3333333333333333,
           "#9c179e"
          ],
          [
           0.4444444444444444,
           "#bd3786"
          ],
          [
           0.5555555555555556,
           "#d8576b"
          ],
          [
           0.6666666666666666,
           "#ed7953"
          ],
          [
           0.7777777777777778,
           "#fb9f3a"
          ],
          [
           0.8888888888888888,
           "#fdca26"
          ],
          [
           1,
           "#f0f921"
          ]
         ]
        },
        "height": 1200,
        "margin": {
         "b": 20,
         "l": 20,
         "r": 20,
         "t": 20
        },
        "showlegend": false,
        "template": {
         "data": {
          "bar": [
           {
            "error_x": {
             "color": "#2a3f5f"
            },
            "error_y": {
             "color": "#2a3f5f"
            },
            "marker": {
             "line": {
              "color": "#E5ECF6",
              "width": 0.5
             },
             "pattern": {
              "fillmode": "overlay",
              "size": 10,
              "solidity": 0.2
             }
            },
            "type": "bar"
           }
          ],
          "barpolar": [
           {
            "marker": {
             "line": {
              "color": "#E5ECF6",
              "width": 0.5
             },
             "pattern": {
              "fillmode": "overlay",
              "size": 10,
              "solidity": 0.2
             }
            },
            "type": "barpolar"
           }
          ],
          "carpet": [
           {
            "aaxis": {
             "endlinecolor": "#2a3f5f",
             "gridcolor": "white",
             "linecolor": "white",
             "minorgridcolor": "white",
             "startlinecolor": "#2a3f5f"
            },
            "baxis": {
             "endlinecolor": "#2a3f5f",
             "gridcolor": "white",
             "linecolor": "white",
             "minorgridcolor": "white",
             "startlinecolor": "#2a3f5f"
            },
            "type": "carpet"
           }
          ],
          "choropleth": [
           {
            "colorbar": {
             "outlinewidth": 0,
             "ticks": ""
            },
            "type": "choropleth"
           }
          ],
          "contour": [
           {
            "colorbar": {
             "outlinewidth": 0,
             "ticks": ""
            },
            "colorscale": [
             [
              0,
              "#0d0887"
             ],
             [
              0.1111111111111111,
              "#46039f"
             ],
             [
              0.2222222222222222,
              "#7201a8"
             ],
             [
              0.3333333333333333,
              "#9c179e"
             ],
             [
              0.4444444444444444,
              "#bd3786"
             ],
             [
              0.5555555555555556,
              "#d8576b"
             ],
             [
              0.6666666666666666,
              "#ed7953"
             ],
             [
              0.7777777777777778,
              "#fb9f3a"
             ],
             [
              0.8888888888888888,
              "#fdca26"
             ],
             [
              1,
              "#f0f921"
             ]
            ],
            "type": "contour"
           }
          ],
          "contourcarpet": [
           {
            "colorbar": {
             "outlinewidth": 0,
             "ticks": ""
            },
            "type": "contourcarpet"
           }
          ],
          "heatmap": [
           {
            "colorbar": {
             "outlinewidth": 0,
             "ticks": ""
            },
            "colorscale": [
             [
              0,
              "#0d0887"
             ],
             [
              0.1111111111111111,
              "#46039f"
             ],
             [
              0.2222222222222222,
              "#7201a8"
             ],
             [
              0.3333333333333333,
              "#9c179e"
             ],
             [
              0.4444444444444444,
              "#bd3786"
             ],
             [
              0.5555555555555556,
              "#d8576b"
             ],
             [
              0.6666666666666666,
              "#ed7953"
             ],
             [
              0.7777777777777778,
              "#fb9f3a"
             ],
             [
              0.8888888888888888,
              "#fdca26"
             ],
             [
              1,
              "#f0f921"
             ]
            ],
            "type": "heatmap"
           }
          ],
          "heatmapgl": [
           {
            "colorbar": {
             "outlinewidth": 0,
             "ticks": ""
            },
            "colorscale": [
             [
              0,
              "#0d0887"
             ],
             [
              0.1111111111111111,
              "#46039f"
             ],
             [
              0.2222222222222222,
              "#7201a8"
             ],
             [
              0.3333333333333333,
              "#9c179e"
             ],
             [
              0.4444444444444444,
              "#bd3786"
             ],
             [
              0.5555555555555556,
              "#d8576b"
             ],
             [
              0.6666666666666666,
              "#ed7953"
             ],
             [
              0.7777777777777778,
              "#fb9f3a"
             ],
             [
              0.8888888888888888,
              "#fdca26"
             ],
             [
              1,
              "#f0f921"
             ]
            ],
            "type": "heatmapgl"
           }
          ],
          "histogram": [
           {
            "marker": {
             "pattern": {
              "fillmode": "overlay",
              "size": 10,
              "solidity": 0.2
             }
            },
            "type": "histogram"
           }
          ],
          "histogram2d": [
           {
            "colorbar": {
             "outlinewidth": 0,
             "ticks": ""
            },
            "colorscale": [
             [
              0,
              "#0d0887"
             ],
             [
              0.1111111111111111,
              "#46039f"
             ],
             [
              0.2222222222222222,
              "#7201a8"
             ],
             [
              0.3333333333333333,
              "#9c179e"
             ],
             [
              0.4444444444444444,
              "#bd3786"
             ],
             [
              0.5555555555555556,
              "#d8576b"
             ],
             [
              0.6666666666666666,
              "#ed7953"
             ],
             [
              0.7777777777777778,
              "#fb9f3a"
             ],
             [
              0.8888888888888888,
              "#fdca26"
             ],
             [
              1,
              "#f0f921"
             ]
            ],
            "type": "histogram2d"
           }
          ],
          "histogram2dcontour": [
           {
            "colorbar": {
             "outlinewidth": 0,
             "ticks": ""
            },
            "colorscale": [
             [
              0,
              "#0d0887"
             ],
             [
              0.1111111111111111,
              "#46039f"
             ],
             [
              0.2222222222222222,
              "#7201a8"
             ],
             [
              0.3333333333333333,
              "#9c179e"
             ],
             [
              0.4444444444444444,
              "#bd3786"
             ],
             [
              0.5555555555555556,
              "#d8576b"
             ],
             [
              0.6666666666666666,
              "#ed7953"
             ],
             [
              0.7777777777777778,
              "#fb9f3a"
             ],
             [
              0.8888888888888888,
              "#fdca26"
             ],
             [
              1,
              "#f0f921"
             ]
            ],
            "type": "histogram2dcontour"
           }
          ],
          "mesh3d": [
           {
            "colorbar": {
             "outlinewidth": 0,
             "ticks": ""
            },
            "type": "mesh3d"
           }
          ],
          "parcoords": [
           {
            "line": {
             "colorbar": {
              "outlinewidth": 0,
              "ticks": ""
             }
            },
            "type": "parcoords"
           }
          ],
          "pie": [
           {
            "automargin": true,
            "type": "pie"
           }
          ],
          "scatter": [
           {
            "fillpattern": {
             "fillmode": "overlay",
             "size": 10,
             "solidity": 0.2
            },
            "type": "scatter"
           }
          ],
          "scatter3d": [
           {
            "line": {
             "colorbar": {
              "outlinewidth": 0,
              "ticks": ""
             }
            },
            "marker": {
             "colorbar": {
              "outlinewidth": 0,
              "ticks": ""
             }
            },
            "type": "scatter3d"
           }
          ],
          "scattercarpet": [
           {
            "marker": {
             "colorbar": {
              "outlinewidth": 0,
              "ticks": ""
             }
            },
            "type": "scattercarpet"
           }
          ],
          "scattergeo": [
           {
            "marker": {
             "colorbar": {
              "outlinewidth": 0,
              "ticks": ""
             }
            },
            "type": "scattergeo"
           }
          ],
          "scattergl": [
           {
            "marker": {
             "colorbar": {
              "outlinewidth": 0,
              "ticks": ""
             }
            },
            "type": "scattergl"
           }
          ],
          "scattermapbox": [
           {
            "marker": {
             "colorbar": {
              "outlinewidth": 0,
              "ticks": ""
             }
            },
            "type": "scattermapbox"
           }
          ],
          "scatterpolar": [
           {
            "marker": {
             "colorbar": {
              "outlinewidth": 0,
              "ticks": ""
             }
            },
            "type": "scatterpolar"
           }
          ],
          "scatterpolargl": [
           {
            "marker": {
             "colorbar": {
              "outlinewidth": 0,
              "ticks": ""
             }
            },
            "type": "scatterpolargl"
           }
          ],
          "scatterternary": [
           {
            "marker": {
             "colorbar": {
              "outlinewidth": 0,
              "ticks": ""
             }
            },
            "type": "scatterternary"
           }
          ],
          "surface": [
           {
            "colorbar": {
             "outlinewidth": 0,
             "ticks": ""
            },
            "colorscale": [
             [
              0,
              "#0d0887"
             ],
             [
              0.1111111111111111,
              "#46039f"
             ],
             [
              0.2222222222222222,
              "#7201a8"
             ],
             [
              0.3333333333333333,
              "#9c179e"
             ],
             [
              0.4444444444444444,
              "#bd3786"
             ],
             [
              0.5555555555555556,
              "#d8576b"
             ],
             [
              0.6666666666666666,
              "#ed7953"
             ],
             [
              0.7777777777777778,
              "#fb9f3a"
             ],
             [
              0.8888888888888888,
              "#fdca26"
             ],
             [
              1,
              "#f0f921"
             ]
            ],
            "type": "surface"
           }
          ],
          "table": [
           {
            "cells": {
             "fill": {
              "color": "#EBF0F8"
             },
             "line": {
              "color": "white"
             }
            },
            "header": {
             "fill": {
              "color": "#C8D4E3"
             },
             "line": {
              "color": "white"
             }
            },
            "type": "table"
           }
          ]
         },
         "layout": {
          "annotationdefaults": {
           "arrowcolor": "#2a3f5f",
           "arrowhead": 0,
           "arrowwidth": 1
          },
          "autotypenumbers": "strict",
          "coloraxis": {
           "colorbar": {
            "outlinewidth": 0,
            "ticks": ""
           }
          },
          "colorscale": {
           "diverging": [
            [
             0,
             "#8e0152"
            ],
            [
             0.1,
             "#c51b7d"
            ],
            [
             0.2,
             "#de77ae"
            ],
            [
             0.3,
             "#f1b6da"
            ],
            [
             0.4,
             "#fde0ef"
            ],
            [
             0.5,
             "#f7f7f7"
            ],
            [
             0.6,
             "#e6f5d0"
            ],
            [
             0.7,
             "#b8e186"
            ],
            [
             0.8,
             "#7fbc41"
            ],
            [
             0.9,
             "#4d9221"
            ],
            [
             1,
             "#276419"
            ]
           ],
           "sequential": [
            [
             0,
             "#0d0887"
            ],
            [
             0.1111111111111111,
             "#46039f"
            ],
            [
             0.2222222222222222,
             "#7201a8"
            ],
            [
             0.3333333333333333,
             "#9c179e"
            ],
            [
             0.4444444444444444,
             "#bd3786"
            ],
            [
             0.5555555555555556,
             "#d8576b"
            ],
            [
             0.6666666666666666,
             "#ed7953"
            ],
            [
             0.7777777777777778,
             "#fb9f3a"
            ],
            [
             0.8888888888888888,
             "#fdca26"
            ],
            [
             1,
             "#f0f921"
            ]
           ],
           "sequentialminus": [
            [
             0,
             "#0d0887"
            ],
            [
             0.1111111111111111,
             "#46039f"
            ],
            [
             0.2222222222222222,
             "#7201a8"
            ],
            [
             0.3333333333333333,
             "#9c179e"
            ],
            [
             0.4444444444444444,
             "#bd3786"
            ],
            [
             0.5555555555555556,
             "#d8576b"
            ],
            [
             0.6666666666666666,
             "#ed7953"
            ],
            [
             0.7777777777777778,
             "#fb9f3a"
            ],
            [
             0.8888888888888888,
             "#fdca26"
            ],
            [
             1,
             "#f0f921"
            ]
           ]
          },
          "colorway": [
           "#636efa",
           "#EF553B",
           "#00cc96",
           "#ab63fa",
           "#FFA15A",
           "#19d3f3",
           "#FF6692",
           "#B6E880",
           "#FF97FF",
           "#FECB52"
          ],
          "font": {
           "color": "#2a3f5f"
          },
          "geo": {
           "bgcolor": "white",
           "lakecolor": "white",
           "landcolor": "#E5ECF6",
           "showlakes": true,
           "showland": true,
           "subunitcolor": "white"
          },
          "hoverlabel": {
           "align": "left"
          },
          "hovermode": "closest",
          "mapbox": {
           "style": "light"
          },
          "paper_bgcolor": "white",
          "plot_bgcolor": "#E5ECF6",
          "polar": {
           "angularaxis": {
            "gridcolor": "white",
            "linecolor": "white",
            "ticks": ""
           },
           "bgcolor": "#E5ECF6",
           "radialaxis": {
            "gridcolor": "white",
            "linecolor": "white",
            "ticks": ""
           }
          },
          "scene": {
           "xaxis": {
            "backgroundcolor": "#E5ECF6",
            "gridcolor": "white",
            "gridwidth": 2,
            "linecolor": "white",
            "showbackground": true,
            "ticks": "",
            "zerolinecolor": "white"
           },
           "yaxis": {
            "backgroundcolor": "#E5ECF6",
            "gridcolor": "white",
            "gridwidth": 2,
            "linecolor": "white",
            "showbackground": true,
            "ticks": "",
            "zerolinecolor": "white"
           },
           "zaxis": {
            "backgroundcolor": "#E5ECF6",
            "gridcolor": "white",
            "gridwidth": 2,
            "linecolor": "white",
            "showbackground": true,
            "ticks": "",
            "zerolinecolor": "white"
           }
          },
          "shapedefaults": {
           "line": {
            "color": "#2a3f5f"
           }
          },
          "ternary": {
           "aaxis": {
            "gridcolor": "white",
            "linecolor": "white",
            "ticks": ""
           },
           "baxis": {
            "gridcolor": "white",
            "linecolor": "white",
            "ticks": ""
           },
           "bgcolor": "#E5ECF6",
           "caxis": {
            "gridcolor": "white",
            "linecolor": "white",
            "ticks": ""
           }
          },
          "title": {
           "x": 0.05
          },
          "xaxis": {
           "automargin": true,
           "gridcolor": "white",
           "linecolor": "white",
           "ticks": "",
           "title": {
            "standoff": 15
           },
           "zerolinecolor": "white",
           "zerolinewidth": 2
          },
          "yaxis": {
           "automargin": true,
           "gridcolor": "white",
           "linecolor": "white",
           "ticks": "",
           "title": {
            "standoff": 15
           },
           "zerolinecolor": "white",
           "zerolinewidth": 2
          }
         }
        },
        "width": 600,
        "xaxis": {
         "anchor": "y",
         "domain": [
          0,
          1
         ],
         "matches": "x4",
         "range": [
          0,
          128
         ],
         "showticklabels": false
        },
        "xaxis2": {
         "anchor": "y2",
         "domain": [
          0,
          1
         ],
         "matches": "x4",
         "range": [
          0,
          128
         ],
         "showticklabels": false
        },
        "xaxis3": {
         "anchor": "y3",
         "domain": [
          0,
          1
         ],
         "matches": "x4",
         "range": [
          0,
          128
         ],
         "showticklabels": false
        },
        "xaxis4": {
         "anchor": "y4",
         "domain": [
          0,
          1
         ],
         "range": [
          0,
          128
         ]
        },
        "yaxis": {
         "anchor": "x",
         "domain": [
          0.84375,
          1
         ],
         "range": [
          0,
          64
         ]
        },
        "yaxis2": {
         "anchor": "x2",
         "domain": [
          0.5625,
          0.71875
         ],
         "range": [
          0,
          64
         ]
        },
        "yaxis3": {
         "anchor": "x3",
         "domain": [
          0.28125,
          0.4375
         ],
         "range": [
          0,
          64
         ]
        },
        "yaxis4": {
         "anchor": "x4",
         "domain": [
          0,
          0.15625
         ],
         "range": [
          0,
          64
         ]
        }
       }
      }
     },
     "metadata": {},
     "output_type": "display_data"
    }
   ],
   "source": [
    "import plotly.express as px\n",
    "import plotly.subplots as sp\n",
    "\n",
    "# Get unique stimtypes\n",
    "unique_stimtypes = pooled_data['stimtype'].unique()\n",
    "\n",
    "# Create a subplot with a number of rows equal to the number of unique stimtypes\n",
    "num_stimtypes = len(unique_stimtypes)\n",
    "fig = sp.make_subplots(rows=num_stimtypes, cols=1, shared_xaxes=True, subplot_titles=unique_stimtypes)\n",
    "\n",
    "# Loop through each stimtype and generate a scatter plot for each\n",
    "for i, stimtype in enumerate(unique_stimtypes):\n",
    "    # Filter the DataFrame for the current stimtype\n",
    "    filtered_data = pooled_data[pooled_data['stimtype'] == stimtype]\n",
    "    \n",
    "    # Create the scatter plot for this stimtype\n",
    "    scatter = px.scatter(\n",
    "        x=filtered_data['x_centroid'],\n",
    "        y=filtered_data['y_centroid'] % y_res,\n",
    "        color=filtered_data['plane_depth'],\n",
    "        size=abs(filtered_data['amplitude']),\n",
    "        opacity=filtered_data['size'] / filtered_data['size'].max()\n",
    "    )\n",
    "\n",
    "    # Add the scatter plot to the subplot\n",
    "    for trace in scatter['data']:\n",
    "        fig.add_trace(trace, row=i + 1, col=1)\n",
    "\n",
    "# Update layout\n",
    "fig.update_layout(coloraxis=dict(colorscale='Plasma', colorbar=dict(thickness=15, len=0.17, yanchor='bottom', y=-0.01)), \n",
    "                  height=300 * num_stimtypes, width=600, showlegend=False, \n",
    "                  margin=dict(l=20, r=20, t=20, b=20))\n",
    "\n",
    "# Set axis ranges\n",
    "fig.update_xaxes(range=[0, 128])\n",
    "fig.update_yaxes(range=[0, 64])\n",
    "\n",
    "# Show the figure\n",
    "fig.show()"
   ]
  },
  {
   "cell_type": "code",
   "execution_count": 463,
   "metadata": {},
   "outputs": [
    {
     "data": {
      "application/vnd.plotly.v1+json": {
       "config": {
        "plotlyServerURL": "https://plot.ly"
       },
       "data": [
        {
         "hovertemplate": "x=%{x}<br>y=%{y}<br>size=%{marker.size}<br>color=%{marker.color}<extra></extra>",
         "legendgroup": "",
         "marker": {
          "color": [
           282.5,
           215,
           282.5,
           282.5,
           215,
           282.5,
           215,
           215,
           147.49999999999997,
           80,
           215,
           282.5,
           80,
           215,
           282.5,
           282.5,
           80,
           147.49999999999997,
           282.5,
           215,
           282.5,
           215,
           80,
           147.49999999999997,
           80,
           215,
           147.49999999999997,
           147.49999999999997,
           282.5,
           282.5,
           80,
           282.5,
           215,
           215,
           147.49999999999997,
           80,
           215,
           282.5,
           215,
           80,
           80,
           147.49999999999997,
           147.49999999999997,
           350,
           80,
           215,
           147.49999999999997,
           350,
           80,
           80,
           147.49999999999997,
           147.49999999999997,
           215,
           80,
           147.49999999999997,
           215,
           80,
           147.49999999999997,
           80,
           147.49999999999997,
           80,
           80,
           147.49999999999997,
           282.5,
           80,
           282.5,
           215,
           147.49999999999997,
           80,
           80,
           80,
           80,
           215,
           215,
           80,
           147.49999999999997,
           350,
           80,
           215,
           215,
           80,
           147.49999999999997,
           215,
           147.49999999999997,
           282.5,
           147.49999999999997,
           147.49999999999997,
           147.49999999999997,
           80,
           147.49999999999997,
           147.49999999999997,
           215,
           80,
           80,
           282.5,
           147.49999999999997,
           282.5,
           350,
           147.49999999999997,
           80,
           80,
           215,
           12.5,
           80,
           80,
           147.49999999999997,
           12.5,
           147.49999999999997,
           215,
           147.49999999999997,
           147.49999999999997,
           147.49999999999997,
           80,
           12.5,
           282.5,
           147.49999999999997,
           80,
           215,
           12.5,
           80,
           282.5,
           282.5,
           350,
           215,
           215,
           80,
           215,
           350,
           282.5,
           80,
           12.5,
           147.49999999999997,
           80,
           80,
           147.49999999999997,
           147.49999999999997,
           147.49999999999997,
           80,
           282.5,
           215,
           147.49999999999997,
           147.49999999999997,
           80,
           12.5,
           80,
           147.49999999999997,
           80,
           80,
           350,
           12.5,
           147.49999999999997,
           147.49999999999997,
           12.5,
           350,
           147.49999999999997,
           12.5,
           215,
           12.5,
           147.49999999999997,
           215,
           80,
           80,
           282.5,
           12.5,
           147.49999999999997,
           80,
           80,
           12.5,
           147.49999999999997,
           12.5,
           12.5,
           215,
           215,
           147.49999999999997,
           147.49999999999997,
           80,
           12.5,
           12.5,
           147.49999999999997,
           12.5,
           12.5,
           12.5,
           147.49999999999997,
           80,
           80,
           12.5,
           147.49999999999997,
           215,
           80,
           80,
           12.5,
           80,
           147.49999999999997,
           80,
           215,
           12.5,
           147.49999999999997,
           80,
           147.49999999999997,
           147.49999999999997,
           12.5,
           350,
           12.5,
           147.49999999999997,
           147.49999999999997,
           147.49999999999997,
           282.5,
           282.5,
           147.49999999999997,
           282.5,
           147.49999999999997,
           215,
           282.5,
           147.49999999999997,
           80,
           147.49999999999997,
           147.49999999999997,
           215,
           12.5,
           282.5,
           282.5,
           147.49999999999997,
           215,
           215,
           215,
           215,
           350,
           350,
           80,
           215,
           147.49999999999997,
           80,
           350,
           350,
           215,
           282.5,
           215,
           147.49999999999997,
           215,
           350,
           80,
           80,
           12.5,
           80,
           215,
           147.49999999999997,
           215,
           147.49999999999997,
           147.49999999999997,
           215,
           80,
           215,
           147.49999999999997,
           215,
           12.5,
           215,
           147.49999999999997,
           147.49999999999997,
           147.49999999999997,
           350,
           147.49999999999997,
           147.49999999999997,
           80
          ],
          "coloraxis": "coloraxis",
          "opacity": [
           0.9761904761904762,
           0.9761904761904762,
           0.9761904761904762,
           0.7380952380952381,
           0.9285714285714286,
           0.7142857142857143,
           0.9761904761904762,
           0.9761904761904762,
           0.9761904761904762,
           0.9761904761904762,
           0.8809523809523809,
           0.7619047619047619,
           0.9761904761904762,
           0.9761904761904762,
           0.8809523809523809,
           0.8333333333333334,
           0.8809523809523809,
           0.9761904761904762,
           0.7857142857142857,
           0.8809523809523809,
           0.7857142857142857,
           0.7619047619047619,
           0.8095238095238095,
           0.9761904761904762,
           0.9047619047619048,
           0.5238095238095238,
           0.9761904761904762,
           0.9761904761904762,
           0.8095238095238095,
           0.7857142857142857,
           0.8095238095238095,
           0.8809523809523809,
           0.8571428571428571,
           0.9761904761904762,
           0.7380952380952381,
           0.8095238095238095,
           0.7857142857142857,
           0.7857142857142857,
           0.9761904761904762,
           0.023809523809523808,
           0.7380952380952381,
           0.9047619047619048,
           0.9761904761904762,
           0.9047619047619048,
           0.8333333333333334,
           0.7619047619047619,
           0.8095238095238095,
           0.9047619047619048,
           0.9285714285714286,
           0.9285714285714286,
           0.9761904761904762,
           0.7857142857142857,
           0.8571428571428571,
           0.8095238095238095,
           0.023809523809523808,
           0.7142857142857143,
           0.7380952380952381,
           0.8571428571428571,
           0.9285714285714286,
           0.7857142857142857,
           0.9761904761904762,
           0.7857142857142857,
           0.8571428571428571,
           0.9523809523809523,
           0.023809523809523808,
           0.2857142857142857,
           0.9761904761904762,
           0.8571428571428571,
           0.7619047619047619,
           0.023809523809523808,
           0.8095238095238095,
           0.7619047619047619,
           0.7619047619047619,
           0.5476190476190477,
           0.7380952380952381,
           0.8809523809523809,
           0.9285714285714286,
           0.7142857142857143,
           0.7619047619047619,
           0.5,
           0.8571428571428571,
           0.9285714285714286,
           0.7619047619047619,
           0.8571428571428571,
           0.7857142857142857,
           0.9047619047619048,
           0.9761904761904762,
           0.7142857142857143,
           0.7619047619047619,
           0.8571428571428571,
           0.8571428571428571,
           0.7619047619047619,
           0.7619047619047619,
           0.7380952380952381,
           0.9047619047619048,
           0.8809523809523809,
           0.7857142857142857,
           0.8809523809523809,
           0.023809523809523808,
           0.7142857142857143,
           0.7380952380952381,
           0.9047619047619048,
           0.9761904761904762,
           0.7142857142857143,
           0.023809523809523808,
           0.7857142857142857,
           0.9761904761904762,
           0.9523809523809523,
           0.7619047619047619,
           0.7857142857142857,
           0.8095238095238095,
           0.023809523809523808,
           0.023809523809523808,
           0.9761904761904762,
           0.8333333333333334,
           0.7142857142857143,
           0.9285714285714286,
           0.7619047619047619,
           0.9523809523809523,
           0.7380952380952381,
           0.6190476190476191,
           0.7380952380952381,
           0.7142857142857143,
           0.7857142857142857,
           0.7380952380952381,
           0.7380952380952381,
           0.7380952380952381,
           0.7142857142857143,
           0.7142857142857143,
           0.8333333333333334,
           0.7142857142857143,
           1,
           0.9285714285714286,
           0.8571428571428571,
           0.8571428571428571,
           0.5,
           0.7619047619047619,
           0.7142857142857143,
           0.8571428571428571,
           0.7142857142857143,
           0.2857142857142857,
           0.7857142857142857,
           0.6666666666666666,
           0.7619047619047619,
           0.38095238095238093,
           0.47619047619047616,
           0.023809523809523808,
           0.8571428571428571,
           0.3333333333333333,
           0.8571428571428571,
           0.7380952380952381,
           0.4523809523809524,
           0.8095238095238095,
           0.47619047619047616,
           0.5714285714285714,
           0.8571428571428571,
           0.8809523809523809,
           0.7142857142857143,
           0.7380952380952381,
           0.7619047619047619,
           0.7142857142857143,
           0.8333333333333334,
           0.8571428571428571,
           0.7619047619047619,
           0.5,
           0.09523809523809523,
           0.7380952380952381,
           0.7619047619047619,
           0.19047619047619047,
           0.8095238095238095,
           0.7857142857142857,
           0.8333333333333334,
           0.7380952380952381,
           0.47619047619047616,
           0.3333333333333333,
           0.023809523809523808,
           0.11904761904761904,
           0.5476190476190477,
           0.23809523809523808,
           0.7619047619047619,
           0.7380952380952381,
           0.7619047619047619,
           0.11904761904761904,
           0.023809523809523808,
           0.7380952380952381,
           0.8333333333333334,
           0.7619047619047619,
           0.7380952380952381,
           0.38095238095238093,
           0.5952380952380952,
           0.8095238095238095,
           0.8095238095238095,
           0.7142857142857143,
           0.35714285714285715,
           0.6190476190476191,
           0.023809523809523808,
           0.6428571428571429,
           0.35714285714285715,
           0.21428571428571427,
           0.2619047619047619,
           0.7380952380952381,
           0.6428571428571429,
           0.5952380952380952,
           0.19047619047619047,
           0.7142857142857143,
           0.19047619047619047,
           0.047619047619047616,
           0.023809523809523808,
           0.16666666666666666,
           0.38095238095238093,
           0.16666666666666666,
           0.023809523809523808,
           0.2619047619047619,
           0.5238095238095238,
           0.047619047619047616,
           0.023809523809523808,
           0.023809523809523808,
           0.11904761904761904,
           0.21428571428571427,
           0.023809523809523808,
           0.07142857142857142,
           0.023809523809523808,
           0.09523809523809523,
           0.8333333333333334,
           0.023809523809523808,
           0.023809523809523808,
           0.8809523809523809,
           0.7380952380952381,
           0.7619047619047619,
           0.16666666666666666,
           0.023809523809523808,
           0.023809523809523808,
           0.7619047619047619,
           0.8809523809523809,
           0.5476190476190477,
           0.3333333333333333,
           0.4523809523809524,
           0.40476190476190477,
           0.14285714285714285,
           0.07142857142857142,
           0.19047619047619047,
           0.30952380952380953,
           0.47619047619047616,
           0.023809523809523808,
           0.16666666666666666,
           0.07142857142857142,
           0.023809523809523808,
           0.07142857142857142,
           0.047619047619047616,
           0.047619047619047616,
           0.07142857142857142,
           0.047619047619047616,
           0.07142857142857142,
           0.047619047619047616,
           0.023809523809523808,
           0.07142857142857142,
           0.023809523809523808,
           0.047619047619047616,
           0.023809523809523808,
           0.023809523809523808,
           0.023809523809523808,
           0.023809523809523808,
           0.023809523809523808
          ],
          "size": [
           5.169304370880127,
           12.383881568908691,
           2.950728416442871,
           3.2394394874572754,
           5.797037601470947,
           3.491334915161133,
           7.946142196655273,
           4.886739730834961,
           1.9125020503997803,
           3.3031857013702393,
           7.527618885040283,
           11.443883895874023,
           12.023859024047852,
           3.7651724815368652,
           4.667210102081299,
           3.210320472717285,
           8.56594467163086,
           4.915120601654053,
           7.699710845947266,
           8.036958694458008,
           2.5940656661987305,
           3.6015379428863525,
           9.078606605529785,
           5.807929992675781,
           7.813838958740234,
           6.740826606750488,
           5.033555030822754,
           5.155589580535889,
           5.870794296264648,
           2.4510393142700195,
           6.793848991394043,
           2.370922088623047,
           2.040494203567505,
           1.1924554109573364,
           3.8147363662719727,
           7.512545585632324,
           3.153862476348877,
           3.153406858444214,
           3.7181663513183594,
           1.3715648651123047,
           5.23274040222168,
           7.05785608291626,
           8.04429817199707,
           2.0187594890594482,
           8.931599617004395,
           7.49365758895874,
           3.4916868209838867,
           6.199788570404053,
           2.2870779037475586,
           4.313973903656006,
           2.5498993396759033,
           3.401005744934082,
           3.1473445892333984,
           13.06863021850586,
           3.723160743713379,
           4.4050798416137695,
           1.2482943534851074,
           5.678144931793213,
           8.555618286132812,
           3.2191731929779053,
           4.379782676696777,
           5.99501371383667,
           5.673834800720215,
           3.87705659866333,
           3.166658401489258,
           6.596050262451172,
           3.289698362350464,
           4.50327730178833,
           4.914271354675293,
           2.5276129245758057,
           6.2993903160095215,
           5.266557216644287,
           2.6258962154388428,
           2.2089667320251465,
           10.896867752075195,
           4.7524919509887695,
           4.208785057067871,
           2.406562566757202,
           2.747075319290161,
           4.499538421630859,
           8.853349685668945,
           8.36544418334961,
           2.0144007205963135,
           5.347407817840576,
           4.062931060791016,
           5.009930610656738,
           2.1875758171081543,
           2.7065038681030273,
           4.224015235900879,
           3.115090847015381,
           2.7167513370513916,
           3.534064292907715,
           1.9568346738815308,
           7.697083950042725,
           2.1127634048461914,
           1.908861756324768,
           2.809307098388672,
           1.8413865566253662,
           1.3343356847763062,
           3.771310329437256,
           2.9705162048339844,
           4.7913360595703125,
           6.59982967376709,
           4.633951187133789,
           3.77087664604187,
           2.163646697998047,
           2.280345916748047,
           1.3037140369415283,
           6.746522426605225,
           2.463197708129883,
           5.190887451171875,
           1.6445045471191406,
           3.178708791732788,
           10.845022201538086,
           3.0011463165283203,
           3.260023355484009,
           6.232069969177246,
           1.9530963897705078,
           5.574817180633545,
           12.015569686889648,
           2.1008105278015137,
           2.1519010066986084,
           7.758929252624512,
           2.712942600250244,
           1.4625532627105713,
           3.002321720123291,
           3.7679591178894043,
           8.058732986450195,
           2.5599160194396973,
           3.286634922027588,
           3.9463322162628174,
           2.551621437072754,
           5.229525566101074,
           2.7006728649139404,
           4.463506698608398,
           1.981055498123169,
           2.2995901107788086,
           4.195960521697998,
           3.168302059173584,
           2.4259533882141113,
           2.317641496658325,
           1.6495935916900635,
           2.7324047088623047,
           3.417587995529175,
           2.873077869415283,
           4.743292808532715,
           1.8179482221603394,
           9.637219429016113,
           3.9708707332611084,
           3.5646276473999023,
           2.6073691844940186,
           4.194862365722656,
           5.25830078125,
           1.4195549488067627,
           2.395747661590576,
           3.1688411235809326,
           2.665182113647461,
           5.748525619506836,
           3.3181447982788086,
           3.217630624771118,
           4.845697402954102,
           4.48604679107666,
           4.200050354003906,
           4.783515930175781,
           4.3628716468811035,
           4.476266860961914,
           4.191478252410889,
           1.3493549823760986,
           3.640451431274414,
           3.090762138366699,
           5.502739906311035,
           1.8413883447647095,
           4.186521530151367,
           1.8507304191589355,
           2.7128262519836426,
           3.679513692855835,
           3.0356264114379883,
           4.687291622161865,
           5.075215816497803,
           2.457689046859741,
           2.463624954223633,
           2.873380661010742,
           2.55540132522583,
           1.8516969680786133,
           4.064118385314941,
           6.108698844909668,
           3.4881181716918945,
           7.490363597869873,
           3.007474899291992,
           2.37526798248291,
           3.0951449871063232,
           1.3601651191711426,
           5.565934181213379,
           4.540031433105469,
           5.631135940551758,
           1.406055212020874,
           1.8646456003189087,
           1.6161913871765137,
           2.1331489086151123,
           1.8372809886932373,
           1.6018683910369873,
           1.9668406248092651,
           3.98795747756958,
           2.698657751083374,
           3.463099718093872,
           1.6835191249847412,
           1.7654469013214111,
           1.3769469261169434,
           2.1410298347473145,
           1.382291316986084,
           2.245408535003662,
           2.8543806076049805,
           2.00704026222229,
           2.6072466373443604,
           2.0921385288238525,
           2.6395506858825684,
           1.702498435974121,
           2.0562102794647217,
           4.13962984085083,
           3.2773163318634033,
           2.076881170272827,
           2.2357566356658936,
           1.6520999670028687,
           1.7550063133239746,
           1.1863213777542114,
           1.5230005979537964,
           2.177032947540283,
           1.852301836013794,
           2.7436234951019287,
           2.349181890487671,
           2.605241537094116,
           2.1675291061401367,
           2.6808388233184814,
           1.900883436203003,
           1.7617073059082031,
           3.2664794921875,
           2.079862594604492,
           2.276158332824707,
           1.2729511260986328,
           2.1374053955078125,
           1.6231316328048706,
           2.1052796840667725,
           4.004675388336182,
           3.9484729766845703,
           1.6612704992294312,
           1.6466552019119263,
           1.6339324712753296,
           1.5829544067382812,
           1.4080432653427124,
           1.9932032823562622,
           1.8510817289352417,
           2.0124740600585938,
           2.381505250930786,
           1.1874992847442627,
           2.230038642883301,
           1.585217833518982,
           1.5347082614898682,
           1.6363837718963623,
           1.608621597290039,
           1.3083693981170654,
           1.2846870422363281,
           1.339192509651184,
           1.5670742988586426
          ],
          "sizemode": "area",
          "sizeref": 0.032671575546264646,
          "symbol": "circle"
         },
         "mode": "markers",
         "name": "",
         "orientation": "v",
         "showlegend": false,
         "type": "scatter",
         "x": [
          67,
          70,
          79,
          74.38709677419355,
          67,
          62.9,
          64,
          83,
          68,
          56,
          78.16216216216216,
          83.5,
          31,
          32,
          86.75675675675676,
          32.08571428571429,
          25.72972972972973,
          65,
          74.27272727272727,
          24.83783783783784,
          39.36363636363637,
          59.5,
          51.705882352941174,
          23,
          33.078947368421055,
          71.95454545454545,
          20,
          26,
          86.32352941176471,
          25.78787878787879,
          23.852941176470587,
          74.05405405405405,
          80.72222222222223,
          42,
          70.03225806451613,
          36.294117647058826,
          87.27272727272727,
          79.18181818181819,
          55.02439024390244,
          29,
          30,
          61.973684210526315,
          25,
          78.26315789473684,
          51.05714285714286,
          20.5,
          73.29411764705883,
          79.76315789473684,
          62.205128205128204,
          24,
          36,
          61.72727272727273,
          77.05555555555556,
          36.14705882352941,
          24,
          63.63333333333333,
          57.03225806451613,
          29.27777777777778,
          28.82051282051282,
          20.727272727272727,
          39,
          49.72727272727273,
          33.97222222222222,
          59,
          29,
          71,
          19,
          28.27777777777778,
          33.75,
          28,
          23.970588235294116,
          33.0625,
          37,
          58.82608695652174,
          39.38709677419355,
          56.729729729729726,
          84.17948717948718,
          19.3,
          71.375,
          74.23809523809524,
          45.388888888888886,
          22,
          47.5,
          30.22222222222222,
          91.60606060606061,
          26.68421052631579,
          46,
          71.8,
          18.6875,
          18.833333333333332,
          31.27777777777778,
          25.625,
          59.5,
          42.67741935483871,
          48.94736842105263,
          66.13513513513513,
          84.87878787878788,
          75.91891891891892,
          23,
          48.233333333333334,
          28.70967741935484,
          22.026315789473685,
          30,
          56.13333333333333,
          36,
          15.757575757575758,
          48,
          38.85,
          92.4375,
          67.78787878787878,
          16.147058823529413,
          64,
          35,
          38,
          21.085714285714285,
          41.96666666666667,
          39.205128205128204,
          15.34375,
          32.325,
          57.83870967741935,
          43.76923076923077,
          28.096774193548388,
          86.23333333333333,
          30.939393939393938,
          51.25806451612903,
          63.354838709677416,
          90.25806451612904,
          84.5,
          54.666666666666664,
          22.65714285714286,
          36.53333333333333,
          51.976190476190474,
          44.87179487179487,
          45.388888888888886,
          37.72222222222222,
          26.952380952380953,
          66,
          18.4,
          32.69444444444444,
          48.46666666666667,
          32,
          59.45454545454545,
          48.535714285714285,
          44.5,
          35.375,
          38.6,
          43,
          44.55555555555556,
          86.78571428571429,
          32,
          78.3225806451613,
          40.78947368421053,
          25.558823529411764,
          79.45,
          59.333333333333336,
          25,
          27.16216216216216,
          32.03333333333333,
          57.83870967741935,
          24.25,
          64.46666666666667,
          50.65714285714286,
          33.94444444444444,
          43,
          33.61904761904762,
          41,
          51.193548387096776,
          54.6875,
          17,
          41.470588235294116,
          47.09090909090909,
          23.114285714285714,
          30.64516129032258,
          48.4,
          13.428571428571429,
          42,
          36.8,
          27.130434782608695,
          75.7,
          36.1875,
          37.16129032258065,
          48.59375,
          34,
          41,
          33.25806451612903,
          41.57142857142857,
          53.5,
          33.225806451612904,
          40.5,
          23.72,
          25.264705882352942,
          66.8529411764706,
          34.266666666666666,
          44.266666666666666,
          29.73076923076923,
          37,
          51.03703703703704,
          27.2,
          54.44444444444444,
          23.09090909090909,
          56.806451612903224,
          40.592592592592595,
          20.64,
          47.5,
          42.3,
          63.625,
          32,
          92,
          35.57142857142857,
          27.4375,
          44.857142857142854,
          68,
          95.63636363636364,
          18.772727272727273,
          55.5,
          43,
          39,
          42.4,
          45.22222222222222,
          98,
          81.33333333333333,
          36,
          39.75,
          83.42857142857143,
          67,
          66,
          35.027027027027025,
          70.96774193548387,
          38.90625,
          67.42857142857143,
          32,
          44,
          84,
          29.216216216216218,
          23.26086956521739,
          20.357142857142858,
          18.63157894736842,
          52.23529411764706,
          75,
          75.33333333333333,
          21.25,
          44.38461538461539,
          51.05,
          56,
          37,
          72.66666666666667,
          39,
          51.666666666666664,
          64,
          95,
          61.333333333333336,
          43.5,
          55.333333333333336,
          41.5,
          28,
          31.333333333333332,
          37,
          44.5,
          60,
          88,
          38,
          40,
          32
         ],
         "xaxis": "x",
         "y": [
          47,
          36,
          31,
          29.35483870967742,
          41,
          50.56666666666667,
          47,
          28,
          27,
          27,
          23.729729729729726,
          27.5,
          31,
          56,
          24.135135135135137,
          58.51428571428571,
          27.83783783783784,
          35,
          40.72727272727273,
          55.81081081081081,
          58.54545454545455,
          50.5,
          30.14705882352942,
          37,
          24.76315789473685,
          24.272727272727266,
          43,
          49,
          34.44117647058823,
          56.45454545454545,
          33.29411764705881,
          35.91891891891892,
          34.27777777777777,
          56,
          39.258064516129025,
          35.14705882352942,
          24.727272727272734,
          23.636363636363637,
          52.804878048780495,
          34,
          38.61290322580646,
          30.18421052631578,
          30,
          34.0263157894737,
          23.657142857142844,
          52.5,
          24.85294117647058,
          28.78947368421052,
          26.358974358974365,
          40,
          50,
          39.27272727272728,
          39.111111111111114,
          20.705882352941188,
          46,
          37.53333333333333,
          13.870967741935488,
          25.72222222222223,
          18.974358974358978,
          51.27272727272728,
          42,
          34.27272727272728,
          15.277777777777771,
          53.9,
          26,
          50.75,
          46,
          42.72222222222223,
          44.375,
          33,
          23.058823529411768,
          14.84375,
          52.5,
          45,
          28.064516129032256,
          34.16216216216216,
          18.97435897435895,
          28.53333333333333,
          47.65625,
          43.04761904761905,
          29.444444444444457,
          25,
          53.5,
          35.30555555555554,
          31.636363636363637,
          19.84210526315789,
          46,
          32.80000000000001,
          34.96875,
          32.22222222222223,
          54.27777777777777,
          48,
          33.5,
          36.87096774193549,
          56.23684210526316,
          21.756756756756744,
          18.393939393939394,
          40.16216216216219,
          47,
          39.23333333333332,
          46.51612903225808,
          37.263157894736835,
          31,
          38.33333333333334,
          31,
          45.78787878787878,
          28,
          56.875,
          23.9375,
          16.818181818181813,
          37.58823529411765,
          26,
          30,
          26,
          53.82857142857143,
          50.30000000000001,
          15.358974358974365,
          50.75,
          25.399999999999977,
          20.903225806451616,
          57.07692307692308,
          51.935483870967744,
          14.899999999999977,
          50.484848484848484,
          58.096774193548384,
          39.12903225806451,
          31.25806451612904,
          26.69999999999999,
          54.166666666666664,
          45.94285714285715,
          34.133333333333326,
          44.309523809523796,
          12.051282051282044,
          47.638888888888886,
          44.388888888888886,
          56.71428571428572,
          45.40625,
          41.73333333333332,
          37.666666666666664,
          49.16666666666667,
          47.5,
          44.24242424242425,
          44.60714285714286,
          23.5,
          10.5,
          18.94999999999999,
          33,
          22.75,
          33.35714285714283,
          18.72222222222223,
          28.032258064516128,
          12.63157894736841,
          27.14705882352939,
          24.100000000000023,
          26.791666666666657,
          34.25,
          27,
          38.69999999999999,
          50.03225806451613,
          31.78125,
          21.900000000000006,
          18.657142857142844,
          52.55555555555556,
          31.5,
          30.85714285714286,
          32.5,
          12.741935483870975,
          28.9375,
          27.5,
          19.441176470588232,
          36.39393939393938,
          42.2,
          22.774193548387103,
          10.949999999999989,
          32.35714285714286,
          14,
          21.80000000000001,
          21.82608695652175,
          22.30000000000001,
          42.9375,
          16.19354838709677,
          19.6875,
          10.800000000000011,
          13,
          52.064516129032256,
          39.17142857142858,
          38.5,
          19.25806451612904,
          9.5625,
          18.28,
          40.23529411764707,
          32.970588235294116,
          39.93333333333334,
          18.933333333333337,
          37.92307692307692,
          30,
          33.925925925925924,
          51.866666666666674,
          11.444444444444457,
          16.636363636363626,
          25.80645161290323,
          46.44444444444446,
          34.31999999999999,
          41,
          39.73333333333332,
          49,
          43.5,
          26,
          25.285714285714278,
          40.75,
          9.428571428571416,
          28,
          35.90909090909091,
          21.136363636363626,
          10,
          7,
          10,
          22.799999999999997,
          14.333333333333314,
          33,
          7.666666666666667,
          12,
          15.75,
          19.171428571428578,
          45,
          44,
          50.16216216216219,
          45.225806451612925,
          49.25,
          51.85714285714286,
          24,
          34,
          36.90625,
          52.621621621621614,
          23.52173913043478,
          37.214285714285715,
          33.05263157894737,
          51.470588235294116,
          20.83333333333333,
          30.666666666666686,
          49.125,
          6.461538461538453,
          40,
          7,
          35.71428571428571,
          42.66666666666666,
          18,
          14.666666666666657,
          19.5,
          32.5,
          45.33333333333334,
          13,
          26.666666666666657,
          14,
          48,
          44.33333333333333,
          29,
          15,
          6,
          30,
          27,
          36,
          55
         ],
         "yaxis": "y"
        }
       ],
       "layout": {
        "coloraxis": {
         "colorbar": {
          "title": {
           "text": "color"
          }
         },
         "colorscale": [
          [
           0,
           "#0d0887"
          ],
          [
           0.1111111111111111,
           "#46039f"
          ],
          [
           0.2222222222222222,
           "#7201a8"
          ],
          [
           0.3333333333333333,
           "#9c179e"
          ],
          [
           0.4444444444444444,
           "#bd3786"
          ],
          [
           0.5555555555555556,
           "#d8576b"
          ],
          [
           0.6666666666666666,
           "#ed7953"
          ],
          [
           0.7777777777777778,
           "#fb9f3a"
          ],
          [
           0.8888888888888888,
           "#fdca26"
          ],
          [
           1,
           "#f0f921"
          ]
         ]
        },
        "height": 300,
        "legend": {
         "itemsizing": "constant",
         "tracegroupgap": 0
        },
        "margin": {
         "b": 20,
         "l": 20,
         "r": 20,
         "t": 20
        },
        "template": {
         "data": {
          "bar": [
           {
            "error_x": {
             "color": "#2a3f5f"
            },
            "error_y": {
             "color": "#2a3f5f"
            },
            "marker": {
             "line": {
              "color": "#E5ECF6",
              "width": 0.5
             },
             "pattern": {
              "fillmode": "overlay",
              "size": 10,
              "solidity": 0.2
             }
            },
            "type": "bar"
           }
          ],
          "barpolar": [
           {
            "marker": {
             "line": {
              "color": "#E5ECF6",
              "width": 0.5
             },
             "pattern": {
              "fillmode": "overlay",
              "size": 10,
              "solidity": 0.2
             }
            },
            "type": "barpolar"
           }
          ],
          "carpet": [
           {
            "aaxis": {
             "endlinecolor": "#2a3f5f",
             "gridcolor": "white",
             "linecolor": "white",
             "minorgridcolor": "white",
             "startlinecolor": "#2a3f5f"
            },
            "baxis": {
             "endlinecolor": "#2a3f5f",
             "gridcolor": "white",
             "linecolor": "white",
             "minorgridcolor": "white",
             "startlinecolor": "#2a3f5f"
            },
            "type": "carpet"
           }
          ],
          "choropleth": [
           {
            "colorbar": {
             "outlinewidth": 0,
             "ticks": ""
            },
            "type": "choropleth"
           }
          ],
          "contour": [
           {
            "colorbar": {
             "outlinewidth": 0,
             "ticks": ""
            },
            "colorscale": [
             [
              0,
              "#0d0887"
             ],
             [
              0.1111111111111111,
              "#46039f"
             ],
             [
              0.2222222222222222,
              "#7201a8"
             ],
             [
              0.3333333333333333,
              "#9c179e"
             ],
             [
              0.4444444444444444,
              "#bd3786"
             ],
             [
              0.5555555555555556,
              "#d8576b"
             ],
             [
              0.6666666666666666,
              "#ed7953"
             ],
             [
              0.7777777777777778,
              "#fb9f3a"
             ],
             [
              0.8888888888888888,
              "#fdca26"
             ],
             [
              1,
              "#f0f921"
             ]
            ],
            "type": "contour"
           }
          ],
          "contourcarpet": [
           {
            "colorbar": {
             "outlinewidth": 0,
             "ticks": ""
            },
            "type": "contourcarpet"
           }
          ],
          "heatmap": [
           {
            "colorbar": {
             "outlinewidth": 0,
             "ticks": ""
            },
            "colorscale": [
             [
              0,
              "#0d0887"
             ],
             [
              0.1111111111111111,
              "#46039f"
             ],
             [
              0.2222222222222222,
              "#7201a8"
             ],
             [
              0.3333333333333333,
              "#9c179e"
             ],
             [
              0.4444444444444444,
              "#bd3786"
             ],
             [
              0.5555555555555556,
              "#d8576b"
             ],
             [
              0.6666666666666666,
              "#ed7953"
             ],
             [
              0.7777777777777778,
              "#fb9f3a"
             ],
             [
              0.8888888888888888,
              "#fdca26"
             ],
             [
              1,
              "#f0f921"
             ]
            ],
            "type": "heatmap"
           }
          ],
          "heatmapgl": [
           {
            "colorbar": {
             "outlinewidth": 0,
             "ticks": ""
            },
            "colorscale": [
             [
              0,
              "#0d0887"
             ],
             [
              0.1111111111111111,
              "#46039f"
             ],
             [
              0.2222222222222222,
              "#7201a8"
             ],
             [
              0.3333333333333333,
              "#9c179e"
             ],
             [
              0.4444444444444444,
              "#bd3786"
             ],
             [
              0.5555555555555556,
              "#d8576b"
             ],
             [
              0.6666666666666666,
              "#ed7953"
             ],
             [
              0.7777777777777778,
              "#fb9f3a"
             ],
             [
              0.8888888888888888,
              "#fdca26"
             ],
             [
              1,
              "#f0f921"
             ]
            ],
            "type": "heatmapgl"
           }
          ],
          "histogram": [
           {
            "marker": {
             "pattern": {
              "fillmode": "overlay",
              "size": 10,
              "solidity": 0.2
             }
            },
            "type": "histogram"
           }
          ],
          "histogram2d": [
           {
            "colorbar": {
             "outlinewidth": 0,
             "ticks": ""
            },
            "colorscale": [
             [
              0,
              "#0d0887"
             ],
             [
              0.1111111111111111,
              "#46039f"
             ],
             [
              0.2222222222222222,
              "#7201a8"
             ],
             [
              0.3333333333333333,
              "#9c179e"
             ],
             [
              0.4444444444444444,
              "#bd3786"
             ],
             [
              0.5555555555555556,
              "#d8576b"
             ],
             [
              0.6666666666666666,
              "#ed7953"
             ],
             [
              0.7777777777777778,
              "#fb9f3a"
             ],
             [
              0.8888888888888888,
              "#fdca26"
             ],
             [
              1,
              "#f0f921"
             ]
            ],
            "type": "histogram2d"
           }
          ],
          "histogram2dcontour": [
           {
            "colorbar": {
             "outlinewidth": 0,
             "ticks": ""
            },
            "colorscale": [
             [
              0,
              "#0d0887"
             ],
             [
              0.1111111111111111,
              "#46039f"
             ],
             [
              0.2222222222222222,
              "#7201a8"
             ],
             [
              0.3333333333333333,
              "#9c179e"
             ],
             [
              0.4444444444444444,
              "#bd3786"
             ],
             [
              0.5555555555555556,
              "#d8576b"
             ],
             [
              0.6666666666666666,
              "#ed7953"
             ],
             [
              0.7777777777777778,
              "#fb9f3a"
             ],
             [
              0.8888888888888888,
              "#fdca26"
             ],
             [
              1,
              "#f0f921"
             ]
            ],
            "type": "histogram2dcontour"
           }
          ],
          "mesh3d": [
           {
            "colorbar": {
             "outlinewidth": 0,
             "ticks": ""
            },
            "type": "mesh3d"
           }
          ],
          "parcoords": [
           {
            "line": {
             "colorbar": {
              "outlinewidth": 0,
              "ticks": ""
             }
            },
            "type": "parcoords"
           }
          ],
          "pie": [
           {
            "automargin": true,
            "type": "pie"
           }
          ],
          "scatter": [
           {
            "fillpattern": {
             "fillmode": "overlay",
             "size": 10,
             "solidity": 0.2
            },
            "type": "scatter"
           }
          ],
          "scatter3d": [
           {
            "line": {
             "colorbar": {
              "outlinewidth": 0,
              "ticks": ""
             }
            },
            "marker": {
             "colorbar": {
              "outlinewidth": 0,
              "ticks": ""
             }
            },
            "type": "scatter3d"
           }
          ],
          "scattercarpet": [
           {
            "marker": {
             "colorbar": {
              "outlinewidth": 0,
              "ticks": ""
             }
            },
            "type": "scattercarpet"
           }
          ],
          "scattergeo": [
           {
            "marker": {
             "colorbar": {
              "outlinewidth": 0,
              "ticks": ""
             }
            },
            "type": "scattergeo"
           }
          ],
          "scattergl": [
           {
            "marker": {
             "colorbar": {
              "outlinewidth": 0,
              "ticks": ""
             }
            },
            "type": "scattergl"
           }
          ],
          "scattermapbox": [
           {
            "marker": {
             "colorbar": {
              "outlinewidth": 0,
              "ticks": ""
             }
            },
            "type": "scattermapbox"
           }
          ],
          "scatterpolar": [
           {
            "marker": {
             "colorbar": {
              "outlinewidth": 0,
              "ticks": ""
             }
            },
            "type": "scatterpolar"
           }
          ],
          "scatterpolargl": [
           {
            "marker": {
             "colorbar": {
              "outlinewidth": 0,
              "ticks": ""
             }
            },
            "type": "scatterpolargl"
           }
          ],
          "scatterternary": [
           {
            "marker": {
             "colorbar": {
              "outlinewidth": 0,
              "ticks": ""
             }
            },
            "type": "scatterternary"
           }
          ],
          "surface": [
           {
            "colorbar": {
             "outlinewidth": 0,
             "ticks": ""
            },
            "colorscale": [
             [
              0,
              "#0d0887"
             ],
             [
              0.1111111111111111,
              "#46039f"
             ],
             [
              0.2222222222222222,
              "#7201a8"
             ],
             [
              0.3333333333333333,
              "#9c179e"
             ],
             [
              0.4444444444444444,
              "#bd3786"
             ],
             [
              0.5555555555555556,
              "#d8576b"
             ],
             [
              0.6666666666666666,
              "#ed7953"
             ],
             [
              0.7777777777777778,
              "#fb9f3a"
             ],
             [
              0.8888888888888888,
              "#fdca26"
             ],
             [
              1,
              "#f0f921"
             ]
            ],
            "type": "surface"
           }
          ],
          "table": [
           {
            "cells": {
             "fill": {
              "color": "#EBF0F8"
             },
             "line": {
              "color": "white"
             }
            },
            "header": {
             "fill": {
              "color": "#C8D4E3"
             },
             "line": {
              "color": "white"
             }
            },
            "type": "table"
           }
          ]
         },
         "layout": {
          "annotationdefaults": {
           "arrowcolor": "#2a3f5f",
           "arrowhead": 0,
           "arrowwidth": 1
          },
          "autotypenumbers": "strict",
          "coloraxis": {
           "colorbar": {
            "outlinewidth": 0,
            "ticks": ""
           }
          },
          "colorscale": {
           "diverging": [
            [
             0,
             "#8e0152"
            ],
            [
             0.1,
             "#c51b7d"
            ],
            [
             0.2,
             "#de77ae"
            ],
            [
             0.3,
             "#f1b6da"
            ],
            [
             0.4,
             "#fde0ef"
            ],
            [
             0.5,
             "#f7f7f7"
            ],
            [
             0.6,
             "#e6f5d0"
            ],
            [
             0.7,
             "#b8e186"
            ],
            [
             0.8,
             "#7fbc41"
            ],
            [
             0.9,
             "#4d9221"
            ],
            [
             1,
             "#276419"
            ]
           ],
           "sequential": [
            [
             0,
             "#0d0887"
            ],
            [
             0.1111111111111111,
             "#46039f"
            ],
            [
             0.2222222222222222,
             "#7201a8"
            ],
            [
             0.3333333333333333,
             "#9c179e"
            ],
            [
             0.4444444444444444,
             "#bd3786"
            ],
            [
             0.5555555555555556,
             "#d8576b"
            ],
            [
             0.6666666666666666,
             "#ed7953"
            ],
            [
             0.7777777777777778,
             "#fb9f3a"
            ],
            [
             0.8888888888888888,
             "#fdca26"
            ],
            [
             1,
             "#f0f921"
            ]
           ],
           "sequentialminus": [
            [
             0,
             "#0d0887"
            ],
            [
             0.1111111111111111,
             "#46039f"
            ],
            [
             0.2222222222222222,
             "#7201a8"
            ],
            [
             0.3333333333333333,
             "#9c179e"
            ],
            [
             0.4444444444444444,
             "#bd3786"
            ],
            [
             0.5555555555555556,
             "#d8576b"
            ],
            [
             0.6666666666666666,
             "#ed7953"
            ],
            [
             0.7777777777777778,
             "#fb9f3a"
            ],
            [
             0.8888888888888888,
             "#fdca26"
            ],
            [
             1,
             "#f0f921"
            ]
           ]
          },
          "colorway": [
           "#636efa",
           "#EF553B",
           "#00cc96",
           "#ab63fa",
           "#FFA15A",
           "#19d3f3",
           "#FF6692",
           "#B6E880",
           "#FF97FF",
           "#FECB52"
          ],
          "font": {
           "color": "#2a3f5f"
          },
          "geo": {
           "bgcolor": "white",
           "lakecolor": "white",
           "landcolor": "#E5ECF6",
           "showlakes": true,
           "showland": true,
           "subunitcolor": "white"
          },
          "hoverlabel": {
           "align": "left"
          },
          "hovermode": "closest",
          "mapbox": {
           "style": "light"
          },
          "paper_bgcolor": "white",
          "plot_bgcolor": "#E5ECF6",
          "polar": {
           "angularaxis": {
            "gridcolor": "white",
            "linecolor": "white",
            "ticks": ""
           },
           "bgcolor": "#E5ECF6",
           "radialaxis": {
            "gridcolor": "white",
            "linecolor": "white",
            "ticks": ""
           }
          },
          "scene": {
           "xaxis": {
            "backgroundcolor": "#E5ECF6",
            "gridcolor": "white",
            "gridwidth": 2,
            "linecolor": "white",
            "showbackground": true,
            "ticks": "",
            "zerolinecolor": "white"
           },
           "yaxis": {
            "backgroundcolor": "#E5ECF6",
            "gridcolor": "white",
            "gridwidth": 2,
            "linecolor": "white",
            "showbackground": true,
            "ticks": "",
            "zerolinecolor": "white"
           },
           "zaxis": {
            "backgroundcolor": "#E5ECF6",
            "gridcolor": "white",
            "gridwidth": 2,
            "linecolor": "white",
            "showbackground": true,
            "ticks": "",
            "zerolinecolor": "white"
           }
          },
          "shapedefaults": {
           "line": {
            "color": "#2a3f5f"
           }
          },
          "ternary": {
           "aaxis": {
            "gridcolor": "white",
            "linecolor": "white",
            "ticks": ""
           },
           "baxis": {
            "gridcolor": "white",
            "linecolor": "white",
            "ticks": ""
           },
           "bgcolor": "#E5ECF6",
           "caxis": {
            "gridcolor": "white",
            "linecolor": "white",
            "ticks": ""
           }
          },
          "title": {
           "x": 0.05
          },
          "xaxis": {
           "automargin": true,
           "gridcolor": "white",
           "linecolor": "white",
           "ticks": "",
           "title": {
            "standoff": 15
           },
           "zerolinecolor": "white",
           "zerolinewidth": 2
          },
          "yaxis": {
           "automargin": true,
           "gridcolor": "white",
           "linecolor": "white",
           "ticks": "",
           "title": {
            "standoff": 15
           },
           "zerolinecolor": "white",
           "zerolinewidth": 2
          }
         }
        },
        "width": 600,
        "xaxis": {
         "anchor": "y",
         "domain": [
          0,
          1
         ],
         "range": [
          0,
          128
         ],
         "title": {
          "text": "x"
         }
        },
        "yaxis": {
         "anchor": "x",
         "domain": [
          0,
          1
         ],
         "range": [
          0,
          64
         ],
         "title": {
          "text": "y"
         }
        }
       }
      }
     },
     "metadata": {},
     "output_type": "display_data"
    }
   ],
   "source": [
    "# Filter the DataFrame to include only rows where stimtype is 'loom'\n",
    "filtered_data = pooled_data[(pooled_data['stimtype'] == 'loom')]\n",
    "\n",
    "# Create the scatter plot using the filtered DataFrame\n",
    "fig = px.scatter(\n",
    "    x=filtered_data['x_centroid'],\n",
    "    y=filtered_data['y_centroid']%y_res,\n",
    "    color=filtered_data['plane_depth'],\n",
    "    size=abs(filtered_data['amplitude']),\n",
    "    opacity=filtered_data['size'] / filtered_data['size'].max()\n",
    ")\n",
    "fig.update_layout(width=600, height=300, margin=dict(l=20, r=20, t=20, b=20))\n",
    "fig.update_xaxes(range=[0, 128])\n",
    "fig.update_yaxes(range=[0, 64])\n",
    "fig.show()"
   ]
  },
  {
   "cell_type": "code",
   "execution_count": 464,
   "metadata": {},
   "outputs": [
    {
     "data": {
      "application/vnd.plotly.v1+json": {
       "config": {
        "plotlyServerURL": "https://plot.ly"
       },
       "data": [
        {
         "hovertemplate": "x=%{x}<br>y=%{y}<br>z=%{z}<br>size=%{marker.size}<br>color=%{marker.color}<extra></extra>",
         "legendgroup": "",
         "marker": {
          "color": [
           282.5,
           215,
           282.5,
           282.5,
           215,
           282.5,
           215,
           215,
           147.49999999999997,
           80,
           215,
           282.5,
           80,
           215,
           282.5,
           282.5,
           80,
           147.49999999999997,
           282.5,
           215,
           282.5,
           215,
           80,
           147.49999999999997,
           80,
           215,
           147.49999999999997,
           147.49999999999997,
           282.5,
           282.5,
           80,
           282.5,
           215,
           215,
           147.49999999999997,
           80,
           215,
           282.5,
           215,
           80,
           80,
           147.49999999999997,
           147.49999999999997,
           350,
           80,
           215,
           147.49999999999997,
           350,
           80,
           80,
           147.49999999999997,
           147.49999999999997,
           215,
           80,
           147.49999999999997,
           215,
           80,
           147.49999999999997,
           80,
           147.49999999999997,
           80,
           80,
           147.49999999999997,
           282.5,
           80,
           282.5,
           215,
           147.49999999999997,
           80,
           80,
           80,
           80,
           215,
           215,
           80,
           147.49999999999997,
           350,
           80,
           215,
           215,
           80,
           147.49999999999997,
           215,
           147.49999999999997,
           282.5,
           147.49999999999997,
           147.49999999999997,
           147.49999999999997,
           80,
           147.49999999999997,
           147.49999999999997,
           215,
           80,
           80,
           282.5,
           147.49999999999997,
           282.5,
           350,
           147.49999999999997,
           80,
           80,
           215,
           12.5,
           80,
           80,
           147.49999999999997,
           12.5,
           147.49999999999997,
           215,
           147.49999999999997,
           147.49999999999997,
           147.49999999999997,
           80,
           12.5,
           282.5,
           147.49999999999997,
           80,
           215,
           12.5,
           80,
           282.5,
           282.5,
           350,
           215,
           215,
           80,
           215,
           350,
           282.5,
           80,
           12.5,
           147.49999999999997,
           80,
           80,
           147.49999999999997,
           147.49999999999997,
           147.49999999999997,
           80,
           282.5,
           215,
           147.49999999999997,
           147.49999999999997,
           80,
           12.5,
           80,
           147.49999999999997,
           80,
           80,
           350,
           12.5,
           147.49999999999997,
           147.49999999999997,
           12.5,
           350,
           147.49999999999997,
           12.5,
           215,
           12.5,
           147.49999999999997,
           215,
           80,
           80,
           282.5,
           12.5,
           147.49999999999997,
           80,
           80,
           12.5,
           147.49999999999997,
           12.5,
           12.5,
           215,
           215,
           147.49999999999997,
           147.49999999999997,
           80,
           12.5,
           12.5,
           147.49999999999997,
           12.5,
           12.5,
           12.5,
           147.49999999999997,
           80,
           80,
           12.5,
           147.49999999999997,
           215,
           80,
           80,
           12.5,
           80,
           147.49999999999997,
           80,
           215,
           12.5,
           147.49999999999997,
           80,
           147.49999999999997,
           147.49999999999997,
           12.5,
           350,
           12.5,
           147.49999999999997,
           147.49999999999997,
           147.49999999999997,
           282.5,
           282.5,
           147.49999999999997,
           282.5,
           147.49999999999997,
           215,
           282.5,
           147.49999999999997,
           80,
           147.49999999999997,
           147.49999999999997,
           215,
           12.5,
           282.5,
           282.5,
           147.49999999999997,
           215,
           215,
           215,
           215,
           350,
           350,
           80,
           215,
           147.49999999999997,
           80,
           350,
           350,
           215,
           282.5,
           215,
           147.49999999999997,
           215,
           350,
           80,
           80,
           12.5,
           80,
           215,
           147.49999999999997,
           215,
           147.49999999999997,
           147.49999999999997,
           215,
           80,
           215,
           147.49999999999997,
           215,
           12.5,
           215,
           147.49999999999997,
           147.49999999999997,
           147.49999999999997,
           350,
           147.49999999999997,
           147.49999999999997,
           80
          ],
          "coloraxis": "coloraxis",
          "opacity": 1,
          "size": [
           5.169304370880127,
           12.383881568908691,
           2.950728416442871,
           3.2394394874572754,
           5.797037601470947,
           3.491334915161133,
           7.946142196655273,
           4.886739730834961,
           1.9125020503997803,
           3.3031857013702393,
           7.527618885040283,
           11.443883895874023,
           12.023859024047852,
           3.7651724815368652,
           4.667210102081299,
           3.210320472717285,
           8.56594467163086,
           4.915120601654053,
           7.699710845947266,
           8.036958694458008,
           2.5940656661987305,
           3.6015379428863525,
           9.078606605529785,
           5.807929992675781,
           7.813838958740234,
           6.740826606750488,
           5.033555030822754,
           5.155589580535889,
           5.870794296264648,
           2.4510393142700195,
           6.793848991394043,
           2.370922088623047,
           2.040494203567505,
           1.1924554109573364,
           3.8147363662719727,
           7.512545585632324,
           3.153862476348877,
           3.153406858444214,
           3.7181663513183594,
           1.3715648651123047,
           5.23274040222168,
           7.05785608291626,
           8.04429817199707,
           2.0187594890594482,
           8.931599617004395,
           7.49365758895874,
           3.4916868209838867,
           6.199788570404053,
           2.2870779037475586,
           4.313973903656006,
           2.5498993396759033,
           3.401005744934082,
           3.1473445892333984,
           13.06863021850586,
           3.723160743713379,
           4.4050798416137695,
           1.2482943534851074,
           5.678144931793213,
           8.555618286132812,
           3.2191731929779053,
           4.379782676696777,
           5.99501371383667,
           5.673834800720215,
           3.87705659866333,
           3.166658401489258,
           6.596050262451172,
           3.289698362350464,
           4.50327730178833,
           4.914271354675293,
           2.5276129245758057,
           6.2993903160095215,
           5.266557216644287,
           2.6258962154388428,
           2.2089667320251465,
           10.896867752075195,
           4.7524919509887695,
           4.208785057067871,
           2.406562566757202,
           2.747075319290161,
           4.499538421630859,
           8.853349685668945,
           8.36544418334961,
           2.0144007205963135,
           5.347407817840576,
           4.062931060791016,
           5.009930610656738,
           2.1875758171081543,
           2.7065038681030273,
           4.224015235900879,
           3.115090847015381,
           2.7167513370513916,
           3.534064292907715,
           1.9568346738815308,
           7.697083950042725,
           2.1127634048461914,
           1.908861756324768,
           2.809307098388672,
           1.8413865566253662,
           1.3343356847763062,
           3.771310329437256,
           2.9705162048339844,
           4.7913360595703125,
           6.59982967376709,
           4.633951187133789,
           3.77087664604187,
           2.163646697998047,
           2.280345916748047,
           1.3037140369415283,
           6.746522426605225,
           2.463197708129883,
           5.190887451171875,
           1.6445045471191406,
           3.178708791732788,
           10.845022201538086,
           3.0011463165283203,
           3.260023355484009,
           6.232069969177246,
           1.9530963897705078,
           5.574817180633545,
           12.015569686889648,
           2.1008105278015137,
           2.1519010066986084,
           7.758929252624512,
           2.712942600250244,
           1.4625532627105713,
           3.002321720123291,
           3.7679591178894043,
           8.058732986450195,
           2.5599160194396973,
           3.286634922027588,
           3.9463322162628174,
           2.551621437072754,
           5.229525566101074,
           2.7006728649139404,
           4.463506698608398,
           1.981055498123169,
           2.2995901107788086,
           4.195960521697998,
           3.168302059173584,
           2.4259533882141113,
           2.317641496658325,
           1.6495935916900635,
           2.7324047088623047,
           3.417587995529175,
           2.873077869415283,
           4.743292808532715,
           1.8179482221603394,
           9.637219429016113,
           3.9708707332611084,
           3.5646276473999023,
           2.6073691844940186,
           4.194862365722656,
           5.25830078125,
           1.4195549488067627,
           2.395747661590576,
           3.1688411235809326,
           2.665182113647461,
           5.748525619506836,
           3.3181447982788086,
           3.217630624771118,
           4.845697402954102,
           4.48604679107666,
           4.200050354003906,
           4.783515930175781,
           4.3628716468811035,
           4.476266860961914,
           4.191478252410889,
           1.3493549823760986,
           3.640451431274414,
           3.090762138366699,
           5.502739906311035,
           1.8413883447647095,
           4.186521530151367,
           1.8507304191589355,
           2.7128262519836426,
           3.679513692855835,
           3.0356264114379883,
           4.687291622161865,
           5.075215816497803,
           2.457689046859741,
           2.463624954223633,
           2.873380661010742,
           2.55540132522583,
           1.8516969680786133,
           4.064118385314941,
           6.108698844909668,
           3.4881181716918945,
           7.490363597869873,
           3.007474899291992,
           2.37526798248291,
           3.0951449871063232,
           1.3601651191711426,
           5.565934181213379,
           4.540031433105469,
           5.631135940551758,
           1.406055212020874,
           1.8646456003189087,
           1.6161913871765137,
           2.1331489086151123,
           1.8372809886932373,
           1.6018683910369873,
           1.9668406248092651,
           3.98795747756958,
           2.698657751083374,
           3.463099718093872,
           1.6835191249847412,
           1.7654469013214111,
           1.3769469261169434,
           2.1410298347473145,
           1.382291316986084,
           2.245408535003662,
           2.8543806076049805,
           2.00704026222229,
           2.6072466373443604,
           2.0921385288238525,
           2.6395506858825684,
           1.702498435974121,
           2.0562102794647217,
           4.13962984085083,
           3.2773163318634033,
           2.076881170272827,
           2.2357566356658936,
           1.6520999670028687,
           1.7550063133239746,
           1.1863213777542114,
           1.5230005979537964,
           2.177032947540283,
           1.852301836013794,
           2.7436234951019287,
           2.349181890487671,
           2.605241537094116,
           2.1675291061401367,
           2.6808388233184814,
           1.900883436203003,
           1.7617073059082031,
           3.2664794921875,
           2.079862594604492,
           2.276158332824707,
           1.2729511260986328,
           2.1374053955078125,
           1.6231316328048706,
           2.1052796840667725,
           4.004675388336182,
           3.9484729766845703,
           1.6612704992294312,
           1.6466552019119263,
           1.6339324712753296,
           1.5829544067382812,
           1.4080432653427124,
           1.9932032823562622,
           1.8510817289352417,
           2.0124740600585938,
           2.381505250930786,
           1.1874992847442627,
           2.230038642883301,
           1.585217833518982,
           1.5347082614898682,
           1.6363837718963623,
           1.608621597290039,
           1.3083693981170654,
           1.2846870422363281,
           1.339192509651184,
           1.5670742988586426
          ],
          "sizemode": "area",
          "sizeref": 0.032671575546264646,
          "symbol": "circle"
         },
         "mode": "markers",
         "name": "",
         "scene": "scene",
         "showlegend": false,
         "type": "scatter3d",
         "x": [
          352.2734375,
          368.046875,
          415.3671875,
          391.1134072580645,
          352.2734375,
          330.71640625,
          336.5,
          436.3984375,
          357.53125,
          294.4375,
          410.9619932432432,
          439.02734375,
          162.9921875,
          168.25,
          456.15076013513516,
          168.70066964285715,
          135.28209459459458,
          341.7578125,
          390.5120738636363,
          130.59269425675677,
          206.96661931818184,
          312.83984375,
          271.85983455882354,
          120.9296875,
          173.92290296052633,
          378.32350852272725,
          105.15625,
          136.703125,
          453.87293198529414,
          135.58783143939394,
          125.41429227941175,
          389.36233108108104,
          424.4223090277778,
          220.828125,
          368.2164818548387,
          190.8276654411765,
          458.8636363636363,
          416.32315340909093,
          289.3079268292683,
          152.4765625,
          157.734375,
          325.8460115131579,
          131.4453125,
          411.49300986842104,
          268.44888392857143,
          107.78515625,
          385.36672794117646,
          419.37972861842104,
          327.06290064102564,
          126.1875,
          189.28125,
          324.5504261363636,
          405.14366319444446,
          190.05445772058823,
          126.1875,
          334.57213541666664,
          299.8649193548387,
          153.93706597222223,
          151.53285256410257,
          108.98011363636363,
          205.0546875,
          261.4566761363636,
          178.61957465277777,
          310.2109375,
          152.4765625,
          373.3046875,
          99.8984375,
          148.67925347222223,
          177.451171875,
          147.21875,
          126.03285845588235,
          173.83642578125,
          194.5390625,
          309.296535326087,
          207.08996975806454,
          298.2742820945946,
          442.59995993589746,
          101.47578125,
          375.2763671875,
          390.32998511904765,
          238.6462673611111,
          115.671875,
          249.74609375,
          158.90277777777777,
          481.64749053030306,
          140.30057565789474,
          241.859375,
          377.5109375,
          98.25537109375,
          99.02213541666666,
          164.45269097222223,
          134.7314453125,
          312.83984375,
          224.38986895161293,
          257.3560855263158,
          347.72614020270265,
          446.2767518939394,
          399.1674408783784,
          120.9296875,
          253.60182291666666,
          150.95010080645162,
          115.81023848684211,
          157.734375,
          295.13854166666664,
          189.28125,
          82.8503787878788,
          252.375,
          204.266015625,
          486.01904296875,
          356.4159564393939,
          84.89820772058825,
          336.5,
          184.0234375,
          199.796875,
          110.86473214285714,
          220.65286458333335,
          206.13321314102564,
          80.674560546875,
          169.95878906250002,
          304.10509072580646,
          230.13040865384613,
          147.72757056451613,
          453.39869791666666,
          162.6735321969697,
          269.5052923387097,
          333.1078629032258,
          474.5599798387097,
          444.28515625,
          287.4270833333333,
          119.12700892857144,
          192.08541666666665,
          273.28106398809524,
          235.92748397435895,
          238.6462673611111,
          198.33637152777777,
          141.71056547619048,
          347.015625,
          96.74374999999999,
          171.90125868055554,
          254.82864583333335,
          168.25,
          312.60085227272725,
          255.19168526785714,
          233.97265625,
          185.9951171875,
          202.9515625,
          226.0859375,
          234.26475694444446,
          456.30301339285717,
          168.25,
          411.80544354838713,
          214.46340460526315,
          134.3835018382353,
          417.733203125,
          311.9635416666667,
          131.4453125,
          142.81355574324323,
          168.42526041666665,
          304.10509072580646,
          127.501953125,
          338.9536458333333,
          266.34575892857146,
          178.47352430555554,
          226.0859375,
          176.76264880952382,
          215.5703125,
          269.16607862903226,
          287.53662109375,
          89.3828125,
          218.04457720588235,
          247.59517045454547,
          121.53058035714285,
          161.12651209677418,
          254.478125,
          70.60491071428572,
          220.828125,
          193.48749999999998,
          142.64673913043478,
          398.01640625,
          190.26708984375,
          195.38709677419357,
          255.496826171875,
          178.765625,
          215.5703125,
          174.86466733870967,
          218.57477678571428,
          281.29296875,
          174.69506048387098,
          212.94140625,
          124.7153125,
          132.83708639705884,
          351.50022977941177,
          180.16770833333334,
          232.74583333333334,
          156.31881009615384,
          194.5390625,
          268.3431712962963,
          143.0125,
          286.25868055555554,
          121.40767045454545,
          298.67767137096774,
          213.42824074074076,
          108.52125000000001,
          249.74609375,
          222.40546874999998,
          334.5283203125,
          168.25,
          483.71875,
          187.02790178571428,
          144.26123046875,
          235.85044642857142,
          357.53125,
          502.8380681818182,
          98.70348011363637,
          291.80859375,
          226.0859375,
          205.0546875,
          222.93125,
          237.76996527777777,
          515.265625,
          427.63541666666663,
          189.28125,
          208.998046875,
          438.6517857142857,
          352.2734375,
          347.015625,
          184.16554054054052,
          373.1350806451613,
          204.561767578125,
          354.5267857142857,
          168.25,
          231.34375,
          441.65625,
          153.61338682432432,
          122.30129076086956,
          107.03404017857143,
          97.96134868421052,
          274.64338235294116,
          394.3359375,
          396.08854166666663,
          111.728515625,
          233.3659855769231,
          268.411328125,
          294.4375,
          194.5390625,
          382.06770833333337,
          205.0546875,
          271.6536458333333,
          336.5,
          499.4921875,
          322.4791666666667,
          228.71484375,
          290.9322916666667,
          218.19921875,
          147.21875,
          164.74479166666666,
          194.5390625,
          233.97265625,
          315.46875,
          462.6875,
          199.796875,
          210.3125,
          168.25
         ],
         "y": [
          247.1171875,
          189.28125,
          162.9921875,
          154.34223790322582,
          215.5703125,
          265.87005208333335,
          247.1171875,
          147.21875,
          141.9609375,
          141.9609375,
          124.76646959459458,
          144.58984375,
          162.9921875,
          294.4375,
          126.89801520270271,
          307.65714285714284,
          146.36613175675677,
          184.0234375,
          214.13636363636363,
          293.4427787162162,
          307.82102272727275,
          265.51953125,
          158.5075827205883,
          194.5390625,
          130.2000411184211,
          127.62144886363633,
          226.0859375,
          257.6328125,
          181.0852481617647,
          296.82741477272725,
          175.0542279411764,
          188.8549408783784,
          180.2261284722222,
          294.4375,
          206.41154233870964,
          184.7966452205883,
          130.01136363636368,
          124.27556818181819,
          277.6381478658537,
          178.765625,
          203.01940524193554,
          158.70291940789468,
          157.734375,
          178.9039884868422,
          124.38482142857136,
          276.03515625,
          130.6721047794117,
          151.36965460526312,
          138.5905448717949,
          210.3125,
          262.890625,
          206.4886363636364,
          205.6388888888889,
          108.8676470588236,
          241.859375,
          197.34322916666665,
          72.93094758064518,
          135.2426215277778,
          99.76362179487181,
          269.58238636363643,
          220.828125,
          180.1995738636364,
          80.32769097222219,
          283.39609375,
          136.703125,
          266.833984375,
          241.859375,
          224.6254340277778,
          233.3154296875,
          173.5078125,
          121.23897058823532,
          78.045654296875,
          276.03515625,
          236.6015625,
          147.5579637096774,
          179.61824324324323,
          99.76362179487167,
          150.02291666666665,
          250.567626953125,
          226.33630952380955,
          154.81336805555563,
          131.4453125,
          281.29296875,
          185.62999131944437,
          166.3380681818182,
          104.32606907894734,
          241.859375,
          172.45625000000007,
          183.859130859375,
          169.4184027777778,
          285.3823784722222,
          252.375,
          176.13671875,
          193.86063508064518,
          295.68277138157896,
          114.39294763513507,
          96.71188446969697,
          211.1651182432434,
          247.1171875,
          206.2815104166666,
          244.57308467741942,
          195.922697368421,
          162.9921875,
          201.5494791666667,
          162.9921875,
          240.7440814393939,
          147.21875,
          299.0380859375,
          125.85888671875,
          88.42684659090907,
          197.63189338235296,
          136.703125,
          157.734375,
          136.703125,
          283.0205357142857,
          264.46796875000007,
          80.7546073717949,
          266.833984375,
          133.5484374999999,
          109.90524193548389,
          300.09975961538464,
          273.06703629032256,
          78.34140624999988,
          265.43986742424244,
          305.4619455645161,
          205.73311491935482,
          164.34904233870972,
          140.38359374999993,
          284.7981770833333,
          241.55892857142862,
          179.46666666666664,
          232.97116815476184,
          63.36338141025637,
          250.4763454861111,
          233.3884548611111,
          298.1930803571429,
          238.737548828125,
          219.4260416666666,
          198.04427083333331,
          258.50911458333337,
          249.74609375,
          232.61837121212125,
          234.53599330357144,
          123.55859375,
          55.20703125,
          99.63554687499995,
          173.5078125,
          119.615234375,
          175.3856026785713,
          98.43793402777781,
          147.38835685483872,
          66.41447368421048,
          142.73414522058812,
          126.71328125000012,
          140.8655598958333,
          180.080078125,
          141.9609375,
          203.47734374999993,
          263.0602318548387,
          167.099853515625,
          115.14609375000003,
          98.09575892857136,
          276.32725694444446,
          165.62109375,
          162.24107142857144,
          170.87890625,
          66.99470766129036,
          152.14794921875,
          144.58984375,
          102.21806066176468,
          191.35250946969688,
          221.87968750000002,
          119.74243951612907,
          57.57304687499994,
          170.12779017857144,
          73.609375,
          114.62031250000005,
          114.75747282608701,
          117.24921875000005,
          225.75732421875,
          85.14264112903223,
          103.51318359375,
          56.78437500000006,
          68.3515625,
          273.74546370967744,
          205.95602678571433,
          202.42578125,
          101.25529233870971,
          50.27783203125,
          96.1128125,
          211.54963235294125,
          173.35317095588235,
          209.96197916666668,
          99.54791666666668,
          199.39242788461536,
          157.734375,
          178.3761574074074,
          272.70520833333336,
          60.17274305555562,
          87.47088068181813,
          135.68548387096777,
          244.19618055555563,
          180.44812499999998,
          215.5703125,
          208.9104166666666,
          257.6328125,
          228.71484375,
          136.703125,
          132.9475446428571,
          214.255859375,
          49.57366071428565,
          147.21875,
          188.80326704545453,
          111.13103693181813,
          52.578125,
          36.8046875,
          52.578125,
          119.87812499999998,
          75.36197916666657,
          173.5078125,
          40.309895833333336,
          63.09375,
          82.810546875,
          100.79977678571431,
          236.6015625,
          231.34375,
          263.7432432432434,
          237.7888104838711,
          258.947265625,
          272.65513392857144,
          126.1875,
          178.765625,
          194.046142578125,
          276.6746199324324,
          123.67289402173913,
          195.66573660714286,
          173.78453947368422,
          270.6227022058823,
          109.53776041666664,
          161.23958333333343,
          258.2900390625,
          33.973557692307644,
          210.3125,
          36.8046875,
          187.77901785714283,
          224.3333333333333,
          94.640625,
          77.11458333333329,
          102.52734375,
          170.87890625,
          238.3541666666667,
          68.3515625,
          140.2083333333333,
          73.609375,
          252.375,
          233.09635416666663,
          152.4765625,
          78.8671875,
          31.546875,
          157.734375,
          141.9609375,
          189.28125,
          289.1796875
         ],
         "z": [
          -282.5,
          -215,
          -282.5,
          -282.5,
          -215,
          -282.5,
          -215,
          -215,
          -147.49999999999997,
          -80,
          -215,
          -282.5,
          -80,
          -215,
          -282.5,
          -282.5,
          -80,
          -147.49999999999997,
          -282.5,
          -215,
          -282.5,
          -215,
          -80,
          -147.49999999999997,
          -80,
          -215,
          -147.49999999999997,
          -147.49999999999997,
          -282.5,
          -282.5,
          -80,
          -282.5,
          -215,
          -215,
          -147.49999999999997,
          -80,
          -215,
          -282.5,
          -215,
          -80,
          -80,
          -147.49999999999997,
          -147.49999999999997,
          -350,
          -80,
          -215,
          -147.49999999999997,
          -350,
          -80,
          -80,
          -147.49999999999997,
          -147.49999999999997,
          -215,
          -80,
          -147.49999999999997,
          -215,
          -80,
          -147.49999999999997,
          -80,
          -147.49999999999997,
          -80,
          -80,
          -147.49999999999997,
          -282.5,
          -80,
          -282.5,
          -215,
          -147.49999999999997,
          -80,
          -80,
          -80,
          -80,
          -215,
          -215,
          -80,
          -147.49999999999997,
          -350,
          -80,
          -215,
          -215,
          -80,
          -147.49999999999997,
          -215,
          -147.49999999999997,
          -282.5,
          -147.49999999999997,
          -147.49999999999997,
          -147.49999999999997,
          -80,
          -147.49999999999997,
          -147.49999999999997,
          -215,
          -80,
          -80,
          -282.5,
          -147.49999999999997,
          -282.5,
          -350,
          -147.49999999999997,
          -80,
          -80,
          -215,
          -12.5,
          -80,
          -80,
          -147.49999999999997,
          -12.5,
          -147.49999999999997,
          -215,
          -147.49999999999997,
          -147.49999999999997,
          -147.49999999999997,
          -80,
          -12.5,
          -282.5,
          -147.49999999999997,
          -80,
          -215,
          -12.5,
          -80,
          -282.5,
          -282.5,
          -350,
          -215,
          -215,
          -80,
          -215,
          -350,
          -282.5,
          -80,
          -12.5,
          -147.49999999999997,
          -80,
          -80,
          -147.49999999999997,
          -147.49999999999997,
          -147.49999999999997,
          -80,
          -282.5,
          -215,
          -147.49999999999997,
          -147.49999999999997,
          -80,
          -12.5,
          -80,
          -147.49999999999997,
          -80,
          -80,
          -350,
          -12.5,
          -147.49999999999997,
          -147.49999999999997,
          -12.5,
          -350,
          -147.49999999999997,
          -12.5,
          -215,
          -12.5,
          -147.49999999999997,
          -215,
          -80,
          -80,
          -282.5,
          -12.5,
          -147.49999999999997,
          -80,
          -80,
          -12.5,
          -147.49999999999997,
          -12.5,
          -12.5,
          -215,
          -215,
          -147.49999999999997,
          -147.49999999999997,
          -80,
          -12.5,
          -12.5,
          -147.49999999999997,
          -12.5,
          -12.5,
          -12.5,
          -147.49999999999997,
          -80,
          -80,
          -12.5,
          -147.49999999999997,
          -215,
          -80,
          -80,
          -12.5,
          -80,
          -147.49999999999997,
          -80,
          -215,
          -12.5,
          -147.49999999999997,
          -80,
          -147.49999999999997,
          -147.49999999999997,
          -12.5,
          -350,
          -12.5,
          -147.49999999999997,
          -147.49999999999997,
          -147.49999999999997,
          -282.5,
          -282.5,
          -147.49999999999997,
          -282.5,
          -147.49999999999997,
          -215,
          -282.5,
          -147.49999999999997,
          -80,
          -147.49999999999997,
          -147.49999999999997,
          -215,
          -12.5,
          -282.5,
          -282.5,
          -147.49999999999997,
          -215,
          -215,
          -215,
          -215,
          -350,
          -350,
          -80,
          -215,
          -147.49999999999997,
          -80,
          -350,
          -350,
          -215,
          -282.5,
          -215,
          -147.49999999999997,
          -215,
          -350,
          -80,
          -80,
          -12.5,
          -80,
          -215,
          -147.49999999999997,
          -215,
          -147.49999999999997,
          -147.49999999999997,
          -215,
          -80,
          -215,
          -147.49999999999997,
          -215,
          -12.5,
          -215,
          -147.49999999999997,
          -147.49999999999997,
          -147.49999999999997,
          -350,
          -147.49999999999997,
          -147.49999999999997,
          -80
         ]
        }
       ],
       "layout": {
        "coloraxis": {
         "colorbar": {
          "title": {
           "text": "color"
          }
         },
         "colorscale": [
          [
           0,
           "#0d0887"
          ],
          [
           0.1111111111111111,
           "#46039f"
          ],
          [
           0.2222222222222222,
           "#7201a8"
          ],
          [
           0.3333333333333333,
           "#9c179e"
          ],
          [
           0.4444444444444444,
           "#bd3786"
          ],
          [
           0.5555555555555556,
           "#d8576b"
          ],
          [
           0.6666666666666666,
           "#ed7953"
          ],
          [
           0.7777777777777778,
           "#fb9f3a"
          ],
          [
           0.8888888888888888,
           "#fdca26"
          ],
          [
           1,
           "#f0f921"
          ]
         ]
        },
        "height": 300,
        "legend": {
         "itemsizing": "constant",
         "tracegroupgap": 0
        },
        "margin": {
         "b": 20,
         "l": 20,
         "r": 20,
         "t": 20
        },
        "scene": {
         "domain": {
          "x": [
           0,
           1
          ],
          "y": [
           0,
           1
          ]
         },
         "xaxis": {
          "title": {
           "text": "x"
          }
         },
         "yaxis": {
          "title": {
           "text": "y"
          }
         },
         "zaxis": {
          "title": {
           "text": "z"
          }
         }
        },
        "template": {
         "data": {
          "bar": [
           {
            "error_x": {
             "color": "#2a3f5f"
            },
            "error_y": {
             "color": "#2a3f5f"
            },
            "marker": {
             "line": {
              "color": "#E5ECF6",
              "width": 0.5
             },
             "pattern": {
              "fillmode": "overlay",
              "size": 10,
              "solidity": 0.2
             }
            },
            "type": "bar"
           }
          ],
          "barpolar": [
           {
            "marker": {
             "line": {
              "color": "#E5ECF6",
              "width": 0.5
             },
             "pattern": {
              "fillmode": "overlay",
              "size": 10,
              "solidity": 0.2
             }
            },
            "type": "barpolar"
           }
          ],
          "carpet": [
           {
            "aaxis": {
             "endlinecolor": "#2a3f5f",
             "gridcolor": "white",
             "linecolor": "white",
             "minorgridcolor": "white",
             "startlinecolor": "#2a3f5f"
            },
            "baxis": {
             "endlinecolor": "#2a3f5f",
             "gridcolor": "white",
             "linecolor": "white",
             "minorgridcolor": "white",
             "startlinecolor": "#2a3f5f"
            },
            "type": "carpet"
           }
          ],
          "choropleth": [
           {
            "colorbar": {
             "outlinewidth": 0,
             "ticks": ""
            },
            "type": "choropleth"
           }
          ],
          "contour": [
           {
            "colorbar": {
             "outlinewidth": 0,
             "ticks": ""
            },
            "colorscale": [
             [
              0,
              "#0d0887"
             ],
             [
              0.1111111111111111,
              "#46039f"
             ],
             [
              0.2222222222222222,
              "#7201a8"
             ],
             [
              0.3333333333333333,
              "#9c179e"
             ],
             [
              0.4444444444444444,
              "#bd3786"
             ],
             [
              0.5555555555555556,
              "#d8576b"
             ],
             [
              0.6666666666666666,
              "#ed7953"
             ],
             [
              0.7777777777777778,
              "#fb9f3a"
             ],
             [
              0.8888888888888888,
              "#fdca26"
             ],
             [
              1,
              "#f0f921"
             ]
            ],
            "type": "contour"
           }
          ],
          "contourcarpet": [
           {
            "colorbar": {
             "outlinewidth": 0,
             "ticks": ""
            },
            "type": "contourcarpet"
           }
          ],
          "heatmap": [
           {
            "colorbar": {
             "outlinewidth": 0,
             "ticks": ""
            },
            "colorscale": [
             [
              0,
              "#0d0887"
             ],
             [
              0.1111111111111111,
              "#46039f"
             ],
             [
              0.2222222222222222,
              "#7201a8"
             ],
             [
              0.3333333333333333,
              "#9c179e"
             ],
             [
              0.4444444444444444,
              "#bd3786"
             ],
             [
              0.5555555555555556,
              "#d8576b"
             ],
             [
              0.6666666666666666,
              "#ed7953"
             ],
             [
              0.7777777777777778,
              "#fb9f3a"
             ],
             [
              0.8888888888888888,
              "#fdca26"
             ],
             [
              1,
              "#f0f921"
             ]
            ],
            "type": "heatmap"
           }
          ],
          "heatmapgl": [
           {
            "colorbar": {
             "outlinewidth": 0,
             "ticks": ""
            },
            "colorscale": [
             [
              0,
              "#0d0887"
             ],
             [
              0.1111111111111111,
              "#46039f"
             ],
             [
              0.2222222222222222,
              "#7201a8"
             ],
             [
              0.3333333333333333,
              "#9c179e"
             ],
             [
              0.4444444444444444,
              "#bd3786"
             ],
             [
              0.5555555555555556,
              "#d8576b"
             ],
             [
              0.6666666666666666,
              "#ed7953"
             ],
             [
              0.7777777777777778,
              "#fb9f3a"
             ],
             [
              0.8888888888888888,
              "#fdca26"
             ],
             [
              1,
              "#f0f921"
             ]
            ],
            "type": "heatmapgl"
           }
          ],
          "histogram": [
           {
            "marker": {
             "pattern": {
              "fillmode": "overlay",
              "size": 10,
              "solidity": 0.2
             }
            },
            "type": "histogram"
           }
          ],
          "histogram2d": [
           {
            "colorbar": {
             "outlinewidth": 0,
             "ticks": ""
            },
            "colorscale": [
             [
              0,
              "#0d0887"
             ],
             [
              0.1111111111111111,
              "#46039f"
             ],
             [
              0.2222222222222222,
              "#7201a8"
             ],
             [
              0.3333333333333333,
              "#9c179e"
             ],
             [
              0.4444444444444444,
              "#bd3786"
             ],
             [
              0.5555555555555556,
              "#d8576b"
             ],
             [
              0.6666666666666666,
              "#ed7953"
             ],
             [
              0.7777777777777778,
              "#fb9f3a"
             ],
             [
              0.8888888888888888,
              "#fdca26"
             ],
             [
              1,
              "#f0f921"
             ]
            ],
            "type": "histogram2d"
           }
          ],
          "histogram2dcontour": [
           {
            "colorbar": {
             "outlinewidth": 0,
             "ticks": ""
            },
            "colorscale": [
             [
              0,
              "#0d0887"
             ],
             [
              0.1111111111111111,
              "#46039f"
             ],
             [
              0.2222222222222222,
              "#7201a8"
             ],
             [
              0.3333333333333333,
              "#9c179e"
             ],
             [
              0.4444444444444444,
              "#bd3786"
             ],
             [
              0.5555555555555556,
              "#d8576b"
             ],
             [
              0.6666666666666666,
              "#ed7953"
             ],
             [
              0.7777777777777778,
              "#fb9f3a"
             ],
             [
              0.8888888888888888,
              "#fdca26"
             ],
             [
              1,
              "#f0f921"
             ]
            ],
            "type": "histogram2dcontour"
           }
          ],
          "mesh3d": [
           {
            "colorbar": {
             "outlinewidth": 0,
             "ticks": ""
            },
            "type": "mesh3d"
           }
          ],
          "parcoords": [
           {
            "line": {
             "colorbar": {
              "outlinewidth": 0,
              "ticks": ""
             }
            },
            "type": "parcoords"
           }
          ],
          "pie": [
           {
            "automargin": true,
            "type": "pie"
           }
          ],
          "scatter": [
           {
            "fillpattern": {
             "fillmode": "overlay",
             "size": 10,
             "solidity": 0.2
            },
            "type": "scatter"
           }
          ],
          "scatter3d": [
           {
            "line": {
             "colorbar": {
              "outlinewidth": 0,
              "ticks": ""
             }
            },
            "marker": {
             "colorbar": {
              "outlinewidth": 0,
              "ticks": ""
             }
            },
            "type": "scatter3d"
           }
          ],
          "scattercarpet": [
           {
            "marker": {
             "colorbar": {
              "outlinewidth": 0,
              "ticks": ""
             }
            },
            "type": "scattercarpet"
           }
          ],
          "scattergeo": [
           {
            "marker": {
             "colorbar": {
              "outlinewidth": 0,
              "ticks": ""
             }
            },
            "type": "scattergeo"
           }
          ],
          "scattergl": [
           {
            "marker": {
             "colorbar": {
              "outlinewidth": 0,
              "ticks": ""
             }
            },
            "type": "scattergl"
           }
          ],
          "scattermapbox": [
           {
            "marker": {
             "colorbar": {
              "outlinewidth": 0,
              "ticks": ""
             }
            },
            "type": "scattermapbox"
           }
          ],
          "scatterpolar": [
           {
            "marker": {
             "colorbar": {
              "outlinewidth": 0,
              "ticks": ""
             }
            },
            "type": "scatterpolar"
           }
          ],
          "scatterpolargl": [
           {
            "marker": {
             "colorbar": {
              "outlinewidth": 0,
              "ticks": ""
             }
            },
            "type": "scatterpolargl"
           }
          ],
          "scatterternary": [
           {
            "marker": {
             "colorbar": {
              "outlinewidth": 0,
              "ticks": ""
             }
            },
            "type": "scatterternary"
           }
          ],
          "surface": [
           {
            "colorbar": {
             "outlinewidth": 0,
             "ticks": ""
            },
            "colorscale": [
             [
              0,
              "#0d0887"
             ],
             [
              0.1111111111111111,
              "#46039f"
             ],
             [
              0.2222222222222222,
              "#7201a8"
             ],
             [
              0.3333333333333333,
              "#9c179e"
             ],
             [
              0.4444444444444444,
              "#bd3786"
             ],
             [
              0.5555555555555556,
              "#d8576b"
             ],
             [
              0.6666666666666666,
              "#ed7953"
             ],
             [
              0.7777777777777778,
              "#fb9f3a"
             ],
             [
              0.8888888888888888,
              "#fdca26"
             ],
             [
              1,
              "#f0f921"
             ]
            ],
            "type": "surface"
           }
          ],
          "table": [
           {
            "cells": {
             "fill": {
              "color": "#EBF0F8"
             },
             "line": {
              "color": "white"
             }
            },
            "header": {
             "fill": {
              "color": "#C8D4E3"
             },
             "line": {
              "color": "white"
             }
            },
            "type": "table"
           }
          ]
         },
         "layout": {
          "annotationdefaults": {
           "arrowcolor": "#2a3f5f",
           "arrowhead": 0,
           "arrowwidth": 1
          },
          "autotypenumbers": "strict",
          "coloraxis": {
           "colorbar": {
            "outlinewidth": 0,
            "ticks": ""
           }
          },
          "colorscale": {
           "diverging": [
            [
             0,
             "#8e0152"
            ],
            [
             0.1,
             "#c51b7d"
            ],
            [
             0.2,
             "#de77ae"
            ],
            [
             0.3,
             "#f1b6da"
            ],
            [
             0.4,
             "#fde0ef"
            ],
            [
             0.5,
             "#f7f7f7"
            ],
            [
             0.6,
             "#e6f5d0"
            ],
            [
             0.7,
             "#b8e186"
            ],
            [
             0.8,
             "#7fbc41"
            ],
            [
             0.9,
             "#4d9221"
            ],
            [
             1,
             "#276419"
            ]
           ],
           "sequential": [
            [
             0,
             "#0d0887"
            ],
            [
             0.1111111111111111,
             "#46039f"
            ],
            [
             0.2222222222222222,
             "#7201a8"
            ],
            [
             0.3333333333333333,
             "#9c179e"
            ],
            [
             0.4444444444444444,
             "#bd3786"
            ],
            [
             0.5555555555555556,
             "#d8576b"
            ],
            [
             0.6666666666666666,
             "#ed7953"
            ],
            [
             0.7777777777777778,
             "#fb9f3a"
            ],
            [
             0.8888888888888888,
             "#fdca26"
            ],
            [
             1,
             "#f0f921"
            ]
           ],
           "sequentialminus": [
            [
             0,
             "#0d0887"
            ],
            [
             0.1111111111111111,
             "#46039f"
            ],
            [
             0.2222222222222222,
             "#7201a8"
            ],
            [
             0.3333333333333333,
             "#9c179e"
            ],
            [
             0.4444444444444444,
             "#bd3786"
            ],
            [
             0.5555555555555556,
             "#d8576b"
            ],
            [
             0.6666666666666666,
             "#ed7953"
            ],
            [
             0.7777777777777778,
             "#fb9f3a"
            ],
            [
             0.8888888888888888,
             "#fdca26"
            ],
            [
             1,
             "#f0f921"
            ]
           ]
          },
          "colorway": [
           "#636efa",
           "#EF553B",
           "#00cc96",
           "#ab63fa",
           "#FFA15A",
           "#19d3f3",
           "#FF6692",
           "#B6E880",
           "#FF97FF",
           "#FECB52"
          ],
          "font": {
           "color": "#2a3f5f"
          },
          "geo": {
           "bgcolor": "white",
           "lakecolor": "white",
           "landcolor": "#E5ECF6",
           "showlakes": true,
           "showland": true,
           "subunitcolor": "white"
          },
          "hoverlabel": {
           "align": "left"
          },
          "hovermode": "closest",
          "mapbox": {
           "style": "light"
          },
          "paper_bgcolor": "white",
          "plot_bgcolor": "#E5ECF6",
          "polar": {
           "angularaxis": {
            "gridcolor": "white",
            "linecolor": "white",
            "ticks": ""
           },
           "bgcolor": "#E5ECF6",
           "radialaxis": {
            "gridcolor": "white",
            "linecolor": "white",
            "ticks": ""
           }
          },
          "scene": {
           "xaxis": {
            "backgroundcolor": "#E5ECF6",
            "gridcolor": "white",
            "gridwidth": 2,
            "linecolor": "white",
            "showbackground": true,
            "ticks": "",
            "zerolinecolor": "white"
           },
           "yaxis": {
            "backgroundcolor": "#E5ECF6",
            "gridcolor": "white",
            "gridwidth": 2,
            "linecolor": "white",
            "showbackground": true,
            "ticks": "",
            "zerolinecolor": "white"
           },
           "zaxis": {
            "backgroundcolor": "#E5ECF6",
            "gridcolor": "white",
            "gridwidth": 2,
            "linecolor": "white",
            "showbackground": true,
            "ticks": "",
            "zerolinecolor": "white"
           }
          },
          "shapedefaults": {
           "line": {
            "color": "#2a3f5f"
           }
          },
          "ternary": {
           "aaxis": {
            "gridcolor": "white",
            "linecolor": "white",
            "ticks": ""
           },
           "baxis": {
            "gridcolor": "white",
            "linecolor": "white",
            "ticks": ""
           },
           "bgcolor": "#E5ECF6",
           "caxis": {
            "gridcolor": "white",
            "linecolor": "white",
            "ticks": ""
           }
          },
          "title": {
           "x": 0.05
          },
          "xaxis": {
           "automargin": true,
           "gridcolor": "white",
           "linecolor": "white",
           "ticks": "",
           "title": {
            "standoff": 15
           },
           "zerolinecolor": "white",
           "zerolinewidth": 2
          },
          "yaxis": {
           "automargin": true,
           "gridcolor": "white",
           "linecolor": "white",
           "ticks": "",
           "title": {
            "standoff": 15
           },
           "zerolinecolor": "white",
           "zerolinewidth": 2
          }
         }
        },
        "width": 600,
        "xaxis": {
         "range": [
          0,
          128
         ]
        },
        "yaxis": {
         "range": [
          0,
          64
         ]
        }
       }
      }
     },
     "metadata": {},
     "output_type": "display_data"
    }
   ],
   "source": [
    "range = 913-240\n",
    "pixelrange = 128\n",
    "scaler = range/pixelrange\n",
    "\n",
    "import plotly.express as px\n",
    "\n",
    "# Filter the DataFrame to include only rows where stimtype is 'loom'\n",
    "filtered_data = pooled_data[(pooled_data['stimtype'] == 'loom')]\n",
    "\n",
    "# Create the 3D scatter plot using the filtered DataFrame\n",
    "fig = px.scatter_3d(\n",
    "    x=filtered_data['x_centroid']*scaler,\n",
    "    y=(filtered_data['y_centroid'] % y_res) * scaler,\n",
    "    z=-filtered_data['plane_depth'],  # Use plane_depth as the z-axis\n",
    "    color=filtered_data['plane_depth'],\n",
    "    size=abs(filtered_data['amplitude']),\n",
    "    opacity=1\n",
    ")\n",
    "\n",
    "# Update layout with desired width, height, and margins\n",
    "fig.update_layout(width=600, height=300, margin=dict(l=20, r=20, t=20, b=20))\n",
    "\n",
    "# Set axis ranges\n",
    "fig.update_xaxes(range=[0, 128])\n",
    "fig.update_yaxes(range=[0, 64])\n",
    "\n",
    "# Show the figure\n",
    "fig.show()\n"
   ]
  },
  {
   "cell_type": "code",
   "execution_count": 465,
   "metadata": {},
   "outputs": [
    {
     "data": {
      "application/vnd.plotly.v1+json": {
       "config": {
        "plotlyServerURL": "https://plot.ly"
       },
       "data": [
        {
         "hovertemplate": "color=x241014_53_cOTm<br>x=%{x}<br>y=%{y}<br>z=%{z}<br>size=%{marker.size}<extra></extra>",
         "legendgroup": "x241014_53_cOTm",
         "marker": {
          "color": "#636efa",
          "opacity": 0.6,
          "size": [
           41,
           39,
           30,
           33,
           32,
           41,
           38,
           38,
           1,
           1,
           12,
           32,
           21,
           32,
           7,
           32,
           31,
           1,
           8,
           1,
           1,
           3,
           1
          ],
          "sizemode": "area",
          "sizeref": 0.1025,
          "symbol": "circle"
         },
         "mode": "markers",
         "name": "x241014_53_cOTm",
         "scene": "scene",
         "showlegend": true,
         "type": "scatter3d",
         "x": [
          352.2734375,
          352.2734375,
          330.71640625,
          390.5120738636363,
          312.83984375,
          289.3079268292683,
          411.49300986842104,
          419.37972861842104,
          352.2734375,
          347.015625,
          373.3046875,
          375.2763671875,
          390.32998511904765,
          486.01904296875,
          354.5267857142857,
          347.015625,
          304.10509072580646,
          399.59375,
          334.5283203125,
          304.953125,
          515.265625,
          290.9322916666667,
          441.65625
         ],
         "y": [
          247.1171875,
          215.5703125,
          265.87005208333335,
          214.13636363636363,
          265.51953125,
          277.6381478658537,
          178.9039884868422,
          151.36965460526312,
          236.6015625,
          231.34375,
          266.833984375,
          250.567626953125,
          226.33630952380955,
          125.85888671875,
          272.65513392857144,
          238.737548828125,
          263.0602318548387,
          247.1171875,
          257.6328125,
          257.6328125,
          173.5078125,
          140.2083333333333,
          141.9609375
         ],
         "z": [
          -282.5,
          -215,
          -282.5,
          -282.5,
          -215,
          -215,
          -350,
          -350,
          -215,
          -215,
          -282.5,
          -215,
          -215,
          -215,
          -215,
          -147.49999999999997,
          -147.49999999999997,
          -282.5,
          -147.49999999999997,
          -282.5,
          -282.5,
          -147.49999999999997,
          -147.49999999999997
         ]
        }
       ],
       "layout": {
        "height": 600,
        "legend": {
         "itemsizing": "constant",
         "title": {
          "text": "color"
         },
         "tracegroupgap": 0
        },
        "margin": {
         "b": 20,
         "l": 20,
         "r": 20,
         "t": 20
        },
        "scene": {
         "domain": {
          "x": [
           0,
           1
          ],
          "y": [
           0,
           1
          ]
         },
         "xaxis": {
          "title": {
           "text": "x"
          }
         },
         "yaxis": {
          "title": {
           "text": "y"
          }
         },
         "zaxis": {
          "title": {
           "text": "z"
          }
         }
        },
        "template": {
         "data": {
          "bar": [
           {
            "error_x": {
             "color": "#2a3f5f"
            },
            "error_y": {
             "color": "#2a3f5f"
            },
            "marker": {
             "line": {
              "color": "#E5ECF6",
              "width": 0.5
             },
             "pattern": {
              "fillmode": "overlay",
              "size": 10,
              "solidity": 0.2
             }
            },
            "type": "bar"
           }
          ],
          "barpolar": [
           {
            "marker": {
             "line": {
              "color": "#E5ECF6",
              "width": 0.5
             },
             "pattern": {
              "fillmode": "overlay",
              "size": 10,
              "solidity": 0.2
             }
            },
            "type": "barpolar"
           }
          ],
          "carpet": [
           {
            "aaxis": {
             "endlinecolor": "#2a3f5f",
             "gridcolor": "white",
             "linecolor": "white",
             "minorgridcolor": "white",
             "startlinecolor": "#2a3f5f"
            },
            "baxis": {
             "endlinecolor": "#2a3f5f",
             "gridcolor": "white",
             "linecolor": "white",
             "minorgridcolor": "white",
             "startlinecolor": "#2a3f5f"
            },
            "type": "carpet"
           }
          ],
          "choropleth": [
           {
            "colorbar": {
             "outlinewidth": 0,
             "ticks": ""
            },
            "type": "choropleth"
           }
          ],
          "contour": [
           {
            "colorbar": {
             "outlinewidth": 0,
             "ticks": ""
            },
            "colorscale": [
             [
              0,
              "#0d0887"
             ],
             [
              0.1111111111111111,
              "#46039f"
             ],
             [
              0.2222222222222222,
              "#7201a8"
             ],
             [
              0.3333333333333333,
              "#9c179e"
             ],
             [
              0.4444444444444444,
              "#bd3786"
             ],
             [
              0.5555555555555556,
              "#d8576b"
             ],
             [
              0.6666666666666666,
              "#ed7953"
             ],
             [
              0.7777777777777778,
              "#fb9f3a"
             ],
             [
              0.8888888888888888,
              "#fdca26"
             ],
             [
              1,
              "#f0f921"
             ]
            ],
            "type": "contour"
           }
          ],
          "contourcarpet": [
           {
            "colorbar": {
             "outlinewidth": 0,
             "ticks": ""
            },
            "type": "contourcarpet"
           }
          ],
          "heatmap": [
           {
            "colorbar": {
             "outlinewidth": 0,
             "ticks": ""
            },
            "colorscale": [
             [
              0,
              "#0d0887"
             ],
             [
              0.1111111111111111,
              "#46039f"
             ],
             [
              0.2222222222222222,
              "#7201a8"
             ],
             [
              0.3333333333333333,
              "#9c179e"
             ],
             [
              0.4444444444444444,
              "#bd3786"
             ],
             [
              0.5555555555555556,
              "#d8576b"
             ],
             [
              0.6666666666666666,
              "#ed7953"
             ],
             [
              0.7777777777777778,
              "#fb9f3a"
             ],
             [
              0.8888888888888888,
              "#fdca26"
             ],
             [
              1,
              "#f0f921"
             ]
            ],
            "type": "heatmap"
           }
          ],
          "heatmapgl": [
           {
            "colorbar": {
             "outlinewidth": 0,
             "ticks": ""
            },
            "colorscale": [
             [
              0,
              "#0d0887"
             ],
             [
              0.1111111111111111,
              "#46039f"
             ],
             [
              0.2222222222222222,
              "#7201a8"
             ],
             [
              0.3333333333333333,
              "#9c179e"
             ],
             [
              0.4444444444444444,
              "#bd3786"
             ],
             [
              0.5555555555555556,
              "#d8576b"
             ],
             [
              0.6666666666666666,
              "#ed7953"
             ],
             [
              0.7777777777777778,
              "#fb9f3a"
             ],
             [
              0.8888888888888888,
              "#fdca26"
             ],
             [
              1,
              "#f0f921"
             ]
            ],
            "type": "heatmapgl"
           }
          ],
          "histogram": [
           {
            "marker": {
             "pattern": {
              "fillmode": "overlay",
              "size": 10,
              "solidity": 0.2
             }
            },
            "type": "histogram"
           }
          ],
          "histogram2d": [
           {
            "colorbar": {
             "outlinewidth": 0,
             "ticks": ""
            },
            "colorscale": [
             [
              0,
              "#0d0887"
             ],
             [
              0.1111111111111111,
              "#46039f"
             ],
             [
              0.2222222222222222,
              "#7201a8"
             ],
             [
              0.3333333333333333,
              "#9c179e"
             ],
             [
              0.4444444444444444,
              "#bd3786"
             ],
             [
              0.5555555555555556,
              "#d8576b"
             ],
             [
              0.6666666666666666,
              "#ed7953"
             ],
             [
              0.7777777777777778,
              "#fb9f3a"
             ],
             [
              0.8888888888888888,
              "#fdca26"
             ],
             [
              1,
              "#f0f921"
             ]
            ],
            "type": "histogram2d"
           }
          ],
          "histogram2dcontour": [
           {
            "colorbar": {
             "outlinewidth": 0,
             "ticks": ""
            },
            "colorscale": [
             [
              0,
              "#0d0887"
             ],
             [
              0.1111111111111111,
              "#46039f"
             ],
             [
              0.2222222222222222,
              "#7201a8"
             ],
             [
              0.3333333333333333,
              "#9c179e"
             ],
             [
              0.4444444444444444,
              "#bd3786"
             ],
             [
              0.5555555555555556,
              "#d8576b"
             ],
             [
              0.6666666666666666,
              "#ed7953"
             ],
             [
              0.7777777777777778,
              "#fb9f3a"
             ],
             [
              0.8888888888888888,
              "#fdca26"
             ],
             [
              1,
              "#f0f921"
             ]
            ],
            "type": "histogram2dcontour"
           }
          ],
          "mesh3d": [
           {
            "colorbar": {
             "outlinewidth": 0,
             "ticks": ""
            },
            "type": "mesh3d"
           }
          ],
          "parcoords": [
           {
            "line": {
             "colorbar": {
              "outlinewidth": 0,
              "ticks": ""
             }
            },
            "type": "parcoords"
           }
          ],
          "pie": [
           {
            "automargin": true,
            "type": "pie"
           }
          ],
          "scatter": [
           {
            "fillpattern": {
             "fillmode": "overlay",
             "size": 10,
             "solidity": 0.2
            },
            "type": "scatter"
           }
          ],
          "scatter3d": [
           {
            "line": {
             "colorbar": {
              "outlinewidth": 0,
              "ticks": ""
             }
            },
            "marker": {
             "colorbar": {
              "outlinewidth": 0,
              "ticks": ""
             }
            },
            "type": "scatter3d"
           }
          ],
          "scattercarpet": [
           {
            "marker": {
             "colorbar": {
              "outlinewidth": 0,
              "ticks": ""
             }
            },
            "type": "scattercarpet"
           }
          ],
          "scattergeo": [
           {
            "marker": {
             "colorbar": {
              "outlinewidth": 0,
              "ticks": ""
             }
            },
            "type": "scattergeo"
           }
          ],
          "scattergl": [
           {
            "marker": {
             "colorbar": {
              "outlinewidth": 0,
              "ticks": ""
             }
            },
            "type": "scattergl"
           }
          ],
          "scattermapbox": [
           {
            "marker": {
             "colorbar": {
              "outlinewidth": 0,
              "ticks": ""
             }
            },
            "type": "scattermapbox"
           }
          ],
          "scatterpolar": [
           {
            "marker": {
             "colorbar": {
              "outlinewidth": 0,
              "ticks": ""
             }
            },
            "type": "scatterpolar"
           }
          ],
          "scatterpolargl": [
           {
            "marker": {
             "colorbar": {
              "outlinewidth": 0,
              "ticks": ""
             }
            },
            "type": "scatterpolargl"
           }
          ],
          "scatterternary": [
           {
            "marker": {
             "colorbar": {
              "outlinewidth": 0,
              "ticks": ""
             }
            },
            "type": "scatterternary"
           }
          ],
          "surface": [
           {
            "colorbar": {
             "outlinewidth": 0,
             "ticks": ""
            },
            "colorscale": [
             [
              0,
              "#0d0887"
             ],
             [
              0.1111111111111111,
              "#46039f"
             ],
             [
              0.2222222222222222,
              "#7201a8"
             ],
             [
              0.3333333333333333,
              "#9c179e"
             ],
             [
              0.4444444444444444,
              "#bd3786"
             ],
             [
              0.5555555555555556,
              "#d8576b"
             ],
             [
              0.6666666666666666,
              "#ed7953"
             ],
             [
              0.7777777777777778,
              "#fb9f3a"
             ],
             [
              0.8888888888888888,
              "#fdca26"
             ],
             [
              1,
              "#f0f921"
             ]
            ],
            "type": "surface"
           }
          ],
          "table": [
           {
            "cells": {
             "fill": {
              "color": "#EBF0F8"
             },
             "line": {
              "color": "white"
             }
            },
            "header": {
             "fill": {
              "color": "#C8D4E3"
             },
             "line": {
              "color": "white"
             }
            },
            "type": "table"
           }
          ]
         },
         "layout": {
          "annotationdefaults": {
           "arrowcolor": "#2a3f5f",
           "arrowhead": 0,
           "arrowwidth": 1
          },
          "autotypenumbers": "strict",
          "coloraxis": {
           "colorbar": {
            "outlinewidth": 0,
            "ticks": ""
           }
          },
          "colorscale": {
           "diverging": [
            [
             0,
             "#8e0152"
            ],
            [
             0.1,
             "#c51b7d"
            ],
            [
             0.2,
             "#de77ae"
            ],
            [
             0.3,
             "#f1b6da"
            ],
            [
             0.4,
             "#fde0ef"
            ],
            [
             0.5,
             "#f7f7f7"
            ],
            [
             0.6,
             "#e6f5d0"
            ],
            [
             0.7,
             "#b8e186"
            ],
            [
             0.8,
             "#7fbc41"
            ],
            [
             0.9,
             "#4d9221"
            ],
            [
             1,
             "#276419"
            ]
           ],
           "sequential": [
            [
             0,
             "#0d0887"
            ],
            [
             0.1111111111111111,
             "#46039f"
            ],
            [
             0.2222222222222222,
             "#7201a8"
            ],
            [
             0.3333333333333333,
             "#9c179e"
            ],
            [
             0.4444444444444444,
             "#bd3786"
            ],
            [
             0.5555555555555556,
             "#d8576b"
            ],
            [
             0.6666666666666666,
             "#ed7953"
            ],
            [
             0.7777777777777778,
             "#fb9f3a"
            ],
            [
             0.8888888888888888,
             "#fdca26"
            ],
            [
             1,
             "#f0f921"
            ]
           ],
           "sequentialminus": [
            [
             0,
             "#0d0887"
            ],
            [
             0.1111111111111111,
             "#46039f"
            ],
            [
             0.2222222222222222,
             "#7201a8"
            ],
            [
             0.3333333333333333,
             "#9c179e"
            ],
            [
             0.4444444444444444,
             "#bd3786"
            ],
            [
             0.5555555555555556,
             "#d8576b"
            ],
            [
             0.6666666666666666,
             "#ed7953"
            ],
            [
             0.7777777777777778,
             "#fb9f3a"
            ],
            [
             0.8888888888888888,
             "#fdca26"
            ],
            [
             1,
             "#f0f921"
            ]
           ]
          },
          "colorway": [
           "#636efa",
           "#EF553B",
           "#00cc96",
           "#ab63fa",
           "#FFA15A",
           "#19d3f3",
           "#FF6692",
           "#B6E880",
           "#FF97FF",
           "#FECB52"
          ],
          "font": {
           "color": "#2a3f5f"
          },
          "geo": {
           "bgcolor": "white",
           "lakecolor": "white",
           "landcolor": "#E5ECF6",
           "showlakes": true,
           "showland": true,
           "subunitcolor": "white"
          },
          "hoverlabel": {
           "align": "left"
          },
          "hovermode": "closest",
          "mapbox": {
           "style": "light"
          },
          "paper_bgcolor": "white",
          "plot_bgcolor": "#E5ECF6",
          "polar": {
           "angularaxis": {
            "gridcolor": "white",
            "linecolor": "white",
            "ticks": ""
           },
           "bgcolor": "#E5ECF6",
           "radialaxis": {
            "gridcolor": "white",
            "linecolor": "white",
            "ticks": ""
           }
          },
          "scene": {
           "xaxis": {
            "backgroundcolor": "#E5ECF6",
            "gridcolor": "white",
            "gridwidth": 2,
            "linecolor": "white",
            "showbackground": true,
            "ticks": "",
            "zerolinecolor": "white"
           },
           "yaxis": {
            "backgroundcolor": "#E5ECF6",
            "gridcolor": "white",
            "gridwidth": 2,
            "linecolor": "white",
            "showbackground": true,
            "ticks": "",
            "zerolinecolor": "white"
           },
           "zaxis": {
            "backgroundcolor": "#E5ECF6",
            "gridcolor": "white",
            "gridwidth": 2,
            "linecolor": "white",
            "showbackground": true,
            "ticks": "",
            "zerolinecolor": "white"
           }
          },
          "shapedefaults": {
           "line": {
            "color": "#2a3f5f"
           }
          },
          "ternary": {
           "aaxis": {
            "gridcolor": "white",
            "linecolor": "white",
            "ticks": ""
           },
           "baxis": {
            "gridcolor": "white",
            "linecolor": "white",
            "ticks": ""
           },
           "bgcolor": "#E5ECF6",
           "caxis": {
            "gridcolor": "white",
            "linecolor": "white",
            "ticks": ""
           }
          },
          "title": {
           "x": 0.05
          },
          "xaxis": {
           "automargin": true,
           "gridcolor": "white",
           "linecolor": "white",
           "ticks": "",
           "title": {
            "standoff": 15
           },
           "zerolinecolor": "white",
           "zerolinewidth": 2
          },
          "yaxis": {
           "automargin": true,
           "gridcolor": "white",
           "linecolor": "white",
           "ticks": "",
           "title": {
            "standoff": 15
           },
           "zerolinecolor": "white",
           "zerolinewidth": 2
          }
         }
        },
        "width": 800,
        "xaxis": {
         "range": [
          0,
          128
         ]
        },
        "yaxis": {
         "range": [
          0,
          64
         ]
        }
       }
      }
     },
     "metadata": {},
     "output_type": "display_data"
    }
   ],
   "source": [
    "import plotly.express as px\n",
    "\n",
    "# Filter the DataFrame to include only the necessary rows\n",
    "filtered_data = pooled_data[(pooled_data['stimtype'] == 'moving stripes')]  # You don't need to filter for 'loom' only anymore\n",
    "\n",
    "# Calculate scaler\n",
    "range_val = 913 - 240\n",
    "pixelrange = 128\n",
    "scaler = range_val / pixelrange\n",
    "\n",
    "# Create the 3D scatter plot, using stimtype for color\n",
    "fig = px.scatter_3d(\n",
    "    x=filtered_data['x_centroid'] * scaler,\n",
    "    y=(filtered_data['y_centroid'] % y_res) * scaler,\n",
    "    z=-filtered_data['plane_depth'],  # Use plane_depth as the z-axis\n",
    "    color=filtered_data['experiment_id'],  # Color based on stimtype\n",
    "    size=abs(filtered_data['size']),\n",
    "    opacity=0.6\n",
    ")\n",
    "\n",
    "# Update layout with desired width, height, and margins\n",
    "fig.update_layout(width=800, height=600, margin=dict(l=20, r=20, t=20, b=20))\n",
    "\n",
    "# Set axis ranges\n",
    "fig.update_xaxes(range=[0, 128])\n",
    "fig.update_yaxes(range=[0, 64])\n",
    "\n",
    "# Show the figure\n",
    "fig.show()"
   ]
  },
  {
   "cell_type": "code",
   "execution_count": 466,
   "metadata": {},
   "outputs": [
    {
     "name": "stderr",
     "output_type": "stream",
     "text": [
      "C:\\Users\\Michael Forsthofer\\AppData\\Local\\Temp\\ipykernel_12128\\1468738815.py:38: SettingWithCopyWarning:\n",
      "\n",
      "\n",
      "A value is trying to be set on a copy of a slice from a DataFrame.\n",
      "Try using .loc[row_indexer,col_indexer] = value instead\n",
      "\n",
      "See the caveats in the documentation: https://pandas.pydata.org/pandas-docs/stable/user_guide/indexing.html#returning-a-view-versus-a-copy\n",
      "\n"
     ]
    },
    {
     "data": {
      "application/vnd.plotly.v1+json": {
       "config": {
        "plotlyServerURL": "https://plot.ly"
       },
       "data": [
        {
         "marker": {
          "color": "lightgray",
          "opacity": 0.5,
          "size": [
           41,
           39,
           30,
           33,
           32,
           41,
           38,
           38,
           1,
           1,
           12,
           32,
           21,
           32,
           7,
           32,
           31,
           1,
           8,
           1,
           1,
           3,
           1,
           41,
           41,
           35,
           37,
           37,
           34,
           34,
           31,
           32,
           39,
           34,
           1,
           1,
           32,
           41,
           41,
           30,
           30,
           1,
           41,
           41,
           41,
           39,
           30,
           41,
           32,
           32,
           41,
           33,
           32,
           34,
           34,
           36,
           31,
           41,
           38,
           38,
           38,
           33,
           36,
           1,
           30,
           1,
           33,
           40,
           12,
           37,
           39,
           32,
           21,
           36,
           32,
           37,
           30,
           31,
           7,
           30,
           32,
           33,
           1,
           32,
           37,
           31,
           31,
           23,
           10,
           1,
           8,
           4,
           3,
           41,
           41,
           33,
           32,
           7,
           8,
           1,
           41,
           41,
           41,
           31,
           39,
           30,
           41,
           41,
           41,
           41,
           37,
           32,
           41,
           41,
           37,
           35,
           37,
           41,
           33,
           37,
           33,
           32,
           34,
           41,
           38,
           22,
           41,
           41,
           34,
           33,
           34,
           37,
           36,
           41,
           31,
           34,
           33,
           33,
           41,
           1,
           31,
           38,
           41,
           38,
           35,
           32,
           34,
           38,
           39,
           39,
           41,
           33,
           36,
           34,
           1,
           30,
           31,
           36,
           39,
           33,
           41,
           33,
           36,
           40,
           1,
           12,
           41,
           36,
           32,
           1,
           34,
           32,
           32,
           23,
           31,
           37,
           39,
           30,
           32,
           21,
           36,
           39,
           32,
           36,
           33,
           38,
           41,
           30,
           32,
           36,
           36,
           32,
           32,
           31,
           38,
           37,
           33,
           37,
           1,
           30,
           31,
           38,
           41,
           30,
           1,
           33,
           41,
           40,
           32,
           33,
           34,
           1,
           1,
           41,
           35,
           30,
           39,
           32,
           40,
           31,
           26,
           31,
           30,
           33,
           31,
           31,
           31,
           30,
           30,
           35,
           30,
           42,
           39,
           36,
           36,
           21,
           32,
           30,
           36,
           30,
           12,
           33,
           28,
           32,
           16,
           20,
           1,
           36,
           14,
           36,
           31,
           19,
           34,
           20,
           24,
           36,
           37,
           30,
           31,
           32,
           30,
           35,
           36,
           32,
           21,
           4,
           31,
           32,
           8,
           34,
           33,
           35,
           31,
           20,
           14,
           1,
           5,
           23,
           10,
           32,
           31,
           32,
           5,
           1,
           31,
           35,
           32,
           31,
           16,
           25,
           34,
           34,
           30,
           15,
           26,
           1,
           27,
           15,
           9,
           11,
           31,
           27,
           25,
           8,
           30,
           8,
           2,
           1,
           7,
           16,
           7,
           1,
           11,
           22,
           2,
           1,
           1,
           5,
           9,
           1,
           3,
           1,
           4,
           35,
           1,
           1,
           37,
           31,
           32,
           7,
           1,
           1,
           32,
           37,
           23,
           14,
           19,
           17,
           6,
           3,
           8,
           13,
           20,
           1,
           7,
           3,
           1,
           3,
           2,
           2,
           3,
           2,
           3,
           2,
           1,
           3,
           1,
           2,
           1,
           1,
           1,
           1,
           1
          ]
         },
         "mode": "markers",
         "name": "All Data",
         "type": "scatter3d",
         "x": [
          352.2734375,
          352.2734375,
          330.71640625,
          390.5120738636363,
          312.83984375,
          289.3079268292683,
          411.49300986842104,
          419.37972861842104,
          352.2734375,
          347.015625,
          373.3046875,
          375.2763671875,
          390.32998511904765,
          486.01904296875,
          354.5267857142857,
          347.015625,
          304.10509072580646,
          399.59375,
          334.5283203125,
          304.953125,
          515.265625,
          290.9322916666667,
          441.65625,
          162.9921875,
          168.25,
          168.70066964285715,
          135.28209459459458,
          130.59269425675677,
          125.41429227941175,
          190.8276654411765,
          157.734375,
          107.78515625,
          126.1875,
          190.05445772058823,
          126.1875,
          152.4765625,
          177.451171875,
          157.734375,
          199.796875,
          168.42526041666665,
          180.16770833333334,
          247.1171875,
          352.2734375,
          368.046875,
          415.3671875,
          352.2734375,
          330.71640625,
          336.5,
          370.0185546875,
          439.02734375,
          341.7578125,
          390.5120738636363,
          312.83984375,
          271.85983455882354,
          453.87293198529414,
          424.4223090277778,
          368.2164818548387,
          289.3079268292683,
          325.8460115131579,
          411.49300986842104,
          419.37972861842104,
          324.5504261363636,
          405.14366319444446,
          352.2734375,
          334.57213541666664,
          347.015625,
          261.4566761363636,
          310.2109375,
          373.3046875,
          298.2742820945946,
          442.59995993589746,
          375.2763671875,
          390.32998511904765,
          238.6462673611111,
          312.83984375,
          399.1674408783784,
          295.13854166666664,
          373.1350806451613,
          354.5267857142857,
          444.28515625,
          347.015625,
          312.60085227272725,
          441.65625,
          441.65625,
          142.81355574324323,
          304.10509072580646,
          161.12651209677418,
          122.30129076086956,
          271.82890625,
          404.8515625,
          334.5283203125,
          144.58984375,
          322.4791666666667,
          352.2734375,
          336.5,
          390.5120738636363,
          375.2763671875,
          354.5267857142857,
          334.5283203125,
          294.4375,
          352.2734375,
          368.046875,
          415.3671875,
          391.1134072580645,
          352.2734375,
          330.71640625,
          336.5,
          436.3984375,
          357.53125,
          294.4375,
          410.9619932432432,
          439.02734375,
          162.9921875,
          168.25,
          456.15076013513516,
          168.70066964285715,
          135.28209459459458,
          341.7578125,
          390.5120738636363,
          130.59269425675677,
          206.96661931818184,
          312.83984375,
          271.85983455882354,
          120.9296875,
          173.92290296052633,
          378.32350852272725,
          105.15625,
          136.703125,
          453.87293198529414,
          135.58783143939394,
          125.41429227941175,
          389.36233108108104,
          424.4223090277778,
          220.828125,
          368.2164818548387,
          190.8276654411765,
          458.8636363636363,
          416.32315340909093,
          289.3079268292683,
          152.4765625,
          157.734375,
          325.8460115131579,
          131.4453125,
          411.49300986842104,
          268.44888392857143,
          107.78515625,
          385.36672794117646,
          419.37972861842104,
          327.06290064102564,
          126.1875,
          189.28125,
          324.5504261363636,
          405.14366319444446,
          190.05445772058823,
          126.1875,
          334.57213541666664,
          299.8649193548387,
          153.93706597222223,
          151.53285256410257,
          108.98011363636363,
          205.0546875,
          261.4566761363636,
          178.61957465277777,
          310.2109375,
          152.4765625,
          373.3046875,
          99.8984375,
          148.67925347222223,
          177.451171875,
          147.21875,
          126.03285845588235,
          173.83642578125,
          194.5390625,
          309.296535326087,
          207.08996975806454,
          298.2742820945946,
          442.59995993589746,
          101.47578125,
          375.2763671875,
          390.32998511904765,
          238.6462673611111,
          115.671875,
          249.74609375,
          158.90277777777777,
          481.64749053030306,
          140.30057565789474,
          241.859375,
          377.5109375,
          98.25537109375,
          99.02213541666666,
          164.45269097222223,
          134.7314453125,
          312.83984375,
          224.38986895161293,
          257.3560855263158,
          347.72614020270265,
          446.2767518939394,
          399.1674408783784,
          120.9296875,
          253.60182291666666,
          150.95010080645162,
          115.81023848684211,
          157.734375,
          295.13854166666664,
          189.28125,
          82.8503787878788,
          252.375,
          204.266015625,
          486.01904296875,
          356.4159564393939,
          84.89820772058825,
          336.5,
          184.0234375,
          199.796875,
          110.86473214285714,
          220.65286458333335,
          206.13321314102564,
          80.674560546875,
          169.95878906250002,
          304.10509072580646,
          230.13040865384613,
          147.72757056451613,
          453.39869791666666,
          162.6735321969697,
          269.5052923387097,
          333.1078629032258,
          474.5599798387097,
          444.28515625,
          287.4270833333333,
          119.12700892857144,
          192.08541666666665,
          273.28106398809524,
          235.92748397435895,
          238.6462673611111,
          198.33637152777777,
          141.71056547619048,
          347.015625,
          96.74374999999999,
          171.90125868055554,
          254.82864583333335,
          168.25,
          312.60085227272725,
          255.19168526785714,
          233.97265625,
          185.9951171875,
          202.9515625,
          226.0859375,
          234.26475694444446,
          456.30301339285717,
          168.25,
          411.80544354838713,
          214.46340460526315,
          134.3835018382353,
          417.733203125,
          311.9635416666667,
          131.4453125,
          142.81355574324323,
          168.42526041666665,
          304.10509072580646,
          127.501953125,
          338.9536458333333,
          266.34575892857146,
          178.47352430555554,
          226.0859375,
          176.76264880952382,
          215.5703125,
          269.16607862903226,
          287.53662109375,
          89.3828125,
          218.04457720588235,
          247.59517045454547,
          121.53058035714285,
          161.12651209677418,
          254.478125,
          70.60491071428572,
          220.828125,
          193.48749999999998,
          142.64673913043478,
          398.01640625,
          190.26708984375,
          195.38709677419357,
          255.496826171875,
          178.765625,
          215.5703125,
          174.86466733870967,
          218.57477678571428,
          281.29296875,
          174.69506048387098,
          212.94140625,
          124.7153125,
          132.83708639705884,
          351.50022977941177,
          180.16770833333334,
          232.74583333333334,
          156.31881009615384,
          194.5390625,
          268.3431712962963,
          143.0125,
          286.25868055555554,
          121.40767045454545,
          298.67767137096774,
          213.42824074074076,
          108.52125000000001,
          249.74609375,
          222.40546874999998,
          334.5283203125,
          168.25,
          483.71875,
          187.02790178571428,
          144.26123046875,
          235.85044642857142,
          357.53125,
          502.8380681818182,
          98.70348011363637,
          291.80859375,
          226.0859375,
          205.0546875,
          222.93125,
          237.76996527777777,
          515.265625,
          427.63541666666663,
          189.28125,
          208.998046875,
          438.6517857142857,
          352.2734375,
          347.015625,
          184.16554054054052,
          373.1350806451613,
          204.561767578125,
          354.5267857142857,
          168.25,
          231.34375,
          441.65625,
          153.61338682432432,
          122.30129076086956,
          107.03404017857143,
          97.96134868421052,
          274.64338235294116,
          394.3359375,
          396.08854166666663,
          111.728515625,
          233.3659855769231,
          268.411328125,
          294.4375,
          194.5390625,
          382.06770833333337,
          205.0546875,
          271.6536458333333,
          336.5,
          499.4921875,
          322.4791666666667,
          228.71484375,
          290.9322916666667,
          218.19921875,
          147.21875,
          164.74479166666666,
          194.5390625,
          233.97265625,
          315.46875,
          462.6875,
          199.796875,
          210.3125,
          168.25
         ],
         "y": [
          247.1171875,
          215.5703125,
          265.87005208333335,
          214.13636363636363,
          265.51953125,
          277.6381478658537,
          178.9039884868422,
          151.36965460526312,
          236.6015625,
          231.34375,
          266.833984375,
          250.567626953125,
          226.33630952380955,
          125.85888671875,
          272.65513392857144,
          238.737548828125,
          263.0602318548387,
          247.1171875,
          257.6328125,
          257.6328125,
          173.5078125,
          140.2083333333333,
          141.9609375,
          162.9921875,
          294.4375,
          307.65714285714284,
          146.36613175675677,
          293.4427787162162,
          175.0542279411764,
          184.7966452205883,
          203.01940524193554,
          276.03515625,
          210.3125,
          108.8676470588236,
          241.859375,
          136.703125,
          233.3154296875,
          162.9921875,
          136.703125,
          203.47734374999993,
          209.96197916666668,
          141.9609375,
          247.1171875,
          189.28125,
          162.9921875,
          215.5703125,
          265.87005208333335,
          247.1171875,
          163.485107421875,
          144.58984375,
          184.0234375,
          214.13636363636363,
          265.51953125,
          158.5075827205883,
          181.0852481617647,
          180.2261284722222,
          206.41154233870964,
          277.6381478658537,
          158.70291940789468,
          178.9039884868422,
          151.36965460526312,
          206.4886363636364,
          205.6388888888889,
          236.6015625,
          197.34322916666665,
          231.34375,
          180.1995738636364,
          283.39609375,
          266.833984375,
          179.61824324324323,
          99.76362179487167,
          250.567626953125,
          226.33630952380955,
          154.81336805555563,
          176.13671875,
          211.1651182432434,
          201.5494791666667,
          237.7888104838711,
          272.65513392857144,
          140.38359374999993,
          238.737548828125,
          232.61837121212125,
          194.5390625,
          194.046142578125,
          141.9609375,
          263.0602318548387,
          119.74243951612907,
          123.67289402173913,
          175.08515625000007,
          241.859375,
          257.6328125,
          99.8984375,
          238.3541666666667,
          247.1171875,
          247.1171875,
          214.13636363636363,
          250.567626953125,
          272.65513392857144,
          257.6328125,
          36.8046875,
          247.1171875,
          189.28125,
          162.9921875,
          154.34223790322582,
          215.5703125,
          265.87005208333335,
          247.1171875,
          147.21875,
          141.9609375,
          141.9609375,
          124.76646959459458,
          144.58984375,
          162.9921875,
          294.4375,
          126.89801520270271,
          307.65714285714284,
          146.36613175675677,
          184.0234375,
          214.13636363636363,
          293.4427787162162,
          307.82102272727275,
          265.51953125,
          158.5075827205883,
          194.5390625,
          130.2000411184211,
          127.62144886363633,
          226.0859375,
          257.6328125,
          181.0852481617647,
          296.82741477272725,
          175.0542279411764,
          188.8549408783784,
          180.2261284722222,
          294.4375,
          206.41154233870964,
          184.7966452205883,
          130.01136363636368,
          124.27556818181819,
          277.6381478658537,
          178.765625,
          203.01940524193554,
          158.70291940789468,
          157.734375,
          178.9039884868422,
          124.38482142857136,
          276.03515625,
          130.6721047794117,
          151.36965460526312,
          138.5905448717949,
          210.3125,
          262.890625,
          206.4886363636364,
          205.6388888888889,
          108.8676470588236,
          241.859375,
          197.34322916666665,
          72.93094758064518,
          135.2426215277778,
          99.76362179487181,
          269.58238636363643,
          220.828125,
          180.1995738636364,
          80.32769097222219,
          283.39609375,
          136.703125,
          266.833984375,
          241.859375,
          224.6254340277778,
          233.3154296875,
          173.5078125,
          121.23897058823532,
          78.045654296875,
          276.03515625,
          236.6015625,
          147.5579637096774,
          179.61824324324323,
          99.76362179487167,
          150.02291666666665,
          250.567626953125,
          226.33630952380955,
          154.81336805555563,
          131.4453125,
          281.29296875,
          185.62999131944437,
          166.3380681818182,
          104.32606907894734,
          241.859375,
          172.45625000000007,
          183.859130859375,
          169.4184027777778,
          285.3823784722222,
          252.375,
          176.13671875,
          193.86063508064518,
          295.68277138157896,
          114.39294763513507,
          96.71188446969697,
          211.1651182432434,
          247.1171875,
          206.2815104166666,
          244.57308467741942,
          195.922697368421,
          162.9921875,
          201.5494791666667,
          162.9921875,
          240.7440814393939,
          147.21875,
          299.0380859375,
          125.85888671875,
          88.42684659090907,
          197.63189338235296,
          136.703125,
          157.734375,
          136.703125,
          283.0205357142857,
          264.46796875000007,
          80.7546073717949,
          266.833984375,
          133.5484374999999,
          109.90524193548389,
          300.09975961538464,
          273.06703629032256,
          78.34140624999988,
          265.43986742424244,
          305.4619455645161,
          205.73311491935482,
          164.34904233870972,
          140.38359374999993,
          284.7981770833333,
          241.55892857142862,
          179.46666666666664,
          232.97116815476184,
          63.36338141025637,
          250.4763454861111,
          233.3884548611111,
          298.1930803571429,
          238.737548828125,
          219.4260416666666,
          198.04427083333331,
          258.50911458333337,
          249.74609375,
          232.61837121212125,
          234.53599330357144,
          123.55859375,
          55.20703125,
          99.63554687499995,
          173.5078125,
          119.615234375,
          175.3856026785713,
          98.43793402777781,
          147.38835685483872,
          66.41447368421048,
          142.73414522058812,
          126.71328125000012,
          140.8655598958333,
          180.080078125,
          141.9609375,
          203.47734374999993,
          263.0602318548387,
          167.099853515625,
          115.14609375000003,
          98.09575892857136,
          276.32725694444446,
          165.62109375,
          162.24107142857144,
          170.87890625,
          66.99470766129036,
          152.14794921875,
          144.58984375,
          102.21806066176468,
          191.35250946969688,
          221.87968750000002,
          119.74243951612907,
          57.57304687499994,
          170.12779017857144,
          73.609375,
          114.62031250000005,
          114.75747282608701,
          117.24921875000005,
          225.75732421875,
          85.14264112903223,
          103.51318359375,
          56.78437500000006,
          68.3515625,
          273.74546370967744,
          205.95602678571433,
          202.42578125,
          101.25529233870971,
          50.27783203125,
          96.1128125,
          211.54963235294125,
          173.35317095588235,
          209.96197916666668,
          99.54791666666668,
          199.39242788461536,
          157.734375,
          178.3761574074074,
          272.70520833333336,
          60.17274305555562,
          87.47088068181813,
          135.68548387096777,
          244.19618055555563,
          180.44812499999998,
          215.5703125,
          208.9104166666666,
          257.6328125,
          228.71484375,
          136.703125,
          132.9475446428571,
          214.255859375,
          49.57366071428565,
          147.21875,
          188.80326704545453,
          111.13103693181813,
          52.578125,
          36.8046875,
          52.578125,
          119.87812499999998,
          75.36197916666657,
          173.5078125,
          40.309895833333336,
          63.09375,
          82.810546875,
          100.79977678571431,
          236.6015625,
          231.34375,
          263.7432432432434,
          237.7888104838711,
          258.947265625,
          272.65513392857144,
          126.1875,
          178.765625,
          194.046142578125,
          276.6746199324324,
          123.67289402173913,
          195.66573660714286,
          173.78453947368422,
          270.6227022058823,
          109.53776041666664,
          161.23958333333343,
          258.2900390625,
          33.973557692307644,
          210.3125,
          36.8046875,
          187.77901785714283,
          224.3333333333333,
          94.640625,
          77.11458333333329,
          102.52734375,
          170.87890625,
          238.3541666666667,
          68.3515625,
          140.2083333333333,
          73.609375,
          252.375,
          233.09635416666663,
          152.4765625,
          78.8671875,
          31.546875,
          157.734375,
          141.9609375,
          189.28125,
          289.1796875
         ],
         "z": [
          -282.5,
          -215,
          -282.5,
          -282.5,
          -215,
          -215,
          -350,
          -350,
          -215,
          -215,
          -282.5,
          -215,
          -215,
          -215,
          -215,
          -147.49999999999997,
          -147.49999999999997,
          -282.5,
          -147.49999999999997,
          -282.5,
          -282.5,
          -147.49999999999997,
          -147.49999999999997,
          -80,
          -215,
          -282.5,
          -80,
          -215,
          -80,
          -80,
          -80,
          -215,
          -80,
          -80,
          -147.49999999999997,
          -80,
          -80,
          -12.5,
          -12.5,
          -12.5,
          -147.49999999999997,
          -215,
          -282.5,
          -215,
          -282.5,
          -215,
          -282.5,
          -215,
          -215,
          -282.5,
          -147.49999999999997,
          -282.5,
          -215,
          -80,
          -282.5,
          -215,
          -147.49999999999997,
          -215,
          -147.49999999999997,
          -350,
          -350,
          -147.49999999999997,
          -215,
          -215,
          -215,
          -215,
          -80,
          -282.5,
          -282.5,
          -147.49999999999997,
          -350,
          -215,
          -215,
          -80,
          -80,
          -350,
          -80,
          -350,
          -215,
          -350,
          -147.49999999999997,
          -147.49999999999997,
          -282.5,
          -350,
          -215,
          -147.49999999999997,
          -215,
          -215,
          -12.5,
          -282.5,
          -147.49999999999997,
          -215,
          -80,
          -282.5,
          -215,
          -282.5,
          -215,
          -215,
          -147.49999999999997,
          -80,
          -282.5,
          -215,
          -282.5,
          -282.5,
          -215,
          -282.5,
          -215,
          -215,
          -147.49999999999997,
          -80,
          -215,
          -282.5,
          -80,
          -215,
          -282.5,
          -282.5,
          -80,
          -147.49999999999997,
          -282.5,
          -215,
          -282.5,
          -215,
          -80,
          -147.49999999999997,
          -80,
          -215,
          -147.49999999999997,
          -147.49999999999997,
          -282.5,
          -282.5,
          -80,
          -282.5,
          -215,
          -215,
          -147.49999999999997,
          -80,
          -215,
          -282.5,
          -215,
          -80,
          -80,
          -147.49999999999997,
          -147.49999999999997,
          -350,
          -80,
          -215,
          -147.49999999999997,
          -350,
          -80,
          -80,
          -147.49999999999997,
          -147.49999999999997,
          -215,
          -80,
          -147.49999999999997,
          -215,
          -80,
          -147.49999999999997,
          -80,
          -147.49999999999997,
          -80,
          -80,
          -147.49999999999997,
          -282.5,
          -80,
          -282.5,
          -215,
          -147.49999999999997,
          -80,
          -80,
          -80,
          -80,
          -215,
          -215,
          -80,
          -147.49999999999997,
          -350,
          -80,
          -215,
          -215,
          -80,
          -147.49999999999997,
          -215,
          -147.49999999999997,
          -282.5,
          -147.49999999999997,
          -147.49999999999997,
          -147.49999999999997,
          -80,
          -147.49999999999997,
          -147.49999999999997,
          -215,
          -80,
          -80,
          -282.5,
          -147.49999999999997,
          -282.5,
          -350,
          -147.49999999999997,
          -80,
          -80,
          -215,
          -12.5,
          -80,
          -80,
          -147.49999999999997,
          -12.5,
          -147.49999999999997,
          -215,
          -147.49999999999997,
          -147.49999999999997,
          -147.49999999999997,
          -80,
          -12.5,
          -282.5,
          -147.49999999999997,
          -80,
          -215,
          -12.5,
          -80,
          -282.5,
          -282.5,
          -350,
          -215,
          -215,
          -80,
          -215,
          -350,
          -282.5,
          -80,
          -12.5,
          -147.49999999999997,
          -80,
          -80,
          -147.49999999999997,
          -147.49999999999997,
          -147.49999999999997,
          -80,
          -282.5,
          -215,
          -147.49999999999997,
          -147.49999999999997,
          -80,
          -12.5,
          -80,
          -147.49999999999997,
          -80,
          -80,
          -350,
          -12.5,
          -147.49999999999997,
          -147.49999999999997,
          -12.5,
          -350,
          -147.49999999999997,
          -12.5,
          -215,
          -12.5,
          -147.49999999999997,
          -215,
          -80,
          -80,
          -282.5,
          -12.5,
          -147.49999999999997,
          -80,
          -80,
          -12.5,
          -147.49999999999997,
          -12.5,
          -12.5,
          -215,
          -215,
          -147.49999999999997,
          -147.49999999999997,
          -80,
          -12.5,
          -12.5,
          -147.49999999999997,
          -12.5,
          -12.5,
          -12.5,
          -147.49999999999997,
          -80,
          -80,
          -12.5,
          -147.49999999999997,
          -215,
          -80,
          -80,
          -12.5,
          -80,
          -147.49999999999997,
          -80,
          -215,
          -12.5,
          -147.49999999999997,
          -80,
          -147.49999999999997,
          -147.49999999999997,
          -12.5,
          -350,
          -12.5,
          -147.49999999999997,
          -147.49999999999997,
          -147.49999999999997,
          -282.5,
          -282.5,
          -147.49999999999997,
          -282.5,
          -147.49999999999997,
          -215,
          -282.5,
          -147.49999999999997,
          -80,
          -147.49999999999997,
          -147.49999999999997,
          -215,
          -12.5,
          -282.5,
          -282.5,
          -147.49999999999997,
          -215,
          -215,
          -215,
          -215,
          -350,
          -350,
          -80,
          -215,
          -147.49999999999997,
          -80,
          -350,
          -350,
          -215,
          -282.5,
          -215,
          -147.49999999999997,
          -215,
          -350,
          -80,
          -80,
          -12.5,
          -80,
          -215,
          -147.49999999999997,
          -215,
          -147.49999999999997,
          -147.49999999999997,
          -215,
          -80,
          -215,
          -147.49999999999997,
          -215,
          -12.5,
          -215,
          -147.49999999999997,
          -147.49999999999997,
          -147.49999999999997,
          -350,
          -147.49999999999997,
          -147.49999999999997,
          -80
         ]
        },
        {
         "marker": {
          "color": [
           "#1F77B4",
           "#1F77B4",
           "#1F77B4",
           "#1F77B4",
           "#1F77B4",
           "#1F77B4",
           "#1F77B4",
           "#1F77B4",
           "#1F77B4",
           "#1F77B4",
           "#1F77B4",
           "#1F77B4",
           "#1F77B4",
           "#1F77B4",
           "#1F77B4",
           "#1F77B4",
           "#1F77B4",
           "#1F77B4",
           "#1F77B4",
           "#1F77B4",
           "#1F77B4",
           "#1F77B4",
           "#1F77B4",
           "#1F77B4",
           "#1F77B4",
           "#1F77B4",
           "#1F77B4",
           "#1F77B4",
           "#1F77B4",
           "#1F77B4",
           "#1F77B4",
           "#1F77B4",
           "#1F77B4",
           "#1F77B4",
           "#1F77B4",
           "#1F77B4",
           "#1F77B4",
           "#1F77B4",
           "#1F77B4",
           "#1F77B4",
           "#1F77B4",
           "#1F77B4",
           "#1F77B4",
           "#1F77B4",
           "#1F77B4",
           "#1F77B4",
           "#1F77B4",
           "#1F77B4",
           "#1F77B4",
           "#1F77B4",
           "#1F77B4",
           "#1F77B4",
           "#1F77B4",
           "#1F77B4",
           "#1F77B4",
           "#1F77B4",
           "#1F77B4",
           "#1F77B4",
           "#1F77B4",
           "#1F77B4",
           "#1F77B4",
           "#1F77B4",
           "#1F77B4",
           "#1F77B4",
           "#1F77B4",
           "#1F77B4",
           "#1F77B4",
           "#1F77B4",
           "#1F77B4",
           "#1F77B4",
           "#1F77B4",
           "#1F77B4",
           "#1F77B4",
           "#1F77B4",
           "#1F77B4",
           "#1F77B4",
           "#1F77B4",
           "#1F77B4",
           "#1F77B4",
           "#1F77B4",
           "#1F77B4",
           "#1F77B4",
           "#1F77B4",
           "#1F77B4",
           "#1F77B4",
           "#1F77B4",
           "#1F77B4",
           "#1F77B4",
           "#1F77B4",
           "#1F77B4",
           "#1F77B4",
           "#1F77B4",
           "#1F77B4",
           "#1F77B4",
           "#1F77B4",
           "#1F77B4",
           "#1F77B4",
           "#1F77B4",
           "#1F77B4",
           "#1F77B4",
           "#1F77B4",
           "#1F77B4",
           "#1F77B4",
           "#1F77B4",
           "#1F77B4",
           "#1F77B4",
           "#1F77B4",
           "#1F77B4",
           "#1F77B4",
           "#1F77B4",
           "#1F77B4",
           "#1F77B4",
           "#1F77B4",
           "#1F77B4",
           "#1F77B4",
           "#1F77B4",
           "#1F77B4",
           "#1F77B4",
           "#1F77B4",
           "#1F77B4",
           "#1F77B4",
           "#1F77B4",
           "#1F77B4",
           "#1F77B4",
           "#1F77B4",
           "#1F77B4",
           "#1F77B4",
           "#1F77B4",
           "#1F77B4",
           "#1F77B4",
           "#1F77B4",
           "#1F77B4",
           "#1F77B4",
           "#1F77B4",
           "#1F77B4",
           "#1F77B4",
           "#1F77B4",
           "#1F77B4",
           "#1F77B4",
           "#1F77B4",
           "#1F77B4",
           "#1F77B4",
           "#1F77B4",
           "#1F77B4",
           "#1F77B4",
           "#1F77B4",
           "#1F77B4",
           "#1F77B4",
           "#1F77B4",
           "#1F77B4",
           "#1F77B4",
           "#1F77B4",
           "#1F77B4",
           "#1F77B4",
           "#1F77B4",
           "#1F77B4",
           "#1F77B4",
           "#1F77B4",
           "#1F77B4",
           "#1F77B4",
           "#1F77B4",
           "#1F77B4",
           "#1F77B4",
           "#1F77B4",
           "#1F77B4",
           "#1F77B4",
           "#1F77B4",
           "#1F77B4",
           "#1F77B4",
           "#1F77B4",
           "#1F77B4",
           "#1F77B4",
           "#1F77B4",
           "#1F77B4",
           "#1F77B4",
           "#1F77B4",
           "#1F77B4",
           "#1F77B4",
           "#1F77B4",
           "#1F77B4",
           "#1F77B4",
           "#1F77B4",
           "#1F77B4",
           "#1F77B4",
           "#1F77B4",
           "#1F77B4",
           "#1F77B4",
           "#1F77B4",
           "#1F77B4",
           "#1F77B4",
           "#1F77B4",
           "#1F77B4",
           "#1F77B4",
           "#1F77B4",
           "#1F77B4",
           "#1F77B4",
           "#1F77B4",
           "#1F77B4",
           "#1F77B4",
           "#1F77B4",
           "#1F77B4",
           "#1F77B4",
           "#1F77B4",
           "#1F77B4",
           "#1F77B4",
           "#1F77B4",
           "#1F77B4",
           "#1F77B4",
           "#1F77B4",
           "#1F77B4",
           "#1F77B4",
           "#1F77B4",
           "#1F77B4",
           "#1F77B4",
           "#1F77B4",
           "#1F77B4",
           "#1F77B4",
           "#1F77B4",
           "#1F77B4",
           "#1F77B4",
           "#1F77B4",
           "#1F77B4",
           "#1F77B4",
           "#1F77B4",
           "#1F77B4",
           "#1F77B4",
           "#1F77B4",
           "#1F77B4",
           "#1F77B4",
           "#1F77B4",
           "#1F77B4",
           "#1F77B4",
           "#1F77B4",
           "#1F77B4",
           "#1F77B4",
           "#1F77B4",
           "#1F77B4",
           "#1F77B4",
           "#1F77B4",
           "#1F77B4",
           "#1F77B4",
           "#1F77B4",
           "#1F77B4",
           "#1F77B4",
           "#1F77B4",
           "#1F77B4",
           "#1F77B4",
           "#1F77B4",
           "#1F77B4",
           "#1F77B4",
           "#1F77B4",
           "#1F77B4",
           "#1F77B4",
           "#1F77B4",
           "#1F77B4",
           "#1F77B4",
           "#1F77B4",
           "#1F77B4",
           "#1F77B4",
           "#1F77B4",
           "#1F77B4",
           "#1F77B4",
           "#1F77B4"
          ],
          "opacity": 1,
          "size": [
           41,
           41,
           41,
           31,
           39,
           30,
           41,
           41,
           41,
           41,
           37,
           32,
           41,
           41,
           37,
           35,
           37,
           41,
           33,
           37,
           33,
           32,
           34,
           41,
           38,
           22,
           41,
           41,
           34,
           33,
           34,
           37,
           36,
           41,
           31,
           34,
           33,
           33,
           41,
           1,
           31,
           38,
           41,
           38,
           35,
           32,
           34,
           38,
           39,
           39,
           41,
           33,
           36,
           34,
           1,
           30,
           31,
           36,
           39,
           33,
           41,
           33,
           36,
           40,
           1,
           12,
           41,
           36,
           32,
           1,
           34,
           32,
           32,
           23,
           31,
           37,
           39,
           30,
           32,
           21,
           36,
           39,
           32,
           36,
           33,
           38,
           41,
           30,
           32,
           36,
           36,
           32,
           32,
           31,
           38,
           37,
           33,
           37,
           1,
           30,
           31,
           38,
           41,
           30,
           1,
           33,
           41,
           40,
           32,
           33,
           34,
           1,
           1,
           41,
           35,
           30,
           39,
           32,
           40,
           31,
           26,
           31,
           30,
           33,
           31,
           31,
           31,
           30,
           30,
           35,
           30,
           42,
           39,
           36,
           36,
           21,
           32,
           30,
           36,
           30,
           12,
           33,
           28,
           32,
           16,
           20,
           1,
           36,
           14,
           36,
           31,
           19,
           34,
           20,
           24,
           36,
           37,
           30,
           31,
           32,
           30,
           35,
           36,
           32,
           21,
           4,
           31,
           32,
           8,
           34,
           33,
           35,
           31,
           20,
           14,
           1,
           5,
           23,
           10,
           32,
           31,
           32,
           5,
           1,
           31,
           35,
           32,
           31,
           16,
           25,
           34,
           34,
           30,
           15,
           26,
           1,
           27,
           15,
           9,
           11,
           31,
           27,
           25,
           8,
           30,
           8,
           2,
           1,
           7,
           16,
           7,
           1,
           11,
           22,
           2,
           1,
           1,
           5,
           9,
           1,
           3,
           1,
           4,
           35,
           1,
           1,
           37,
           31,
           32,
           7,
           1,
           1,
           32,
           37,
           23,
           14,
           19,
           17,
           6,
           3,
           8,
           13,
           20,
           1,
           7,
           3,
           1,
           3,
           2,
           2,
           3,
           2,
           3,
           2,
           1,
           3,
           1,
           2,
           1,
           1,
           1,
           1,
           1
          ]
         },
         "mode": "markers",
         "name": "Filtered Data (Moving Stripes)",
         "type": "scatter3d",
         "x": [
          352.2734375,
          368.046875,
          415.3671875,
          391.1134072580645,
          352.2734375,
          330.71640625,
          336.5,
          436.3984375,
          357.53125,
          294.4375,
          410.9619932432432,
          439.02734375,
          162.9921875,
          168.25,
          456.15076013513516,
          168.70066964285715,
          135.28209459459458,
          341.7578125,
          390.5120738636363,
          130.59269425675677,
          206.96661931818184,
          312.83984375,
          271.85983455882354,
          120.9296875,
          173.92290296052633,
          378.32350852272725,
          105.15625,
          136.703125,
          453.87293198529414,
          135.58783143939394,
          125.41429227941175,
          389.36233108108104,
          424.4223090277778,
          220.828125,
          368.2164818548387,
          190.8276654411765,
          458.8636363636363,
          416.32315340909093,
          289.3079268292683,
          152.4765625,
          157.734375,
          325.8460115131579,
          131.4453125,
          411.49300986842104,
          268.44888392857143,
          107.78515625,
          385.36672794117646,
          419.37972861842104,
          327.06290064102564,
          126.1875,
          189.28125,
          324.5504261363636,
          405.14366319444446,
          190.05445772058823,
          126.1875,
          334.57213541666664,
          299.8649193548387,
          153.93706597222223,
          151.53285256410257,
          108.98011363636363,
          205.0546875,
          261.4566761363636,
          178.61957465277777,
          310.2109375,
          152.4765625,
          373.3046875,
          99.8984375,
          148.67925347222223,
          177.451171875,
          147.21875,
          126.03285845588235,
          173.83642578125,
          194.5390625,
          309.296535326087,
          207.08996975806454,
          298.2742820945946,
          442.59995993589746,
          101.47578125,
          375.2763671875,
          390.32998511904765,
          238.6462673611111,
          115.671875,
          249.74609375,
          158.90277777777777,
          481.64749053030306,
          140.30057565789474,
          241.859375,
          377.5109375,
          98.25537109375,
          99.02213541666666,
          164.45269097222223,
          134.7314453125,
          312.83984375,
          224.38986895161293,
          257.3560855263158,
          347.72614020270265,
          446.2767518939394,
          399.1674408783784,
          120.9296875,
          253.60182291666666,
          150.95010080645162,
          115.81023848684211,
          157.734375,
          295.13854166666664,
          189.28125,
          82.8503787878788,
          252.375,
          204.266015625,
          486.01904296875,
          356.4159564393939,
          84.89820772058825,
          336.5,
          184.0234375,
          199.796875,
          110.86473214285714,
          220.65286458333335,
          206.13321314102564,
          80.674560546875,
          169.95878906250002,
          304.10509072580646,
          230.13040865384613,
          147.72757056451613,
          453.39869791666666,
          162.6735321969697,
          269.5052923387097,
          333.1078629032258,
          474.5599798387097,
          444.28515625,
          287.4270833333333,
          119.12700892857144,
          192.08541666666665,
          273.28106398809524,
          235.92748397435895,
          238.6462673611111,
          198.33637152777777,
          141.71056547619048,
          347.015625,
          96.74374999999999,
          171.90125868055554,
          254.82864583333335,
          168.25,
          312.60085227272725,
          255.19168526785714,
          233.97265625,
          185.9951171875,
          202.9515625,
          226.0859375,
          234.26475694444446,
          456.30301339285717,
          168.25,
          411.80544354838713,
          214.46340460526315,
          134.3835018382353,
          417.733203125,
          311.9635416666667,
          131.4453125,
          142.81355574324323,
          168.42526041666665,
          304.10509072580646,
          127.501953125,
          338.9536458333333,
          266.34575892857146,
          178.47352430555554,
          226.0859375,
          176.76264880952382,
          215.5703125,
          269.16607862903226,
          287.53662109375,
          89.3828125,
          218.04457720588235,
          247.59517045454547,
          121.53058035714285,
          161.12651209677418,
          254.478125,
          70.60491071428572,
          220.828125,
          193.48749999999998,
          142.64673913043478,
          398.01640625,
          190.26708984375,
          195.38709677419357,
          255.496826171875,
          178.765625,
          215.5703125,
          174.86466733870967,
          218.57477678571428,
          281.29296875,
          174.69506048387098,
          212.94140625,
          124.7153125,
          132.83708639705884,
          351.50022977941177,
          180.16770833333334,
          232.74583333333334,
          156.31881009615384,
          194.5390625,
          268.3431712962963,
          143.0125,
          286.25868055555554,
          121.40767045454545,
          298.67767137096774,
          213.42824074074076,
          108.52125000000001,
          249.74609375,
          222.40546874999998,
          334.5283203125,
          168.25,
          483.71875,
          187.02790178571428,
          144.26123046875,
          235.85044642857142,
          357.53125,
          502.8380681818182,
          98.70348011363637,
          291.80859375,
          226.0859375,
          205.0546875,
          222.93125,
          237.76996527777777,
          515.265625,
          427.63541666666663,
          189.28125,
          208.998046875,
          438.6517857142857,
          352.2734375,
          347.015625,
          184.16554054054052,
          373.1350806451613,
          204.561767578125,
          354.5267857142857,
          168.25,
          231.34375,
          441.65625,
          153.61338682432432,
          122.30129076086956,
          107.03404017857143,
          97.96134868421052,
          274.64338235294116,
          394.3359375,
          396.08854166666663,
          111.728515625,
          233.3659855769231,
          268.411328125,
          294.4375,
          194.5390625,
          382.06770833333337,
          205.0546875,
          271.6536458333333,
          336.5,
          499.4921875,
          322.4791666666667,
          228.71484375,
          290.9322916666667,
          218.19921875,
          147.21875,
          164.74479166666666,
          194.5390625,
          233.97265625,
          315.46875,
          462.6875,
          199.796875,
          210.3125,
          168.25
         ],
         "y": [
          247.1171875,
          189.28125,
          162.9921875,
          154.34223790322582,
          215.5703125,
          265.87005208333335,
          247.1171875,
          147.21875,
          141.9609375,
          141.9609375,
          124.76646959459458,
          144.58984375,
          162.9921875,
          294.4375,
          126.89801520270271,
          307.65714285714284,
          146.36613175675677,
          184.0234375,
          214.13636363636363,
          293.4427787162162,
          307.82102272727275,
          265.51953125,
          158.5075827205883,
          194.5390625,
          130.2000411184211,
          127.62144886363633,
          226.0859375,
          257.6328125,
          181.0852481617647,
          296.82741477272725,
          175.0542279411764,
          188.8549408783784,
          180.2261284722222,
          294.4375,
          206.41154233870964,
          184.7966452205883,
          130.01136363636368,
          124.27556818181819,
          277.6381478658537,
          178.765625,
          203.01940524193554,
          158.70291940789468,
          157.734375,
          178.9039884868422,
          124.38482142857136,
          276.03515625,
          130.6721047794117,
          151.36965460526312,
          138.5905448717949,
          210.3125,
          262.890625,
          206.4886363636364,
          205.6388888888889,
          108.8676470588236,
          241.859375,
          197.34322916666665,
          72.93094758064518,
          135.2426215277778,
          99.76362179487181,
          269.58238636363643,
          220.828125,
          180.1995738636364,
          80.32769097222219,
          283.39609375,
          136.703125,
          266.833984375,
          241.859375,
          224.6254340277778,
          233.3154296875,
          173.5078125,
          121.23897058823532,
          78.045654296875,
          276.03515625,
          236.6015625,
          147.5579637096774,
          179.61824324324323,
          99.76362179487167,
          150.02291666666665,
          250.567626953125,
          226.33630952380955,
          154.81336805555563,
          131.4453125,
          281.29296875,
          185.62999131944437,
          166.3380681818182,
          104.32606907894734,
          241.859375,
          172.45625000000007,
          183.859130859375,
          169.4184027777778,
          285.3823784722222,
          252.375,
          176.13671875,
          193.86063508064518,
          295.68277138157896,
          114.39294763513507,
          96.71188446969697,
          211.1651182432434,
          247.1171875,
          206.2815104166666,
          244.57308467741942,
          195.922697368421,
          162.9921875,
          201.5494791666667,
          162.9921875,
          240.7440814393939,
          147.21875,
          299.0380859375,
          125.85888671875,
          88.42684659090907,
          197.63189338235296,
          136.703125,
          157.734375,
          136.703125,
          283.0205357142857,
          264.46796875000007,
          80.7546073717949,
          266.833984375,
          133.5484374999999,
          109.90524193548389,
          300.09975961538464,
          273.06703629032256,
          78.34140624999988,
          265.43986742424244,
          305.4619455645161,
          205.73311491935482,
          164.34904233870972,
          140.38359374999993,
          284.7981770833333,
          241.55892857142862,
          179.46666666666664,
          232.97116815476184,
          63.36338141025637,
          250.4763454861111,
          233.3884548611111,
          298.1930803571429,
          238.737548828125,
          219.4260416666666,
          198.04427083333331,
          258.50911458333337,
          249.74609375,
          232.61837121212125,
          234.53599330357144,
          123.55859375,
          55.20703125,
          99.63554687499995,
          173.5078125,
          119.615234375,
          175.3856026785713,
          98.43793402777781,
          147.38835685483872,
          66.41447368421048,
          142.73414522058812,
          126.71328125000012,
          140.8655598958333,
          180.080078125,
          141.9609375,
          203.47734374999993,
          263.0602318548387,
          167.099853515625,
          115.14609375000003,
          98.09575892857136,
          276.32725694444446,
          165.62109375,
          162.24107142857144,
          170.87890625,
          66.99470766129036,
          152.14794921875,
          144.58984375,
          102.21806066176468,
          191.35250946969688,
          221.87968750000002,
          119.74243951612907,
          57.57304687499994,
          170.12779017857144,
          73.609375,
          114.62031250000005,
          114.75747282608701,
          117.24921875000005,
          225.75732421875,
          85.14264112903223,
          103.51318359375,
          56.78437500000006,
          68.3515625,
          273.74546370967744,
          205.95602678571433,
          202.42578125,
          101.25529233870971,
          50.27783203125,
          96.1128125,
          211.54963235294125,
          173.35317095588235,
          209.96197916666668,
          99.54791666666668,
          199.39242788461536,
          157.734375,
          178.3761574074074,
          272.70520833333336,
          60.17274305555562,
          87.47088068181813,
          135.68548387096777,
          244.19618055555563,
          180.44812499999998,
          215.5703125,
          208.9104166666666,
          257.6328125,
          228.71484375,
          136.703125,
          132.9475446428571,
          214.255859375,
          49.57366071428565,
          147.21875,
          188.80326704545453,
          111.13103693181813,
          52.578125,
          36.8046875,
          52.578125,
          119.87812499999998,
          75.36197916666657,
          173.5078125,
          40.309895833333336,
          63.09375,
          82.810546875,
          100.79977678571431,
          236.6015625,
          231.34375,
          263.7432432432434,
          237.7888104838711,
          258.947265625,
          272.65513392857144,
          126.1875,
          178.765625,
          194.046142578125,
          276.6746199324324,
          123.67289402173913,
          195.66573660714286,
          173.78453947368422,
          270.6227022058823,
          109.53776041666664,
          161.23958333333343,
          258.2900390625,
          33.973557692307644,
          210.3125,
          36.8046875,
          187.77901785714283,
          224.3333333333333,
          94.640625,
          77.11458333333329,
          102.52734375,
          170.87890625,
          238.3541666666667,
          68.3515625,
          140.2083333333333,
          73.609375,
          252.375,
          233.09635416666663,
          152.4765625,
          78.8671875,
          31.546875,
          157.734375,
          141.9609375,
          189.28125,
          289.1796875
         ],
         "z": [
          -282.5,
          -215,
          -282.5,
          -282.5,
          -215,
          -282.5,
          -215,
          -215,
          -147.49999999999997,
          -80,
          -215,
          -282.5,
          -80,
          -215,
          -282.5,
          -282.5,
          -80,
          -147.49999999999997,
          -282.5,
          -215,
          -282.5,
          -215,
          -80,
          -147.49999999999997,
          -80,
          -215,
          -147.49999999999997,
          -147.49999999999997,
          -282.5,
          -282.5,
          -80,
          -282.5,
          -215,
          -215,
          -147.49999999999997,
          -80,
          -215,
          -282.5,
          -215,
          -80,
          -80,
          -147.49999999999997,
          -147.49999999999997,
          -350,
          -80,
          -215,
          -147.49999999999997,
          -350,
          -80,
          -80,
          -147.49999999999997,
          -147.49999999999997,
          -215,
          -80,
          -147.49999999999997,
          -215,
          -80,
          -147.49999999999997,
          -80,
          -147.49999999999997,
          -80,
          -80,
          -147.49999999999997,
          -282.5,
          -80,
          -282.5,
          -215,
          -147.49999999999997,
          -80,
          -80,
          -80,
          -80,
          -215,
          -215,
          -80,
          -147.49999999999997,
          -350,
          -80,
          -215,
          -215,
          -80,
          -147.49999999999997,
          -215,
          -147.49999999999997,
          -282.5,
          -147.49999999999997,
          -147.49999999999997,
          -147.49999999999997,
          -80,
          -147.49999999999997,
          -147.49999999999997,
          -215,
          -80,
          -80,
          -282.5,
          -147.49999999999997,
          -282.5,
          -350,
          -147.49999999999997,
          -80,
          -80,
          -215,
          -12.5,
          -80,
          -80,
          -147.49999999999997,
          -12.5,
          -147.49999999999997,
          -215,
          -147.49999999999997,
          -147.49999999999997,
          -147.49999999999997,
          -80,
          -12.5,
          -282.5,
          -147.49999999999997,
          -80,
          -215,
          -12.5,
          -80,
          -282.5,
          -282.5,
          -350,
          -215,
          -215,
          -80,
          -215,
          -350,
          -282.5,
          -80,
          -12.5,
          -147.49999999999997,
          -80,
          -80,
          -147.49999999999997,
          -147.49999999999997,
          -147.49999999999997,
          -80,
          -282.5,
          -215,
          -147.49999999999997,
          -147.49999999999997,
          -80,
          -12.5,
          -80,
          -147.49999999999997,
          -80,
          -80,
          -350,
          -12.5,
          -147.49999999999997,
          -147.49999999999997,
          -12.5,
          -350,
          -147.49999999999997,
          -12.5,
          -215,
          -12.5,
          -147.49999999999997,
          -215,
          -80,
          -80,
          -282.5,
          -12.5,
          -147.49999999999997,
          -80,
          -80,
          -12.5,
          -147.49999999999997,
          -12.5,
          -12.5,
          -215,
          -215,
          -147.49999999999997,
          -147.49999999999997,
          -80,
          -12.5,
          -12.5,
          -147.49999999999997,
          -12.5,
          -12.5,
          -12.5,
          -147.49999999999997,
          -80,
          -80,
          -12.5,
          -147.49999999999997,
          -215,
          -80,
          -80,
          -12.5,
          -80,
          -147.49999999999997,
          -80,
          -215,
          -12.5,
          -147.49999999999997,
          -80,
          -147.49999999999997,
          -147.49999999999997,
          -12.5,
          -350,
          -12.5,
          -147.49999999999997,
          -147.49999999999997,
          -147.49999999999997,
          -282.5,
          -282.5,
          -147.49999999999997,
          -282.5,
          -147.49999999999997,
          -215,
          -282.5,
          -147.49999999999997,
          -80,
          -147.49999999999997,
          -147.49999999999997,
          -215,
          -12.5,
          -282.5,
          -282.5,
          -147.49999999999997,
          -215,
          -215,
          -215,
          -215,
          -350,
          -350,
          -80,
          -215,
          -147.49999999999997,
          -80,
          -350,
          -350,
          -215,
          -282.5,
          -215,
          -147.49999999999997,
          -215,
          -350,
          -80,
          -80,
          -12.5,
          -80,
          -215,
          -147.49999999999997,
          -215,
          -147.49999999999997,
          -147.49999999999997,
          -215,
          -80,
          -215,
          -147.49999999999997,
          -215,
          -12.5,
          -215,
          -147.49999999999997,
          -147.49999999999997,
          -147.49999999999997,
          -350,
          -147.49999999999997,
          -147.49999999999997,
          -80
         ]
        }
       ],
       "layout": {
        "height": 600,
        "margin": {
         "b": 20,
         "l": 20,
         "r": 20,
         "t": 20
        },
        "template": {
         "data": {
          "bar": [
           {
            "error_x": {
             "color": "#2a3f5f"
            },
            "error_y": {
             "color": "#2a3f5f"
            },
            "marker": {
             "line": {
              "color": "#E5ECF6",
              "width": 0.5
             },
             "pattern": {
              "fillmode": "overlay",
              "size": 10,
              "solidity": 0.2
             }
            },
            "type": "bar"
           }
          ],
          "barpolar": [
           {
            "marker": {
             "line": {
              "color": "#E5ECF6",
              "width": 0.5
             },
             "pattern": {
              "fillmode": "overlay",
              "size": 10,
              "solidity": 0.2
             }
            },
            "type": "barpolar"
           }
          ],
          "carpet": [
           {
            "aaxis": {
             "endlinecolor": "#2a3f5f",
             "gridcolor": "white",
             "linecolor": "white",
             "minorgridcolor": "white",
             "startlinecolor": "#2a3f5f"
            },
            "baxis": {
             "endlinecolor": "#2a3f5f",
             "gridcolor": "white",
             "linecolor": "white",
             "minorgridcolor": "white",
             "startlinecolor": "#2a3f5f"
            },
            "type": "carpet"
           }
          ],
          "choropleth": [
           {
            "colorbar": {
             "outlinewidth": 0,
             "ticks": ""
            },
            "type": "choropleth"
           }
          ],
          "contour": [
           {
            "colorbar": {
             "outlinewidth": 0,
             "ticks": ""
            },
            "colorscale": [
             [
              0,
              "#0d0887"
             ],
             [
              0.1111111111111111,
              "#46039f"
             ],
             [
              0.2222222222222222,
              "#7201a8"
             ],
             [
              0.3333333333333333,
              "#9c179e"
             ],
             [
              0.4444444444444444,
              "#bd3786"
             ],
             [
              0.5555555555555556,
              "#d8576b"
             ],
             [
              0.6666666666666666,
              "#ed7953"
             ],
             [
              0.7777777777777778,
              "#fb9f3a"
             ],
             [
              0.8888888888888888,
              "#fdca26"
             ],
             [
              1,
              "#f0f921"
             ]
            ],
            "type": "contour"
           }
          ],
          "contourcarpet": [
           {
            "colorbar": {
             "outlinewidth": 0,
             "ticks": ""
            },
            "type": "contourcarpet"
           }
          ],
          "heatmap": [
           {
            "colorbar": {
             "outlinewidth": 0,
             "ticks": ""
            },
            "colorscale": [
             [
              0,
              "#0d0887"
             ],
             [
              0.1111111111111111,
              "#46039f"
             ],
             [
              0.2222222222222222,
              "#7201a8"
             ],
             [
              0.3333333333333333,
              "#9c179e"
             ],
             [
              0.4444444444444444,
              "#bd3786"
             ],
             [
              0.5555555555555556,
              "#d8576b"
             ],
             [
              0.6666666666666666,
              "#ed7953"
             ],
             [
              0.7777777777777778,
              "#fb9f3a"
             ],
             [
              0.8888888888888888,
              "#fdca26"
             ],
             [
              1,
              "#f0f921"
             ]
            ],
            "type": "heatmap"
           }
          ],
          "heatmapgl": [
           {
            "colorbar": {
             "outlinewidth": 0,
             "ticks": ""
            },
            "colorscale": [
             [
              0,
              "#0d0887"
             ],
             [
              0.1111111111111111,
              "#46039f"
             ],
             [
              0.2222222222222222,
              "#7201a8"
             ],
             [
              0.3333333333333333,
              "#9c179e"
             ],
             [
              0.4444444444444444,
              "#bd3786"
             ],
             [
              0.5555555555555556,
              "#d8576b"
             ],
             [
              0.6666666666666666,
              "#ed7953"
             ],
             [
              0.7777777777777778,
              "#fb9f3a"
             ],
             [
              0.8888888888888888,
              "#fdca26"
             ],
             [
              1,
              "#f0f921"
             ]
            ],
            "type": "heatmapgl"
           }
          ],
          "histogram": [
           {
            "marker": {
             "pattern": {
              "fillmode": "overlay",
              "size": 10,
              "solidity": 0.2
             }
            },
            "type": "histogram"
           }
          ],
          "histogram2d": [
           {
            "colorbar": {
             "outlinewidth": 0,
             "ticks": ""
            },
            "colorscale": [
             [
              0,
              "#0d0887"
             ],
             [
              0.1111111111111111,
              "#46039f"
             ],
             [
              0.2222222222222222,
              "#7201a8"
             ],
             [
              0.3333333333333333,
              "#9c179e"
             ],
             [
              0.4444444444444444,
              "#bd3786"
             ],
             [
              0.5555555555555556,
              "#d8576b"
             ],
             [
              0.6666666666666666,
              "#ed7953"
             ],
             [
              0.7777777777777778,
              "#fb9f3a"
             ],
             [
              0.8888888888888888,
              "#fdca26"
             ],
             [
              1,
              "#f0f921"
             ]
            ],
            "type": "histogram2d"
           }
          ],
          "histogram2dcontour": [
           {
            "colorbar": {
             "outlinewidth": 0,
             "ticks": ""
            },
            "colorscale": [
             [
              0,
              "#0d0887"
             ],
             [
              0.1111111111111111,
              "#46039f"
             ],
             [
              0.2222222222222222,
              "#7201a8"
             ],
             [
              0.3333333333333333,
              "#9c179e"
             ],
             [
              0.4444444444444444,
              "#bd3786"
             ],
             [
              0.5555555555555556,
              "#d8576b"
             ],
             [
              0.6666666666666666,
              "#ed7953"
             ],
             [
              0.7777777777777778,
              "#fb9f3a"
             ],
             [
              0.8888888888888888,
              "#fdca26"
             ],
             [
              1,
              "#f0f921"
             ]
            ],
            "type": "histogram2dcontour"
           }
          ],
          "mesh3d": [
           {
            "colorbar": {
             "outlinewidth": 0,
             "ticks": ""
            },
            "type": "mesh3d"
           }
          ],
          "parcoords": [
           {
            "line": {
             "colorbar": {
              "outlinewidth": 0,
              "ticks": ""
             }
            },
            "type": "parcoords"
           }
          ],
          "pie": [
           {
            "automargin": true,
            "type": "pie"
           }
          ],
          "scatter": [
           {
            "fillpattern": {
             "fillmode": "overlay",
             "size": 10,
             "solidity": 0.2
            },
            "type": "scatter"
           }
          ],
          "scatter3d": [
           {
            "line": {
             "colorbar": {
              "outlinewidth": 0,
              "ticks": ""
             }
            },
            "marker": {
             "colorbar": {
              "outlinewidth": 0,
              "ticks": ""
             }
            },
            "type": "scatter3d"
           }
          ],
          "scattercarpet": [
           {
            "marker": {
             "colorbar": {
              "outlinewidth": 0,
              "ticks": ""
             }
            },
            "type": "scattercarpet"
           }
          ],
          "scattergeo": [
           {
            "marker": {
             "colorbar": {
              "outlinewidth": 0,
              "ticks": ""
             }
            },
            "type": "scattergeo"
           }
          ],
          "scattergl": [
           {
            "marker": {
             "colorbar": {
              "outlinewidth": 0,
              "ticks": ""
             }
            },
            "type": "scattergl"
           }
          ],
          "scattermapbox": [
           {
            "marker": {
             "colorbar": {
              "outlinewidth": 0,
              "ticks": ""
             }
            },
            "type": "scattermapbox"
           }
          ],
          "scatterpolar": [
           {
            "marker": {
             "colorbar": {
              "outlinewidth": 0,
              "ticks": ""
             }
            },
            "type": "scatterpolar"
           }
          ],
          "scatterpolargl": [
           {
            "marker": {
             "colorbar": {
              "outlinewidth": 0,
              "ticks": ""
             }
            },
            "type": "scatterpolargl"
           }
          ],
          "scatterternary": [
           {
            "marker": {
             "colorbar": {
              "outlinewidth": 0,
              "ticks": ""
             }
            },
            "type": "scatterternary"
           }
          ],
          "surface": [
           {
            "colorbar": {
             "outlinewidth": 0,
             "ticks": ""
            },
            "colorscale": [
             [
              0,
              "#0d0887"
             ],
             [
              0.1111111111111111,
              "#46039f"
             ],
             [
              0.2222222222222222,
              "#7201a8"
             ],
             [
              0.3333333333333333,
              "#9c179e"
             ],
             [
              0.4444444444444444,
              "#bd3786"
             ],
             [
              0.5555555555555556,
              "#d8576b"
             ],
             [
              0.6666666666666666,
              "#ed7953"
             ],
             [
              0.7777777777777778,
              "#fb9f3a"
             ],
             [
              0.8888888888888888,
              "#fdca26"
             ],
             [
              1,
              "#f0f921"
             ]
            ],
            "type": "surface"
           }
          ],
          "table": [
           {
            "cells": {
             "fill": {
              "color": "#EBF0F8"
             },
             "line": {
              "color": "white"
             }
            },
            "header": {
             "fill": {
              "color": "#C8D4E3"
             },
             "line": {
              "color": "white"
             }
            },
            "type": "table"
           }
          ]
         },
         "layout": {
          "annotationdefaults": {
           "arrowcolor": "#2a3f5f",
           "arrowhead": 0,
           "arrowwidth": 1
          },
          "autotypenumbers": "strict",
          "coloraxis": {
           "colorbar": {
            "outlinewidth": 0,
            "ticks": ""
           }
          },
          "colorscale": {
           "diverging": [
            [
             0,
             "#8e0152"
            ],
            [
             0.1,
             "#c51b7d"
            ],
            [
             0.2,
             "#de77ae"
            ],
            [
             0.3,
             "#f1b6da"
            ],
            [
             0.4,
             "#fde0ef"
            ],
            [
             0.5,
             "#f7f7f7"
            ],
            [
             0.6,
             "#e6f5d0"
            ],
            [
             0.7,
             "#b8e186"
            ],
            [
             0.8,
             "#7fbc41"
            ],
            [
             0.9,
             "#4d9221"
            ],
            [
             1,
             "#276419"
            ]
           ],
           "sequential": [
            [
             0,
             "#0d0887"
            ],
            [
             0.1111111111111111,
             "#46039f"
            ],
            [
             0.2222222222222222,
             "#7201a8"
            ],
            [
             0.3333333333333333,
             "#9c179e"
            ],
            [
             0.4444444444444444,
             "#bd3786"
            ],
            [
             0.5555555555555556,
             "#d8576b"
            ],
            [
             0.6666666666666666,
             "#ed7953"
            ],
            [
             0.7777777777777778,
             "#fb9f3a"
            ],
            [
             0.8888888888888888,
             "#fdca26"
            ],
            [
             1,
             "#f0f921"
            ]
           ],
           "sequentialminus": [
            [
             0,
             "#0d0887"
            ],
            [
             0.1111111111111111,
             "#46039f"
            ],
            [
             0.2222222222222222,
             "#7201a8"
            ],
            [
             0.3333333333333333,
             "#9c179e"
            ],
            [
             0.4444444444444444,
             "#bd3786"
            ],
            [
             0.5555555555555556,
             "#d8576b"
            ],
            [
             0.6666666666666666,
             "#ed7953"
            ],
            [
             0.7777777777777778,
             "#fb9f3a"
            ],
            [
             0.8888888888888888,
             "#fdca26"
            ],
            [
             1,
             "#f0f921"
            ]
           ]
          },
          "colorway": [
           "#636efa",
           "#EF553B",
           "#00cc96",
           "#ab63fa",
           "#FFA15A",
           "#19d3f3",
           "#FF6692",
           "#B6E880",
           "#FF97FF",
           "#FECB52"
          ],
          "font": {
           "color": "#2a3f5f"
          },
          "geo": {
           "bgcolor": "white",
           "lakecolor": "white",
           "landcolor": "#E5ECF6",
           "showlakes": true,
           "showland": true,
           "subunitcolor": "white"
          },
          "hoverlabel": {
           "align": "left"
          },
          "hovermode": "closest",
          "mapbox": {
           "style": "light"
          },
          "paper_bgcolor": "white",
          "plot_bgcolor": "#E5ECF6",
          "polar": {
           "angularaxis": {
            "gridcolor": "white",
            "linecolor": "white",
            "ticks": ""
           },
           "bgcolor": "#E5ECF6",
           "radialaxis": {
            "gridcolor": "white",
            "linecolor": "white",
            "ticks": ""
           }
          },
          "scene": {
           "xaxis": {
            "backgroundcolor": "#E5ECF6",
            "gridcolor": "white",
            "gridwidth": 2,
            "linecolor": "white",
            "showbackground": true,
            "ticks": "",
            "zerolinecolor": "white"
           },
           "yaxis": {
            "backgroundcolor": "#E5ECF6",
            "gridcolor": "white",
            "gridwidth": 2,
            "linecolor": "white",
            "showbackground": true,
            "ticks": "",
            "zerolinecolor": "white"
           },
           "zaxis": {
            "backgroundcolor": "#E5ECF6",
            "gridcolor": "white",
            "gridwidth": 2,
            "linecolor": "white",
            "showbackground": true,
            "ticks": "",
            "zerolinecolor": "white"
           }
          },
          "shapedefaults": {
           "line": {
            "color": "#2a3f5f"
           }
          },
          "ternary": {
           "aaxis": {
            "gridcolor": "white",
            "linecolor": "white",
            "ticks": ""
           },
           "baxis": {
            "gridcolor": "white",
            "linecolor": "white",
            "ticks": ""
           },
           "bgcolor": "#E5ECF6",
           "caxis": {
            "gridcolor": "white",
            "linecolor": "white",
            "ticks": ""
           }
          },
          "title": {
           "x": 0.05
          },
          "xaxis": {
           "automargin": true,
           "gridcolor": "white",
           "linecolor": "white",
           "ticks": "",
           "title": {
            "standoff": 15
           },
           "zerolinecolor": "white",
           "zerolinewidth": 2
          },
          "yaxis": {
           "automargin": true,
           "gridcolor": "white",
           "linecolor": "white",
           "ticks": "",
           "title": {
            "standoff": 15
           },
           "zerolinecolor": "white",
           "zerolinewidth": 2
          }
         }
        },
        "width": 800
       }
      }
     },
     "metadata": {},
     "output_type": "display_data"
    }
   ],
   "source": [
    "import plotly.graph_objects as go\n",
    "import numpy as np\n",
    "\n",
    "# Calculate scaler\n",
    "range_val = 913 - 240\n",
    "pixelrange = 128\n",
    "scaler = range_val / pixelrange\n",
    "\n",
    "# All data (background)\n",
    "all_data = pooled_data\n",
    "\n",
    "# Filtered data\n",
    "filtered_data = pooled_data[pooled_data['stimtype'] == stimtype]\n",
    "\n",
    "# Create the figure\n",
    "fig = go.Figure()\n",
    "\n",
    "# Add all data to the plot (background)\n",
    "fig.add_trace(go.Scatter3d(\n",
    "    x=all_data['x_centroid'] * scaler,\n",
    "    y=(all_data['y_centroid'] % y_res) * scaler,\n",
    "    z=-all_data['plane_depth'],\n",
    "    mode='markers',\n",
    "    marker=dict(\n",
    "        size=abs(all_data['size']),\n",
    "        color='lightgray',  # Light color for background\n",
    "        opacity=0.5  # Low opacity to make it background-like\n",
    "    ),\n",
    "    name='All Data'\n",
    "))\n",
    "\n",
    "# Map experiment_id to a unique color\n",
    "experiment_ids = filtered_data['experiment_id'].unique()\n",
    "colors = px.colors.qualitative.D3  # You can choose another colorscale if you like\n",
    "color_map = {experiment_id: colors[i % len(colors)] for i, experiment_id in enumerate(experiment_ids)}\n",
    "\n",
    "# Apply the color map to the filtered data\n",
    "filtered_data['color'] = filtered_data['experiment_id'].map(color_map)\n",
    "\n",
    "# Add filtered data on top (foreground)\n",
    "fig.add_trace(go.Scatter3d(\n",
    "    x=filtered_data['x_centroid'] * scaler,\n",
    "    y=(filtered_data['y_centroid'] % y_res) * scaler,\n",
    "    z=-filtered_data['plane_depth'],\n",
    "    mode='markers',\n",
    "    marker=dict(\n",
    "        size=abs(filtered_data['size']),\n",
    "        color=filtered_data['color'],  # Apply color based on experiment_id\n",
    "        opacity=1\n",
    "    ),\n",
    "    name='Filtered Data (Moving Stripes)'\n",
    "))\n",
    "\n",
    "# Update layout with desired width, height, and margins\n",
    "fig.update_layout(\n",
    "    width=800,\n",
    "    height=600,\n",
    "    margin=dict(l=20, r=20, t=20, b=20),\n",
    "    #scene=dict(\n",
    "        #xaxis=dict(range=[0, 128]),\n",
    "        #yaxis=dict(range=[0, 64])\n",
    "    #)\n",
    ")\n",
    "\n",
    "# Show the figure\n",
    "fig.show()\n"
   ]
  },
  {
   "cell_type": "code",
   "execution_count": 489,
   "metadata": {},
   "outputs": [
    {
     "name": "stderr",
     "output_type": "stream",
     "text": [
      "C:\\Users\\Michael Forsthofer\\AppData\\Local\\Temp\\ipykernel_12128\\3503393773.py:39: SettingWithCopyWarning:\n",
      "\n",
      "\n",
      "A value is trying to be set on a copy of a slice from a DataFrame.\n",
      "Try using .loc[row_indexer,col_indexer] = value instead\n",
      "\n",
      "See the caveats in the documentation: https://pandas.pydata.org/pandas-docs/stable/user_guide/indexing.html#returning-a-view-versus-a-copy\n",
      "\n",
      "C:\\Users\\Michael Forsthofer\\AppData\\Local\\Temp\\ipykernel_12128\\3503393773.py:39: SettingWithCopyWarning:\n",
      "\n",
      "\n",
      "A value is trying to be set on a copy of a slice from a DataFrame.\n",
      "Try using .loc[row_indexer,col_indexer] = value instead\n",
      "\n",
      "See the caveats in the documentation: https://pandas.pydata.org/pandas-docs/stable/user_guide/indexing.html#returning-a-view-versus-a-copy\n",
      "\n",
      "C:\\Users\\Michael Forsthofer\\AppData\\Local\\Temp\\ipykernel_12128\\3503393773.py:39: SettingWithCopyWarning:\n",
      "\n",
      "\n",
      "A value is trying to be set on a copy of a slice from a DataFrame.\n",
      "Try using .loc[row_indexer,col_indexer] = value instead\n",
      "\n",
      "See the caveats in the documentation: https://pandas.pydata.org/pandas-docs/stable/user_guide/indexing.html#returning-a-view-versus-a-copy\n",
      "\n",
      "C:\\Users\\Michael Forsthofer\\AppData\\Local\\Temp\\ipykernel_12128\\3503393773.py:39: SettingWithCopyWarning:\n",
      "\n",
      "\n",
      "A value is trying to be set on a copy of a slice from a DataFrame.\n",
      "Try using .loc[row_indexer,col_indexer] = value instead\n",
      "\n",
      "See the caveats in the documentation: https://pandas.pydata.org/pandas-docs/stable/user_guide/indexing.html#returning-a-view-versus-a-copy\n",
      "\n"
     ]
    },
    {
     "data": {
      "application/vnd.plotly.v1+json": {
       "config": {
        "plotlyServerURL": "https://plot.ly"
       },
       "data": [
        {
         "marker": {
          "color": "gray",
          "opacity": 0.8,
          "size": [
           10.589035034179688,
           6.218621253967285,
           5.155450820922852,
           14.85568904876709,
           8.286933898925781,
           3.9804019927978516,
           3.305337905883789,
           3.716305732727051,
           4.30157470703125,
           6.250781059265137,
           19.790559768676758,
           8.526537895202637,
           7.08749532699585,
           3.460131883621216,
           4.427830219268799,
           4.9618377685546875,
           6.029113292694092,
           5.127704620361328,
           5.487027645111084,
           4.035541534423828,
           3.701115131378174,
           3.9109582901000977,
           4.154303550720215,
           8.471240997314453,
           3.187441825866699,
           3.05546236038208,
           4.1740851402282715,
           9.257493019104004,
           3.612295627593994,
           3.0850882530212402,
           4.695322513580322,
           6.184306621551514,
           2.701742649078369,
           2.920046091079712,
           4.357815265655518,
           3.504779815673828,
           3.822422981262207,
           5.488548278808594,
           3.9534523487091064,
           5.225104808807373,
           2.8888983726501465,
           3.4196648597717285,
           16.84963035583496,
           16.594764709472656,
           7.141833305358887,
           6.945498943328857,
           11.857854843139648,
           23.544361114501953,
           15.67708969116211,
           8.611940383911133,
           4.691732406616211,
           19.358049392700195,
           9.917287826538086,
           14.646324157714844,
           9.33202838897705,
           4.513580799102783,
           4.465725898742676,
           5.632926940917969,
           4.156125068664551,
           5.830604553222656,
           6.18307638168335,
           5.670929431915283,
           8.773237228393555,
           4.149898529052734,
           3.620553731918335,
           5.273541450500488,
           8.268338203430176,
           10.143619537353516,
           19.855012893676758,
           4.213404655456543,
           3.876044273376465,
           6.155831336975098,
           5.689329147338867,
           5.3471574783325195,
           4.962255954742432,
           6.191381931304932,
           6.88013219833374,
           6.015201091766357,
           10.573495864868164,
           8.836328506469727,
           5.275125980377197,
           3.3442397117614746,
           4.258393287658691,
           3.6487045288085938,
           4.988466739654541,
           6.176577091217041,
           7.072978496551514,
           6.893202781677246,
           5.268441677093506,
           4.07116174697876,
           5.378487586975098,
           3.566650152206421,
           4.061659336090088,
           2.7359256744384766,
           9.927889823913574,
           10.249993324279785,
           5.648736953735352,
           3.4031243324279785,
           3.696826219558716,
           3.9556326866149902,
           10.338608741760254,
           24.767763137817383,
           5.901456832885742,
           6.478878974914551,
           11.594075202941895,
           6.982669830322266,
           15.892284393310547,
           9.773479461669922,
           3.8250041007995605,
           6.6063714027404785,
           15.055237770080566,
           22.887767791748047,
           24.047718048095703,
           7.5303449630737305,
           9.334420204162598,
           6.42064094543457,
           17.13188934326172,
           9.830241203308105,
           15.399421691894531,
           16.073917388916016,
           5.188131332397461,
           7.203075885772705,
           18.15721321105957,
           11.615859985351562,
           15.627677917480469,
           13.481653213500977,
           10.067110061645508,
           10.311179161071777,
           11.741588592529297,
           4.902078628540039,
           13.587697982788086,
           4.741844177246094,
           4.08098840713501,
           2.384910821914673,
           7.629472732543945,
           15.025091171264648,
           6.307724952697754,
           6.306813716888428,
           7.436332702636719,
           2.7431297302246094,
           10.46548080444336,
           14.11571216583252,
           16.08859634399414,
           4.0375189781188965,
           17.86319923400879,
           14.98731517791748,
           6.983373641967773,
           12.399577140808105,
           4.574155807495117,
           8.627947807312012,
           5.099798679351807,
           6.802011489868164,
           6.294689178466797,
           26.13726043701172,
           7.446321487426758,
           8.810159683227539,
           2.496588706970215,
           11.356289863586426,
           17.111236572265625,
           6.4383463859558105,
           8.759565353393555,
           11.99002742767334,
           11.34766960144043,
           7.75411319732666,
           6.333316802978516,
           13.192100524902344,
           6.579396724700928,
           9.00655460357666,
           9.828542709350586,
           5.055225849151611,
           12.598780632019043,
           10.533114433288574,
           5.2517924308776855,
           4.417933464050293,
           21.79373550415039,
           9.504983901977539,
           8.417570114135742,
           4.813125133514404,
           5.494150638580322,
           8.999076843261719,
           17.70669937133789,
           16.73088836669922,
           4.028801441192627,
           10.694815635681152,
           8.125862121582031,
           10.019861221313477,
           4.375151634216309,
           5.413007736206055,
           8.448030471801758,
           6.230181694030762,
           5.433502674102783,
           7.06812858581543,
           3.9136693477630615,
           15.39416790008545,
           4.225526809692383,
           3.817723512649536,
           5.618614196777344,
           3.6827731132507324,
           2.6686713695526123,
           7.542620658874512,
           5.941032409667969,
           9.582672119140625,
           13.19965934753418,
           9.267902374267578,
           7.54175329208374,
           4.327293395996094,
           4.560691833496094,
           2.6074280738830566,
           13.49304485321045,
           4.926395416259766,
           10.38177490234375,
           3.2890090942382812,
           6.357417583465576,
           21.690044403076172,
           6.002292633056641,
           6.520046710968018,
           12.464139938354492,
           3.9061927795410156,
           11.14963436126709,
           24.031139373779297,
           4.201621055603027,
           4.303802013397217,
           15.517858505249023,
           5.425885200500488,
           2.9251065254211426,
           6.004643440246582,
           7.535918235778809,
           16.11746597290039,
           5.1198320388793945,
           6.573269844055176,
           7.892664432525635,
           5.103242874145508,
           10.459051132202148,
           5.401345729827881,
           8.927013397216797,
           3.962110996246338,
           4.599180221557617,
           8.391921043395996,
           6.336604118347168,
           4.851906776428223,
           4.63528299331665,
           3.299187183380127,
           5.464809417724609,
           6.83517599105835,
           5.746155738830566,
           9.48658561706543,
           3.6358964443206787,
           19.274438858032227,
           7.941741466522217,
           7.129255294799805,
           5.214738368988037,
           8.389724731445312,
           10.5166015625,
           2.8391098976135254,
           4.791495323181152,
           6.337682247161865,
           5.330364227294922,
           11.497051239013672,
           6.636289596557617,
           6.435261249542236,
           9.691394805908203,
           8.97209358215332,
           8.400100708007812,
           9.567031860351562,
           8.725743293762207,
           8.952533721923828,
           8.382956504821777,
           2.6987099647521973,
           7.280902862548828,
           6.181524276733398,
           11.00547981262207,
           3.682776689529419,
           8.373043060302734,
           3.701460838317871,
           5.425652503967285,
           7.35902738571167,
           6.071252822875977,
           9.37458324432373,
           10.150431632995605,
           4.915378093719482,
           4.927249908447266,
           5.746761322021484,
           5.11080265045166,
           3.7033939361572266,
           8.128236770629883,
           12.217397689819336,
           6.976236343383789,
           14.980727195739746,
           6.014949798583984,
           4.75053596496582,
           6.1902899742126465,
           2.720330238342285,
           11.131868362426758,
           9.080062866210938,
           11.262271881103516,
           2.812110424041748,
           3.7292912006378174,
           3.2323827743530273,
           4.266297817230225,
           3.6745619773864746,
           3.2037367820739746,
           3.9336812496185303,
           7.97591495513916,
           5.397315502166748,
           6.926199436187744,
           3.3670382499694824,
           3.5308938026428223,
           2.7538938522338867,
           4.282059669494629,
           2.764582633972168,
           4.490817070007324,
           5.708761215209961,
           4.01408052444458,
           5.214493274688721,
           4.184277057647705,
           5.279101371765137,
           3.404996871948242,
           4.112420558929443,
           8.27925968170166,
           6.554632663726807,
           4.153762340545654,
           4.471513271331787,
           3.3041999340057373,
           3.510012626647949,
           2.372642755508423,
           3.0460011959075928,
           4.354065895080566,
           3.704603672027588,
           5.487246990203857,
           4.698363780975342,
           5.210483074188232,
           4.335058212280273,
           5.361677646636963,
           3.801766872406006,
           3.5234146118164062,
           6.532958984375,
           4.159725189208984,
           4.552316665649414,
           2.5459022521972656,
           4.274810791015625,
           3.246263265609741,
           4.210559368133545,
           8.009350776672363,
           7.896945953369141,
           3.3225409984588623,
           3.2933104038238525,
           3.267864942550659,
           3.1659088134765625,
           2.816086530685425,
           3.9864065647125244,
           3.7021634578704834,
           4.0249481201171875,
           4.763010501861572,
           2.3749985694885254,
           4.460077285766602,
           3.170435667037964,
           3.0694165229797363,
           3.2727675437927246,
           3.217243194580078,
           2.616738796234131,
           2.5693740844726562,
           2.678385019302368,
           3.134148597717285
          ]
         },
         "mode": "markers",
         "name": "",
         "scene": "scene",
         "type": "scatter3d",
         "x": [
          352.2734375,
          352.2734375,
          330.71640625,
          390.5120738636363,
          312.83984375,
          289.3079268292683,
          411.49300986842104,
          419.37972861842104,
          352.2734375,
          347.015625,
          373.3046875,
          375.2763671875,
          390.32998511904765,
          486.01904296875,
          354.5267857142857,
          347.015625,
          304.10509072580646,
          399.59375,
          334.5283203125,
          304.953125,
          515.265625,
          290.9322916666667,
          441.65625,
          162.9921875,
          168.25,
          168.70066964285715,
          135.28209459459458,
          130.59269425675677,
          125.41429227941175,
          190.8276654411765,
          157.734375,
          107.78515625,
          126.1875,
          190.05445772058823,
          126.1875,
          152.4765625,
          177.451171875,
          157.734375,
          199.796875,
          168.42526041666665,
          180.16770833333334,
          247.1171875,
          352.2734375,
          368.046875,
          415.3671875,
          352.2734375,
          330.71640625,
          336.5,
          370.0185546875,
          439.02734375,
          341.7578125,
          390.5120738636363,
          312.83984375,
          271.85983455882354,
          453.87293198529414,
          424.4223090277778,
          368.2164818548387,
          289.3079268292683,
          325.8460115131579,
          411.49300986842104,
          419.37972861842104,
          324.5504261363636,
          405.14366319444446,
          352.2734375,
          334.57213541666664,
          347.015625,
          261.4566761363636,
          310.2109375,
          373.3046875,
          298.2742820945946,
          442.59995993589746,
          375.2763671875,
          390.32998511904765,
          238.6462673611111,
          312.83984375,
          399.1674408783784,
          295.13854166666664,
          373.1350806451613,
          354.5267857142857,
          444.28515625,
          347.015625,
          312.60085227272725,
          441.65625,
          441.65625,
          142.81355574324323,
          304.10509072580646,
          161.12651209677418,
          122.30129076086956,
          271.82890625,
          404.8515625,
          334.5283203125,
          144.58984375,
          322.4791666666667,
          352.2734375,
          336.5,
          390.5120738636363,
          375.2763671875,
          354.5267857142857,
          334.5283203125,
          294.4375,
          352.2734375,
          368.046875,
          415.3671875,
          391.1134072580645,
          352.2734375,
          330.71640625,
          336.5,
          436.3984375,
          357.53125,
          294.4375,
          410.9619932432432,
          439.02734375,
          162.9921875,
          168.25,
          456.15076013513516,
          168.70066964285715,
          135.28209459459458,
          341.7578125,
          390.5120738636363,
          130.59269425675677,
          206.96661931818184,
          312.83984375,
          271.85983455882354,
          120.9296875,
          173.92290296052633,
          378.32350852272725,
          105.15625,
          136.703125,
          453.87293198529414,
          135.58783143939394,
          125.41429227941175,
          389.36233108108104,
          424.4223090277778,
          220.828125,
          368.2164818548387,
          190.8276654411765,
          458.8636363636363,
          416.32315340909093,
          289.3079268292683,
          152.4765625,
          157.734375,
          325.8460115131579,
          131.4453125,
          411.49300986842104,
          268.44888392857143,
          107.78515625,
          385.36672794117646,
          419.37972861842104,
          327.06290064102564,
          126.1875,
          189.28125,
          324.5504261363636,
          405.14366319444446,
          190.05445772058823,
          126.1875,
          334.57213541666664,
          299.8649193548387,
          153.93706597222223,
          151.53285256410257,
          108.98011363636363,
          205.0546875,
          261.4566761363636,
          178.61957465277777,
          310.2109375,
          152.4765625,
          373.3046875,
          99.8984375,
          148.67925347222223,
          177.451171875,
          147.21875,
          126.03285845588235,
          173.83642578125,
          194.5390625,
          309.296535326087,
          207.08996975806454,
          298.2742820945946,
          442.59995993589746,
          101.47578125,
          375.2763671875,
          390.32998511904765,
          238.6462673611111,
          115.671875,
          249.74609375,
          158.90277777777777,
          481.64749053030306,
          140.30057565789474,
          241.859375,
          377.5109375,
          98.25537109375,
          99.02213541666666,
          164.45269097222223,
          134.7314453125,
          312.83984375,
          224.38986895161293,
          257.3560855263158,
          347.72614020270265,
          446.2767518939394,
          399.1674408783784,
          120.9296875,
          253.60182291666666,
          150.95010080645162,
          115.81023848684211,
          157.734375,
          295.13854166666664,
          189.28125,
          82.8503787878788,
          252.375,
          204.266015625,
          486.01904296875,
          356.4159564393939,
          84.89820772058825,
          336.5,
          184.0234375,
          199.796875,
          110.86473214285714,
          220.65286458333335,
          206.13321314102564,
          80.674560546875,
          169.95878906250002,
          304.10509072580646,
          230.13040865384613,
          147.72757056451613,
          453.39869791666666,
          162.6735321969697,
          269.5052923387097,
          333.1078629032258,
          474.5599798387097,
          444.28515625,
          287.4270833333333,
          119.12700892857144,
          192.08541666666665,
          273.28106398809524,
          235.92748397435895,
          238.6462673611111,
          198.33637152777777,
          141.71056547619048,
          347.015625,
          96.74374999999999,
          171.90125868055554,
          254.82864583333335,
          168.25,
          312.60085227272725,
          255.19168526785714,
          233.97265625,
          185.9951171875,
          202.9515625,
          226.0859375,
          234.26475694444446,
          456.30301339285717,
          168.25,
          411.80544354838713,
          214.46340460526315,
          134.3835018382353,
          417.733203125,
          311.9635416666667,
          131.4453125,
          142.81355574324323,
          168.42526041666665,
          304.10509072580646,
          127.501953125,
          338.9536458333333,
          266.34575892857146,
          178.47352430555554,
          226.0859375,
          176.76264880952382,
          215.5703125,
          269.16607862903226,
          287.53662109375,
          89.3828125,
          218.04457720588235,
          247.59517045454547,
          121.53058035714285,
          161.12651209677418,
          254.478125,
          70.60491071428572,
          220.828125,
          193.48749999999998,
          142.64673913043478,
          398.01640625,
          190.26708984375,
          195.38709677419357,
          255.496826171875,
          178.765625,
          215.5703125,
          174.86466733870967,
          218.57477678571428,
          281.29296875,
          174.69506048387098,
          212.94140625,
          124.7153125,
          132.83708639705884,
          351.50022977941177,
          180.16770833333334,
          232.74583333333334,
          156.31881009615384,
          194.5390625,
          268.3431712962963,
          143.0125,
          286.25868055555554,
          121.40767045454545,
          298.67767137096774,
          213.42824074074076,
          108.52125000000001,
          249.74609375,
          222.40546874999998,
          334.5283203125,
          168.25,
          483.71875,
          187.02790178571428,
          144.26123046875,
          235.85044642857142,
          357.53125,
          502.8380681818182,
          98.70348011363637,
          291.80859375,
          226.0859375,
          205.0546875,
          222.93125,
          237.76996527777777,
          515.265625,
          427.63541666666663,
          189.28125,
          208.998046875,
          438.6517857142857,
          352.2734375,
          347.015625,
          184.16554054054052,
          373.1350806451613,
          204.561767578125,
          354.5267857142857,
          168.25,
          231.34375,
          441.65625,
          153.61338682432432,
          122.30129076086956,
          107.03404017857143,
          97.96134868421052,
          274.64338235294116,
          394.3359375,
          396.08854166666663,
          111.728515625,
          233.3659855769231,
          268.411328125,
          294.4375,
          194.5390625,
          382.06770833333337,
          205.0546875,
          271.6536458333333,
          336.5,
          499.4921875,
          322.4791666666667,
          228.71484375,
          290.9322916666667,
          218.19921875,
          147.21875,
          164.74479166666666,
          194.5390625,
          233.97265625,
          315.46875,
          462.6875,
          199.796875,
          210.3125,
          168.25
         ],
         "y": [
          247.1171875,
          215.5703125,
          265.87005208333335,
          214.13636363636363,
          265.51953125,
          277.6381478658537,
          178.9039884868422,
          151.36965460526312,
          236.6015625,
          231.34375,
          266.833984375,
          250.567626953125,
          226.33630952380955,
          125.85888671875,
          272.65513392857144,
          238.737548828125,
          263.0602318548387,
          247.1171875,
          257.6328125,
          257.6328125,
          173.5078125,
          140.2083333333333,
          141.9609375,
          162.9921875,
          294.4375,
          307.65714285714284,
          146.36613175675677,
          293.4427787162162,
          175.0542279411764,
          184.7966452205883,
          203.01940524193554,
          276.03515625,
          210.3125,
          108.8676470588236,
          241.859375,
          136.703125,
          233.3154296875,
          162.9921875,
          136.703125,
          203.47734374999993,
          209.96197916666668,
          141.9609375,
          247.1171875,
          189.28125,
          162.9921875,
          215.5703125,
          265.87005208333335,
          247.1171875,
          163.485107421875,
          144.58984375,
          184.0234375,
          214.13636363636363,
          265.51953125,
          158.5075827205883,
          181.0852481617647,
          180.2261284722222,
          206.41154233870964,
          277.6381478658537,
          158.70291940789468,
          178.9039884868422,
          151.36965460526312,
          206.4886363636364,
          205.6388888888889,
          236.6015625,
          197.34322916666665,
          231.34375,
          180.1995738636364,
          283.39609375,
          266.833984375,
          179.61824324324323,
          99.76362179487167,
          250.567626953125,
          226.33630952380955,
          154.81336805555563,
          176.13671875,
          211.1651182432434,
          201.5494791666667,
          237.7888104838711,
          272.65513392857144,
          140.38359374999993,
          238.737548828125,
          232.61837121212125,
          194.5390625,
          194.046142578125,
          141.9609375,
          263.0602318548387,
          119.74243951612907,
          123.67289402173913,
          175.08515625000007,
          241.859375,
          257.6328125,
          99.8984375,
          238.3541666666667,
          247.1171875,
          247.1171875,
          214.13636363636363,
          250.567626953125,
          272.65513392857144,
          257.6328125,
          36.8046875,
          247.1171875,
          189.28125,
          162.9921875,
          154.34223790322582,
          215.5703125,
          265.87005208333335,
          247.1171875,
          147.21875,
          141.9609375,
          141.9609375,
          124.76646959459458,
          144.58984375,
          162.9921875,
          294.4375,
          126.89801520270271,
          307.65714285714284,
          146.36613175675677,
          184.0234375,
          214.13636363636363,
          293.4427787162162,
          307.82102272727275,
          265.51953125,
          158.5075827205883,
          194.5390625,
          130.2000411184211,
          127.62144886363633,
          226.0859375,
          257.6328125,
          181.0852481617647,
          296.82741477272725,
          175.0542279411764,
          188.8549408783784,
          180.2261284722222,
          294.4375,
          206.41154233870964,
          184.7966452205883,
          130.01136363636368,
          124.27556818181819,
          277.6381478658537,
          178.765625,
          203.01940524193554,
          158.70291940789468,
          157.734375,
          178.9039884868422,
          124.38482142857136,
          276.03515625,
          130.6721047794117,
          151.36965460526312,
          138.5905448717949,
          210.3125,
          262.890625,
          206.4886363636364,
          205.6388888888889,
          108.8676470588236,
          241.859375,
          197.34322916666665,
          72.93094758064518,
          135.2426215277778,
          99.76362179487181,
          269.58238636363643,
          220.828125,
          180.1995738636364,
          80.32769097222219,
          283.39609375,
          136.703125,
          266.833984375,
          241.859375,
          224.6254340277778,
          233.3154296875,
          173.5078125,
          121.23897058823532,
          78.045654296875,
          276.03515625,
          236.6015625,
          147.5579637096774,
          179.61824324324323,
          99.76362179487167,
          150.02291666666665,
          250.567626953125,
          226.33630952380955,
          154.81336805555563,
          131.4453125,
          281.29296875,
          185.62999131944437,
          166.3380681818182,
          104.32606907894734,
          241.859375,
          172.45625000000007,
          183.859130859375,
          169.4184027777778,
          285.3823784722222,
          252.375,
          176.13671875,
          193.86063508064518,
          295.68277138157896,
          114.39294763513507,
          96.71188446969697,
          211.1651182432434,
          247.1171875,
          206.2815104166666,
          244.57308467741942,
          195.922697368421,
          162.9921875,
          201.5494791666667,
          162.9921875,
          240.7440814393939,
          147.21875,
          299.0380859375,
          125.85888671875,
          88.42684659090907,
          197.63189338235296,
          136.703125,
          157.734375,
          136.703125,
          283.0205357142857,
          264.46796875000007,
          80.7546073717949,
          266.833984375,
          133.5484374999999,
          109.90524193548389,
          300.09975961538464,
          273.06703629032256,
          78.34140624999988,
          265.43986742424244,
          305.4619455645161,
          205.73311491935482,
          164.34904233870972,
          140.38359374999993,
          284.7981770833333,
          241.55892857142862,
          179.46666666666664,
          232.97116815476184,
          63.36338141025637,
          250.4763454861111,
          233.3884548611111,
          298.1930803571429,
          238.737548828125,
          219.4260416666666,
          198.04427083333331,
          258.50911458333337,
          249.74609375,
          232.61837121212125,
          234.53599330357144,
          123.55859375,
          55.20703125,
          99.63554687499995,
          173.5078125,
          119.615234375,
          175.3856026785713,
          98.43793402777781,
          147.38835685483872,
          66.41447368421048,
          142.73414522058812,
          126.71328125000012,
          140.8655598958333,
          180.080078125,
          141.9609375,
          203.47734374999993,
          263.0602318548387,
          167.099853515625,
          115.14609375000003,
          98.09575892857136,
          276.32725694444446,
          165.62109375,
          162.24107142857144,
          170.87890625,
          66.99470766129036,
          152.14794921875,
          144.58984375,
          102.21806066176468,
          191.35250946969688,
          221.87968750000002,
          119.74243951612907,
          57.57304687499994,
          170.12779017857144,
          73.609375,
          114.62031250000005,
          114.75747282608701,
          117.24921875000005,
          225.75732421875,
          85.14264112903223,
          103.51318359375,
          56.78437500000006,
          68.3515625,
          273.74546370967744,
          205.95602678571433,
          202.42578125,
          101.25529233870971,
          50.27783203125,
          96.1128125,
          211.54963235294125,
          173.35317095588235,
          209.96197916666668,
          99.54791666666668,
          199.39242788461536,
          157.734375,
          178.3761574074074,
          272.70520833333336,
          60.17274305555562,
          87.47088068181813,
          135.68548387096777,
          244.19618055555563,
          180.44812499999998,
          215.5703125,
          208.9104166666666,
          257.6328125,
          228.71484375,
          136.703125,
          132.9475446428571,
          214.255859375,
          49.57366071428565,
          147.21875,
          188.80326704545453,
          111.13103693181813,
          52.578125,
          36.8046875,
          52.578125,
          119.87812499999998,
          75.36197916666657,
          173.5078125,
          40.309895833333336,
          63.09375,
          82.810546875,
          100.79977678571431,
          236.6015625,
          231.34375,
          263.7432432432434,
          237.7888104838711,
          258.947265625,
          272.65513392857144,
          126.1875,
          178.765625,
          194.046142578125,
          276.6746199324324,
          123.67289402173913,
          195.66573660714286,
          173.78453947368422,
          270.6227022058823,
          109.53776041666664,
          161.23958333333343,
          258.2900390625,
          33.973557692307644,
          210.3125,
          36.8046875,
          187.77901785714283,
          224.3333333333333,
          94.640625,
          77.11458333333329,
          102.52734375,
          170.87890625,
          238.3541666666667,
          68.3515625,
          140.2083333333333,
          73.609375,
          252.375,
          233.09635416666663,
          152.4765625,
          78.8671875,
          31.546875,
          157.734375,
          141.9609375,
          189.28125,
          289.1796875
         ],
         "z": [
          -282.5,
          -215,
          -282.5,
          -282.5,
          -215,
          -215,
          -350,
          -350,
          -215,
          -215,
          -282.5,
          -215,
          -215,
          -215,
          -215,
          -147.49999999999997,
          -147.49999999999997,
          -282.5,
          -147.49999999999997,
          -282.5,
          -282.5,
          -147.49999999999997,
          -147.49999999999997,
          -80,
          -215,
          -282.5,
          -80,
          -215,
          -80,
          -80,
          -80,
          -215,
          -80,
          -80,
          -147.49999999999997,
          -80,
          -80,
          -12.5,
          -12.5,
          -12.5,
          -147.49999999999997,
          -215,
          -282.5,
          -215,
          -282.5,
          -215,
          -282.5,
          -215,
          -215,
          -282.5,
          -147.49999999999997,
          -282.5,
          -215,
          -80,
          -282.5,
          -215,
          -147.49999999999997,
          -215,
          -147.49999999999997,
          -350,
          -350,
          -147.49999999999997,
          -215,
          -215,
          -215,
          -215,
          -80,
          -282.5,
          -282.5,
          -147.49999999999997,
          -350,
          -215,
          -215,
          -80,
          -80,
          -350,
          -80,
          -350,
          -215,
          -350,
          -147.49999999999997,
          -147.49999999999997,
          -282.5,
          -350,
          -215,
          -147.49999999999997,
          -215,
          -215,
          -12.5,
          -282.5,
          -147.49999999999997,
          -215,
          -80,
          -282.5,
          -215,
          -282.5,
          -215,
          -215,
          -147.49999999999997,
          -80,
          -282.5,
          -215,
          -282.5,
          -282.5,
          -215,
          -282.5,
          -215,
          -215,
          -147.49999999999997,
          -80,
          -215,
          -282.5,
          -80,
          -215,
          -282.5,
          -282.5,
          -80,
          -147.49999999999997,
          -282.5,
          -215,
          -282.5,
          -215,
          -80,
          -147.49999999999997,
          -80,
          -215,
          -147.49999999999997,
          -147.49999999999997,
          -282.5,
          -282.5,
          -80,
          -282.5,
          -215,
          -215,
          -147.49999999999997,
          -80,
          -215,
          -282.5,
          -215,
          -80,
          -80,
          -147.49999999999997,
          -147.49999999999997,
          -350,
          -80,
          -215,
          -147.49999999999997,
          -350,
          -80,
          -80,
          -147.49999999999997,
          -147.49999999999997,
          -215,
          -80,
          -147.49999999999997,
          -215,
          -80,
          -147.49999999999997,
          -80,
          -147.49999999999997,
          -80,
          -80,
          -147.49999999999997,
          -282.5,
          -80,
          -282.5,
          -215,
          -147.49999999999997,
          -80,
          -80,
          -80,
          -80,
          -215,
          -215,
          -80,
          -147.49999999999997,
          -350,
          -80,
          -215,
          -215,
          -80,
          -147.49999999999997,
          -215,
          -147.49999999999997,
          -282.5,
          -147.49999999999997,
          -147.49999999999997,
          -147.49999999999997,
          -80,
          -147.49999999999997,
          -147.49999999999997,
          -215,
          -80,
          -80,
          -282.5,
          -147.49999999999997,
          -282.5,
          -350,
          -147.49999999999997,
          -80,
          -80,
          -215,
          -12.5,
          -80,
          -80,
          -147.49999999999997,
          -12.5,
          -147.49999999999997,
          -215,
          -147.49999999999997,
          -147.49999999999997,
          -147.49999999999997,
          -80,
          -12.5,
          -282.5,
          -147.49999999999997,
          -80,
          -215,
          -12.5,
          -80,
          -282.5,
          -282.5,
          -350,
          -215,
          -215,
          -80,
          -215,
          -350,
          -282.5,
          -80,
          -12.5,
          -147.49999999999997,
          -80,
          -80,
          -147.49999999999997,
          -147.49999999999997,
          -147.49999999999997,
          -80,
          -282.5,
          -215,
          -147.49999999999997,
          -147.49999999999997,
          -80,
          -12.5,
          -80,
          -147.49999999999997,
          -80,
          -80,
          -350,
          -12.5,
          -147.49999999999997,
          -147.49999999999997,
          -12.5,
          -350,
          -147.49999999999997,
          -12.5,
          -215,
          -12.5,
          -147.49999999999997,
          -215,
          -80,
          -80,
          -282.5,
          -12.5,
          -147.49999999999997,
          -80,
          -80,
          -12.5,
          -147.49999999999997,
          -12.5,
          -12.5,
          -215,
          -215,
          -147.49999999999997,
          -147.49999999999997,
          -80,
          -12.5,
          -12.5,
          -147.49999999999997,
          -12.5,
          -12.5,
          -12.5,
          -147.49999999999997,
          -80,
          -80,
          -12.5,
          -147.49999999999997,
          -215,
          -80,
          -80,
          -12.5,
          -80,
          -147.49999999999997,
          -80,
          -215,
          -12.5,
          -147.49999999999997,
          -80,
          -147.49999999999997,
          -147.49999999999997,
          -12.5,
          -350,
          -12.5,
          -147.49999999999997,
          -147.49999999999997,
          -147.49999999999997,
          -282.5,
          -282.5,
          -147.49999999999997,
          -282.5,
          -147.49999999999997,
          -215,
          -282.5,
          -147.49999999999997,
          -80,
          -147.49999999999997,
          -147.49999999999997,
          -215,
          -12.5,
          -282.5,
          -282.5,
          -147.49999999999997,
          -215,
          -215,
          -215,
          -215,
          -350,
          -350,
          -80,
          -215,
          -147.49999999999997,
          -80,
          -350,
          -350,
          -215,
          -282.5,
          -215,
          -147.49999999999997,
          -215,
          -350,
          -80,
          -80,
          -12.5,
          -80,
          -215,
          -147.49999999999997,
          -215,
          -147.49999999999997,
          -147.49999999999997,
          -215,
          -80,
          -215,
          -147.49999999999997,
          -215,
          -12.5,
          -215,
          -147.49999999999997,
          -147.49999999999997,
          -147.49999999999997,
          -350,
          -147.49999999999997,
          -147.49999999999997,
          -80
         ]
        },
        {
         "marker": {
          "color": [
           "maroon",
           "maroon",
           "maroon",
           "maroon",
           "maroon",
           "maroon",
           "maroon",
           "maroon",
           "maroon",
           "maroon",
           "maroon",
           "maroon",
           "maroon",
           "maroon",
           "maroon",
           "maroon",
           "maroon",
           "maroon",
           "maroon",
           "maroon",
           "maroon",
           "maroon",
           "maroon"
          ],
          "opacity": 1,
          "size": [
           10.589035034179688,
           6.218621253967285,
           5.155450820922852,
           14.85568904876709,
           8.286933898925781,
           3.9804019927978516,
           3.305337905883789,
           3.716305732727051,
           4.30157470703125,
           6.250781059265137,
           19.790559768676758,
           8.526537895202637,
           7.08749532699585,
           3.460131883621216,
           4.427830219268799,
           4.9618377685546875,
           6.029113292694092,
           5.127704620361328,
           5.487027645111084,
           4.035541534423828,
           3.701115131378174,
           3.9109582901000977,
           4.154303550720215
          ]
         },
         "mode": "markers",
         "name": "moving stripes",
         "scene": "scene",
         "type": "scatter3d",
         "x": [
          352.2734375,
          352.2734375,
          330.71640625,
          390.5120738636363,
          312.83984375,
          289.3079268292683,
          411.49300986842104,
          419.37972861842104,
          352.2734375,
          347.015625,
          373.3046875,
          375.2763671875,
          390.32998511904765,
          486.01904296875,
          354.5267857142857,
          347.015625,
          304.10509072580646,
          399.59375,
          334.5283203125,
          304.953125,
          515.265625,
          290.9322916666667,
          441.65625
         ],
         "y": [
          247.1171875,
          215.5703125,
          265.87005208333335,
          214.13636363636363,
          265.51953125,
          277.6381478658537,
          178.9039884868422,
          151.36965460526312,
          236.6015625,
          231.34375,
          266.833984375,
          250.567626953125,
          226.33630952380955,
          125.85888671875,
          272.65513392857144,
          238.737548828125,
          263.0602318548387,
          247.1171875,
          257.6328125,
          257.6328125,
          173.5078125,
          140.2083333333333,
          141.9609375
         ],
         "z": [
          -282.5,
          -215,
          -282.5,
          -282.5,
          -215,
          -215,
          -350,
          -350,
          -215,
          -215,
          -282.5,
          -215,
          -215,
          -215,
          -215,
          -147.49999999999997,
          -147.49999999999997,
          -282.5,
          -147.49999999999997,
          -282.5,
          -282.5,
          -147.49999999999997,
          -147.49999999999997
         ]
        },
        {
         "marker": {
          "color": "gray",
          "opacity": 0.8,
          "size": [
           10.589035034179688,
           6.218621253967285,
           5.155450820922852,
           14.85568904876709,
           8.286933898925781,
           3.9804019927978516,
           3.305337905883789,
           3.716305732727051,
           4.30157470703125,
           6.250781059265137,
           19.790559768676758,
           8.526537895202637,
           7.08749532699585,
           3.460131883621216,
           4.427830219268799,
           4.9618377685546875,
           6.029113292694092,
           5.127704620361328,
           5.487027645111084,
           4.035541534423828,
           3.701115131378174,
           3.9109582901000977,
           4.154303550720215,
           8.471240997314453,
           3.187441825866699,
           3.05546236038208,
           4.1740851402282715,
           9.257493019104004,
           3.612295627593994,
           3.0850882530212402,
           4.695322513580322,
           6.184306621551514,
           2.701742649078369,
           2.920046091079712,
           4.357815265655518,
           3.504779815673828,
           3.822422981262207,
           5.488548278808594,
           3.9534523487091064,
           5.225104808807373,
           2.8888983726501465,
           3.4196648597717285,
           16.84963035583496,
           16.594764709472656,
           7.141833305358887,
           6.945498943328857,
           11.857854843139648,
           23.544361114501953,
           15.67708969116211,
           8.611940383911133,
           4.691732406616211,
           19.358049392700195,
           9.917287826538086,
           14.646324157714844,
           9.33202838897705,
           4.513580799102783,
           4.465725898742676,
           5.632926940917969,
           4.156125068664551,
           5.830604553222656,
           6.18307638168335,
           5.670929431915283,
           8.773237228393555,
           4.149898529052734,
           3.620553731918335,
           5.273541450500488,
           8.268338203430176,
           10.143619537353516,
           19.855012893676758,
           4.213404655456543,
           3.876044273376465,
           6.155831336975098,
           5.689329147338867,
           5.3471574783325195,
           4.962255954742432,
           6.191381931304932,
           6.88013219833374,
           6.015201091766357,
           10.573495864868164,
           8.836328506469727,
           5.275125980377197,
           3.3442397117614746,
           4.258393287658691,
           3.6487045288085938,
           4.988466739654541,
           6.176577091217041,
           7.072978496551514,
           6.893202781677246,
           5.268441677093506,
           4.07116174697876,
           5.378487586975098,
           3.566650152206421,
           4.061659336090088,
           2.7359256744384766,
           9.927889823913574,
           10.249993324279785,
           5.648736953735352,
           3.4031243324279785,
           3.696826219558716,
           3.9556326866149902,
           10.338608741760254,
           24.767763137817383,
           5.901456832885742,
           6.478878974914551,
           11.594075202941895,
           6.982669830322266,
           15.892284393310547,
           9.773479461669922,
           3.8250041007995605,
           6.6063714027404785,
           15.055237770080566,
           22.887767791748047,
           24.047718048095703,
           7.5303449630737305,
           9.334420204162598,
           6.42064094543457,
           17.13188934326172,
           9.830241203308105,
           15.399421691894531,
           16.073917388916016,
           5.188131332397461,
           7.203075885772705,
           18.15721321105957,
           11.615859985351562,
           15.627677917480469,
           13.481653213500977,
           10.067110061645508,
           10.311179161071777,
           11.741588592529297,
           4.902078628540039,
           13.587697982788086,
           4.741844177246094,
           4.08098840713501,
           2.384910821914673,
           7.629472732543945,
           15.025091171264648,
           6.307724952697754,
           6.306813716888428,
           7.436332702636719,
           2.7431297302246094,
           10.46548080444336,
           14.11571216583252,
           16.08859634399414,
           4.0375189781188965,
           17.86319923400879,
           14.98731517791748,
           6.983373641967773,
           12.399577140808105,
           4.574155807495117,
           8.627947807312012,
           5.099798679351807,
           6.802011489868164,
           6.294689178466797,
           26.13726043701172,
           7.446321487426758,
           8.810159683227539,
           2.496588706970215,
           11.356289863586426,
           17.111236572265625,
           6.4383463859558105,
           8.759565353393555,
           11.99002742767334,
           11.34766960144043,
           7.75411319732666,
           6.333316802978516,
           13.192100524902344,
           6.579396724700928,
           9.00655460357666,
           9.828542709350586,
           5.055225849151611,
           12.598780632019043,
           10.533114433288574,
           5.2517924308776855,
           4.417933464050293,
           21.79373550415039,
           9.504983901977539,
           8.417570114135742,
           4.813125133514404,
           5.494150638580322,
           8.999076843261719,
           17.70669937133789,
           16.73088836669922,
           4.028801441192627,
           10.694815635681152,
           8.125862121582031,
           10.019861221313477,
           4.375151634216309,
           5.413007736206055,
           8.448030471801758,
           6.230181694030762,
           5.433502674102783,
           7.06812858581543,
           3.9136693477630615,
           15.39416790008545,
           4.225526809692383,
           3.817723512649536,
           5.618614196777344,
           3.6827731132507324,
           2.6686713695526123,
           7.542620658874512,
           5.941032409667969,
           9.582672119140625,
           13.19965934753418,
           9.267902374267578,
           7.54175329208374,
           4.327293395996094,
           4.560691833496094,
           2.6074280738830566,
           13.49304485321045,
           4.926395416259766,
           10.38177490234375,
           3.2890090942382812,
           6.357417583465576,
           21.690044403076172,
           6.002292633056641,
           6.520046710968018,
           12.464139938354492,
           3.9061927795410156,
           11.14963436126709,
           24.031139373779297,
           4.201621055603027,
           4.303802013397217,
           15.517858505249023,
           5.425885200500488,
           2.9251065254211426,
           6.004643440246582,
           7.535918235778809,
           16.11746597290039,
           5.1198320388793945,
           6.573269844055176,
           7.892664432525635,
           5.103242874145508,
           10.459051132202148,
           5.401345729827881,
           8.927013397216797,
           3.962110996246338,
           4.599180221557617,
           8.391921043395996,
           6.336604118347168,
           4.851906776428223,
           4.63528299331665,
           3.299187183380127,
           5.464809417724609,
           6.83517599105835,
           5.746155738830566,
           9.48658561706543,
           3.6358964443206787,
           19.274438858032227,
           7.941741466522217,
           7.129255294799805,
           5.214738368988037,
           8.389724731445312,
           10.5166015625,
           2.8391098976135254,
           4.791495323181152,
           6.337682247161865,
           5.330364227294922,
           11.497051239013672,
           6.636289596557617,
           6.435261249542236,
           9.691394805908203,
           8.97209358215332,
           8.400100708007812,
           9.567031860351562,
           8.725743293762207,
           8.952533721923828,
           8.382956504821777,
           2.6987099647521973,
           7.280902862548828,
           6.181524276733398,
           11.00547981262207,
           3.682776689529419,
           8.373043060302734,
           3.701460838317871,
           5.425652503967285,
           7.35902738571167,
           6.071252822875977,
           9.37458324432373,
           10.150431632995605,
           4.915378093719482,
           4.927249908447266,
           5.746761322021484,
           5.11080265045166,
           3.7033939361572266,
           8.128236770629883,
           12.217397689819336,
           6.976236343383789,
           14.980727195739746,
           6.014949798583984,
           4.75053596496582,
           6.1902899742126465,
           2.720330238342285,
           11.131868362426758,
           9.080062866210938,
           11.262271881103516,
           2.812110424041748,
           3.7292912006378174,
           3.2323827743530273,
           4.266297817230225,
           3.6745619773864746,
           3.2037367820739746,
           3.9336812496185303,
           7.97591495513916,
           5.397315502166748,
           6.926199436187744,
           3.3670382499694824,
           3.5308938026428223,
           2.7538938522338867,
           4.282059669494629,
           2.764582633972168,
           4.490817070007324,
           5.708761215209961,
           4.01408052444458,
           5.214493274688721,
           4.184277057647705,
           5.279101371765137,
           3.404996871948242,
           4.112420558929443,
           8.27925968170166,
           6.554632663726807,
           4.153762340545654,
           4.471513271331787,
           3.3041999340057373,
           3.510012626647949,
           2.372642755508423,
           3.0460011959075928,
           4.354065895080566,
           3.704603672027588,
           5.487246990203857,
           4.698363780975342,
           5.210483074188232,
           4.335058212280273,
           5.361677646636963,
           3.801766872406006,
           3.5234146118164062,
           6.532958984375,
           4.159725189208984,
           4.552316665649414,
           2.5459022521972656,
           4.274810791015625,
           3.246263265609741,
           4.210559368133545,
           8.009350776672363,
           7.896945953369141,
           3.3225409984588623,
           3.2933104038238525,
           3.267864942550659,
           3.1659088134765625,
           2.816086530685425,
           3.9864065647125244,
           3.7021634578704834,
           4.0249481201171875,
           4.763010501861572,
           2.3749985694885254,
           4.460077285766602,
           3.170435667037964,
           3.0694165229797363,
           3.2727675437927246,
           3.217243194580078,
           2.616738796234131,
           2.5693740844726562,
           2.678385019302368,
           3.134148597717285
          ]
         },
         "mode": "markers",
         "name": "",
         "scene": "scene2",
         "type": "scatter3d",
         "x": [
          352.2734375,
          352.2734375,
          330.71640625,
          390.5120738636363,
          312.83984375,
          289.3079268292683,
          411.49300986842104,
          419.37972861842104,
          352.2734375,
          347.015625,
          373.3046875,
          375.2763671875,
          390.32998511904765,
          486.01904296875,
          354.5267857142857,
          347.015625,
          304.10509072580646,
          399.59375,
          334.5283203125,
          304.953125,
          515.265625,
          290.9322916666667,
          441.65625,
          162.9921875,
          168.25,
          168.70066964285715,
          135.28209459459458,
          130.59269425675677,
          125.41429227941175,
          190.8276654411765,
          157.734375,
          107.78515625,
          126.1875,
          190.05445772058823,
          126.1875,
          152.4765625,
          177.451171875,
          157.734375,
          199.796875,
          168.42526041666665,
          180.16770833333334,
          247.1171875,
          352.2734375,
          368.046875,
          415.3671875,
          352.2734375,
          330.71640625,
          336.5,
          370.0185546875,
          439.02734375,
          341.7578125,
          390.5120738636363,
          312.83984375,
          271.85983455882354,
          453.87293198529414,
          424.4223090277778,
          368.2164818548387,
          289.3079268292683,
          325.8460115131579,
          411.49300986842104,
          419.37972861842104,
          324.5504261363636,
          405.14366319444446,
          352.2734375,
          334.57213541666664,
          347.015625,
          261.4566761363636,
          310.2109375,
          373.3046875,
          298.2742820945946,
          442.59995993589746,
          375.2763671875,
          390.32998511904765,
          238.6462673611111,
          312.83984375,
          399.1674408783784,
          295.13854166666664,
          373.1350806451613,
          354.5267857142857,
          444.28515625,
          347.015625,
          312.60085227272725,
          441.65625,
          441.65625,
          142.81355574324323,
          304.10509072580646,
          161.12651209677418,
          122.30129076086956,
          271.82890625,
          404.8515625,
          334.5283203125,
          144.58984375,
          322.4791666666667,
          352.2734375,
          336.5,
          390.5120738636363,
          375.2763671875,
          354.5267857142857,
          334.5283203125,
          294.4375,
          352.2734375,
          368.046875,
          415.3671875,
          391.1134072580645,
          352.2734375,
          330.71640625,
          336.5,
          436.3984375,
          357.53125,
          294.4375,
          410.9619932432432,
          439.02734375,
          162.9921875,
          168.25,
          456.15076013513516,
          168.70066964285715,
          135.28209459459458,
          341.7578125,
          390.5120738636363,
          130.59269425675677,
          206.96661931818184,
          312.83984375,
          271.85983455882354,
          120.9296875,
          173.92290296052633,
          378.32350852272725,
          105.15625,
          136.703125,
          453.87293198529414,
          135.58783143939394,
          125.41429227941175,
          389.36233108108104,
          424.4223090277778,
          220.828125,
          368.2164818548387,
          190.8276654411765,
          458.8636363636363,
          416.32315340909093,
          289.3079268292683,
          152.4765625,
          157.734375,
          325.8460115131579,
          131.4453125,
          411.49300986842104,
          268.44888392857143,
          107.78515625,
          385.36672794117646,
          419.37972861842104,
          327.06290064102564,
          126.1875,
          189.28125,
          324.5504261363636,
          405.14366319444446,
          190.05445772058823,
          126.1875,
          334.57213541666664,
          299.8649193548387,
          153.93706597222223,
          151.53285256410257,
          108.98011363636363,
          205.0546875,
          261.4566761363636,
          178.61957465277777,
          310.2109375,
          152.4765625,
          373.3046875,
          99.8984375,
          148.67925347222223,
          177.451171875,
          147.21875,
          126.03285845588235,
          173.83642578125,
          194.5390625,
          309.296535326087,
          207.08996975806454,
          298.2742820945946,
          442.59995993589746,
          101.47578125,
          375.2763671875,
          390.32998511904765,
          238.6462673611111,
          115.671875,
          249.74609375,
          158.90277777777777,
          481.64749053030306,
          140.30057565789474,
          241.859375,
          377.5109375,
          98.25537109375,
          99.02213541666666,
          164.45269097222223,
          134.7314453125,
          312.83984375,
          224.38986895161293,
          257.3560855263158,
          347.72614020270265,
          446.2767518939394,
          399.1674408783784,
          120.9296875,
          253.60182291666666,
          150.95010080645162,
          115.81023848684211,
          157.734375,
          295.13854166666664,
          189.28125,
          82.8503787878788,
          252.375,
          204.266015625,
          486.01904296875,
          356.4159564393939,
          84.89820772058825,
          336.5,
          184.0234375,
          199.796875,
          110.86473214285714,
          220.65286458333335,
          206.13321314102564,
          80.674560546875,
          169.95878906250002,
          304.10509072580646,
          230.13040865384613,
          147.72757056451613,
          453.39869791666666,
          162.6735321969697,
          269.5052923387097,
          333.1078629032258,
          474.5599798387097,
          444.28515625,
          287.4270833333333,
          119.12700892857144,
          192.08541666666665,
          273.28106398809524,
          235.92748397435895,
          238.6462673611111,
          198.33637152777777,
          141.71056547619048,
          347.015625,
          96.74374999999999,
          171.90125868055554,
          254.82864583333335,
          168.25,
          312.60085227272725,
          255.19168526785714,
          233.97265625,
          185.9951171875,
          202.9515625,
          226.0859375,
          234.26475694444446,
          456.30301339285717,
          168.25,
          411.80544354838713,
          214.46340460526315,
          134.3835018382353,
          417.733203125,
          311.9635416666667,
          131.4453125,
          142.81355574324323,
          168.42526041666665,
          304.10509072580646,
          127.501953125,
          338.9536458333333,
          266.34575892857146,
          178.47352430555554,
          226.0859375,
          176.76264880952382,
          215.5703125,
          269.16607862903226,
          287.53662109375,
          89.3828125,
          218.04457720588235,
          247.59517045454547,
          121.53058035714285,
          161.12651209677418,
          254.478125,
          70.60491071428572,
          220.828125,
          193.48749999999998,
          142.64673913043478,
          398.01640625,
          190.26708984375,
          195.38709677419357,
          255.496826171875,
          178.765625,
          215.5703125,
          174.86466733870967,
          218.57477678571428,
          281.29296875,
          174.69506048387098,
          212.94140625,
          124.7153125,
          132.83708639705884,
          351.50022977941177,
          180.16770833333334,
          232.74583333333334,
          156.31881009615384,
          194.5390625,
          268.3431712962963,
          143.0125,
          286.25868055555554,
          121.40767045454545,
          298.67767137096774,
          213.42824074074076,
          108.52125000000001,
          249.74609375,
          222.40546874999998,
          334.5283203125,
          168.25,
          483.71875,
          187.02790178571428,
          144.26123046875,
          235.85044642857142,
          357.53125,
          502.8380681818182,
          98.70348011363637,
          291.80859375,
          226.0859375,
          205.0546875,
          222.93125,
          237.76996527777777,
          515.265625,
          427.63541666666663,
          189.28125,
          208.998046875,
          438.6517857142857,
          352.2734375,
          347.015625,
          184.16554054054052,
          373.1350806451613,
          204.561767578125,
          354.5267857142857,
          168.25,
          231.34375,
          441.65625,
          153.61338682432432,
          122.30129076086956,
          107.03404017857143,
          97.96134868421052,
          274.64338235294116,
          394.3359375,
          396.08854166666663,
          111.728515625,
          233.3659855769231,
          268.411328125,
          294.4375,
          194.5390625,
          382.06770833333337,
          205.0546875,
          271.6536458333333,
          336.5,
          499.4921875,
          322.4791666666667,
          228.71484375,
          290.9322916666667,
          218.19921875,
          147.21875,
          164.74479166666666,
          194.5390625,
          233.97265625,
          315.46875,
          462.6875,
          199.796875,
          210.3125,
          168.25
         ],
         "y": [
          247.1171875,
          215.5703125,
          265.87005208333335,
          214.13636363636363,
          265.51953125,
          277.6381478658537,
          178.9039884868422,
          151.36965460526312,
          236.6015625,
          231.34375,
          266.833984375,
          250.567626953125,
          226.33630952380955,
          125.85888671875,
          272.65513392857144,
          238.737548828125,
          263.0602318548387,
          247.1171875,
          257.6328125,
          257.6328125,
          173.5078125,
          140.2083333333333,
          141.9609375,
          162.9921875,
          294.4375,
          307.65714285714284,
          146.36613175675677,
          293.4427787162162,
          175.0542279411764,
          184.7966452205883,
          203.01940524193554,
          276.03515625,
          210.3125,
          108.8676470588236,
          241.859375,
          136.703125,
          233.3154296875,
          162.9921875,
          136.703125,
          203.47734374999993,
          209.96197916666668,
          141.9609375,
          247.1171875,
          189.28125,
          162.9921875,
          215.5703125,
          265.87005208333335,
          247.1171875,
          163.485107421875,
          144.58984375,
          184.0234375,
          214.13636363636363,
          265.51953125,
          158.5075827205883,
          181.0852481617647,
          180.2261284722222,
          206.41154233870964,
          277.6381478658537,
          158.70291940789468,
          178.9039884868422,
          151.36965460526312,
          206.4886363636364,
          205.6388888888889,
          236.6015625,
          197.34322916666665,
          231.34375,
          180.1995738636364,
          283.39609375,
          266.833984375,
          179.61824324324323,
          99.76362179487167,
          250.567626953125,
          226.33630952380955,
          154.81336805555563,
          176.13671875,
          211.1651182432434,
          201.5494791666667,
          237.7888104838711,
          272.65513392857144,
          140.38359374999993,
          238.737548828125,
          232.61837121212125,
          194.5390625,
          194.046142578125,
          141.9609375,
          263.0602318548387,
          119.74243951612907,
          123.67289402173913,
          175.08515625000007,
          241.859375,
          257.6328125,
          99.8984375,
          238.3541666666667,
          247.1171875,
          247.1171875,
          214.13636363636363,
          250.567626953125,
          272.65513392857144,
          257.6328125,
          36.8046875,
          247.1171875,
          189.28125,
          162.9921875,
          154.34223790322582,
          215.5703125,
          265.87005208333335,
          247.1171875,
          147.21875,
          141.9609375,
          141.9609375,
          124.76646959459458,
          144.58984375,
          162.9921875,
          294.4375,
          126.89801520270271,
          307.65714285714284,
          146.36613175675677,
          184.0234375,
          214.13636363636363,
          293.4427787162162,
          307.82102272727275,
          265.51953125,
          158.5075827205883,
          194.5390625,
          130.2000411184211,
          127.62144886363633,
          226.0859375,
          257.6328125,
          181.0852481617647,
          296.82741477272725,
          175.0542279411764,
          188.8549408783784,
          180.2261284722222,
          294.4375,
          206.41154233870964,
          184.7966452205883,
          130.01136363636368,
          124.27556818181819,
          277.6381478658537,
          178.765625,
          203.01940524193554,
          158.70291940789468,
          157.734375,
          178.9039884868422,
          124.38482142857136,
          276.03515625,
          130.6721047794117,
          151.36965460526312,
          138.5905448717949,
          210.3125,
          262.890625,
          206.4886363636364,
          205.6388888888889,
          108.8676470588236,
          241.859375,
          197.34322916666665,
          72.93094758064518,
          135.2426215277778,
          99.76362179487181,
          269.58238636363643,
          220.828125,
          180.1995738636364,
          80.32769097222219,
          283.39609375,
          136.703125,
          266.833984375,
          241.859375,
          224.6254340277778,
          233.3154296875,
          173.5078125,
          121.23897058823532,
          78.045654296875,
          276.03515625,
          236.6015625,
          147.5579637096774,
          179.61824324324323,
          99.76362179487167,
          150.02291666666665,
          250.567626953125,
          226.33630952380955,
          154.81336805555563,
          131.4453125,
          281.29296875,
          185.62999131944437,
          166.3380681818182,
          104.32606907894734,
          241.859375,
          172.45625000000007,
          183.859130859375,
          169.4184027777778,
          285.3823784722222,
          252.375,
          176.13671875,
          193.86063508064518,
          295.68277138157896,
          114.39294763513507,
          96.71188446969697,
          211.1651182432434,
          247.1171875,
          206.2815104166666,
          244.57308467741942,
          195.922697368421,
          162.9921875,
          201.5494791666667,
          162.9921875,
          240.7440814393939,
          147.21875,
          299.0380859375,
          125.85888671875,
          88.42684659090907,
          197.63189338235296,
          136.703125,
          157.734375,
          136.703125,
          283.0205357142857,
          264.46796875000007,
          80.7546073717949,
          266.833984375,
          133.5484374999999,
          109.90524193548389,
          300.09975961538464,
          273.06703629032256,
          78.34140624999988,
          265.43986742424244,
          305.4619455645161,
          205.73311491935482,
          164.34904233870972,
          140.38359374999993,
          284.7981770833333,
          241.55892857142862,
          179.46666666666664,
          232.97116815476184,
          63.36338141025637,
          250.4763454861111,
          233.3884548611111,
          298.1930803571429,
          238.737548828125,
          219.4260416666666,
          198.04427083333331,
          258.50911458333337,
          249.74609375,
          232.61837121212125,
          234.53599330357144,
          123.55859375,
          55.20703125,
          99.63554687499995,
          173.5078125,
          119.615234375,
          175.3856026785713,
          98.43793402777781,
          147.38835685483872,
          66.41447368421048,
          142.73414522058812,
          126.71328125000012,
          140.8655598958333,
          180.080078125,
          141.9609375,
          203.47734374999993,
          263.0602318548387,
          167.099853515625,
          115.14609375000003,
          98.09575892857136,
          276.32725694444446,
          165.62109375,
          162.24107142857144,
          170.87890625,
          66.99470766129036,
          152.14794921875,
          144.58984375,
          102.21806066176468,
          191.35250946969688,
          221.87968750000002,
          119.74243951612907,
          57.57304687499994,
          170.12779017857144,
          73.609375,
          114.62031250000005,
          114.75747282608701,
          117.24921875000005,
          225.75732421875,
          85.14264112903223,
          103.51318359375,
          56.78437500000006,
          68.3515625,
          273.74546370967744,
          205.95602678571433,
          202.42578125,
          101.25529233870971,
          50.27783203125,
          96.1128125,
          211.54963235294125,
          173.35317095588235,
          209.96197916666668,
          99.54791666666668,
          199.39242788461536,
          157.734375,
          178.3761574074074,
          272.70520833333336,
          60.17274305555562,
          87.47088068181813,
          135.68548387096777,
          244.19618055555563,
          180.44812499999998,
          215.5703125,
          208.9104166666666,
          257.6328125,
          228.71484375,
          136.703125,
          132.9475446428571,
          214.255859375,
          49.57366071428565,
          147.21875,
          188.80326704545453,
          111.13103693181813,
          52.578125,
          36.8046875,
          52.578125,
          119.87812499999998,
          75.36197916666657,
          173.5078125,
          40.309895833333336,
          63.09375,
          82.810546875,
          100.79977678571431,
          236.6015625,
          231.34375,
          263.7432432432434,
          237.7888104838711,
          258.947265625,
          272.65513392857144,
          126.1875,
          178.765625,
          194.046142578125,
          276.6746199324324,
          123.67289402173913,
          195.66573660714286,
          173.78453947368422,
          270.6227022058823,
          109.53776041666664,
          161.23958333333343,
          258.2900390625,
          33.973557692307644,
          210.3125,
          36.8046875,
          187.77901785714283,
          224.3333333333333,
          94.640625,
          77.11458333333329,
          102.52734375,
          170.87890625,
          238.3541666666667,
          68.3515625,
          140.2083333333333,
          73.609375,
          252.375,
          233.09635416666663,
          152.4765625,
          78.8671875,
          31.546875,
          157.734375,
          141.9609375,
          189.28125,
          289.1796875
         ],
         "z": [
          -282.5,
          -215,
          -282.5,
          -282.5,
          -215,
          -215,
          -350,
          -350,
          -215,
          -215,
          -282.5,
          -215,
          -215,
          -215,
          -215,
          -147.49999999999997,
          -147.49999999999997,
          -282.5,
          -147.49999999999997,
          -282.5,
          -282.5,
          -147.49999999999997,
          -147.49999999999997,
          -80,
          -215,
          -282.5,
          -80,
          -215,
          -80,
          -80,
          -80,
          -215,
          -80,
          -80,
          -147.49999999999997,
          -80,
          -80,
          -12.5,
          -12.5,
          -12.5,
          -147.49999999999997,
          -215,
          -282.5,
          -215,
          -282.5,
          -215,
          -282.5,
          -215,
          -215,
          -282.5,
          -147.49999999999997,
          -282.5,
          -215,
          -80,
          -282.5,
          -215,
          -147.49999999999997,
          -215,
          -147.49999999999997,
          -350,
          -350,
          -147.49999999999997,
          -215,
          -215,
          -215,
          -215,
          -80,
          -282.5,
          -282.5,
          -147.49999999999997,
          -350,
          -215,
          -215,
          -80,
          -80,
          -350,
          -80,
          -350,
          -215,
          -350,
          -147.49999999999997,
          -147.49999999999997,
          -282.5,
          -350,
          -215,
          -147.49999999999997,
          -215,
          -215,
          -12.5,
          -282.5,
          -147.49999999999997,
          -215,
          -80,
          -282.5,
          -215,
          -282.5,
          -215,
          -215,
          -147.49999999999997,
          -80,
          -282.5,
          -215,
          -282.5,
          -282.5,
          -215,
          -282.5,
          -215,
          -215,
          -147.49999999999997,
          -80,
          -215,
          -282.5,
          -80,
          -215,
          -282.5,
          -282.5,
          -80,
          -147.49999999999997,
          -282.5,
          -215,
          -282.5,
          -215,
          -80,
          -147.49999999999997,
          -80,
          -215,
          -147.49999999999997,
          -147.49999999999997,
          -282.5,
          -282.5,
          -80,
          -282.5,
          -215,
          -215,
          -147.49999999999997,
          -80,
          -215,
          -282.5,
          -215,
          -80,
          -80,
          -147.49999999999997,
          -147.49999999999997,
          -350,
          -80,
          -215,
          -147.49999999999997,
          -350,
          -80,
          -80,
          -147.49999999999997,
          -147.49999999999997,
          -215,
          -80,
          -147.49999999999997,
          -215,
          -80,
          -147.49999999999997,
          -80,
          -147.49999999999997,
          -80,
          -80,
          -147.49999999999997,
          -282.5,
          -80,
          -282.5,
          -215,
          -147.49999999999997,
          -80,
          -80,
          -80,
          -80,
          -215,
          -215,
          -80,
          -147.49999999999997,
          -350,
          -80,
          -215,
          -215,
          -80,
          -147.49999999999997,
          -215,
          -147.49999999999997,
          -282.5,
          -147.49999999999997,
          -147.49999999999997,
          -147.49999999999997,
          -80,
          -147.49999999999997,
          -147.49999999999997,
          -215,
          -80,
          -80,
          -282.5,
          -147.49999999999997,
          -282.5,
          -350,
          -147.49999999999997,
          -80,
          -80,
          -215,
          -12.5,
          -80,
          -80,
          -147.49999999999997,
          -12.5,
          -147.49999999999997,
          -215,
          -147.49999999999997,
          -147.49999999999997,
          -147.49999999999997,
          -80,
          -12.5,
          -282.5,
          -147.49999999999997,
          -80,
          -215,
          -12.5,
          -80,
          -282.5,
          -282.5,
          -350,
          -215,
          -215,
          -80,
          -215,
          -350,
          -282.5,
          -80,
          -12.5,
          -147.49999999999997,
          -80,
          -80,
          -147.49999999999997,
          -147.49999999999997,
          -147.49999999999997,
          -80,
          -282.5,
          -215,
          -147.49999999999997,
          -147.49999999999997,
          -80,
          -12.5,
          -80,
          -147.49999999999997,
          -80,
          -80,
          -350,
          -12.5,
          -147.49999999999997,
          -147.49999999999997,
          -12.5,
          -350,
          -147.49999999999997,
          -12.5,
          -215,
          -12.5,
          -147.49999999999997,
          -215,
          -80,
          -80,
          -282.5,
          -12.5,
          -147.49999999999997,
          -80,
          -80,
          -12.5,
          -147.49999999999997,
          -12.5,
          -12.5,
          -215,
          -215,
          -147.49999999999997,
          -147.49999999999997,
          -80,
          -12.5,
          -12.5,
          -147.49999999999997,
          -12.5,
          -12.5,
          -12.5,
          -147.49999999999997,
          -80,
          -80,
          -12.5,
          -147.49999999999997,
          -215,
          -80,
          -80,
          -12.5,
          -80,
          -147.49999999999997,
          -80,
          -215,
          -12.5,
          -147.49999999999997,
          -80,
          -147.49999999999997,
          -147.49999999999997,
          -12.5,
          -350,
          -12.5,
          -147.49999999999997,
          -147.49999999999997,
          -147.49999999999997,
          -282.5,
          -282.5,
          -147.49999999999997,
          -282.5,
          -147.49999999999997,
          -215,
          -282.5,
          -147.49999999999997,
          -80,
          -147.49999999999997,
          -147.49999999999997,
          -215,
          -12.5,
          -282.5,
          -282.5,
          -147.49999999999997,
          -215,
          -215,
          -215,
          -215,
          -350,
          -350,
          -80,
          -215,
          -147.49999999999997,
          -80,
          -350,
          -350,
          -215,
          -282.5,
          -215,
          -147.49999999999997,
          -215,
          -350,
          -80,
          -80,
          -12.5,
          -80,
          -215,
          -147.49999999999997,
          -215,
          -147.49999999999997,
          -147.49999999999997,
          -215,
          -80,
          -215,
          -147.49999999999997,
          -215,
          -12.5,
          -215,
          -147.49999999999997,
          -147.49999999999997,
          -147.49999999999997,
          -350,
          -147.49999999999997,
          -147.49999999999997,
          -80
         ]
        },
        {
         "marker": {
          "color": [
           "maroon",
           "maroon",
           "maroon",
           "maroon",
           "maroon",
           "maroon",
           "maroon",
           "maroon",
           "maroon",
           "maroon",
           "maroon",
           "maroon",
           "maroon",
           "maroon",
           "maroon",
           "maroon",
           "maroon",
           "maroon",
           "maroon",
           "maroon",
           "maroon",
           "maroon",
           "maroon",
           "maroon",
           "maroon",
           "maroon",
           "maroon",
           "maroon",
           "maroon",
           "maroon",
           "maroon",
           "maroon",
           "maroon",
           "maroon",
           "maroon",
           "maroon",
           "maroon",
           "maroon",
           "maroon",
           "maroon",
           "maroon",
           "maroon",
           "maroon",
           "maroon",
           "maroon",
           "maroon",
           "maroon",
           "maroon",
           "maroon",
           "maroon",
           "maroon",
           "maroon",
           "maroon",
           "maroon",
           "maroon",
           "maroon",
           "maroon",
           "maroon",
           "maroon",
           "maroon",
           "maroon",
           "maroon",
           "maroon",
           "maroon",
           "maroon",
           "maroon",
           "maroon",
           "maroon",
           "maroon",
           "maroon"
          ],
          "opacity": 1,
          "size": [
           8.471240997314453,
           3.187441825866699,
           3.05546236038208,
           4.1740851402282715,
           9.257493019104004,
           3.612295627593994,
           3.0850882530212402,
           4.695322513580322,
           6.184306621551514,
           2.701742649078369,
           2.920046091079712,
           4.357815265655518,
           3.504779815673828,
           3.822422981262207,
           5.488548278808594,
           3.9534523487091064,
           5.225104808807373,
           2.8888983726501465,
           3.4196648597717285,
           16.84963035583496,
           16.594764709472656,
           7.141833305358887,
           6.945498943328857,
           11.857854843139648,
           23.544361114501953,
           15.67708969116211,
           8.611940383911133,
           4.691732406616211,
           19.358049392700195,
           9.917287826538086,
           14.646324157714844,
           9.33202838897705,
           4.513580799102783,
           4.465725898742676,
           5.632926940917969,
           4.156125068664551,
           5.830604553222656,
           6.18307638168335,
           5.670929431915283,
           8.773237228393555,
           4.149898529052734,
           3.620553731918335,
           5.273541450500488,
           8.268338203430176,
           10.143619537353516,
           19.855012893676758,
           4.213404655456543,
           3.876044273376465,
           6.155831336975098,
           5.689329147338867,
           5.3471574783325195,
           4.962255954742432,
           6.191381931304932,
           6.88013219833374,
           6.015201091766357,
           10.573495864868164,
           8.836328506469727,
           5.275125980377197,
           3.3442397117614746,
           4.258393287658691,
           3.6487045288085938,
           4.988466739654541,
           6.176577091217041,
           7.072978496551514,
           6.893202781677246,
           5.268441677093506,
           4.07116174697876,
           5.378487586975098,
           3.566650152206421,
           4.061659336090088
          ]
         },
         "mode": "markers",
         "name": "dots_ON",
         "scene": "scene2",
         "type": "scatter3d",
         "x": [
          162.9921875,
          168.25,
          168.70066964285715,
          135.28209459459458,
          130.59269425675677,
          125.41429227941175,
          190.8276654411765,
          157.734375,
          107.78515625,
          126.1875,
          190.05445772058823,
          126.1875,
          152.4765625,
          177.451171875,
          157.734375,
          199.796875,
          168.42526041666665,
          180.16770833333334,
          247.1171875,
          352.2734375,
          368.046875,
          415.3671875,
          352.2734375,
          330.71640625,
          336.5,
          370.0185546875,
          439.02734375,
          341.7578125,
          390.5120738636363,
          312.83984375,
          271.85983455882354,
          453.87293198529414,
          424.4223090277778,
          368.2164818548387,
          289.3079268292683,
          325.8460115131579,
          411.49300986842104,
          419.37972861842104,
          324.5504261363636,
          405.14366319444446,
          352.2734375,
          334.57213541666664,
          347.015625,
          261.4566761363636,
          310.2109375,
          373.3046875,
          298.2742820945946,
          442.59995993589746,
          375.2763671875,
          390.32998511904765,
          238.6462673611111,
          312.83984375,
          399.1674408783784,
          295.13854166666664,
          373.1350806451613,
          354.5267857142857,
          444.28515625,
          347.015625,
          312.60085227272725,
          441.65625,
          441.65625,
          142.81355574324323,
          304.10509072580646,
          161.12651209677418,
          122.30129076086956,
          271.82890625,
          404.8515625,
          334.5283203125,
          144.58984375,
          322.4791666666667
         ],
         "y": [
          162.9921875,
          294.4375,
          307.65714285714284,
          146.36613175675677,
          293.4427787162162,
          175.0542279411764,
          184.7966452205883,
          203.01940524193554,
          276.03515625,
          210.3125,
          108.8676470588236,
          241.859375,
          136.703125,
          233.3154296875,
          162.9921875,
          136.703125,
          203.47734374999993,
          209.96197916666668,
          141.9609375,
          247.1171875,
          189.28125,
          162.9921875,
          215.5703125,
          265.87005208333335,
          247.1171875,
          163.485107421875,
          144.58984375,
          184.0234375,
          214.13636363636363,
          265.51953125,
          158.5075827205883,
          181.0852481617647,
          180.2261284722222,
          206.41154233870964,
          277.6381478658537,
          158.70291940789468,
          178.9039884868422,
          151.36965460526312,
          206.4886363636364,
          205.6388888888889,
          236.6015625,
          197.34322916666665,
          231.34375,
          180.1995738636364,
          283.39609375,
          266.833984375,
          179.61824324324323,
          99.76362179487167,
          250.567626953125,
          226.33630952380955,
          154.81336805555563,
          176.13671875,
          211.1651182432434,
          201.5494791666667,
          237.7888104838711,
          272.65513392857144,
          140.38359374999993,
          238.737548828125,
          232.61837121212125,
          194.5390625,
          194.046142578125,
          141.9609375,
          263.0602318548387,
          119.74243951612907,
          123.67289402173913,
          175.08515625000007,
          241.859375,
          257.6328125,
          99.8984375,
          238.3541666666667
         ],
         "z": [
          -80,
          -215,
          -282.5,
          -80,
          -215,
          -80,
          -80,
          -80,
          -215,
          -80,
          -80,
          -147.49999999999997,
          -80,
          -80,
          -12.5,
          -12.5,
          -12.5,
          -147.49999999999997,
          -215,
          -282.5,
          -215,
          -282.5,
          -215,
          -282.5,
          -215,
          -215,
          -282.5,
          -147.49999999999997,
          -282.5,
          -215,
          -80,
          -282.5,
          -215,
          -147.49999999999997,
          -215,
          -147.49999999999997,
          -350,
          -350,
          -147.49999999999997,
          -215,
          -215,
          -215,
          -215,
          -80,
          -282.5,
          -282.5,
          -147.49999999999997,
          -350,
          -215,
          -215,
          -80,
          -80,
          -350,
          -80,
          -350,
          -215,
          -350,
          -147.49999999999997,
          -147.49999999999997,
          -282.5,
          -350,
          -215,
          -147.49999999999997,
          -215,
          -215,
          -12.5,
          -282.5,
          -147.49999999999997,
          -215,
          -80
         ]
        },
        {
         "marker": {
          "color": "gray",
          "opacity": 0.8,
          "size": [
           10.589035034179688,
           6.218621253967285,
           5.155450820922852,
           14.85568904876709,
           8.286933898925781,
           3.9804019927978516,
           3.305337905883789,
           3.716305732727051,
           4.30157470703125,
           6.250781059265137,
           19.790559768676758,
           8.526537895202637,
           7.08749532699585,
           3.460131883621216,
           4.427830219268799,
           4.9618377685546875,
           6.029113292694092,
           5.127704620361328,
           5.487027645111084,
           4.035541534423828,
           3.701115131378174,
           3.9109582901000977,
           4.154303550720215,
           8.471240997314453,
           3.187441825866699,
           3.05546236038208,
           4.1740851402282715,
           9.257493019104004,
           3.612295627593994,
           3.0850882530212402,
           4.695322513580322,
           6.184306621551514,
           2.701742649078369,
           2.920046091079712,
           4.357815265655518,
           3.504779815673828,
           3.822422981262207,
           5.488548278808594,
           3.9534523487091064,
           5.225104808807373,
           2.8888983726501465,
           3.4196648597717285,
           16.84963035583496,
           16.594764709472656,
           7.141833305358887,
           6.945498943328857,
           11.857854843139648,
           23.544361114501953,
           15.67708969116211,
           8.611940383911133,
           4.691732406616211,
           19.358049392700195,
           9.917287826538086,
           14.646324157714844,
           9.33202838897705,
           4.513580799102783,
           4.465725898742676,
           5.632926940917969,
           4.156125068664551,
           5.830604553222656,
           6.18307638168335,
           5.670929431915283,
           8.773237228393555,
           4.149898529052734,
           3.620553731918335,
           5.273541450500488,
           8.268338203430176,
           10.143619537353516,
           19.855012893676758,
           4.213404655456543,
           3.876044273376465,
           6.155831336975098,
           5.689329147338867,
           5.3471574783325195,
           4.962255954742432,
           6.191381931304932,
           6.88013219833374,
           6.015201091766357,
           10.573495864868164,
           8.836328506469727,
           5.275125980377197,
           3.3442397117614746,
           4.258393287658691,
           3.6487045288085938,
           4.988466739654541,
           6.176577091217041,
           7.072978496551514,
           6.893202781677246,
           5.268441677093506,
           4.07116174697876,
           5.378487586975098,
           3.566650152206421,
           4.061659336090088,
           2.7359256744384766,
           9.927889823913574,
           10.249993324279785,
           5.648736953735352,
           3.4031243324279785,
           3.696826219558716,
           3.9556326866149902,
           10.338608741760254,
           24.767763137817383,
           5.901456832885742,
           6.478878974914551,
           11.594075202941895,
           6.982669830322266,
           15.892284393310547,
           9.773479461669922,
           3.8250041007995605,
           6.6063714027404785,
           15.055237770080566,
           22.887767791748047,
           24.047718048095703,
           7.5303449630737305,
           9.334420204162598,
           6.42064094543457,
           17.13188934326172,
           9.830241203308105,
           15.399421691894531,
           16.073917388916016,
           5.188131332397461,
           7.203075885772705,
           18.15721321105957,
           11.615859985351562,
           15.627677917480469,
           13.481653213500977,
           10.067110061645508,
           10.311179161071777,
           11.741588592529297,
           4.902078628540039,
           13.587697982788086,
           4.741844177246094,
           4.08098840713501,
           2.384910821914673,
           7.629472732543945,
           15.025091171264648,
           6.307724952697754,
           6.306813716888428,
           7.436332702636719,
           2.7431297302246094,
           10.46548080444336,
           14.11571216583252,
           16.08859634399414,
           4.0375189781188965,
           17.86319923400879,
           14.98731517791748,
           6.983373641967773,
           12.399577140808105,
           4.574155807495117,
           8.627947807312012,
           5.099798679351807,
           6.802011489868164,
           6.294689178466797,
           26.13726043701172,
           7.446321487426758,
           8.810159683227539,
           2.496588706970215,
           11.356289863586426,
           17.111236572265625,
           6.4383463859558105,
           8.759565353393555,
           11.99002742767334,
           11.34766960144043,
           7.75411319732666,
           6.333316802978516,
           13.192100524902344,
           6.579396724700928,
           9.00655460357666,
           9.828542709350586,
           5.055225849151611,
           12.598780632019043,
           10.533114433288574,
           5.2517924308776855,
           4.417933464050293,
           21.79373550415039,
           9.504983901977539,
           8.417570114135742,
           4.813125133514404,
           5.494150638580322,
           8.999076843261719,
           17.70669937133789,
           16.73088836669922,
           4.028801441192627,
           10.694815635681152,
           8.125862121582031,
           10.019861221313477,
           4.375151634216309,
           5.413007736206055,
           8.448030471801758,
           6.230181694030762,
           5.433502674102783,
           7.06812858581543,
           3.9136693477630615,
           15.39416790008545,
           4.225526809692383,
           3.817723512649536,
           5.618614196777344,
           3.6827731132507324,
           2.6686713695526123,
           7.542620658874512,
           5.941032409667969,
           9.582672119140625,
           13.19965934753418,
           9.267902374267578,
           7.54175329208374,
           4.327293395996094,
           4.560691833496094,
           2.6074280738830566,
           13.49304485321045,
           4.926395416259766,
           10.38177490234375,
           3.2890090942382812,
           6.357417583465576,
           21.690044403076172,
           6.002292633056641,
           6.520046710968018,
           12.464139938354492,
           3.9061927795410156,
           11.14963436126709,
           24.031139373779297,
           4.201621055603027,
           4.303802013397217,
           15.517858505249023,
           5.425885200500488,
           2.9251065254211426,
           6.004643440246582,
           7.535918235778809,
           16.11746597290039,
           5.1198320388793945,
           6.573269844055176,
           7.892664432525635,
           5.103242874145508,
           10.459051132202148,
           5.401345729827881,
           8.927013397216797,
           3.962110996246338,
           4.599180221557617,
           8.391921043395996,
           6.336604118347168,
           4.851906776428223,
           4.63528299331665,
           3.299187183380127,
           5.464809417724609,
           6.83517599105835,
           5.746155738830566,
           9.48658561706543,
           3.6358964443206787,
           19.274438858032227,
           7.941741466522217,
           7.129255294799805,
           5.214738368988037,
           8.389724731445312,
           10.5166015625,
           2.8391098976135254,
           4.791495323181152,
           6.337682247161865,
           5.330364227294922,
           11.497051239013672,
           6.636289596557617,
           6.435261249542236,
           9.691394805908203,
           8.97209358215332,
           8.400100708007812,
           9.567031860351562,
           8.725743293762207,
           8.952533721923828,
           8.382956504821777,
           2.6987099647521973,
           7.280902862548828,
           6.181524276733398,
           11.00547981262207,
           3.682776689529419,
           8.373043060302734,
           3.701460838317871,
           5.425652503967285,
           7.35902738571167,
           6.071252822875977,
           9.37458324432373,
           10.150431632995605,
           4.915378093719482,
           4.927249908447266,
           5.746761322021484,
           5.11080265045166,
           3.7033939361572266,
           8.128236770629883,
           12.217397689819336,
           6.976236343383789,
           14.980727195739746,
           6.014949798583984,
           4.75053596496582,
           6.1902899742126465,
           2.720330238342285,
           11.131868362426758,
           9.080062866210938,
           11.262271881103516,
           2.812110424041748,
           3.7292912006378174,
           3.2323827743530273,
           4.266297817230225,
           3.6745619773864746,
           3.2037367820739746,
           3.9336812496185303,
           7.97591495513916,
           5.397315502166748,
           6.926199436187744,
           3.3670382499694824,
           3.5308938026428223,
           2.7538938522338867,
           4.282059669494629,
           2.764582633972168,
           4.490817070007324,
           5.708761215209961,
           4.01408052444458,
           5.214493274688721,
           4.184277057647705,
           5.279101371765137,
           3.404996871948242,
           4.112420558929443,
           8.27925968170166,
           6.554632663726807,
           4.153762340545654,
           4.471513271331787,
           3.3041999340057373,
           3.510012626647949,
           2.372642755508423,
           3.0460011959075928,
           4.354065895080566,
           3.704603672027588,
           5.487246990203857,
           4.698363780975342,
           5.210483074188232,
           4.335058212280273,
           5.361677646636963,
           3.801766872406006,
           3.5234146118164062,
           6.532958984375,
           4.159725189208984,
           4.552316665649414,
           2.5459022521972656,
           4.274810791015625,
           3.246263265609741,
           4.210559368133545,
           8.009350776672363,
           7.896945953369141,
           3.3225409984588623,
           3.2933104038238525,
           3.267864942550659,
           3.1659088134765625,
           2.816086530685425,
           3.9864065647125244,
           3.7021634578704834,
           4.0249481201171875,
           4.763010501861572,
           2.3749985694885254,
           4.460077285766602,
           3.170435667037964,
           3.0694165229797363,
           3.2727675437927246,
           3.217243194580078,
           2.616738796234131,
           2.5693740844726562,
           2.678385019302368,
           3.134148597717285
          ]
         },
         "mode": "markers",
         "name": "",
         "scene": "scene3",
         "type": "scatter3d",
         "x": [
          352.2734375,
          352.2734375,
          330.71640625,
          390.5120738636363,
          312.83984375,
          289.3079268292683,
          411.49300986842104,
          419.37972861842104,
          352.2734375,
          347.015625,
          373.3046875,
          375.2763671875,
          390.32998511904765,
          486.01904296875,
          354.5267857142857,
          347.015625,
          304.10509072580646,
          399.59375,
          334.5283203125,
          304.953125,
          515.265625,
          290.9322916666667,
          441.65625,
          162.9921875,
          168.25,
          168.70066964285715,
          135.28209459459458,
          130.59269425675677,
          125.41429227941175,
          190.8276654411765,
          157.734375,
          107.78515625,
          126.1875,
          190.05445772058823,
          126.1875,
          152.4765625,
          177.451171875,
          157.734375,
          199.796875,
          168.42526041666665,
          180.16770833333334,
          247.1171875,
          352.2734375,
          368.046875,
          415.3671875,
          352.2734375,
          330.71640625,
          336.5,
          370.0185546875,
          439.02734375,
          341.7578125,
          390.5120738636363,
          312.83984375,
          271.85983455882354,
          453.87293198529414,
          424.4223090277778,
          368.2164818548387,
          289.3079268292683,
          325.8460115131579,
          411.49300986842104,
          419.37972861842104,
          324.5504261363636,
          405.14366319444446,
          352.2734375,
          334.57213541666664,
          347.015625,
          261.4566761363636,
          310.2109375,
          373.3046875,
          298.2742820945946,
          442.59995993589746,
          375.2763671875,
          390.32998511904765,
          238.6462673611111,
          312.83984375,
          399.1674408783784,
          295.13854166666664,
          373.1350806451613,
          354.5267857142857,
          444.28515625,
          347.015625,
          312.60085227272725,
          441.65625,
          441.65625,
          142.81355574324323,
          304.10509072580646,
          161.12651209677418,
          122.30129076086956,
          271.82890625,
          404.8515625,
          334.5283203125,
          144.58984375,
          322.4791666666667,
          352.2734375,
          336.5,
          390.5120738636363,
          375.2763671875,
          354.5267857142857,
          334.5283203125,
          294.4375,
          352.2734375,
          368.046875,
          415.3671875,
          391.1134072580645,
          352.2734375,
          330.71640625,
          336.5,
          436.3984375,
          357.53125,
          294.4375,
          410.9619932432432,
          439.02734375,
          162.9921875,
          168.25,
          456.15076013513516,
          168.70066964285715,
          135.28209459459458,
          341.7578125,
          390.5120738636363,
          130.59269425675677,
          206.96661931818184,
          312.83984375,
          271.85983455882354,
          120.9296875,
          173.92290296052633,
          378.32350852272725,
          105.15625,
          136.703125,
          453.87293198529414,
          135.58783143939394,
          125.41429227941175,
          389.36233108108104,
          424.4223090277778,
          220.828125,
          368.2164818548387,
          190.8276654411765,
          458.8636363636363,
          416.32315340909093,
          289.3079268292683,
          152.4765625,
          157.734375,
          325.8460115131579,
          131.4453125,
          411.49300986842104,
          268.44888392857143,
          107.78515625,
          385.36672794117646,
          419.37972861842104,
          327.06290064102564,
          126.1875,
          189.28125,
          324.5504261363636,
          405.14366319444446,
          190.05445772058823,
          126.1875,
          334.57213541666664,
          299.8649193548387,
          153.93706597222223,
          151.53285256410257,
          108.98011363636363,
          205.0546875,
          261.4566761363636,
          178.61957465277777,
          310.2109375,
          152.4765625,
          373.3046875,
          99.8984375,
          148.67925347222223,
          177.451171875,
          147.21875,
          126.03285845588235,
          173.83642578125,
          194.5390625,
          309.296535326087,
          207.08996975806454,
          298.2742820945946,
          442.59995993589746,
          101.47578125,
          375.2763671875,
          390.32998511904765,
          238.6462673611111,
          115.671875,
          249.74609375,
          158.90277777777777,
          481.64749053030306,
          140.30057565789474,
          241.859375,
          377.5109375,
          98.25537109375,
          99.02213541666666,
          164.45269097222223,
          134.7314453125,
          312.83984375,
          224.38986895161293,
          257.3560855263158,
          347.72614020270265,
          446.2767518939394,
          399.1674408783784,
          120.9296875,
          253.60182291666666,
          150.95010080645162,
          115.81023848684211,
          157.734375,
          295.13854166666664,
          189.28125,
          82.8503787878788,
          252.375,
          204.266015625,
          486.01904296875,
          356.4159564393939,
          84.89820772058825,
          336.5,
          184.0234375,
          199.796875,
          110.86473214285714,
          220.65286458333335,
          206.13321314102564,
          80.674560546875,
          169.95878906250002,
          304.10509072580646,
          230.13040865384613,
          147.72757056451613,
          453.39869791666666,
          162.6735321969697,
          269.5052923387097,
          333.1078629032258,
          474.5599798387097,
          444.28515625,
          287.4270833333333,
          119.12700892857144,
          192.08541666666665,
          273.28106398809524,
          235.92748397435895,
          238.6462673611111,
          198.33637152777777,
          141.71056547619048,
          347.015625,
          96.74374999999999,
          171.90125868055554,
          254.82864583333335,
          168.25,
          312.60085227272725,
          255.19168526785714,
          233.97265625,
          185.9951171875,
          202.9515625,
          226.0859375,
          234.26475694444446,
          456.30301339285717,
          168.25,
          411.80544354838713,
          214.46340460526315,
          134.3835018382353,
          417.733203125,
          311.9635416666667,
          131.4453125,
          142.81355574324323,
          168.42526041666665,
          304.10509072580646,
          127.501953125,
          338.9536458333333,
          266.34575892857146,
          178.47352430555554,
          226.0859375,
          176.76264880952382,
          215.5703125,
          269.16607862903226,
          287.53662109375,
          89.3828125,
          218.04457720588235,
          247.59517045454547,
          121.53058035714285,
          161.12651209677418,
          254.478125,
          70.60491071428572,
          220.828125,
          193.48749999999998,
          142.64673913043478,
          398.01640625,
          190.26708984375,
          195.38709677419357,
          255.496826171875,
          178.765625,
          215.5703125,
          174.86466733870967,
          218.57477678571428,
          281.29296875,
          174.69506048387098,
          212.94140625,
          124.7153125,
          132.83708639705884,
          351.50022977941177,
          180.16770833333334,
          232.74583333333334,
          156.31881009615384,
          194.5390625,
          268.3431712962963,
          143.0125,
          286.25868055555554,
          121.40767045454545,
          298.67767137096774,
          213.42824074074076,
          108.52125000000001,
          249.74609375,
          222.40546874999998,
          334.5283203125,
          168.25,
          483.71875,
          187.02790178571428,
          144.26123046875,
          235.85044642857142,
          357.53125,
          502.8380681818182,
          98.70348011363637,
          291.80859375,
          226.0859375,
          205.0546875,
          222.93125,
          237.76996527777777,
          515.265625,
          427.63541666666663,
          189.28125,
          208.998046875,
          438.6517857142857,
          352.2734375,
          347.015625,
          184.16554054054052,
          373.1350806451613,
          204.561767578125,
          354.5267857142857,
          168.25,
          231.34375,
          441.65625,
          153.61338682432432,
          122.30129076086956,
          107.03404017857143,
          97.96134868421052,
          274.64338235294116,
          394.3359375,
          396.08854166666663,
          111.728515625,
          233.3659855769231,
          268.411328125,
          294.4375,
          194.5390625,
          382.06770833333337,
          205.0546875,
          271.6536458333333,
          336.5,
          499.4921875,
          322.4791666666667,
          228.71484375,
          290.9322916666667,
          218.19921875,
          147.21875,
          164.74479166666666,
          194.5390625,
          233.97265625,
          315.46875,
          462.6875,
          199.796875,
          210.3125,
          168.25
         ],
         "y": [
          247.1171875,
          215.5703125,
          265.87005208333335,
          214.13636363636363,
          265.51953125,
          277.6381478658537,
          178.9039884868422,
          151.36965460526312,
          236.6015625,
          231.34375,
          266.833984375,
          250.567626953125,
          226.33630952380955,
          125.85888671875,
          272.65513392857144,
          238.737548828125,
          263.0602318548387,
          247.1171875,
          257.6328125,
          257.6328125,
          173.5078125,
          140.2083333333333,
          141.9609375,
          162.9921875,
          294.4375,
          307.65714285714284,
          146.36613175675677,
          293.4427787162162,
          175.0542279411764,
          184.7966452205883,
          203.01940524193554,
          276.03515625,
          210.3125,
          108.8676470588236,
          241.859375,
          136.703125,
          233.3154296875,
          162.9921875,
          136.703125,
          203.47734374999993,
          209.96197916666668,
          141.9609375,
          247.1171875,
          189.28125,
          162.9921875,
          215.5703125,
          265.87005208333335,
          247.1171875,
          163.485107421875,
          144.58984375,
          184.0234375,
          214.13636363636363,
          265.51953125,
          158.5075827205883,
          181.0852481617647,
          180.2261284722222,
          206.41154233870964,
          277.6381478658537,
          158.70291940789468,
          178.9039884868422,
          151.36965460526312,
          206.4886363636364,
          205.6388888888889,
          236.6015625,
          197.34322916666665,
          231.34375,
          180.1995738636364,
          283.39609375,
          266.833984375,
          179.61824324324323,
          99.76362179487167,
          250.567626953125,
          226.33630952380955,
          154.81336805555563,
          176.13671875,
          211.1651182432434,
          201.5494791666667,
          237.7888104838711,
          272.65513392857144,
          140.38359374999993,
          238.737548828125,
          232.61837121212125,
          194.5390625,
          194.046142578125,
          141.9609375,
          263.0602318548387,
          119.74243951612907,
          123.67289402173913,
          175.08515625000007,
          241.859375,
          257.6328125,
          99.8984375,
          238.3541666666667,
          247.1171875,
          247.1171875,
          214.13636363636363,
          250.567626953125,
          272.65513392857144,
          257.6328125,
          36.8046875,
          247.1171875,
          189.28125,
          162.9921875,
          154.34223790322582,
          215.5703125,
          265.87005208333335,
          247.1171875,
          147.21875,
          141.9609375,
          141.9609375,
          124.76646959459458,
          144.58984375,
          162.9921875,
          294.4375,
          126.89801520270271,
          307.65714285714284,
          146.36613175675677,
          184.0234375,
          214.13636363636363,
          293.4427787162162,
          307.82102272727275,
          265.51953125,
          158.5075827205883,
          194.5390625,
          130.2000411184211,
          127.62144886363633,
          226.0859375,
          257.6328125,
          181.0852481617647,
          296.82741477272725,
          175.0542279411764,
          188.8549408783784,
          180.2261284722222,
          294.4375,
          206.41154233870964,
          184.7966452205883,
          130.01136363636368,
          124.27556818181819,
          277.6381478658537,
          178.765625,
          203.01940524193554,
          158.70291940789468,
          157.734375,
          178.9039884868422,
          124.38482142857136,
          276.03515625,
          130.6721047794117,
          151.36965460526312,
          138.5905448717949,
          210.3125,
          262.890625,
          206.4886363636364,
          205.6388888888889,
          108.8676470588236,
          241.859375,
          197.34322916666665,
          72.93094758064518,
          135.2426215277778,
          99.76362179487181,
          269.58238636363643,
          220.828125,
          180.1995738636364,
          80.32769097222219,
          283.39609375,
          136.703125,
          266.833984375,
          241.859375,
          224.6254340277778,
          233.3154296875,
          173.5078125,
          121.23897058823532,
          78.045654296875,
          276.03515625,
          236.6015625,
          147.5579637096774,
          179.61824324324323,
          99.76362179487167,
          150.02291666666665,
          250.567626953125,
          226.33630952380955,
          154.81336805555563,
          131.4453125,
          281.29296875,
          185.62999131944437,
          166.3380681818182,
          104.32606907894734,
          241.859375,
          172.45625000000007,
          183.859130859375,
          169.4184027777778,
          285.3823784722222,
          252.375,
          176.13671875,
          193.86063508064518,
          295.68277138157896,
          114.39294763513507,
          96.71188446969697,
          211.1651182432434,
          247.1171875,
          206.2815104166666,
          244.57308467741942,
          195.922697368421,
          162.9921875,
          201.5494791666667,
          162.9921875,
          240.7440814393939,
          147.21875,
          299.0380859375,
          125.85888671875,
          88.42684659090907,
          197.63189338235296,
          136.703125,
          157.734375,
          136.703125,
          283.0205357142857,
          264.46796875000007,
          80.7546073717949,
          266.833984375,
          133.5484374999999,
          109.90524193548389,
          300.09975961538464,
          273.06703629032256,
          78.34140624999988,
          265.43986742424244,
          305.4619455645161,
          205.73311491935482,
          164.34904233870972,
          140.38359374999993,
          284.7981770833333,
          241.55892857142862,
          179.46666666666664,
          232.97116815476184,
          63.36338141025637,
          250.4763454861111,
          233.3884548611111,
          298.1930803571429,
          238.737548828125,
          219.4260416666666,
          198.04427083333331,
          258.50911458333337,
          249.74609375,
          232.61837121212125,
          234.53599330357144,
          123.55859375,
          55.20703125,
          99.63554687499995,
          173.5078125,
          119.615234375,
          175.3856026785713,
          98.43793402777781,
          147.38835685483872,
          66.41447368421048,
          142.73414522058812,
          126.71328125000012,
          140.8655598958333,
          180.080078125,
          141.9609375,
          203.47734374999993,
          263.0602318548387,
          167.099853515625,
          115.14609375000003,
          98.09575892857136,
          276.32725694444446,
          165.62109375,
          162.24107142857144,
          170.87890625,
          66.99470766129036,
          152.14794921875,
          144.58984375,
          102.21806066176468,
          191.35250946969688,
          221.87968750000002,
          119.74243951612907,
          57.57304687499994,
          170.12779017857144,
          73.609375,
          114.62031250000005,
          114.75747282608701,
          117.24921875000005,
          225.75732421875,
          85.14264112903223,
          103.51318359375,
          56.78437500000006,
          68.3515625,
          273.74546370967744,
          205.95602678571433,
          202.42578125,
          101.25529233870971,
          50.27783203125,
          96.1128125,
          211.54963235294125,
          173.35317095588235,
          209.96197916666668,
          99.54791666666668,
          199.39242788461536,
          157.734375,
          178.3761574074074,
          272.70520833333336,
          60.17274305555562,
          87.47088068181813,
          135.68548387096777,
          244.19618055555563,
          180.44812499999998,
          215.5703125,
          208.9104166666666,
          257.6328125,
          228.71484375,
          136.703125,
          132.9475446428571,
          214.255859375,
          49.57366071428565,
          147.21875,
          188.80326704545453,
          111.13103693181813,
          52.578125,
          36.8046875,
          52.578125,
          119.87812499999998,
          75.36197916666657,
          173.5078125,
          40.309895833333336,
          63.09375,
          82.810546875,
          100.79977678571431,
          236.6015625,
          231.34375,
          263.7432432432434,
          237.7888104838711,
          258.947265625,
          272.65513392857144,
          126.1875,
          178.765625,
          194.046142578125,
          276.6746199324324,
          123.67289402173913,
          195.66573660714286,
          173.78453947368422,
          270.6227022058823,
          109.53776041666664,
          161.23958333333343,
          258.2900390625,
          33.973557692307644,
          210.3125,
          36.8046875,
          187.77901785714283,
          224.3333333333333,
          94.640625,
          77.11458333333329,
          102.52734375,
          170.87890625,
          238.3541666666667,
          68.3515625,
          140.2083333333333,
          73.609375,
          252.375,
          233.09635416666663,
          152.4765625,
          78.8671875,
          31.546875,
          157.734375,
          141.9609375,
          189.28125,
          289.1796875
         ],
         "z": [
          -282.5,
          -215,
          -282.5,
          -282.5,
          -215,
          -215,
          -350,
          -350,
          -215,
          -215,
          -282.5,
          -215,
          -215,
          -215,
          -215,
          -147.49999999999997,
          -147.49999999999997,
          -282.5,
          -147.49999999999997,
          -282.5,
          -282.5,
          -147.49999999999997,
          -147.49999999999997,
          -80,
          -215,
          -282.5,
          -80,
          -215,
          -80,
          -80,
          -80,
          -215,
          -80,
          -80,
          -147.49999999999997,
          -80,
          -80,
          -12.5,
          -12.5,
          -12.5,
          -147.49999999999997,
          -215,
          -282.5,
          -215,
          -282.5,
          -215,
          -282.5,
          -215,
          -215,
          -282.5,
          -147.49999999999997,
          -282.5,
          -215,
          -80,
          -282.5,
          -215,
          -147.49999999999997,
          -215,
          -147.49999999999997,
          -350,
          -350,
          -147.49999999999997,
          -215,
          -215,
          -215,
          -215,
          -80,
          -282.5,
          -282.5,
          -147.49999999999997,
          -350,
          -215,
          -215,
          -80,
          -80,
          -350,
          -80,
          -350,
          -215,
          -350,
          -147.49999999999997,
          -147.49999999999997,
          -282.5,
          -350,
          -215,
          -147.49999999999997,
          -215,
          -215,
          -12.5,
          -282.5,
          -147.49999999999997,
          -215,
          -80,
          -282.5,
          -215,
          -282.5,
          -215,
          -215,
          -147.49999999999997,
          -80,
          -282.5,
          -215,
          -282.5,
          -282.5,
          -215,
          -282.5,
          -215,
          -215,
          -147.49999999999997,
          -80,
          -215,
          -282.5,
          -80,
          -215,
          -282.5,
          -282.5,
          -80,
          -147.49999999999997,
          -282.5,
          -215,
          -282.5,
          -215,
          -80,
          -147.49999999999997,
          -80,
          -215,
          -147.49999999999997,
          -147.49999999999997,
          -282.5,
          -282.5,
          -80,
          -282.5,
          -215,
          -215,
          -147.49999999999997,
          -80,
          -215,
          -282.5,
          -215,
          -80,
          -80,
          -147.49999999999997,
          -147.49999999999997,
          -350,
          -80,
          -215,
          -147.49999999999997,
          -350,
          -80,
          -80,
          -147.49999999999997,
          -147.49999999999997,
          -215,
          -80,
          -147.49999999999997,
          -215,
          -80,
          -147.49999999999997,
          -80,
          -147.49999999999997,
          -80,
          -80,
          -147.49999999999997,
          -282.5,
          -80,
          -282.5,
          -215,
          -147.49999999999997,
          -80,
          -80,
          -80,
          -80,
          -215,
          -215,
          -80,
          -147.49999999999997,
          -350,
          -80,
          -215,
          -215,
          -80,
          -147.49999999999997,
          -215,
          -147.49999999999997,
          -282.5,
          -147.49999999999997,
          -147.49999999999997,
          -147.49999999999997,
          -80,
          -147.49999999999997,
          -147.49999999999997,
          -215,
          -80,
          -80,
          -282.5,
          -147.49999999999997,
          -282.5,
          -350,
          -147.49999999999997,
          -80,
          -80,
          -215,
          -12.5,
          -80,
          -80,
          -147.49999999999997,
          -12.5,
          -147.49999999999997,
          -215,
          -147.49999999999997,
          -147.49999999999997,
          -147.49999999999997,
          -80,
          -12.5,
          -282.5,
          -147.49999999999997,
          -80,
          -215,
          -12.5,
          -80,
          -282.5,
          -282.5,
          -350,
          -215,
          -215,
          -80,
          -215,
          -350,
          -282.5,
          -80,
          -12.5,
          -147.49999999999997,
          -80,
          -80,
          -147.49999999999997,
          -147.49999999999997,
          -147.49999999999997,
          -80,
          -282.5,
          -215,
          -147.49999999999997,
          -147.49999999999997,
          -80,
          -12.5,
          -80,
          -147.49999999999997,
          -80,
          -80,
          -350,
          -12.5,
          -147.49999999999997,
          -147.49999999999997,
          -12.5,
          -350,
          -147.49999999999997,
          -12.5,
          -215,
          -12.5,
          -147.49999999999997,
          -215,
          -80,
          -80,
          -282.5,
          -12.5,
          -147.49999999999997,
          -80,
          -80,
          -12.5,
          -147.49999999999997,
          -12.5,
          -12.5,
          -215,
          -215,
          -147.49999999999997,
          -147.49999999999997,
          -80,
          -12.5,
          -12.5,
          -147.49999999999997,
          -12.5,
          -12.5,
          -12.5,
          -147.49999999999997,
          -80,
          -80,
          -12.5,
          -147.49999999999997,
          -215,
          -80,
          -80,
          -12.5,
          -80,
          -147.49999999999997,
          -80,
          -215,
          -12.5,
          -147.49999999999997,
          -80,
          -147.49999999999997,
          -147.49999999999997,
          -12.5,
          -350,
          -12.5,
          -147.49999999999997,
          -147.49999999999997,
          -147.49999999999997,
          -282.5,
          -282.5,
          -147.49999999999997,
          -282.5,
          -147.49999999999997,
          -215,
          -282.5,
          -147.49999999999997,
          -80,
          -147.49999999999997,
          -147.49999999999997,
          -215,
          -12.5,
          -282.5,
          -282.5,
          -147.49999999999997,
          -215,
          -215,
          -215,
          -215,
          -350,
          -350,
          -80,
          -215,
          -147.49999999999997,
          -80,
          -350,
          -350,
          -215,
          -282.5,
          -215,
          -147.49999999999997,
          -215,
          -350,
          -80,
          -80,
          -12.5,
          -80,
          -215,
          -147.49999999999997,
          -215,
          -147.49999999999997,
          -147.49999999999997,
          -215,
          -80,
          -215,
          -147.49999999999997,
          -215,
          -12.5,
          -215,
          -147.49999999999997,
          -147.49999999999997,
          -147.49999999999997,
          -350,
          -147.49999999999997,
          -147.49999999999997,
          -80
         ]
        },
        {
         "marker": {
          "color": [
           "maroon",
           "maroon",
           "maroon",
           "maroon",
           "maroon",
           "maroon",
           "maroon"
          ],
          "opacity": 1,
          "size": [
           2.7359256744384766,
           9.927889823913574,
           10.249993324279785,
           5.648736953735352,
           3.4031243324279785,
           3.696826219558716,
           3.9556326866149902
          ]
         },
         "mode": "markers",
         "name": "dots_OFF",
         "scene": "scene3",
         "type": "scatter3d",
         "x": [
          352.2734375,
          336.5,
          390.5120738636363,
          375.2763671875,
          354.5267857142857,
          334.5283203125,
          294.4375
         ],
         "y": [
          247.1171875,
          247.1171875,
          214.13636363636363,
          250.567626953125,
          272.65513392857144,
          257.6328125,
          36.8046875
         ],
         "z": [
          -282.5,
          -215,
          -282.5,
          -215,
          -215,
          -147.49999999999997,
          -80
         ]
        },
        {
         "marker": {
          "color": "gray",
          "opacity": 0.8,
          "size": [
           10.589035034179688,
           6.218621253967285,
           5.155450820922852,
           14.85568904876709,
           8.286933898925781,
           3.9804019927978516,
           3.305337905883789,
           3.716305732727051,
           4.30157470703125,
           6.250781059265137,
           19.790559768676758,
           8.526537895202637,
           7.08749532699585,
           3.460131883621216,
           4.427830219268799,
           4.9618377685546875,
           6.029113292694092,
           5.127704620361328,
           5.487027645111084,
           4.035541534423828,
           3.701115131378174,
           3.9109582901000977,
           4.154303550720215,
           8.471240997314453,
           3.187441825866699,
           3.05546236038208,
           4.1740851402282715,
           9.257493019104004,
           3.612295627593994,
           3.0850882530212402,
           4.695322513580322,
           6.184306621551514,
           2.701742649078369,
           2.920046091079712,
           4.357815265655518,
           3.504779815673828,
           3.822422981262207,
           5.488548278808594,
           3.9534523487091064,
           5.225104808807373,
           2.8888983726501465,
           3.4196648597717285,
           16.84963035583496,
           16.594764709472656,
           7.141833305358887,
           6.945498943328857,
           11.857854843139648,
           23.544361114501953,
           15.67708969116211,
           8.611940383911133,
           4.691732406616211,
           19.358049392700195,
           9.917287826538086,
           14.646324157714844,
           9.33202838897705,
           4.513580799102783,
           4.465725898742676,
           5.632926940917969,
           4.156125068664551,
           5.830604553222656,
           6.18307638168335,
           5.670929431915283,
           8.773237228393555,
           4.149898529052734,
           3.620553731918335,
           5.273541450500488,
           8.268338203430176,
           10.143619537353516,
           19.855012893676758,
           4.213404655456543,
           3.876044273376465,
           6.155831336975098,
           5.689329147338867,
           5.3471574783325195,
           4.962255954742432,
           6.191381931304932,
           6.88013219833374,
           6.015201091766357,
           10.573495864868164,
           8.836328506469727,
           5.275125980377197,
           3.3442397117614746,
           4.258393287658691,
           3.6487045288085938,
           4.988466739654541,
           6.176577091217041,
           7.072978496551514,
           6.893202781677246,
           5.268441677093506,
           4.07116174697876,
           5.378487586975098,
           3.566650152206421,
           4.061659336090088,
           2.7359256744384766,
           9.927889823913574,
           10.249993324279785,
           5.648736953735352,
           3.4031243324279785,
           3.696826219558716,
           3.9556326866149902,
           10.338608741760254,
           24.767763137817383,
           5.901456832885742,
           6.478878974914551,
           11.594075202941895,
           6.982669830322266,
           15.892284393310547,
           9.773479461669922,
           3.8250041007995605,
           6.6063714027404785,
           15.055237770080566,
           22.887767791748047,
           24.047718048095703,
           7.5303449630737305,
           9.334420204162598,
           6.42064094543457,
           17.13188934326172,
           9.830241203308105,
           15.399421691894531,
           16.073917388916016,
           5.188131332397461,
           7.203075885772705,
           18.15721321105957,
           11.615859985351562,
           15.627677917480469,
           13.481653213500977,
           10.067110061645508,
           10.311179161071777,
           11.741588592529297,
           4.902078628540039,
           13.587697982788086,
           4.741844177246094,
           4.08098840713501,
           2.384910821914673,
           7.629472732543945,
           15.025091171264648,
           6.307724952697754,
           6.306813716888428,
           7.436332702636719,
           2.7431297302246094,
           10.46548080444336,
           14.11571216583252,
           16.08859634399414,
           4.0375189781188965,
           17.86319923400879,
           14.98731517791748,
           6.983373641967773,
           12.399577140808105,
           4.574155807495117,
           8.627947807312012,
           5.099798679351807,
           6.802011489868164,
           6.294689178466797,
           26.13726043701172,
           7.446321487426758,
           8.810159683227539,
           2.496588706970215,
           11.356289863586426,
           17.111236572265625,
           6.4383463859558105,
           8.759565353393555,
           11.99002742767334,
           11.34766960144043,
           7.75411319732666,
           6.333316802978516,
           13.192100524902344,
           6.579396724700928,
           9.00655460357666,
           9.828542709350586,
           5.055225849151611,
           12.598780632019043,
           10.533114433288574,
           5.2517924308776855,
           4.417933464050293,
           21.79373550415039,
           9.504983901977539,
           8.417570114135742,
           4.813125133514404,
           5.494150638580322,
           8.999076843261719,
           17.70669937133789,
           16.73088836669922,
           4.028801441192627,
           10.694815635681152,
           8.125862121582031,
           10.019861221313477,
           4.375151634216309,
           5.413007736206055,
           8.448030471801758,
           6.230181694030762,
           5.433502674102783,
           7.06812858581543,
           3.9136693477630615,
           15.39416790008545,
           4.225526809692383,
           3.817723512649536,
           5.618614196777344,
           3.6827731132507324,
           2.6686713695526123,
           7.542620658874512,
           5.941032409667969,
           9.582672119140625,
           13.19965934753418,
           9.267902374267578,
           7.54175329208374,
           4.327293395996094,
           4.560691833496094,
           2.6074280738830566,
           13.49304485321045,
           4.926395416259766,
           10.38177490234375,
           3.2890090942382812,
           6.357417583465576,
           21.690044403076172,
           6.002292633056641,
           6.520046710968018,
           12.464139938354492,
           3.9061927795410156,
           11.14963436126709,
           24.031139373779297,
           4.201621055603027,
           4.303802013397217,
           15.517858505249023,
           5.425885200500488,
           2.9251065254211426,
           6.004643440246582,
           7.535918235778809,
           16.11746597290039,
           5.1198320388793945,
           6.573269844055176,
           7.892664432525635,
           5.103242874145508,
           10.459051132202148,
           5.401345729827881,
           8.927013397216797,
           3.962110996246338,
           4.599180221557617,
           8.391921043395996,
           6.336604118347168,
           4.851906776428223,
           4.63528299331665,
           3.299187183380127,
           5.464809417724609,
           6.83517599105835,
           5.746155738830566,
           9.48658561706543,
           3.6358964443206787,
           19.274438858032227,
           7.941741466522217,
           7.129255294799805,
           5.214738368988037,
           8.389724731445312,
           10.5166015625,
           2.8391098976135254,
           4.791495323181152,
           6.337682247161865,
           5.330364227294922,
           11.497051239013672,
           6.636289596557617,
           6.435261249542236,
           9.691394805908203,
           8.97209358215332,
           8.400100708007812,
           9.567031860351562,
           8.725743293762207,
           8.952533721923828,
           8.382956504821777,
           2.6987099647521973,
           7.280902862548828,
           6.181524276733398,
           11.00547981262207,
           3.682776689529419,
           8.373043060302734,
           3.701460838317871,
           5.425652503967285,
           7.35902738571167,
           6.071252822875977,
           9.37458324432373,
           10.150431632995605,
           4.915378093719482,
           4.927249908447266,
           5.746761322021484,
           5.11080265045166,
           3.7033939361572266,
           8.128236770629883,
           12.217397689819336,
           6.976236343383789,
           14.980727195739746,
           6.014949798583984,
           4.75053596496582,
           6.1902899742126465,
           2.720330238342285,
           11.131868362426758,
           9.080062866210938,
           11.262271881103516,
           2.812110424041748,
           3.7292912006378174,
           3.2323827743530273,
           4.266297817230225,
           3.6745619773864746,
           3.2037367820739746,
           3.9336812496185303,
           7.97591495513916,
           5.397315502166748,
           6.926199436187744,
           3.3670382499694824,
           3.5308938026428223,
           2.7538938522338867,
           4.282059669494629,
           2.764582633972168,
           4.490817070007324,
           5.708761215209961,
           4.01408052444458,
           5.214493274688721,
           4.184277057647705,
           5.279101371765137,
           3.404996871948242,
           4.112420558929443,
           8.27925968170166,
           6.554632663726807,
           4.153762340545654,
           4.471513271331787,
           3.3041999340057373,
           3.510012626647949,
           2.372642755508423,
           3.0460011959075928,
           4.354065895080566,
           3.704603672027588,
           5.487246990203857,
           4.698363780975342,
           5.210483074188232,
           4.335058212280273,
           5.361677646636963,
           3.801766872406006,
           3.5234146118164062,
           6.532958984375,
           4.159725189208984,
           4.552316665649414,
           2.5459022521972656,
           4.274810791015625,
           3.246263265609741,
           4.210559368133545,
           8.009350776672363,
           7.896945953369141,
           3.3225409984588623,
           3.2933104038238525,
           3.267864942550659,
           3.1659088134765625,
           2.816086530685425,
           3.9864065647125244,
           3.7021634578704834,
           4.0249481201171875,
           4.763010501861572,
           2.3749985694885254,
           4.460077285766602,
           3.170435667037964,
           3.0694165229797363,
           3.2727675437927246,
           3.217243194580078,
           2.616738796234131,
           2.5693740844726562,
           2.678385019302368,
           3.134148597717285
          ]
         },
         "mode": "markers",
         "name": "",
         "scene": "scene4",
         "type": "scatter3d",
         "x": [
          352.2734375,
          352.2734375,
          330.71640625,
          390.5120738636363,
          312.83984375,
          289.3079268292683,
          411.49300986842104,
          419.37972861842104,
          352.2734375,
          347.015625,
          373.3046875,
          375.2763671875,
          390.32998511904765,
          486.01904296875,
          354.5267857142857,
          347.015625,
          304.10509072580646,
          399.59375,
          334.5283203125,
          304.953125,
          515.265625,
          290.9322916666667,
          441.65625,
          162.9921875,
          168.25,
          168.70066964285715,
          135.28209459459458,
          130.59269425675677,
          125.41429227941175,
          190.8276654411765,
          157.734375,
          107.78515625,
          126.1875,
          190.05445772058823,
          126.1875,
          152.4765625,
          177.451171875,
          157.734375,
          199.796875,
          168.42526041666665,
          180.16770833333334,
          247.1171875,
          352.2734375,
          368.046875,
          415.3671875,
          352.2734375,
          330.71640625,
          336.5,
          370.0185546875,
          439.02734375,
          341.7578125,
          390.5120738636363,
          312.83984375,
          271.85983455882354,
          453.87293198529414,
          424.4223090277778,
          368.2164818548387,
          289.3079268292683,
          325.8460115131579,
          411.49300986842104,
          419.37972861842104,
          324.5504261363636,
          405.14366319444446,
          352.2734375,
          334.57213541666664,
          347.015625,
          261.4566761363636,
          310.2109375,
          373.3046875,
          298.2742820945946,
          442.59995993589746,
          375.2763671875,
          390.32998511904765,
          238.6462673611111,
          312.83984375,
          399.1674408783784,
          295.13854166666664,
          373.1350806451613,
          354.5267857142857,
          444.28515625,
          347.015625,
          312.60085227272725,
          441.65625,
          441.65625,
          142.81355574324323,
          304.10509072580646,
          161.12651209677418,
          122.30129076086956,
          271.82890625,
          404.8515625,
          334.5283203125,
          144.58984375,
          322.4791666666667,
          352.2734375,
          336.5,
          390.5120738636363,
          375.2763671875,
          354.5267857142857,
          334.5283203125,
          294.4375,
          352.2734375,
          368.046875,
          415.3671875,
          391.1134072580645,
          352.2734375,
          330.71640625,
          336.5,
          436.3984375,
          357.53125,
          294.4375,
          410.9619932432432,
          439.02734375,
          162.9921875,
          168.25,
          456.15076013513516,
          168.70066964285715,
          135.28209459459458,
          341.7578125,
          390.5120738636363,
          130.59269425675677,
          206.96661931818184,
          312.83984375,
          271.85983455882354,
          120.9296875,
          173.92290296052633,
          378.32350852272725,
          105.15625,
          136.703125,
          453.87293198529414,
          135.58783143939394,
          125.41429227941175,
          389.36233108108104,
          424.4223090277778,
          220.828125,
          368.2164818548387,
          190.8276654411765,
          458.8636363636363,
          416.32315340909093,
          289.3079268292683,
          152.4765625,
          157.734375,
          325.8460115131579,
          131.4453125,
          411.49300986842104,
          268.44888392857143,
          107.78515625,
          385.36672794117646,
          419.37972861842104,
          327.06290064102564,
          126.1875,
          189.28125,
          324.5504261363636,
          405.14366319444446,
          190.05445772058823,
          126.1875,
          334.57213541666664,
          299.8649193548387,
          153.93706597222223,
          151.53285256410257,
          108.98011363636363,
          205.0546875,
          261.4566761363636,
          178.61957465277777,
          310.2109375,
          152.4765625,
          373.3046875,
          99.8984375,
          148.67925347222223,
          177.451171875,
          147.21875,
          126.03285845588235,
          173.83642578125,
          194.5390625,
          309.296535326087,
          207.08996975806454,
          298.2742820945946,
          442.59995993589746,
          101.47578125,
          375.2763671875,
          390.32998511904765,
          238.6462673611111,
          115.671875,
          249.74609375,
          158.90277777777777,
          481.64749053030306,
          140.30057565789474,
          241.859375,
          377.5109375,
          98.25537109375,
          99.02213541666666,
          164.45269097222223,
          134.7314453125,
          312.83984375,
          224.38986895161293,
          257.3560855263158,
          347.72614020270265,
          446.2767518939394,
          399.1674408783784,
          120.9296875,
          253.60182291666666,
          150.95010080645162,
          115.81023848684211,
          157.734375,
          295.13854166666664,
          189.28125,
          82.8503787878788,
          252.375,
          204.266015625,
          486.01904296875,
          356.4159564393939,
          84.89820772058825,
          336.5,
          184.0234375,
          199.796875,
          110.86473214285714,
          220.65286458333335,
          206.13321314102564,
          80.674560546875,
          169.95878906250002,
          304.10509072580646,
          230.13040865384613,
          147.72757056451613,
          453.39869791666666,
          162.6735321969697,
          269.5052923387097,
          333.1078629032258,
          474.5599798387097,
          444.28515625,
          287.4270833333333,
          119.12700892857144,
          192.08541666666665,
          273.28106398809524,
          235.92748397435895,
          238.6462673611111,
          198.33637152777777,
          141.71056547619048,
          347.015625,
          96.74374999999999,
          171.90125868055554,
          254.82864583333335,
          168.25,
          312.60085227272725,
          255.19168526785714,
          233.97265625,
          185.9951171875,
          202.9515625,
          226.0859375,
          234.26475694444446,
          456.30301339285717,
          168.25,
          411.80544354838713,
          214.46340460526315,
          134.3835018382353,
          417.733203125,
          311.9635416666667,
          131.4453125,
          142.81355574324323,
          168.42526041666665,
          304.10509072580646,
          127.501953125,
          338.9536458333333,
          266.34575892857146,
          178.47352430555554,
          226.0859375,
          176.76264880952382,
          215.5703125,
          269.16607862903226,
          287.53662109375,
          89.3828125,
          218.04457720588235,
          247.59517045454547,
          121.53058035714285,
          161.12651209677418,
          254.478125,
          70.60491071428572,
          220.828125,
          193.48749999999998,
          142.64673913043478,
          398.01640625,
          190.26708984375,
          195.38709677419357,
          255.496826171875,
          178.765625,
          215.5703125,
          174.86466733870967,
          218.57477678571428,
          281.29296875,
          174.69506048387098,
          212.94140625,
          124.7153125,
          132.83708639705884,
          351.50022977941177,
          180.16770833333334,
          232.74583333333334,
          156.31881009615384,
          194.5390625,
          268.3431712962963,
          143.0125,
          286.25868055555554,
          121.40767045454545,
          298.67767137096774,
          213.42824074074076,
          108.52125000000001,
          249.74609375,
          222.40546874999998,
          334.5283203125,
          168.25,
          483.71875,
          187.02790178571428,
          144.26123046875,
          235.85044642857142,
          357.53125,
          502.8380681818182,
          98.70348011363637,
          291.80859375,
          226.0859375,
          205.0546875,
          222.93125,
          237.76996527777777,
          515.265625,
          427.63541666666663,
          189.28125,
          208.998046875,
          438.6517857142857,
          352.2734375,
          347.015625,
          184.16554054054052,
          373.1350806451613,
          204.561767578125,
          354.5267857142857,
          168.25,
          231.34375,
          441.65625,
          153.61338682432432,
          122.30129076086956,
          107.03404017857143,
          97.96134868421052,
          274.64338235294116,
          394.3359375,
          396.08854166666663,
          111.728515625,
          233.3659855769231,
          268.411328125,
          294.4375,
          194.5390625,
          382.06770833333337,
          205.0546875,
          271.6536458333333,
          336.5,
          499.4921875,
          322.4791666666667,
          228.71484375,
          290.9322916666667,
          218.19921875,
          147.21875,
          164.74479166666666,
          194.5390625,
          233.97265625,
          315.46875,
          462.6875,
          199.796875,
          210.3125,
          168.25
         ],
         "y": [
          247.1171875,
          215.5703125,
          265.87005208333335,
          214.13636363636363,
          265.51953125,
          277.6381478658537,
          178.9039884868422,
          151.36965460526312,
          236.6015625,
          231.34375,
          266.833984375,
          250.567626953125,
          226.33630952380955,
          125.85888671875,
          272.65513392857144,
          238.737548828125,
          263.0602318548387,
          247.1171875,
          257.6328125,
          257.6328125,
          173.5078125,
          140.2083333333333,
          141.9609375,
          162.9921875,
          294.4375,
          307.65714285714284,
          146.36613175675677,
          293.4427787162162,
          175.0542279411764,
          184.7966452205883,
          203.01940524193554,
          276.03515625,
          210.3125,
          108.8676470588236,
          241.859375,
          136.703125,
          233.3154296875,
          162.9921875,
          136.703125,
          203.47734374999993,
          209.96197916666668,
          141.9609375,
          247.1171875,
          189.28125,
          162.9921875,
          215.5703125,
          265.87005208333335,
          247.1171875,
          163.485107421875,
          144.58984375,
          184.0234375,
          214.13636363636363,
          265.51953125,
          158.5075827205883,
          181.0852481617647,
          180.2261284722222,
          206.41154233870964,
          277.6381478658537,
          158.70291940789468,
          178.9039884868422,
          151.36965460526312,
          206.4886363636364,
          205.6388888888889,
          236.6015625,
          197.34322916666665,
          231.34375,
          180.1995738636364,
          283.39609375,
          266.833984375,
          179.61824324324323,
          99.76362179487167,
          250.567626953125,
          226.33630952380955,
          154.81336805555563,
          176.13671875,
          211.1651182432434,
          201.5494791666667,
          237.7888104838711,
          272.65513392857144,
          140.38359374999993,
          238.737548828125,
          232.61837121212125,
          194.5390625,
          194.046142578125,
          141.9609375,
          263.0602318548387,
          119.74243951612907,
          123.67289402173913,
          175.08515625000007,
          241.859375,
          257.6328125,
          99.8984375,
          238.3541666666667,
          247.1171875,
          247.1171875,
          214.13636363636363,
          250.567626953125,
          272.65513392857144,
          257.6328125,
          36.8046875,
          247.1171875,
          189.28125,
          162.9921875,
          154.34223790322582,
          215.5703125,
          265.87005208333335,
          247.1171875,
          147.21875,
          141.9609375,
          141.9609375,
          124.76646959459458,
          144.58984375,
          162.9921875,
          294.4375,
          126.89801520270271,
          307.65714285714284,
          146.36613175675677,
          184.0234375,
          214.13636363636363,
          293.4427787162162,
          307.82102272727275,
          265.51953125,
          158.5075827205883,
          194.5390625,
          130.2000411184211,
          127.62144886363633,
          226.0859375,
          257.6328125,
          181.0852481617647,
          296.82741477272725,
          175.0542279411764,
          188.8549408783784,
          180.2261284722222,
          294.4375,
          206.41154233870964,
          184.7966452205883,
          130.01136363636368,
          124.27556818181819,
          277.6381478658537,
          178.765625,
          203.01940524193554,
          158.70291940789468,
          157.734375,
          178.9039884868422,
          124.38482142857136,
          276.03515625,
          130.6721047794117,
          151.36965460526312,
          138.5905448717949,
          210.3125,
          262.890625,
          206.4886363636364,
          205.6388888888889,
          108.8676470588236,
          241.859375,
          197.34322916666665,
          72.93094758064518,
          135.2426215277778,
          99.76362179487181,
          269.58238636363643,
          220.828125,
          180.1995738636364,
          80.32769097222219,
          283.39609375,
          136.703125,
          266.833984375,
          241.859375,
          224.6254340277778,
          233.3154296875,
          173.5078125,
          121.23897058823532,
          78.045654296875,
          276.03515625,
          236.6015625,
          147.5579637096774,
          179.61824324324323,
          99.76362179487167,
          150.02291666666665,
          250.567626953125,
          226.33630952380955,
          154.81336805555563,
          131.4453125,
          281.29296875,
          185.62999131944437,
          166.3380681818182,
          104.32606907894734,
          241.859375,
          172.45625000000007,
          183.859130859375,
          169.4184027777778,
          285.3823784722222,
          252.375,
          176.13671875,
          193.86063508064518,
          295.68277138157896,
          114.39294763513507,
          96.71188446969697,
          211.1651182432434,
          247.1171875,
          206.2815104166666,
          244.57308467741942,
          195.922697368421,
          162.9921875,
          201.5494791666667,
          162.9921875,
          240.7440814393939,
          147.21875,
          299.0380859375,
          125.85888671875,
          88.42684659090907,
          197.63189338235296,
          136.703125,
          157.734375,
          136.703125,
          283.0205357142857,
          264.46796875000007,
          80.7546073717949,
          266.833984375,
          133.5484374999999,
          109.90524193548389,
          300.09975961538464,
          273.06703629032256,
          78.34140624999988,
          265.43986742424244,
          305.4619455645161,
          205.73311491935482,
          164.34904233870972,
          140.38359374999993,
          284.7981770833333,
          241.55892857142862,
          179.46666666666664,
          232.97116815476184,
          63.36338141025637,
          250.4763454861111,
          233.3884548611111,
          298.1930803571429,
          238.737548828125,
          219.4260416666666,
          198.04427083333331,
          258.50911458333337,
          249.74609375,
          232.61837121212125,
          234.53599330357144,
          123.55859375,
          55.20703125,
          99.63554687499995,
          173.5078125,
          119.615234375,
          175.3856026785713,
          98.43793402777781,
          147.38835685483872,
          66.41447368421048,
          142.73414522058812,
          126.71328125000012,
          140.8655598958333,
          180.080078125,
          141.9609375,
          203.47734374999993,
          263.0602318548387,
          167.099853515625,
          115.14609375000003,
          98.09575892857136,
          276.32725694444446,
          165.62109375,
          162.24107142857144,
          170.87890625,
          66.99470766129036,
          152.14794921875,
          144.58984375,
          102.21806066176468,
          191.35250946969688,
          221.87968750000002,
          119.74243951612907,
          57.57304687499994,
          170.12779017857144,
          73.609375,
          114.62031250000005,
          114.75747282608701,
          117.24921875000005,
          225.75732421875,
          85.14264112903223,
          103.51318359375,
          56.78437500000006,
          68.3515625,
          273.74546370967744,
          205.95602678571433,
          202.42578125,
          101.25529233870971,
          50.27783203125,
          96.1128125,
          211.54963235294125,
          173.35317095588235,
          209.96197916666668,
          99.54791666666668,
          199.39242788461536,
          157.734375,
          178.3761574074074,
          272.70520833333336,
          60.17274305555562,
          87.47088068181813,
          135.68548387096777,
          244.19618055555563,
          180.44812499999998,
          215.5703125,
          208.9104166666666,
          257.6328125,
          228.71484375,
          136.703125,
          132.9475446428571,
          214.255859375,
          49.57366071428565,
          147.21875,
          188.80326704545453,
          111.13103693181813,
          52.578125,
          36.8046875,
          52.578125,
          119.87812499999998,
          75.36197916666657,
          173.5078125,
          40.309895833333336,
          63.09375,
          82.810546875,
          100.79977678571431,
          236.6015625,
          231.34375,
          263.7432432432434,
          237.7888104838711,
          258.947265625,
          272.65513392857144,
          126.1875,
          178.765625,
          194.046142578125,
          276.6746199324324,
          123.67289402173913,
          195.66573660714286,
          173.78453947368422,
          270.6227022058823,
          109.53776041666664,
          161.23958333333343,
          258.2900390625,
          33.973557692307644,
          210.3125,
          36.8046875,
          187.77901785714283,
          224.3333333333333,
          94.640625,
          77.11458333333329,
          102.52734375,
          170.87890625,
          238.3541666666667,
          68.3515625,
          140.2083333333333,
          73.609375,
          252.375,
          233.09635416666663,
          152.4765625,
          78.8671875,
          31.546875,
          157.734375,
          141.9609375,
          189.28125,
          289.1796875
         ],
         "z": [
          -282.5,
          -215,
          -282.5,
          -282.5,
          -215,
          -215,
          -350,
          -350,
          -215,
          -215,
          -282.5,
          -215,
          -215,
          -215,
          -215,
          -147.49999999999997,
          -147.49999999999997,
          -282.5,
          -147.49999999999997,
          -282.5,
          -282.5,
          -147.49999999999997,
          -147.49999999999997,
          -80,
          -215,
          -282.5,
          -80,
          -215,
          -80,
          -80,
          -80,
          -215,
          -80,
          -80,
          -147.49999999999997,
          -80,
          -80,
          -12.5,
          -12.5,
          -12.5,
          -147.49999999999997,
          -215,
          -282.5,
          -215,
          -282.5,
          -215,
          -282.5,
          -215,
          -215,
          -282.5,
          -147.49999999999997,
          -282.5,
          -215,
          -80,
          -282.5,
          -215,
          -147.49999999999997,
          -215,
          -147.49999999999997,
          -350,
          -350,
          -147.49999999999997,
          -215,
          -215,
          -215,
          -215,
          -80,
          -282.5,
          -282.5,
          -147.49999999999997,
          -350,
          -215,
          -215,
          -80,
          -80,
          -350,
          -80,
          -350,
          -215,
          -350,
          -147.49999999999997,
          -147.49999999999997,
          -282.5,
          -350,
          -215,
          -147.49999999999997,
          -215,
          -215,
          -12.5,
          -282.5,
          -147.49999999999997,
          -215,
          -80,
          -282.5,
          -215,
          -282.5,
          -215,
          -215,
          -147.49999999999997,
          -80,
          -282.5,
          -215,
          -282.5,
          -282.5,
          -215,
          -282.5,
          -215,
          -215,
          -147.49999999999997,
          -80,
          -215,
          -282.5,
          -80,
          -215,
          -282.5,
          -282.5,
          -80,
          -147.49999999999997,
          -282.5,
          -215,
          -282.5,
          -215,
          -80,
          -147.49999999999997,
          -80,
          -215,
          -147.49999999999997,
          -147.49999999999997,
          -282.5,
          -282.5,
          -80,
          -282.5,
          -215,
          -215,
          -147.49999999999997,
          -80,
          -215,
          -282.5,
          -215,
          -80,
          -80,
          -147.49999999999997,
          -147.49999999999997,
          -350,
          -80,
          -215,
          -147.49999999999997,
          -350,
          -80,
          -80,
          -147.49999999999997,
          -147.49999999999997,
          -215,
          -80,
          -147.49999999999997,
          -215,
          -80,
          -147.49999999999997,
          -80,
          -147.49999999999997,
          -80,
          -80,
          -147.49999999999997,
          -282.5,
          -80,
          -282.5,
          -215,
          -147.49999999999997,
          -80,
          -80,
          -80,
          -80,
          -215,
          -215,
          -80,
          -147.49999999999997,
          -350,
          -80,
          -215,
          -215,
          -80,
          -147.49999999999997,
          -215,
          -147.49999999999997,
          -282.5,
          -147.49999999999997,
          -147.49999999999997,
          -147.49999999999997,
          -80,
          -147.49999999999997,
          -147.49999999999997,
          -215,
          -80,
          -80,
          -282.5,
          -147.49999999999997,
          -282.5,
          -350,
          -147.49999999999997,
          -80,
          -80,
          -215,
          -12.5,
          -80,
          -80,
          -147.49999999999997,
          -12.5,
          -147.49999999999997,
          -215,
          -147.49999999999997,
          -147.49999999999997,
          -147.49999999999997,
          -80,
          -12.5,
          -282.5,
          -147.49999999999997,
          -80,
          -215,
          -12.5,
          -80,
          -282.5,
          -282.5,
          -350,
          -215,
          -215,
          -80,
          -215,
          -350,
          -282.5,
          -80,
          -12.5,
          -147.49999999999997,
          -80,
          -80,
          -147.49999999999997,
          -147.49999999999997,
          -147.49999999999997,
          -80,
          -282.5,
          -215,
          -147.49999999999997,
          -147.49999999999997,
          -80,
          -12.5,
          -80,
          -147.49999999999997,
          -80,
          -80,
          -350,
          -12.5,
          -147.49999999999997,
          -147.49999999999997,
          -12.5,
          -350,
          -147.49999999999997,
          -12.5,
          -215,
          -12.5,
          -147.49999999999997,
          -215,
          -80,
          -80,
          -282.5,
          -12.5,
          -147.49999999999997,
          -80,
          -80,
          -12.5,
          -147.49999999999997,
          -12.5,
          -12.5,
          -215,
          -215,
          -147.49999999999997,
          -147.49999999999997,
          -80,
          -12.5,
          -12.5,
          -147.49999999999997,
          -12.5,
          -12.5,
          -12.5,
          -147.49999999999997,
          -80,
          -80,
          -12.5,
          -147.49999999999997,
          -215,
          -80,
          -80,
          -12.5,
          -80,
          -147.49999999999997,
          -80,
          -215,
          -12.5,
          -147.49999999999997,
          -80,
          -147.49999999999997,
          -147.49999999999997,
          -12.5,
          -350,
          -12.5,
          -147.49999999999997,
          -147.49999999999997,
          -147.49999999999997,
          -282.5,
          -282.5,
          -147.49999999999997,
          -282.5,
          -147.49999999999997,
          -215,
          -282.5,
          -147.49999999999997,
          -80,
          -147.49999999999997,
          -147.49999999999997,
          -215,
          -12.5,
          -282.5,
          -282.5,
          -147.49999999999997,
          -215,
          -215,
          -215,
          -215,
          -350,
          -350,
          -80,
          -215,
          -147.49999999999997,
          -80,
          -350,
          -350,
          -215,
          -282.5,
          -215,
          -147.49999999999997,
          -215,
          -350,
          -80,
          -80,
          -12.5,
          -80,
          -215,
          -147.49999999999997,
          -215,
          -147.49999999999997,
          -147.49999999999997,
          -215,
          -80,
          -215,
          -147.49999999999997,
          -215,
          -12.5,
          -215,
          -147.49999999999997,
          -147.49999999999997,
          -147.49999999999997,
          -350,
          -147.49999999999997,
          -147.49999999999997,
          -80
         ]
        },
        {
         "marker": {
          "color": [
           "maroon",
           "maroon",
           "maroon",
           "maroon",
           "maroon",
           "maroon",
           "maroon",
           "maroon",
           "maroon",
           "maroon",
           "maroon",
           "maroon",
           "maroon",
           "maroon",
           "maroon",
           "maroon",
           "maroon",
           "maroon",
           "maroon",
           "maroon",
           "maroon",
           "maroon",
           "maroon",
           "maroon",
           "maroon",
           "maroon",
           "maroon",
           "maroon",
           "maroon",
           "maroon",
           "maroon",
           "maroon",
           "maroon",
           "maroon",
           "maroon",
           "maroon",
           "maroon",
           "maroon",
           "maroon",
           "maroon",
           "maroon",
           "maroon",
           "maroon",
           "maroon",
           "maroon",
           "maroon",
           "maroon",
           "maroon",
           "maroon",
           "maroon",
           "maroon",
           "maroon",
           "maroon",
           "maroon",
           "maroon",
           "maroon",
           "maroon",
           "maroon",
           "maroon",
           "maroon",
           "maroon",
           "maroon",
           "maroon",
           "maroon",
           "maroon",
           "maroon",
           "maroon",
           "maroon",
           "maroon",
           "maroon",
           "maroon",
           "maroon",
           "maroon",
           "maroon",
           "maroon",
           "maroon",
           "maroon",
           "maroon",
           "maroon",
           "maroon",
           "maroon",
           "maroon",
           "maroon",
           "maroon",
           "maroon",
           "maroon",
           "maroon",
           "maroon",
           "maroon",
           "maroon",
           "maroon",
           "maroon",
           "maroon",
           "maroon",
           "maroon",
           "maroon",
           "maroon",
           "maroon",
           "maroon",
           "maroon",
           "maroon",
           "maroon",
           "maroon",
           "maroon",
           "maroon",
           "maroon",
           "maroon",
           "maroon",
           "maroon",
           "maroon",
           "maroon",
           "maroon",
           "maroon",
           "maroon",
           "maroon",
           "maroon",
           "maroon",
           "maroon",
           "maroon",
           "maroon",
           "maroon",
           "maroon",
           "maroon",
           "maroon",
           "maroon",
           "maroon",
           "maroon",
           "maroon",
           "maroon",
           "maroon",
           "maroon",
           "maroon",
           "maroon",
           "maroon",
           "maroon",
           "maroon",
           "maroon",
           "maroon",
           "maroon",
           "maroon",
           "maroon",
           "maroon",
           "maroon",
           "maroon",
           "maroon",
           "maroon",
           "maroon",
           "maroon",
           "maroon",
           "maroon",
           "maroon",
           "maroon",
           "maroon",
           "maroon",
           "maroon",
           "maroon",
           "maroon",
           "maroon",
           "maroon",
           "maroon",
           "maroon",
           "maroon",
           "maroon",
           "maroon",
           "maroon",
           "maroon",
           "maroon",
           "maroon",
           "maroon",
           "maroon",
           "maroon",
           "maroon",
           "maroon",
           "maroon",
           "maroon",
           "maroon",
           "maroon",
           "maroon",
           "maroon",
           "maroon",
           "maroon",
           "maroon",
           "maroon",
           "maroon",
           "maroon",
           "maroon",
           "maroon",
           "maroon",
           "maroon",
           "maroon",
           "maroon",
           "maroon",
           "maroon",
           "maroon",
           "maroon",
           "maroon",
           "maroon",
           "maroon",
           "maroon",
           "maroon",
           "maroon",
           "maroon",
           "maroon",
           "maroon",
           "maroon",
           "maroon",
           "maroon",
           "maroon",
           "maroon",
           "maroon",
           "maroon",
           "maroon",
           "maroon",
           "maroon",
           "maroon",
           "maroon",
           "maroon",
           "maroon",
           "maroon",
           "maroon",
           "maroon",
           "maroon",
           "maroon",
           "maroon",
           "maroon",
           "maroon",
           "maroon",
           "maroon",
           "maroon",
           "maroon",
           "maroon",
           "maroon",
           "maroon",
           "maroon",
           "maroon",
           "maroon",
           "maroon",
           "maroon",
           "maroon",
           "maroon",
           "maroon",
           "maroon",
           "maroon",
           "maroon",
           "maroon",
           "maroon",
           "maroon",
           "maroon",
           "maroon",
           "maroon",
           "maroon",
           "maroon",
           "maroon",
           "maroon",
           "maroon",
           "maroon",
           "maroon",
           "maroon",
           "maroon",
           "maroon",
           "maroon",
           "maroon",
           "maroon"
          ],
          "opacity": 1,
          "size": [
           10.338608741760254,
           24.767763137817383,
           5.901456832885742,
           6.478878974914551,
           11.594075202941895,
           6.982669830322266,
           15.892284393310547,
           9.773479461669922,
           3.8250041007995605,
           6.6063714027404785,
           15.055237770080566,
           22.887767791748047,
           24.047718048095703,
           7.5303449630737305,
           9.334420204162598,
           6.42064094543457,
           17.13188934326172,
           9.830241203308105,
           15.399421691894531,
           16.073917388916016,
           5.188131332397461,
           7.203075885772705,
           18.15721321105957,
           11.615859985351562,
           15.627677917480469,
           13.481653213500977,
           10.067110061645508,
           10.311179161071777,
           11.741588592529297,
           4.902078628540039,
           13.587697982788086,
           4.741844177246094,
           4.08098840713501,
           2.384910821914673,
           7.629472732543945,
           15.025091171264648,
           6.307724952697754,
           6.306813716888428,
           7.436332702636719,
           2.7431297302246094,
           10.46548080444336,
           14.11571216583252,
           16.08859634399414,
           4.0375189781188965,
           17.86319923400879,
           14.98731517791748,
           6.983373641967773,
           12.399577140808105,
           4.574155807495117,
           8.627947807312012,
           5.099798679351807,
           6.802011489868164,
           6.294689178466797,
           26.13726043701172,
           7.446321487426758,
           8.810159683227539,
           2.496588706970215,
           11.356289863586426,
           17.111236572265625,
           6.4383463859558105,
           8.759565353393555,
           11.99002742767334,
           11.34766960144043,
           7.75411319732666,
           6.333316802978516,
           13.192100524902344,
           6.579396724700928,
           9.00655460357666,
           9.828542709350586,
           5.055225849151611,
           12.598780632019043,
           10.533114433288574,
           5.2517924308776855,
           4.417933464050293,
           21.79373550415039,
           9.504983901977539,
           8.417570114135742,
           4.813125133514404,
           5.494150638580322,
           8.999076843261719,
           17.70669937133789,
           16.73088836669922,
           4.028801441192627,
           10.694815635681152,
           8.125862121582031,
           10.019861221313477,
           4.375151634216309,
           5.413007736206055,
           8.448030471801758,
           6.230181694030762,
           5.433502674102783,
           7.06812858581543,
           3.9136693477630615,
           15.39416790008545,
           4.225526809692383,
           3.817723512649536,
           5.618614196777344,
           3.6827731132507324,
           2.6686713695526123,
           7.542620658874512,
           5.941032409667969,
           9.582672119140625,
           13.19965934753418,
           9.267902374267578,
           7.54175329208374,
           4.327293395996094,
           4.560691833496094,
           2.6074280738830566,
           13.49304485321045,
           4.926395416259766,
           10.38177490234375,
           3.2890090942382812,
           6.357417583465576,
           21.690044403076172,
           6.002292633056641,
           6.520046710968018,
           12.464139938354492,
           3.9061927795410156,
           11.14963436126709,
           24.031139373779297,
           4.201621055603027,
           4.303802013397217,
           15.517858505249023,
           5.425885200500488,
           2.9251065254211426,
           6.004643440246582,
           7.535918235778809,
           16.11746597290039,
           5.1198320388793945,
           6.573269844055176,
           7.892664432525635,
           5.103242874145508,
           10.459051132202148,
           5.401345729827881,
           8.927013397216797,
           3.962110996246338,
           4.599180221557617,
           8.391921043395996,
           6.336604118347168,
           4.851906776428223,
           4.63528299331665,
           3.299187183380127,
           5.464809417724609,
           6.83517599105835,
           5.746155738830566,
           9.48658561706543,
           3.6358964443206787,
           19.274438858032227,
           7.941741466522217,
           7.129255294799805,
           5.214738368988037,
           8.389724731445312,
           10.5166015625,
           2.8391098976135254,
           4.791495323181152,
           6.337682247161865,
           5.330364227294922,
           11.497051239013672,
           6.636289596557617,
           6.435261249542236,
           9.691394805908203,
           8.97209358215332,
           8.400100708007812,
           9.567031860351562,
           8.725743293762207,
           8.952533721923828,
           8.382956504821777,
           2.6987099647521973,
           7.280902862548828,
           6.181524276733398,
           11.00547981262207,
           3.682776689529419,
           8.373043060302734,
           3.701460838317871,
           5.425652503967285,
           7.35902738571167,
           6.071252822875977,
           9.37458324432373,
           10.150431632995605,
           4.915378093719482,
           4.927249908447266,
           5.746761322021484,
           5.11080265045166,
           3.7033939361572266,
           8.128236770629883,
           12.217397689819336,
           6.976236343383789,
           14.980727195739746,
           6.014949798583984,
           4.75053596496582,
           6.1902899742126465,
           2.720330238342285,
           11.131868362426758,
           9.080062866210938,
           11.262271881103516,
           2.812110424041748,
           3.7292912006378174,
           3.2323827743530273,
           4.266297817230225,
           3.6745619773864746,
           3.2037367820739746,
           3.9336812496185303,
           7.97591495513916,
           5.397315502166748,
           6.926199436187744,
           3.3670382499694824,
           3.5308938026428223,
           2.7538938522338867,
           4.282059669494629,
           2.764582633972168,
           4.490817070007324,
           5.708761215209961,
           4.01408052444458,
           5.214493274688721,
           4.184277057647705,
           5.279101371765137,
           3.404996871948242,
           4.112420558929443,
           8.27925968170166,
           6.554632663726807,
           4.153762340545654,
           4.471513271331787,
           3.3041999340057373,
           3.510012626647949,
           2.372642755508423,
           3.0460011959075928,
           4.354065895080566,
           3.704603672027588,
           5.487246990203857,
           4.698363780975342,
           5.210483074188232,
           4.335058212280273,
           5.361677646636963,
           3.801766872406006,
           3.5234146118164062,
           6.532958984375,
           4.159725189208984,
           4.552316665649414,
           2.5459022521972656,
           4.274810791015625,
           3.246263265609741,
           4.210559368133545,
           8.009350776672363,
           7.896945953369141,
           3.3225409984588623,
           3.2933104038238525,
           3.267864942550659,
           3.1659088134765625,
           2.816086530685425,
           3.9864065647125244,
           3.7021634578704834,
           4.0249481201171875,
           4.763010501861572,
           2.3749985694885254,
           4.460077285766602,
           3.170435667037964,
           3.0694165229797363,
           3.2727675437927246,
           3.217243194580078,
           2.616738796234131,
           2.5693740844726562,
           2.678385019302368,
           3.134148597717285
          ]
         },
         "mode": "markers",
         "name": "loom",
         "scene": "scene4",
         "type": "scatter3d",
         "x": [
          352.2734375,
          368.046875,
          415.3671875,
          391.1134072580645,
          352.2734375,
          330.71640625,
          336.5,
          436.3984375,
          357.53125,
          294.4375,
          410.9619932432432,
          439.02734375,
          162.9921875,
          168.25,
          456.15076013513516,
          168.70066964285715,
          135.28209459459458,
          341.7578125,
          390.5120738636363,
          130.59269425675677,
          206.96661931818184,
          312.83984375,
          271.85983455882354,
          120.9296875,
          173.92290296052633,
          378.32350852272725,
          105.15625,
          136.703125,
          453.87293198529414,
          135.58783143939394,
          125.41429227941175,
          389.36233108108104,
          424.4223090277778,
          220.828125,
          368.2164818548387,
          190.8276654411765,
          458.8636363636363,
          416.32315340909093,
          289.3079268292683,
          152.4765625,
          157.734375,
          325.8460115131579,
          131.4453125,
          411.49300986842104,
          268.44888392857143,
          107.78515625,
          385.36672794117646,
          419.37972861842104,
          327.06290064102564,
          126.1875,
          189.28125,
          324.5504261363636,
          405.14366319444446,
          190.05445772058823,
          126.1875,
          334.57213541666664,
          299.8649193548387,
          153.93706597222223,
          151.53285256410257,
          108.98011363636363,
          205.0546875,
          261.4566761363636,
          178.61957465277777,
          310.2109375,
          152.4765625,
          373.3046875,
          99.8984375,
          148.67925347222223,
          177.451171875,
          147.21875,
          126.03285845588235,
          173.83642578125,
          194.5390625,
          309.296535326087,
          207.08996975806454,
          298.2742820945946,
          442.59995993589746,
          101.47578125,
          375.2763671875,
          390.32998511904765,
          238.6462673611111,
          115.671875,
          249.74609375,
          158.90277777777777,
          481.64749053030306,
          140.30057565789474,
          241.859375,
          377.5109375,
          98.25537109375,
          99.02213541666666,
          164.45269097222223,
          134.7314453125,
          312.83984375,
          224.38986895161293,
          257.3560855263158,
          347.72614020270265,
          446.2767518939394,
          399.1674408783784,
          120.9296875,
          253.60182291666666,
          150.95010080645162,
          115.81023848684211,
          157.734375,
          295.13854166666664,
          189.28125,
          82.8503787878788,
          252.375,
          204.266015625,
          486.01904296875,
          356.4159564393939,
          84.89820772058825,
          336.5,
          184.0234375,
          199.796875,
          110.86473214285714,
          220.65286458333335,
          206.13321314102564,
          80.674560546875,
          169.95878906250002,
          304.10509072580646,
          230.13040865384613,
          147.72757056451613,
          453.39869791666666,
          162.6735321969697,
          269.5052923387097,
          333.1078629032258,
          474.5599798387097,
          444.28515625,
          287.4270833333333,
          119.12700892857144,
          192.08541666666665,
          273.28106398809524,
          235.92748397435895,
          238.6462673611111,
          198.33637152777777,
          141.71056547619048,
          347.015625,
          96.74374999999999,
          171.90125868055554,
          254.82864583333335,
          168.25,
          312.60085227272725,
          255.19168526785714,
          233.97265625,
          185.9951171875,
          202.9515625,
          226.0859375,
          234.26475694444446,
          456.30301339285717,
          168.25,
          411.80544354838713,
          214.46340460526315,
          134.3835018382353,
          417.733203125,
          311.9635416666667,
          131.4453125,
          142.81355574324323,
          168.42526041666665,
          304.10509072580646,
          127.501953125,
          338.9536458333333,
          266.34575892857146,
          178.47352430555554,
          226.0859375,
          176.76264880952382,
          215.5703125,
          269.16607862903226,
          287.53662109375,
          89.3828125,
          218.04457720588235,
          247.59517045454547,
          121.53058035714285,
          161.12651209677418,
          254.478125,
          70.60491071428572,
          220.828125,
          193.48749999999998,
          142.64673913043478,
          398.01640625,
          190.26708984375,
          195.38709677419357,
          255.496826171875,
          178.765625,
          215.5703125,
          174.86466733870967,
          218.57477678571428,
          281.29296875,
          174.69506048387098,
          212.94140625,
          124.7153125,
          132.83708639705884,
          351.50022977941177,
          180.16770833333334,
          232.74583333333334,
          156.31881009615384,
          194.5390625,
          268.3431712962963,
          143.0125,
          286.25868055555554,
          121.40767045454545,
          298.67767137096774,
          213.42824074074076,
          108.52125000000001,
          249.74609375,
          222.40546874999998,
          334.5283203125,
          168.25,
          483.71875,
          187.02790178571428,
          144.26123046875,
          235.85044642857142,
          357.53125,
          502.8380681818182,
          98.70348011363637,
          291.80859375,
          226.0859375,
          205.0546875,
          222.93125,
          237.76996527777777,
          515.265625,
          427.63541666666663,
          189.28125,
          208.998046875,
          438.6517857142857,
          352.2734375,
          347.015625,
          184.16554054054052,
          373.1350806451613,
          204.561767578125,
          354.5267857142857,
          168.25,
          231.34375,
          441.65625,
          153.61338682432432,
          122.30129076086956,
          107.03404017857143,
          97.96134868421052,
          274.64338235294116,
          394.3359375,
          396.08854166666663,
          111.728515625,
          233.3659855769231,
          268.411328125,
          294.4375,
          194.5390625,
          382.06770833333337,
          205.0546875,
          271.6536458333333,
          336.5,
          499.4921875,
          322.4791666666667,
          228.71484375,
          290.9322916666667,
          218.19921875,
          147.21875,
          164.74479166666666,
          194.5390625,
          233.97265625,
          315.46875,
          462.6875,
          199.796875,
          210.3125,
          168.25
         ],
         "y": [
          247.1171875,
          189.28125,
          162.9921875,
          154.34223790322582,
          215.5703125,
          265.87005208333335,
          247.1171875,
          147.21875,
          141.9609375,
          141.9609375,
          124.76646959459458,
          144.58984375,
          162.9921875,
          294.4375,
          126.89801520270271,
          307.65714285714284,
          146.36613175675677,
          184.0234375,
          214.13636363636363,
          293.4427787162162,
          307.82102272727275,
          265.51953125,
          158.5075827205883,
          194.5390625,
          130.2000411184211,
          127.62144886363633,
          226.0859375,
          257.6328125,
          181.0852481617647,
          296.82741477272725,
          175.0542279411764,
          188.8549408783784,
          180.2261284722222,
          294.4375,
          206.41154233870964,
          184.7966452205883,
          130.01136363636368,
          124.27556818181819,
          277.6381478658537,
          178.765625,
          203.01940524193554,
          158.70291940789468,
          157.734375,
          178.9039884868422,
          124.38482142857136,
          276.03515625,
          130.6721047794117,
          151.36965460526312,
          138.5905448717949,
          210.3125,
          262.890625,
          206.4886363636364,
          205.6388888888889,
          108.8676470588236,
          241.859375,
          197.34322916666665,
          72.93094758064518,
          135.2426215277778,
          99.76362179487181,
          269.58238636363643,
          220.828125,
          180.1995738636364,
          80.32769097222219,
          283.39609375,
          136.703125,
          266.833984375,
          241.859375,
          224.6254340277778,
          233.3154296875,
          173.5078125,
          121.23897058823532,
          78.045654296875,
          276.03515625,
          236.6015625,
          147.5579637096774,
          179.61824324324323,
          99.76362179487167,
          150.02291666666665,
          250.567626953125,
          226.33630952380955,
          154.81336805555563,
          131.4453125,
          281.29296875,
          185.62999131944437,
          166.3380681818182,
          104.32606907894734,
          241.859375,
          172.45625000000007,
          183.859130859375,
          169.4184027777778,
          285.3823784722222,
          252.375,
          176.13671875,
          193.86063508064518,
          295.68277138157896,
          114.39294763513507,
          96.71188446969697,
          211.1651182432434,
          247.1171875,
          206.2815104166666,
          244.57308467741942,
          195.922697368421,
          162.9921875,
          201.5494791666667,
          162.9921875,
          240.7440814393939,
          147.21875,
          299.0380859375,
          125.85888671875,
          88.42684659090907,
          197.63189338235296,
          136.703125,
          157.734375,
          136.703125,
          283.0205357142857,
          264.46796875000007,
          80.7546073717949,
          266.833984375,
          133.5484374999999,
          109.90524193548389,
          300.09975961538464,
          273.06703629032256,
          78.34140624999988,
          265.43986742424244,
          305.4619455645161,
          205.73311491935482,
          164.34904233870972,
          140.38359374999993,
          284.7981770833333,
          241.55892857142862,
          179.46666666666664,
          232.97116815476184,
          63.36338141025637,
          250.4763454861111,
          233.3884548611111,
          298.1930803571429,
          238.737548828125,
          219.4260416666666,
          198.04427083333331,
          258.50911458333337,
          249.74609375,
          232.61837121212125,
          234.53599330357144,
          123.55859375,
          55.20703125,
          99.63554687499995,
          173.5078125,
          119.615234375,
          175.3856026785713,
          98.43793402777781,
          147.38835685483872,
          66.41447368421048,
          142.73414522058812,
          126.71328125000012,
          140.8655598958333,
          180.080078125,
          141.9609375,
          203.47734374999993,
          263.0602318548387,
          167.099853515625,
          115.14609375000003,
          98.09575892857136,
          276.32725694444446,
          165.62109375,
          162.24107142857144,
          170.87890625,
          66.99470766129036,
          152.14794921875,
          144.58984375,
          102.21806066176468,
          191.35250946969688,
          221.87968750000002,
          119.74243951612907,
          57.57304687499994,
          170.12779017857144,
          73.609375,
          114.62031250000005,
          114.75747282608701,
          117.24921875000005,
          225.75732421875,
          85.14264112903223,
          103.51318359375,
          56.78437500000006,
          68.3515625,
          273.74546370967744,
          205.95602678571433,
          202.42578125,
          101.25529233870971,
          50.27783203125,
          96.1128125,
          211.54963235294125,
          173.35317095588235,
          209.96197916666668,
          99.54791666666668,
          199.39242788461536,
          157.734375,
          178.3761574074074,
          272.70520833333336,
          60.17274305555562,
          87.47088068181813,
          135.68548387096777,
          244.19618055555563,
          180.44812499999998,
          215.5703125,
          208.9104166666666,
          257.6328125,
          228.71484375,
          136.703125,
          132.9475446428571,
          214.255859375,
          49.57366071428565,
          147.21875,
          188.80326704545453,
          111.13103693181813,
          52.578125,
          36.8046875,
          52.578125,
          119.87812499999998,
          75.36197916666657,
          173.5078125,
          40.309895833333336,
          63.09375,
          82.810546875,
          100.79977678571431,
          236.6015625,
          231.34375,
          263.7432432432434,
          237.7888104838711,
          258.947265625,
          272.65513392857144,
          126.1875,
          178.765625,
          194.046142578125,
          276.6746199324324,
          123.67289402173913,
          195.66573660714286,
          173.78453947368422,
          270.6227022058823,
          109.53776041666664,
          161.23958333333343,
          258.2900390625,
          33.973557692307644,
          210.3125,
          36.8046875,
          187.77901785714283,
          224.3333333333333,
          94.640625,
          77.11458333333329,
          102.52734375,
          170.87890625,
          238.3541666666667,
          68.3515625,
          140.2083333333333,
          73.609375,
          252.375,
          233.09635416666663,
          152.4765625,
          78.8671875,
          31.546875,
          157.734375,
          141.9609375,
          189.28125,
          289.1796875
         ],
         "z": [
          -282.5,
          -215,
          -282.5,
          -282.5,
          -215,
          -282.5,
          -215,
          -215,
          -147.49999999999997,
          -80,
          -215,
          -282.5,
          -80,
          -215,
          -282.5,
          -282.5,
          -80,
          -147.49999999999997,
          -282.5,
          -215,
          -282.5,
          -215,
          -80,
          -147.49999999999997,
          -80,
          -215,
          -147.49999999999997,
          -147.49999999999997,
          -282.5,
          -282.5,
          -80,
          -282.5,
          -215,
          -215,
          -147.49999999999997,
          -80,
          -215,
          -282.5,
          -215,
          -80,
          -80,
          -147.49999999999997,
          -147.49999999999997,
          -350,
          -80,
          -215,
          -147.49999999999997,
          -350,
          -80,
          -80,
          -147.49999999999997,
          -147.49999999999997,
          -215,
          -80,
          -147.49999999999997,
          -215,
          -80,
          -147.49999999999997,
          -80,
          -147.49999999999997,
          -80,
          -80,
          -147.49999999999997,
          -282.5,
          -80,
          -282.5,
          -215,
          -147.49999999999997,
          -80,
          -80,
          -80,
          -80,
          -215,
          -215,
          -80,
          -147.49999999999997,
          -350,
          -80,
          -215,
          -215,
          -80,
          -147.49999999999997,
          -215,
          -147.49999999999997,
          -282.5,
          -147.49999999999997,
          -147.49999999999997,
          -147.49999999999997,
          -80,
          -147.49999999999997,
          -147.49999999999997,
          -215,
          -80,
          -80,
          -282.5,
          -147.49999999999997,
          -282.5,
          -350,
          -147.49999999999997,
          -80,
          -80,
          -215,
          -12.5,
          -80,
          -80,
          -147.49999999999997,
          -12.5,
          -147.49999999999997,
          -215,
          -147.49999999999997,
          -147.49999999999997,
          -147.49999999999997,
          -80,
          -12.5,
          -282.5,
          -147.49999999999997,
          -80,
          -215,
          -12.5,
          -80,
          -282.5,
          -282.5,
          -350,
          -215,
          -215,
          -80,
          -215,
          -350,
          -282.5,
          -80,
          -12.5,
          -147.49999999999997,
          -80,
          -80,
          -147.49999999999997,
          -147.49999999999997,
          -147.49999999999997,
          -80,
          -282.5,
          -215,
          -147.49999999999997,
          -147.49999999999997,
          -80,
          -12.5,
          -80,
          -147.49999999999997,
          -80,
          -80,
          -350,
          -12.5,
          -147.49999999999997,
          -147.49999999999997,
          -12.5,
          -350,
          -147.49999999999997,
          -12.5,
          -215,
          -12.5,
          -147.49999999999997,
          -215,
          -80,
          -80,
          -282.5,
          -12.5,
          -147.49999999999997,
          -80,
          -80,
          -12.5,
          -147.49999999999997,
          -12.5,
          -12.5,
          -215,
          -215,
          -147.49999999999997,
          -147.49999999999997,
          -80,
          -12.5,
          -12.5,
          -147.49999999999997,
          -12.5,
          -12.5,
          -12.5,
          -147.49999999999997,
          -80,
          -80,
          -12.5,
          -147.49999999999997,
          -215,
          -80,
          -80,
          -12.5,
          -80,
          -147.49999999999997,
          -80,
          -215,
          -12.5,
          -147.49999999999997,
          -80,
          -147.49999999999997,
          -147.49999999999997,
          -12.5,
          -350,
          -12.5,
          -147.49999999999997,
          -147.49999999999997,
          -147.49999999999997,
          -282.5,
          -282.5,
          -147.49999999999997,
          -282.5,
          -147.49999999999997,
          -215,
          -282.5,
          -147.49999999999997,
          -80,
          -147.49999999999997,
          -147.49999999999997,
          -215,
          -12.5,
          -282.5,
          -282.5,
          -147.49999999999997,
          -215,
          -215,
          -215,
          -215,
          -350,
          -350,
          -80,
          -215,
          -147.49999999999997,
          -80,
          -350,
          -350,
          -215,
          -282.5,
          -215,
          -147.49999999999997,
          -215,
          -350,
          -80,
          -80,
          -12.5,
          -80,
          -215,
          -147.49999999999997,
          -215,
          -147.49999999999997,
          -147.49999999999997,
          -215,
          -80,
          -215,
          -147.49999999999997,
          -215,
          -12.5,
          -215,
          -147.49999999999997,
          -147.49999999999997,
          -147.49999999999997,
          -350,
          -147.49999999999997,
          -147.49999999999997,
          -80
         ]
        }
       ],
       "layout": {
        "annotations": [
         {
          "font": {
           "size": 16
          },
          "showarrow": false,
          "text": "moving stripes",
          "x": 0.10625,
          "xanchor": "center",
          "xref": "paper",
          "y": 1,
          "yanchor": "bottom",
          "yref": "paper"
         },
         {
          "font": {
           "size": 16
          },
          "showarrow": false,
          "text": "dots_ON",
          "x": 0.36875,
          "xanchor": "center",
          "xref": "paper",
          "y": 1,
          "yanchor": "bottom",
          "yref": "paper"
         },
         {
          "font": {
           "size": 16
          },
          "showarrow": false,
          "text": "dots_OFF",
          "x": 0.6312500000000001,
          "xanchor": "center",
          "xref": "paper",
          "y": 1,
          "yanchor": "bottom",
          "yref": "paper"
         },
         {
          "font": {
           "size": 16
          },
          "showarrow": false,
          "text": "loom",
          "x": 0.89375,
          "xanchor": "center",
          "xref": "paper",
          "y": 1,
          "yanchor": "bottom",
          "yref": "paper"
         }
        ],
        "height": 400,
        "margin": {
         "b": 20,
         "l": 20,
         "r": 20,
         "t": 40
        },
        "scene": {
         "camera": {
          "eye": {
           "x": 0.95,
           "y": 1.25,
           "z": 0.5
          }
         },
         "domain": {
          "x": [
           0,
           0.2125
          ],
          "y": [
           0,
           1
          ]
         }
        },
        "scene2": {
         "camera": {
          "eye": {
           "x": 0.95,
           "y": 1.25,
           "z": 0.5
          }
         },
         "domain": {
          "x": [
           0.2625,
           0.475
          ],
          "y": [
           0,
           1
          ]
         }
        },
        "scene3": {
         "camera": {
          "eye": {
           "x": 0.95,
           "y": 1.25,
           "z": 0.5
          }
         },
         "domain": {
          "x": [
           0.525,
           0.7375
          ],
          "y": [
           0,
           1
          ]
         }
        },
        "scene4": {
         "camera": {
          "eye": {
           "x": 0.95,
           "y": 1.25,
           "z": 0.5
          }
         },
         "domain": {
          "x": [
           0.7875,
           1
          ],
          "y": [
           0,
           1
          ]
         }
        },
        "template": {
         "data": {
          "bar": [
           {
            "error_x": {
             "color": "#2a3f5f"
            },
            "error_y": {
             "color": "#2a3f5f"
            },
            "marker": {
             "line": {
              "color": "#E5ECF6",
              "width": 0.5
             },
             "pattern": {
              "fillmode": "overlay",
              "size": 10,
              "solidity": 0.2
             }
            },
            "type": "bar"
           }
          ],
          "barpolar": [
           {
            "marker": {
             "line": {
              "color": "#E5ECF6",
              "width": 0.5
             },
             "pattern": {
              "fillmode": "overlay",
              "size": 10,
              "solidity": 0.2
             }
            },
            "type": "barpolar"
           }
          ],
          "carpet": [
           {
            "aaxis": {
             "endlinecolor": "#2a3f5f",
             "gridcolor": "white",
             "linecolor": "white",
             "minorgridcolor": "white",
             "startlinecolor": "#2a3f5f"
            },
            "baxis": {
             "endlinecolor": "#2a3f5f",
             "gridcolor": "white",
             "linecolor": "white",
             "minorgridcolor": "white",
             "startlinecolor": "#2a3f5f"
            },
            "type": "carpet"
           }
          ],
          "choropleth": [
           {
            "colorbar": {
             "outlinewidth": 0,
             "ticks": ""
            },
            "type": "choropleth"
           }
          ],
          "contour": [
           {
            "colorbar": {
             "outlinewidth": 0,
             "ticks": ""
            },
            "colorscale": [
             [
              0,
              "#0d0887"
             ],
             [
              0.1111111111111111,
              "#46039f"
             ],
             [
              0.2222222222222222,
              "#7201a8"
             ],
             [
              0.3333333333333333,
              "#9c179e"
             ],
             [
              0.4444444444444444,
              "#bd3786"
             ],
             [
              0.5555555555555556,
              "#d8576b"
             ],
             [
              0.6666666666666666,
              "#ed7953"
             ],
             [
              0.7777777777777778,
              "#fb9f3a"
             ],
             [
              0.8888888888888888,
              "#fdca26"
             ],
             [
              1,
              "#f0f921"
             ]
            ],
            "type": "contour"
           }
          ],
          "contourcarpet": [
           {
            "colorbar": {
             "outlinewidth": 0,
             "ticks": ""
            },
            "type": "contourcarpet"
           }
          ],
          "heatmap": [
           {
            "colorbar": {
             "outlinewidth": 0,
             "ticks": ""
            },
            "colorscale": [
             [
              0,
              "#0d0887"
             ],
             [
              0.1111111111111111,
              "#46039f"
             ],
             [
              0.2222222222222222,
              "#7201a8"
             ],
             [
              0.3333333333333333,
              "#9c179e"
             ],
             [
              0.4444444444444444,
              "#bd3786"
             ],
             [
              0.5555555555555556,
              "#d8576b"
             ],
             [
              0.6666666666666666,
              "#ed7953"
             ],
             [
              0.7777777777777778,
              "#fb9f3a"
             ],
             [
              0.8888888888888888,
              "#fdca26"
             ],
             [
              1,
              "#f0f921"
             ]
            ],
            "type": "heatmap"
           }
          ],
          "heatmapgl": [
           {
            "colorbar": {
             "outlinewidth": 0,
             "ticks": ""
            },
            "colorscale": [
             [
              0,
              "#0d0887"
             ],
             [
              0.1111111111111111,
              "#46039f"
             ],
             [
              0.2222222222222222,
              "#7201a8"
             ],
             [
              0.3333333333333333,
              "#9c179e"
             ],
             [
              0.4444444444444444,
              "#bd3786"
             ],
             [
              0.5555555555555556,
              "#d8576b"
             ],
             [
              0.6666666666666666,
              "#ed7953"
             ],
             [
              0.7777777777777778,
              "#fb9f3a"
             ],
             [
              0.8888888888888888,
              "#fdca26"
             ],
             [
              1,
              "#f0f921"
             ]
            ],
            "type": "heatmapgl"
           }
          ],
          "histogram": [
           {
            "marker": {
             "pattern": {
              "fillmode": "overlay",
              "size": 10,
              "solidity": 0.2
             }
            },
            "type": "histogram"
           }
          ],
          "histogram2d": [
           {
            "colorbar": {
             "outlinewidth": 0,
             "ticks": ""
            },
            "colorscale": [
             [
              0,
              "#0d0887"
             ],
             [
              0.1111111111111111,
              "#46039f"
             ],
             [
              0.2222222222222222,
              "#7201a8"
             ],
             [
              0.3333333333333333,
              "#9c179e"
             ],
             [
              0.4444444444444444,
              "#bd3786"
             ],
             [
              0.5555555555555556,
              "#d8576b"
             ],
             [
              0.6666666666666666,
              "#ed7953"
             ],
             [
              0.7777777777777778,
              "#fb9f3a"
             ],
             [
              0.8888888888888888,
              "#fdca26"
             ],
             [
              1,
              "#f0f921"
             ]
            ],
            "type": "histogram2d"
           }
          ],
          "histogram2dcontour": [
           {
            "colorbar": {
             "outlinewidth": 0,
             "ticks": ""
            },
            "colorscale": [
             [
              0,
              "#0d0887"
             ],
             [
              0.1111111111111111,
              "#46039f"
             ],
             [
              0.2222222222222222,
              "#7201a8"
             ],
             [
              0.3333333333333333,
              "#9c179e"
             ],
             [
              0.4444444444444444,
              "#bd3786"
             ],
             [
              0.5555555555555556,
              "#d8576b"
             ],
             [
              0.6666666666666666,
              "#ed7953"
             ],
             [
              0.7777777777777778,
              "#fb9f3a"
             ],
             [
              0.8888888888888888,
              "#fdca26"
             ],
             [
              1,
              "#f0f921"
             ]
            ],
            "type": "histogram2dcontour"
           }
          ],
          "mesh3d": [
           {
            "colorbar": {
             "outlinewidth": 0,
             "ticks": ""
            },
            "type": "mesh3d"
           }
          ],
          "parcoords": [
           {
            "line": {
             "colorbar": {
              "outlinewidth": 0,
              "ticks": ""
             }
            },
            "type": "parcoords"
           }
          ],
          "pie": [
           {
            "automargin": true,
            "type": "pie"
           }
          ],
          "scatter": [
           {
            "fillpattern": {
             "fillmode": "overlay",
             "size": 10,
             "solidity": 0.2
            },
            "type": "scatter"
           }
          ],
          "scatter3d": [
           {
            "line": {
             "colorbar": {
              "outlinewidth": 0,
              "ticks": ""
             }
            },
            "marker": {
             "colorbar": {
              "outlinewidth": 0,
              "ticks": ""
             }
            },
            "type": "scatter3d"
           }
          ],
          "scattercarpet": [
           {
            "marker": {
             "colorbar": {
              "outlinewidth": 0,
              "ticks": ""
             }
            },
            "type": "scattercarpet"
           }
          ],
          "scattergeo": [
           {
            "marker": {
             "colorbar": {
              "outlinewidth": 0,
              "ticks": ""
             }
            },
            "type": "scattergeo"
           }
          ],
          "scattergl": [
           {
            "marker": {
             "colorbar": {
              "outlinewidth": 0,
              "ticks": ""
             }
            },
            "type": "scattergl"
           }
          ],
          "scattermapbox": [
           {
            "marker": {
             "colorbar": {
              "outlinewidth": 0,
              "ticks": ""
             }
            },
            "type": "scattermapbox"
           }
          ],
          "scatterpolar": [
           {
            "marker": {
             "colorbar": {
              "outlinewidth": 0,
              "ticks": ""
             }
            },
            "type": "scatterpolar"
           }
          ],
          "scatterpolargl": [
           {
            "marker": {
             "colorbar": {
              "outlinewidth": 0,
              "ticks": ""
             }
            },
            "type": "scatterpolargl"
           }
          ],
          "scatterternary": [
           {
            "marker": {
             "colorbar": {
              "outlinewidth": 0,
              "ticks": ""
             }
            },
            "type": "scatterternary"
           }
          ],
          "surface": [
           {
            "colorbar": {
             "outlinewidth": 0,
             "ticks": ""
            },
            "colorscale": [
             [
              0,
              "#0d0887"
             ],
             [
              0.1111111111111111,
              "#46039f"
             ],
             [
              0.2222222222222222,
              "#7201a8"
             ],
             [
              0.3333333333333333,
              "#9c179e"
             ],
             [
              0.4444444444444444,
              "#bd3786"
             ],
             [
              0.5555555555555556,
              "#d8576b"
             ],
             [
              0.6666666666666666,
              "#ed7953"
             ],
             [
              0.7777777777777778,
              "#fb9f3a"
             ],
             [
              0.8888888888888888,
              "#fdca26"
             ],
             [
              1,
              "#f0f921"
             ]
            ],
            "type": "surface"
           }
          ],
          "table": [
           {
            "cells": {
             "fill": {
              "color": "#EBF0F8"
             },
             "line": {
              "color": "white"
             }
            },
            "header": {
             "fill": {
              "color": "#C8D4E3"
             },
             "line": {
              "color": "white"
             }
            },
            "type": "table"
           }
          ]
         },
         "layout": {
          "annotationdefaults": {
           "arrowcolor": "#2a3f5f",
           "arrowhead": 0,
           "arrowwidth": 1
          },
          "autotypenumbers": "strict",
          "coloraxis": {
           "colorbar": {
            "outlinewidth": 0,
            "ticks": ""
           }
          },
          "colorscale": {
           "diverging": [
            [
             0,
             "#8e0152"
            ],
            [
             0.1,
             "#c51b7d"
            ],
            [
             0.2,
             "#de77ae"
            ],
            [
             0.3,
             "#f1b6da"
            ],
            [
             0.4,
             "#fde0ef"
            ],
            [
             0.5,
             "#f7f7f7"
            ],
            [
             0.6,
             "#e6f5d0"
            ],
            [
             0.7,
             "#b8e186"
            ],
            [
             0.8,
             "#7fbc41"
            ],
            [
             0.9,
             "#4d9221"
            ],
            [
             1,
             "#276419"
            ]
           ],
           "sequential": [
            [
             0,
             "#0d0887"
            ],
            [
             0.1111111111111111,
             "#46039f"
            ],
            [
             0.2222222222222222,
             "#7201a8"
            ],
            [
             0.3333333333333333,
             "#9c179e"
            ],
            [
             0.4444444444444444,
             "#bd3786"
            ],
            [
             0.5555555555555556,
             "#d8576b"
            ],
            [
             0.6666666666666666,
             "#ed7953"
            ],
            [
             0.7777777777777778,
             "#fb9f3a"
            ],
            [
             0.8888888888888888,
             "#fdca26"
            ],
            [
             1,
             "#f0f921"
            ]
           ],
           "sequentialminus": [
            [
             0,
             "#0d0887"
            ],
            [
             0.1111111111111111,
             "#46039f"
            ],
            [
             0.2222222222222222,
             "#7201a8"
            ],
            [
             0.3333333333333333,
             "#9c179e"
            ],
            [
             0.4444444444444444,
             "#bd3786"
            ],
            [
             0.5555555555555556,
             "#d8576b"
            ],
            [
             0.6666666666666666,
             "#ed7953"
            ],
            [
             0.7777777777777778,
             "#fb9f3a"
            ],
            [
             0.8888888888888888,
             "#fdca26"
            ],
            [
             1,
             "#f0f921"
            ]
           ]
          },
          "colorway": [
           "#636efa",
           "#EF553B",
           "#00cc96",
           "#ab63fa",
           "#FFA15A",
           "#19d3f3",
           "#FF6692",
           "#B6E880",
           "#FF97FF",
           "#FECB52"
          ],
          "font": {
           "color": "#2a3f5f"
          },
          "geo": {
           "bgcolor": "white",
           "lakecolor": "white",
           "landcolor": "#E5ECF6",
           "showlakes": true,
           "showland": true,
           "subunitcolor": "white"
          },
          "hoverlabel": {
           "align": "left"
          },
          "hovermode": "closest",
          "mapbox": {
           "style": "light"
          },
          "paper_bgcolor": "white",
          "plot_bgcolor": "#E5ECF6",
          "polar": {
           "angularaxis": {
            "gridcolor": "white",
            "linecolor": "white",
            "ticks": ""
           },
           "bgcolor": "#E5ECF6",
           "radialaxis": {
            "gridcolor": "white",
            "linecolor": "white",
            "ticks": ""
           }
          },
          "scene": {
           "xaxis": {
            "backgroundcolor": "#E5ECF6",
            "gridcolor": "white",
            "gridwidth": 2,
            "linecolor": "white",
            "showbackground": true,
            "ticks": "",
            "zerolinecolor": "white"
           },
           "yaxis": {
            "backgroundcolor": "#E5ECF6",
            "gridcolor": "white",
            "gridwidth": 2,
            "linecolor": "white",
            "showbackground": true,
            "ticks": "",
            "zerolinecolor": "white"
           },
           "zaxis": {
            "backgroundcolor": "#E5ECF6",
            "gridcolor": "white",
            "gridwidth": 2,
            "linecolor": "white",
            "showbackground": true,
            "ticks": "",
            "zerolinecolor": "white"
           }
          },
          "shapedefaults": {
           "line": {
            "color": "#2a3f5f"
           }
          },
          "ternary": {
           "aaxis": {
            "gridcolor": "white",
            "linecolor": "white",
            "ticks": ""
           },
           "baxis": {
            "gridcolor": "white",
            "linecolor": "white",
            "ticks": ""
           },
           "bgcolor": "#E5ECF6",
           "caxis": {
            "gridcolor": "white",
            "linecolor": "white",
            "ticks": ""
           }
          },
          "title": {
           "x": 0.05
          },
          "xaxis": {
           "automargin": true,
           "gridcolor": "white",
           "linecolor": "white",
           "ticks": "",
           "title": {
            "standoff": 15
           },
           "zerolinecolor": "white",
           "zerolinewidth": 2
          },
          "yaxis": {
           "automargin": true,
           "gridcolor": "white",
           "linecolor": "white",
           "ticks": "",
           "title": {
            "standoff": 15
           },
           "zerolinecolor": "white",
           "zerolinewidth": 2
          }
         }
        },
        "width": 1800
       }
      }
     },
     "metadata": {},
     "output_type": "display_data"
    }
   ],
   "source": [
    "import plotly.graph_objects as go\n",
    "from plotly.subplots import make_subplots\n",
    "import numpy as np\n",
    "\n",
    "# Calculate scaler\n",
    "range_val = 913 - 240\n",
    "pixelrange = 128\n",
    "scaler = range_val / pixelrange\n",
    "\n",
    "# All data (background)\n",
    "all_data = pooled_data\n",
    "\n",
    "# Get unique stimtypes\n",
    "stimtypes = pooled_data['stimtype'].unique()\n",
    "\n",
    "# Create a subplot figure\n",
    "fig = make_subplots(\n",
    "    rows=1, cols=len(stimtypes),  # One row and one column for each stimtype\n",
    "    specs=[[{'type': 'scatter3d'}] * len(stimtypes)],  # Make each subplot a 3D scatter plot\n",
    "    subplot_titles=stimtypes  # Titles for each subplot\n",
    ")\n",
    "\n",
    "# Define the camera view (adjust this as per your preferred xyz rotation)\n",
    "camera = dict(\n",
    "    eye=dict(x=0.95, y=1.25, z=0.5)  # This sets the viewing angle\n",
    ")\n",
    "\n",
    "# Add all data to each subplot as the background\n",
    "for i, stimtype in enumerate(stimtypes):\n",
    "    # Filter data by stimtype\n",
    "    filtered_data = pooled_data[pooled_data['stimtype'] == stimtype]\n",
    "    \n",
    "    # Map experiment_id to a unique color\n",
    "    experiment_ids = filtered_data['experiment_id'].unique()\n",
    "    colors = ['maroon']  # You can choose another colorscale if you like\n",
    "    color_map = {experiment_id: colors[j % len(colors)] for j, experiment_id in enumerate(experiment_ids)}\n",
    "\n",
    "    # Apply the color map to the filtered data\n",
    "    filtered_data['color'] = filtered_data['experiment_id'].map(color_map)\n",
    "\n",
    "    # Add all data (background)\n",
    "    fig.add_trace(go.Scatter3d(\n",
    "        x=all_data['x_centroid'] * scaler,\n",
    "        y=(all_data['y_centroid'] % y_res) * scaler,\n",
    "        z=-all_data['plane_depth'],\n",
    "        mode='markers',\n",
    "        marker=dict(\n",
    "            size=abs(all_data['amplitude'])*2,\n",
    "            color='gray',  # Light color for background\n",
    "            opacity=0.8  # Low opacity to make it background-like\n",
    "        ),\n",
    "        name=''\n",
    "    ), row=1, col=i+1)\n",
    "\n",
    "    # Add filtered data for the specific stimtype (foreground)\n",
    "    fig.add_trace(go.Scatter3d(\n",
    "        x=filtered_data['x_centroid'] * scaler,\n",
    "        y=(filtered_data['y_centroid'] % y_res) * scaler,\n",
    "        z=-filtered_data['plane_depth'],\n",
    "        mode='markers',\n",
    "        marker=dict(\n",
    "            size=abs(filtered_data['amplitude'])*2,\n",
    "            color=filtered_data['color'],  # Apply color based on experiment_id\n",
    "            opacity=1\n",
    "        ),\n",
    "        name=stimtype\n",
    "    ), row=1, col=i+1)\n",
    "    fig.update_scenes(camera=camera, row=1, col=i+1)\n",
    "\n",
    "# Update layout with desired width, height, and margins\n",
    "fig.update_layout(\n",
    "    height=400,\n",
    "    width=1800,  # Adjust the width to fit all subplots\n",
    "    margin=dict(l=20, r=20, t=40, b=20)\n",
    ")\n",
    "\n",
    "# Show the figure\n",
    "fig.show()\n"
   ]
  },
  {
   "cell_type": "code",
   "execution_count": 468,
   "metadata": {},
   "outputs": [
    {
     "data": {
      "application/vnd.plotly.v1+json": {
       "config": {
        "plotlyServerURL": "https://plot.ly"
       },
       "data": [
        {
         "hovertemplate": "x=%{x}<br>Responsive Area [px]=%{y}<extra></extra>",
         "legendgroup": "",
         "marker": {
          "color": "grey",
          "size": 9,
          "symbol": "circle"
         },
         "mode": "markers",
         "name": "",
         "orientation": "v",
         "showlegend": false,
         "type": "scatter",
         "x": [
          "dots_OFF",
          "dots_ON",
          "loom",
          "moving stripes"
         ],
         "xaxis": "x",
         "y": [
          163,
          2029,
          6627,
          476
         ],
         "yaxis": "y"
        },
        {
         "marker": {
          "color": "crimson",
          "size": 12,
          "symbol": "circle"
         },
         "mode": "markers",
         "name": "Mean",
         "type": "scatter",
         "x": [
          "dots_OFF",
          "dots_ON",
          "loom",
          "moving stripes"
         ],
         "y": [
          163,
          2029,
          6627,
          476
         ]
        }
       ],
       "layout": {
        "height": 400,
        "legend": {
         "tracegroupgap": 0
        },
        "margin": {
         "b": 20,
         "l": 20,
         "r": 20,
         "t": 20
        },
        "plot_bgcolor": "white",
        "template": {
         "data": {
          "bar": [
           {
            "error_x": {
             "color": "#2a3f5f"
            },
            "error_y": {
             "color": "#2a3f5f"
            },
            "marker": {
             "line": {
              "color": "#E5ECF6",
              "width": 0.5
             },
             "pattern": {
              "fillmode": "overlay",
              "size": 10,
              "solidity": 0.2
             }
            },
            "type": "bar"
           }
          ],
          "barpolar": [
           {
            "marker": {
             "line": {
              "color": "#E5ECF6",
              "width": 0.5
             },
             "pattern": {
              "fillmode": "overlay",
              "size": 10,
              "solidity": 0.2
             }
            },
            "type": "barpolar"
           }
          ],
          "carpet": [
           {
            "aaxis": {
             "endlinecolor": "#2a3f5f",
             "gridcolor": "white",
             "linecolor": "white",
             "minorgridcolor": "white",
             "startlinecolor": "#2a3f5f"
            },
            "baxis": {
             "endlinecolor": "#2a3f5f",
             "gridcolor": "white",
             "linecolor": "white",
             "minorgridcolor": "white",
             "startlinecolor": "#2a3f5f"
            },
            "type": "carpet"
           }
          ],
          "choropleth": [
           {
            "colorbar": {
             "outlinewidth": 0,
             "ticks": ""
            },
            "type": "choropleth"
           }
          ],
          "contour": [
           {
            "colorbar": {
             "outlinewidth": 0,
             "ticks": ""
            },
            "colorscale": [
             [
              0,
              "#0d0887"
             ],
             [
              0.1111111111111111,
              "#46039f"
             ],
             [
              0.2222222222222222,
              "#7201a8"
             ],
             [
              0.3333333333333333,
              "#9c179e"
             ],
             [
              0.4444444444444444,
              "#bd3786"
             ],
             [
              0.5555555555555556,
              "#d8576b"
             ],
             [
              0.6666666666666666,
              "#ed7953"
             ],
             [
              0.7777777777777778,
              "#fb9f3a"
             ],
             [
              0.8888888888888888,
              "#fdca26"
             ],
             [
              1,
              "#f0f921"
             ]
            ],
            "type": "contour"
           }
          ],
          "contourcarpet": [
           {
            "colorbar": {
             "outlinewidth": 0,
             "ticks": ""
            },
            "type": "contourcarpet"
           }
          ],
          "heatmap": [
           {
            "colorbar": {
             "outlinewidth": 0,
             "ticks": ""
            },
            "colorscale": [
             [
              0,
              "#0d0887"
             ],
             [
              0.1111111111111111,
              "#46039f"
             ],
             [
              0.2222222222222222,
              "#7201a8"
             ],
             [
              0.3333333333333333,
              "#9c179e"
             ],
             [
              0.4444444444444444,
              "#bd3786"
             ],
             [
              0.5555555555555556,
              "#d8576b"
             ],
             [
              0.6666666666666666,
              "#ed7953"
             ],
             [
              0.7777777777777778,
              "#fb9f3a"
             ],
             [
              0.8888888888888888,
              "#fdca26"
             ],
             [
              1,
              "#f0f921"
             ]
            ],
            "type": "heatmap"
           }
          ],
          "heatmapgl": [
           {
            "colorbar": {
             "outlinewidth": 0,
             "ticks": ""
            },
            "colorscale": [
             [
              0,
              "#0d0887"
             ],
             [
              0.1111111111111111,
              "#46039f"
             ],
             [
              0.2222222222222222,
              "#7201a8"
             ],
             [
              0.3333333333333333,
              "#9c179e"
             ],
             [
              0.4444444444444444,
              "#bd3786"
             ],
             [
              0.5555555555555556,
              "#d8576b"
             ],
             [
              0.6666666666666666,
              "#ed7953"
             ],
             [
              0.7777777777777778,
              "#fb9f3a"
             ],
             [
              0.8888888888888888,
              "#fdca26"
             ],
             [
              1,
              "#f0f921"
             ]
            ],
            "type": "heatmapgl"
           }
          ],
          "histogram": [
           {
            "marker": {
             "pattern": {
              "fillmode": "overlay",
              "size": 10,
              "solidity": 0.2
             }
            },
            "type": "histogram"
           }
          ],
          "histogram2d": [
           {
            "colorbar": {
             "outlinewidth": 0,
             "ticks": ""
            },
            "colorscale": [
             [
              0,
              "#0d0887"
             ],
             [
              0.1111111111111111,
              "#46039f"
             ],
             [
              0.2222222222222222,
              "#7201a8"
             ],
             [
              0.3333333333333333,
              "#9c179e"
             ],
             [
              0.4444444444444444,
              "#bd3786"
             ],
             [
              0.5555555555555556,
              "#d8576b"
             ],
             [
              0.6666666666666666,
              "#ed7953"
             ],
             [
              0.7777777777777778,
              "#fb9f3a"
             ],
             [
              0.8888888888888888,
              "#fdca26"
             ],
             [
              1,
              "#f0f921"
             ]
            ],
            "type": "histogram2d"
           }
          ],
          "histogram2dcontour": [
           {
            "colorbar": {
             "outlinewidth": 0,
             "ticks": ""
            },
            "colorscale": [
             [
              0,
              "#0d0887"
             ],
             [
              0.1111111111111111,
              "#46039f"
             ],
             [
              0.2222222222222222,
              "#7201a8"
             ],
             [
              0.3333333333333333,
              "#9c179e"
             ],
             [
              0.4444444444444444,
              "#bd3786"
             ],
             [
              0.5555555555555556,
              "#d8576b"
             ],
             [
              0.6666666666666666,
              "#ed7953"
             ],
             [
              0.7777777777777778,
              "#fb9f3a"
             ],
             [
              0.8888888888888888,
              "#fdca26"
             ],
             [
              1,
              "#f0f921"
             ]
            ],
            "type": "histogram2dcontour"
           }
          ],
          "mesh3d": [
           {
            "colorbar": {
             "outlinewidth": 0,
             "ticks": ""
            },
            "type": "mesh3d"
           }
          ],
          "parcoords": [
           {
            "line": {
             "colorbar": {
              "outlinewidth": 0,
              "ticks": ""
             }
            },
            "type": "parcoords"
           }
          ],
          "pie": [
           {
            "automargin": true,
            "type": "pie"
           }
          ],
          "scatter": [
           {
            "fillpattern": {
             "fillmode": "overlay",
             "size": 10,
             "solidity": 0.2
            },
            "type": "scatter"
           }
          ],
          "scatter3d": [
           {
            "line": {
             "colorbar": {
              "outlinewidth": 0,
              "ticks": ""
             }
            },
            "marker": {
             "colorbar": {
              "outlinewidth": 0,
              "ticks": ""
             }
            },
            "type": "scatter3d"
           }
          ],
          "scattercarpet": [
           {
            "marker": {
             "colorbar": {
              "outlinewidth": 0,
              "ticks": ""
             }
            },
            "type": "scattercarpet"
           }
          ],
          "scattergeo": [
           {
            "marker": {
             "colorbar": {
              "outlinewidth": 0,
              "ticks": ""
             }
            },
            "type": "scattergeo"
           }
          ],
          "scattergl": [
           {
            "marker": {
             "colorbar": {
              "outlinewidth": 0,
              "ticks": ""
             }
            },
            "type": "scattergl"
           }
          ],
          "scattermapbox": [
           {
            "marker": {
             "colorbar": {
              "outlinewidth": 0,
              "ticks": ""
             }
            },
            "type": "scattermapbox"
           }
          ],
          "scatterpolar": [
           {
            "marker": {
             "colorbar": {
              "outlinewidth": 0,
              "ticks": ""
             }
            },
            "type": "scatterpolar"
           }
          ],
          "scatterpolargl": [
           {
            "marker": {
             "colorbar": {
              "outlinewidth": 0,
              "ticks": ""
             }
            },
            "type": "scatterpolargl"
           }
          ],
          "scatterternary": [
           {
            "marker": {
             "colorbar": {
              "outlinewidth": 0,
              "ticks": ""
             }
            },
            "type": "scatterternary"
           }
          ],
          "surface": [
           {
            "colorbar": {
             "outlinewidth": 0,
             "ticks": ""
            },
            "colorscale": [
             [
              0,
              "#0d0887"
             ],
             [
              0.1111111111111111,
              "#46039f"
             ],
             [
              0.2222222222222222,
              "#7201a8"
             ],
             [
              0.3333333333333333,
              "#9c179e"
             ],
             [
              0.4444444444444444,
              "#bd3786"
             ],
             [
              0.5555555555555556,
              "#d8576b"
             ],
             [
              0.6666666666666666,
              "#ed7953"
             ],
             [
              0.7777777777777778,
              "#fb9f3a"
             ],
             [
              0.8888888888888888,
              "#fdca26"
             ],
             [
              1,
              "#f0f921"
             ]
            ],
            "type": "surface"
           }
          ],
          "table": [
           {
            "cells": {
             "fill": {
              "color": "#EBF0F8"
             },
             "line": {
              "color": "white"
             }
            },
            "header": {
             "fill": {
              "color": "#C8D4E3"
             },
             "line": {
              "color": "white"
             }
            },
            "type": "table"
           }
          ]
         },
         "layout": {
          "annotationdefaults": {
           "arrowcolor": "#2a3f5f",
           "arrowhead": 0,
           "arrowwidth": 1
          },
          "autotypenumbers": "strict",
          "coloraxis": {
           "colorbar": {
            "outlinewidth": 0,
            "ticks": ""
           }
          },
          "colorscale": {
           "diverging": [
            [
             0,
             "#8e0152"
            ],
            [
             0.1,
             "#c51b7d"
            ],
            [
             0.2,
             "#de77ae"
            ],
            [
             0.3,
             "#f1b6da"
            ],
            [
             0.4,
             "#fde0ef"
            ],
            [
             0.5,
             "#f7f7f7"
            ],
            [
             0.6,
             "#e6f5d0"
            ],
            [
             0.7,
             "#b8e186"
            ],
            [
             0.8,
             "#7fbc41"
            ],
            [
             0.9,
             "#4d9221"
            ],
            [
             1,
             "#276419"
            ]
           ],
           "sequential": [
            [
             0,
             "#0d0887"
            ],
            [
             0.1111111111111111,
             "#46039f"
            ],
            [
             0.2222222222222222,
             "#7201a8"
            ],
            [
             0.3333333333333333,
             "#9c179e"
            ],
            [
             0.4444444444444444,
             "#bd3786"
            ],
            [
             0.5555555555555556,
             "#d8576b"
            ],
            [
             0.6666666666666666,
             "#ed7953"
            ],
            [
             0.7777777777777778,
             "#fb9f3a"
            ],
            [
             0.8888888888888888,
             "#fdca26"
            ],
            [
             1,
             "#f0f921"
            ]
           ],
           "sequentialminus": [
            [
             0,
             "#0d0887"
            ],
            [
             0.1111111111111111,
             "#46039f"
            ],
            [
             0.2222222222222222,
             "#7201a8"
            ],
            [
             0.3333333333333333,
             "#9c179e"
            ],
            [
             0.4444444444444444,
             "#bd3786"
            ],
            [
             0.5555555555555556,
             "#d8576b"
            ],
            [
             0.6666666666666666,
             "#ed7953"
            ],
            [
             0.7777777777777778,
             "#fb9f3a"
            ],
            [
             0.8888888888888888,
             "#fdca26"
            ],
            [
             1,
             "#f0f921"
            ]
           ]
          },
          "colorway": [
           "#636efa",
           "#EF553B",
           "#00cc96",
           "#ab63fa",
           "#FFA15A",
           "#19d3f3",
           "#FF6692",
           "#B6E880",
           "#FF97FF",
           "#FECB52"
          ],
          "font": {
           "color": "#2a3f5f"
          },
          "geo": {
           "bgcolor": "white",
           "lakecolor": "white",
           "landcolor": "#E5ECF6",
           "showlakes": true,
           "showland": true,
           "subunitcolor": "white"
          },
          "hoverlabel": {
           "align": "left"
          },
          "hovermode": "closest",
          "mapbox": {
           "style": "light"
          },
          "paper_bgcolor": "white",
          "plot_bgcolor": "#E5ECF6",
          "polar": {
           "angularaxis": {
            "gridcolor": "white",
            "linecolor": "white",
            "ticks": ""
           },
           "bgcolor": "#E5ECF6",
           "radialaxis": {
            "gridcolor": "white",
            "linecolor": "white",
            "ticks": ""
           }
          },
          "scene": {
           "xaxis": {
            "backgroundcolor": "#E5ECF6",
            "gridcolor": "white",
            "gridwidth": 2,
            "linecolor": "white",
            "showbackground": true,
            "ticks": "",
            "zerolinecolor": "white"
           },
           "yaxis": {
            "backgroundcolor": "#E5ECF6",
            "gridcolor": "white",
            "gridwidth": 2,
            "linecolor": "white",
            "showbackground": true,
            "ticks": "",
            "zerolinecolor": "white"
           },
           "zaxis": {
            "backgroundcolor": "#E5ECF6",
            "gridcolor": "white",
            "gridwidth": 2,
            "linecolor": "white",
            "showbackground": true,
            "ticks": "",
            "zerolinecolor": "white"
           }
          },
          "shapedefaults": {
           "line": {
            "color": "#2a3f5f"
           }
          },
          "ternary": {
           "aaxis": {
            "gridcolor": "white",
            "linecolor": "white",
            "ticks": ""
           },
           "baxis": {
            "gridcolor": "white",
            "linecolor": "white",
            "ticks": ""
           },
           "bgcolor": "#E5ECF6",
           "caxis": {
            "gridcolor": "white",
            "linecolor": "white",
            "ticks": ""
           }
          },
          "title": {
           "x": 0.05
          },
          "xaxis": {
           "automargin": true,
           "gridcolor": "white",
           "linecolor": "white",
           "ticks": "",
           "title": {
            "standoff": 15
           },
           "zerolinecolor": "white",
           "zerolinewidth": 2
          },
          "yaxis": {
           "automargin": true,
           "gridcolor": "white",
           "linecolor": "white",
           "ticks": "",
           "title": {
            "standoff": 15
           },
           "zerolinecolor": "white",
           "zerolinewidth": 2
          }
         }
        },
        "width": 300,
        "xaxis": {
         "anchor": "y",
         "domain": [
          0,
          1
         ],
         "linecolor": "black",
         "linewidth": 2,
         "mirror": false,
         "range": [
          -1,
          4
         ],
         "showline": true,
         "tickcolor": "black",
         "ticklen": 10,
         "ticks": "outside",
         "tickvals": [
          0,
          1,
          2,
          3
         ],
         "tickwidth": 2,
         "title": {
          "text": "x"
         }
        },
        "yaxis": {
         "anchor": "x",
         "domain": [
          0,
          1
         ],
         "linecolor": "black",
         "linewidth": 2,
         "mirror": false,
         "showline": true,
         "title": {
          "text": "Responsive Area [px]"
         }
        }
       }
      }
     },
     "metadata": {},
     "output_type": "display_data"
    }
   ],
   "source": [
    "import plotly.express as px\n",
    "import numpy as np\n",
    "import pandas as pd\n",
    "\n",
    "# Create empty lists to accumulate the data\n",
    "x_vals = []\n",
    "y_vals = []\n",
    "\n",
    "# Loop to accumulate data\n",
    "for id in np.unique(experiment_ID):\n",
    "    for idx, stim in enumerate(np.unique(stimulus)):\n",
    "        filtered_data = pooled_data[(pooled_data['stimtype'] == stim) & (pooled_data['experiment_id'] == id)]\n",
    "        responsive_area = filtered_data['size'].sum()\n",
    "        x_vals.append(stim)\n",
    "        y_vals.append(responsive_area)\n",
    "\n",
    "# Create a DataFrame for easier calculation of means\n",
    "data = pd.DataFrame({'x': x_vals, 'y': y_vals})\n",
    "\n",
    "# Calculate the mean for each unique x value\n",
    "means = data.groupby('x')['y'].mean().reset_index()\n",
    "\n",
    "# Create the scatter plot after the loop\n",
    "fig = px.scatter(x=x_vals, y=y_vals, labels={'y': 'Responsive Area [px]'})\n",
    "\n",
    "# Update the layout and traces for the main scatter plot\n",
    "fig.update_layout(width=300, height=400, margin=dict(l=20, r=20, t=20, b=20))\n",
    "fig.update_traces(marker=dict(size=9, color='grey'))\n",
    "fig.update_xaxes(range=[-1, 4])\n",
    "#fig.update_yaxes(range=[-100, 4000])\n",
    "\n",
    "# Style the plot\n",
    "fig.update_layout(\n",
    "    plot_bgcolor='white',\n",
    "    xaxis=dict(\n",
    "        showline=True, linewidth=2, linecolor='black', mirror=False,\n",
    "        tickvals=[0, 1, 2, 3],\n",
    "        ticks='outside', ticklen=10, tickwidth=2, tickcolor='black'\n",
    "    ),\n",
    "    yaxis=dict(\n",
    "        showline=True, linewidth=2, linecolor='black', mirror=False\n",
    "    )\n",
    ")\n",
    "\n",
    "# Overlay black dots for the mean values\n",
    "fig.add_scatter(\n",
    "    x=means['x'], y=means['y'], \n",
    "    mode='markers', \n",
    "    marker=dict(size=12, color='crimson', symbol='circle'), \n",
    "    name='Mean'\n",
    ")\n",
    "\n",
    "# Show the plot\n",
    "fig.show()\n"
   ]
  },
  {
   "cell_type": "code",
   "execution_count": 469,
   "metadata": {},
   "outputs": [
    {
     "data": {
      "application/vnd.plotly.v1+json": {
       "config": {
        "plotlyServerURL": "https://plot.ly"
       },
       "data": [
        {
         "hovertemplate": "stimtype=moving stripes<br>ot_depth=%{x}<br>integral=%{y}<extra></extra>",
         "legendgroup": "moving stripes",
         "marker": {
          "color": "#636efa",
          "opacity": 0.9,
          "symbol": "circle"
         },
         "mode": "markers",
         "name": "moving stripes",
         "orientation": "v",
         "showlegend": true,
         "type": "scatter",
         "x": [
          56,
          101,
          60,
          54,
          101,
          101,
          101,
          101,
          101,
          101,
          92,
          101,
          101,
          101,
          101,
          101,
          101,
          94,
          101,
          33,
          101,
          101,
          101
         ],
         "xaxis": "x",
         "y": [
          132.00050354003906,
          74.18009948730469,
          51.6955451965332,
          199.96719360351562,
          89.97557067871094,
          32.00664138793945,
          38.18147277832031,
          38.291046142578125,
          47.047019958496094,
          74.74126434326172,
          233.0707244873047,
          100.46060943603516,
          84.92461395263672,
          16.188335418701172,
          45.666648864746094,
          57.91658401489258,
          66.5564193725586,
          49.862831115722656,
          63.261192321777344,
          0.37367546558380127,
          13.744514465332031,
          33.09651565551758,
          24.59994888305664
         ],
         "yaxis": "y"
        },
        {
         "hovertemplate": "stimtype=dots_ON<br>ot_depth=%{x}<br>integral=%{y}<extra></extra>",
         "legendgroup": "dots_ON",
         "marker": {
          "color": "#EF553B",
          "opacity": 0.9,
          "symbol": "circle"
         },
         "mode": "markers",
         "name": "dots_ON",
         "orientation": "v",
         "showlegend": true,
         "type": "scatter",
         "x": [
          101,
          101,
          78,
          101,
          101,
          101,
          101,
          101,
          101,
          101,
          101,
          101,
          101,
          101,
          101,
          101,
          101,
          101,
          101,
          56,
          101,
          32,
          101,
          60,
          101,
          101,
          40,
          101,
          54,
          101,
          101,
          81,
          101,
          101,
          101,
          101,
          101,
          101,
          101,
          101,
          101,
          101,
          101,
          101,
          67,
          92,
          101,
          101,
          101,
          101,
          101,
          101,
          101,
          101,
          101,
          101,
          101,
          101,
          101,
          81,
          101,
          101,
          101,
          101,
          101,
          101,
          93,
          101,
          101,
          101
         ],
         "xaxis": "x",
         "y": [
          -19.39854621887207,
          -20.755220413208008,
          -18.63903045654297,
          -42.53084945678711,
          -56.00779342651367,
          -29.5858154296875,
          -20.514158248901367,
          -24.32734489440918,
          -9.309416770935059,
          -21.135440826416016,
          -14.968704223632812,
          -36.688720703125,
          -20.280624389648438,
          -37.44536209106445,
          -20.98187255859375,
          -34.7001838684082,
          -21.12190818786621,
          -4.943488121032715,
          -26.656723022460938,
          207.8870849609375,
          159.73196411132812,
          84.05917358398438,
          76.81629180908203,
          140.51690673828125,
          285.0655822753906,
          154.52720642089844,
          100.48287200927734,
          43.0401611328125,
          244.03004455566406,
          126.68059539794922,
          168.3054656982422,
          104.44762420654297,
          62.41478729248047,
          39.633522033691406,
          62.665306091308594,
          33.186283111572266,
          73.24072265625,
          78.48053741455078,
          59.387969970703125,
          113.62190246582031,
          48.5792350769043,
          25.428497314453125,
          53.66504669189453,
          105.70304107666016,
          110.41649627685547,
          240.44412231445312,
          37.553592681884766,
          52.71476745605469,
          78.35747528076172,
          61.058963775634766,
          55.143280029296875,
          54.34148406982422,
          75.2911376953125,
          88.23963165283203,
          66.56839752197266,
          118.19829559326172,
          105.80789947509766,
          51.81072235107422,
          41.949153900146484,
          39.1253547668457,
          38.417850494384766,
          70.1024169921875,
          78.9739761352539,
          75.83991241455078,
          83.8492431640625,
          53.44497299194336,
          42.420772552490234,
          57.087074279785156,
          28.007732391357422,
          26.979938507080078
         ],
         "yaxis": "y"
        },
        {
         "hovertemplate": "stimtype=dots_OFF<br>ot_depth=%{x}<br>integral=%{y}<extra></extra>",
         "legendgroup": "dots_OFF",
         "marker": {
          "color": "#00cc96",
          "opacity": 0.9,
          "symbol": "circle"
         },
         "mode": "markers",
         "name": "dots_OFF",
         "orientation": "v",
         "showlegend": true,
         "type": "scatter",
         "x": [
          56,
          101,
          54,
          101,
          101,
          101,
          101
         ],
         "xaxis": "x",
         "y": [
          20.568294525146484,
          87.54695892333984,
          102.8054428100586,
          69.6205062866211,
          26.399093627929688,
          37.89981460571289,
          35.929351806640625
         ],
         "yaxis": "y"
        },
        {
         "hovertemplate": "stimtype=loom<br>ot_depth=%{x}<br>integral=%{y}<extra></extra>",
         "legendgroup": "loom",
         "marker": {
          "color": "#ab63fa",
          "opacity": 0.9,
          "symbol": "circle"
         },
         "mode": "markers",
         "name": "loom",
         "orientation": "v",
         "showlegend": true,
         "type": "scatter",
         "x": [
          56,
          101,
          32,
          4,
          101,
          60,
          101,
          101,
          101,
          101,
          101,
          40,
          101,
          101,
          43,
          78,
          101,
          101,
          54,
          101,
          71,
          101,
          101,
          101,
          101,
          101,
          101,
          101,
          81,
          78,
          101,
          30,
          101,
          101,
          101,
          101,
          101,
          5,
          101,
          101,
          101,
          101,
          101,
          101,
          101,
          101,
          101,
          101,
          101,
          101,
          101,
          101,
          101,
          101,
          101,
          101,
          101,
          101,
          101,
          101,
          101,
          101,
          101,
          67,
          101,
          92,
          101,
          101,
          101,
          101,
          101,
          101,
          101,
          101,
          101,
          101,
          101,
          101,
          101,
          101,
          101,
          101,
          101,
          101,
          94,
          101,
          101,
          101,
          101,
          101,
          101,
          101,
          101,
          101,
          60,
          101,
          15,
          101,
          101,
          101,
          101,
          101,
          101,
          101,
          101,
          101,
          101,
          101,
          101,
          101,
          101,
          101,
          101,
          101,
          74,
          101,
          101,
          101,
          101,
          101,
          60,
          30,
          101,
          101,
          101,
          101,
          101,
          101,
          58,
          101,
          101,
          101,
          101,
          101,
          101,
          101,
          101,
          101,
          -1,
          101,
          101,
          101,
          101,
          101,
          101,
          101,
          101,
          101,
          101,
          101,
          101,
          101,
          101,
          101,
          101,
          101,
          101,
          101,
          101,
          101,
          101,
          101,
          24,
          101,
          101,
          101,
          101,
          101,
          101,
          101,
          101,
          101,
          101,
          101,
          101,
          101,
          101,
          101,
          101,
          101,
          101,
          101,
          101,
          101,
          101,
          101,
          101,
          101,
          101,
          101,
          101,
          101,
          101,
          101,
          101,
          101,
          101,
          101,
          101,
          101,
          101,
          101,
          101,
          101,
          101,
          101,
          -1,
          75,
          101,
          -1,
          101,
          101,
          101,
          101,
          101,
          101,
          101,
          101,
          101,
          101,
          -1,
          101,
          101,
          101,
          101,
          101,
          101,
          101,
          101,
          101,
          101,
          101,
          101,
          101,
          101,
          -1,
          101,
          101,
          101,
          101,
          101,
          101,
          101,
          101,
          101,
          101,
          101,
          101,
          101,
          101,
          101,
          101,
          101,
          101,
          101,
          101,
          101,
          101,
          101,
          101,
          101,
          101,
          101
         ],
         "xaxis": "x",
         "y": [
          73.62471008300781,
          171.32740783691406,
          32.2817497253418,
          38.38703536987305,
          66.38358306884766,
          57.17898178100586,
          102.31307983398438,
          68.35266876220703,
          25.05512809753418,
          43.660335540771484,
          93.96771240234375,
          159.0182342529297,
          180.63168334960938,
          57.8151741027832,
          50.178497314453125,
          44.245750427246094,
          129.84268188476562,
          75.29634094238281,
          85.87098693847656,
          119.72219848632812,
          37.28125762939453,
          51.67500305175781,
          128.2151641845703,
          90.91656494140625,
          114.07244873046875,
          83.11109161376953,
          75.68472290039062,
          76.64128112792969,
          59.05037307739258,
          33.2289924621582,
          101.03002166748047,
          26.855390548706055,
          23.256759643554688,
          14.507505416870117,
          56.034568786621094,
          109.1944351196289,
          32.49775695800781,
          46.67757034301758,
          59.58027267456055,
          17.263866424560547,
          82.40208435058594,
          94.11202239990234,
          117.03572082519531,
          18.17601776123047,
          124.10738372802734,
          121.5093002319336,
          51.14887619018555,
          80.27725982666016,
          32.767940521240234,
          65.89351654052734,
          42.160926818847656,
          48.39427947998047,
          36.95002746582031,
          183.6483917236328,
          49.79920196533203,
          68.2509994506836,
          14.886005401611328,
          90.08538055419922,
          119.23118591308594,
          49.97505569458008,
          68.71426391601562,
          77.9122543334961,
          88.4845962524414,
          49.009178161621094,
          35.15392303466797,
          112.27973937988281,
          57.84549331665039,
          70.7881851196289,
          71.20974731445312,
          39.78428268432617,
          97.05585479736328,
          78.37126922607422,
          39.02464294433594,
          27.193096160888672,
          151.50811767578125,
          68.8041763305664,
          49.069095611572266,
          35.22397232055664,
          32.70442581176758,
          57.02717971801758,
          124.85624694824219,
          123.89332580566406,
          23.89317512512207,
          77.79451751708984,
          64.6761703491211,
          64.55792999267578,
          34.95172882080078,
          34.60449981689453,
          68.11779022216797,
          49.53885269165039,
          39.29460906982422,
          53.33151626586914,
          26.735109329223633,
          124.87950134277344,
          19.249549865722656,
          25.5074462890625,
          25.589412689208984,
          17.44021224975586,
          16.455732345581055,
          58.62662887573242,
          49.017730712890625,
          65.63082122802734,
          96.65995025634766,
          55.27400207519531,
          45.18290328979492,
          34.972412109375,
          32.68623733520508,
          21.91519546508789,
          99.40111541748047,
          33.5061149597168,
          74.60365295410156,
          21.097074508666992,
          50.87272262573242,
          156.3330078125,
          54.61500930786133,
          53.418846130371094,
          99.33549499511719,
          27.641517639160156,
          85.3019790649414,
          188.8525390625,
          30.010751724243164,
          29.435874938964844,
          98.41357421875,
          36.568138122558594,
          13.329127311706543,
          38.27626419067383,
          53.859622955322266,
          115.89464569091797,
          22.02351188659668,
          49.75386047363281,
          60.88862228393555,
          36.8728141784668,
          78.74164581298828,
          44.261474609375,
          69.70945739746094,
          28.972984313964844,
          36.23844528198242,
          69.93106842041016,
          50.904380798339844,
          36.204219818115234,
          37.22221374511719,
          24.065006256103516,
          46.37065887451172,
          54.86167907714844,
          37.0032844543457,
          67.23636627197266,
          23.443796157836914,
          140.9649658203125,
          44.695396423339844,
          47.64966583251953,
          30.644926071166992,
          60.58894348144531,
          78.13436889648438,
          15.987662315368652,
          36.919578552246094,
          45.34489440917969,
          28.456384658813477,
          82.35580444335938,
          49.76824188232422,
          49.22049331665039,
          71.7364730834961,
          59.80760192871094,
          68.63243103027344,
          66.8724136352539,
          53.780242919921875,
          66.57686614990234,
          47.079124450683594,
          17.307546615600586,
          57.55882263183594,
          48.33829879760742,
          78.63541412353516,
          20.944910049438477,
          46.699974060058594,
          22.540878295898438,
          35.69683837890625,
          38.187782287597656,
          41.201229095458984,
          68.08770751953125,
          59.27000427246094,
          34.960628509521484,
          37.316551208496094,
          44.580467224121094,
          33.084651947021484,
          25.143836975097656,
          50.610408782958984,
          85.85185241699219,
          48.263427734375,
          108.65194702148438,
          45.9979362487793,
          30.54569435119629,
          42.52397537231445,
          18.18186378479004,
          93.8515396118164,
          57.555667877197266,
          94.21546936035156,
          18.24488639831543,
          23.352476119995117,
          27.3559513092041,
          30.386791229248047,
          23.193483352661133,
          24.731290817260742,
          26.64965057373047,
          41.163238525390625,
          38.55782699584961,
          46.610660552978516,
          28.969728469848633,
          24.012704849243164,
          12.790721893310547,
          29.027179718017578,
          18.9078369140625,
          20.6330623626709,
          33.410152435302734,
          28.711017608642578,
          37.707698822021484,
          32.10854721069336,
          35.75551223754883,
          24.34673309326172,
          35.39362716674805,
          55.785343170166016,
          45.988590240478516,
          23.521862030029297,
          28.026403427124023,
          15.872756958007812,
          5.53035831451416,
          7.7558088302612305,
          12.054969787597656,
          36.88858413696289,
          19.451229095458984,
          48.033714294433594,
          19.859195709228516,
          38.10468292236328,
          20.489391326904297,
          24.167394638061523,
          33.500823974609375,
          11.738994598388672,
          50.22226333618164,
          19.41585922241211,
          32.96216583251953,
          7.065268039703369,
          17.771291732788086,
          28.436649322509766,
          20.657302856445312,
          53.77430725097656,
          58.789154052734375,
          25.024208068847656,
          12.458063125610352,
          16.025976181030273,
          14.016712188720703,
          10.282645225524902,
          35.42245864868164,
          33.0354118347168,
          32.06568908691406,
          21.021121978759766,
          11.059991836547852,
          20.087656021118164,
          19.547122955322266,
          16.829105377197266,
          25.38994598388672,
          12.538623809814453,
          10.466464042663574,
          9.72061538696289,
          8.558141708374023,
          24.612730026245117
         ],
         "yaxis": "y"
        }
       ],
       "layout": {
        "legend": {
         "title": {
          "text": "stimtype"
         },
         "tracegroupgap": 0
        },
        "margin": {
         "t": 60
        },
        "template": {
         "data": {
          "bar": [
           {
            "error_x": {
             "color": "#2a3f5f"
            },
            "error_y": {
             "color": "#2a3f5f"
            },
            "marker": {
             "line": {
              "color": "#E5ECF6",
              "width": 0.5
             },
             "pattern": {
              "fillmode": "overlay",
              "size": 10,
              "solidity": 0.2
             }
            },
            "type": "bar"
           }
          ],
          "barpolar": [
           {
            "marker": {
             "line": {
              "color": "#E5ECF6",
              "width": 0.5
             },
             "pattern": {
              "fillmode": "overlay",
              "size": 10,
              "solidity": 0.2
             }
            },
            "type": "barpolar"
           }
          ],
          "carpet": [
           {
            "aaxis": {
             "endlinecolor": "#2a3f5f",
             "gridcolor": "white",
             "linecolor": "white",
             "minorgridcolor": "white",
             "startlinecolor": "#2a3f5f"
            },
            "baxis": {
             "endlinecolor": "#2a3f5f",
             "gridcolor": "white",
             "linecolor": "white",
             "minorgridcolor": "white",
             "startlinecolor": "#2a3f5f"
            },
            "type": "carpet"
           }
          ],
          "choropleth": [
           {
            "colorbar": {
             "outlinewidth": 0,
             "ticks": ""
            },
            "type": "choropleth"
           }
          ],
          "contour": [
           {
            "colorbar": {
             "outlinewidth": 0,
             "ticks": ""
            },
            "colorscale": [
             [
              0,
              "#0d0887"
             ],
             [
              0.1111111111111111,
              "#46039f"
             ],
             [
              0.2222222222222222,
              "#7201a8"
             ],
             [
              0.3333333333333333,
              "#9c179e"
             ],
             [
              0.4444444444444444,
              "#bd3786"
             ],
             [
              0.5555555555555556,
              "#d8576b"
             ],
             [
              0.6666666666666666,
              "#ed7953"
             ],
             [
              0.7777777777777778,
              "#fb9f3a"
             ],
             [
              0.8888888888888888,
              "#fdca26"
             ],
             [
              1,
              "#f0f921"
             ]
            ],
            "type": "contour"
           }
          ],
          "contourcarpet": [
           {
            "colorbar": {
             "outlinewidth": 0,
             "ticks": ""
            },
            "type": "contourcarpet"
           }
          ],
          "heatmap": [
           {
            "colorbar": {
             "outlinewidth": 0,
             "ticks": ""
            },
            "colorscale": [
             [
              0,
              "#0d0887"
             ],
             [
              0.1111111111111111,
              "#46039f"
             ],
             [
              0.2222222222222222,
              "#7201a8"
             ],
             [
              0.3333333333333333,
              "#9c179e"
             ],
             [
              0.4444444444444444,
              "#bd3786"
             ],
             [
              0.5555555555555556,
              "#d8576b"
             ],
             [
              0.6666666666666666,
              "#ed7953"
             ],
             [
              0.7777777777777778,
              "#fb9f3a"
             ],
             [
              0.8888888888888888,
              "#fdca26"
             ],
             [
              1,
              "#f0f921"
             ]
            ],
            "type": "heatmap"
           }
          ],
          "heatmapgl": [
           {
            "colorbar": {
             "outlinewidth": 0,
             "ticks": ""
            },
            "colorscale": [
             [
              0,
              "#0d0887"
             ],
             [
              0.1111111111111111,
              "#46039f"
             ],
             [
              0.2222222222222222,
              "#7201a8"
             ],
             [
              0.3333333333333333,
              "#9c179e"
             ],
             [
              0.4444444444444444,
              "#bd3786"
             ],
             [
              0.5555555555555556,
              "#d8576b"
             ],
             [
              0.6666666666666666,
              "#ed7953"
             ],
             [
              0.7777777777777778,
              "#fb9f3a"
             ],
             [
              0.8888888888888888,
              "#fdca26"
             ],
             [
              1,
              "#f0f921"
             ]
            ],
            "type": "heatmapgl"
           }
          ],
          "histogram": [
           {
            "marker": {
             "pattern": {
              "fillmode": "overlay",
              "size": 10,
              "solidity": 0.2
             }
            },
            "type": "histogram"
           }
          ],
          "histogram2d": [
           {
            "colorbar": {
             "outlinewidth": 0,
             "ticks": ""
            },
            "colorscale": [
             [
              0,
              "#0d0887"
             ],
             [
              0.1111111111111111,
              "#46039f"
             ],
             [
              0.2222222222222222,
              "#7201a8"
             ],
             [
              0.3333333333333333,
              "#9c179e"
             ],
             [
              0.4444444444444444,
              "#bd3786"
             ],
             [
              0.5555555555555556,
              "#d8576b"
             ],
             [
              0.6666666666666666,
              "#ed7953"
             ],
             [
              0.7777777777777778,
              "#fb9f3a"
             ],
             [
              0.8888888888888888,
              "#fdca26"
             ],
             [
              1,
              "#f0f921"
             ]
            ],
            "type": "histogram2d"
           }
          ],
          "histogram2dcontour": [
           {
            "colorbar": {
             "outlinewidth": 0,
             "ticks": ""
            },
            "colorscale": [
             [
              0,
              "#0d0887"
             ],
             [
              0.1111111111111111,
              "#46039f"
             ],
             [
              0.2222222222222222,
              "#7201a8"
             ],
             [
              0.3333333333333333,
              "#9c179e"
             ],
             [
              0.4444444444444444,
              "#bd3786"
             ],
             [
              0.5555555555555556,
              "#d8576b"
             ],
             [
              0.6666666666666666,
              "#ed7953"
             ],
             [
              0.7777777777777778,
              "#fb9f3a"
             ],
             [
              0.8888888888888888,
              "#fdca26"
             ],
             [
              1,
              "#f0f921"
             ]
            ],
            "type": "histogram2dcontour"
           }
          ],
          "mesh3d": [
           {
            "colorbar": {
             "outlinewidth": 0,
             "ticks": ""
            },
            "type": "mesh3d"
           }
          ],
          "parcoords": [
           {
            "line": {
             "colorbar": {
              "outlinewidth": 0,
              "ticks": ""
             }
            },
            "type": "parcoords"
           }
          ],
          "pie": [
           {
            "automargin": true,
            "type": "pie"
           }
          ],
          "scatter": [
           {
            "fillpattern": {
             "fillmode": "overlay",
             "size": 10,
             "solidity": 0.2
            },
            "type": "scatter"
           }
          ],
          "scatter3d": [
           {
            "line": {
             "colorbar": {
              "outlinewidth": 0,
              "ticks": ""
             }
            },
            "marker": {
             "colorbar": {
              "outlinewidth": 0,
              "ticks": ""
             }
            },
            "type": "scatter3d"
           }
          ],
          "scattercarpet": [
           {
            "marker": {
             "colorbar": {
              "outlinewidth": 0,
              "ticks": ""
             }
            },
            "type": "scattercarpet"
           }
          ],
          "scattergeo": [
           {
            "marker": {
             "colorbar": {
              "outlinewidth": 0,
              "ticks": ""
             }
            },
            "type": "scattergeo"
           }
          ],
          "scattergl": [
           {
            "marker": {
             "colorbar": {
              "outlinewidth": 0,
              "ticks": ""
             }
            },
            "type": "scattergl"
           }
          ],
          "scattermapbox": [
           {
            "marker": {
             "colorbar": {
              "outlinewidth": 0,
              "ticks": ""
             }
            },
            "type": "scattermapbox"
           }
          ],
          "scatterpolar": [
           {
            "marker": {
             "colorbar": {
              "outlinewidth": 0,
              "ticks": ""
             }
            },
            "type": "scatterpolar"
           }
          ],
          "scatterpolargl": [
           {
            "marker": {
             "colorbar": {
              "outlinewidth": 0,
              "ticks": ""
             }
            },
            "type": "scatterpolargl"
           }
          ],
          "scatterternary": [
           {
            "marker": {
             "colorbar": {
              "outlinewidth": 0,
              "ticks": ""
             }
            },
            "type": "scatterternary"
           }
          ],
          "surface": [
           {
            "colorbar": {
             "outlinewidth": 0,
             "ticks": ""
            },
            "colorscale": [
             [
              0,
              "#0d0887"
             ],
             [
              0.1111111111111111,
              "#46039f"
             ],
             [
              0.2222222222222222,
              "#7201a8"
             ],
             [
              0.3333333333333333,
              "#9c179e"
             ],
             [
              0.4444444444444444,
              "#bd3786"
             ],
             [
              0.5555555555555556,
              "#d8576b"
             ],
             [
              0.6666666666666666,
              "#ed7953"
             ],
             [
              0.7777777777777778,
              "#fb9f3a"
             ],
             [
              0.8888888888888888,
              "#fdca26"
             ],
             [
              1,
              "#f0f921"
             ]
            ],
            "type": "surface"
           }
          ],
          "table": [
           {
            "cells": {
             "fill": {
              "color": "#EBF0F8"
             },
             "line": {
              "color": "white"
             }
            },
            "header": {
             "fill": {
              "color": "#C8D4E3"
             },
             "line": {
              "color": "white"
             }
            },
            "type": "table"
           }
          ]
         },
         "layout": {
          "annotationdefaults": {
           "arrowcolor": "#2a3f5f",
           "arrowhead": 0,
           "arrowwidth": 1
          },
          "autotypenumbers": "strict",
          "coloraxis": {
           "colorbar": {
            "outlinewidth": 0,
            "ticks": ""
           }
          },
          "colorscale": {
           "diverging": [
            [
             0,
             "#8e0152"
            ],
            [
             0.1,
             "#c51b7d"
            ],
            [
             0.2,
             "#de77ae"
            ],
            [
             0.3,
             "#f1b6da"
            ],
            [
             0.4,
             "#fde0ef"
            ],
            [
             0.5,
             "#f7f7f7"
            ],
            [
             0.6,
             "#e6f5d0"
            ],
            [
             0.7,
             "#b8e186"
            ],
            [
             0.8,
             "#7fbc41"
            ],
            [
             0.9,
             "#4d9221"
            ],
            [
             1,
             "#276419"
            ]
           ],
           "sequential": [
            [
             0,
             "#0d0887"
            ],
            [
             0.1111111111111111,
             "#46039f"
            ],
            [
             0.2222222222222222,
             "#7201a8"
            ],
            [
             0.3333333333333333,
             "#9c179e"
            ],
            [
             0.4444444444444444,
             "#bd3786"
            ],
            [
             0.5555555555555556,
             "#d8576b"
            ],
            [
             0.6666666666666666,
             "#ed7953"
            ],
            [
             0.7777777777777778,
             "#fb9f3a"
            ],
            [
             0.8888888888888888,
             "#fdca26"
            ],
            [
             1,
             "#f0f921"
            ]
           ],
           "sequentialminus": [
            [
             0,
             "#0d0887"
            ],
            [
             0.1111111111111111,
             "#46039f"
            ],
            [
             0.2222222222222222,
             "#7201a8"
            ],
            [
             0.3333333333333333,
             "#9c179e"
            ],
            [
             0.4444444444444444,
             "#bd3786"
            ],
            [
             0.5555555555555556,
             "#d8576b"
            ],
            [
             0.6666666666666666,
             "#ed7953"
            ],
            [
             0.7777777777777778,
             "#fb9f3a"
            ],
            [
             0.8888888888888888,
             "#fdca26"
            ],
            [
             1,
             "#f0f921"
            ]
           ]
          },
          "colorway": [
           "#636efa",
           "#EF553B",
           "#00cc96",
           "#ab63fa",
           "#FFA15A",
           "#19d3f3",
           "#FF6692",
           "#B6E880",
           "#FF97FF",
           "#FECB52"
          ],
          "font": {
           "color": "#2a3f5f"
          },
          "geo": {
           "bgcolor": "white",
           "lakecolor": "white",
           "landcolor": "#E5ECF6",
           "showlakes": true,
           "showland": true,
           "subunitcolor": "white"
          },
          "hoverlabel": {
           "align": "left"
          },
          "hovermode": "closest",
          "mapbox": {
           "style": "light"
          },
          "paper_bgcolor": "white",
          "plot_bgcolor": "#E5ECF6",
          "polar": {
           "angularaxis": {
            "gridcolor": "white",
            "linecolor": "white",
            "ticks": ""
           },
           "bgcolor": "#E5ECF6",
           "radialaxis": {
            "gridcolor": "white",
            "linecolor": "white",
            "ticks": ""
           }
          },
          "scene": {
           "xaxis": {
            "backgroundcolor": "#E5ECF6",
            "gridcolor": "white",
            "gridwidth": 2,
            "linecolor": "white",
            "showbackground": true,
            "ticks": "",
            "zerolinecolor": "white"
           },
           "yaxis": {
            "backgroundcolor": "#E5ECF6",
            "gridcolor": "white",
            "gridwidth": 2,
            "linecolor": "white",
            "showbackground": true,
            "ticks": "",
            "zerolinecolor": "white"
           },
           "zaxis": {
            "backgroundcolor": "#E5ECF6",
            "gridcolor": "white",
            "gridwidth": 2,
            "linecolor": "white",
            "showbackground": true,
            "ticks": "",
            "zerolinecolor": "white"
           }
          },
          "shapedefaults": {
           "line": {
            "color": "#2a3f5f"
           }
          },
          "ternary": {
           "aaxis": {
            "gridcolor": "white",
            "linecolor": "white",
            "ticks": ""
           },
           "baxis": {
            "gridcolor": "white",
            "linecolor": "white",
            "ticks": ""
           },
           "bgcolor": "#E5ECF6",
           "caxis": {
            "gridcolor": "white",
            "linecolor": "white",
            "ticks": ""
           }
          },
          "title": {
           "x": 0.05
          },
          "xaxis": {
           "automargin": true,
           "gridcolor": "white",
           "linecolor": "white",
           "ticks": "",
           "title": {
            "standoff": 15
           },
           "zerolinecolor": "white",
           "zerolinewidth": 2
          },
          "yaxis": {
           "automargin": true,
           "gridcolor": "white",
           "linecolor": "white",
           "ticks": "",
           "title": {
            "standoff": 15
           },
           "zerolinecolor": "white",
           "zerolinewidth": 2
          }
         }
        },
        "xaxis": {
         "anchor": "y",
         "domain": [
          0,
          1
         ],
         "title": {
          "text": "ot_depth"
         }
        },
        "yaxis": {
         "anchor": "x",
         "domain": [
          0,
          1
         ],
         "title": {
          "text": "integral"
         }
        }
       }
      }
     },
     "metadata": {},
     "output_type": "display_data"
    }
   ],
   "source": [
    "px.scatter(pooled_data, x='ot_depth', y='integral', color=pooled_data['stimtype'], opacity=0.9)"
   ]
  },
  {
   "cell_type": "code",
   "execution_count": 470,
   "metadata": {},
   "outputs": [
    {
     "data": {
      "application/vnd.plotly.v1+json": {
       "config": {
        "plotlyServerURL": "https://plot.ly"
       },
       "data": [
        {
         "alignmentgroup": "True",
         "bingroup": "x",
         "hovertemplate": "stimtype=moving stripes<br>latency=%{x}<br>count=%{y}<extra></extra>",
         "legendgroup": "moving stripes",
         "marker": {
          "color": "#636efa",
          "opacity": 0.7,
          "pattern": {
           "shape": ""
          }
         },
         "name": "moving stripes",
         "nbinsx": 40,
         "offsetgroup": "moving stripes",
         "orientation": "v",
         "showlegend": true,
         "type": "histogram",
         "x": [
          23,
          21,
          17,
          22,
          19,
          17,
          20,
          18,
          24,
          19,
          22,
          20,
          46,
          21,
          16,
          20,
          18,
          34,
          24,
          19,
          26,
          13,
          31
         ],
         "xaxis": "x",
         "yaxis": "y"
        },
        {
         "alignmentgroup": "True",
         "bingroup": "x",
         "hovertemplate": "stimtype=dots_ON<br>latency=%{x}<br>count=%{y}<extra></extra>",
         "legendgroup": "dots_ON",
         "marker": {
          "color": "#EF553B",
          "opacity": 0.7,
          "pattern": {
           "shape": ""
          }
         },
         "name": "dots_ON",
         "nbinsx": 40,
         "offsetgroup": "dots_ON",
         "orientation": "v",
         "showlegend": true,
         "type": "histogram",
         "x": [
          46,
          25,
          27,
          28,
          35,
          28,
          46,
          46,
          36,
          28,
          27,
          19,
          22,
          22,
          46,
          28,
          46,
          46,
          25,
          38,
          37,
          35,
          38,
          37,
          36,
          36,
          36,
          39,
          37,
          36,
          26,
          40,
          35,
          39,
          37,
          29,
          34,
          36,
          38,
          37,
          23,
          38,
          39,
          28,
          36,
          39,
          37,
          41,
          35,
          35,
          28,
          32,
          37,
          36,
          31,
          35,
          28,
          34,
          25,
          36,
          32,
          42,
          32,
          44,
          36,
          34,
          30,
          38,
          25,
          31
         ],
         "xaxis": "x",
         "yaxis": "y"
        },
        {
         "alignmentgroup": "True",
         "bingroup": "x",
         "hovertemplate": "stimtype=dots_OFF<br>latency=%{x}<br>count=%{y}<extra></extra>",
         "legendgroup": "dots_OFF",
         "marker": {
          "color": "#00cc96",
          "opacity": 0.7,
          "pattern": {
           "shape": ""
          }
         },
         "name": "dots_OFF",
         "nbinsx": 40,
         "offsetgroup": "dots_OFF",
         "orientation": "v",
         "showlegend": true,
         "type": "histogram",
         "x": [
          39,
          31,
          31,
          35,
          30,
          34,
          31
         ],
         "xaxis": "x",
         "yaxis": "y"
        },
        {
         "alignmentgroup": "True",
         "bingroup": "x",
         "hovertemplate": "stimtype=loom<br>latency=%{x}<br>count=%{y}<extra></extra>",
         "legendgroup": "loom",
         "marker": {
          "color": "#ab63fa",
          "opacity": 0.7,
          "pattern": {
           "shape": ""
          }
         },
         "name": "loom",
         "nbinsx": 40,
         "offsetgroup": "loom",
         "orientation": "v",
         "showlegend": true,
         "type": "histogram",
         "x": [
          29,
          30,
          31,
          33,
          30,
          36,
          28,
          34,
          30,
          30,
          33,
          32,
          29,
          31,
          32,
          30,
          29,
          28,
          29,
          30,
          30,
          40,
          33,
          29,
          31,
          30,
          30,
          30,
          29,
          31,
          29,
          29,
          40,
          40,
          30,
          29,
          40,
          33,
          30,
          31,
          28,
          31,
          29,
          30,
          30,
          32,
          34,
          30,
          29,
          32,
          28,
          30,
          30,
          31,
          30,
          34,
          36,
          31,
          31,
          32,
          30,
          39,
          29,
          30,
          36,
          28,
          29,
          28,
          29,
          30,
          31,
          32,
          31,
          40,
          29,
          30,
          40,
          32,
          28,
          31,
          30,
          31,
          32,
          28,
          30,
          32,
          28,
          30,
          31,
          35,
          29,
          31,
          35,
          29,
          30,
          35,
          40,
          29,
          31,
          37,
          30,
          35,
          32,
          35,
          31,
          28,
          30,
          31,
          33,
          28,
          34,
          35,
          29,
          31,
          37,
          36,
          33,
          28,
          29,
          29,
          27,
          40,
          40,
          31,
          38,
          29,
          31,
          29,
          35,
          32,
          28,
          34,
          31,
          31,
          29,
          29,
          37,
          29,
          31,
          36,
          30,
          35,
          34,
          31,
          36,
          32,
          35,
          29,
          32,
          29,
          35,
          34,
          29,
          32,
          30,
          30,
          31,
          29,
          38,
          31,
          32,
          30,
          31,
          29,
          30,
          35,
          29,
          33,
          35,
          29,
          30,
          31,
          31,
          28,
          39,
          32,
          31,
          29,
          40,
          32,
          39,
          33,
          33,
          33,
          31,
          29,
          30,
          35,
          28,
          35,
          29,
          32,
          30,
          28,
          39,
          29,
          33,
          29,
          30,
          27,
          31,
          35,
          30,
          40,
          30,
          40,
          32,
          29,
          31,
          33,
          33,
          34,
          33,
          30,
          28,
          36,
          28,
          37,
          32,
          29,
          32,
          30,
          33,
          35,
          33,
          33,
          31,
          28,
          27,
          29,
          36,
          39,
          29,
          30,
          35,
          32,
          39,
          40,
          32,
          28,
          28,
          29,
          40,
          32,
          33,
          34,
          37,
          37,
          39,
          35,
          40,
          36,
          30,
          31,
          33,
          35,
          38,
          38,
          30,
          31,
          31,
          34,
          32
         ],
         "xaxis": "x",
         "yaxis": "y"
        }
       ],
       "layout": {
        "barmode": "relative",
        "legend": {
         "title": {
          "text": "stimtype"
         },
         "tracegroupgap": 0
        },
        "margin": {
         "t": 60
        },
        "template": {
         "data": {
          "bar": [
           {
            "error_x": {
             "color": "#2a3f5f"
            },
            "error_y": {
             "color": "#2a3f5f"
            },
            "marker": {
             "line": {
              "color": "#E5ECF6",
              "width": 0.5
             },
             "pattern": {
              "fillmode": "overlay",
              "size": 10,
              "solidity": 0.2
             }
            },
            "type": "bar"
           }
          ],
          "barpolar": [
           {
            "marker": {
             "line": {
              "color": "#E5ECF6",
              "width": 0.5
             },
             "pattern": {
              "fillmode": "overlay",
              "size": 10,
              "solidity": 0.2
             }
            },
            "type": "barpolar"
           }
          ],
          "carpet": [
           {
            "aaxis": {
             "endlinecolor": "#2a3f5f",
             "gridcolor": "white",
             "linecolor": "white",
             "minorgridcolor": "white",
             "startlinecolor": "#2a3f5f"
            },
            "baxis": {
             "endlinecolor": "#2a3f5f",
             "gridcolor": "white",
             "linecolor": "white",
             "minorgridcolor": "white",
             "startlinecolor": "#2a3f5f"
            },
            "type": "carpet"
           }
          ],
          "choropleth": [
           {
            "colorbar": {
             "outlinewidth": 0,
             "ticks": ""
            },
            "type": "choropleth"
           }
          ],
          "contour": [
           {
            "colorbar": {
             "outlinewidth": 0,
             "ticks": ""
            },
            "colorscale": [
             [
              0,
              "#0d0887"
             ],
             [
              0.1111111111111111,
              "#46039f"
             ],
             [
              0.2222222222222222,
              "#7201a8"
             ],
             [
              0.3333333333333333,
              "#9c179e"
             ],
             [
              0.4444444444444444,
              "#bd3786"
             ],
             [
              0.5555555555555556,
              "#d8576b"
             ],
             [
              0.6666666666666666,
              "#ed7953"
             ],
             [
              0.7777777777777778,
              "#fb9f3a"
             ],
             [
              0.8888888888888888,
              "#fdca26"
             ],
             [
              1,
              "#f0f921"
             ]
            ],
            "type": "contour"
           }
          ],
          "contourcarpet": [
           {
            "colorbar": {
             "outlinewidth": 0,
             "ticks": ""
            },
            "type": "contourcarpet"
           }
          ],
          "heatmap": [
           {
            "colorbar": {
             "outlinewidth": 0,
             "ticks": ""
            },
            "colorscale": [
             [
              0,
              "#0d0887"
             ],
             [
              0.1111111111111111,
              "#46039f"
             ],
             [
              0.2222222222222222,
              "#7201a8"
             ],
             [
              0.3333333333333333,
              "#9c179e"
             ],
             [
              0.4444444444444444,
              "#bd3786"
             ],
             [
              0.5555555555555556,
              "#d8576b"
             ],
             [
              0.6666666666666666,
              "#ed7953"
             ],
             [
              0.7777777777777778,
              "#fb9f3a"
             ],
             [
              0.8888888888888888,
              "#fdca26"
             ],
             [
              1,
              "#f0f921"
             ]
            ],
            "type": "heatmap"
           }
          ],
          "heatmapgl": [
           {
            "colorbar": {
             "outlinewidth": 0,
             "ticks": ""
            },
            "colorscale": [
             [
              0,
              "#0d0887"
             ],
             [
              0.1111111111111111,
              "#46039f"
             ],
             [
              0.2222222222222222,
              "#7201a8"
             ],
             [
              0.3333333333333333,
              "#9c179e"
             ],
             [
              0.4444444444444444,
              "#bd3786"
             ],
             [
              0.5555555555555556,
              "#d8576b"
             ],
             [
              0.6666666666666666,
              "#ed7953"
             ],
             [
              0.7777777777777778,
              "#fb9f3a"
             ],
             [
              0.8888888888888888,
              "#fdca26"
             ],
             [
              1,
              "#f0f921"
             ]
            ],
            "type": "heatmapgl"
           }
          ],
          "histogram": [
           {
            "marker": {
             "pattern": {
              "fillmode": "overlay",
              "size": 10,
              "solidity": 0.2
             }
            },
            "type": "histogram"
           }
          ],
          "histogram2d": [
           {
            "colorbar": {
             "outlinewidth": 0,
             "ticks": ""
            },
            "colorscale": [
             [
              0,
              "#0d0887"
             ],
             [
              0.1111111111111111,
              "#46039f"
             ],
             [
              0.2222222222222222,
              "#7201a8"
             ],
             [
              0.3333333333333333,
              "#9c179e"
             ],
             [
              0.4444444444444444,
              "#bd3786"
             ],
             [
              0.5555555555555556,
              "#d8576b"
             ],
             [
              0.6666666666666666,
              "#ed7953"
             ],
             [
              0.7777777777777778,
              "#fb9f3a"
             ],
             [
              0.8888888888888888,
              "#fdca26"
             ],
             [
              1,
              "#f0f921"
             ]
            ],
            "type": "histogram2d"
           }
          ],
          "histogram2dcontour": [
           {
            "colorbar": {
             "outlinewidth": 0,
             "ticks": ""
            },
            "colorscale": [
             [
              0,
              "#0d0887"
             ],
             [
              0.1111111111111111,
              "#46039f"
             ],
             [
              0.2222222222222222,
              "#7201a8"
             ],
             [
              0.3333333333333333,
              "#9c179e"
             ],
             [
              0.4444444444444444,
              "#bd3786"
             ],
             [
              0.5555555555555556,
              "#d8576b"
             ],
             [
              0.6666666666666666,
              "#ed7953"
             ],
             [
              0.7777777777777778,
              "#fb9f3a"
             ],
             [
              0.8888888888888888,
              "#fdca26"
             ],
             [
              1,
              "#f0f921"
             ]
            ],
            "type": "histogram2dcontour"
           }
          ],
          "mesh3d": [
           {
            "colorbar": {
             "outlinewidth": 0,
             "ticks": ""
            },
            "type": "mesh3d"
           }
          ],
          "parcoords": [
           {
            "line": {
             "colorbar": {
              "outlinewidth": 0,
              "ticks": ""
             }
            },
            "type": "parcoords"
           }
          ],
          "pie": [
           {
            "automargin": true,
            "type": "pie"
           }
          ],
          "scatter": [
           {
            "fillpattern": {
             "fillmode": "overlay",
             "size": 10,
             "solidity": 0.2
            },
            "type": "scatter"
           }
          ],
          "scatter3d": [
           {
            "line": {
             "colorbar": {
              "outlinewidth": 0,
              "ticks": ""
             }
            },
            "marker": {
             "colorbar": {
              "outlinewidth": 0,
              "ticks": ""
             }
            },
            "type": "scatter3d"
           }
          ],
          "scattercarpet": [
           {
            "marker": {
             "colorbar": {
              "outlinewidth": 0,
              "ticks": ""
             }
            },
            "type": "scattercarpet"
           }
          ],
          "scattergeo": [
           {
            "marker": {
             "colorbar": {
              "outlinewidth": 0,
              "ticks": ""
             }
            },
            "type": "scattergeo"
           }
          ],
          "scattergl": [
           {
            "marker": {
             "colorbar": {
              "outlinewidth": 0,
              "ticks": ""
             }
            },
            "type": "scattergl"
           }
          ],
          "scattermapbox": [
           {
            "marker": {
             "colorbar": {
              "outlinewidth": 0,
              "ticks": ""
             }
            },
            "type": "scattermapbox"
           }
          ],
          "scatterpolar": [
           {
            "marker": {
             "colorbar": {
              "outlinewidth": 0,
              "ticks": ""
             }
            },
            "type": "scatterpolar"
           }
          ],
          "scatterpolargl": [
           {
            "marker": {
             "colorbar": {
              "outlinewidth": 0,
              "ticks": ""
             }
            },
            "type": "scatterpolargl"
           }
          ],
          "scatterternary": [
           {
            "marker": {
             "colorbar": {
              "outlinewidth": 0,
              "ticks": ""
             }
            },
            "type": "scatterternary"
           }
          ],
          "surface": [
           {
            "colorbar": {
             "outlinewidth": 0,
             "ticks": ""
            },
            "colorscale": [
             [
              0,
              "#0d0887"
             ],
             [
              0.1111111111111111,
              "#46039f"
             ],
             [
              0.2222222222222222,
              "#7201a8"
             ],
             [
              0.3333333333333333,
              "#9c179e"
             ],
             [
              0.4444444444444444,
              "#bd3786"
             ],
             [
              0.5555555555555556,
              "#d8576b"
             ],
             [
              0.6666666666666666,
              "#ed7953"
             ],
             [
              0.7777777777777778,
              "#fb9f3a"
             ],
             [
              0.8888888888888888,
              "#fdca26"
             ],
             [
              1,
              "#f0f921"
             ]
            ],
            "type": "surface"
           }
          ],
          "table": [
           {
            "cells": {
             "fill": {
              "color": "#EBF0F8"
             },
             "line": {
              "color": "white"
             }
            },
            "header": {
             "fill": {
              "color": "#C8D4E3"
             },
             "line": {
              "color": "white"
             }
            },
            "type": "table"
           }
          ]
         },
         "layout": {
          "annotationdefaults": {
           "arrowcolor": "#2a3f5f",
           "arrowhead": 0,
           "arrowwidth": 1
          },
          "autotypenumbers": "strict",
          "coloraxis": {
           "colorbar": {
            "outlinewidth": 0,
            "ticks": ""
           }
          },
          "colorscale": {
           "diverging": [
            [
             0,
             "#8e0152"
            ],
            [
             0.1,
             "#c51b7d"
            ],
            [
             0.2,
             "#de77ae"
            ],
            [
             0.3,
             "#f1b6da"
            ],
            [
             0.4,
             "#fde0ef"
            ],
            [
             0.5,
             "#f7f7f7"
            ],
            [
             0.6,
             "#e6f5d0"
            ],
            [
             0.7,
             "#b8e186"
            ],
            [
             0.8,
             "#7fbc41"
            ],
            [
             0.9,
             "#4d9221"
            ],
            [
             1,
             "#276419"
            ]
           ],
           "sequential": [
            [
             0,
             "#0d0887"
            ],
            [
             0.1111111111111111,
             "#46039f"
            ],
            [
             0.2222222222222222,
             "#7201a8"
            ],
            [
             0.3333333333333333,
             "#9c179e"
            ],
            [
             0.4444444444444444,
             "#bd3786"
            ],
            [
             0.5555555555555556,
             "#d8576b"
            ],
            [
             0.6666666666666666,
             "#ed7953"
            ],
            [
             0.7777777777777778,
             "#fb9f3a"
            ],
            [
             0.8888888888888888,
             "#fdca26"
            ],
            [
             1,
             "#f0f921"
            ]
           ],
           "sequentialminus": [
            [
             0,
             "#0d0887"
            ],
            [
             0.1111111111111111,
             "#46039f"
            ],
            [
             0.2222222222222222,
             "#7201a8"
            ],
            [
             0.3333333333333333,
             "#9c179e"
            ],
            [
             0.4444444444444444,
             "#bd3786"
            ],
            [
             0.5555555555555556,
             "#d8576b"
            ],
            [
             0.6666666666666666,
             "#ed7953"
            ],
            [
             0.7777777777777778,
             "#fb9f3a"
            ],
            [
             0.8888888888888888,
             "#fdca26"
            ],
            [
             1,
             "#f0f921"
            ]
           ]
          },
          "colorway": [
           "#636efa",
           "#EF553B",
           "#00cc96",
           "#ab63fa",
           "#FFA15A",
           "#19d3f3",
           "#FF6692",
           "#B6E880",
           "#FF97FF",
           "#FECB52"
          ],
          "font": {
           "color": "#2a3f5f"
          },
          "geo": {
           "bgcolor": "white",
           "lakecolor": "white",
           "landcolor": "#E5ECF6",
           "showlakes": true,
           "showland": true,
           "subunitcolor": "white"
          },
          "hoverlabel": {
           "align": "left"
          },
          "hovermode": "closest",
          "mapbox": {
           "style": "light"
          },
          "paper_bgcolor": "white",
          "plot_bgcolor": "#E5ECF6",
          "polar": {
           "angularaxis": {
            "gridcolor": "white",
            "linecolor": "white",
            "ticks": ""
           },
           "bgcolor": "#E5ECF6",
           "radialaxis": {
            "gridcolor": "white",
            "linecolor": "white",
            "ticks": ""
           }
          },
          "scene": {
           "xaxis": {
            "backgroundcolor": "#E5ECF6",
            "gridcolor": "white",
            "gridwidth": 2,
            "linecolor": "white",
            "showbackground": true,
            "ticks": "",
            "zerolinecolor": "white"
           },
           "yaxis": {
            "backgroundcolor": "#E5ECF6",
            "gridcolor": "white",
            "gridwidth": 2,
            "linecolor": "white",
            "showbackground": true,
            "ticks": "",
            "zerolinecolor": "white"
           },
           "zaxis": {
            "backgroundcolor": "#E5ECF6",
            "gridcolor": "white",
            "gridwidth": 2,
            "linecolor": "white",
            "showbackground": true,
            "ticks": "",
            "zerolinecolor": "white"
           }
          },
          "shapedefaults": {
           "line": {
            "color": "#2a3f5f"
           }
          },
          "ternary": {
           "aaxis": {
            "gridcolor": "white",
            "linecolor": "white",
            "ticks": ""
           },
           "baxis": {
            "gridcolor": "white",
            "linecolor": "white",
            "ticks": ""
           },
           "bgcolor": "#E5ECF6",
           "caxis": {
            "gridcolor": "white",
            "linecolor": "white",
            "ticks": ""
           }
          },
          "title": {
           "x": 0.05
          },
          "xaxis": {
           "automargin": true,
           "gridcolor": "white",
           "linecolor": "white",
           "ticks": "",
           "title": {
            "standoff": 15
           },
           "zerolinecolor": "white",
           "zerolinewidth": 2
          },
          "yaxis": {
           "automargin": true,
           "gridcolor": "white",
           "linecolor": "white",
           "ticks": "",
           "title": {
            "standoff": 15
           },
           "zerolinecolor": "white",
           "zerolinewidth": 2
          }
         }
        },
        "xaxis": {
         "anchor": "y",
         "domain": [
          0,
          1
         ],
         "title": {
          "text": "latency"
         }
        },
        "yaxis": {
         "anchor": "x",
         "domain": [
          0,
          1
         ],
         "title": {
          "text": "count"
         }
        }
       }
      }
     },
     "metadata": {},
     "output_type": "display_data"
    }
   ],
   "source": [
    "px.histogram(pooled_data, x='latency', color=pooled_data['stimtype'], opacity=0.7, nbins=40)\n"
   ]
  }
 ],
 "metadata": {
  "kernelspec": {
   "display_name": "PYGOR-TIMESERIES",
   "language": "python",
   "name": "python3"
  },
  "language_info": {
   "codemirror_mode": {
    "name": "ipython",
    "version": 3
   },
   "file_extension": ".py",
   "mimetype": "text/x-python",
   "name": "python",
   "nbconvert_exporter": "python",
   "pygments_lexer": "ipython3",
   "version": "3.12.5"
  }
 },
 "nbformat": 4,
 "nbformat_minor": 2
}
