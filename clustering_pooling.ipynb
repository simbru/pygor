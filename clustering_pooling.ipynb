{
 "cells": [
  {
   "cell_type": "code",
   "execution_count": 19,
   "metadata": {},
   "outputs": [],
   "source": [
    "import numpy as np\n",
    "import plotly.graph_objects as go\n",
    "import os\n",
    "import pickle \n",
    "import pandas as pd\n",
    "\n",
    "filepath = 'C:/Users/Michael Forsthofer/OneDrive - University of Sussex/BadenLab/2p-imaging/singleplane/St53/'\n",
    "pkl_files = [f for f in os.listdir(filepath) if f.endswith('.pkl')]\n",
    "\n",
    "roi_data = pd.DataFrame(columns=['stimulus', 'ot_depth', 'plane_depth', 'amplitude', 'size', 'xy_centroid','experiment_ID', 'stage'])\n",
    "\n"
   ]
  },
  {
   "cell_type": "code",
   "execution_count": 20,
   "metadata": {},
   "outputs": [],
   "source": [
    "def pool_variable(input_data, stim):\n",
    "    data_to_get = input_data[stim]\n",
    "    if len(data_to_get)>0:\n",
    "        flattened_data = np.hstack(data_to_get)\n",
    "    else:\n",
    "        flattened_data = np.array([])\n",
    "    return flattened_data\n",
    "\n",
    "#def measure_rois(inptud_data, stim):\n",
    "    "
   ]
  },
  {
   "cell_type": "code",
   "execution_count": 21,
   "metadata": {},
   "outputs": [],
   "source": [
    "ot_depth = []\n",
    "amplitude = []\n",
    "integral = []\n",
    "latency = []\n",
    "size = []\n",
    "stimulus = []\n",
    "plane_depth = []\n",
    "experiment_ID = []\n",
    "stage = []\n",
    "x_centroid = []\n",
    "y_centroid = []\n",
    "\n",
    "for pkl_file in pkl_files:\n",
    "    with open(filepath+pkl_file, 'rb') as f:\n",
    "        extracted_data_loaded = pickle.load(f)\n",
    "        \n",
    "        stims = list(extracted_data_loaded['depths'].keys())\n",
    "        cur_plane_depth = extracted_data_loaded['metadata']['depth']\n",
    "        cur_stage = filepath.split('St')[-1].split('/')[0]\n",
    "        \n",
    "        for cur_stim in stims:\n",
    "\n",
    "            cur_ot_depth = pool_variable(extracted_data_loaded['depths'], cur_stim)\n",
    "            ot_depth.extend(cur_ot_depth)\n",
    "            amplitude.extend(pool_variable(extracted_data_loaded['amplitudes'], cur_stim))\n",
    "            size.extend(pool_variable(extracted_data_loaded['sizes'], cur_stim))\n",
    "            x_centroid.extend(pool_variable(extracted_data_loaded['x_centroid'], cur_stim))\n",
    "            y_centroid.extend(pool_variable(extracted_data_loaded['y_centroid'], cur_stim))\n",
    "            integral.extend(pool_variable(extracted_data_loaded['activity_area'], cur_stim))\n",
    "            latency.extend(pool_variable(extracted_data_loaded['latency'], cur_stim))\n",
    "            stimulus.extend(np.repeat(np.array(cur_stim), len(cur_ot_depth)))\n",
    "            plane_depth.extend(np.repeat(np.array(cur_plane_depth), len(cur_ot_depth)))\n",
    "            experiment_ID.extend(np.repeat(np.array(pkl_file[11:26]), len(cur_ot_depth)))\n",
    "            stage.extend(np.repeat(np.array(cur_stage), len(cur_ot_depth)))"
   ]
  },
  {
   "cell_type": "code",
   "execution_count": 22,
   "metadata": {},
   "outputs": [],
   "source": [
    "pooled_data = pd.DataFrame({'ot_depth': ot_depth, \n",
    "                     'amplitude': amplitude, \n",
    "                     'size': size,\n",
    "                     'x_centroid': x_centroid,\n",
    "                     'integral': integral,\n",
    "                     'latency': latency,\n",
    "                     'y_centroid': y_centroid,\n",
    "                     'stimtype': stimulus,\n",
    "                     'plane_depth': plane_depth,\n",
    "                     'experiment_ID': experiment_ID,\n",
    "                     'stage': stage})"
   ]
  },
  {
   "cell_type": "code",
   "execution_count": 48,
   "metadata": {},
   "outputs": [
    {
     "data": {
      "application/vnd.plotly.v1+json": {
       "config": {
        "plotlyServerURL": "https://plot.ly"
       },
       "data": [
        {
         "name": "dots_OFF",
         "nbinsy": 30,
         "opacity": 0.75,
         "type": "histogram",
         "y": [
          52,
          50,
          56,
          78,
          81,
          69,
          46,
          71,
          90,
          77,
          61,
          69,
          67,
          91,
          89,
          59,
          72,
          65,
          65,
          71,
          78,
          75,
          91,
          51,
          75,
          73,
          80,
          95,
          68,
          73,
          69,
          69,
          61,
          77,
          -1,
          68,
          67,
          66,
          71,
          70,
          68,
          66,
          68,
          29,
          93,
          40,
          63,
          101,
          61,
          -1,
          52,
          45,
          45,
          101,
          48,
          83,
          83,
          101,
          93,
          68,
          63,
          101,
          27,
          89,
          62,
          54,
          75,
          77,
          97,
          81,
          35,
          101,
          101,
          59,
          101,
          101,
          87,
          101,
          87,
          88
         ]
        },
        {
         "name": "loom",
         "nbinsy": 30,
         "opacity": 0.75,
         "type": "histogram",
         "y": [
          52,
          56,
          68,
          54,
          59,
          86,
          50,
          42,
          54,
          65,
          50,
          56,
          67,
          54,
          90,
          56,
          70,
          69,
          78,
          52,
          81,
          69,
          19,
          60,
          61,
          46,
          63,
          83,
          71,
          61,
          90,
          40,
          45,
          52,
          56,
          26,
          77,
          85,
          47,
          40,
          61,
          62,
          69,
          25,
          70,
          67,
          91,
          71,
          74,
          89,
          59,
          40,
          72,
          69,
          15,
          21,
          32,
          79,
          83,
          41,
          71,
          87,
          45,
          77,
          78,
          81,
          91,
          93,
          62,
          83,
          70,
          53,
          65,
          76,
          92,
          51,
          33,
          97,
          44,
          98,
          42,
          56,
          34,
          37,
          41,
          73,
          87,
          82,
          80,
          88,
          68,
          34,
          101,
          68,
          79,
          69,
          48,
          93,
          72,
          101,
          101,
          82,
          79,
          48,
          77,
          38,
          68,
          67,
          66,
          71,
          70,
          68,
          87,
          66,
          75,
          68,
          79,
          47,
          93,
          40,
          63,
          26,
          101,
          61,
          52,
          45,
          45,
          59,
          70,
          48,
          60,
          83,
          83,
          59,
          59,
          63,
          101,
          93,
          68,
          101,
          60,
          63,
          101,
          57,
          101,
          96,
          27,
          52,
          57,
          89,
          62,
          54,
          75,
          77,
          38,
          81,
          94,
          35,
          99,
          52,
          71,
          92,
          84,
          36,
          57,
          57,
          101,
          59,
          22,
          73,
          59,
          82,
          36,
          85,
          86,
          27,
          25,
          73,
          94,
          -1,
          -1,
          -1,
          -1,
          -1,
          -1,
          -1,
          101,
          -1,
          -1,
          -1,
          -1,
          -1,
          -1,
          18,
          19,
          8,
          21,
          54,
          28,
          20,
          24,
          26,
          32,
          15,
          35,
          3,
          36,
          8,
          12,
          73,
          29,
          46,
          40,
          16,
          28,
          38,
          57,
          34,
          41,
          23,
          27,
          38,
          71,
          44,
          32,
          31,
          -1,
          86,
          70,
          74,
          8,
          7,
          30,
          33,
          19,
          10,
          37,
          15,
          35,
          78,
          96,
          29,
          53,
          85,
          53,
          38,
          24,
          46,
          27,
          24,
          24,
          37,
          63,
          41,
          74,
          41,
          33,
          24,
          82,
          40,
          29,
          59,
          32,
          47,
          21,
          43,
          53,
          80,
          23,
          11,
          45,
          55,
          -1,
          65,
          34,
          101,
          55,
          40,
          73
         ]
        }
       ],
       "layout": {
        "barmode": "overlay",
        "height": 400,
        "margin": {
         "b": 20,
         "l": 20,
         "r": 20,
         "t": 20
        },
        "template": {
         "data": {
          "bar": [
           {
            "error_x": {
             "color": "#2a3f5f"
            },
            "error_y": {
             "color": "#2a3f5f"
            },
            "marker": {
             "line": {
              "color": "#E5ECF6",
              "width": 0.5
             },
             "pattern": {
              "fillmode": "overlay",
              "size": 10,
              "solidity": 0.2
             }
            },
            "type": "bar"
           }
          ],
          "barpolar": [
           {
            "marker": {
             "line": {
              "color": "#E5ECF6",
              "width": 0.5
             },
             "pattern": {
              "fillmode": "overlay",
              "size": 10,
              "solidity": 0.2
             }
            },
            "type": "barpolar"
           }
          ],
          "carpet": [
           {
            "aaxis": {
             "endlinecolor": "#2a3f5f",
             "gridcolor": "white",
             "linecolor": "white",
             "minorgridcolor": "white",
             "startlinecolor": "#2a3f5f"
            },
            "baxis": {
             "endlinecolor": "#2a3f5f",
             "gridcolor": "white",
             "linecolor": "white",
             "minorgridcolor": "white",
             "startlinecolor": "#2a3f5f"
            },
            "type": "carpet"
           }
          ],
          "choropleth": [
           {
            "colorbar": {
             "outlinewidth": 0,
             "ticks": ""
            },
            "type": "choropleth"
           }
          ],
          "contour": [
           {
            "colorbar": {
             "outlinewidth": 0,
             "ticks": ""
            },
            "colorscale": [
             [
              0,
              "#0d0887"
             ],
             [
              0.1111111111111111,
              "#46039f"
             ],
             [
              0.2222222222222222,
              "#7201a8"
             ],
             [
              0.3333333333333333,
              "#9c179e"
             ],
             [
              0.4444444444444444,
              "#bd3786"
             ],
             [
              0.5555555555555556,
              "#d8576b"
             ],
             [
              0.6666666666666666,
              "#ed7953"
             ],
             [
              0.7777777777777778,
              "#fb9f3a"
             ],
             [
              0.8888888888888888,
              "#fdca26"
             ],
             [
              1,
              "#f0f921"
             ]
            ],
            "type": "contour"
           }
          ],
          "contourcarpet": [
           {
            "colorbar": {
             "outlinewidth": 0,
             "ticks": ""
            },
            "type": "contourcarpet"
           }
          ],
          "heatmap": [
           {
            "colorbar": {
             "outlinewidth": 0,
             "ticks": ""
            },
            "colorscale": [
             [
              0,
              "#0d0887"
             ],
             [
              0.1111111111111111,
              "#46039f"
             ],
             [
              0.2222222222222222,
              "#7201a8"
             ],
             [
              0.3333333333333333,
              "#9c179e"
             ],
             [
              0.4444444444444444,
              "#bd3786"
             ],
             [
              0.5555555555555556,
              "#d8576b"
             ],
             [
              0.6666666666666666,
              "#ed7953"
             ],
             [
              0.7777777777777778,
              "#fb9f3a"
             ],
             [
              0.8888888888888888,
              "#fdca26"
             ],
             [
              1,
              "#f0f921"
             ]
            ],
            "type": "heatmap"
           }
          ],
          "heatmapgl": [
           {
            "colorbar": {
             "outlinewidth": 0,
             "ticks": ""
            },
            "colorscale": [
             [
              0,
              "#0d0887"
             ],
             [
              0.1111111111111111,
              "#46039f"
             ],
             [
              0.2222222222222222,
              "#7201a8"
             ],
             [
              0.3333333333333333,
              "#9c179e"
             ],
             [
              0.4444444444444444,
              "#bd3786"
             ],
             [
              0.5555555555555556,
              "#d8576b"
             ],
             [
              0.6666666666666666,
              "#ed7953"
             ],
             [
              0.7777777777777778,
              "#fb9f3a"
             ],
             [
              0.8888888888888888,
              "#fdca26"
             ],
             [
              1,
              "#f0f921"
             ]
            ],
            "type": "heatmapgl"
           }
          ],
          "histogram": [
           {
            "marker": {
             "pattern": {
              "fillmode": "overlay",
              "size": 10,
              "solidity": 0.2
             }
            },
            "type": "histogram"
           }
          ],
          "histogram2d": [
           {
            "colorbar": {
             "outlinewidth": 0,
             "ticks": ""
            },
            "colorscale": [
             [
              0,
              "#0d0887"
             ],
             [
              0.1111111111111111,
              "#46039f"
             ],
             [
              0.2222222222222222,
              "#7201a8"
             ],
             [
              0.3333333333333333,
              "#9c179e"
             ],
             [
              0.4444444444444444,
              "#bd3786"
             ],
             [
              0.5555555555555556,
              "#d8576b"
             ],
             [
              0.6666666666666666,
              "#ed7953"
             ],
             [
              0.7777777777777778,
              "#fb9f3a"
             ],
             [
              0.8888888888888888,
              "#fdca26"
             ],
             [
              1,
              "#f0f921"
             ]
            ],
            "type": "histogram2d"
           }
          ],
          "histogram2dcontour": [
           {
            "colorbar": {
             "outlinewidth": 0,
             "ticks": ""
            },
            "colorscale": [
             [
              0,
              "#0d0887"
             ],
             [
              0.1111111111111111,
              "#46039f"
             ],
             [
              0.2222222222222222,
              "#7201a8"
             ],
             [
              0.3333333333333333,
              "#9c179e"
             ],
             [
              0.4444444444444444,
              "#bd3786"
             ],
             [
              0.5555555555555556,
              "#d8576b"
             ],
             [
              0.6666666666666666,
              "#ed7953"
             ],
             [
              0.7777777777777778,
              "#fb9f3a"
             ],
             [
              0.8888888888888888,
              "#fdca26"
             ],
             [
              1,
              "#f0f921"
             ]
            ],
            "type": "histogram2dcontour"
           }
          ],
          "mesh3d": [
           {
            "colorbar": {
             "outlinewidth": 0,
             "ticks": ""
            },
            "type": "mesh3d"
           }
          ],
          "parcoords": [
           {
            "line": {
             "colorbar": {
              "outlinewidth": 0,
              "ticks": ""
             }
            },
            "type": "parcoords"
           }
          ],
          "pie": [
           {
            "automargin": true,
            "type": "pie"
           }
          ],
          "scatter": [
           {
            "fillpattern": {
             "fillmode": "overlay",
             "size": 10,
             "solidity": 0.2
            },
            "type": "scatter"
           }
          ],
          "scatter3d": [
           {
            "line": {
             "colorbar": {
              "outlinewidth": 0,
              "ticks": ""
             }
            },
            "marker": {
             "colorbar": {
              "outlinewidth": 0,
              "ticks": ""
             }
            },
            "type": "scatter3d"
           }
          ],
          "scattercarpet": [
           {
            "marker": {
             "colorbar": {
              "outlinewidth": 0,
              "ticks": ""
             }
            },
            "type": "scattercarpet"
           }
          ],
          "scattergeo": [
           {
            "marker": {
             "colorbar": {
              "outlinewidth": 0,
              "ticks": ""
             }
            },
            "type": "scattergeo"
           }
          ],
          "scattergl": [
           {
            "marker": {
             "colorbar": {
              "outlinewidth": 0,
              "ticks": ""
             }
            },
            "type": "scattergl"
           }
          ],
          "scattermapbox": [
           {
            "marker": {
             "colorbar": {
              "outlinewidth": 0,
              "ticks": ""
             }
            },
            "type": "scattermapbox"
           }
          ],
          "scatterpolar": [
           {
            "marker": {
             "colorbar": {
              "outlinewidth": 0,
              "ticks": ""
             }
            },
            "type": "scatterpolar"
           }
          ],
          "scatterpolargl": [
           {
            "marker": {
             "colorbar": {
              "outlinewidth": 0,
              "ticks": ""
             }
            },
            "type": "scatterpolargl"
           }
          ],
          "scatterternary": [
           {
            "marker": {
             "colorbar": {
              "outlinewidth": 0,
              "ticks": ""
             }
            },
            "type": "scatterternary"
           }
          ],
          "surface": [
           {
            "colorbar": {
             "outlinewidth": 0,
             "ticks": ""
            },
            "colorscale": [
             [
              0,
              "#0d0887"
             ],
             [
              0.1111111111111111,
              "#46039f"
             ],
             [
              0.2222222222222222,
              "#7201a8"
             ],
             [
              0.3333333333333333,
              "#9c179e"
             ],
             [
              0.4444444444444444,
              "#bd3786"
             ],
             [
              0.5555555555555556,
              "#d8576b"
             ],
             [
              0.6666666666666666,
              "#ed7953"
             ],
             [
              0.7777777777777778,
              "#fb9f3a"
             ],
             [
              0.8888888888888888,
              "#fdca26"
             ],
             [
              1,
              "#f0f921"
             ]
            ],
            "type": "surface"
           }
          ],
          "table": [
           {
            "cells": {
             "fill": {
              "color": "#EBF0F8"
             },
             "line": {
              "color": "white"
             }
            },
            "header": {
             "fill": {
              "color": "#C8D4E3"
             },
             "line": {
              "color": "white"
             }
            },
            "type": "table"
           }
          ]
         },
         "layout": {
          "annotationdefaults": {
           "arrowcolor": "#2a3f5f",
           "arrowhead": 0,
           "arrowwidth": 1
          },
          "autotypenumbers": "strict",
          "coloraxis": {
           "colorbar": {
            "outlinewidth": 0,
            "ticks": ""
           }
          },
          "colorscale": {
           "diverging": [
            [
             0,
             "#8e0152"
            ],
            [
             0.1,
             "#c51b7d"
            ],
            [
             0.2,
             "#de77ae"
            ],
            [
             0.3,
             "#f1b6da"
            ],
            [
             0.4,
             "#fde0ef"
            ],
            [
             0.5,
             "#f7f7f7"
            ],
            [
             0.6,
             "#e6f5d0"
            ],
            [
             0.7,
             "#b8e186"
            ],
            [
             0.8,
             "#7fbc41"
            ],
            [
             0.9,
             "#4d9221"
            ],
            [
             1,
             "#276419"
            ]
           ],
           "sequential": [
            [
             0,
             "#0d0887"
            ],
            [
             0.1111111111111111,
             "#46039f"
            ],
            [
             0.2222222222222222,
             "#7201a8"
            ],
            [
             0.3333333333333333,
             "#9c179e"
            ],
            [
             0.4444444444444444,
             "#bd3786"
            ],
            [
             0.5555555555555556,
             "#d8576b"
            ],
            [
             0.6666666666666666,
             "#ed7953"
            ],
            [
             0.7777777777777778,
             "#fb9f3a"
            ],
            [
             0.8888888888888888,
             "#fdca26"
            ],
            [
             1,
             "#f0f921"
            ]
           ],
           "sequentialminus": [
            [
             0,
             "#0d0887"
            ],
            [
             0.1111111111111111,
             "#46039f"
            ],
            [
             0.2222222222222222,
             "#7201a8"
            ],
            [
             0.3333333333333333,
             "#9c179e"
            ],
            [
             0.4444444444444444,
             "#bd3786"
            ],
            [
             0.5555555555555556,
             "#d8576b"
            ],
            [
             0.6666666666666666,
             "#ed7953"
            ],
            [
             0.7777777777777778,
             "#fb9f3a"
            ],
            [
             0.8888888888888888,
             "#fdca26"
            ],
            [
             1,
             "#f0f921"
            ]
           ]
          },
          "colorway": [
           "#636efa",
           "#EF553B",
           "#00cc96",
           "#ab63fa",
           "#FFA15A",
           "#19d3f3",
           "#FF6692",
           "#B6E880",
           "#FF97FF",
           "#FECB52"
          ],
          "font": {
           "color": "#2a3f5f"
          },
          "geo": {
           "bgcolor": "white",
           "lakecolor": "white",
           "landcolor": "#E5ECF6",
           "showlakes": true,
           "showland": true,
           "subunitcolor": "white"
          },
          "hoverlabel": {
           "align": "left"
          },
          "hovermode": "closest",
          "mapbox": {
           "style": "light"
          },
          "paper_bgcolor": "white",
          "plot_bgcolor": "#E5ECF6",
          "polar": {
           "angularaxis": {
            "gridcolor": "white",
            "linecolor": "white",
            "ticks": ""
           },
           "bgcolor": "#E5ECF6",
           "radialaxis": {
            "gridcolor": "white",
            "linecolor": "white",
            "ticks": ""
           }
          },
          "scene": {
           "xaxis": {
            "backgroundcolor": "#E5ECF6",
            "gridcolor": "white",
            "gridwidth": 2,
            "linecolor": "white",
            "showbackground": true,
            "ticks": "",
            "zerolinecolor": "white"
           },
           "yaxis": {
            "backgroundcolor": "#E5ECF6",
            "gridcolor": "white",
            "gridwidth": 2,
            "linecolor": "white",
            "showbackground": true,
            "ticks": "",
            "zerolinecolor": "white"
           },
           "zaxis": {
            "backgroundcolor": "#E5ECF6",
            "gridcolor": "white",
            "gridwidth": 2,
            "linecolor": "white",
            "showbackground": true,
            "ticks": "",
            "zerolinecolor": "white"
           }
          },
          "shapedefaults": {
           "line": {
            "color": "#2a3f5f"
           }
          },
          "ternary": {
           "aaxis": {
            "gridcolor": "white",
            "linecolor": "white",
            "ticks": ""
           },
           "baxis": {
            "gridcolor": "white",
            "linecolor": "white",
            "ticks": ""
           },
           "bgcolor": "#E5ECF6",
           "caxis": {
            "gridcolor": "white",
            "linecolor": "white",
            "ticks": ""
           }
          },
          "title": {
           "x": 0.05
          },
          "xaxis": {
           "automargin": true,
           "gridcolor": "white",
           "linecolor": "white",
           "ticks": "",
           "title": {
            "standoff": 15
           },
           "zerolinecolor": "white",
           "zerolinewidth": 2
          },
          "yaxis": {
           "automargin": true,
           "gridcolor": "white",
           "linecolor": "white",
           "ticks": "",
           "title": {
            "standoff": 15
           },
           "zerolinecolor": "white",
           "zerolinewidth": 2
          }
         }
        },
        "width": 400,
        "xaxis": {
         "title": {
          "text": "Count"
         }
        },
        "yaxis": {
         "title": {
          "text": "y_centroid"
         }
        }
       }
      }
     },
     "metadata": {},
     "output_type": "display_data"
    }
   ],
   "source": [
    "import plotly.graph_objects as go\n",
    "\n",
    "fig = go.Figure()\n",
    "\n",
    "# Loop through each unique value of 'stimtype'\n",
    "for stim in pooled_data['stimtype'].unique():\n",
    "    filtered_data = pooled_data[pooled_data['stimtype'] == stim]\n",
    "    fig.add_trace(go.Histogram(y=filtered_data['ot_depth'], name=stim,\n",
    "                               nbinsy=30\n",
    "        ))  # Set nbinsx to desired number of bins\n",
    "\n",
    "# Update the layout\n",
    "fig.update_layout(barmode='overlay', yaxis_title='y_centroid', xaxis_title='Count', width=400, height=400, margin=dict(l=20, r=20, t=20, b=20),)\n",
    "fig.update_traces(opacity=0.75)\n",
    "#fig.update_xaxes(range=[0, 100])  # Disable gridlines for x-axis\n",
    "#fig.update_yaxes(range=[-5,100])  # Disable gridlines for y-axis\n",
    "\n",
    "fig.show()"
   ]
  },
  {
   "cell_type": "code",
   "execution_count": 52,
   "metadata": {},
   "outputs": [
    {
     "data": {
      "application/vnd.plotly.v1+json": {
       "config": {
        "plotlyServerURL": "https://plot.ly"
       },
       "data": [
        {
         "name": "moving stripes",
         "nbinsy": 30,
         "opacity": 0.75,
         "type": "histogram",
         "xaxis": "x",
         "y": [
          56,
          52,
          54,
          54,
          59,
          50,
          54,
          56,
          50,
          56,
          90,
          70,
          78,
          52,
          81,
          69,
          60,
          61,
          46,
          63,
          71,
          61,
          90,
          45,
          56,
          77,
          47,
          40,
          61,
          69,
          67,
          91,
          89,
          59,
          72,
          69,
          83,
          41,
          71,
          87,
          78,
          81,
          91,
          62,
          70,
          51,
          42,
          69,
          -1,
          41,
          73,
          -1,
          87,
          80,
          88,
          90,
          88,
          -1,
          90,
          68,
          67,
          66,
          71,
          70,
          68,
          66,
          68,
          66,
          63,
          63,
          83,
          59,
          68,
          56,
          60,
          63,
          57,
          52,
          57,
          72,
          82,
          62,
          77,
          81,
          61,
          57,
          101,
          -1,
          80,
          71,
          76,
          87,
          79,
          70,
          86,
          56,
          21,
          -1,
          54,
          56,
          46,
          38,
          62,
          52,
          41,
          33,
          38,
          44,
          90,
          55,
          31,
          51,
          -1,
          43,
          -1,
          37,
          92,
          35,
          94,
          29,
          87,
          53,
          91,
          38,
          -1,
          24,
          46,
          24,
          28,
          -1,
          42,
          24,
          94,
          45,
          36,
          29,
          59,
          47,
          57,
          67,
          38,
          92,
          67,
          47,
          54,
          53,
          59,
          86,
          65
         ],
         "yaxis": "y"
        },
        {
         "name": "dots_ON",
         "nbinsy": 30,
         "opacity": 0.75,
         "type": "histogram",
         "xaxis": "x2",
         "y": [
          56,
          52,
          56,
          54,
          54,
          59,
          86,
          50,
          57,
          42,
          54,
          56,
          50,
          56,
          54,
          90,
          56,
          70,
          50,
          69,
          78,
          52,
          81,
          69,
          19,
          60,
          61,
          46,
          63,
          83,
          71,
          61,
          90,
          40,
          45,
          52,
          56,
          26,
          77,
          85,
          47,
          40,
          61,
          62,
          69,
          25,
          67,
          91,
          71,
          89,
          59,
          40,
          72,
          65,
          69,
          40,
          15,
          21,
          32,
          79,
          83,
          41,
          65,
          71,
          87,
          45,
          77,
          78,
          -1,
          81,
          75,
          91,
          93,
          44,
          62,
          83,
          70,
          53,
          65,
          76,
          92,
          51,
          33,
          75,
          97,
          44,
          98,
          48,
          67,
          42,
          83,
          95,
          69,
          34,
          37,
          42,
          41,
          73,
          65,
          87,
          80,
          88,
          70,
          68,
          34,
          95,
          101,
          -1,
          68,
          79,
          23,
          52,
          30,
          74,
          48,
          81,
          -1,
          93,
          78,
          101,
          90,
          73,
          101,
          69,
          88,
          88,
          58,
          79,
          33,
          92,
          91,
          82,
          90,
          65,
          69,
          79,
          85,
          61,
          48,
          87,
          77,
          73,
          89,
          91,
          40,
          84,
          100,
          82,
          68,
          67,
          66,
          71,
          70,
          68,
          66,
          68,
          93,
          66,
          63,
          61,
          52,
          63,
          45,
          70,
          48,
          60,
          83,
          83,
          59,
          63,
          93,
          68,
          101,
          56,
          60,
          63,
          101,
          57,
          101,
          96,
          52,
          57,
          72,
          89,
          82,
          62,
          54,
          75,
          77,
          101,
          81,
          94,
          35,
          61,
          71,
          84,
          101,
          57,
          77,
          59,
          101,
          101,
          101,
          80,
          101,
          73,
          59,
          71,
          82,
          71,
          85,
          60,
          56,
          76,
          101,
          87,
          101,
          101,
          88,
          77,
          73,
          90,
          87,
          88,
          45,
          100,
          101,
          101,
          101,
          72,
          101,
          101,
          86,
          25,
          92,
          101,
          63,
          101,
          77,
          101,
          101,
          66,
          80,
          93,
          79,
          70,
          86,
          101,
          56,
          21,
          -1,
          54,
          56,
          46,
          38,
          62,
          52,
          41,
          38,
          -1,
          44,
          32,
          90,
          55,
          -1,
          43,
          37,
          92,
          35,
          94,
          78,
          45,
          87,
          53,
          91,
          38,
          -1,
          73,
          24,
          80,
          94,
          45,
          74,
          80,
          59,
          87,
          79,
          57,
          67,
          66,
          95,
          92,
          67,
          47,
          81,
          80,
          51
         ],
         "yaxis": "y2"
        },
        {
         "name": "dots_OFF",
         "nbinsy": 30,
         "opacity": 0.75,
         "type": "histogram",
         "xaxis": "x3",
         "y": [
          52,
          50,
          56,
          78,
          81,
          69,
          46,
          71,
          90,
          77,
          61,
          69,
          67,
          91,
          89,
          59,
          72,
          65,
          65,
          71,
          78,
          75,
          91,
          51,
          75,
          73,
          80,
          95,
          68,
          73,
          69,
          69,
          61,
          77,
          -1,
          68,
          67,
          66,
          71,
          70,
          68,
          66,
          68,
          29,
          93,
          40,
          63,
          101,
          61,
          -1,
          52,
          45,
          45,
          101,
          48,
          83,
          83,
          101,
          93,
          68,
          63,
          101,
          27,
          89,
          62,
          54,
          75,
          77,
          97,
          81,
          35,
          101,
          101,
          59,
          101,
          101,
          87,
          101,
          87,
          88
         ],
         "yaxis": "y3"
        },
        {
         "name": "loom",
         "nbinsy": 30,
         "opacity": 0.75,
         "type": "histogram",
         "xaxis": "x4",
         "y": [
          52,
          56,
          68,
          54,
          59,
          86,
          50,
          42,
          54,
          65,
          50,
          56,
          67,
          54,
          90,
          56,
          70,
          69,
          78,
          52,
          81,
          69,
          19,
          60,
          61,
          46,
          63,
          83,
          71,
          61,
          90,
          40,
          45,
          52,
          56,
          26,
          77,
          85,
          47,
          40,
          61,
          62,
          69,
          25,
          70,
          67,
          91,
          71,
          74,
          89,
          59,
          40,
          72,
          69,
          15,
          21,
          32,
          79,
          83,
          41,
          71,
          87,
          45,
          77,
          78,
          81,
          91,
          93,
          62,
          83,
          70,
          53,
          65,
          76,
          92,
          51,
          33,
          97,
          44,
          98,
          42,
          56,
          34,
          37,
          41,
          73,
          87,
          82,
          80,
          88,
          68,
          34,
          101,
          68,
          79,
          69,
          48,
          93,
          72,
          101,
          101,
          82,
          79,
          48,
          77,
          38,
          68,
          67,
          66,
          71,
          70,
          68,
          87,
          66,
          75,
          68,
          79,
          47,
          93,
          40,
          63,
          26,
          101,
          61,
          52,
          45,
          45,
          59,
          70,
          48,
          60,
          83,
          83,
          59,
          59,
          63,
          101,
          93,
          68,
          101,
          60,
          63,
          101,
          57,
          101,
          96,
          27,
          52,
          57,
          89,
          62,
          54,
          75,
          77,
          38,
          81,
          94,
          35,
          99,
          52,
          71,
          92,
          84,
          36,
          57,
          57,
          101,
          59,
          22,
          73,
          59,
          82,
          36,
          85,
          86,
          27,
          25,
          73,
          94,
          -1,
          -1,
          -1,
          -1,
          -1,
          -1,
          -1,
          101,
          -1,
          -1,
          -1,
          -1,
          -1,
          -1,
          18,
          19,
          8,
          21,
          54,
          28,
          20,
          24,
          26,
          32,
          15,
          35,
          3,
          36,
          8,
          12,
          73,
          29,
          46,
          40,
          16,
          28,
          38,
          57,
          34,
          41,
          23,
          27,
          38,
          71,
          44,
          32,
          31,
          -1,
          86,
          70,
          74,
          8,
          7,
          30,
          33,
          19,
          10,
          37,
          15,
          35,
          78,
          96,
          29,
          53,
          85,
          53,
          38,
          24,
          46,
          27,
          24,
          24,
          37,
          63,
          41,
          74,
          41,
          33,
          24,
          82,
          40,
          29,
          59,
          32,
          47,
          21,
          43,
          53,
          80,
          23,
          11,
          45,
          55,
          -1,
          65,
          34,
          101,
          55,
          40,
          73
         ],
         "yaxis": "y4"
        }
       ],
       "layout": {
        "barmode": "overlay",
        "height": 300,
        "margin": {
         "b": 20,
         "l": 20,
         "r": 20,
         "t": 20
        },
        "template": {
         "data": {
          "bar": [
           {
            "error_x": {
             "color": "#2a3f5f"
            },
            "error_y": {
             "color": "#2a3f5f"
            },
            "marker": {
             "line": {
              "color": "#E5ECF6",
              "width": 0.5
             },
             "pattern": {
              "fillmode": "overlay",
              "size": 10,
              "solidity": 0.2
             }
            },
            "type": "bar"
           }
          ],
          "barpolar": [
           {
            "marker": {
             "line": {
              "color": "#E5ECF6",
              "width": 0.5
             },
             "pattern": {
              "fillmode": "overlay",
              "size": 10,
              "solidity": 0.2
             }
            },
            "type": "barpolar"
           }
          ],
          "carpet": [
           {
            "aaxis": {
             "endlinecolor": "#2a3f5f",
             "gridcolor": "white",
             "linecolor": "white",
             "minorgridcolor": "white",
             "startlinecolor": "#2a3f5f"
            },
            "baxis": {
             "endlinecolor": "#2a3f5f",
             "gridcolor": "white",
             "linecolor": "white",
             "minorgridcolor": "white",
             "startlinecolor": "#2a3f5f"
            },
            "type": "carpet"
           }
          ],
          "choropleth": [
           {
            "colorbar": {
             "outlinewidth": 0,
             "ticks": ""
            },
            "type": "choropleth"
           }
          ],
          "contour": [
           {
            "colorbar": {
             "outlinewidth": 0,
             "ticks": ""
            },
            "colorscale": [
             [
              0,
              "#0d0887"
             ],
             [
              0.1111111111111111,
              "#46039f"
             ],
             [
              0.2222222222222222,
              "#7201a8"
             ],
             [
              0.3333333333333333,
              "#9c179e"
             ],
             [
              0.4444444444444444,
              "#bd3786"
             ],
             [
              0.5555555555555556,
              "#d8576b"
             ],
             [
              0.6666666666666666,
              "#ed7953"
             ],
             [
              0.7777777777777778,
              "#fb9f3a"
             ],
             [
              0.8888888888888888,
              "#fdca26"
             ],
             [
              1,
              "#f0f921"
             ]
            ],
            "type": "contour"
           }
          ],
          "contourcarpet": [
           {
            "colorbar": {
             "outlinewidth": 0,
             "ticks": ""
            },
            "type": "contourcarpet"
           }
          ],
          "heatmap": [
           {
            "colorbar": {
             "outlinewidth": 0,
             "ticks": ""
            },
            "colorscale": [
             [
              0,
              "#0d0887"
             ],
             [
              0.1111111111111111,
              "#46039f"
             ],
             [
              0.2222222222222222,
              "#7201a8"
             ],
             [
              0.3333333333333333,
              "#9c179e"
             ],
             [
              0.4444444444444444,
              "#bd3786"
             ],
             [
              0.5555555555555556,
              "#d8576b"
             ],
             [
              0.6666666666666666,
              "#ed7953"
             ],
             [
              0.7777777777777778,
              "#fb9f3a"
             ],
             [
              0.8888888888888888,
              "#fdca26"
             ],
             [
              1,
              "#f0f921"
             ]
            ],
            "type": "heatmap"
           }
          ],
          "heatmapgl": [
           {
            "colorbar": {
             "outlinewidth": 0,
             "ticks": ""
            },
            "colorscale": [
             [
              0,
              "#0d0887"
             ],
             [
              0.1111111111111111,
              "#46039f"
             ],
             [
              0.2222222222222222,
              "#7201a8"
             ],
             [
              0.3333333333333333,
              "#9c179e"
             ],
             [
              0.4444444444444444,
              "#bd3786"
             ],
             [
              0.5555555555555556,
              "#d8576b"
             ],
             [
              0.6666666666666666,
              "#ed7953"
             ],
             [
              0.7777777777777778,
              "#fb9f3a"
             ],
             [
              0.8888888888888888,
              "#fdca26"
             ],
             [
              1,
              "#f0f921"
             ]
            ],
            "type": "heatmapgl"
           }
          ],
          "histogram": [
           {
            "marker": {
             "pattern": {
              "fillmode": "overlay",
              "size": 10,
              "solidity": 0.2
             }
            },
            "type": "histogram"
           }
          ],
          "histogram2d": [
           {
            "colorbar": {
             "outlinewidth": 0,
             "ticks": ""
            },
            "colorscale": [
             [
              0,
              "#0d0887"
             ],
             [
              0.1111111111111111,
              "#46039f"
             ],
             [
              0.2222222222222222,
              "#7201a8"
             ],
             [
              0.3333333333333333,
              "#9c179e"
             ],
             [
              0.4444444444444444,
              "#bd3786"
             ],
             [
              0.5555555555555556,
              "#d8576b"
             ],
             [
              0.6666666666666666,
              "#ed7953"
             ],
             [
              0.7777777777777778,
              "#fb9f3a"
             ],
             [
              0.8888888888888888,
              "#fdca26"
             ],
             [
              1,
              "#f0f921"
             ]
            ],
            "type": "histogram2d"
           }
          ],
          "histogram2dcontour": [
           {
            "colorbar": {
             "outlinewidth": 0,
             "ticks": ""
            },
            "colorscale": [
             [
              0,
              "#0d0887"
             ],
             [
              0.1111111111111111,
              "#46039f"
             ],
             [
              0.2222222222222222,
              "#7201a8"
             ],
             [
              0.3333333333333333,
              "#9c179e"
             ],
             [
              0.4444444444444444,
              "#bd3786"
             ],
             [
              0.5555555555555556,
              "#d8576b"
             ],
             [
              0.6666666666666666,
              "#ed7953"
             ],
             [
              0.7777777777777778,
              "#fb9f3a"
             ],
             [
              0.8888888888888888,
              "#fdca26"
             ],
             [
              1,
              "#f0f921"
             ]
            ],
            "type": "histogram2dcontour"
           }
          ],
          "mesh3d": [
           {
            "colorbar": {
             "outlinewidth": 0,
             "ticks": ""
            },
            "type": "mesh3d"
           }
          ],
          "parcoords": [
           {
            "line": {
             "colorbar": {
              "outlinewidth": 0,
              "ticks": ""
             }
            },
            "type": "parcoords"
           }
          ],
          "pie": [
           {
            "automargin": true,
            "type": "pie"
           }
          ],
          "scatter": [
           {
            "fillpattern": {
             "fillmode": "overlay",
             "size": 10,
             "solidity": 0.2
            },
            "type": "scatter"
           }
          ],
          "scatter3d": [
           {
            "line": {
             "colorbar": {
              "outlinewidth": 0,
              "ticks": ""
             }
            },
            "marker": {
             "colorbar": {
              "outlinewidth": 0,
              "ticks": ""
             }
            },
            "type": "scatter3d"
           }
          ],
          "scattercarpet": [
           {
            "marker": {
             "colorbar": {
              "outlinewidth": 0,
              "ticks": ""
             }
            },
            "type": "scattercarpet"
           }
          ],
          "scattergeo": [
           {
            "marker": {
             "colorbar": {
              "outlinewidth": 0,
              "ticks": ""
             }
            },
            "type": "scattergeo"
           }
          ],
          "scattergl": [
           {
            "marker": {
             "colorbar": {
              "outlinewidth": 0,
              "ticks": ""
             }
            },
            "type": "scattergl"
           }
          ],
          "scattermapbox": [
           {
            "marker": {
             "colorbar": {
              "outlinewidth": 0,
              "ticks": ""
             }
            },
            "type": "scattermapbox"
           }
          ],
          "scatterpolar": [
           {
            "marker": {
             "colorbar": {
              "outlinewidth": 0,
              "ticks": ""
             }
            },
            "type": "scatterpolar"
           }
          ],
          "scatterpolargl": [
           {
            "marker": {
             "colorbar": {
              "outlinewidth": 0,
              "ticks": ""
             }
            },
            "type": "scatterpolargl"
           }
          ],
          "scatterternary": [
           {
            "marker": {
             "colorbar": {
              "outlinewidth": 0,
              "ticks": ""
             }
            },
            "type": "scatterternary"
           }
          ],
          "surface": [
           {
            "colorbar": {
             "outlinewidth": 0,
             "ticks": ""
            },
            "colorscale": [
             [
              0,
              "#0d0887"
             ],
             [
              0.1111111111111111,
              "#46039f"
             ],
             [
              0.2222222222222222,
              "#7201a8"
             ],
             [
              0.3333333333333333,
              "#9c179e"
             ],
             [
              0.4444444444444444,
              "#bd3786"
             ],
             [
              0.5555555555555556,
              "#d8576b"
             ],
             [
              0.6666666666666666,
              "#ed7953"
             ],
             [
              0.7777777777777778,
              "#fb9f3a"
             ],
             [
              0.8888888888888888,
              "#fdca26"
             ],
             [
              1,
              "#f0f921"
             ]
            ],
            "type": "surface"
           }
          ],
          "table": [
           {
            "cells": {
             "fill": {
              "color": "#EBF0F8"
             },
             "line": {
              "color": "white"
             }
            },
            "header": {
             "fill": {
              "color": "#C8D4E3"
             },
             "line": {
              "color": "white"
             }
            },
            "type": "table"
           }
          ]
         },
         "layout": {
          "annotationdefaults": {
           "arrowcolor": "#2a3f5f",
           "arrowhead": 0,
           "arrowwidth": 1
          },
          "autotypenumbers": "strict",
          "coloraxis": {
           "colorbar": {
            "outlinewidth": 0,
            "ticks": ""
           }
          },
          "colorscale": {
           "diverging": [
            [
             0,
             "#8e0152"
            ],
            [
             0.1,
             "#c51b7d"
            ],
            [
             0.2,
             "#de77ae"
            ],
            [
             0.3,
             "#f1b6da"
            ],
            [
             0.4,
             "#fde0ef"
            ],
            [
             0.5,
             "#f7f7f7"
            ],
            [
             0.6,
             "#e6f5d0"
            ],
            [
             0.7,
             "#b8e186"
            ],
            [
             0.8,
             "#7fbc41"
            ],
            [
             0.9,
             "#4d9221"
            ],
            [
             1,
             "#276419"
            ]
           ],
           "sequential": [
            [
             0,
             "#0d0887"
            ],
            [
             0.1111111111111111,
             "#46039f"
            ],
            [
             0.2222222222222222,
             "#7201a8"
            ],
            [
             0.3333333333333333,
             "#9c179e"
            ],
            [
             0.4444444444444444,
             "#bd3786"
            ],
            [
             0.5555555555555556,
             "#d8576b"
            ],
            [
             0.6666666666666666,
             "#ed7953"
            ],
            [
             0.7777777777777778,
             "#fb9f3a"
            ],
            [
             0.8888888888888888,
             "#fdca26"
            ],
            [
             1,
             "#f0f921"
            ]
           ],
           "sequentialminus": [
            [
             0,
             "#0d0887"
            ],
            [
             0.1111111111111111,
             "#46039f"
            ],
            [
             0.2222222222222222,
             "#7201a8"
            ],
            [
             0.3333333333333333,
             "#9c179e"
            ],
            [
             0.4444444444444444,
             "#bd3786"
            ],
            [
             0.5555555555555556,
             "#d8576b"
            ],
            [
             0.6666666666666666,
             "#ed7953"
            ],
            [
             0.7777777777777778,
             "#fb9f3a"
            ],
            [
             0.8888888888888888,
             "#fdca26"
            ],
            [
             1,
             "#f0f921"
            ]
           ]
          },
          "colorway": [
           "#636efa",
           "#EF553B",
           "#00cc96",
           "#ab63fa",
           "#FFA15A",
           "#19d3f3",
           "#FF6692",
           "#B6E880",
           "#FF97FF",
           "#FECB52"
          ],
          "font": {
           "color": "#2a3f5f"
          },
          "geo": {
           "bgcolor": "white",
           "lakecolor": "white",
           "landcolor": "#E5ECF6",
           "showlakes": true,
           "showland": true,
           "subunitcolor": "white"
          },
          "hoverlabel": {
           "align": "left"
          },
          "hovermode": "closest",
          "mapbox": {
           "style": "light"
          },
          "paper_bgcolor": "white",
          "plot_bgcolor": "#E5ECF6",
          "polar": {
           "angularaxis": {
            "gridcolor": "white",
            "linecolor": "white",
            "ticks": ""
           },
           "bgcolor": "#E5ECF6",
           "radialaxis": {
            "gridcolor": "white",
            "linecolor": "white",
            "ticks": ""
           }
          },
          "scene": {
           "xaxis": {
            "backgroundcolor": "#E5ECF6",
            "gridcolor": "white",
            "gridwidth": 2,
            "linecolor": "white",
            "showbackground": true,
            "ticks": "",
            "zerolinecolor": "white"
           },
           "yaxis": {
            "backgroundcolor": "#E5ECF6",
            "gridcolor": "white",
            "gridwidth": 2,
            "linecolor": "white",
            "showbackground": true,
            "ticks": "",
            "zerolinecolor": "white"
           },
           "zaxis": {
            "backgroundcolor": "#E5ECF6",
            "gridcolor": "white",
            "gridwidth": 2,
            "linecolor": "white",
            "showbackground": true,
            "ticks": "",
            "zerolinecolor": "white"
           }
          },
          "shapedefaults": {
           "line": {
            "color": "#2a3f5f"
           }
          },
          "ternary": {
           "aaxis": {
            "gridcolor": "white",
            "linecolor": "white",
            "ticks": ""
           },
           "baxis": {
            "gridcolor": "white",
            "linecolor": "white",
            "ticks": ""
           },
           "bgcolor": "#E5ECF6",
           "caxis": {
            "gridcolor": "white",
            "linecolor": "white",
            "ticks": ""
           }
          },
          "title": {
           "x": 0.05
          },
          "xaxis": {
           "automargin": true,
           "gridcolor": "white",
           "linecolor": "white",
           "ticks": "",
           "title": {
            "standoff": 15
           },
           "zerolinecolor": "white",
           "zerolinewidth": 2
          },
          "yaxis": {
           "automargin": true,
           "gridcolor": "white",
           "linecolor": "white",
           "ticks": "",
           "title": {
            "standoff": 15
           },
           "zerolinecolor": "white",
           "zerolinewidth": 2
          }
         }
        },
        "width": 600,
        "xaxis": {
         "anchor": "y",
         "domain": [
          0,
          0.2125
         ],
         "title": {
          "text": "Count"
         }
        },
        "xaxis2": {
         "anchor": "y2",
         "domain": [
          0.2625,
          0.475
         ]
        },
        "xaxis3": {
         "anchor": "y3",
         "domain": [
          0.525,
          0.7375
         ]
        },
        "xaxis4": {
         "anchor": "y4",
         "domain": [
          0.7875,
          1
         ]
        },
        "yaxis": {
         "anchor": "x",
         "domain": [
          0,
          1
         ],
         "title": {
          "text": "y_centroid"
         }
        },
        "yaxis2": {
         "anchor": "x2",
         "domain": [
          0,
          1
         ],
         "matches": "y",
         "showticklabels": false
        },
        "yaxis3": {
         "anchor": "x3",
         "domain": [
          0,
          1
         ],
         "matches": "y",
         "showticklabels": false
        },
        "yaxis4": {
         "anchor": "x4",
         "domain": [
          0,
          1
         ],
         "matches": "y",
         "showticklabels": false
        }
       }
      }
     },
     "metadata": {},
     "output_type": "display_data"
    }
   ],
   "source": [
    "import plotly.graph_objects as go\n",
    "from plotly.subplots import make_subplots\n",
    "\n",
    "# Get the number of unique 'stimtype' values\n",
    "num_stimtypes = pooled_data['stimtype'].nunique()\n",
    "\n",
    "# Create a subplot with 1 row and 'num_stimtypes' columns\n",
    "fig = make_subplots(rows=1, cols=num_stimtypes, shared_yaxes=True)\n",
    "\n",
    "# Loop through each unique value of 'stimtype'\n",
    "for i, stim in enumerate(pooled_data['stimtype'].unique(), start=1):\n",
    "    filtered_data = pooled_data[pooled_data['stimtype'] == stim]\n",
    "    fig.add_trace(go.Histogram(y=filtered_data['ot_depth'], name=stim,\n",
    "                               nbinsy=30, opacity=0.75),\n",
    "                  row=1, col=i)\n",
    "\n",
    "# Update the layout\n",
    "fig.update_layout(barmode='overlay', yaxis_title='y_centroid', xaxis_title='Count',\n",
    "                  width=150 * num_stimtypes, height=300, margin=dict(l=20, r=20, t=20, b=20))\n",
    "\n",
    "# Display the figure\n",
    "fig.show()\n"
   ]
  },
  {
   "cell_type": "code",
   "execution_count": 24,
   "metadata": {},
   "outputs": [
    {
     "data": {
      "application/vnd.plotly.v1+json": {
       "config": {
        "plotlyServerURL": "https://plot.ly"
       },
       "data": [
        {
         "name": "moving stripes",
         "opacity": 0.75,
         "type": "histogram",
         "x": [
          254,
          248.7948717948718,
          236,
          245.5,
          232,
          260.1290322580645,
          226.3939393939394,
          234,
          241.05555555555554,
          269.27272727272725,
          269,
          231.48717948717947,
          265.8378378378378,
          237.85294117647058,
          273,
          247.42857142857142,
          219.05263157894737,
          245,
          268,
          302.37142857142857,
          258.92105263157896,
          244,
          273.43333333333334,
          250.03030303030303,
          222.72727272727272,
          275.1714285714286,
          229.26666666666668,
          269.90909090909093,
          246,
          251.5,
          269.3142857142857,
          278.9,
          264.6666666666667,
          274,
          266.27272727272725,
          242.28125,
          282.8205128205128,
          262.89473684210526,
          255.25806451612902,
          259.3235294117647,
          278.7647058823529,
          285.93548387096774,
          289.741935483871,
          213.7058823529412,
          238.3846153846154,
          273.25,
          241.57142857142858,
          226.63636363636363,
          43.13333333333333,
          275.0833333333333,
          280.8421052631579,
          36.84615384615385,
          293.8333333333333,
          262.2857142857143,
          254.06666666666666,
          250.375,
          237.8,
          141,
          263,
          241,
          236.02380952380952,
          266,
          246.2941176470588,
          250.27777777777777,
          254.27777777777777,
          261.5,
          258.72727272727275,
          256,
          230.7948717948718,
          255,
          246.5151515151515,
          267.25,
          228,
          234.61764705882354,
          247.96774193548387,
          221.30555555555554,
          240.09677419354838,
          227.3125,
          259.8,
          258,
          238,
          318,
          267.625,
          256.80645161290323,
          272.4,
          253.11111111111111,
          365.52941176470586,
          107.66666666666667,
          241.33333333333334,
          271.1666666666667,
          226.53846153846155,
          251.68421052631578,
          263,
          220,
          273,
          223.94594594594594,
          143.3,
          117.03333333333333,
          236,
          212.77777777777777,
          215.14705882352942,
          209.69444444444446,
          232.16666666666666,
          202.94871794871796,
          223.35,
          129.81578947368422,
          217.12121212121212,
          229.4516129032258,
          198.2258064516129,
          208.19354838709677,
          229.05714285714285,
          299.7352941176471,
          128,
          197.84375,
          85.92307692307692,
          235.42857142857142,
          191.3030303030303,
          204.375,
          206.9,
          220.48387096774192,
          181.23333333333332,
          241.84375,
          243.15625,
          240.03125,
          134.375,
          232.4516129032258,
          247.36111111111111,
          223,
          207.5,
          76.71428571428571,
          202,
          214.06666666666666,
          234.5,
          233.2,
          183.35294117647058,
          198.66666666666666,
          161.46875,
          194.33333333333334,
          247.28571428571428,
          229,
          190.6315789473684,
          212.63636363636363,
          218.78947368421052,
          251,
          254.5,
          259.2857142857143,
          170.66666666666666,
          238,
          242
         ],
         "ybins": {
          "end": 512,
          "size": 50,
          "start": 0
         }
        },
        {
         "name": "dots_ON",
         "opacity": 0.75,
         "type": "histogram",
         "x": [
          254,
          248.7948717948718,
          260,
          236,
          245.5,
          232,
          311,
          260.1290322580645,
          257.5,
          287,
          226.3939393939394,
          234,
          241.05555555555554,
          269.27272727272725,
          233,
          269,
          297.1290322580645,
          231.48717948717947,
          293,
          306.94444444444446,
          265.8378378378378,
          237.85294117647058,
          273,
          247.42857142857142,
          270,
          219.05263157894737,
          245,
          268,
          302.37142857142857,
          316,
          258.92105263157896,
          244,
          273.43333333333334,
          257.1714285714286,
          250.03030303030303,
          294,
          222.72727272727272,
          274.5,
          275.1714285714286,
          318.5,
          229.26666666666668,
          269.90909090909093,
          246,
          236,
          251.5,
          270,
          269.3142857142857,
          278.9,
          306.1290322580645,
          264.6666666666667,
          274,
          252.88235294117646,
          266.27272727272725,
          263,
          242.28125,
          207.97222222222223,
          266.76666666666665,
          265.03125,
          279.55555555555554,
          305.75757575757575,
          282.8205128205128,
          262.89473684210526,
          264,
          255.25806451612902,
          259.3235294117647,
          216.8181818181818,
          312.46666666666664,
          278.7647058823529,
          53.30434782608695,
          285.93548387096774,
          271,
          289.741935483871,
          321.125,
          262,
          213.7058823529412,
          312.8,
          238.3846153846154,
          293.0967741935484,
          300.76,
          311.5,
          323.93548387096774,
          273.25,
          269,
          270,
          326.92,
          190.7,
          315.6,
          205.35294117647058,
          208.875,
          241.57142857142858,
          299.1,
          303.4,
          226.63636363636363,
          262.875,
          281.88235294117646,
          222.12121212121212,
          275.0833333333333,
          280.8421052631579,
          265,
          293.8333333333333,
          262.2857142857143,
          254.06666666666666,
          308,
          296.3421052631579,
          276.375,
          285.6,
          325.53333333333336,
          49.666666666666664,
          274.3,
          309,
          263.1,
          214.08333333333334,
          278,
          288.26666666666665,
          199.36,
          295.1111111111111,
          49.4,
          317.1818181818182,
          298.22222222222223,
          324,
          250.375,
          284.8,
          334,
          272,
          305.4,
          237.8,
          287.3333333333333,
          239.78571428571428,
          272.2,
          264,
          243,
          260,
          263,
          290,
          277,
          256.5,
          250,
          278,
          280.5,
          262,
          252,
          291,
          235.5,
          310.5,
          231,
          305,
          322,
          292,
          241,
          236.02380952380952,
          266,
          246.2941176470588,
          250.27777777777777,
          254.27777777777777,
          261.5,
          258.72727272727275,
          317,
          256,
          230.7948717948718,
          311,
          306.70588235294116,
          255,
          300.1290322580645,
          305.1818181818182,
          309,
          306.05405405405406,
          246.5151515151515,
          313.8378378378378,
          267.25,
          315.27272727272725,
          321.1142857142857,
          228,
          340,
          234.61764705882354,
          247.96774193548387,
          221.30555555555554,
          335.10526315789474,
          240.09677419354838,
          334.18918918918916,
          332.8378378378378,
          227.3125,
          259.8,
          258,
          311.5,
          238,
          318,
          220.38709677419354,
          317.75,
          267.625,
          340.88235294117646,
          256.80645161290323,
          328.15625,
          295.0857142857143,
          272.4,
          310.27272727272725,
          328,
          384.5217391304348,
          253.11111111111111,
          313,
          214.66666666666666,
          353.8709677419355,
          342.9,
          350,
          241.33333333333334,
          371,
          322.3125,
          302.05882352941177,
          271.1666666666667,
          317.54545454545456,
          313.3333333333333,
          323.53333333333336,
          320,
          318,
          226.53846153846155,
          346.22222222222223,
          251.68421052631578,
          351.625,
          361.5,
          235,
          312,
          218.75,
          255.66666666666666,
          243.5,
          259,
          303.72727272727275,
          283.93939393939394,
          310.1666666666667,
          351.42857142857144,
          349.9189189189189,
          285,
          338.7,
          384.3333333333333,
          326.5,
          275,
          247,
          347.25,
          189.71428571428572,
          356.6,
          311,
          358.8333333333333,
          338,
          322,
          233,
          238,
          263,
          220,
          273,
          360,
          223.94594594594594,
          143.3,
          117.03333333333333,
          236,
          212.77777777777777,
          215.14705882352942,
          209.69444444444446,
          232.16666666666666,
          202.94871794871796,
          223.35,
          217.12121212121212,
          125.07692307692308,
          229.4516129032258,
          158.95,
          198.2258064516129,
          208.19354838709677,
          128,
          197.84375,
          235.42857142857142,
          191.3030303030303,
          204.375,
          206.9,
          293.3125,
          166.2,
          181.23333333333332,
          241.84375,
          243.15625,
          240.03125,
          134.375,
          152.8918918918919,
          214.06666666666666,
          148.03333333333333,
          234.5,
          233.2,
          280.7142857142857,
          173.36363636363637,
          161.46875,
          202.5,
          288,
          247.28571428571428,
          229,
          158,
          224.14285714285714,
          212.63636363636363,
          218.78947368421052,
          251,
          162.625,
          278,
          152.85714285714286
         ],
         "ybins": {
          "end": 512,
          "size": 50,
          "start": 0
         }
        },
        {
         "name": "dots_OFF",
         "opacity": 0.75,
         "type": "histogram",
         "x": [
          248.7948717948718,
          260.1290322580645,
          269.27272727272725,
          265.8378378378378,
          273,
          247.42857142857142,
          268,
          258.92105263157896,
          273.43333333333334,
          275.1714285714286,
          246,
          251.5,
          269.3142857142857,
          278.9,
          264.6666666666667,
          274,
          266.27272727272725,
          263,
          264,
          255.25806451612902,
          278.7647058823529,
          271,
          289.741935483871,
          273.25,
          270,
          280.8421052631579,
          262.2857142857143,
          285.6,
          274.3,
          284.8,
          272,
          277,
          278,
          252,
          119.96875,
          241,
          236.02380952380952,
          266,
          246.2941176470588,
          250.27777777777777,
          254.27777777777777,
          261.5,
          258.72727272727275,
          286,
          317,
          292.9117647058824,
          230.7948717948718,
          328,
          311,
          155.21052631578948,
          306.70588235294116,
          303.72727272727275,
          300.1290322580645,
          322.64516129032256,
          309,
          246.5151515151515,
          313.8378378378378,
          331.1470588235294,
          321.1142857142857,
          228,
          221.30555555555554,
          335.10526315789474,
          288.69444444444446,
          311.5,
          318,
          220.38709677419354,
          317.75,
          267.625,
          308.5,
          256.80645161290323,
          295.0857142857143,
          349.9189189189189,
          338.7,
          214.66666666666666,
          353.8709677419355,
          345.5625,
          251.68421052631578,
          374.75,
          243.5,
          259
         ],
         "ybins": {
          "end": 512,
          "size": 50,
          "start": 0
         }
        },
        {
         "name": "loom",
         "opacity": 0.75,
         "type": "histogram",
         "x": [
          248.7948717948718,
          260,
          96,
          236,
          232,
          311,
          260.1290322580645,
          287,
          226.3939393939394,
          88.92105263157895,
          241.05555555555554,
          269.27272727272725,
          106.97435897435898,
          233,
          269,
          297.1290322580645,
          231.48717948717947,
          306.94444444444446,
          265.8378378378378,
          237.85294117647058,
          273,
          247.42857142857142,
          270,
          219.05263157894737,
          245,
          268,
          302.37142857142857,
          316,
          258.92105263157896,
          244,
          273.43333333333334,
          257.1714285714286,
          250.03030303030303,
          294,
          222.72727272727272,
          274.5,
          275.1714285714286,
          318.5,
          229.26666666666668,
          269.90909090909093,
          246,
          236,
          251.5,
          270,
          123.8157894736842,
          269.3142857142857,
          278.9,
          306.1290322580645,
          69.46666666666667,
          264.6666666666667,
          274,
          252.88235294117646,
          266.27272727272725,
          242.28125,
          266.76666666666665,
          265.03125,
          279.55555555555554,
          305.75757575757575,
          282.8205128205128,
          262.89473684210526,
          255.25806451612902,
          259.3235294117647,
          216.8181818181818,
          312.46666666666664,
          278.7647058823529,
          285.93548387096774,
          289.741935483871,
          321.125,
          213.7058823529412,
          312.8,
          238.3846153846154,
          293.0967741935484,
          300.76,
          311.5,
          323.93548387096774,
          273.25,
          269,
          326.92,
          190.7,
          315.6,
          241.57142857142858,
          160.29032258064515,
          262.875,
          281.88235294117646,
          275.0833333333333,
          280.8421052631579,
          293.8333333333333,
          316.5,
          262.2857142857143,
          254.06666666666666,
          296.3421052631579,
          276.375,
          325.53333333333336,
          274.3,
          309,
          52.2,
          199.36,
          317.1818181818182,
          309,
          334,
          366.5,
          260,
          256.5,
          280.5,
          252,
          277,
          241,
          236.02380952380952,
          266,
          246.2941176470588,
          250.27777777777777,
          254.27777777777777,
          306.0238095238095,
          261.5,
          302,
          258.72727272727275,
          308,
          298,
          317,
          292.9117647058824,
          230.7948717948718,
          278.13157894736844,
          328,
          311,
          306.70588235294116,
          303.72727272727275,
          300.1290322580645,
          298.86486486486484,
          305.1818181818182,
          309,
          306.05405405405406,
          246.5151515151515,
          313.8378378378378,
          267.25,
          276.27777777777777,
          315.27272727272725,
          331.1470588235294,
          321.1142857142857,
          228,
          340,
          247.96774193548387,
          221.30555555555554,
          335.10526315789474,
          240.09677419354838,
          334.18918918918916,
          332.8378378378378,
          288.69444444444446,
          227.3125,
          259.8,
          311.5,
          318,
          220.38709677419354,
          317.75,
          267.625,
          302.1875,
          256.80645161290323,
          328.15625,
          295.0857142857143,
          326.03225806451616,
          313.95652173913044,
          310.27272727272725,
          295.3333333333333,
          328,
          298.3333333333333,
          253.11111111111111,
          208.34285714285716,
          338.7,
          214.66666666666666,
          282.6,
          322.3125,
          302.05882352941177,
          317.54545454545456,
          304,
          323.53333333333336,
          326.5,
          291,
          275,
          328.22222222222223,
          280.42857142857144,
          119.96875,
          123.15625,
          120.16129032258064,
          127.12121212121212,
          118.75862068965517,
          113.67567567567568,
          108.3529411764706,
          351.42857142857144,
          111.73684210526316,
          126,
          125.4090909090909,
          119.76,
          102.11111111111111,
          122,
          271,
          267,
          274,
          279.29411764705884,
          292,
          285.6060606060606,
          275,
          259,
          266.3095238095238,
          264.8333333333333,
          281.05405405405406,
          284.6388888888889,
          276.4102564102564,
          281.1111111111111,
          267.8,
          261.62857142857143,
          300.0263157894737,
          256.51612903225805,
          289.6666666666667,
          291.64516129032256,
          258.4,
          251.48387096774192,
          209.69444444444446,
          297.54545454545456,
          149.41176470588235,
          223.35,
          287.3666666666667,
          254,
          217.12121212121212,
          306.05128205128204,
          229.4516129032258,
          158.95,
          229.05714285714285,
          271.1666666666667,
          305.6774193548387,
          294.8,
          303.93333333333334,
          271,
          263.75,
          247.61764705882354,
          276.93333333333334,
          253.71428571428572,
          283.15625,
          235.42857142857142,
          149.23076923076923,
          204.375,
          293.3125,
          312.54545454545456,
          220.48387096774192,
          286.7,
          312.11764705882354,
          241.84375,
          240.03125,
          232.4516129032258,
          247.36111111111111,
          166.57142857142858,
          223,
          214.06666666666666,
          294.15625,
          305.09375,
          256.07894736842104,
          280.7142857142857,
          264,
          243.06666666666666,
          253,
          314.1764705882353,
          272,
          198.66666666666666,
          161.46875,
          296,
          251,
          251.5,
          297.8333333333333,
          259.2857142857143,
          278,
          296.75,
          285.6666666666667,
          263,
          284.6666666666667,
          111.66666666666667,
          316,
          142,
          336.5,
          307,
          302,
          290
         ],
         "ybins": {
          "end": 512,
          "size": 50,
          "start": 0
         }
        }
       ],
       "layout": {
        "barmode": "overlay",
        "height": 300,
        "margin": {
         "b": 20,
         "l": 20,
         "r": 20,
         "t": 20
        },
        "template": {
         "data": {
          "bar": [
           {
            "error_x": {
             "color": "#2a3f5f"
            },
            "error_y": {
             "color": "#2a3f5f"
            },
            "marker": {
             "line": {
              "color": "#E5ECF6",
              "width": 0.5
             },
             "pattern": {
              "fillmode": "overlay",
              "size": 10,
              "solidity": 0.2
             }
            },
            "type": "bar"
           }
          ],
          "barpolar": [
           {
            "marker": {
             "line": {
              "color": "#E5ECF6",
              "width": 0.5
             },
             "pattern": {
              "fillmode": "overlay",
              "size": 10,
              "solidity": 0.2
             }
            },
            "type": "barpolar"
           }
          ],
          "carpet": [
           {
            "aaxis": {
             "endlinecolor": "#2a3f5f",
             "gridcolor": "white",
             "linecolor": "white",
             "minorgridcolor": "white",
             "startlinecolor": "#2a3f5f"
            },
            "baxis": {
             "endlinecolor": "#2a3f5f",
             "gridcolor": "white",
             "linecolor": "white",
             "minorgridcolor": "white",
             "startlinecolor": "#2a3f5f"
            },
            "type": "carpet"
           }
          ],
          "choropleth": [
           {
            "colorbar": {
             "outlinewidth": 0,
             "ticks": ""
            },
            "type": "choropleth"
           }
          ],
          "contour": [
           {
            "colorbar": {
             "outlinewidth": 0,
             "ticks": ""
            },
            "colorscale": [
             [
              0,
              "#0d0887"
             ],
             [
              0.1111111111111111,
              "#46039f"
             ],
             [
              0.2222222222222222,
              "#7201a8"
             ],
             [
              0.3333333333333333,
              "#9c179e"
             ],
             [
              0.4444444444444444,
              "#bd3786"
             ],
             [
              0.5555555555555556,
              "#d8576b"
             ],
             [
              0.6666666666666666,
              "#ed7953"
             ],
             [
              0.7777777777777778,
              "#fb9f3a"
             ],
             [
              0.8888888888888888,
              "#fdca26"
             ],
             [
              1,
              "#f0f921"
             ]
            ],
            "type": "contour"
           }
          ],
          "contourcarpet": [
           {
            "colorbar": {
             "outlinewidth": 0,
             "ticks": ""
            },
            "type": "contourcarpet"
           }
          ],
          "heatmap": [
           {
            "colorbar": {
             "outlinewidth": 0,
             "ticks": ""
            },
            "colorscale": [
             [
              0,
              "#0d0887"
             ],
             [
              0.1111111111111111,
              "#46039f"
             ],
             [
              0.2222222222222222,
              "#7201a8"
             ],
             [
              0.3333333333333333,
              "#9c179e"
             ],
             [
              0.4444444444444444,
              "#bd3786"
             ],
             [
              0.5555555555555556,
              "#d8576b"
             ],
             [
              0.6666666666666666,
              "#ed7953"
             ],
             [
              0.7777777777777778,
              "#fb9f3a"
             ],
             [
              0.8888888888888888,
              "#fdca26"
             ],
             [
              1,
              "#f0f921"
             ]
            ],
            "type": "heatmap"
           }
          ],
          "heatmapgl": [
           {
            "colorbar": {
             "outlinewidth": 0,
             "ticks": ""
            },
            "colorscale": [
             [
              0,
              "#0d0887"
             ],
             [
              0.1111111111111111,
              "#46039f"
             ],
             [
              0.2222222222222222,
              "#7201a8"
             ],
             [
              0.3333333333333333,
              "#9c179e"
             ],
             [
              0.4444444444444444,
              "#bd3786"
             ],
             [
              0.5555555555555556,
              "#d8576b"
             ],
             [
              0.6666666666666666,
              "#ed7953"
             ],
             [
              0.7777777777777778,
              "#fb9f3a"
             ],
             [
              0.8888888888888888,
              "#fdca26"
             ],
             [
              1,
              "#f0f921"
             ]
            ],
            "type": "heatmapgl"
           }
          ],
          "histogram": [
           {
            "marker": {
             "pattern": {
              "fillmode": "overlay",
              "size": 10,
              "solidity": 0.2
             }
            },
            "type": "histogram"
           }
          ],
          "histogram2d": [
           {
            "colorbar": {
             "outlinewidth": 0,
             "ticks": ""
            },
            "colorscale": [
             [
              0,
              "#0d0887"
             ],
             [
              0.1111111111111111,
              "#46039f"
             ],
             [
              0.2222222222222222,
              "#7201a8"
             ],
             [
              0.3333333333333333,
              "#9c179e"
             ],
             [
              0.4444444444444444,
              "#bd3786"
             ],
             [
              0.5555555555555556,
              "#d8576b"
             ],
             [
              0.6666666666666666,
              "#ed7953"
             ],
             [
              0.7777777777777778,
              "#fb9f3a"
             ],
             [
              0.8888888888888888,
              "#fdca26"
             ],
             [
              1,
              "#f0f921"
             ]
            ],
            "type": "histogram2d"
           }
          ],
          "histogram2dcontour": [
           {
            "colorbar": {
             "outlinewidth": 0,
             "ticks": ""
            },
            "colorscale": [
             [
              0,
              "#0d0887"
             ],
             [
              0.1111111111111111,
              "#46039f"
             ],
             [
              0.2222222222222222,
              "#7201a8"
             ],
             [
              0.3333333333333333,
              "#9c179e"
             ],
             [
              0.4444444444444444,
              "#bd3786"
             ],
             [
              0.5555555555555556,
              "#d8576b"
             ],
             [
              0.6666666666666666,
              "#ed7953"
             ],
             [
              0.7777777777777778,
              "#fb9f3a"
             ],
             [
              0.8888888888888888,
              "#fdca26"
             ],
             [
              1,
              "#f0f921"
             ]
            ],
            "type": "histogram2dcontour"
           }
          ],
          "mesh3d": [
           {
            "colorbar": {
             "outlinewidth": 0,
             "ticks": ""
            },
            "type": "mesh3d"
           }
          ],
          "parcoords": [
           {
            "line": {
             "colorbar": {
              "outlinewidth": 0,
              "ticks": ""
             }
            },
            "type": "parcoords"
           }
          ],
          "pie": [
           {
            "automargin": true,
            "type": "pie"
           }
          ],
          "scatter": [
           {
            "fillpattern": {
             "fillmode": "overlay",
             "size": 10,
             "solidity": 0.2
            },
            "type": "scatter"
           }
          ],
          "scatter3d": [
           {
            "line": {
             "colorbar": {
              "outlinewidth": 0,
              "ticks": ""
             }
            },
            "marker": {
             "colorbar": {
              "outlinewidth": 0,
              "ticks": ""
             }
            },
            "type": "scatter3d"
           }
          ],
          "scattercarpet": [
           {
            "marker": {
             "colorbar": {
              "outlinewidth": 0,
              "ticks": ""
             }
            },
            "type": "scattercarpet"
           }
          ],
          "scattergeo": [
           {
            "marker": {
             "colorbar": {
              "outlinewidth": 0,
              "ticks": ""
             }
            },
            "type": "scattergeo"
           }
          ],
          "scattergl": [
           {
            "marker": {
             "colorbar": {
              "outlinewidth": 0,
              "ticks": ""
             }
            },
            "type": "scattergl"
           }
          ],
          "scattermapbox": [
           {
            "marker": {
             "colorbar": {
              "outlinewidth": 0,
              "ticks": ""
             }
            },
            "type": "scattermapbox"
           }
          ],
          "scatterpolar": [
           {
            "marker": {
             "colorbar": {
              "outlinewidth": 0,
              "ticks": ""
             }
            },
            "type": "scatterpolar"
           }
          ],
          "scatterpolargl": [
           {
            "marker": {
             "colorbar": {
              "outlinewidth": 0,
              "ticks": ""
             }
            },
            "type": "scatterpolargl"
           }
          ],
          "scatterternary": [
           {
            "marker": {
             "colorbar": {
              "outlinewidth": 0,
              "ticks": ""
             }
            },
            "type": "scatterternary"
           }
          ],
          "surface": [
           {
            "colorbar": {
             "outlinewidth": 0,
             "ticks": ""
            },
            "colorscale": [
             [
              0,
              "#0d0887"
             ],
             [
              0.1111111111111111,
              "#46039f"
             ],
             [
              0.2222222222222222,
              "#7201a8"
             ],
             [
              0.3333333333333333,
              "#9c179e"
             ],
             [
              0.4444444444444444,
              "#bd3786"
             ],
             [
              0.5555555555555556,
              "#d8576b"
             ],
             [
              0.6666666666666666,
              "#ed7953"
             ],
             [
              0.7777777777777778,
              "#fb9f3a"
             ],
             [
              0.8888888888888888,
              "#fdca26"
             ],
             [
              1,
              "#f0f921"
             ]
            ],
            "type": "surface"
           }
          ],
          "table": [
           {
            "cells": {
             "fill": {
              "color": "#EBF0F8"
             },
             "line": {
              "color": "white"
             }
            },
            "header": {
             "fill": {
              "color": "#C8D4E3"
             },
             "line": {
              "color": "white"
             }
            },
            "type": "table"
           }
          ]
         },
         "layout": {
          "annotationdefaults": {
           "arrowcolor": "#2a3f5f",
           "arrowhead": 0,
           "arrowwidth": 1
          },
          "autotypenumbers": "strict",
          "coloraxis": {
           "colorbar": {
            "outlinewidth": 0,
            "ticks": ""
           }
          },
          "colorscale": {
           "diverging": [
            [
             0,
             "#8e0152"
            ],
            [
             0.1,
             "#c51b7d"
            ],
            [
             0.2,
             "#de77ae"
            ],
            [
             0.3,
             "#f1b6da"
            ],
            [
             0.4,
             "#fde0ef"
            ],
            [
             0.5,
             "#f7f7f7"
            ],
            [
             0.6,
             "#e6f5d0"
            ],
            [
             0.7,
             "#b8e186"
            ],
            [
             0.8,
             "#7fbc41"
            ],
            [
             0.9,
             "#4d9221"
            ],
            [
             1,
             "#276419"
            ]
           ],
           "sequential": [
            [
             0,
             "#0d0887"
            ],
            [
             0.1111111111111111,
             "#46039f"
            ],
            [
             0.2222222222222222,
             "#7201a8"
            ],
            [
             0.3333333333333333,
             "#9c179e"
            ],
            [
             0.4444444444444444,
             "#bd3786"
            ],
            [
             0.5555555555555556,
             "#d8576b"
            ],
            [
             0.6666666666666666,
             "#ed7953"
            ],
            [
             0.7777777777777778,
             "#fb9f3a"
            ],
            [
             0.8888888888888888,
             "#fdca26"
            ],
            [
             1,
             "#f0f921"
            ]
           ],
           "sequentialminus": [
            [
             0,
             "#0d0887"
            ],
            [
             0.1111111111111111,
             "#46039f"
            ],
            [
             0.2222222222222222,
             "#7201a8"
            ],
            [
             0.3333333333333333,
             "#9c179e"
            ],
            [
             0.4444444444444444,
             "#bd3786"
            ],
            [
             0.5555555555555556,
             "#d8576b"
            ],
            [
             0.6666666666666666,
             "#ed7953"
            ],
            [
             0.7777777777777778,
             "#fb9f3a"
            ],
            [
             0.8888888888888888,
             "#fdca26"
            ],
            [
             1,
             "#f0f921"
            ]
           ]
          },
          "colorway": [
           "#636efa",
           "#EF553B",
           "#00cc96",
           "#ab63fa",
           "#FFA15A",
           "#19d3f3",
           "#FF6692",
           "#B6E880",
           "#FF97FF",
           "#FECB52"
          ],
          "font": {
           "color": "#2a3f5f"
          },
          "geo": {
           "bgcolor": "white",
           "lakecolor": "white",
           "landcolor": "#E5ECF6",
           "showlakes": true,
           "showland": true,
           "subunitcolor": "white"
          },
          "hoverlabel": {
           "align": "left"
          },
          "hovermode": "closest",
          "mapbox": {
           "style": "light"
          },
          "paper_bgcolor": "white",
          "plot_bgcolor": "#E5ECF6",
          "polar": {
           "angularaxis": {
            "gridcolor": "white",
            "linecolor": "white",
            "ticks": ""
           },
           "bgcolor": "#E5ECF6",
           "radialaxis": {
            "gridcolor": "white",
            "linecolor": "white",
            "ticks": ""
           }
          },
          "scene": {
           "xaxis": {
            "backgroundcolor": "#E5ECF6",
            "gridcolor": "white",
            "gridwidth": 2,
            "linecolor": "white",
            "showbackground": true,
            "ticks": "",
            "zerolinecolor": "white"
           },
           "yaxis": {
            "backgroundcolor": "#E5ECF6",
            "gridcolor": "white",
            "gridwidth": 2,
            "linecolor": "white",
            "showbackground": true,
            "ticks": "",
            "zerolinecolor": "white"
           },
           "zaxis": {
            "backgroundcolor": "#E5ECF6",
            "gridcolor": "white",
            "gridwidth": 2,
            "linecolor": "white",
            "showbackground": true,
            "ticks": "",
            "zerolinecolor": "white"
           }
          },
          "shapedefaults": {
           "line": {
            "color": "#2a3f5f"
           }
          },
          "ternary": {
           "aaxis": {
            "gridcolor": "white",
            "linecolor": "white",
            "ticks": ""
           },
           "baxis": {
            "gridcolor": "white",
            "linecolor": "white",
            "ticks": ""
           },
           "bgcolor": "#E5ECF6",
           "caxis": {
            "gridcolor": "white",
            "linecolor": "white",
            "ticks": ""
           }
          },
          "title": {
           "x": 0.05
          },
          "xaxis": {
           "automargin": true,
           "gridcolor": "white",
           "linecolor": "white",
           "ticks": "",
           "title": {
            "standoff": 15
           },
           "zerolinecolor": "white",
           "zerolinewidth": 2
          },
          "yaxis": {
           "automargin": true,
           "gridcolor": "white",
           "linecolor": "white",
           "ticks": "",
           "title": {
            "standoff": 15
           },
           "zerolinecolor": "white",
           "zerolinewidth": 2
          }
         }
        },
        "width": 600,
        "xaxis": {
         "range": [
          0,
          512
         ],
         "title": {
          "text": "Count"
         }
        },
        "yaxis": {
         "title": {
          "text": "x_centroid"
         }
        }
       }
      }
     },
     "metadata": {},
     "output_type": "display_data"
    },
    {
     "data": {
      "application/vnd.plotly.v1+json": {
       "config": {
        "plotlyServerURL": "https://plot.ly"
       },
       "data": [
        {
         "name": "moving stripes",
         "opacity": 0.75,
         "type": "histogram",
         "y": [
          55,
          56.64102564102564,
          68,
          60.5,
          74,
          44.16129032258065,
          75.12121212121212,
          71,
          61.72222222222222,
          39.72727272727273,
          66,
          81.23076923076923,
          60.729729729729726,
          65.47058823529412,
          56,
          69.11428571428571,
          82.94736842105263,
          66,
          32.82051282051282,
          5.171428571428572,
          61.13157894736842,
          67,
          62.2,
          49.84848484848485,
          78.27272727272727,
          50.57142857142857,
          68.46666666666667,
          26.12121212121212,
          65,
          66,
          48.74285714285714,
          58.53333333333333,
          69.03030303030303,
          37.696969696969695,
          55.39393939393939,
          73.0625,
          47.97435897435897,
          34.6578947368421,
          64.16129032258064,
          72.44117647058823,
          47.94117647058823,
          43.03225806451613,
          47.87096774193548,
          87.3529411764706,
          76.84615384615384,
          31.375,
          55.857142857142854,
          83.81818181818181,
          8.366666666666667,
          20.416666666666668,
          42.1578947368421,
          2.6923076923076925,
          40.166666666666664,
          65.28571428571429,
          77.03333333333333,
          81.0625,
          87.9,
          61,
          71,
          90,
          92.69047619047619,
          70,
          87.8529411764706,
          84.72222222222223,
          80.72222222222223,
          73.5,
          77.27272727272727,
          78,
          93.64102564102564,
          77,
          94.93939393939394,
          64.375,
          98,
          86.73529411764706,
          80.12903225806451,
          98.88888888888889,
          83.7741935483871,
          89.5,
          68.96666666666667,
          80,
          99.5,
          14,
          76.08333333333333,
          86.6774193548387,
          61.63333333333333,
          74.61111111111111,
          3.764705882352941,
          12.333333333333334,
          96.33333333333333,
          69.5,
          102.6923076923077,
          93.73684210526316,
          81,
          103,
          78.5,
          97.94594594594595,
          107.93333333333334,
          81.2,
          91,
          102.75,
          97.6470588235294,
          96.63888888888889,
          96.56666666666666,
          104.84615384615384,
          91.85,
          112.52631578947368,
          93.18181818181819,
          89.51612903225806,
          120.35483870967742,
          104.12903225806451,
          83.51428571428572,
          37.85294117647059,
          70.06666666666666,
          103.0625,
          71.76923076923077,
          82.82857142857142,
          122.66666666666667,
          97.59375,
          119.63333333333334,
          87.61290322580645,
          122.7,
          86.84375,
          104.3125,
          80.125,
          74.25,
          78.16129032258064,
          79.83333333333333,
          83.80645161290323,
          93.33333333333333,
          45,
          101,
          88.66666666666667,
          109.8,
          88,
          105,
          97.08333333333333,
          117.125,
          105.66666666666667,
          85.57142857142857,
          100.5,
          103.47368421052632,
          117.27272727272727,
          105.10526315789474,
          77.55555555555556,
          79.5,
          75,
          115.66666666666667,
          105,
          93
         ],
         "ybins": {
          "end": 128,
          "size": 10,
          "start": 0
         }
        },
        {
         "name": "dots_ON",
         "opacity": 0.75,
         "type": "histogram",
         "y": [
          55,
          56.64102564102564,
          49,
          68,
          60.5,
          74,
          20,
          44.16129032258065,
          52.5,
          2.4285714285714284,
          75.12121212121212,
          71,
          61.72222222222222,
          39.72727272727273,
          70,
          66,
          2.7419354838709675,
          81.23076923076923,
          1,
          4.611111111111111,
          60.729729729729726,
          65.47058823529412,
          56,
          69.11428571428571,
          2.5277777777777777,
          82.94736842105263,
          66,
          32.82051282051282,
          5.171428571428572,
          10,
          61.13157894736842,
          67,
          62.2,
          39.57142857142857,
          49.84848484848485,
          6.5,
          78.27272727272727,
          7.5,
          50.57142857142857,
          5,
          68.46666666666667,
          26.12121212121212,
          65,
          73,
          66,
          11.9,
          48.74285714285714,
          58.53333333333333,
          11.35483870967742,
          69.03030303030303,
          37.696969696969695,
          43.6764705882353,
          55.39393939393939,
          53,
          73.0625,
          78.44444444444444,
          6.3,
          13.90625,
          3.3333333333333335,
          19.333333333333332,
          47.97435897435897,
          34.6578947368421,
          52,
          64.16129032258064,
          72.44117647058823,
          75.45454545454545,
          2.8666666666666667,
          47.94117647058823,
          43.08695652173913,
          43.03225806451613,
          53,
          47.87096774193548,
          14.15625,
          38,
          87.3529411764706,
          14.333333333333334,
          76.84615384615384,
          10.03225806451613,
          12.44,
          8.5,
          3.5806451612903225,
          31.375,
          20.033333333333335,
          54,
          9.8,
          89.2,
          25,
          84.05882352941177,
          92.34375,
          55.857142857142854,
          31.1,
          36.06666666666667,
          83.81818181818181,
          28.708333333333332,
          8.058823529411764,
          70.60606060606061,
          20.416666666666668,
          42.1578947368421,
          51,
          40.166666666666664,
          65.28571428571429,
          77.03333333333333,
          1,
          20.657894736842106,
          12.875,
          55.06666666666667,
          17.2,
          49.666666666666664,
          44.3,
          15.5,
          17.9,
          81.33333333333333,
          6,
          34.86666666666667,
          87.2,
          33.72222222222222,
          55.8,
          19,
          27.11111111111111,
          21.285714285714285,
          81.0625,
          38.2,
          13,
          48,
          27.6,
          87.9,
          21.666666666666668,
          81.42857142857143,
          17,
          72,
          86.75,
          68,
          71,
          25.5,
          43,
          69,
          78,
          35.25,
          20.5,
          70,
          71.5,
          31.5,
          90,
          25,
          63,
          24.5,
          19,
          38,
          90,
          92.69047619047619,
          70,
          87.8529411764706,
          84.72222222222223,
          80.72222222222223,
          73.5,
          77.27272727272727,
          43,
          78,
          93.64102564102564,
          22,
          18.852941176470587,
          77,
          20.483870967741936,
          36.121212121212125,
          12,
          27,
          94.93939393939394,
          37.729729729729726,
          64.375,
          18.727272727272727,
          38.22857142857143,
          98,
          34,
          86.73529411764706,
          80.12903225806451,
          98.88888888888889,
          40.026315789473685,
          83.7741935483871,
          34.189189189189186,
          27.783783783783782,
          89.5,
          68.96666666666667,
          80,
          45.5,
          99.5,
          14,
          94.58064516129032,
          26.1,
          76.08333333333333,
          29.470588235294116,
          86.6774193548387,
          31.78125,
          17.142857142857142,
          61.63333333333333,
          31.272727272727273,
          22.263157894736842,
          57.869565217391305,
          74.61111111111111,
          34,
          100.6,
          44.58064516129032,
          40.233333333333334,
          41.91304347826087,
          96.33333333333333,
          37.5,
          19.625,
          30.764705882352942,
          69.5,
          32.60606060606061,
          27.666666666666668,
          29.1,
          8.823529411764707,
          4.25,
          102.6923076923077,
          18.666666666666668,
          93.73684210526316,
          2.25,
          6,
          104,
          35,
          105,
          93.33333333333333,
          99,
          90,
          15.727272727272727,
          79.75757575757575,
          60.9,
          9.714285714285714,
          48.891891891891895,
          58.05714285714286,
          46.166666666666664,
          46.77777777777778,
          26,
          32,
          99.5,
          37.25,
          113.38095238095238,
          11.6,
          36,
          46,
          28,
          13,
          101,
          105,
          81,
          103,
          78.5,
          1,
          97.94594594594595,
          107.93333333333334,
          81.2,
          91,
          102.75,
          97.6470588235294,
          96.63888888888889,
          96.56666666666666,
          104.84615384615384,
          91.85,
          93.18181818181819,
          84.61538461538461,
          89.51612903225806,
          108.95,
          120.35483870967742,
          104.12903225806451,
          70.06666666666666,
          103.0625,
          82.82857142857142,
          122.66666666666667,
          97.59375,
          119.63333333333334,
          62.78125,
          111.97142857142858,
          122.7,
          86.84375,
          104.3125,
          80.125,
          74.25,
          121.94594594594595,
          88.66666666666667,
          123.9,
          109.8,
          88,
          71.34285714285714,
          121.77272727272727,
          117.125,
          118.33333333333333,
          68.5,
          85.57142857142857,
          100.5,
          119.6875,
          114.42857142857143,
          117.27272727272727,
          105.10526315789474,
          77.55555555555556,
          123.375,
          76.85714285714286,
          115.78571428571429
         ],
         "ybins": {
          "end": 128,
          "size": 10,
          "start": 0
         }
        },
        {
         "name": "dots_OFF",
         "opacity": 0.75,
         "type": "histogram",
         "y": [
          56.64102564102564,
          44.16129032258065,
          39.72727272727273,
          60.729729729729726,
          56,
          69.11428571428571,
          32.82051282051282,
          61.13157894736842,
          62.2,
          50.57142857142857,
          65,
          66,
          48.74285714285714,
          58.53333333333333,
          69.03030303030303,
          37.696969696969695,
          55.39393939393939,
          53,
          52,
          64.16129032258064,
          47.94117647058823,
          53,
          47.87096774193548,
          31.375,
          54,
          42.1578947368421,
          65.28571428571429,
          55.06666666666667,
          44.3,
          38.2,
          48,
          43,
          35.25,
          71.5,
          87.0625,
          90,
          92.69047619047619,
          70,
          87.8529411764706,
          84.72222222222223,
          80.72222222222223,
          73.5,
          77.27272727272727,
          23,
          43,
          24.61764705882353,
          93.64102564102564,
          46.84615384615385,
          22,
          37.05263157894737,
          18.852941176470587,
          15.727272727272727,
          20.483870967741936,
          45.29032258064516,
          12,
          94.93939393939394,
          37.729729729729726,
          42.705882352941174,
          38.22857142857143,
          98,
          98.88888888888889,
          40.026315789473685,
          17.833333333333332,
          45.5,
          14,
          94.58064516129032,
          26.1,
          76.08333333333333,
          55,
          86.6774193548387,
          17.142857142857142,
          48.891891891891895,
          46.166666666666664,
          100.6,
          44.58064516129032,
          46.1875,
          93.73684210526316,
          52.75,
          99,
          90
         ],
         "ybins": {
          "end": 128,
          "size": 10,
          "start": 0
         }
        },
        {
         "name": "loom",
         "opacity": 0.75,
         "type": "histogram",
         "y": [
          56.64102564102564,
          49,
          112.35135135135135,
          68,
          74,
          20,
          44.16129032258065,
          2.4285714285714284,
          75.12121212121212,
          110.23684210526316,
          61.72222222222222,
          39.72727272727273,
          113.17948717948718,
          70,
          66,
          2.7419354838709675,
          81.23076923076923,
          4.611111111111111,
          60.729729729729726,
          65.47058823529412,
          56,
          69.11428571428571,
          2.5277777777777777,
          82.94736842105263,
          66,
          32.82051282051282,
          5.171428571428572,
          10,
          61.13157894736842,
          67,
          62.2,
          39.57142857142857,
          49.84848484848485,
          6.5,
          78.27272727272727,
          7.5,
          50.57142857142857,
          5,
          68.46666666666667,
          26.12121212121212,
          65,
          73,
          66,
          11.9,
          114.73684210526316,
          48.74285714285714,
          58.53333333333333,
          11.35483870967742,
          108.03333333333333,
          69.03030303030303,
          37.696969696969695,
          43.6764705882353,
          55.39393939393939,
          73.0625,
          6.3,
          13.90625,
          3.3333333333333335,
          19.333333333333332,
          47.97435897435897,
          34.6578947368421,
          64.16129032258064,
          72.44117647058823,
          75.45454545454545,
          2.8666666666666667,
          47.94117647058823,
          43.03225806451613,
          47.87096774193548,
          14.15625,
          87.3529411764706,
          14.333333333333334,
          76.84615384615384,
          10.03225806451613,
          12.44,
          8.5,
          3.5806451612903225,
          31.375,
          20.033333333333335,
          9.8,
          89.2,
          25,
          55.857142857142854,
          105.25806451612904,
          28.708333333333332,
          8.058823529411764,
          20.416666666666668,
          42.1578947368421,
          40.166666666666664,
          1,
          65.28571428571429,
          77.03333333333333,
          20.657894736842106,
          12.875,
          17.2,
          44.3,
          15.5,
          99.8,
          87.2,
          19,
          8,
          13,
          30,
          68,
          69,
          20.5,
          71.5,
          16,
          90,
          92.69047619047619,
          70,
          87.8529411764706,
          84.72222222222223,
          80.72222222222223,
          49.30952380952381,
          73.5,
          44,
          77.27272727272727,
          41,
          25,
          43,
          24.61764705882353,
          93.64102564102564,
          28.710526315789473,
          46.84615384615385,
          22,
          18.852941176470587,
          15.727272727272727,
          20.483870967741936,
          33.75675675675676,
          36.121212121212125,
          12,
          27,
          94.93939393939394,
          37.729729729729726,
          64.375,
          56.27777777777778,
          18.727272727272727,
          42.705882352941174,
          38.22857142857143,
          98,
          34,
          80.12903225806451,
          98.88888888888889,
          40.026315789473685,
          83.7741935483871,
          34.189189189189186,
          27.783783783783782,
          17.833333333333332,
          89.5,
          68.96666666666667,
          45.5,
          14,
          94.58064516129032,
          26.1,
          76.08333333333333,
          10.9375,
          86.6774193548387,
          31.78125,
          17.142857142857142,
          37.96774193548387,
          9.956521739130435,
          31.272727272727273,
          63.484848484848484,
          22.263157894736842,
          13.6,
          74.61111111111111,
          103.02857142857142,
          46.166666666666664,
          100.6,
          20.1,
          19.625,
          30.764705882352942,
          32.60606060606061,
          6.516129032258065,
          29.1,
          26,
          14.714285714285714,
          32,
          11.555555555555555,
          78.14285714285714,
          87.0625,
          99.625,
          94.16129032258064,
          104.48484848484848,
          81.41379310344827,
          106.08108108108108,
          107.8529411764706,
          9.714285714285714,
          100.52631578947368,
          97.5,
          88.13636363636364,
          109.12,
          103.66666666666667,
          105,
          43,
          47,
          32,
          36.14705882352941,
          48,
          34.878787878787875,
          40,
          58,
          52.976190476190474,
          58.27777777777778,
          29.675675675675677,
          41.388888888888886,
          25.846153846153847,
          45.666666666666664,
          38.733333333333334,
          47.2,
          53.73684210526316,
          63.193548387096776,
          44.666666666666664,
          38.064516129032256,
          52.96,
          66.45161290322581,
          96.63888888888889,
          44.75757575757576,
          111.08823529411765,
          91.85,
          29.4,
          64,
          93.18181818181819,
          46.05128205128205,
          89.51612903225806,
          108.95,
          83.51428571428572,
          26.5,
          57.16129032258065,
          56.542857142857144,
          50.53333333333333,
          35,
          41.875,
          70.6470588235294,
          47.6,
          59.42857142857143,
          23.5625,
          82.82857142857142,
          105.38461538461539,
          97.59375,
          62.78125,
          57.878787878787875,
          87.61290322580645,
          52.46666666666667,
          50.5,
          86.84375,
          80.125,
          78.16129032258064,
          79.83333333333333,
          105.97142857142858,
          83.80645161290323,
          88.66666666666667,
          32.625,
          41.0625,
          70.97368421052632,
          71.34285714285714,
          64.55,
          75.66666666666667,
          63,
          46.294117647058826,
          57.05882352941177,
          97.08333333333333,
          117.125,
          26.761904761904763,
          77.55555555555556,
          62,
          33.833333333333336,
          75,
          76.85714285714286,
          18.875,
          21.333333333333332,
          67.5,
          55.666666666666664,
          18.666666666666668,
          31,
          112,
          54,
          33.5,
          27,
          63
         ],
         "ybins": {
          "end": 128,
          "size": 10,
          "start": 0
         }
        }
       ],
       "layout": {
        "barmode": "overlay",
        "height": 400,
        "margin": {
         "b": 20,
         "l": 20,
         "r": 20,
         "t": 20
        },
        "template": {
         "data": {
          "bar": [
           {
            "error_x": {
             "color": "#2a3f5f"
            },
            "error_y": {
             "color": "#2a3f5f"
            },
            "marker": {
             "line": {
              "color": "#E5ECF6",
              "width": 0.5
             },
             "pattern": {
              "fillmode": "overlay",
              "size": 10,
              "solidity": 0.2
             }
            },
            "type": "bar"
           }
          ],
          "barpolar": [
           {
            "marker": {
             "line": {
              "color": "#E5ECF6",
              "width": 0.5
             },
             "pattern": {
              "fillmode": "overlay",
              "size": 10,
              "solidity": 0.2
             }
            },
            "type": "barpolar"
           }
          ],
          "carpet": [
           {
            "aaxis": {
             "endlinecolor": "#2a3f5f",
             "gridcolor": "white",
             "linecolor": "white",
             "minorgridcolor": "white",
             "startlinecolor": "#2a3f5f"
            },
            "baxis": {
             "endlinecolor": "#2a3f5f",
             "gridcolor": "white",
             "linecolor": "white",
             "minorgridcolor": "white",
             "startlinecolor": "#2a3f5f"
            },
            "type": "carpet"
           }
          ],
          "choropleth": [
           {
            "colorbar": {
             "outlinewidth": 0,
             "ticks": ""
            },
            "type": "choropleth"
           }
          ],
          "contour": [
           {
            "colorbar": {
             "outlinewidth": 0,
             "ticks": ""
            },
            "colorscale": [
             [
              0,
              "#0d0887"
             ],
             [
              0.1111111111111111,
              "#46039f"
             ],
             [
              0.2222222222222222,
              "#7201a8"
             ],
             [
              0.3333333333333333,
              "#9c179e"
             ],
             [
              0.4444444444444444,
              "#bd3786"
             ],
             [
              0.5555555555555556,
              "#d8576b"
             ],
             [
              0.6666666666666666,
              "#ed7953"
             ],
             [
              0.7777777777777778,
              "#fb9f3a"
             ],
             [
              0.8888888888888888,
              "#fdca26"
             ],
             [
              1,
              "#f0f921"
             ]
            ],
            "type": "contour"
           }
          ],
          "contourcarpet": [
           {
            "colorbar": {
             "outlinewidth": 0,
             "ticks": ""
            },
            "type": "contourcarpet"
           }
          ],
          "heatmap": [
           {
            "colorbar": {
             "outlinewidth": 0,
             "ticks": ""
            },
            "colorscale": [
             [
              0,
              "#0d0887"
             ],
             [
              0.1111111111111111,
              "#46039f"
             ],
             [
              0.2222222222222222,
              "#7201a8"
             ],
             [
              0.3333333333333333,
              "#9c179e"
             ],
             [
              0.4444444444444444,
              "#bd3786"
             ],
             [
              0.5555555555555556,
              "#d8576b"
             ],
             [
              0.6666666666666666,
              "#ed7953"
             ],
             [
              0.7777777777777778,
              "#fb9f3a"
             ],
             [
              0.8888888888888888,
              "#fdca26"
             ],
             [
              1,
              "#f0f921"
             ]
            ],
            "type": "heatmap"
           }
          ],
          "heatmapgl": [
           {
            "colorbar": {
             "outlinewidth": 0,
             "ticks": ""
            },
            "colorscale": [
             [
              0,
              "#0d0887"
             ],
             [
              0.1111111111111111,
              "#46039f"
             ],
             [
              0.2222222222222222,
              "#7201a8"
             ],
             [
              0.3333333333333333,
              "#9c179e"
             ],
             [
              0.4444444444444444,
              "#bd3786"
             ],
             [
              0.5555555555555556,
              "#d8576b"
             ],
             [
              0.6666666666666666,
              "#ed7953"
             ],
             [
              0.7777777777777778,
              "#fb9f3a"
             ],
             [
              0.8888888888888888,
              "#fdca26"
             ],
             [
              1,
              "#f0f921"
             ]
            ],
            "type": "heatmapgl"
           }
          ],
          "histogram": [
           {
            "marker": {
             "pattern": {
              "fillmode": "overlay",
              "size": 10,
              "solidity": 0.2
             }
            },
            "type": "histogram"
           }
          ],
          "histogram2d": [
           {
            "colorbar": {
             "outlinewidth": 0,
             "ticks": ""
            },
            "colorscale": [
             [
              0,
              "#0d0887"
             ],
             [
              0.1111111111111111,
              "#46039f"
             ],
             [
              0.2222222222222222,
              "#7201a8"
             ],
             [
              0.3333333333333333,
              "#9c179e"
             ],
             [
              0.4444444444444444,
              "#bd3786"
             ],
             [
              0.5555555555555556,
              "#d8576b"
             ],
             [
              0.6666666666666666,
              "#ed7953"
             ],
             [
              0.7777777777777778,
              "#fb9f3a"
             ],
             [
              0.8888888888888888,
              "#fdca26"
             ],
             [
              1,
              "#f0f921"
             ]
            ],
            "type": "histogram2d"
           }
          ],
          "histogram2dcontour": [
           {
            "colorbar": {
             "outlinewidth": 0,
             "ticks": ""
            },
            "colorscale": [
             [
              0,
              "#0d0887"
             ],
             [
              0.1111111111111111,
              "#46039f"
             ],
             [
              0.2222222222222222,
              "#7201a8"
             ],
             [
              0.3333333333333333,
              "#9c179e"
             ],
             [
              0.4444444444444444,
              "#bd3786"
             ],
             [
              0.5555555555555556,
              "#d8576b"
             ],
             [
              0.6666666666666666,
              "#ed7953"
             ],
             [
              0.7777777777777778,
              "#fb9f3a"
             ],
             [
              0.8888888888888888,
              "#fdca26"
             ],
             [
              1,
              "#f0f921"
             ]
            ],
            "type": "histogram2dcontour"
           }
          ],
          "mesh3d": [
           {
            "colorbar": {
             "outlinewidth": 0,
             "ticks": ""
            },
            "type": "mesh3d"
           }
          ],
          "parcoords": [
           {
            "line": {
             "colorbar": {
              "outlinewidth": 0,
              "ticks": ""
             }
            },
            "type": "parcoords"
           }
          ],
          "pie": [
           {
            "automargin": true,
            "type": "pie"
           }
          ],
          "scatter": [
           {
            "fillpattern": {
             "fillmode": "overlay",
             "size": 10,
             "solidity": 0.2
            },
            "type": "scatter"
           }
          ],
          "scatter3d": [
           {
            "line": {
             "colorbar": {
              "outlinewidth": 0,
              "ticks": ""
             }
            },
            "marker": {
             "colorbar": {
              "outlinewidth": 0,
              "ticks": ""
             }
            },
            "type": "scatter3d"
           }
          ],
          "scattercarpet": [
           {
            "marker": {
             "colorbar": {
              "outlinewidth": 0,
              "ticks": ""
             }
            },
            "type": "scattercarpet"
           }
          ],
          "scattergeo": [
           {
            "marker": {
             "colorbar": {
              "outlinewidth": 0,
              "ticks": ""
             }
            },
            "type": "scattergeo"
           }
          ],
          "scattergl": [
           {
            "marker": {
             "colorbar": {
              "outlinewidth": 0,
              "ticks": ""
             }
            },
            "type": "scattergl"
           }
          ],
          "scattermapbox": [
           {
            "marker": {
             "colorbar": {
              "outlinewidth": 0,
              "ticks": ""
             }
            },
            "type": "scattermapbox"
           }
          ],
          "scatterpolar": [
           {
            "marker": {
             "colorbar": {
              "outlinewidth": 0,
              "ticks": ""
             }
            },
            "type": "scatterpolar"
           }
          ],
          "scatterpolargl": [
           {
            "marker": {
             "colorbar": {
              "outlinewidth": 0,
              "ticks": ""
             }
            },
            "type": "scatterpolargl"
           }
          ],
          "scatterternary": [
           {
            "marker": {
             "colorbar": {
              "outlinewidth": 0,
              "ticks": ""
             }
            },
            "type": "scatterternary"
           }
          ],
          "surface": [
           {
            "colorbar": {
             "outlinewidth": 0,
             "ticks": ""
            },
            "colorscale": [
             [
              0,
              "#0d0887"
             ],
             [
              0.1111111111111111,
              "#46039f"
             ],
             [
              0.2222222222222222,
              "#7201a8"
             ],
             [
              0.3333333333333333,
              "#9c179e"
             ],
             [
              0.4444444444444444,
              "#bd3786"
             ],
             [
              0.5555555555555556,
              "#d8576b"
             ],
             [
              0.6666666666666666,
              "#ed7953"
             ],
             [
              0.7777777777777778,
              "#fb9f3a"
             ],
             [
              0.8888888888888888,
              "#fdca26"
             ],
             [
              1,
              "#f0f921"
             ]
            ],
            "type": "surface"
           }
          ],
          "table": [
           {
            "cells": {
             "fill": {
              "color": "#EBF0F8"
             },
             "line": {
              "color": "white"
             }
            },
            "header": {
             "fill": {
              "color": "#C8D4E3"
             },
             "line": {
              "color": "white"
             }
            },
            "type": "table"
           }
          ]
         },
         "layout": {
          "annotationdefaults": {
           "arrowcolor": "#2a3f5f",
           "arrowhead": 0,
           "arrowwidth": 1
          },
          "autotypenumbers": "strict",
          "coloraxis": {
           "colorbar": {
            "outlinewidth": 0,
            "ticks": ""
           }
          },
          "colorscale": {
           "diverging": [
            [
             0,
             "#8e0152"
            ],
            [
             0.1,
             "#c51b7d"
            ],
            [
             0.2,
             "#de77ae"
            ],
            [
             0.3,
             "#f1b6da"
            ],
            [
             0.4,
             "#fde0ef"
            ],
            [
             0.5,
             "#f7f7f7"
            ],
            [
             0.6,
             "#e6f5d0"
            ],
            [
             0.7,
             "#b8e186"
            ],
            [
             0.8,
             "#7fbc41"
            ],
            [
             0.9,
             "#4d9221"
            ],
            [
             1,
             "#276419"
            ]
           ],
           "sequential": [
            [
             0,
             "#0d0887"
            ],
            [
             0.1111111111111111,
             "#46039f"
            ],
            [
             0.2222222222222222,
             "#7201a8"
            ],
            [
             0.3333333333333333,
             "#9c179e"
            ],
            [
             0.4444444444444444,
             "#bd3786"
            ],
            [
             0.5555555555555556,
             "#d8576b"
            ],
            [
             0.6666666666666666,
             "#ed7953"
            ],
            [
             0.7777777777777778,
             "#fb9f3a"
            ],
            [
             0.8888888888888888,
             "#fdca26"
            ],
            [
             1,
             "#f0f921"
            ]
           ],
           "sequentialminus": [
            [
             0,
             "#0d0887"
            ],
            [
             0.1111111111111111,
             "#46039f"
            ],
            [
             0.2222222222222222,
             "#7201a8"
            ],
            [
             0.3333333333333333,
             "#9c179e"
            ],
            [
             0.4444444444444444,
             "#bd3786"
            ],
            [
             0.5555555555555556,
             "#d8576b"
            ],
            [
             0.6666666666666666,
             "#ed7953"
            ],
            [
             0.7777777777777778,
             "#fb9f3a"
            ],
            [
             0.8888888888888888,
             "#fdca26"
            ],
            [
             1,
             "#f0f921"
            ]
           ]
          },
          "colorway": [
           "#636efa",
           "#EF553B",
           "#00cc96",
           "#ab63fa",
           "#FFA15A",
           "#19d3f3",
           "#FF6692",
           "#B6E880",
           "#FF97FF",
           "#FECB52"
          ],
          "font": {
           "color": "#2a3f5f"
          },
          "geo": {
           "bgcolor": "white",
           "lakecolor": "white",
           "landcolor": "#E5ECF6",
           "showlakes": true,
           "showland": true,
           "subunitcolor": "white"
          },
          "hoverlabel": {
           "align": "left"
          },
          "hovermode": "closest",
          "mapbox": {
           "style": "light"
          },
          "paper_bgcolor": "white",
          "plot_bgcolor": "#E5ECF6",
          "polar": {
           "angularaxis": {
            "gridcolor": "white",
            "linecolor": "white",
            "ticks": ""
           },
           "bgcolor": "#E5ECF6",
           "radialaxis": {
            "gridcolor": "white",
            "linecolor": "white",
            "ticks": ""
           }
          },
          "scene": {
           "xaxis": {
            "backgroundcolor": "#E5ECF6",
            "gridcolor": "white",
            "gridwidth": 2,
            "linecolor": "white",
            "showbackground": true,
            "ticks": "",
            "zerolinecolor": "white"
           },
           "yaxis": {
            "backgroundcolor": "#E5ECF6",
            "gridcolor": "white",
            "gridwidth": 2,
            "linecolor": "white",
            "showbackground": true,
            "ticks": "",
            "zerolinecolor": "white"
           },
           "zaxis": {
            "backgroundcolor": "#E5ECF6",
            "gridcolor": "white",
            "gridwidth": 2,
            "linecolor": "white",
            "showbackground": true,
            "ticks": "",
            "zerolinecolor": "white"
           }
          },
          "shapedefaults": {
           "line": {
            "color": "#2a3f5f"
           }
          },
          "ternary": {
           "aaxis": {
            "gridcolor": "white",
            "linecolor": "white",
            "ticks": ""
           },
           "baxis": {
            "gridcolor": "white",
            "linecolor": "white",
            "ticks": ""
           },
           "bgcolor": "#E5ECF6",
           "caxis": {
            "gridcolor": "white",
            "linecolor": "white",
            "ticks": ""
           }
          },
          "title": {
           "x": 0.05
          },
          "xaxis": {
           "automargin": true,
           "gridcolor": "white",
           "linecolor": "white",
           "ticks": "",
           "title": {
            "standoff": 15
           },
           "zerolinecolor": "white",
           "zerolinewidth": 2
          },
          "yaxis": {
           "automargin": true,
           "gridcolor": "white",
           "linecolor": "white",
           "ticks": "",
           "title": {
            "standoff": 15
           },
           "zerolinecolor": "white",
           "zerolinewidth": 2
          }
         }
        },
        "width": 400,
        "xaxis": {
         "title": {
          "text": "Count"
         }
        },
        "yaxis": {
         "title": {
          "text": "y_centroid"
         }
        }
       }
      }
     },
     "metadata": {},
     "output_type": "display_data"
    }
   ],
   "source": [
    "import plotly.graph_objects as go\n",
    "\n",
    "fig = go.Figure()\n",
    "\n",
    "# Loop through each unique value of 'stimtype'\n",
    "for stim in pooled_data['stimtype'].unique():\n",
    "    filtered_data = pooled_data[pooled_data['stimtype'] == stim]\n",
    "    fig.add_trace(go.Histogram(x=filtered_data['x_centroid'], name=stim, \n",
    "                               ybins = dict(  \n",
    "            start=0,\n",
    "            end=512,\n",
    "            size=50)\n",
    "        ))  # Set nbinsx to desired number of bins\n",
    "\n",
    "# Update the layout\n",
    "fig.update_layout(barmode='overlay', yaxis_title='x_centroid', xaxis_title='Count', width=600, height=300, margin=dict(l=20, r=20, t=20, b=20),)\n",
    "fig.update_traces(opacity=0.75)\n",
    "fig.update_xaxes(range=[0, 512])  # Disable gridlines for x-axis\n",
    "#fig.update_yaxes(range=[0,100])  # Disable gridlines for y-axis\n",
    "\n",
    "fig.show()\n",
    "\n",
    "fig2 = go.Figure()\n",
    "\n",
    "# Loop through each unique value of 'stimtype'\n",
    "for stim in pooled_data['stimtype'].unique():\n",
    "    filtered_data = pooled_data[pooled_data['stimtype'] == stim]\n",
    "    fig2.add_trace(go.Histogram(y=filtered_data['y_centroid'], name=stim, \n",
    "                               ybins = dict(  \n",
    "            start=0,\n",
    "            end=128,\n",
    "            size=10)\n",
    "        ))  # Set nbinsx to desired number of bins\n",
    "\n",
    "# Update the layout\n",
    "fig2.update_layout(barmode='overlay', yaxis_title='y_centroid', xaxis_title='Count', width=400, height=400, margin=dict(l=20, r=20, t=20, b=20),)\n",
    "fig2.update_traces(opacity=0.75)\n",
    "#fig.update_xaxes(range=[0, 100])  # Disable gridlines for x-axis\n",
    "fig.update_yaxes(range=[0,128])  # Disable gridlines for y-axis\n",
    "\n",
    "fig2.show()"
   ]
  },
  {
   "cell_type": "code",
   "execution_count": 25,
   "metadata": {},
   "outputs": [
    {
     "data": {
      "application/vnd.plotly.v1+json": {
       "config": {
        "plotlyServerURL": "https://plot.ly"
       },
       "data": [
        {
         "hovertemplate": "color=moving stripes<br>x=%{x}<br>y=%{y}<br>size=%{marker.size}<extra></extra>",
         "legendgroup": "moving stripes",
         "marker": {
          "color": "#636efa",
          "opacity": [
           0.9761904761904762,
           0.9285714285714286,
           0.9761904761904762,
           0.7619047619047619,
           0.9761904761904762,
           0.7380952380952381,
           0.7857142857142857,
           0.023809523809523808,
           0.8571428571428571,
           0.7857142857142857,
           0.9761904761904762,
           0.9285714285714286,
           0.8809523809523809,
           0.8095238095238095,
           0.9761904761904762,
           0.8333333333333334,
           0.9047619047619048,
           0.023809523809523808,
           0.9285714285714286,
           0.8333333333333334,
           0.9047619047619048,
           0.023809523809523808,
           0.7142857142857143,
           0.7857142857142857,
           0.7857142857142857,
           0.8333333333333334,
           0.7142857142857143,
           0.7857142857142857,
           0.023809523809523808,
           0.7142857142857143,
           0.8333333333333334,
           0.7142857142857143,
           0.7857142857142857,
           0.7857142857142857,
           0.7857142857142857,
           0.7619047619047619,
           0.9285714285714286,
           0.9047619047619048,
           0.7380952380952381,
           0.8095238095238095,
           0.8095238095238095,
           0.7380952380952381,
           0.7380952380952381,
           0.8095238095238095,
           0.6190476190476191,
           0.19047619047619047,
           0.5,
           0.2619047619047619,
           0.7142857142857143,
           0.5714285714285714,
           0.4523809523809524,
           0.30952380952380953,
           0.7142857142857143,
           0.16666666666666666,
           0.7142857142857143,
           0.38095238095238093,
           0.23809523809523808,
           0.023809523809523808,
           0.023809523809523808,
           0.9761904761904762,
           0.9285714285714286,
           0.9761904761904762,
           0.9761904761904762,
           0.7619047619047619,
           0.9761904761904762,
           0.9761904761904762,
           0.7380952380952381,
           0.9047619047619048,
           0.8333333333333334,
           0.7857142857142857,
           0.023809523809523808,
           0.8571428571428571,
           0.7857142857142857,
           0.023809523809523808,
           0.9761904761904762,
           0.7380952380952381,
           0.9285714285714286,
           0.023809523809523808,
           0.8571428571428571,
           0.8809523809523809,
           0.8095238095238095,
           0.9761904761904762,
           0.8333333333333334,
           0.8571428571428571,
           0.9047619047619048,
           0.023809523809523808,
           0.9285714285714286,
           0.8333333333333334,
           0.9761904761904762,
           0.9047619047619048,
           0.023809523809523808,
           0.7142857142857143,
           0.8333333333333334,
           0.7857142857142857,
           0.7142857142857143,
           0.7857142857142857,
           0.7619047619047619,
           0.8333333333333334,
           0.9523809523809523,
           0.7142857142857143,
           0.7857142857142857,
           0.023809523809523808,
           0.023809523809523808,
           0.7142857142857143,
           0.9523809523809523,
           0.8333333333333334,
           0.7142857142857143,
           0.7380952380952381,
           0.7857142857142857,
           0.7857142857142857,
           0.8095238095238095,
           0.7857142857142857,
           0.023809523809523808,
           0.7619047619047619,
           0.8571428571428571,
           0.7142857142857143,
           0.7619047619047619,
           0.8571428571428571,
           0.7857142857142857,
           0.9285714285714286,
           0.9047619047619048,
           0.023809523809523808,
           0.7380952380952381,
           0.8095238095238095,
           0.7857142857142857,
           0.7142857142857143,
           0.8095238095238095,
           0.5476190476190477,
           0.7380952380952381,
           0.023809523809523808,
           0.7380952380952381,
           0.7619047619047619,
           0.023809523809523808,
           0.8095238095238095,
           0.7142857142857143,
           0.6190476190476191,
           0.7380952380952381,
           0.5952380952380952,
           0.19047619047619047,
           0.7380952380952381,
           0.19047619047619047,
           0.7142857142857143,
           0.023809523809523808,
           0.5952380952380952,
           0.7142857142857143,
           0.7142857142857143,
           0.8095238095238095,
           0.7619047619047619,
           0.5,
           0.7142857142857143,
           0.7142857142857143,
           0.2619047619047619,
           0.5714285714285714,
           0.40476190476190477,
           0.7857142857142857,
           0.5714285714285714,
           0.4523809523809524,
           0.023809523809523808,
           0.7142857142857143,
           0.16666666666666666,
           0.7142857142857143,
           0.023809523809523808,
           0.9047619047619048,
           0.19047619047619047,
           0.35714285714285715,
           0.35714285714285715,
           0.07142857142857142,
           0.23809523809523808,
           0.09523809523809523,
           0.23809523809523808,
           0.2857142857142857,
           0.023809523809523808,
           0.7142857142857143,
           0.5952380952380952,
           0.42857142857142855,
           0.11904761904761904,
           0.2619047619047619,
           0.21428571428571427,
           0.16666666666666666,
           0.38095238095238093,
           0.11904761904761904,
           0.21428571428571427,
           0.023809523809523808,
           0.11904761904761904,
           0.23809523809523808,
           0.07142857142857142,
           0.3333333333333333,
           0.11904761904761904,
           0.023809523809523808,
           0.19047619047619047,
           0.023809523809523808,
           0.023809523809523808,
           0.09523809523809523,
           0.023809523809523808,
           0.047619047619047616,
           0.023809523809523808,
           0.09523809523809523,
           0.09523809523809523,
           0.023809523809523808,
           0.09523809523809523,
           0.047619047619047616,
           0.047619047619047616,
           0.047619047619047616,
           0.023809523809523808,
           0.047619047619047616,
           0.023809523809523808,
           0.023809523809523808,
           0.9285714285714286,
           0.7380952380952381,
           0.7857142857142857,
           0.8809523809523809,
           0.9761904761904762,
           0.8333333333333334,
           0.9285714285714286,
           0.9047619047619048,
           0.7142857142857143,
           0.8333333333333334,
           0.023809523809523808,
           0.7142857142857143,
           0.8333333333333334,
           0.7142857142857143,
           0.7857142857142857,
           0.7857142857142857,
           0.7857142857142857,
           0.023809523809523808,
           0.023809523809523808,
           0.7380952380952381,
           0.8095238095238095,
           0.023809523809523808,
           0.7380952380952381,
           0.19047619047619047,
           0.023809523809523808,
           0.4523809523809524,
           0.16666666666666666,
           0.35714285714285715,
           0.23809523809523808,
           0.11904761904761904,
           0.023809523809523808,
           0.023809523809523808,
           0.09523809523809523,
           0.09523809523809523,
           0.9285714285714286,
           0.9761904761904762,
           0.8809523809523809,
           0.9761904761904762,
           0.9761904761904762,
           0.9761904761904762,
           0.7380952380952381,
           0.8333333333333334,
           0.7857142857142857,
           0.9047619047619048,
           0.8571428571428571,
           0.7857142857142857,
           0.9285714285714286,
           0.023809523809523808,
           0.9761904761904762,
           0.7380952380952381,
           0.9285714285714286,
           0.8571428571428571,
           0.8809523809523809,
           0.8095238095238095,
           0.9761904761904762,
           0.8333333333333334,
           0.8571428571428571,
           0.9047619047619048,
           0.023809523809523808,
           0.9285714285714286,
           0.8333333333333334,
           0.9761904761904762,
           0.9047619047619048,
           0.023809523809523808,
           0.7142857142857143,
           0.8333333333333334,
           0.7857142857142857,
           0.7142857142857143,
           0.7857142857142857,
           0.7619047619047619,
           0.8333333333333334,
           0.9523809523809523,
           0.7142857142857143,
           0.7857142857142857,
           0.023809523809523808,
           0.023809523809523808,
           0.7142857142857143,
           0.9523809523809523,
           0.9047619047619048,
           0.8333333333333334,
           0.7142857142857143,
           0.7380952380952381,
           0.7142857142857143,
           0.7857142857142857,
           0.7857142857142857,
           0.8095238095238095,
           0.7857142857142857,
           0.7619047619047619,
           0.7142857142857143,
           0.7619047619047619,
           0.8571428571428571,
           0.7857142857142857,
           0.9285714285714286,
           0.9047619047619048,
           0.7380952380952381,
           0.8095238095238095,
           0.7857142857142857,
           0.7142857142857143,
           0.8095238095238095,
           0.7380952380952381,
           0.7380952380952381,
           0.7619047619047619,
           0.8095238095238095,
           0.7142857142857143,
           0.6190476190476191,
           0.7380952380952381,
           0.5952380952380952,
           0.19047619047619047,
           0.7380952380952381,
           0.19047619047619047,
           0.7142857142857143,
           0.5952380952380952,
           0.7142857142857143,
           0.7142857142857143,
           0.5,
           0.7380952380952381,
           0.5714285714285714,
           0.40476190476190477,
           0.5714285714285714,
           0.4523809523809524,
           0.7142857142857143,
           0.047619047619047616,
           0.16666666666666666,
           0.7142857142857143,
           0.9047619047619048,
           0.19047619047619047,
           0.35714285714285715,
           0.23809523809523808,
           0.09523809523809523,
           0.11904761904761904,
           0.5952380952380952,
           0.2619047619047619,
           0.023809523809523808,
           0.21428571428571427,
           0.23809523809523808,
           0.023809523809523808,
           0.047619047619047616,
           0.09523809523809523,
           0.09523809523809523,
           0.023809523809523808,
           0.9761904761904762,
           1,
           0.9761904761904762,
           0.8095238095238095,
           0.8571428571428571,
           0.8571428571428571,
           0.7619047619047619,
           0.7857142857142857,
           0.023809523809523808,
           0.9285714285714286,
           0.023809523809523808,
           0.7857142857142857,
           0.7619047619047619,
           0.9285714285714286,
           0.8095238095238095,
           0.7380952380952381,
           0.8571428571428571,
           0.7380952380952381,
           0.7619047619047619,
           0.7142857142857143,
           0.023809523809523808,
           0.7142857142857143,
           0.9285714285714286,
           0.5714285714285714,
           0.7380952380952381,
           0.7142857142857143,
           0.42857142857142855,
           0.40476190476190477,
           0.07142857142857142,
           0.07142857142857142,
           0.14285714285714285,
           0.30952380952380953,
           0.4523809523809524,
           0.023809523809523808,
           0.023809523809523808,
           0.047619047619047616,
           0.9761904761904762,
           1,
           0.9761904761904762,
           0.8095238095238095,
           0.8571428571428571,
           0.8571428571428571,
           0.7619047619047619,
           0.7857142857142857,
           0.9761904761904762,
           0.023809523809523808,
           0.9285714285714286,
           0.9761904761904762,
           0.8095238095238095,
           0.023809523809523808,
           0.7380952380952381,
           0.7857142857142857,
           0.9285714285714286,
           0.8809523809523809,
           0.7857142857142857,
           0.8809523809523809,
           0.7619047619047619,
           0.7857142857142857,
           0.8333333333333334,
           0.9285714285714286,
           0.9761904761904762,
           0.8095238095238095,
           0.7380952380952381,
           0.8571428571428571,
           0.9047619047619048,
           0.7380952380952381,
           0.8809523809523809,
           0.8809523809523809,
           0.7619047619047619,
           0.7142857142857143,
           0.023809523809523808,
           0.23809523809523808,
           0.7142857142857143,
           0.9285714285714286,
           0.7380952380952381,
           0.9523809523809523,
           0.5714285714285714,
           0.40476190476190477,
           0.7380952380952381,
           0.7619047619047619,
           0.8333333333333334,
           0.7142857142857143,
           0.7857142857142857,
           0.9047619047619048,
           0.5476190476190477,
           0.42857142857142855,
           0.023809523809523808,
           0.7142857142857143,
           0.7380952380952381,
           0.7142857142857143,
           0.5476190476190477,
           0.07142857142857142,
           0.14285714285714285,
           0.7619047619047619,
           0.40476190476190477,
           0.14285714285714285,
           0.7857142857142857,
           0.07142857142857142,
           0.7142857142857143,
           0.40476190476190477,
           0.09523809523809523,
           0.30952380952380953,
           0.21428571428571427,
           0.4523809523809524,
           0.38095238095238093,
           0.14285714285714285,
           0.07142857142857142,
           0.023809523809523808,
           0.19047619047619047,
           0.07142857142857142,
           0.047619047619047616,
           0.023809523809523808,
           0.7857142857142857,
           0.7857142857142857,
           0.7142857142857143,
           0.3333333333333333,
           0.8809523809523809,
           0.8333333333333334,
           0.7142857142857143,
           0.21428571428571427,
           0.14285714285714285,
           0.023809523809523808,
           0.047619047619047616,
           0.09523809523809523,
           0.5,
           0.11904761904761904,
           0.023809523809523808,
           0.14285714285714285,
           0.023809523809523808,
           0.023809523809523808,
           0.023809523809523808,
           0.023809523809523808,
           0.023809523809523808,
           0.023809523809523808,
           0.047619047619047616,
           0.023809523809523808,
           0.7619047619047619,
           0.9761904761904762,
           1,
           0.9761904761904762,
           0.8095238095238095,
           0.8571428571428571,
           0.8571428571428571,
           0.7619047619047619,
           0.7857142857142857,
           0.9761904761904762,
           0.9761904761904762,
           0.8095238095238095,
           0.9285714285714286,
           0.9285714285714286,
           0.9761904761904762,
           0.4523809523809524,
           0.8095238095238095,
           0.7857142857142857,
           0.7380952380952381,
           0.7380952380952381,
           0.9285714285714286,
           0.7857142857142857,
           0.8809523809523809,
           0.8095238095238095,
           0.8333333333333334,
           0.9285714285714286,
           0.8571428571428571,
           0.9047619047619048,
           0.8571428571428571,
           0.23809523809523808,
           0.9285714285714286,
           0.7380952380952381,
           0.9523809523809523,
           0.5714285714285714,
           0.047619047619047616,
           0.7380952380952381,
           0.8333333333333334,
           0.8809523809523809,
           0.7142857142857143,
           0.7142857142857143,
           0.7380952380952381,
           0.38095238095238093,
           0.4523809523809524,
           0.09523809523809523,
           0.047619047619047616,
           0.023809523809523808,
           0.9761904761904762,
           1,
           0.9761904761904762,
           0.8095238095238095,
           0.8571428571428571,
           0.8571428571428571,
           1,
           0.7619047619047619,
           0.9761904761904762,
           0.7857142857142857,
           0.9761904761904762,
           0.9761904761904762,
           0.9761904761904762,
           0.8095238095238095,
           0.9285714285714286,
           0.9047619047619048,
           0.9285714285714286,
           0.9761904761904762,
           0.8095238095238095,
           0.7857142857142857,
           0.7380952380952381,
           0.8809523809523809,
           0.7857142857142857,
           0.9285714285714286,
           0.8809523809523809,
           0.7857142857142857,
           0.8809523809523809,
           0.7619047619047619,
           0.8571428571428571,
           0.7857142857142857,
           0.8095238095238095,
           0.8333333333333334,
           0.9285714285714286,
           0.9761904761904762,
           0.7380952380952381,
           0.8571428571428571,
           0.9047619047619048,
           0.7380952380952381,
           0.8809523809523809,
           0.8809523809523809,
           0.8571428571428571,
           0.7619047619047619,
           0.7142857142857143,
           0.23809523809523808,
           0.9285714285714286,
           0.7380952380952381,
           0.9523809523809523,
           0.5714285714285714,
           0.7619047619047619,
           0.7380952380952381,
           0.7619047619047619,
           0.8333333333333334,
           0.7380952380952381,
           0.5476190476190477,
           0.7857142857142857,
           0.7857142857142857,
           0.9047619047619048,
           0.35714285714285715,
           0.42857142857142855,
           0.8333333333333334,
           0.7142857142857143,
           0.7142857142857143,
           0.23809523809523808,
           0.7619047619047619,
           0.40476190476190477,
           0.7857142857142857,
           0.7380952380952381,
           0.7142857142857143,
           0.14285714285714285,
           0.16666666666666666,
           0.023809523809523808,
           0.21428571428571427,
           0.16666666666666666,
           0.7619047619047619,
           0.7619047619047619,
           0.7380952380952381,
           0.7857142857142857,
           0.6904761904761905,
           0.8809523809523809,
           0.8095238095238095,
           0.3333333333333333,
           0.4523809523809524,
           0.09523809523809523,
           0.5238095238095238,
           0.5952380952380952,
           0.42857142857142855,
           0.023809523809523808,
           0.8809523809523809,
           0.7142857142857143,
           0.7142857142857143,
           0.9761904761904762,
           0.8571428571428571,
           0.8095238095238095,
           0.8571428571428571,
           0.7142857142857143,
           0.9285714285714286,
           0.9523809523809523,
           0.9047619047619048,
           0.7857142857142857,
           0.7380952380952381,
           0.7380952380952381,
           0.7380952380952381,
           0.8333333333333334,
           0.8095238095238095,
           0.35714285714285715,
           0.7619047619047619,
           0.30952380952380953,
           0.8333333333333334,
           0.7857142857142857,
           0.7619047619047619,
           0.7142857142857143,
           0.7380952380952381,
           0.7142857142857143,
           0.7619047619047619,
           0.7619047619047619,
           0.7619047619047619,
           0.19047619047619047,
           0.7380952380952381,
           0.8571428571428571,
           0.7380952380952381,
           0.14285714285714285,
           0.16666666666666666,
           0.023809523809523808,
           0.7142857142857143,
           0.47619047619047616,
           0.11904761904761904,
           0.40476190476190477,
           0.2857142857142857,
           0.7619047619047619,
           0.07142857142857142,
           0.16666666666666666,
           0.047619047619047616,
           0.4523809523809524,
           0.2619047619047619,
           0.4523809523809524,
           0.21428571428571427,
           0.09523809523809523,
           0.16666666666666666,
           0.07142857142857142,
           0.023809523809523808,
           0.023809523809523808,
           0.8809523809523809,
           0.7142857142857143,
           0.7142857142857143,
           0.9761904761904762,
           0.8571428571428571,
           0.8095238095238095,
           0.8571428571428571,
           0.7142857142857143,
           0.9285714285714286,
           0.9523809523809523,
           0.7857142857142857,
           0.30952380952380953,
           0.7380952380952381,
           0.9523809523809523,
           0.7380952380952381,
           0.7380952380952381,
           0.35714285714285715,
           0.7619047619047619,
           0.8333333333333334,
           0.7857142857142857,
           0.7619047619047619,
           0.7142857142857143,
           0.7619047619047619,
           0.8333333333333334,
           0.7142857142857143,
           0.7619047619047619,
           0.7619047619047619,
           0.7619047619047619,
           0.19047619047619047,
           0.8809523809523809,
           0.7142857142857143,
           0.7142857142857143,
           0.47619047619047616,
           0.11904761904761904,
           0.8333333333333334,
           0.5238095238095238,
           0.7619047619047619,
           0.14285714285714285,
           0.5714285714285714,
           0.16666666666666666,
           0.047619047619047616,
           0.38095238095238093,
           0.16666666666666666,
           0.2619047619047619,
           0.4523809523809524,
           0.21428571428571427,
           0.19047619047619047,
           0.16666666666666666,
           0.3333333333333333,
           0.9761904761904762,
           0.9285714285714286,
           0.9761904761904762,
           0.8095238095238095,
           0.9761904761904762,
           0.7857142857142857,
           0.7857142857142857,
           0.9761904761904762,
           1,
           0.8571428571428571,
           0.8809523809523809,
           0.8571428571428571,
           0.9285714285714286,
           0.8571428571428571,
           0.7142857142857143,
           0.8333333333333334,
           0.9047619047619048,
           0.7380952380952381,
           0.7142857142857143,
           0.7380952380952381,
           0.5952380952380952,
           0.7380952380952381,
           0.8571428571428571,
           0.7857142857142857,
           0.8095238095238095,
           0.9523809523809523,
           0.7142857142857143,
           0.023809523809523808,
           0.7857142857142857,
           0.9285714285714286,
           0.7380952380952381,
           0.9523809523809523,
           0.8333333333333334,
           0.7142857142857143,
           0.7380952380952381,
           0.8333333333333334,
           0.7142857142857143,
           0.16666666666666666,
           0.19047619047619047,
           0.8095238095238095,
           0.35714285714285715,
           0.16666666666666666,
           0.7619047619047619,
           0.8333333333333334,
           0.30952380952380953,
           0.7619047619047619,
           0.7619047619047619,
           0.7857142857142857,
           0.7380952380952381,
           0.7142857142857143,
           0.8095238095238095,
           0.7619047619047619,
           0.7619047619047619,
           0.7380952380952381,
           0.8571428571428571,
           0.8333333333333334,
           0.7380952380952381,
           0.7142857142857143,
           0.7619047619047619,
           0.7619047619047619,
           0.9047619047619048,
           0.8333333333333334,
           0.47619047619047616,
           0.7142857142857143,
           0.023809523809523808,
           0.40476190476190477,
           0.40476190476190477,
           0.2857142857142857,
           0.7619047619047619,
           0.5,
           0.21428571428571427,
           0.047619047619047616,
           0.14285714285714285,
           0.16666666666666666,
           0.16666666666666666,
           0.19047619047619047,
           0.07142857142857142,
           0.047619047619047616,
           0.07142857142857142,
           0.07142857142857142,
           0.023809523809523808,
           0.023809523809523808,
           0.047619047619047616,
           0.047619047619047616,
           0.023809523809523808,
           0.023809523809523808
          ],
          "size": [
           6.790247440338135,
           3.9967565536499023,
           4.260659217834473,
           6.338987827301025,
           3.9748129844665527,
           2.494136333465576,
           1.7654736042022705,
           2.0353827476501465,
           3.6136116981506348,
           4.743160247802734,
           6.27146053314209,
           1.8952820301055908,
           2.3322997093200684,
           3.025320291519165,
           3.0593113899230957,
           3.8864939212799072,
           1.6325206756591797,
           1.8226515054702759,
           6.131890773773193,
           1.337113380432129,
           3.800820827484131,
           2.7525041103363037,
           4.542214393615723,
           2.04288387298584,
           1.6266422271728516,
           4.4440202713012695,
           1.4730521440505981,
           4.600316524505615,
           2.9403722286224365,
           4.454130172729492,
           3.2525393962860107,
           2.574341297149658,
           4.420370578765869,
           2.1212916374206543,
           2.254084587097168,
           2.7532341480255127,
           3.7877755165100098,
           2.342151403427124,
           2.759838342666626,
           4.435525894165039,
           3.3446669578552246,
           2.8311548233032227,
           1.2522494792938232,
           1.05771005153656,
           2.2898919582366943,
           2.467416286468506,
           1.7543941736221313,
           1.0057268142700195,
           2.781620979309082,
           1.5750178098678589,
           2.2906672954559326,
           2.368520736694336,
           1.88527512550354,
           1.7839796543121338,
           3.9305803775787354,
           2.3403263092041016,
           1.2126365900039673,
           1.174330234527588,
           1.760351300239563,
           10.531805992126465,
           7.354422092437744,
           5.876372337341309,
           7.596232891082764,
           6.503566741943359,
           7.765532493591309,
           5.917492389678955,
           6.173550605773926,
           2.741377830505371,
           4.540943145751953,
           3.389665126800537,
           2.997117042541504,
           2.3667945861816406,
           5.919543743133545,
           1.4202200174331665,
           4.421311378479004,
           2.908113956451416,
           2.2790260314941406,
           1.3837103843688965,
           1.6519644260406494,
           2.2255804538726807,
           2.518714189529419,
           1.8164165019989014,
           7.708323001861572,
           4.390742778778076,
           1.2095959186553955,
           2.25653338432312,
           1.2667545080184937,
           1.710889458656311,
           1.9586904048919678,
           2.180049419403076,
           1.672727346420288,
           2.920182943344116,
           1.7842967510223389,
           1.3363325595855713,
           1.9593905210494995,
           10.088752746582031,
           4.493653297424316,
           2.5056040287017822,
           8.227465629577637,
           7.64892578125,
           7.629627227783203,
           5.504220962524414,
           6.858246803283691,
           5.396672248840332,
           5.791477680206299,
           1.5632344484329224,
           3.7634570598602295,
           4.6048688888549805,
           3.139345645904541,
           4.661657333374023,
           1.692047119140625,
           1.4643874168395996,
           2.5351476669311523,
           3.534435987472534,
           1.6179872751235962,
           1.3827489614486694,
           2.8175876140594482,
           3.5318753719329834,
           3.724846839904785,
           2.162472724914551,
           2.3523263931274414,
           5.1476359367370605,
           2.393148422241211,
           2.1887588500976562,
           3.623204231262207,
           1.6365875005722046,
           1.9773207902908325,
           2.002302646636963,
           1.3031911849975586,
           1.636946678161621,
           1.5458625555038452,
           2.0879082679748535,
           2.2019948959350586,
           2.216797351837158,
           1.3979051113128662,
           1.851078748703003,
           1.5351073741912842,
           1.573345422744751,
           2.504725456237793,
           2.1408817768096924,
           1.6527445316314697,
           2.378174304962158,
           3.1975326538085938,
           3.421116352081299,
           2.192452907562256,
           1.8607593774795532,
           2.3151769638061523,
           1.324474811553955,
           1.4056452512741089
          ],
          "sizemode": "area",
          "sizeref": 0.0380750846862793,
          "symbol": "circle"
         },
         "mode": "markers",
         "name": "moving stripes",
         "orientation": "v",
         "showlegend": true,
         "type": "scatter",
         "x": [
          254,
          248.7948717948718,
          236,
          245.5,
          232,
          260.1290322580645,
          226.3939393939394,
          234,
          241.05555555555554,
          269.27272727272725,
          269,
          231.48717948717947,
          265.8378378378378,
          237.85294117647058,
          273,
          247.42857142857142,
          219.05263157894737,
          245,
          268,
          302.37142857142857,
          258.92105263157896,
          244,
          273.43333333333334,
          250.03030303030303,
          222.72727272727272,
          275.1714285714286,
          229.26666666666668,
          269.90909090909093,
          246,
          251.5,
          269.3142857142857,
          278.9,
          264.6666666666667,
          274,
          266.27272727272725,
          242.28125,
          282.8205128205128,
          262.89473684210526,
          255.25806451612902,
          259.3235294117647,
          278.7647058823529,
          285.93548387096774,
          289.741935483871,
          213.7058823529412,
          238.3846153846154,
          273.25,
          241.57142857142858,
          226.63636363636363,
          43.13333333333333,
          275.0833333333333,
          280.8421052631579,
          36.84615384615385,
          293.8333333333333,
          262.2857142857143,
          254.06666666666666,
          250.375,
          237.8,
          141,
          263,
          241,
          236.02380952380952,
          266,
          246.2941176470588,
          250.27777777777777,
          254.27777777777777,
          261.5,
          258.72727272727275,
          256,
          230.7948717948718,
          255,
          246.5151515151515,
          267.25,
          228,
          234.61764705882354,
          247.96774193548387,
          221.30555555555554,
          240.09677419354838,
          227.3125,
          259.8,
          258,
          238,
          318,
          267.625,
          256.80645161290323,
          272.4,
          253.11111111111111,
          365.52941176470586,
          107.66666666666667,
          241.33333333333334,
          271.1666666666667,
          226.53846153846155,
          251.68421052631578,
          263,
          220,
          273,
          223.94594594594594,
          143.3,
          117.03333333333333,
          236,
          212.77777777777777,
          215.14705882352942,
          209.69444444444446,
          232.16666666666666,
          202.94871794871796,
          223.35,
          129.81578947368422,
          217.12121212121212,
          229.4516129032258,
          198.2258064516129,
          208.19354838709677,
          229.05714285714285,
          299.7352941176471,
          128,
          197.84375,
          85.92307692307692,
          235.42857142857142,
          191.3030303030303,
          204.375,
          206.9,
          220.48387096774192,
          181.23333333333332,
          241.84375,
          243.15625,
          240.03125,
          134.375,
          232.4516129032258,
          247.36111111111111,
          223,
          207.5,
          76.71428571428571,
          202,
          214.06666666666666,
          234.5,
          233.2,
          183.35294117647058,
          198.66666666666666,
          161.46875,
          194.33333333333334,
          247.28571428571428,
          229,
          190.6315789473684,
          212.63636363636363,
          218.78947368421052,
          251,
          254.5,
          259.2857142857143,
          170.66666666666666,
          238,
          242
         ],
         "xaxis": "x",
         "y": [
          55,
          56.64102564102564,
          68,
          60.5,
          74,
          44.16129032258065,
          75.12121212121212,
          71,
          61.72222222222222,
          39.72727272727273,
          66,
          81.23076923076923,
          60.729729729729726,
          65.47058823529412,
          56,
          69.11428571428571,
          82.94736842105263,
          66,
          32.82051282051282,
          5.171428571428572,
          61.13157894736842,
          67,
          62.2,
          49.84848484848485,
          78.27272727272727,
          50.57142857142857,
          68.46666666666667,
          26.12121212121212,
          65,
          66,
          48.74285714285714,
          58.53333333333333,
          69.03030303030303,
          37.696969696969695,
          55.39393939393939,
          73.0625,
          47.97435897435897,
          34.6578947368421,
          64.16129032258064,
          72.44117647058823,
          47.94117647058823,
          43.03225806451613,
          47.87096774193548,
          87.3529411764706,
          76.84615384615384,
          31.375,
          55.857142857142854,
          83.81818181818181,
          8.366666666666667,
          20.416666666666668,
          42.1578947368421,
          2.6923076923076925,
          40.166666666666664,
          65.28571428571429,
          77.03333333333333,
          81.0625,
          87.9,
          61,
          71,
          90,
          92.69047619047619,
          70,
          87.8529411764706,
          84.72222222222223,
          80.72222222222223,
          73.5,
          77.27272727272727,
          78,
          93.64102564102564,
          77,
          94.93939393939394,
          64.375,
          98,
          86.73529411764706,
          80.12903225806451,
          98.88888888888889,
          83.7741935483871,
          89.5,
          68.96666666666667,
          80,
          99.5,
          14,
          76.08333333333333,
          86.6774193548387,
          61.63333333333333,
          74.61111111111111,
          3.764705882352941,
          12.333333333333334,
          96.33333333333333,
          69.5,
          102.6923076923077,
          93.73684210526316,
          81,
          103,
          78.5,
          97.94594594594595,
          107.93333333333334,
          81.2,
          91,
          102.75,
          97.6470588235294,
          96.63888888888889,
          96.56666666666666,
          104.84615384615384,
          91.85,
          112.52631578947368,
          93.18181818181819,
          89.51612903225806,
          120.35483870967742,
          104.12903225806451,
          83.51428571428572,
          37.85294117647059,
          70.06666666666666,
          103.0625,
          71.76923076923077,
          82.82857142857142,
          122.66666666666667,
          97.59375,
          119.63333333333334,
          87.61290322580645,
          122.7,
          86.84375,
          104.3125,
          80.125,
          74.25,
          78.16129032258064,
          79.83333333333333,
          83.80645161290323,
          93.33333333333333,
          45,
          101,
          88.66666666666667,
          109.8,
          88,
          105,
          97.08333333333333,
          117.125,
          105.66666666666667,
          85.57142857142857,
          100.5,
          103.47368421052632,
          117.27272727272727,
          105.10526315789474,
          77.55555555555556,
          79.5,
          75,
          115.66666666666667,
          105,
          93
         ],
         "yaxis": "y"
        },
        {
         "hovertemplate": "color=dots_ON<br>x=%{x}<br>y=%{y}<br>size=%{marker.size}<extra></extra>",
         "legendgroup": "dots_ON",
         "marker": {
          "color": "#EF553B",
          "opacity": [
           0.9761904761904762,
           0.9285714285714286,
           0.9761904761904762,
           0.7619047619047619,
           0.9761904761904762,
           0.7380952380952381,
           0.7857142857142857,
           0.023809523809523808,
           0.8571428571428571,
           0.7857142857142857,
           0.9761904761904762,
           0.9285714285714286,
           0.8809523809523809,
           0.8095238095238095,
           0.9761904761904762,
           0.8333333333333334,
           0.9047619047619048,
           0.023809523809523808,
           0.9285714285714286,
           0.8333333333333334,
           0.9047619047619048,
           0.023809523809523808,
           0.7142857142857143,
           0.7857142857142857,
           0.7857142857142857,
           0.8333333333333334,
           0.7142857142857143,
           0.7857142857142857,
           0.023809523809523808,
           0.7142857142857143,
           0.8333333333333334,
           0.7142857142857143,
           0.7857142857142857,
           0.7857142857142857,
           0.7857142857142857,
           0.7619047619047619,
           0.9285714285714286,
           0.9047619047619048,
           0.7380952380952381,
           0.8095238095238095,
           0.8095238095238095,
           0.7380952380952381,
           0.7380952380952381,
           0.8095238095238095,
           0.6190476190476191,
           0.19047619047619047,
           0.5,
           0.2619047619047619,
           0.7142857142857143,
           0.5714285714285714,
           0.4523809523809524,
           0.30952380952380953,
           0.7142857142857143,
           0.16666666666666666,
           0.7142857142857143,
           0.38095238095238093,
           0.23809523809523808,
           0.023809523809523808,
           0.023809523809523808,
           0.9761904761904762,
           0.9285714285714286,
           0.9761904761904762,
           0.9761904761904762,
           0.7619047619047619,
           0.9761904761904762,
           0.9761904761904762,
           0.7380952380952381,
           0.9047619047619048,
           0.8333333333333334,
           0.7857142857142857,
           0.023809523809523808,
           0.8571428571428571,
           0.7857142857142857,
           0.023809523809523808,
           0.9761904761904762,
           0.7380952380952381,
           0.9285714285714286,
           0.023809523809523808,
           0.8571428571428571,
           0.8809523809523809,
           0.8095238095238095,
           0.9761904761904762,
           0.8333333333333334,
           0.8571428571428571,
           0.9047619047619048,
           0.023809523809523808,
           0.9285714285714286,
           0.8333333333333334,
           0.9761904761904762,
           0.9047619047619048,
           0.023809523809523808,
           0.7142857142857143,
           0.8333333333333334,
           0.7857142857142857,
           0.7142857142857143,
           0.7857142857142857,
           0.7619047619047619,
           0.8333333333333334,
           0.9523809523809523,
           0.7142857142857143,
           0.7857142857142857,
           0.023809523809523808,
           0.023809523809523808,
           0.7142857142857143,
           0.9523809523809523,
           0.8333333333333334,
           0.7142857142857143,
           0.7380952380952381,
           0.7857142857142857,
           0.7857142857142857,
           0.8095238095238095,
           0.7857142857142857,
           0.023809523809523808,
           0.7619047619047619,
           0.8571428571428571,
           0.7142857142857143,
           0.7619047619047619,
           0.8571428571428571,
           0.7857142857142857,
           0.9285714285714286,
           0.9047619047619048,
           0.023809523809523808,
           0.7380952380952381,
           0.8095238095238095,
           0.7857142857142857,
           0.7142857142857143,
           0.8095238095238095,
           0.5476190476190477,
           0.7380952380952381,
           0.023809523809523808,
           0.7380952380952381,
           0.7619047619047619,
           0.023809523809523808,
           0.8095238095238095,
           0.7142857142857143,
           0.6190476190476191,
           0.7380952380952381,
           0.5952380952380952,
           0.19047619047619047,
           0.7380952380952381,
           0.19047619047619047,
           0.7142857142857143,
           0.023809523809523808,
           0.5952380952380952,
           0.7142857142857143,
           0.7142857142857143,
           0.8095238095238095,
           0.7619047619047619,
           0.5,
           0.7142857142857143,
           0.7142857142857143,
           0.2619047619047619,
           0.5714285714285714,
           0.40476190476190477,
           0.7857142857142857,
           0.5714285714285714,
           0.4523809523809524,
           0.023809523809523808,
           0.7142857142857143,
           0.16666666666666666,
           0.7142857142857143,
           0.023809523809523808,
           0.9047619047619048,
           0.19047619047619047,
           0.35714285714285715,
           0.35714285714285715,
           0.07142857142857142,
           0.23809523809523808,
           0.09523809523809523,
           0.23809523809523808,
           0.2857142857142857,
           0.023809523809523808,
           0.7142857142857143,
           0.5952380952380952,
           0.42857142857142855,
           0.11904761904761904,
           0.2619047619047619,
           0.21428571428571427,
           0.16666666666666666,
           0.38095238095238093,
           0.11904761904761904,
           0.21428571428571427,
           0.023809523809523808,
           0.11904761904761904,
           0.23809523809523808,
           0.07142857142857142,
           0.3333333333333333,
           0.11904761904761904,
           0.023809523809523808,
           0.19047619047619047,
           0.023809523809523808,
           0.023809523809523808,
           0.09523809523809523,
           0.023809523809523808,
           0.047619047619047616,
           0.023809523809523808,
           0.09523809523809523,
           0.09523809523809523,
           0.023809523809523808,
           0.09523809523809523,
           0.047619047619047616,
           0.047619047619047616,
           0.047619047619047616,
           0.023809523809523808,
           0.047619047619047616,
           0.023809523809523808,
           0.023809523809523808,
           0.9285714285714286,
           0.7380952380952381,
           0.7857142857142857,
           0.8809523809523809,
           0.9761904761904762,
           0.8333333333333334,
           0.9285714285714286,
           0.9047619047619048,
           0.7142857142857143,
           0.8333333333333334,
           0.023809523809523808,
           0.7142857142857143,
           0.8333333333333334,
           0.7142857142857143,
           0.7857142857142857,
           0.7857142857142857,
           0.7857142857142857,
           0.023809523809523808,
           0.023809523809523808,
           0.7380952380952381,
           0.8095238095238095,
           0.023809523809523808,
           0.7380952380952381,
           0.19047619047619047,
           0.023809523809523808,
           0.4523809523809524,
           0.16666666666666666,
           0.35714285714285715,
           0.23809523809523808,
           0.11904761904761904,
           0.023809523809523808,
           0.023809523809523808,
           0.09523809523809523,
           0.09523809523809523,
           0.9285714285714286,
           0.9761904761904762,
           0.8809523809523809,
           0.9761904761904762,
           0.9761904761904762,
           0.9761904761904762,
           0.7380952380952381,
           0.8333333333333334,
           0.7857142857142857,
           0.9047619047619048,
           0.8571428571428571,
           0.7857142857142857,
           0.9285714285714286,
           0.023809523809523808,
           0.9761904761904762,
           0.7380952380952381,
           0.9285714285714286,
           0.8571428571428571,
           0.8809523809523809,
           0.8095238095238095,
           0.9761904761904762,
           0.8333333333333334,
           0.8571428571428571,
           0.9047619047619048,
           0.023809523809523808,
           0.9285714285714286,
           0.8333333333333334,
           0.9761904761904762,
           0.9047619047619048,
           0.023809523809523808,
           0.7142857142857143,
           0.8333333333333334,
           0.7857142857142857,
           0.7142857142857143,
           0.7857142857142857,
           0.7619047619047619,
           0.8333333333333334,
           0.9523809523809523,
           0.7142857142857143,
           0.7857142857142857,
           0.023809523809523808,
           0.023809523809523808,
           0.7142857142857143,
           0.9523809523809523,
           0.9047619047619048,
           0.8333333333333334,
           0.7142857142857143,
           0.7380952380952381,
           0.7142857142857143,
           0.7857142857142857,
           0.7857142857142857,
           0.8095238095238095,
           0.7857142857142857,
           0.7619047619047619,
           0.7142857142857143,
           0.7619047619047619,
           0.8571428571428571,
           0.7857142857142857,
           0.9285714285714286,
           0.9047619047619048,
           0.7380952380952381,
           0.8095238095238095,
           0.7857142857142857,
           0.7142857142857143,
           0.8095238095238095,
           0.7380952380952381,
           0.7380952380952381,
           0.7619047619047619,
           0.8095238095238095,
           0.7142857142857143,
           0.6190476190476191,
           0.7380952380952381,
           0.5952380952380952,
           0.19047619047619047,
           0.7380952380952381,
           0.19047619047619047,
           0.7142857142857143,
           0.5952380952380952,
           0.7142857142857143,
           0.7142857142857143,
           0.5,
           0.7380952380952381,
           0.5714285714285714,
           0.40476190476190477,
           0.5714285714285714,
           0.4523809523809524,
           0.7142857142857143,
           0.047619047619047616,
           0.16666666666666666,
           0.7142857142857143,
           0.9047619047619048,
           0.19047619047619047,
           0.35714285714285715,
           0.23809523809523808,
           0.09523809523809523,
           0.11904761904761904,
           0.5952380952380952,
           0.2619047619047619,
           0.023809523809523808,
           0.21428571428571427,
           0.23809523809523808,
           0.023809523809523808,
           0.047619047619047616,
           0.09523809523809523,
           0.09523809523809523,
           0.023809523809523808,
           0.9761904761904762,
           1,
           0.9761904761904762,
           0.8095238095238095,
           0.8571428571428571,
           0.8571428571428571,
           0.7619047619047619,
           0.7857142857142857,
           0.023809523809523808,
           0.9285714285714286,
           0.023809523809523808,
           0.7857142857142857,
           0.7619047619047619,
           0.9285714285714286,
           0.8095238095238095,
           0.7380952380952381,
           0.8571428571428571,
           0.7380952380952381,
           0.7619047619047619,
           0.7142857142857143,
           0.023809523809523808,
           0.7142857142857143,
           0.9285714285714286,
           0.5714285714285714,
           0.7380952380952381,
           0.7142857142857143,
           0.42857142857142855,
           0.40476190476190477,
           0.07142857142857142,
           0.07142857142857142,
           0.14285714285714285,
           0.30952380952380953,
           0.4523809523809524,
           0.023809523809523808,
           0.023809523809523808,
           0.047619047619047616,
           0.9761904761904762,
           1,
           0.9761904761904762,
           0.8095238095238095,
           0.8571428571428571,
           0.8571428571428571,
           0.7619047619047619,
           0.7857142857142857,
           0.9761904761904762,
           0.023809523809523808,
           0.9285714285714286,
           0.9761904761904762,
           0.8095238095238095,
           0.023809523809523808,
           0.7380952380952381,
           0.7857142857142857,
           0.9285714285714286,
           0.8809523809523809,
           0.7857142857142857,
           0.8809523809523809,
           0.7619047619047619,
           0.7857142857142857,
           0.8333333333333334,
           0.9285714285714286,
           0.9761904761904762,
           0.8095238095238095,
           0.7380952380952381,
           0.8571428571428571,
           0.9047619047619048,
           0.7380952380952381,
           0.8809523809523809,
           0.8809523809523809,
           0.7619047619047619,
           0.7142857142857143,
           0.023809523809523808,
           0.23809523809523808,
           0.7142857142857143,
           0.9285714285714286,
           0.7380952380952381,
           0.9523809523809523,
           0.5714285714285714,
           0.40476190476190477,
           0.7380952380952381,
           0.7619047619047619,
           0.8333333333333334,
           0.7142857142857143,
           0.7857142857142857,
           0.9047619047619048,
           0.5476190476190477,
           0.42857142857142855,
           0.023809523809523808,
           0.7142857142857143,
           0.7380952380952381,
           0.7142857142857143,
           0.5476190476190477,
           0.07142857142857142,
           0.14285714285714285,
           0.7619047619047619,
           0.40476190476190477,
           0.14285714285714285,
           0.7857142857142857,
           0.07142857142857142,
           0.7142857142857143,
           0.40476190476190477,
           0.09523809523809523,
           0.30952380952380953,
           0.21428571428571427,
           0.4523809523809524,
           0.38095238095238093,
           0.14285714285714285,
           0.07142857142857142,
           0.023809523809523808,
           0.19047619047619047,
           0.07142857142857142,
           0.047619047619047616,
           0.023809523809523808,
           0.7857142857142857,
           0.7857142857142857,
           0.7142857142857143,
           0.3333333333333333,
           0.8809523809523809,
           0.8333333333333334,
           0.7142857142857143,
           0.21428571428571427,
           0.14285714285714285,
           0.023809523809523808,
           0.047619047619047616,
           0.09523809523809523,
           0.5,
           0.11904761904761904,
           0.023809523809523808,
           0.14285714285714285,
           0.023809523809523808,
           0.023809523809523808,
           0.023809523809523808,
           0.023809523809523808,
           0.023809523809523808,
           0.023809523809523808,
           0.047619047619047616,
           0.023809523809523808,
           0.7619047619047619,
           0.9761904761904762,
           1,
           0.9761904761904762,
           0.8095238095238095,
           0.8571428571428571,
           0.8571428571428571,
           0.7619047619047619,
           0.7857142857142857,
           0.9761904761904762,
           0.9761904761904762,
           0.8095238095238095,
           0.9285714285714286,
           0.9285714285714286,
           0.9761904761904762,
           0.4523809523809524,
           0.8095238095238095,
           0.7857142857142857,
           0.7380952380952381,
           0.7380952380952381,
           0.9285714285714286,
           0.7857142857142857,
           0.8809523809523809,
           0.8095238095238095,
           0.8333333333333334,
           0.9285714285714286,
           0.8571428571428571,
           0.9047619047619048,
           0.8571428571428571,
           0.23809523809523808,
           0.9285714285714286,
           0.7380952380952381,
           0.9523809523809523,
           0.5714285714285714,
           0.047619047619047616,
           0.7380952380952381,
           0.8333333333333334,
           0.8809523809523809,
           0.7142857142857143,
           0.7142857142857143,
           0.7380952380952381,
           0.38095238095238093,
           0.4523809523809524,
           0.09523809523809523,
           0.047619047619047616,
           0.023809523809523808,
           0.9761904761904762,
           1,
           0.9761904761904762,
           0.8095238095238095,
           0.8571428571428571,
           0.8571428571428571,
           1,
           0.7619047619047619,
           0.9761904761904762,
           0.7857142857142857,
           0.9761904761904762,
           0.9761904761904762,
           0.9761904761904762,
           0.8095238095238095,
           0.9285714285714286,
           0.9047619047619048,
           0.9285714285714286,
           0.9761904761904762,
           0.8095238095238095,
           0.7857142857142857,
           0.7380952380952381,
           0.8809523809523809,
           0.7857142857142857,
           0.9285714285714286,
           0.8809523809523809,
           0.7857142857142857,
           0.8809523809523809,
           0.7619047619047619,
           0.8571428571428571,
           0.7857142857142857,
           0.8095238095238095,
           0.8333333333333334,
           0.9285714285714286,
           0.9761904761904762,
           0.7380952380952381,
           0.8571428571428571,
           0.9047619047619048,
           0.7380952380952381,
           0.8809523809523809,
           0.8809523809523809,
           0.8571428571428571,
           0.7619047619047619,
           0.7142857142857143,
           0.23809523809523808,
           0.9285714285714286,
           0.7380952380952381,
           0.9523809523809523,
           0.5714285714285714,
           0.7619047619047619,
           0.7380952380952381,
           0.7619047619047619,
           0.8333333333333334,
           0.7380952380952381,
           0.5476190476190477,
           0.7857142857142857,
           0.7857142857142857,
           0.9047619047619048,
           0.35714285714285715,
           0.42857142857142855,
           0.8333333333333334,
           0.7142857142857143,
           0.7142857142857143,
           0.23809523809523808,
           0.7619047619047619,
           0.40476190476190477,
           0.7857142857142857,
           0.7380952380952381,
           0.7142857142857143,
           0.14285714285714285,
           0.16666666666666666,
           0.023809523809523808,
           0.21428571428571427,
           0.16666666666666666,
           0.7619047619047619,
           0.7619047619047619,
           0.7380952380952381,
           0.7857142857142857,
           0.6904761904761905,
           0.8809523809523809,
           0.8095238095238095,
           0.3333333333333333,
           0.4523809523809524,
           0.09523809523809523,
           0.5238095238095238,
           0.5952380952380952,
           0.42857142857142855,
           0.023809523809523808,
           0.8809523809523809,
           0.7142857142857143,
           0.7142857142857143,
           0.9761904761904762,
           0.8571428571428571,
           0.8095238095238095,
           0.8571428571428571,
           0.7142857142857143,
           0.9285714285714286,
           0.9523809523809523,
           0.9047619047619048,
           0.7857142857142857,
           0.7380952380952381,
           0.7380952380952381,
           0.7380952380952381,
           0.8333333333333334,
           0.8095238095238095,
           0.35714285714285715,
           0.7619047619047619,
           0.30952380952380953,
           0.8333333333333334,
           0.7857142857142857,
           0.7619047619047619,
           0.7142857142857143,
           0.7380952380952381,
           0.7142857142857143,
           0.7619047619047619,
           0.7619047619047619,
           0.7619047619047619,
           0.19047619047619047,
           0.7380952380952381,
           0.8571428571428571,
           0.7380952380952381,
           0.14285714285714285,
           0.16666666666666666,
           0.023809523809523808,
           0.7142857142857143,
           0.47619047619047616,
           0.11904761904761904,
           0.40476190476190477,
           0.2857142857142857,
           0.7619047619047619,
           0.07142857142857142,
           0.16666666666666666,
           0.047619047619047616,
           0.4523809523809524,
           0.2619047619047619,
           0.4523809523809524,
           0.21428571428571427,
           0.09523809523809523,
           0.16666666666666666,
           0.07142857142857142,
           0.023809523809523808,
           0.023809523809523808,
           0.8809523809523809,
           0.7142857142857143,
           0.7142857142857143,
           0.9761904761904762,
           0.8571428571428571,
           0.8095238095238095,
           0.8571428571428571,
           0.7142857142857143,
           0.9285714285714286,
           0.9523809523809523,
           0.7857142857142857,
           0.30952380952380953,
           0.7380952380952381,
           0.9523809523809523,
           0.7380952380952381,
           0.7380952380952381,
           0.35714285714285715,
           0.7619047619047619,
           0.8333333333333334,
           0.7857142857142857,
           0.7619047619047619,
           0.7142857142857143,
           0.7619047619047619,
           0.8333333333333334,
           0.7142857142857143,
           0.7619047619047619,
           0.7619047619047619,
           0.7619047619047619,
           0.19047619047619047,
           0.8809523809523809,
           0.7142857142857143,
           0.7142857142857143,
           0.47619047619047616,
           0.11904761904761904,
           0.8333333333333334,
           0.5238095238095238,
           0.7619047619047619,
           0.14285714285714285,
           0.5714285714285714,
           0.16666666666666666,
           0.047619047619047616,
           0.38095238095238093,
           0.16666666666666666,
           0.2619047619047619,
           0.4523809523809524,
           0.21428571428571427,
           0.19047619047619047,
           0.16666666666666666,
           0.3333333333333333,
           0.9761904761904762,
           0.9285714285714286,
           0.9761904761904762,
           0.8095238095238095,
           0.9761904761904762,
           0.7857142857142857,
           0.7857142857142857,
           0.9761904761904762,
           1,
           0.8571428571428571,
           0.8809523809523809,
           0.8571428571428571,
           0.9285714285714286,
           0.8571428571428571,
           0.7142857142857143,
           0.8333333333333334,
           0.9047619047619048,
           0.7380952380952381,
           0.7142857142857143,
           0.7380952380952381,
           0.5952380952380952,
           0.7380952380952381,
           0.8571428571428571,
           0.7857142857142857,
           0.8095238095238095,
           0.9523809523809523,
           0.7142857142857143,
           0.023809523809523808,
           0.7857142857142857,
           0.9285714285714286,
           0.7380952380952381,
           0.9523809523809523,
           0.8333333333333334,
           0.7142857142857143,
           0.7380952380952381,
           0.8333333333333334,
           0.7142857142857143,
           0.16666666666666666,
           0.19047619047619047,
           0.8095238095238095,
           0.35714285714285715,
           0.16666666666666666,
           0.7619047619047619,
           0.8333333333333334,
           0.30952380952380953,
           0.7619047619047619,
           0.7619047619047619,
           0.7857142857142857,
           0.7380952380952381,
           0.7142857142857143,
           0.8095238095238095,
           0.7619047619047619,
           0.7619047619047619,
           0.7380952380952381,
           0.8571428571428571,
           0.8333333333333334,
           0.7380952380952381,
           0.7142857142857143,
           0.7619047619047619,
           0.7619047619047619,
           0.9047619047619048,
           0.8333333333333334,
           0.47619047619047616,
           0.7142857142857143,
           0.023809523809523808,
           0.40476190476190477,
           0.40476190476190477,
           0.2857142857142857,
           0.7619047619047619,
           0.5,
           0.21428571428571427,
           0.047619047619047616,
           0.14285714285714285,
           0.16666666666666666,
           0.16666666666666666,
           0.19047619047619047,
           0.07142857142857142,
           0.047619047619047616,
           0.07142857142857142,
           0.07142857142857142,
           0.023809523809523808,
           0.023809523809523808,
           0.047619047619047616,
           0.047619047619047616,
           0.023809523809523808,
           0.023809523809523808
          ],
          "size": [
           13.907411575317383,
           7.936705589294434,
           15.069939613342285,
           7.904599189758301,
           12.834433555603027,
           6.2661542892456055,
           4.492982387542725,
           5.185225963592529,
           15.230033874511719,
           3.8172547817230225,
           2.867015838623047,
           2.319669008255005,
           6.5589118003845215,
           11.45291519165039,
           2.7219398021698,
           12.992079734802246,
           5.958711624145508,
           3.0531749725341797,
           3.7682816982269287,
           5.2881879806518555,
           9.545974731445312,
           5.105559349060059,
           9.805852890014648,
           8.26228141784668,
           3.317821502685547,
           2.5798566341400146,
           3.043120861053467,
           14.851143836975098,
           4.281615734100342,
           4.650878429412842,
           10.387297630310059,
           5.800673007965088,
           11.804336547851562,
           1.9159859418869019,
           3.6352415084838867,
           4.545498371124268,
           2.97664213180542,
           2.6980769634246826,
           13.936471939086914,
           5.979377269744873,
           3.962430238723755,
           9.978239059448242,
           3.621710777282715,
           2.1326563358306885,
           8.729593276977539,
           2.722783088684082,
           10.43224048614502,
           9.513681411743164,
           3.9028706550598145,
           10.86384105682373,
           7.956535339355469,
           1.3604575395584106,
           9.228250503540039,
           2.1329240798950195,
           5.528615951538086,
           2.653992176055908,
           2.0984740257263184,
           1.5950567722320557,
           2.5606329441070557,
           5.938240051269531,
           8.181889533996582,
           5.696587562561035,
           2.241497278213501,
           7.63429069519043,
           9.80341911315918,
           3.5873160362243652,
           3.8768203258514404,
           11.415787696838379,
           1.7064807415008545,
           7.485280990600586,
           3.201789379119873,
           3.7120702266693115,
           4.832467079162598,
           3.270486831665039,
           2.9655232429504395,
           3.79357647895813,
           4.186434268951416,
           2.212946891784668,
           4.719728946685791,
           2.2660250663757324,
           1.9145393371582031,
           6.960719585418701,
           3.468012571334839,
           3.1834046840667725,
           2.752960443496704,
           1.2041051387786865,
           1.732810616493225,
           1.6203415393829346,
           2.557908058166504,
           2.6313910484313965,
           1.5566822290420532,
           1.7624139785766602,
           1.409621238708496,
           3.379619598388672,
           2.9208316802978516,
           2.5132720470428467,
           4.717103004455566,
           6.52154016494751,
           2.1609158515930176,
           3.007193088531494,
           5.940267086029053,
           7.633310317993164,
           1.4282190799713135,
           1.4257214069366455,
           2.2202248573303223,
           4.640506744384766,
           3.141472578048706,
           2.2543084621429443,
           7.16956090927124,
           1.2168774604797363,
           1.0473476648330688,
           1.3657708168029785,
           1.6454769372940063,
           3.076648712158203,
           1.7357289791107178,
           1.2652963399887085,
           3.267970085144043,
           1.6655302047729492,
           1.6685394048690796,
           2.43389630317688,
           4.487867832183838,
           4.6216511726379395,
           1.1049258708953857,
           2.244128704071045,
           1.560617208480835,
           3.0526654720306396,
           3.725818395614624,
           1.6575173139572144,
           1.6046704053878784,
           2.164207696914673,
           2.8064541816711426,
           2.496514081954956,
           2.495144844055176,
           1.7501516342163086,
           2.2821640968322754,
           2.673884868621826,
           1.4529722929000854,
           4.028124809265137,
           2.2237229347229004,
           1.549163579940796,
           2.585951328277588,
           1.1131012439727783,
           1.344008207321167,
           1.060394048690796,
           1.7677921056747437,
           2.0483927726745605,
           2.2434804439544678,
           1.4012733697891235,
           11.489906311035156,
           8.083532333374023,
           5.825953960418701,
           7.1819000244140625,
           6.897373199462891,
           8.591791152954102,
           7.278159141540527,
           7.508022785186768,
           3.2753686904907227,
           3.1411070823669434,
           4.748190402984619,
           3.2398600578308105,
           2.4324302673339844,
           3.8348159790039062,
           2.4186928272247314,
           1.1185269355773926,
           2.1121490001678467,
           1.9570492506027222,
           4.644726276397705,
           3.1164422035217285,
           3.1024179458618164,
           1.6988434791564941,
           1.915521502494812,
           6.395402908325195,
           2.688910722732544,
           2.060016632080078,
           5.559990882873535,
           4.0131025314331055,
           1.202175259590149,
           2.0750205516815186,
           1.6022882461547852,
           1.9153035879135132,
           1.2529911994934082,
           2.994354248046875,
           2.629537582397461,
           1.7656608819961548,
           4.6952056884765625,
           4.3889946937561035,
           1.9928629398345947,
           2.9579122066497803,
           6.760149955749512,
           1.371732473373413,
           5.441349506378174,
           1.5671395063400269,
           1.790838599205017,
           1.5057021379470825,
           1.4962266683578491,
           2.179398536682129,
           1.4504917860031128,
           3.225978136062622,
           1.7432199716567993,
           2.8197906017303467,
           2.453683853149414,
           1.5907893180847168,
           1.9791929721832275,
           3.05180025100708,
           1.5110737085342407,
           1.7890429496765137,
           2.106747627258301,
           1.9318528175354004,
           2.9047534465789795,
           1.4744850397109985,
           2.3039472103118896,
           3.012247085571289,
           1.9722084999084473,
           1.8955633640289307,
           1.8892399072647095,
           4.936639785766602,
           1.3091328144073486,
           1.5495989322662354,
           1.7931149005889893,
           1.9225397109985352,
           1.4410121440887451,
           3.0355846881866455,
           1.511216402053833,
           1.4027749300003052,
           2.4699976444244385,
           1.4081497192382812,
           1.28229558467865,
           1.4388761520385742,
           1.2303346395492554,
           1.2681349515914917,
           1.9287241697311401,
           1.6980382204055786,
           1.284942865371704,
           1.8392449617385864,
           2.178895950317383,
           1.171454668045044,
           1.227332592010498,
           1.2482068538665771,
           1.6293219327926636,
           1.1428606510162354,
           1.135054349899292,
           1.394726037979126,
           1.9666632413864136,
           1.6296796798706055,
           1.4944322109222412,
           1.7467854022979736,
           1.6094621419906616,
           1.3025081157684326,
           5.85903787612915,
           2.445089340209961,
           2.7113499641418457,
           5.827601909637451,
           4.486400604248047,
           4.896533966064453,
           3.0836336612701416,
           4.671994209289551,
           3.978018283843994,
           3.494516134262085,
           2.7466869354248047,
           2.2661051750183105,
           3.367506504058838,
           1.3678988218307495,
           3.9391582012176514,
           3.172379493713379,
           4.493206977844238,
           2.4437756538391113,
           1.2466837167739868,
           4.071157932281494,
           2.859677791595459,
           3.087034225463867,
           2.616443395614624,
           1.5598955154418945,
           4.348509788513184,
           4.141905784606934,
           1.8886470794677734,
           1.7610453367233276,
           1.3242058753967285,
           2.0599112510681152,
           1.8887797594070435,
           1.7821576595306396,
           2.2078118324279785,
           1.6719268560409546,
           3.0688090324401855,
           2.3049676418304443,
           2.477250099182129,
           1.514285683631897,
           3.412651777267456,
           2.1964805126190186,
           1.981660008430481,
           2.0246243476867676,
           1.6334826946258545,
           1.8005386590957642,
           2.144331455230713,
           2.5216751098632812,
           1.6519668102264404,
           1.6588444709777832,
           1.5840253829956055
          ],
          "sizemode": "area",
          "sizeref": 0.0380750846862793,
          "symbol": "circle"
         },
         "mode": "markers",
         "name": "dots_ON",
         "orientation": "v",
         "showlegend": true,
         "type": "scatter",
         "x": [
          254,
          248.7948717948718,
          260,
          236,
          245.5,
          232,
          311,
          260.1290322580645,
          257.5,
          287,
          226.3939393939394,
          234,
          241.05555555555554,
          269.27272727272725,
          233,
          269,
          297.1290322580645,
          231.48717948717947,
          293,
          306.94444444444446,
          265.8378378378378,
          237.85294117647058,
          273,
          247.42857142857142,
          270,
          219.05263157894737,
          245,
          268,
          302.37142857142857,
          316,
          258.92105263157896,
          244,
          273.43333333333334,
          257.1714285714286,
          250.03030303030303,
          294,
          222.72727272727272,
          274.5,
          275.1714285714286,
          318.5,
          229.26666666666668,
          269.90909090909093,
          246,
          236,
          251.5,
          270,
          269.3142857142857,
          278.9,
          306.1290322580645,
          264.6666666666667,
          274,
          252.88235294117646,
          266.27272727272725,
          263,
          242.28125,
          207.97222222222223,
          266.76666666666665,
          265.03125,
          279.55555555555554,
          305.75757575757575,
          282.8205128205128,
          262.89473684210526,
          264,
          255.25806451612902,
          259.3235294117647,
          216.8181818181818,
          312.46666666666664,
          278.7647058823529,
          53.30434782608695,
          285.93548387096774,
          271,
          289.741935483871,
          321.125,
          262,
          213.7058823529412,
          312.8,
          238.3846153846154,
          293.0967741935484,
          300.76,
          311.5,
          323.93548387096774,
          273.25,
          269,
          270,
          326.92,
          190.7,
          315.6,
          205.35294117647058,
          208.875,
          241.57142857142858,
          299.1,
          303.4,
          226.63636363636363,
          262.875,
          281.88235294117646,
          222.12121212121212,
          275.0833333333333,
          280.8421052631579,
          265,
          293.8333333333333,
          262.2857142857143,
          254.06666666666666,
          308,
          296.3421052631579,
          276.375,
          285.6,
          325.53333333333336,
          49.666666666666664,
          274.3,
          309,
          263.1,
          214.08333333333334,
          278,
          288.26666666666665,
          199.36,
          295.1111111111111,
          49.4,
          317.1818181818182,
          298.22222222222223,
          324,
          250.375,
          284.8,
          334,
          272,
          305.4,
          237.8,
          287.3333333333333,
          239.78571428571428,
          272.2,
          264,
          243,
          260,
          263,
          290,
          277,
          256.5,
          250,
          278,
          280.5,
          262,
          252,
          291,
          235.5,
          310.5,
          231,
          305,
          322,
          292,
          241,
          236.02380952380952,
          266,
          246.2941176470588,
          250.27777777777777,
          254.27777777777777,
          261.5,
          258.72727272727275,
          317,
          256,
          230.7948717948718,
          311,
          306.70588235294116,
          255,
          300.1290322580645,
          305.1818181818182,
          309,
          306.05405405405406,
          246.5151515151515,
          313.8378378378378,
          267.25,
          315.27272727272725,
          321.1142857142857,
          228,
          340,
          234.61764705882354,
          247.96774193548387,
          221.30555555555554,
          335.10526315789474,
          240.09677419354838,
          334.18918918918916,
          332.8378378378378,
          227.3125,
          259.8,
          258,
          311.5,
          238,
          318,
          220.38709677419354,
          317.75,
          267.625,
          340.88235294117646,
          256.80645161290323,
          328.15625,
          295.0857142857143,
          272.4,
          310.27272727272725,
          328,
          384.5217391304348,
          253.11111111111111,
          313,
          214.66666666666666,
          353.8709677419355,
          342.9,
          350,
          241.33333333333334,
          371,
          322.3125,
          302.05882352941177,
          271.1666666666667,
          317.54545454545456,
          313.3333333333333,
          323.53333333333336,
          320,
          318,
          226.53846153846155,
          346.22222222222223,
          251.68421052631578,
          351.625,
          361.5,
          235,
          312,
          218.75,
          255.66666666666666,
          243.5,
          259,
          303.72727272727275,
          283.93939393939394,
          310.1666666666667,
          351.42857142857144,
          349.9189189189189,
          285,
          338.7,
          384.3333333333333,
          326.5,
          275,
          247,
          347.25,
          189.71428571428572,
          356.6,
          311,
          358.8333333333333,
          338,
          322,
          233,
          238,
          263,
          220,
          273,
          360,
          223.94594594594594,
          143.3,
          117.03333333333333,
          236,
          212.77777777777777,
          215.14705882352942,
          209.69444444444446,
          232.16666666666666,
          202.94871794871796,
          223.35,
          217.12121212121212,
          125.07692307692308,
          229.4516129032258,
          158.95,
          198.2258064516129,
          208.19354838709677,
          128,
          197.84375,
          235.42857142857142,
          191.3030303030303,
          204.375,
          206.9,
          293.3125,
          166.2,
          181.23333333333332,
          241.84375,
          243.15625,
          240.03125,
          134.375,
          152.8918918918919,
          214.06666666666666,
          148.03333333333333,
          234.5,
          233.2,
          280.7142857142857,
          173.36363636363637,
          161.46875,
          202.5,
          288,
          247.28571428571428,
          229,
          158,
          224.14285714285714,
          212.63636363636363,
          218.78947368421052,
          251,
          162.625,
          278,
          152.85714285714286
         ],
         "xaxis": "x",
         "y": [
          55,
          56.64102564102564,
          49,
          68,
          60.5,
          74,
          20,
          44.16129032258065,
          52.5,
          2.4285714285714284,
          75.12121212121212,
          71,
          61.72222222222222,
          39.72727272727273,
          70,
          66,
          2.7419354838709675,
          81.23076923076923,
          1,
          4.611111111111111,
          60.729729729729726,
          65.47058823529412,
          56,
          69.11428571428571,
          2.5277777777777777,
          82.94736842105263,
          66,
          32.82051282051282,
          5.171428571428572,
          10,
          61.13157894736842,
          67,
          62.2,
          39.57142857142857,
          49.84848484848485,
          6.5,
          78.27272727272727,
          7.5,
          50.57142857142857,
          5,
          68.46666666666667,
          26.12121212121212,
          65,
          73,
          66,
          11.9,
          48.74285714285714,
          58.53333333333333,
          11.35483870967742,
          69.03030303030303,
          37.696969696969695,
          43.6764705882353,
          55.39393939393939,
          53,
          73.0625,
          78.44444444444444,
          6.3,
          13.90625,
          3.3333333333333335,
          19.333333333333332,
          47.97435897435897,
          34.6578947368421,
          52,
          64.16129032258064,
          72.44117647058823,
          75.45454545454545,
          2.8666666666666667,
          47.94117647058823,
          43.08695652173913,
          43.03225806451613,
          53,
          47.87096774193548,
          14.15625,
          38,
          87.3529411764706,
          14.333333333333334,
          76.84615384615384,
          10.03225806451613,
          12.44,
          8.5,
          3.5806451612903225,
          31.375,
          20.033333333333335,
          54,
          9.8,
          89.2,
          25,
          84.05882352941177,
          92.34375,
          55.857142857142854,
          31.1,
          36.06666666666667,
          83.81818181818181,
          28.708333333333332,
          8.058823529411764,
          70.60606060606061,
          20.416666666666668,
          42.1578947368421,
          51,
          40.166666666666664,
          65.28571428571429,
          77.03333333333333,
          1,
          20.657894736842106,
          12.875,
          55.06666666666667,
          17.2,
          49.666666666666664,
          44.3,
          15.5,
          17.9,
          81.33333333333333,
          6,
          34.86666666666667,
          87.2,
          33.72222222222222,
          55.8,
          19,
          27.11111111111111,
          21.285714285714285,
          81.0625,
          38.2,
          13,
          48,
          27.6,
          87.9,
          21.666666666666668,
          81.42857142857143,
          17,
          72,
          86.75,
          68,
          71,
          25.5,
          43,
          69,
          78,
          35.25,
          20.5,
          70,
          71.5,
          31.5,
          90,
          25,
          63,
          24.5,
          19,
          38,
          90,
          92.69047619047619,
          70,
          87.8529411764706,
          84.72222222222223,
          80.72222222222223,
          73.5,
          77.27272727272727,
          43,
          78,
          93.64102564102564,
          22,
          18.852941176470587,
          77,
          20.483870967741936,
          36.121212121212125,
          12,
          27,
          94.93939393939394,
          37.729729729729726,
          64.375,
          18.727272727272727,
          38.22857142857143,
          98,
          34,
          86.73529411764706,
          80.12903225806451,
          98.88888888888889,
          40.026315789473685,
          83.7741935483871,
          34.189189189189186,
          27.783783783783782,
          89.5,
          68.96666666666667,
          80,
          45.5,
          99.5,
          14,
          94.58064516129032,
          26.1,
          76.08333333333333,
          29.470588235294116,
          86.6774193548387,
          31.78125,
          17.142857142857142,
          61.63333333333333,
          31.272727272727273,
          22.263157894736842,
          57.869565217391305,
          74.61111111111111,
          34,
          100.6,
          44.58064516129032,
          40.233333333333334,
          41.91304347826087,
          96.33333333333333,
          37.5,
          19.625,
          30.764705882352942,
          69.5,
          32.60606060606061,
          27.666666666666668,
          29.1,
          8.823529411764707,
          4.25,
          102.6923076923077,
          18.666666666666668,
          93.73684210526316,
          2.25,
          6,
          104,
          35,
          105,
          93.33333333333333,
          99,
          90,
          15.727272727272727,
          79.75757575757575,
          60.9,
          9.714285714285714,
          48.891891891891895,
          58.05714285714286,
          46.166666666666664,
          46.77777777777778,
          26,
          32,
          99.5,
          37.25,
          113.38095238095238,
          11.6,
          36,
          46,
          28,
          13,
          101,
          105,
          81,
          103,
          78.5,
          1,
          97.94594594594595,
          107.93333333333334,
          81.2,
          91,
          102.75,
          97.6470588235294,
          96.63888888888889,
          96.56666666666666,
          104.84615384615384,
          91.85,
          93.18181818181819,
          84.61538461538461,
          89.51612903225806,
          108.95,
          120.35483870967742,
          104.12903225806451,
          70.06666666666666,
          103.0625,
          82.82857142857142,
          122.66666666666667,
          97.59375,
          119.63333333333334,
          62.78125,
          111.97142857142858,
          122.7,
          86.84375,
          104.3125,
          80.125,
          74.25,
          121.94594594594595,
          88.66666666666667,
          123.9,
          109.8,
          88,
          71.34285714285714,
          121.77272727272727,
          117.125,
          118.33333333333333,
          68.5,
          85.57142857142857,
          100.5,
          119.6875,
          114.42857142857143,
          117.27272727272727,
          105.10526315789474,
          77.55555555555556,
          123.375,
          76.85714285714286,
          115.78571428571429
         ],
         "yaxis": "y"
        },
        {
         "hovertemplate": "color=dots_OFF<br>x=%{x}<br>y=%{y}<br>size=%{marker.size}<extra></extra>",
         "legendgroup": "dots_OFF",
         "marker": {
          "color": "#00cc96",
          "opacity": [
           0.9761904761904762,
           0.9285714285714286,
           0.9761904761904762,
           0.7619047619047619,
           0.9761904761904762,
           0.7380952380952381,
           0.7857142857142857,
           0.023809523809523808,
           0.8571428571428571,
           0.7857142857142857,
           0.9761904761904762,
           0.9285714285714286,
           0.8809523809523809,
           0.8095238095238095,
           0.9761904761904762,
           0.8333333333333334,
           0.9047619047619048,
           0.023809523809523808,
           0.9285714285714286,
           0.8333333333333334,
           0.9047619047619048,
           0.023809523809523808,
           0.7142857142857143,
           0.7857142857142857,
           0.7857142857142857,
           0.8333333333333334,
           0.7142857142857143,
           0.7857142857142857,
           0.023809523809523808,
           0.7142857142857143,
           0.8333333333333334,
           0.7142857142857143,
           0.7857142857142857,
           0.7857142857142857,
           0.7857142857142857,
           0.7619047619047619,
           0.9285714285714286,
           0.9047619047619048,
           0.7380952380952381,
           0.8095238095238095,
           0.8095238095238095,
           0.7380952380952381,
           0.7380952380952381,
           0.8095238095238095,
           0.6190476190476191,
           0.19047619047619047,
           0.5,
           0.2619047619047619,
           0.7142857142857143,
           0.5714285714285714,
           0.4523809523809524,
           0.30952380952380953,
           0.7142857142857143,
           0.16666666666666666,
           0.7142857142857143,
           0.38095238095238093,
           0.23809523809523808,
           0.023809523809523808,
           0.023809523809523808,
           0.9761904761904762,
           0.9285714285714286,
           0.9761904761904762,
           0.9761904761904762,
           0.7619047619047619,
           0.9761904761904762,
           0.9761904761904762,
           0.7380952380952381,
           0.9047619047619048,
           0.8333333333333334,
           0.7857142857142857,
           0.023809523809523808,
           0.8571428571428571,
           0.7857142857142857,
           0.023809523809523808,
           0.9761904761904762,
           0.7380952380952381,
           0.9285714285714286,
           0.023809523809523808,
           0.8571428571428571,
           0.8809523809523809,
           0.8095238095238095,
           0.9761904761904762,
           0.8333333333333334,
           0.8571428571428571,
           0.9047619047619048,
           0.023809523809523808,
           0.9285714285714286,
           0.8333333333333334,
           0.9761904761904762,
           0.9047619047619048,
           0.023809523809523808,
           0.7142857142857143,
           0.8333333333333334,
           0.7857142857142857,
           0.7142857142857143,
           0.7857142857142857,
           0.7619047619047619,
           0.8333333333333334,
           0.9523809523809523,
           0.7142857142857143,
           0.7857142857142857,
           0.023809523809523808,
           0.023809523809523808,
           0.7142857142857143,
           0.9523809523809523,
           0.8333333333333334,
           0.7142857142857143,
           0.7380952380952381,
           0.7857142857142857,
           0.7857142857142857,
           0.8095238095238095,
           0.7857142857142857,
           0.023809523809523808,
           0.7619047619047619,
           0.8571428571428571,
           0.7142857142857143,
           0.7619047619047619,
           0.8571428571428571,
           0.7857142857142857,
           0.9285714285714286,
           0.9047619047619048,
           0.023809523809523808,
           0.7380952380952381,
           0.8095238095238095,
           0.7857142857142857,
           0.7142857142857143,
           0.8095238095238095,
           0.5476190476190477,
           0.7380952380952381,
           0.023809523809523808,
           0.7380952380952381,
           0.7619047619047619,
           0.023809523809523808,
           0.8095238095238095,
           0.7142857142857143,
           0.6190476190476191,
           0.7380952380952381,
           0.5952380952380952,
           0.19047619047619047,
           0.7380952380952381,
           0.19047619047619047,
           0.7142857142857143,
           0.023809523809523808,
           0.5952380952380952,
           0.7142857142857143,
           0.7142857142857143,
           0.8095238095238095,
           0.7619047619047619,
           0.5,
           0.7142857142857143,
           0.7142857142857143,
           0.2619047619047619,
           0.5714285714285714,
           0.40476190476190477,
           0.7857142857142857,
           0.5714285714285714,
           0.4523809523809524,
           0.023809523809523808,
           0.7142857142857143,
           0.16666666666666666,
           0.7142857142857143,
           0.023809523809523808,
           0.9047619047619048,
           0.19047619047619047,
           0.35714285714285715,
           0.35714285714285715,
           0.07142857142857142,
           0.23809523809523808,
           0.09523809523809523,
           0.23809523809523808,
           0.2857142857142857,
           0.023809523809523808,
           0.7142857142857143,
           0.5952380952380952,
           0.42857142857142855,
           0.11904761904761904,
           0.2619047619047619,
           0.21428571428571427,
           0.16666666666666666,
           0.38095238095238093,
           0.11904761904761904,
           0.21428571428571427,
           0.023809523809523808,
           0.11904761904761904,
           0.23809523809523808,
           0.07142857142857142,
           0.3333333333333333,
           0.11904761904761904,
           0.023809523809523808,
           0.19047619047619047,
           0.023809523809523808,
           0.023809523809523808,
           0.09523809523809523,
           0.023809523809523808,
           0.047619047619047616,
           0.023809523809523808,
           0.09523809523809523,
           0.09523809523809523,
           0.023809523809523808,
           0.09523809523809523,
           0.047619047619047616,
           0.047619047619047616,
           0.047619047619047616,
           0.023809523809523808,
           0.047619047619047616,
           0.023809523809523808,
           0.023809523809523808,
           0.9285714285714286,
           0.7380952380952381,
           0.7857142857142857,
           0.8809523809523809,
           0.9761904761904762,
           0.8333333333333334,
           0.9285714285714286,
           0.9047619047619048,
           0.7142857142857143,
           0.8333333333333334,
           0.023809523809523808,
           0.7142857142857143,
           0.8333333333333334,
           0.7142857142857143,
           0.7857142857142857,
           0.7857142857142857,
           0.7857142857142857,
           0.023809523809523808,
           0.023809523809523808,
           0.7380952380952381,
           0.8095238095238095,
           0.023809523809523808,
           0.7380952380952381,
           0.19047619047619047,
           0.023809523809523808,
           0.4523809523809524,
           0.16666666666666666,
           0.35714285714285715,
           0.23809523809523808,
           0.11904761904761904,
           0.023809523809523808,
           0.023809523809523808,
           0.09523809523809523,
           0.09523809523809523,
           0.9285714285714286,
           0.9761904761904762,
           0.8809523809523809,
           0.9761904761904762,
           0.9761904761904762,
           0.9761904761904762,
           0.7380952380952381,
           0.8333333333333334,
           0.7857142857142857,
           0.9047619047619048,
           0.8571428571428571,
           0.7857142857142857,
           0.9285714285714286,
           0.023809523809523808,
           0.9761904761904762,
           0.7380952380952381,
           0.9285714285714286,
           0.8571428571428571,
           0.8809523809523809,
           0.8095238095238095,
           0.9761904761904762,
           0.8333333333333334,
           0.8571428571428571,
           0.9047619047619048,
           0.023809523809523808,
           0.9285714285714286,
           0.8333333333333334,
           0.9761904761904762,
           0.9047619047619048,
           0.023809523809523808,
           0.7142857142857143,
           0.8333333333333334,
           0.7857142857142857,
           0.7142857142857143,
           0.7857142857142857,
           0.7619047619047619,
           0.8333333333333334,
           0.9523809523809523,
           0.7142857142857143,
           0.7857142857142857,
           0.023809523809523808,
           0.023809523809523808,
           0.7142857142857143,
           0.9523809523809523,
           0.9047619047619048,
           0.8333333333333334,
           0.7142857142857143,
           0.7380952380952381,
           0.7142857142857143,
           0.7857142857142857,
           0.7857142857142857,
           0.8095238095238095,
           0.7857142857142857,
           0.7619047619047619,
           0.7142857142857143,
           0.7619047619047619,
           0.8571428571428571,
           0.7857142857142857,
           0.9285714285714286,
           0.9047619047619048,
           0.7380952380952381,
           0.8095238095238095,
           0.7857142857142857,
           0.7142857142857143,
           0.8095238095238095,
           0.7380952380952381,
           0.7380952380952381,
           0.7619047619047619,
           0.8095238095238095,
           0.7142857142857143,
           0.6190476190476191,
           0.7380952380952381,
           0.5952380952380952,
           0.19047619047619047,
           0.7380952380952381,
           0.19047619047619047,
           0.7142857142857143,
           0.5952380952380952,
           0.7142857142857143,
           0.7142857142857143,
           0.5,
           0.7380952380952381,
           0.5714285714285714,
           0.40476190476190477,
           0.5714285714285714,
           0.4523809523809524,
           0.7142857142857143,
           0.047619047619047616,
           0.16666666666666666,
           0.7142857142857143,
           0.9047619047619048,
           0.19047619047619047,
           0.35714285714285715,
           0.23809523809523808,
           0.09523809523809523,
           0.11904761904761904,
           0.5952380952380952,
           0.2619047619047619,
           0.023809523809523808,
           0.21428571428571427,
           0.23809523809523808,
           0.023809523809523808,
           0.047619047619047616,
           0.09523809523809523,
           0.09523809523809523,
           0.023809523809523808,
           0.9761904761904762,
           1,
           0.9761904761904762,
           0.8095238095238095,
           0.8571428571428571,
           0.8571428571428571,
           0.7619047619047619,
           0.7857142857142857,
           0.023809523809523808,
           0.9285714285714286,
           0.023809523809523808,
           0.7857142857142857,
           0.7619047619047619,
           0.9285714285714286,
           0.8095238095238095,
           0.7380952380952381,
           0.8571428571428571,
           0.7380952380952381,
           0.7619047619047619,
           0.7142857142857143,
           0.023809523809523808,
           0.7142857142857143,
           0.9285714285714286,
           0.5714285714285714,
           0.7380952380952381,
           0.7142857142857143,
           0.42857142857142855,
           0.40476190476190477,
           0.07142857142857142,
           0.07142857142857142,
           0.14285714285714285,
           0.30952380952380953,
           0.4523809523809524,
           0.023809523809523808,
           0.023809523809523808,
           0.047619047619047616,
           0.9761904761904762,
           1,
           0.9761904761904762,
           0.8095238095238095,
           0.8571428571428571,
           0.8571428571428571,
           0.7619047619047619,
           0.7857142857142857,
           0.9761904761904762,
           0.023809523809523808,
           0.9285714285714286,
           0.9761904761904762,
           0.8095238095238095,
           0.023809523809523808,
           0.7380952380952381,
           0.7857142857142857,
           0.9285714285714286,
           0.8809523809523809,
           0.7857142857142857,
           0.8809523809523809,
           0.7619047619047619,
           0.7857142857142857,
           0.8333333333333334,
           0.9285714285714286,
           0.9761904761904762,
           0.8095238095238095,
           0.7380952380952381,
           0.8571428571428571,
           0.9047619047619048,
           0.7380952380952381,
           0.8809523809523809,
           0.8809523809523809,
           0.7619047619047619,
           0.7142857142857143,
           0.023809523809523808,
           0.23809523809523808,
           0.7142857142857143,
           0.9285714285714286,
           0.7380952380952381,
           0.9523809523809523,
           0.5714285714285714,
           0.40476190476190477,
           0.7380952380952381,
           0.7619047619047619,
           0.8333333333333334,
           0.7142857142857143,
           0.7857142857142857,
           0.9047619047619048,
           0.5476190476190477,
           0.42857142857142855,
           0.023809523809523808,
           0.7142857142857143,
           0.7380952380952381,
           0.7142857142857143,
           0.5476190476190477,
           0.07142857142857142,
           0.14285714285714285,
           0.7619047619047619,
           0.40476190476190477,
           0.14285714285714285,
           0.7857142857142857,
           0.07142857142857142,
           0.7142857142857143,
           0.40476190476190477,
           0.09523809523809523,
           0.30952380952380953,
           0.21428571428571427,
           0.4523809523809524,
           0.38095238095238093,
           0.14285714285714285,
           0.07142857142857142,
           0.023809523809523808,
           0.19047619047619047,
           0.07142857142857142,
           0.047619047619047616,
           0.023809523809523808,
           0.7857142857142857,
           0.7857142857142857,
           0.7142857142857143,
           0.3333333333333333,
           0.8809523809523809,
           0.8333333333333334,
           0.7142857142857143,
           0.21428571428571427,
           0.14285714285714285,
           0.023809523809523808,
           0.047619047619047616,
           0.09523809523809523,
           0.5,
           0.11904761904761904,
           0.023809523809523808,
           0.14285714285714285,
           0.023809523809523808,
           0.023809523809523808,
           0.023809523809523808,
           0.023809523809523808,
           0.023809523809523808,
           0.023809523809523808,
           0.047619047619047616,
           0.023809523809523808,
           0.7619047619047619,
           0.9761904761904762,
           1,
           0.9761904761904762,
           0.8095238095238095,
           0.8571428571428571,
           0.8571428571428571,
           0.7619047619047619,
           0.7857142857142857,
           0.9761904761904762,
           0.9761904761904762,
           0.8095238095238095,
           0.9285714285714286,
           0.9285714285714286,
           0.9761904761904762,
           0.4523809523809524,
           0.8095238095238095,
           0.7857142857142857,
           0.7380952380952381,
           0.7380952380952381,
           0.9285714285714286,
           0.7857142857142857,
           0.8809523809523809,
           0.8095238095238095,
           0.8333333333333334,
           0.9285714285714286,
           0.8571428571428571,
           0.9047619047619048,
           0.8571428571428571,
           0.23809523809523808,
           0.9285714285714286,
           0.7380952380952381,
           0.9523809523809523,
           0.5714285714285714,
           0.047619047619047616,
           0.7380952380952381,
           0.8333333333333334,
           0.8809523809523809,
           0.7142857142857143,
           0.7142857142857143,
           0.7380952380952381,
           0.38095238095238093,
           0.4523809523809524,
           0.09523809523809523,
           0.047619047619047616,
           0.023809523809523808,
           0.9761904761904762,
           1,
           0.9761904761904762,
           0.8095238095238095,
           0.8571428571428571,
           0.8571428571428571,
           1,
           0.7619047619047619,
           0.9761904761904762,
           0.7857142857142857,
           0.9761904761904762,
           0.9761904761904762,
           0.9761904761904762,
           0.8095238095238095,
           0.9285714285714286,
           0.9047619047619048,
           0.9285714285714286,
           0.9761904761904762,
           0.8095238095238095,
           0.7857142857142857,
           0.7380952380952381,
           0.8809523809523809,
           0.7857142857142857,
           0.9285714285714286,
           0.8809523809523809,
           0.7857142857142857,
           0.8809523809523809,
           0.7619047619047619,
           0.8571428571428571,
           0.7857142857142857,
           0.8095238095238095,
           0.8333333333333334,
           0.9285714285714286,
           0.9761904761904762,
           0.7380952380952381,
           0.8571428571428571,
           0.9047619047619048,
           0.7380952380952381,
           0.8809523809523809,
           0.8809523809523809,
           0.8571428571428571,
           0.7619047619047619,
           0.7142857142857143,
           0.23809523809523808,
           0.9285714285714286,
           0.7380952380952381,
           0.9523809523809523,
           0.5714285714285714,
           0.7619047619047619,
           0.7380952380952381,
           0.7619047619047619,
           0.8333333333333334,
           0.7380952380952381,
           0.5476190476190477,
           0.7857142857142857,
           0.7857142857142857,
           0.9047619047619048,
           0.35714285714285715,
           0.42857142857142855,
           0.8333333333333334,
           0.7142857142857143,
           0.7142857142857143,
           0.23809523809523808,
           0.7619047619047619,
           0.40476190476190477,
           0.7857142857142857,
           0.7380952380952381,
           0.7142857142857143,
           0.14285714285714285,
           0.16666666666666666,
           0.023809523809523808,
           0.21428571428571427,
           0.16666666666666666,
           0.7619047619047619,
           0.7619047619047619,
           0.7380952380952381,
           0.7857142857142857,
           0.6904761904761905,
           0.8809523809523809,
           0.8095238095238095,
           0.3333333333333333,
           0.4523809523809524,
           0.09523809523809523,
           0.5238095238095238,
           0.5952380952380952,
           0.42857142857142855,
           0.023809523809523808,
           0.8809523809523809,
           0.7142857142857143,
           0.7142857142857143,
           0.9761904761904762,
           0.8571428571428571,
           0.8095238095238095,
           0.8571428571428571,
           0.7142857142857143,
           0.9285714285714286,
           0.9523809523809523,
           0.9047619047619048,
           0.7857142857142857,
           0.7380952380952381,
           0.7380952380952381,
           0.7380952380952381,
           0.8333333333333334,
           0.8095238095238095,
           0.35714285714285715,
           0.7619047619047619,
           0.30952380952380953,
           0.8333333333333334,
           0.7857142857142857,
           0.7619047619047619,
           0.7142857142857143,
           0.7380952380952381,
           0.7142857142857143,
           0.7619047619047619,
           0.7619047619047619,
           0.7619047619047619,
           0.19047619047619047,
           0.7380952380952381,
           0.8571428571428571,
           0.7380952380952381,
           0.14285714285714285,
           0.16666666666666666,
           0.023809523809523808,
           0.7142857142857143,
           0.47619047619047616,
           0.11904761904761904,
           0.40476190476190477,
           0.2857142857142857,
           0.7619047619047619,
           0.07142857142857142,
           0.16666666666666666,
           0.047619047619047616,
           0.4523809523809524,
           0.2619047619047619,
           0.4523809523809524,
           0.21428571428571427,
           0.09523809523809523,
           0.16666666666666666,
           0.07142857142857142,
           0.023809523809523808,
           0.023809523809523808,
           0.8809523809523809,
           0.7142857142857143,
           0.7142857142857143,
           0.9761904761904762,
           0.8571428571428571,
           0.8095238095238095,
           0.8571428571428571,
           0.7142857142857143,
           0.9285714285714286,
           0.9523809523809523,
           0.7857142857142857,
           0.30952380952380953,
           0.7380952380952381,
           0.9523809523809523,
           0.7380952380952381,
           0.7380952380952381,
           0.35714285714285715,
           0.7619047619047619,
           0.8333333333333334,
           0.7857142857142857,
           0.7619047619047619,
           0.7142857142857143,
           0.7619047619047619,
           0.8333333333333334,
           0.7142857142857143,
           0.7619047619047619,
           0.7619047619047619,
           0.7619047619047619,
           0.19047619047619047,
           0.8809523809523809,
           0.7142857142857143,
           0.7142857142857143,
           0.47619047619047616,
           0.11904761904761904,
           0.8333333333333334,
           0.5238095238095238,
           0.7619047619047619,
           0.14285714285714285,
           0.5714285714285714,
           0.16666666666666666,
           0.047619047619047616,
           0.38095238095238093,
           0.16666666666666666,
           0.2619047619047619,
           0.4523809523809524,
           0.21428571428571427,
           0.19047619047619047,
           0.16666666666666666,
           0.3333333333333333,
           0.9761904761904762,
           0.9285714285714286,
           0.9761904761904762,
           0.8095238095238095,
           0.9761904761904762,
           0.7857142857142857,
           0.7857142857142857,
           0.9761904761904762,
           1,
           0.8571428571428571,
           0.8809523809523809,
           0.8571428571428571,
           0.9285714285714286,
           0.8571428571428571,
           0.7142857142857143,
           0.8333333333333334,
           0.9047619047619048,
           0.7380952380952381,
           0.7142857142857143,
           0.7380952380952381,
           0.5952380952380952,
           0.7380952380952381,
           0.8571428571428571,
           0.7857142857142857,
           0.8095238095238095,
           0.9523809523809523,
           0.7142857142857143,
           0.023809523809523808,
           0.7857142857142857,
           0.9285714285714286,
           0.7380952380952381,
           0.9523809523809523,
           0.8333333333333334,
           0.7142857142857143,
           0.7380952380952381,
           0.8333333333333334,
           0.7142857142857143,
           0.16666666666666666,
           0.19047619047619047,
           0.8095238095238095,
           0.35714285714285715,
           0.16666666666666666,
           0.7619047619047619,
           0.8333333333333334,
           0.30952380952380953,
           0.7619047619047619,
           0.7619047619047619,
           0.7857142857142857,
           0.7380952380952381,
           0.7142857142857143,
           0.8095238095238095,
           0.7619047619047619,
           0.7619047619047619,
           0.7380952380952381,
           0.8571428571428571,
           0.8333333333333334,
           0.7380952380952381,
           0.7142857142857143,
           0.7619047619047619,
           0.7619047619047619,
           0.9047619047619048,
           0.8333333333333334,
           0.47619047619047616,
           0.7142857142857143,
           0.023809523809523808,
           0.40476190476190477,
           0.40476190476190477,
           0.2857142857142857,
           0.7619047619047619,
           0.5,
           0.21428571428571427,
           0.047619047619047616,
           0.14285714285714285,
           0.16666666666666666,
           0.16666666666666666,
           0.19047619047619047,
           0.07142857142857142,
           0.047619047619047616,
           0.07142857142857142,
           0.07142857142857142,
           0.023809523809523808,
           0.023809523809523808,
           0.047619047619047616,
           0.047619047619047616,
           0.023809523809523808,
           0.023809523809523808
          ],
          "size": [
           1.5651912689208984,
           1.1679401397705078,
           4.072203159332275,
           2.4911553859710693,
           1.718026876449585,
           1.5286555290222168,
           2.198660373687744,
           5.464456081390381,
           2.3110437393188477,
           2.7190651893615723,
           1.1102995872497559,
           2.3965673446655273,
           4.4692792892456055,
           3.22605562210083,
           3.246431350708008,
           4.906707763671875,
           2.827719211578369,
           1.3502655029296875,
           2.102039337158203,
           1.4937858581542969,
           2.125858783721924,
           1.550112247467041,
           1.24860417842865,
           2.906149387359619,
           1.3928725719451904,
           1.718754529953003,
           1.3063610792160034,
           3.1319375038146973,
           2.6165032386779785,
           1.3304508924484253,
           1.5530060529708862,
           1.7092258930206299,
           3.055340051651001,
           1.9313340187072754,
           1.7779568433761597,
           1.9430121183395386,
           2.211878776550293,
           1.2120343446731567,
           2.2313060760498047,
           1.5009710788726807,
           1.755415678024292,
           1.362321138381958,
           1.298011064529419,
           1.6483012437820435,
           1.9580132961273193,
           1.459398627281189,
           1.7314643859863281,
           1.7317622900009155,
           1.36711847782135,
           2.2565317153930664,
           1.331512451171875,
           1.5581109523773193,
           1.6469595432281494,
           1.9297592639923096,
           1.579416275024414,
           1.5923185348510742,
           1.6741055250167847,
           2.142110824584961,
           1.8715276718139648,
           2.4606947898864746,
           2.572545051574707,
           1.5887221097946167,
           1.4818856716156006,
           1.5557576417922974,
           1.3750693798065186,
           1.3023813962936401,
           1.6120164394378662,
           2.2493796348571777,
           1.4132263660430908,
           1.9375360012054443,
           2.457432746887207,
           1.8869495391845703,
           1.83092200756073,
           1.9910860061645508,
           1.899452805519104,
           1.2658326625823975,
           2.505214214324951,
           1.4541029930114746,
           0.9982364773750305,
           1.1519967317581177
          ],
          "sizemode": "area",
          "sizeref": 0.0380750846862793,
          "symbol": "circle"
         },
         "mode": "markers",
         "name": "dots_OFF",
         "orientation": "v",
         "showlegend": true,
         "type": "scatter",
         "x": [
          248.7948717948718,
          260.1290322580645,
          269.27272727272725,
          265.8378378378378,
          273,
          247.42857142857142,
          268,
          258.92105263157896,
          273.43333333333334,
          275.1714285714286,
          246,
          251.5,
          269.3142857142857,
          278.9,
          264.6666666666667,
          274,
          266.27272727272725,
          263,
          264,
          255.25806451612902,
          278.7647058823529,
          271,
          289.741935483871,
          273.25,
          270,
          280.8421052631579,
          262.2857142857143,
          285.6,
          274.3,
          284.8,
          272,
          277,
          278,
          252,
          119.96875,
          241,
          236.02380952380952,
          266,
          246.2941176470588,
          250.27777777777777,
          254.27777777777777,
          261.5,
          258.72727272727275,
          286,
          317,
          292.9117647058824,
          230.7948717948718,
          328,
          311,
          155.21052631578948,
          306.70588235294116,
          303.72727272727275,
          300.1290322580645,
          322.64516129032256,
          309,
          246.5151515151515,
          313.8378378378378,
          331.1470588235294,
          321.1142857142857,
          228,
          221.30555555555554,
          335.10526315789474,
          288.69444444444446,
          311.5,
          318,
          220.38709677419354,
          317.75,
          267.625,
          308.5,
          256.80645161290323,
          295.0857142857143,
          349.9189189189189,
          338.7,
          214.66666666666666,
          353.8709677419355,
          345.5625,
          251.68421052631578,
          374.75,
          243.5,
          259
         ],
         "xaxis": "x",
         "y": [
          56.64102564102564,
          44.16129032258065,
          39.72727272727273,
          60.729729729729726,
          56,
          69.11428571428571,
          32.82051282051282,
          61.13157894736842,
          62.2,
          50.57142857142857,
          65,
          66,
          48.74285714285714,
          58.53333333333333,
          69.03030303030303,
          37.696969696969695,
          55.39393939393939,
          53,
          52,
          64.16129032258064,
          47.94117647058823,
          53,
          47.87096774193548,
          31.375,
          54,
          42.1578947368421,
          65.28571428571429,
          55.06666666666667,
          44.3,
          38.2,
          48,
          43,
          35.25,
          71.5,
          87.0625,
          90,
          92.69047619047619,
          70,
          87.8529411764706,
          84.72222222222223,
          80.72222222222223,
          73.5,
          77.27272727272727,
          23,
          43,
          24.61764705882353,
          93.64102564102564,
          46.84615384615385,
          22,
          37.05263157894737,
          18.852941176470587,
          15.727272727272727,
          20.483870967741936,
          45.29032258064516,
          12,
          94.93939393939394,
          37.729729729729726,
          42.705882352941174,
          38.22857142857143,
          98,
          98.88888888888889,
          40.026315789473685,
          17.833333333333332,
          45.5,
          14,
          94.58064516129032,
          26.1,
          76.08333333333333,
          55,
          86.6774193548387,
          17.142857142857142,
          48.891891891891895,
          46.166666666666664,
          100.6,
          44.58064516129032,
          46.1875,
          93.73684210526316,
          52.75,
          99,
          90
         ],
         "yaxis": "y"
        },
        {
         "hovertemplate": "color=loom<br>x=%{x}<br>y=%{y}<br>size=%{marker.size}<extra></extra>",
         "legendgroup": "loom",
         "marker": {
          "color": "#ab63fa",
          "opacity": [
           0.9761904761904762,
           0.9285714285714286,
           0.9761904761904762,
           0.7619047619047619,
           0.9761904761904762,
           0.7380952380952381,
           0.7857142857142857,
           0.023809523809523808,
           0.8571428571428571,
           0.7857142857142857,
           0.9761904761904762,
           0.9285714285714286,
           0.8809523809523809,
           0.8095238095238095,
           0.9761904761904762,
           0.8333333333333334,
           0.9047619047619048,
           0.023809523809523808,
           0.9285714285714286,
           0.8333333333333334,
           0.9047619047619048,
           0.023809523809523808,
           0.7142857142857143,
           0.7857142857142857,
           0.7857142857142857,
           0.8333333333333334,
           0.7142857142857143,
           0.7857142857142857,
           0.023809523809523808,
           0.7142857142857143,
           0.8333333333333334,
           0.7142857142857143,
           0.7857142857142857,
           0.7857142857142857,
           0.7857142857142857,
           0.7619047619047619,
           0.9285714285714286,
           0.9047619047619048,
           0.7380952380952381,
           0.8095238095238095,
           0.8095238095238095,
           0.7380952380952381,
           0.7380952380952381,
           0.8095238095238095,
           0.6190476190476191,
           0.19047619047619047,
           0.5,
           0.2619047619047619,
           0.7142857142857143,
           0.5714285714285714,
           0.4523809523809524,
           0.30952380952380953,
           0.7142857142857143,
           0.16666666666666666,
           0.7142857142857143,
           0.38095238095238093,
           0.23809523809523808,
           0.023809523809523808,
           0.023809523809523808,
           0.9761904761904762,
           0.9285714285714286,
           0.9761904761904762,
           0.9761904761904762,
           0.7619047619047619,
           0.9761904761904762,
           0.9761904761904762,
           0.7380952380952381,
           0.9047619047619048,
           0.8333333333333334,
           0.7857142857142857,
           0.023809523809523808,
           0.8571428571428571,
           0.7857142857142857,
           0.023809523809523808,
           0.9761904761904762,
           0.7380952380952381,
           0.9285714285714286,
           0.023809523809523808,
           0.8571428571428571,
           0.8809523809523809,
           0.8095238095238095,
           0.9761904761904762,
           0.8333333333333334,
           0.8571428571428571,
           0.9047619047619048,
           0.023809523809523808,
           0.9285714285714286,
           0.8333333333333334,
           0.9761904761904762,
           0.9047619047619048,
           0.023809523809523808,
           0.7142857142857143,
           0.8333333333333334,
           0.7857142857142857,
           0.7142857142857143,
           0.7857142857142857,
           0.7619047619047619,
           0.8333333333333334,
           0.9523809523809523,
           0.7142857142857143,
           0.7857142857142857,
           0.023809523809523808,
           0.023809523809523808,
           0.7142857142857143,
           0.9523809523809523,
           0.8333333333333334,
           0.7142857142857143,
           0.7380952380952381,
           0.7857142857142857,
           0.7857142857142857,
           0.8095238095238095,
           0.7857142857142857,
           0.023809523809523808,
           0.7619047619047619,
           0.8571428571428571,
           0.7142857142857143,
           0.7619047619047619,
           0.8571428571428571,
           0.7857142857142857,
           0.9285714285714286,
           0.9047619047619048,
           0.023809523809523808,
           0.7380952380952381,
           0.8095238095238095,
           0.7857142857142857,
           0.7142857142857143,
           0.8095238095238095,
           0.5476190476190477,
           0.7380952380952381,
           0.023809523809523808,
           0.7380952380952381,
           0.7619047619047619,
           0.023809523809523808,
           0.8095238095238095,
           0.7142857142857143,
           0.6190476190476191,
           0.7380952380952381,
           0.5952380952380952,
           0.19047619047619047,
           0.7380952380952381,
           0.19047619047619047,
           0.7142857142857143,
           0.023809523809523808,
           0.5952380952380952,
           0.7142857142857143,
           0.7142857142857143,
           0.8095238095238095,
           0.7619047619047619,
           0.5,
           0.7142857142857143,
           0.7142857142857143,
           0.2619047619047619,
           0.5714285714285714,
           0.40476190476190477,
           0.7857142857142857,
           0.5714285714285714,
           0.4523809523809524,
           0.023809523809523808,
           0.7142857142857143,
           0.16666666666666666,
           0.7142857142857143,
           0.023809523809523808,
           0.9047619047619048,
           0.19047619047619047,
           0.35714285714285715,
           0.35714285714285715,
           0.07142857142857142,
           0.23809523809523808,
           0.09523809523809523,
           0.23809523809523808,
           0.2857142857142857,
           0.023809523809523808,
           0.7142857142857143,
           0.5952380952380952,
           0.42857142857142855,
           0.11904761904761904,
           0.2619047619047619,
           0.21428571428571427,
           0.16666666666666666,
           0.38095238095238093,
           0.11904761904761904,
           0.21428571428571427,
           0.023809523809523808,
           0.11904761904761904,
           0.23809523809523808,
           0.07142857142857142,
           0.3333333333333333,
           0.11904761904761904,
           0.023809523809523808,
           0.19047619047619047,
           0.023809523809523808,
           0.023809523809523808,
           0.09523809523809523,
           0.023809523809523808,
           0.047619047619047616,
           0.023809523809523808,
           0.09523809523809523,
           0.09523809523809523,
           0.023809523809523808,
           0.09523809523809523,
           0.047619047619047616,
           0.047619047619047616,
           0.047619047619047616,
           0.023809523809523808,
           0.047619047619047616,
           0.023809523809523808,
           0.023809523809523808,
           0.9285714285714286,
           0.7380952380952381,
           0.7857142857142857,
           0.8809523809523809,
           0.9761904761904762,
           0.8333333333333334,
           0.9285714285714286,
           0.9047619047619048,
           0.7142857142857143,
           0.8333333333333334,
           0.023809523809523808,
           0.7142857142857143,
           0.8333333333333334,
           0.7142857142857143,
           0.7857142857142857,
           0.7857142857142857,
           0.7857142857142857,
           0.023809523809523808,
           0.023809523809523808,
           0.7380952380952381,
           0.8095238095238095,
           0.023809523809523808,
           0.7380952380952381,
           0.19047619047619047,
           0.023809523809523808,
           0.4523809523809524,
           0.16666666666666666,
           0.35714285714285715,
           0.23809523809523808,
           0.11904761904761904,
           0.023809523809523808,
           0.023809523809523808,
           0.09523809523809523,
           0.09523809523809523,
           0.9285714285714286,
           0.9761904761904762,
           0.8809523809523809,
           0.9761904761904762,
           0.9761904761904762,
           0.9761904761904762,
           0.7380952380952381,
           0.8333333333333334,
           0.7857142857142857,
           0.9047619047619048,
           0.8571428571428571,
           0.7857142857142857,
           0.9285714285714286,
           0.023809523809523808,
           0.9761904761904762,
           0.7380952380952381,
           0.9285714285714286,
           0.8571428571428571,
           0.8809523809523809,
           0.8095238095238095,
           0.9761904761904762,
           0.8333333333333334,
           0.8571428571428571,
           0.9047619047619048,
           0.023809523809523808,
           0.9285714285714286,
           0.8333333333333334,
           0.9761904761904762,
           0.9047619047619048,
           0.023809523809523808,
           0.7142857142857143,
           0.8333333333333334,
           0.7857142857142857,
           0.7142857142857143,
           0.7857142857142857,
           0.7619047619047619,
           0.8333333333333334,
           0.9523809523809523,
           0.7142857142857143,
           0.7857142857142857,
           0.023809523809523808,
           0.023809523809523808,
           0.7142857142857143,
           0.9523809523809523,
           0.9047619047619048,
           0.8333333333333334,
           0.7142857142857143,
           0.7380952380952381,
           0.7142857142857143,
           0.7857142857142857,
           0.7857142857142857,
           0.8095238095238095,
           0.7857142857142857,
           0.7619047619047619,
           0.7142857142857143,
           0.7619047619047619,
           0.8571428571428571,
           0.7857142857142857,
           0.9285714285714286,
           0.9047619047619048,
           0.7380952380952381,
           0.8095238095238095,
           0.7857142857142857,
           0.7142857142857143,
           0.8095238095238095,
           0.7380952380952381,
           0.7380952380952381,
           0.7619047619047619,
           0.8095238095238095,
           0.7142857142857143,
           0.6190476190476191,
           0.7380952380952381,
           0.5952380952380952,
           0.19047619047619047,
           0.7380952380952381,
           0.19047619047619047,
           0.7142857142857143,
           0.5952380952380952,
           0.7142857142857143,
           0.7142857142857143,
           0.5,
           0.7380952380952381,
           0.5714285714285714,
           0.40476190476190477,
           0.5714285714285714,
           0.4523809523809524,
           0.7142857142857143,
           0.047619047619047616,
           0.16666666666666666,
           0.7142857142857143,
           0.9047619047619048,
           0.19047619047619047,
           0.35714285714285715,
           0.23809523809523808,
           0.09523809523809523,
           0.11904761904761904,
           0.5952380952380952,
           0.2619047619047619,
           0.023809523809523808,
           0.21428571428571427,
           0.23809523809523808,
           0.023809523809523808,
           0.047619047619047616,
           0.09523809523809523,
           0.09523809523809523,
           0.023809523809523808,
           0.9761904761904762,
           1,
           0.9761904761904762,
           0.8095238095238095,
           0.8571428571428571,
           0.8571428571428571,
           0.7619047619047619,
           0.7857142857142857,
           0.023809523809523808,
           0.9285714285714286,
           0.023809523809523808,
           0.7857142857142857,
           0.7619047619047619,
           0.9285714285714286,
           0.8095238095238095,
           0.7380952380952381,
           0.8571428571428571,
           0.7380952380952381,
           0.7619047619047619,
           0.7142857142857143,
           0.023809523809523808,
           0.7142857142857143,
           0.9285714285714286,
           0.5714285714285714,
           0.7380952380952381,
           0.7142857142857143,
           0.42857142857142855,
           0.40476190476190477,
           0.07142857142857142,
           0.07142857142857142,
           0.14285714285714285,
           0.30952380952380953,
           0.4523809523809524,
           0.023809523809523808,
           0.023809523809523808,
           0.047619047619047616,
           0.9761904761904762,
           1,
           0.9761904761904762,
           0.8095238095238095,
           0.8571428571428571,
           0.8571428571428571,
           0.7619047619047619,
           0.7857142857142857,
           0.9761904761904762,
           0.023809523809523808,
           0.9285714285714286,
           0.9761904761904762,
           0.8095238095238095,
           0.023809523809523808,
           0.7380952380952381,
           0.7857142857142857,
           0.9285714285714286,
           0.8809523809523809,
           0.7857142857142857,
           0.8809523809523809,
           0.7619047619047619,
           0.7857142857142857,
           0.8333333333333334,
           0.9285714285714286,
           0.9761904761904762,
           0.8095238095238095,
           0.7380952380952381,
           0.8571428571428571,
           0.9047619047619048,
           0.7380952380952381,
           0.8809523809523809,
           0.8809523809523809,
           0.7619047619047619,
           0.7142857142857143,
           0.023809523809523808,
           0.23809523809523808,
           0.7142857142857143,
           0.9285714285714286,
           0.7380952380952381,
           0.9523809523809523,
           0.5714285714285714,
           0.40476190476190477,
           0.7380952380952381,
           0.7619047619047619,
           0.8333333333333334,
           0.7142857142857143,
           0.7857142857142857,
           0.9047619047619048,
           0.5476190476190477,
           0.42857142857142855,
           0.023809523809523808,
           0.7142857142857143,
           0.7380952380952381,
           0.7142857142857143,
           0.5476190476190477,
           0.07142857142857142,
           0.14285714285714285,
           0.7619047619047619,
           0.40476190476190477,
           0.14285714285714285,
           0.7857142857142857,
           0.07142857142857142,
           0.7142857142857143,
           0.40476190476190477,
           0.09523809523809523,
           0.30952380952380953,
           0.21428571428571427,
           0.4523809523809524,
           0.38095238095238093,
           0.14285714285714285,
           0.07142857142857142,
           0.023809523809523808,
           0.19047619047619047,
           0.07142857142857142,
           0.047619047619047616,
           0.023809523809523808,
           0.7857142857142857,
           0.7857142857142857,
           0.7142857142857143,
           0.3333333333333333,
           0.8809523809523809,
           0.8333333333333334,
           0.7142857142857143,
           0.21428571428571427,
           0.14285714285714285,
           0.023809523809523808,
           0.047619047619047616,
           0.09523809523809523,
           0.5,
           0.11904761904761904,
           0.023809523809523808,
           0.14285714285714285,
           0.023809523809523808,
           0.023809523809523808,
           0.023809523809523808,
           0.023809523809523808,
           0.023809523809523808,
           0.023809523809523808,
           0.047619047619047616,
           0.023809523809523808,
           0.7619047619047619,
           0.9761904761904762,
           1,
           0.9761904761904762,
           0.8095238095238095,
           0.8571428571428571,
           0.8571428571428571,
           0.7619047619047619,
           0.7857142857142857,
           0.9761904761904762,
           0.9761904761904762,
           0.8095238095238095,
           0.9285714285714286,
           0.9285714285714286,
           0.9761904761904762,
           0.4523809523809524,
           0.8095238095238095,
           0.7857142857142857,
           0.7380952380952381,
           0.7380952380952381,
           0.9285714285714286,
           0.7857142857142857,
           0.8809523809523809,
           0.8095238095238095,
           0.8333333333333334,
           0.9285714285714286,
           0.8571428571428571,
           0.9047619047619048,
           0.8571428571428571,
           0.23809523809523808,
           0.9285714285714286,
           0.7380952380952381,
           0.9523809523809523,
           0.5714285714285714,
           0.047619047619047616,
           0.7380952380952381,
           0.8333333333333334,
           0.8809523809523809,
           0.7142857142857143,
           0.7142857142857143,
           0.7380952380952381,
           0.38095238095238093,
           0.4523809523809524,
           0.09523809523809523,
           0.047619047619047616,
           0.023809523809523808,
           0.9761904761904762,
           1,
           0.9761904761904762,
           0.8095238095238095,
           0.8571428571428571,
           0.8571428571428571,
           1,
           0.7619047619047619,
           0.9761904761904762,
           0.7857142857142857,
           0.9761904761904762,
           0.9761904761904762,
           0.9761904761904762,
           0.8095238095238095,
           0.9285714285714286,
           0.9047619047619048,
           0.9285714285714286,
           0.9761904761904762,
           0.8095238095238095,
           0.7857142857142857,
           0.7380952380952381,
           0.8809523809523809,
           0.7857142857142857,
           0.9285714285714286,
           0.8809523809523809,
           0.7857142857142857,
           0.8809523809523809,
           0.7619047619047619,
           0.8571428571428571,
           0.7857142857142857,
           0.8095238095238095,
           0.8333333333333334,
           0.9285714285714286,
           0.9761904761904762,
           0.7380952380952381,
           0.8571428571428571,
           0.9047619047619048,
           0.7380952380952381,
           0.8809523809523809,
           0.8809523809523809,
           0.8571428571428571,
           0.7619047619047619,
           0.7142857142857143,
           0.23809523809523808,
           0.9285714285714286,
           0.7380952380952381,
           0.9523809523809523,
           0.5714285714285714,
           0.7619047619047619,
           0.7380952380952381,
           0.7619047619047619,
           0.8333333333333334,
           0.7380952380952381,
           0.5476190476190477,
           0.7857142857142857,
           0.7857142857142857,
           0.9047619047619048,
           0.35714285714285715,
           0.42857142857142855,
           0.8333333333333334,
           0.7142857142857143,
           0.7142857142857143,
           0.23809523809523808,
           0.7619047619047619,
           0.40476190476190477,
           0.7857142857142857,
           0.7380952380952381,
           0.7142857142857143,
           0.14285714285714285,
           0.16666666666666666,
           0.023809523809523808,
           0.21428571428571427,
           0.16666666666666666,
           0.7619047619047619,
           0.7619047619047619,
           0.7380952380952381,
           0.7857142857142857,
           0.6904761904761905,
           0.8809523809523809,
           0.8095238095238095,
           0.3333333333333333,
           0.4523809523809524,
           0.09523809523809523,
           0.5238095238095238,
           0.5952380952380952,
           0.42857142857142855,
           0.023809523809523808,
           0.8809523809523809,
           0.7142857142857143,
           0.7142857142857143,
           0.9761904761904762,
           0.8571428571428571,
           0.8095238095238095,
           0.8571428571428571,
           0.7142857142857143,
           0.9285714285714286,
           0.9523809523809523,
           0.9047619047619048,
           0.7857142857142857,
           0.7380952380952381,
           0.7380952380952381,
           0.7380952380952381,
           0.8333333333333334,
           0.8095238095238095,
           0.35714285714285715,
           0.7619047619047619,
           0.30952380952380953,
           0.8333333333333334,
           0.7857142857142857,
           0.7619047619047619,
           0.7142857142857143,
           0.7380952380952381,
           0.7142857142857143,
           0.7619047619047619,
           0.7619047619047619,
           0.7619047619047619,
           0.19047619047619047,
           0.7380952380952381,
           0.8571428571428571,
           0.7380952380952381,
           0.14285714285714285,
           0.16666666666666666,
           0.023809523809523808,
           0.7142857142857143,
           0.47619047619047616,
           0.11904761904761904,
           0.40476190476190477,
           0.2857142857142857,
           0.7619047619047619,
           0.07142857142857142,
           0.16666666666666666,
           0.047619047619047616,
           0.4523809523809524,
           0.2619047619047619,
           0.4523809523809524,
           0.21428571428571427,
           0.09523809523809523,
           0.16666666666666666,
           0.07142857142857142,
           0.023809523809523808,
           0.023809523809523808,
           0.8809523809523809,
           0.7142857142857143,
           0.7142857142857143,
           0.9761904761904762,
           0.8571428571428571,
           0.8095238095238095,
           0.8571428571428571,
           0.7142857142857143,
           0.9285714285714286,
           0.9523809523809523,
           0.7857142857142857,
           0.30952380952380953,
           0.7380952380952381,
           0.9523809523809523,
           0.7380952380952381,
           0.7380952380952381,
           0.35714285714285715,
           0.7619047619047619,
           0.8333333333333334,
           0.7857142857142857,
           0.7619047619047619,
           0.7142857142857143,
           0.7619047619047619,
           0.8333333333333334,
           0.7142857142857143,
           0.7619047619047619,
           0.7619047619047619,
           0.7619047619047619,
           0.19047619047619047,
           0.8809523809523809,
           0.7142857142857143,
           0.7142857142857143,
           0.47619047619047616,
           0.11904761904761904,
           0.8333333333333334,
           0.5238095238095238,
           0.7619047619047619,
           0.14285714285714285,
           0.5714285714285714,
           0.16666666666666666,
           0.047619047619047616,
           0.38095238095238093,
           0.16666666666666666,
           0.2619047619047619,
           0.4523809523809524,
           0.21428571428571427,
           0.19047619047619047,
           0.16666666666666666,
           0.3333333333333333,
           0.9761904761904762,
           0.9285714285714286,
           0.9761904761904762,
           0.8095238095238095,
           0.9761904761904762,
           0.7857142857142857,
           0.7857142857142857,
           0.9761904761904762,
           1,
           0.8571428571428571,
           0.8809523809523809,
           0.8571428571428571,
           0.9285714285714286,
           0.8571428571428571,
           0.7142857142857143,
           0.8333333333333334,
           0.9047619047619048,
           0.7380952380952381,
           0.7142857142857143,
           0.7380952380952381,
           0.5952380952380952,
           0.7380952380952381,
           0.8571428571428571,
           0.7857142857142857,
           0.8095238095238095,
           0.9523809523809523,
           0.7142857142857143,
           0.023809523809523808,
           0.7857142857142857,
           0.9285714285714286,
           0.7380952380952381,
           0.9523809523809523,
           0.8333333333333334,
           0.7142857142857143,
           0.7380952380952381,
           0.8333333333333334,
           0.7142857142857143,
           0.16666666666666666,
           0.19047619047619047,
           0.8095238095238095,
           0.35714285714285715,
           0.16666666666666666,
           0.7619047619047619,
           0.8333333333333334,
           0.30952380952380953,
           0.7619047619047619,
           0.7619047619047619,
           0.7857142857142857,
           0.7380952380952381,
           0.7142857142857143,
           0.8095238095238095,
           0.7619047619047619,
           0.7619047619047619,
           0.7380952380952381,
           0.8571428571428571,
           0.8333333333333334,
           0.7380952380952381,
           0.7142857142857143,
           0.7619047619047619,
           0.7619047619047619,
           0.9047619047619048,
           0.8333333333333334,
           0.47619047619047616,
           0.7142857142857143,
           0.023809523809523808,
           0.40476190476190477,
           0.40476190476190477,
           0.2857142857142857,
           0.7619047619047619,
           0.5,
           0.21428571428571427,
           0.047619047619047616,
           0.14285714285714285,
           0.16666666666666666,
           0.16666666666666666,
           0.19047619047619047,
           0.07142857142857142,
           0.047619047619047616,
           0.07142857142857142,
           0.07142857142857142,
           0.023809523809523808,
           0.023809523809523808,
           0.047619047619047616,
           0.047619047619047616,
           0.023809523809523808,
           0.023809523809523808
          ],
          "size": [
           4.131458759307861,
           8.11478328704834,
           1.3902196884155273,
           3.8693959712982178,
           3.088167667388916,
           2.1912882328033447,
           3.1477904319763184,
           2.2692618370056152,
           1.2439286708831787,
           1.2595781087875366,
           2.6166138648986816,
           6.064215660095215,
           1.4811155796051025,
           1.4546802043914795,
           5.133821487426758,
           5.312959671020508,
           1.378601312637329,
           4.751852035522461,
           2.553107261657715,
           2.9167160987854004,
           2.1321005821228027,
           4.4862518310546875,
           2.143670082092285,
           1.8247957229614258,
           1.9230026006698608,
           6.065978050231934,
           4.476620674133301,
           2.660592555999756,
           3.6046457290649414,
           1.9629051685333252,
           3.1572861671447754,
           1.3830037117004395,
           2.5540616512298584,
           1.6634910106658936,
           1.711442470550537,
           1.7371470928192139,
           2.7233235836029053,
           5.585450172424316,
           2.3474419116973877,
           6.08331298828125,
           2.3089845180511475,
           1.087857961654663,
           4.21141242980957,
           2.156360387802124,
           1.2651560306549072,
           4.009528636932373,
           3.6496005058288574,
           3.560292959213257,
           1.4354517459869385,
           2.493022918701172,
           3.8934741020202637,
           1.2964922189712524,
           3.226912021636963,
           2.3849353790283203,
           1.7427656650543213,
           1.5785049200057983,
           1.4407944679260254,
           4.121181488037109,
           1.8649073839187622,
           3.1067545413970947,
           3.1336607933044434,
           3.1566994190216064,
           1.6844635009765625,
           2.9236295223236084,
           2.9365055561065674,
           1.8892394304275513,
           0.9517614841461182,
           2.9309096336364746,
           1.7369476556777954,
           2.1693427562713623,
           1.4492006301879883,
           1.229299545288086,
           4.155290603637695,
           1.6186686754226685,
           3.386469841003418,
           1.2881579399108887,
           1.6867072582244873,
           3.81584095954895,
           1.016121745109558,
           1.3353863954544067,
           1.9011328220367432,
           1.2683182954788208,
           2.2363057136535645,
           2.577888011932373,
           3.63679838180542,
           1.7397828102111816,
           1.2917494773864746,
           1.419409990310669,
           1.6748762130737305,
           2.4959888458251953,
           0.8539869785308838,
           2.136705160140991,
           1.5572378635406494,
           2.1397693157196045,
           1.216301441192627,
           1.7524900436401367,
           1.4484565258026123,
           0.9437049627304077,
           1.4464017152786255,
           1.9653793573379517,
           1.9577574729919434,
           1.7148706912994385,
           2.6989498138427734,
           1.4854158163070679,
           2.1285672187805176,
           1.6821589469909668,
           4.229188919067383,
           3.333563804626465,
           2.2988321781158447,
           3.615861654281616,
           2.5231029987335205,
           3.003504991531372,
           0.888426661491394,
           2.8271148204803467,
           1.118469476699829,
           2.6124839782714844,
           1.2420759201049805,
           1.5762386322021484,
           1.998800277709961,
           1.3340775966644287,
           2.4053239822387695,
           1.4963210821151733,
           1.2495794296264648,
           3.3267133235931396,
           2.6982216835021973,
           2.8443424701690674,
           2.704556941986084,
           1.4553773403167725,
           2.1323485374450684,
           2.2399179935455322,
           2.0442073345184326,
           1.2691659927368164,
           1.6824595928192139,
           1.7484779357910156,
           1.0707590579986572,
           2.131284475326538,
           2.317368507385254,
           2.646864652633667,
           2.650515079498291,
           1.8353992700576782,
           2.8510894775390625,
           2.2513980865478516,
           1.2316603660583496,
           1.7507359981536865,
           1.9375146627426147,
           1.4099159240722656,
           1.9985923767089844,
           1.6534960269927979,
           2.8775858879089355,
           1.2670056819915771,
           2.898085594177246,
           2.4243433475494385,
           3.1139447689056396,
           2.2052793502807617,
           1.2612321376800537,
           1.5938942432403564,
           1.8150780200958252,
           2.05330228805542,
           1.3828121423721313,
           1.2659645080566406,
           1.5231256484985352,
           1.038968563079834,
           1.0342152118682861,
           1.114237904548645,
           1.5509669780731201,
           1.148773431777954,
           1.1005785465240479,
           1.5687992572784424,
           1.1644378900527954,
           1.7479890584945679,
           2.1880974769592285,
           1.4094185829162598,
           1.973893404006958,
           1.9500871896743774,
           1.1107029914855957,
           1.6825637817382812,
           3.320585250854492,
           0.8670122027397156,
           1.3271738290786743,
           5.597754001617432,
           3.7863528728485107,
           2.4802005290985107,
           3.526721954345703,
           2.93503999710083,
           3.3338699340820312,
           2.2364344596862793,
           1.9144595861434937,
           2.203946113586426,
           1.773559331893921,
           2.22868013381958,
           2.245553731918335,
           1.7561774253845215,
           1.4384855031967163,
           6.637393951416016,
           3.391775131225586,
           4.04301643371582,
           3.591585874557495,
           1.5810415744781494,
           1.905128836631775,
           3.3421010971069336,
           3.2499332427978516,
           1.9855904579162598,
           4.257829666137695,
           3.358086109161377,
           2.301516056060791,
           3.1411263942718506,
           2.1576058864593506,
           1.5103787183761597,
           2.987239360809326,
           2.5098652839660645,
           3.571030855178833,
           2.3640689849853516,
           1.7682474851608276,
           2.413914442062378,
           2.5516788959503174,
           1.8110322952270508,
           2.2079639434814453,
           1.7995326519012451,
           1.7551212310791016,
           2.488041400909424,
           1.9894871711730957,
           1.2519640922546387,
           1.4632577896118164,
           1.244352102279663,
           1.3029948472976685,
           2.4766533374786377,
           1.969870686531067,
           3.3817763328552246,
           1.9622327089309692,
           3.5171194076538086,
           2.114553689956665,
           1.7361177206039429,
           2.6861305236816406,
           1.7775623798370361,
           2.137763500213623,
           1.9495797157287598,
           2.8946619033813477,
           1.2878271341323853,
           1.465033769607544,
           1.820026159286499,
           2.170571804046631,
           1.964101791381836,
           1.881630778312683,
           2.3887882232666016,
           1.100740671157837,
           2.707984447479248,
           3.18673038482666,
           1.1692309379577637,
           1.510662317276001,
           4.319704055786133,
           2.3533997535705566,
           1.8244163990020752,
           1.4099974632263184,
           3.6379692554473877,
           2.0891685485839844,
           2.5622949600219727,
           3.5428659915924072,
           1.4357870817184448,
           1.6538333892822266,
           2.857908248901367,
           1.477536916732788,
           1.2252349853515625,
           1.2141088247299194,
           1.7553529739379883,
           2.254162549972534,
           1.5238895416259766,
           1.7549840211868286,
           1.4905636310577393,
           1.6895599365234375,
           2.0911693572998047,
           1.684310793876648,
           2.152134418487549,
           2.0404486656188965,
           1.7748972177505493,
           1.9797708988189697,
           2.1529862880706787,
           1.427420973777771,
           1.6399797201156616,
           1.2444446086883545
          ],
          "sizemode": "area",
          "sizeref": 0.0380750846862793,
          "symbol": "circle"
         },
         "mode": "markers",
         "name": "loom",
         "orientation": "v",
         "showlegend": true,
         "type": "scatter",
         "x": [
          248.7948717948718,
          260,
          96,
          236,
          232,
          311,
          260.1290322580645,
          287,
          226.3939393939394,
          88.92105263157895,
          241.05555555555554,
          269.27272727272725,
          106.97435897435898,
          233,
          269,
          297.1290322580645,
          231.48717948717947,
          306.94444444444446,
          265.8378378378378,
          237.85294117647058,
          273,
          247.42857142857142,
          270,
          219.05263157894737,
          245,
          268,
          302.37142857142857,
          316,
          258.92105263157896,
          244,
          273.43333333333334,
          257.1714285714286,
          250.03030303030303,
          294,
          222.72727272727272,
          274.5,
          275.1714285714286,
          318.5,
          229.26666666666668,
          269.90909090909093,
          246,
          236,
          251.5,
          270,
          123.8157894736842,
          269.3142857142857,
          278.9,
          306.1290322580645,
          69.46666666666667,
          264.6666666666667,
          274,
          252.88235294117646,
          266.27272727272725,
          242.28125,
          266.76666666666665,
          265.03125,
          279.55555555555554,
          305.75757575757575,
          282.8205128205128,
          262.89473684210526,
          255.25806451612902,
          259.3235294117647,
          216.8181818181818,
          312.46666666666664,
          278.7647058823529,
          285.93548387096774,
          289.741935483871,
          321.125,
          213.7058823529412,
          312.8,
          238.3846153846154,
          293.0967741935484,
          300.76,
          311.5,
          323.93548387096774,
          273.25,
          269,
          326.92,
          190.7,
          315.6,
          241.57142857142858,
          160.29032258064515,
          262.875,
          281.88235294117646,
          275.0833333333333,
          280.8421052631579,
          293.8333333333333,
          316.5,
          262.2857142857143,
          254.06666666666666,
          296.3421052631579,
          276.375,
          325.53333333333336,
          274.3,
          309,
          52.2,
          199.36,
          317.1818181818182,
          309,
          334,
          366.5,
          260,
          256.5,
          280.5,
          252,
          277,
          241,
          236.02380952380952,
          266,
          246.2941176470588,
          250.27777777777777,
          254.27777777777777,
          306.0238095238095,
          261.5,
          302,
          258.72727272727275,
          308,
          298,
          317,
          292.9117647058824,
          230.7948717948718,
          278.13157894736844,
          328,
          311,
          306.70588235294116,
          303.72727272727275,
          300.1290322580645,
          298.86486486486484,
          305.1818181818182,
          309,
          306.05405405405406,
          246.5151515151515,
          313.8378378378378,
          267.25,
          276.27777777777777,
          315.27272727272725,
          331.1470588235294,
          321.1142857142857,
          228,
          340,
          247.96774193548387,
          221.30555555555554,
          335.10526315789474,
          240.09677419354838,
          334.18918918918916,
          332.8378378378378,
          288.69444444444446,
          227.3125,
          259.8,
          311.5,
          318,
          220.38709677419354,
          317.75,
          267.625,
          302.1875,
          256.80645161290323,
          328.15625,
          295.0857142857143,
          326.03225806451616,
          313.95652173913044,
          310.27272727272725,
          295.3333333333333,
          328,
          298.3333333333333,
          253.11111111111111,
          208.34285714285716,
          338.7,
          214.66666666666666,
          282.6,
          322.3125,
          302.05882352941177,
          317.54545454545456,
          304,
          323.53333333333336,
          326.5,
          291,
          275,
          328.22222222222223,
          280.42857142857144,
          119.96875,
          123.15625,
          120.16129032258064,
          127.12121212121212,
          118.75862068965517,
          113.67567567567568,
          108.3529411764706,
          351.42857142857144,
          111.73684210526316,
          126,
          125.4090909090909,
          119.76,
          102.11111111111111,
          122,
          271,
          267,
          274,
          279.29411764705884,
          292,
          285.6060606060606,
          275,
          259,
          266.3095238095238,
          264.8333333333333,
          281.05405405405406,
          284.6388888888889,
          276.4102564102564,
          281.1111111111111,
          267.8,
          261.62857142857143,
          300.0263157894737,
          256.51612903225805,
          289.6666666666667,
          291.64516129032256,
          258.4,
          251.48387096774192,
          209.69444444444446,
          297.54545454545456,
          149.41176470588235,
          223.35,
          287.3666666666667,
          254,
          217.12121212121212,
          306.05128205128204,
          229.4516129032258,
          158.95,
          229.05714285714285,
          271.1666666666667,
          305.6774193548387,
          294.8,
          303.93333333333334,
          271,
          263.75,
          247.61764705882354,
          276.93333333333334,
          253.71428571428572,
          283.15625,
          235.42857142857142,
          149.23076923076923,
          204.375,
          293.3125,
          312.54545454545456,
          220.48387096774192,
          286.7,
          312.11764705882354,
          241.84375,
          240.03125,
          232.4516129032258,
          247.36111111111111,
          166.57142857142858,
          223,
          214.06666666666666,
          294.15625,
          305.09375,
          256.07894736842104,
          280.7142857142857,
          264,
          243.06666666666666,
          253,
          314.1764705882353,
          272,
          198.66666666666666,
          161.46875,
          296,
          251,
          251.5,
          297.8333333333333,
          259.2857142857143,
          278,
          296.75,
          285.6666666666667,
          263,
          284.6666666666667,
          111.66666666666667,
          316,
          142,
          336.5,
          307,
          302,
          290
         ],
         "xaxis": "x",
         "y": [
          56.64102564102564,
          49,
          112.35135135135135,
          68,
          74,
          20,
          44.16129032258065,
          2.4285714285714284,
          75.12121212121212,
          110.23684210526316,
          61.72222222222222,
          39.72727272727273,
          113.17948717948718,
          70,
          66,
          2.7419354838709675,
          81.23076923076923,
          4.611111111111111,
          60.729729729729726,
          65.47058823529412,
          56,
          69.11428571428571,
          2.5277777777777777,
          82.94736842105263,
          66,
          32.82051282051282,
          5.171428571428572,
          10,
          61.13157894736842,
          67,
          62.2,
          39.57142857142857,
          49.84848484848485,
          6.5,
          78.27272727272727,
          7.5,
          50.57142857142857,
          5,
          68.46666666666667,
          26.12121212121212,
          65,
          73,
          66,
          11.9,
          114.73684210526316,
          48.74285714285714,
          58.53333333333333,
          11.35483870967742,
          108.03333333333333,
          69.03030303030303,
          37.696969696969695,
          43.6764705882353,
          55.39393939393939,
          73.0625,
          6.3,
          13.90625,
          3.3333333333333335,
          19.333333333333332,
          47.97435897435897,
          34.6578947368421,
          64.16129032258064,
          72.44117647058823,
          75.45454545454545,
          2.8666666666666667,
          47.94117647058823,
          43.03225806451613,
          47.87096774193548,
          14.15625,
          87.3529411764706,
          14.333333333333334,
          76.84615384615384,
          10.03225806451613,
          12.44,
          8.5,
          3.5806451612903225,
          31.375,
          20.033333333333335,
          9.8,
          89.2,
          25,
          55.857142857142854,
          105.25806451612904,
          28.708333333333332,
          8.058823529411764,
          20.416666666666668,
          42.1578947368421,
          40.166666666666664,
          1,
          65.28571428571429,
          77.03333333333333,
          20.657894736842106,
          12.875,
          17.2,
          44.3,
          15.5,
          99.8,
          87.2,
          19,
          8,
          13,
          30,
          68,
          69,
          20.5,
          71.5,
          16,
          90,
          92.69047619047619,
          70,
          87.8529411764706,
          84.72222222222223,
          80.72222222222223,
          49.30952380952381,
          73.5,
          44,
          77.27272727272727,
          41,
          25,
          43,
          24.61764705882353,
          93.64102564102564,
          28.710526315789473,
          46.84615384615385,
          22,
          18.852941176470587,
          15.727272727272727,
          20.483870967741936,
          33.75675675675676,
          36.121212121212125,
          12,
          27,
          94.93939393939394,
          37.729729729729726,
          64.375,
          56.27777777777778,
          18.727272727272727,
          42.705882352941174,
          38.22857142857143,
          98,
          34,
          80.12903225806451,
          98.88888888888889,
          40.026315789473685,
          83.7741935483871,
          34.189189189189186,
          27.783783783783782,
          17.833333333333332,
          89.5,
          68.96666666666667,
          45.5,
          14,
          94.58064516129032,
          26.1,
          76.08333333333333,
          10.9375,
          86.6774193548387,
          31.78125,
          17.142857142857142,
          37.96774193548387,
          9.956521739130435,
          31.272727272727273,
          63.484848484848484,
          22.263157894736842,
          13.6,
          74.61111111111111,
          103.02857142857142,
          46.166666666666664,
          100.6,
          20.1,
          19.625,
          30.764705882352942,
          32.60606060606061,
          6.516129032258065,
          29.1,
          26,
          14.714285714285714,
          32,
          11.555555555555555,
          78.14285714285714,
          87.0625,
          99.625,
          94.16129032258064,
          104.48484848484848,
          81.41379310344827,
          106.08108108108108,
          107.8529411764706,
          9.714285714285714,
          100.52631578947368,
          97.5,
          88.13636363636364,
          109.12,
          103.66666666666667,
          105,
          43,
          47,
          32,
          36.14705882352941,
          48,
          34.878787878787875,
          40,
          58,
          52.976190476190474,
          58.27777777777778,
          29.675675675675677,
          41.388888888888886,
          25.846153846153847,
          45.666666666666664,
          38.733333333333334,
          47.2,
          53.73684210526316,
          63.193548387096776,
          44.666666666666664,
          38.064516129032256,
          52.96,
          66.45161290322581,
          96.63888888888889,
          44.75757575757576,
          111.08823529411765,
          91.85,
          29.4,
          64,
          93.18181818181819,
          46.05128205128205,
          89.51612903225806,
          108.95,
          83.51428571428572,
          26.5,
          57.16129032258065,
          56.542857142857144,
          50.53333333333333,
          35,
          41.875,
          70.6470588235294,
          47.6,
          59.42857142857143,
          23.5625,
          82.82857142857142,
          105.38461538461539,
          97.59375,
          62.78125,
          57.878787878787875,
          87.61290322580645,
          52.46666666666667,
          50.5,
          86.84375,
          80.125,
          78.16129032258064,
          79.83333333333333,
          105.97142857142858,
          83.80645161290323,
          88.66666666666667,
          32.625,
          41.0625,
          70.97368421052632,
          71.34285714285714,
          64.55,
          75.66666666666667,
          63,
          46.294117647058826,
          57.05882352941177,
          97.08333333333333,
          117.125,
          26.761904761904763,
          77.55555555555556,
          62,
          33.833333333333336,
          75,
          76.85714285714286,
          18.875,
          21.333333333333332,
          67.5,
          55.666666666666664,
          18.666666666666668,
          31,
          112,
          54,
          33.5,
          27,
          63
         ],
         "yaxis": "y"
        }
       ],
       "layout": {
        "legend": {
         "itemsizing": "constant",
         "title": {
          "text": "color"
         },
         "tracegroupgap": 0
        },
        "margin": {
         "t": 60
        },
        "plot_bgcolor": "rgba(0,0,0,0)",
        "template": {
         "data": {
          "bar": [
           {
            "error_x": {
             "color": "#2a3f5f"
            },
            "error_y": {
             "color": "#2a3f5f"
            },
            "marker": {
             "line": {
              "color": "#E5ECF6",
              "width": 0.5
             },
             "pattern": {
              "fillmode": "overlay",
              "size": 10,
              "solidity": 0.2
             }
            },
            "type": "bar"
           }
          ],
          "barpolar": [
           {
            "marker": {
             "line": {
              "color": "#E5ECF6",
              "width": 0.5
             },
             "pattern": {
              "fillmode": "overlay",
              "size": 10,
              "solidity": 0.2
             }
            },
            "type": "barpolar"
           }
          ],
          "carpet": [
           {
            "aaxis": {
             "endlinecolor": "#2a3f5f",
             "gridcolor": "white",
             "linecolor": "white",
             "minorgridcolor": "white",
             "startlinecolor": "#2a3f5f"
            },
            "baxis": {
             "endlinecolor": "#2a3f5f",
             "gridcolor": "white",
             "linecolor": "white",
             "minorgridcolor": "white",
             "startlinecolor": "#2a3f5f"
            },
            "type": "carpet"
           }
          ],
          "choropleth": [
           {
            "colorbar": {
             "outlinewidth": 0,
             "ticks": ""
            },
            "type": "choropleth"
           }
          ],
          "contour": [
           {
            "colorbar": {
             "outlinewidth": 0,
             "ticks": ""
            },
            "colorscale": [
             [
              0,
              "#0d0887"
             ],
             [
              0.1111111111111111,
              "#46039f"
             ],
             [
              0.2222222222222222,
              "#7201a8"
             ],
             [
              0.3333333333333333,
              "#9c179e"
             ],
             [
              0.4444444444444444,
              "#bd3786"
             ],
             [
              0.5555555555555556,
              "#d8576b"
             ],
             [
              0.6666666666666666,
              "#ed7953"
             ],
             [
              0.7777777777777778,
              "#fb9f3a"
             ],
             [
              0.8888888888888888,
              "#fdca26"
             ],
             [
              1,
              "#f0f921"
             ]
            ],
            "type": "contour"
           }
          ],
          "contourcarpet": [
           {
            "colorbar": {
             "outlinewidth": 0,
             "ticks": ""
            },
            "type": "contourcarpet"
           }
          ],
          "heatmap": [
           {
            "colorbar": {
             "outlinewidth": 0,
             "ticks": ""
            },
            "colorscale": [
             [
              0,
              "#0d0887"
             ],
             [
              0.1111111111111111,
              "#46039f"
             ],
             [
              0.2222222222222222,
              "#7201a8"
             ],
             [
              0.3333333333333333,
              "#9c179e"
             ],
             [
              0.4444444444444444,
              "#bd3786"
             ],
             [
              0.5555555555555556,
              "#d8576b"
             ],
             [
              0.6666666666666666,
              "#ed7953"
             ],
             [
              0.7777777777777778,
              "#fb9f3a"
             ],
             [
              0.8888888888888888,
              "#fdca26"
             ],
             [
              1,
              "#f0f921"
             ]
            ],
            "type": "heatmap"
           }
          ],
          "heatmapgl": [
           {
            "colorbar": {
             "outlinewidth": 0,
             "ticks": ""
            },
            "colorscale": [
             [
              0,
              "#0d0887"
             ],
             [
              0.1111111111111111,
              "#46039f"
             ],
             [
              0.2222222222222222,
              "#7201a8"
             ],
             [
              0.3333333333333333,
              "#9c179e"
             ],
             [
              0.4444444444444444,
              "#bd3786"
             ],
             [
              0.5555555555555556,
              "#d8576b"
             ],
             [
              0.6666666666666666,
              "#ed7953"
             ],
             [
              0.7777777777777778,
              "#fb9f3a"
             ],
             [
              0.8888888888888888,
              "#fdca26"
             ],
             [
              1,
              "#f0f921"
             ]
            ],
            "type": "heatmapgl"
           }
          ],
          "histogram": [
           {
            "marker": {
             "pattern": {
              "fillmode": "overlay",
              "size": 10,
              "solidity": 0.2
             }
            },
            "type": "histogram"
           }
          ],
          "histogram2d": [
           {
            "colorbar": {
             "outlinewidth": 0,
             "ticks": ""
            },
            "colorscale": [
             [
              0,
              "#0d0887"
             ],
             [
              0.1111111111111111,
              "#46039f"
             ],
             [
              0.2222222222222222,
              "#7201a8"
             ],
             [
              0.3333333333333333,
              "#9c179e"
             ],
             [
              0.4444444444444444,
              "#bd3786"
             ],
             [
              0.5555555555555556,
              "#d8576b"
             ],
             [
              0.6666666666666666,
              "#ed7953"
             ],
             [
              0.7777777777777778,
              "#fb9f3a"
             ],
             [
              0.8888888888888888,
              "#fdca26"
             ],
             [
              1,
              "#f0f921"
             ]
            ],
            "type": "histogram2d"
           }
          ],
          "histogram2dcontour": [
           {
            "colorbar": {
             "outlinewidth": 0,
             "ticks": ""
            },
            "colorscale": [
             [
              0,
              "#0d0887"
             ],
             [
              0.1111111111111111,
              "#46039f"
             ],
             [
              0.2222222222222222,
              "#7201a8"
             ],
             [
              0.3333333333333333,
              "#9c179e"
             ],
             [
              0.4444444444444444,
              "#bd3786"
             ],
             [
              0.5555555555555556,
              "#d8576b"
             ],
             [
              0.6666666666666666,
              "#ed7953"
             ],
             [
              0.7777777777777778,
              "#fb9f3a"
             ],
             [
              0.8888888888888888,
              "#fdca26"
             ],
             [
              1,
              "#f0f921"
             ]
            ],
            "type": "histogram2dcontour"
           }
          ],
          "mesh3d": [
           {
            "colorbar": {
             "outlinewidth": 0,
             "ticks": ""
            },
            "type": "mesh3d"
           }
          ],
          "parcoords": [
           {
            "line": {
             "colorbar": {
              "outlinewidth": 0,
              "ticks": ""
             }
            },
            "type": "parcoords"
           }
          ],
          "pie": [
           {
            "automargin": true,
            "type": "pie"
           }
          ],
          "scatter": [
           {
            "fillpattern": {
             "fillmode": "overlay",
             "size": 10,
             "solidity": 0.2
            },
            "type": "scatter"
           }
          ],
          "scatter3d": [
           {
            "line": {
             "colorbar": {
              "outlinewidth": 0,
              "ticks": ""
             }
            },
            "marker": {
             "colorbar": {
              "outlinewidth": 0,
              "ticks": ""
             }
            },
            "type": "scatter3d"
           }
          ],
          "scattercarpet": [
           {
            "marker": {
             "colorbar": {
              "outlinewidth": 0,
              "ticks": ""
             }
            },
            "type": "scattercarpet"
           }
          ],
          "scattergeo": [
           {
            "marker": {
             "colorbar": {
              "outlinewidth": 0,
              "ticks": ""
             }
            },
            "type": "scattergeo"
           }
          ],
          "scattergl": [
           {
            "marker": {
             "colorbar": {
              "outlinewidth": 0,
              "ticks": ""
             }
            },
            "type": "scattergl"
           }
          ],
          "scattermapbox": [
           {
            "marker": {
             "colorbar": {
              "outlinewidth": 0,
              "ticks": ""
             }
            },
            "type": "scattermapbox"
           }
          ],
          "scatterpolar": [
           {
            "marker": {
             "colorbar": {
              "outlinewidth": 0,
              "ticks": ""
             }
            },
            "type": "scatterpolar"
           }
          ],
          "scatterpolargl": [
           {
            "marker": {
             "colorbar": {
              "outlinewidth": 0,
              "ticks": ""
             }
            },
            "type": "scatterpolargl"
           }
          ],
          "scatterternary": [
           {
            "marker": {
             "colorbar": {
              "outlinewidth": 0,
              "ticks": ""
             }
            },
            "type": "scatterternary"
           }
          ],
          "surface": [
           {
            "colorbar": {
             "outlinewidth": 0,
             "ticks": ""
            },
            "colorscale": [
             [
              0,
              "#0d0887"
             ],
             [
              0.1111111111111111,
              "#46039f"
             ],
             [
              0.2222222222222222,
              "#7201a8"
             ],
             [
              0.3333333333333333,
              "#9c179e"
             ],
             [
              0.4444444444444444,
              "#bd3786"
             ],
             [
              0.5555555555555556,
              "#d8576b"
             ],
             [
              0.6666666666666666,
              "#ed7953"
             ],
             [
              0.7777777777777778,
              "#fb9f3a"
             ],
             [
              0.8888888888888888,
              "#fdca26"
             ],
             [
              1,
              "#f0f921"
             ]
            ],
            "type": "surface"
           }
          ],
          "table": [
           {
            "cells": {
             "fill": {
              "color": "#EBF0F8"
             },
             "line": {
              "color": "white"
             }
            },
            "header": {
             "fill": {
              "color": "#C8D4E3"
             },
             "line": {
              "color": "white"
             }
            },
            "type": "table"
           }
          ]
         },
         "layout": {
          "annotationdefaults": {
           "arrowcolor": "#2a3f5f",
           "arrowhead": 0,
           "arrowwidth": 1
          },
          "autotypenumbers": "strict",
          "coloraxis": {
           "colorbar": {
            "outlinewidth": 0,
            "ticks": ""
           }
          },
          "colorscale": {
           "diverging": [
            [
             0,
             "#8e0152"
            ],
            [
             0.1,
             "#c51b7d"
            ],
            [
             0.2,
             "#de77ae"
            ],
            [
             0.3,
             "#f1b6da"
            ],
            [
             0.4,
             "#fde0ef"
            ],
            [
             0.5,
             "#f7f7f7"
            ],
            [
             0.6,
             "#e6f5d0"
            ],
            [
             0.7,
             "#b8e186"
            ],
            [
             0.8,
             "#7fbc41"
            ],
            [
             0.9,
             "#4d9221"
            ],
            [
             1,
             "#276419"
            ]
           ],
           "sequential": [
            [
             0,
             "#0d0887"
            ],
            [
             0.1111111111111111,
             "#46039f"
            ],
            [
             0.2222222222222222,
             "#7201a8"
            ],
            [
             0.3333333333333333,
             "#9c179e"
            ],
            [
             0.4444444444444444,
             "#bd3786"
            ],
            [
             0.5555555555555556,
             "#d8576b"
            ],
            [
             0.6666666666666666,
             "#ed7953"
            ],
            [
             0.7777777777777778,
             "#fb9f3a"
            ],
            [
             0.8888888888888888,
             "#fdca26"
            ],
            [
             1,
             "#f0f921"
            ]
           ],
           "sequentialminus": [
            [
             0,
             "#0d0887"
            ],
            [
             0.1111111111111111,
             "#46039f"
            ],
            [
             0.2222222222222222,
             "#7201a8"
            ],
            [
             0.3333333333333333,
             "#9c179e"
            ],
            [
             0.4444444444444444,
             "#bd3786"
            ],
            [
             0.5555555555555556,
             "#d8576b"
            ],
            [
             0.6666666666666666,
             "#ed7953"
            ],
            [
             0.7777777777777778,
             "#fb9f3a"
            ],
            [
             0.8888888888888888,
             "#fdca26"
            ],
            [
             1,
             "#f0f921"
            ]
           ]
          },
          "colorway": [
           "#636efa",
           "#EF553B",
           "#00cc96",
           "#ab63fa",
           "#FFA15A",
           "#19d3f3",
           "#FF6692",
           "#B6E880",
           "#FF97FF",
           "#FECB52"
          ],
          "font": {
           "color": "#2a3f5f"
          },
          "geo": {
           "bgcolor": "white",
           "lakecolor": "white",
           "landcolor": "#E5ECF6",
           "showlakes": true,
           "showland": true,
           "subunitcolor": "white"
          },
          "hoverlabel": {
           "align": "left"
          },
          "hovermode": "closest",
          "mapbox": {
           "style": "light"
          },
          "paper_bgcolor": "white",
          "plot_bgcolor": "#E5ECF6",
          "polar": {
           "angularaxis": {
            "gridcolor": "white",
            "linecolor": "white",
            "ticks": ""
           },
           "bgcolor": "#E5ECF6",
           "radialaxis": {
            "gridcolor": "white",
            "linecolor": "white",
            "ticks": ""
           }
          },
          "scene": {
           "xaxis": {
            "backgroundcolor": "#E5ECF6",
            "gridcolor": "white",
            "gridwidth": 2,
            "linecolor": "white",
            "showbackground": true,
            "ticks": "",
            "zerolinecolor": "white"
           },
           "yaxis": {
            "backgroundcolor": "#E5ECF6",
            "gridcolor": "white",
            "gridwidth": 2,
            "linecolor": "white",
            "showbackground": true,
            "ticks": "",
            "zerolinecolor": "white"
           },
           "zaxis": {
            "backgroundcolor": "#E5ECF6",
            "gridcolor": "white",
            "gridwidth": 2,
            "linecolor": "white",
            "showbackground": true,
            "ticks": "",
            "zerolinecolor": "white"
           }
          },
          "shapedefaults": {
           "line": {
            "color": "#2a3f5f"
           }
          },
          "ternary": {
           "aaxis": {
            "gridcolor": "white",
            "linecolor": "white",
            "ticks": ""
           },
           "baxis": {
            "gridcolor": "white",
            "linecolor": "white",
            "ticks": ""
           },
           "bgcolor": "#E5ECF6",
           "caxis": {
            "gridcolor": "white",
            "linecolor": "white",
            "ticks": ""
           }
          },
          "title": {
           "x": 0.05
          },
          "xaxis": {
           "automargin": true,
           "gridcolor": "white",
           "linecolor": "white",
           "ticks": "",
           "title": {
            "standoff": 15
           },
           "zerolinecolor": "white",
           "zerolinewidth": 2
          },
          "yaxis": {
           "automargin": true,
           "gridcolor": "white",
           "linecolor": "white",
           "ticks": "",
           "title": {
            "standoff": 15
           },
           "zerolinecolor": "white",
           "zerolinewidth": 2
          }
         }
        },
        "xaxis": {
         "anchor": "y",
         "domain": [
          0,
          1
         ],
         "showgrid": false,
         "title": {
          "text": "x"
         }
        },
        "yaxis": {
         "anchor": "x",
         "domain": [
          0,
          1
         ],
         "showgrid": false,
         "title": {
          "text": "y"
         }
        }
       }
      }
     },
     "metadata": {},
     "output_type": "display_data"
    }
   ],
   "source": [
    "import plotly.express as px\n",
    "fig = px.scatter(x=pooled_data['x_centroid'], y=pooled_data['y_centroid'], color=pooled_data['stimtype'], size=abs(pooled_data['amplitude']), opacity=pooled_data['size']/ pooled_data['size'].max())\n",
    "\n",
    "fig.update_layout(\n",
    "    plot_bgcolor='rgba(0,0,0,0)',  # Transparent background for the plot area\n",
    "    #paper_bgcolor='rgba(0,0,0,0)',  # Transparent background for the overall figure\n",
    ")\n",
    "\n",
    "# Update axes to remove gridlines\n",
    "fig.update_xaxes(showgrid=False)  # Disable gridlines for x-axis\n",
    "fig.update_yaxes(showgrid=False)  # Disable gridlines for y-axis"
   ]
  },
  {
   "cell_type": "code",
   "execution_count": 26,
   "metadata": {},
   "outputs": [
    {
     "data": {
      "application/vnd.plotly.v1+json": {
       "config": {
        "plotlyServerURL": "https://plot.ly"
       },
       "data": [
        {
         "hovertemplate": "x=%{x}<br>Responsive Area [px]=%{y}<extra></extra>",
         "legendgroup": "",
         "marker": {
          "color": "grey",
          "size": 9,
          "symbol": "circle"
         },
         "mode": "markers",
         "name": "",
         "orientation": "v",
         "showlegend": false,
         "type": "scatter",
         "x": [
          "dots_OFF",
          "dots_ON",
          "loom",
          "moving stripes",
          "dots_OFF",
          "dots_ON",
          "loom",
          "moving stripes",
          "dots_OFF",
          "dots_ON",
          "loom",
          "moving stripes"
         ],
         "xaxis": "x",
         "y": [
          1419,
          2203,
          2638,
          872,
          0,
          1251,
          2173,
          1255,
          727,
          3184,
          2866,
          1647
         ],
         "yaxis": "y"
        },
        {
         "marker": {
          "color": "crimson",
          "size": 12,
          "symbol": "circle"
         },
         "mode": "markers",
         "name": "Mean",
         "type": "scatter",
         "x": [
          "dots_OFF",
          "dots_ON",
          "loom",
          "moving stripes"
         ],
         "y": [
          715.3333333333334,
          2212.6666666666665,
          2559,
          1258
         ]
        }
       ],
       "layout": {
        "height": 400,
        "legend": {
         "tracegroupgap": 0
        },
        "margin": {
         "b": 20,
         "l": 20,
         "r": 20,
         "t": 20
        },
        "plot_bgcolor": "white",
        "template": {
         "data": {
          "bar": [
           {
            "error_x": {
             "color": "#2a3f5f"
            },
            "error_y": {
             "color": "#2a3f5f"
            },
            "marker": {
             "line": {
              "color": "#E5ECF6",
              "width": 0.5
             },
             "pattern": {
              "fillmode": "overlay",
              "size": 10,
              "solidity": 0.2
             }
            },
            "type": "bar"
           }
          ],
          "barpolar": [
           {
            "marker": {
             "line": {
              "color": "#E5ECF6",
              "width": 0.5
             },
             "pattern": {
              "fillmode": "overlay",
              "size": 10,
              "solidity": 0.2
             }
            },
            "type": "barpolar"
           }
          ],
          "carpet": [
           {
            "aaxis": {
             "endlinecolor": "#2a3f5f",
             "gridcolor": "white",
             "linecolor": "white",
             "minorgridcolor": "white",
             "startlinecolor": "#2a3f5f"
            },
            "baxis": {
             "endlinecolor": "#2a3f5f",
             "gridcolor": "white",
             "linecolor": "white",
             "minorgridcolor": "white",
             "startlinecolor": "#2a3f5f"
            },
            "type": "carpet"
           }
          ],
          "choropleth": [
           {
            "colorbar": {
             "outlinewidth": 0,
             "ticks": ""
            },
            "type": "choropleth"
           }
          ],
          "contour": [
           {
            "colorbar": {
             "outlinewidth": 0,
             "ticks": ""
            },
            "colorscale": [
             [
              0,
              "#0d0887"
             ],
             [
              0.1111111111111111,
              "#46039f"
             ],
             [
              0.2222222222222222,
              "#7201a8"
             ],
             [
              0.3333333333333333,
              "#9c179e"
             ],
             [
              0.4444444444444444,
              "#bd3786"
             ],
             [
              0.5555555555555556,
              "#d8576b"
             ],
             [
              0.6666666666666666,
              "#ed7953"
             ],
             [
              0.7777777777777778,
              "#fb9f3a"
             ],
             [
              0.8888888888888888,
              "#fdca26"
             ],
             [
              1,
              "#f0f921"
             ]
            ],
            "type": "contour"
           }
          ],
          "contourcarpet": [
           {
            "colorbar": {
             "outlinewidth": 0,
             "ticks": ""
            },
            "type": "contourcarpet"
           }
          ],
          "heatmap": [
           {
            "colorbar": {
             "outlinewidth": 0,
             "ticks": ""
            },
            "colorscale": [
             [
              0,
              "#0d0887"
             ],
             [
              0.1111111111111111,
              "#46039f"
             ],
             [
              0.2222222222222222,
              "#7201a8"
             ],
             [
              0.3333333333333333,
              "#9c179e"
             ],
             [
              0.4444444444444444,
              "#bd3786"
             ],
             [
              0.5555555555555556,
              "#d8576b"
             ],
             [
              0.6666666666666666,
              "#ed7953"
             ],
             [
              0.7777777777777778,
              "#fb9f3a"
             ],
             [
              0.8888888888888888,
              "#fdca26"
             ],
             [
              1,
              "#f0f921"
             ]
            ],
            "type": "heatmap"
           }
          ],
          "heatmapgl": [
           {
            "colorbar": {
             "outlinewidth": 0,
             "ticks": ""
            },
            "colorscale": [
             [
              0,
              "#0d0887"
             ],
             [
              0.1111111111111111,
              "#46039f"
             ],
             [
              0.2222222222222222,
              "#7201a8"
             ],
             [
              0.3333333333333333,
              "#9c179e"
             ],
             [
              0.4444444444444444,
              "#bd3786"
             ],
             [
              0.5555555555555556,
              "#d8576b"
             ],
             [
              0.6666666666666666,
              "#ed7953"
             ],
             [
              0.7777777777777778,
              "#fb9f3a"
             ],
             [
              0.8888888888888888,
              "#fdca26"
             ],
             [
              1,
              "#f0f921"
             ]
            ],
            "type": "heatmapgl"
           }
          ],
          "histogram": [
           {
            "marker": {
             "pattern": {
              "fillmode": "overlay",
              "size": 10,
              "solidity": 0.2
             }
            },
            "type": "histogram"
           }
          ],
          "histogram2d": [
           {
            "colorbar": {
             "outlinewidth": 0,
             "ticks": ""
            },
            "colorscale": [
             [
              0,
              "#0d0887"
             ],
             [
              0.1111111111111111,
              "#46039f"
             ],
             [
              0.2222222222222222,
              "#7201a8"
             ],
             [
              0.3333333333333333,
              "#9c179e"
             ],
             [
              0.4444444444444444,
              "#bd3786"
             ],
             [
              0.5555555555555556,
              "#d8576b"
             ],
             [
              0.6666666666666666,
              "#ed7953"
             ],
             [
              0.7777777777777778,
              "#fb9f3a"
             ],
             [
              0.8888888888888888,
              "#fdca26"
             ],
             [
              1,
              "#f0f921"
             ]
            ],
            "type": "histogram2d"
           }
          ],
          "histogram2dcontour": [
           {
            "colorbar": {
             "outlinewidth": 0,
             "ticks": ""
            },
            "colorscale": [
             [
              0,
              "#0d0887"
             ],
             [
              0.1111111111111111,
              "#46039f"
             ],
             [
              0.2222222222222222,
              "#7201a8"
             ],
             [
              0.3333333333333333,
              "#9c179e"
             ],
             [
              0.4444444444444444,
              "#bd3786"
             ],
             [
              0.5555555555555556,
              "#d8576b"
             ],
             [
              0.6666666666666666,
              "#ed7953"
             ],
             [
              0.7777777777777778,
              "#fb9f3a"
             ],
             [
              0.8888888888888888,
              "#fdca26"
             ],
             [
              1,
              "#f0f921"
             ]
            ],
            "type": "histogram2dcontour"
           }
          ],
          "mesh3d": [
           {
            "colorbar": {
             "outlinewidth": 0,
             "ticks": ""
            },
            "type": "mesh3d"
           }
          ],
          "parcoords": [
           {
            "line": {
             "colorbar": {
              "outlinewidth": 0,
              "ticks": ""
             }
            },
            "type": "parcoords"
           }
          ],
          "pie": [
           {
            "automargin": true,
            "type": "pie"
           }
          ],
          "scatter": [
           {
            "fillpattern": {
             "fillmode": "overlay",
             "size": 10,
             "solidity": 0.2
            },
            "type": "scatter"
           }
          ],
          "scatter3d": [
           {
            "line": {
             "colorbar": {
              "outlinewidth": 0,
              "ticks": ""
             }
            },
            "marker": {
             "colorbar": {
              "outlinewidth": 0,
              "ticks": ""
             }
            },
            "type": "scatter3d"
           }
          ],
          "scattercarpet": [
           {
            "marker": {
             "colorbar": {
              "outlinewidth": 0,
              "ticks": ""
             }
            },
            "type": "scattercarpet"
           }
          ],
          "scattergeo": [
           {
            "marker": {
             "colorbar": {
              "outlinewidth": 0,
              "ticks": ""
             }
            },
            "type": "scattergeo"
           }
          ],
          "scattergl": [
           {
            "marker": {
             "colorbar": {
              "outlinewidth": 0,
              "ticks": ""
             }
            },
            "type": "scattergl"
           }
          ],
          "scattermapbox": [
           {
            "marker": {
             "colorbar": {
              "outlinewidth": 0,
              "ticks": ""
             }
            },
            "type": "scattermapbox"
           }
          ],
          "scatterpolar": [
           {
            "marker": {
             "colorbar": {
              "outlinewidth": 0,
              "ticks": ""
             }
            },
            "type": "scatterpolar"
           }
          ],
          "scatterpolargl": [
           {
            "marker": {
             "colorbar": {
              "outlinewidth": 0,
              "ticks": ""
             }
            },
            "type": "scatterpolargl"
           }
          ],
          "scatterternary": [
           {
            "marker": {
             "colorbar": {
              "outlinewidth": 0,
              "ticks": ""
             }
            },
            "type": "scatterternary"
           }
          ],
          "surface": [
           {
            "colorbar": {
             "outlinewidth": 0,
             "ticks": ""
            },
            "colorscale": [
             [
              0,
              "#0d0887"
             ],
             [
              0.1111111111111111,
              "#46039f"
             ],
             [
              0.2222222222222222,
              "#7201a8"
             ],
             [
              0.3333333333333333,
              "#9c179e"
             ],
             [
              0.4444444444444444,
              "#bd3786"
             ],
             [
              0.5555555555555556,
              "#d8576b"
             ],
             [
              0.6666666666666666,
              "#ed7953"
             ],
             [
              0.7777777777777778,
              "#fb9f3a"
             ],
             [
              0.8888888888888888,
              "#fdca26"
             ],
             [
              1,
              "#f0f921"
             ]
            ],
            "type": "surface"
           }
          ],
          "table": [
           {
            "cells": {
             "fill": {
              "color": "#EBF0F8"
             },
             "line": {
              "color": "white"
             }
            },
            "header": {
             "fill": {
              "color": "#C8D4E3"
             },
             "line": {
              "color": "white"
             }
            },
            "type": "table"
           }
          ]
         },
         "layout": {
          "annotationdefaults": {
           "arrowcolor": "#2a3f5f",
           "arrowhead": 0,
           "arrowwidth": 1
          },
          "autotypenumbers": "strict",
          "coloraxis": {
           "colorbar": {
            "outlinewidth": 0,
            "ticks": ""
           }
          },
          "colorscale": {
           "diverging": [
            [
             0,
             "#8e0152"
            ],
            [
             0.1,
             "#c51b7d"
            ],
            [
             0.2,
             "#de77ae"
            ],
            [
             0.3,
             "#f1b6da"
            ],
            [
             0.4,
             "#fde0ef"
            ],
            [
             0.5,
             "#f7f7f7"
            ],
            [
             0.6,
             "#e6f5d0"
            ],
            [
             0.7,
             "#b8e186"
            ],
            [
             0.8,
             "#7fbc41"
            ],
            [
             0.9,
             "#4d9221"
            ],
            [
             1,
             "#276419"
            ]
           ],
           "sequential": [
            [
             0,
             "#0d0887"
            ],
            [
             0.1111111111111111,
             "#46039f"
            ],
            [
             0.2222222222222222,
             "#7201a8"
            ],
            [
             0.3333333333333333,
             "#9c179e"
            ],
            [
             0.4444444444444444,
             "#bd3786"
            ],
            [
             0.5555555555555556,
             "#d8576b"
            ],
            [
             0.6666666666666666,
             "#ed7953"
            ],
            [
             0.7777777777777778,
             "#fb9f3a"
            ],
            [
             0.8888888888888888,
             "#fdca26"
            ],
            [
             1,
             "#f0f921"
            ]
           ],
           "sequentialminus": [
            [
             0,
             "#0d0887"
            ],
            [
             0.1111111111111111,
             "#46039f"
            ],
            [
             0.2222222222222222,
             "#7201a8"
            ],
            [
             0.3333333333333333,
             "#9c179e"
            ],
            [
             0.4444444444444444,
             "#bd3786"
            ],
            [
             0.5555555555555556,
             "#d8576b"
            ],
            [
             0.6666666666666666,
             "#ed7953"
            ],
            [
             0.7777777777777778,
             "#fb9f3a"
            ],
            [
             0.8888888888888888,
             "#fdca26"
            ],
            [
             1,
             "#f0f921"
            ]
           ]
          },
          "colorway": [
           "#636efa",
           "#EF553B",
           "#00cc96",
           "#ab63fa",
           "#FFA15A",
           "#19d3f3",
           "#FF6692",
           "#B6E880",
           "#FF97FF",
           "#FECB52"
          ],
          "font": {
           "color": "#2a3f5f"
          },
          "geo": {
           "bgcolor": "white",
           "lakecolor": "white",
           "landcolor": "#E5ECF6",
           "showlakes": true,
           "showland": true,
           "subunitcolor": "white"
          },
          "hoverlabel": {
           "align": "left"
          },
          "hovermode": "closest",
          "mapbox": {
           "style": "light"
          },
          "paper_bgcolor": "white",
          "plot_bgcolor": "#E5ECF6",
          "polar": {
           "angularaxis": {
            "gridcolor": "white",
            "linecolor": "white",
            "ticks": ""
           },
           "bgcolor": "#E5ECF6",
           "radialaxis": {
            "gridcolor": "white",
            "linecolor": "white",
            "ticks": ""
           }
          },
          "scene": {
           "xaxis": {
            "backgroundcolor": "#E5ECF6",
            "gridcolor": "white",
            "gridwidth": 2,
            "linecolor": "white",
            "showbackground": true,
            "ticks": "",
            "zerolinecolor": "white"
           },
           "yaxis": {
            "backgroundcolor": "#E5ECF6",
            "gridcolor": "white",
            "gridwidth": 2,
            "linecolor": "white",
            "showbackground": true,
            "ticks": "",
            "zerolinecolor": "white"
           },
           "zaxis": {
            "backgroundcolor": "#E5ECF6",
            "gridcolor": "white",
            "gridwidth": 2,
            "linecolor": "white",
            "showbackground": true,
            "ticks": "",
            "zerolinecolor": "white"
           }
          },
          "shapedefaults": {
           "line": {
            "color": "#2a3f5f"
           }
          },
          "ternary": {
           "aaxis": {
            "gridcolor": "white",
            "linecolor": "white",
            "ticks": ""
           },
           "baxis": {
            "gridcolor": "white",
            "linecolor": "white",
            "ticks": ""
           },
           "bgcolor": "#E5ECF6",
           "caxis": {
            "gridcolor": "white",
            "linecolor": "white",
            "ticks": ""
           }
          },
          "title": {
           "x": 0.05
          },
          "xaxis": {
           "automargin": true,
           "gridcolor": "white",
           "linecolor": "white",
           "ticks": "",
           "title": {
            "standoff": 15
           },
           "zerolinecolor": "white",
           "zerolinewidth": 2
          },
          "yaxis": {
           "automargin": true,
           "gridcolor": "white",
           "linecolor": "white",
           "ticks": "",
           "title": {
            "standoff": 15
           },
           "zerolinecolor": "white",
           "zerolinewidth": 2
          }
         }
        },
        "width": 300,
        "xaxis": {
         "anchor": "y",
         "domain": [
          0,
          1
         ],
         "linecolor": "black",
         "linewidth": 2,
         "mirror": false,
         "range": [
          -1,
          4
         ],
         "showline": true,
         "tickcolor": "black",
         "ticklen": 10,
         "ticks": "outside",
         "tickvals": [
          0,
          1,
          2,
          3
         ],
         "tickwidth": 2,
         "title": {
          "text": "x"
         }
        },
        "yaxis": {
         "anchor": "x",
         "domain": [
          0,
          1
         ],
         "linecolor": "black",
         "linewidth": 2,
         "mirror": false,
         "range": [
          -100,
          4000
         ],
         "showline": true,
         "title": {
          "text": "Responsive Area [px]"
         }
        }
       }
      }
     },
     "metadata": {},
     "output_type": "display_data"
    }
   ],
   "source": [
    "import plotly.express as px\n",
    "import numpy as np\n",
    "import pandas as pd\n",
    "\n",
    "# Create empty lists to accumulate the data\n",
    "x_vals = []\n",
    "y_vals = []\n",
    "\n",
    "# Loop to accumulate data\n",
    "for id in np.unique(experiment_ID):\n",
    "    for idx, stim in enumerate(np.unique(stimulus)):\n",
    "        filtered_data = pooled_data[(pooled_data['stimtype'] == stim) & (pooled_data['experiment_ID'] == id)]\n",
    "        responsive_area = filtered_data['size'].sum()\n",
    "        x_vals.append(stim)\n",
    "        y_vals.append(responsive_area)\n",
    "\n",
    "# Create a DataFrame for easier calculation of means\n",
    "data = pd.DataFrame({'x': x_vals, 'y': y_vals})\n",
    "\n",
    "# Calculate the mean for each unique x value\n",
    "means = data.groupby('x')['y'].mean().reset_index()\n",
    "\n",
    "# Create the scatter plot after the loop\n",
    "fig = px.scatter(x=x_vals, y=y_vals, labels={'y': 'Responsive Area [px]'})\n",
    "\n",
    "# Update the layout and traces for the main scatter plot\n",
    "fig.update_layout(width=300, height=400, margin=dict(l=20, r=20, t=20, b=20))\n",
    "fig.update_traces(marker=dict(size=9, color='grey'))\n",
    "fig.update_xaxes(range=[-1, 4])\n",
    "fig.update_yaxes(range=[-100, 4000])\n",
    "\n",
    "# Style the plot\n",
    "fig.update_layout(\n",
    "    plot_bgcolor='white',\n",
    "    xaxis=dict(\n",
    "        showline=True, linewidth=2, linecolor='black', mirror=False,\n",
    "        tickvals=[0, 1, 2, 3],\n",
    "        ticks='outside', ticklen=10, tickwidth=2, tickcolor='black'\n",
    "    ),\n",
    "    yaxis=dict(\n",
    "        showline=True, linewidth=2, linecolor='black', mirror=False\n",
    "    )\n",
    ")\n",
    "\n",
    "# Overlay black dots for the mean values\n",
    "fig.add_scatter(\n",
    "    x=means['x'], y=means['y'], \n",
    "    mode='markers', \n",
    "    marker=dict(size=12, color='crimson', symbol='circle'), \n",
    "    name='Mean'\n",
    ")\n",
    "\n",
    "# Show the plot\n",
    "fig.show()\n"
   ]
  },
  {
   "cell_type": "code",
   "execution_count": 44,
   "metadata": {},
   "outputs": [
    {
     "data": {
      "application/vnd.plotly.v1+json": {
       "config": {
        "plotlyServerURL": "https://plot.ly"
       },
       "data": [
        {
         "hovertemplate": "stimtype=moving stripes<br>ot_depth=%{x}<br>integral=%{y}<extra></extra>",
         "legendgroup": "moving stripes",
         "marker": {
          "color": "#636efa",
          "opacity": 0.9,
          "symbol": "circle"
         },
         "mode": "markers",
         "name": "moving stripes",
         "orientation": "v",
         "showlegend": true,
         "type": "scatter",
         "x": [
          56,
          52,
          54,
          54,
          59,
          50,
          54,
          56,
          50,
          56,
          90,
          70,
          78,
          52,
          81,
          69,
          60,
          61,
          46,
          63,
          71,
          61,
          90,
          45,
          56,
          77,
          47,
          40,
          61,
          69,
          67,
          91,
          89,
          59,
          72,
          69,
          83,
          41,
          71,
          87,
          78,
          81,
          91,
          62,
          70,
          51,
          42,
          69,
          -1,
          41,
          73,
          -1,
          87,
          80,
          88,
          90,
          88,
          -1,
          90,
          68,
          67,
          66,
          71,
          70,
          68,
          66,
          68,
          66,
          63,
          63,
          83,
          59,
          68,
          56,
          60,
          63,
          57,
          52,
          57,
          72,
          82,
          62,
          77,
          81,
          61,
          57,
          101,
          -1,
          80,
          71,
          76,
          87,
          79,
          70,
          86,
          56,
          21,
          -1,
          54,
          56,
          46,
          38,
          62,
          52,
          41,
          33,
          38,
          44,
          90,
          55,
          31,
          51,
          -1,
          43,
          -1,
          37,
          92,
          35,
          94,
          29,
          87,
          53,
          91,
          38,
          -1,
          24,
          46,
          24,
          28,
          -1,
          42,
          24,
          94,
          45,
          36,
          29,
          59,
          47,
          57,
          67,
          38,
          92,
          67,
          47,
          54,
          53,
          59,
          86,
          65
         ],
         "xaxis": "x",
         "y": [
          141.15542602539062,
          84.2626953125,
          84.45551300048828,
          132.8262481689453,
          74.6510009765625,
          47.46073913574219,
          19.66130828857422,
          24.50625991821289,
          67.19852447509766,
          110.93578338623047,
          108.0673599243164,
          27.49213409423828,
          37.01266098022461,
          45.46418380737305,
          55.102760314941406,
          78.84890747070312,
          9.579800605773926,
          25.298236846923828,
          137.61729431152344,
          2.355134963989258,
          32.026126861572266,
          34.422767639160156,
          60.90624237060547,
          38.52496337890625,
          7.500916481018066,
          47.12174987792969,
          6.917316913604736,
          93.27690887451172,
          49.37002944946289,
          67.77802276611328,
          43.80680847167969,
          21.551664352416992,
          69.98316192626953,
          17.162700653076172,
          21.27448272705078,
          20.53936767578125,
          88.89423370361328,
          39.343238830566406,
          33.524200439453125,
          72.84658813476562,
          63.41698455810547,
          54.029510498046875,
          23.712963104248047,
          1.211564540863037,
          21.129806518554688,
          35.02351760864258,
          33.38151168823242,
          4.903201103210449,
          29.03268051147461,
          15.145538330078125,
          38.766422271728516,
          24.15459442138672,
          26.08323860168457,
          22.13568115234375,
          52.4901008605957,
          39.236488342285156,
          6.606759071350098,
          14.820937156677246,
          21.106361389160156,
          272.2761535644531,
          202.18605041503906,
          141.89028930664062,
          222.10882568359375,
          188.07138061523438,
          216.0791473388672,
          148.99732971191406,
          160.756103515625,
          59.156002044677734,
          121.51934814453125,
          53.34953689575195,
          51.213653564453125,
          54.7972297668457,
          138.3781280517578,
          35.09352493286133,
          110.75614166259766,
          42.162452697753906,
          59.35185241699219,
          30.70149803161621,
          19.66775131225586,
          42.078041076660156,
          44.96333694458008,
          16.34247589111328,
          188.29051208496094,
          103.65367889404297,
          22.631502151489258,
          37.67401885986328,
          22.79615020751953,
          33.493350982666016,
          25.956314086914062,
          43.02248764038086,
          33.0604248046875,
          55.17512130737305,
          21.5213623046875,
          11.356223106384277,
          18.921171188354492,
          277.3273620605469,
          110.64604949951172,
          60.72896957397461,
          239.61643981933594,
          205.35916137695312,
          207.72373962402344,
          134.41407775878906,
          196.69625854492188,
          141.85935974121094,
          156.98731994628906,
          32.724159240722656,
          92.2943344116211,
          121.12246704101562,
          67.4848861694336,
          117.12228393554688,
          24.706066131591797,
          21.968021392822266,
          33.47121810913086,
          81.83934020996094,
          24.909027099609375,
          20.76879119873047,
          53.75920104980469,
          87.35407257080078,
          72.26222229003906,
          42.681758880615234,
          43.02449417114258,
          140.95077514648438,
          51.10093307495117,
          39.46528244018555,
          71.44060516357422,
          27.83576011657715,
          42.39741516113281,
          40.36048889160156,
          17.663036346435547,
          32.48580551147461,
          31.490861892700195,
          41.13511657714844,
          37.60649108886719,
          39.32314682006836,
          23.005714416503906,
          29.088987350463867,
          24.67973518371582,
          29.75661849975586,
          45.91755294799805,
          43.663150787353516,
          29.879581451416016,
          45.9134521484375,
          64.53748321533203,
          73.44066619873047,
          39.62760543823242,
          32.6170768737793,
          35.41665267944336,
          22.38713264465332,
          22.069379806518555
         ],
         "yaxis": "y"
        },
        {
         "hovertemplate": "stimtype=dots_ON<br>ot_depth=%{x}<br>integral=%{y}<extra></extra>",
         "legendgroup": "dots_ON",
         "marker": {
          "color": "#EF553B",
          "opacity": 0.9,
          "symbol": "circle"
         },
         "mode": "markers",
         "name": "dots_ON",
         "orientation": "v",
         "showlegend": true,
         "type": "scatter",
         "x": [
          56,
          52,
          56,
          54,
          54,
          59,
          86,
          50,
          57,
          42,
          54,
          56,
          50,
          56,
          54,
          90,
          56,
          70,
          50,
          69,
          78,
          52,
          81,
          69,
          19,
          60,
          61,
          46,
          63,
          83,
          71,
          61,
          90,
          40,
          45,
          52,
          56,
          26,
          77,
          85,
          47,
          40,
          61,
          62,
          69,
          25,
          67,
          91,
          71,
          89,
          59,
          40,
          72,
          65,
          69,
          40,
          15,
          21,
          32,
          79,
          83,
          41,
          65,
          71,
          87,
          45,
          77,
          78,
          -1,
          81,
          75,
          91,
          93,
          44,
          62,
          83,
          70,
          53,
          65,
          76,
          92,
          51,
          33,
          75,
          97,
          44,
          98,
          48,
          67,
          42,
          83,
          95,
          69,
          34,
          37,
          42,
          41,
          73,
          65,
          87,
          80,
          88,
          70,
          68,
          34,
          95,
          101,
          -1,
          68,
          79,
          23,
          52,
          30,
          74,
          48,
          81,
          -1,
          93,
          78,
          101,
          90,
          73,
          101,
          69,
          88,
          88,
          58,
          79,
          33,
          92,
          91,
          82,
          90,
          65,
          69,
          79,
          85,
          61,
          48,
          87,
          77,
          73,
          89,
          91,
          40,
          84,
          100,
          82,
          68,
          67,
          66,
          71,
          70,
          68,
          66,
          68,
          93,
          66,
          63,
          61,
          52,
          63,
          45,
          70,
          48,
          60,
          83,
          83,
          59,
          63,
          93,
          68,
          101,
          56,
          60,
          63,
          101,
          57,
          101,
          96,
          52,
          57,
          72,
          89,
          82,
          62,
          54,
          75,
          77,
          101,
          81,
          94,
          35,
          61,
          71,
          84,
          101,
          57,
          77,
          59,
          101,
          101,
          101,
          80,
          101,
          73,
          59,
          71,
          82,
          71,
          85,
          60,
          56,
          76,
          101,
          87,
          101,
          101,
          88,
          77,
          73,
          90,
          87,
          88,
          45,
          100,
          101,
          101,
          101,
          72,
          101,
          101,
          86,
          25,
          92,
          101,
          63,
          101,
          77,
          101,
          101,
          66,
          80,
          93,
          79,
          70,
          86,
          101,
          56,
          21,
          -1,
          54,
          56,
          46,
          38,
          62,
          52,
          41,
          38,
          -1,
          44,
          32,
          90,
          55,
          -1,
          43,
          37,
          92,
          35,
          94,
          78,
          45,
          87,
          53,
          91,
          38,
          -1,
          73,
          24,
          80,
          94,
          45,
          74,
          80,
          59,
          87,
          79,
          57,
          67,
          66,
          95,
          92,
          67,
          47,
          81,
          80,
          51
         ],
         "xaxis": "x",
         "y": [
          347.11419677734375,
          200.25439453125,
          372.2289733886719,
          197.1257781982422,
          321.9684753417969,
          153.288330078125,
          95.71336364746094,
          123.6907730102539,
          386.8943176269531,
          86.51513671875,
          59.69775390625,
          48.54534912109375,
          163.14340209960938,
          275.702392578125,
          48.91427993774414,
          286.316650390625,
          147.2504119873047,
          68.18959045410156,
          72.95073699951172,
          108.6602554321289,
          242.1360321044922,
          130.66067504882812,
          226.26815795898438,
          201.9248809814453,
          57.4888801574707,
          53.16419982910156,
          64.92804718017578,
          348.5783996582031,
          87.39383697509766,
          77.4646224975586,
          260.5028991699219,
          74.46997833251953,
          255.55043029785156,
          40.496212005615234,
          94.87914276123047,
          102.55097198486328,
          63.47747802734375,
          49.19038009643555,
          310.4655456542969,
          128.42996215820312,
          95.2381591796875,
          228.91912841796875,
          76.89469909667969,
          39.26951217651367,
          204.31227111816406,
          52.03466033935547,
          244.32716369628906,
          183.15614318847656,
          72.07552337646484,
          236.25148010253906,
          190.4586944580078,
          31.145206451416016,
          211.32708740234375,
          30.07356834411621,
          146.51319885253906,
          60.21528244018555,
          29.118425369262695,
          21.701086044311523,
          59.73257827758789,
          122.64848327636719,
          175.1768341064453,
          118.89278411865234,
          36.08183288574219,
          187.61102294921875,
          225.933349609375,
          81.41236114501953,
          67.24639129638672,
          253.17196655273438,
          31.849212646484375,
          167.33270263671875,
          70.2681655883789,
          70.09331512451172,
          74.03660583496094,
          60.87512969970703,
          46.57810592651367,
          72.86723327636719,
          98.27883911132812,
          49.594730377197266,
          91.73242950439453,
          43.517791748046875,
          30.396764755249023,
          162.82632446289062,
          72.02965545654297,
          73.28723907470703,
          37.80200958251953,
          25.00870704650879,
          36.73712921142578,
          38.735450744628906,
          53.06288146972656,
          59.35134506225586,
          35.98028564453125,
          31.75788116455078,
          25.319252014160156,
          71.86884307861328,
          64.22590637207031,
          43.55585479736328,
          102.6680679321289,
          153.92816162109375,
          38.98130416870117,
          55.45242691040039,
          122.32721710205078,
          176.77554321289062,
          23.952295303344727,
          32.44781494140625,
          31.767221450805664,
          93.51177978515625,
          44.65729904174805,
          41.69633865356445,
          168.11801147460938,
          24.158578872680664,
          15.882659912109375,
          25.097105026245117,
          25.91034698486328,
          67.89359283447266,
          31.574522018432617,
          25.211820602416992,
          71.55083465576172,
          22.486934661865234,
          23.7082576751709,
          39.48573303222656,
          107.0771255493164,
          103.00863647460938,
          20.716894149780273,
          48.56148147583008,
          28.305530548095703,
          54.26573944091797,
          85.36033630371094,
          39.74010467529297,
          29.19686508178711,
          40.83164978027344,
          54.801353454589844,
          46.69491958618164,
          33.37477111816406,
          33.51814270019531,
          42.03061294555664,
          48.417518615722656,
          26.979705810546875,
          84.6116943359375,
          47.51569366455078,
          33.07044219970703,
          49.88245391845703,
          17.49362564086914,
          23.89594268798828,
          18.96167755126953,
          27.45565414428711,
          30.613784790039062,
          34.56405258178711,
          24.407163619995117,
          244.50091552734375,
          173.0131378173828,
          134.60479736328125,
          165.6263427734375,
          156.04629516601562,
          202.85928344726562,
          162.46717834472656,
          150.5975799560547,
          52.616615295410156,
          53.7420654296875,
          106.36200714111328,
          39.84210968017578,
          34.7681884765625,
          64.0832748413086,
          30.281707763671875,
          12.426873207092285,
          31.799144744873047,
          25.021160125732422,
          104.61322784423828,
          49.75742721557617,
          68.66133880615234,
          29.524320602416992,
          18.306049346923828,
          130.70635986328125,
          36.53274917602539,
          34.90348815917969,
          121.85679626464844,
          64.82549285888672,
          10.236149787902832,
          38.16196060180664,
          17.85354232788086,
          26.951955795288086,
          19.364126205444336,
          49.07053756713867,
          30.47456932067871,
          27.43779754638672,
          93.95249938964844,
          82.89826965332031,
          18.100419998168945,
          31.32986068725586,
          138.71421813964844,
          22.969072341918945,
          122.60755920410156,
          16.654754638671875,
          36.05845642089844,
          25.503690719604492,
          26.92696189880371,
          38.38697814941406,
          13.184110641479492,
          64.80792999267578,
          32.52268981933594,
          36.20013427734375,
          44.78025436401367,
          22.892667770385742,
          39.669830322265625,
          46.15583419799805,
          19.271955490112305,
          22.00936508178711,
          25.678504943847656,
          33.83073806762695,
          43.972801208496094,
          19.59986114501953,
          28.192291259765625,
          56.41611862182617,
          35.63618469238281,
          26.405879974365234,
          36.914527893066406,
          115.5622329711914,
          23.765748977661133,
          23.252071380615234,
          31.52671241760254,
          28.128925323486328,
          24.314163208007812,
          44.929656982421875,
          26.98270606994629,
          21.08233070373535,
          31.790597915649414,
          14.945053100585938,
          1.3113532066345215,
          18.124767303466797,
          18.64768409729004,
          5.126527309417725,
          24.50663185119629,
          20.846193313598633,
          7.3585100173950195,
          21.81920051574707,
          16.501489639282227,
          9.237195014953613,
          7.856739044189453,
          16.31857681274414,
          14.936251640319824,
          13.408129692077637,
          4.06695556640625,
          13.68204402923584,
          28.080923080444336,
          12.467949867248535,
          10.58626651763916,
          10.687511444091797,
          17.06685447692871,
          10.43320369720459,
          146.36643981933594,
          48.07575225830078,
          53.886390686035156,
          144.706298828125,
          110.86479187011719,
          122.11329650878906,
          72.21796417236328,
          114.6448974609375,
          99.44275665283203,
          70.62274169921875,
          57.361167907714844,
          37.43824768066406,
          81.80924987792969,
          24.366573333740234,
          92.94889831542969,
          56.483028411865234,
          100.5814208984375,
          47.52185821533203,
          14.039996147155762,
          93.16085815429688,
          52.52503204345703,
          67.71560668945312,
          49.44600296020508,
          32.36152267456055,
          90.10714721679688,
          95.5114517211914,
          36.42018127441406,
          29.181201934814453,
          19.444822311401367,
          39.70746612548828,
          24.49289321899414,
          46.7618522644043,
          40.162174224853516,
          28.815502166748047,
          65.77845001220703,
          50.83631134033203,
          51.51625061035156,
          26.39382553100586,
          72.0291748046875,
          34.1889762878418,
          34.54021072387695,
          42.00307083129883,
          28.726911544799805,
          39.53501892089844,
          39.965267181396484,
          50.73990249633789,
          36.283443450927734,
          27.203161239624023,
          27.624427795410156
         ],
         "yaxis": "y"
        },
        {
         "hovertemplate": "stimtype=dots_OFF<br>ot_depth=%{x}<br>integral=%{y}<extra></extra>",
         "legendgroup": "dots_OFF",
         "marker": {
          "color": "#00cc96",
          "opacity": 0.9,
          "symbol": "circle"
         },
         "mode": "markers",
         "name": "dots_OFF",
         "orientation": "v",
         "showlegend": true,
         "type": "scatter",
         "x": [
          52,
          50,
          56,
          78,
          81,
          69,
          46,
          71,
          90,
          77,
          61,
          69,
          67,
          91,
          89,
          59,
          72,
          65,
          65,
          71,
          78,
          75,
          91,
          51,
          75,
          73,
          80,
          95,
          68,
          73,
          69,
          69,
          61,
          77,
          -1,
          68,
          67,
          66,
          71,
          70,
          68,
          66,
          68,
          29,
          93,
          40,
          63,
          101,
          61,
          -1,
          52,
          45,
          45,
          101,
          48,
          83,
          83,
          101,
          93,
          68,
          63,
          101,
          27,
          89,
          62,
          54,
          75,
          77,
          97,
          81,
          35,
          101,
          101,
          59,
          101,
          101,
          87,
          101,
          87,
          88
         ],
         "xaxis": "x",
         "y": [
          16.885194778442383,
          18.342605590820312,
          89.93431091308594,
          56.77489471435547,
          31.26689910888672,
          23.77899169921875,
          41.05685806274414,
          108.49248504638672,
          33.792236328125,
          41.92059326171875,
          8.320068359375,
          33.84789276123047,
          96.18251037597656,
          47.20570755004883,
          43.300933837890625,
          106.84257507324219,
          55.09248733520508,
          17.073347091674805,
          19.91130828857422,
          15.936439514160156,
          35.759429931640625,
          30.089195251464844,
          20.109315872192383,
          52.162296295166016,
          10.05450439453125,
          31.559602737426758,
          20.144187927246094,
          58.45675277709961,
          44.151023864746094,
          10.942544937133789,
          22.692676544189453,
          27.264955520629883,
          47.593299865722656,
          25.242935180664062,
          -21.65477180480957,
          -52.086585998535156,
          -35.55672836303711,
          -31.35485076904297,
          -50.8564453125,
          -27.689327239990234,
          -37.1380500793457,
          -27.436555862426758,
          -25.438169479370117,
          -26.9940242767334,
          -41.6716423034668,
          -23.47467041015625,
          -33.58647918701172,
          -34.55001449584961,
          -29.948284149169922,
          -26.334796905517578,
          -24.92222023010254,
          -28.940256118774414,
          -36.39078140258789,
          -31.935657501220703,
          -33.65406036376953,
          -31.304019927978516,
          -35.26177978515625,
          -36.226261138916016,
          -36.56214141845703,
          -56.10838317871094,
          -38.37918472290039,
          -37.60887908935547,
          -19.156982421875,
          -25.47357940673828,
          -28.246929168701172,
          -30.754009246826172,
          -30.485280990600586,
          -53.06922912597656,
          -20.284767150878906,
          -31.275680541992188,
          -53.64265060424805,
          -22.934831619262695,
          -22.741228103637695,
          -23.35376739501953,
          -33.588382720947266,
          -23.169662475585938,
          -37.161434173583984,
          -16.42523956298828,
          -8.78813648223877,
          -16.708694458007812
         ],
         "yaxis": "y"
        },
        {
         "hovertemplate": "stimtype=loom<br>ot_depth=%{x}<br>integral=%{y}<extra></extra>",
         "legendgroup": "loom",
         "marker": {
          "color": "#ab63fa",
          "opacity": 0.9,
          "symbol": "circle"
         },
         "mode": "markers",
         "name": "loom",
         "orientation": "v",
         "showlegend": true,
         "type": "scatter",
         "x": [
          52,
          56,
          68,
          54,
          59,
          86,
          50,
          42,
          54,
          65,
          50,
          56,
          67,
          54,
          90,
          56,
          70,
          69,
          78,
          52,
          81,
          69,
          19,
          60,
          61,
          46,
          63,
          83,
          71,
          61,
          90,
          40,
          45,
          52,
          56,
          26,
          77,
          85,
          47,
          40,
          61,
          62,
          69,
          25,
          70,
          67,
          91,
          71,
          74,
          89,
          59,
          40,
          72,
          69,
          15,
          21,
          32,
          79,
          83,
          41,
          71,
          87,
          45,
          77,
          78,
          81,
          91,
          93,
          62,
          83,
          70,
          53,
          65,
          76,
          92,
          51,
          33,
          97,
          44,
          98,
          42,
          56,
          34,
          37,
          41,
          73,
          87,
          82,
          80,
          88,
          68,
          34,
          101,
          68,
          79,
          69,
          48,
          93,
          72,
          101,
          101,
          82,
          79,
          48,
          77,
          38,
          68,
          67,
          66,
          71,
          70,
          68,
          87,
          66,
          75,
          68,
          79,
          47,
          93,
          40,
          63,
          26,
          101,
          61,
          52,
          45,
          45,
          59,
          70,
          48,
          60,
          83,
          83,
          59,
          59,
          63,
          101,
          93,
          68,
          101,
          60,
          63,
          101,
          57,
          101,
          96,
          27,
          52,
          57,
          89,
          62,
          54,
          75,
          77,
          38,
          81,
          94,
          35,
          99,
          52,
          71,
          92,
          84,
          36,
          57,
          57,
          101,
          59,
          22,
          73,
          59,
          82,
          36,
          85,
          86,
          27,
          25,
          73,
          94,
          -1,
          -1,
          -1,
          -1,
          -1,
          -1,
          -1,
          101,
          -1,
          -1,
          -1,
          -1,
          -1,
          -1,
          18,
          19,
          8,
          21,
          54,
          28,
          20,
          24,
          26,
          32,
          15,
          35,
          3,
          36,
          8,
          12,
          73,
          29,
          46,
          40,
          16,
          28,
          38,
          57,
          34,
          41,
          23,
          27,
          38,
          71,
          44,
          32,
          31,
          -1,
          86,
          70,
          74,
          8,
          7,
          30,
          33,
          19,
          10,
          37,
          15,
          35,
          78,
          96,
          29,
          53,
          85,
          53,
          38,
          24,
          46,
          27,
          24,
          24,
          37,
          63,
          41,
          74,
          41,
          33,
          24,
          82,
          40,
          29,
          59,
          32,
          47,
          21,
          43,
          53,
          80,
          23,
          11,
          45,
          55,
          -1,
          65,
          34,
          101,
          55,
          40,
          73
         ],
         "xaxis": "x",
         "y": [
          47.93871307373047,
          102.31838989257812,
          2.4571757316589355,
          42.425174713134766,
          27.945152282714844,
          20.25477409362793,
          37.509498596191406,
          16.36984634399414,
          6.1197052001953125,
          -0.48639988899230957,
          32.979671478271484,
          64.04141998291016,
          3.306506395339966,
          8.894096374511719,
          44.142982482910156,
          60.91475296020508,
          8.933741569519043,
          59.1744270324707,
          20.866697311401367,
          35.307403564453125,
          18.370399475097656,
          50.96140670776367,
          12.040624618530273,
          10.442306518554688,
          18.354049682617188,
          68.55223083496094,
          50.10100555419922,
          17.63214874267578,
          21.366817474365234,
          7.659817695617676,
          24.997161865234375,
          16.683134078979492,
          31.64360809326172,
          3.2064404487609863,
          7.349903106689453,
          16.165359497070312,
          23.65084457397461,
          56.56103515625,
          29.33529281616211,
          64.2052993774414,
          18.779006958007812,
          11.455169677734375,
          38.731510162353516,
          21.074460983276367,
          4.0267181396484375,
          28.733156204223633,
          37.63377380371094,
          40.9967041015625,
          -2.527625322341919,
          22.328428268432617,
          35.97734832763672,
          15.764640808105469,
          20.228540420532227,
          11.911033630371094,
          10.642403602600098,
          13.877669334411621,
          8.927188873291016,
          37.7279052734375,
          11.351029396057129,
          27.341522216796875,
          29.257442474365234,
          30.294404983520508,
          8.049196243286133,
          27.346189498901367,
          33.5868034362793,
          4.495438575744629,
          7.87692928314209,
          26.063570022583008,
          4.552642822265625,
          17.898317337036133,
          0.46520447731018066,
          2.307596445083618,
          44.870269775390625,
          11.805447578430176,
          33.4918327331543,
          0.848482608795166,
          17.72597885131836,
          31.5504207611084,
          -1.8094704151153564,
          5.627321243286133,
          21.066267013549805,
          0.10376018285751343,
          31.226476669311523,
          22.491636276245117,
          42.80459976196289,
          15.606546401977539,
          9.11199951171875,
          9.816913604736328,
          16.299131393432617,
          20.423437118530273,
          -0.7228541374206543,
          22.261089324951172,
          7.554330348968506,
          19.18818473815918,
          11.294424057006836,
          10.21370792388916,
          6.025905609130859,
          3.0332319736480713,
          8.747468948364258,
          21.67810821533203,
          15.797121047973633,
          15.800713539123535,
          16.582956314086914,
          20.63142967224121,
          12.824844360351562,
          20.4851131439209,
          31.772777557373047,
          23.036136627197266,
          19.373567581176758,
          38.16849899291992,
          24.556528091430664,
          21.928218841552734,
          4.248811721801758,
          26.438753128051758,
          10.525208473205566,
          23.74177360534668,
          13.806973457336426,
          11.905913352966309,
          23.10253143310547,
          10.99128532409668,
          17.837499618530273,
          10.245777130126953,
          9.15494441986084,
          33.28001403808594,
          27.05878448486328,
          31.550382614135742,
          24.576496124267578,
          17.413183212280273,
          15.81772518157959,
          20.750192642211914,
          16.69739532470703,
          4.06968355178833,
          15.459553718566895,
          14.867277145385742,
          12.958821296691895,
          21.427751541137695,
          20.602188110351562,
          12.411458969116211,
          20.599939346313477,
          -1.6932570934295654,
          34.021400451660156,
          22.925731658935547,
          10.20618724822998,
          9.808049201965332,
          18.934978485107422,
          12.24741268157959,
          15.831747055053711,
          11.652459144592285,
          27.24242401123047,
          12.44370174407959,
          18.347463607788086,
          27.731477737426758,
          34.176841735839844,
          18.21356964111328,
          11.602989196777344,
          10.729411125183105,
          20.64718246459961,
          12.323400497436523,
          9.041112899780273,
          13.415995597839355,
          10.753262519836426,
          12.584278106689453,
          11.14786148071289,
          5.008415222167969,
          7.490970134735107,
          9.778550148010254,
          13.183379173278809,
          11.373368263244629,
          9.819138526916504,
          16.442319869995117,
          15.193146705627441,
          12.803462982177734,
          15.28848934173584,
          15.74718189239502,
          13.874321937561035,
          6.925762176513672,
          27.255599975585938,
          4.028921127319336,
          10.128625869750977,
          123.08155822753906,
          62.7525520324707,
          49.555564880371094,
          64.99128723144531,
          54.26435852050781,
          68.96121215820312,
          36.0217399597168,
          28.795886993408203,
          40.309600830078125,
          21.162738800048828,
          39.04056930541992,
          41.88523864746094,
          28.10946273803711,
          22.146543502807617,
          81.16641998291016,
          34.583866119384766,
          51.1505126953125,
          40.36022186279297,
          7.112856388092041,
          21.933731079101562,
          35.283119201660156,
          30.7469425201416,
          10.663630485534668,
          39.51448440551758,
          36.661197662353516,
          14.478774070739746,
          40.23460006713867,
          22.48603630065918,
          18.241838455200195,
          25.276639938354492,
          10.37350082397461,
          31.467023849487305,
          21.644878387451172,
          13.462454795837402,
          21.59113311767578,
          23.741497039794922,
          -12.21405029296875,
          -2.0007474422454834,
          -16.379100799560547,
          -10.594833374023438,
          24.658456802368164,
          25.184463500976562,
          -3.3618321418762207,
          1.9155831336975098,
          -12.361164093017578,
          -10.588167190551758,
          18.724111557006836,
          15.471349716186523,
          9.973085403442383,
          25.7676944732666,
          28.696950912475586,
          23.595157623291016,
          18.37287712097168,
          23.82277488708496,
          13.357766151428223,
          19.09014129638672,
          19.08694076538086,
          33.350250244140625,
          10.760666847229004,
          -2.547750473022461,
          15.816996574401855,
          14.062795639038086,
          19.19649314880371,
          23.1766357421875,
          6.763510227203369,
          -4.788418769836426,
          18.904409408569336,
          18.30868148803711,
          -6.719061851501465,
          -9.632817268371582,
          31.84721565246582,
          -2.7131619453430176,
          4.860455513000488,
          7.726528167724609,
          9.383987426757812,
          21.00827980041504,
          20.680768966674805,
          26.5004825592041,
          5.350639343261719,
          8.636609077453613,
          19.13567352294922,
          2.1189372539520264,
          -7.893766403198242,
          -7.780555248260498,
          12.448935508728027,
          14.884716033935547,
          -2.141387701034546,
          6.547831058502197,
          19.705055236816406,
          2.306523323059082,
          11.893912315368652,
          1.3520785570144653,
          16.1804141998291,
          17.67259407043457,
          -4.1604461669921875,
          11.377856254577637,
          11.035707473754883,
          3.5616040229797363,
          2.1715102195739746,
          11.328653335571289
         ],
         "yaxis": "y"
        }
       ],
       "layout": {
        "legend": {
         "title": {
          "text": "stimtype"
         },
         "tracegroupgap": 0
        },
        "margin": {
         "t": 60
        },
        "template": {
         "data": {
          "bar": [
           {
            "error_x": {
             "color": "#2a3f5f"
            },
            "error_y": {
             "color": "#2a3f5f"
            },
            "marker": {
             "line": {
              "color": "#E5ECF6",
              "width": 0.5
             },
             "pattern": {
              "fillmode": "overlay",
              "size": 10,
              "solidity": 0.2
             }
            },
            "type": "bar"
           }
          ],
          "barpolar": [
           {
            "marker": {
             "line": {
              "color": "#E5ECF6",
              "width": 0.5
             },
             "pattern": {
              "fillmode": "overlay",
              "size": 10,
              "solidity": 0.2
             }
            },
            "type": "barpolar"
           }
          ],
          "carpet": [
           {
            "aaxis": {
             "endlinecolor": "#2a3f5f",
             "gridcolor": "white",
             "linecolor": "white",
             "minorgridcolor": "white",
             "startlinecolor": "#2a3f5f"
            },
            "baxis": {
             "endlinecolor": "#2a3f5f",
             "gridcolor": "white",
             "linecolor": "white",
             "minorgridcolor": "white",
             "startlinecolor": "#2a3f5f"
            },
            "type": "carpet"
           }
          ],
          "choropleth": [
           {
            "colorbar": {
             "outlinewidth": 0,
             "ticks": ""
            },
            "type": "choropleth"
           }
          ],
          "contour": [
           {
            "colorbar": {
             "outlinewidth": 0,
             "ticks": ""
            },
            "colorscale": [
             [
              0,
              "#0d0887"
             ],
             [
              0.1111111111111111,
              "#46039f"
             ],
             [
              0.2222222222222222,
              "#7201a8"
             ],
             [
              0.3333333333333333,
              "#9c179e"
             ],
             [
              0.4444444444444444,
              "#bd3786"
             ],
             [
              0.5555555555555556,
              "#d8576b"
             ],
             [
              0.6666666666666666,
              "#ed7953"
             ],
             [
              0.7777777777777778,
              "#fb9f3a"
             ],
             [
              0.8888888888888888,
              "#fdca26"
             ],
             [
              1,
              "#f0f921"
             ]
            ],
            "type": "contour"
           }
          ],
          "contourcarpet": [
           {
            "colorbar": {
             "outlinewidth": 0,
             "ticks": ""
            },
            "type": "contourcarpet"
           }
          ],
          "heatmap": [
           {
            "colorbar": {
             "outlinewidth": 0,
             "ticks": ""
            },
            "colorscale": [
             [
              0,
              "#0d0887"
             ],
             [
              0.1111111111111111,
              "#46039f"
             ],
             [
              0.2222222222222222,
              "#7201a8"
             ],
             [
              0.3333333333333333,
              "#9c179e"
             ],
             [
              0.4444444444444444,
              "#bd3786"
             ],
             [
              0.5555555555555556,
              "#d8576b"
             ],
             [
              0.6666666666666666,
              "#ed7953"
             ],
             [
              0.7777777777777778,
              "#fb9f3a"
             ],
             [
              0.8888888888888888,
              "#fdca26"
             ],
             [
              1,
              "#f0f921"
             ]
            ],
            "type": "heatmap"
           }
          ],
          "heatmapgl": [
           {
            "colorbar": {
             "outlinewidth": 0,
             "ticks": ""
            },
            "colorscale": [
             [
              0,
              "#0d0887"
             ],
             [
              0.1111111111111111,
              "#46039f"
             ],
             [
              0.2222222222222222,
              "#7201a8"
             ],
             [
              0.3333333333333333,
              "#9c179e"
             ],
             [
              0.4444444444444444,
              "#bd3786"
             ],
             [
              0.5555555555555556,
              "#d8576b"
             ],
             [
              0.6666666666666666,
              "#ed7953"
             ],
             [
              0.7777777777777778,
              "#fb9f3a"
             ],
             [
              0.8888888888888888,
              "#fdca26"
             ],
             [
              1,
              "#f0f921"
             ]
            ],
            "type": "heatmapgl"
           }
          ],
          "histogram": [
           {
            "marker": {
             "pattern": {
              "fillmode": "overlay",
              "size": 10,
              "solidity": 0.2
             }
            },
            "type": "histogram"
           }
          ],
          "histogram2d": [
           {
            "colorbar": {
             "outlinewidth": 0,
             "ticks": ""
            },
            "colorscale": [
             [
              0,
              "#0d0887"
             ],
             [
              0.1111111111111111,
              "#46039f"
             ],
             [
              0.2222222222222222,
              "#7201a8"
             ],
             [
              0.3333333333333333,
              "#9c179e"
             ],
             [
              0.4444444444444444,
              "#bd3786"
             ],
             [
              0.5555555555555556,
              "#d8576b"
             ],
             [
              0.6666666666666666,
              "#ed7953"
             ],
             [
              0.7777777777777778,
              "#fb9f3a"
             ],
             [
              0.8888888888888888,
              "#fdca26"
             ],
             [
              1,
              "#f0f921"
             ]
            ],
            "type": "histogram2d"
           }
          ],
          "histogram2dcontour": [
           {
            "colorbar": {
             "outlinewidth": 0,
             "ticks": ""
            },
            "colorscale": [
             [
              0,
              "#0d0887"
             ],
             [
              0.1111111111111111,
              "#46039f"
             ],
             [
              0.2222222222222222,
              "#7201a8"
             ],
             [
              0.3333333333333333,
              "#9c179e"
             ],
             [
              0.4444444444444444,
              "#bd3786"
             ],
             [
              0.5555555555555556,
              "#d8576b"
             ],
             [
              0.6666666666666666,
              "#ed7953"
             ],
             [
              0.7777777777777778,
              "#fb9f3a"
             ],
             [
              0.8888888888888888,
              "#fdca26"
             ],
             [
              1,
              "#f0f921"
             ]
            ],
            "type": "histogram2dcontour"
           }
          ],
          "mesh3d": [
           {
            "colorbar": {
             "outlinewidth": 0,
             "ticks": ""
            },
            "type": "mesh3d"
           }
          ],
          "parcoords": [
           {
            "line": {
             "colorbar": {
              "outlinewidth": 0,
              "ticks": ""
             }
            },
            "type": "parcoords"
           }
          ],
          "pie": [
           {
            "automargin": true,
            "type": "pie"
           }
          ],
          "scatter": [
           {
            "fillpattern": {
             "fillmode": "overlay",
             "size": 10,
             "solidity": 0.2
            },
            "type": "scatter"
           }
          ],
          "scatter3d": [
           {
            "line": {
             "colorbar": {
              "outlinewidth": 0,
              "ticks": ""
             }
            },
            "marker": {
             "colorbar": {
              "outlinewidth": 0,
              "ticks": ""
             }
            },
            "type": "scatter3d"
           }
          ],
          "scattercarpet": [
           {
            "marker": {
             "colorbar": {
              "outlinewidth": 0,
              "ticks": ""
             }
            },
            "type": "scattercarpet"
           }
          ],
          "scattergeo": [
           {
            "marker": {
             "colorbar": {
              "outlinewidth": 0,
              "ticks": ""
             }
            },
            "type": "scattergeo"
           }
          ],
          "scattergl": [
           {
            "marker": {
             "colorbar": {
              "outlinewidth": 0,
              "ticks": ""
             }
            },
            "type": "scattergl"
           }
          ],
          "scattermapbox": [
           {
            "marker": {
             "colorbar": {
              "outlinewidth": 0,
              "ticks": ""
             }
            },
            "type": "scattermapbox"
           }
          ],
          "scatterpolar": [
           {
            "marker": {
             "colorbar": {
              "outlinewidth": 0,
              "ticks": ""
             }
            },
            "type": "scatterpolar"
           }
          ],
          "scatterpolargl": [
           {
            "marker": {
             "colorbar": {
              "outlinewidth": 0,
              "ticks": ""
             }
            },
            "type": "scatterpolargl"
           }
          ],
          "scatterternary": [
           {
            "marker": {
             "colorbar": {
              "outlinewidth": 0,
              "ticks": ""
             }
            },
            "type": "scatterternary"
           }
          ],
          "surface": [
           {
            "colorbar": {
             "outlinewidth": 0,
             "ticks": ""
            },
            "colorscale": [
             [
              0,
              "#0d0887"
             ],
             [
              0.1111111111111111,
              "#46039f"
             ],
             [
              0.2222222222222222,
              "#7201a8"
             ],
             [
              0.3333333333333333,
              "#9c179e"
             ],
             [
              0.4444444444444444,
              "#bd3786"
             ],
             [
              0.5555555555555556,
              "#d8576b"
             ],
             [
              0.6666666666666666,
              "#ed7953"
             ],
             [
              0.7777777777777778,
              "#fb9f3a"
             ],
             [
              0.8888888888888888,
              "#fdca26"
             ],
             [
              1,
              "#f0f921"
             ]
            ],
            "type": "surface"
           }
          ],
          "table": [
           {
            "cells": {
             "fill": {
              "color": "#EBF0F8"
             },
             "line": {
              "color": "white"
             }
            },
            "header": {
             "fill": {
              "color": "#C8D4E3"
             },
             "line": {
              "color": "white"
             }
            },
            "type": "table"
           }
          ]
         },
         "layout": {
          "annotationdefaults": {
           "arrowcolor": "#2a3f5f",
           "arrowhead": 0,
           "arrowwidth": 1
          },
          "autotypenumbers": "strict",
          "coloraxis": {
           "colorbar": {
            "outlinewidth": 0,
            "ticks": ""
           }
          },
          "colorscale": {
           "diverging": [
            [
             0,
             "#8e0152"
            ],
            [
             0.1,
             "#c51b7d"
            ],
            [
             0.2,
             "#de77ae"
            ],
            [
             0.3,
             "#f1b6da"
            ],
            [
             0.4,
             "#fde0ef"
            ],
            [
             0.5,
             "#f7f7f7"
            ],
            [
             0.6,
             "#e6f5d0"
            ],
            [
             0.7,
             "#b8e186"
            ],
            [
             0.8,
             "#7fbc41"
            ],
            [
             0.9,
             "#4d9221"
            ],
            [
             1,
             "#276419"
            ]
           ],
           "sequential": [
            [
             0,
             "#0d0887"
            ],
            [
             0.1111111111111111,
             "#46039f"
            ],
            [
             0.2222222222222222,
             "#7201a8"
            ],
            [
             0.3333333333333333,
             "#9c179e"
            ],
            [
             0.4444444444444444,
             "#bd3786"
            ],
            [
             0.5555555555555556,
             "#d8576b"
            ],
            [
             0.6666666666666666,
             "#ed7953"
            ],
            [
             0.7777777777777778,
             "#fb9f3a"
            ],
            [
             0.8888888888888888,
             "#fdca26"
            ],
            [
             1,
             "#f0f921"
            ]
           ],
           "sequentialminus": [
            [
             0,
             "#0d0887"
            ],
            [
             0.1111111111111111,
             "#46039f"
            ],
            [
             0.2222222222222222,
             "#7201a8"
            ],
            [
             0.3333333333333333,
             "#9c179e"
            ],
            [
             0.4444444444444444,
             "#bd3786"
            ],
            [
             0.5555555555555556,
             "#d8576b"
            ],
            [
             0.6666666666666666,
             "#ed7953"
            ],
            [
             0.7777777777777778,
             "#fb9f3a"
            ],
            [
             0.8888888888888888,
             "#fdca26"
            ],
            [
             1,
             "#f0f921"
            ]
           ]
          },
          "colorway": [
           "#636efa",
           "#EF553B",
           "#00cc96",
           "#ab63fa",
           "#FFA15A",
           "#19d3f3",
           "#FF6692",
           "#B6E880",
           "#FF97FF",
           "#FECB52"
          ],
          "font": {
           "color": "#2a3f5f"
          },
          "geo": {
           "bgcolor": "white",
           "lakecolor": "white",
           "landcolor": "#E5ECF6",
           "showlakes": true,
           "showland": true,
           "subunitcolor": "white"
          },
          "hoverlabel": {
           "align": "left"
          },
          "hovermode": "closest",
          "mapbox": {
           "style": "light"
          },
          "paper_bgcolor": "white",
          "plot_bgcolor": "#E5ECF6",
          "polar": {
           "angularaxis": {
            "gridcolor": "white",
            "linecolor": "white",
            "ticks": ""
           },
           "bgcolor": "#E5ECF6",
           "radialaxis": {
            "gridcolor": "white",
            "linecolor": "white",
            "ticks": ""
           }
          },
          "scene": {
           "xaxis": {
            "backgroundcolor": "#E5ECF6",
            "gridcolor": "white",
            "gridwidth": 2,
            "linecolor": "white",
            "showbackground": true,
            "ticks": "",
            "zerolinecolor": "white"
           },
           "yaxis": {
            "backgroundcolor": "#E5ECF6",
            "gridcolor": "white",
            "gridwidth": 2,
            "linecolor": "white",
            "showbackground": true,
            "ticks": "",
            "zerolinecolor": "white"
           },
           "zaxis": {
            "backgroundcolor": "#E5ECF6",
            "gridcolor": "white",
            "gridwidth": 2,
            "linecolor": "white",
            "showbackground": true,
            "ticks": "",
            "zerolinecolor": "white"
           }
          },
          "shapedefaults": {
           "line": {
            "color": "#2a3f5f"
           }
          },
          "ternary": {
           "aaxis": {
            "gridcolor": "white",
            "linecolor": "white",
            "ticks": ""
           },
           "baxis": {
            "gridcolor": "white",
            "linecolor": "white",
            "ticks": ""
           },
           "bgcolor": "#E5ECF6",
           "caxis": {
            "gridcolor": "white",
            "linecolor": "white",
            "ticks": ""
           }
          },
          "title": {
           "x": 0.05
          },
          "xaxis": {
           "automargin": true,
           "gridcolor": "white",
           "linecolor": "white",
           "ticks": "",
           "title": {
            "standoff": 15
           },
           "zerolinecolor": "white",
           "zerolinewidth": 2
          },
          "yaxis": {
           "automargin": true,
           "gridcolor": "white",
           "linecolor": "white",
           "ticks": "",
           "title": {
            "standoff": 15
           },
           "zerolinecolor": "white",
           "zerolinewidth": 2
          }
         }
        },
        "xaxis": {
         "anchor": "y",
         "domain": [
          0,
          1
         ],
         "title": {
          "text": "ot_depth"
         }
        },
        "yaxis": {
         "anchor": "x",
         "domain": [
          0,
          1
         ],
         "title": {
          "text": "integral"
         }
        }
       }
      }
     },
     "metadata": {},
     "output_type": "display_data"
    }
   ],
   "source": [
    "px.scatter(pooled_data, x='ot_depth', y='integral', color=pooled_data['stimtype'], opacity=0.9)"
   ]
  },
  {
   "cell_type": "code",
   "execution_count": 36,
   "metadata": {},
   "outputs": [
    {
     "data": {
      "application/vnd.plotly.v1+json": {
       "config": {
        "plotlyServerURL": "https://plot.ly"
       },
       "data": [
        {
         "alignmentgroup": "True",
         "bingroup": "x",
         "hovertemplate": "stimtype=moving stripes<br>latency=%{x}<br>count=%{y}<extra></extra>",
         "legendgroup": "moving stripes",
         "marker": {
          "color": "#636efa",
          "opacity": 0.7,
          "pattern": {
           "shape": ""
          }
         },
         "name": "moving stripes",
         "nbinsx": 40,
         "offsetgroup": "moving stripes",
         "orientation": "v",
         "showlegend": true,
         "type": "histogram",
         "x": [
          97.13701467309195,
          107.361963586049,
          92.02454021661343,
          97.13701467309195,
          102.24948912957048,
          107.361963586049,
          97.13701467309195,
          122.69938695548458,
          102.24948912957048,
          122.69938695548458,
          107.361963586049,
          81.79959130365638,
          112.47443804252752,
          97.13701467309195,
          97.13701467309195,
          127.81186141196311,
          107.361963586049,
          117.58691249900605,
          97.13701467309195,
          107.361963586049,
          97.13701467309195,
          117.58691249900605,
          92.02454021661343,
          102.24948912957048,
          97.13701467309195,
          102.24948912957048,
          76.68711684717786,
          127.81186141196311,
          112.47443804252752,
          92.02454021661343,
          112.47443804252752,
          107.361963586049,
          81.79959130365638,
          102.24948912957048,
          112.47443804252752,
          97.13701467309195,
          102.24948912957048,
          112.47443804252752,
          97.13701467309195,
          92.02454021661343,
          102.24948912957048,
          112.47443804252752,
          122.69938695548458,
          112.47443804252752,
          97.13701467309195,
          102.24948912957048,
          97.13701467309195,
          51.12474456478524,
          86.91206576013491,
          97.13701467309195,
          86.91206576013491,
          92.02454021661343,
          112.47443804252752,
          97.13701467309195,
          92.02454021661343,
          92.02454021661343,
          51.12474456478524,
          92.02454021661343,
          143.14928478139868,
          122.69938695548458,
          122.69938695548458,
          92.02454021661343,
          107.361963586049,
          107.361963586049,
          127.81186141196311,
          102.24948912957048,
          97.13701467309195,
          112.47443804252752,
          102.24948912957048,
          102.24948912957048,
          97.13701467309195,
          86.91206576013491,
          107.361963586049,
          163.59918260731277,
          153.37423369435572,
          122.69938695548458,
          122.69938695548458,
          127.81186141196311,
          102.24948912957048,
          163.59918260731277,
          107.361963586049,
          148.2617592378772,
          122.69938695548458,
          112.47443804252752,
          81.79959130365638,
          102.24948912957048,
          209.6114527156195,
          122.69938695548458,
          86.91206576013491,
          112.47443804252752,
          97.13701467309195,
          71.57464239069934,
          102.24948912957048,
          168.7116570637913,
          97.13701467309195,
          107.361963586049,
          122.69938695548458,
          148.2617592378772,
          117.58691249900605,
          102.24948912957048,
          138.03681032492014,
          92.02454021661343,
          143.14928478139868,
          112.47443804252752,
          122.69938695548458,
          117.58691249900605,
          97.13701467309195,
          194.2740293461839,
          112.47443804252752,
          97.13701467309195,
          230.06135054153359,
          178.93660597674835,
          122.69938695548458,
          122.69938695548458,
          102.24948912957048,
          107.361963586049,
          143.14928478139868,
          112.47443804252752,
          102.24948912957048,
          224.94887608505505,
          107.361963586049,
          148.2617592378772,
          102.24948912957048,
          107.361963586049,
          132.92433586844163,
          102.24948912957048,
          92.02454021661343,
          230.06135054153359,
          112.47443804252752,
          214.723927172098,
          204.49897825914096,
          112.47443804252752,
          112.47443804252752,
          122.69938695548458,
          122.69938695548458,
          107.361963586049,
          76.68711684717786,
          209.6114527156195,
          219.83640162857654,
          230.06135054153359,
          122.69938695548458,
          122.69938695548458,
          112.47443804252752,
          127.81186141196311,
          76.68711684717786,
          127.81186141196311,
          81.79959130365638,
          148.2617592378772,
          66.46216793422082
         ],
         "xaxis": "x",
         "yaxis": "y"
        },
        {
         "alignmentgroup": "True",
         "bingroup": "x",
         "hovertemplate": "stimtype=dots_ON<br>latency=%{x}<br>count=%{y}<extra></extra>",
         "legendgroup": "dots_ON",
         "marker": {
          "color": "#EF553B",
          "opacity": 0.7,
          "pattern": {
           "shape": ""
          }
         },
         "name": "dots_ON",
         "nbinsx": 40,
         "offsetgroup": "dots_ON",
         "orientation": "v",
         "showlegend": true,
         "type": "histogram",
         "x": [
          194.2740293461839,
          189.1615548897054,
          189.1615548897054,
          209.6114527156195,
          189.1615548897054,
          189.1615548897054,
          209.6114527156195,
          189.1615548897054,
          199.38650380266245,
          199.38650380266245,
          199.38650380266245,
          184.04908043322686,
          189.1615548897054,
          189.1615548897054,
          173.82413152026982,
          199.38650380266245,
          158.48670815083423,
          184.04908043322686,
          178.93660597674835,
          184.04908043322686,
          189.1615548897054,
          199.38650380266245,
          189.1615548897054,
          189.1615548897054,
          173.82413152026982,
          235.1738249980121,
          199.38650380266245,
          189.1615548897054,
          219.83640162857654,
          235.1738249980121,
          209.6114527156195,
          189.1615548897054,
          189.1615548897054,
          153.37423369435572,
          173.82413152026982,
          148.2617592378772,
          194.2740293461839,
          199.38650380266245,
          189.1615548897054,
          199.38650380266245,
          138.03681032492014,
          204.49897825914096,
          163.59918260731277,
          204.49897825914096,
          184.04908043322686,
          209.6114527156195,
          184.04908043322686,
          194.2740293461839,
          199.38650380266245,
          194.2740293461839,
          189.1615548897054,
          214.723927172098,
          199.38650380266245,
          189.1615548897054,
          194.2740293461839,
          178.93660597674835,
          235.1738249980121,
          230.06135054153359,
          163.59918260731277,
          204.49897825914096,
          194.2740293461839,
          199.38650380266245,
          184.04908043322686,
          209.6114527156195,
          189.1615548897054,
          189.1615548897054,
          199.38650380266245,
          199.38650380266245,
          168.7116570637913,
          184.04908043322686,
          178.93660597674835,
          194.2740293461839,
          219.83640162857654,
          235.1738249980121,
          178.93660597674835,
          209.6114527156195,
          194.2740293461839,
          148.2617592378772,
          189.1615548897054,
          230.06135054153359,
          214.723927172098,
          189.1615548897054,
          204.49897825914096,
          189.1615548897054,
          219.83640162857654,
          86.91206576013491,
          178.93660597674835,
          143.14928478139868,
          230.06135054153359,
          184.04908043322686,
          194.2740293461839,
          168.7116570637913,
          122.69938695548458,
          163.59918260731277,
          127.81186141196311,
          148.2617592378772,
          189.1615548897054,
          199.38650380266245,
          138.03681032492014,
          184.04908043322686,
          189.1615548897054,
          194.2740293461839,
          153.37423369435572,
          107.361963586049,
          199.38650380266245,
          209.6114527156195,
          219.83640162857654,
          117.58691249900605,
          173.82413152026982,
          97.13701467309195,
          224.94887608505505,
          143.14928478139868,
          132.92433586844163,
          163.59918260731277,
          189.1615548897054,
          199.38650380266245,
          127.81186141196311,
          204.49897825914096,
          194.2740293461839,
          204.49897825914096,
          199.38650380266245,
          194.2740293461839,
          204.49897825914096,
          148.2617592378772,
          214.723927172098,
          204.49897825914096,
          168.7116570637913,
          148.2617592378772,
          199.38650380266245,
          209.6114527156195,
          184.04908043322686,
          204.49897825914096,
          204.49897825914096,
          168.7116570637913,
          178.93660597674835,
          168.7116570637913,
          209.6114527156195,
          173.82413152026982,
          168.7116570637913,
          230.06135054153359,
          194.2740293461839,
          199.38650380266245,
          184.04908043322686,
          178.93660597674835,
          214.723927172098,
          173.82413152026982,
          235.1738249980121,
          199.38650380266245,
          199.38650380266245,
          204.49897825914096,
          199.38650380266245,
          199.38650380266245,
          163.59918260731277,
          194.2740293461839,
          204.49897825914096,
          199.38650380266245,
          204.49897825914096,
          194.2740293461839,
          199.38650380266245,
          219.83640162857654,
          209.6114527156195,
          189.1615548897054,
          204.49897825914096,
          224.94887608505505,
          214.723927172098,
          219.83640162857654,
          204.49897825914096,
          219.83640162857654,
          209.6114527156195,
          209.6114527156195,
          219.83640162857654,
          158.48670815083423,
          219.83640162857654,
          204.49897825914096,
          178.93660597674835,
          214.723927172098,
          209.6114527156195,
          194.2740293461839,
          219.83640162857654,
          214.723927172098,
          138.03681032492014,
          214.723927172098,
          194.2740293461839,
          209.6114527156195,
          178.93660597674835,
          230.06135054153359,
          235.1738249980121,
          209.6114527156195,
          199.38650380266245,
          153.37423369435572,
          158.48670815083423,
          204.49897825914096,
          143.14928478139868,
          209.6114527156195,
          132.92433586844163,
          224.94887608505505,
          209.6114527156195,
          158.48670815083423,
          143.14928478139868,
          199.38650380266245,
          209.6114527156195,
          194.2740293461839,
          219.83640162857654,
          199.38650380266245,
          153.37423369435572,
          219.83640162857654,
          148.2617592378772,
          173.82413152026982,
          199.38650380266245,
          138.03681032492014,
          204.49897825914096,
          209.6114527156195,
          199.38650380266245,
          209.6114527156195,
          163.59918260731277,
          199.38650380266245,
          235.1738249980121,
          173.82413152026982,
          219.83640162857654,
          224.94887608505505,
          189.1615548897054,
          158.48670815083423,
          178.93660597674835,
          158.48670815083423,
          209.6114527156195,
          209.6114527156195,
          214.723927172098,
          163.59918260731277,
          138.03681032492014,
          199.38650380266245,
          148.2617592378772,
          173.82413152026982,
          209.6114527156195,
          214.723927172098,
          184.04908043322686,
          194.2740293461839,
          204.49897825914096,
          153.37423369435572,
          168.7116570637913,
          199.38650380266245,
          132.92433586844163,
          168.7116570637913,
          148.2617592378772,
          204.49897825914096,
          143.14928478139868,
          189.1615548897054,
          214.723927172098,
          235.1738249980121,
          173.82413152026982,
          158.48670815083423,
          194.2740293461839,
          184.04908043322686,
          158.48670815083423,
          163.59918260731277,
          178.93660597674835,
          132.92433586844163,
          117.58691249900605,
          163.59918260731277,
          168.7116570637913,
          209.6114527156195,
          178.93660597674835,
          189.1615548897054,
          107.361963586049,
          158.48670815083423,
          189.1615548897054,
          184.04908043322686,
          209.6114527156195,
          122.69938695548458,
          163.59918260731277,
          143.14928478139868,
          102.24948912957048,
          153.37423369435572,
          230.06135054153359,
          163.59918260731277,
          117.58691249900605,
          194.2740293461839,
          163.59918260731277,
          92.02454021661343,
          214.723927172098,
          112.47443804252752,
          219.83640162857654,
          112.47443804252752,
          219.83640162857654,
          158.48670815083423,
          117.58691249900605,
          132.92433586844163,
          112.47443804252752,
          184.04908043322686,
          107.361963586049,
          143.14928478139868,
          127.81186141196311,
          209.6114527156195,
          178.93660597674835,
          148.2617592378772,
          173.82413152026982,
          148.2617592378772,
          112.47443804252752
         ],
         "xaxis": "x",
         "yaxis": "y"
        },
        {
         "alignmentgroup": "True",
         "bingroup": "x",
         "hovertemplate": "stimtype=dots_OFF<br>latency=%{x}<br>count=%{y}<extra></extra>",
         "legendgroup": "dots_OFF",
         "marker": {
          "color": "#00cc96",
          "opacity": 0.7,
          "pattern": {
           "shape": ""
          }
         },
         "name": "dots_OFF",
         "nbinsx": 40,
         "offsetgroup": "dots_OFF",
         "orientation": "v",
         "showlegend": true,
         "type": "histogram",
         "x": [
          158.48670815083423,
          148.2617592378772,
          178.93660597674835,
          153.37423369435572,
          153.37423369435572,
          158.48670815083423,
          107.361963586049,
          163.59918260731277,
          127.81186141196311,
          163.59918260731277,
          163.59918260731277,
          199.38650380266245,
          173.82413152026982,
          168.7116570637913,
          163.59918260731277,
          199.38650380266245,
          173.82413152026982,
          235.1738249980121,
          194.2740293461839,
          163.59918260731277,
          194.2740293461839,
          178.93660597674835,
          178.93660597674835,
          173.82413152026982,
          235.1738249980121,
          184.04908043322686,
          127.81186141196311,
          178.93660597674835,
          209.6114527156195,
          178.93660597674835,
          178.93660597674835,
          199.38650380266245,
          178.93660597674835,
          235.1738249980121,
          224.94887608505505,
          138.03681032492014,
          158.48670815083423,
          230.06135054153359,
          199.38650380266245,
          163.59918260731277,
          92.02454021661343,
          219.83640162857654,
          86.91206576013491,
          219.83640162857654,
          235.1738249980121,
          219.83640162857654,
          158.48670815083423,
          235.1738249980121,
          158.48670815083423,
          204.49897825914096,
          209.6114527156195,
          189.1615548897054,
          230.06135054153359,
          235.1738249980121,
          173.82413152026982,
          235.1738249980121,
          209.6114527156195,
          204.49897825914096,
          122.69938695548458,
          219.83640162857654,
          224.94887608505505,
          235.1738249980121,
          214.723927172098,
          230.06135054153359,
          230.06135054153359,
          194.2740293461839,
          143.14928478139868,
          184.04908043322686,
          230.06135054153359,
          81.79959130365638,
          214.723927172098,
          194.2740293461839,
          235.1738249980121,
          219.83640162857654,
          235.1738249980121,
          235.1738249980121,
          199.38650380266245,
          230.06135054153359,
          56.23721902126376,
          224.94887608505505
         ],
         "xaxis": "x",
         "yaxis": "y"
        },
        {
         "alignmentgroup": "True",
         "bingroup": "x",
         "hovertemplate": "stimtype=loom<br>latency=%{x}<br>count=%{y}<extra></extra>",
         "legendgroup": "loom",
         "marker": {
          "color": "#ab63fa",
          "opacity": 0.7,
          "pattern": {
           "shape": ""
          }
         },
         "name": "loom",
         "nbinsx": 40,
         "offsetgroup": "loom",
         "orientation": "v",
         "showlegend": true,
         "type": "histogram",
         "x": [
          143.14928478139868,
          148.2617592378772,
          143.14928478139868,
          153.37423369435572,
          138.03681032492014,
          148.2617592378772,
          153.37423369435572,
          158.48670815083423,
          148.2617592378772,
          97.13701467309195,
          143.14928478139868,
          148.2617592378772,
          148.2617592378772,
          184.04908043322686,
          153.37423369435572,
          143.14928478139868,
          204.49897825914096,
          158.48670815083423,
          138.03681032492014,
          148.2617592378772,
          153.37423369435572,
          143.14928478139868,
          153.37423369435572,
          163.59918260731277,
          143.14928478139868,
          148.2617592378772,
          148.2617592378772,
          158.48670815083423,
          132.92433586844163,
          143.14928478139868,
          148.2617592378772,
          189.1615548897054,
          143.14928478139868,
          143.14928478139868,
          97.13701467309195,
          163.59918260731277,
          173.82413152026982,
          178.93660597674835,
          204.49897825914096,
          148.2617592378772,
          143.14928478139868,
          132.92433586844163,
          138.03681032492014,
          138.03681032492014,
          148.2617592378772,
          148.2617592378772,
          138.03681032492014,
          153.37423369435572,
          143.14928478139868,
          143.14928478139868,
          143.14928478139868,
          148.2617592378772,
          153.37423369435572,
          153.37423369435572,
          143.14928478139868,
          143.14928478139868,
          143.14928478139868,
          153.37423369435572,
          153.37423369435572,
          148.2617592378772,
          148.2617592378772,
          163.59918260731277,
          143.14928478139868,
          178.93660597674835,
          189.1615548897054,
          148.2617592378772,
          189.1615548897054,
          138.03681032492014,
          153.37423369435572,
          143.14928478139868,
          148.2617592378772,
          143.14928478139868,
          148.2617592378772,
          158.48670815083423,
          143.14928478139868,
          148.2617592378772,
          153.37423369435572,
          163.59918260731277,
          97.13701467309195,
          148.2617592378772,
          163.59918260731277,
          143.14928478139868,
          143.14928478139868,
          153.37423369435572,
          148.2617592378772,
          132.92433586844163,
          148.2617592378772,
          143.14928478139868,
          153.37423369435572,
          138.03681032492014,
          168.7116570637913,
          138.03681032492014,
          143.14928478139868,
          138.03681032492014,
          194.2740293461839,
          168.7116570637913,
          194.2740293461839,
          168.7116570637913,
          148.2617592378772,
          163.59918260731277,
          143.14928478139868,
          173.82413152026982,
          168.7116570637913,
          184.04908043322686,
          163.59918260731277,
          158.48670815083423,
          148.2617592378772,
          148.2617592378772,
          143.14928478139868,
          143.14928478139868,
          153.37423369435572,
          148.2617592378772,
          168.7116570637913,
          158.48670815083423,
          178.93660597674835,
          148.2617592378772,
          158.48670815083423,
          158.48670815083423,
          143.14928478139868,
          148.2617592378772,
          153.37423369435572,
          148.2617592378772,
          178.93660597674835,
          153.37423369435572,
          153.37423369435572,
          153.37423369435572,
          148.2617592378772,
          148.2617592378772,
          158.48670815083423,
          153.37423369435572,
          148.2617592378772,
          148.2617592378772,
          153.37423369435572,
          158.48670815083423,
          168.7116570637913,
          148.2617592378772,
          153.37423369435572,
          158.48670815083423,
          143.14928478139868,
          153.37423369435572,
          148.2617592378772,
          138.03681032492014,
          153.37423369435572,
          163.59918260731277,
          163.59918260731277,
          173.82413152026982,
          148.2617592378772,
          153.37423369435572,
          153.37423369435572,
          158.48670815083423,
          168.7116570637913,
          153.37423369435572,
          153.37423369435572,
          143.14928478139868,
          153.37423369435572,
          143.14928478139868,
          178.93660597674835,
          178.93660597674835,
          158.48670815083423,
          143.14928478139868,
          158.48670815083423,
          168.7116570637913,
          194.2740293461839,
          163.59918260731277,
          158.48670815083423,
          138.03681032492014,
          178.93660597674835,
          143.14928478139868,
          143.14928478139868,
          168.7116570637913,
          153.37423369435572,
          173.82413152026982,
          143.14928478139868,
          153.37423369435572,
          168.7116570637913,
          178.93660597674835,
          173.82413152026982,
          81.79959130365638,
          148.2617592378772,
          127.81186141196311,
          199.38650380266245,
          112.47443804252752,
          189.1615548897054,
          127.81186141196311,
          112.47443804252752,
          117.58691249900605,
          143.14928478139868,
          107.361963586049,
          117.58691249900605,
          102.24948912957048,
          86.91206576013491,
          132.92433586844163,
          132.92433586844163,
          158.48670815083423,
          138.03681032492014,
          153.37423369435572,
          153.37423369435572,
          153.37423369435572,
          153.37423369435572,
          143.14928478139868,
          148.2617592378772,
          143.14928478139868,
          153.37423369435572,
          143.14928478139868,
          148.2617592378772,
          138.03681032492014,
          158.48670815083423,
          153.37423369435572,
          138.03681032492014,
          148.2617592378772,
          148.2617592378772,
          148.2617592378772,
          143.14928478139868,
          138.03681032492014,
          153.37423369435572,
          66.46216793422082,
          148.2617592378772,
          117.58691249900605,
          138.03681032492014,
          132.92433586844163,
          138.03681032492014,
          112.47443804252752,
          148.2617592378772,
          148.2617592378772,
          97.13701467309195,
          143.14928478139868,
          153.37423369435572,
          153.37423369435572,
          158.48670815083423,
          148.2617592378772,
          153.37423369435572,
          153.37423369435572,
          143.14928478139868,
          138.03681032492014,
          132.92433586844163,
          148.2617592378772,
          168.7116570637913,
          158.48670815083423,
          148.2617592378772,
          148.2617592378772,
          158.48670815083423,
          163.59918260731277,
          153.37423369435572,
          143.14928478139868,
          92.02454021661343,
          153.37423369435572,
          138.03681032492014,
          66.46216793422082,
          138.03681032492014,
          143.14928478139868,
          168.7116570637913,
          158.48670815083423,
          148.2617592378772,
          153.37423369435572,
          158.48670815083423,
          132.92433586844163,
          143.14928478139868,
          173.82413152026982,
          148.2617592378772,
          143.14928478139868,
          122.69938695548458,
          204.49897825914096,
          71.57464239069934,
          132.92433586844163,
          148.2617592378772,
          86.91206576013491,
          148.2617592378772,
          168.7116570637913,
          148.2617592378772,
          178.93660597674835,
          138.03681032492014,
          148.2617592378772,
          153.37423369435572,
          158.48670815083423,
          143.14928478139868,
          148.2617592378772,
          153.37423369435572,
          153.37423369435572,
          138.03681032492014
         ],
         "xaxis": "x",
         "yaxis": "y"
        }
       ],
       "layout": {
        "barmode": "relative",
        "legend": {
         "title": {
          "text": "stimtype"
         },
         "tracegroupgap": 0
        },
        "margin": {
         "t": 60
        },
        "template": {
         "data": {
          "bar": [
           {
            "error_x": {
             "color": "#2a3f5f"
            },
            "error_y": {
             "color": "#2a3f5f"
            },
            "marker": {
             "line": {
              "color": "#E5ECF6",
              "width": 0.5
             },
             "pattern": {
              "fillmode": "overlay",
              "size": 10,
              "solidity": 0.2
             }
            },
            "type": "bar"
           }
          ],
          "barpolar": [
           {
            "marker": {
             "line": {
              "color": "#E5ECF6",
              "width": 0.5
             },
             "pattern": {
              "fillmode": "overlay",
              "size": 10,
              "solidity": 0.2
             }
            },
            "type": "barpolar"
           }
          ],
          "carpet": [
           {
            "aaxis": {
             "endlinecolor": "#2a3f5f",
             "gridcolor": "white",
             "linecolor": "white",
             "minorgridcolor": "white",
             "startlinecolor": "#2a3f5f"
            },
            "baxis": {
             "endlinecolor": "#2a3f5f",
             "gridcolor": "white",
             "linecolor": "white",
             "minorgridcolor": "white",
             "startlinecolor": "#2a3f5f"
            },
            "type": "carpet"
           }
          ],
          "choropleth": [
           {
            "colorbar": {
             "outlinewidth": 0,
             "ticks": ""
            },
            "type": "choropleth"
           }
          ],
          "contour": [
           {
            "colorbar": {
             "outlinewidth": 0,
             "ticks": ""
            },
            "colorscale": [
             [
              0,
              "#0d0887"
             ],
             [
              0.1111111111111111,
              "#46039f"
             ],
             [
              0.2222222222222222,
              "#7201a8"
             ],
             [
              0.3333333333333333,
              "#9c179e"
             ],
             [
              0.4444444444444444,
              "#bd3786"
             ],
             [
              0.5555555555555556,
              "#d8576b"
             ],
             [
              0.6666666666666666,
              "#ed7953"
             ],
             [
              0.7777777777777778,
              "#fb9f3a"
             ],
             [
              0.8888888888888888,
              "#fdca26"
             ],
             [
              1,
              "#f0f921"
             ]
            ],
            "type": "contour"
           }
          ],
          "contourcarpet": [
           {
            "colorbar": {
             "outlinewidth": 0,
             "ticks": ""
            },
            "type": "contourcarpet"
           }
          ],
          "heatmap": [
           {
            "colorbar": {
             "outlinewidth": 0,
             "ticks": ""
            },
            "colorscale": [
             [
              0,
              "#0d0887"
             ],
             [
              0.1111111111111111,
              "#46039f"
             ],
             [
              0.2222222222222222,
              "#7201a8"
             ],
             [
              0.3333333333333333,
              "#9c179e"
             ],
             [
              0.4444444444444444,
              "#bd3786"
             ],
             [
              0.5555555555555556,
              "#d8576b"
             ],
             [
              0.6666666666666666,
              "#ed7953"
             ],
             [
              0.7777777777777778,
              "#fb9f3a"
             ],
             [
              0.8888888888888888,
              "#fdca26"
             ],
             [
              1,
              "#f0f921"
             ]
            ],
            "type": "heatmap"
           }
          ],
          "heatmapgl": [
           {
            "colorbar": {
             "outlinewidth": 0,
             "ticks": ""
            },
            "colorscale": [
             [
              0,
              "#0d0887"
             ],
             [
              0.1111111111111111,
              "#46039f"
             ],
             [
              0.2222222222222222,
              "#7201a8"
             ],
             [
              0.3333333333333333,
              "#9c179e"
             ],
             [
              0.4444444444444444,
              "#bd3786"
             ],
             [
              0.5555555555555556,
              "#d8576b"
             ],
             [
              0.6666666666666666,
              "#ed7953"
             ],
             [
              0.7777777777777778,
              "#fb9f3a"
             ],
             [
              0.8888888888888888,
              "#fdca26"
             ],
             [
              1,
              "#f0f921"
             ]
            ],
            "type": "heatmapgl"
           }
          ],
          "histogram": [
           {
            "marker": {
             "pattern": {
              "fillmode": "overlay",
              "size": 10,
              "solidity": 0.2
             }
            },
            "type": "histogram"
           }
          ],
          "histogram2d": [
           {
            "colorbar": {
             "outlinewidth": 0,
             "ticks": ""
            },
            "colorscale": [
             [
              0,
              "#0d0887"
             ],
             [
              0.1111111111111111,
              "#46039f"
             ],
             [
              0.2222222222222222,
              "#7201a8"
             ],
             [
              0.3333333333333333,
              "#9c179e"
             ],
             [
              0.4444444444444444,
              "#bd3786"
             ],
             [
              0.5555555555555556,
              "#d8576b"
             ],
             [
              0.6666666666666666,
              "#ed7953"
             ],
             [
              0.7777777777777778,
              "#fb9f3a"
             ],
             [
              0.8888888888888888,
              "#fdca26"
             ],
             [
              1,
              "#f0f921"
             ]
            ],
            "type": "histogram2d"
           }
          ],
          "histogram2dcontour": [
           {
            "colorbar": {
             "outlinewidth": 0,
             "ticks": ""
            },
            "colorscale": [
             [
              0,
              "#0d0887"
             ],
             [
              0.1111111111111111,
              "#46039f"
             ],
             [
              0.2222222222222222,
              "#7201a8"
             ],
             [
              0.3333333333333333,
              "#9c179e"
             ],
             [
              0.4444444444444444,
              "#bd3786"
             ],
             [
              0.5555555555555556,
              "#d8576b"
             ],
             [
              0.6666666666666666,
              "#ed7953"
             ],
             [
              0.7777777777777778,
              "#fb9f3a"
             ],
             [
              0.8888888888888888,
              "#fdca26"
             ],
             [
              1,
              "#f0f921"
             ]
            ],
            "type": "histogram2dcontour"
           }
          ],
          "mesh3d": [
           {
            "colorbar": {
             "outlinewidth": 0,
             "ticks": ""
            },
            "type": "mesh3d"
           }
          ],
          "parcoords": [
           {
            "line": {
             "colorbar": {
              "outlinewidth": 0,
              "ticks": ""
             }
            },
            "type": "parcoords"
           }
          ],
          "pie": [
           {
            "automargin": true,
            "type": "pie"
           }
          ],
          "scatter": [
           {
            "fillpattern": {
             "fillmode": "overlay",
             "size": 10,
             "solidity": 0.2
            },
            "type": "scatter"
           }
          ],
          "scatter3d": [
           {
            "line": {
             "colorbar": {
              "outlinewidth": 0,
              "ticks": ""
             }
            },
            "marker": {
             "colorbar": {
              "outlinewidth": 0,
              "ticks": ""
             }
            },
            "type": "scatter3d"
           }
          ],
          "scattercarpet": [
           {
            "marker": {
             "colorbar": {
              "outlinewidth": 0,
              "ticks": ""
             }
            },
            "type": "scattercarpet"
           }
          ],
          "scattergeo": [
           {
            "marker": {
             "colorbar": {
              "outlinewidth": 0,
              "ticks": ""
             }
            },
            "type": "scattergeo"
           }
          ],
          "scattergl": [
           {
            "marker": {
             "colorbar": {
              "outlinewidth": 0,
              "ticks": ""
             }
            },
            "type": "scattergl"
           }
          ],
          "scattermapbox": [
           {
            "marker": {
             "colorbar": {
              "outlinewidth": 0,
              "ticks": ""
             }
            },
            "type": "scattermapbox"
           }
          ],
          "scatterpolar": [
           {
            "marker": {
             "colorbar": {
              "outlinewidth": 0,
              "ticks": ""
             }
            },
            "type": "scatterpolar"
           }
          ],
          "scatterpolargl": [
           {
            "marker": {
             "colorbar": {
              "outlinewidth": 0,
              "ticks": ""
             }
            },
            "type": "scatterpolargl"
           }
          ],
          "scatterternary": [
           {
            "marker": {
             "colorbar": {
              "outlinewidth": 0,
              "ticks": ""
             }
            },
            "type": "scatterternary"
           }
          ],
          "surface": [
           {
            "colorbar": {
             "outlinewidth": 0,
             "ticks": ""
            },
            "colorscale": [
             [
              0,
              "#0d0887"
             ],
             [
              0.1111111111111111,
              "#46039f"
             ],
             [
              0.2222222222222222,
              "#7201a8"
             ],
             [
              0.3333333333333333,
              "#9c179e"
             ],
             [
              0.4444444444444444,
              "#bd3786"
             ],
             [
              0.5555555555555556,
              "#d8576b"
             ],
             [
              0.6666666666666666,
              "#ed7953"
             ],
             [
              0.7777777777777778,
              "#fb9f3a"
             ],
             [
              0.8888888888888888,
              "#fdca26"
             ],
             [
              1,
              "#f0f921"
             ]
            ],
            "type": "surface"
           }
          ],
          "table": [
           {
            "cells": {
             "fill": {
              "color": "#EBF0F8"
             },
             "line": {
              "color": "white"
             }
            },
            "header": {
             "fill": {
              "color": "#C8D4E3"
             },
             "line": {
              "color": "white"
             }
            },
            "type": "table"
           }
          ]
         },
         "layout": {
          "annotationdefaults": {
           "arrowcolor": "#2a3f5f",
           "arrowhead": 0,
           "arrowwidth": 1
          },
          "autotypenumbers": "strict",
          "coloraxis": {
           "colorbar": {
            "outlinewidth": 0,
            "ticks": ""
           }
          },
          "colorscale": {
           "diverging": [
            [
             0,
             "#8e0152"
            ],
            [
             0.1,
             "#c51b7d"
            ],
            [
             0.2,
             "#de77ae"
            ],
            [
             0.3,
             "#f1b6da"
            ],
            [
             0.4,
             "#fde0ef"
            ],
            [
             0.5,
             "#f7f7f7"
            ],
            [
             0.6,
             "#e6f5d0"
            ],
            [
             0.7,
             "#b8e186"
            ],
            [
             0.8,
             "#7fbc41"
            ],
            [
             0.9,
             "#4d9221"
            ],
            [
             1,
             "#276419"
            ]
           ],
           "sequential": [
            [
             0,
             "#0d0887"
            ],
            [
             0.1111111111111111,
             "#46039f"
            ],
            [
             0.2222222222222222,
             "#7201a8"
            ],
            [
             0.3333333333333333,
             "#9c179e"
            ],
            [
             0.4444444444444444,
             "#bd3786"
            ],
            [
             0.5555555555555556,
             "#d8576b"
            ],
            [
             0.6666666666666666,
             "#ed7953"
            ],
            [
             0.7777777777777778,
             "#fb9f3a"
            ],
            [
             0.8888888888888888,
             "#fdca26"
            ],
            [
             1,
             "#f0f921"
            ]
           ],
           "sequentialminus": [
            [
             0,
             "#0d0887"
            ],
            [
             0.1111111111111111,
             "#46039f"
            ],
            [
             0.2222222222222222,
             "#7201a8"
            ],
            [
             0.3333333333333333,
             "#9c179e"
            ],
            [
             0.4444444444444444,
             "#bd3786"
            ],
            [
             0.5555555555555556,
             "#d8576b"
            ],
            [
             0.6666666666666666,
             "#ed7953"
            ],
            [
             0.7777777777777778,
             "#fb9f3a"
            ],
            [
             0.8888888888888888,
             "#fdca26"
            ],
            [
             1,
             "#f0f921"
            ]
           ]
          },
          "colorway": [
           "#636efa",
           "#EF553B",
           "#00cc96",
           "#ab63fa",
           "#FFA15A",
           "#19d3f3",
           "#FF6692",
           "#B6E880",
           "#FF97FF",
           "#FECB52"
          ],
          "font": {
           "color": "#2a3f5f"
          },
          "geo": {
           "bgcolor": "white",
           "lakecolor": "white",
           "landcolor": "#E5ECF6",
           "showlakes": true,
           "showland": true,
           "subunitcolor": "white"
          },
          "hoverlabel": {
           "align": "left"
          },
          "hovermode": "closest",
          "mapbox": {
           "style": "light"
          },
          "paper_bgcolor": "white",
          "plot_bgcolor": "#E5ECF6",
          "polar": {
           "angularaxis": {
            "gridcolor": "white",
            "linecolor": "white",
            "ticks": ""
           },
           "bgcolor": "#E5ECF6",
           "radialaxis": {
            "gridcolor": "white",
            "linecolor": "white",
            "ticks": ""
           }
          },
          "scene": {
           "xaxis": {
            "backgroundcolor": "#E5ECF6",
            "gridcolor": "white",
            "gridwidth": 2,
            "linecolor": "white",
            "showbackground": true,
            "ticks": "",
            "zerolinecolor": "white"
           },
           "yaxis": {
            "backgroundcolor": "#E5ECF6",
            "gridcolor": "white",
            "gridwidth": 2,
            "linecolor": "white",
            "showbackground": true,
            "ticks": "",
            "zerolinecolor": "white"
           },
           "zaxis": {
            "backgroundcolor": "#E5ECF6",
            "gridcolor": "white",
            "gridwidth": 2,
            "linecolor": "white",
            "showbackground": true,
            "ticks": "",
            "zerolinecolor": "white"
           }
          },
          "shapedefaults": {
           "line": {
            "color": "#2a3f5f"
           }
          },
          "ternary": {
           "aaxis": {
            "gridcolor": "white",
            "linecolor": "white",
            "ticks": ""
           },
           "baxis": {
            "gridcolor": "white",
            "linecolor": "white",
            "ticks": ""
           },
           "bgcolor": "#E5ECF6",
           "caxis": {
            "gridcolor": "white",
            "linecolor": "white",
            "ticks": ""
           }
          },
          "title": {
           "x": 0.05
          },
          "xaxis": {
           "automargin": true,
           "gridcolor": "white",
           "linecolor": "white",
           "ticks": "",
           "title": {
            "standoff": 15
           },
           "zerolinecolor": "white",
           "zerolinewidth": 2
          },
          "yaxis": {
           "automargin": true,
           "gridcolor": "white",
           "linecolor": "white",
           "ticks": "",
           "title": {
            "standoff": 15
           },
           "zerolinecolor": "white",
           "zerolinewidth": 2
          }
         }
        },
        "xaxis": {
         "anchor": "y",
         "domain": [
          0,
          1
         ],
         "title": {
          "text": "latency"
         }
        },
        "yaxis": {
         "anchor": "x",
         "domain": [
          0,
          1
         ],
         "title": {
          "text": "count"
         }
        }
       }
      }
     },
     "metadata": {},
     "output_type": "display_data"
    }
   ],
   "source": [
    "px.histogram(pooled_data, x='latency', color=pooled_data['stimtype'], opacity=0.7, nbins=40)"
   ]
  }
 ],
 "metadata": {
  "kernelspec": {
   "display_name": "PYGOR-TIMESERIES",
   "language": "python",
   "name": "python3"
  },
  "language_info": {
   "codemirror_mode": {
    "name": "ipython",
    "version": 3
   },
   "file_extension": ".py",
   "mimetype": "text/x-python",
   "name": "python",
   "nbconvert_exporter": "python",
   "pygments_lexer": "ipython3",
   "version": "3.12.5"
  }
 },
 "nbformat": 4,
 "nbformat_minor": 2
}
