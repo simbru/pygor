{
 "cells": [
  {
   "cell_type": "code",
   "execution_count": 446,
   "metadata": {},
   "outputs": [],
   "source": [
    "import numpy as np\n",
    "import plotly.graph_objects as go\n",
    "import os\n",
    "import pickle \n",
    "import pandas as pd\n",
    "\n",
    "filepath = 'C:/Users/Michael Forsthofer/OneDrive - University of Sussex/BadenLab/2p-imaging/singleplane/St53/'\n",
    "pkl_files = [f for f in os.listdir(filepath) if f.endswith('.pkl')]\n",
    "\n",
    "roi_data = pd.DataFrame(columns=['stimulus', 'ot_depth', 'plane_depth', 'amplitude', 'size', 'xy_centroid','experiment_ID', 'stage'])\n",
    "\n"
   ]
  },
  {
   "cell_type": "code",
   "execution_count": 447,
   "metadata": {},
   "outputs": [],
   "source": [
    "def pool_variable(input_data, stim):\n",
    "    data_to_get = input_data[stim]\n",
    "    if len(data_to_get)>0:\n",
    "        flattened_data = np.hstack(data_to_get)\n",
    "    else:\n",
    "        flattened_data = np.array([])\n",
    "    return flattened_data\n",
    "\n",
    "#def measure_rois(inptud_data, stim):\n",
    "    "
   ]
  },
  {
   "cell_type": "code",
   "execution_count": 449,
   "metadata": {},
   "outputs": [],
   "source": [
    "ot_depth = []\n",
    "amplitude = []\n",
    "size = []\n",
    "stimulus = []\n",
    "plane_depth = []\n",
    "experiment_ID = []\n",
    "stage = []\n",
    "x_centroid = []\n",
    "y_centroid = []\n",
    "\n",
    "for pkl_file in pkl_files:\n",
    "    with open(filepath+pkl_file, 'rb') as f:\n",
    "        extracted_data_loaded = pickle.load(f)\n",
    "        \n",
    "        stims = list(extracted_data_loaded['depths'].keys())\n",
    "        cur_plane_depth = extracted_data_loaded['metadata']['depth']\n",
    "        cur_stage = filepath.split('St')[-1].split('/')[0]\n",
    "\n",
    "        for cur_stim in stims:\n",
    "\n",
    "            cur_ot_depth = pool_variable(extracted_data_loaded['depths'], cur_stim)\n",
    "            ot_depth.extend(cur_ot_depth)\n",
    "            amplitude.extend(pool_variable(extracted_data_loaded['amplitudes'], cur_stim))\n",
    "            size.extend(pool_variable(extracted_data_loaded['sizes'], cur_stim))\n",
    "            #x_centroid.extend(pool_variable(extracted_data_loaded['x_centroid'], cur_stim))\n",
    "            #y_centroid.extend(pool_variable(extracted_data_loaded['y_centroid'], cur_stim))\n",
    "            stimulus.extend(np.repeat(np.array(cur_stim), len(cur_ot_depth)))\n",
    "            plane_depth.extend(np.repeat(np.array(cur_plane_depth), len(cur_ot_depth)))\n",
    "            experiment_ID.extend(np.repeat(np.array(pkl_file[11:26]), len(cur_ot_depth)))\n",
    "            stage.extend(np.repeat(np.array(cur_stage), len(cur_ot_depth)))\n",
    "        # for stim in stimuli:\n",
    "        #     flattened_list = extracted_data_loaded['depths'][stim]\n",
    "        #     if len(flattened_list)>0:\n",
    "        #         flattened_list = np.hstack(flattened_list)\n",
    "        #     depths[stim].append(flattened_list)"
   ]
  },
  {
   "cell_type": "code",
   "execution_count": 456,
   "metadata": {},
   "outputs": [],
   "source": [
    "pooled_data = pd.DataFrame({'ot_depth': ot_depth, \n",
    "                     'amplitude': amplitude, \n",
    "                     'size': size,\n",
    "                     'x_centroid': x_centroid,\n",
    "                     'y_centroid': y_centroid,\n",
    "                     'stimtype': stimulus,\n",
    "                     'plane_depth': plane_depth,\n",
    "                     'experiment_ID': experiment_ID,\n",
    "                     'stage': stage})"
   ]
  },
  {
   "cell_type": "code",
   "execution_count": 455,
   "metadata": {},
   "outputs": [
    {
     "data": {
      "text/plain": [
       "805"
      ]
     },
     "execution_count": 455,
     "metadata": {},
     "output_type": "execute_result"
    }
   ],
   "source": [
    "len(amplitude)"
   ]
  },
  {
   "cell_type": "code",
   "execution_count": 457,
   "metadata": {},
   "outputs": [
    {
     "ename": "KeyError",
     "evalue": "'stimtype'",
     "output_type": "error",
     "traceback": [
      "\u001b[1;31m---------------------------------------------------------------------------\u001b[0m",
      "\u001b[1;31mKeyError\u001b[0m                                  Traceback (most recent call last)",
      "File \u001b[1;32mc:\\miniconda3\\envs\\PYGOR-TIMESERIES\\Lib\\site-packages\\pandas\\core\\indexes\\base.py:3805\u001b[0m, in \u001b[0;36mIndex.get_loc\u001b[1;34m(self, key)\u001b[0m\n\u001b[0;32m   3804\u001b[0m \u001b[38;5;28;01mtry\u001b[39;00m:\n\u001b[1;32m-> 3805\u001b[0m     \u001b[38;5;28;01mreturn\u001b[39;00m \u001b[38;5;28;43mself\u001b[39;49m\u001b[38;5;241;43m.\u001b[39;49m\u001b[43m_engine\u001b[49m\u001b[38;5;241;43m.\u001b[39;49m\u001b[43mget_loc\u001b[49m\u001b[43m(\u001b[49m\u001b[43mcasted_key\u001b[49m\u001b[43m)\u001b[49m\n\u001b[0;32m   3806\u001b[0m \u001b[38;5;28;01mexcept\u001b[39;00m \u001b[38;5;167;01mKeyError\u001b[39;00m \u001b[38;5;28;01mas\u001b[39;00m err:\n",
      "File \u001b[1;32mindex.pyx:167\u001b[0m, in \u001b[0;36mpandas._libs.index.IndexEngine.get_loc\u001b[1;34m()\u001b[0m\n",
      "File \u001b[1;32mindex.pyx:196\u001b[0m, in \u001b[0;36mpandas._libs.index.IndexEngine.get_loc\u001b[1;34m()\u001b[0m\n",
      "File \u001b[1;32mpandas\\\\_libs\\\\hashtable_class_helper.pxi:7081\u001b[0m, in \u001b[0;36mpandas._libs.hashtable.PyObjectHashTable.get_item\u001b[1;34m()\u001b[0m\n",
      "File \u001b[1;32mpandas\\\\_libs\\\\hashtable_class_helper.pxi:7089\u001b[0m, in \u001b[0;36mpandas._libs.hashtable.PyObjectHashTable.get_item\u001b[1;34m()\u001b[0m\n",
      "\u001b[1;31mKeyError\u001b[0m: 'stimtype'",
      "\nThe above exception was the direct cause of the following exception:\n",
      "\u001b[1;31mKeyError\u001b[0m                                  Traceback (most recent call last)",
      "Cell \u001b[1;32mIn[457], line 6\u001b[0m\n\u001b[0;32m      3\u001b[0m fig \u001b[38;5;241m=\u001b[39m go\u001b[38;5;241m.\u001b[39mFigure()\n\u001b[0;32m      5\u001b[0m \u001b[38;5;66;03m# Loop through each unique value of 'stimtype'\u001b[39;00m\n\u001b[1;32m----> 6\u001b[0m \u001b[38;5;28;01mfor\u001b[39;00m stim \u001b[38;5;129;01min\u001b[39;00m \u001b[43mpooled_data\u001b[49m\u001b[43m[\u001b[49m\u001b[38;5;124;43m'\u001b[39;49m\u001b[38;5;124;43mstimtype\u001b[39;49m\u001b[38;5;124;43m'\u001b[39;49m\u001b[43m]\u001b[49m\u001b[38;5;241m.\u001b[39munique():\n\u001b[0;32m      7\u001b[0m     filtered_data \u001b[38;5;241m=\u001b[39m pooled_data[pooled_data[\u001b[38;5;124m'\u001b[39m\u001b[38;5;124mstimtype\u001b[39m\u001b[38;5;124m'\u001b[39m] \u001b[38;5;241m==\u001b[39m stim]\n\u001b[0;32m      8\u001b[0m     fig\u001b[38;5;241m.\u001b[39madd_trace(go\u001b[38;5;241m.\u001b[39mHistogram(y\u001b[38;5;241m=\u001b[39mfiltered_data[\u001b[38;5;124m'\u001b[39m\u001b[38;5;124mot_depth\u001b[39m\u001b[38;5;124m'\u001b[39m], name\u001b[38;5;241m=\u001b[39mstim, \n\u001b[0;32m      9\u001b[0m                                ybins \u001b[38;5;241m=\u001b[39m \u001b[38;5;28mdict\u001b[39m(  \n\u001b[0;32m     10\u001b[0m             start\u001b[38;5;241m=\u001b[39m\u001b[38;5;241m0\u001b[39m,\n\u001b[0;32m     11\u001b[0m             end\u001b[38;5;241m=\u001b[39m\u001b[38;5;241m100\u001b[39m,\n\u001b[0;32m     12\u001b[0m             size\u001b[38;5;241m=\u001b[39m\u001b[38;5;241m6\u001b[39m)\n\u001b[0;32m     13\u001b[0m         ))  \u001b[38;5;66;03m# Set nbinsx to desired number of bins\u001b[39;00m\n",
      "File \u001b[1;32mc:\\miniconda3\\envs\\PYGOR-TIMESERIES\\Lib\\site-packages\\pandas\\core\\frame.py:4102\u001b[0m, in \u001b[0;36mDataFrame.__getitem__\u001b[1;34m(self, key)\u001b[0m\n\u001b[0;32m   4100\u001b[0m \u001b[38;5;28;01mif\u001b[39;00m \u001b[38;5;28mself\u001b[39m\u001b[38;5;241m.\u001b[39mcolumns\u001b[38;5;241m.\u001b[39mnlevels \u001b[38;5;241m>\u001b[39m \u001b[38;5;241m1\u001b[39m:\n\u001b[0;32m   4101\u001b[0m     \u001b[38;5;28;01mreturn\u001b[39;00m \u001b[38;5;28mself\u001b[39m\u001b[38;5;241m.\u001b[39m_getitem_multilevel(key)\n\u001b[1;32m-> 4102\u001b[0m indexer \u001b[38;5;241m=\u001b[39m \u001b[38;5;28;43mself\u001b[39;49m\u001b[38;5;241;43m.\u001b[39;49m\u001b[43mcolumns\u001b[49m\u001b[38;5;241;43m.\u001b[39;49m\u001b[43mget_loc\u001b[49m\u001b[43m(\u001b[49m\u001b[43mkey\u001b[49m\u001b[43m)\u001b[49m\n\u001b[0;32m   4103\u001b[0m \u001b[38;5;28;01mif\u001b[39;00m is_integer(indexer):\n\u001b[0;32m   4104\u001b[0m     indexer \u001b[38;5;241m=\u001b[39m [indexer]\n",
      "File \u001b[1;32mc:\\miniconda3\\envs\\PYGOR-TIMESERIES\\Lib\\site-packages\\pandas\\core\\indexes\\base.py:3812\u001b[0m, in \u001b[0;36mIndex.get_loc\u001b[1;34m(self, key)\u001b[0m\n\u001b[0;32m   3807\u001b[0m     \u001b[38;5;28;01mif\u001b[39;00m \u001b[38;5;28misinstance\u001b[39m(casted_key, \u001b[38;5;28mslice\u001b[39m) \u001b[38;5;129;01mor\u001b[39;00m (\n\u001b[0;32m   3808\u001b[0m         \u001b[38;5;28misinstance\u001b[39m(casted_key, abc\u001b[38;5;241m.\u001b[39mIterable)\n\u001b[0;32m   3809\u001b[0m         \u001b[38;5;129;01mand\u001b[39;00m \u001b[38;5;28many\u001b[39m(\u001b[38;5;28misinstance\u001b[39m(x, \u001b[38;5;28mslice\u001b[39m) \u001b[38;5;28;01mfor\u001b[39;00m x \u001b[38;5;129;01min\u001b[39;00m casted_key)\n\u001b[0;32m   3810\u001b[0m     ):\n\u001b[0;32m   3811\u001b[0m         \u001b[38;5;28;01mraise\u001b[39;00m InvalidIndexError(key)\n\u001b[1;32m-> 3812\u001b[0m     \u001b[38;5;28;01mraise\u001b[39;00m \u001b[38;5;167;01mKeyError\u001b[39;00m(key) \u001b[38;5;28;01mfrom\u001b[39;00m \u001b[38;5;21;01merr\u001b[39;00m\n\u001b[0;32m   3813\u001b[0m \u001b[38;5;28;01mexcept\u001b[39;00m \u001b[38;5;167;01mTypeError\u001b[39;00m:\n\u001b[0;32m   3814\u001b[0m     \u001b[38;5;66;03m# If we have a listlike key, _check_indexing_error will raise\u001b[39;00m\n\u001b[0;32m   3815\u001b[0m     \u001b[38;5;66;03m#  InvalidIndexError. Otherwise we fall through and re-raise\u001b[39;00m\n\u001b[0;32m   3816\u001b[0m     \u001b[38;5;66;03m#  the TypeError.\u001b[39;00m\n\u001b[0;32m   3817\u001b[0m     \u001b[38;5;28mself\u001b[39m\u001b[38;5;241m.\u001b[39m_check_indexing_error(key)\n",
      "\u001b[1;31mKeyError\u001b[0m: 'stimtype'"
     ]
    }
   ],
   "source": [
    "import plotly.graph_objects as go\n",
    "\n",
    "fig = go.Figure()\n",
    "\n",
    "# Loop through each unique value of 'stimtype'\n",
    "for stim in pooled_data['stimtype'].unique():\n",
    "    filtered_data = pooled_data[pooled_data['stimtype'] == stim]\n",
    "    fig.add_trace(go.Histogram(y=filtered_data['ot_depth'], name=stim, \n",
    "                               ybins = dict(  \n",
    "            start=0,\n",
    "            end=100,\n",
    "            size=6)\n",
    "        ))  # Set nbinsx to desired number of bins\n",
    "\n",
    "# Update the layout\n",
    "fig.update_layout(barmode='overlay', yaxis_title='y_centroid', xaxis_title='Count', width=400, height=400, margin=dict(l=20, r=20, t=20, b=20),)\n",
    "fig.update_traces(opacity=0.75)\n",
    "#fig.update_xaxes(range=[0, 100])  # Disable gridlines for x-axis\n",
    "fig.update_yaxes(range=[0,100])  # Disable gridlines for y-axis\n",
    "\n",
    "fig.show()"
   ]
  },
  {
   "cell_type": "code",
   "execution_count": 435,
   "metadata": {},
   "outputs": [
    {
     "data": {
      "application/vnd.plotly.v1+json": {
       "config": {
        "plotlyServerURL": "https://plot.ly"
       },
       "data": [
        {
         "name": "moving stripes",
         "opacity": 0.75,
         "type": "histogram",
         "x": [
          254,
          248.7948717948718,
          236,
          245.5,
          232,
          260.1290322580645,
          226.3939393939394,
          234,
          241.05555555555554,
          269.27272727272725,
          269,
          231.48717948717947,
          265.8378378378378,
          237.85294117647058,
          273,
          247.42857142857142,
          219.05263157894737,
          245,
          268,
          302.37142857142857,
          258.92105263157896,
          244,
          273.43333333333334,
          250.03030303030303,
          222.72727272727272,
          275.1714285714286,
          229.26666666666668,
          269.90909090909093,
          246,
          251.5,
          269.3142857142857,
          278.9,
          264.6666666666667,
          274,
          266.27272727272725,
          242.28125,
          282.8205128205128,
          262.89473684210526,
          255.25806451612902,
          259.3235294117647,
          278.7647058823529,
          285.93548387096774,
          289.741935483871,
          213.7058823529412,
          238.3846153846154,
          273.25,
          241.57142857142858,
          226.63636363636363,
          43.13333333333333,
          275.0833333333333,
          280.8421052631579,
          36.84615384615385,
          293.8333333333333,
          262.2857142857143,
          254.06666666666666,
          250.375,
          237.8,
          141,
          263
         ],
         "ybins": {
          "end": 512,
          "size": 50,
          "start": 0
         }
        },
        {
         "name": "dots_ON",
         "opacity": 0.75,
         "type": "histogram",
         "x": [
          254,
          248.7948717948718,
          260,
          236,
          245.5,
          232,
          311,
          260.1290322580645,
          257.5,
          287,
          226.3939393939394,
          234,
          241.05555555555554,
          269.27272727272725,
          233,
          269,
          297.1290322580645,
          231.48717948717947,
          293,
          306.94444444444446,
          265.8378378378378,
          237.85294117647058,
          273,
          247.42857142857142,
          270,
          219.05263157894737,
          245,
          268,
          302.37142857142857,
          316,
          258.92105263157896,
          244,
          273.43333333333334,
          257.1714285714286,
          250.03030303030303,
          294,
          222.72727272727272,
          274.5,
          275.1714285714286,
          318.5,
          229.26666666666668,
          269.90909090909093,
          246,
          236,
          251.5,
          270,
          269.3142857142857,
          278.9,
          306.1290322580645,
          264.6666666666667,
          274,
          252.88235294117646,
          266.27272727272725,
          263,
          242.28125,
          207.97222222222223,
          266.76666666666665,
          265.03125,
          279.55555555555554,
          305.75757575757575,
          282.8205128205128,
          262.89473684210526,
          264,
          255.25806451612902,
          259.3235294117647,
          216.8181818181818,
          312.46666666666664,
          278.7647058823529,
          53.30434782608695,
          285.93548387096774,
          271,
          289.741935483871,
          321.125,
          262,
          213.7058823529412,
          312.8,
          238.3846153846154,
          293.0967741935484,
          300.76,
          311.5,
          323.93548387096774,
          273.25,
          269,
          270,
          326.92,
          190.7,
          315.6,
          205.35294117647058,
          208.875,
          241.57142857142858,
          299.1,
          303.4,
          226.63636363636363,
          262.875,
          281.88235294117646,
          222.12121212121212,
          275.0833333333333,
          280.8421052631579,
          265,
          293.8333333333333,
          262.2857142857143,
          254.06666666666666,
          308,
          296.3421052631579,
          276.375,
          285.6,
          325.53333333333336,
          49.666666666666664,
          274.3,
          309,
          263.1,
          214.08333333333334,
          278,
          288.26666666666665,
          199.36,
          295.1111111111111,
          49.4,
          317.1818181818182,
          298.22222222222223,
          324,
          250.375,
          284.8,
          334,
          272,
          305.4,
          237.8,
          287.3333333333333,
          239.78571428571428,
          272.2,
          264,
          243,
          260,
          263,
          290,
          277,
          256.5,
          250,
          278,
          280.5,
          262,
          252,
          291,
          235.5,
          310.5,
          231,
          305,
          322,
          292
         ],
         "ybins": {
          "end": 512,
          "size": 50,
          "start": 0
         }
        },
        {
         "name": "dots_OFF",
         "opacity": 0.75,
         "type": "histogram",
         "x": [
          248.7948717948718,
          260.1290322580645,
          269.27272727272725,
          265.8378378378378,
          273,
          247.42857142857142,
          268,
          258.92105263157896,
          273.43333333333334,
          275.1714285714286,
          246,
          251.5,
          269.3142857142857,
          278.9,
          264.6666666666667,
          274,
          266.27272727272725,
          263,
          264,
          255.25806451612902,
          278.7647058823529,
          271,
          289.741935483871,
          273.25,
          270,
          280.8421052631579,
          262.2857142857143,
          285.6,
          274.3,
          284.8,
          272,
          277,
          278,
          252
         ],
         "ybins": {
          "end": 512,
          "size": 50,
          "start": 0
         }
        },
        {
         "name": "loom",
         "opacity": 0.75,
         "type": "histogram",
         "x": [
          248.7948717948718,
          260,
          96,
          236,
          232,
          311,
          260.1290322580645,
          287,
          226.3939393939394,
          88.92105263157895,
          241.05555555555554,
          269.27272727272725,
          106.97435897435898,
          233,
          269,
          297.1290322580645,
          231.48717948717947,
          306.94444444444446,
          265.8378378378378,
          237.85294117647058,
          273,
          247.42857142857142,
          270,
          219.05263157894737,
          245,
          268,
          302.37142857142857,
          316,
          258.92105263157896,
          244,
          273.43333333333334,
          257.1714285714286,
          250.03030303030303,
          294,
          222.72727272727272,
          274.5,
          275.1714285714286,
          318.5,
          229.26666666666668,
          269.90909090909093,
          246,
          236,
          251.5,
          270,
          123.8157894736842,
          269.3142857142857,
          278.9,
          306.1290322580645,
          69.46666666666667,
          264.6666666666667,
          274,
          252.88235294117646,
          266.27272727272725,
          242.28125,
          266.76666666666665,
          265.03125,
          279.55555555555554,
          305.75757575757575,
          282.8205128205128,
          262.89473684210526,
          255.25806451612902,
          259.3235294117647,
          216.8181818181818,
          312.46666666666664,
          278.7647058823529,
          285.93548387096774,
          289.741935483871,
          321.125,
          213.7058823529412,
          312.8,
          238.3846153846154,
          293.0967741935484,
          300.76,
          311.5,
          323.93548387096774,
          273.25,
          269,
          326.92,
          190.7,
          315.6,
          241.57142857142858,
          160.29032258064515,
          262.875,
          281.88235294117646,
          275.0833333333333,
          280.8421052631579,
          293.8333333333333,
          316.5,
          262.2857142857143,
          254.06666666666666,
          296.3421052631579,
          276.375,
          325.53333333333336,
          274.3,
          309,
          52.2,
          199.36,
          317.1818181818182,
          309,
          334,
          366.5,
          260,
          256.5,
          280.5,
          252,
          277
         ],
         "ybins": {
          "end": 512,
          "size": 50,
          "start": 0
         }
        }
       ],
       "layout": {
        "barmode": "overlay",
        "height": 300,
        "margin": {
         "b": 20,
         "l": 20,
         "r": 20,
         "t": 20
        },
        "template": {
         "data": {
          "bar": [
           {
            "error_x": {
             "color": "#2a3f5f"
            },
            "error_y": {
             "color": "#2a3f5f"
            },
            "marker": {
             "line": {
              "color": "#E5ECF6",
              "width": 0.5
             },
             "pattern": {
              "fillmode": "overlay",
              "size": 10,
              "solidity": 0.2
             }
            },
            "type": "bar"
           }
          ],
          "barpolar": [
           {
            "marker": {
             "line": {
              "color": "#E5ECF6",
              "width": 0.5
             },
             "pattern": {
              "fillmode": "overlay",
              "size": 10,
              "solidity": 0.2
             }
            },
            "type": "barpolar"
           }
          ],
          "carpet": [
           {
            "aaxis": {
             "endlinecolor": "#2a3f5f",
             "gridcolor": "white",
             "linecolor": "white",
             "minorgridcolor": "white",
             "startlinecolor": "#2a3f5f"
            },
            "baxis": {
             "endlinecolor": "#2a3f5f",
             "gridcolor": "white",
             "linecolor": "white",
             "minorgridcolor": "white",
             "startlinecolor": "#2a3f5f"
            },
            "type": "carpet"
           }
          ],
          "choropleth": [
           {
            "colorbar": {
             "outlinewidth": 0,
             "ticks": ""
            },
            "type": "choropleth"
           }
          ],
          "contour": [
           {
            "colorbar": {
             "outlinewidth": 0,
             "ticks": ""
            },
            "colorscale": [
             [
              0,
              "#0d0887"
             ],
             [
              0.1111111111111111,
              "#46039f"
             ],
             [
              0.2222222222222222,
              "#7201a8"
             ],
             [
              0.3333333333333333,
              "#9c179e"
             ],
             [
              0.4444444444444444,
              "#bd3786"
             ],
             [
              0.5555555555555556,
              "#d8576b"
             ],
             [
              0.6666666666666666,
              "#ed7953"
             ],
             [
              0.7777777777777778,
              "#fb9f3a"
             ],
             [
              0.8888888888888888,
              "#fdca26"
             ],
             [
              1,
              "#f0f921"
             ]
            ],
            "type": "contour"
           }
          ],
          "contourcarpet": [
           {
            "colorbar": {
             "outlinewidth": 0,
             "ticks": ""
            },
            "type": "contourcarpet"
           }
          ],
          "heatmap": [
           {
            "colorbar": {
             "outlinewidth": 0,
             "ticks": ""
            },
            "colorscale": [
             [
              0,
              "#0d0887"
             ],
             [
              0.1111111111111111,
              "#46039f"
             ],
             [
              0.2222222222222222,
              "#7201a8"
             ],
             [
              0.3333333333333333,
              "#9c179e"
             ],
             [
              0.4444444444444444,
              "#bd3786"
             ],
             [
              0.5555555555555556,
              "#d8576b"
             ],
             [
              0.6666666666666666,
              "#ed7953"
             ],
             [
              0.7777777777777778,
              "#fb9f3a"
             ],
             [
              0.8888888888888888,
              "#fdca26"
             ],
             [
              1,
              "#f0f921"
             ]
            ],
            "type": "heatmap"
           }
          ],
          "heatmapgl": [
           {
            "colorbar": {
             "outlinewidth": 0,
             "ticks": ""
            },
            "colorscale": [
             [
              0,
              "#0d0887"
             ],
             [
              0.1111111111111111,
              "#46039f"
             ],
             [
              0.2222222222222222,
              "#7201a8"
             ],
             [
              0.3333333333333333,
              "#9c179e"
             ],
             [
              0.4444444444444444,
              "#bd3786"
             ],
             [
              0.5555555555555556,
              "#d8576b"
             ],
             [
              0.6666666666666666,
              "#ed7953"
             ],
             [
              0.7777777777777778,
              "#fb9f3a"
             ],
             [
              0.8888888888888888,
              "#fdca26"
             ],
             [
              1,
              "#f0f921"
             ]
            ],
            "type": "heatmapgl"
           }
          ],
          "histogram": [
           {
            "marker": {
             "pattern": {
              "fillmode": "overlay",
              "size": 10,
              "solidity": 0.2
             }
            },
            "type": "histogram"
           }
          ],
          "histogram2d": [
           {
            "colorbar": {
             "outlinewidth": 0,
             "ticks": ""
            },
            "colorscale": [
             [
              0,
              "#0d0887"
             ],
             [
              0.1111111111111111,
              "#46039f"
             ],
             [
              0.2222222222222222,
              "#7201a8"
             ],
             [
              0.3333333333333333,
              "#9c179e"
             ],
             [
              0.4444444444444444,
              "#bd3786"
             ],
             [
              0.5555555555555556,
              "#d8576b"
             ],
             [
              0.6666666666666666,
              "#ed7953"
             ],
             [
              0.7777777777777778,
              "#fb9f3a"
             ],
             [
              0.8888888888888888,
              "#fdca26"
             ],
             [
              1,
              "#f0f921"
             ]
            ],
            "type": "histogram2d"
           }
          ],
          "histogram2dcontour": [
           {
            "colorbar": {
             "outlinewidth": 0,
             "ticks": ""
            },
            "colorscale": [
             [
              0,
              "#0d0887"
             ],
             [
              0.1111111111111111,
              "#46039f"
             ],
             [
              0.2222222222222222,
              "#7201a8"
             ],
             [
              0.3333333333333333,
              "#9c179e"
             ],
             [
              0.4444444444444444,
              "#bd3786"
             ],
             [
              0.5555555555555556,
              "#d8576b"
             ],
             [
              0.6666666666666666,
              "#ed7953"
             ],
             [
              0.7777777777777778,
              "#fb9f3a"
             ],
             [
              0.8888888888888888,
              "#fdca26"
             ],
             [
              1,
              "#f0f921"
             ]
            ],
            "type": "histogram2dcontour"
           }
          ],
          "mesh3d": [
           {
            "colorbar": {
             "outlinewidth": 0,
             "ticks": ""
            },
            "type": "mesh3d"
           }
          ],
          "parcoords": [
           {
            "line": {
             "colorbar": {
              "outlinewidth": 0,
              "ticks": ""
             }
            },
            "type": "parcoords"
           }
          ],
          "pie": [
           {
            "automargin": true,
            "type": "pie"
           }
          ],
          "scatter": [
           {
            "fillpattern": {
             "fillmode": "overlay",
             "size": 10,
             "solidity": 0.2
            },
            "type": "scatter"
           }
          ],
          "scatter3d": [
           {
            "line": {
             "colorbar": {
              "outlinewidth": 0,
              "ticks": ""
             }
            },
            "marker": {
             "colorbar": {
              "outlinewidth": 0,
              "ticks": ""
             }
            },
            "type": "scatter3d"
           }
          ],
          "scattercarpet": [
           {
            "marker": {
             "colorbar": {
              "outlinewidth": 0,
              "ticks": ""
             }
            },
            "type": "scattercarpet"
           }
          ],
          "scattergeo": [
           {
            "marker": {
             "colorbar": {
              "outlinewidth": 0,
              "ticks": ""
             }
            },
            "type": "scattergeo"
           }
          ],
          "scattergl": [
           {
            "marker": {
             "colorbar": {
              "outlinewidth": 0,
              "ticks": ""
             }
            },
            "type": "scattergl"
           }
          ],
          "scattermapbox": [
           {
            "marker": {
             "colorbar": {
              "outlinewidth": 0,
              "ticks": ""
             }
            },
            "type": "scattermapbox"
           }
          ],
          "scatterpolar": [
           {
            "marker": {
             "colorbar": {
              "outlinewidth": 0,
              "ticks": ""
             }
            },
            "type": "scatterpolar"
           }
          ],
          "scatterpolargl": [
           {
            "marker": {
             "colorbar": {
              "outlinewidth": 0,
              "ticks": ""
             }
            },
            "type": "scatterpolargl"
           }
          ],
          "scatterternary": [
           {
            "marker": {
             "colorbar": {
              "outlinewidth": 0,
              "ticks": ""
             }
            },
            "type": "scatterternary"
           }
          ],
          "surface": [
           {
            "colorbar": {
             "outlinewidth": 0,
             "ticks": ""
            },
            "colorscale": [
             [
              0,
              "#0d0887"
             ],
             [
              0.1111111111111111,
              "#46039f"
             ],
             [
              0.2222222222222222,
              "#7201a8"
             ],
             [
              0.3333333333333333,
              "#9c179e"
             ],
             [
              0.4444444444444444,
              "#bd3786"
             ],
             [
              0.5555555555555556,
              "#d8576b"
             ],
             [
              0.6666666666666666,
              "#ed7953"
             ],
             [
              0.7777777777777778,
              "#fb9f3a"
             ],
             [
              0.8888888888888888,
              "#fdca26"
             ],
             [
              1,
              "#f0f921"
             ]
            ],
            "type": "surface"
           }
          ],
          "table": [
           {
            "cells": {
             "fill": {
              "color": "#EBF0F8"
             },
             "line": {
              "color": "white"
             }
            },
            "header": {
             "fill": {
              "color": "#C8D4E3"
             },
             "line": {
              "color": "white"
             }
            },
            "type": "table"
           }
          ]
         },
         "layout": {
          "annotationdefaults": {
           "arrowcolor": "#2a3f5f",
           "arrowhead": 0,
           "arrowwidth": 1
          },
          "autotypenumbers": "strict",
          "coloraxis": {
           "colorbar": {
            "outlinewidth": 0,
            "ticks": ""
           }
          },
          "colorscale": {
           "diverging": [
            [
             0,
             "#8e0152"
            ],
            [
             0.1,
             "#c51b7d"
            ],
            [
             0.2,
             "#de77ae"
            ],
            [
             0.3,
             "#f1b6da"
            ],
            [
             0.4,
             "#fde0ef"
            ],
            [
             0.5,
             "#f7f7f7"
            ],
            [
             0.6,
             "#e6f5d0"
            ],
            [
             0.7,
             "#b8e186"
            ],
            [
             0.8,
             "#7fbc41"
            ],
            [
             0.9,
             "#4d9221"
            ],
            [
             1,
             "#276419"
            ]
           ],
           "sequential": [
            [
             0,
             "#0d0887"
            ],
            [
             0.1111111111111111,
             "#46039f"
            ],
            [
             0.2222222222222222,
             "#7201a8"
            ],
            [
             0.3333333333333333,
             "#9c179e"
            ],
            [
             0.4444444444444444,
             "#bd3786"
            ],
            [
             0.5555555555555556,
             "#d8576b"
            ],
            [
             0.6666666666666666,
             "#ed7953"
            ],
            [
             0.7777777777777778,
             "#fb9f3a"
            ],
            [
             0.8888888888888888,
             "#fdca26"
            ],
            [
             1,
             "#f0f921"
            ]
           ],
           "sequentialminus": [
            [
             0,
             "#0d0887"
            ],
            [
             0.1111111111111111,
             "#46039f"
            ],
            [
             0.2222222222222222,
             "#7201a8"
            ],
            [
             0.3333333333333333,
             "#9c179e"
            ],
            [
             0.4444444444444444,
             "#bd3786"
            ],
            [
             0.5555555555555556,
             "#d8576b"
            ],
            [
             0.6666666666666666,
             "#ed7953"
            ],
            [
             0.7777777777777778,
             "#fb9f3a"
            ],
            [
             0.8888888888888888,
             "#fdca26"
            ],
            [
             1,
             "#f0f921"
            ]
           ]
          },
          "colorway": [
           "#636efa",
           "#EF553B",
           "#00cc96",
           "#ab63fa",
           "#FFA15A",
           "#19d3f3",
           "#FF6692",
           "#B6E880",
           "#FF97FF",
           "#FECB52"
          ],
          "font": {
           "color": "#2a3f5f"
          },
          "geo": {
           "bgcolor": "white",
           "lakecolor": "white",
           "landcolor": "#E5ECF6",
           "showlakes": true,
           "showland": true,
           "subunitcolor": "white"
          },
          "hoverlabel": {
           "align": "left"
          },
          "hovermode": "closest",
          "mapbox": {
           "style": "light"
          },
          "paper_bgcolor": "white",
          "plot_bgcolor": "#E5ECF6",
          "polar": {
           "angularaxis": {
            "gridcolor": "white",
            "linecolor": "white",
            "ticks": ""
           },
           "bgcolor": "#E5ECF6",
           "radialaxis": {
            "gridcolor": "white",
            "linecolor": "white",
            "ticks": ""
           }
          },
          "scene": {
           "xaxis": {
            "backgroundcolor": "#E5ECF6",
            "gridcolor": "white",
            "gridwidth": 2,
            "linecolor": "white",
            "showbackground": true,
            "ticks": "",
            "zerolinecolor": "white"
           },
           "yaxis": {
            "backgroundcolor": "#E5ECF6",
            "gridcolor": "white",
            "gridwidth": 2,
            "linecolor": "white",
            "showbackground": true,
            "ticks": "",
            "zerolinecolor": "white"
           },
           "zaxis": {
            "backgroundcolor": "#E5ECF6",
            "gridcolor": "white",
            "gridwidth": 2,
            "linecolor": "white",
            "showbackground": true,
            "ticks": "",
            "zerolinecolor": "white"
           }
          },
          "shapedefaults": {
           "line": {
            "color": "#2a3f5f"
           }
          },
          "ternary": {
           "aaxis": {
            "gridcolor": "white",
            "linecolor": "white",
            "ticks": ""
           },
           "baxis": {
            "gridcolor": "white",
            "linecolor": "white",
            "ticks": ""
           },
           "bgcolor": "#E5ECF6",
           "caxis": {
            "gridcolor": "white",
            "linecolor": "white",
            "ticks": ""
           }
          },
          "title": {
           "x": 0.05
          },
          "xaxis": {
           "automargin": true,
           "gridcolor": "white",
           "linecolor": "white",
           "ticks": "",
           "title": {
            "standoff": 15
           },
           "zerolinecolor": "white",
           "zerolinewidth": 2
          },
          "yaxis": {
           "automargin": true,
           "gridcolor": "white",
           "linecolor": "white",
           "ticks": "",
           "title": {
            "standoff": 15
           },
           "zerolinecolor": "white",
           "zerolinewidth": 2
          }
         }
        },
        "width": 600,
        "xaxis": {
         "range": [
          0,
          512
         ],
         "title": {
          "text": "Count"
         }
        },
        "yaxis": {
         "title": {
          "text": "x_centroid"
         }
        }
       }
      }
     },
     "metadata": {},
     "output_type": "display_data"
    },
    {
     "data": {
      "application/vnd.plotly.v1+json": {
       "config": {
        "plotlyServerURL": "https://plot.ly"
       },
       "data": [
        {
         "name": "moving stripes",
         "opacity": 0.75,
         "type": "histogram",
         "y": [
          55,
          56.64102564102564,
          68,
          60.5,
          74,
          44.16129032258065,
          75.12121212121212,
          71,
          61.72222222222222,
          39.72727272727273,
          66,
          81.23076923076923,
          60.729729729729726,
          65.47058823529412,
          56,
          69.11428571428571,
          82.94736842105263,
          66,
          32.82051282051282,
          5.171428571428572,
          61.13157894736842,
          67,
          62.2,
          49.84848484848485,
          78.27272727272727,
          50.57142857142857,
          68.46666666666667,
          26.12121212121212,
          65,
          66,
          48.74285714285714,
          58.53333333333333,
          69.03030303030303,
          37.696969696969695,
          55.39393939393939,
          73.0625,
          47.97435897435897,
          34.6578947368421,
          64.16129032258064,
          72.44117647058823,
          47.94117647058823,
          43.03225806451613,
          47.87096774193548,
          87.3529411764706,
          76.84615384615384,
          31.375,
          55.857142857142854,
          83.81818181818181,
          8.366666666666667,
          20.416666666666668,
          42.1578947368421,
          2.6923076923076925,
          40.166666666666664,
          65.28571428571429,
          77.03333333333333,
          81.0625,
          87.9,
          61,
          71
         ],
         "ybins": {
          "end": 128,
          "size": 10,
          "start": 0
         }
        },
        {
         "name": "dots_ON",
         "opacity": 0.75,
         "type": "histogram",
         "y": [
          55,
          56.64102564102564,
          49,
          68,
          60.5,
          74,
          20,
          44.16129032258065,
          52.5,
          2.4285714285714284,
          75.12121212121212,
          71,
          61.72222222222222,
          39.72727272727273,
          70,
          66,
          2.7419354838709675,
          81.23076923076923,
          1,
          4.611111111111111,
          60.729729729729726,
          65.47058823529412,
          56,
          69.11428571428571,
          2.5277777777777777,
          82.94736842105263,
          66,
          32.82051282051282,
          5.171428571428572,
          10,
          61.13157894736842,
          67,
          62.2,
          39.57142857142857,
          49.84848484848485,
          6.5,
          78.27272727272727,
          7.5,
          50.57142857142857,
          5,
          68.46666666666667,
          26.12121212121212,
          65,
          73,
          66,
          11.9,
          48.74285714285714,
          58.53333333333333,
          11.35483870967742,
          69.03030303030303,
          37.696969696969695,
          43.6764705882353,
          55.39393939393939,
          53,
          73.0625,
          78.44444444444444,
          6.3,
          13.90625,
          3.3333333333333335,
          19.333333333333332,
          47.97435897435897,
          34.6578947368421,
          52,
          64.16129032258064,
          72.44117647058823,
          75.45454545454545,
          2.8666666666666667,
          47.94117647058823,
          43.08695652173913,
          43.03225806451613,
          53,
          47.87096774193548,
          14.15625,
          38,
          87.3529411764706,
          14.333333333333334,
          76.84615384615384,
          10.03225806451613,
          12.44,
          8.5,
          3.5806451612903225,
          31.375,
          20.033333333333335,
          54,
          9.8,
          89.2,
          25,
          84.05882352941177,
          92.34375,
          55.857142857142854,
          31.1,
          36.06666666666667,
          83.81818181818181,
          28.708333333333332,
          8.058823529411764,
          70.60606060606061,
          20.416666666666668,
          42.1578947368421,
          51,
          40.166666666666664,
          65.28571428571429,
          77.03333333333333,
          1,
          20.657894736842106,
          12.875,
          55.06666666666667,
          17.2,
          49.666666666666664,
          44.3,
          15.5,
          17.9,
          81.33333333333333,
          6,
          34.86666666666667,
          87.2,
          33.72222222222222,
          55.8,
          19,
          27.11111111111111,
          21.285714285714285,
          81.0625,
          38.2,
          13,
          48,
          27.6,
          87.9,
          21.666666666666668,
          81.42857142857143,
          17,
          72,
          86.75,
          68,
          71,
          25.5,
          43,
          69,
          78,
          35.25,
          20.5,
          70,
          71.5,
          31.5,
          90,
          25,
          63,
          24.5,
          19,
          38
         ],
         "ybins": {
          "end": 128,
          "size": 10,
          "start": 0
         }
        },
        {
         "name": "dots_OFF",
         "opacity": 0.75,
         "type": "histogram",
         "y": [
          56.64102564102564,
          44.16129032258065,
          39.72727272727273,
          60.729729729729726,
          56,
          69.11428571428571,
          32.82051282051282,
          61.13157894736842,
          62.2,
          50.57142857142857,
          65,
          66,
          48.74285714285714,
          58.53333333333333,
          69.03030303030303,
          37.696969696969695,
          55.39393939393939,
          53,
          52,
          64.16129032258064,
          47.94117647058823,
          53,
          47.87096774193548,
          31.375,
          54,
          42.1578947368421,
          65.28571428571429,
          55.06666666666667,
          44.3,
          38.2,
          48,
          43,
          35.25,
          71.5
         ],
         "ybins": {
          "end": 128,
          "size": 10,
          "start": 0
         }
        },
        {
         "name": "loom",
         "opacity": 0.75,
         "type": "histogram",
         "y": [
          56.64102564102564,
          49,
          112.35135135135135,
          68,
          74,
          20,
          44.16129032258065,
          2.4285714285714284,
          75.12121212121212,
          110.23684210526316,
          61.72222222222222,
          39.72727272727273,
          113.17948717948718,
          70,
          66,
          2.7419354838709675,
          81.23076923076923,
          4.611111111111111,
          60.729729729729726,
          65.47058823529412,
          56,
          69.11428571428571,
          2.5277777777777777,
          82.94736842105263,
          66,
          32.82051282051282,
          5.171428571428572,
          10,
          61.13157894736842,
          67,
          62.2,
          39.57142857142857,
          49.84848484848485,
          6.5,
          78.27272727272727,
          7.5,
          50.57142857142857,
          5,
          68.46666666666667,
          26.12121212121212,
          65,
          73,
          66,
          11.9,
          114.73684210526316,
          48.74285714285714,
          58.53333333333333,
          11.35483870967742,
          108.03333333333333,
          69.03030303030303,
          37.696969696969695,
          43.6764705882353,
          55.39393939393939,
          73.0625,
          6.3,
          13.90625,
          3.3333333333333335,
          19.333333333333332,
          47.97435897435897,
          34.6578947368421,
          64.16129032258064,
          72.44117647058823,
          75.45454545454545,
          2.8666666666666667,
          47.94117647058823,
          43.03225806451613,
          47.87096774193548,
          14.15625,
          87.3529411764706,
          14.333333333333334,
          76.84615384615384,
          10.03225806451613,
          12.44,
          8.5,
          3.5806451612903225,
          31.375,
          20.033333333333335,
          9.8,
          89.2,
          25,
          55.857142857142854,
          105.25806451612904,
          28.708333333333332,
          8.058823529411764,
          20.416666666666668,
          42.1578947368421,
          40.166666666666664,
          1,
          65.28571428571429,
          77.03333333333333,
          20.657894736842106,
          12.875,
          17.2,
          44.3,
          15.5,
          99.8,
          87.2,
          19,
          8,
          13,
          30,
          68,
          69,
          20.5,
          71.5,
          16
         ],
         "ybins": {
          "end": 128,
          "size": 10,
          "start": 0
         }
        }
       ],
       "layout": {
        "barmode": "overlay",
        "height": 400,
        "margin": {
         "b": 20,
         "l": 20,
         "r": 20,
         "t": 20
        },
        "template": {
         "data": {
          "bar": [
           {
            "error_x": {
             "color": "#2a3f5f"
            },
            "error_y": {
             "color": "#2a3f5f"
            },
            "marker": {
             "line": {
              "color": "#E5ECF6",
              "width": 0.5
             },
             "pattern": {
              "fillmode": "overlay",
              "size": 10,
              "solidity": 0.2
             }
            },
            "type": "bar"
           }
          ],
          "barpolar": [
           {
            "marker": {
             "line": {
              "color": "#E5ECF6",
              "width": 0.5
             },
             "pattern": {
              "fillmode": "overlay",
              "size": 10,
              "solidity": 0.2
             }
            },
            "type": "barpolar"
           }
          ],
          "carpet": [
           {
            "aaxis": {
             "endlinecolor": "#2a3f5f",
             "gridcolor": "white",
             "linecolor": "white",
             "minorgridcolor": "white",
             "startlinecolor": "#2a3f5f"
            },
            "baxis": {
             "endlinecolor": "#2a3f5f",
             "gridcolor": "white",
             "linecolor": "white",
             "minorgridcolor": "white",
             "startlinecolor": "#2a3f5f"
            },
            "type": "carpet"
           }
          ],
          "choropleth": [
           {
            "colorbar": {
             "outlinewidth": 0,
             "ticks": ""
            },
            "type": "choropleth"
           }
          ],
          "contour": [
           {
            "colorbar": {
             "outlinewidth": 0,
             "ticks": ""
            },
            "colorscale": [
             [
              0,
              "#0d0887"
             ],
             [
              0.1111111111111111,
              "#46039f"
             ],
             [
              0.2222222222222222,
              "#7201a8"
             ],
             [
              0.3333333333333333,
              "#9c179e"
             ],
             [
              0.4444444444444444,
              "#bd3786"
             ],
             [
              0.5555555555555556,
              "#d8576b"
             ],
             [
              0.6666666666666666,
              "#ed7953"
             ],
             [
              0.7777777777777778,
              "#fb9f3a"
             ],
             [
              0.8888888888888888,
              "#fdca26"
             ],
             [
              1,
              "#f0f921"
             ]
            ],
            "type": "contour"
           }
          ],
          "contourcarpet": [
           {
            "colorbar": {
             "outlinewidth": 0,
             "ticks": ""
            },
            "type": "contourcarpet"
           }
          ],
          "heatmap": [
           {
            "colorbar": {
             "outlinewidth": 0,
             "ticks": ""
            },
            "colorscale": [
             [
              0,
              "#0d0887"
             ],
             [
              0.1111111111111111,
              "#46039f"
             ],
             [
              0.2222222222222222,
              "#7201a8"
             ],
             [
              0.3333333333333333,
              "#9c179e"
             ],
             [
              0.4444444444444444,
              "#bd3786"
             ],
             [
              0.5555555555555556,
              "#d8576b"
             ],
             [
              0.6666666666666666,
              "#ed7953"
             ],
             [
              0.7777777777777778,
              "#fb9f3a"
             ],
             [
              0.8888888888888888,
              "#fdca26"
             ],
             [
              1,
              "#f0f921"
             ]
            ],
            "type": "heatmap"
           }
          ],
          "heatmapgl": [
           {
            "colorbar": {
             "outlinewidth": 0,
             "ticks": ""
            },
            "colorscale": [
             [
              0,
              "#0d0887"
             ],
             [
              0.1111111111111111,
              "#46039f"
             ],
             [
              0.2222222222222222,
              "#7201a8"
             ],
             [
              0.3333333333333333,
              "#9c179e"
             ],
             [
              0.4444444444444444,
              "#bd3786"
             ],
             [
              0.5555555555555556,
              "#d8576b"
             ],
             [
              0.6666666666666666,
              "#ed7953"
             ],
             [
              0.7777777777777778,
              "#fb9f3a"
             ],
             [
              0.8888888888888888,
              "#fdca26"
             ],
             [
              1,
              "#f0f921"
             ]
            ],
            "type": "heatmapgl"
           }
          ],
          "histogram": [
           {
            "marker": {
             "pattern": {
              "fillmode": "overlay",
              "size": 10,
              "solidity": 0.2
             }
            },
            "type": "histogram"
           }
          ],
          "histogram2d": [
           {
            "colorbar": {
             "outlinewidth": 0,
             "ticks": ""
            },
            "colorscale": [
             [
              0,
              "#0d0887"
             ],
             [
              0.1111111111111111,
              "#46039f"
             ],
             [
              0.2222222222222222,
              "#7201a8"
             ],
             [
              0.3333333333333333,
              "#9c179e"
             ],
             [
              0.4444444444444444,
              "#bd3786"
             ],
             [
              0.5555555555555556,
              "#d8576b"
             ],
             [
              0.6666666666666666,
              "#ed7953"
             ],
             [
              0.7777777777777778,
              "#fb9f3a"
             ],
             [
              0.8888888888888888,
              "#fdca26"
             ],
             [
              1,
              "#f0f921"
             ]
            ],
            "type": "histogram2d"
           }
          ],
          "histogram2dcontour": [
           {
            "colorbar": {
             "outlinewidth": 0,
             "ticks": ""
            },
            "colorscale": [
             [
              0,
              "#0d0887"
             ],
             [
              0.1111111111111111,
              "#46039f"
             ],
             [
              0.2222222222222222,
              "#7201a8"
             ],
             [
              0.3333333333333333,
              "#9c179e"
             ],
             [
              0.4444444444444444,
              "#bd3786"
             ],
             [
              0.5555555555555556,
              "#d8576b"
             ],
             [
              0.6666666666666666,
              "#ed7953"
             ],
             [
              0.7777777777777778,
              "#fb9f3a"
             ],
             [
              0.8888888888888888,
              "#fdca26"
             ],
             [
              1,
              "#f0f921"
             ]
            ],
            "type": "histogram2dcontour"
           }
          ],
          "mesh3d": [
           {
            "colorbar": {
             "outlinewidth": 0,
             "ticks": ""
            },
            "type": "mesh3d"
           }
          ],
          "parcoords": [
           {
            "line": {
             "colorbar": {
              "outlinewidth": 0,
              "ticks": ""
             }
            },
            "type": "parcoords"
           }
          ],
          "pie": [
           {
            "automargin": true,
            "type": "pie"
           }
          ],
          "scatter": [
           {
            "fillpattern": {
             "fillmode": "overlay",
             "size": 10,
             "solidity": 0.2
            },
            "type": "scatter"
           }
          ],
          "scatter3d": [
           {
            "line": {
             "colorbar": {
              "outlinewidth": 0,
              "ticks": ""
             }
            },
            "marker": {
             "colorbar": {
              "outlinewidth": 0,
              "ticks": ""
             }
            },
            "type": "scatter3d"
           }
          ],
          "scattercarpet": [
           {
            "marker": {
             "colorbar": {
              "outlinewidth": 0,
              "ticks": ""
             }
            },
            "type": "scattercarpet"
           }
          ],
          "scattergeo": [
           {
            "marker": {
             "colorbar": {
              "outlinewidth": 0,
              "ticks": ""
             }
            },
            "type": "scattergeo"
           }
          ],
          "scattergl": [
           {
            "marker": {
             "colorbar": {
              "outlinewidth": 0,
              "ticks": ""
             }
            },
            "type": "scattergl"
           }
          ],
          "scattermapbox": [
           {
            "marker": {
             "colorbar": {
              "outlinewidth": 0,
              "ticks": ""
             }
            },
            "type": "scattermapbox"
           }
          ],
          "scatterpolar": [
           {
            "marker": {
             "colorbar": {
              "outlinewidth": 0,
              "ticks": ""
             }
            },
            "type": "scatterpolar"
           }
          ],
          "scatterpolargl": [
           {
            "marker": {
             "colorbar": {
              "outlinewidth": 0,
              "ticks": ""
             }
            },
            "type": "scatterpolargl"
           }
          ],
          "scatterternary": [
           {
            "marker": {
             "colorbar": {
              "outlinewidth": 0,
              "ticks": ""
             }
            },
            "type": "scatterternary"
           }
          ],
          "surface": [
           {
            "colorbar": {
             "outlinewidth": 0,
             "ticks": ""
            },
            "colorscale": [
             [
              0,
              "#0d0887"
             ],
             [
              0.1111111111111111,
              "#46039f"
             ],
             [
              0.2222222222222222,
              "#7201a8"
             ],
             [
              0.3333333333333333,
              "#9c179e"
             ],
             [
              0.4444444444444444,
              "#bd3786"
             ],
             [
              0.5555555555555556,
              "#d8576b"
             ],
             [
              0.6666666666666666,
              "#ed7953"
             ],
             [
              0.7777777777777778,
              "#fb9f3a"
             ],
             [
              0.8888888888888888,
              "#fdca26"
             ],
             [
              1,
              "#f0f921"
             ]
            ],
            "type": "surface"
           }
          ],
          "table": [
           {
            "cells": {
             "fill": {
              "color": "#EBF0F8"
             },
             "line": {
              "color": "white"
             }
            },
            "header": {
             "fill": {
              "color": "#C8D4E3"
             },
             "line": {
              "color": "white"
             }
            },
            "type": "table"
           }
          ]
         },
         "layout": {
          "annotationdefaults": {
           "arrowcolor": "#2a3f5f",
           "arrowhead": 0,
           "arrowwidth": 1
          },
          "autotypenumbers": "strict",
          "coloraxis": {
           "colorbar": {
            "outlinewidth": 0,
            "ticks": ""
           }
          },
          "colorscale": {
           "diverging": [
            [
             0,
             "#8e0152"
            ],
            [
             0.1,
             "#c51b7d"
            ],
            [
             0.2,
             "#de77ae"
            ],
            [
             0.3,
             "#f1b6da"
            ],
            [
             0.4,
             "#fde0ef"
            ],
            [
             0.5,
             "#f7f7f7"
            ],
            [
             0.6,
             "#e6f5d0"
            ],
            [
             0.7,
             "#b8e186"
            ],
            [
             0.8,
             "#7fbc41"
            ],
            [
             0.9,
             "#4d9221"
            ],
            [
             1,
             "#276419"
            ]
           ],
           "sequential": [
            [
             0,
             "#0d0887"
            ],
            [
             0.1111111111111111,
             "#46039f"
            ],
            [
             0.2222222222222222,
             "#7201a8"
            ],
            [
             0.3333333333333333,
             "#9c179e"
            ],
            [
             0.4444444444444444,
             "#bd3786"
            ],
            [
             0.5555555555555556,
             "#d8576b"
            ],
            [
             0.6666666666666666,
             "#ed7953"
            ],
            [
             0.7777777777777778,
             "#fb9f3a"
            ],
            [
             0.8888888888888888,
             "#fdca26"
            ],
            [
             1,
             "#f0f921"
            ]
           ],
           "sequentialminus": [
            [
             0,
             "#0d0887"
            ],
            [
             0.1111111111111111,
             "#46039f"
            ],
            [
             0.2222222222222222,
             "#7201a8"
            ],
            [
             0.3333333333333333,
             "#9c179e"
            ],
            [
             0.4444444444444444,
             "#bd3786"
            ],
            [
             0.5555555555555556,
             "#d8576b"
            ],
            [
             0.6666666666666666,
             "#ed7953"
            ],
            [
             0.7777777777777778,
             "#fb9f3a"
            ],
            [
             0.8888888888888888,
             "#fdca26"
            ],
            [
             1,
             "#f0f921"
            ]
           ]
          },
          "colorway": [
           "#636efa",
           "#EF553B",
           "#00cc96",
           "#ab63fa",
           "#FFA15A",
           "#19d3f3",
           "#FF6692",
           "#B6E880",
           "#FF97FF",
           "#FECB52"
          ],
          "font": {
           "color": "#2a3f5f"
          },
          "geo": {
           "bgcolor": "white",
           "lakecolor": "white",
           "landcolor": "#E5ECF6",
           "showlakes": true,
           "showland": true,
           "subunitcolor": "white"
          },
          "hoverlabel": {
           "align": "left"
          },
          "hovermode": "closest",
          "mapbox": {
           "style": "light"
          },
          "paper_bgcolor": "white",
          "plot_bgcolor": "#E5ECF6",
          "polar": {
           "angularaxis": {
            "gridcolor": "white",
            "linecolor": "white",
            "ticks": ""
           },
           "bgcolor": "#E5ECF6",
           "radialaxis": {
            "gridcolor": "white",
            "linecolor": "white",
            "ticks": ""
           }
          },
          "scene": {
           "xaxis": {
            "backgroundcolor": "#E5ECF6",
            "gridcolor": "white",
            "gridwidth": 2,
            "linecolor": "white",
            "showbackground": true,
            "ticks": "",
            "zerolinecolor": "white"
           },
           "yaxis": {
            "backgroundcolor": "#E5ECF6",
            "gridcolor": "white",
            "gridwidth": 2,
            "linecolor": "white",
            "showbackground": true,
            "ticks": "",
            "zerolinecolor": "white"
           },
           "zaxis": {
            "backgroundcolor": "#E5ECF6",
            "gridcolor": "white",
            "gridwidth": 2,
            "linecolor": "white",
            "showbackground": true,
            "ticks": "",
            "zerolinecolor": "white"
           }
          },
          "shapedefaults": {
           "line": {
            "color": "#2a3f5f"
           }
          },
          "ternary": {
           "aaxis": {
            "gridcolor": "white",
            "linecolor": "white",
            "ticks": ""
           },
           "baxis": {
            "gridcolor": "white",
            "linecolor": "white",
            "ticks": ""
           },
           "bgcolor": "#E5ECF6",
           "caxis": {
            "gridcolor": "white",
            "linecolor": "white",
            "ticks": ""
           }
          },
          "title": {
           "x": 0.05
          },
          "xaxis": {
           "automargin": true,
           "gridcolor": "white",
           "linecolor": "white",
           "ticks": "",
           "title": {
            "standoff": 15
           },
           "zerolinecolor": "white",
           "zerolinewidth": 2
          },
          "yaxis": {
           "automargin": true,
           "gridcolor": "white",
           "linecolor": "white",
           "ticks": "",
           "title": {
            "standoff": 15
           },
           "zerolinecolor": "white",
           "zerolinewidth": 2
          }
         }
        },
        "width": 400,
        "xaxis": {
         "title": {
          "text": "Count"
         }
        },
        "yaxis": {
         "title": {
          "text": "y_centroid"
         }
        }
       }
      }
     },
     "metadata": {},
     "output_type": "display_data"
    }
   ],
   "source": [
    "import plotly.graph_objects as go\n",
    "\n",
    "fig = go.Figure()\n",
    "\n",
    "# Loop through each unique value of 'stimtype'\n",
    "for stim in pooled_data['stimtype'].unique():\n",
    "    filtered_data = pooled_data[pooled_data['stimtype'] == stim]\n",
    "    fig.add_trace(go.Histogram(x=filtered_data['x_centroid'], name=stim, \n",
    "                               ybins = dict(  \n",
    "            start=0,\n",
    "            end=512,\n",
    "            size=50)\n",
    "        ))  # Set nbinsx to desired number of bins\n",
    "\n",
    "# Update the layout\n",
    "fig.update_layout(barmode='overlay', yaxis_title='x_centroid', xaxis_title='Count', width=600, height=300, margin=dict(l=20, r=20, t=20, b=20),)\n",
    "fig.update_traces(opacity=0.75)\n",
    "fig.update_xaxes(range=[0, 512])  # Disable gridlines for x-axis\n",
    "#fig.update_yaxes(range=[0,100])  # Disable gridlines for y-axis\n",
    "\n",
    "fig.show()\n",
    "\n",
    "fig2 = go.Figure()\n",
    "\n",
    "# Loop through each unique value of 'stimtype'\n",
    "for stim in pooled_data['stimtype'].unique():\n",
    "    filtered_data = pooled_data[pooled_data['stimtype'] == stim]\n",
    "    fig2.add_trace(go.Histogram(y=filtered_data['y_centroid'], name=stim, \n",
    "                               ybins = dict(  \n",
    "            start=0,\n",
    "            end=128,\n",
    "            size=10)\n",
    "        ))  # Set nbinsx to desired number of bins\n",
    "\n",
    "# Update the layout\n",
    "fig2.update_layout(barmode='overlay', yaxis_title='y_centroid', xaxis_title='Count', width=400, height=400, margin=dict(l=20, r=20, t=20, b=20),)\n",
    "fig2.update_traces(opacity=0.75)\n",
    "#fig.update_xaxes(range=[0, 100])  # Disable gridlines for x-axis\n",
    "fig.update_yaxes(range=[0,128])  # Disable gridlines for y-axis\n",
    "\n",
    "fig2.show()"
   ]
  },
  {
   "cell_type": "code",
   "execution_count": 415,
   "metadata": {},
   "outputs": [
    {
     "data": {
      "application/vnd.plotly.v1+json": {
       "config": {
        "plotlyServerURL": "https://plot.ly"
       },
       "data": [
        {
         "hovertemplate": "color=moving stripes<br>x=%{x}<br>y=%{y}<br>size=%{marker.size}<extra></extra>",
         "legendgroup": "moving stripes",
         "marker": {
          "color": "#636efa",
          "opacity": [
           1,
           0.9512195121951219,
           1,
           0.7804878048780488,
           1,
           0.7560975609756098,
           0.8048780487804879,
           0.024390243902439025,
           0.8780487804878049,
           0.8048780487804879,
           1,
           0.9512195121951219,
           0.9024390243902439,
           0.8292682926829268,
           1,
           0.8536585365853658,
           0.926829268292683,
           0.024390243902439025,
           0.9512195121951219,
           0.8536585365853658,
           0.926829268292683,
           0.024390243902439025,
           0.7317073170731707,
           0.8048780487804879,
           0.8048780487804879,
           0.8536585365853658,
           0.7317073170731707,
           0.8048780487804879,
           0.024390243902439025,
           0.7317073170731707,
           0.8536585365853658,
           0.7317073170731707,
           0.8048780487804879,
           0.8048780487804879,
           0.8048780487804879,
           0.7804878048780488,
           0.9512195121951219,
           0.926829268292683,
           0.7560975609756098,
           0.8292682926829268,
           0.8292682926829268,
           0.7560975609756098,
           0.7560975609756098,
           0.8292682926829268,
           0.6341463414634146,
           0.1951219512195122,
           0.5121951219512195,
           0.2682926829268293,
           0.7317073170731707,
           0.5853658536585366,
           0.4634146341463415,
           0.3170731707317073,
           0.7317073170731707,
           0.17073170731707318,
           0.7317073170731707,
           0.3902439024390244,
           0.24390243902439024,
           0.024390243902439025,
           0.024390243902439025,
           1,
           0.9512195121951219,
           1,
           1,
           0.7804878048780488,
           1,
           1,
           0.7560975609756098,
           0.926829268292683,
           0.8536585365853658,
           0.8048780487804879,
           0.024390243902439025,
           0.8780487804878049,
           0.8048780487804879,
           0.024390243902439025,
           1,
           0.7560975609756098,
           0.9512195121951219,
           0.024390243902439025,
           0.8780487804878049,
           0.9024390243902439,
           0.8292682926829268,
           1,
           0.8536585365853658,
           0.8780487804878049,
           0.926829268292683,
           0.024390243902439025,
           0.9512195121951219,
           0.8536585365853658,
           1,
           0.926829268292683,
           0.024390243902439025,
           0.7317073170731707,
           0.8536585365853658,
           0.8048780487804879,
           0.7317073170731707,
           0.8048780487804879,
           0.7804878048780488,
           0.8536585365853658,
           0.975609756097561,
           0.7317073170731707,
           0.8048780487804879,
           0.024390243902439025,
           0.024390243902439025,
           0.7317073170731707,
           0.975609756097561,
           0.8536585365853658,
           0.7317073170731707,
           0.7560975609756098,
           0.8048780487804879,
           0.8048780487804879,
           0.8292682926829268,
           0.8048780487804879,
           0.024390243902439025,
           0.7804878048780488,
           0.8780487804878049,
           0.7317073170731707,
           0.7804878048780488,
           0.8780487804878049,
           0.8048780487804879,
           0.9512195121951219,
           0.926829268292683,
           0.024390243902439025,
           0.7560975609756098,
           0.8292682926829268,
           0.8048780487804879,
           0.7317073170731707,
           0.8292682926829268,
           0.5609756097560976,
           0.7560975609756098,
           0.024390243902439025,
           0.7560975609756098,
           0.7804878048780488,
           0.024390243902439025,
           0.8292682926829268,
           0.7317073170731707,
           0.6341463414634146,
           0.7560975609756098,
           0.6097560975609756,
           0.1951219512195122,
           0.7560975609756098,
           0.1951219512195122,
           0.7317073170731707,
           0.024390243902439025,
           0.6097560975609756,
           0.7317073170731707,
           0.7317073170731707,
           0.8292682926829268,
           0.7804878048780488,
           0.5121951219512195,
           0.7317073170731707,
           0.7317073170731707,
           0.2682926829268293,
           0.5853658536585366,
           0.4146341463414634,
           0.8048780487804879,
           0.5853658536585366,
           0.4634146341463415,
           0.024390243902439025,
           0.7317073170731707,
           0.17073170731707318,
           0.7317073170731707,
           0.024390243902439025,
           0.926829268292683,
           0.1951219512195122,
           0.36585365853658536,
           0.36585365853658536,
           0.07317073170731707,
           0.24390243902439024,
           0.0975609756097561,
           0.24390243902439024,
           0.2926829268292683,
           0.024390243902439025,
           0.7317073170731707,
           0.6097560975609756,
           0.43902439024390244,
           0.12195121951219512,
           0.2682926829268293,
           0.21951219512195122,
           0.17073170731707318,
           0.3902439024390244,
           0.12195121951219512,
           0.21951219512195122,
           0.024390243902439025,
           0.12195121951219512,
           0.24390243902439024,
           0.07317073170731707,
           0.34146341463414637,
           0.12195121951219512,
           0.024390243902439025,
           0.1951219512195122,
           0.024390243902439025,
           0.024390243902439025,
           0.0975609756097561,
           0.024390243902439025,
           0.04878048780487805,
           0.024390243902439025,
           0.0975609756097561,
           0.0975609756097561,
           0.024390243902439025,
           0.0975609756097561,
           0.04878048780487805,
           0.04878048780487805,
           0.04878048780487805,
           0.024390243902439025,
           0.04878048780487805,
           0.024390243902439025,
           0.024390243902439025,
           0.9512195121951219,
           0.7560975609756098,
           0.8048780487804879,
           0.9024390243902439,
           1,
           0.8536585365853658,
           0.9512195121951219,
           0.926829268292683,
           0.7317073170731707,
           0.8536585365853658,
           0.024390243902439025,
           0.7317073170731707,
           0.8536585365853658,
           0.7317073170731707,
           0.8048780487804879,
           0.8048780487804879,
           0.8048780487804879,
           0.024390243902439025,
           0.024390243902439025,
           0.7560975609756098,
           0.8292682926829268,
           0.024390243902439025,
           0.7560975609756098,
           0.1951219512195122,
           0.024390243902439025,
           0.4634146341463415,
           0.17073170731707318,
           0.36585365853658536,
           0.24390243902439024,
           0.12195121951219512,
           0.024390243902439025,
           0.024390243902439025,
           0.0975609756097561,
           0.0975609756097561,
           0.9512195121951219,
           1,
           0.9024390243902439,
           1,
           1,
           1,
           0.7560975609756098,
           0.8536585365853658,
           0.8048780487804879,
           0.926829268292683,
           0.8780487804878049,
           0.8048780487804879,
           0.9512195121951219,
           0.024390243902439025,
           1,
           0.7560975609756098,
           0.9512195121951219,
           0.8780487804878049,
           0.9024390243902439,
           0.8292682926829268,
           1,
           0.8536585365853658,
           0.8780487804878049,
           0.926829268292683,
           0.024390243902439025,
           0.9512195121951219,
           0.8536585365853658,
           1,
           0.926829268292683,
           0.024390243902439025,
           0.7317073170731707,
           0.8536585365853658,
           0.8048780487804879,
           0.7317073170731707,
           0.8048780487804879,
           0.7804878048780488,
           0.8536585365853658,
           0.975609756097561,
           0.7317073170731707,
           0.8048780487804879,
           0.024390243902439025,
           0.024390243902439025,
           0.7317073170731707,
           0.975609756097561,
           0.926829268292683,
           0.8536585365853658,
           0.7317073170731707,
           0.7560975609756098,
           0.7317073170731707,
           0.8048780487804879,
           0.8048780487804879,
           0.8292682926829268,
           0.8048780487804879,
           0.7804878048780488,
           0.7317073170731707,
           0.7804878048780488,
           0.8780487804878049,
           0.8048780487804879,
           0.9512195121951219,
           0.926829268292683,
           0.7560975609756098,
           0.8292682926829268,
           0.8048780487804879,
           0.7317073170731707,
           0.8292682926829268,
           0.7560975609756098,
           0.7560975609756098,
           0.7804878048780488,
           0.8292682926829268,
           0.7317073170731707,
           0.6341463414634146,
           0.7560975609756098,
           0.6097560975609756,
           0.1951219512195122,
           0.7560975609756098,
           0.1951219512195122,
           0.7317073170731707,
           0.6097560975609756,
           0.7317073170731707,
           0.7317073170731707,
           0.5121951219512195,
           0.7560975609756098,
           0.5853658536585366,
           0.4146341463414634,
           0.5853658536585366,
           0.4634146341463415,
           0.7317073170731707,
           0.04878048780487805,
           0.17073170731707318,
           0.7317073170731707,
           0.926829268292683,
           0.1951219512195122,
           0.36585365853658536,
           0.24390243902439024,
           0.0975609756097561,
           0.12195121951219512,
           0.6097560975609756,
           0.2682926829268293,
           0.024390243902439025,
           0.21951219512195122,
           0.24390243902439024,
           0.024390243902439025,
           0.04878048780487805,
           0.0975609756097561,
           0.0975609756097561,
           0.024390243902439025
          ],
          "size": [
           7.44404935836792,
           4.393547534942627,
           4.8883771896362305,
           7.282155990600586,
           4.6605000495910645,
           3.0169272422790527,
           2.1981520652770996,
           2.652092695236206,
           4.18218469619751,
           5.319455623626709,
           7.509108066558838,
           2.3499698638916016,
           2.8641464710235596,
           3.3498659133911133,
           3.6253550052642822,
           4.956335544586182,
           2.4745969772338867,
           2.1663637161254883,
           7.323884963989258,
           2.110212802886963,
           6.074475288391113,
           3.409919023513794,
           5.779325485229492,
           2.3522658348083496,
           2.463151454925537,
           5.711553573608398,
           2.137885332107544,
           5.436051845550537,
           3.888986110687256,
           4.985869407653809,
           4.004141807556152,
           3.719867467880249,
           5.724392890930176,
           2.91825008392334,
           3.3817832469940186,
           3.8777353763580322,
           4.175339698791504,
           2.7453012466430664,
           3.5143542289733887,
           5.136173248291016,
           4.033224105834961,
           3.7264959812164307,
           1.6530370712280273,
           2.098067045211792,
           3.0315401554107666,
           3.047673463821411,
           2.1273834705352783,
           1.7939071655273438,
           3.5288338661193848,
           1.9831442832946777,
           3.000070095062256,
           3.1083548069000244,
           2.461665153503418,
           2.4994232654571533,
           5.231329441070557,
           3.28535795211792,
           2.363999366760254,
           1.7122626304626465,
           2.148200035095215
          ],
          "sizemode": "area",
          "sizeref": 0.040845999717712404,
          "symbol": "circle"
         },
         "mode": "markers",
         "name": "moving stripes",
         "orientation": "v",
         "showlegend": true,
         "type": "scatter",
         "x": [
          254,
          248.7948717948718,
          236,
          245.5,
          232,
          260.1290322580645,
          226.3939393939394,
          234,
          241.05555555555554,
          269.27272727272725,
          269,
          231.48717948717947,
          265.8378378378378,
          237.85294117647058,
          273,
          247.42857142857142,
          219.05263157894737,
          245,
          268,
          302.37142857142857,
          258.92105263157896,
          244,
          273.43333333333334,
          250.03030303030303,
          222.72727272727272,
          275.1714285714286,
          229.26666666666668,
          269.90909090909093,
          246,
          251.5,
          269.3142857142857,
          278.9,
          264.6666666666667,
          274,
          266.27272727272725,
          242.28125,
          282.8205128205128,
          262.89473684210526,
          255.25806451612902,
          259.3235294117647,
          278.7647058823529,
          285.93548387096774,
          289.741935483871,
          213.7058823529412,
          238.3846153846154,
          273.25,
          241.57142857142858,
          226.63636363636363,
          43.13333333333333,
          275.0833333333333,
          280.8421052631579,
          36.84615384615385,
          293.8333333333333,
          262.2857142857143,
          254.06666666666666,
          250.375,
          237.8,
          141,
          263
         ],
         "xaxis": "x",
         "y": [
          55,
          56.64102564102564,
          68,
          60.5,
          74,
          44.16129032258065,
          75.12121212121212,
          71,
          61.72222222222222,
          39.72727272727273,
          66,
          81.23076923076923,
          60.729729729729726,
          65.47058823529412,
          56,
          69.11428571428571,
          82.94736842105263,
          66,
          32.82051282051282,
          5.171428571428572,
          61.13157894736842,
          67,
          62.2,
          49.84848484848485,
          78.27272727272727,
          50.57142857142857,
          68.46666666666667,
          26.12121212121212,
          65,
          66,
          48.74285714285714,
          58.53333333333333,
          69.03030303030303,
          37.696969696969695,
          55.39393939393939,
          73.0625,
          47.97435897435897,
          34.6578947368421,
          64.16129032258064,
          72.44117647058823,
          47.94117647058823,
          43.03225806451613,
          47.87096774193548,
          87.3529411764706,
          76.84615384615384,
          31.375,
          55.857142857142854,
          83.81818181818181,
          8.366666666666667,
          20.416666666666668,
          42.1578947368421,
          2.6923076923076925,
          40.166666666666664,
          65.28571428571429,
          77.03333333333333,
          81.0625,
          87.9,
          61,
          71
         ],
         "yaxis": "y"
        },
        {
         "hovertemplate": "color=dots_ON<br>x=%{x}<br>y=%{y}<br>size=%{marker.size}<extra></extra>",
         "legendgroup": "dots_ON",
         "marker": {
          "color": "#EF553B",
          "opacity": [
           1,
           0.9512195121951219,
           1,
           0.7804878048780488,
           1,
           0.7560975609756098,
           0.8048780487804879,
           0.024390243902439025,
           0.8780487804878049,
           0.8048780487804879,
           1,
           0.9512195121951219,
           0.9024390243902439,
           0.8292682926829268,
           1,
           0.8536585365853658,
           0.926829268292683,
           0.024390243902439025,
           0.9512195121951219,
           0.8536585365853658,
           0.926829268292683,
           0.024390243902439025,
           0.7317073170731707,
           0.8048780487804879,
           0.8048780487804879,
           0.8536585365853658,
           0.7317073170731707,
           0.8048780487804879,
           0.024390243902439025,
           0.7317073170731707,
           0.8536585365853658,
           0.7317073170731707,
           0.8048780487804879,
           0.8048780487804879,
           0.8048780487804879,
           0.7804878048780488,
           0.9512195121951219,
           0.926829268292683,
           0.7560975609756098,
           0.8292682926829268,
           0.8292682926829268,
           0.7560975609756098,
           0.7560975609756098,
           0.8292682926829268,
           0.6341463414634146,
           0.1951219512195122,
           0.5121951219512195,
           0.2682926829268293,
           0.7317073170731707,
           0.5853658536585366,
           0.4634146341463415,
           0.3170731707317073,
           0.7317073170731707,
           0.17073170731707318,
           0.7317073170731707,
           0.3902439024390244,
           0.24390243902439024,
           0.024390243902439025,
           0.024390243902439025,
           1,
           0.9512195121951219,
           1,
           1,
           0.7804878048780488,
           1,
           1,
           0.7560975609756098,
           0.926829268292683,
           0.8536585365853658,
           0.8048780487804879,
           0.024390243902439025,
           0.8780487804878049,
           0.8048780487804879,
           0.024390243902439025,
           1,
           0.7560975609756098,
           0.9512195121951219,
           0.024390243902439025,
           0.8780487804878049,
           0.9024390243902439,
           0.8292682926829268,
           1,
           0.8536585365853658,
           0.8780487804878049,
           0.926829268292683,
           0.024390243902439025,
           0.9512195121951219,
           0.8536585365853658,
           1,
           0.926829268292683,
           0.024390243902439025,
           0.7317073170731707,
           0.8536585365853658,
           0.8048780487804879,
           0.7317073170731707,
           0.8048780487804879,
           0.7804878048780488,
           0.8536585365853658,
           0.975609756097561,
           0.7317073170731707,
           0.8048780487804879,
           0.024390243902439025,
           0.024390243902439025,
           0.7317073170731707,
           0.975609756097561,
           0.8536585365853658,
           0.7317073170731707,
           0.7560975609756098,
           0.8048780487804879,
           0.8048780487804879,
           0.8292682926829268,
           0.8048780487804879,
           0.024390243902439025,
           0.7804878048780488,
           0.8780487804878049,
           0.7317073170731707,
           0.7804878048780488,
           0.8780487804878049,
           0.8048780487804879,
           0.9512195121951219,
           0.926829268292683,
           0.024390243902439025,
           0.7560975609756098,
           0.8292682926829268,
           0.8048780487804879,
           0.7317073170731707,
           0.8292682926829268,
           0.5609756097560976,
           0.7560975609756098,
           0.024390243902439025,
           0.7560975609756098,
           0.7804878048780488,
           0.024390243902439025,
           0.8292682926829268,
           0.7317073170731707,
           0.6341463414634146,
           0.7560975609756098,
           0.6097560975609756,
           0.1951219512195122,
           0.7560975609756098,
           0.1951219512195122,
           0.7317073170731707,
           0.024390243902439025,
           0.6097560975609756,
           0.7317073170731707,
           0.7317073170731707,
           0.8292682926829268,
           0.7804878048780488,
           0.5121951219512195,
           0.7317073170731707,
           0.7317073170731707,
           0.2682926829268293,
           0.5853658536585366,
           0.4146341463414634,
           0.8048780487804879,
           0.5853658536585366,
           0.4634146341463415,
           0.024390243902439025,
           0.7317073170731707,
           0.17073170731707318,
           0.7317073170731707,
           0.024390243902439025,
           0.926829268292683,
           0.1951219512195122,
           0.36585365853658536,
           0.36585365853658536,
           0.07317073170731707,
           0.24390243902439024,
           0.0975609756097561,
           0.24390243902439024,
           0.2926829268292683,
           0.024390243902439025,
           0.7317073170731707,
           0.6097560975609756,
           0.43902439024390244,
           0.12195121951219512,
           0.2682926829268293,
           0.21951219512195122,
           0.17073170731707318,
           0.3902439024390244,
           0.12195121951219512,
           0.21951219512195122,
           0.024390243902439025,
           0.12195121951219512,
           0.24390243902439024,
           0.07317073170731707,
           0.34146341463414637,
           0.12195121951219512,
           0.024390243902439025,
           0.1951219512195122,
           0.024390243902439025,
           0.024390243902439025,
           0.0975609756097561,
           0.024390243902439025,
           0.04878048780487805,
           0.024390243902439025,
           0.0975609756097561,
           0.0975609756097561,
           0.024390243902439025,
           0.0975609756097561,
           0.04878048780487805,
           0.04878048780487805,
           0.04878048780487805,
           0.024390243902439025,
           0.04878048780487805,
           0.024390243902439025,
           0.024390243902439025,
           0.9512195121951219,
           0.7560975609756098,
           0.8048780487804879,
           0.9024390243902439,
           1,
           0.8536585365853658,
           0.9512195121951219,
           0.926829268292683,
           0.7317073170731707,
           0.8536585365853658,
           0.024390243902439025,
           0.7317073170731707,
           0.8536585365853658,
           0.7317073170731707,
           0.8048780487804879,
           0.8048780487804879,
           0.8048780487804879,
           0.024390243902439025,
           0.024390243902439025,
           0.7560975609756098,
           0.8292682926829268,
           0.024390243902439025,
           0.7560975609756098,
           0.1951219512195122,
           0.024390243902439025,
           0.4634146341463415,
           0.17073170731707318,
           0.36585365853658536,
           0.24390243902439024,
           0.12195121951219512,
           0.024390243902439025,
           0.024390243902439025,
           0.0975609756097561,
           0.0975609756097561,
           0.9512195121951219,
           1,
           0.9024390243902439,
           1,
           1,
           1,
           0.7560975609756098,
           0.8536585365853658,
           0.8048780487804879,
           0.926829268292683,
           0.8780487804878049,
           0.8048780487804879,
           0.9512195121951219,
           0.024390243902439025,
           1,
           0.7560975609756098,
           0.9512195121951219,
           0.8780487804878049,
           0.9024390243902439,
           0.8292682926829268,
           1,
           0.8536585365853658,
           0.8780487804878049,
           0.926829268292683,
           0.024390243902439025,
           0.9512195121951219,
           0.8536585365853658,
           1,
           0.926829268292683,
           0.024390243902439025,
           0.7317073170731707,
           0.8536585365853658,
           0.8048780487804879,
           0.7317073170731707,
           0.8048780487804879,
           0.7804878048780488,
           0.8536585365853658,
           0.975609756097561,
           0.7317073170731707,
           0.8048780487804879,
           0.024390243902439025,
           0.024390243902439025,
           0.7317073170731707,
           0.975609756097561,
           0.926829268292683,
           0.8536585365853658,
           0.7317073170731707,
           0.7560975609756098,
           0.7317073170731707,
           0.8048780487804879,
           0.8048780487804879,
           0.8292682926829268,
           0.8048780487804879,
           0.7804878048780488,
           0.7317073170731707,
           0.7804878048780488,
           0.8780487804878049,
           0.8048780487804879,
           0.9512195121951219,
           0.926829268292683,
           0.7560975609756098,
           0.8292682926829268,
           0.8048780487804879,
           0.7317073170731707,
           0.8292682926829268,
           0.7560975609756098,
           0.7560975609756098,
           0.7804878048780488,
           0.8292682926829268,
           0.7317073170731707,
           0.6341463414634146,
           0.7560975609756098,
           0.6097560975609756,
           0.1951219512195122,
           0.7560975609756098,
           0.1951219512195122,
           0.7317073170731707,
           0.6097560975609756,
           0.7317073170731707,
           0.7317073170731707,
           0.5121951219512195,
           0.7560975609756098,
           0.5853658536585366,
           0.4146341463414634,
           0.5853658536585366,
           0.4634146341463415,
           0.7317073170731707,
           0.04878048780487805,
           0.17073170731707318,
           0.7317073170731707,
           0.926829268292683,
           0.1951219512195122,
           0.36585365853658536,
           0.24390243902439024,
           0.0975609756097561,
           0.12195121951219512,
           0.6097560975609756,
           0.2682926829268293,
           0.024390243902439025,
           0.21951219512195122,
           0.24390243902439024,
           0.024390243902439025,
           0.04878048780487805,
           0.0975609756097561,
           0.0975609756097561,
           0.024390243902439025
          ],
          "size": [
           14.180257797241211,
           8.266061782836914,
           15.602678298950195,
           8.283590316772461,
           13.244553565979004,
           6.576681613922119,
           5.067723274230957,
           5.541374206542969,
           16.33839988708496,
           4.131654739379883,
           3.064542293548584,
           2.581991195678711,
           6.950648784637451,
           11.974721908569336,
           3.166693925857544,
           13.723657608032227,
           6.90467643737793,
           3.55966854095459,
           3.9980812072753906,
           5.8525190353393555,
           9.948750495910645,
           5.255523204803467,
           10.301584243774414,
           8.79817008972168,
           3.9888246059417725,
           3.071376085281372,
           3.6162281036376953,
           15.497323989868164,
           5.043008327484131,
           5.812310218811035,
           10.849069595336914,
           6.332719326019287,
           12.574407577514648,
           2.3225185871124268,
           3.8319098949432373,
           5.021394729614258,
           4.052831649780273,
           3.3903911113739014,
           14.654544830322266,
           7.059460163116455,
           4.477252006530762,
           11.141602516174316,
           4.241295337677002,
           2.383674144744873,
           9.183377265930176,
           3.0768213272094727,
           11.095941543579102,
           10.791864395141602,
           4.9502997398376465,
           11.336202621459961,
           8.553529739379883,
           1.4911556243896484,
           10.215215682983398,
           2.910545825958252,
           6.077809810638428,
           3.405022144317627,
           2.7216570377349854,
           2.073620319366455,
           2.855835437774658,
           6.57537841796875,
           8.77061653137207,
           6.957108497619629,
           2.884103775024414,
           8.012165069580078,
           10.37376594543457,
           4.062103271484375,
           4.830873012542725,
           12.221562385559082,
           2.1004786491394043,
           8.000001907348633,
           3.7365634441375732,
           4.330077648162842,
           5.328753471374512,
           4.595456123352051,
           3.3090920448303223,
           4.291825294494629,
           4.840816497802734,
           2.5652616024017334,
           5.591952323913574,
           2.7651185989379883,
           2.711465835571289,
           7.352187633514404,
           3.707000255584717,
           3.6274755001068115,
           4.0176167488098145,
           1.521811842918396,
           1.9690394401550293,
           1.93940269947052,
           3.4184556007385254,
           3.1363911628723145,
           1.7068523168563843,
           2.416821002960205,
           1.6629712581634521,
           4.071748733520508,
           3.331770420074463,
           3.0956292152404785,
           5.171095848083496,
           6.782044410705566,
           2.6236746311187744,
           3.735217332839966,
           6.739551067352295,
           8.374079704284668,
           1.9173904657363892,
           1.6001255512237549,
           2.923710823059082,
           5.25844669342041,
           3.692866325378418,
           2.8371410369873047,
           8.127671241760254,
           1.649051308631897,
           1.4781906604766846,
           1.6966872215270996,
           2.0138089656829834,
           3.785676956176758,
           2.214712142944336,
           1.4600001573562622,
           3.6148412227630615,
           2.1230099201202393,
           2.180124521255493,
           2.764892101287842,
           5.278691291809082,
           5.173149585723877,
           1.7176995277404785,
           2.685711145401001,
           2.0152745246887207,
           3.3490586280822754,
           3.954728603363037,
           1.9514514207839966,
           2.5569403171539307,
           2.617331027984619,
           3.3129594326019287,
           3.036565065383911,
           3.0355920791625977,
           1.96980881690979,
           2.6294126510620117,
           3.800753593444824,
           1.8641257286071777,
           4.47941255569458,
           2.728808879852295,
           2.2105252742767334,
           2.937864303588867,
           1.5255696773529053,
           1.8948460817337036,
           1.367875099182129,
           2.3370919227600098,
           2.377699851989746,
           2.994196891784668,
           2.068873643875122
          ],
          "sizemode": "area",
          "sizeref": 0.040845999717712404,
          "symbol": "circle"
         },
         "mode": "markers",
         "name": "dots_ON",
         "orientation": "v",
         "showlegend": true,
         "type": "scatter",
         "x": [
          254,
          248.7948717948718,
          260,
          236,
          245.5,
          232,
          311,
          260.1290322580645,
          257.5,
          287,
          226.3939393939394,
          234,
          241.05555555555554,
          269.27272727272725,
          233,
          269,
          297.1290322580645,
          231.48717948717947,
          293,
          306.94444444444446,
          265.8378378378378,
          237.85294117647058,
          273,
          247.42857142857142,
          270,
          219.05263157894737,
          245,
          268,
          302.37142857142857,
          316,
          258.92105263157896,
          244,
          273.43333333333334,
          257.1714285714286,
          250.03030303030303,
          294,
          222.72727272727272,
          274.5,
          275.1714285714286,
          318.5,
          229.26666666666668,
          269.90909090909093,
          246,
          236,
          251.5,
          270,
          269.3142857142857,
          278.9,
          306.1290322580645,
          264.6666666666667,
          274,
          252.88235294117646,
          266.27272727272725,
          263,
          242.28125,
          207.97222222222223,
          266.76666666666665,
          265.03125,
          279.55555555555554,
          305.75757575757575,
          282.8205128205128,
          262.89473684210526,
          264,
          255.25806451612902,
          259.3235294117647,
          216.8181818181818,
          312.46666666666664,
          278.7647058823529,
          53.30434782608695,
          285.93548387096774,
          271,
          289.741935483871,
          321.125,
          262,
          213.7058823529412,
          312.8,
          238.3846153846154,
          293.0967741935484,
          300.76,
          311.5,
          323.93548387096774,
          273.25,
          269,
          270,
          326.92,
          190.7,
          315.6,
          205.35294117647058,
          208.875,
          241.57142857142858,
          299.1,
          303.4,
          226.63636363636363,
          262.875,
          281.88235294117646,
          222.12121212121212,
          275.0833333333333,
          280.8421052631579,
          265,
          293.8333333333333,
          262.2857142857143,
          254.06666666666666,
          308,
          296.3421052631579,
          276.375,
          285.6,
          325.53333333333336,
          49.666666666666664,
          274.3,
          309,
          263.1,
          214.08333333333334,
          278,
          288.26666666666665,
          199.36,
          295.1111111111111,
          49.4,
          317.1818181818182,
          298.22222222222223,
          324,
          250.375,
          284.8,
          334,
          272,
          305.4,
          237.8,
          287.3333333333333,
          239.78571428571428,
          272.2,
          264,
          243,
          260,
          263,
          290,
          277,
          256.5,
          250,
          278,
          280.5,
          262,
          252,
          291,
          235.5,
          310.5,
          231,
          305,
          322,
          292
         ],
         "xaxis": "x",
         "y": [
          55,
          56.64102564102564,
          49,
          68,
          60.5,
          74,
          20,
          44.16129032258065,
          52.5,
          2.4285714285714284,
          75.12121212121212,
          71,
          61.72222222222222,
          39.72727272727273,
          70,
          66,
          2.7419354838709675,
          81.23076923076923,
          1,
          4.611111111111111,
          60.729729729729726,
          65.47058823529412,
          56,
          69.11428571428571,
          2.5277777777777777,
          82.94736842105263,
          66,
          32.82051282051282,
          5.171428571428572,
          10,
          61.13157894736842,
          67,
          62.2,
          39.57142857142857,
          49.84848484848485,
          6.5,
          78.27272727272727,
          7.5,
          50.57142857142857,
          5,
          68.46666666666667,
          26.12121212121212,
          65,
          73,
          66,
          11.9,
          48.74285714285714,
          58.53333333333333,
          11.35483870967742,
          69.03030303030303,
          37.696969696969695,
          43.6764705882353,
          55.39393939393939,
          53,
          73.0625,
          78.44444444444444,
          6.3,
          13.90625,
          3.3333333333333335,
          19.333333333333332,
          47.97435897435897,
          34.6578947368421,
          52,
          64.16129032258064,
          72.44117647058823,
          75.45454545454545,
          2.8666666666666667,
          47.94117647058823,
          43.08695652173913,
          43.03225806451613,
          53,
          47.87096774193548,
          14.15625,
          38,
          87.3529411764706,
          14.333333333333334,
          76.84615384615384,
          10.03225806451613,
          12.44,
          8.5,
          3.5806451612903225,
          31.375,
          20.033333333333335,
          54,
          9.8,
          89.2,
          25,
          84.05882352941177,
          92.34375,
          55.857142857142854,
          31.1,
          36.06666666666667,
          83.81818181818181,
          28.708333333333332,
          8.058823529411764,
          70.60606060606061,
          20.416666666666668,
          42.1578947368421,
          51,
          40.166666666666664,
          65.28571428571429,
          77.03333333333333,
          1,
          20.657894736842106,
          12.875,
          55.06666666666667,
          17.2,
          49.666666666666664,
          44.3,
          15.5,
          17.9,
          81.33333333333333,
          6,
          34.86666666666667,
          87.2,
          33.72222222222222,
          55.8,
          19,
          27.11111111111111,
          21.285714285714285,
          81.0625,
          38.2,
          13,
          48,
          27.6,
          87.9,
          21.666666666666668,
          81.42857142857143,
          17,
          72,
          86.75,
          68,
          71,
          25.5,
          43,
          69,
          78,
          35.25,
          20.5,
          70,
          71.5,
          31.5,
          90,
          25,
          63,
          24.5,
          19,
          38
         ],
         "yaxis": "y"
        },
        {
         "hovertemplate": "color=dots_OFF<br>x=%{x}<br>y=%{y}<br>size=%{marker.size}<extra></extra>",
         "legendgroup": "dots_OFF",
         "marker": {
          "color": "#00cc96",
          "opacity": [
           1,
           0.9512195121951219,
           1,
           0.7804878048780488,
           1,
           0.7560975609756098,
           0.8048780487804879,
           0.024390243902439025,
           0.8780487804878049,
           0.8048780487804879,
           1,
           0.9512195121951219,
           0.9024390243902439,
           0.8292682926829268,
           1,
           0.8536585365853658,
           0.926829268292683,
           0.024390243902439025,
           0.9512195121951219,
           0.8536585365853658,
           0.926829268292683,
           0.024390243902439025,
           0.7317073170731707,
           0.8048780487804879,
           0.8048780487804879,
           0.8536585365853658,
           0.7317073170731707,
           0.8048780487804879,
           0.024390243902439025,
           0.7317073170731707,
           0.8536585365853658,
           0.7317073170731707,
           0.8048780487804879,
           0.8048780487804879,
           0.8048780487804879,
           0.7804878048780488,
           0.9512195121951219,
           0.926829268292683,
           0.7560975609756098,
           0.8292682926829268,
           0.8292682926829268,
           0.7560975609756098,
           0.7560975609756098,
           0.8292682926829268,
           0.6341463414634146,
           0.1951219512195122,
           0.5121951219512195,
           0.2682926829268293,
           0.7317073170731707,
           0.5853658536585366,
           0.4634146341463415,
           0.3170731707317073,
           0.7317073170731707,
           0.17073170731707318,
           0.7317073170731707,
           0.3902439024390244,
           0.24390243902439024,
           0.024390243902439025,
           0.024390243902439025,
           1,
           0.9512195121951219,
           1,
           1,
           0.7804878048780488,
           1,
           1,
           0.7560975609756098,
           0.926829268292683,
           0.8536585365853658,
           0.8048780487804879,
           0.024390243902439025,
           0.8780487804878049,
           0.8048780487804879,
           0.024390243902439025,
           1,
           0.7560975609756098,
           0.9512195121951219,
           0.024390243902439025,
           0.8780487804878049,
           0.9024390243902439,
           0.8292682926829268,
           1,
           0.8536585365853658,
           0.8780487804878049,
           0.926829268292683,
           0.024390243902439025,
           0.9512195121951219,
           0.8536585365853658,
           1,
           0.926829268292683,
           0.024390243902439025,
           0.7317073170731707,
           0.8536585365853658,
           0.8048780487804879,
           0.7317073170731707,
           0.8048780487804879,
           0.7804878048780488,
           0.8536585365853658,
           0.975609756097561,
           0.7317073170731707,
           0.8048780487804879,
           0.024390243902439025,
           0.024390243902439025,
           0.7317073170731707,
           0.975609756097561,
           0.8536585365853658,
           0.7317073170731707,
           0.7560975609756098,
           0.8048780487804879,
           0.8048780487804879,
           0.8292682926829268,
           0.8048780487804879,
           0.024390243902439025,
           0.7804878048780488,
           0.8780487804878049,
           0.7317073170731707,
           0.7804878048780488,
           0.8780487804878049,
           0.8048780487804879,
           0.9512195121951219,
           0.926829268292683,
           0.024390243902439025,
           0.7560975609756098,
           0.8292682926829268,
           0.8048780487804879,
           0.7317073170731707,
           0.8292682926829268,
           0.5609756097560976,
           0.7560975609756098,
           0.024390243902439025,
           0.7560975609756098,
           0.7804878048780488,
           0.024390243902439025,
           0.8292682926829268,
           0.7317073170731707,
           0.6341463414634146,
           0.7560975609756098,
           0.6097560975609756,
           0.1951219512195122,
           0.7560975609756098,
           0.1951219512195122,
           0.7317073170731707,
           0.024390243902439025,
           0.6097560975609756,
           0.7317073170731707,
           0.7317073170731707,
           0.8292682926829268,
           0.7804878048780488,
           0.5121951219512195,
           0.7317073170731707,
           0.7317073170731707,
           0.2682926829268293,
           0.5853658536585366,
           0.4146341463414634,
           0.8048780487804879,
           0.5853658536585366,
           0.4634146341463415,
           0.024390243902439025,
           0.7317073170731707,
           0.17073170731707318,
           0.7317073170731707,
           0.024390243902439025,
           0.926829268292683,
           0.1951219512195122,
           0.36585365853658536,
           0.36585365853658536,
           0.07317073170731707,
           0.24390243902439024,
           0.0975609756097561,
           0.24390243902439024,
           0.2926829268292683,
           0.024390243902439025,
           0.7317073170731707,
           0.6097560975609756,
           0.43902439024390244,
           0.12195121951219512,
           0.2682926829268293,
           0.21951219512195122,
           0.17073170731707318,
           0.3902439024390244,
           0.12195121951219512,
           0.21951219512195122,
           0.024390243902439025,
           0.12195121951219512,
           0.24390243902439024,
           0.07317073170731707,
           0.34146341463414637,
           0.12195121951219512,
           0.024390243902439025,
           0.1951219512195122,
           0.024390243902439025,
           0.024390243902439025,
           0.0975609756097561,
           0.024390243902439025,
           0.04878048780487805,
           0.024390243902439025,
           0.0975609756097561,
           0.0975609756097561,
           0.024390243902439025,
           0.0975609756097561,
           0.04878048780487805,
           0.04878048780487805,
           0.04878048780487805,
           0.024390243902439025,
           0.04878048780487805,
           0.024390243902439025,
           0.024390243902439025,
           0.9512195121951219,
           0.7560975609756098,
           0.8048780487804879,
           0.9024390243902439,
           1,
           0.8536585365853658,
           0.9512195121951219,
           0.926829268292683,
           0.7317073170731707,
           0.8536585365853658,
           0.024390243902439025,
           0.7317073170731707,
           0.8536585365853658,
           0.7317073170731707,
           0.8048780487804879,
           0.8048780487804879,
           0.8048780487804879,
           0.024390243902439025,
           0.024390243902439025,
           0.7560975609756098,
           0.8292682926829268,
           0.024390243902439025,
           0.7560975609756098,
           0.1951219512195122,
           0.024390243902439025,
           0.4634146341463415,
           0.17073170731707318,
           0.36585365853658536,
           0.24390243902439024,
           0.12195121951219512,
           0.024390243902439025,
           0.024390243902439025,
           0.0975609756097561,
           0.0975609756097561,
           0.9512195121951219,
           1,
           0.9024390243902439,
           1,
           1,
           1,
           0.7560975609756098,
           0.8536585365853658,
           0.8048780487804879,
           0.926829268292683,
           0.8780487804878049,
           0.8048780487804879,
           0.9512195121951219,
           0.024390243902439025,
           1,
           0.7560975609756098,
           0.9512195121951219,
           0.8780487804878049,
           0.9024390243902439,
           0.8292682926829268,
           1,
           0.8536585365853658,
           0.8780487804878049,
           0.926829268292683,
           0.024390243902439025,
           0.9512195121951219,
           0.8536585365853658,
           1,
           0.926829268292683,
           0.024390243902439025,
           0.7317073170731707,
           0.8536585365853658,
           0.8048780487804879,
           0.7317073170731707,
           0.8048780487804879,
           0.7804878048780488,
           0.8536585365853658,
           0.975609756097561,
           0.7317073170731707,
           0.8048780487804879,
           0.024390243902439025,
           0.024390243902439025,
           0.7317073170731707,
           0.975609756097561,
           0.926829268292683,
           0.8536585365853658,
           0.7317073170731707,
           0.7560975609756098,
           0.7317073170731707,
           0.8048780487804879,
           0.8048780487804879,
           0.8292682926829268,
           0.8048780487804879,
           0.7804878048780488,
           0.7317073170731707,
           0.7804878048780488,
           0.8780487804878049,
           0.8048780487804879,
           0.9512195121951219,
           0.926829268292683,
           0.7560975609756098,
           0.8292682926829268,
           0.8048780487804879,
           0.7317073170731707,
           0.8292682926829268,
           0.7560975609756098,
           0.7560975609756098,
           0.7804878048780488,
           0.8292682926829268,
           0.7317073170731707,
           0.6341463414634146,
           0.7560975609756098,
           0.6097560975609756,
           0.1951219512195122,
           0.7560975609756098,
           0.1951219512195122,
           0.7317073170731707,
           0.6097560975609756,
           0.7317073170731707,
           0.7317073170731707,
           0.5121951219512195,
           0.7560975609756098,
           0.5853658536585366,
           0.4146341463414634,
           0.5853658536585366,
           0.4634146341463415,
           0.7317073170731707,
           0.04878048780487805,
           0.17073170731707318,
           0.7317073170731707,
           0.926829268292683,
           0.1951219512195122,
           0.36585365853658536,
           0.24390243902439024,
           0.0975609756097561,
           0.12195121951219512,
           0.6097560975609756,
           0.2682926829268293,
           0.024390243902439025,
           0.21951219512195122,
           0.24390243902439024,
           0.024390243902439025,
           0.04878048780487805,
           0.0975609756097561,
           0.0975609756097561,
           0.024390243902439025
          ],
          "size": [
           2.1885757446289062,
           1.7972965240478516,
           4.715243816375732,
           2.9824063777923584,
           2.2879109382629395,
           2.4362940788269043,
           3.3827435970306396,
           6.387402534484863,
           3.578692674636841,
           3.6260852813720703,
           1.8241171836853027,
           3.493495464324951,
           5.18381404876709,
           4.614108085632324,
           3.833928346633911,
           5.812137603759766,
           3.9091415405273438,
           2.024322986602783,
           2.758859395980835,
           2.9122843742370605,
           2.8173277378082275,
           1.8954682350158691,
           1.639168620109558,
           3.2060227394104004,
           2.326218366622925,
           2.4888033866882324,
           1.89400315284729,
           3.7031567096710205,
           3.3920018672943115,
           2.227754831314087,
           1.873537540435791,
           2.1492817401885986,
           4.399103164672852,
           2.542421340942383
          ],
          "sizemode": "area",
          "sizeref": 0.040845999717712404,
          "symbol": "circle"
         },
         "mode": "markers",
         "name": "dots_OFF",
         "orientation": "v",
         "showlegend": true,
         "type": "scatter",
         "x": [
          248.7948717948718,
          260.1290322580645,
          269.27272727272725,
          265.8378378378378,
          273,
          247.42857142857142,
          268,
          258.92105263157896,
          273.43333333333334,
          275.1714285714286,
          246,
          251.5,
          269.3142857142857,
          278.9,
          264.6666666666667,
          274,
          266.27272727272725,
          263,
          264,
          255.25806451612902,
          278.7647058823529,
          271,
          289.741935483871,
          273.25,
          270,
          280.8421052631579,
          262.2857142857143,
          285.6,
          274.3,
          284.8,
          272,
          277,
          278,
          252
         ],
         "xaxis": "x",
         "y": [
          56.64102564102564,
          44.16129032258065,
          39.72727272727273,
          60.729729729729726,
          56,
          69.11428571428571,
          32.82051282051282,
          61.13157894736842,
          62.2,
          50.57142857142857,
          65,
          66,
          48.74285714285714,
          58.53333333333333,
          69.03030303030303,
          37.696969696969695,
          55.39393939393939,
          53,
          52,
          64.16129032258064,
          47.94117647058823,
          53,
          47.87096774193548,
          31.375,
          54,
          42.1578947368421,
          65.28571428571429,
          55.06666666666667,
          44.3,
          38.2,
          48,
          43,
          35.25,
          71.5
         ],
         "yaxis": "y"
        },
        {
         "hovertemplate": "color=loom<br>x=%{x}<br>y=%{y}<br>size=%{marker.size}<extra></extra>",
         "legendgroup": "loom",
         "marker": {
          "color": "#ab63fa",
          "opacity": [
           1,
           0.9512195121951219,
           1,
           0.7804878048780488,
           1,
           0.7560975609756098,
           0.8048780487804879,
           0.024390243902439025,
           0.8780487804878049,
           0.8048780487804879,
           1,
           0.9512195121951219,
           0.9024390243902439,
           0.8292682926829268,
           1,
           0.8536585365853658,
           0.926829268292683,
           0.024390243902439025,
           0.9512195121951219,
           0.8536585365853658,
           0.926829268292683,
           0.024390243902439025,
           0.7317073170731707,
           0.8048780487804879,
           0.8048780487804879,
           0.8536585365853658,
           0.7317073170731707,
           0.8048780487804879,
           0.024390243902439025,
           0.7317073170731707,
           0.8536585365853658,
           0.7317073170731707,
           0.8048780487804879,
           0.8048780487804879,
           0.8048780487804879,
           0.7804878048780488,
           0.9512195121951219,
           0.926829268292683,
           0.7560975609756098,
           0.8292682926829268,
           0.8292682926829268,
           0.7560975609756098,
           0.7560975609756098,
           0.8292682926829268,
           0.6341463414634146,
           0.1951219512195122,
           0.5121951219512195,
           0.2682926829268293,
           0.7317073170731707,
           0.5853658536585366,
           0.4634146341463415,
           0.3170731707317073,
           0.7317073170731707,
           0.17073170731707318,
           0.7317073170731707,
           0.3902439024390244,
           0.24390243902439024,
           0.024390243902439025,
           0.024390243902439025,
           1,
           0.9512195121951219,
           1,
           1,
           0.7804878048780488,
           1,
           1,
           0.7560975609756098,
           0.926829268292683,
           0.8536585365853658,
           0.8048780487804879,
           0.024390243902439025,
           0.8780487804878049,
           0.8048780487804879,
           0.024390243902439025,
           1,
           0.7560975609756098,
           0.9512195121951219,
           0.024390243902439025,
           0.8780487804878049,
           0.9024390243902439,
           0.8292682926829268,
           1,
           0.8536585365853658,
           0.8780487804878049,
           0.926829268292683,
           0.024390243902439025,
           0.9512195121951219,
           0.8536585365853658,
           1,
           0.926829268292683,
           0.024390243902439025,
           0.7317073170731707,
           0.8536585365853658,
           0.8048780487804879,
           0.7317073170731707,
           0.8048780487804879,
           0.7804878048780488,
           0.8536585365853658,
           0.975609756097561,
           0.7317073170731707,
           0.8048780487804879,
           0.024390243902439025,
           0.024390243902439025,
           0.7317073170731707,
           0.975609756097561,
           0.8536585365853658,
           0.7317073170731707,
           0.7560975609756098,
           0.8048780487804879,
           0.8048780487804879,
           0.8292682926829268,
           0.8048780487804879,
           0.024390243902439025,
           0.7804878048780488,
           0.8780487804878049,
           0.7317073170731707,
           0.7804878048780488,
           0.8780487804878049,
           0.8048780487804879,
           0.9512195121951219,
           0.926829268292683,
           0.024390243902439025,
           0.7560975609756098,
           0.8292682926829268,
           0.8048780487804879,
           0.7317073170731707,
           0.8292682926829268,
           0.5609756097560976,
           0.7560975609756098,
           0.024390243902439025,
           0.7560975609756098,
           0.7804878048780488,
           0.024390243902439025,
           0.8292682926829268,
           0.7317073170731707,
           0.6341463414634146,
           0.7560975609756098,
           0.6097560975609756,
           0.1951219512195122,
           0.7560975609756098,
           0.1951219512195122,
           0.7317073170731707,
           0.024390243902439025,
           0.6097560975609756,
           0.7317073170731707,
           0.7317073170731707,
           0.8292682926829268,
           0.7804878048780488,
           0.5121951219512195,
           0.7317073170731707,
           0.7317073170731707,
           0.2682926829268293,
           0.5853658536585366,
           0.4146341463414634,
           0.8048780487804879,
           0.5853658536585366,
           0.4634146341463415,
           0.024390243902439025,
           0.7317073170731707,
           0.17073170731707318,
           0.7317073170731707,
           0.024390243902439025,
           0.926829268292683,
           0.1951219512195122,
           0.36585365853658536,
           0.36585365853658536,
           0.07317073170731707,
           0.24390243902439024,
           0.0975609756097561,
           0.24390243902439024,
           0.2926829268292683,
           0.024390243902439025,
           0.7317073170731707,
           0.6097560975609756,
           0.43902439024390244,
           0.12195121951219512,
           0.2682926829268293,
           0.21951219512195122,
           0.17073170731707318,
           0.3902439024390244,
           0.12195121951219512,
           0.21951219512195122,
           0.024390243902439025,
           0.12195121951219512,
           0.24390243902439024,
           0.07317073170731707,
           0.34146341463414637,
           0.12195121951219512,
           0.024390243902439025,
           0.1951219512195122,
           0.024390243902439025,
           0.024390243902439025,
           0.0975609756097561,
           0.024390243902439025,
           0.04878048780487805,
           0.024390243902439025,
           0.0975609756097561,
           0.0975609756097561,
           0.024390243902439025,
           0.0975609756097561,
           0.04878048780487805,
           0.04878048780487805,
           0.04878048780487805,
           0.024390243902439025,
           0.04878048780487805,
           0.024390243902439025,
           0.024390243902439025,
           0.9512195121951219,
           0.7560975609756098,
           0.8048780487804879,
           0.9024390243902439,
           1,
           0.8536585365853658,
           0.9512195121951219,
           0.926829268292683,
           0.7317073170731707,
           0.8536585365853658,
           0.024390243902439025,
           0.7317073170731707,
           0.8536585365853658,
           0.7317073170731707,
           0.8048780487804879,
           0.8048780487804879,
           0.8048780487804879,
           0.024390243902439025,
           0.024390243902439025,
           0.7560975609756098,
           0.8292682926829268,
           0.024390243902439025,
           0.7560975609756098,
           0.1951219512195122,
           0.024390243902439025,
           0.4634146341463415,
           0.17073170731707318,
           0.36585365853658536,
           0.24390243902439024,
           0.12195121951219512,
           0.024390243902439025,
           0.024390243902439025,
           0.0975609756097561,
           0.0975609756097561,
           0.9512195121951219,
           1,
           0.9024390243902439,
           1,
           1,
           1,
           0.7560975609756098,
           0.8536585365853658,
           0.8048780487804879,
           0.926829268292683,
           0.8780487804878049,
           0.8048780487804879,
           0.9512195121951219,
           0.024390243902439025,
           1,
           0.7560975609756098,
           0.9512195121951219,
           0.8780487804878049,
           0.9024390243902439,
           0.8292682926829268,
           1,
           0.8536585365853658,
           0.8780487804878049,
           0.926829268292683,
           0.024390243902439025,
           0.9512195121951219,
           0.8536585365853658,
           1,
           0.926829268292683,
           0.024390243902439025,
           0.7317073170731707,
           0.8536585365853658,
           0.8048780487804879,
           0.7317073170731707,
           0.8048780487804879,
           0.7804878048780488,
           0.8536585365853658,
           0.975609756097561,
           0.7317073170731707,
           0.8048780487804879,
           0.024390243902439025,
           0.024390243902439025,
           0.7317073170731707,
           0.975609756097561,
           0.926829268292683,
           0.8536585365853658,
           0.7317073170731707,
           0.7560975609756098,
           0.7317073170731707,
           0.8048780487804879,
           0.8048780487804879,
           0.8292682926829268,
           0.8048780487804879,
           0.7804878048780488,
           0.7317073170731707,
           0.7804878048780488,
           0.8780487804878049,
           0.8048780487804879,
           0.9512195121951219,
           0.926829268292683,
           0.7560975609756098,
           0.8292682926829268,
           0.8048780487804879,
           0.7317073170731707,
           0.8292682926829268,
           0.7560975609756098,
           0.7560975609756098,
           0.7804878048780488,
           0.8292682926829268,
           0.7317073170731707,
           0.6341463414634146,
           0.7560975609756098,
           0.6097560975609756,
           0.1951219512195122,
           0.7560975609756098,
           0.1951219512195122,
           0.7317073170731707,
           0.6097560975609756,
           0.7317073170731707,
           0.7317073170731707,
           0.5121951219512195,
           0.7560975609756098,
           0.5853658536585366,
           0.4146341463414634,
           0.5853658536585366,
           0.4634146341463415,
           0.7317073170731707,
           0.04878048780487805,
           0.17073170731707318,
           0.7317073170731707,
           0.926829268292683,
           0.1951219512195122,
           0.36585365853658536,
           0.24390243902439024,
           0.0975609756097561,
           0.12195121951219512,
           0.6097560975609756,
           0.2682926829268293,
           0.024390243902439025,
           0.21951219512195122,
           0.24390243902439024,
           0.024390243902439025,
           0.04878048780487805,
           0.0975609756097561,
           0.0975609756097561,
           0.024390243902439025
          ],
          "size": [
           4.886321067810059,
           9.258469581604004,
           2.4779093265533447,
           4.829119682312012,
           4.3094024658203125,
           3.1302297115325928,
           3.839823007583618,
           3.063903331756592,
           2.0513129234313965,
           2.428886890411377,
           3.7863852977752686,
           7.205437660217285,
           2.236098289489746,
           2.729848623275757,
           6.91361141204834,
           6.801826000213623,
           2.22491717338562,
           5.834988594055176,
           3.354914665222168,
           3.663149833679199,
           3.2314398288726807,
           6.086164474487305,
           3.270482301712036,
           2.9521963596343994,
           2.6847455501556396,
           7.6404314041137695,
           5.168391227722168,
           3.9053940773010254,
           4.703314304351807,
           2.9214115142822266,
           5.733352184295654,
           1.7238373756408691,
           3.1617965698242188,
           3.088284492492676,
           3.229308843612671,
           2.760190963745117,
           4.46782112121582,
           6.658362865447998,
           3.1607418060302734,
           7.138289928436279,
           3.439953327178955,
           1.6667112112045288,
           5.826362609863281,
           3.1438140869140625,
           2.106445550918579,
           5.506757736206055,
           4.913407802581787,
           4.489986419677734,
           2.5519371032714844,
           4.201277732849121,
           5.305134296417236,
           1.5670239925384521,
           4.793050765991211,
           3.99448823928833,
           2.376458168029785,
           1.9652674198150635,
           2.3248941898345947,
           5.454813480377197,
           2.9789035320281982,
           4.086830139160156,
           4.510648727416992,
           4.319616317749023,
           2.9708781242370605,
           3.6544313430786133,
           3.6517579555511475,
           3.6300601959228516,
           1.4386711120605469,
           4.245760440826416,
           2.90145206451416,
           3.1797118186950684,
           2.677016019821167,
           2.1444225311279297,
           5.119718551635742,
           2.033649206161499,
           4.461761951446533,
           2.525036334991455,
           2.206009864807129,
           4.949429512023926,
           2.0079879760742188,
           2.5398075580596924,
           2.4886183738708496,
           2.261901617050171,
           2.656543254852295,
           3.306436538696289,
           3.8852736949920654,
           2.5724148750305176,
           1.8319371938705444,
           1.812962532043457,
           2.4087107181549072,
           3.318363666534424,
           1.6520905494689941,
           2.8716931343078613,
           2.475924015045166,
           3.345916748046875,
           1.6309359073638916,
           2.7033064365386963,
           2.4136574268341064,
           1.4748338460922241,
           2.0808725357055664,
           2.580686092376709,
           3.341728925704956,
           2.1879496574401855,
           3.6627562046051025,
           1.8583598136901855,
           3.5648322105407715,
           2.38029408454895
          ],
          "sizemode": "area",
          "sizeref": 0.040845999717712404,
          "symbol": "circle"
         },
         "mode": "markers",
         "name": "loom",
         "orientation": "v",
         "showlegend": true,
         "type": "scatter",
         "x": [
          248.7948717948718,
          260,
          96,
          236,
          232,
          311,
          260.1290322580645,
          287,
          226.3939393939394,
          88.92105263157895,
          241.05555555555554,
          269.27272727272725,
          106.97435897435898,
          233,
          269,
          297.1290322580645,
          231.48717948717947,
          306.94444444444446,
          265.8378378378378,
          237.85294117647058,
          273,
          247.42857142857142,
          270,
          219.05263157894737,
          245,
          268,
          302.37142857142857,
          316,
          258.92105263157896,
          244,
          273.43333333333334,
          257.1714285714286,
          250.03030303030303,
          294,
          222.72727272727272,
          274.5,
          275.1714285714286,
          318.5,
          229.26666666666668,
          269.90909090909093,
          246,
          236,
          251.5,
          270,
          123.8157894736842,
          269.3142857142857,
          278.9,
          306.1290322580645,
          69.46666666666667,
          264.6666666666667,
          274,
          252.88235294117646,
          266.27272727272725,
          242.28125,
          266.76666666666665,
          265.03125,
          279.55555555555554,
          305.75757575757575,
          282.8205128205128,
          262.89473684210526,
          255.25806451612902,
          259.3235294117647,
          216.8181818181818,
          312.46666666666664,
          278.7647058823529,
          285.93548387096774,
          289.741935483871,
          321.125,
          213.7058823529412,
          312.8,
          238.3846153846154,
          293.0967741935484,
          300.76,
          311.5,
          323.93548387096774,
          273.25,
          269,
          326.92,
          190.7,
          315.6,
          241.57142857142858,
          160.29032258064515,
          262.875,
          281.88235294117646,
          275.0833333333333,
          280.8421052631579,
          293.8333333333333,
          316.5,
          262.2857142857143,
          254.06666666666666,
          296.3421052631579,
          276.375,
          325.53333333333336,
          274.3,
          309,
          52.2,
          199.36,
          317.1818181818182,
          309,
          334,
          366.5,
          260,
          256.5,
          280.5,
          252,
          277
         ],
         "xaxis": "x",
         "y": [
          56.64102564102564,
          49,
          112.35135135135135,
          68,
          74,
          20,
          44.16129032258065,
          2.4285714285714284,
          75.12121212121212,
          110.23684210526316,
          61.72222222222222,
          39.72727272727273,
          113.17948717948718,
          70,
          66,
          2.7419354838709675,
          81.23076923076923,
          4.611111111111111,
          60.729729729729726,
          65.47058823529412,
          56,
          69.11428571428571,
          2.5277777777777777,
          82.94736842105263,
          66,
          32.82051282051282,
          5.171428571428572,
          10,
          61.13157894736842,
          67,
          62.2,
          39.57142857142857,
          49.84848484848485,
          6.5,
          78.27272727272727,
          7.5,
          50.57142857142857,
          5,
          68.46666666666667,
          26.12121212121212,
          65,
          73,
          66,
          11.9,
          114.73684210526316,
          48.74285714285714,
          58.53333333333333,
          11.35483870967742,
          108.03333333333333,
          69.03030303030303,
          37.696969696969695,
          43.6764705882353,
          55.39393939393939,
          73.0625,
          6.3,
          13.90625,
          3.3333333333333335,
          19.333333333333332,
          47.97435897435897,
          34.6578947368421,
          64.16129032258064,
          72.44117647058823,
          75.45454545454545,
          2.8666666666666667,
          47.94117647058823,
          43.03225806451613,
          47.87096774193548,
          14.15625,
          87.3529411764706,
          14.333333333333334,
          76.84615384615384,
          10.03225806451613,
          12.44,
          8.5,
          3.5806451612903225,
          31.375,
          20.033333333333335,
          9.8,
          89.2,
          25,
          55.857142857142854,
          105.25806451612904,
          28.708333333333332,
          8.058823529411764,
          20.416666666666668,
          42.1578947368421,
          40.166666666666664,
          1,
          65.28571428571429,
          77.03333333333333,
          20.657894736842106,
          12.875,
          17.2,
          44.3,
          15.5,
          99.8,
          87.2,
          19,
          8,
          13,
          30,
          68,
          69,
          20.5,
          71.5,
          16
         ],
         "yaxis": "y"
        }
       ],
       "layout": {
        "legend": {
         "itemsizing": "constant",
         "title": {
          "text": "color"
         },
         "tracegroupgap": 0
        },
        "margin": {
         "t": 60
        },
        "plot_bgcolor": "rgba(0,0,0,0)",
        "template": {
         "data": {
          "bar": [
           {
            "error_x": {
             "color": "#2a3f5f"
            },
            "error_y": {
             "color": "#2a3f5f"
            },
            "marker": {
             "line": {
              "color": "#E5ECF6",
              "width": 0.5
             },
             "pattern": {
              "fillmode": "overlay",
              "size": 10,
              "solidity": 0.2
             }
            },
            "type": "bar"
           }
          ],
          "barpolar": [
           {
            "marker": {
             "line": {
              "color": "#E5ECF6",
              "width": 0.5
             },
             "pattern": {
              "fillmode": "overlay",
              "size": 10,
              "solidity": 0.2
             }
            },
            "type": "barpolar"
           }
          ],
          "carpet": [
           {
            "aaxis": {
             "endlinecolor": "#2a3f5f",
             "gridcolor": "white",
             "linecolor": "white",
             "minorgridcolor": "white",
             "startlinecolor": "#2a3f5f"
            },
            "baxis": {
             "endlinecolor": "#2a3f5f",
             "gridcolor": "white",
             "linecolor": "white",
             "minorgridcolor": "white",
             "startlinecolor": "#2a3f5f"
            },
            "type": "carpet"
           }
          ],
          "choropleth": [
           {
            "colorbar": {
             "outlinewidth": 0,
             "ticks": ""
            },
            "type": "choropleth"
           }
          ],
          "contour": [
           {
            "colorbar": {
             "outlinewidth": 0,
             "ticks": ""
            },
            "colorscale": [
             [
              0,
              "#0d0887"
             ],
             [
              0.1111111111111111,
              "#46039f"
             ],
             [
              0.2222222222222222,
              "#7201a8"
             ],
             [
              0.3333333333333333,
              "#9c179e"
             ],
             [
              0.4444444444444444,
              "#bd3786"
             ],
             [
              0.5555555555555556,
              "#d8576b"
             ],
             [
              0.6666666666666666,
              "#ed7953"
             ],
             [
              0.7777777777777778,
              "#fb9f3a"
             ],
             [
              0.8888888888888888,
              "#fdca26"
             ],
             [
              1,
              "#f0f921"
             ]
            ],
            "type": "contour"
           }
          ],
          "contourcarpet": [
           {
            "colorbar": {
             "outlinewidth": 0,
             "ticks": ""
            },
            "type": "contourcarpet"
           }
          ],
          "heatmap": [
           {
            "colorbar": {
             "outlinewidth": 0,
             "ticks": ""
            },
            "colorscale": [
             [
              0,
              "#0d0887"
             ],
             [
              0.1111111111111111,
              "#46039f"
             ],
             [
              0.2222222222222222,
              "#7201a8"
             ],
             [
              0.3333333333333333,
              "#9c179e"
             ],
             [
              0.4444444444444444,
              "#bd3786"
             ],
             [
              0.5555555555555556,
              "#d8576b"
             ],
             [
              0.6666666666666666,
              "#ed7953"
             ],
             [
              0.7777777777777778,
              "#fb9f3a"
             ],
             [
              0.8888888888888888,
              "#fdca26"
             ],
             [
              1,
              "#f0f921"
             ]
            ],
            "type": "heatmap"
           }
          ],
          "heatmapgl": [
           {
            "colorbar": {
             "outlinewidth": 0,
             "ticks": ""
            },
            "colorscale": [
             [
              0,
              "#0d0887"
             ],
             [
              0.1111111111111111,
              "#46039f"
             ],
             [
              0.2222222222222222,
              "#7201a8"
             ],
             [
              0.3333333333333333,
              "#9c179e"
             ],
             [
              0.4444444444444444,
              "#bd3786"
             ],
             [
              0.5555555555555556,
              "#d8576b"
             ],
             [
              0.6666666666666666,
              "#ed7953"
             ],
             [
              0.7777777777777778,
              "#fb9f3a"
             ],
             [
              0.8888888888888888,
              "#fdca26"
             ],
             [
              1,
              "#f0f921"
             ]
            ],
            "type": "heatmapgl"
           }
          ],
          "histogram": [
           {
            "marker": {
             "pattern": {
              "fillmode": "overlay",
              "size": 10,
              "solidity": 0.2
             }
            },
            "type": "histogram"
           }
          ],
          "histogram2d": [
           {
            "colorbar": {
             "outlinewidth": 0,
             "ticks": ""
            },
            "colorscale": [
             [
              0,
              "#0d0887"
             ],
             [
              0.1111111111111111,
              "#46039f"
             ],
             [
              0.2222222222222222,
              "#7201a8"
             ],
             [
              0.3333333333333333,
              "#9c179e"
             ],
             [
              0.4444444444444444,
              "#bd3786"
             ],
             [
              0.5555555555555556,
              "#d8576b"
             ],
             [
              0.6666666666666666,
              "#ed7953"
             ],
             [
              0.7777777777777778,
              "#fb9f3a"
             ],
             [
              0.8888888888888888,
              "#fdca26"
             ],
             [
              1,
              "#f0f921"
             ]
            ],
            "type": "histogram2d"
           }
          ],
          "histogram2dcontour": [
           {
            "colorbar": {
             "outlinewidth": 0,
             "ticks": ""
            },
            "colorscale": [
             [
              0,
              "#0d0887"
             ],
             [
              0.1111111111111111,
              "#46039f"
             ],
             [
              0.2222222222222222,
              "#7201a8"
             ],
             [
              0.3333333333333333,
              "#9c179e"
             ],
             [
              0.4444444444444444,
              "#bd3786"
             ],
             [
              0.5555555555555556,
              "#d8576b"
             ],
             [
              0.6666666666666666,
              "#ed7953"
             ],
             [
              0.7777777777777778,
              "#fb9f3a"
             ],
             [
              0.8888888888888888,
              "#fdca26"
             ],
             [
              1,
              "#f0f921"
             ]
            ],
            "type": "histogram2dcontour"
           }
          ],
          "mesh3d": [
           {
            "colorbar": {
             "outlinewidth": 0,
             "ticks": ""
            },
            "type": "mesh3d"
           }
          ],
          "parcoords": [
           {
            "line": {
             "colorbar": {
              "outlinewidth": 0,
              "ticks": ""
             }
            },
            "type": "parcoords"
           }
          ],
          "pie": [
           {
            "automargin": true,
            "type": "pie"
           }
          ],
          "scatter": [
           {
            "fillpattern": {
             "fillmode": "overlay",
             "size": 10,
             "solidity": 0.2
            },
            "type": "scatter"
           }
          ],
          "scatter3d": [
           {
            "line": {
             "colorbar": {
              "outlinewidth": 0,
              "ticks": ""
             }
            },
            "marker": {
             "colorbar": {
              "outlinewidth": 0,
              "ticks": ""
             }
            },
            "type": "scatter3d"
           }
          ],
          "scattercarpet": [
           {
            "marker": {
             "colorbar": {
              "outlinewidth": 0,
              "ticks": ""
             }
            },
            "type": "scattercarpet"
           }
          ],
          "scattergeo": [
           {
            "marker": {
             "colorbar": {
              "outlinewidth": 0,
              "ticks": ""
             }
            },
            "type": "scattergeo"
           }
          ],
          "scattergl": [
           {
            "marker": {
             "colorbar": {
              "outlinewidth": 0,
              "ticks": ""
             }
            },
            "type": "scattergl"
           }
          ],
          "scattermapbox": [
           {
            "marker": {
             "colorbar": {
              "outlinewidth": 0,
              "ticks": ""
             }
            },
            "type": "scattermapbox"
           }
          ],
          "scatterpolar": [
           {
            "marker": {
             "colorbar": {
              "outlinewidth": 0,
              "ticks": ""
             }
            },
            "type": "scatterpolar"
           }
          ],
          "scatterpolargl": [
           {
            "marker": {
             "colorbar": {
              "outlinewidth": 0,
              "ticks": ""
             }
            },
            "type": "scatterpolargl"
           }
          ],
          "scatterternary": [
           {
            "marker": {
             "colorbar": {
              "outlinewidth": 0,
              "ticks": ""
             }
            },
            "type": "scatterternary"
           }
          ],
          "surface": [
           {
            "colorbar": {
             "outlinewidth": 0,
             "ticks": ""
            },
            "colorscale": [
             [
              0,
              "#0d0887"
             ],
             [
              0.1111111111111111,
              "#46039f"
             ],
             [
              0.2222222222222222,
              "#7201a8"
             ],
             [
              0.3333333333333333,
              "#9c179e"
             ],
             [
              0.4444444444444444,
              "#bd3786"
             ],
             [
              0.5555555555555556,
              "#d8576b"
             ],
             [
              0.6666666666666666,
              "#ed7953"
             ],
             [
              0.7777777777777778,
              "#fb9f3a"
             ],
             [
              0.8888888888888888,
              "#fdca26"
             ],
             [
              1,
              "#f0f921"
             ]
            ],
            "type": "surface"
           }
          ],
          "table": [
           {
            "cells": {
             "fill": {
              "color": "#EBF0F8"
             },
             "line": {
              "color": "white"
             }
            },
            "header": {
             "fill": {
              "color": "#C8D4E3"
             },
             "line": {
              "color": "white"
             }
            },
            "type": "table"
           }
          ]
         },
         "layout": {
          "annotationdefaults": {
           "arrowcolor": "#2a3f5f",
           "arrowhead": 0,
           "arrowwidth": 1
          },
          "autotypenumbers": "strict",
          "coloraxis": {
           "colorbar": {
            "outlinewidth": 0,
            "ticks": ""
           }
          },
          "colorscale": {
           "diverging": [
            [
             0,
             "#8e0152"
            ],
            [
             0.1,
             "#c51b7d"
            ],
            [
             0.2,
             "#de77ae"
            ],
            [
             0.3,
             "#f1b6da"
            ],
            [
             0.4,
             "#fde0ef"
            ],
            [
             0.5,
             "#f7f7f7"
            ],
            [
             0.6,
             "#e6f5d0"
            ],
            [
             0.7,
             "#b8e186"
            ],
            [
             0.8,
             "#7fbc41"
            ],
            [
             0.9,
             "#4d9221"
            ],
            [
             1,
             "#276419"
            ]
           ],
           "sequential": [
            [
             0,
             "#0d0887"
            ],
            [
             0.1111111111111111,
             "#46039f"
            ],
            [
             0.2222222222222222,
             "#7201a8"
            ],
            [
             0.3333333333333333,
             "#9c179e"
            ],
            [
             0.4444444444444444,
             "#bd3786"
            ],
            [
             0.5555555555555556,
             "#d8576b"
            ],
            [
             0.6666666666666666,
             "#ed7953"
            ],
            [
             0.7777777777777778,
             "#fb9f3a"
            ],
            [
             0.8888888888888888,
             "#fdca26"
            ],
            [
             1,
             "#f0f921"
            ]
           ],
           "sequentialminus": [
            [
             0,
             "#0d0887"
            ],
            [
             0.1111111111111111,
             "#46039f"
            ],
            [
             0.2222222222222222,
             "#7201a8"
            ],
            [
             0.3333333333333333,
             "#9c179e"
            ],
            [
             0.4444444444444444,
             "#bd3786"
            ],
            [
             0.5555555555555556,
             "#d8576b"
            ],
            [
             0.6666666666666666,
             "#ed7953"
            ],
            [
             0.7777777777777778,
             "#fb9f3a"
            ],
            [
             0.8888888888888888,
             "#fdca26"
            ],
            [
             1,
             "#f0f921"
            ]
           ]
          },
          "colorway": [
           "#636efa",
           "#EF553B",
           "#00cc96",
           "#ab63fa",
           "#FFA15A",
           "#19d3f3",
           "#FF6692",
           "#B6E880",
           "#FF97FF",
           "#FECB52"
          ],
          "font": {
           "color": "#2a3f5f"
          },
          "geo": {
           "bgcolor": "white",
           "lakecolor": "white",
           "landcolor": "#E5ECF6",
           "showlakes": true,
           "showland": true,
           "subunitcolor": "white"
          },
          "hoverlabel": {
           "align": "left"
          },
          "hovermode": "closest",
          "mapbox": {
           "style": "light"
          },
          "paper_bgcolor": "white",
          "plot_bgcolor": "#E5ECF6",
          "polar": {
           "angularaxis": {
            "gridcolor": "white",
            "linecolor": "white",
            "ticks": ""
           },
           "bgcolor": "#E5ECF6",
           "radialaxis": {
            "gridcolor": "white",
            "linecolor": "white",
            "ticks": ""
           }
          },
          "scene": {
           "xaxis": {
            "backgroundcolor": "#E5ECF6",
            "gridcolor": "white",
            "gridwidth": 2,
            "linecolor": "white",
            "showbackground": true,
            "ticks": "",
            "zerolinecolor": "white"
           },
           "yaxis": {
            "backgroundcolor": "#E5ECF6",
            "gridcolor": "white",
            "gridwidth": 2,
            "linecolor": "white",
            "showbackground": true,
            "ticks": "",
            "zerolinecolor": "white"
           },
           "zaxis": {
            "backgroundcolor": "#E5ECF6",
            "gridcolor": "white",
            "gridwidth": 2,
            "linecolor": "white",
            "showbackground": true,
            "ticks": "",
            "zerolinecolor": "white"
           }
          },
          "shapedefaults": {
           "line": {
            "color": "#2a3f5f"
           }
          },
          "ternary": {
           "aaxis": {
            "gridcolor": "white",
            "linecolor": "white",
            "ticks": ""
           },
           "baxis": {
            "gridcolor": "white",
            "linecolor": "white",
            "ticks": ""
           },
           "bgcolor": "#E5ECF6",
           "caxis": {
            "gridcolor": "white",
            "linecolor": "white",
            "ticks": ""
           }
          },
          "title": {
           "x": 0.05
          },
          "xaxis": {
           "automargin": true,
           "gridcolor": "white",
           "linecolor": "white",
           "ticks": "",
           "title": {
            "standoff": 15
           },
           "zerolinecolor": "white",
           "zerolinewidth": 2
          },
          "yaxis": {
           "automargin": true,
           "gridcolor": "white",
           "linecolor": "white",
           "ticks": "",
           "title": {
            "standoff": 15
           },
           "zerolinecolor": "white",
           "zerolinewidth": 2
          }
         }
        },
        "xaxis": {
         "anchor": "y",
         "domain": [
          0,
          1
         ],
         "showgrid": false,
         "title": {
          "text": "x"
         }
        },
        "yaxis": {
         "anchor": "x",
         "domain": [
          0,
          1
         ],
         "showgrid": false,
         "title": {
          "text": "y"
         }
        }
       }
      }
     },
     "metadata": {},
     "output_type": "display_data"
    }
   ],
   "source": [
    "import plotly.express as px\n",
    "fig = px.scatter(x=pooled_data['x_centroid'], y=pooled_data['y_centroid'], color=pooled_data['stimtype'], size=pooled_data['amplitude'], opacity=pooled_data['size']/ pooled_data['size'].max())\n",
    "\n",
    "fig.update_layout(\n",
    "    plot_bgcolor='rgba(0,0,0,0)',  # Transparent background for the plot area\n",
    "    #paper_bgcolor='rgba(0,0,0,0)',  # Transparent background for the overall figure\n",
    ")\n",
    "\n",
    "# Update axes to remove gridlines\n",
    "fig.update_xaxes(showgrid=False)  # Disable gridlines for x-axis\n",
    "fig.update_yaxes(showgrid=False)  # Disable gridlines for y-axis"
   ]
  }
 ],
 "metadata": {
  "kernelspec": {
   "display_name": "PYGOR-TIMESERIES",
   "language": "python",
   "name": "python3"
  },
  "language_info": {
   "codemirror_mode": {
    "name": "ipython",
    "version": 3
   },
   "file_extension": ".py",
   "mimetype": "text/x-python",
   "name": "python",
   "nbconvert_exporter": "python",
   "pygments_lexer": "ipython3",
   "version": "3.12.5"
  }
 },
 "nbformat": 4,
 "nbformat_minor": 2
}
