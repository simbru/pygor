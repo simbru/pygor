{
 "cells": [
  {
   "cell_type": "code",
   "execution_count": 58,
   "metadata": {},
   "outputs": [
    {
     "name": "stdout",
     "output_type": "stream",
     "text": [
      "{'SD_threshold': 1.4, 'correlation_threshold': 0.34, 'min_traces_per_cluster': 6, 'cluster_threshold': 35, 'depth': 266}\n",
      "{'SD_threshold': 1.4, 'correlation_threshold': 0.6, 'min_traces_per_cluster': 6, 'cluster_threshold': 35, 'depth': 245}\n",
      "{'SD_threshold': 1.2, 'correlation_threshold': 0.4, 'min_traces_per_cluster': 6, 'cluster_threshold': 35, 'depth': 320}\n"
     ]
    },
    {
     "data": {
      "application/vnd.plotly.v1+json": {
       "config": {
        "plotlyServerURL": "https://plot.ly"
       },
       "data": [
        {
         "opacity": 0.3,
         "type": "histogram",
         "x": [
          61,
          61,
          54,
          62,
          61,
          58,
          72,
          54,
          59,
          57,
          61,
          32,
          72,
          26,
          57,
          14,
          86,
          40,
          34,
          28,
          29,
          43,
          52,
          30,
          41,
          78,
          61,
          47,
          46,
          41,
          80,
          67,
          64,
          76,
          49,
          59,
          78,
          47,
          71,
          65,
          16,
          44,
          44,
          71,
          40,
          48,
          50,
          67,
          23,
          73,
          63,
          21,
          70,
          33,
          50,
          82,
          56,
          21,
          45,
          56,
          89,
          57,
          11,
          49,
          42,
          57,
          21,
          57,
          58,
          15,
          14,
          48,
          87,
          61,
          61,
          54,
          62,
          61,
          58,
          72,
          54,
          59,
          57,
          61,
          32,
          72,
          26,
          57,
          14,
          86,
          40,
          34,
          28,
          29,
          43,
          52,
          30,
          41,
          78,
          61,
          47,
          46,
          41,
          80,
          67,
          64,
          76,
          49,
          59,
          78,
          47,
          71,
          65,
          16,
          44,
          44,
          71,
          40,
          48,
          50,
          67,
          23,
          73,
          63,
          21,
          70,
          33,
          50,
          82,
          56,
          21,
          45,
          56,
          89,
          57,
          11,
          49,
          42,
          57,
          21,
          57,
          58,
          15,
          14,
          48,
          87,
          -1,
          -1,
          -1,
          -1,
          -1,
          -1,
          -1,
          69,
          -1,
          -1,
          -1,
          5,
          -1,
          -1
         ]
        },
        {
         "opacity": 0.3,
         "type": "histogram",
         "x": [
          38,
          37,
          29,
          39,
          63,
          43,
          39,
          41,
          43,
          48,
          34,
          49,
          25,
          51,
          29,
          30,
          75,
          44,
          57,
          52,
          33,
          42,
          45,
          63,
          41,
          49,
          39,
          42,
          45,
          71,
          52,
          37,
          41,
          20,
          83,
          75,
          74,
          29,
          27,
          43,
          50,
          35,
          30,
          47,
          20,
          41,
          81,
          88,
          38,
          64,
          80,
          62,
          49,
          35,
          57,
          31,
          33,
          33,
          48,
          65,
          55,
          81,
          55,
          45,
          39,
          77,
          55,
          34,
          65,
          44,
          58,
          36,
          52,
          64,
          85,
          37,
          30,
          58,
          66,
          -1,
          63,
          43,
          101,
          59,
          49,
          78
         ]
        },
        {
         "opacity": 0.3,
         "type": "histogram",
         "x": [
          100,
          99,
          101,
          101,
          96,
          101,
          97,
          96,
          100,
          101,
          101,
          34,
          38,
          101,
          30,
          28,
          95,
          24,
          101,
          96,
          101,
          23,
          47,
          92,
          58,
          41,
          86,
          67,
          92,
          39,
          16,
          89,
          93,
          53,
          22,
          91,
          91,
          67,
          50,
          92,
          35,
          98,
          72,
          18,
          37,
          40,
          92,
          100,
          99,
          101,
          101,
          96,
          101,
          97,
          96,
          100,
          101,
          101,
          34,
          38,
          101,
          30,
          28,
          95,
          24,
          101,
          96,
          101,
          23,
          47,
          92,
          58,
          41,
          86,
          67,
          92,
          39,
          16,
          89,
          93,
          53,
          22,
          91,
          91,
          67,
          50,
          92,
          35,
          98,
          72,
          18,
          37,
          40,
          92,
          72,
          77,
          99,
          98,
          61,
          99,
          76,
          99,
          95,
          65,
          -1,
          35,
          72,
          76,
          64,
          61,
          48,
          70,
          68,
          70,
          101,
          49,
          23,
          41,
          99,
          99,
          50,
          72,
          86,
          100,
          61,
          53,
          55,
          54,
          31,
          15,
          86,
          101,
          64,
          61,
          72,
          87,
          48,
          69,
          85,
          59,
          65,
          68,
          69,
          55,
          66,
          52,
          83,
          64,
          47,
          30,
          68,
          44,
          72,
          32,
          40,
          53,
          46,
          80,
          62,
          52,
          79,
          86,
          34,
          35,
          37,
          26,
          71,
          81,
          55,
          46,
          80,
          40,
          64,
          58,
          60,
          53,
          68,
          43,
          55,
          51,
          54,
          57,
          49,
          41,
          76,
          83,
          63,
          51,
          67,
          65,
          59,
          55,
          80,
          76,
          57,
          91,
          83,
          61,
          62,
          -1,
          67,
          28,
          46,
          32,
          98,
          52,
          -1,
          38,
          22,
          42,
          74,
          61,
          70,
          60,
          84,
          24,
          82,
          101,
          11,
          58,
          -1,
          66,
          73,
          23,
          74,
          60,
          58,
          65
         ]
        }
       ],
       "layout": {
        "barmode": "overlay",
        "height": 400,
        "margin": {
         "b": 20,
         "l": 20,
         "r": 20,
         "t": 20
        },
        "template": {
         "data": {
          "bar": [
           {
            "error_x": {
             "color": "#2a3f5f"
            },
            "error_y": {
             "color": "#2a3f5f"
            },
            "marker": {
             "line": {
              "color": "#E5ECF6",
              "width": 0.5
             },
             "pattern": {
              "fillmode": "overlay",
              "size": 10,
              "solidity": 0.2
             }
            },
            "type": "bar"
           }
          ],
          "barpolar": [
           {
            "marker": {
             "line": {
              "color": "#E5ECF6",
              "width": 0.5
             },
             "pattern": {
              "fillmode": "overlay",
              "size": 10,
              "solidity": 0.2
             }
            },
            "type": "barpolar"
           }
          ],
          "carpet": [
           {
            "aaxis": {
             "endlinecolor": "#2a3f5f",
             "gridcolor": "white",
             "linecolor": "white",
             "minorgridcolor": "white",
             "startlinecolor": "#2a3f5f"
            },
            "baxis": {
             "endlinecolor": "#2a3f5f",
             "gridcolor": "white",
             "linecolor": "white",
             "minorgridcolor": "white",
             "startlinecolor": "#2a3f5f"
            },
            "type": "carpet"
           }
          ],
          "choropleth": [
           {
            "colorbar": {
             "outlinewidth": 0,
             "ticks": ""
            },
            "type": "choropleth"
           }
          ],
          "contour": [
           {
            "colorbar": {
             "outlinewidth": 0,
             "ticks": ""
            },
            "colorscale": [
             [
              0,
              "#0d0887"
             ],
             [
              0.1111111111111111,
              "#46039f"
             ],
             [
              0.2222222222222222,
              "#7201a8"
             ],
             [
              0.3333333333333333,
              "#9c179e"
             ],
             [
              0.4444444444444444,
              "#bd3786"
             ],
             [
              0.5555555555555556,
              "#d8576b"
             ],
             [
              0.6666666666666666,
              "#ed7953"
             ],
             [
              0.7777777777777778,
              "#fb9f3a"
             ],
             [
              0.8888888888888888,
              "#fdca26"
             ],
             [
              1,
              "#f0f921"
             ]
            ],
            "type": "contour"
           }
          ],
          "contourcarpet": [
           {
            "colorbar": {
             "outlinewidth": 0,
             "ticks": ""
            },
            "type": "contourcarpet"
           }
          ],
          "heatmap": [
           {
            "colorbar": {
             "outlinewidth": 0,
             "ticks": ""
            },
            "colorscale": [
             [
              0,
              "#0d0887"
             ],
             [
              0.1111111111111111,
              "#46039f"
             ],
             [
              0.2222222222222222,
              "#7201a8"
             ],
             [
              0.3333333333333333,
              "#9c179e"
             ],
             [
              0.4444444444444444,
              "#bd3786"
             ],
             [
              0.5555555555555556,
              "#d8576b"
             ],
             [
              0.6666666666666666,
              "#ed7953"
             ],
             [
              0.7777777777777778,
              "#fb9f3a"
             ],
             [
              0.8888888888888888,
              "#fdca26"
             ],
             [
              1,
              "#f0f921"
             ]
            ],
            "type": "heatmap"
           }
          ],
          "heatmapgl": [
           {
            "colorbar": {
             "outlinewidth": 0,
             "ticks": ""
            },
            "colorscale": [
             [
              0,
              "#0d0887"
             ],
             [
              0.1111111111111111,
              "#46039f"
             ],
             [
              0.2222222222222222,
              "#7201a8"
             ],
             [
              0.3333333333333333,
              "#9c179e"
             ],
             [
              0.4444444444444444,
              "#bd3786"
             ],
             [
              0.5555555555555556,
              "#d8576b"
             ],
             [
              0.6666666666666666,
              "#ed7953"
             ],
             [
              0.7777777777777778,
              "#fb9f3a"
             ],
             [
              0.8888888888888888,
              "#fdca26"
             ],
             [
              1,
              "#f0f921"
             ]
            ],
            "type": "heatmapgl"
           }
          ],
          "histogram": [
           {
            "marker": {
             "pattern": {
              "fillmode": "overlay",
              "size": 10,
              "solidity": 0.2
             }
            },
            "type": "histogram"
           }
          ],
          "histogram2d": [
           {
            "colorbar": {
             "outlinewidth": 0,
             "ticks": ""
            },
            "colorscale": [
             [
              0,
              "#0d0887"
             ],
             [
              0.1111111111111111,
              "#46039f"
             ],
             [
              0.2222222222222222,
              "#7201a8"
             ],
             [
              0.3333333333333333,
              "#9c179e"
             ],
             [
              0.4444444444444444,
              "#bd3786"
             ],
             [
              0.5555555555555556,
              "#d8576b"
             ],
             [
              0.6666666666666666,
              "#ed7953"
             ],
             [
              0.7777777777777778,
              "#fb9f3a"
             ],
             [
              0.8888888888888888,
              "#fdca26"
             ],
             [
              1,
              "#f0f921"
             ]
            ],
            "type": "histogram2d"
           }
          ],
          "histogram2dcontour": [
           {
            "colorbar": {
             "outlinewidth": 0,
             "ticks": ""
            },
            "colorscale": [
             [
              0,
              "#0d0887"
             ],
             [
              0.1111111111111111,
              "#46039f"
             ],
             [
              0.2222222222222222,
              "#7201a8"
             ],
             [
              0.3333333333333333,
              "#9c179e"
             ],
             [
              0.4444444444444444,
              "#bd3786"
             ],
             [
              0.5555555555555556,
              "#d8576b"
             ],
             [
              0.6666666666666666,
              "#ed7953"
             ],
             [
              0.7777777777777778,
              "#fb9f3a"
             ],
             [
              0.8888888888888888,
              "#fdca26"
             ],
             [
              1,
              "#f0f921"
             ]
            ],
            "type": "histogram2dcontour"
           }
          ],
          "mesh3d": [
           {
            "colorbar": {
             "outlinewidth": 0,
             "ticks": ""
            },
            "type": "mesh3d"
           }
          ],
          "parcoords": [
           {
            "line": {
             "colorbar": {
              "outlinewidth": 0,
              "ticks": ""
             }
            },
            "type": "parcoords"
           }
          ],
          "pie": [
           {
            "automargin": true,
            "type": "pie"
           }
          ],
          "scatter": [
           {
            "fillpattern": {
             "fillmode": "overlay",
             "size": 10,
             "solidity": 0.2
            },
            "type": "scatter"
           }
          ],
          "scatter3d": [
           {
            "line": {
             "colorbar": {
              "outlinewidth": 0,
              "ticks": ""
             }
            },
            "marker": {
             "colorbar": {
              "outlinewidth": 0,
              "ticks": ""
             }
            },
            "type": "scatter3d"
           }
          ],
          "scattercarpet": [
           {
            "marker": {
             "colorbar": {
              "outlinewidth": 0,
              "ticks": ""
             }
            },
            "type": "scattercarpet"
           }
          ],
          "scattergeo": [
           {
            "marker": {
             "colorbar": {
              "outlinewidth": 0,
              "ticks": ""
             }
            },
            "type": "scattergeo"
           }
          ],
          "scattergl": [
           {
            "marker": {
             "colorbar": {
              "outlinewidth": 0,
              "ticks": ""
             }
            },
            "type": "scattergl"
           }
          ],
          "scattermapbox": [
           {
            "marker": {
             "colorbar": {
              "outlinewidth": 0,
              "ticks": ""
             }
            },
            "type": "scattermapbox"
           }
          ],
          "scatterpolar": [
           {
            "marker": {
             "colorbar": {
              "outlinewidth": 0,
              "ticks": ""
             }
            },
            "type": "scatterpolar"
           }
          ],
          "scatterpolargl": [
           {
            "marker": {
             "colorbar": {
              "outlinewidth": 0,
              "ticks": ""
             }
            },
            "type": "scatterpolargl"
           }
          ],
          "scatterternary": [
           {
            "marker": {
             "colorbar": {
              "outlinewidth": 0,
              "ticks": ""
             }
            },
            "type": "scatterternary"
           }
          ],
          "surface": [
           {
            "colorbar": {
             "outlinewidth": 0,
             "ticks": ""
            },
            "colorscale": [
             [
              0,
              "#0d0887"
             ],
             [
              0.1111111111111111,
              "#46039f"
             ],
             [
              0.2222222222222222,
              "#7201a8"
             ],
             [
              0.3333333333333333,
              "#9c179e"
             ],
             [
              0.4444444444444444,
              "#bd3786"
             ],
             [
              0.5555555555555556,
              "#d8576b"
             ],
             [
              0.6666666666666666,
              "#ed7953"
             ],
             [
              0.7777777777777778,
              "#fb9f3a"
             ],
             [
              0.8888888888888888,
              "#fdca26"
             ],
             [
              1,
              "#f0f921"
             ]
            ],
            "type": "surface"
           }
          ],
          "table": [
           {
            "cells": {
             "fill": {
              "color": "#EBF0F8"
             },
             "line": {
              "color": "white"
             }
            },
            "header": {
             "fill": {
              "color": "#C8D4E3"
             },
             "line": {
              "color": "white"
             }
            },
            "type": "table"
           }
          ]
         },
         "layout": {
          "annotationdefaults": {
           "arrowcolor": "#2a3f5f",
           "arrowhead": 0,
           "arrowwidth": 1
          },
          "autotypenumbers": "strict",
          "coloraxis": {
           "colorbar": {
            "outlinewidth": 0,
            "ticks": ""
           }
          },
          "colorscale": {
           "diverging": [
            [
             0,
             "#8e0152"
            ],
            [
             0.1,
             "#c51b7d"
            ],
            [
             0.2,
             "#de77ae"
            ],
            [
             0.3,
             "#f1b6da"
            ],
            [
             0.4,
             "#fde0ef"
            ],
            [
             0.5,
             "#f7f7f7"
            ],
            [
             0.6,
             "#e6f5d0"
            ],
            [
             0.7,
             "#b8e186"
            ],
            [
             0.8,
             "#7fbc41"
            ],
            [
             0.9,
             "#4d9221"
            ],
            [
             1,
             "#276419"
            ]
           ],
           "sequential": [
            [
             0,
             "#0d0887"
            ],
            [
             0.1111111111111111,
             "#46039f"
            ],
            [
             0.2222222222222222,
             "#7201a8"
            ],
            [
             0.3333333333333333,
             "#9c179e"
            ],
            [
             0.4444444444444444,
             "#bd3786"
            ],
            [
             0.5555555555555556,
             "#d8576b"
            ],
            [
             0.6666666666666666,
             "#ed7953"
            ],
            [
             0.7777777777777778,
             "#fb9f3a"
            ],
            [
             0.8888888888888888,
             "#fdca26"
            ],
            [
             1,
             "#f0f921"
            ]
           ],
           "sequentialminus": [
            [
             0,
             "#0d0887"
            ],
            [
             0.1111111111111111,
             "#46039f"
            ],
            [
             0.2222222222222222,
             "#7201a8"
            ],
            [
             0.3333333333333333,
             "#9c179e"
            ],
            [
             0.4444444444444444,
             "#bd3786"
            ],
            [
             0.5555555555555556,
             "#d8576b"
            ],
            [
             0.6666666666666666,
             "#ed7953"
            ],
            [
             0.7777777777777778,
             "#fb9f3a"
            ],
            [
             0.8888888888888888,
             "#fdca26"
            ],
            [
             1,
             "#f0f921"
            ]
           ]
          },
          "colorway": [
           "#636efa",
           "#EF553B",
           "#00cc96",
           "#ab63fa",
           "#FFA15A",
           "#19d3f3",
           "#FF6692",
           "#B6E880",
           "#FF97FF",
           "#FECB52"
          ],
          "font": {
           "color": "#2a3f5f"
          },
          "geo": {
           "bgcolor": "white",
           "lakecolor": "white",
           "landcolor": "#E5ECF6",
           "showlakes": true,
           "showland": true,
           "subunitcolor": "white"
          },
          "hoverlabel": {
           "align": "left"
          },
          "hovermode": "closest",
          "mapbox": {
           "style": "light"
          },
          "paper_bgcolor": "white",
          "plot_bgcolor": "#E5ECF6",
          "polar": {
           "angularaxis": {
            "gridcolor": "white",
            "linecolor": "white",
            "ticks": ""
           },
           "bgcolor": "#E5ECF6",
           "radialaxis": {
            "gridcolor": "white",
            "linecolor": "white",
            "ticks": ""
           }
          },
          "scene": {
           "xaxis": {
            "backgroundcolor": "#E5ECF6",
            "gridcolor": "white",
            "gridwidth": 2,
            "linecolor": "white",
            "showbackground": true,
            "ticks": "",
            "zerolinecolor": "white"
           },
           "yaxis": {
            "backgroundcolor": "#E5ECF6",
            "gridcolor": "white",
            "gridwidth": 2,
            "linecolor": "white",
            "showbackground": true,
            "ticks": "",
            "zerolinecolor": "white"
           },
           "zaxis": {
            "backgroundcolor": "#E5ECF6",
            "gridcolor": "white",
            "gridwidth": 2,
            "linecolor": "white",
            "showbackground": true,
            "ticks": "",
            "zerolinecolor": "white"
           }
          },
          "shapedefaults": {
           "line": {
            "color": "#2a3f5f"
           }
          },
          "ternary": {
           "aaxis": {
            "gridcolor": "white",
            "linecolor": "white",
            "ticks": ""
           },
           "baxis": {
            "gridcolor": "white",
            "linecolor": "white",
            "ticks": ""
           },
           "bgcolor": "#E5ECF6",
           "caxis": {
            "gridcolor": "white",
            "linecolor": "white",
            "ticks": ""
           }
          },
          "title": {
           "x": 0.05
          },
          "xaxis": {
           "automargin": true,
           "gridcolor": "white",
           "linecolor": "white",
           "ticks": "",
           "title": {
            "standoff": 15
           },
           "zerolinecolor": "white",
           "zerolinewidth": 2
          },
          "yaxis": {
           "automargin": true,
           "gridcolor": "white",
           "linecolor": "white",
           "ticks": "",
           "title": {
            "standoff": 15
           },
           "zerolinecolor": "white",
           "zerolinewidth": 2
          }
         }
        },
        "width": 600,
        "xaxis": {
         "title": {
          "text": "Relative OT Depth"
         }
        },
        "yaxis": {
         "title": {
          "text": "# ROIs"
         }
        }
       }
      }
     },
     "metadata": {},
     "output_type": "display_data"
    }
   ],
   "source": [
    "import numpy as np\n",
    "import plotly.graph_objects as go\n",
    "import os\n",
    "import pickle \n",
    "import pandas as pd\n",
    "\n",
    "filepath = 'C:/Users/Michael Forsthofer/OneDrive - University of Sussex/BadenLab/2p-imaging/singleplane/St53/'\n",
    "pkl_files = [f for f in os.listdir(filepath) if f.endswith('.pkl')]\n",
    "\n",
    "stimuli = ['moving stripes', 'dots_ON', 'dots_OFF', 'loom']\n",
    "\n",
    "depths = {}\n",
    "for stim in stimuli:\n",
    "    depths[stim] = []\n",
    "\n",
    "\n",
    "fig = go.Figure()\n",
    "\n",
    "for pkl_file in pkl_files:\n",
    "    with open(filepath+pkl_file, 'rb') as f:\n",
    "        extracted_data_loaded = pickle.load(f)\n",
    "        print(extracted_data_loaded['metadata'])\n",
    "        for stim in stimuli:\n",
    "            flattened_list = extracted_data_loaded['depths'][stim]\n",
    "            if len(flattened_list)>0:\n",
    "                flattened_list = np.hstack(flattened_list)\n",
    "            depths[stim].append(flattened_list)\n",
    "            if stim == 'loom':\n",
    "                fig.add_trace(go.Histogram(x=flattened_list))\n",
    "\n",
    "fig.update_layout(barmode='overlay', width=600, height=400,\n",
    "                  margin=dict(l=20, r=20, t=20, b=20),\n",
    "                  xaxis_title='Relative OT Depth',\n",
    "                  yaxis_title='# ROIs')           \n",
    "fig.update_traces(opacity=0.3)   \n",
    "fig.show()\n",
    "\n"
   ]
  }
 ],
 "metadata": {
  "kernelspec": {
   "display_name": "PYGOR-TIMESERIES",
   "language": "python",
   "name": "python3"
  },
  "language_info": {
   "codemirror_mode": {
    "name": "ipython",
    "version": 3
   },
   "file_extension": ".py",
   "mimetype": "text/x-python",
   "name": "python",
   "nbconvert_exporter": "python",
   "pygments_lexer": "ipython3",
   "version": "3.12.5"
  }
 },
 "nbformat": 4,
 "nbformat_minor": 2
}
