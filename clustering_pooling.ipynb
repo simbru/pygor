{
 "cells": [
  {
   "cell_type": "code",
   "execution_count": 23,
   "metadata": {},
   "outputs": [],
   "source": [
    "import numpy as np\n",
    "import plotly.graph_objects as go\n",
    "import os\n",
    "import pickle \n",
    "import pandas as pd\n",
    "\n",
    "filepath = 'C:/Users/Michael Forsthofer/OneDrive - University of Sussex/BadenLab/2p-imaging/multiplane/St53/'\n",
    "pkl_files = [f for f in os.listdir(filepath) if f.endswith('.pkl')]\n",
    "\n",
    "roi_data = pd.DataFrame(columns=['stimulus', 'ot_depth', 'plane_depth', 'amplitude', 'size', 'xy_centroid','experiment_ID', 'stage'])\n",
    "\n",
    "y_res = 64\n",
    "\n"
   ]
  },
  {
   "cell_type": "code",
   "execution_count": 24,
   "metadata": {},
   "outputs": [],
   "source": [
    "def pool_variable(input_data, stim):\n",
    "    data_to_get = input_data[stim]\n",
    "    if len(data_to_get)>0:\n",
    "        flattened_data = np.hstack(data_to_get)\n",
    "    else:\n",
    "        flattened_data = np.array([])\n",
    "    return flattened_data\n",
    "\n",
    "#def measure_rois(inptud_data, stim):\n",
    "    "
   ]
  },
  {
   "cell_type": "code",
   "execution_count": 25,
   "metadata": {},
   "outputs": [
    {
     "name": "stdout",
     "output_type": "stream",
     "text": [
      "2024-10-14_x241014_53_cOTm.h5_processed.pkl {'SD_threshold': 2.5, 'correlation_threshold': 0.62, 'min_traces_per_cluster': 7, 'cluster_threshold': 45, 'depth': 350, 'stage': 53, 'cluster_monotony_threshold': 0.7}\n",
      "2024-10-3_x241003_2_53_1cOTm.h5_processed.pkl {'SD_threshold': 2.5, 'correlation_threshold': 0.4, 'min_traces_per_cluster': 8, 'cluster_threshold': 45, 'depth': 300, 'stage': 53, 'cluster_monotony_threshold': 0.7}\n"
     ]
    }
   ],
   "source": [
    "ot_depth = []\n",
    "amplitude = []\n",
    "integral = []\n",
    "latency = []\n",
    "size = []\n",
    "stimulus = []\n",
    "plane_depth = []\n",
    "experiment_ID = []\n",
    "stage = []\n",
    "x_centroid = []\n",
    "y_centroid = []\n",
    "cluster_ID = []\n",
    "\n",
    "for pkl_file in pkl_files[0:2]:\n",
    "    with open(filepath+pkl_file, 'rb') as f:\n",
    "        extracted_data_loaded = pickle.load(f)\n",
    "        \n",
    "        stims = list(extracted_data_loaded['depths'].keys())\n",
    "        cur_plane_depth = extracted_data_loaded['metadata']['depth']\n",
    "        cur_stage = filepath.split('St')[-1].split('/')[0]\n",
    "        print(pkl_file, extracted_data_loaded['metadata'])\n",
    "        \n",
    "        for cur_stim in stims:\n",
    "\n",
    "            cur_ot_depth = pool_variable(extracted_data_loaded['depths'], cur_stim)\n",
    "            ot_depth.extend(cur_ot_depth)\n",
    "            amplitude.extend(pool_variable(extracted_data_loaded['amplitudes'], cur_stim))\n",
    "            size.extend(pool_variable(extracted_data_loaded['sizes'], cur_stim))\n",
    "            x_centroid.extend(pool_variable(extracted_data_loaded['x_centroid'], cur_stim))\n",
    "            y_centroid.extend(pool_variable(extracted_data_loaded['y_centroid'], cur_stim))\n",
    "            integral.extend(pool_variable(extracted_data_loaded['activity_area'], cur_stim))\n",
    "            plane_depth.extend(pool_variable(extracted_data_loaded['plane_depth'], cur_stim))\n",
    "            latency.extend(pool_variable(extracted_data_loaded['latency'], cur_stim))\n",
    "            #cluster_ID.extend(pool_variable(extracted_data_loaded['cluster_ID'], cur_stim))\n",
    "            stimulus.extend(np.repeat(np.array(cur_stim), len(cur_ot_depth)))\n",
    "            experiment_ID.extend(np.repeat(np.array(pkl_file[11:26]), len(cur_ot_depth)))\n",
    "            stage.extend(np.repeat(np.array(cur_stage), len(cur_ot_depth)))"
   ]
  },
  {
   "cell_type": "code",
   "execution_count": 26,
   "metadata": {},
   "outputs": [],
   "source": [
    "pooled_data = pd.DataFrame({'ot_depth': ot_depth, \n",
    "                     'amplitude': amplitude, \n",
    "                     'size': size,\n",
    "                     'x_centroid': x_centroid,\n",
    "                     'integral': integral,\n",
    "                     'latency': latency,\n",
    "                     'y_centroid': y_centroid,\n",
    "                     'stimtype': stimulus,\n",
    "                     'plane_depth': plane_depth,\n",
    "                     'experiment_id': experiment_ID,\n",
    "                     #'cluster_ID' : cluster_ID,\n",
    "                     'stage': stage})"
   ]
  },
  {
   "cell_type": "code",
   "execution_count": 27,
   "metadata": {},
   "outputs": [
    {
     "data": {
      "application/vnd.plotly.v1+json": {
       "config": {
        "plotlyServerURL": "https://plot.ly"
       },
       "data": [
        {
         "name": "moving stripes",
         "nbinsy": 30,
         "opacity": 0.75,
         "type": "histogram",
         "xaxis": "x",
         "y": [
          56,
          101,
          60,
          54,
          101,
          101,
          101,
          101,
          101,
          101,
          92,
          101,
          101,
          101,
          101,
          101,
          101,
          94,
          101,
          33,
          101,
          101,
          101,
          101,
          -1,
          101,
          101,
          76,
          84,
          -1,
          68,
          101,
          101,
          -1,
          -1,
          101,
          88,
          -1,
          -1,
          -1,
          101,
          -1,
          101,
          101,
          -1,
          -1,
          -1,
          -1,
          -1,
          -1,
          -1,
          94,
          -1,
          101,
          -1,
          -1,
          101,
          101,
          -1,
          -1
         ],
         "yaxis": "y"
        },
        {
         "name": "dots_ON",
         "nbinsy": 30,
         "opacity": 0.75,
         "type": "histogram",
         "xaxis": "x2",
         "y": [
          101,
          101,
          78,
          101,
          101,
          101,
          101,
          101,
          101,
          101,
          101,
          101,
          101,
          101,
          101,
          101,
          101,
          101,
          101,
          56,
          101,
          32,
          101,
          60,
          101,
          101,
          40,
          101,
          54,
          101,
          101,
          81,
          101,
          101,
          101,
          101,
          101,
          101,
          101,
          101,
          101,
          101,
          101,
          101,
          67,
          92,
          101,
          101,
          101,
          101,
          101,
          101,
          101,
          101,
          101,
          101,
          101,
          101,
          101,
          81,
          101,
          101,
          101,
          101,
          101,
          101,
          93,
          101,
          101,
          101,
          -1,
          -1,
          -1,
          -1,
          -1,
          -1,
          -1,
          -1,
          -1,
          -1,
          -1,
          94,
          96,
          -1,
          -1,
          101,
          -1,
          -1,
          -1,
          -1,
          -1,
          -1,
          -1,
          -1,
          -1,
          -1,
          101,
          -1,
          -1,
          -1,
          -1,
          -1,
          -1,
          -1,
          -1,
          -1,
          -1,
          -1,
          -1,
          -1,
          -1,
          -1,
          -1,
          -1,
          -1,
          -1,
          -1,
          -1,
          -1,
          -1,
          -1,
          -1,
          -1,
          -1,
          -1,
          -1,
          -1,
          -1,
          101,
          -1,
          -1,
          101,
          101,
          76,
          -1,
          -1,
          -1,
          -1,
          -1,
          -1,
          -1,
          -1,
          84,
          -1,
          -1,
          -1,
          -1,
          -1,
          68,
          101,
          -1,
          101,
          -1,
          -1,
          -1,
          -1,
          -1,
          101,
          -1,
          88,
          -1,
          -1,
          -1,
          -1,
          -1,
          -1,
          101,
          -1,
          -1,
          -1,
          -1,
          -1,
          -1,
          -1,
          -1,
          -1,
          -1,
          101,
          -1,
          -1,
          -1,
          92,
          101,
          -1,
          -1,
          -1,
          -1,
          -1,
          -1,
          -1,
          -1,
          -1,
          -1,
          -1,
          -1,
          -1,
          94,
          -1
         ],
         "yaxis": "y2"
        },
        {
         "name": "dots_OFF",
         "nbinsy": 30,
         "opacity": 0.75,
         "type": "histogram",
         "xaxis": "x3",
         "y": [
          56,
          101,
          54,
          101,
          101,
          101,
          101
         ],
         "yaxis": "y3"
        },
        {
         "name": "loom",
         "nbinsy": 30,
         "opacity": 0.75,
         "type": "histogram",
         "xaxis": "x4",
         "y": [
          56,
          101,
          32,
          4,
          101,
          60,
          101,
          101,
          101,
          101,
          101,
          40,
          101,
          101,
          43,
          78,
          101,
          101,
          54,
          101,
          71,
          101,
          101,
          101,
          101,
          101,
          101,
          101,
          81,
          78,
          101,
          30,
          101,
          101,
          101,
          101,
          101,
          5,
          101,
          101,
          101,
          101,
          101,
          101,
          101,
          101,
          101,
          101,
          101,
          101,
          101,
          101,
          101,
          101,
          101,
          101,
          101,
          101,
          101,
          101,
          101,
          101,
          101,
          67,
          101,
          92,
          101,
          101,
          101,
          101,
          101,
          101,
          101,
          101,
          101,
          101,
          101,
          101,
          101,
          101,
          101,
          101,
          101,
          101,
          94,
          101,
          101,
          101,
          101,
          101,
          101,
          101,
          101,
          101,
          60,
          101,
          15,
          101,
          101,
          101,
          101,
          101,
          101,
          101,
          101,
          101,
          101,
          101,
          101,
          101,
          101,
          101,
          101,
          101,
          74,
          101,
          101,
          101,
          101,
          101,
          60,
          30,
          101,
          101,
          101,
          101,
          101,
          101,
          58,
          101,
          101,
          101,
          101,
          101,
          101,
          101,
          101,
          101,
          -1,
          101,
          101,
          101,
          101,
          101,
          101,
          101,
          101,
          101,
          101,
          101,
          101,
          101,
          101,
          101,
          101,
          101,
          101,
          101,
          101,
          101,
          101,
          101,
          24,
          101,
          101,
          101,
          101,
          101,
          101,
          101,
          101,
          101,
          101,
          101,
          101,
          101,
          101,
          101,
          101,
          101,
          101,
          101,
          101,
          101,
          101,
          101,
          101,
          101,
          101,
          101,
          101,
          101,
          101,
          101,
          101,
          101,
          101,
          101,
          101,
          101,
          101,
          101,
          101,
          101,
          101,
          101,
          -1,
          75,
          101,
          -1,
          101,
          101,
          101,
          101,
          101,
          101,
          101,
          101,
          101,
          101,
          -1,
          101,
          101,
          101,
          101,
          101,
          101,
          101,
          101,
          101,
          101,
          101,
          101,
          101,
          101,
          -1,
          101,
          101,
          101,
          101,
          101,
          101,
          101,
          101,
          101,
          101,
          101,
          101,
          101,
          101,
          101,
          101,
          101,
          101,
          101,
          101,
          101,
          101,
          101,
          101,
          101,
          101,
          101,
          -1,
          -1,
          101,
          -1,
          101,
          -1,
          101,
          -1,
          101,
          16,
          -1,
          45,
          -1,
          101,
          15,
          -1,
          -1,
          81,
          -1,
          -1,
          101,
          39,
          -1,
          101,
          -1,
          -1,
          82,
          -1,
          101,
          -1,
          -1,
          56,
          85,
          -1,
          67,
          101,
          -1,
          -1,
          101,
          76,
          -1,
          45,
          -1,
          -1,
          -1,
          -1,
          -1,
          -1,
          84,
          37,
          -1,
          -1,
          -1,
          101,
          -1,
          68,
          101,
          -1,
          -1,
          -1,
          63,
          -1,
          -1,
          101,
          -1,
          -1,
          -1,
          -1,
          101,
          -1,
          88,
          -1,
          -1,
          -1,
          -1,
          -1,
          -1,
          -1,
          -1,
          101,
          -1,
          -1,
          -1,
          -1,
          -1,
          -1,
          -1,
          101,
          -1,
          101,
          -1,
          -1,
          -1,
          101,
          -1,
          -1,
          53,
          -1,
          -1,
          -1,
          73,
          -1,
          -1,
          101,
          -1,
          -1,
          -1,
          -1,
          -1,
          -1,
          -1,
          101,
          -1,
          -1,
          -1,
          -1,
          -1,
          -1,
          -1,
          -1,
          87,
          -1,
          -1,
          -1,
          -1,
          -1,
          -1,
          -1,
          -1,
          -1,
          48,
          -1,
          101,
          -1,
          -1,
          -1,
          -1,
          -1,
          -1,
          -1,
          -1,
          -1,
          -1,
          -1,
          -1,
          -1,
          101,
          -1,
          101,
          -1,
          -1,
          -1,
          26,
          -1,
          -1,
          -1,
          -1,
          101,
          -1,
          -1,
          -1,
          -1,
          101,
          -1
         ],
         "yaxis": "y4"
        }
       ],
       "layout": {
        "barmode": "overlay",
        "height": 300,
        "margin": {
         "b": 20,
         "l": 20,
         "r": 20,
         "t": 20
        },
        "template": {
         "data": {
          "bar": [
           {
            "error_x": {
             "color": "#2a3f5f"
            },
            "error_y": {
             "color": "#2a3f5f"
            },
            "marker": {
             "line": {
              "color": "#E5ECF6",
              "width": 0.5
             },
             "pattern": {
              "fillmode": "overlay",
              "size": 10,
              "solidity": 0.2
             }
            },
            "type": "bar"
           }
          ],
          "barpolar": [
           {
            "marker": {
             "line": {
              "color": "#E5ECF6",
              "width": 0.5
             },
             "pattern": {
              "fillmode": "overlay",
              "size": 10,
              "solidity": 0.2
             }
            },
            "type": "barpolar"
           }
          ],
          "carpet": [
           {
            "aaxis": {
             "endlinecolor": "#2a3f5f",
             "gridcolor": "white",
             "linecolor": "white",
             "minorgridcolor": "white",
             "startlinecolor": "#2a3f5f"
            },
            "baxis": {
             "endlinecolor": "#2a3f5f",
             "gridcolor": "white",
             "linecolor": "white",
             "minorgridcolor": "white",
             "startlinecolor": "#2a3f5f"
            },
            "type": "carpet"
           }
          ],
          "choropleth": [
           {
            "colorbar": {
             "outlinewidth": 0,
             "ticks": ""
            },
            "type": "choropleth"
           }
          ],
          "contour": [
           {
            "colorbar": {
             "outlinewidth": 0,
             "ticks": ""
            },
            "colorscale": [
             [
              0,
              "#0d0887"
             ],
             [
              0.1111111111111111,
              "#46039f"
             ],
             [
              0.2222222222222222,
              "#7201a8"
             ],
             [
              0.3333333333333333,
              "#9c179e"
             ],
             [
              0.4444444444444444,
              "#bd3786"
             ],
             [
              0.5555555555555556,
              "#d8576b"
             ],
             [
              0.6666666666666666,
              "#ed7953"
             ],
             [
              0.7777777777777778,
              "#fb9f3a"
             ],
             [
              0.8888888888888888,
              "#fdca26"
             ],
             [
              1,
              "#f0f921"
             ]
            ],
            "type": "contour"
           }
          ],
          "contourcarpet": [
           {
            "colorbar": {
             "outlinewidth": 0,
             "ticks": ""
            },
            "type": "contourcarpet"
           }
          ],
          "heatmap": [
           {
            "colorbar": {
             "outlinewidth": 0,
             "ticks": ""
            },
            "colorscale": [
             [
              0,
              "#0d0887"
             ],
             [
              0.1111111111111111,
              "#46039f"
             ],
             [
              0.2222222222222222,
              "#7201a8"
             ],
             [
              0.3333333333333333,
              "#9c179e"
             ],
             [
              0.4444444444444444,
              "#bd3786"
             ],
             [
              0.5555555555555556,
              "#d8576b"
             ],
             [
              0.6666666666666666,
              "#ed7953"
             ],
             [
              0.7777777777777778,
              "#fb9f3a"
             ],
             [
              0.8888888888888888,
              "#fdca26"
             ],
             [
              1,
              "#f0f921"
             ]
            ],
            "type": "heatmap"
           }
          ],
          "heatmapgl": [
           {
            "colorbar": {
             "outlinewidth": 0,
             "ticks": ""
            },
            "colorscale": [
             [
              0,
              "#0d0887"
             ],
             [
              0.1111111111111111,
              "#46039f"
             ],
             [
              0.2222222222222222,
              "#7201a8"
             ],
             [
              0.3333333333333333,
              "#9c179e"
             ],
             [
              0.4444444444444444,
              "#bd3786"
             ],
             [
              0.5555555555555556,
              "#d8576b"
             ],
             [
              0.6666666666666666,
              "#ed7953"
             ],
             [
              0.7777777777777778,
              "#fb9f3a"
             ],
             [
              0.8888888888888888,
              "#fdca26"
             ],
             [
              1,
              "#f0f921"
             ]
            ],
            "type": "heatmapgl"
           }
          ],
          "histogram": [
           {
            "marker": {
             "pattern": {
              "fillmode": "overlay",
              "size": 10,
              "solidity": 0.2
             }
            },
            "type": "histogram"
           }
          ],
          "histogram2d": [
           {
            "colorbar": {
             "outlinewidth": 0,
             "ticks": ""
            },
            "colorscale": [
             [
              0,
              "#0d0887"
             ],
             [
              0.1111111111111111,
              "#46039f"
             ],
             [
              0.2222222222222222,
              "#7201a8"
             ],
             [
              0.3333333333333333,
              "#9c179e"
             ],
             [
              0.4444444444444444,
              "#bd3786"
             ],
             [
              0.5555555555555556,
              "#d8576b"
             ],
             [
              0.6666666666666666,
              "#ed7953"
             ],
             [
              0.7777777777777778,
              "#fb9f3a"
             ],
             [
              0.8888888888888888,
              "#fdca26"
             ],
             [
              1,
              "#f0f921"
             ]
            ],
            "type": "histogram2d"
           }
          ],
          "histogram2dcontour": [
           {
            "colorbar": {
             "outlinewidth": 0,
             "ticks": ""
            },
            "colorscale": [
             [
              0,
              "#0d0887"
             ],
             [
              0.1111111111111111,
              "#46039f"
             ],
             [
              0.2222222222222222,
              "#7201a8"
             ],
             [
              0.3333333333333333,
              "#9c179e"
             ],
             [
              0.4444444444444444,
              "#bd3786"
             ],
             [
              0.5555555555555556,
              "#d8576b"
             ],
             [
              0.6666666666666666,
              "#ed7953"
             ],
             [
              0.7777777777777778,
              "#fb9f3a"
             ],
             [
              0.8888888888888888,
              "#fdca26"
             ],
             [
              1,
              "#f0f921"
             ]
            ],
            "type": "histogram2dcontour"
           }
          ],
          "mesh3d": [
           {
            "colorbar": {
             "outlinewidth": 0,
             "ticks": ""
            },
            "type": "mesh3d"
           }
          ],
          "parcoords": [
           {
            "line": {
             "colorbar": {
              "outlinewidth": 0,
              "ticks": ""
             }
            },
            "type": "parcoords"
           }
          ],
          "pie": [
           {
            "automargin": true,
            "type": "pie"
           }
          ],
          "scatter": [
           {
            "fillpattern": {
             "fillmode": "overlay",
             "size": 10,
             "solidity": 0.2
            },
            "type": "scatter"
           }
          ],
          "scatter3d": [
           {
            "line": {
             "colorbar": {
              "outlinewidth": 0,
              "ticks": ""
             }
            },
            "marker": {
             "colorbar": {
              "outlinewidth": 0,
              "ticks": ""
             }
            },
            "type": "scatter3d"
           }
          ],
          "scattercarpet": [
           {
            "marker": {
             "colorbar": {
              "outlinewidth": 0,
              "ticks": ""
             }
            },
            "type": "scattercarpet"
           }
          ],
          "scattergeo": [
           {
            "marker": {
             "colorbar": {
              "outlinewidth": 0,
              "ticks": ""
             }
            },
            "type": "scattergeo"
           }
          ],
          "scattergl": [
           {
            "marker": {
             "colorbar": {
              "outlinewidth": 0,
              "ticks": ""
             }
            },
            "type": "scattergl"
           }
          ],
          "scattermapbox": [
           {
            "marker": {
             "colorbar": {
              "outlinewidth": 0,
              "ticks": ""
             }
            },
            "type": "scattermapbox"
           }
          ],
          "scatterpolar": [
           {
            "marker": {
             "colorbar": {
              "outlinewidth": 0,
              "ticks": ""
             }
            },
            "type": "scatterpolar"
           }
          ],
          "scatterpolargl": [
           {
            "marker": {
             "colorbar": {
              "outlinewidth": 0,
              "ticks": ""
             }
            },
            "type": "scatterpolargl"
           }
          ],
          "scatterternary": [
           {
            "marker": {
             "colorbar": {
              "outlinewidth": 0,
              "ticks": ""
             }
            },
            "type": "scatterternary"
           }
          ],
          "surface": [
           {
            "colorbar": {
             "outlinewidth": 0,
             "ticks": ""
            },
            "colorscale": [
             [
              0,
              "#0d0887"
             ],
             [
              0.1111111111111111,
              "#46039f"
             ],
             [
              0.2222222222222222,
              "#7201a8"
             ],
             [
              0.3333333333333333,
              "#9c179e"
             ],
             [
              0.4444444444444444,
              "#bd3786"
             ],
             [
              0.5555555555555556,
              "#d8576b"
             ],
             [
              0.6666666666666666,
              "#ed7953"
             ],
             [
              0.7777777777777778,
              "#fb9f3a"
             ],
             [
              0.8888888888888888,
              "#fdca26"
             ],
             [
              1,
              "#f0f921"
             ]
            ],
            "type": "surface"
           }
          ],
          "table": [
           {
            "cells": {
             "fill": {
              "color": "#EBF0F8"
             },
             "line": {
              "color": "white"
             }
            },
            "header": {
             "fill": {
              "color": "#C8D4E3"
             },
             "line": {
              "color": "white"
             }
            },
            "type": "table"
           }
          ]
         },
         "layout": {
          "annotationdefaults": {
           "arrowcolor": "#2a3f5f",
           "arrowhead": 0,
           "arrowwidth": 1
          },
          "autotypenumbers": "strict",
          "coloraxis": {
           "colorbar": {
            "outlinewidth": 0,
            "ticks": ""
           }
          },
          "colorscale": {
           "diverging": [
            [
             0,
             "#8e0152"
            ],
            [
             0.1,
             "#c51b7d"
            ],
            [
             0.2,
             "#de77ae"
            ],
            [
             0.3,
             "#f1b6da"
            ],
            [
             0.4,
             "#fde0ef"
            ],
            [
             0.5,
             "#f7f7f7"
            ],
            [
             0.6,
             "#e6f5d0"
            ],
            [
             0.7,
             "#b8e186"
            ],
            [
             0.8,
             "#7fbc41"
            ],
            [
             0.9,
             "#4d9221"
            ],
            [
             1,
             "#276419"
            ]
           ],
           "sequential": [
            [
             0,
             "#0d0887"
            ],
            [
             0.1111111111111111,
             "#46039f"
            ],
            [
             0.2222222222222222,
             "#7201a8"
            ],
            [
             0.3333333333333333,
             "#9c179e"
            ],
            [
             0.4444444444444444,
             "#bd3786"
            ],
            [
             0.5555555555555556,
             "#d8576b"
            ],
            [
             0.6666666666666666,
             "#ed7953"
            ],
            [
             0.7777777777777778,
             "#fb9f3a"
            ],
            [
             0.8888888888888888,
             "#fdca26"
            ],
            [
             1,
             "#f0f921"
            ]
           ],
           "sequentialminus": [
            [
             0,
             "#0d0887"
            ],
            [
             0.1111111111111111,
             "#46039f"
            ],
            [
             0.2222222222222222,
             "#7201a8"
            ],
            [
             0.3333333333333333,
             "#9c179e"
            ],
            [
             0.4444444444444444,
             "#bd3786"
            ],
            [
             0.5555555555555556,
             "#d8576b"
            ],
            [
             0.6666666666666666,
             "#ed7953"
            ],
            [
             0.7777777777777778,
             "#fb9f3a"
            ],
            [
             0.8888888888888888,
             "#fdca26"
            ],
            [
             1,
             "#f0f921"
            ]
           ]
          },
          "colorway": [
           "#636efa",
           "#EF553B",
           "#00cc96",
           "#ab63fa",
           "#FFA15A",
           "#19d3f3",
           "#FF6692",
           "#B6E880",
           "#FF97FF",
           "#FECB52"
          ],
          "font": {
           "color": "#2a3f5f"
          },
          "geo": {
           "bgcolor": "white",
           "lakecolor": "white",
           "landcolor": "#E5ECF6",
           "showlakes": true,
           "showland": true,
           "subunitcolor": "white"
          },
          "hoverlabel": {
           "align": "left"
          },
          "hovermode": "closest",
          "mapbox": {
           "style": "light"
          },
          "paper_bgcolor": "white",
          "plot_bgcolor": "#E5ECF6",
          "polar": {
           "angularaxis": {
            "gridcolor": "white",
            "linecolor": "white",
            "ticks": ""
           },
           "bgcolor": "#E5ECF6",
           "radialaxis": {
            "gridcolor": "white",
            "linecolor": "white",
            "ticks": ""
           }
          },
          "scene": {
           "xaxis": {
            "backgroundcolor": "#E5ECF6",
            "gridcolor": "white",
            "gridwidth": 2,
            "linecolor": "white",
            "showbackground": true,
            "ticks": "",
            "zerolinecolor": "white"
           },
           "yaxis": {
            "backgroundcolor": "#E5ECF6",
            "gridcolor": "white",
            "gridwidth": 2,
            "linecolor": "white",
            "showbackground": true,
            "ticks": "",
            "zerolinecolor": "white"
           },
           "zaxis": {
            "backgroundcolor": "#E5ECF6",
            "gridcolor": "white",
            "gridwidth": 2,
            "linecolor": "white",
            "showbackground": true,
            "ticks": "",
            "zerolinecolor": "white"
           }
          },
          "shapedefaults": {
           "line": {
            "color": "#2a3f5f"
           }
          },
          "ternary": {
           "aaxis": {
            "gridcolor": "white",
            "linecolor": "white",
            "ticks": ""
           },
           "baxis": {
            "gridcolor": "white",
            "linecolor": "white",
            "ticks": ""
           },
           "bgcolor": "#E5ECF6",
           "caxis": {
            "gridcolor": "white",
            "linecolor": "white",
            "ticks": ""
           }
          },
          "title": {
           "x": 0.05
          },
          "xaxis": {
           "automargin": true,
           "gridcolor": "white",
           "linecolor": "white",
           "ticks": "",
           "title": {
            "standoff": 15
           },
           "zerolinecolor": "white",
           "zerolinewidth": 2
          },
          "yaxis": {
           "automargin": true,
           "gridcolor": "white",
           "linecolor": "white",
           "ticks": "",
           "title": {
            "standoff": 15
           },
           "zerolinecolor": "white",
           "zerolinewidth": 2
          }
         }
        },
        "width": 600,
        "xaxis": {
         "anchor": "y",
         "domain": [
          0,
          0.2125
         ],
         "range": [
          0,
          6
         ],
         "title": {
          "text": "Count"
         }
        },
        "xaxis2": {
         "anchor": "y2",
         "domain": [
          0.2625,
          0.475
         ],
         "range": [
          0,
          6
         ]
        },
        "xaxis3": {
         "anchor": "y3",
         "domain": [
          0.525,
          0.7375
         ],
         "range": [
          0,
          6
         ]
        },
        "xaxis4": {
         "anchor": "y4",
         "domain": [
          0.7875,
          1
         ],
         "range": [
          0,
          6
         ]
        },
        "yaxis": {
         "anchor": "x",
         "domain": [
          0,
          1
         ],
         "range": [
          0,
          100
         ],
         "title": {
          "text": "y_centroid"
         }
        },
        "yaxis2": {
         "anchor": "x2",
         "domain": [
          0,
          1
         ],
         "matches": "y",
         "range": [
          0,
          100
         ],
         "showticklabels": false
        },
        "yaxis3": {
         "anchor": "x3",
         "domain": [
          0,
          1
         ],
         "matches": "y",
         "range": [
          0,
          100
         ],
         "showticklabels": false
        },
        "yaxis4": {
         "anchor": "x4",
         "domain": [
          0,
          1
         ],
         "matches": "y",
         "range": [
          0,
          100
         ],
         "showticklabels": false
        }
       }
      }
     },
     "metadata": {},
     "output_type": "display_data"
    }
   ],
   "source": [
    "import plotly.graph_objects as go\n",
    "from plotly.subplots import make_subplots\n",
    "\n",
    "# Get the number of unique 'stimtype' values\n",
    "num_stimtypes = pooled_data['stimtype'].nunique()\n",
    "\n",
    "# Create a subplot with 1 row and 'num_stimtypes' columns\n",
    "fig = make_subplots(rows=1, cols=num_stimtypes, shared_yaxes=True)\n",
    "\n",
    "# Loop through each unique value of 'stimtype'\n",
    "for i, stim in enumerate(pooled_data['stimtype'].unique(), start=1):\n",
    "    filtered_data = pooled_data[(pooled_data['stimtype'] == stim)] #&(pooled_data['experiment_id'] == 'x241014_53_cOTs')\n",
    "    fig.add_trace(go.Histogram(y=filtered_data['ot_depth'], name=stim,\n",
    "                               nbinsy=30, opacity=0.75),\n",
    "                  row=1, col=i)\n",
    "fig.update_xaxes(range=[0, 6])\n",
    "fig.update_yaxes(range=[0, 100])\n",
    "# Update the layout\n",
    "fig.update_layout(barmode='overlay', yaxis_title='y_centroid', xaxis_title='Count',\n",
    "                  width=150 * num_stimtypes, height=300, margin=dict(l=20, r=20, t=20, b=20))\n",
    "\n",
    "# Display the figure\n",
    "fig.show()\n"
   ]
  },
  {
   "cell_type": "code",
   "execution_count": 28,
   "metadata": {},
   "outputs": [
    {
     "data": {
      "application/vnd.plotly.v1+json": {
       "config": {
        "plotlyServerURL": "https://plot.ly"
       },
       "data": [
        {
         "name": "moving stripes",
         "orientation": "h",
         "type": "bar",
         "width": 4.25,
         "x": [
          75.98812568187714,
          0,
          0,
          0,
          0,
          0,
          0,
          0,
          2.017770767211914,
          0,
          0,
          0,
          7.427844524383545,
          5.294517517089844,
          2.577725410461426,
          0,
          7.673178672790527,
          0,
          6.067412853240967,
          0,
          9.420237064361572,
          9.895279884338379,
          5.1296186447143555,
          107.70650088787079
         ],
         "xaxis": "x",
         "y": [
          -1,
          3.25,
          7.5,
          11.75,
          16,
          20.25,
          24.5,
          28.75,
          33,
          37.25,
          41.5,
          45.75,
          50,
          54.25,
          58.5,
          62.75,
          67,
          71.25,
          75.5,
          79.75,
          84,
          88.25,
          92.5,
          96.75
         ],
         "yaxis": "y"
        },
        {
         "name": "dots_ON",
         "orientation": "h",
         "type": "bar",
         "width": 4.25,
         "x": [
          351.42323112487793,
          0,
          0,
          0,
          0,
          0,
          0,
          3.5709166526794434,
          0,
          4.305970191955566,
          0,
          0,
          9.679024696350098,
          8.42481517791748,
          5.928927421569824,
          0,
          15.568709373474121,
          0,
          6.23210597038269,
          6.795210838317871,
          11.704780578613281,
          12.393845796585083,
          10.22715973854065,
          196.7202000617981
         ],
         "xaxis": "x2",
         "y": [
          -1,
          3.25,
          7.5,
          11.75,
          16,
          20.25,
          24.5,
          28.75,
          33,
          37.25,
          41.5,
          45.75,
          50,
          54.25,
          58.5,
          62.75,
          67,
          71.25,
          75.5,
          79.75,
          84,
          88.25,
          92.5,
          96.75
         ],
         "yaxis": "y2"
        },
        {
         "name": "dots_OFF",
         "orientation": "h",
         "type": "bar",
         "width": 1.9583320617675781,
         "x": [
          5.124996662139893,
          1.3679628372192383,
          0,
          0,
          0,
          0,
          0,
          0,
          0,
          0,
          0,
          0,
          0,
          0,
          0,
          0,
          0,
          0,
          0,
          0,
          0,
          0,
          0,
          13.316105008125305
         ],
         "xaxis": "x3",
         "y": [
          54,
          55.95833206176758,
          57.91666793823242,
          59.875,
          61.83333206176758,
          63.79166793823242,
          65.75,
          67.70833587646484,
          69.66666412353516,
          71.625,
          73.58333587646484,
          75.54167175292969,
          77.5,
          79.45833587646484,
          81.41667175292969,
          83.375,
          85.33333587646484,
          87.29167175292969,
          89.25,
          91.20833587646484,
          93.16667175292969,
          95.125,
          97.08333587646484,
          99.04167175292969
         ],
         "yaxis": "y3"
        },
        {
         "name": "loom",
         "orientation": "h",
         "type": "bar",
         "width": 4.25,
         "x": [
          331.97996294498444,
          6.392846345901489,
          0,
          4.973902225494385,
          2.853485584259033,
          4.200050354003906,
          1.2665786743164062,
          7.473551511764526,
          1.8544251918792725,
          14.06266975402832,
          11.825740098953247,
          2.4992153644561768,
          9.63958191871643,
          10.153327465057373,
          7.704908847808838,
          1.7408779859542847,
          13.321381330490112,
          7.391582489013672,
          8.412238597869873,
          14.143754959106445,
          8.696175813674927,
          6.596050262451172,
          4.062931060791016,
          952.44242811203
         ],
         "xaxis": "x4",
         "y": [
          -1,
          3.25,
          7.5,
          11.75,
          16,
          20.25,
          24.5,
          28.75,
          33,
          37.25,
          41.5,
          45.75,
          50,
          54.25,
          58.5,
          62.75,
          67,
          71.25,
          75.5,
          79.75,
          84,
          88.25,
          92.5,
          96.75
         ],
         "yaxis": "y4"
        }
       ],
       "layout": {
        "barmode": "overlay",
        "height": 300,
        "margin": {
         "b": 20,
         "l": 20,
         "r": 20,
         "t": 20
        },
        "template": {
         "data": {
          "bar": [
           {
            "error_x": {
             "color": "#2a3f5f"
            },
            "error_y": {
             "color": "#2a3f5f"
            },
            "marker": {
             "line": {
              "color": "#E5ECF6",
              "width": 0.5
             },
             "pattern": {
              "fillmode": "overlay",
              "size": 10,
              "solidity": 0.2
             }
            },
            "type": "bar"
           }
          ],
          "barpolar": [
           {
            "marker": {
             "line": {
              "color": "#E5ECF6",
              "width": 0.5
             },
             "pattern": {
              "fillmode": "overlay",
              "size": 10,
              "solidity": 0.2
             }
            },
            "type": "barpolar"
           }
          ],
          "carpet": [
           {
            "aaxis": {
             "endlinecolor": "#2a3f5f",
             "gridcolor": "white",
             "linecolor": "white",
             "minorgridcolor": "white",
             "startlinecolor": "#2a3f5f"
            },
            "baxis": {
             "endlinecolor": "#2a3f5f",
             "gridcolor": "white",
             "linecolor": "white",
             "minorgridcolor": "white",
             "startlinecolor": "#2a3f5f"
            },
            "type": "carpet"
           }
          ],
          "choropleth": [
           {
            "colorbar": {
             "outlinewidth": 0,
             "ticks": ""
            },
            "type": "choropleth"
           }
          ],
          "contour": [
           {
            "colorbar": {
             "outlinewidth": 0,
             "ticks": ""
            },
            "colorscale": [
             [
              0,
              "#0d0887"
             ],
             [
              0.1111111111111111,
              "#46039f"
             ],
             [
              0.2222222222222222,
              "#7201a8"
             ],
             [
              0.3333333333333333,
              "#9c179e"
             ],
             [
              0.4444444444444444,
              "#bd3786"
             ],
             [
              0.5555555555555556,
              "#d8576b"
             ],
             [
              0.6666666666666666,
              "#ed7953"
             ],
             [
              0.7777777777777778,
              "#fb9f3a"
             ],
             [
              0.8888888888888888,
              "#fdca26"
             ],
             [
              1,
              "#f0f921"
             ]
            ],
            "type": "contour"
           }
          ],
          "contourcarpet": [
           {
            "colorbar": {
             "outlinewidth": 0,
             "ticks": ""
            },
            "type": "contourcarpet"
           }
          ],
          "heatmap": [
           {
            "colorbar": {
             "outlinewidth": 0,
             "ticks": ""
            },
            "colorscale": [
             [
              0,
              "#0d0887"
             ],
             [
              0.1111111111111111,
              "#46039f"
             ],
             [
              0.2222222222222222,
              "#7201a8"
             ],
             [
              0.3333333333333333,
              "#9c179e"
             ],
             [
              0.4444444444444444,
              "#bd3786"
             ],
             [
              0.5555555555555556,
              "#d8576b"
             ],
             [
              0.6666666666666666,
              "#ed7953"
             ],
             [
              0.7777777777777778,
              "#fb9f3a"
             ],
             [
              0.8888888888888888,
              "#fdca26"
             ],
             [
              1,
              "#f0f921"
             ]
            ],
            "type": "heatmap"
           }
          ],
          "heatmapgl": [
           {
            "colorbar": {
             "outlinewidth": 0,
             "ticks": ""
            },
            "colorscale": [
             [
              0,
              "#0d0887"
             ],
             [
              0.1111111111111111,
              "#46039f"
             ],
             [
              0.2222222222222222,
              "#7201a8"
             ],
             [
              0.3333333333333333,
              "#9c179e"
             ],
             [
              0.4444444444444444,
              "#bd3786"
             ],
             [
              0.5555555555555556,
              "#d8576b"
             ],
             [
              0.6666666666666666,
              "#ed7953"
             ],
             [
              0.7777777777777778,
              "#fb9f3a"
             ],
             [
              0.8888888888888888,
              "#fdca26"
             ],
             [
              1,
              "#f0f921"
             ]
            ],
            "type": "heatmapgl"
           }
          ],
          "histogram": [
           {
            "marker": {
             "pattern": {
              "fillmode": "overlay",
              "size": 10,
              "solidity": 0.2
             }
            },
            "type": "histogram"
           }
          ],
          "histogram2d": [
           {
            "colorbar": {
             "outlinewidth": 0,
             "ticks": ""
            },
            "colorscale": [
             [
              0,
              "#0d0887"
             ],
             [
              0.1111111111111111,
              "#46039f"
             ],
             [
              0.2222222222222222,
              "#7201a8"
             ],
             [
              0.3333333333333333,
              "#9c179e"
             ],
             [
              0.4444444444444444,
              "#bd3786"
             ],
             [
              0.5555555555555556,
              "#d8576b"
             ],
             [
              0.6666666666666666,
              "#ed7953"
             ],
             [
              0.7777777777777778,
              "#fb9f3a"
             ],
             [
              0.8888888888888888,
              "#fdca26"
             ],
             [
              1,
              "#f0f921"
             ]
            ],
            "type": "histogram2d"
           }
          ],
          "histogram2dcontour": [
           {
            "colorbar": {
             "outlinewidth": 0,
             "ticks": ""
            },
            "colorscale": [
             [
              0,
              "#0d0887"
             ],
             [
              0.1111111111111111,
              "#46039f"
             ],
             [
              0.2222222222222222,
              "#7201a8"
             ],
             [
              0.3333333333333333,
              "#9c179e"
             ],
             [
              0.4444444444444444,
              "#bd3786"
             ],
             [
              0.5555555555555556,
              "#d8576b"
             ],
             [
              0.6666666666666666,
              "#ed7953"
             ],
             [
              0.7777777777777778,
              "#fb9f3a"
             ],
             [
              0.8888888888888888,
              "#fdca26"
             ],
             [
              1,
              "#f0f921"
             ]
            ],
            "type": "histogram2dcontour"
           }
          ],
          "mesh3d": [
           {
            "colorbar": {
             "outlinewidth": 0,
             "ticks": ""
            },
            "type": "mesh3d"
           }
          ],
          "parcoords": [
           {
            "line": {
             "colorbar": {
              "outlinewidth": 0,
              "ticks": ""
             }
            },
            "type": "parcoords"
           }
          ],
          "pie": [
           {
            "automargin": true,
            "type": "pie"
           }
          ],
          "scatter": [
           {
            "fillpattern": {
             "fillmode": "overlay",
             "size": 10,
             "solidity": 0.2
            },
            "type": "scatter"
           }
          ],
          "scatter3d": [
           {
            "line": {
             "colorbar": {
              "outlinewidth": 0,
              "ticks": ""
             }
            },
            "marker": {
             "colorbar": {
              "outlinewidth": 0,
              "ticks": ""
             }
            },
            "type": "scatter3d"
           }
          ],
          "scattercarpet": [
           {
            "marker": {
             "colorbar": {
              "outlinewidth": 0,
              "ticks": ""
             }
            },
            "type": "scattercarpet"
           }
          ],
          "scattergeo": [
           {
            "marker": {
             "colorbar": {
              "outlinewidth": 0,
              "ticks": ""
             }
            },
            "type": "scattergeo"
           }
          ],
          "scattergl": [
           {
            "marker": {
             "colorbar": {
              "outlinewidth": 0,
              "ticks": ""
             }
            },
            "type": "scattergl"
           }
          ],
          "scattermapbox": [
           {
            "marker": {
             "colorbar": {
              "outlinewidth": 0,
              "ticks": ""
             }
            },
            "type": "scattermapbox"
           }
          ],
          "scatterpolar": [
           {
            "marker": {
             "colorbar": {
              "outlinewidth": 0,
              "ticks": ""
             }
            },
            "type": "scatterpolar"
           }
          ],
          "scatterpolargl": [
           {
            "marker": {
             "colorbar": {
              "outlinewidth": 0,
              "ticks": ""
             }
            },
            "type": "scatterpolargl"
           }
          ],
          "scatterternary": [
           {
            "marker": {
             "colorbar": {
              "outlinewidth": 0,
              "ticks": ""
             }
            },
            "type": "scatterternary"
           }
          ],
          "surface": [
           {
            "colorbar": {
             "outlinewidth": 0,
             "ticks": ""
            },
            "colorscale": [
             [
              0,
              "#0d0887"
             ],
             [
              0.1111111111111111,
              "#46039f"
             ],
             [
              0.2222222222222222,
              "#7201a8"
             ],
             [
              0.3333333333333333,
              "#9c179e"
             ],
             [
              0.4444444444444444,
              "#bd3786"
             ],
             [
              0.5555555555555556,
              "#d8576b"
             ],
             [
              0.6666666666666666,
              "#ed7953"
             ],
             [
              0.7777777777777778,
              "#fb9f3a"
             ],
             [
              0.8888888888888888,
              "#fdca26"
             ],
             [
              1,
              "#f0f921"
             ]
            ],
            "type": "surface"
           }
          ],
          "table": [
           {
            "cells": {
             "fill": {
              "color": "#EBF0F8"
             },
             "line": {
              "color": "white"
             }
            },
            "header": {
             "fill": {
              "color": "#C8D4E3"
             },
             "line": {
              "color": "white"
             }
            },
            "type": "table"
           }
          ]
         },
         "layout": {
          "annotationdefaults": {
           "arrowcolor": "#2a3f5f",
           "arrowhead": 0,
           "arrowwidth": 1
          },
          "autotypenumbers": "strict",
          "coloraxis": {
           "colorbar": {
            "outlinewidth": 0,
            "ticks": ""
           }
          },
          "colorscale": {
           "diverging": [
            [
             0,
             "#8e0152"
            ],
            [
             0.1,
             "#c51b7d"
            ],
            [
             0.2,
             "#de77ae"
            ],
            [
             0.3,
             "#f1b6da"
            ],
            [
             0.4,
             "#fde0ef"
            ],
            [
             0.5,
             "#f7f7f7"
            ],
            [
             0.6,
             "#e6f5d0"
            ],
            [
             0.7,
             "#b8e186"
            ],
            [
             0.8,
             "#7fbc41"
            ],
            [
             0.9,
             "#4d9221"
            ],
            [
             1,
             "#276419"
            ]
           ],
           "sequential": [
            [
             0,
             "#0d0887"
            ],
            [
             0.1111111111111111,
             "#46039f"
            ],
            [
             0.2222222222222222,
             "#7201a8"
            ],
            [
             0.3333333333333333,
             "#9c179e"
            ],
            [
             0.4444444444444444,
             "#bd3786"
            ],
            [
             0.5555555555555556,
             "#d8576b"
            ],
            [
             0.6666666666666666,
             "#ed7953"
            ],
            [
             0.7777777777777778,
             "#fb9f3a"
            ],
            [
             0.8888888888888888,
             "#fdca26"
            ],
            [
             1,
             "#f0f921"
            ]
           ],
           "sequentialminus": [
            [
             0,
             "#0d0887"
            ],
            [
             0.1111111111111111,
             "#46039f"
            ],
            [
             0.2222222222222222,
             "#7201a8"
            ],
            [
             0.3333333333333333,
             "#9c179e"
            ],
            [
             0.4444444444444444,
             "#bd3786"
            ],
            [
             0.5555555555555556,
             "#d8576b"
            ],
            [
             0.6666666666666666,
             "#ed7953"
            ],
            [
             0.7777777777777778,
             "#fb9f3a"
            ],
            [
             0.8888888888888888,
             "#fdca26"
            ],
            [
             1,
             "#f0f921"
            ]
           ]
          },
          "colorway": [
           "#636efa",
           "#EF553B",
           "#00cc96",
           "#ab63fa",
           "#FFA15A",
           "#19d3f3",
           "#FF6692",
           "#B6E880",
           "#FF97FF",
           "#FECB52"
          ],
          "font": {
           "color": "#2a3f5f"
          },
          "geo": {
           "bgcolor": "white",
           "lakecolor": "white",
           "landcolor": "#E5ECF6",
           "showlakes": true,
           "showland": true,
           "subunitcolor": "white"
          },
          "hoverlabel": {
           "align": "left"
          },
          "hovermode": "closest",
          "mapbox": {
           "style": "light"
          },
          "paper_bgcolor": "white",
          "plot_bgcolor": "#E5ECF6",
          "polar": {
           "angularaxis": {
            "gridcolor": "white",
            "linecolor": "white",
            "ticks": ""
           },
           "bgcolor": "#E5ECF6",
           "radialaxis": {
            "gridcolor": "white",
            "linecolor": "white",
            "ticks": ""
           }
          },
          "scene": {
           "xaxis": {
            "backgroundcolor": "#E5ECF6",
            "gridcolor": "white",
            "gridwidth": 2,
            "linecolor": "white",
            "showbackground": true,
            "ticks": "",
            "zerolinecolor": "white"
           },
           "yaxis": {
            "backgroundcolor": "#E5ECF6",
            "gridcolor": "white",
            "gridwidth": 2,
            "linecolor": "white",
            "showbackground": true,
            "ticks": "",
            "zerolinecolor": "white"
           },
           "zaxis": {
            "backgroundcolor": "#E5ECF6",
            "gridcolor": "white",
            "gridwidth": 2,
            "linecolor": "white",
            "showbackground": true,
            "ticks": "",
            "zerolinecolor": "white"
           }
          },
          "shapedefaults": {
           "line": {
            "color": "#2a3f5f"
           }
          },
          "ternary": {
           "aaxis": {
            "gridcolor": "white",
            "linecolor": "white",
            "ticks": ""
           },
           "baxis": {
            "gridcolor": "white",
            "linecolor": "white",
            "ticks": ""
           },
           "bgcolor": "#E5ECF6",
           "caxis": {
            "gridcolor": "white",
            "linecolor": "white",
            "ticks": ""
           }
          },
          "title": {
           "x": 0.05
          },
          "xaxis": {
           "automargin": true,
           "gridcolor": "white",
           "linecolor": "white",
           "ticks": "",
           "title": {
            "standoff": 15
           },
           "zerolinecolor": "white",
           "zerolinewidth": 2
          },
          "yaxis": {
           "automargin": true,
           "gridcolor": "white",
           "linecolor": "white",
           "ticks": "",
           "title": {
            "standoff": 15
           },
           "zerolinecolor": "white",
           "zerolinewidth": 2
          }
         }
        },
        "width": 600,
        "xaxis": {
         "anchor": "y",
         "domain": [
          0,
          0.2125
         ],
         "range": [
          0,
          20
         ],
         "title": {
          "text": "# rois"
         }
        },
        "xaxis2": {
         "anchor": "y2",
         "domain": [
          0.2625,
          0.475
         ],
         "range": [
          0,
          20
         ]
        },
        "xaxis3": {
         "anchor": "y3",
         "domain": [
          0.525,
          0.7375
         ],
         "range": [
          0,
          20
         ]
        },
        "xaxis4": {
         "anchor": "y4",
         "domain": [
          0.7875,
          1
         ],
         "range": [
          0,
          20
         ]
        },
        "yaxis": {
         "anchor": "x",
         "domain": [
          0,
          1
         ],
         "range": [
          0,
          100
         ],
         "title": {
          "text": "ot_depth"
         }
        },
        "yaxis2": {
         "anchor": "x2",
         "domain": [
          0,
          1
         ],
         "matches": "y",
         "range": [
          0,
          100
         ],
         "showticklabels": false
        },
        "yaxis3": {
         "anchor": "x3",
         "domain": [
          0,
          1
         ],
         "matches": "y",
         "range": [
          0,
          100
         ],
         "showticklabels": false
        },
        "yaxis4": {
         "anchor": "x4",
         "domain": [
          0,
          1
         ],
         "matches": "y",
         "range": [
          0,
          100
         ],
         "showticklabels": false
        }
       }
      }
     },
     "metadata": {},
     "output_type": "display_data"
    }
   ],
   "source": [
    "# Function to compute weighted histograms\n",
    "def compute_weighted_histogram(data, weights, bins):\n",
    "    hist, bin_edges = np.histogram(data, bins=bins, weights=weights)\n",
    "    return hist, bin_edges\n",
    "# Get the number of unique 'stimtype' values\n",
    "num_stimtypes = pooled_data['stimtype'].nunique()\n",
    "\n",
    "# Create a subplot with 1 row and 'num_stimtypes' columns\n",
    "fig = make_subplots(rows=1, cols=num_stimtypes, shared_yaxes=True)\n",
    "\n",
    "# Loop through each unique value of 'stimtype'\n",
    "for i, stim in enumerate(pooled_data['stimtype'].unique(), start=1):\n",
    "    filtered_data = pooled_data[(pooled_data['stimtype'] == stim)]  # Filter by stimtype\n",
    "    \n",
    "    # Compute weighted histogram for ot_depth using amplitude as weights\n",
    "    hist, bin_edges = compute_weighted_histogram(filtered_data['ot_depth'], \n",
    "                                                 filtered_data['amplitude'], \n",
    "                                                 bins=np.linspace(filtered_data['ot_depth'].min(), filtered_data['ot_depth'].max(), 25))  # 30 bins\n",
    "    \n",
    "    # Add weighted histogram trace as a bar chart\n",
    "    fig.add_trace(go.Bar(y=bin_edges[:-1], x=hist, name=stim, orientation='h', width=(bin_edges[1] - bin_edges[0])),\n",
    "                  row=1, col=i)\n",
    "\n",
    "# Update the layout\n",
    "fig.update_xaxes(range=[0, 20])\n",
    "fig.update_yaxes(range=[0, 100])\n",
    "fig.update_layout(barmode='overlay', yaxis_title='ot_depth', xaxis_title='# rois',\n",
    "                  width=150 * num_stimtypes, height=300, margin=dict(l=20, r=20, t=20, b=20))\n",
    "\n",
    "# Display the figure\n",
    "fig.show()"
   ]
  },
  {
   "cell_type": "code",
   "execution_count": 29,
   "metadata": {},
   "outputs": [
    {
     "data": {
      "application/vnd.plotly.v1+json": {
       "config": {
        "plotlyServerURL": "https://plot.ly"
       },
       "data": [
        {
         "name": "loom",
         "opacity": 0.75,
         "type": "histogram",
         "x": [
          67,
          70,
          79,
          74.38709677419355,
          67,
          62.9,
          64,
          83,
          68,
          56,
          78.16216216216216,
          83.5,
          31,
          32,
          86.75675675675676,
          32.08571428571429,
          25.72972972972973,
          65,
          74.27272727272727,
          24.83783783783784,
          39.36363636363637,
          59.5,
          51.705882352941174,
          23,
          33.078947368421055,
          71.95454545454545,
          20,
          26,
          86.32352941176471,
          25.78787878787879,
          23.852941176470587,
          74.05405405405405,
          80.72222222222223,
          42,
          70.03225806451613,
          36.294117647058826,
          87.27272727272727,
          79.18181818181819,
          55.02439024390244,
          29,
          30,
          61.973684210526315,
          25,
          78.26315789473684,
          51.05714285714286,
          20.5,
          73.29411764705883,
          79.76315789473684,
          62.205128205128204,
          24,
          36,
          61.72727272727273,
          77.05555555555556,
          36.14705882352941,
          24,
          63.63333333333333,
          57.03225806451613,
          29.27777777777778,
          28.82051282051282,
          20.727272727272727,
          39,
          49.72727272727273,
          33.97222222222222,
          59,
          29,
          71,
          19,
          28.27777777777778,
          33.75,
          28,
          23.970588235294116,
          33.0625,
          37,
          58.82608695652174,
          39.38709677419355,
          56.729729729729726,
          84.17948717948718,
          19.3,
          71.375,
          74.23809523809524,
          45.388888888888886,
          22,
          47.5,
          30.22222222222222,
          91.60606060606061,
          26.68421052631579,
          46,
          71.8,
          18.6875,
          18.833333333333332,
          31.27777777777778,
          25.625,
          59.5,
          42.67741935483871,
          48.94736842105263,
          66.13513513513513,
          84.87878787878788,
          75.91891891891892,
          23,
          48.233333333333334,
          28.70967741935484,
          22.026315789473685,
          30,
          56.13333333333333,
          36,
          15.757575757575758,
          48,
          38.85,
          92.4375,
          67.78787878787878,
          16.147058823529413,
          64,
          35,
          38,
          21.085714285714285,
          41.96666666666667,
          39.205128205128204,
          15.34375,
          32.325,
          57.83870967741935,
          43.76923076923077,
          28.096774193548388,
          86.23333333333333,
          30.939393939393938,
          51.25806451612903,
          63.354838709677416,
          90.25806451612904,
          84.5,
          54.666666666666664,
          22.65714285714286,
          36.53333333333333,
          51.976190476190474,
          44.87179487179487,
          45.388888888888886,
          37.72222222222222,
          26.952380952380953,
          66,
          18.4,
          32.69444444444444,
          48.46666666666667,
          32,
          59.45454545454545,
          48.535714285714285,
          44.5,
          35.375,
          38.6,
          43,
          44.55555555555556,
          86.78571428571429,
          32,
          78.3225806451613,
          40.78947368421053,
          25.558823529411764,
          79.45,
          59.333333333333336,
          25,
          27.16216216216216,
          32.03333333333333,
          57.83870967741935,
          24.25,
          64.46666666666667,
          50.65714285714286,
          33.94444444444444,
          43,
          33.61904761904762,
          41,
          51.193548387096776,
          54.6875,
          17,
          41.470588235294116,
          47.09090909090909,
          23.114285714285714,
          30.64516129032258,
          48.4,
          13.428571428571429,
          42,
          36.8,
          27.130434782608695,
          75.7,
          36.1875,
          37.16129032258065,
          48.59375,
          34,
          41,
          33.25806451612903,
          41.57142857142857,
          53.5,
          33.225806451612904,
          40.5,
          23.72,
          25.264705882352942,
          66.8529411764706,
          34.266666666666666,
          44.266666666666666,
          29.73076923076923,
          37,
          51.03703703703704,
          27.2,
          54.44444444444444,
          23.09090909090909,
          56.806451612903224,
          40.592592592592595,
          20.64,
          47.5,
          42.3,
          63.625,
          32,
          92,
          35.57142857142857,
          27.4375,
          44.857142857142854,
          68,
          95.63636363636364,
          18.772727272727273,
          55.5,
          43,
          39,
          42.4,
          45.22222222222222,
          98,
          81.33333333333333,
          36,
          39.75,
          83.42857142857143,
          67,
          66,
          35.027027027027025,
          70.96774193548387,
          38.90625,
          67.42857142857143,
          32,
          44,
          84,
          29.216216216216218,
          23.26086956521739,
          20.357142857142858,
          18.63157894736842,
          52.23529411764706,
          75,
          75.33333333333333,
          21.25,
          44.38461538461539,
          51.05,
          56,
          37,
          72.66666666666667,
          39,
          51.666666666666664,
          64,
          95,
          61.333333333333336,
          43.5,
          55.333333333333336,
          41.5,
          28,
          31.333333333333332,
          37,
          44.5,
          60,
          88,
          38,
          40,
          32,
          98,
          91,
          106,
          106,
          98.1,
          97,
          94.5,
          85.39393939393939,
          101.91176470588235,
          87.47058823529412,
          90,
          93.2051282051282,
          101.91891891891892,
          84.02380952380952,
          92.16666666666667,
          85.70588235294117,
          92.08823529411765,
          71,
          80.57142857142857,
          101.6969696969697,
          69.82857142857142,
          86.15625,
          84,
          89.76666666666667,
          95.29411764705883,
          81.76666666666667,
          101.3,
          70,
          103.3030303030303,
          30.5,
          100.28571428571429,
          103,
          106.6,
          36.55555555555556,
          97.5,
          64.91428571428571,
          19.4,
          90.29729729729729,
          74.54054054054055,
          75.8529411764706,
          19,
          98.58064516129032,
          24.4375,
          13.894736842105264,
          76.15151515151516,
          86.9,
          95.16666666666667,
          18.82051282051282,
          65.7948717948718,
          102.25714285714285,
          18.866666666666667,
          64.48387096774194,
          53.976190476190474,
          81.5,
          76.29032258064517,
          79.93939393939394,
          78.63636363636364,
          15.333333333333334,
          99.6,
          35.97222222222222,
          108.65384615384616,
          74.73529411764706,
          20.032258064516128,
          60.973684210526315,
          16.17142857142857,
          76.6875,
          62,
          106.08571428571429,
          73.61290322580645,
          29.075,
          60.857142857142854,
          75.16666666666667,
          26.09375,
          20.771428571428572,
          47.39393939393939,
          63.93939393939394,
          68.33333333333333,
          70.33333333333333,
          22.205882352941178,
          71.5925925925926,
          70.33333333333333,
          43.42424242424242,
          41.75,
          55.39393939393939,
          83.1470588235294,
          24.972972972972972,
          65.75,
          49.294117647058826,
          14.03125,
          56.892857142857146,
          61.51724137931034,
          39.21875,
          67.97058823529412,
          12,
          25.91176470588235,
          61.59375,
          83.06451612903226,
          60.6,
          87.91666666666667,
          31.5,
          93.11764705882354,
          105.23333333333333,
          43.18181818181818,
          19.22222222222222,
          17.741935483870968,
          44.06666666666667,
          32.523809523809526,
          79.3,
          75.5,
          74,
          93.70588235294117,
          112.12121212121212,
          85.97435897435898,
          82.8529411764706,
          103.09677419354838,
          93.69047619047619,
          92.97435897435898,
          102,
          99.71428571428571,
          91.71875,
          110.72972972972973,
          78.75757575757575,
          82.65625,
          81.44444444444444,
          91.68181818181819,
          100.93333333333334,
          26.86111111111111,
          19.515151515151516,
          23.625,
          74.3225806451613,
          13.166666666666666,
          15.222222222222221,
          13.5,
          15.2,
          15.130434782608695,
          35.333333333333336,
          34.43333333333333,
          52.26315789473684,
          17.066666666666666,
          33.58064516129032,
          15.9,
          106.83333333333333,
          16.25,
          43.666666666666664,
          75,
          30,
          15.333333333333334,
          13,
          4,
          15.818181818181818,
          15.5,
          19.5,
          104.77777777777777,
          61.5,
          12.923076923076923,
          5.5,
          54,
          12,
          69,
          32.666666666666664,
          81,
          42.333333333333336,
          21.5,
          70
         ],
         "ybins": {
          "end": 512,
          "size": 50,
          "start": 0
         }
        },
        {
         "name": "moving stripes",
         "opacity": 0.75,
         "type": "histogram",
         "x": [
          67,
          67,
          62.9,
          74.27272727272727,
          59.5,
          55.02439024390244,
          78.26315789473684,
          79.76315789473684,
          67,
          66,
          71,
          71.375,
          74.23809523809524,
          92.4375,
          67.42857142857143,
          66,
          57.83870967741935,
          76,
          63.625,
          58,
          98,
          55.333333333333336,
          84,
          69.82857142857142,
          70,
          64.91428571428571,
          74.54054054054055,
          75.8529411764706,
          65.7948717948718,
          64.48387096774194,
          79.93939393939394,
          78.63636363636364,
          60.973684210526315,
          76.6875,
          73,
          77,
          60.857142857142854,
          75.16666666666667,
          63.93939393939394,
          68.33333333333333,
          71.5925925925926,
          83.1470588235294,
          56.892857142857146,
          68,
          67.97058823529412,
          61.59375,
          60.6,
          87.91666666666667,
          75,
          60.333333333333336,
          79.3,
          75,
          56.5,
          78,
          69,
          67,
          82,
          79,
          74,
          66
         ],
         "ybins": {
          "end": 512,
          "size": 50,
          "start": 0
         }
        },
        {
         "name": "dots_OFF",
         "opacity": 0.75,
         "type": "histogram",
         "x": [
          67,
          64,
          74.27272727272727,
          71.375,
          67.42857142857143,
          63.625,
          56
         ],
         "ybins": {
          "end": 512,
          "size": 50,
          "start": 0
         }
        }
       ],
       "layout": {
        "barmode": "overlay",
        "height": 300,
        "margin": {
         "b": 20,
         "l": 20,
         "r": 20,
         "t": 20
        },
        "template": {
         "data": {
          "bar": [
           {
            "error_x": {
             "color": "#2a3f5f"
            },
            "error_y": {
             "color": "#2a3f5f"
            },
            "marker": {
             "line": {
              "color": "#E5ECF6",
              "width": 0.5
             },
             "pattern": {
              "fillmode": "overlay",
              "size": 10,
              "solidity": 0.2
             }
            },
            "type": "bar"
           }
          ],
          "barpolar": [
           {
            "marker": {
             "line": {
              "color": "#E5ECF6",
              "width": 0.5
             },
             "pattern": {
              "fillmode": "overlay",
              "size": 10,
              "solidity": 0.2
             }
            },
            "type": "barpolar"
           }
          ],
          "carpet": [
           {
            "aaxis": {
             "endlinecolor": "#2a3f5f",
             "gridcolor": "white",
             "linecolor": "white",
             "minorgridcolor": "white",
             "startlinecolor": "#2a3f5f"
            },
            "baxis": {
             "endlinecolor": "#2a3f5f",
             "gridcolor": "white",
             "linecolor": "white",
             "minorgridcolor": "white",
             "startlinecolor": "#2a3f5f"
            },
            "type": "carpet"
           }
          ],
          "choropleth": [
           {
            "colorbar": {
             "outlinewidth": 0,
             "ticks": ""
            },
            "type": "choropleth"
           }
          ],
          "contour": [
           {
            "colorbar": {
             "outlinewidth": 0,
             "ticks": ""
            },
            "colorscale": [
             [
              0,
              "#0d0887"
             ],
             [
              0.1111111111111111,
              "#46039f"
             ],
             [
              0.2222222222222222,
              "#7201a8"
             ],
             [
              0.3333333333333333,
              "#9c179e"
             ],
             [
              0.4444444444444444,
              "#bd3786"
             ],
             [
              0.5555555555555556,
              "#d8576b"
             ],
             [
              0.6666666666666666,
              "#ed7953"
             ],
             [
              0.7777777777777778,
              "#fb9f3a"
             ],
             [
              0.8888888888888888,
              "#fdca26"
             ],
             [
              1,
              "#f0f921"
             ]
            ],
            "type": "contour"
           }
          ],
          "contourcarpet": [
           {
            "colorbar": {
             "outlinewidth": 0,
             "ticks": ""
            },
            "type": "contourcarpet"
           }
          ],
          "heatmap": [
           {
            "colorbar": {
             "outlinewidth": 0,
             "ticks": ""
            },
            "colorscale": [
             [
              0,
              "#0d0887"
             ],
             [
              0.1111111111111111,
              "#46039f"
             ],
             [
              0.2222222222222222,
              "#7201a8"
             ],
             [
              0.3333333333333333,
              "#9c179e"
             ],
             [
              0.4444444444444444,
              "#bd3786"
             ],
             [
              0.5555555555555556,
              "#d8576b"
             ],
             [
              0.6666666666666666,
              "#ed7953"
             ],
             [
              0.7777777777777778,
              "#fb9f3a"
             ],
             [
              0.8888888888888888,
              "#fdca26"
             ],
             [
              1,
              "#f0f921"
             ]
            ],
            "type": "heatmap"
           }
          ],
          "heatmapgl": [
           {
            "colorbar": {
             "outlinewidth": 0,
             "ticks": ""
            },
            "colorscale": [
             [
              0,
              "#0d0887"
             ],
             [
              0.1111111111111111,
              "#46039f"
             ],
             [
              0.2222222222222222,
              "#7201a8"
             ],
             [
              0.3333333333333333,
              "#9c179e"
             ],
             [
              0.4444444444444444,
              "#bd3786"
             ],
             [
              0.5555555555555556,
              "#d8576b"
             ],
             [
              0.6666666666666666,
              "#ed7953"
             ],
             [
              0.7777777777777778,
              "#fb9f3a"
             ],
             [
              0.8888888888888888,
              "#fdca26"
             ],
             [
              1,
              "#f0f921"
             ]
            ],
            "type": "heatmapgl"
           }
          ],
          "histogram": [
           {
            "marker": {
             "pattern": {
              "fillmode": "overlay",
              "size": 10,
              "solidity": 0.2
             }
            },
            "type": "histogram"
           }
          ],
          "histogram2d": [
           {
            "colorbar": {
             "outlinewidth": 0,
             "ticks": ""
            },
            "colorscale": [
             [
              0,
              "#0d0887"
             ],
             [
              0.1111111111111111,
              "#46039f"
             ],
             [
              0.2222222222222222,
              "#7201a8"
             ],
             [
              0.3333333333333333,
              "#9c179e"
             ],
             [
              0.4444444444444444,
              "#bd3786"
             ],
             [
              0.5555555555555556,
              "#d8576b"
             ],
             [
              0.6666666666666666,
              "#ed7953"
             ],
             [
              0.7777777777777778,
              "#fb9f3a"
             ],
             [
              0.8888888888888888,
              "#fdca26"
             ],
             [
              1,
              "#f0f921"
             ]
            ],
            "type": "histogram2d"
           }
          ],
          "histogram2dcontour": [
           {
            "colorbar": {
             "outlinewidth": 0,
             "ticks": ""
            },
            "colorscale": [
             [
              0,
              "#0d0887"
             ],
             [
              0.1111111111111111,
              "#46039f"
             ],
             [
              0.2222222222222222,
              "#7201a8"
             ],
             [
              0.3333333333333333,
              "#9c179e"
             ],
             [
              0.4444444444444444,
              "#bd3786"
             ],
             [
              0.5555555555555556,
              "#d8576b"
             ],
             [
              0.6666666666666666,
              "#ed7953"
             ],
             [
              0.7777777777777778,
              "#fb9f3a"
             ],
             [
              0.8888888888888888,
              "#fdca26"
             ],
             [
              1,
              "#f0f921"
             ]
            ],
            "type": "histogram2dcontour"
           }
          ],
          "mesh3d": [
           {
            "colorbar": {
             "outlinewidth": 0,
             "ticks": ""
            },
            "type": "mesh3d"
           }
          ],
          "parcoords": [
           {
            "line": {
             "colorbar": {
              "outlinewidth": 0,
              "ticks": ""
             }
            },
            "type": "parcoords"
           }
          ],
          "pie": [
           {
            "automargin": true,
            "type": "pie"
           }
          ],
          "scatter": [
           {
            "fillpattern": {
             "fillmode": "overlay",
             "size": 10,
             "solidity": 0.2
            },
            "type": "scatter"
           }
          ],
          "scatter3d": [
           {
            "line": {
             "colorbar": {
              "outlinewidth": 0,
              "ticks": ""
             }
            },
            "marker": {
             "colorbar": {
              "outlinewidth": 0,
              "ticks": ""
             }
            },
            "type": "scatter3d"
           }
          ],
          "scattercarpet": [
           {
            "marker": {
             "colorbar": {
              "outlinewidth": 0,
              "ticks": ""
             }
            },
            "type": "scattercarpet"
           }
          ],
          "scattergeo": [
           {
            "marker": {
             "colorbar": {
              "outlinewidth": 0,
              "ticks": ""
             }
            },
            "type": "scattergeo"
           }
          ],
          "scattergl": [
           {
            "marker": {
             "colorbar": {
              "outlinewidth": 0,
              "ticks": ""
             }
            },
            "type": "scattergl"
           }
          ],
          "scattermapbox": [
           {
            "marker": {
             "colorbar": {
              "outlinewidth": 0,
              "ticks": ""
             }
            },
            "type": "scattermapbox"
           }
          ],
          "scatterpolar": [
           {
            "marker": {
             "colorbar": {
              "outlinewidth": 0,
              "ticks": ""
             }
            },
            "type": "scatterpolar"
           }
          ],
          "scatterpolargl": [
           {
            "marker": {
             "colorbar": {
              "outlinewidth": 0,
              "ticks": ""
             }
            },
            "type": "scatterpolargl"
           }
          ],
          "scatterternary": [
           {
            "marker": {
             "colorbar": {
              "outlinewidth": 0,
              "ticks": ""
             }
            },
            "type": "scatterternary"
           }
          ],
          "surface": [
           {
            "colorbar": {
             "outlinewidth": 0,
             "ticks": ""
            },
            "colorscale": [
             [
              0,
              "#0d0887"
             ],
             [
              0.1111111111111111,
              "#46039f"
             ],
             [
              0.2222222222222222,
              "#7201a8"
             ],
             [
              0.3333333333333333,
              "#9c179e"
             ],
             [
              0.4444444444444444,
              "#bd3786"
             ],
             [
              0.5555555555555556,
              "#d8576b"
             ],
             [
              0.6666666666666666,
              "#ed7953"
             ],
             [
              0.7777777777777778,
              "#fb9f3a"
             ],
             [
              0.8888888888888888,
              "#fdca26"
             ],
             [
              1,
              "#f0f921"
             ]
            ],
            "type": "surface"
           }
          ],
          "table": [
           {
            "cells": {
             "fill": {
              "color": "#EBF0F8"
             },
             "line": {
              "color": "white"
             }
            },
            "header": {
             "fill": {
              "color": "#C8D4E3"
             },
             "line": {
              "color": "white"
             }
            },
            "type": "table"
           }
          ]
         },
         "layout": {
          "annotationdefaults": {
           "arrowcolor": "#2a3f5f",
           "arrowhead": 0,
           "arrowwidth": 1
          },
          "autotypenumbers": "strict",
          "coloraxis": {
           "colorbar": {
            "outlinewidth": 0,
            "ticks": ""
           }
          },
          "colorscale": {
           "diverging": [
            [
             0,
             "#8e0152"
            ],
            [
             0.1,
             "#c51b7d"
            ],
            [
             0.2,
             "#de77ae"
            ],
            [
             0.3,
             "#f1b6da"
            ],
            [
             0.4,
             "#fde0ef"
            ],
            [
             0.5,
             "#f7f7f7"
            ],
            [
             0.6,
             "#e6f5d0"
            ],
            [
             0.7,
             "#b8e186"
            ],
            [
             0.8,
             "#7fbc41"
            ],
            [
             0.9,
             "#4d9221"
            ],
            [
             1,
             "#276419"
            ]
           ],
           "sequential": [
            [
             0,
             "#0d0887"
            ],
            [
             0.1111111111111111,
             "#46039f"
            ],
            [
             0.2222222222222222,
             "#7201a8"
            ],
            [
             0.3333333333333333,
             "#9c179e"
            ],
            [
             0.4444444444444444,
             "#bd3786"
            ],
            [
             0.5555555555555556,
             "#d8576b"
            ],
            [
             0.6666666666666666,
             "#ed7953"
            ],
            [
             0.7777777777777778,
             "#fb9f3a"
            ],
            [
             0.8888888888888888,
             "#fdca26"
            ],
            [
             1,
             "#f0f921"
            ]
           ],
           "sequentialminus": [
            [
             0,
             "#0d0887"
            ],
            [
             0.1111111111111111,
             "#46039f"
            ],
            [
             0.2222222222222222,
             "#7201a8"
            ],
            [
             0.3333333333333333,
             "#9c179e"
            ],
            [
             0.4444444444444444,
             "#bd3786"
            ],
            [
             0.5555555555555556,
             "#d8576b"
            ],
            [
             0.6666666666666666,
             "#ed7953"
            ],
            [
             0.7777777777777778,
             "#fb9f3a"
            ],
            [
             0.8888888888888888,
             "#fdca26"
            ],
            [
             1,
             "#f0f921"
            ]
           ]
          },
          "colorway": [
           "#636efa",
           "#EF553B",
           "#00cc96",
           "#ab63fa",
           "#FFA15A",
           "#19d3f3",
           "#FF6692",
           "#B6E880",
           "#FF97FF",
           "#FECB52"
          ],
          "font": {
           "color": "#2a3f5f"
          },
          "geo": {
           "bgcolor": "white",
           "lakecolor": "white",
           "landcolor": "#E5ECF6",
           "showlakes": true,
           "showland": true,
           "subunitcolor": "white"
          },
          "hoverlabel": {
           "align": "left"
          },
          "hovermode": "closest",
          "mapbox": {
           "style": "light"
          },
          "paper_bgcolor": "white",
          "plot_bgcolor": "#E5ECF6",
          "polar": {
           "angularaxis": {
            "gridcolor": "white",
            "linecolor": "white",
            "ticks": ""
           },
           "bgcolor": "#E5ECF6",
           "radialaxis": {
            "gridcolor": "white",
            "linecolor": "white",
            "ticks": ""
           }
          },
          "scene": {
           "xaxis": {
            "backgroundcolor": "#E5ECF6",
            "gridcolor": "white",
            "gridwidth": 2,
            "linecolor": "white",
            "showbackground": true,
            "ticks": "",
            "zerolinecolor": "white"
           },
           "yaxis": {
            "backgroundcolor": "#E5ECF6",
            "gridcolor": "white",
            "gridwidth": 2,
            "linecolor": "white",
            "showbackground": true,
            "ticks": "",
            "zerolinecolor": "white"
           },
           "zaxis": {
            "backgroundcolor": "#E5ECF6",
            "gridcolor": "white",
            "gridwidth": 2,
            "linecolor": "white",
            "showbackground": true,
            "ticks": "",
            "zerolinecolor": "white"
           }
          },
          "shapedefaults": {
           "line": {
            "color": "#2a3f5f"
           }
          },
          "ternary": {
           "aaxis": {
            "gridcolor": "white",
            "linecolor": "white",
            "ticks": ""
           },
           "baxis": {
            "gridcolor": "white",
            "linecolor": "white",
            "ticks": ""
           },
           "bgcolor": "#E5ECF6",
           "caxis": {
            "gridcolor": "white",
            "linecolor": "white",
            "ticks": ""
           }
          },
          "title": {
           "x": 0.05
          },
          "xaxis": {
           "automargin": true,
           "gridcolor": "white",
           "linecolor": "white",
           "ticks": "",
           "title": {
            "standoff": 15
           },
           "zerolinecolor": "white",
           "zerolinewidth": 2
          },
          "yaxis": {
           "automargin": true,
           "gridcolor": "white",
           "linecolor": "white",
           "ticks": "",
           "title": {
            "standoff": 15
           },
           "zerolinecolor": "white",
           "zerolinewidth": 2
          }
         }
        },
        "width": 600,
        "xaxis": {
         "range": [
          0,
          128
         ],
         "title": {
          "text": "x centroid"
         }
        },
        "yaxis": {
         "range": [
          0,
          64
         ],
         "title": {
          "text": "# rois"
         }
        }
       }
      }
     },
     "metadata": {},
     "output_type": "display_data"
    },
    {
     "data": {
      "application/vnd.plotly.v1+json": {
       "config": {
        "plotlyServerURL": "https://plot.ly"
       },
       "data": [
        {
         "name": "moving stripes",
         "opacity": 0.75,
         "type": "histogram",
         "y": [
          47,
          41,
          50.56666666666667,
          40.72727272727273,
          50.5,
          52.804878048780495,
          34.0263157894737,
          28.78947368421052,
          45,
          44,
          50.75,
          47.65625,
          43.04761904761905,
          23.9375,
          51.85714285714286,
          45.40625,
          50.03225806451613,
          47,
          49,
          49,
          33,
          26.666666666666657,
          27,
          53.74285714285713,
          49,
          55.97142857142859,
          50.27027027027026,
          53.029411764705856,
          57.641025641025635,
          48,
          49.030303030303,
          45.27272727272725,
          58.89473684210526,
          45.375,
          47,
          48,
          59.62857142857143,
          53.099999999999994,
          54.333333333333336,
          52.666666666666664,
          60.48148148148147,
          45.05882352941177,
          58.46428571428572,
          50.5,
          46.352941176470594,
          48.5,
          56.9,
          41.5,
          49,
          59.33333333333334,
          49.69999999999999,
          59,
          8,
          53,
          56,
          51,
          47,
          57,
          52,
          58
         ],
         "ybins": {
          "size": 10
         }
        },
        {
         "name": "dots_ON",
         "opacity": 0.75,
         "type": "histogram",
         "y": [
          31,
          56,
          58.51428571428571,
          27.83783783783784,
          55.81081081081081,
          33.29411764705881,
          35.14705882352942,
          38.61290322580646,
          52.5,
          40,
          20.705882352941188,
          46,
          26,
          44.375,
          31,
          26,
          38.69999999999999,
          39.93333333333334,
          27,
          47,
          36,
          31,
          41,
          50.56666666666667,
          47,
          31.09375,
          27.5,
          35,
          40.72727272727273,
          50.5,
          30.14705882352942,
          34.44117647058823,
          34.27777777777777,
          39.258064516129025,
          52.804878048780495,
          30.18421052631578,
          34.0263157894737,
          28.78947368421052,
          39.27272727272728,
          39.111111111111114,
          45,
          37.53333333333333,
          44,
          34.27272727272728,
          53.9,
          50.75,
          34.16216216216216,
          18.97435897435895,
          47.65625,
          43.04761904761905,
          29.444444444444457,
          33.5,
          40.16216216216219,
          38.33333333333334,
          45.225806451612925,
          51.85714285714286,
          26.69999999999999,
          45.40625,
          44.24242424242425,
          37,
          36.90625,
          27,
          50.03225806451613,
          22.774193548387103,
          23.52173913043478,
          33.30000000000001,
          46,
          49,
          19,
          45.33333333333334,
          37.17948717948718,
          24.818181818181813,
          52.666666666666664,
          53.642857142857146,
          46.48387096774192,
          28,
          47.08333333333333,
          61.75,
          36.666666666666664,
          56.66666666666667,
          59.33333333333334,
          59,
          61,
          12,
          55,
          35,
          56,
          48.33333333333333,
          54,
          43,
          55,
          39,
          20,
          23.05000000000001,
          27.86486486486487,
          60.96875,
          40.5,
          31.861111111111114,
          44.18421052631578,
          59.419354838709666,
          29.025000000000006,
          18.120000000000005,
          35.22222222222223,
          33.848484848484844,
          35.529411764705884,
          19.400000000000006,
          40.111111111111114,
          25.5,
          18.4375,
          59.625,
          26.76666666666668,
          24.454545454545467,
          57.83870967741935,
          40.33333333333333,
          25.608695652173907,
          48.47619047619048,
          17.454545454545467,
          55.66666666666667,
          41.5,
          42.77777777777777,
          44.33333333333333,
          41,
          55.84615384615385,
          46.80000000000001,
          40.5,
          23.33333333333333,
          31.852941176470587,
          35.17142857142857,
          53.74285714285713,
          29.366666666666667,
          49,
          55.97142857142859,
          50.27027027027026,
          53.029411764705856,
          52,
          41.1875,
          49.71052631578948,
          27.27027027027026,
          33.514285714285705,
          28.787878787878782,
          31.97222222222223,
          52,
          57.641025641025635,
          58.53333333333333,
          48,
          30.690476190476204,
          37.096774193548384,
          38.06060606060606,
          49.030303030303,
          45.27272727272725,
          28.882352941176464,
          58.89473684210526,
          43.57142857142857,
          45.375,
          33,
          47,
          20,
          48,
          24.09375,
          59.62857142857143,
          30.86486486486487,
          53.099999999999994,
          60.15625,
          40.77142857142857,
          54.333333333333336,
          43.6,
          60.48148148148147,
          31.181818181818187,
          37.064516129032256,
          27.78125,
          44.81818181818181,
          37.24242424242425,
          45.05882352941177,
          40.1875,
          49.97297297297297,
          34.05555555555556,
          56.03125,
          58.46428571428572,
          34.689655172413794,
          34.071428571428584,
          38.16666666666667,
          58,
          50.5,
          46.352941176470594,
          51.05882352941177,
          48.5,
          56.9,
          41.5,
          48.739130434782595,
          37.23333333333332,
          38.66666666666667,
          35,
          41.375,
          36.83333333333334,
          49.69999999999999,
          39.29411764705881,
          61.75,
          61.666666666666664
         ],
         "ybins": {
          "size": 10
         }
        },
        {
         "name": "dots_OFF",
         "opacity": 0.75,
         "type": "histogram",
         "y": [
          47,
          47,
          40.72727272727273,
          47.65625,
          51.85714285714286,
          49,
          7
         ],
         "ybins": {
          "size": 10
         }
        },
        {
         "name": "loom",
         "opacity": 0.75,
         "type": "histogram",
         "y": [
          47,
          36,
          31,
          29.35483870967742,
          41,
          50.56666666666667,
          47,
          28,
          27,
          27,
          23.729729729729726,
          27.5,
          31,
          56,
          24.135135135135137,
          58.51428571428571,
          27.83783783783784,
          35,
          40.72727272727273,
          55.81081081081081,
          58.54545454545455,
          50.5,
          30.14705882352942,
          37,
          24.76315789473685,
          24.272727272727266,
          43,
          49,
          34.44117647058823,
          56.45454545454545,
          33.29411764705881,
          35.91891891891892,
          34.27777777777777,
          56,
          39.258064516129025,
          35.14705882352942,
          24.727272727272734,
          23.636363636363637,
          52.804878048780495,
          34,
          38.61290322580646,
          30.18421052631578,
          30,
          34.0263157894737,
          23.657142857142844,
          52.5,
          24.85294117647058,
          28.78947368421052,
          26.358974358974365,
          40,
          50,
          39.27272727272728,
          39.111111111111114,
          20.705882352941188,
          46,
          37.53333333333333,
          13.870967741935488,
          25.72222222222223,
          18.974358974358978,
          51.27272727272728,
          42,
          34.27272727272728,
          15.277777777777771,
          53.9,
          26,
          50.75,
          46,
          42.72222222222223,
          44.375,
          33,
          23.058823529411768,
          14.84375,
          52.5,
          45,
          28.064516129032256,
          34.16216216216216,
          18.97435897435895,
          28.53333333333333,
          47.65625,
          43.04761904761905,
          29.444444444444457,
          25,
          53.5,
          35.30555555555554,
          31.636363636363637,
          19.84210526315789,
          46,
          32.80000000000001,
          34.96875,
          32.22222222222223,
          54.27777777777777,
          48,
          33.5,
          36.87096774193549,
          56.23684210526316,
          21.756756756756744,
          18.393939393939394,
          40.16216216216219,
          47,
          39.23333333333332,
          46.51612903225808,
          37.263157894736835,
          31,
          38.33333333333334,
          31,
          45.78787878787878,
          28,
          56.875,
          23.9375,
          16.818181818181813,
          37.58823529411765,
          26,
          30,
          26,
          53.82857142857143,
          50.30000000000001,
          15.358974358974365,
          50.75,
          25.399999999999977,
          20.903225806451616,
          57.07692307692308,
          51.935483870967744,
          14.899999999999977,
          50.484848484848484,
          58.096774193548384,
          39.12903225806451,
          31.25806451612904,
          26.69999999999999,
          54.166666666666664,
          45.94285714285715,
          34.133333333333326,
          44.309523809523796,
          12.051282051282044,
          47.638888888888886,
          44.388888888888886,
          56.71428571428572,
          45.40625,
          41.73333333333332,
          37.666666666666664,
          49.16666666666667,
          47.5,
          44.24242424242425,
          44.60714285714286,
          23.5,
          10.5,
          18.94999999999999,
          33,
          22.75,
          33.35714285714283,
          18.72222222222223,
          28.032258064516128,
          12.63157894736841,
          27.14705882352939,
          24.100000000000023,
          26.791666666666657,
          34.25,
          27,
          38.69999999999999,
          50.03225806451613,
          31.78125,
          21.900000000000006,
          18.657142857142844,
          52.55555555555556,
          31.5,
          30.85714285714286,
          32.5,
          12.741935483870975,
          28.9375,
          27.5,
          19.441176470588232,
          36.39393939393938,
          42.2,
          22.774193548387103,
          10.949999999999989,
          32.35714285714286,
          14,
          21.80000000000001,
          21.82608695652175,
          22.30000000000001,
          42.9375,
          16.19354838709677,
          19.6875,
          10.800000000000011,
          13,
          52.064516129032256,
          39.17142857142858,
          38.5,
          19.25806451612904,
          9.5625,
          18.28,
          40.23529411764707,
          32.970588235294116,
          39.93333333333334,
          18.933333333333337,
          37.92307692307692,
          30,
          33.925925925925924,
          51.866666666666674,
          11.444444444444457,
          16.636363636363626,
          25.80645161290323,
          46.44444444444446,
          34.31999999999999,
          41,
          39.73333333333332,
          49,
          43.5,
          26,
          25.285714285714278,
          40.75,
          9.428571428571416,
          28,
          35.90909090909091,
          21.136363636363626,
          10,
          7,
          10,
          22.799999999999997,
          14.333333333333314,
          33,
          7.666666666666667,
          12,
          15.75,
          19.171428571428578,
          45,
          44,
          50.16216216216219,
          45.225806451612925,
          49.25,
          51.85714285714286,
          24,
          34,
          36.90625,
          52.621621621621614,
          23.52173913043478,
          37.214285714285715,
          33.05263157894737,
          51.470588235294116,
          20.83333333333333,
          30.666666666666686,
          49.125,
          6.461538461538453,
          40,
          7,
          35.71428571428571,
          42.66666666666666,
          18,
          14.666666666666657,
          19.5,
          32.5,
          45.33333333333334,
          13,
          26.666666666666657,
          14,
          48,
          44.33333333333333,
          29,
          15,
          6,
          30,
          27,
          36,
          55,
          32,
          29,
          33,
          34,
          34,
          31,
          29.5,
          29,
          28.676470588235304,
          31.264705882352928,
          31,
          33.641025641025635,
          38.67567567567568,
          35.690476190476204,
          27.23333333333335,
          31.852941176470587,
          29.058823529411764,
          56,
          35.17142857142857,
          28.181818181818183,
          53.74285714285713,
          37.375,
          26,
          27.26666666666665,
          35.14705882352942,
          29.366666666666667,
          39.875,
          49,
          39.06060606060606,
          51.125,
          39.17142857142858,
          30,
          37.19999999999999,
          61.30555555555556,
          37.5,
          55.97142857142859,
          43.10000000000002,
          26.567567567567565,
          50.27027027027026,
          53.029411764705856,
          52,
          29.741935483870975,
          60.96875,
          49.71052631578948,
          28.787878787878782,
          35.66666666666666,
          28.433333333333337,
          52,
          57.641025641025635,
          24.285714285714278,
          58.53333333333333,
          48,
          30.690476190476204,
          40.5,
          37.096774193548384,
          49.030303030303,
          45.27272727272725,
          55.94444444444446,
          26.599999999999994,
          31.861111111111114,
          28.19230769230768,
          28.882352941176464,
          59.419354838709666,
          58.89473684210526,
          43.57142857142857,
          45.375,
          33,
          37.17142857142858,
          44.419354838709694,
          29.025000000000006,
          59.62857142857143,
          53.099999999999994,
          60.15625,
          40.77142857142857,
          33.848484848484844,
          54.333333333333336,
          52.666666666666664,
          43.6,
          35.529411764705884,
          60.48148148148147,
          31.181818181818187,
          45.36363636363636,
          40.111111111111114,
          37.24242424242425,
          45.05882352941177,
          49.97297297297297,
          34.05555555555556,
          60.470588235294144,
          56.03125,
          58.46428571428572,
          34.689655172413794,
          18.4375,
          46.352941176470594,
          61,
          51.05882352941177,
          48.5,
          42.935483870967744,
          56.9,
          41.5,
          20.117647058823536,
          42.55882352941177,
          26.76666666666668,
          24.454545454545467,
          60.77777777777777,
          57.83870967741935,
          58.666666666666664,
          48.47619047619048,
          49.69999999999999,
          31,
          52,
          28.852941176470594,
          36.090909090909065,
          37.17948717948718,
          24.705882352941188,
          29.83870967741936,
          24.02380952380952,
          37.17948717948718,
          21,
          35.714285714285715,
          36.34375,
          35.16216216216219,
          24.818181818181813,
          41.1875,
          31.97222222222223,
          21.772727272727266,
          37,
          35.22222222222223,
          44.81818181818181,
          40.1875,
          46.48387096774192,
          61.666666666666686,
          38.16666666666667,
          49.666666666666686,
          38.8,
          48.739130434782595,
          52.16666666666667,
          37.23333333333332,
          49.473684210526315,
          40.19999999999999,
          42.419354838709666,
          61.30000000000001,
          22.22222222222223,
          30.75,
          6.333333333333329,
          41.375,
          14.5,
          34.22222222222223,
          42,
          45.5,
          51.09090909090909,
          61.166666666666664,
          41.5,
          18.888888888888914,
          50.5,
          55.84615384615385,
          55,
          57,
          34,
          56,
          48.33333333333333,
          45,
          12.666666666666657,
          59,
          37
         ],
         "ybins": {
          "size": 10
         }
        }
       ],
       "layout": {
        "barmode": "overlay",
        "height": 400,
        "margin": {
         "b": 20,
         "l": 20,
         "r": 20,
         "t": 20
        },
        "template": {
         "data": {
          "bar": [
           {
            "error_x": {
             "color": "#2a3f5f"
            },
            "error_y": {
             "color": "#2a3f5f"
            },
            "marker": {
             "line": {
              "color": "#E5ECF6",
              "width": 0.5
             },
             "pattern": {
              "fillmode": "overlay",
              "size": 10,
              "solidity": 0.2
             }
            },
            "type": "bar"
           }
          ],
          "barpolar": [
           {
            "marker": {
             "line": {
              "color": "#E5ECF6",
              "width": 0.5
             },
             "pattern": {
              "fillmode": "overlay",
              "size": 10,
              "solidity": 0.2
             }
            },
            "type": "barpolar"
           }
          ],
          "carpet": [
           {
            "aaxis": {
             "endlinecolor": "#2a3f5f",
             "gridcolor": "white",
             "linecolor": "white",
             "minorgridcolor": "white",
             "startlinecolor": "#2a3f5f"
            },
            "baxis": {
             "endlinecolor": "#2a3f5f",
             "gridcolor": "white",
             "linecolor": "white",
             "minorgridcolor": "white",
             "startlinecolor": "#2a3f5f"
            },
            "type": "carpet"
           }
          ],
          "choropleth": [
           {
            "colorbar": {
             "outlinewidth": 0,
             "ticks": ""
            },
            "type": "choropleth"
           }
          ],
          "contour": [
           {
            "colorbar": {
             "outlinewidth": 0,
             "ticks": ""
            },
            "colorscale": [
             [
              0,
              "#0d0887"
             ],
             [
              0.1111111111111111,
              "#46039f"
             ],
             [
              0.2222222222222222,
              "#7201a8"
             ],
             [
              0.3333333333333333,
              "#9c179e"
             ],
             [
              0.4444444444444444,
              "#bd3786"
             ],
             [
              0.5555555555555556,
              "#d8576b"
             ],
             [
              0.6666666666666666,
              "#ed7953"
             ],
             [
              0.7777777777777778,
              "#fb9f3a"
             ],
             [
              0.8888888888888888,
              "#fdca26"
             ],
             [
              1,
              "#f0f921"
             ]
            ],
            "type": "contour"
           }
          ],
          "contourcarpet": [
           {
            "colorbar": {
             "outlinewidth": 0,
             "ticks": ""
            },
            "type": "contourcarpet"
           }
          ],
          "heatmap": [
           {
            "colorbar": {
             "outlinewidth": 0,
             "ticks": ""
            },
            "colorscale": [
             [
              0,
              "#0d0887"
             ],
             [
              0.1111111111111111,
              "#46039f"
             ],
             [
              0.2222222222222222,
              "#7201a8"
             ],
             [
              0.3333333333333333,
              "#9c179e"
             ],
             [
              0.4444444444444444,
              "#bd3786"
             ],
             [
              0.5555555555555556,
              "#d8576b"
             ],
             [
              0.6666666666666666,
              "#ed7953"
             ],
             [
              0.7777777777777778,
              "#fb9f3a"
             ],
             [
              0.8888888888888888,
              "#fdca26"
             ],
             [
              1,
              "#f0f921"
             ]
            ],
            "type": "heatmap"
           }
          ],
          "heatmapgl": [
           {
            "colorbar": {
             "outlinewidth": 0,
             "ticks": ""
            },
            "colorscale": [
             [
              0,
              "#0d0887"
             ],
             [
              0.1111111111111111,
              "#46039f"
             ],
             [
              0.2222222222222222,
              "#7201a8"
             ],
             [
              0.3333333333333333,
              "#9c179e"
             ],
             [
              0.4444444444444444,
              "#bd3786"
             ],
             [
              0.5555555555555556,
              "#d8576b"
             ],
             [
              0.6666666666666666,
              "#ed7953"
             ],
             [
              0.7777777777777778,
              "#fb9f3a"
             ],
             [
              0.8888888888888888,
              "#fdca26"
             ],
             [
              1,
              "#f0f921"
             ]
            ],
            "type": "heatmapgl"
           }
          ],
          "histogram": [
           {
            "marker": {
             "pattern": {
              "fillmode": "overlay",
              "size": 10,
              "solidity": 0.2
             }
            },
            "type": "histogram"
           }
          ],
          "histogram2d": [
           {
            "colorbar": {
             "outlinewidth": 0,
             "ticks": ""
            },
            "colorscale": [
             [
              0,
              "#0d0887"
             ],
             [
              0.1111111111111111,
              "#46039f"
             ],
             [
              0.2222222222222222,
              "#7201a8"
             ],
             [
              0.3333333333333333,
              "#9c179e"
             ],
             [
              0.4444444444444444,
              "#bd3786"
             ],
             [
              0.5555555555555556,
              "#d8576b"
             ],
             [
              0.6666666666666666,
              "#ed7953"
             ],
             [
              0.7777777777777778,
              "#fb9f3a"
             ],
             [
              0.8888888888888888,
              "#fdca26"
             ],
             [
              1,
              "#f0f921"
             ]
            ],
            "type": "histogram2d"
           }
          ],
          "histogram2dcontour": [
           {
            "colorbar": {
             "outlinewidth": 0,
             "ticks": ""
            },
            "colorscale": [
             [
              0,
              "#0d0887"
             ],
             [
              0.1111111111111111,
              "#46039f"
             ],
             [
              0.2222222222222222,
              "#7201a8"
             ],
             [
              0.3333333333333333,
              "#9c179e"
             ],
             [
              0.4444444444444444,
              "#bd3786"
             ],
             [
              0.5555555555555556,
              "#d8576b"
             ],
             [
              0.6666666666666666,
              "#ed7953"
             ],
             [
              0.7777777777777778,
              "#fb9f3a"
             ],
             [
              0.8888888888888888,
              "#fdca26"
             ],
             [
              1,
              "#f0f921"
             ]
            ],
            "type": "histogram2dcontour"
           }
          ],
          "mesh3d": [
           {
            "colorbar": {
             "outlinewidth": 0,
             "ticks": ""
            },
            "type": "mesh3d"
           }
          ],
          "parcoords": [
           {
            "line": {
             "colorbar": {
              "outlinewidth": 0,
              "ticks": ""
             }
            },
            "type": "parcoords"
           }
          ],
          "pie": [
           {
            "automargin": true,
            "type": "pie"
           }
          ],
          "scatter": [
           {
            "fillpattern": {
             "fillmode": "overlay",
             "size": 10,
             "solidity": 0.2
            },
            "type": "scatter"
           }
          ],
          "scatter3d": [
           {
            "line": {
             "colorbar": {
              "outlinewidth": 0,
              "ticks": ""
             }
            },
            "marker": {
             "colorbar": {
              "outlinewidth": 0,
              "ticks": ""
             }
            },
            "type": "scatter3d"
           }
          ],
          "scattercarpet": [
           {
            "marker": {
             "colorbar": {
              "outlinewidth": 0,
              "ticks": ""
             }
            },
            "type": "scattercarpet"
           }
          ],
          "scattergeo": [
           {
            "marker": {
             "colorbar": {
              "outlinewidth": 0,
              "ticks": ""
             }
            },
            "type": "scattergeo"
           }
          ],
          "scattergl": [
           {
            "marker": {
             "colorbar": {
              "outlinewidth": 0,
              "ticks": ""
             }
            },
            "type": "scattergl"
           }
          ],
          "scattermapbox": [
           {
            "marker": {
             "colorbar": {
              "outlinewidth": 0,
              "ticks": ""
             }
            },
            "type": "scattermapbox"
           }
          ],
          "scatterpolar": [
           {
            "marker": {
             "colorbar": {
              "outlinewidth": 0,
              "ticks": ""
             }
            },
            "type": "scatterpolar"
           }
          ],
          "scatterpolargl": [
           {
            "marker": {
             "colorbar": {
              "outlinewidth": 0,
              "ticks": ""
             }
            },
            "type": "scatterpolargl"
           }
          ],
          "scatterternary": [
           {
            "marker": {
             "colorbar": {
              "outlinewidth": 0,
              "ticks": ""
             }
            },
            "type": "scatterternary"
           }
          ],
          "surface": [
           {
            "colorbar": {
             "outlinewidth": 0,
             "ticks": ""
            },
            "colorscale": [
             [
              0,
              "#0d0887"
             ],
             [
              0.1111111111111111,
              "#46039f"
             ],
             [
              0.2222222222222222,
              "#7201a8"
             ],
             [
              0.3333333333333333,
              "#9c179e"
             ],
             [
              0.4444444444444444,
              "#bd3786"
             ],
             [
              0.5555555555555556,
              "#d8576b"
             ],
             [
              0.6666666666666666,
              "#ed7953"
             ],
             [
              0.7777777777777778,
              "#fb9f3a"
             ],
             [
              0.8888888888888888,
              "#fdca26"
             ],
             [
              1,
              "#f0f921"
             ]
            ],
            "type": "surface"
           }
          ],
          "table": [
           {
            "cells": {
             "fill": {
              "color": "#EBF0F8"
             },
             "line": {
              "color": "white"
             }
            },
            "header": {
             "fill": {
              "color": "#C8D4E3"
             },
             "line": {
              "color": "white"
             }
            },
            "type": "table"
           }
          ]
         },
         "layout": {
          "annotationdefaults": {
           "arrowcolor": "#2a3f5f",
           "arrowhead": 0,
           "arrowwidth": 1
          },
          "autotypenumbers": "strict",
          "coloraxis": {
           "colorbar": {
            "outlinewidth": 0,
            "ticks": ""
           }
          },
          "colorscale": {
           "diverging": [
            [
             0,
             "#8e0152"
            ],
            [
             0.1,
             "#c51b7d"
            ],
            [
             0.2,
             "#de77ae"
            ],
            [
             0.3,
             "#f1b6da"
            ],
            [
             0.4,
             "#fde0ef"
            ],
            [
             0.5,
             "#f7f7f7"
            ],
            [
             0.6,
             "#e6f5d0"
            ],
            [
             0.7,
             "#b8e186"
            ],
            [
             0.8,
             "#7fbc41"
            ],
            [
             0.9,
             "#4d9221"
            ],
            [
             1,
             "#276419"
            ]
           ],
           "sequential": [
            [
             0,
             "#0d0887"
            ],
            [
             0.1111111111111111,
             "#46039f"
            ],
            [
             0.2222222222222222,
             "#7201a8"
            ],
            [
             0.3333333333333333,
             "#9c179e"
            ],
            [
             0.4444444444444444,
             "#bd3786"
            ],
            [
             0.5555555555555556,
             "#d8576b"
            ],
            [
             0.6666666666666666,
             "#ed7953"
            ],
            [
             0.7777777777777778,
             "#fb9f3a"
            ],
            [
             0.8888888888888888,
             "#fdca26"
            ],
            [
             1,
             "#f0f921"
            ]
           ],
           "sequentialminus": [
            [
             0,
             "#0d0887"
            ],
            [
             0.1111111111111111,
             "#46039f"
            ],
            [
             0.2222222222222222,
             "#7201a8"
            ],
            [
             0.3333333333333333,
             "#9c179e"
            ],
            [
             0.4444444444444444,
             "#bd3786"
            ],
            [
             0.5555555555555556,
             "#d8576b"
            ],
            [
             0.6666666666666666,
             "#ed7953"
            ],
            [
             0.7777777777777778,
             "#fb9f3a"
            ],
            [
             0.8888888888888888,
             "#fdca26"
            ],
            [
             1,
             "#f0f921"
            ]
           ]
          },
          "colorway": [
           "#636efa",
           "#EF553B",
           "#00cc96",
           "#ab63fa",
           "#FFA15A",
           "#19d3f3",
           "#FF6692",
           "#B6E880",
           "#FF97FF",
           "#FECB52"
          ],
          "font": {
           "color": "#2a3f5f"
          },
          "geo": {
           "bgcolor": "white",
           "lakecolor": "white",
           "landcolor": "#E5ECF6",
           "showlakes": true,
           "showland": true,
           "subunitcolor": "white"
          },
          "hoverlabel": {
           "align": "left"
          },
          "hovermode": "closest",
          "mapbox": {
           "style": "light"
          },
          "paper_bgcolor": "white",
          "plot_bgcolor": "#E5ECF6",
          "polar": {
           "angularaxis": {
            "gridcolor": "white",
            "linecolor": "white",
            "ticks": ""
           },
           "bgcolor": "#E5ECF6",
           "radialaxis": {
            "gridcolor": "white",
            "linecolor": "white",
            "ticks": ""
           }
          },
          "scene": {
           "xaxis": {
            "backgroundcolor": "#E5ECF6",
            "gridcolor": "white",
            "gridwidth": 2,
            "linecolor": "white",
            "showbackground": true,
            "ticks": "",
            "zerolinecolor": "white"
           },
           "yaxis": {
            "backgroundcolor": "#E5ECF6",
            "gridcolor": "white",
            "gridwidth": 2,
            "linecolor": "white",
            "showbackground": true,
            "ticks": "",
            "zerolinecolor": "white"
           },
           "zaxis": {
            "backgroundcolor": "#E5ECF6",
            "gridcolor": "white",
            "gridwidth": 2,
            "linecolor": "white",
            "showbackground": true,
            "ticks": "",
            "zerolinecolor": "white"
           }
          },
          "shapedefaults": {
           "line": {
            "color": "#2a3f5f"
           }
          },
          "ternary": {
           "aaxis": {
            "gridcolor": "white",
            "linecolor": "white",
            "ticks": ""
           },
           "baxis": {
            "gridcolor": "white",
            "linecolor": "white",
            "ticks": ""
           },
           "bgcolor": "#E5ECF6",
           "caxis": {
            "gridcolor": "white",
            "linecolor": "white",
            "ticks": ""
           }
          },
          "title": {
           "x": 0.05
          },
          "xaxis": {
           "automargin": true,
           "gridcolor": "white",
           "linecolor": "white",
           "ticks": "",
           "title": {
            "standoff": 15
           },
           "zerolinecolor": "white",
           "zerolinewidth": 2
          },
          "yaxis": {
           "automargin": true,
           "gridcolor": "white",
           "linecolor": "white",
           "ticks": "",
           "title": {
            "standoff": 15
           },
           "zerolinecolor": "white",
           "zerolinewidth": 2
          }
         }
        },
        "width": 400,
        "xaxis": {
         "title": {
          "text": "Count"
         }
        },
        "yaxis": {
         "title": {
          "text": "y_centroid"
         }
        }
       }
      }
     },
     "metadata": {},
     "output_type": "display_data"
    }
   ],
   "source": [
    "import plotly.graph_objects as go\n",
    "\n",
    "fig = go.Figure()\n",
    "\n",
    "# Loop through each unique value of 'stimtype'\n",
    "#for stim in pooled_data['stimtype'].unique():\n",
    "for stim in ['loom', 'moving stripes', 'dots_OFF']:\n",
    "    filtered_data = pooled_data[pooled_data['stimtype'] == stim]\n",
    "    fig.add_trace(go.Histogram(x=filtered_data['x_centroid'], name=stim, \n",
    "                               ybins = dict(  \n",
    "            start=0,\n",
    "            end=512,\n",
    "            size=50)\n",
    "        ))  # Set nbinsx to desired number of bins\n",
    "\n",
    "# Update the layout\n",
    "fig.update_layout(barmode='overlay', yaxis_title='# rois', xaxis_title='x centroid', width=600, height=300, margin=dict(l=20, r=20, t=20, b=20),)\n",
    "fig.update_traces(opacity=0.75)\n",
    "fig.update_xaxes(range=[0, 128])  # Disable gridlines for x-axis\n",
    "fig.update_yaxes(range=[0,64])  # Disable gridlines for y-axis\n",
    "\n",
    "fig.show()\n",
    "\n",
    "fig2 = go.Figure()\n",
    "\n",
    "# Loop through each unique value of 'stimtype'\n",
    "for stim in pooled_data['stimtype'].unique():\n",
    "    filtered_data = pooled_data[pooled_data['stimtype'] == stim]\n",
    "    fig2.add_trace(go.Histogram(y=filtered_data['y_centroid']%y_res, name=stim, \n",
    "                               ybins = dict(  \n",
    "            # start=0,\n",
    "            # end=128,\n",
    "            size=10)\n",
    "        ))  # Set nbinsx to desired number of bins\n",
    "\n",
    "# Update the layout\n",
    "fig2.update_layout(barmode='overlay', yaxis_title='y_centroid', xaxis_title='Count', width=400, height=400, margin=dict(l=20, r=20, t=20, b=20),)\n",
    "fig2.update_traces(opacity=0.75)\n",
    "#fig.update_xaxes(range=[0, 100])  # Disable gridlines for x-axis\n",
    "#fig.update_yaxes(range=[0,128])  # Disable gridlines for y-axis\n",
    "\n",
    "fig2.show()"
   ]
  },
  {
   "cell_type": "code",
   "execution_count": 30,
   "metadata": {},
   "outputs": [
    {
     "data": {
      "application/vnd.plotly.v1+json": {
       "config": {
        "plotlyServerURL": "https://plot.ly"
       },
       "data": [
        {
         "name": "loom",
         "opacity": 0.75,
         "type": "bar",
         "width": 50,
         "x": [
          0,
          50,
          100,
          150,
          200,
          250,
          300,
          350,
          400,
          450,
          500,
          550,
          600
         ],
         "y": [
          4.143283843994141,
          97.11548912525177,
          208.01384842395782,
          256.36725533008575,
          176.66744911670685,
          116.91246902942657,
          119.16404056549072,
          151.7397117614746,
          120.77309310436249,
          103.24341917037964,
          54.9067941904068,
          24.6408132314682,
          0
         ]
        },
        {
         "name": "moving stripes",
         "opacity": 0.75,
         "type": "bar",
         "width": 50,
         "x": [
          0,
          50,
          100,
          150,
          200,
          250,
          300,
          350,
          400,
          450,
          500,
          550,
          600
         ],
         "y": [
          0,
          0,
          0,
          0,
          0,
          9.709372282028198,
          64.55809581279755,
          110.31500720977783,
          48.952163219451904,
          3.8130158185958862,
          1.850557565689087,
          0,
          0
         ]
        },
        {
         "name": "dots_OFF",
         "opacity": 0.75,
         "type": "bar",
         "width": 50,
         "x": [
          0,
          50,
          100,
          150,
          200,
          250,
          300,
          350,
          400,
          450,
          500,
          550,
          600
         ],
         "y": [
          0,
          0,
          0,
          0,
          0,
          1.9778163433074951,
          6.812358021736145,
          11.018890142440796,
          0,
          0,
          0,
          0,
          0
         ]
        }
       ],
       "layout": {
        "barmode": "overlay",
        "height": 300,
        "margin": {
         "b": 20,
         "l": 20,
         "r": 20,
         "t": 20
        },
        "template": {
         "data": {
          "bar": [
           {
            "error_x": {
             "color": "#2a3f5f"
            },
            "error_y": {
             "color": "#2a3f5f"
            },
            "marker": {
             "line": {
              "color": "#E5ECF6",
              "width": 0.5
             },
             "pattern": {
              "fillmode": "overlay",
              "size": 10,
              "solidity": 0.2
             }
            },
            "type": "bar"
           }
          ],
          "barpolar": [
           {
            "marker": {
             "line": {
              "color": "#E5ECF6",
              "width": 0.5
             },
             "pattern": {
              "fillmode": "overlay",
              "size": 10,
              "solidity": 0.2
             }
            },
            "type": "barpolar"
           }
          ],
          "carpet": [
           {
            "aaxis": {
             "endlinecolor": "#2a3f5f",
             "gridcolor": "white",
             "linecolor": "white",
             "minorgridcolor": "white",
             "startlinecolor": "#2a3f5f"
            },
            "baxis": {
             "endlinecolor": "#2a3f5f",
             "gridcolor": "white",
             "linecolor": "white",
             "minorgridcolor": "white",
             "startlinecolor": "#2a3f5f"
            },
            "type": "carpet"
           }
          ],
          "choropleth": [
           {
            "colorbar": {
             "outlinewidth": 0,
             "ticks": ""
            },
            "type": "choropleth"
           }
          ],
          "contour": [
           {
            "colorbar": {
             "outlinewidth": 0,
             "ticks": ""
            },
            "colorscale": [
             [
              0,
              "#0d0887"
             ],
             [
              0.1111111111111111,
              "#46039f"
             ],
             [
              0.2222222222222222,
              "#7201a8"
             ],
             [
              0.3333333333333333,
              "#9c179e"
             ],
             [
              0.4444444444444444,
              "#bd3786"
             ],
             [
              0.5555555555555556,
              "#d8576b"
             ],
             [
              0.6666666666666666,
              "#ed7953"
             ],
             [
              0.7777777777777778,
              "#fb9f3a"
             ],
             [
              0.8888888888888888,
              "#fdca26"
             ],
             [
              1,
              "#f0f921"
             ]
            ],
            "type": "contour"
           }
          ],
          "contourcarpet": [
           {
            "colorbar": {
             "outlinewidth": 0,
             "ticks": ""
            },
            "type": "contourcarpet"
           }
          ],
          "heatmap": [
           {
            "colorbar": {
             "outlinewidth": 0,
             "ticks": ""
            },
            "colorscale": [
             [
              0,
              "#0d0887"
             ],
             [
              0.1111111111111111,
              "#46039f"
             ],
             [
              0.2222222222222222,
              "#7201a8"
             ],
             [
              0.3333333333333333,
              "#9c179e"
             ],
             [
              0.4444444444444444,
              "#bd3786"
             ],
             [
              0.5555555555555556,
              "#d8576b"
             ],
             [
              0.6666666666666666,
              "#ed7953"
             ],
             [
              0.7777777777777778,
              "#fb9f3a"
             ],
             [
              0.8888888888888888,
              "#fdca26"
             ],
             [
              1,
              "#f0f921"
             ]
            ],
            "type": "heatmap"
           }
          ],
          "heatmapgl": [
           {
            "colorbar": {
             "outlinewidth": 0,
             "ticks": ""
            },
            "colorscale": [
             [
              0,
              "#0d0887"
             ],
             [
              0.1111111111111111,
              "#46039f"
             ],
             [
              0.2222222222222222,
              "#7201a8"
             ],
             [
              0.3333333333333333,
              "#9c179e"
             ],
             [
              0.4444444444444444,
              "#bd3786"
             ],
             [
              0.5555555555555556,
              "#d8576b"
             ],
             [
              0.6666666666666666,
              "#ed7953"
             ],
             [
              0.7777777777777778,
              "#fb9f3a"
             ],
             [
              0.8888888888888888,
              "#fdca26"
             ],
             [
              1,
              "#f0f921"
             ]
            ],
            "type": "heatmapgl"
           }
          ],
          "histogram": [
           {
            "marker": {
             "pattern": {
              "fillmode": "overlay",
              "size": 10,
              "solidity": 0.2
             }
            },
            "type": "histogram"
           }
          ],
          "histogram2d": [
           {
            "colorbar": {
             "outlinewidth": 0,
             "ticks": ""
            },
            "colorscale": [
             [
              0,
              "#0d0887"
             ],
             [
              0.1111111111111111,
              "#46039f"
             ],
             [
              0.2222222222222222,
              "#7201a8"
             ],
             [
              0.3333333333333333,
              "#9c179e"
             ],
             [
              0.4444444444444444,
              "#bd3786"
             ],
             [
              0.5555555555555556,
              "#d8576b"
             ],
             [
              0.6666666666666666,
              "#ed7953"
             ],
             [
              0.7777777777777778,
              "#fb9f3a"
             ],
             [
              0.8888888888888888,
              "#fdca26"
             ],
             [
              1,
              "#f0f921"
             ]
            ],
            "type": "histogram2d"
           }
          ],
          "histogram2dcontour": [
           {
            "colorbar": {
             "outlinewidth": 0,
             "ticks": ""
            },
            "colorscale": [
             [
              0,
              "#0d0887"
             ],
             [
              0.1111111111111111,
              "#46039f"
             ],
             [
              0.2222222222222222,
              "#7201a8"
             ],
             [
              0.3333333333333333,
              "#9c179e"
             ],
             [
              0.4444444444444444,
              "#bd3786"
             ],
             [
              0.5555555555555556,
              "#d8576b"
             ],
             [
              0.6666666666666666,
              "#ed7953"
             ],
             [
              0.7777777777777778,
              "#fb9f3a"
             ],
             [
              0.8888888888888888,
              "#fdca26"
             ],
             [
              1,
              "#f0f921"
             ]
            ],
            "type": "histogram2dcontour"
           }
          ],
          "mesh3d": [
           {
            "colorbar": {
             "outlinewidth": 0,
             "ticks": ""
            },
            "type": "mesh3d"
           }
          ],
          "parcoords": [
           {
            "line": {
             "colorbar": {
              "outlinewidth": 0,
              "ticks": ""
             }
            },
            "type": "parcoords"
           }
          ],
          "pie": [
           {
            "automargin": true,
            "type": "pie"
           }
          ],
          "scatter": [
           {
            "fillpattern": {
             "fillmode": "overlay",
             "size": 10,
             "solidity": 0.2
            },
            "type": "scatter"
           }
          ],
          "scatter3d": [
           {
            "line": {
             "colorbar": {
              "outlinewidth": 0,
              "ticks": ""
             }
            },
            "marker": {
             "colorbar": {
              "outlinewidth": 0,
              "ticks": ""
             }
            },
            "type": "scatter3d"
           }
          ],
          "scattercarpet": [
           {
            "marker": {
             "colorbar": {
              "outlinewidth": 0,
              "ticks": ""
             }
            },
            "type": "scattercarpet"
           }
          ],
          "scattergeo": [
           {
            "marker": {
             "colorbar": {
              "outlinewidth": 0,
              "ticks": ""
             }
            },
            "type": "scattergeo"
           }
          ],
          "scattergl": [
           {
            "marker": {
             "colorbar": {
              "outlinewidth": 0,
              "ticks": ""
             }
            },
            "type": "scattergl"
           }
          ],
          "scattermapbox": [
           {
            "marker": {
             "colorbar": {
              "outlinewidth": 0,
              "ticks": ""
             }
            },
            "type": "scattermapbox"
           }
          ],
          "scatterpolar": [
           {
            "marker": {
             "colorbar": {
              "outlinewidth": 0,
              "ticks": ""
             }
            },
            "type": "scatterpolar"
           }
          ],
          "scatterpolargl": [
           {
            "marker": {
             "colorbar": {
              "outlinewidth": 0,
              "ticks": ""
             }
            },
            "type": "scatterpolargl"
           }
          ],
          "scatterternary": [
           {
            "marker": {
             "colorbar": {
              "outlinewidth": 0,
              "ticks": ""
             }
            },
            "type": "scatterternary"
           }
          ],
          "surface": [
           {
            "colorbar": {
             "outlinewidth": 0,
             "ticks": ""
            },
            "colorscale": [
             [
              0,
              "#0d0887"
             ],
             [
              0.1111111111111111,
              "#46039f"
             ],
             [
              0.2222222222222222,
              "#7201a8"
             ],
             [
              0.3333333333333333,
              "#9c179e"
             ],
             [
              0.4444444444444444,
              "#bd3786"
             ],
             [
              0.5555555555555556,
              "#d8576b"
             ],
             [
              0.6666666666666666,
              "#ed7953"
             ],
             [
              0.7777777777777778,
              "#fb9f3a"
             ],
             [
              0.8888888888888888,
              "#fdca26"
             ],
             [
              1,
              "#f0f921"
             ]
            ],
            "type": "surface"
           }
          ],
          "table": [
           {
            "cells": {
             "fill": {
              "color": "#EBF0F8"
             },
             "line": {
              "color": "white"
             }
            },
            "header": {
             "fill": {
              "color": "#C8D4E3"
             },
             "line": {
              "color": "white"
             }
            },
            "type": "table"
           }
          ]
         },
         "layout": {
          "annotationdefaults": {
           "arrowcolor": "#2a3f5f",
           "arrowhead": 0,
           "arrowwidth": 1
          },
          "autotypenumbers": "strict",
          "coloraxis": {
           "colorbar": {
            "outlinewidth": 0,
            "ticks": ""
           }
          },
          "colorscale": {
           "diverging": [
            [
             0,
             "#8e0152"
            ],
            [
             0.1,
             "#c51b7d"
            ],
            [
             0.2,
             "#de77ae"
            ],
            [
             0.3,
             "#f1b6da"
            ],
            [
             0.4,
             "#fde0ef"
            ],
            [
             0.5,
             "#f7f7f7"
            ],
            [
             0.6,
             "#e6f5d0"
            ],
            [
             0.7,
             "#b8e186"
            ],
            [
             0.8,
             "#7fbc41"
            ],
            [
             0.9,
             "#4d9221"
            ],
            [
             1,
             "#276419"
            ]
           ],
           "sequential": [
            [
             0,
             "#0d0887"
            ],
            [
             0.1111111111111111,
             "#46039f"
            ],
            [
             0.2222222222222222,
             "#7201a8"
            ],
            [
             0.3333333333333333,
             "#9c179e"
            ],
            [
             0.4444444444444444,
             "#bd3786"
            ],
            [
             0.5555555555555556,
             "#d8576b"
            ],
            [
             0.6666666666666666,
             "#ed7953"
            ],
            [
             0.7777777777777778,
             "#fb9f3a"
            ],
            [
             0.8888888888888888,
             "#fdca26"
            ],
            [
             1,
             "#f0f921"
            ]
           ],
           "sequentialminus": [
            [
             0,
             "#0d0887"
            ],
            [
             0.1111111111111111,
             "#46039f"
            ],
            [
             0.2222222222222222,
             "#7201a8"
            ],
            [
             0.3333333333333333,
             "#9c179e"
            ],
            [
             0.4444444444444444,
             "#bd3786"
            ],
            [
             0.5555555555555556,
             "#d8576b"
            ],
            [
             0.6666666666666666,
             "#ed7953"
            ],
            [
             0.7777777777777778,
             "#fb9f3a"
            ],
            [
             0.8888888888888888,
             "#fdca26"
            ],
            [
             1,
             "#f0f921"
            ]
           ]
          },
          "colorway": [
           "#636efa",
           "#EF553B",
           "#00cc96",
           "#ab63fa",
           "#FFA15A",
           "#19d3f3",
           "#FF6692",
           "#B6E880",
           "#FF97FF",
           "#FECB52"
          ],
          "font": {
           "color": "#2a3f5f"
          },
          "geo": {
           "bgcolor": "white",
           "lakecolor": "white",
           "landcolor": "#E5ECF6",
           "showlakes": true,
           "showland": true,
           "subunitcolor": "white"
          },
          "hoverlabel": {
           "align": "left"
          },
          "hovermode": "closest",
          "mapbox": {
           "style": "light"
          },
          "paper_bgcolor": "white",
          "plot_bgcolor": "#E5ECF6",
          "polar": {
           "angularaxis": {
            "gridcolor": "white",
            "linecolor": "white",
            "ticks": ""
           },
           "bgcolor": "#E5ECF6",
           "radialaxis": {
            "gridcolor": "white",
            "linecolor": "white",
            "ticks": ""
           }
          },
          "scene": {
           "xaxis": {
            "backgroundcolor": "#E5ECF6",
            "gridcolor": "white",
            "gridwidth": 2,
            "linecolor": "white",
            "showbackground": true,
            "ticks": "",
            "zerolinecolor": "white"
           },
           "yaxis": {
            "backgroundcolor": "#E5ECF6",
            "gridcolor": "white",
            "gridwidth": 2,
            "linecolor": "white",
            "showbackground": true,
            "ticks": "",
            "zerolinecolor": "white"
           },
           "zaxis": {
            "backgroundcolor": "#E5ECF6",
            "gridcolor": "white",
            "gridwidth": 2,
            "linecolor": "white",
            "showbackground": true,
            "ticks": "",
            "zerolinecolor": "white"
           }
          },
          "shapedefaults": {
           "line": {
            "color": "#2a3f5f"
           }
          },
          "ternary": {
           "aaxis": {
            "gridcolor": "white",
            "linecolor": "white",
            "ticks": ""
           },
           "baxis": {
            "gridcolor": "white",
            "linecolor": "white",
            "ticks": ""
           },
           "bgcolor": "#E5ECF6",
           "caxis": {
            "gridcolor": "white",
            "linecolor": "white",
            "ticks": ""
           }
          },
          "title": {
           "x": 0.05
          },
          "xaxis": {
           "automargin": true,
           "gridcolor": "white",
           "linecolor": "white",
           "ticks": "",
           "title": {
            "standoff": 15
           },
           "zerolinecolor": "white",
           "zerolinewidth": 2
          },
          "yaxis": {
           "automargin": true,
           "gridcolor": "white",
           "linecolor": "white",
           "ticks": "",
           "title": {
            "standoff": 15
           },
           "zerolinecolor": "white",
           "zerolinewidth": 2
          }
         }
        },
        "width": 600,
        "xaxis": {
         "title": {
          "text": "x_centroid"
         }
        },
        "yaxis": {
         "title": {
          "text": "# rois (weighted by amplitude)"
         }
        }
       }
      }
     },
     "metadata": {},
     "output_type": "display_data"
    },
    {
     "data": {
      "application/vnd.plotly.v1+json": {
       "config": {
        "plotlyServerURL": "https://plot.ly"
       },
       "data": [
        {
         "name": "loom",
         "opacity": 0.75,
         "orientation": "h",
         "type": "bar",
         "width": 25,
         "x": [
          0,
          16.483237266540527,
          44.81287360191345,
          83.36110317707062,
          128.0729899406433,
          185.1869295835495,
          197.62364518642426,
          214.27570140361786,
          147.73098647594452,
          124.84242820739746,
          128.7595329284668,
          102.80235373973846,
          59.73588538169861
         ],
         "y": [
          0,
          25,
          50,
          75,
          100,
          125,
          150,
          175,
          200,
          225,
          250,
          275,
          300
         ]
        },
        {
         "name": "moving stripes",
         "opacity": 0.75,
         "orientation": "h",
         "type": "bar",
         "width": 25,
         "x": [
          0,
          2.4647319316864014,
          0,
          0,
          0,
          5.762696862220764,
          3.7087104320526123,
          1.6526689529418945,
          12.620105028152466,
          48.025066614151,
          83.05402624607086,
          49.25018334388733,
          32.660022497177124
         ],
         "y": [
          0,
          25,
          50,
          75,
          100,
          125,
          150,
          175,
          200,
          225,
          250,
          275,
          300
         ]
        },
        {
         "name": "dots_OFF",
         "opacity": 0.75,
         "orientation": "h",
         "type": "bar",
         "width": 25,
         "x": [
          0,
          1.9778163433074951,
          0,
          0,
          0,
          0,
          0,
          0,
          5.124996662139893,
          6.331907749176025,
          6.374343752861023,
          0,
          0
         ],
         "y": [
          0,
          25,
          50,
          75,
          100,
          125,
          150,
          175,
          200,
          225,
          250,
          275,
          300
         ]
        }
       ],
       "layout": {
        "barmode": "overlay",
        "height": 400,
        "margin": {
         "b": 20,
         "l": 20,
         "r": 20,
         "t": 20
        },
        "template": {
         "data": {
          "bar": [
           {
            "error_x": {
             "color": "#2a3f5f"
            },
            "error_y": {
             "color": "#2a3f5f"
            },
            "marker": {
             "line": {
              "color": "#E5ECF6",
              "width": 0.5
             },
             "pattern": {
              "fillmode": "overlay",
              "size": 10,
              "solidity": 0.2
             }
            },
            "type": "bar"
           }
          ],
          "barpolar": [
           {
            "marker": {
             "line": {
              "color": "#E5ECF6",
              "width": 0.5
             },
             "pattern": {
              "fillmode": "overlay",
              "size": 10,
              "solidity": 0.2
             }
            },
            "type": "barpolar"
           }
          ],
          "carpet": [
           {
            "aaxis": {
             "endlinecolor": "#2a3f5f",
             "gridcolor": "white",
             "linecolor": "white",
             "minorgridcolor": "white",
             "startlinecolor": "#2a3f5f"
            },
            "baxis": {
             "endlinecolor": "#2a3f5f",
             "gridcolor": "white",
             "linecolor": "white",
             "minorgridcolor": "white",
             "startlinecolor": "#2a3f5f"
            },
            "type": "carpet"
           }
          ],
          "choropleth": [
           {
            "colorbar": {
             "outlinewidth": 0,
             "ticks": ""
            },
            "type": "choropleth"
           }
          ],
          "contour": [
           {
            "colorbar": {
             "outlinewidth": 0,
             "ticks": ""
            },
            "colorscale": [
             [
              0,
              "#0d0887"
             ],
             [
              0.1111111111111111,
              "#46039f"
             ],
             [
              0.2222222222222222,
              "#7201a8"
             ],
             [
              0.3333333333333333,
              "#9c179e"
             ],
             [
              0.4444444444444444,
              "#bd3786"
             ],
             [
              0.5555555555555556,
              "#d8576b"
             ],
             [
              0.6666666666666666,
              "#ed7953"
             ],
             [
              0.7777777777777778,
              "#fb9f3a"
             ],
             [
              0.8888888888888888,
              "#fdca26"
             ],
             [
              1,
              "#f0f921"
             ]
            ],
            "type": "contour"
           }
          ],
          "contourcarpet": [
           {
            "colorbar": {
             "outlinewidth": 0,
             "ticks": ""
            },
            "type": "contourcarpet"
           }
          ],
          "heatmap": [
           {
            "colorbar": {
             "outlinewidth": 0,
             "ticks": ""
            },
            "colorscale": [
             [
              0,
              "#0d0887"
             ],
             [
              0.1111111111111111,
              "#46039f"
             ],
             [
              0.2222222222222222,
              "#7201a8"
             ],
             [
              0.3333333333333333,
              "#9c179e"
             ],
             [
              0.4444444444444444,
              "#bd3786"
             ],
             [
              0.5555555555555556,
              "#d8576b"
             ],
             [
              0.6666666666666666,
              "#ed7953"
             ],
             [
              0.7777777777777778,
              "#fb9f3a"
             ],
             [
              0.8888888888888888,
              "#fdca26"
             ],
             [
              1,
              "#f0f921"
             ]
            ],
            "type": "heatmap"
           }
          ],
          "heatmapgl": [
           {
            "colorbar": {
             "outlinewidth": 0,
             "ticks": ""
            },
            "colorscale": [
             [
              0,
              "#0d0887"
             ],
             [
              0.1111111111111111,
              "#46039f"
             ],
             [
              0.2222222222222222,
              "#7201a8"
             ],
             [
              0.3333333333333333,
              "#9c179e"
             ],
             [
              0.4444444444444444,
              "#bd3786"
             ],
             [
              0.5555555555555556,
              "#d8576b"
             ],
             [
              0.6666666666666666,
              "#ed7953"
             ],
             [
              0.7777777777777778,
              "#fb9f3a"
             ],
             [
              0.8888888888888888,
              "#fdca26"
             ],
             [
              1,
              "#f0f921"
             ]
            ],
            "type": "heatmapgl"
           }
          ],
          "histogram": [
           {
            "marker": {
             "pattern": {
              "fillmode": "overlay",
              "size": 10,
              "solidity": 0.2
             }
            },
            "type": "histogram"
           }
          ],
          "histogram2d": [
           {
            "colorbar": {
             "outlinewidth": 0,
             "ticks": ""
            },
            "colorscale": [
             [
              0,
              "#0d0887"
             ],
             [
              0.1111111111111111,
              "#46039f"
             ],
             [
              0.2222222222222222,
              "#7201a8"
             ],
             [
              0.3333333333333333,
              "#9c179e"
             ],
             [
              0.4444444444444444,
              "#bd3786"
             ],
             [
              0.5555555555555556,
              "#d8576b"
             ],
             [
              0.6666666666666666,
              "#ed7953"
             ],
             [
              0.7777777777777778,
              "#fb9f3a"
             ],
             [
              0.8888888888888888,
              "#fdca26"
             ],
             [
              1,
              "#f0f921"
             ]
            ],
            "type": "histogram2d"
           }
          ],
          "histogram2dcontour": [
           {
            "colorbar": {
             "outlinewidth": 0,
             "ticks": ""
            },
            "colorscale": [
             [
              0,
              "#0d0887"
             ],
             [
              0.1111111111111111,
              "#46039f"
             ],
             [
              0.2222222222222222,
              "#7201a8"
             ],
             [
              0.3333333333333333,
              "#9c179e"
             ],
             [
              0.4444444444444444,
              "#bd3786"
             ],
             [
              0.5555555555555556,
              "#d8576b"
             ],
             [
              0.6666666666666666,
              "#ed7953"
             ],
             [
              0.7777777777777778,
              "#fb9f3a"
             ],
             [
              0.8888888888888888,
              "#fdca26"
             ],
             [
              1,
              "#f0f921"
             ]
            ],
            "type": "histogram2dcontour"
           }
          ],
          "mesh3d": [
           {
            "colorbar": {
             "outlinewidth": 0,
             "ticks": ""
            },
            "type": "mesh3d"
           }
          ],
          "parcoords": [
           {
            "line": {
             "colorbar": {
              "outlinewidth": 0,
              "ticks": ""
             }
            },
            "type": "parcoords"
           }
          ],
          "pie": [
           {
            "automargin": true,
            "type": "pie"
           }
          ],
          "scatter": [
           {
            "fillpattern": {
             "fillmode": "overlay",
             "size": 10,
             "solidity": 0.2
            },
            "type": "scatter"
           }
          ],
          "scatter3d": [
           {
            "line": {
             "colorbar": {
              "outlinewidth": 0,
              "ticks": ""
             }
            },
            "marker": {
             "colorbar": {
              "outlinewidth": 0,
              "ticks": ""
             }
            },
            "type": "scatter3d"
           }
          ],
          "scattercarpet": [
           {
            "marker": {
             "colorbar": {
              "outlinewidth": 0,
              "ticks": ""
             }
            },
            "type": "scattercarpet"
           }
          ],
          "scattergeo": [
           {
            "marker": {
             "colorbar": {
              "outlinewidth": 0,
              "ticks": ""
             }
            },
            "type": "scattergeo"
           }
          ],
          "scattergl": [
           {
            "marker": {
             "colorbar": {
              "outlinewidth": 0,
              "ticks": ""
             }
            },
            "type": "scattergl"
           }
          ],
          "scattermapbox": [
           {
            "marker": {
             "colorbar": {
              "outlinewidth": 0,
              "ticks": ""
             }
            },
            "type": "scattermapbox"
           }
          ],
          "scatterpolar": [
           {
            "marker": {
             "colorbar": {
              "outlinewidth": 0,
              "ticks": ""
             }
            },
            "type": "scatterpolar"
           }
          ],
          "scatterpolargl": [
           {
            "marker": {
             "colorbar": {
              "outlinewidth": 0,
              "ticks": ""
             }
            },
            "type": "scatterpolargl"
           }
          ],
          "scatterternary": [
           {
            "marker": {
             "colorbar": {
              "outlinewidth": 0,
              "ticks": ""
             }
            },
            "type": "scatterternary"
           }
          ],
          "surface": [
           {
            "colorbar": {
             "outlinewidth": 0,
             "ticks": ""
            },
            "colorscale": [
             [
              0,
              "#0d0887"
             ],
             [
              0.1111111111111111,
              "#46039f"
             ],
             [
              0.2222222222222222,
              "#7201a8"
             ],
             [
              0.3333333333333333,
              "#9c179e"
             ],
             [
              0.4444444444444444,
              "#bd3786"
             ],
             [
              0.5555555555555556,
              "#d8576b"
             ],
             [
              0.6666666666666666,
              "#ed7953"
             ],
             [
              0.7777777777777778,
              "#fb9f3a"
             ],
             [
              0.8888888888888888,
              "#fdca26"
             ],
             [
              1,
              "#f0f921"
             ]
            ],
            "type": "surface"
           }
          ],
          "table": [
           {
            "cells": {
             "fill": {
              "color": "#EBF0F8"
             },
             "line": {
              "color": "white"
             }
            },
            "header": {
             "fill": {
              "color": "#C8D4E3"
             },
             "line": {
              "color": "white"
             }
            },
            "type": "table"
           }
          ]
         },
         "layout": {
          "annotationdefaults": {
           "arrowcolor": "#2a3f5f",
           "arrowhead": 0,
           "arrowwidth": 1
          },
          "autotypenumbers": "strict",
          "coloraxis": {
           "colorbar": {
            "outlinewidth": 0,
            "ticks": ""
           }
          },
          "colorscale": {
           "diverging": [
            [
             0,
             "#8e0152"
            ],
            [
             0.1,
             "#c51b7d"
            ],
            [
             0.2,
             "#de77ae"
            ],
            [
             0.3,
             "#f1b6da"
            ],
            [
             0.4,
             "#fde0ef"
            ],
            [
             0.5,
             "#f7f7f7"
            ],
            [
             0.6,
             "#e6f5d0"
            ],
            [
             0.7,
             "#b8e186"
            ],
            [
             0.8,
             "#7fbc41"
            ],
            [
             0.9,
             "#4d9221"
            ],
            [
             1,
             "#276419"
            ]
           ],
           "sequential": [
            [
             0,
             "#0d0887"
            ],
            [
             0.1111111111111111,
             "#46039f"
            ],
            [
             0.2222222222222222,
             "#7201a8"
            ],
            [
             0.3333333333333333,
             "#9c179e"
            ],
            [
             0.4444444444444444,
             "#bd3786"
            ],
            [
             0.5555555555555556,
             "#d8576b"
            ],
            [
             0.6666666666666666,
             "#ed7953"
            ],
            [
             0.7777777777777778,
             "#fb9f3a"
            ],
            [
             0.8888888888888888,
             "#fdca26"
            ],
            [
             1,
             "#f0f921"
            ]
           ],
           "sequentialminus": [
            [
             0,
             "#0d0887"
            ],
            [
             0.1111111111111111,
             "#46039f"
            ],
            [
             0.2222222222222222,
             "#7201a8"
            ],
            [
             0.3333333333333333,
             "#9c179e"
            ],
            [
             0.4444444444444444,
             "#bd3786"
            ],
            [
             0.5555555555555556,
             "#d8576b"
            ],
            [
             0.6666666666666666,
             "#ed7953"
            ],
            [
             0.7777777777777778,
             "#fb9f3a"
            ],
            [
             0.8888888888888888,
             "#fdca26"
            ],
            [
             1,
             "#f0f921"
            ]
           ]
          },
          "colorway": [
           "#636efa",
           "#EF553B",
           "#00cc96",
           "#ab63fa",
           "#FFA15A",
           "#19d3f3",
           "#FF6692",
           "#B6E880",
           "#FF97FF",
           "#FECB52"
          ],
          "font": {
           "color": "#2a3f5f"
          },
          "geo": {
           "bgcolor": "white",
           "lakecolor": "white",
           "landcolor": "#E5ECF6",
           "showlakes": true,
           "showland": true,
           "subunitcolor": "white"
          },
          "hoverlabel": {
           "align": "left"
          },
          "hovermode": "closest",
          "mapbox": {
           "style": "light"
          },
          "paper_bgcolor": "white",
          "plot_bgcolor": "#E5ECF6",
          "polar": {
           "angularaxis": {
            "gridcolor": "white",
            "linecolor": "white",
            "ticks": ""
           },
           "bgcolor": "#E5ECF6",
           "radialaxis": {
            "gridcolor": "white",
            "linecolor": "white",
            "ticks": ""
           }
          },
          "scene": {
           "xaxis": {
            "backgroundcolor": "#E5ECF6",
            "gridcolor": "white",
            "gridwidth": 2,
            "linecolor": "white",
            "showbackground": true,
            "ticks": "",
            "zerolinecolor": "white"
           },
           "yaxis": {
            "backgroundcolor": "#E5ECF6",
            "gridcolor": "white",
            "gridwidth": 2,
            "linecolor": "white",
            "showbackground": true,
            "ticks": "",
            "zerolinecolor": "white"
           },
           "zaxis": {
            "backgroundcolor": "#E5ECF6",
            "gridcolor": "white",
            "gridwidth": 2,
            "linecolor": "white",
            "showbackground": true,
            "ticks": "",
            "zerolinecolor": "white"
           }
          },
          "shapedefaults": {
           "line": {
            "color": "#2a3f5f"
           }
          },
          "ternary": {
           "aaxis": {
            "gridcolor": "white",
            "linecolor": "white",
            "ticks": ""
           },
           "baxis": {
            "gridcolor": "white",
            "linecolor": "white",
            "ticks": ""
           },
           "bgcolor": "#E5ECF6",
           "caxis": {
            "gridcolor": "white",
            "linecolor": "white",
            "ticks": ""
           }
          },
          "title": {
           "x": 0.05
          },
          "xaxis": {
           "automargin": true,
           "gridcolor": "white",
           "linecolor": "white",
           "ticks": "",
           "title": {
            "standoff": 15
           },
           "zerolinecolor": "white",
           "zerolinewidth": 2
          },
          "yaxis": {
           "automargin": true,
           "gridcolor": "white",
           "linecolor": "white",
           "ticks": "",
           "title": {
            "standoff": 15
           },
           "zerolinecolor": "white",
           "zerolinewidth": 2
          }
         }
        },
        "width": 400,
        "xaxis": {
         "title": {
          "text": "Count (weighted by amplitude)"
         }
        },
        "yaxis": {
         "title": {
          "text": "y_centroid"
         }
        }
       }
      }
     },
     "metadata": {},
     "output_type": "display_data"
    }
   ],
   "source": [
    "import plotly.graph_objects as go\n",
    "import numpy as np\n",
    "range = 913-240\n",
    "pixelrange = 128\n",
    "scaler = range/pixelrange\n",
    "\n",
    "\n",
    "fig = go.Figure()\n",
    "\n",
    "# Loop through each unique value of 'stimtype'\n",
    "for stim in ['loom', 'moving stripes', 'dots_OFF']:\n",
    "    filtered_data = pooled_data[pooled_data['stimtype'] == stim]\n",
    "    \n",
    "    # Compute weighted histogram for x_centroid\n",
    "    hist, bin_edges = compute_weighted_histogram(filtered_data['x_centroid']*scaler, \n",
    "                                                 filtered_data['amplitude'], \n",
    "                                                 bins=np.arange(0, 128*scaler, 50))  # You can adjust bins as needed\n",
    "    \n",
    "    # Add weighted histogram trace\n",
    "    fig.add_trace(go.Bar(x=bin_edges[:-1], y=hist, name=stim, width=50))  # Bar plot since we're using precomputed bins\n",
    "\n",
    "# Update the layout for the x_centroid plot\n",
    "fig.update_layout(barmode='overlay', yaxis_title='# rois (weighted by amplitude)', \n",
    "                  xaxis_title='x_centroid', width=600, height=300, \n",
    "                  margin=dict(l=20, r=20, t=20, b=20))\n",
    "fig.update_traces(opacity=0.75)\n",
    "#fig.update_xaxes(range=[0, 128])  # Adjust x-axis range as per your requirements\n",
    "#fig.update_yaxes(range=[0, np.max(hist)])  # Dynamically adjust y-axis based on weighted histograms\n",
    "\n",
    "fig.show()\n",
    "\n",
    "# Y-Centroid Weighted Histogram\n",
    "fig2 = go.Figure()\n",
    "\n",
    "# Loop through each unique value of 'stimtype'\n",
    "for stim in ['loom', 'moving stripes', 'dots_OFF']:\n",
    "    filtered_data = pooled_data[pooled_data['stimtype'] == stim]\n",
    "    \n",
    "    # Compute weighted histogram for y_centroid\n",
    "    hist_y, bin_edges_y = compute_weighted_histogram((filtered_data['y_centroid'] % y_res) * scaler, \n",
    "                                                     filtered_data['amplitude'], \n",
    "                                                     bins=np.arange(0, 64*scaler, 25))  # Adjust bins as needed\n",
    "    \n",
    "    # Add weighted histogram trace for y_centroid\n",
    "    fig2.add_trace(go.Bar(x=hist_y, y=bin_edges_y[:-1], name=stim, orientation='h', width=25))  # Bar plot with correct orientation\n",
    "\n",
    "# Update the layout for the y_centroid plot\n",
    "fig2.update_layout(barmode='overlay', yaxis_title='y_centroid', xaxis_title='Count (weighted by amplitude)', \n",
    "                   width=400, height=400, margin=dict(l=20, r=20, t=20, b=20))\n",
    "fig2.update_traces(opacity=0.75)\n",
    "\n",
    "fig2.show()\n"
   ]
  },
  {
   "cell_type": "code",
   "execution_count": 31,
   "metadata": {},
   "outputs": [
    {
     "data": {
      "application/vnd.plotly.v1+json": {
       "config": {
        "plotlyServerURL": "https://plot.ly"
       },
       "data": [
        {
         "hovertemplate": "color=moving stripes<br>x=%{x}<br>y=%{y}<br>size=%{marker.size}<extra></extra>",
         "legendgroup": "moving stripes",
         "marker": {
          "color": "#636efa",
          "opacity": [
           0.9761904761904762,
           0.9285714285714286,
           0.7142857142857143,
           0.7857142857142857,
           0.7619047619047619,
           0.9761904761904762,
           0.9047619047619048,
           0.9047619047619048,
           0.023809523809523808,
           0.023809523809523808,
           0.2857142857142857,
           0.7619047619047619,
           0.5,
           0.7619047619047619,
           0.16666666666666666,
           0.7619047619047619,
           0.7380952380952381,
           0.023809523809523808,
           0.19047619047619047,
           0.023809523809523808,
           0.023809523809523808,
           0.07142857142857142,
           0.023809523809523808,
           0.9761904761904762,
           0.9761904761904762,
           0.8333333333333334,
           0.8809523809523809,
           0.8809523809523809,
           0.8095238095238095,
           0.8095238095238095,
           0.7380952380952381,
           0.7619047619047619,
           0.9285714285714286,
           0.8095238095238095,
           0.023809523809523808,
           0.023809523809523808,
           0.7619047619047619,
           0.9761904761904762,
           0.9761904761904762,
           0.7142857142857143,
           0.7142857142857143,
           0.023809523809523808,
           0.9761904761904762,
           0.9761904761904762,
           0.9761904761904762,
           0.9285714285714286,
           0.7142857142857143,
           0.9761904761904762,
           0.7619047619047619,
           0.7619047619047619,
           0.9761904761904762,
           0.7857142857142857,
           0.7619047619047619,
           0.8095238095238095,
           0.8095238095238095,
           0.8571428571428571,
           0.7380952380952381,
           0.9761904761904762,
           0.9047619047619048,
           0.9047619047619048,
           0.9047619047619048,
           0.7857142857142857,
           0.8571428571428571,
           0.023809523809523808,
           0.7142857142857143,
           0.023809523809523808,
           0.7857142857142857,
           0.9523809523809523,
           0.2857142857142857,
           0.8809523809523809,
           0.9285714285714286,
           0.7619047619047619,
           0.5,
           0.8571428571428571,
           0.7619047619047619,
           0.8809523809523809,
           0.7142857142857143,
           0.7380952380952381,
           0.16666666666666666,
           0.7142857142857143,
           0.7619047619047619,
           0.7857142857142857,
           0.023809523809523808,
           0.7619047619047619,
           0.8809523809523809,
           0.7380952380952381,
           0.7380952380952381,
           0.5476190476190477,
           0.23809523809523808,
           0.023809523809523808,
           0.19047619047619047,
           0.09523809523809523,
           0.07142857142857142,
           0.9761904761904762,
           0.9761904761904762,
           0.7857142857142857,
           0.7619047619047619,
           0.16666666666666666,
           0.19047619047619047,
           0.023809523809523808,
           0.9761904761904762,
           0.9761904761904762,
           0.9761904761904762,
           0.7380952380952381,
           0.9285714285714286,
           0.7142857142857143,
           0.9761904761904762,
           0.9761904761904762,
           0.9761904761904762,
           0.9761904761904762,
           0.8809523809523809,
           0.7619047619047619,
           0.9761904761904762,
           0.9761904761904762,
           0.8809523809523809,
           0.8333333333333334,
           0.8809523809523809,
           0.9761904761904762,
           0.7857142857142857,
           0.8809523809523809,
           0.7857142857142857,
           0.7619047619047619,
           0.8095238095238095,
           0.9761904761904762,
           0.9047619047619048,
           0.5238095238095238,
           0.9761904761904762,
           0.9761904761904762,
           0.8095238095238095,
           0.7857142857142857,
           0.8095238095238095,
           0.8809523809523809,
           0.8571428571428571,
           0.9761904761904762,
           0.7380952380952381,
           0.8095238095238095,
           0.7857142857142857,
           0.7857142857142857,
           0.9761904761904762,
           0.023809523809523808,
           0.7380952380952381,
           0.9047619047619048,
           0.9761904761904762,
           0.9047619047619048,
           0.8333333333333334,
           0.7619047619047619,
           0.8095238095238095,
           0.9047619047619048,
           0.9285714285714286,
           0.9285714285714286,
           0.9761904761904762,
           0.7857142857142857,
           0.8571428571428571,
           0.8095238095238095,
           0.023809523809523808,
           0.7142857142857143,
           0.7380952380952381,
           0.8571428571428571,
           0.9285714285714286,
           0.7857142857142857,
           0.9761904761904762,
           0.7857142857142857,
           0.8571428571428571,
           0.9523809523809523,
           0.023809523809523808,
           0.2857142857142857,
           0.9761904761904762,
           0.8571428571428571,
           0.7619047619047619,
           0.023809523809523808,
           0.8095238095238095,
           0.7619047619047619,
           0.7619047619047619,
           0.5476190476190477,
           0.7380952380952381,
           0.8809523809523809,
           0.9285714285714286,
           0.7142857142857143,
           0.7619047619047619,
           0.5,
           0.8571428571428571,
           0.9285714285714286,
           0.7619047619047619,
           0.8571428571428571,
           0.7857142857142857,
           0.9047619047619048,
           0.9761904761904762,
           0.7142857142857143,
           0.7619047619047619,
           0.8571428571428571,
           0.8571428571428571,
           0.7619047619047619,
           0.7619047619047619,
           0.7380952380952381,
           0.9047619047619048,
           0.8809523809523809,
           0.7857142857142857,
           0.8809523809523809,
           0.023809523809523808,
           0.7142857142857143,
           0.7380952380952381,
           0.9047619047619048,
           0.9761904761904762,
           0.7142857142857143,
           0.023809523809523808,
           0.7857142857142857,
           0.9761904761904762,
           0.9523809523809523,
           0.7619047619047619,
           0.7857142857142857,
           0.8095238095238095,
           0.023809523809523808,
           0.023809523809523808,
           0.9761904761904762,
           0.8333333333333334,
           0.7142857142857143,
           0.9285714285714286,
           0.7619047619047619,
           0.9523809523809523,
           0.7380952380952381,
           0.6190476190476191,
           0.7380952380952381,
           0.7142857142857143,
           0.7857142857142857,
           0.7380952380952381,
           0.7380952380952381,
           0.7380952380952381,
           0.7142857142857143,
           0.7142857142857143,
           0.8333333333333334,
           0.7142857142857143,
           1,
           0.9285714285714286,
           0.8571428571428571,
           0.8571428571428571,
           0.5,
           0.7619047619047619,
           0.7142857142857143,
           0.8571428571428571,
           0.7142857142857143,
           0.2857142857142857,
           0.7857142857142857,
           0.6666666666666666,
           0.7619047619047619,
           0.38095238095238093,
           0.47619047619047616,
           0.023809523809523808,
           0.8571428571428571,
           0.3333333333333333,
           0.8571428571428571,
           0.7380952380952381,
           0.4523809523809524,
           0.8095238095238095,
           0.47619047619047616,
           0.5714285714285714,
           0.8571428571428571,
           0.8809523809523809,
           0.7142857142857143,
           0.7380952380952381,
           0.7619047619047619,
           0.7142857142857143,
           0.8333333333333334,
           0.8571428571428571,
           0.7619047619047619,
           0.5,
           0.09523809523809523,
           0.7380952380952381,
           0.7619047619047619,
           0.19047619047619047,
           0.8095238095238095,
           0.7857142857142857,
           0.8333333333333334,
           0.7380952380952381,
           0.47619047619047616,
           0.3333333333333333,
           0.023809523809523808,
           0.11904761904761904,
           0.5476190476190477,
           0.23809523809523808,
           0.7619047619047619,
           0.7380952380952381,
           0.7619047619047619,
           0.11904761904761904,
           0.023809523809523808,
           0.7380952380952381,
           0.8333333333333334,
           0.7619047619047619,
           0.7380952380952381,
           0.38095238095238093,
           0.5952380952380952,
           0.8095238095238095,
           0.8095238095238095,
           0.7142857142857143,
           0.35714285714285715,
           0.6190476190476191,
           0.023809523809523808,
           0.6428571428571429,
           0.35714285714285715,
           0.21428571428571427,
           0.2619047619047619,
           0.7380952380952381,
           0.6428571428571429,
           0.5952380952380952,
           0.19047619047619047,
           0.7142857142857143,
           0.19047619047619047,
           0.047619047619047616,
           0.023809523809523808,
           0.16666666666666666,
           0.38095238095238093,
           0.16666666666666666,
           0.023809523809523808,
           0.2619047619047619,
           0.5238095238095238,
           0.047619047619047616,
           0.023809523809523808,
           0.023809523809523808,
           0.11904761904761904,
           0.21428571428571427,
           0.023809523809523808,
           0.07142857142857142,
           0.023809523809523808,
           0.09523809523809523,
           0.8333333333333334,
           0.023809523809523808,
           0.023809523809523808,
           0.8809523809523809,
           0.7380952380952381,
           0.7619047619047619,
           0.16666666666666666,
           0.023809523809523808,
           0.023809523809523808,
           0.7619047619047619,
           0.8809523809523809,
           0.5476190476190477,
           0.3333333333333333,
           0.4523809523809524,
           0.40476190476190477,
           0.14285714285714285,
           0.07142857142857142,
           0.19047619047619047,
           0.30952380952380953,
           0.47619047619047616,
           0.023809523809523808,
           0.16666666666666666,
           0.07142857142857142,
           0.023809523809523808,
           0.07142857142857142,
           0.047619047619047616,
           0.047619047619047616,
           0.07142857142857142,
           0.047619047619047616,
           0.07142857142857142,
           0.047619047619047616,
           0.023809523809523808,
           0.07142857142857142,
           0.023809523809523808,
           0.047619047619047616,
           0.023809523809523808,
           0.023809523809523808,
           0.023809523809523808,
           0.023809523809523808,
           0.023809523809523808,
           0.8333333333333334,
           0.9761904761904762,
           0.8333333333333334,
           0.8809523809523809,
           0.8095238095238095,
           0.9285714285714286,
           0.7380952380952381,
           0.7857142857142857,
           0.7857142857142857,
           0.9047619047619048,
           0.7619047619047619,
           0.023809523809523808,
           0.023809523809523808,
           0.8333333333333334,
           0.7142857142857143,
           0.7857142857142857,
           0.07142857142857142,
           0.6428571428571429,
           0.8095238095238095,
           0.6666666666666666,
           0.14285714285714285,
           0.8095238095238095,
           0.7619047619047619,
           0.23809523809523808,
           0.2857142857142857,
           0.023809523809523808,
           0.07142857142857142,
           0.23809523809523808,
           0.023809523809523808,
           0.047619047619047616,
           0.023809523809523808,
           0.023809523809523808,
           0.023809523809523808,
           0.023809523809523808,
           0.023809523809523808,
           0.023809523809523808,
           0.023809523809523808,
           0.9285714285714286,
           0.7857142857142857,
           0.07142857142857142,
           0.3333333333333333,
           0.7380952380952381,
           0.023809523809523808,
           0.5714285714285714,
           0.09523809523809523,
           0.07142857142857142,
           0.21428571428571427,
           0.07142857142857142,
           0.023809523809523808,
           0.023809523809523808,
           0.023809523809523808,
           0.023809523809523808,
           0.023809523809523808,
           0.023809523809523808,
           0.07142857142857142,
           0.047619047619047616,
           0.023809523809523808,
           0.023809523809523808,
           0.023809523809523808,
           0.023809523809523808,
           0.9523809523809523,
           0.8809523809523809,
           0.7619047619047619,
           0.7619047619047619,
           0.8571428571428571,
           0.9047619047619048,
           0.7380952380952381,
           0.9523809523809523,
           0.5952380952380952,
           0.8571428571428571,
           0.7857142857142857,
           0.8095238095238095,
           0.7142857142857143,
           0.8571428571428571,
           0.38095238095238093,
           0.7619047619047619,
           0.5714285714285714,
           0.7142857142857143,
           0.2619047619047619,
           0.7380952380952381,
           0.2857142857142857,
           0.5476190476190477,
           0.5,
           0.2619047619047619,
           0.07142857142857142,
           0.09523809523809523,
           0.21428571428571427,
           0.07142857142857142,
           0.023809523809523808,
           0.30952380952380953,
           0.11904761904761904,
           0.09523809523809523,
           0.07142857142857142,
           0.8095238095238095,
           0.8333333333333334,
           0.8333333333333334,
           0.7142857142857143,
           0.9761904761904762,
           0.8333333333333334,
           0.8809523809523809,
           0.8095238095238095,
           0.9761904761904762,
           0.7619047619047619,
           0.9047619047619048,
           0.8809523809523809,
           0.8333333333333334,
           0.7857142857142857,
           0.8571428571428571,
           0.9285714285714286,
           0.9285714285714286,
           0.7142857142857143,
           0.7380952380952381,
           1,
           0.7380952380952381,
           0.7857142857142857,
           0.7857142857142857,
           0.7857142857142857,
           0.8095238095238095,
           0.9047619047619048,
           0.8333333333333334,
           0.7619047619047619,
           0.9761904761904762,
           0.023809523809523808,
           0.7857142857142857,
           0.023809523809523808,
           0.7619047619047619,
           0.8333333333333334,
           0.8809523809523809,
           0.7142857142857143,
           0.7619047619047619,
           0.8333333333333334,
           0.7857142857142857,
           0.7142857142857143,
           0.6428571428571429,
           0.7857142857142857,
           0.7380952380952381,
           0.7619047619047619,
           0.7857142857142857,
           0.7857142857142857,
           0.8095238095238095,
           0.7619047619047619,
           0.8809523809523809,
           0.8571428571428571,
           0.7619047619047619,
           0.6666666666666666,
           0.6904761904761905,
           0.3333333333333333,
           0.42857142857142855,
           0.047619047619047616,
           0.14285714285714285,
           0.8095238095238095,
           0.8095238095238095,
           0.7619047619047619,
           0.23809523809523808,
           0.2857142857142857,
           0.5476190476190477,
           0.7142857142857143,
           0.14285714285714285,
           0.14285714285714285,
           0.19047619047619047,
           0.7142857142857143,
           0.23809523809523808,
           0.40476190476190477,
           0.09523809523809523,
           0.07142857142857142,
           0.9761904761904762,
           0.9761904761904762,
           0.9761904761904762,
           0.9761904761904762,
           0.9523809523809523,
           0.9761904761904762,
           0.7619047619047619,
           0.7857142857142857,
           0.8095238095238095,
           0.8095238095238095,
           0.9761904761904762,
           0.9285714285714286,
           0.8809523809523809,
           1,
           0.7142857142857143,
           0.8095238095238095,
           0.8095238095238095,
           0.9761904761904762,
           0.8333333333333334,
           0.7857142857142857,
           0.8333333333333334,
           0.7619047619047619,
           0.9761904761904762,
           0.7142857142857143,
           0.8095238095238095,
           0.7142857142857143,
           0.9523809523809523,
           0.9761904761904762,
           0.7857142857142857,
           0.19047619047619047,
           0.8333333333333334,
           0.9761904761904762,
           0.7142857142857143,
           0.8571428571428571,
           0.8095238095238095,
           0.8333333333333334,
           0.23809523809523808,
           0.8809523809523809,
           0.8809523809523809,
           0.8095238095238095,
           0.9761904761904762,
           0.7380952380952381,
           0.7619047619047619,
           0.9047619047619048,
           0.7857142857142857,
           0.7142857142857143,
           0.7142857142857143,
           0.9285714285714286,
           0.9285714285714286,
           0.8333333333333334,
           0.7142857142857143,
           0.7380952380952381,
           1,
           0.7619047619047619,
           0.7380952380952381,
           0.7857142857142857,
           0.7857142857142857,
           0.42857142857142855,
           0.7142857142857143,
           0.8571428571428571,
           0.6190476190476191,
           0.8095238095238095,
           0.7380952380952381,
           0.9047619047619048,
           0.8333333333333334,
           0.7619047619047619,
           0.9761904761904762,
           0.8333333333333334,
           0.7380952380952381,
           0.9523809523809523,
           0.8333333333333334,
           0.7142857142857143,
           0.7619047619047619,
           0.8333333333333334,
           0.7857142857142857,
           0.7857142857142857,
           0.07142857142857142,
           0.7142857142857143,
           0.8095238095238095,
           0.6428571428571429,
           0.7857142857142857,
           0.7857142857142857,
           0.8571428571428571,
           0.7857142857142857,
           0.8095238095238095,
           0.8809523809523809,
           0.8571428571428571,
           0.8095238095238095,
           0.7619047619047619,
           0.6666666666666666,
           0.6904761904761905,
           0.7619047619047619,
           0.8095238095238095,
           0.2857142857142857,
           0.8095238095238095,
           0.7619047619047619,
           0.7380952380952381,
           0.23809523809523808,
           0.2857142857142857,
           0.8095238095238095,
           0.8095238095238095,
           0.7142857142857143,
           0.2619047619047619,
           0.21428571428571427,
           0.7380952380952381,
           0.35714285714285715,
           0.5,
           0.23809523809523808,
           0.047619047619047616,
           0.023809523809523808,
           0.8095238095238095,
           0.7857142857142857,
           0.9285714285714286,
           0.8095238095238095,
           0.7380952380952381,
           1,
           0.9285714285714286,
           0.9761904761904762,
           0.16666666666666666,
           0.7619047619047619,
           0.8809523809523809,
           0.7857142857142857,
           0.7619047619047619,
           0.8571428571428571,
           0.5238095238095238,
           0.35714285714285715,
           0.8571428571428571,
           0.7857142857142857,
           0.7619047619047619,
           0.7380952380952381,
           0.14285714285714285,
           0.42857142857142855,
           0.2857142857142857,
           0.11904761904761904,
           0.5476190476190477,
           0.2857142857142857,
           0.7142857142857143,
           0.4523809523809524,
           0.7142857142857143,
           0.7380952380952381,
           0.23809523809523808,
           0.42857142857142855,
           0.19047619047619047,
           0.07142857142857142,
           0.19047619047619047,
           0.047619047619047616,
           0.21428571428571427,
           0.023809523809523808,
           0.047619047619047616,
           0.2619047619047619,
           0.14285714285714285,
           0.09523809523809523,
           0.21428571428571427,
           0.09523809523809523,
           0.30952380952380953,
           0.09523809523809523,
           0.11904761904761904,
           0.023809523809523808,
           0.023809523809523808,
           0.07142857142857142,
           0.023809523809523808,
           0.07142857142857142,
           0.047619047619047616,
           0.023809523809523808
          ],
          "size": [
           5.294517517089844,
           3.1093106269836426,
           2.577725410461426,
           7.427844524383545,
           4.143466949462891,
           1.9902009963989258,
           1.6526689529418945,
           1.8581528663635254,
           2.150787353515625,
           3.1253905296325684,
           9.895279884338379,
           4.263268947601318,
           3.543747663497925,
           1.730065941810608,
           2.2139151096343994,
           2.4809188842773438,
           3.014556646347046,
           2.563852310180664,
           2.743513822555542,
           2.017770767211914,
           1.850557565689087,
           1.9554791450500488,
           2.0771517753601074,
           8.768491744995117,
           9.367341995239258,
           6.8212995529174805,
           11.965171813964844,
           6.067412853240967,
           5.164368629455566,
           1.9084917306900024,
           7.673178672790527,
           6.691141128540039,
           6.053972244262695,
           8.356722831726074,
           2.563662052154541,
           4.439828395843506,
           4.255868434906006,
           2.943592071533203,
           8.028347969055176,
           2.280764579772949,
           6.138854503631592,
           5.729826927185059,
           3.2989602088928223,
           2.2348592281341553,
           3.7239017486572266,
           3.940277099609375,
           3.0998950004577637,
           2.0829498767852783,
           2.4513461589813232,
           2.6944844722747803,
           3.082723379135132,
           2.5657663345336914,
           2.4647319316864014,
           2.3731582164764404,
           3.660007953643799,
           3.0632755756378174,
           1.8005976676940918,
           3.217012405395508,
           2.058034658432007,
           2.4877476692199707
          ],
          "sizemode": "area",
          "sizeref": 0.032671575546264646,
          "symbol": "circle"
         },
         "mode": "markers",
         "name": "moving stripes",
         "orientation": "v",
         "showlegend": true,
         "type": "scatter",
         "x": [
          67,
          67,
          62.9,
          74.27272727272727,
          59.5,
          55.02439024390244,
          78.26315789473684,
          79.76315789473684,
          67,
          66,
          71,
          71.375,
          74.23809523809524,
          92.4375,
          67.42857142857143,
          66,
          57.83870967741935,
          76,
          63.625,
          58,
          98,
          55.333333333333336,
          84,
          69.82857142857142,
          70,
          64.91428571428571,
          74.54054054054055,
          75.8529411764706,
          65.7948717948718,
          64.48387096774194,
          79.93939393939394,
          78.63636363636364,
          60.973684210526315,
          76.6875,
          73,
          77,
          60.857142857142854,
          75.16666666666667,
          63.93939393939394,
          68.33333333333333,
          71.5925925925926,
          83.1470588235294,
          56.892857142857146,
          68,
          67.97058823529412,
          61.59375,
          60.6,
          87.91666666666667,
          75,
          60.333333333333336,
          79.3,
          75,
          56.5,
          78,
          69,
          67,
          82,
          79,
          74,
          66
         ],
         "xaxis": "x",
         "y": [
          47,
          41,
          50.56666666666667,
          40.72727272727273,
          50.5,
          52.804878048780495,
          34.0263157894737,
          28.78947368421052,
          45,
          44,
          50.75,
          47.65625,
          43.04761904761905,
          23.9375,
          51.85714285714286,
          45.40625,
          50.03225806451613,
          47,
          49,
          49,
          33,
          26.666666666666657,
          27,
          53.74285714285713,
          49,
          55.97142857142859,
          50.27027027027026,
          53.029411764705856,
          57.641025641025635,
          48,
          49.030303030303,
          45.27272727272725,
          58.89473684210526,
          45.375,
          47,
          48,
          59.62857142857143,
          53.099999999999994,
          54.333333333333336,
          52.666666666666664,
          60.48148148148147,
          45.05882352941177,
          58.46428571428572,
          50.5,
          46.352941176470594,
          48.5,
          56.9,
          41.5,
          49,
          59.33333333333334,
          49.69999999999999,
          59,
          8,
          53,
          56,
          51,
          47,
          57,
          52,
          58
         ],
         "yaxis": "y"
        },
        {
         "hovertemplate": "color=dots_ON<br>x=%{x}<br>y=%{y}<br>size=%{marker.size}<extra></extra>",
         "legendgroup": "dots_ON",
         "marker": {
          "color": "#EF553B",
          "opacity": [
           0.9761904761904762,
           0.9285714285714286,
           0.7142857142857143,
           0.7857142857142857,
           0.7619047619047619,
           0.9761904761904762,
           0.9047619047619048,
           0.9047619047619048,
           0.023809523809523808,
           0.023809523809523808,
           0.2857142857142857,
           0.7619047619047619,
           0.5,
           0.7619047619047619,
           0.16666666666666666,
           0.7619047619047619,
           0.7380952380952381,
           0.023809523809523808,
           0.19047619047619047,
           0.023809523809523808,
           0.023809523809523808,
           0.07142857142857142,
           0.023809523809523808,
           0.9761904761904762,
           0.9761904761904762,
           0.8333333333333334,
           0.8809523809523809,
           0.8809523809523809,
           0.8095238095238095,
           0.8095238095238095,
           0.7380952380952381,
           0.7619047619047619,
           0.9285714285714286,
           0.8095238095238095,
           0.023809523809523808,
           0.023809523809523808,
           0.7619047619047619,
           0.9761904761904762,
           0.9761904761904762,
           0.7142857142857143,
           0.7142857142857143,
           0.023809523809523808,
           0.9761904761904762,
           0.9761904761904762,
           0.9761904761904762,
           0.9285714285714286,
           0.7142857142857143,
           0.9761904761904762,
           0.7619047619047619,
           0.7619047619047619,
           0.9761904761904762,
           0.7857142857142857,
           0.7619047619047619,
           0.8095238095238095,
           0.8095238095238095,
           0.8571428571428571,
           0.7380952380952381,
           0.9761904761904762,
           0.9047619047619048,
           0.9047619047619048,
           0.9047619047619048,
           0.7857142857142857,
           0.8571428571428571,
           0.023809523809523808,
           0.7142857142857143,
           0.023809523809523808,
           0.7857142857142857,
           0.9523809523809523,
           0.2857142857142857,
           0.8809523809523809,
           0.9285714285714286,
           0.7619047619047619,
           0.5,
           0.8571428571428571,
           0.7619047619047619,
           0.8809523809523809,
           0.7142857142857143,
           0.7380952380952381,
           0.16666666666666666,
           0.7142857142857143,
           0.7619047619047619,
           0.7857142857142857,
           0.023809523809523808,
           0.7619047619047619,
           0.8809523809523809,
           0.7380952380952381,
           0.7380952380952381,
           0.5476190476190477,
           0.23809523809523808,
           0.023809523809523808,
           0.19047619047619047,
           0.09523809523809523,
           0.07142857142857142,
           0.9761904761904762,
           0.9761904761904762,
           0.7857142857142857,
           0.7619047619047619,
           0.16666666666666666,
           0.19047619047619047,
           0.023809523809523808,
           0.9761904761904762,
           0.9761904761904762,
           0.9761904761904762,
           0.7380952380952381,
           0.9285714285714286,
           0.7142857142857143,
           0.9761904761904762,
           0.9761904761904762,
           0.9761904761904762,
           0.9761904761904762,
           0.8809523809523809,
           0.7619047619047619,
           0.9761904761904762,
           0.9761904761904762,
           0.8809523809523809,
           0.8333333333333334,
           0.8809523809523809,
           0.9761904761904762,
           0.7857142857142857,
           0.8809523809523809,
           0.7857142857142857,
           0.7619047619047619,
           0.8095238095238095,
           0.9761904761904762,
           0.9047619047619048,
           0.5238095238095238,
           0.9761904761904762,
           0.9761904761904762,
           0.8095238095238095,
           0.7857142857142857,
           0.8095238095238095,
           0.8809523809523809,
           0.8571428571428571,
           0.9761904761904762,
           0.7380952380952381,
           0.8095238095238095,
           0.7857142857142857,
           0.7857142857142857,
           0.9761904761904762,
           0.023809523809523808,
           0.7380952380952381,
           0.9047619047619048,
           0.9761904761904762,
           0.9047619047619048,
           0.8333333333333334,
           0.7619047619047619,
           0.8095238095238095,
           0.9047619047619048,
           0.9285714285714286,
           0.9285714285714286,
           0.9761904761904762,
           0.7857142857142857,
           0.8571428571428571,
           0.8095238095238095,
           0.023809523809523808,
           0.7142857142857143,
           0.7380952380952381,
           0.8571428571428571,
           0.9285714285714286,
           0.7857142857142857,
           0.9761904761904762,
           0.7857142857142857,
           0.8571428571428571,
           0.9523809523809523,
           0.023809523809523808,
           0.2857142857142857,
           0.9761904761904762,
           0.8571428571428571,
           0.7619047619047619,
           0.023809523809523808,
           0.8095238095238095,
           0.7619047619047619,
           0.7619047619047619,
           0.5476190476190477,
           0.7380952380952381,
           0.8809523809523809,
           0.9285714285714286,
           0.7142857142857143,
           0.7619047619047619,
           0.5,
           0.8571428571428571,
           0.9285714285714286,
           0.7619047619047619,
           0.8571428571428571,
           0.7857142857142857,
           0.9047619047619048,
           0.9761904761904762,
           0.7142857142857143,
           0.7619047619047619,
           0.8571428571428571,
           0.8571428571428571,
           0.7619047619047619,
           0.7619047619047619,
           0.7380952380952381,
           0.9047619047619048,
           0.8809523809523809,
           0.7857142857142857,
           0.8809523809523809,
           0.023809523809523808,
           0.7142857142857143,
           0.7380952380952381,
           0.9047619047619048,
           0.9761904761904762,
           0.7142857142857143,
           0.023809523809523808,
           0.7857142857142857,
           0.9761904761904762,
           0.9523809523809523,
           0.7619047619047619,
           0.7857142857142857,
           0.8095238095238095,
           0.023809523809523808,
           0.023809523809523808,
           0.9761904761904762,
           0.8333333333333334,
           0.7142857142857143,
           0.9285714285714286,
           0.7619047619047619,
           0.9523809523809523,
           0.7380952380952381,
           0.6190476190476191,
           0.7380952380952381,
           0.7142857142857143,
           0.7857142857142857,
           0.7380952380952381,
           0.7380952380952381,
           0.7380952380952381,
           0.7142857142857143,
           0.7142857142857143,
           0.8333333333333334,
           0.7142857142857143,
           1,
           0.9285714285714286,
           0.8571428571428571,
           0.8571428571428571,
           0.5,
           0.7619047619047619,
           0.7142857142857143,
           0.8571428571428571,
           0.7142857142857143,
           0.2857142857142857,
           0.7857142857142857,
           0.6666666666666666,
           0.7619047619047619,
           0.38095238095238093,
           0.47619047619047616,
           0.023809523809523808,
           0.8571428571428571,
           0.3333333333333333,
           0.8571428571428571,
           0.7380952380952381,
           0.4523809523809524,
           0.8095238095238095,
           0.47619047619047616,
           0.5714285714285714,
           0.8571428571428571,
           0.8809523809523809,
           0.7142857142857143,
           0.7380952380952381,
           0.7619047619047619,
           0.7142857142857143,
           0.8333333333333334,
           0.8571428571428571,
           0.7619047619047619,
           0.5,
           0.09523809523809523,
           0.7380952380952381,
           0.7619047619047619,
           0.19047619047619047,
           0.8095238095238095,
           0.7857142857142857,
           0.8333333333333334,
           0.7380952380952381,
           0.47619047619047616,
           0.3333333333333333,
           0.023809523809523808,
           0.11904761904761904,
           0.5476190476190477,
           0.23809523809523808,
           0.7619047619047619,
           0.7380952380952381,
           0.7619047619047619,
           0.11904761904761904,
           0.023809523809523808,
           0.7380952380952381,
           0.8333333333333334,
           0.7619047619047619,
           0.7380952380952381,
           0.38095238095238093,
           0.5952380952380952,
           0.8095238095238095,
           0.8095238095238095,
           0.7142857142857143,
           0.35714285714285715,
           0.6190476190476191,
           0.023809523809523808,
           0.6428571428571429,
           0.35714285714285715,
           0.21428571428571427,
           0.2619047619047619,
           0.7380952380952381,
           0.6428571428571429,
           0.5952380952380952,
           0.19047619047619047,
           0.7142857142857143,
           0.19047619047619047,
           0.047619047619047616,
           0.023809523809523808,
           0.16666666666666666,
           0.38095238095238093,
           0.16666666666666666,
           0.023809523809523808,
           0.2619047619047619,
           0.5238095238095238,
           0.047619047619047616,
           0.023809523809523808,
           0.023809523809523808,
           0.11904761904761904,
           0.21428571428571427,
           0.023809523809523808,
           0.07142857142857142,
           0.023809523809523808,
           0.09523809523809523,
           0.8333333333333334,
           0.023809523809523808,
           0.023809523809523808,
           0.8809523809523809,
           0.7380952380952381,
           0.7619047619047619,
           0.16666666666666666,
           0.023809523809523808,
           0.023809523809523808,
           0.7619047619047619,
           0.8809523809523809,
           0.5476190476190477,
           0.3333333333333333,
           0.4523809523809524,
           0.40476190476190477,
           0.14285714285714285,
           0.07142857142857142,
           0.19047619047619047,
           0.30952380952380953,
           0.47619047619047616,
           0.023809523809523808,
           0.16666666666666666,
           0.07142857142857142,
           0.023809523809523808,
           0.07142857142857142,
           0.047619047619047616,
           0.047619047619047616,
           0.07142857142857142,
           0.047619047619047616,
           0.07142857142857142,
           0.047619047619047616,
           0.023809523809523808,
           0.07142857142857142,
           0.023809523809523808,
           0.047619047619047616,
           0.023809523809523808,
           0.023809523809523808,
           0.023809523809523808,
           0.023809523809523808,
           0.023809523809523808,
           0.8333333333333334,
           0.9761904761904762,
           0.8333333333333334,
           0.8809523809523809,
           0.8095238095238095,
           0.9285714285714286,
           0.7380952380952381,
           0.7857142857142857,
           0.7857142857142857,
           0.9047619047619048,
           0.7619047619047619,
           0.023809523809523808,
           0.023809523809523808,
           0.8333333333333334,
           0.7142857142857143,
           0.7857142857142857,
           0.07142857142857142,
           0.6428571428571429,
           0.8095238095238095,
           0.6666666666666666,
           0.14285714285714285,
           0.8095238095238095,
           0.7619047619047619,
           0.23809523809523808,
           0.2857142857142857,
           0.023809523809523808,
           0.07142857142857142,
           0.23809523809523808,
           0.023809523809523808,
           0.047619047619047616,
           0.023809523809523808,
           0.023809523809523808,
           0.023809523809523808,
           0.023809523809523808,
           0.023809523809523808,
           0.023809523809523808,
           0.023809523809523808,
           0.9285714285714286,
           0.7857142857142857,
           0.07142857142857142,
           0.3333333333333333,
           0.7380952380952381,
           0.023809523809523808,
           0.5714285714285714,
           0.09523809523809523,
           0.07142857142857142,
           0.21428571428571427,
           0.07142857142857142,
           0.023809523809523808,
           0.023809523809523808,
           0.023809523809523808,
           0.023809523809523808,
           0.023809523809523808,
           0.023809523809523808,
           0.07142857142857142,
           0.047619047619047616,
           0.023809523809523808,
           0.023809523809523808,
           0.023809523809523808,
           0.023809523809523808,
           0.9523809523809523,
           0.8809523809523809,
           0.7619047619047619,
           0.7619047619047619,
           0.8571428571428571,
           0.9047619047619048,
           0.7380952380952381,
           0.9523809523809523,
           0.5952380952380952,
           0.8571428571428571,
           0.7857142857142857,
           0.8095238095238095,
           0.7142857142857143,
           0.8571428571428571,
           0.38095238095238093,
           0.7619047619047619,
           0.5714285714285714,
           0.7142857142857143,
           0.2619047619047619,
           0.7380952380952381,
           0.2857142857142857,
           0.5476190476190477,
           0.5,
           0.2619047619047619,
           0.07142857142857142,
           0.09523809523809523,
           0.21428571428571427,
           0.07142857142857142,
           0.023809523809523808,
           0.30952380952380953,
           0.11904761904761904,
           0.09523809523809523,
           0.07142857142857142,
           0.8095238095238095,
           0.8333333333333334,
           0.8333333333333334,
           0.7142857142857143,
           0.9761904761904762,
           0.8333333333333334,
           0.8809523809523809,
           0.8095238095238095,
           0.9761904761904762,
           0.7619047619047619,
           0.9047619047619048,
           0.8809523809523809,
           0.8333333333333334,
           0.7857142857142857,
           0.8571428571428571,
           0.9285714285714286,
           0.9285714285714286,
           0.7142857142857143,
           0.7380952380952381,
           1,
           0.7380952380952381,
           0.7857142857142857,
           0.7857142857142857,
           0.7857142857142857,
           0.8095238095238095,
           0.9047619047619048,
           0.8333333333333334,
           0.7619047619047619,
           0.9761904761904762,
           0.023809523809523808,
           0.7857142857142857,
           0.023809523809523808,
           0.7619047619047619,
           0.8333333333333334,
           0.8809523809523809,
           0.7142857142857143,
           0.7619047619047619,
           0.8333333333333334,
           0.7857142857142857,
           0.7142857142857143,
           0.6428571428571429,
           0.7857142857142857,
           0.7380952380952381,
           0.7619047619047619,
           0.7857142857142857,
           0.7857142857142857,
           0.8095238095238095,
           0.7619047619047619,
           0.8809523809523809,
           0.8571428571428571,
           0.7619047619047619,
           0.6666666666666666,
           0.6904761904761905,
           0.3333333333333333,
           0.42857142857142855,
           0.047619047619047616,
           0.14285714285714285,
           0.8095238095238095,
           0.8095238095238095,
           0.7619047619047619,
           0.23809523809523808,
           0.2857142857142857,
           0.5476190476190477,
           0.7142857142857143,
           0.14285714285714285,
           0.14285714285714285,
           0.19047619047619047,
           0.7142857142857143,
           0.23809523809523808,
           0.40476190476190477,
           0.09523809523809523,
           0.07142857142857142,
           0.9761904761904762,
           0.9761904761904762,
           0.9761904761904762,
           0.9761904761904762,
           0.9523809523809523,
           0.9761904761904762,
           0.7619047619047619,
           0.7857142857142857,
           0.8095238095238095,
           0.8095238095238095,
           0.9761904761904762,
           0.9285714285714286,
           0.8809523809523809,
           1,
           0.7142857142857143,
           0.8095238095238095,
           0.8095238095238095,
           0.9761904761904762,
           0.8333333333333334,
           0.7857142857142857,
           0.8333333333333334,
           0.7619047619047619,
           0.9761904761904762,
           0.7142857142857143,
           0.8095238095238095,
           0.7142857142857143,
           0.9523809523809523,
           0.9761904761904762,
           0.7857142857142857,
           0.19047619047619047,
           0.8333333333333334,
           0.9761904761904762,
           0.7142857142857143,
           0.8571428571428571,
           0.8095238095238095,
           0.8333333333333334,
           0.23809523809523808,
           0.8809523809523809,
           0.8809523809523809,
           0.8095238095238095,
           0.9761904761904762,
           0.7380952380952381,
           0.7619047619047619,
           0.9047619047619048,
           0.7857142857142857,
           0.7142857142857143,
           0.7142857142857143,
           0.9285714285714286,
           0.9285714285714286,
           0.8333333333333334,
           0.7142857142857143,
           0.7380952380952381,
           1,
           0.7619047619047619,
           0.7380952380952381,
           0.7857142857142857,
           0.7857142857142857,
           0.42857142857142855,
           0.7142857142857143,
           0.8571428571428571,
           0.6190476190476191,
           0.8095238095238095,
           0.7380952380952381,
           0.9047619047619048,
           0.8333333333333334,
           0.7619047619047619,
           0.9761904761904762,
           0.8333333333333334,
           0.7380952380952381,
           0.9523809523809523,
           0.8333333333333334,
           0.7142857142857143,
           0.7619047619047619,
           0.8333333333333334,
           0.7857142857142857,
           0.7857142857142857,
           0.07142857142857142,
           0.7142857142857143,
           0.8095238095238095,
           0.6428571428571429,
           0.7857142857142857,
           0.7857142857142857,
           0.8571428571428571,
           0.7857142857142857,
           0.8095238095238095,
           0.8809523809523809,
           0.8571428571428571,
           0.8095238095238095,
           0.7619047619047619,
           0.6666666666666666,
           0.6904761904761905,
           0.7619047619047619,
           0.8095238095238095,
           0.2857142857142857,
           0.8095238095238095,
           0.7619047619047619,
           0.7380952380952381,
           0.23809523809523808,
           0.2857142857142857,
           0.8095238095238095,
           0.8095238095238095,
           0.7142857142857143,
           0.2619047619047619,
           0.21428571428571427,
           0.7380952380952381,
           0.35714285714285715,
           0.5,
           0.23809523809523808,
           0.047619047619047616,
           0.023809523809523808,
           0.8095238095238095,
           0.7857142857142857,
           0.9285714285714286,
           0.8095238095238095,
           0.7380952380952381,
           1,
           0.9285714285714286,
           0.9761904761904762,
           0.16666666666666666,
           0.7619047619047619,
           0.8809523809523809,
           0.7857142857142857,
           0.7619047619047619,
           0.8571428571428571,
           0.5238095238095238,
           0.35714285714285715,
           0.8571428571428571,
           0.7857142857142857,
           0.7619047619047619,
           0.7380952380952381,
           0.14285714285714285,
           0.42857142857142855,
           0.2857142857142857,
           0.11904761904761904,
           0.5476190476190477,
           0.2857142857142857,
           0.7142857142857143,
           0.4523809523809524,
           0.7142857142857143,
           0.7380952380952381,
           0.23809523809523808,
           0.42857142857142855,
           0.19047619047619047,
           0.07142857142857142,
           0.19047619047619047,
           0.047619047619047616,
           0.21428571428571427,
           0.023809523809523808,
           0.047619047619047616,
           0.2619047619047619,
           0.14285714285714285,
           0.09523809523809523,
           0.21428571428571427,
           0.09523809523809523,
           0.30952380952380953,
           0.09523809523809523,
           0.11904761904761904,
           0.023809523809523808,
           0.023809523809523808,
           0.07142857142857142,
           0.023809523809523808,
           0.07142857142857142,
           0.047619047619047616,
           0.023809523809523808
          ],
          "size": [
           4.235620498657227,
           1.5937209129333496,
           1.52773118019104,
           2.0870425701141357,
           4.628746509552002,
           1.806147813796997,
           1.5425441265106201,
           2.347661256790161,
           3.092153310775757,
           1.3508713245391846,
           1.460023045539856,
           2.178907632827759,
           1.752389907836914,
           1.9112114906311035,
           2.744274139404297,
           1.9767261743545532,
           2.6125524044036865,
           1.4444491863250732,
           1.7098324298858643,
           8.42481517791748,
           8.297382354736328,
           3.5709166526794434,
           3.4727494716644287,
           5.928927421569824,
           11.772180557250977,
           7.838544845581055,
           4.305970191955566,
           2.3458662033081055,
           9.679024696350098,
           4.958643913269043,
           7.323162078857422,
           4.666014194488525,
           2.2567903995513916,
           2.232862949371338,
           2.8164634704589844,
           2.0780625343322754,
           2.915302276611328,
           3.091538190841675,
           2.8354647159576416,
           4.386618614196777,
           2.074949264526367,
           1.8102768659591675,
           2.636770725250244,
           4.134169101715088,
           5.071809768676758,
           9.927506446838379,
           2.1067023277282715,
           1.9380221366882324,
           3.077915668487549,
           2.8446645736694336,
           2.6735787391662598,
           2.481127977371216,
           3.095690965652466,
           3.44006609916687,
           3.0076005458831787,
           5.286747932434082,
           4.418164253234863,
           2.6375629901885986,
           1.6721198558807373,
           2.1291966438293457,
           1.8243522644042969,
           2.4942333698272705,
           3.0882885456085205,
           3.536489248275757,
           3.446601390838623,
           2.634220838546753,
           2.03558087348938,
           2.689243793487549,
           1.7833250761032104,
           2.030829668045044,
           2.8274762630462646,
           2.4210567474365234,
           2.3135533332824707,
           1.8208627700805664,
           3.9761576652526855,
           2.6561169624328613,
           2.670919418334961,
           2.8813748359680176,
           2.0495150089263916,
           2.5770609378814697,
           2.4557790756225586,
           2.800139904022217,
           3.098717212677002,
           2.1410512924194336,
           1.6733585596084595,
           2.861359119415283,
           2.829055070877075,
           1.7403960227966309,
           4.303746700286865,
           1.951364278793335,
           3.0356321334838867,
           1.5318210124969482,
           2.2145333290100098,
           1.955594778060913,
           2.622616767883301,
           2.4518749713897705,
           2.869082450866699,
           2.305860996246338,
           2.0964720249176025,
           4.455135345458984,
           1.7156398296356201,
           1.4946447610855103,
           2.0737874507904053,
           2.8428244590759277,
           2.193941354751587,
           1.9534083604812622,
           2.2340216636657715,
           2.178746223449707,
           1.8273582458496094,
           2.495166778564453,
           1.5755552053451538,
           1.9975723028182983,
           1.7337380647659302,
           3.2110910415649414,
           2.0994255542755127,
           2.531684637069702,
           2.2411065101623535,
           2.361016273498535,
           2.9759840965270996,
           1.9809858798980713,
           2.3332104682922363,
           2.095172882080078,
           3.181736946105957,
           1.6024441719055176,
           3.042820930480957,
           2.2207436561584473,
           4.219554901123047,
           3.620249032974243,
           9.692630767822266,
           2.798089027404785,
           8.151031494140625,
           8.438462257385254,
           11.10384750366211,
           7.7598371505737305,
           4.93981409072876,
           2.904197931289673,
           5.074833393096924,
           2.5031206607818604,
           3.804893732070923,
           3.887146472930908,
           4.285539627075195,
           4.930507183074951,
           5.970025062561035,
           3.6488325595855713,
           2.830899715423584,
           8.639871597290039,
           3.3574864864349365,
           2.401667833328247,
           10.496899604797363,
           5.270120143890381,
           3.1782522201538086,
           6.427105903625488,
           3.7989044189453125,
           9.306137084960938,
           9.353752136230469,
           2.802839517593384,
           2.7624611854553223,
           4.2867302894592285,
           4.046599864959717,
           5.734755516052246,
           4.52119779586792,
           4.422694206237793,
           3.787992238998413,
           4.445866584777832,
           7.009093761444092,
           2.8957676887512207,
           7.979254245758057,
           4.363316059112549,
           3.560544729232788,
           3.98154878616333,
           3.622553586959839,
           4.258700847625732,
           6.638754844665527,
           2.9746716022491455,
           4.2650275230407715,
           4.654177188873291,
           2.3871045112609863,
           3.7056884765625,
           2.60256290435791,
           3.1875295639038086,
           2.1133430004119873,
           2.466339349746704,
           3.2212436199188232,
           3.2090022563934326,
           6.308681011199951,
           3.32340407371521,
           3.545827627182007,
           2.841616153717041,
           2.2588820457458496,
           2.4460532665252686,
           2.125999927520752,
           3.0608272552490234,
           3.1115188598632812,
           2.7715330123901367,
           3.5803914070129395,
           3.5791120529174805,
           2.292721748352051,
           2.1690385341644287
          ],
          "sizemode": "area",
          "sizeref": 0.032671575546264646,
          "symbol": "circle"
         },
         "mode": "markers",
         "name": "dots_ON",
         "orientation": "v",
         "showlegend": true,
         "type": "scatter",
         "x": [
          31,
          32,
          32.08571428571429,
          25.72972972972973,
          24.83783783783784,
          23.852941176470587,
          36.294117647058826,
          30,
          20.5,
          24,
          36.14705882352941,
          24,
          29,
          33.75,
          30,
          38,
          32.03333333333333,
          34.266666666666666,
          47,
          67,
          70,
          79,
          67,
          62.9,
          64,
          70.375,
          83.5,
          65,
          74.27272727272727,
          59.5,
          51.705882352941174,
          86.32352941176471,
          80.72222222222223,
          70.03225806451613,
          55.02439024390244,
          61.973684210526315,
          78.26315789473684,
          79.76315789473684,
          61.72727272727273,
          77.05555555555556,
          67,
          63.63333333333333,
          66,
          49.72727272727273,
          59,
          71,
          56.729729729729726,
          84.17948717948718,
          71.375,
          74.23809523809524,
          45.388888888888886,
          59.5,
          75.91891891891892,
          56.13333333333333,
          70.96774193548387,
          67.42857142857143,
          84.5,
          66,
          59.45454545454545,
          84,
          84,
          27.16216216216216,
          57.83870967741935,
          30.64516129032258,
          23.26086956521739,
          51.7,
          77,
          63.625,
          27.5,
          61.333333333333336,
          85.97435897435898,
          78.75757575757575,
          68.33333333333333,
          83.92857142857143,
          74.3225806451613,
          72,
          85.875,
          17,
          125.33333333333333,
          31.88888888888889,
          60.333333333333336,
          75,
          71,
          54,
          70,
          124,
          69,
          32.666666666666664,
          67.5,
          94,
          30,
          63,
          37,
          70.025,
          39.83783783783784,
          24.4375,
          81.5,
          35.97222222222222,
          79.21052631578948,
          20.032258064516128,
          29.075,
          67.08,
          26.86111111111111,
          47.39393939393939,
          22.205882352941178,
          54.03333333333333,
          41.75,
          66,
          39.21875,
          26,
          105.23333333333333,
          43.18181818181818,
          17.741935483870968,
          69.83333333333333,
          35.21739130434783,
          32.523809523809526,
          44.09090909090909,
          9.666666666666666,
          19.5,
          61.77777777777778,
          74.66666666666667,
          77,
          12.923076923076923,
          24.4,
          72,
          38.666666666666664,
          85.70588235294117,
          80.57142857142857,
          69.82857142857142,
          81.76666666666667,
          70,
          64.91428571428571,
          74.54054054054055,
          75.8529411764706,
          19,
          82.65625,
          13.894736842105264,
          48.08108108108108,
          81.37142857142857,
          76.15151515151516,
          81.44444444444444,
          18.82051282051282,
          65.7948717948718,
          18.866666666666667,
          64.48387096774194,
          53.976190476190474,
          76.29032258064517,
          86.12121212121212,
          79.93939393939394,
          78.63636363636364,
          74.73529411764706,
          60.973684210526315,
          16.17142857142857,
          76.6875,
          62,
          73,
          60.93939393939394,
          77,
          54.03125,
          60.857142857142854,
          70.02702702702703,
          75.16666666666667,
          26.09375,
          20.771428571428572,
          63.93939393939394,
          70.33333333333333,
          71.5925925925926,
          70.33333333333333,
          75.45161290322581,
          61.8125,
          19.515151515151516,
          55.39393939393939,
          83.1470588235294,
          23.625,
          24.972972972972972,
          65.75,
          14.03125,
          56.892857142857146,
          61.51724137931034,
          67.78571428571429,
          15.222222222222221,
          76.5,
          68,
          67.97058823529412,
          25.91176470588235,
          61.59375,
          60.6,
          87.91666666666667,
          15.130434782608695,
          34.43333333333333,
          80.16666666666667,
          79.5,
          75,
          76.5,
          79.3,
          65.94117647058823,
          58,
          61.666666666666664
         ],
         "xaxis": "x",
         "y": [
          31,
          56,
          58.51428571428571,
          27.83783783783784,
          55.81081081081081,
          33.29411764705881,
          35.14705882352942,
          38.61290322580646,
          52.5,
          40,
          20.705882352941188,
          46,
          26,
          44.375,
          31,
          26,
          38.69999999999999,
          39.93333333333334,
          27,
          47,
          36,
          31,
          41,
          50.56666666666667,
          47,
          31.09375,
          27.5,
          35,
          40.72727272727273,
          50.5,
          30.14705882352942,
          34.44117647058823,
          34.27777777777777,
          39.258064516129025,
          52.804878048780495,
          30.18421052631578,
          34.0263157894737,
          28.78947368421052,
          39.27272727272728,
          39.111111111111114,
          45,
          37.53333333333333,
          44,
          34.27272727272728,
          53.9,
          50.75,
          34.16216216216216,
          18.97435897435895,
          47.65625,
          43.04761904761905,
          29.444444444444457,
          33.5,
          40.16216216216219,
          38.33333333333334,
          45.225806451612925,
          51.85714285714286,
          26.69999999999999,
          45.40625,
          44.24242424242425,
          37,
          36.90625,
          27,
          50.03225806451613,
          22.774193548387103,
          23.52173913043478,
          33.30000000000001,
          46,
          49,
          19,
          45.33333333333334,
          37.17948717948718,
          24.818181818181813,
          52.666666666666664,
          53.642857142857146,
          46.48387096774192,
          28,
          47.08333333333333,
          61.75,
          36.666666666666664,
          56.66666666666667,
          59.33333333333334,
          59,
          61,
          12,
          55,
          35,
          56,
          48.33333333333333,
          54,
          43,
          55,
          39,
          20,
          23.05000000000001,
          27.86486486486487,
          60.96875,
          40.5,
          31.861111111111114,
          44.18421052631578,
          59.419354838709666,
          29.025000000000006,
          18.120000000000005,
          35.22222222222223,
          33.848484848484844,
          35.529411764705884,
          19.400000000000006,
          40.111111111111114,
          25.5,
          18.4375,
          59.625,
          26.76666666666668,
          24.454545454545467,
          57.83870967741935,
          40.33333333333333,
          25.608695652173907,
          48.47619047619048,
          17.454545454545467,
          55.66666666666667,
          41.5,
          42.77777777777777,
          44.33333333333333,
          41,
          55.84615384615385,
          46.80000000000001,
          40.5,
          23.33333333333333,
          31.852941176470587,
          35.17142857142857,
          53.74285714285713,
          29.366666666666667,
          49,
          55.97142857142859,
          50.27027027027026,
          53.029411764705856,
          52,
          41.1875,
          49.71052631578948,
          27.27027027027026,
          33.514285714285705,
          28.787878787878782,
          31.97222222222223,
          52,
          57.641025641025635,
          58.53333333333333,
          48,
          30.690476190476204,
          37.096774193548384,
          38.06060606060606,
          49.030303030303,
          45.27272727272725,
          28.882352941176464,
          58.89473684210526,
          43.57142857142857,
          45.375,
          33,
          47,
          20,
          48,
          24.09375,
          59.62857142857143,
          30.86486486486487,
          53.099999999999994,
          60.15625,
          40.77142857142857,
          54.333333333333336,
          43.6,
          60.48148148148147,
          31.181818181818187,
          37.064516129032256,
          27.78125,
          44.81818181818181,
          37.24242424242425,
          45.05882352941177,
          40.1875,
          49.97297297297297,
          34.05555555555556,
          56.03125,
          58.46428571428572,
          34.689655172413794,
          34.071428571428584,
          38.16666666666667,
          58,
          50.5,
          46.352941176470594,
          51.05882352941177,
          48.5,
          56.9,
          41.5,
          48.739130434782595,
          37.23333333333332,
          38.66666666666667,
          35,
          41.375,
          36.83333333333334,
          49.69999999999999,
          39.29411764705881,
          61.75,
          61.666666666666664
         ],
         "yaxis": "y"
        },
        {
         "hovertemplate": "color=dots_OFF<br>x=%{x}<br>y=%{y}<br>size=%{marker.size}<extra></extra>",
         "legendgroup": "dots_OFF",
         "marker": {
          "color": "#00cc96",
          "opacity": [
           0.9761904761904762,
           0.9285714285714286,
           0.7142857142857143,
           0.7857142857142857,
           0.7619047619047619,
           0.9761904761904762,
           0.9047619047619048,
           0.9047619047619048,
           0.023809523809523808,
           0.023809523809523808,
           0.2857142857142857,
           0.7619047619047619,
           0.5,
           0.7619047619047619,
           0.16666666666666666,
           0.7619047619047619,
           0.7380952380952381,
           0.023809523809523808,
           0.19047619047619047,
           0.023809523809523808,
           0.023809523809523808,
           0.07142857142857142,
           0.023809523809523808,
           0.9761904761904762,
           0.9761904761904762,
           0.8333333333333334,
           0.8809523809523809,
           0.8809523809523809,
           0.8095238095238095,
           0.8095238095238095,
           0.7380952380952381,
           0.7619047619047619,
           0.9285714285714286,
           0.8095238095238095,
           0.023809523809523808,
           0.023809523809523808,
           0.7619047619047619,
           0.9761904761904762,
           0.9761904761904762,
           0.7142857142857143,
           0.7142857142857143,
           0.023809523809523808,
           0.9761904761904762,
           0.9761904761904762,
           0.9761904761904762,
           0.9285714285714286,
           0.7142857142857143,
           0.9761904761904762,
           0.7619047619047619,
           0.7619047619047619,
           0.9761904761904762,
           0.7857142857142857,
           0.7619047619047619,
           0.8095238095238095,
           0.8095238095238095,
           0.8571428571428571,
           0.7380952380952381,
           0.9761904761904762,
           0.9047619047619048,
           0.9047619047619048,
           0.9047619047619048,
           0.7857142857142857,
           0.8571428571428571,
           0.023809523809523808,
           0.7142857142857143,
           0.023809523809523808,
           0.7857142857142857,
           0.9523809523809523,
           0.2857142857142857,
           0.8809523809523809,
           0.9285714285714286,
           0.7619047619047619,
           0.5,
           0.8571428571428571,
           0.7619047619047619,
           0.8809523809523809,
           0.7142857142857143,
           0.7380952380952381,
           0.16666666666666666,
           0.7142857142857143,
           0.7619047619047619,
           0.7857142857142857,
           0.023809523809523808,
           0.7619047619047619,
           0.8809523809523809,
           0.7380952380952381,
           0.7380952380952381,
           0.5476190476190477,
           0.23809523809523808,
           0.023809523809523808,
           0.19047619047619047,
           0.09523809523809523,
           0.07142857142857142,
           0.9761904761904762,
           0.9761904761904762,
           0.7857142857142857,
           0.7619047619047619,
           0.16666666666666666,
           0.19047619047619047,
           0.023809523809523808,
           0.9761904761904762,
           0.9761904761904762,
           0.9761904761904762,
           0.7380952380952381,
           0.9285714285714286,
           0.7142857142857143,
           0.9761904761904762,
           0.9761904761904762,
           0.9761904761904762,
           0.9761904761904762,
           0.8809523809523809,
           0.7619047619047619,
           0.9761904761904762,
           0.9761904761904762,
           0.8809523809523809,
           0.8333333333333334,
           0.8809523809523809,
           0.9761904761904762,
           0.7857142857142857,
           0.8809523809523809,
           0.7857142857142857,
           0.7619047619047619,
           0.8095238095238095,
           0.9761904761904762,
           0.9047619047619048,
           0.5238095238095238,
           0.9761904761904762,
           0.9761904761904762,
           0.8095238095238095,
           0.7857142857142857,
           0.8095238095238095,
           0.8809523809523809,
           0.8571428571428571,
           0.9761904761904762,
           0.7380952380952381,
           0.8095238095238095,
           0.7857142857142857,
           0.7857142857142857,
           0.9761904761904762,
           0.023809523809523808,
           0.7380952380952381,
           0.9047619047619048,
           0.9761904761904762,
           0.9047619047619048,
           0.8333333333333334,
           0.7619047619047619,
           0.8095238095238095,
           0.9047619047619048,
           0.9285714285714286,
           0.9285714285714286,
           0.9761904761904762,
           0.7857142857142857,
           0.8571428571428571,
           0.8095238095238095,
           0.023809523809523808,
           0.7142857142857143,
           0.7380952380952381,
           0.8571428571428571,
           0.9285714285714286,
           0.7857142857142857,
           0.9761904761904762,
           0.7857142857142857,
           0.8571428571428571,
           0.9523809523809523,
           0.023809523809523808,
           0.2857142857142857,
           0.9761904761904762,
           0.8571428571428571,
           0.7619047619047619,
           0.023809523809523808,
           0.8095238095238095,
           0.7619047619047619,
           0.7619047619047619,
           0.5476190476190477,
           0.7380952380952381,
           0.8809523809523809,
           0.9285714285714286,
           0.7142857142857143,
           0.7619047619047619,
           0.5,
           0.8571428571428571,
           0.9285714285714286,
           0.7619047619047619,
           0.8571428571428571,
           0.7857142857142857,
           0.9047619047619048,
           0.9761904761904762,
           0.7142857142857143,
           0.7619047619047619,
           0.8571428571428571,
           0.8571428571428571,
           0.7619047619047619,
           0.7619047619047619,
           0.7380952380952381,
           0.9047619047619048,
           0.8809523809523809,
           0.7857142857142857,
           0.8809523809523809,
           0.023809523809523808,
           0.7142857142857143,
           0.7380952380952381,
           0.9047619047619048,
           0.9761904761904762,
           0.7142857142857143,
           0.023809523809523808,
           0.7857142857142857,
           0.9761904761904762,
           0.9523809523809523,
           0.7619047619047619,
           0.7857142857142857,
           0.8095238095238095,
           0.023809523809523808,
           0.023809523809523808,
           0.9761904761904762,
           0.8333333333333334,
           0.7142857142857143,
           0.9285714285714286,
           0.7619047619047619,
           0.9523809523809523,
           0.7380952380952381,
           0.6190476190476191,
           0.7380952380952381,
           0.7142857142857143,
           0.7857142857142857,
           0.7380952380952381,
           0.7380952380952381,
           0.7380952380952381,
           0.7142857142857143,
           0.7142857142857143,
           0.8333333333333334,
           0.7142857142857143,
           1,
           0.9285714285714286,
           0.8571428571428571,
           0.8571428571428571,
           0.5,
           0.7619047619047619,
           0.7142857142857143,
           0.8571428571428571,
           0.7142857142857143,
           0.2857142857142857,
           0.7857142857142857,
           0.6666666666666666,
           0.7619047619047619,
           0.38095238095238093,
           0.47619047619047616,
           0.023809523809523808,
           0.8571428571428571,
           0.3333333333333333,
           0.8571428571428571,
           0.7380952380952381,
           0.4523809523809524,
           0.8095238095238095,
           0.47619047619047616,
           0.5714285714285714,
           0.8571428571428571,
           0.8809523809523809,
           0.7142857142857143,
           0.7380952380952381,
           0.7619047619047619,
           0.7142857142857143,
           0.8333333333333334,
           0.8571428571428571,
           0.7619047619047619,
           0.5,
           0.09523809523809523,
           0.7380952380952381,
           0.7619047619047619,
           0.19047619047619047,
           0.8095238095238095,
           0.7857142857142857,
           0.8333333333333334,
           0.7380952380952381,
           0.47619047619047616,
           0.3333333333333333,
           0.023809523809523808,
           0.11904761904761904,
           0.5476190476190477,
           0.23809523809523808,
           0.7619047619047619,
           0.7380952380952381,
           0.7619047619047619,
           0.11904761904761904,
           0.023809523809523808,
           0.7380952380952381,
           0.8333333333333334,
           0.7619047619047619,
           0.7380952380952381,
           0.38095238095238093,
           0.5952380952380952,
           0.8095238095238095,
           0.8095238095238095,
           0.7142857142857143,
           0.35714285714285715,
           0.6190476190476191,
           0.023809523809523808,
           0.6428571428571429,
           0.35714285714285715,
           0.21428571428571427,
           0.2619047619047619,
           0.7380952380952381,
           0.6428571428571429,
           0.5952380952380952,
           0.19047619047619047,
           0.7142857142857143,
           0.19047619047619047,
           0.047619047619047616,
           0.023809523809523808,
           0.16666666666666666,
           0.38095238095238093,
           0.16666666666666666,
           0.023809523809523808,
           0.2619047619047619,
           0.5238095238095238,
           0.047619047619047616,
           0.023809523809523808,
           0.023809523809523808,
           0.11904761904761904,
           0.21428571428571427,
           0.023809523809523808,
           0.07142857142857142,
           0.023809523809523808,
           0.09523809523809523,
           0.8333333333333334,
           0.023809523809523808,
           0.023809523809523808,
           0.8809523809523809,
           0.7380952380952381,
           0.7619047619047619,
           0.16666666666666666,
           0.023809523809523808,
           0.023809523809523808,
           0.7619047619047619,
           0.8809523809523809,
           0.5476190476190477,
           0.3333333333333333,
           0.4523809523809524,
           0.40476190476190477,
           0.14285714285714285,
           0.07142857142857142,
           0.19047619047619047,
           0.30952380952380953,
           0.47619047619047616,
           0.023809523809523808,
           0.16666666666666666,
           0.07142857142857142,
           0.023809523809523808,
           0.07142857142857142,
           0.047619047619047616,
           0.047619047619047616,
           0.07142857142857142,
           0.047619047619047616,
           0.07142857142857142,
           0.047619047619047616,
           0.023809523809523808,
           0.07142857142857142,
           0.023809523809523808,
           0.047619047619047616,
           0.023809523809523808,
           0.023809523809523808,
           0.023809523809523808,
           0.023809523809523808,
           0.023809523809523808,
           0.8333333333333334,
           0.9761904761904762,
           0.8333333333333334,
           0.8809523809523809,
           0.8095238095238095,
           0.9285714285714286,
           0.7380952380952381,
           0.7857142857142857,
           0.7857142857142857,
           0.9047619047619048,
           0.7619047619047619,
           0.023809523809523808,
           0.023809523809523808,
           0.8333333333333334,
           0.7142857142857143,
           0.7857142857142857,
           0.07142857142857142,
           0.6428571428571429,
           0.8095238095238095,
           0.6666666666666666,
           0.14285714285714285,
           0.8095238095238095,
           0.7619047619047619,
           0.23809523809523808,
           0.2857142857142857,
           0.023809523809523808,
           0.07142857142857142,
           0.23809523809523808,
           0.023809523809523808,
           0.047619047619047616,
           0.023809523809523808,
           0.023809523809523808,
           0.023809523809523808,
           0.023809523809523808,
           0.023809523809523808,
           0.023809523809523808,
           0.023809523809523808,
           0.9285714285714286,
           0.7857142857142857,
           0.07142857142857142,
           0.3333333333333333,
           0.7380952380952381,
           0.023809523809523808,
           0.5714285714285714,
           0.09523809523809523,
           0.07142857142857142,
           0.21428571428571427,
           0.07142857142857142,
           0.023809523809523808,
           0.023809523809523808,
           0.023809523809523808,
           0.023809523809523808,
           0.023809523809523808,
           0.023809523809523808,
           0.07142857142857142,
           0.047619047619047616,
           0.023809523809523808,
           0.023809523809523808,
           0.023809523809523808,
           0.023809523809523808,
           0.9523809523809523,
           0.8809523809523809,
           0.7619047619047619,
           0.7619047619047619,
           0.8571428571428571,
           0.9047619047619048,
           0.7380952380952381,
           0.9523809523809523,
           0.5952380952380952,
           0.8571428571428571,
           0.7857142857142857,
           0.8095238095238095,
           0.7142857142857143,
           0.8571428571428571,
           0.38095238095238093,
           0.7619047619047619,
           0.5714285714285714,
           0.7142857142857143,
           0.2619047619047619,
           0.7380952380952381,
           0.2857142857142857,
           0.5476190476190477,
           0.5,
           0.2619047619047619,
           0.07142857142857142,
           0.09523809523809523,
           0.21428571428571427,
           0.07142857142857142,
           0.023809523809523808,
           0.30952380952380953,
           0.11904761904761904,
           0.09523809523809523,
           0.07142857142857142,
           0.8095238095238095,
           0.8333333333333334,
           0.8333333333333334,
           0.7142857142857143,
           0.9761904761904762,
           0.8333333333333334,
           0.8809523809523809,
           0.8095238095238095,
           0.9761904761904762,
           0.7619047619047619,
           0.9047619047619048,
           0.8809523809523809,
           0.8333333333333334,
           0.7857142857142857,
           0.8571428571428571,
           0.9285714285714286,
           0.9285714285714286,
           0.7142857142857143,
           0.7380952380952381,
           1,
           0.7380952380952381,
           0.7857142857142857,
           0.7857142857142857,
           0.7857142857142857,
           0.8095238095238095,
           0.9047619047619048,
           0.8333333333333334,
           0.7619047619047619,
           0.9761904761904762,
           0.023809523809523808,
           0.7857142857142857,
           0.023809523809523808,
           0.7619047619047619,
           0.8333333333333334,
           0.8809523809523809,
           0.7142857142857143,
           0.7619047619047619,
           0.8333333333333334,
           0.7857142857142857,
           0.7142857142857143,
           0.6428571428571429,
           0.7857142857142857,
           0.7380952380952381,
           0.7619047619047619,
           0.7857142857142857,
           0.7857142857142857,
           0.8095238095238095,
           0.7619047619047619,
           0.8809523809523809,
           0.8571428571428571,
           0.7619047619047619,
           0.6666666666666666,
           0.6904761904761905,
           0.3333333333333333,
           0.42857142857142855,
           0.047619047619047616,
           0.14285714285714285,
           0.8095238095238095,
           0.8095238095238095,
           0.7619047619047619,
           0.23809523809523808,
           0.2857142857142857,
           0.5476190476190477,
           0.7142857142857143,
           0.14285714285714285,
           0.14285714285714285,
           0.19047619047619047,
           0.7142857142857143,
           0.23809523809523808,
           0.40476190476190477,
           0.09523809523809523,
           0.07142857142857142,
           0.9761904761904762,
           0.9761904761904762,
           0.9761904761904762,
           0.9761904761904762,
           0.9523809523809523,
           0.9761904761904762,
           0.7619047619047619,
           0.7857142857142857,
           0.8095238095238095,
           0.8095238095238095,
           0.9761904761904762,
           0.9285714285714286,
           0.8809523809523809,
           1,
           0.7142857142857143,
           0.8095238095238095,
           0.8095238095238095,
           0.9761904761904762,
           0.8333333333333334,
           0.7857142857142857,
           0.8333333333333334,
           0.7619047619047619,
           0.9761904761904762,
           0.7142857142857143,
           0.8095238095238095,
           0.7142857142857143,
           0.9523809523809523,
           0.9761904761904762,
           0.7857142857142857,
           0.19047619047619047,
           0.8333333333333334,
           0.9761904761904762,
           0.7142857142857143,
           0.8571428571428571,
           0.8095238095238095,
           0.8333333333333334,
           0.23809523809523808,
           0.8809523809523809,
           0.8809523809523809,
           0.8095238095238095,
           0.9761904761904762,
           0.7380952380952381,
           0.7619047619047619,
           0.9047619047619048,
           0.7857142857142857,
           0.7142857142857143,
           0.7142857142857143,
           0.9285714285714286,
           0.9285714285714286,
           0.8333333333333334,
           0.7142857142857143,
           0.7380952380952381,
           1,
           0.7619047619047619,
           0.7380952380952381,
           0.7857142857142857,
           0.7857142857142857,
           0.42857142857142855,
           0.7142857142857143,
           0.8571428571428571,
           0.6190476190476191,
           0.8095238095238095,
           0.7380952380952381,
           0.9047619047619048,
           0.8333333333333334,
           0.7619047619047619,
           0.9761904761904762,
           0.8333333333333334,
           0.7380952380952381,
           0.9523809523809523,
           0.8333333333333334,
           0.7142857142857143,
           0.7619047619047619,
           0.8333333333333334,
           0.7857142857142857,
           0.7857142857142857,
           0.07142857142857142,
           0.7142857142857143,
           0.8095238095238095,
           0.6428571428571429,
           0.7857142857142857,
           0.7857142857142857,
           0.8571428571428571,
           0.7857142857142857,
           0.8095238095238095,
           0.8809523809523809,
           0.8571428571428571,
           0.8095238095238095,
           0.7619047619047619,
           0.6666666666666666,
           0.6904761904761905,
           0.7619047619047619,
           0.8095238095238095,
           0.2857142857142857,
           0.8095238095238095,
           0.7619047619047619,
           0.7380952380952381,
           0.23809523809523808,
           0.2857142857142857,
           0.8095238095238095,
           0.8095238095238095,
           0.7142857142857143,
           0.2619047619047619,
           0.21428571428571427,
           0.7380952380952381,
           0.35714285714285715,
           0.5,
           0.23809523809523808,
           0.047619047619047616,
           0.023809523809523808,
           0.8095238095238095,
           0.7857142857142857,
           0.9285714285714286,
           0.8095238095238095,
           0.7380952380952381,
           1,
           0.9285714285714286,
           0.9761904761904762,
           0.16666666666666666,
           0.7619047619047619,
           0.8809523809523809,
           0.7857142857142857,
           0.7619047619047619,
           0.8571428571428571,
           0.5238095238095238,
           0.35714285714285715,
           0.8571428571428571,
           0.7857142857142857,
           0.7619047619047619,
           0.7380952380952381,
           0.14285714285714285,
           0.42857142857142855,
           0.2857142857142857,
           0.11904761904761904,
           0.5476190476190477,
           0.2857142857142857,
           0.7142857142857143,
           0.4523809523809524,
           0.7142857142857143,
           0.7380952380952381,
           0.23809523809523808,
           0.42857142857142855,
           0.19047619047619047,
           0.07142857142857142,
           0.19047619047619047,
           0.047619047619047616,
           0.21428571428571427,
           0.023809523809523808,
           0.047619047619047616,
           0.2619047619047619,
           0.14285714285714285,
           0.09523809523809523,
           0.21428571428571427,
           0.09523809523809523,
           0.30952380952380953,
           0.09523809523809523,
           0.11904761904761904,
           0.023809523809523808,
           0.023809523809523808,
           0.07142857142857142,
           0.023809523809523808,
           0.07142857142857142,
           0.047619047619047616,
           0.023809523809523808
          ],
          "size": [
           1.3679628372192383,
           4.963944911956787,
           5.124996662139893,
           2.824368476867676,
           1.7015621662139893,
           1.848413109779358,
           1.9778163433074951
          ],
          "sizemode": "area",
          "sizeref": 0.032671575546264646,
          "symbol": "circle"
         },
         "mode": "markers",
         "name": "dots_OFF",
         "orientation": "v",
         "showlegend": true,
         "type": "scatter",
         "x": [
          67,
          64,
          74.27272727272727,
          71.375,
          67.42857142857143,
          63.625,
          56
         ],
         "xaxis": "x",
         "y": [
          47,
          47,
          40.72727272727273,
          47.65625,
          51.85714285714286,
          49,
          7
         ],
         "yaxis": "y"
        },
        {
         "hovertemplate": "color=loom<br>x=%{x}<br>y=%{y}<br>size=%{marker.size}<extra></extra>",
         "legendgroup": "loom",
         "marker": {
          "color": "#ab63fa",
          "opacity": [
           0.9761904761904762,
           0.9285714285714286,
           0.7142857142857143,
           0.7857142857142857,
           0.7619047619047619,
           0.9761904761904762,
           0.9047619047619048,
           0.9047619047619048,
           0.023809523809523808,
           0.023809523809523808,
           0.2857142857142857,
           0.7619047619047619,
           0.5,
           0.7619047619047619,
           0.16666666666666666,
           0.7619047619047619,
           0.7380952380952381,
           0.023809523809523808,
           0.19047619047619047,
           0.023809523809523808,
           0.023809523809523808,
           0.07142857142857142,
           0.023809523809523808,
           0.9761904761904762,
           0.9761904761904762,
           0.8333333333333334,
           0.8809523809523809,
           0.8809523809523809,
           0.8095238095238095,
           0.8095238095238095,
           0.7380952380952381,
           0.7619047619047619,
           0.9285714285714286,
           0.8095238095238095,
           0.023809523809523808,
           0.023809523809523808,
           0.7619047619047619,
           0.9761904761904762,
           0.9761904761904762,
           0.7142857142857143,
           0.7142857142857143,
           0.023809523809523808,
           0.9761904761904762,
           0.9761904761904762,
           0.9761904761904762,
           0.9285714285714286,
           0.7142857142857143,
           0.9761904761904762,
           0.7619047619047619,
           0.7619047619047619,
           0.9761904761904762,
           0.7857142857142857,
           0.7619047619047619,
           0.8095238095238095,
           0.8095238095238095,
           0.8571428571428571,
           0.7380952380952381,
           0.9761904761904762,
           0.9047619047619048,
           0.9047619047619048,
           0.9047619047619048,
           0.7857142857142857,
           0.8571428571428571,
           0.023809523809523808,
           0.7142857142857143,
           0.023809523809523808,
           0.7857142857142857,
           0.9523809523809523,
           0.2857142857142857,
           0.8809523809523809,
           0.9285714285714286,
           0.7619047619047619,
           0.5,
           0.8571428571428571,
           0.7619047619047619,
           0.8809523809523809,
           0.7142857142857143,
           0.7380952380952381,
           0.16666666666666666,
           0.7142857142857143,
           0.7619047619047619,
           0.7857142857142857,
           0.023809523809523808,
           0.7619047619047619,
           0.8809523809523809,
           0.7380952380952381,
           0.7380952380952381,
           0.5476190476190477,
           0.23809523809523808,
           0.023809523809523808,
           0.19047619047619047,
           0.09523809523809523,
           0.07142857142857142,
           0.9761904761904762,
           0.9761904761904762,
           0.7857142857142857,
           0.7619047619047619,
           0.16666666666666666,
           0.19047619047619047,
           0.023809523809523808,
           0.9761904761904762,
           0.9761904761904762,
           0.9761904761904762,
           0.7380952380952381,
           0.9285714285714286,
           0.7142857142857143,
           0.9761904761904762,
           0.9761904761904762,
           0.9761904761904762,
           0.9761904761904762,
           0.8809523809523809,
           0.7619047619047619,
           0.9761904761904762,
           0.9761904761904762,
           0.8809523809523809,
           0.8333333333333334,
           0.8809523809523809,
           0.9761904761904762,
           0.7857142857142857,
           0.8809523809523809,
           0.7857142857142857,
           0.7619047619047619,
           0.8095238095238095,
           0.9761904761904762,
           0.9047619047619048,
           0.5238095238095238,
           0.9761904761904762,
           0.9761904761904762,
           0.8095238095238095,
           0.7857142857142857,
           0.8095238095238095,
           0.8809523809523809,
           0.8571428571428571,
           0.9761904761904762,
           0.7380952380952381,
           0.8095238095238095,
           0.7857142857142857,
           0.7857142857142857,
           0.9761904761904762,
           0.023809523809523808,
           0.7380952380952381,
           0.9047619047619048,
           0.9761904761904762,
           0.9047619047619048,
           0.8333333333333334,
           0.7619047619047619,
           0.8095238095238095,
           0.9047619047619048,
           0.9285714285714286,
           0.9285714285714286,
           0.9761904761904762,
           0.7857142857142857,
           0.8571428571428571,
           0.8095238095238095,
           0.023809523809523808,
           0.7142857142857143,
           0.7380952380952381,
           0.8571428571428571,
           0.9285714285714286,
           0.7857142857142857,
           0.9761904761904762,
           0.7857142857142857,
           0.8571428571428571,
           0.9523809523809523,
           0.023809523809523808,
           0.2857142857142857,
           0.9761904761904762,
           0.8571428571428571,
           0.7619047619047619,
           0.023809523809523808,
           0.8095238095238095,
           0.7619047619047619,
           0.7619047619047619,
           0.5476190476190477,
           0.7380952380952381,
           0.8809523809523809,
           0.9285714285714286,
           0.7142857142857143,
           0.7619047619047619,
           0.5,
           0.8571428571428571,
           0.9285714285714286,
           0.7619047619047619,
           0.8571428571428571,
           0.7857142857142857,
           0.9047619047619048,
           0.9761904761904762,
           0.7142857142857143,
           0.7619047619047619,
           0.8571428571428571,
           0.8571428571428571,
           0.7619047619047619,
           0.7619047619047619,
           0.7380952380952381,
           0.9047619047619048,
           0.8809523809523809,
           0.7857142857142857,
           0.8809523809523809,
           0.023809523809523808,
           0.7142857142857143,
           0.7380952380952381,
           0.9047619047619048,
           0.9761904761904762,
           0.7142857142857143,
           0.023809523809523808,
           0.7857142857142857,
           0.9761904761904762,
           0.9523809523809523,
           0.7619047619047619,
           0.7857142857142857,
           0.8095238095238095,
           0.023809523809523808,
           0.023809523809523808,
           0.9761904761904762,
           0.8333333333333334,
           0.7142857142857143,
           0.9285714285714286,
           0.7619047619047619,
           0.9523809523809523,
           0.7380952380952381,
           0.6190476190476191,
           0.7380952380952381,
           0.7142857142857143,
           0.7857142857142857,
           0.7380952380952381,
           0.7380952380952381,
           0.7380952380952381,
           0.7142857142857143,
           0.7142857142857143,
           0.8333333333333334,
           0.7142857142857143,
           1,
           0.9285714285714286,
           0.8571428571428571,
           0.8571428571428571,
           0.5,
           0.7619047619047619,
           0.7142857142857143,
           0.8571428571428571,
           0.7142857142857143,
           0.2857142857142857,
           0.7857142857142857,
           0.6666666666666666,
           0.7619047619047619,
           0.38095238095238093,
           0.47619047619047616,
           0.023809523809523808,
           0.8571428571428571,
           0.3333333333333333,
           0.8571428571428571,
           0.7380952380952381,
           0.4523809523809524,
           0.8095238095238095,
           0.47619047619047616,
           0.5714285714285714,
           0.8571428571428571,
           0.8809523809523809,
           0.7142857142857143,
           0.7380952380952381,
           0.7619047619047619,
           0.7142857142857143,
           0.8333333333333334,
           0.8571428571428571,
           0.7619047619047619,
           0.5,
           0.09523809523809523,
           0.7380952380952381,
           0.7619047619047619,
           0.19047619047619047,
           0.8095238095238095,
           0.7857142857142857,
           0.8333333333333334,
           0.7380952380952381,
           0.47619047619047616,
           0.3333333333333333,
           0.023809523809523808,
           0.11904761904761904,
           0.5476190476190477,
           0.23809523809523808,
           0.7619047619047619,
           0.7380952380952381,
           0.7619047619047619,
           0.11904761904761904,
           0.023809523809523808,
           0.7380952380952381,
           0.8333333333333334,
           0.7619047619047619,
           0.7380952380952381,
           0.38095238095238093,
           0.5952380952380952,
           0.8095238095238095,
           0.8095238095238095,
           0.7142857142857143,
           0.35714285714285715,
           0.6190476190476191,
           0.023809523809523808,
           0.6428571428571429,
           0.35714285714285715,
           0.21428571428571427,
           0.2619047619047619,
           0.7380952380952381,
           0.6428571428571429,
           0.5952380952380952,
           0.19047619047619047,
           0.7142857142857143,
           0.19047619047619047,
           0.047619047619047616,
           0.023809523809523808,
           0.16666666666666666,
           0.38095238095238093,
           0.16666666666666666,
           0.023809523809523808,
           0.2619047619047619,
           0.5238095238095238,
           0.047619047619047616,
           0.023809523809523808,
           0.023809523809523808,
           0.11904761904761904,
           0.21428571428571427,
           0.023809523809523808,
           0.07142857142857142,
           0.023809523809523808,
           0.09523809523809523,
           0.8333333333333334,
           0.023809523809523808,
           0.023809523809523808,
           0.8809523809523809,
           0.7380952380952381,
           0.7619047619047619,
           0.16666666666666666,
           0.023809523809523808,
           0.023809523809523808,
           0.7619047619047619,
           0.8809523809523809,
           0.5476190476190477,
           0.3333333333333333,
           0.4523809523809524,
           0.40476190476190477,
           0.14285714285714285,
           0.07142857142857142,
           0.19047619047619047,
           0.30952380952380953,
           0.47619047619047616,
           0.023809523809523808,
           0.16666666666666666,
           0.07142857142857142,
           0.023809523809523808,
           0.07142857142857142,
           0.047619047619047616,
           0.047619047619047616,
           0.07142857142857142,
           0.047619047619047616,
           0.07142857142857142,
           0.047619047619047616,
           0.023809523809523808,
           0.07142857142857142,
           0.023809523809523808,
           0.047619047619047616,
           0.023809523809523808,
           0.023809523809523808,
           0.023809523809523808,
           0.023809523809523808,
           0.023809523809523808,
           0.8333333333333334,
           0.9761904761904762,
           0.8333333333333334,
           0.8809523809523809,
           0.8095238095238095,
           0.9285714285714286,
           0.7380952380952381,
           0.7857142857142857,
           0.7857142857142857,
           0.9047619047619048,
           0.7619047619047619,
           0.023809523809523808,
           0.023809523809523808,
           0.8333333333333334,
           0.7142857142857143,
           0.7857142857142857,
           0.07142857142857142,
           0.6428571428571429,
           0.8095238095238095,
           0.6666666666666666,
           0.14285714285714285,
           0.8095238095238095,
           0.7619047619047619,
           0.23809523809523808,
           0.2857142857142857,
           0.023809523809523808,
           0.07142857142857142,
           0.23809523809523808,
           0.023809523809523808,
           0.047619047619047616,
           0.023809523809523808,
           0.023809523809523808,
           0.023809523809523808,
           0.023809523809523808,
           0.023809523809523808,
           0.023809523809523808,
           0.023809523809523808,
           0.9285714285714286,
           0.7857142857142857,
           0.07142857142857142,
           0.3333333333333333,
           0.7380952380952381,
           0.023809523809523808,
           0.5714285714285714,
           0.09523809523809523,
           0.07142857142857142,
           0.21428571428571427,
           0.07142857142857142,
           0.023809523809523808,
           0.023809523809523808,
           0.023809523809523808,
           0.023809523809523808,
           0.023809523809523808,
           0.023809523809523808,
           0.07142857142857142,
           0.047619047619047616,
           0.023809523809523808,
           0.023809523809523808,
           0.023809523809523808,
           0.023809523809523808,
           0.9523809523809523,
           0.8809523809523809,
           0.7619047619047619,
           0.7619047619047619,
           0.8571428571428571,
           0.9047619047619048,
           0.7380952380952381,
           0.9523809523809523,
           0.5952380952380952,
           0.8571428571428571,
           0.7857142857142857,
           0.8095238095238095,
           0.7142857142857143,
           0.8571428571428571,
           0.38095238095238093,
           0.7619047619047619,
           0.5714285714285714,
           0.7142857142857143,
           0.2619047619047619,
           0.7380952380952381,
           0.2857142857142857,
           0.5476190476190477,
           0.5,
           0.2619047619047619,
           0.07142857142857142,
           0.09523809523809523,
           0.21428571428571427,
           0.07142857142857142,
           0.023809523809523808,
           0.30952380952380953,
           0.11904761904761904,
           0.09523809523809523,
           0.07142857142857142,
           0.8095238095238095,
           0.8333333333333334,
           0.8333333333333334,
           0.7142857142857143,
           0.9761904761904762,
           0.8333333333333334,
           0.8809523809523809,
           0.8095238095238095,
           0.9761904761904762,
           0.7619047619047619,
           0.9047619047619048,
           0.8809523809523809,
           0.8333333333333334,
           0.7857142857142857,
           0.8571428571428571,
           0.9285714285714286,
           0.9285714285714286,
           0.7142857142857143,
           0.7380952380952381,
           1,
           0.7380952380952381,
           0.7857142857142857,
           0.7857142857142857,
           0.7857142857142857,
           0.8095238095238095,
           0.9047619047619048,
           0.8333333333333334,
           0.7619047619047619,
           0.9761904761904762,
           0.023809523809523808,
           0.7857142857142857,
           0.023809523809523808,
           0.7619047619047619,
           0.8333333333333334,
           0.8809523809523809,
           0.7142857142857143,
           0.7619047619047619,
           0.8333333333333334,
           0.7857142857142857,
           0.7142857142857143,
           0.6428571428571429,
           0.7857142857142857,
           0.7380952380952381,
           0.7619047619047619,
           0.7857142857142857,
           0.7857142857142857,
           0.8095238095238095,
           0.7619047619047619,
           0.8809523809523809,
           0.8571428571428571,
           0.7619047619047619,
           0.6666666666666666,
           0.6904761904761905,
           0.3333333333333333,
           0.42857142857142855,
           0.047619047619047616,
           0.14285714285714285,
           0.8095238095238095,
           0.8095238095238095,
           0.7619047619047619,
           0.23809523809523808,
           0.2857142857142857,
           0.5476190476190477,
           0.7142857142857143,
           0.14285714285714285,
           0.14285714285714285,
           0.19047619047619047,
           0.7142857142857143,
           0.23809523809523808,
           0.40476190476190477,
           0.09523809523809523,
           0.07142857142857142,
           0.9761904761904762,
           0.9761904761904762,
           0.9761904761904762,
           0.9761904761904762,
           0.9523809523809523,
           0.9761904761904762,
           0.7619047619047619,
           0.7857142857142857,
           0.8095238095238095,
           0.8095238095238095,
           0.9761904761904762,
           0.9285714285714286,
           0.8809523809523809,
           1,
           0.7142857142857143,
           0.8095238095238095,
           0.8095238095238095,
           0.9761904761904762,
           0.8333333333333334,
           0.7857142857142857,
           0.8333333333333334,
           0.7619047619047619,
           0.9761904761904762,
           0.7142857142857143,
           0.8095238095238095,
           0.7142857142857143,
           0.9523809523809523,
           0.9761904761904762,
           0.7857142857142857,
           0.19047619047619047,
           0.8333333333333334,
           0.9761904761904762,
           0.7142857142857143,
           0.8571428571428571,
           0.8095238095238095,
           0.8333333333333334,
           0.23809523809523808,
           0.8809523809523809,
           0.8809523809523809,
           0.8095238095238095,
           0.9761904761904762,
           0.7380952380952381,
           0.7619047619047619,
           0.9047619047619048,
           0.7857142857142857,
           0.7142857142857143,
           0.7142857142857143,
           0.9285714285714286,
           0.9285714285714286,
           0.8333333333333334,
           0.7142857142857143,
           0.7380952380952381,
           1,
           0.7619047619047619,
           0.7380952380952381,
           0.7857142857142857,
           0.7857142857142857,
           0.42857142857142855,
           0.7142857142857143,
           0.8571428571428571,
           0.6190476190476191,
           0.8095238095238095,
           0.7380952380952381,
           0.9047619047619048,
           0.8333333333333334,
           0.7619047619047619,
           0.9761904761904762,
           0.8333333333333334,
           0.7380952380952381,
           0.9523809523809523,
           0.8333333333333334,
           0.7142857142857143,
           0.7619047619047619,
           0.8333333333333334,
           0.7857142857142857,
           0.7857142857142857,
           0.07142857142857142,
           0.7142857142857143,
           0.8095238095238095,
           0.6428571428571429,
           0.7857142857142857,
           0.7857142857142857,
           0.8571428571428571,
           0.7857142857142857,
           0.8095238095238095,
           0.8809523809523809,
           0.8571428571428571,
           0.8095238095238095,
           0.7619047619047619,
           0.6666666666666666,
           0.6904761904761905,
           0.7619047619047619,
           0.8095238095238095,
           0.2857142857142857,
           0.8095238095238095,
           0.7619047619047619,
           0.7380952380952381,
           0.23809523809523808,
           0.2857142857142857,
           0.8095238095238095,
           0.8095238095238095,
           0.7142857142857143,
           0.2619047619047619,
           0.21428571428571427,
           0.7380952380952381,
           0.35714285714285715,
           0.5,
           0.23809523809523808,
           0.047619047619047616,
           0.023809523809523808,
           0.8095238095238095,
           0.7857142857142857,
           0.9285714285714286,
           0.8095238095238095,
           0.7380952380952381,
           1,
           0.9285714285714286,
           0.9761904761904762,
           0.16666666666666666,
           0.7619047619047619,
           0.8809523809523809,
           0.7857142857142857,
           0.7619047619047619,
           0.8571428571428571,
           0.5238095238095238,
           0.35714285714285715,
           0.8571428571428571,
           0.7857142857142857,
           0.7619047619047619,
           0.7380952380952381,
           0.14285714285714285,
           0.42857142857142855,
           0.2857142857142857,
           0.11904761904761904,
           0.5476190476190477,
           0.2857142857142857,
           0.7142857142857143,
           0.4523809523809524,
           0.7142857142857143,
           0.7380952380952381,
           0.23809523809523808,
           0.42857142857142855,
           0.19047619047619047,
           0.07142857142857142,
           0.19047619047619047,
           0.047619047619047616,
           0.21428571428571427,
           0.023809523809523808,
           0.047619047619047616,
           0.2619047619047619,
           0.14285714285714285,
           0.09523809523809523,
           0.21428571428571427,
           0.09523809523809523,
           0.30952380952380953,
           0.09523809523809523,
           0.11904761904761904,
           0.023809523809523808,
           0.023809523809523808,
           0.07142857142857142,
           0.023809523809523808,
           0.07142857142857142,
           0.047619047619047616,
           0.023809523809523808
          ],
          "size": [
           5.169304370880127,
           12.383881568908691,
           2.950728416442871,
           3.2394394874572754,
           5.797037601470947,
           3.491334915161133,
           7.946142196655273,
           4.886739730834961,
           1.9125020503997803,
           3.3031857013702393,
           7.527618885040283,
           11.443883895874023,
           12.023859024047852,
           3.7651724815368652,
           4.667210102081299,
           3.210320472717285,
           8.56594467163086,
           4.915120601654053,
           7.699710845947266,
           8.036958694458008,
           2.5940656661987305,
           3.6015379428863525,
           9.078606605529785,
           5.807929992675781,
           7.813838958740234,
           6.740826606750488,
           5.033555030822754,
           5.155589580535889,
           5.870794296264648,
           2.4510393142700195,
           6.793848991394043,
           2.370922088623047,
           2.040494203567505,
           1.1924554109573364,
           3.8147363662719727,
           7.512545585632324,
           3.153862476348877,
           3.153406858444214,
           3.7181663513183594,
           1.3715648651123047,
           5.23274040222168,
           7.05785608291626,
           8.04429817199707,
           2.0187594890594482,
           8.931599617004395,
           7.49365758895874,
           3.4916868209838867,
           6.199788570404053,
           2.2870779037475586,
           4.313973903656006,
           2.5498993396759033,
           3.401005744934082,
           3.1473445892333984,
           13.06863021850586,
           3.723160743713379,
           4.4050798416137695,
           1.2482943534851074,
           5.678144931793213,
           8.555618286132812,
           3.2191731929779053,
           4.379782676696777,
           5.99501371383667,
           5.673834800720215,
           3.87705659866333,
           3.166658401489258,
           6.596050262451172,
           3.289698362350464,
           4.50327730178833,
           4.914271354675293,
           2.5276129245758057,
           6.2993903160095215,
           5.266557216644287,
           2.6258962154388428,
           2.2089667320251465,
           10.896867752075195,
           4.7524919509887695,
           4.208785057067871,
           2.406562566757202,
           2.747075319290161,
           4.499538421630859,
           8.853349685668945,
           8.36544418334961,
           2.0144007205963135,
           5.347407817840576,
           4.062931060791016,
           5.009930610656738,
           2.1875758171081543,
           2.7065038681030273,
           4.224015235900879,
           3.115090847015381,
           2.7167513370513916,
           3.534064292907715,
           1.9568346738815308,
           7.697083950042725,
           2.1127634048461914,
           1.908861756324768,
           2.809307098388672,
           1.8413865566253662,
           1.3343356847763062,
           3.771310329437256,
           2.9705162048339844,
           4.7913360595703125,
           6.59982967376709,
           4.633951187133789,
           3.77087664604187,
           2.163646697998047,
           2.280345916748047,
           1.3037140369415283,
           6.746522426605225,
           2.463197708129883,
           5.190887451171875,
           1.6445045471191406,
           3.178708791732788,
           10.845022201538086,
           3.0011463165283203,
           3.260023355484009,
           6.232069969177246,
           1.9530963897705078,
           5.574817180633545,
           12.015569686889648,
           2.1008105278015137,
           2.1519010066986084,
           7.758929252624512,
           2.712942600250244,
           1.4625532627105713,
           3.002321720123291,
           3.7679591178894043,
           8.058732986450195,
           2.5599160194396973,
           3.286634922027588,
           3.9463322162628174,
           2.551621437072754,
           5.229525566101074,
           2.7006728649139404,
           4.463506698608398,
           1.981055498123169,
           2.2995901107788086,
           4.195960521697998,
           3.168302059173584,
           2.4259533882141113,
           2.317641496658325,
           1.6495935916900635,
           2.7324047088623047,
           3.417587995529175,
           2.873077869415283,
           4.743292808532715,
           1.8179482221603394,
           9.637219429016113,
           3.9708707332611084,
           3.5646276473999023,
           2.6073691844940186,
           4.194862365722656,
           5.25830078125,
           1.4195549488067627,
           2.395747661590576,
           3.1688411235809326,
           2.665182113647461,
           5.748525619506836,
           3.3181447982788086,
           3.217630624771118,
           4.845697402954102,
           4.48604679107666,
           4.200050354003906,
           4.783515930175781,
           4.3628716468811035,
           4.476266860961914,
           4.191478252410889,
           1.3493549823760986,
           3.640451431274414,
           3.090762138366699,
           5.502739906311035,
           1.8413883447647095,
           4.186521530151367,
           1.8507304191589355,
           2.7128262519836426,
           3.679513692855835,
           3.0356264114379883,
           4.687291622161865,
           5.075215816497803,
           2.457689046859741,
           2.463624954223633,
           2.873380661010742,
           2.55540132522583,
           1.8516969680786133,
           4.064118385314941,
           6.108698844909668,
           3.4881181716918945,
           7.490363597869873,
           3.007474899291992,
           2.37526798248291,
           3.0951449871063232,
           1.3601651191711426,
           5.565934181213379,
           4.540031433105469,
           5.631135940551758,
           1.406055212020874,
           1.8646456003189087,
           1.6161913871765137,
           2.1331489086151123,
           1.8372809886932373,
           1.6018683910369873,
           1.9668406248092651,
           3.98795747756958,
           2.698657751083374,
           3.463099718093872,
           1.6835191249847412,
           1.7654469013214111,
           1.3769469261169434,
           2.1410298347473145,
           1.382291316986084,
           2.245408535003662,
           2.8543806076049805,
           2.00704026222229,
           2.6072466373443604,
           2.0921385288238525,
           2.6395506858825684,
           1.702498435974121,
           2.0562102794647217,
           4.13962984085083,
           3.2773163318634033,
           2.076881170272827,
           2.2357566356658936,
           1.6520999670028687,
           1.7550063133239746,
           1.1863213777542114,
           1.5230005979537964,
           2.177032947540283,
           1.852301836013794,
           2.7436234951019287,
           2.349181890487671,
           2.605241537094116,
           2.1675291061401367,
           2.6808388233184814,
           1.900883436203003,
           1.7617073059082031,
           3.2664794921875,
           2.079862594604492,
           2.276158332824707,
           1.2729511260986328,
           2.1374053955078125,
           1.6231316328048706,
           2.1052796840667725,
           4.004675388336182,
           3.9484729766845703,
           1.6612704992294312,
           1.6466552019119263,
           1.6339324712753296,
           1.5829544067382812,
           1.4080432653427124,
           1.9932032823562622,
           1.8510817289352417,
           2.0124740600585938,
           2.381505250930786,
           1.1874992847442627,
           2.230038642883301,
           1.585217833518982,
           1.5347082614898682,
           1.6363837718963623,
           1.608621597290039,
           1.3083693981170654,
           1.2846870422363281,
           1.339192509651184,
           1.5670742988586426,
           6.324082374572754,
           7.879327297210693,
           2.2194252014160156,
           4.034290313720703,
           2.048654556274414,
           2.5911288261413574,
           2.081116199493408,
           3.1578445434570312,
           2.577709674835205,
           2.853485584259033,
           2.5698492527008057,
           5.008662223815918,
           2.9166715145111084,
           2.1685826778411865,
           2.164595127105713,
           2.248283863067627,
           1.7447185516357422,
           3.979320526123047,
           2.985757827758789,
           2.345137119293213,
           4.582559585571289,
           2.618785858154297,
           1.592836856842041,
           1.669305682182312,
           3.6112325191497803,
           2.7951884269714355,
           4.29364013671875,
           5.4765143394470215,
           1.630215048789978,
           2.7237327098846436,
           2.566000461578369,
           2.424107074737549,
           3.207157611846924,
           2.79160475730896,
           2.661994695663452,
           3.2067928314208984,
           7.354093074798584,
           1.5628619194030762,
           6.226010799407959,
           2.7508788108825684,
           4.543268203735352,
           2.1498677730560303,
           2.6870510578155518,
           3.0222585201263428,
           2.466195583343506,
           3.199709177017212,
           2.9454402923583984,
           2.5961780548095703,
           2.2380144596099854,
           1.8544251918792725,
           3.3358325958251953,
           2.1321654319763184,
           3.8021323680877686,
           3.5843327045440674,
           2.8707144260406494,
           4.1882643699646,
           5.241052150726318,
           3.04020357131958,
           1.7295022010803223,
           2.4085001945495605,
           1.7408779859542847,
           2.194495677947998,
           4.399595737457275,
           2.993133068084717,
           4.2872443199157715,
           5.006648540496826,
           2.9871647357940674,
           2.587631940841675,
           1.7797741889953613,
           2.6300339698791504,
           1.686025619506836,
           3.1972689628601074,
           2.3060193061828613,
           3.9733664989471436,
           1.8252102136611938,
           6.92498254776001,
           2.5223276615142822,
           1.8403359651565552,
           2.2297523021698,
           3.4204211235046387,
           2.621213674545288,
           2.1082987785339355,
           2.6160075664520264,
           1.9881889820098877,
           3.382476806640625,
           3.196110725402832,
           1.8167510032653809,
           2.2539188861846924,
           2.5947861671447754,
           2.522824764251709,
           2.0367279052734375,
           2.6183557510375977,
           1.8798216581344604,
           2.9210574626922607,
           2.231522798538208,
           3.0154166221618652,
           1.939871072769165,
           2.3246500492095947,
           2.284992218017578,
           3.0066747665405273,
           3.013489246368408,
           2.032348871231079,
           2.0551059246063232,
           3.103823184967041,
           3.415076732635498,
           1.9342265129089355,
           1.9166014194488525,
           1.3681135177612305,
           2.5352160930633545,
           1.9521081447601318,
           3.111802101135254,
           3.3702661991119385,
           1.8598175048828125,
           1.3087539672851562,
           1.867518424987793,
           6.470756530761719,
           1.8604965209960938,
           3.445770263671875,
           1.8307206630706787,
           2.476318120956421,
           1.5649781227111816,
           1.9588967561721802,
           2.737668991088867,
           1.7745699882507324,
           1.8874471187591553,
           1.5436556339263916,
           3.3120579719543457,
           3.0962271690368652,
           3.9452879428863525,
           4.718228816986084,
           2.4992153644561768,
           2.4848597049713135,
           2.594182252883911,
           2.0824949741363525,
           2.0387675762176514,
           1.6464312076568604,
           2.6992855072021484,
           2.132127046585083,
           2.1780388355255127,
           2.4274158477783203,
           2.020237445831299,
           2.617258310317993,
           1.9422029256820679,
           1.859022617340088,
           1.5731282234191895,
           1.8526962995529175,
           2.8675284385681152,
           1.981490135192871,
           2.018667459487915,
           1.9213004112243652,
           2.1712212562561035,
           2.6641571521759033,
           1.2665786743164062,
           1.4999054670333862,
           3.0421526432037354,
           2.1246163845062256,
           2.5304219722747803,
           2.3631091117858887,
           3.4632339477539062,
           2.1580982208251953,
           1.2600836753845215,
           2.7673020362854004,
           1.6688361167907715,
           1.8184752464294434
          ],
          "sizemode": "area",
          "sizeref": 0.032671575546264646,
          "symbol": "circle"
         },
         "mode": "markers",
         "name": "loom",
         "orientation": "v",
         "showlegend": true,
         "type": "scatter",
         "x": [
          67,
          70,
          79,
          74.38709677419355,
          67,
          62.9,
          64,
          83,
          68,
          56,
          78.16216216216216,
          83.5,
          31,
          32,
          86.75675675675676,
          32.08571428571429,
          25.72972972972973,
          65,
          74.27272727272727,
          24.83783783783784,
          39.36363636363637,
          59.5,
          51.705882352941174,
          23,
          33.078947368421055,
          71.95454545454545,
          20,
          26,
          86.32352941176471,
          25.78787878787879,
          23.852941176470587,
          74.05405405405405,
          80.72222222222223,
          42,
          70.03225806451613,
          36.294117647058826,
          87.27272727272727,
          79.18181818181819,
          55.02439024390244,
          29,
          30,
          61.973684210526315,
          25,
          78.26315789473684,
          51.05714285714286,
          20.5,
          73.29411764705883,
          79.76315789473684,
          62.205128205128204,
          24,
          36,
          61.72727272727273,
          77.05555555555556,
          36.14705882352941,
          24,
          63.63333333333333,
          57.03225806451613,
          29.27777777777778,
          28.82051282051282,
          20.727272727272727,
          39,
          49.72727272727273,
          33.97222222222222,
          59,
          29,
          71,
          19,
          28.27777777777778,
          33.75,
          28,
          23.970588235294116,
          33.0625,
          37,
          58.82608695652174,
          39.38709677419355,
          56.729729729729726,
          84.17948717948718,
          19.3,
          71.375,
          74.23809523809524,
          45.388888888888886,
          22,
          47.5,
          30.22222222222222,
          91.60606060606061,
          26.68421052631579,
          46,
          71.8,
          18.6875,
          18.833333333333332,
          31.27777777777778,
          25.625,
          59.5,
          42.67741935483871,
          48.94736842105263,
          66.13513513513513,
          84.87878787878788,
          75.91891891891892,
          23,
          48.233333333333334,
          28.70967741935484,
          22.026315789473685,
          30,
          56.13333333333333,
          36,
          15.757575757575758,
          48,
          38.85,
          92.4375,
          67.78787878787878,
          16.147058823529413,
          64,
          35,
          38,
          21.085714285714285,
          41.96666666666667,
          39.205128205128204,
          15.34375,
          32.325,
          57.83870967741935,
          43.76923076923077,
          28.096774193548388,
          86.23333333333333,
          30.939393939393938,
          51.25806451612903,
          63.354838709677416,
          90.25806451612904,
          84.5,
          54.666666666666664,
          22.65714285714286,
          36.53333333333333,
          51.976190476190474,
          44.87179487179487,
          45.388888888888886,
          37.72222222222222,
          26.952380952380953,
          66,
          18.4,
          32.69444444444444,
          48.46666666666667,
          32,
          59.45454545454545,
          48.535714285714285,
          44.5,
          35.375,
          38.6,
          43,
          44.55555555555556,
          86.78571428571429,
          32,
          78.3225806451613,
          40.78947368421053,
          25.558823529411764,
          79.45,
          59.333333333333336,
          25,
          27.16216216216216,
          32.03333333333333,
          57.83870967741935,
          24.25,
          64.46666666666667,
          50.65714285714286,
          33.94444444444444,
          43,
          33.61904761904762,
          41,
          51.193548387096776,
          54.6875,
          17,
          41.470588235294116,
          47.09090909090909,
          23.114285714285714,
          30.64516129032258,
          48.4,
          13.428571428571429,
          42,
          36.8,
          27.130434782608695,
          75.7,
          36.1875,
          37.16129032258065,
          48.59375,
          34,
          41,
          33.25806451612903,
          41.57142857142857,
          53.5,
          33.225806451612904,
          40.5,
          23.72,
          25.264705882352942,
          66.8529411764706,
          34.266666666666666,
          44.266666666666666,
          29.73076923076923,
          37,
          51.03703703703704,
          27.2,
          54.44444444444444,
          23.09090909090909,
          56.806451612903224,
          40.592592592592595,
          20.64,
          47.5,
          42.3,
          63.625,
          32,
          92,
          35.57142857142857,
          27.4375,
          44.857142857142854,
          68,
          95.63636363636364,
          18.772727272727273,
          55.5,
          43,
          39,
          42.4,
          45.22222222222222,
          98,
          81.33333333333333,
          36,
          39.75,
          83.42857142857143,
          67,
          66,
          35.027027027027025,
          70.96774193548387,
          38.90625,
          67.42857142857143,
          32,
          44,
          84,
          29.216216216216218,
          23.26086956521739,
          20.357142857142858,
          18.63157894736842,
          52.23529411764706,
          75,
          75.33333333333333,
          21.25,
          44.38461538461539,
          51.05,
          56,
          37,
          72.66666666666667,
          39,
          51.666666666666664,
          64,
          95,
          61.333333333333336,
          43.5,
          55.333333333333336,
          41.5,
          28,
          31.333333333333332,
          37,
          44.5,
          60,
          88,
          38,
          40,
          32,
          98,
          91,
          106,
          106,
          98.1,
          97,
          94.5,
          85.39393939393939,
          101.91176470588235,
          87.47058823529412,
          90,
          93.2051282051282,
          101.91891891891892,
          84.02380952380952,
          92.16666666666667,
          85.70588235294117,
          92.08823529411765,
          71,
          80.57142857142857,
          101.6969696969697,
          69.82857142857142,
          86.15625,
          84,
          89.76666666666667,
          95.29411764705883,
          81.76666666666667,
          101.3,
          70,
          103.3030303030303,
          30.5,
          100.28571428571429,
          103,
          106.6,
          36.55555555555556,
          97.5,
          64.91428571428571,
          19.4,
          90.29729729729729,
          74.54054054054055,
          75.8529411764706,
          19,
          98.58064516129032,
          24.4375,
          13.894736842105264,
          76.15151515151516,
          86.9,
          95.16666666666667,
          18.82051282051282,
          65.7948717948718,
          102.25714285714285,
          18.866666666666667,
          64.48387096774194,
          53.976190476190474,
          81.5,
          76.29032258064517,
          79.93939393939394,
          78.63636363636364,
          15.333333333333334,
          99.6,
          35.97222222222222,
          108.65384615384616,
          74.73529411764706,
          20.032258064516128,
          60.973684210526315,
          16.17142857142857,
          76.6875,
          62,
          106.08571428571429,
          73.61290322580645,
          29.075,
          60.857142857142854,
          75.16666666666667,
          26.09375,
          20.771428571428572,
          47.39393939393939,
          63.93939393939394,
          68.33333333333333,
          70.33333333333333,
          22.205882352941178,
          71.5925925925926,
          70.33333333333333,
          43.42424242424242,
          41.75,
          55.39393939393939,
          83.1470588235294,
          24.972972972972972,
          65.75,
          49.294117647058826,
          14.03125,
          56.892857142857146,
          61.51724137931034,
          39.21875,
          67.97058823529412,
          12,
          25.91176470588235,
          61.59375,
          83.06451612903226,
          60.6,
          87.91666666666667,
          31.5,
          93.11764705882354,
          105.23333333333333,
          43.18181818181818,
          19.22222222222222,
          17.741935483870968,
          44.06666666666667,
          32.523809523809526,
          79.3,
          75.5,
          74,
          93.70588235294117,
          112.12121212121212,
          85.97435897435898,
          82.8529411764706,
          103.09677419354838,
          93.69047619047619,
          92.97435897435898,
          102,
          99.71428571428571,
          91.71875,
          110.72972972972973,
          78.75757575757575,
          82.65625,
          81.44444444444444,
          91.68181818181819,
          100.93333333333334,
          26.86111111111111,
          19.515151515151516,
          23.625,
          74.3225806451613,
          13.166666666666666,
          15.222222222222221,
          13.5,
          15.2,
          15.130434782608695,
          35.333333333333336,
          34.43333333333333,
          52.26315789473684,
          17.066666666666666,
          33.58064516129032,
          15.9,
          106.83333333333333,
          16.25,
          43.666666666666664,
          75,
          30,
          15.333333333333334,
          13,
          4,
          15.818181818181818,
          15.5,
          19.5,
          104.77777777777777,
          61.5,
          12.923076923076923,
          5.5,
          54,
          12,
          69,
          32.666666666666664,
          81,
          42.333333333333336,
          21.5,
          70
         ],
         "xaxis": "x",
         "y": [
          47,
          36,
          31,
          29.35483870967742,
          41,
          50.56666666666667,
          47,
          28,
          27,
          27,
          23.729729729729726,
          27.5,
          31,
          56,
          24.135135135135137,
          58.51428571428571,
          27.83783783783784,
          35,
          40.72727272727273,
          55.81081081081081,
          58.54545454545455,
          50.5,
          30.14705882352942,
          37,
          24.76315789473685,
          24.272727272727266,
          43,
          49,
          34.44117647058823,
          56.45454545454545,
          33.29411764705881,
          35.91891891891892,
          34.27777777777777,
          56,
          39.258064516129025,
          35.14705882352942,
          24.727272727272734,
          23.636363636363637,
          52.804878048780495,
          34,
          38.61290322580646,
          30.18421052631578,
          30,
          34.0263157894737,
          23.657142857142844,
          52.5,
          24.85294117647058,
          28.78947368421052,
          26.358974358974365,
          40,
          50,
          39.27272727272728,
          39.111111111111114,
          20.705882352941188,
          46,
          37.53333333333333,
          13.870967741935488,
          25.72222222222223,
          18.974358974358978,
          51.27272727272728,
          42,
          34.27272727272728,
          15.277777777777771,
          53.9,
          26,
          50.75,
          46,
          42.72222222222223,
          44.375,
          33,
          23.058823529411768,
          14.84375,
          52.5,
          45,
          28.064516129032256,
          34.16216216216216,
          18.97435897435895,
          28.53333333333333,
          47.65625,
          43.04761904761905,
          29.444444444444457,
          25,
          53.5,
          35.30555555555554,
          31.636363636363637,
          19.84210526315789,
          46,
          32.80000000000001,
          34.96875,
          32.22222222222223,
          54.27777777777777,
          48,
          33.5,
          36.87096774193549,
          56.23684210526316,
          21.756756756756744,
          18.393939393939394,
          40.16216216216219,
          47,
          39.23333333333332,
          46.51612903225808,
          37.263157894736835,
          31,
          38.33333333333334,
          31,
          45.78787878787878,
          28,
          56.875,
          23.9375,
          16.818181818181813,
          37.58823529411765,
          26,
          30,
          26,
          53.82857142857143,
          50.30000000000001,
          15.358974358974365,
          50.75,
          25.399999999999977,
          20.903225806451616,
          57.07692307692308,
          51.935483870967744,
          14.899999999999977,
          50.484848484848484,
          58.096774193548384,
          39.12903225806451,
          31.25806451612904,
          26.69999999999999,
          54.166666666666664,
          45.94285714285715,
          34.133333333333326,
          44.309523809523796,
          12.051282051282044,
          47.638888888888886,
          44.388888888888886,
          56.71428571428572,
          45.40625,
          41.73333333333332,
          37.666666666666664,
          49.16666666666667,
          47.5,
          44.24242424242425,
          44.60714285714286,
          23.5,
          10.5,
          18.94999999999999,
          33,
          22.75,
          33.35714285714283,
          18.72222222222223,
          28.032258064516128,
          12.63157894736841,
          27.14705882352939,
          24.100000000000023,
          26.791666666666657,
          34.25,
          27,
          38.69999999999999,
          50.03225806451613,
          31.78125,
          21.900000000000006,
          18.657142857142844,
          52.55555555555556,
          31.5,
          30.85714285714286,
          32.5,
          12.741935483870975,
          28.9375,
          27.5,
          19.441176470588232,
          36.39393939393938,
          42.2,
          22.774193548387103,
          10.949999999999989,
          32.35714285714286,
          14,
          21.80000000000001,
          21.82608695652175,
          22.30000000000001,
          42.9375,
          16.19354838709677,
          19.6875,
          10.800000000000011,
          13,
          52.064516129032256,
          39.17142857142858,
          38.5,
          19.25806451612904,
          9.5625,
          18.28,
          40.23529411764707,
          32.970588235294116,
          39.93333333333334,
          18.933333333333337,
          37.92307692307692,
          30,
          33.925925925925924,
          51.866666666666674,
          11.444444444444457,
          16.636363636363626,
          25.80645161290323,
          46.44444444444446,
          34.31999999999999,
          41,
          39.73333333333332,
          49,
          43.5,
          26,
          25.285714285714278,
          40.75,
          9.428571428571416,
          28,
          35.90909090909091,
          21.136363636363626,
          10,
          7,
          10,
          22.799999999999997,
          14.333333333333314,
          33,
          7.666666666666667,
          12,
          15.75,
          19.171428571428578,
          45,
          44,
          50.16216216216219,
          45.225806451612925,
          49.25,
          51.85714285714286,
          24,
          34,
          36.90625,
          52.621621621621614,
          23.52173913043478,
          37.214285714285715,
          33.05263157894737,
          51.470588235294116,
          20.83333333333333,
          30.666666666666686,
          49.125,
          6.461538461538453,
          40,
          7,
          35.71428571428571,
          42.66666666666666,
          18,
          14.666666666666657,
          19.5,
          32.5,
          45.33333333333334,
          13,
          26.666666666666657,
          14,
          48,
          44.33333333333333,
          29,
          15,
          6,
          30,
          27,
          36,
          55,
          32,
          29,
          33,
          34,
          34,
          31,
          29.5,
          29,
          28.676470588235304,
          31.264705882352928,
          31,
          33.641025641025635,
          38.67567567567568,
          35.690476190476204,
          27.23333333333335,
          31.852941176470587,
          29.058823529411764,
          56,
          35.17142857142857,
          28.181818181818183,
          53.74285714285713,
          37.375,
          26,
          27.26666666666665,
          35.14705882352942,
          29.366666666666667,
          39.875,
          49,
          39.06060606060606,
          51.125,
          39.17142857142858,
          30,
          37.19999999999999,
          61.30555555555556,
          37.5,
          55.97142857142859,
          43.10000000000002,
          26.567567567567565,
          50.27027027027026,
          53.029411764705856,
          52,
          29.741935483870975,
          60.96875,
          49.71052631578948,
          28.787878787878782,
          35.66666666666666,
          28.433333333333337,
          52,
          57.641025641025635,
          24.285714285714278,
          58.53333333333333,
          48,
          30.690476190476204,
          40.5,
          37.096774193548384,
          49.030303030303,
          45.27272727272725,
          55.94444444444446,
          26.599999999999994,
          31.861111111111114,
          28.19230769230768,
          28.882352941176464,
          59.419354838709666,
          58.89473684210526,
          43.57142857142857,
          45.375,
          33,
          37.17142857142858,
          44.419354838709694,
          29.025000000000006,
          59.62857142857143,
          53.099999999999994,
          60.15625,
          40.77142857142857,
          33.848484848484844,
          54.333333333333336,
          52.666666666666664,
          43.6,
          35.529411764705884,
          60.48148148148147,
          31.181818181818187,
          45.36363636363636,
          40.111111111111114,
          37.24242424242425,
          45.05882352941177,
          49.97297297297297,
          34.05555555555556,
          60.470588235294144,
          56.03125,
          58.46428571428572,
          34.689655172413794,
          18.4375,
          46.352941176470594,
          61,
          51.05882352941177,
          48.5,
          42.935483870967744,
          56.9,
          41.5,
          20.117647058823536,
          42.55882352941177,
          26.76666666666668,
          24.454545454545467,
          60.77777777777777,
          57.83870967741935,
          58.666666666666664,
          48.47619047619048,
          49.69999999999999,
          31,
          52,
          28.852941176470594,
          36.090909090909065,
          37.17948717948718,
          24.705882352941188,
          29.83870967741936,
          24.02380952380952,
          37.17948717948718,
          21,
          35.714285714285715,
          36.34375,
          35.16216216216219,
          24.818181818181813,
          41.1875,
          31.97222222222223,
          21.772727272727266,
          37,
          35.22222222222223,
          44.81818181818181,
          40.1875,
          46.48387096774192,
          61.666666666666686,
          38.16666666666667,
          49.666666666666686,
          38.8,
          48.739130434782595,
          52.16666666666667,
          37.23333333333332,
          49.473684210526315,
          40.19999999999999,
          42.419354838709666,
          61.30000000000001,
          22.22222222222223,
          30.75,
          6.333333333333329,
          41.375,
          14.5,
          34.22222222222223,
          42,
          45.5,
          51.09090909090909,
          61.166666666666664,
          41.5,
          18.888888888888914,
          50.5,
          55.84615384615385,
          55,
          57,
          34,
          56,
          48.33333333333333,
          45,
          12.666666666666657,
          59,
          37
         ],
         "yaxis": "y"
        }
       ],
       "layout": {
        "legend": {
         "itemsizing": "constant",
         "title": {
          "text": "color"
         },
         "tracegroupgap": 0
        },
        "margin": {
         "t": 60
        },
        "plot_bgcolor": "rgba(0,0,0,0)",
        "template": {
         "data": {
          "bar": [
           {
            "error_x": {
             "color": "#2a3f5f"
            },
            "error_y": {
             "color": "#2a3f5f"
            },
            "marker": {
             "line": {
              "color": "#E5ECF6",
              "width": 0.5
             },
             "pattern": {
              "fillmode": "overlay",
              "size": 10,
              "solidity": 0.2
             }
            },
            "type": "bar"
           }
          ],
          "barpolar": [
           {
            "marker": {
             "line": {
              "color": "#E5ECF6",
              "width": 0.5
             },
             "pattern": {
              "fillmode": "overlay",
              "size": 10,
              "solidity": 0.2
             }
            },
            "type": "barpolar"
           }
          ],
          "carpet": [
           {
            "aaxis": {
             "endlinecolor": "#2a3f5f",
             "gridcolor": "white",
             "linecolor": "white",
             "minorgridcolor": "white",
             "startlinecolor": "#2a3f5f"
            },
            "baxis": {
             "endlinecolor": "#2a3f5f",
             "gridcolor": "white",
             "linecolor": "white",
             "minorgridcolor": "white",
             "startlinecolor": "#2a3f5f"
            },
            "type": "carpet"
           }
          ],
          "choropleth": [
           {
            "colorbar": {
             "outlinewidth": 0,
             "ticks": ""
            },
            "type": "choropleth"
           }
          ],
          "contour": [
           {
            "colorbar": {
             "outlinewidth": 0,
             "ticks": ""
            },
            "colorscale": [
             [
              0,
              "#0d0887"
             ],
             [
              0.1111111111111111,
              "#46039f"
             ],
             [
              0.2222222222222222,
              "#7201a8"
             ],
             [
              0.3333333333333333,
              "#9c179e"
             ],
             [
              0.4444444444444444,
              "#bd3786"
             ],
             [
              0.5555555555555556,
              "#d8576b"
             ],
             [
              0.6666666666666666,
              "#ed7953"
             ],
             [
              0.7777777777777778,
              "#fb9f3a"
             ],
             [
              0.8888888888888888,
              "#fdca26"
             ],
             [
              1,
              "#f0f921"
             ]
            ],
            "type": "contour"
           }
          ],
          "contourcarpet": [
           {
            "colorbar": {
             "outlinewidth": 0,
             "ticks": ""
            },
            "type": "contourcarpet"
           }
          ],
          "heatmap": [
           {
            "colorbar": {
             "outlinewidth": 0,
             "ticks": ""
            },
            "colorscale": [
             [
              0,
              "#0d0887"
             ],
             [
              0.1111111111111111,
              "#46039f"
             ],
             [
              0.2222222222222222,
              "#7201a8"
             ],
             [
              0.3333333333333333,
              "#9c179e"
             ],
             [
              0.4444444444444444,
              "#bd3786"
             ],
             [
              0.5555555555555556,
              "#d8576b"
             ],
             [
              0.6666666666666666,
              "#ed7953"
             ],
             [
              0.7777777777777778,
              "#fb9f3a"
             ],
             [
              0.8888888888888888,
              "#fdca26"
             ],
             [
              1,
              "#f0f921"
             ]
            ],
            "type": "heatmap"
           }
          ],
          "heatmapgl": [
           {
            "colorbar": {
             "outlinewidth": 0,
             "ticks": ""
            },
            "colorscale": [
             [
              0,
              "#0d0887"
             ],
             [
              0.1111111111111111,
              "#46039f"
             ],
             [
              0.2222222222222222,
              "#7201a8"
             ],
             [
              0.3333333333333333,
              "#9c179e"
             ],
             [
              0.4444444444444444,
              "#bd3786"
             ],
             [
              0.5555555555555556,
              "#d8576b"
             ],
             [
              0.6666666666666666,
              "#ed7953"
             ],
             [
              0.7777777777777778,
              "#fb9f3a"
             ],
             [
              0.8888888888888888,
              "#fdca26"
             ],
             [
              1,
              "#f0f921"
             ]
            ],
            "type": "heatmapgl"
           }
          ],
          "histogram": [
           {
            "marker": {
             "pattern": {
              "fillmode": "overlay",
              "size": 10,
              "solidity": 0.2
             }
            },
            "type": "histogram"
           }
          ],
          "histogram2d": [
           {
            "colorbar": {
             "outlinewidth": 0,
             "ticks": ""
            },
            "colorscale": [
             [
              0,
              "#0d0887"
             ],
             [
              0.1111111111111111,
              "#46039f"
             ],
             [
              0.2222222222222222,
              "#7201a8"
             ],
             [
              0.3333333333333333,
              "#9c179e"
             ],
             [
              0.4444444444444444,
              "#bd3786"
             ],
             [
              0.5555555555555556,
              "#d8576b"
             ],
             [
              0.6666666666666666,
              "#ed7953"
             ],
             [
              0.7777777777777778,
              "#fb9f3a"
             ],
             [
              0.8888888888888888,
              "#fdca26"
             ],
             [
              1,
              "#f0f921"
             ]
            ],
            "type": "histogram2d"
           }
          ],
          "histogram2dcontour": [
           {
            "colorbar": {
             "outlinewidth": 0,
             "ticks": ""
            },
            "colorscale": [
             [
              0,
              "#0d0887"
             ],
             [
              0.1111111111111111,
              "#46039f"
             ],
             [
              0.2222222222222222,
              "#7201a8"
             ],
             [
              0.3333333333333333,
              "#9c179e"
             ],
             [
              0.4444444444444444,
              "#bd3786"
             ],
             [
              0.5555555555555556,
              "#d8576b"
             ],
             [
              0.6666666666666666,
              "#ed7953"
             ],
             [
              0.7777777777777778,
              "#fb9f3a"
             ],
             [
              0.8888888888888888,
              "#fdca26"
             ],
             [
              1,
              "#f0f921"
             ]
            ],
            "type": "histogram2dcontour"
           }
          ],
          "mesh3d": [
           {
            "colorbar": {
             "outlinewidth": 0,
             "ticks": ""
            },
            "type": "mesh3d"
           }
          ],
          "parcoords": [
           {
            "line": {
             "colorbar": {
              "outlinewidth": 0,
              "ticks": ""
             }
            },
            "type": "parcoords"
           }
          ],
          "pie": [
           {
            "automargin": true,
            "type": "pie"
           }
          ],
          "scatter": [
           {
            "fillpattern": {
             "fillmode": "overlay",
             "size": 10,
             "solidity": 0.2
            },
            "type": "scatter"
           }
          ],
          "scatter3d": [
           {
            "line": {
             "colorbar": {
              "outlinewidth": 0,
              "ticks": ""
             }
            },
            "marker": {
             "colorbar": {
              "outlinewidth": 0,
              "ticks": ""
             }
            },
            "type": "scatter3d"
           }
          ],
          "scattercarpet": [
           {
            "marker": {
             "colorbar": {
              "outlinewidth": 0,
              "ticks": ""
             }
            },
            "type": "scattercarpet"
           }
          ],
          "scattergeo": [
           {
            "marker": {
             "colorbar": {
              "outlinewidth": 0,
              "ticks": ""
             }
            },
            "type": "scattergeo"
           }
          ],
          "scattergl": [
           {
            "marker": {
             "colorbar": {
              "outlinewidth": 0,
              "ticks": ""
             }
            },
            "type": "scattergl"
           }
          ],
          "scattermapbox": [
           {
            "marker": {
             "colorbar": {
              "outlinewidth": 0,
              "ticks": ""
             }
            },
            "type": "scattermapbox"
           }
          ],
          "scatterpolar": [
           {
            "marker": {
             "colorbar": {
              "outlinewidth": 0,
              "ticks": ""
             }
            },
            "type": "scatterpolar"
           }
          ],
          "scatterpolargl": [
           {
            "marker": {
             "colorbar": {
              "outlinewidth": 0,
              "ticks": ""
             }
            },
            "type": "scatterpolargl"
           }
          ],
          "scatterternary": [
           {
            "marker": {
             "colorbar": {
              "outlinewidth": 0,
              "ticks": ""
             }
            },
            "type": "scatterternary"
           }
          ],
          "surface": [
           {
            "colorbar": {
             "outlinewidth": 0,
             "ticks": ""
            },
            "colorscale": [
             [
              0,
              "#0d0887"
             ],
             [
              0.1111111111111111,
              "#46039f"
             ],
             [
              0.2222222222222222,
              "#7201a8"
             ],
             [
              0.3333333333333333,
              "#9c179e"
             ],
             [
              0.4444444444444444,
              "#bd3786"
             ],
             [
              0.5555555555555556,
              "#d8576b"
             ],
             [
              0.6666666666666666,
              "#ed7953"
             ],
             [
              0.7777777777777778,
              "#fb9f3a"
             ],
             [
              0.8888888888888888,
              "#fdca26"
             ],
             [
              1,
              "#f0f921"
             ]
            ],
            "type": "surface"
           }
          ],
          "table": [
           {
            "cells": {
             "fill": {
              "color": "#EBF0F8"
             },
             "line": {
              "color": "white"
             }
            },
            "header": {
             "fill": {
              "color": "#C8D4E3"
             },
             "line": {
              "color": "white"
             }
            },
            "type": "table"
           }
          ]
         },
         "layout": {
          "annotationdefaults": {
           "arrowcolor": "#2a3f5f",
           "arrowhead": 0,
           "arrowwidth": 1
          },
          "autotypenumbers": "strict",
          "coloraxis": {
           "colorbar": {
            "outlinewidth": 0,
            "ticks": ""
           }
          },
          "colorscale": {
           "diverging": [
            [
             0,
             "#8e0152"
            ],
            [
             0.1,
             "#c51b7d"
            ],
            [
             0.2,
             "#de77ae"
            ],
            [
             0.3,
             "#f1b6da"
            ],
            [
             0.4,
             "#fde0ef"
            ],
            [
             0.5,
             "#f7f7f7"
            ],
            [
             0.6,
             "#e6f5d0"
            ],
            [
             0.7,
             "#b8e186"
            ],
            [
             0.8,
             "#7fbc41"
            ],
            [
             0.9,
             "#4d9221"
            ],
            [
             1,
             "#276419"
            ]
           ],
           "sequential": [
            [
             0,
             "#0d0887"
            ],
            [
             0.1111111111111111,
             "#46039f"
            ],
            [
             0.2222222222222222,
             "#7201a8"
            ],
            [
             0.3333333333333333,
             "#9c179e"
            ],
            [
             0.4444444444444444,
             "#bd3786"
            ],
            [
             0.5555555555555556,
             "#d8576b"
            ],
            [
             0.6666666666666666,
             "#ed7953"
            ],
            [
             0.7777777777777778,
             "#fb9f3a"
            ],
            [
             0.8888888888888888,
             "#fdca26"
            ],
            [
             1,
             "#f0f921"
            ]
           ],
           "sequentialminus": [
            [
             0,
             "#0d0887"
            ],
            [
             0.1111111111111111,
             "#46039f"
            ],
            [
             0.2222222222222222,
             "#7201a8"
            ],
            [
             0.3333333333333333,
             "#9c179e"
            ],
            [
             0.4444444444444444,
             "#bd3786"
            ],
            [
             0.5555555555555556,
             "#d8576b"
            ],
            [
             0.6666666666666666,
             "#ed7953"
            ],
            [
             0.7777777777777778,
             "#fb9f3a"
            ],
            [
             0.8888888888888888,
             "#fdca26"
            ],
            [
             1,
             "#f0f921"
            ]
           ]
          },
          "colorway": [
           "#636efa",
           "#EF553B",
           "#00cc96",
           "#ab63fa",
           "#FFA15A",
           "#19d3f3",
           "#FF6692",
           "#B6E880",
           "#FF97FF",
           "#FECB52"
          ],
          "font": {
           "color": "#2a3f5f"
          },
          "geo": {
           "bgcolor": "white",
           "lakecolor": "white",
           "landcolor": "#E5ECF6",
           "showlakes": true,
           "showland": true,
           "subunitcolor": "white"
          },
          "hoverlabel": {
           "align": "left"
          },
          "hovermode": "closest",
          "mapbox": {
           "style": "light"
          },
          "paper_bgcolor": "white",
          "plot_bgcolor": "#E5ECF6",
          "polar": {
           "angularaxis": {
            "gridcolor": "white",
            "linecolor": "white",
            "ticks": ""
           },
           "bgcolor": "#E5ECF6",
           "radialaxis": {
            "gridcolor": "white",
            "linecolor": "white",
            "ticks": ""
           }
          },
          "scene": {
           "xaxis": {
            "backgroundcolor": "#E5ECF6",
            "gridcolor": "white",
            "gridwidth": 2,
            "linecolor": "white",
            "showbackground": true,
            "ticks": "",
            "zerolinecolor": "white"
           },
           "yaxis": {
            "backgroundcolor": "#E5ECF6",
            "gridcolor": "white",
            "gridwidth": 2,
            "linecolor": "white",
            "showbackground": true,
            "ticks": "",
            "zerolinecolor": "white"
           },
           "zaxis": {
            "backgroundcolor": "#E5ECF6",
            "gridcolor": "white",
            "gridwidth": 2,
            "linecolor": "white",
            "showbackground": true,
            "ticks": "",
            "zerolinecolor": "white"
           }
          },
          "shapedefaults": {
           "line": {
            "color": "#2a3f5f"
           }
          },
          "ternary": {
           "aaxis": {
            "gridcolor": "white",
            "linecolor": "white",
            "ticks": ""
           },
           "baxis": {
            "gridcolor": "white",
            "linecolor": "white",
            "ticks": ""
           },
           "bgcolor": "#E5ECF6",
           "caxis": {
            "gridcolor": "white",
            "linecolor": "white",
            "ticks": ""
           }
          },
          "title": {
           "x": 0.05
          },
          "xaxis": {
           "automargin": true,
           "gridcolor": "white",
           "linecolor": "white",
           "ticks": "",
           "title": {
            "standoff": 15
           },
           "zerolinecolor": "white",
           "zerolinewidth": 2
          },
          "yaxis": {
           "automargin": true,
           "gridcolor": "white",
           "linecolor": "white",
           "ticks": "",
           "title": {
            "standoff": 15
           },
           "zerolinecolor": "white",
           "zerolinewidth": 2
          }
         }
        },
        "xaxis": {
         "anchor": "y",
         "domain": [
          0,
          1
         ],
         "showgrid": false,
         "title": {
          "text": "x"
         }
        },
        "yaxis": {
         "anchor": "x",
         "domain": [
          0,
          1
         ],
         "showgrid": false,
         "title": {
          "text": "y"
         }
        }
       }
      }
     },
     "metadata": {},
     "output_type": "display_data"
    }
   ],
   "source": [
    "import plotly.express as px\n",
    "fig = px.scatter(x=pooled_data['x_centroid'], y=pooled_data['y_centroid']%y_res, color=pooled_data['stimtype'], size=abs(pooled_data['amplitude']), opacity=pooled_data['size']/ pooled_data['size'].max())\n",
    "\n",
    "fig.update_layout(\n",
    "    plot_bgcolor='rgba(0,0,0,0)',  # Transparent background for the plot area\n",
    "    #paper_bgcolor='rgba(0,0,0,0)',  # Transparent background for the overall figure\n",
    ")\n",
    "\n",
    "# Update axes to remove gridlines\n",
    "fig.update_xaxes(showgrid=False)  # Disable gridlines for x-axis\n",
    "fig.update_yaxes(showgrid=False)  # Disable gridlines for y-axis"
   ]
  },
  {
   "cell_type": "code",
   "execution_count": 32,
   "metadata": {},
   "outputs": [
    {
     "data": {
      "application/vnd.plotly.v1+json": {
       "config": {
        "plotlyServerURL": "https://plot.ly"
       },
       "data": [
        {
         "hovertemplate": "x=%{x}<br>y=%{y}<br>size=%{marker.size}<br>color=%{marker.color}<extra></extra>",
         "legendgroup": "",
         "marker": {
          "color": [
           282.5,
           215,
           282.5,
           282.5,
           215,
           215,
           350,
           350,
           215,
           215,
           282.5,
           215,
           215,
           215,
           215,
           147.49999999999997,
           147.49999999999997,
           282.5,
           147.49999999999997,
           282.5,
           282.5,
           147.49999999999997,
           147.49999999999997,
           205.71428571428572,
           158.57142857142858,
           205.71428571428572,
           205.71428571428572,
           252.85714285714286,
           252.85714285714286,
           158.57142857142858,
           252.85714285714286,
           205.71428571428572,
           205.71428571428572,
           158.57142857142858,
           158.57142857142858,
           205.71428571428572,
           252.85714285714286,
           300,
           158.57142857142858,
           158.57142857142858,
           205.71428571428572,
           300,
           205.71428571428572,
           205.71428571428572,
           111.42857142857144,
           111.42857142857144,
           158.57142857142858,
           300,
           158.57142857142858,
           64.28571428571428,
           300,
           252.85714285714286,
           64.28571428571428,
           205.71428571428572,
           158.57142857142858,
           64.28571428571428,
           205.71428571428572,
           205.71428571428572,
           158.57142857142858,
           111.42857142857144
          ],
          "coloraxis": "coloraxis",
          "opacity": [
           1,
           0.9512195121951219,
           0.7317073170731707,
           0.8048780487804879,
           0.7804878048780488,
           1,
           0.926829268292683,
           0.926829268292683,
           0.024390243902439025,
           0.024390243902439025,
           0.2926829268292683,
           0.7804878048780488,
           0.5121951219512195,
           0.7804878048780488,
           0.17073170731707318,
           0.7804878048780488,
           0.7560975609756098,
           0.024390243902439025,
           0.1951219512195122,
           0.024390243902439025,
           0.024390243902439025,
           0.07317073170731707,
           0.024390243902439025,
           0.8536585365853658,
           1,
           0.8536585365853658,
           0.9024390243902439,
           0.8292682926829268,
           0.9512195121951219,
           0.7560975609756098,
           0.8048780487804879,
           0.8048780487804879,
           0.926829268292683,
           0.7804878048780488,
           0.024390243902439025,
           0.024390243902439025,
           0.8536585365853658,
           0.7317073170731707,
           0.8048780487804879,
           0.07317073170731707,
           0.6585365853658537,
           0.8292682926829268,
           0.6829268292682927,
           0.14634146341463414,
           0.8292682926829268,
           0.7804878048780488,
           0.24390243902439024,
           0.2926829268292683,
           0.024390243902439025,
           0.07317073170731707,
           0.24390243902439024,
           0.024390243902439025,
           0.04878048780487805,
           0.024390243902439025,
           0.024390243902439025,
           0.024390243902439025,
           0.024390243902439025,
           0.024390243902439025,
           0.024390243902439025,
           0.024390243902439025
          ],
          "size": [
           5.294517517089844,
           3.1093106269836426,
           2.577725410461426,
           7.427844524383545,
           4.143466949462891,
           1.9902009963989258,
           1.6526689529418945,
           1.8581528663635254,
           2.150787353515625,
           3.1253905296325684,
           9.895279884338379,
           4.263268947601318,
           3.543747663497925,
           1.730065941810608,
           2.2139151096343994,
           2.4809188842773438,
           3.014556646347046,
           2.563852310180664,
           2.743513822555542,
           2.017770767211914,
           1.850557565689087,
           1.9554791450500488,
           2.0771517753601074,
           8.768491744995117,
           9.367341995239258,
           6.8212995529174805,
           11.965171813964844,
           6.067412853240967,
           5.164368629455566,
           1.9084917306900024,
           7.673178672790527,
           6.691141128540039,
           6.053972244262695,
           8.356722831726074,
           2.563662052154541,
           4.439828395843506,
           4.255868434906006,
           2.943592071533203,
           8.028347969055176,
           2.280764579772949,
           6.138854503631592,
           5.729826927185059,
           3.2989602088928223,
           2.2348592281341553,
           3.7239017486572266,
           3.940277099609375,
           3.0998950004577637,
           2.0829498767852783,
           2.4513461589813232,
           2.6944844722747803,
           3.082723379135132,
           2.5657663345336914,
           2.4647319316864014,
           2.3731582164764404,
           3.660007953643799,
           3.0632755756378174,
           1.8005976676940918,
           3.217012405395508,
           2.058034658432007,
           2.4877476692199707
          ],
          "sizemode": "area",
          "sizeref": 0.02991292953491211,
          "symbol": "circle"
         },
         "mode": "markers",
         "name": "",
         "orientation": "v",
         "showlegend": false,
         "type": "scatter",
         "x": [
          67,
          67,
          62.9,
          74.27272727272727,
          59.5,
          55.02439024390244,
          78.26315789473684,
          79.76315789473684,
          67,
          66,
          71,
          71.375,
          74.23809523809524,
          92.4375,
          67.42857142857143,
          66,
          57.83870967741935,
          76,
          63.625,
          58,
          98,
          55.333333333333336,
          84,
          69.82857142857142,
          70,
          64.91428571428571,
          74.54054054054055,
          75.8529411764706,
          65.7948717948718,
          64.48387096774194,
          79.93939393939394,
          78.63636363636364,
          60.973684210526315,
          76.6875,
          73,
          77,
          60.857142857142854,
          75.16666666666667,
          63.93939393939394,
          68.33333333333333,
          71.5925925925926,
          83.1470588235294,
          56.892857142857146,
          68,
          67.97058823529412,
          61.59375,
          60.6,
          87.91666666666667,
          75,
          60.333333333333336,
          79.3,
          75,
          56.5,
          78,
          69,
          67,
          82,
          79,
          74,
          66
         ],
         "xaxis": "x",
         "y": [
          47,
          41,
          50.56666666666667,
          40.72727272727273,
          50.5,
          52.804878048780495,
          34.0263157894737,
          28.78947368421052,
          45,
          44,
          50.75,
          47.65625,
          43.04761904761905,
          23.9375,
          51.85714285714286,
          45.40625,
          50.03225806451613,
          47,
          49,
          49,
          33,
          26.666666666666657,
          27,
          53.74285714285713,
          49,
          55.97142857142859,
          50.27027027027026,
          53.029411764705856,
          57.641025641025635,
          48,
          49.030303030303,
          45.27272727272725,
          58.89473684210526,
          45.375,
          47,
          48,
          59.62857142857143,
          53.099999999999994,
          54.333333333333336,
          52.666666666666664,
          60.48148148148147,
          45.05882352941177,
          58.46428571428572,
          50.5,
          46.352941176470594,
          48.5,
          56.9,
          41.5,
          49,
          59.33333333333334,
          49.69999999999999,
          59,
          8,
          53,
          56,
          51,
          47,
          57,
          52,
          58
         ],
         "yaxis": "y"
        },
        {
         "hovertemplate": "x=%{x}<br>y=%{y}<br>size=%{marker.size}<br>color=%{marker.color}<extra></extra>",
         "legendgroup": "",
         "marker": {
          "color": [
           80,
           215,
           282.5,
           80,
           215,
           80,
           80,
           80,
           215,
           80,
           80,
           147.49999999999997,
           80,
           80,
           12.5,
           12.5,
           12.5,
           147.49999999999997,
           215,
           282.5,
           215,
           282.5,
           215,
           282.5,
           215,
           215,
           282.5,
           147.49999999999997,
           282.5,
           215,
           80,
           282.5,
           215,
           147.49999999999997,
           215,
           147.49999999999997,
           350,
           350,
           147.49999999999997,
           215,
           215,
           215,
           215,
           80,
           282.5,
           282.5,
           147.49999999999997,
           350,
           215,
           215,
           80,
           80,
           350,
           80,
           350,
           215,
           350,
           147.49999999999997,
           147.49999999999997,
           282.5,
           350,
           215,
           147.49999999999997,
           215,
           215,
           12.5,
           282.5,
           147.49999999999997,
           215,
           80,
           64.28571428571428,
           111.42857142857144,
           158.57142857142858,
           158.57142857142858,
           64.28571428571428,
           64.28571428571428,
           111.42857142857144,
           111.42857142857144,
           158.57142857142858,
           111.42857142857144,
           64.28571428571428,
           252.85714285714286,
           252.85714285714286,
           111.42857142857144,
           158.57142857142858,
           205.71428571428572,
           158.57142857142858,
           111.42857142857144,
           64.28571428571428,
           158.57142857142858,
           111.42857142857144,
           64.28571428571428,
           111.42857142857144,
           64.28571428571428,
           64.28571428571428,
           158.57142857142858,
           205.71428571428572,
           64.28571428571428,
           64.28571428571428,
           64.28571428571428,
           64.28571428571428,
           64.28571428571428,
           64.28571428571428,
           64.28571428571428,
           111.42857142857144,
           64.28571428571428,
           64.28571428571428,
           64.28571428571428,
           64.28571428571428,
           64.28571428571428,
           300,
           64.28571428571428,
           158.57142857142858,
           111.42857142857144,
           64.28571428571428,
           64.28571428571428,
           64.28571428571428,
           111.42857142857144,
           158.57142857142858,
           111.42857142857144,
           111.42857142857144,
           111.42857142857144,
           158.57142857142858,
           64.28571428571428,
           64.28571428571428,
           111.42857142857144,
           158.57142857142858,
           158.57142857142858,
           205.71428571428572,
           158.57142857142858,
           158.57142857142858,
           205.71428571428572,
           205.71428571428572,
           252.85714285714286,
           111.42857142857144,
           64.28571428571428,
           111.42857142857144,
           64.28571428571428,
           64.28571428571428,
           64.28571428571428,
           111.42857142857144,
           64.28571428571428,
           252.85714285714286,
           111.42857142857144,
           158.57142857142858,
           64.28571428571428,
           158.57142857142858,
           111.42857142857144,
           252.85714285714286,
           205.71428571428572,
           111.42857142857144,
           205.71428571428572,
           111.42857142857144,
           158.57142857142858,
           64.28571428571428,
           158.57142857142858,
           64.28571428571428,
           205.71428571428572,
           64.28571428571428,
           252.85714285714286,
           64.28571428571428,
           300,
           111.42857142857144,
           111.42857142857144,
           158.57142857142858,
           158.57142857142858,
           205.71428571428572,
           111.42857142857144,
           111.42857142857144,
           64.28571428571428,
           64.28571428571428,
           64.28571428571428,
           300,
           64.28571428571428,
           111.42857142857144,
           111.42857142857144,
           64.28571428571428,
           205.71428571428572,
           111.42857142857144,
           64.28571428571428,
           111.42857142857144,
           252.85714285714286,
           205.71428571428572,
           111.42857142857144,
           64.28571428571428,
           111.42857142857144,
           158.57142857142858,
           300,
           64.28571428571428,
           64.28571428571428,
           111.42857142857144,
           111.42857142857144,
           158.57142857142858,
           64.28571428571428,
           300,
           64.28571428571428,
           252.85714285714286,
           158.57142857142858
          ],
          "coloraxis": "coloraxis",
          "opacity": [
           0.9761904761904762,
           0.9761904761904762,
           0.8333333333333334,
           0.8809523809523809,
           0.8809523809523809,
           0.8095238095238095,
           0.8095238095238095,
           0.7380952380952381,
           0.7619047619047619,
           0.9285714285714286,
           0.8095238095238095,
           0.023809523809523808,
           0.023809523809523808,
           0.7619047619047619,
           0.9761904761904762,
           0.9761904761904762,
           0.7142857142857143,
           0.7142857142857143,
           0.023809523809523808,
           0.9761904761904762,
           0.9761904761904762,
           0.9761904761904762,
           0.9285714285714286,
           0.7142857142857143,
           0.9761904761904762,
           0.7619047619047619,
           0.7619047619047619,
           0.9761904761904762,
           0.7857142857142857,
           0.7619047619047619,
           0.8095238095238095,
           0.8095238095238095,
           0.8571428571428571,
           0.7380952380952381,
           0.9761904761904762,
           0.9047619047619048,
           0.9047619047619048,
           0.9047619047619048,
           0.7857142857142857,
           0.8571428571428571,
           0.023809523809523808,
           0.7142857142857143,
           0.023809523809523808,
           0.7857142857142857,
           0.9523809523809523,
           0.2857142857142857,
           0.8809523809523809,
           0.9285714285714286,
           0.7619047619047619,
           0.5,
           0.8571428571428571,
           0.7619047619047619,
           0.8809523809523809,
           0.7142857142857143,
           0.7380952380952381,
           0.16666666666666666,
           0.7142857142857143,
           0.7619047619047619,
           0.7857142857142857,
           0.023809523809523808,
           0.7619047619047619,
           0.8809523809523809,
           0.7380952380952381,
           0.7380952380952381,
           0.5476190476190477,
           0.23809523809523808,
           0.023809523809523808,
           0.19047619047619047,
           0.09523809523809523,
           0.07142857142857142,
           0.9285714285714286,
           0.7857142857142857,
           0.07142857142857142,
           0.3333333333333333,
           0.7380952380952381,
           0.023809523809523808,
           0.5714285714285714,
           0.09523809523809523,
           0.07142857142857142,
           0.21428571428571427,
           0.07142857142857142,
           0.023809523809523808,
           0.023809523809523808,
           0.023809523809523808,
           0.023809523809523808,
           0.023809523809523808,
           0.023809523809523808,
           0.07142857142857142,
           0.047619047619047616,
           0.023809523809523808,
           0.023809523809523808,
           0.023809523809523808,
           0.023809523809523808,
           0.9523809523809523,
           0.8809523809523809,
           0.7619047619047619,
           0.7619047619047619,
           0.8571428571428571,
           0.9047619047619048,
           0.7380952380952381,
           0.9523809523809523,
           0.5952380952380952,
           0.8571428571428571,
           0.7857142857142857,
           0.8095238095238095,
           0.7142857142857143,
           0.8571428571428571,
           0.38095238095238093,
           0.7619047619047619,
           0.5714285714285714,
           0.7142857142857143,
           0.2619047619047619,
           0.7380952380952381,
           0.2857142857142857,
           0.5476190476190477,
           0.5,
           0.2619047619047619,
           0.07142857142857142,
           0.09523809523809523,
           0.21428571428571427,
           0.07142857142857142,
           0.023809523809523808,
           0.30952380952380953,
           0.11904761904761904,
           0.09523809523809523,
           0.07142857142857142,
           0.8095238095238095,
           0.8333333333333334,
           0.8333333333333334,
           0.7142857142857143,
           0.9761904761904762,
           0.8333333333333334,
           0.8809523809523809,
           0.8095238095238095,
           0.9761904761904762,
           0.7619047619047619,
           0.9047619047619048,
           0.8809523809523809,
           0.8333333333333334,
           0.7857142857142857,
           0.8571428571428571,
           0.9285714285714286,
           0.9285714285714286,
           0.7142857142857143,
           0.7380952380952381,
           1,
           0.7380952380952381,
           0.7857142857142857,
           0.7857142857142857,
           0.7857142857142857,
           0.8095238095238095,
           0.9047619047619048,
           0.8333333333333334,
           0.7619047619047619,
           0.9761904761904762,
           0.023809523809523808,
           0.7857142857142857,
           0.023809523809523808,
           0.7619047619047619,
           0.8333333333333334,
           0.8809523809523809,
           0.7142857142857143,
           0.7619047619047619,
           0.8333333333333334,
           0.7857142857142857,
           0.7142857142857143,
           0.6428571428571429,
           0.7857142857142857,
           0.7380952380952381,
           0.7619047619047619,
           0.7857142857142857,
           0.7857142857142857,
           0.8095238095238095,
           0.7619047619047619,
           0.8809523809523809,
           0.8571428571428571,
           0.7619047619047619,
           0.6666666666666666,
           0.6904761904761905,
           0.3333333333333333,
           0.42857142857142855,
           0.047619047619047616,
           0.14285714285714285,
           0.8095238095238095,
           0.8095238095238095,
           0.7619047619047619,
           0.23809523809523808,
           0.2857142857142857,
           0.5476190476190477,
           0.7142857142857143,
           0.14285714285714285,
           0.14285714285714285,
           0.19047619047619047,
           0.7142857142857143,
           0.23809523809523808,
           0.40476190476190477,
           0.09523809523809523,
           0.07142857142857142
          ],
          "size": [
           4.235620498657227,
           1.5937209129333496,
           1.52773118019104,
           2.0870425701141357,
           4.628746509552002,
           1.806147813796997,
           1.5425441265106201,
           2.347661256790161,
           3.092153310775757,
           1.3508713245391846,
           1.460023045539856,
           2.178907632827759,
           1.752389907836914,
           1.9112114906311035,
           2.744274139404297,
           1.9767261743545532,
           2.6125524044036865,
           1.4444491863250732,
           1.7098324298858643,
           8.42481517791748,
           8.297382354736328,
           3.5709166526794434,
           3.4727494716644287,
           5.928927421569824,
           11.772180557250977,
           7.838544845581055,
           4.305970191955566,
           2.3458662033081055,
           9.679024696350098,
           4.958643913269043,
           7.323162078857422,
           4.666014194488525,
           2.2567903995513916,
           2.232862949371338,
           2.8164634704589844,
           2.0780625343322754,
           2.915302276611328,
           3.091538190841675,
           2.8354647159576416,
           4.386618614196777,
           2.074949264526367,
           1.8102768659591675,
           2.636770725250244,
           4.134169101715088,
           5.071809768676758,
           9.927506446838379,
           2.1067023277282715,
           1.9380221366882324,
           3.077915668487549,
           2.8446645736694336,
           2.6735787391662598,
           2.481127977371216,
           3.095690965652466,
           3.44006609916687,
           3.0076005458831787,
           5.286747932434082,
           4.418164253234863,
           2.6375629901885986,
           1.6721198558807373,
           2.1291966438293457,
           1.8243522644042969,
           2.4942333698272705,
           3.0882885456085205,
           3.536489248275757,
           3.446601390838623,
           2.634220838546753,
           2.03558087348938,
           2.689243793487549,
           1.7833250761032104,
           2.030829668045044,
           2.8274762630462646,
           2.4210567474365234,
           2.3135533332824707,
           1.8208627700805664,
           3.9761576652526855,
           2.6561169624328613,
           2.670919418334961,
           2.8813748359680176,
           2.0495150089263916,
           2.5770609378814697,
           2.4557790756225586,
           2.800139904022217,
           3.098717212677002,
           2.1410512924194336,
           1.6733585596084595,
           2.861359119415283,
           2.829055070877075,
           1.7403960227966309,
           4.303746700286865,
           1.951364278793335,
           3.0356321334838867,
           1.5318210124969482,
           2.2145333290100098,
           1.955594778060913,
           2.622616767883301,
           2.4518749713897705,
           2.869082450866699,
           2.305860996246338,
           2.0964720249176025,
           4.455135345458984,
           1.7156398296356201,
           1.4946447610855103,
           2.0737874507904053,
           2.8428244590759277,
           2.193941354751587,
           1.9534083604812622,
           2.2340216636657715,
           2.178746223449707,
           1.8273582458496094,
           2.495166778564453,
           1.5755552053451538,
           1.9975723028182983,
           1.7337380647659302,
           3.2110910415649414,
           2.0994255542755127,
           2.531684637069702,
           2.2411065101623535,
           2.361016273498535,
           2.9759840965270996,
           1.9809858798980713,
           2.3332104682922363,
           2.095172882080078,
           3.181736946105957,
           1.6024441719055176,
           3.042820930480957,
           2.2207436561584473,
           4.219554901123047,
           3.620249032974243,
           9.692630767822266,
           2.798089027404785,
           8.151031494140625,
           8.438462257385254,
           11.10384750366211,
           7.7598371505737305,
           4.93981409072876,
           2.904197931289673,
           5.074833393096924,
           2.5031206607818604,
           3.804893732070923,
           3.887146472930908,
           4.285539627075195,
           4.930507183074951,
           5.970025062561035,
           3.6488325595855713,
           2.830899715423584,
           8.639871597290039,
           3.3574864864349365,
           2.401667833328247,
           10.496899604797363,
           5.270120143890381,
           3.1782522201538086,
           6.427105903625488,
           3.7989044189453125,
           9.306137084960938,
           9.353752136230469,
           2.802839517593384,
           2.7624611854553223,
           4.2867302894592285,
           4.046599864959717,
           5.734755516052246,
           4.52119779586792,
           4.422694206237793,
           3.787992238998413,
           4.445866584777832,
           7.009093761444092,
           2.8957676887512207,
           7.979254245758057,
           4.363316059112549,
           3.560544729232788,
           3.98154878616333,
           3.622553586959839,
           4.258700847625732,
           6.638754844665527,
           2.9746716022491455,
           4.2650275230407715,
           4.654177188873291,
           2.3871045112609863,
           3.7056884765625,
           2.60256290435791,
           3.1875295639038086,
           2.1133430004119873,
           2.466339349746704,
           3.2212436199188232,
           3.2090022563934326,
           6.308681011199951,
           3.32340407371521,
           3.545827627182007,
           2.841616153717041,
           2.2588820457458496,
           2.4460532665252686,
           2.125999927520752,
           3.0608272552490234,
           3.1115188598632812,
           2.7715330123901367,
           3.5803914070129395,
           3.5791120529174805,
           2.292721748352051,
           2.1690385341644287
          ],
          "sizemode": "area",
          "sizeref": 0.02943045139312744,
          "symbol": "circle"
         },
         "mode": "markers",
         "name": "",
         "orientation": "v",
         "showlegend": false,
         "type": "scatter",
         "x": [
          31,
          32,
          32.08571428571429,
          25.72972972972973,
          24.83783783783784,
          23.852941176470587,
          36.294117647058826,
          30,
          20.5,
          24,
          36.14705882352941,
          24,
          29,
          33.75,
          30,
          38,
          32.03333333333333,
          34.266666666666666,
          47,
          67,
          70,
          79,
          67,
          62.9,
          64,
          70.375,
          83.5,
          65,
          74.27272727272727,
          59.5,
          51.705882352941174,
          86.32352941176471,
          80.72222222222223,
          70.03225806451613,
          55.02439024390244,
          61.973684210526315,
          78.26315789473684,
          79.76315789473684,
          61.72727272727273,
          77.05555555555556,
          67,
          63.63333333333333,
          66,
          49.72727272727273,
          59,
          71,
          56.729729729729726,
          84.17948717948718,
          71.375,
          74.23809523809524,
          45.388888888888886,
          59.5,
          75.91891891891892,
          56.13333333333333,
          70.96774193548387,
          67.42857142857143,
          84.5,
          66,
          59.45454545454545,
          84,
          84,
          27.16216216216216,
          57.83870967741935,
          30.64516129032258,
          23.26086956521739,
          51.7,
          77,
          63.625,
          27.5,
          61.333333333333336,
          85.97435897435898,
          78.75757575757575,
          68.33333333333333,
          83.92857142857143,
          74.3225806451613,
          72,
          85.875,
          17,
          125.33333333333333,
          31.88888888888889,
          60.333333333333336,
          75,
          71,
          54,
          70,
          124,
          69,
          32.666666666666664,
          67.5,
          94,
          30,
          63,
          37,
          70.025,
          39.83783783783784,
          24.4375,
          81.5,
          35.97222222222222,
          79.21052631578948,
          20.032258064516128,
          29.075,
          67.08,
          26.86111111111111,
          47.39393939393939,
          22.205882352941178,
          54.03333333333333,
          41.75,
          66,
          39.21875,
          26,
          105.23333333333333,
          43.18181818181818,
          17.741935483870968,
          69.83333333333333,
          35.21739130434783,
          32.523809523809526,
          44.09090909090909,
          9.666666666666666,
          19.5,
          61.77777777777778,
          74.66666666666667,
          77,
          12.923076923076923,
          24.4,
          72,
          38.666666666666664,
          85.70588235294117,
          80.57142857142857,
          69.82857142857142,
          81.76666666666667,
          70,
          64.91428571428571,
          74.54054054054055,
          75.8529411764706,
          19,
          82.65625,
          13.894736842105264,
          48.08108108108108,
          81.37142857142857,
          76.15151515151516,
          81.44444444444444,
          18.82051282051282,
          65.7948717948718,
          18.866666666666667,
          64.48387096774194,
          53.976190476190474,
          76.29032258064517,
          86.12121212121212,
          79.93939393939394,
          78.63636363636364,
          74.73529411764706,
          60.973684210526315,
          16.17142857142857,
          76.6875,
          62,
          73,
          60.93939393939394,
          77,
          54.03125,
          60.857142857142854,
          70.02702702702703,
          75.16666666666667,
          26.09375,
          20.771428571428572,
          63.93939393939394,
          70.33333333333333,
          71.5925925925926,
          70.33333333333333,
          75.45161290322581,
          61.8125,
          19.515151515151516,
          55.39393939393939,
          83.1470588235294,
          23.625,
          24.972972972972972,
          65.75,
          14.03125,
          56.892857142857146,
          61.51724137931034,
          67.78571428571429,
          15.222222222222221,
          76.5,
          68,
          67.97058823529412,
          25.91176470588235,
          61.59375,
          60.6,
          87.91666666666667,
          15.130434782608695,
          34.43333333333333,
          80.16666666666667,
          79.5,
          75,
          76.5,
          79.3,
          65.94117647058823,
          58,
          61.666666666666664
         ],
         "xaxis": "x2",
         "y": [
          31,
          56,
          58.51428571428571,
          27.83783783783784,
          55.81081081081081,
          33.29411764705881,
          35.14705882352942,
          38.61290322580646,
          52.5,
          40,
          20.705882352941188,
          46,
          26,
          44.375,
          31,
          26,
          38.69999999999999,
          39.93333333333334,
          27,
          47,
          36,
          31,
          41,
          50.56666666666667,
          47,
          31.09375,
          27.5,
          35,
          40.72727272727273,
          50.5,
          30.14705882352942,
          34.44117647058823,
          34.27777777777777,
          39.258064516129025,
          52.804878048780495,
          30.18421052631578,
          34.0263157894737,
          28.78947368421052,
          39.27272727272728,
          39.111111111111114,
          45,
          37.53333333333333,
          44,
          34.27272727272728,
          53.9,
          50.75,
          34.16216216216216,
          18.97435897435895,
          47.65625,
          43.04761904761905,
          29.444444444444457,
          33.5,
          40.16216216216219,
          38.33333333333334,
          45.225806451612925,
          51.85714285714286,
          26.69999999999999,
          45.40625,
          44.24242424242425,
          37,
          36.90625,
          27,
          50.03225806451613,
          22.774193548387103,
          23.52173913043478,
          33.30000000000001,
          46,
          49,
          19,
          45.33333333333334,
          37.17948717948718,
          24.818181818181813,
          52.666666666666664,
          53.642857142857146,
          46.48387096774192,
          28,
          47.08333333333333,
          61.75,
          36.666666666666664,
          56.66666666666667,
          59.33333333333334,
          59,
          61,
          12,
          55,
          35,
          56,
          48.33333333333333,
          54,
          43,
          55,
          39,
          20,
          23.05000000000001,
          27.86486486486487,
          60.96875,
          40.5,
          31.861111111111114,
          44.18421052631578,
          59.419354838709666,
          29.025000000000006,
          18.120000000000005,
          35.22222222222223,
          33.848484848484844,
          35.529411764705884,
          19.400000000000006,
          40.111111111111114,
          25.5,
          18.4375,
          59.625,
          26.76666666666668,
          24.454545454545467,
          57.83870967741935,
          40.33333333333333,
          25.608695652173907,
          48.47619047619048,
          17.454545454545467,
          55.66666666666667,
          41.5,
          42.77777777777777,
          44.33333333333333,
          41,
          55.84615384615385,
          46.80000000000001,
          40.5,
          23.33333333333333,
          31.852941176470587,
          35.17142857142857,
          53.74285714285713,
          29.366666666666667,
          49,
          55.97142857142859,
          50.27027027027026,
          53.029411764705856,
          52,
          41.1875,
          49.71052631578948,
          27.27027027027026,
          33.514285714285705,
          28.787878787878782,
          31.97222222222223,
          52,
          57.641025641025635,
          58.53333333333333,
          48,
          30.690476190476204,
          37.096774193548384,
          38.06060606060606,
          49.030303030303,
          45.27272727272725,
          28.882352941176464,
          58.89473684210526,
          43.57142857142857,
          45.375,
          33,
          47,
          20,
          48,
          24.09375,
          59.62857142857143,
          30.86486486486487,
          53.099999999999994,
          60.15625,
          40.77142857142857,
          54.333333333333336,
          43.6,
          60.48148148148147,
          31.181818181818187,
          37.064516129032256,
          27.78125,
          44.81818181818181,
          37.24242424242425,
          45.05882352941177,
          40.1875,
          49.97297297297297,
          34.05555555555556,
          56.03125,
          58.46428571428572,
          34.689655172413794,
          34.071428571428584,
          38.16666666666667,
          58,
          50.5,
          46.352941176470594,
          51.05882352941177,
          48.5,
          56.9,
          41.5,
          48.739130434782595,
          37.23333333333332,
          38.66666666666667,
          35,
          41.375,
          36.83333333333334,
          49.69999999999999,
          39.29411764705881,
          61.75,
          61.666666666666664
         ],
         "yaxis": "y2"
        },
        {
         "hovertemplate": "x=%{x}<br>y=%{y}<br>size=%{marker.size}<br>color=%{marker.color}<extra></extra>",
         "legendgroup": "",
         "marker": {
          "color": [
           282.5,
           215,
           282.5,
           215,
           215,
           147.49999999999997,
           80
          ],
          "coloraxis": "coloraxis",
          "opacity": [
           1,
           1,
           0.8048780487804879,
           0.7804878048780488,
           0.17073170731707318,
           0.1951219512195122,
           0.024390243902439025
          ],
          "size": [
           1.3679628372192383,
           4.963944911956787,
           5.124996662139893,
           2.824368476867676,
           1.7015621662139893,
           1.848413109779358,
           1.9778163433074951
          ],
          "sizemode": "area",
          "sizeref": 0.012812491655349732,
          "symbol": "circle"
         },
         "mode": "markers",
         "name": "",
         "orientation": "v",
         "showlegend": false,
         "type": "scatter",
         "x": [
          67,
          64,
          74.27272727272727,
          71.375,
          67.42857142857143,
          63.625,
          56
         ],
         "xaxis": "x3",
         "y": [
          47,
          47,
          40.72727272727273,
          47.65625,
          51.85714285714286,
          49,
          7
         ],
         "yaxis": "y3"
        },
        {
         "hovertemplate": "x=%{x}<br>y=%{y}<br>size=%{marker.size}<br>color=%{marker.color}<extra></extra>",
         "legendgroup": "",
         "marker": {
          "color": [
           282.5,
           215,
           282.5,
           282.5,
           215,
           282.5,
           215,
           215,
           147.49999999999997,
           80,
           215,
           282.5,
           80,
           215,
           282.5,
           282.5,
           80,
           147.49999999999997,
           282.5,
           215,
           282.5,
           215,
           80,
           147.49999999999997,
           80,
           215,
           147.49999999999997,
           147.49999999999997,
           282.5,
           282.5,
           80,
           282.5,
           215,
           215,
           147.49999999999997,
           80,
           215,
           282.5,
           215,
           80,
           80,
           147.49999999999997,
           147.49999999999997,
           350,
           80,
           215,
           147.49999999999997,
           350,
           80,
           80,
           147.49999999999997,
           147.49999999999997,
           215,
           80,
           147.49999999999997,
           215,
           80,
           147.49999999999997,
           80,
           147.49999999999997,
           80,
           80,
           147.49999999999997,
           282.5,
           80,
           282.5,
           215,
           147.49999999999997,
           80,
           80,
           80,
           80,
           215,
           215,
           80,
           147.49999999999997,
           350,
           80,
           215,
           215,
           80,
           147.49999999999997,
           215,
           147.49999999999997,
           282.5,
           147.49999999999997,
           147.49999999999997,
           147.49999999999997,
           80,
           147.49999999999997,
           147.49999999999997,
           215,
           80,
           80,
           282.5,
           147.49999999999997,
           282.5,
           350,
           147.49999999999997,
           80,
           80,
           215,
           12.5,
           80,
           80,
           147.49999999999997,
           12.5,
           147.49999999999997,
           215,
           147.49999999999997,
           147.49999999999997,
           147.49999999999997,
           80,
           12.5,
           282.5,
           147.49999999999997,
           80,
           215,
           12.5,
           80,
           282.5,
           282.5,
           350,
           215,
           215,
           80,
           215,
           350,
           282.5,
           80,
           12.5,
           147.49999999999997,
           80,
           80,
           147.49999999999997,
           147.49999999999997,
           147.49999999999997,
           80,
           282.5,
           215,
           147.49999999999997,
           147.49999999999997,
           80,
           12.5,
           80,
           147.49999999999997,
           80,
           80,
           350,
           12.5,
           147.49999999999997,
           147.49999999999997,
           12.5,
           350,
           147.49999999999997,
           12.5,
           215,
           12.5,
           147.49999999999997,
           215,
           80,
           80,
           282.5,
           12.5,
           147.49999999999997,
           80,
           80,
           12.5,
           147.49999999999997,
           12.5,
           12.5,
           215,
           215,
           147.49999999999997,
           147.49999999999997,
           80,
           12.5,
           12.5,
           147.49999999999997,
           12.5,
           12.5,
           12.5,
           147.49999999999997,
           80,
           80,
           12.5,
           147.49999999999997,
           215,
           80,
           80,
           12.5,
           80,
           147.49999999999997,
           80,
           215,
           12.5,
           147.49999999999997,
           80,
           147.49999999999997,
           147.49999999999997,
           12.5,
           350,
           12.5,
           147.49999999999997,
           147.49999999999997,
           147.49999999999997,
           282.5,
           282.5,
           147.49999999999997,
           282.5,
           147.49999999999997,
           215,
           282.5,
           147.49999999999997,
           80,
           147.49999999999997,
           147.49999999999997,
           215,
           12.5,
           282.5,
           282.5,
           147.49999999999997,
           215,
           215,
           215,
           215,
           350,
           350,
           80,
           215,
           147.49999999999997,
           80,
           350,
           350,
           215,
           282.5,
           215,
           147.49999999999997,
           215,
           350,
           80,
           80,
           12.5,
           80,
           215,
           147.49999999999997,
           215,
           147.49999999999997,
           147.49999999999997,
           215,
           80,
           215,
           147.49999999999997,
           215,
           12.5,
           215,
           147.49999999999997,
           147.49999999999997,
           147.49999999999997,
           350,
           147.49999999999997,
           147.49999999999997,
           80,
           111.42857142857144,
           64.28571428571428,
           205.71428571428572,
           158.57142857142858,
           205.71428571428572,
           158.57142857142858,
           205.71428571428572,
           64.28571428571428,
           205.71428571428572,
           252.85714285714286,
           300,
           252.85714285714286,
           158.57142857142858,
           205.71428571428572,
           252.85714285714286,
           158.57142857142858,
           158.57142857142858,
           252.85714285714286,
           158.57142857142858,
           158.57142857142858,
           205.71428571428572,
           252.85714285714286,
           111.42857142857144,
           205.71428571428572,
           300,
           158.57142857142858,
           252.85714285714286,
           158.57142857142858,
           205.71428571428572,
           300,
           300,
           252.85714285714286,
           252.85714285714286,
           158.57142857142858,
           252.85714285714286,
           205.71428571428572,
           252.85714285714286,
           111.42857142857144,
           205.71428571428572,
           252.85714285714286,
           111.42857142857144,
           252.85714285714286,
           158.57142857142858,
           111.42857142857144,
           64.28571428571428,
           300,
           300,
           64.28571428571428,
           252.85714285714286,
           252.85714285714286,
           111.42857142857144,
           158.57142857142858,
           64.28571428571428,
           205.71428571428572,
           158.57142857142858,
           252.85714285714286,
           205.71428571428572,
           300,
           300,
           64.28571428571428,
           252.85714285714286,
           111.42857142857144,
           64.28571428571428,
           205.71428571428572,
           111.42857142857144,
           158.57142857142858,
           64.28571428571428,
           300,
           205.71428571428572,
           64.28571428571428,
           252.85714285714286,
           300,
           111.42857142857144,
           111.42857142857144,
           64.28571428571428,
           158.57142857142858,
           158.57142857142858,
           158.57142857142858,
           111.42857142857144,
           205.71428571428572,
           111.42857142857144,
           111.42857142857144,
           64.28571428571428,
           64.28571428571428,
           300,
           111.42857142857144,
           111.42857142857144,
           205.71428571428572,
           64.28571428571428,
           205.71428571428572,
           111.42857142857144,
           64.28571428571428,
           111.42857142857144,
           205.71428571428572,
           64.28571428571428,
           111.42857142857144,
           252.85714285714286,
           158.57142857142858,
           300,
           64.28571428571428,
           252.85714285714286,
           300,
           64.28571428571428,
           205.71428571428572,
           158.57142857142858,
           158.57142857142858,
           64.28571428571428,
           300,
           158.57142857142858,
           158.57142857142858,
           111.42857142857144,
           205.71428571428572,
           64.28571428571428,
           64.28571428571428,
           111.42857142857144,
           64.28571428571428,
           111.42857142857144,
           64.28571428571428,
           158.57142857142858,
           64.28571428571428,
           252.85714285714286,
           111.42857142857144,
           64.28571428571428,
           111.42857142857144,
           111.42857142857144,
           111.42857142857144,
           64.28571428571428,
           64.28571428571428,
           64.28571428571428,
           64.28571428571428,
           252.85714285714286,
           111.42857142857144,
           205.71428571428572,
           158.57142857142858,
           64.28571428571428,
           111.42857142857144,
           64.28571428571428,
           111.42857142857144,
           64.28571428571428,
           64.28571428571428,
           64.28571428571428,
           300,
           158.57142857142858,
           111.42857142857144,
           158.57142857142858,
           158.57142857142858,
           205.71428571428572,
           111.42857142857144,
           205.71428571428572,
           158.57142857142858,
           158.57142857142858,
           158.57142857142858,
           252.85714285714286,
           158.57142857142858,
           158.57142857142858,
           158.57142857142858,
           158.57142857142858,
           205.71428571428572,
           158.57142857142858,
           111.42857142857144,
           158.57142857142858,
           64.28571428571428,
           205.71428571428572,
           158.57142857142858
          ],
          "coloraxis": "coloraxis",
          "opacity": [
           0.9761904761904762,
           0.9761904761904762,
           0.9761904761904762,
           0.7380952380952381,
           0.9285714285714286,
           0.7142857142857143,
           0.9761904761904762,
           0.9761904761904762,
           0.9761904761904762,
           0.9761904761904762,
           0.8809523809523809,
           0.7619047619047619,
           0.9761904761904762,
           0.9761904761904762,
           0.8809523809523809,
           0.8333333333333334,
           0.8809523809523809,
           0.9761904761904762,
           0.7857142857142857,
           0.8809523809523809,
           0.7857142857142857,
           0.7619047619047619,
           0.8095238095238095,
           0.9761904761904762,
           0.9047619047619048,
           0.5238095238095238,
           0.9761904761904762,
           0.9761904761904762,
           0.8095238095238095,
           0.7857142857142857,
           0.8095238095238095,
           0.8809523809523809,
           0.8571428571428571,
           0.9761904761904762,
           0.7380952380952381,
           0.8095238095238095,
           0.7857142857142857,
           0.7857142857142857,
           0.9761904761904762,
           0.023809523809523808,
           0.7380952380952381,
           0.9047619047619048,
           0.9761904761904762,
           0.9047619047619048,
           0.8333333333333334,
           0.7619047619047619,
           0.8095238095238095,
           0.9047619047619048,
           0.9285714285714286,
           0.9285714285714286,
           0.9761904761904762,
           0.7857142857142857,
           0.8571428571428571,
           0.8095238095238095,
           0.023809523809523808,
           0.7142857142857143,
           0.7380952380952381,
           0.8571428571428571,
           0.9285714285714286,
           0.7857142857142857,
           0.9761904761904762,
           0.7857142857142857,
           0.8571428571428571,
           0.9523809523809523,
           0.023809523809523808,
           0.2857142857142857,
           0.9761904761904762,
           0.8571428571428571,
           0.7619047619047619,
           0.023809523809523808,
           0.8095238095238095,
           0.7619047619047619,
           0.7619047619047619,
           0.5476190476190477,
           0.7380952380952381,
           0.8809523809523809,
           0.9285714285714286,
           0.7142857142857143,
           0.7619047619047619,
           0.5,
           0.8571428571428571,
           0.9285714285714286,
           0.7619047619047619,
           0.8571428571428571,
           0.7857142857142857,
           0.9047619047619048,
           0.9761904761904762,
           0.7142857142857143,
           0.7619047619047619,
           0.8571428571428571,
           0.8571428571428571,
           0.7619047619047619,
           0.7619047619047619,
           0.7380952380952381,
           0.9047619047619048,
           0.8809523809523809,
           0.7857142857142857,
           0.8809523809523809,
           0.023809523809523808,
           0.7142857142857143,
           0.7380952380952381,
           0.9047619047619048,
           0.9761904761904762,
           0.7142857142857143,
           0.023809523809523808,
           0.7857142857142857,
           0.9761904761904762,
           0.9523809523809523,
           0.7619047619047619,
           0.7857142857142857,
           0.8095238095238095,
           0.023809523809523808,
           0.023809523809523808,
           0.9761904761904762,
           0.8333333333333334,
           0.7142857142857143,
           0.9285714285714286,
           0.7619047619047619,
           0.9523809523809523,
           0.7380952380952381,
           0.6190476190476191,
           0.7380952380952381,
           0.7142857142857143,
           0.7857142857142857,
           0.7380952380952381,
           0.7380952380952381,
           0.7380952380952381,
           0.7142857142857143,
           0.7142857142857143,
           0.8333333333333334,
           0.7142857142857143,
           1,
           0.9285714285714286,
           0.8571428571428571,
           0.8571428571428571,
           0.5,
           0.7619047619047619,
           0.7142857142857143,
           0.8571428571428571,
           0.7142857142857143,
           0.2857142857142857,
           0.7857142857142857,
           0.6666666666666666,
           0.7619047619047619,
           0.38095238095238093,
           0.47619047619047616,
           0.023809523809523808,
           0.8571428571428571,
           0.3333333333333333,
           0.8571428571428571,
           0.7380952380952381,
           0.4523809523809524,
           0.8095238095238095,
           0.47619047619047616,
           0.5714285714285714,
           0.8571428571428571,
           0.8809523809523809,
           0.7142857142857143,
           0.7380952380952381,
           0.7619047619047619,
           0.7142857142857143,
           0.8333333333333334,
           0.8571428571428571,
           0.7619047619047619,
           0.5,
           0.09523809523809523,
           0.7380952380952381,
           0.7619047619047619,
           0.19047619047619047,
           0.8095238095238095,
           0.7857142857142857,
           0.8333333333333334,
           0.7380952380952381,
           0.47619047619047616,
           0.3333333333333333,
           0.023809523809523808,
           0.11904761904761904,
           0.5476190476190477,
           0.23809523809523808,
           0.7619047619047619,
           0.7380952380952381,
           0.7619047619047619,
           0.11904761904761904,
           0.023809523809523808,
           0.7380952380952381,
           0.8333333333333334,
           0.7619047619047619,
           0.7380952380952381,
           0.38095238095238093,
           0.5952380952380952,
           0.8095238095238095,
           0.8095238095238095,
           0.7142857142857143,
           0.35714285714285715,
           0.6190476190476191,
           0.023809523809523808,
           0.6428571428571429,
           0.35714285714285715,
           0.21428571428571427,
           0.2619047619047619,
           0.7380952380952381,
           0.6428571428571429,
           0.5952380952380952,
           0.19047619047619047,
           0.7142857142857143,
           0.19047619047619047,
           0.047619047619047616,
           0.023809523809523808,
           0.16666666666666666,
           0.38095238095238093,
           0.16666666666666666,
           0.023809523809523808,
           0.2619047619047619,
           0.5238095238095238,
           0.047619047619047616,
           0.023809523809523808,
           0.023809523809523808,
           0.11904761904761904,
           0.21428571428571427,
           0.023809523809523808,
           0.07142857142857142,
           0.023809523809523808,
           0.09523809523809523,
           0.8333333333333334,
           0.023809523809523808,
           0.023809523809523808,
           0.8809523809523809,
           0.7380952380952381,
           0.7619047619047619,
           0.16666666666666666,
           0.023809523809523808,
           0.023809523809523808,
           0.7619047619047619,
           0.8809523809523809,
           0.5476190476190477,
           0.3333333333333333,
           0.4523809523809524,
           0.40476190476190477,
           0.14285714285714285,
           0.07142857142857142,
           0.19047619047619047,
           0.30952380952380953,
           0.47619047619047616,
           0.023809523809523808,
           0.16666666666666666,
           0.07142857142857142,
           0.023809523809523808,
           0.07142857142857142,
           0.047619047619047616,
           0.047619047619047616,
           0.07142857142857142,
           0.047619047619047616,
           0.07142857142857142,
           0.047619047619047616,
           0.023809523809523808,
           0.07142857142857142,
           0.023809523809523808,
           0.047619047619047616,
           0.023809523809523808,
           0.023809523809523808,
           0.023809523809523808,
           0.023809523809523808,
           0.023809523809523808,
           0.9761904761904762,
           0.9761904761904762,
           0.9761904761904762,
           0.9761904761904762,
           0.9523809523809523,
           0.9761904761904762,
           0.7619047619047619,
           0.7857142857142857,
           0.8095238095238095,
           0.8095238095238095,
           0.9761904761904762,
           0.9285714285714286,
           0.8809523809523809,
           1,
           0.7142857142857143,
           0.8095238095238095,
           0.8095238095238095,
           0.9761904761904762,
           0.8333333333333334,
           0.7857142857142857,
           0.8333333333333334,
           0.7619047619047619,
           0.9761904761904762,
           0.7142857142857143,
           0.8095238095238095,
           0.7142857142857143,
           0.9523809523809523,
           0.9761904761904762,
           0.7857142857142857,
           0.19047619047619047,
           0.8333333333333334,
           0.9761904761904762,
           0.7142857142857143,
           0.8571428571428571,
           0.8095238095238095,
           0.8333333333333334,
           0.23809523809523808,
           0.8809523809523809,
           0.8809523809523809,
           0.8095238095238095,
           0.9761904761904762,
           0.7380952380952381,
           0.7619047619047619,
           0.9047619047619048,
           0.7857142857142857,
           0.7142857142857143,
           0.7142857142857143,
           0.9285714285714286,
           0.9285714285714286,
           0.8333333333333334,
           0.7142857142857143,
           0.7380952380952381,
           1,
           0.7619047619047619,
           0.7380952380952381,
           0.7857142857142857,
           0.7857142857142857,
           0.42857142857142855,
           0.7142857142857143,
           0.8571428571428571,
           0.6190476190476191,
           0.8095238095238095,
           0.7380952380952381,
           0.9047619047619048,
           0.8333333333333334,
           0.7619047619047619,
           0.9761904761904762,
           0.8333333333333334,
           0.7380952380952381,
           0.9523809523809523,
           0.8333333333333334,
           0.7142857142857143,
           0.7619047619047619,
           0.8333333333333334,
           0.7857142857142857,
           0.7857142857142857,
           0.07142857142857142,
           0.7142857142857143,
           0.8095238095238095,
           0.6428571428571429,
           0.7857142857142857,
           0.7857142857142857,
           0.8571428571428571,
           0.7857142857142857,
           0.8095238095238095,
           0.8809523809523809,
           0.8571428571428571,
           0.8095238095238095,
           0.7619047619047619,
           0.6666666666666666,
           0.6904761904761905,
           0.7619047619047619,
           0.8095238095238095,
           0.2857142857142857,
           0.8095238095238095,
           0.7619047619047619,
           0.7380952380952381,
           0.23809523809523808,
           0.2857142857142857,
           0.8095238095238095,
           0.8095238095238095,
           0.7142857142857143,
           0.2619047619047619,
           0.21428571428571427,
           0.7380952380952381,
           0.35714285714285715,
           0.5,
           0.23809523809523808,
           0.047619047619047616,
           0.023809523809523808,
           0.8095238095238095,
           0.7857142857142857,
           0.9285714285714286,
           0.8095238095238095,
           0.7380952380952381,
           1,
           0.9285714285714286,
           0.9761904761904762,
           0.16666666666666666,
           0.7619047619047619,
           0.8809523809523809,
           0.7857142857142857,
           0.7619047619047619,
           0.8571428571428571,
           0.5238095238095238,
           0.35714285714285715,
           0.8571428571428571,
           0.7857142857142857,
           0.7619047619047619,
           0.7380952380952381,
           0.14285714285714285,
           0.42857142857142855,
           0.2857142857142857,
           0.11904761904761904,
           0.5476190476190477,
           0.2857142857142857,
           0.7142857142857143,
           0.4523809523809524,
           0.7142857142857143,
           0.7380952380952381,
           0.23809523809523808,
           0.42857142857142855,
           0.19047619047619047,
           0.07142857142857142,
           0.19047619047619047,
           0.047619047619047616,
           0.21428571428571427,
           0.023809523809523808,
           0.047619047619047616,
           0.2619047619047619,
           0.14285714285714285,
           0.09523809523809523,
           0.21428571428571427,
           0.09523809523809523,
           0.30952380952380953,
           0.09523809523809523,
           0.11904761904761904,
           0.023809523809523808,
           0.023809523809523808,
           0.07142857142857142,
           0.023809523809523808,
           0.07142857142857142,
           0.047619047619047616,
           0.023809523809523808
          ],
          "size": [
           5.169304370880127,
           12.383881568908691,
           2.950728416442871,
           3.2394394874572754,
           5.797037601470947,
           3.491334915161133,
           7.946142196655273,
           4.886739730834961,
           1.9125020503997803,
           3.3031857013702393,
           7.527618885040283,
           11.443883895874023,
           12.023859024047852,
           3.7651724815368652,
           4.667210102081299,
           3.210320472717285,
           8.56594467163086,
           4.915120601654053,
           7.699710845947266,
           8.036958694458008,
           2.5940656661987305,
           3.6015379428863525,
           9.078606605529785,
           5.807929992675781,
           7.813838958740234,
           6.740826606750488,
           5.033555030822754,
           5.155589580535889,
           5.870794296264648,
           2.4510393142700195,
           6.793848991394043,
           2.370922088623047,
           2.040494203567505,
           1.1924554109573364,
           3.8147363662719727,
           7.512545585632324,
           3.153862476348877,
           3.153406858444214,
           3.7181663513183594,
           1.3715648651123047,
           5.23274040222168,
           7.05785608291626,
           8.04429817199707,
           2.0187594890594482,
           8.931599617004395,
           7.49365758895874,
           3.4916868209838867,
           6.199788570404053,
           2.2870779037475586,
           4.313973903656006,
           2.5498993396759033,
           3.401005744934082,
           3.1473445892333984,
           13.06863021850586,
           3.723160743713379,
           4.4050798416137695,
           1.2482943534851074,
           5.678144931793213,
           8.555618286132812,
           3.2191731929779053,
           4.379782676696777,
           5.99501371383667,
           5.673834800720215,
           3.87705659866333,
           3.166658401489258,
           6.596050262451172,
           3.289698362350464,
           4.50327730178833,
           4.914271354675293,
           2.5276129245758057,
           6.2993903160095215,
           5.266557216644287,
           2.6258962154388428,
           2.2089667320251465,
           10.896867752075195,
           4.7524919509887695,
           4.208785057067871,
           2.406562566757202,
           2.747075319290161,
           4.499538421630859,
           8.853349685668945,
           8.36544418334961,
           2.0144007205963135,
           5.347407817840576,
           4.062931060791016,
           5.009930610656738,
           2.1875758171081543,
           2.7065038681030273,
           4.224015235900879,
           3.115090847015381,
           2.7167513370513916,
           3.534064292907715,
           1.9568346738815308,
           7.697083950042725,
           2.1127634048461914,
           1.908861756324768,
           2.809307098388672,
           1.8413865566253662,
           1.3343356847763062,
           3.771310329437256,
           2.9705162048339844,
           4.7913360595703125,
           6.59982967376709,
           4.633951187133789,
           3.77087664604187,
           2.163646697998047,
           2.280345916748047,
           1.3037140369415283,
           6.746522426605225,
           2.463197708129883,
           5.190887451171875,
           1.6445045471191406,
           3.178708791732788,
           10.845022201538086,
           3.0011463165283203,
           3.260023355484009,
           6.232069969177246,
           1.9530963897705078,
           5.574817180633545,
           12.015569686889648,
           2.1008105278015137,
           2.1519010066986084,
           7.758929252624512,
           2.712942600250244,
           1.4625532627105713,
           3.002321720123291,
           3.7679591178894043,
           8.058732986450195,
           2.5599160194396973,
           3.286634922027588,
           3.9463322162628174,
           2.551621437072754,
           5.229525566101074,
           2.7006728649139404,
           4.463506698608398,
           1.981055498123169,
           2.2995901107788086,
           4.195960521697998,
           3.168302059173584,
           2.4259533882141113,
           2.317641496658325,
           1.6495935916900635,
           2.7324047088623047,
           3.417587995529175,
           2.873077869415283,
           4.743292808532715,
           1.8179482221603394,
           9.637219429016113,
           3.9708707332611084,
           3.5646276473999023,
           2.6073691844940186,
           4.194862365722656,
           5.25830078125,
           1.4195549488067627,
           2.395747661590576,
           3.1688411235809326,
           2.665182113647461,
           5.748525619506836,
           3.3181447982788086,
           3.217630624771118,
           4.845697402954102,
           4.48604679107666,
           4.200050354003906,
           4.783515930175781,
           4.3628716468811035,
           4.476266860961914,
           4.191478252410889,
           1.3493549823760986,
           3.640451431274414,
           3.090762138366699,
           5.502739906311035,
           1.8413883447647095,
           4.186521530151367,
           1.8507304191589355,
           2.7128262519836426,
           3.679513692855835,
           3.0356264114379883,
           4.687291622161865,
           5.075215816497803,
           2.457689046859741,
           2.463624954223633,
           2.873380661010742,
           2.55540132522583,
           1.8516969680786133,
           4.064118385314941,
           6.108698844909668,
           3.4881181716918945,
           7.490363597869873,
           3.007474899291992,
           2.37526798248291,
           3.0951449871063232,
           1.3601651191711426,
           5.565934181213379,
           4.540031433105469,
           5.631135940551758,
           1.406055212020874,
           1.8646456003189087,
           1.6161913871765137,
           2.1331489086151123,
           1.8372809886932373,
           1.6018683910369873,
           1.9668406248092651,
           3.98795747756958,
           2.698657751083374,
           3.463099718093872,
           1.6835191249847412,
           1.7654469013214111,
           1.3769469261169434,
           2.1410298347473145,
           1.382291316986084,
           2.245408535003662,
           2.8543806076049805,
           2.00704026222229,
           2.6072466373443604,
           2.0921385288238525,
           2.6395506858825684,
           1.702498435974121,
           2.0562102794647217,
           4.13962984085083,
           3.2773163318634033,
           2.076881170272827,
           2.2357566356658936,
           1.6520999670028687,
           1.7550063133239746,
           1.1863213777542114,
           1.5230005979537964,
           2.177032947540283,
           1.852301836013794,
           2.7436234951019287,
           2.349181890487671,
           2.605241537094116,
           2.1675291061401367,
           2.6808388233184814,
           1.900883436203003,
           1.7617073059082031,
           3.2664794921875,
           2.079862594604492,
           2.276158332824707,
           1.2729511260986328,
           2.1374053955078125,
           1.6231316328048706,
           2.1052796840667725,
           4.004675388336182,
           3.9484729766845703,
           1.6612704992294312,
           1.6466552019119263,
           1.6339324712753296,
           1.5829544067382812,
           1.4080432653427124,
           1.9932032823562622,
           1.8510817289352417,
           2.0124740600585938,
           2.381505250930786,
           1.1874992847442627,
           2.230038642883301,
           1.585217833518982,
           1.5347082614898682,
           1.6363837718963623,
           1.608621597290039,
           1.3083693981170654,
           1.2846870422363281,
           1.339192509651184,
           1.5670742988586426,
           6.324082374572754,
           7.879327297210693,
           2.2194252014160156,
           4.034290313720703,
           2.048654556274414,
           2.5911288261413574,
           2.081116199493408,
           3.1578445434570312,
           2.577709674835205,
           2.853485584259033,
           2.5698492527008057,
           5.008662223815918,
           2.9166715145111084,
           2.1685826778411865,
           2.164595127105713,
           2.248283863067627,
           1.7447185516357422,
           3.979320526123047,
           2.985757827758789,
           2.345137119293213,
           4.582559585571289,
           2.618785858154297,
           1.592836856842041,
           1.669305682182312,
           3.6112325191497803,
           2.7951884269714355,
           4.29364013671875,
           5.4765143394470215,
           1.630215048789978,
           2.7237327098846436,
           2.566000461578369,
           2.424107074737549,
           3.207157611846924,
           2.79160475730896,
           2.661994695663452,
           3.2067928314208984,
           7.354093074798584,
           1.5628619194030762,
           6.226010799407959,
           2.7508788108825684,
           4.543268203735352,
           2.1498677730560303,
           2.6870510578155518,
           3.0222585201263428,
           2.466195583343506,
           3.199709177017212,
           2.9454402923583984,
           2.5961780548095703,
           2.2380144596099854,
           1.8544251918792725,
           3.3358325958251953,
           2.1321654319763184,
           3.8021323680877686,
           3.5843327045440674,
           2.8707144260406494,
           4.1882643699646,
           5.241052150726318,
           3.04020357131958,
           1.7295022010803223,
           2.4085001945495605,
           1.7408779859542847,
           2.194495677947998,
           4.399595737457275,
           2.993133068084717,
           4.2872443199157715,
           5.006648540496826,
           2.9871647357940674,
           2.587631940841675,
           1.7797741889953613,
           2.6300339698791504,
           1.686025619506836,
           3.1972689628601074,
           2.3060193061828613,
           3.9733664989471436,
           1.8252102136611938,
           6.92498254776001,
           2.5223276615142822,
           1.8403359651565552,
           2.2297523021698,
           3.4204211235046387,
           2.621213674545288,
           2.1082987785339355,
           2.6160075664520264,
           1.9881889820098877,
           3.382476806640625,
           3.196110725402832,
           1.8167510032653809,
           2.2539188861846924,
           2.5947861671447754,
           2.522824764251709,
           2.0367279052734375,
           2.6183557510375977,
           1.8798216581344604,
           2.9210574626922607,
           2.231522798538208,
           3.0154166221618652,
           1.939871072769165,
           2.3246500492095947,
           2.284992218017578,
           3.0066747665405273,
           3.013489246368408,
           2.032348871231079,
           2.0551059246063232,
           3.103823184967041,
           3.415076732635498,
           1.9342265129089355,
           1.9166014194488525,
           1.3681135177612305,
           2.5352160930633545,
           1.9521081447601318,
           3.111802101135254,
           3.3702661991119385,
           1.8598175048828125,
           1.3087539672851562,
           1.867518424987793,
           6.470756530761719,
           1.8604965209960938,
           3.445770263671875,
           1.8307206630706787,
           2.476318120956421,
           1.5649781227111816,
           1.9588967561721802,
           2.737668991088867,
           1.7745699882507324,
           1.8874471187591553,
           1.5436556339263916,
           3.3120579719543457,
           3.0962271690368652,
           3.9452879428863525,
           4.718228816986084,
           2.4992153644561768,
           2.4848597049713135,
           2.594182252883911,
           2.0824949741363525,
           2.0387675762176514,
           1.6464312076568604,
           2.6992855072021484,
           2.132127046585083,
           2.1780388355255127,
           2.4274158477783203,
           2.020237445831299,
           2.617258310317993,
           1.9422029256820679,
           1.859022617340088,
           1.5731282234191895,
           1.8526962995529175,
           2.8675284385681152,
           1.981490135192871,
           2.018667459487915,
           1.9213004112243652,
           2.1712212562561035,
           2.6641571521759033,
           1.2665786743164062,
           1.4999054670333862,
           3.0421526432037354,
           2.1246163845062256,
           2.5304219722747803,
           2.3631091117858887,
           3.4632339477539062,
           2.1580982208251953,
           1.2600836753845215,
           2.7673020362854004,
           1.6688361167907715,
           1.8184752464294434
          ],
          "sizemode": "area",
          "sizeref": 0.032671575546264646,
          "symbol": "circle"
         },
         "mode": "markers",
         "name": "",
         "orientation": "v",
         "showlegend": false,
         "type": "scatter",
         "x": [
          67,
          70,
          79,
          74.38709677419355,
          67,
          62.9,
          64,
          83,
          68,
          56,
          78.16216216216216,
          83.5,
          31,
          32,
          86.75675675675676,
          32.08571428571429,
          25.72972972972973,
          65,
          74.27272727272727,
          24.83783783783784,
          39.36363636363637,
          59.5,
          51.705882352941174,
          23,
          33.078947368421055,
          71.95454545454545,
          20,
          26,
          86.32352941176471,
          25.78787878787879,
          23.852941176470587,
          74.05405405405405,
          80.72222222222223,
          42,
          70.03225806451613,
          36.294117647058826,
          87.27272727272727,
          79.18181818181819,
          55.02439024390244,
          29,
          30,
          61.973684210526315,
          25,
          78.26315789473684,
          51.05714285714286,
          20.5,
          73.29411764705883,
          79.76315789473684,
          62.205128205128204,
          24,
          36,
          61.72727272727273,
          77.05555555555556,
          36.14705882352941,
          24,
          63.63333333333333,
          57.03225806451613,
          29.27777777777778,
          28.82051282051282,
          20.727272727272727,
          39,
          49.72727272727273,
          33.97222222222222,
          59,
          29,
          71,
          19,
          28.27777777777778,
          33.75,
          28,
          23.970588235294116,
          33.0625,
          37,
          58.82608695652174,
          39.38709677419355,
          56.729729729729726,
          84.17948717948718,
          19.3,
          71.375,
          74.23809523809524,
          45.388888888888886,
          22,
          47.5,
          30.22222222222222,
          91.60606060606061,
          26.68421052631579,
          46,
          71.8,
          18.6875,
          18.833333333333332,
          31.27777777777778,
          25.625,
          59.5,
          42.67741935483871,
          48.94736842105263,
          66.13513513513513,
          84.87878787878788,
          75.91891891891892,
          23,
          48.233333333333334,
          28.70967741935484,
          22.026315789473685,
          30,
          56.13333333333333,
          36,
          15.757575757575758,
          48,
          38.85,
          92.4375,
          67.78787878787878,
          16.147058823529413,
          64,
          35,
          38,
          21.085714285714285,
          41.96666666666667,
          39.205128205128204,
          15.34375,
          32.325,
          57.83870967741935,
          43.76923076923077,
          28.096774193548388,
          86.23333333333333,
          30.939393939393938,
          51.25806451612903,
          63.354838709677416,
          90.25806451612904,
          84.5,
          54.666666666666664,
          22.65714285714286,
          36.53333333333333,
          51.976190476190474,
          44.87179487179487,
          45.388888888888886,
          37.72222222222222,
          26.952380952380953,
          66,
          18.4,
          32.69444444444444,
          48.46666666666667,
          32,
          59.45454545454545,
          48.535714285714285,
          44.5,
          35.375,
          38.6,
          43,
          44.55555555555556,
          86.78571428571429,
          32,
          78.3225806451613,
          40.78947368421053,
          25.558823529411764,
          79.45,
          59.333333333333336,
          25,
          27.16216216216216,
          32.03333333333333,
          57.83870967741935,
          24.25,
          64.46666666666667,
          50.65714285714286,
          33.94444444444444,
          43,
          33.61904761904762,
          41,
          51.193548387096776,
          54.6875,
          17,
          41.470588235294116,
          47.09090909090909,
          23.114285714285714,
          30.64516129032258,
          48.4,
          13.428571428571429,
          42,
          36.8,
          27.130434782608695,
          75.7,
          36.1875,
          37.16129032258065,
          48.59375,
          34,
          41,
          33.25806451612903,
          41.57142857142857,
          53.5,
          33.225806451612904,
          40.5,
          23.72,
          25.264705882352942,
          66.8529411764706,
          34.266666666666666,
          44.266666666666666,
          29.73076923076923,
          37,
          51.03703703703704,
          27.2,
          54.44444444444444,
          23.09090909090909,
          56.806451612903224,
          40.592592592592595,
          20.64,
          47.5,
          42.3,
          63.625,
          32,
          92,
          35.57142857142857,
          27.4375,
          44.857142857142854,
          68,
          95.63636363636364,
          18.772727272727273,
          55.5,
          43,
          39,
          42.4,
          45.22222222222222,
          98,
          81.33333333333333,
          36,
          39.75,
          83.42857142857143,
          67,
          66,
          35.027027027027025,
          70.96774193548387,
          38.90625,
          67.42857142857143,
          32,
          44,
          84,
          29.216216216216218,
          23.26086956521739,
          20.357142857142858,
          18.63157894736842,
          52.23529411764706,
          75,
          75.33333333333333,
          21.25,
          44.38461538461539,
          51.05,
          56,
          37,
          72.66666666666667,
          39,
          51.666666666666664,
          64,
          95,
          61.333333333333336,
          43.5,
          55.333333333333336,
          41.5,
          28,
          31.333333333333332,
          37,
          44.5,
          60,
          88,
          38,
          40,
          32,
          98,
          91,
          106,
          106,
          98.1,
          97,
          94.5,
          85.39393939393939,
          101.91176470588235,
          87.47058823529412,
          90,
          93.2051282051282,
          101.91891891891892,
          84.02380952380952,
          92.16666666666667,
          85.70588235294117,
          92.08823529411765,
          71,
          80.57142857142857,
          101.6969696969697,
          69.82857142857142,
          86.15625,
          84,
          89.76666666666667,
          95.29411764705883,
          81.76666666666667,
          101.3,
          70,
          103.3030303030303,
          30.5,
          100.28571428571429,
          103,
          106.6,
          36.55555555555556,
          97.5,
          64.91428571428571,
          19.4,
          90.29729729729729,
          74.54054054054055,
          75.8529411764706,
          19,
          98.58064516129032,
          24.4375,
          13.894736842105264,
          76.15151515151516,
          86.9,
          95.16666666666667,
          18.82051282051282,
          65.7948717948718,
          102.25714285714285,
          18.866666666666667,
          64.48387096774194,
          53.976190476190474,
          81.5,
          76.29032258064517,
          79.93939393939394,
          78.63636363636364,
          15.333333333333334,
          99.6,
          35.97222222222222,
          108.65384615384616,
          74.73529411764706,
          20.032258064516128,
          60.973684210526315,
          16.17142857142857,
          76.6875,
          62,
          106.08571428571429,
          73.61290322580645,
          29.075,
          60.857142857142854,
          75.16666666666667,
          26.09375,
          20.771428571428572,
          47.39393939393939,
          63.93939393939394,
          68.33333333333333,
          70.33333333333333,
          22.205882352941178,
          71.5925925925926,
          70.33333333333333,
          43.42424242424242,
          41.75,
          55.39393939393939,
          83.1470588235294,
          24.972972972972972,
          65.75,
          49.294117647058826,
          14.03125,
          56.892857142857146,
          61.51724137931034,
          39.21875,
          67.97058823529412,
          12,
          25.91176470588235,
          61.59375,
          83.06451612903226,
          60.6,
          87.91666666666667,
          31.5,
          93.11764705882354,
          105.23333333333333,
          43.18181818181818,
          19.22222222222222,
          17.741935483870968,
          44.06666666666667,
          32.523809523809526,
          79.3,
          75.5,
          74,
          93.70588235294117,
          112.12121212121212,
          85.97435897435898,
          82.8529411764706,
          103.09677419354838,
          93.69047619047619,
          92.97435897435898,
          102,
          99.71428571428571,
          91.71875,
          110.72972972972973,
          78.75757575757575,
          82.65625,
          81.44444444444444,
          91.68181818181819,
          100.93333333333334,
          26.86111111111111,
          19.515151515151516,
          23.625,
          74.3225806451613,
          13.166666666666666,
          15.222222222222221,
          13.5,
          15.2,
          15.130434782608695,
          35.333333333333336,
          34.43333333333333,
          52.26315789473684,
          17.066666666666666,
          33.58064516129032,
          15.9,
          106.83333333333333,
          16.25,
          43.666666666666664,
          75,
          30,
          15.333333333333334,
          13,
          4,
          15.818181818181818,
          15.5,
          19.5,
          104.77777777777777,
          61.5,
          12.923076923076923,
          5.5,
          54,
          12,
          69,
          32.666666666666664,
          81,
          42.333333333333336,
          21.5,
          70
         ],
         "xaxis": "x4",
         "y": [
          47,
          36,
          31,
          29.35483870967742,
          41,
          50.56666666666667,
          47,
          28,
          27,
          27,
          23.729729729729726,
          27.5,
          31,
          56,
          24.135135135135137,
          58.51428571428571,
          27.83783783783784,
          35,
          40.72727272727273,
          55.81081081081081,
          58.54545454545455,
          50.5,
          30.14705882352942,
          37,
          24.76315789473685,
          24.272727272727266,
          43,
          49,
          34.44117647058823,
          56.45454545454545,
          33.29411764705881,
          35.91891891891892,
          34.27777777777777,
          56,
          39.258064516129025,
          35.14705882352942,
          24.727272727272734,
          23.636363636363637,
          52.804878048780495,
          34,
          38.61290322580646,
          30.18421052631578,
          30,
          34.0263157894737,
          23.657142857142844,
          52.5,
          24.85294117647058,
          28.78947368421052,
          26.358974358974365,
          40,
          50,
          39.27272727272728,
          39.111111111111114,
          20.705882352941188,
          46,
          37.53333333333333,
          13.870967741935488,
          25.72222222222223,
          18.974358974358978,
          51.27272727272728,
          42,
          34.27272727272728,
          15.277777777777771,
          53.9,
          26,
          50.75,
          46,
          42.72222222222223,
          44.375,
          33,
          23.058823529411768,
          14.84375,
          52.5,
          45,
          28.064516129032256,
          34.16216216216216,
          18.97435897435895,
          28.53333333333333,
          47.65625,
          43.04761904761905,
          29.444444444444457,
          25,
          53.5,
          35.30555555555554,
          31.636363636363637,
          19.84210526315789,
          46,
          32.80000000000001,
          34.96875,
          32.22222222222223,
          54.27777777777777,
          48,
          33.5,
          36.87096774193549,
          56.23684210526316,
          21.756756756756744,
          18.393939393939394,
          40.16216216216219,
          47,
          39.23333333333332,
          46.51612903225808,
          37.263157894736835,
          31,
          38.33333333333334,
          31,
          45.78787878787878,
          28,
          56.875,
          23.9375,
          16.818181818181813,
          37.58823529411765,
          26,
          30,
          26,
          53.82857142857143,
          50.30000000000001,
          15.358974358974365,
          50.75,
          25.399999999999977,
          20.903225806451616,
          57.07692307692308,
          51.935483870967744,
          14.899999999999977,
          50.484848484848484,
          58.096774193548384,
          39.12903225806451,
          31.25806451612904,
          26.69999999999999,
          54.166666666666664,
          45.94285714285715,
          34.133333333333326,
          44.309523809523796,
          12.051282051282044,
          47.638888888888886,
          44.388888888888886,
          56.71428571428572,
          45.40625,
          41.73333333333332,
          37.666666666666664,
          49.16666666666667,
          47.5,
          44.24242424242425,
          44.60714285714286,
          23.5,
          10.5,
          18.94999999999999,
          33,
          22.75,
          33.35714285714283,
          18.72222222222223,
          28.032258064516128,
          12.63157894736841,
          27.14705882352939,
          24.100000000000023,
          26.791666666666657,
          34.25,
          27,
          38.69999999999999,
          50.03225806451613,
          31.78125,
          21.900000000000006,
          18.657142857142844,
          52.55555555555556,
          31.5,
          30.85714285714286,
          32.5,
          12.741935483870975,
          28.9375,
          27.5,
          19.441176470588232,
          36.39393939393938,
          42.2,
          22.774193548387103,
          10.949999999999989,
          32.35714285714286,
          14,
          21.80000000000001,
          21.82608695652175,
          22.30000000000001,
          42.9375,
          16.19354838709677,
          19.6875,
          10.800000000000011,
          13,
          52.064516129032256,
          39.17142857142858,
          38.5,
          19.25806451612904,
          9.5625,
          18.28,
          40.23529411764707,
          32.970588235294116,
          39.93333333333334,
          18.933333333333337,
          37.92307692307692,
          30,
          33.925925925925924,
          51.866666666666674,
          11.444444444444457,
          16.636363636363626,
          25.80645161290323,
          46.44444444444446,
          34.31999999999999,
          41,
          39.73333333333332,
          49,
          43.5,
          26,
          25.285714285714278,
          40.75,
          9.428571428571416,
          28,
          35.90909090909091,
          21.136363636363626,
          10,
          7,
          10,
          22.799999999999997,
          14.333333333333314,
          33,
          7.666666666666667,
          12,
          15.75,
          19.171428571428578,
          45,
          44,
          50.16216216216219,
          45.225806451612925,
          49.25,
          51.85714285714286,
          24,
          34,
          36.90625,
          52.621621621621614,
          23.52173913043478,
          37.214285714285715,
          33.05263157894737,
          51.470588235294116,
          20.83333333333333,
          30.666666666666686,
          49.125,
          6.461538461538453,
          40,
          7,
          35.71428571428571,
          42.66666666666666,
          18,
          14.666666666666657,
          19.5,
          32.5,
          45.33333333333334,
          13,
          26.666666666666657,
          14,
          48,
          44.33333333333333,
          29,
          15,
          6,
          30,
          27,
          36,
          55,
          32,
          29,
          33,
          34,
          34,
          31,
          29.5,
          29,
          28.676470588235304,
          31.264705882352928,
          31,
          33.641025641025635,
          38.67567567567568,
          35.690476190476204,
          27.23333333333335,
          31.852941176470587,
          29.058823529411764,
          56,
          35.17142857142857,
          28.181818181818183,
          53.74285714285713,
          37.375,
          26,
          27.26666666666665,
          35.14705882352942,
          29.366666666666667,
          39.875,
          49,
          39.06060606060606,
          51.125,
          39.17142857142858,
          30,
          37.19999999999999,
          61.30555555555556,
          37.5,
          55.97142857142859,
          43.10000000000002,
          26.567567567567565,
          50.27027027027026,
          53.029411764705856,
          52,
          29.741935483870975,
          60.96875,
          49.71052631578948,
          28.787878787878782,
          35.66666666666666,
          28.433333333333337,
          52,
          57.641025641025635,
          24.285714285714278,
          58.53333333333333,
          48,
          30.690476190476204,
          40.5,
          37.096774193548384,
          49.030303030303,
          45.27272727272725,
          55.94444444444446,
          26.599999999999994,
          31.861111111111114,
          28.19230769230768,
          28.882352941176464,
          59.419354838709666,
          58.89473684210526,
          43.57142857142857,
          45.375,
          33,
          37.17142857142858,
          44.419354838709694,
          29.025000000000006,
          59.62857142857143,
          53.099999999999994,
          60.15625,
          40.77142857142857,
          33.848484848484844,
          54.333333333333336,
          52.666666666666664,
          43.6,
          35.529411764705884,
          60.48148148148147,
          31.181818181818187,
          45.36363636363636,
          40.111111111111114,
          37.24242424242425,
          45.05882352941177,
          49.97297297297297,
          34.05555555555556,
          60.470588235294144,
          56.03125,
          58.46428571428572,
          34.689655172413794,
          18.4375,
          46.352941176470594,
          61,
          51.05882352941177,
          48.5,
          42.935483870967744,
          56.9,
          41.5,
          20.117647058823536,
          42.55882352941177,
          26.76666666666668,
          24.454545454545467,
          60.77777777777777,
          57.83870967741935,
          58.666666666666664,
          48.47619047619048,
          49.69999999999999,
          31,
          52,
          28.852941176470594,
          36.090909090909065,
          37.17948717948718,
          24.705882352941188,
          29.83870967741936,
          24.02380952380952,
          37.17948717948718,
          21,
          35.714285714285715,
          36.34375,
          35.16216216216219,
          24.818181818181813,
          41.1875,
          31.97222222222223,
          21.772727272727266,
          37,
          35.22222222222223,
          44.81818181818181,
          40.1875,
          46.48387096774192,
          61.666666666666686,
          38.16666666666667,
          49.666666666666686,
          38.8,
          48.739130434782595,
          52.16666666666667,
          37.23333333333332,
          49.473684210526315,
          40.19999999999999,
          42.419354838709666,
          61.30000000000001,
          22.22222222222223,
          30.75,
          6.333333333333329,
          41.375,
          14.5,
          34.22222222222223,
          42,
          45.5,
          51.09090909090909,
          61.166666666666664,
          41.5,
          18.888888888888914,
          50.5,
          55.84615384615385,
          55,
          57,
          34,
          56,
          48.33333333333333,
          45,
          12.666666666666657,
          59,
          37
         ],
         "yaxis": "y4"
        }
       ],
       "layout": {
        "annotations": [
         {
          "font": {
           "size": 16
          },
          "showarrow": false,
          "text": "moving stripes",
          "x": 0.5,
          "xanchor": "center",
          "xref": "paper",
          "y": 1,
          "yanchor": "bottom",
          "yref": "paper"
         },
         {
          "font": {
           "size": 16
          },
          "showarrow": false,
          "text": "dots_ON",
          "x": 0.5,
          "xanchor": "center",
          "xref": "paper",
          "y": 0.71875,
          "yanchor": "bottom",
          "yref": "paper"
         },
         {
          "font": {
           "size": 16
          },
          "showarrow": false,
          "text": "dots_OFF",
          "x": 0.5,
          "xanchor": "center",
          "xref": "paper",
          "y": 0.4375,
          "yanchor": "bottom",
          "yref": "paper"
         },
         {
          "font": {
           "size": 16
          },
          "showarrow": false,
          "text": "loom",
          "x": 0.5,
          "xanchor": "center",
          "xref": "paper",
          "y": 0.15625,
          "yanchor": "bottom",
          "yref": "paper"
         }
        ],
        "coloraxis": {
         "colorbar": {
          "len": 0.17,
          "thickness": 15,
          "y": -0.01,
          "yanchor": "bottom"
         },
         "colorscale": [
          [
           0,
           "#0d0887"
          ],
          [
           0.1111111111111111,
           "#46039f"
          ],
          [
           0.2222222222222222,
           "#7201a8"
          ],
          [
           0.3333333333333333,
           "#9c179e"
          ],
          [
           0.4444444444444444,
           "#bd3786"
          ],
          [
           0.5555555555555556,
           "#d8576b"
          ],
          [
           0.6666666666666666,
           "#ed7953"
          ],
          [
           0.7777777777777778,
           "#fb9f3a"
          ],
          [
           0.8888888888888888,
           "#fdca26"
          ],
          [
           1,
           "#f0f921"
          ]
         ]
        },
        "height": 1200,
        "margin": {
         "b": 20,
         "l": 20,
         "r": 20,
         "t": 20
        },
        "showlegend": false,
        "template": {
         "data": {
          "bar": [
           {
            "error_x": {
             "color": "#2a3f5f"
            },
            "error_y": {
             "color": "#2a3f5f"
            },
            "marker": {
             "line": {
              "color": "#E5ECF6",
              "width": 0.5
             },
             "pattern": {
              "fillmode": "overlay",
              "size": 10,
              "solidity": 0.2
             }
            },
            "type": "bar"
           }
          ],
          "barpolar": [
           {
            "marker": {
             "line": {
              "color": "#E5ECF6",
              "width": 0.5
             },
             "pattern": {
              "fillmode": "overlay",
              "size": 10,
              "solidity": 0.2
             }
            },
            "type": "barpolar"
           }
          ],
          "carpet": [
           {
            "aaxis": {
             "endlinecolor": "#2a3f5f",
             "gridcolor": "white",
             "linecolor": "white",
             "minorgridcolor": "white",
             "startlinecolor": "#2a3f5f"
            },
            "baxis": {
             "endlinecolor": "#2a3f5f",
             "gridcolor": "white",
             "linecolor": "white",
             "minorgridcolor": "white",
             "startlinecolor": "#2a3f5f"
            },
            "type": "carpet"
           }
          ],
          "choropleth": [
           {
            "colorbar": {
             "outlinewidth": 0,
             "ticks": ""
            },
            "type": "choropleth"
           }
          ],
          "contour": [
           {
            "colorbar": {
             "outlinewidth": 0,
             "ticks": ""
            },
            "colorscale": [
             [
              0,
              "#0d0887"
             ],
             [
              0.1111111111111111,
              "#46039f"
             ],
             [
              0.2222222222222222,
              "#7201a8"
             ],
             [
              0.3333333333333333,
              "#9c179e"
             ],
             [
              0.4444444444444444,
              "#bd3786"
             ],
             [
              0.5555555555555556,
              "#d8576b"
             ],
             [
              0.6666666666666666,
              "#ed7953"
             ],
             [
              0.7777777777777778,
              "#fb9f3a"
             ],
             [
              0.8888888888888888,
              "#fdca26"
             ],
             [
              1,
              "#f0f921"
             ]
            ],
            "type": "contour"
           }
          ],
          "contourcarpet": [
           {
            "colorbar": {
             "outlinewidth": 0,
             "ticks": ""
            },
            "type": "contourcarpet"
           }
          ],
          "heatmap": [
           {
            "colorbar": {
             "outlinewidth": 0,
             "ticks": ""
            },
            "colorscale": [
             [
              0,
              "#0d0887"
             ],
             [
              0.1111111111111111,
              "#46039f"
             ],
             [
              0.2222222222222222,
              "#7201a8"
             ],
             [
              0.3333333333333333,
              "#9c179e"
             ],
             [
              0.4444444444444444,
              "#bd3786"
             ],
             [
              0.5555555555555556,
              "#d8576b"
             ],
             [
              0.6666666666666666,
              "#ed7953"
             ],
             [
              0.7777777777777778,
              "#fb9f3a"
             ],
             [
              0.8888888888888888,
              "#fdca26"
             ],
             [
              1,
              "#f0f921"
             ]
            ],
            "type": "heatmap"
           }
          ],
          "heatmapgl": [
           {
            "colorbar": {
             "outlinewidth": 0,
             "ticks": ""
            },
            "colorscale": [
             [
              0,
              "#0d0887"
             ],
             [
              0.1111111111111111,
              "#46039f"
             ],
             [
              0.2222222222222222,
              "#7201a8"
             ],
             [
              0.3333333333333333,
              "#9c179e"
             ],
             [
              0.4444444444444444,
              "#bd3786"
             ],
             [
              0.5555555555555556,
              "#d8576b"
             ],
             [
              0.6666666666666666,
              "#ed7953"
             ],
             [
              0.7777777777777778,
              "#fb9f3a"
             ],
             [
              0.8888888888888888,
              "#fdca26"
             ],
             [
              1,
              "#f0f921"
             ]
            ],
            "type": "heatmapgl"
           }
          ],
          "histogram": [
           {
            "marker": {
             "pattern": {
              "fillmode": "overlay",
              "size": 10,
              "solidity": 0.2
             }
            },
            "type": "histogram"
           }
          ],
          "histogram2d": [
           {
            "colorbar": {
             "outlinewidth": 0,
             "ticks": ""
            },
            "colorscale": [
             [
              0,
              "#0d0887"
             ],
             [
              0.1111111111111111,
              "#46039f"
             ],
             [
              0.2222222222222222,
              "#7201a8"
             ],
             [
              0.3333333333333333,
              "#9c179e"
             ],
             [
              0.4444444444444444,
              "#bd3786"
             ],
             [
              0.5555555555555556,
              "#d8576b"
             ],
             [
              0.6666666666666666,
              "#ed7953"
             ],
             [
              0.7777777777777778,
              "#fb9f3a"
             ],
             [
              0.8888888888888888,
              "#fdca26"
             ],
             [
              1,
              "#f0f921"
             ]
            ],
            "type": "histogram2d"
           }
          ],
          "histogram2dcontour": [
           {
            "colorbar": {
             "outlinewidth": 0,
             "ticks": ""
            },
            "colorscale": [
             [
              0,
              "#0d0887"
             ],
             [
              0.1111111111111111,
              "#46039f"
             ],
             [
              0.2222222222222222,
              "#7201a8"
             ],
             [
              0.3333333333333333,
              "#9c179e"
             ],
             [
              0.4444444444444444,
              "#bd3786"
             ],
             [
              0.5555555555555556,
              "#d8576b"
             ],
             [
              0.6666666666666666,
              "#ed7953"
             ],
             [
              0.7777777777777778,
              "#fb9f3a"
             ],
             [
              0.8888888888888888,
              "#fdca26"
             ],
             [
              1,
              "#f0f921"
             ]
            ],
            "type": "histogram2dcontour"
           }
          ],
          "mesh3d": [
           {
            "colorbar": {
             "outlinewidth": 0,
             "ticks": ""
            },
            "type": "mesh3d"
           }
          ],
          "parcoords": [
           {
            "line": {
             "colorbar": {
              "outlinewidth": 0,
              "ticks": ""
             }
            },
            "type": "parcoords"
           }
          ],
          "pie": [
           {
            "automargin": true,
            "type": "pie"
           }
          ],
          "scatter": [
           {
            "fillpattern": {
             "fillmode": "overlay",
             "size": 10,
             "solidity": 0.2
            },
            "type": "scatter"
           }
          ],
          "scatter3d": [
           {
            "line": {
             "colorbar": {
              "outlinewidth": 0,
              "ticks": ""
             }
            },
            "marker": {
             "colorbar": {
              "outlinewidth": 0,
              "ticks": ""
             }
            },
            "type": "scatter3d"
           }
          ],
          "scattercarpet": [
           {
            "marker": {
             "colorbar": {
              "outlinewidth": 0,
              "ticks": ""
             }
            },
            "type": "scattercarpet"
           }
          ],
          "scattergeo": [
           {
            "marker": {
             "colorbar": {
              "outlinewidth": 0,
              "ticks": ""
             }
            },
            "type": "scattergeo"
           }
          ],
          "scattergl": [
           {
            "marker": {
             "colorbar": {
              "outlinewidth": 0,
              "ticks": ""
             }
            },
            "type": "scattergl"
           }
          ],
          "scattermapbox": [
           {
            "marker": {
             "colorbar": {
              "outlinewidth": 0,
              "ticks": ""
             }
            },
            "type": "scattermapbox"
           }
          ],
          "scatterpolar": [
           {
            "marker": {
             "colorbar": {
              "outlinewidth": 0,
              "ticks": ""
             }
            },
            "type": "scatterpolar"
           }
          ],
          "scatterpolargl": [
           {
            "marker": {
             "colorbar": {
              "outlinewidth": 0,
              "ticks": ""
             }
            },
            "type": "scatterpolargl"
           }
          ],
          "scatterternary": [
           {
            "marker": {
             "colorbar": {
              "outlinewidth": 0,
              "ticks": ""
             }
            },
            "type": "scatterternary"
           }
          ],
          "surface": [
           {
            "colorbar": {
             "outlinewidth": 0,
             "ticks": ""
            },
            "colorscale": [
             [
              0,
              "#0d0887"
             ],
             [
              0.1111111111111111,
              "#46039f"
             ],
             [
              0.2222222222222222,
              "#7201a8"
             ],
             [
              0.3333333333333333,
              "#9c179e"
             ],
             [
              0.4444444444444444,
              "#bd3786"
             ],
             [
              0.5555555555555556,
              "#d8576b"
             ],
             [
              0.6666666666666666,
              "#ed7953"
             ],
             [
              0.7777777777777778,
              "#fb9f3a"
             ],
             [
              0.8888888888888888,
              "#fdca26"
             ],
             [
              1,
              "#f0f921"
             ]
            ],
            "type": "surface"
           }
          ],
          "table": [
           {
            "cells": {
             "fill": {
              "color": "#EBF0F8"
             },
             "line": {
              "color": "white"
             }
            },
            "header": {
             "fill": {
              "color": "#C8D4E3"
             },
             "line": {
              "color": "white"
             }
            },
            "type": "table"
           }
          ]
         },
         "layout": {
          "annotationdefaults": {
           "arrowcolor": "#2a3f5f",
           "arrowhead": 0,
           "arrowwidth": 1
          },
          "autotypenumbers": "strict",
          "coloraxis": {
           "colorbar": {
            "outlinewidth": 0,
            "ticks": ""
           }
          },
          "colorscale": {
           "diverging": [
            [
             0,
             "#8e0152"
            ],
            [
             0.1,
             "#c51b7d"
            ],
            [
             0.2,
             "#de77ae"
            ],
            [
             0.3,
             "#f1b6da"
            ],
            [
             0.4,
             "#fde0ef"
            ],
            [
             0.5,
             "#f7f7f7"
            ],
            [
             0.6,
             "#e6f5d0"
            ],
            [
             0.7,
             "#b8e186"
            ],
            [
             0.8,
             "#7fbc41"
            ],
            [
             0.9,
             "#4d9221"
            ],
            [
             1,
             "#276419"
            ]
           ],
           "sequential": [
            [
             0,
             "#0d0887"
            ],
            [
             0.1111111111111111,
             "#46039f"
            ],
            [
             0.2222222222222222,
             "#7201a8"
            ],
            [
             0.3333333333333333,
             "#9c179e"
            ],
            [
             0.4444444444444444,
             "#bd3786"
            ],
            [
             0.5555555555555556,
             "#d8576b"
            ],
            [
             0.6666666666666666,
             "#ed7953"
            ],
            [
             0.7777777777777778,
             "#fb9f3a"
            ],
            [
             0.8888888888888888,
             "#fdca26"
            ],
            [
             1,
             "#f0f921"
            ]
           ],
           "sequentialminus": [
            [
             0,
             "#0d0887"
            ],
            [
             0.1111111111111111,
             "#46039f"
            ],
            [
             0.2222222222222222,
             "#7201a8"
            ],
            [
             0.3333333333333333,
             "#9c179e"
            ],
            [
             0.4444444444444444,
             "#bd3786"
            ],
            [
             0.5555555555555556,
             "#d8576b"
            ],
            [
             0.6666666666666666,
             "#ed7953"
            ],
            [
             0.7777777777777778,
             "#fb9f3a"
            ],
            [
             0.8888888888888888,
             "#fdca26"
            ],
            [
             1,
             "#f0f921"
            ]
           ]
          },
          "colorway": [
           "#636efa",
           "#EF553B",
           "#00cc96",
           "#ab63fa",
           "#FFA15A",
           "#19d3f3",
           "#FF6692",
           "#B6E880",
           "#FF97FF",
           "#FECB52"
          ],
          "font": {
           "color": "#2a3f5f"
          },
          "geo": {
           "bgcolor": "white",
           "lakecolor": "white",
           "landcolor": "#E5ECF6",
           "showlakes": true,
           "showland": true,
           "subunitcolor": "white"
          },
          "hoverlabel": {
           "align": "left"
          },
          "hovermode": "closest",
          "mapbox": {
           "style": "light"
          },
          "paper_bgcolor": "white",
          "plot_bgcolor": "#E5ECF6",
          "polar": {
           "angularaxis": {
            "gridcolor": "white",
            "linecolor": "white",
            "ticks": ""
           },
           "bgcolor": "#E5ECF6",
           "radialaxis": {
            "gridcolor": "white",
            "linecolor": "white",
            "ticks": ""
           }
          },
          "scene": {
           "xaxis": {
            "backgroundcolor": "#E5ECF6",
            "gridcolor": "white",
            "gridwidth": 2,
            "linecolor": "white",
            "showbackground": true,
            "ticks": "",
            "zerolinecolor": "white"
           },
           "yaxis": {
            "backgroundcolor": "#E5ECF6",
            "gridcolor": "white",
            "gridwidth": 2,
            "linecolor": "white",
            "showbackground": true,
            "ticks": "",
            "zerolinecolor": "white"
           },
           "zaxis": {
            "backgroundcolor": "#E5ECF6",
            "gridcolor": "white",
            "gridwidth": 2,
            "linecolor": "white",
            "showbackground": true,
            "ticks": "",
            "zerolinecolor": "white"
           }
          },
          "shapedefaults": {
           "line": {
            "color": "#2a3f5f"
           }
          },
          "ternary": {
           "aaxis": {
            "gridcolor": "white",
            "linecolor": "white",
            "ticks": ""
           },
           "baxis": {
            "gridcolor": "white",
            "linecolor": "white",
            "ticks": ""
           },
           "bgcolor": "#E5ECF6",
           "caxis": {
            "gridcolor": "white",
            "linecolor": "white",
            "ticks": ""
           }
          },
          "title": {
           "x": 0.05
          },
          "xaxis": {
           "automargin": true,
           "gridcolor": "white",
           "linecolor": "white",
           "ticks": "",
           "title": {
            "standoff": 15
           },
           "zerolinecolor": "white",
           "zerolinewidth": 2
          },
          "yaxis": {
           "automargin": true,
           "gridcolor": "white",
           "linecolor": "white",
           "ticks": "",
           "title": {
            "standoff": 15
           },
           "zerolinecolor": "white",
           "zerolinewidth": 2
          }
         }
        },
        "width": 600,
        "xaxis": {
         "anchor": "y",
         "domain": [
          0,
          1
         ],
         "matches": "x4",
         "range": [
          0,
          128
         ],
         "showticklabels": false
        },
        "xaxis2": {
         "anchor": "y2",
         "domain": [
          0,
          1
         ],
         "matches": "x4",
         "range": [
          0,
          128
         ],
         "showticklabels": false
        },
        "xaxis3": {
         "anchor": "y3",
         "domain": [
          0,
          1
         ],
         "matches": "x4",
         "range": [
          0,
          128
         ],
         "showticklabels": false
        },
        "xaxis4": {
         "anchor": "y4",
         "domain": [
          0,
          1
         ],
         "range": [
          0,
          128
         ]
        },
        "yaxis": {
         "anchor": "x",
         "domain": [
          0.84375,
          1
         ],
         "range": [
          0,
          64
         ]
        },
        "yaxis2": {
         "anchor": "x2",
         "domain": [
          0.5625,
          0.71875
         ],
         "range": [
          0,
          64
         ]
        },
        "yaxis3": {
         "anchor": "x3",
         "domain": [
          0.28125,
          0.4375
         ],
         "range": [
          0,
          64
         ]
        },
        "yaxis4": {
         "anchor": "x4",
         "domain": [
          0,
          0.15625
         ],
         "range": [
          0,
          64
         ]
        }
       }
      }
     },
     "metadata": {},
     "output_type": "display_data"
    }
   ],
   "source": [
    "import plotly.express as px\n",
    "import plotly.subplots as sp\n",
    "\n",
    "# Get unique stimtypes\n",
    "unique_stimtypes = pooled_data['stimtype'].unique()\n",
    "\n",
    "# Create a subplot with a number of rows equal to the number of unique stimtypes\n",
    "num_stimtypes = len(unique_stimtypes)\n",
    "fig = sp.make_subplots(rows=num_stimtypes, cols=1, shared_xaxes=True, subplot_titles=unique_stimtypes)\n",
    "\n",
    "# Loop through each stimtype and generate a scatter plot for each\n",
    "for i, stimtype in enumerate(unique_stimtypes):\n",
    "    # Filter the DataFrame for the current stimtype\n",
    "    filtered_data = pooled_data[pooled_data['stimtype'] == stimtype]\n",
    "    \n",
    "    # Create the scatter plot for this stimtype\n",
    "    scatter = px.scatter(\n",
    "        x=filtered_data['x_centroid'],\n",
    "        y=filtered_data['y_centroid'] % y_res,\n",
    "        color=filtered_data['plane_depth'],\n",
    "        size=abs(filtered_data['amplitude']),\n",
    "        opacity=filtered_data['size'] / filtered_data['size'].max()\n",
    "    )\n",
    "\n",
    "    # Add the scatter plot to the subplot\n",
    "    for trace in scatter['data']:\n",
    "        fig.add_trace(trace, row=i + 1, col=1)\n",
    "\n",
    "# Update layout\n",
    "fig.update_layout(coloraxis=dict(colorscale='Plasma', colorbar=dict(thickness=15, len=0.17, yanchor='bottom', y=-0.01)), \n",
    "                  height=300 * num_stimtypes, width=600, showlegend=False, \n",
    "                  margin=dict(l=20, r=20, t=20, b=20))\n",
    "\n",
    "# Set axis ranges\n",
    "fig.update_xaxes(range=[0, 128])\n",
    "fig.update_yaxes(range=[0, 64])\n",
    "\n",
    "# Show the figure\n",
    "fig.show()"
   ]
  },
  {
   "cell_type": "code",
   "execution_count": 33,
   "metadata": {},
   "outputs": [
    {
     "data": {
      "application/vnd.plotly.v1+json": {
       "config": {
        "plotlyServerURL": "https://plot.ly"
       },
       "data": [
        {
         "hovertemplate": "x=%{x}<br>y=%{y}<br>size=%{marker.size}<br>color=%{marker.color}<extra></extra>",
         "legendgroup": "",
         "marker": {
          "color": [
           282.5,
           215,
           282.5,
           282.5,
           215,
           282.5,
           215,
           215,
           147.49999999999997,
           80,
           215,
           282.5,
           80,
           215,
           282.5,
           282.5,
           80,
           147.49999999999997,
           282.5,
           215,
           282.5,
           215,
           80,
           147.49999999999997,
           80,
           215,
           147.49999999999997,
           147.49999999999997,
           282.5,
           282.5,
           80,
           282.5,
           215,
           215,
           147.49999999999997,
           80,
           215,
           282.5,
           215,
           80,
           80,
           147.49999999999997,
           147.49999999999997,
           350,
           80,
           215,
           147.49999999999997,
           350,
           80,
           80,
           147.49999999999997,
           147.49999999999997,
           215,
           80,
           147.49999999999997,
           215,
           80,
           147.49999999999997,
           80,
           147.49999999999997,
           80,
           80,
           147.49999999999997,
           282.5,
           80,
           282.5,
           215,
           147.49999999999997,
           80,
           80,
           80,
           80,
           215,
           215,
           80,
           147.49999999999997,
           350,
           80,
           215,
           215,
           80,
           147.49999999999997,
           215,
           147.49999999999997,
           282.5,
           147.49999999999997,
           147.49999999999997,
           147.49999999999997,
           80,
           147.49999999999997,
           147.49999999999997,
           215,
           80,
           80,
           282.5,
           147.49999999999997,
           282.5,
           350,
           147.49999999999997,
           80,
           80,
           215,
           12.5,
           80,
           80,
           147.49999999999997,
           12.5,
           147.49999999999997,
           215,
           147.49999999999997,
           147.49999999999997,
           147.49999999999997,
           80,
           12.5,
           282.5,
           147.49999999999997,
           80,
           215,
           12.5,
           80,
           282.5,
           282.5,
           350,
           215,
           215,
           80,
           215,
           350,
           282.5,
           80,
           12.5,
           147.49999999999997,
           80,
           80,
           147.49999999999997,
           147.49999999999997,
           147.49999999999997,
           80,
           282.5,
           215,
           147.49999999999997,
           147.49999999999997,
           80,
           12.5,
           80,
           147.49999999999997,
           80,
           80,
           350,
           12.5,
           147.49999999999997,
           147.49999999999997,
           12.5,
           350,
           147.49999999999997,
           12.5,
           215,
           12.5,
           147.49999999999997,
           215,
           80,
           80,
           282.5,
           12.5,
           147.49999999999997,
           80,
           80,
           12.5,
           147.49999999999997,
           12.5,
           12.5,
           215,
           215,
           147.49999999999997,
           147.49999999999997,
           80,
           12.5,
           12.5,
           147.49999999999997,
           12.5,
           12.5,
           12.5,
           147.49999999999997,
           80,
           80,
           12.5,
           147.49999999999997,
           215,
           80,
           80,
           12.5,
           80,
           147.49999999999997,
           80,
           215,
           12.5,
           147.49999999999997,
           80,
           147.49999999999997,
           147.49999999999997,
           12.5,
           350,
           12.5,
           147.49999999999997,
           147.49999999999997,
           147.49999999999997,
           282.5,
           282.5,
           147.49999999999997,
           282.5,
           147.49999999999997,
           215,
           282.5,
           147.49999999999997,
           80,
           147.49999999999997,
           147.49999999999997,
           215,
           12.5,
           282.5,
           282.5,
           147.49999999999997,
           215,
           215,
           215,
           215,
           350,
           350,
           80,
           215,
           147.49999999999997,
           80,
           350,
           350,
           215,
           282.5,
           215,
           147.49999999999997,
           215,
           350,
           80,
           80,
           12.5,
           80,
           215,
           147.49999999999997,
           215,
           147.49999999999997,
           147.49999999999997,
           215,
           80,
           215,
           147.49999999999997,
           215,
           12.5,
           215,
           147.49999999999997,
           147.49999999999997,
           147.49999999999997,
           350,
           147.49999999999997,
           147.49999999999997,
           80,
           111.42857142857144,
           64.28571428571428,
           205.71428571428572,
           158.57142857142858,
           205.71428571428572,
           158.57142857142858,
           205.71428571428572,
           64.28571428571428,
           205.71428571428572,
           252.85714285714286,
           300,
           252.85714285714286,
           158.57142857142858,
           205.71428571428572,
           252.85714285714286,
           158.57142857142858,
           158.57142857142858,
           252.85714285714286,
           158.57142857142858,
           158.57142857142858,
           205.71428571428572,
           252.85714285714286,
           111.42857142857144,
           205.71428571428572,
           300,
           158.57142857142858,
           252.85714285714286,
           158.57142857142858,
           205.71428571428572,
           300,
           300,
           252.85714285714286,
           252.85714285714286,
           158.57142857142858,
           252.85714285714286,
           205.71428571428572,
           252.85714285714286,
           111.42857142857144,
           205.71428571428572,
           252.85714285714286,
           111.42857142857144,
           252.85714285714286,
           158.57142857142858,
           111.42857142857144,
           64.28571428571428,
           300,
           300,
           64.28571428571428,
           252.85714285714286,
           252.85714285714286,
           111.42857142857144,
           158.57142857142858,
           64.28571428571428,
           205.71428571428572,
           158.57142857142858,
           252.85714285714286,
           205.71428571428572,
           300,
           300,
           64.28571428571428,
           252.85714285714286,
           111.42857142857144,
           64.28571428571428,
           205.71428571428572,
           111.42857142857144,
           158.57142857142858,
           64.28571428571428,
           300,
           205.71428571428572,
           64.28571428571428,
           252.85714285714286,
           300,
           111.42857142857144,
           111.42857142857144,
           64.28571428571428,
           158.57142857142858,
           158.57142857142858,
           158.57142857142858,
           111.42857142857144,
           205.71428571428572,
           111.42857142857144,
           111.42857142857144,
           64.28571428571428,
           64.28571428571428,
           300,
           111.42857142857144,
           111.42857142857144,
           205.71428571428572,
           64.28571428571428,
           205.71428571428572,
           111.42857142857144,
           64.28571428571428,
           111.42857142857144,
           205.71428571428572,
           64.28571428571428,
           111.42857142857144,
           252.85714285714286,
           158.57142857142858,
           300,
           64.28571428571428,
           252.85714285714286,
           300,
           64.28571428571428,
           205.71428571428572,
           158.57142857142858,
           158.57142857142858,
           64.28571428571428,
           300,
           158.57142857142858,
           158.57142857142858,
           111.42857142857144,
           205.71428571428572,
           64.28571428571428,
           64.28571428571428,
           111.42857142857144,
           64.28571428571428,
           111.42857142857144,
           64.28571428571428,
           158.57142857142858,
           64.28571428571428,
           252.85714285714286,
           111.42857142857144,
           64.28571428571428,
           111.42857142857144,
           111.42857142857144,
           111.42857142857144,
           64.28571428571428,
           64.28571428571428,
           64.28571428571428,
           64.28571428571428,
           252.85714285714286,
           111.42857142857144,
           205.71428571428572,
           158.57142857142858,
           64.28571428571428,
           111.42857142857144,
           64.28571428571428,
           111.42857142857144,
           64.28571428571428,
           64.28571428571428,
           64.28571428571428,
           300,
           158.57142857142858,
           111.42857142857144,
           158.57142857142858,
           158.57142857142858,
           205.71428571428572,
           111.42857142857144,
           205.71428571428572,
           158.57142857142858,
           158.57142857142858,
           158.57142857142858,
           252.85714285714286,
           158.57142857142858,
           158.57142857142858,
           158.57142857142858,
           158.57142857142858,
           205.71428571428572,
           158.57142857142858,
           111.42857142857144,
           158.57142857142858,
           64.28571428571428,
           205.71428571428572,
           158.57142857142858
          ],
          "coloraxis": "coloraxis",
          "opacity": [
           0.9761904761904762,
           0.9761904761904762,
           0.9761904761904762,
           0.7380952380952381,
           0.9285714285714286,
           0.7142857142857143,
           0.9761904761904762,
           0.9761904761904762,
           0.9761904761904762,
           0.9761904761904762,
           0.8809523809523809,
           0.7619047619047619,
           0.9761904761904762,
           0.9761904761904762,
           0.8809523809523809,
           0.8333333333333334,
           0.8809523809523809,
           0.9761904761904762,
           0.7857142857142857,
           0.8809523809523809,
           0.7857142857142857,
           0.7619047619047619,
           0.8095238095238095,
           0.9761904761904762,
           0.9047619047619048,
           0.5238095238095238,
           0.9761904761904762,
           0.9761904761904762,
           0.8095238095238095,
           0.7857142857142857,
           0.8095238095238095,
           0.8809523809523809,
           0.8571428571428571,
           0.9761904761904762,
           0.7380952380952381,
           0.8095238095238095,
           0.7857142857142857,
           0.7857142857142857,
           0.9761904761904762,
           0.023809523809523808,
           0.7380952380952381,
           0.9047619047619048,
           0.9761904761904762,
           0.9047619047619048,
           0.8333333333333334,
           0.7619047619047619,
           0.8095238095238095,
           0.9047619047619048,
           0.9285714285714286,
           0.9285714285714286,
           0.9761904761904762,
           0.7857142857142857,
           0.8571428571428571,
           0.8095238095238095,
           0.023809523809523808,
           0.7142857142857143,
           0.7380952380952381,
           0.8571428571428571,
           0.9285714285714286,
           0.7857142857142857,
           0.9761904761904762,
           0.7857142857142857,
           0.8571428571428571,
           0.9523809523809523,
           0.023809523809523808,
           0.2857142857142857,
           0.9761904761904762,
           0.8571428571428571,
           0.7619047619047619,
           0.023809523809523808,
           0.8095238095238095,
           0.7619047619047619,
           0.7619047619047619,
           0.5476190476190477,
           0.7380952380952381,
           0.8809523809523809,
           0.9285714285714286,
           0.7142857142857143,
           0.7619047619047619,
           0.5,
           0.8571428571428571,
           0.9285714285714286,
           0.7619047619047619,
           0.8571428571428571,
           0.7857142857142857,
           0.9047619047619048,
           0.9761904761904762,
           0.7142857142857143,
           0.7619047619047619,
           0.8571428571428571,
           0.8571428571428571,
           0.7619047619047619,
           0.7619047619047619,
           0.7380952380952381,
           0.9047619047619048,
           0.8809523809523809,
           0.7857142857142857,
           0.8809523809523809,
           0.023809523809523808,
           0.7142857142857143,
           0.7380952380952381,
           0.9047619047619048,
           0.9761904761904762,
           0.7142857142857143,
           0.023809523809523808,
           0.7857142857142857,
           0.9761904761904762,
           0.9523809523809523,
           0.7619047619047619,
           0.7857142857142857,
           0.8095238095238095,
           0.023809523809523808,
           0.023809523809523808,
           0.9761904761904762,
           0.8333333333333334,
           0.7142857142857143,
           0.9285714285714286,
           0.7619047619047619,
           0.9523809523809523,
           0.7380952380952381,
           0.6190476190476191,
           0.7380952380952381,
           0.7142857142857143,
           0.7857142857142857,
           0.7380952380952381,
           0.7380952380952381,
           0.7380952380952381,
           0.7142857142857143,
           0.7142857142857143,
           0.8333333333333334,
           0.7142857142857143,
           1,
           0.9285714285714286,
           0.8571428571428571,
           0.8571428571428571,
           0.5,
           0.7619047619047619,
           0.7142857142857143,
           0.8571428571428571,
           0.7142857142857143,
           0.2857142857142857,
           0.7857142857142857,
           0.6666666666666666,
           0.7619047619047619,
           0.38095238095238093,
           0.47619047619047616,
           0.023809523809523808,
           0.8571428571428571,
           0.3333333333333333,
           0.8571428571428571,
           0.7380952380952381,
           0.4523809523809524,
           0.8095238095238095,
           0.47619047619047616,
           0.5714285714285714,
           0.8571428571428571,
           0.8809523809523809,
           0.7142857142857143,
           0.7380952380952381,
           0.7619047619047619,
           0.7142857142857143,
           0.8333333333333334,
           0.8571428571428571,
           0.7619047619047619,
           0.5,
           0.09523809523809523,
           0.7380952380952381,
           0.7619047619047619,
           0.19047619047619047,
           0.8095238095238095,
           0.7857142857142857,
           0.8333333333333334,
           0.7380952380952381,
           0.47619047619047616,
           0.3333333333333333,
           0.023809523809523808,
           0.11904761904761904,
           0.5476190476190477,
           0.23809523809523808,
           0.7619047619047619,
           0.7380952380952381,
           0.7619047619047619,
           0.11904761904761904,
           0.023809523809523808,
           0.7380952380952381,
           0.8333333333333334,
           0.7619047619047619,
           0.7380952380952381,
           0.38095238095238093,
           0.5952380952380952,
           0.8095238095238095,
           0.8095238095238095,
           0.7142857142857143,
           0.35714285714285715,
           0.6190476190476191,
           0.023809523809523808,
           0.6428571428571429,
           0.35714285714285715,
           0.21428571428571427,
           0.2619047619047619,
           0.7380952380952381,
           0.6428571428571429,
           0.5952380952380952,
           0.19047619047619047,
           0.7142857142857143,
           0.19047619047619047,
           0.047619047619047616,
           0.023809523809523808,
           0.16666666666666666,
           0.38095238095238093,
           0.16666666666666666,
           0.023809523809523808,
           0.2619047619047619,
           0.5238095238095238,
           0.047619047619047616,
           0.023809523809523808,
           0.023809523809523808,
           0.11904761904761904,
           0.21428571428571427,
           0.023809523809523808,
           0.07142857142857142,
           0.023809523809523808,
           0.09523809523809523,
           0.8333333333333334,
           0.023809523809523808,
           0.023809523809523808,
           0.8809523809523809,
           0.7380952380952381,
           0.7619047619047619,
           0.16666666666666666,
           0.023809523809523808,
           0.023809523809523808,
           0.7619047619047619,
           0.8809523809523809,
           0.5476190476190477,
           0.3333333333333333,
           0.4523809523809524,
           0.40476190476190477,
           0.14285714285714285,
           0.07142857142857142,
           0.19047619047619047,
           0.30952380952380953,
           0.47619047619047616,
           0.023809523809523808,
           0.16666666666666666,
           0.07142857142857142,
           0.023809523809523808,
           0.07142857142857142,
           0.047619047619047616,
           0.047619047619047616,
           0.07142857142857142,
           0.047619047619047616,
           0.07142857142857142,
           0.047619047619047616,
           0.023809523809523808,
           0.07142857142857142,
           0.023809523809523808,
           0.047619047619047616,
           0.023809523809523808,
           0.023809523809523808,
           0.023809523809523808,
           0.023809523809523808,
           0.023809523809523808,
           0.9761904761904762,
           0.9761904761904762,
           0.9761904761904762,
           0.9761904761904762,
           0.9523809523809523,
           0.9761904761904762,
           0.7619047619047619,
           0.7857142857142857,
           0.8095238095238095,
           0.8095238095238095,
           0.9761904761904762,
           0.9285714285714286,
           0.8809523809523809,
           1,
           0.7142857142857143,
           0.8095238095238095,
           0.8095238095238095,
           0.9761904761904762,
           0.8333333333333334,
           0.7857142857142857,
           0.8333333333333334,
           0.7619047619047619,
           0.9761904761904762,
           0.7142857142857143,
           0.8095238095238095,
           0.7142857142857143,
           0.9523809523809523,
           0.9761904761904762,
           0.7857142857142857,
           0.19047619047619047,
           0.8333333333333334,
           0.9761904761904762,
           0.7142857142857143,
           0.8571428571428571,
           0.8095238095238095,
           0.8333333333333334,
           0.23809523809523808,
           0.8809523809523809,
           0.8809523809523809,
           0.8095238095238095,
           0.9761904761904762,
           0.7380952380952381,
           0.7619047619047619,
           0.9047619047619048,
           0.7857142857142857,
           0.7142857142857143,
           0.7142857142857143,
           0.9285714285714286,
           0.9285714285714286,
           0.8333333333333334,
           0.7142857142857143,
           0.7380952380952381,
           1,
           0.7619047619047619,
           0.7380952380952381,
           0.7857142857142857,
           0.7857142857142857,
           0.42857142857142855,
           0.7142857142857143,
           0.8571428571428571,
           0.6190476190476191,
           0.8095238095238095,
           0.7380952380952381,
           0.9047619047619048,
           0.8333333333333334,
           0.7619047619047619,
           0.9761904761904762,
           0.8333333333333334,
           0.7380952380952381,
           0.9523809523809523,
           0.8333333333333334,
           0.7142857142857143,
           0.7619047619047619,
           0.8333333333333334,
           0.7857142857142857,
           0.7857142857142857,
           0.07142857142857142,
           0.7142857142857143,
           0.8095238095238095,
           0.6428571428571429,
           0.7857142857142857,
           0.7857142857142857,
           0.8571428571428571,
           0.7857142857142857,
           0.8095238095238095,
           0.8809523809523809,
           0.8571428571428571,
           0.8095238095238095,
           0.7619047619047619,
           0.6666666666666666,
           0.6904761904761905,
           0.7619047619047619,
           0.8095238095238095,
           0.2857142857142857,
           0.8095238095238095,
           0.7619047619047619,
           0.7380952380952381,
           0.23809523809523808,
           0.2857142857142857,
           0.8095238095238095,
           0.8095238095238095,
           0.7142857142857143,
           0.2619047619047619,
           0.21428571428571427,
           0.7380952380952381,
           0.35714285714285715,
           0.5,
           0.23809523809523808,
           0.047619047619047616,
           0.023809523809523808,
           0.8095238095238095,
           0.7857142857142857,
           0.9285714285714286,
           0.8095238095238095,
           0.7380952380952381,
           1,
           0.9285714285714286,
           0.9761904761904762,
           0.16666666666666666,
           0.7619047619047619,
           0.8809523809523809,
           0.7857142857142857,
           0.7619047619047619,
           0.8571428571428571,
           0.5238095238095238,
           0.35714285714285715,
           0.8571428571428571,
           0.7857142857142857,
           0.7619047619047619,
           0.7380952380952381,
           0.14285714285714285,
           0.42857142857142855,
           0.2857142857142857,
           0.11904761904761904,
           0.5476190476190477,
           0.2857142857142857,
           0.7142857142857143,
           0.4523809523809524,
           0.7142857142857143,
           0.7380952380952381,
           0.23809523809523808,
           0.42857142857142855,
           0.19047619047619047,
           0.07142857142857142,
           0.19047619047619047,
           0.047619047619047616,
           0.21428571428571427,
           0.023809523809523808,
           0.047619047619047616,
           0.2619047619047619,
           0.14285714285714285,
           0.09523809523809523,
           0.21428571428571427,
           0.09523809523809523,
           0.30952380952380953,
           0.09523809523809523,
           0.11904761904761904,
           0.023809523809523808,
           0.023809523809523808,
           0.07142857142857142,
           0.023809523809523808,
           0.07142857142857142,
           0.047619047619047616,
           0.023809523809523808
          ],
          "size": [
           5.169304370880127,
           12.383881568908691,
           2.950728416442871,
           3.2394394874572754,
           5.797037601470947,
           3.491334915161133,
           7.946142196655273,
           4.886739730834961,
           1.9125020503997803,
           3.3031857013702393,
           7.527618885040283,
           11.443883895874023,
           12.023859024047852,
           3.7651724815368652,
           4.667210102081299,
           3.210320472717285,
           8.56594467163086,
           4.915120601654053,
           7.699710845947266,
           8.036958694458008,
           2.5940656661987305,
           3.6015379428863525,
           9.078606605529785,
           5.807929992675781,
           7.813838958740234,
           6.740826606750488,
           5.033555030822754,
           5.155589580535889,
           5.870794296264648,
           2.4510393142700195,
           6.793848991394043,
           2.370922088623047,
           2.040494203567505,
           1.1924554109573364,
           3.8147363662719727,
           7.512545585632324,
           3.153862476348877,
           3.153406858444214,
           3.7181663513183594,
           1.3715648651123047,
           5.23274040222168,
           7.05785608291626,
           8.04429817199707,
           2.0187594890594482,
           8.931599617004395,
           7.49365758895874,
           3.4916868209838867,
           6.199788570404053,
           2.2870779037475586,
           4.313973903656006,
           2.5498993396759033,
           3.401005744934082,
           3.1473445892333984,
           13.06863021850586,
           3.723160743713379,
           4.4050798416137695,
           1.2482943534851074,
           5.678144931793213,
           8.555618286132812,
           3.2191731929779053,
           4.379782676696777,
           5.99501371383667,
           5.673834800720215,
           3.87705659866333,
           3.166658401489258,
           6.596050262451172,
           3.289698362350464,
           4.50327730178833,
           4.914271354675293,
           2.5276129245758057,
           6.2993903160095215,
           5.266557216644287,
           2.6258962154388428,
           2.2089667320251465,
           10.896867752075195,
           4.7524919509887695,
           4.208785057067871,
           2.406562566757202,
           2.747075319290161,
           4.499538421630859,
           8.853349685668945,
           8.36544418334961,
           2.0144007205963135,
           5.347407817840576,
           4.062931060791016,
           5.009930610656738,
           2.1875758171081543,
           2.7065038681030273,
           4.224015235900879,
           3.115090847015381,
           2.7167513370513916,
           3.534064292907715,
           1.9568346738815308,
           7.697083950042725,
           2.1127634048461914,
           1.908861756324768,
           2.809307098388672,
           1.8413865566253662,
           1.3343356847763062,
           3.771310329437256,
           2.9705162048339844,
           4.7913360595703125,
           6.59982967376709,
           4.633951187133789,
           3.77087664604187,
           2.163646697998047,
           2.280345916748047,
           1.3037140369415283,
           6.746522426605225,
           2.463197708129883,
           5.190887451171875,
           1.6445045471191406,
           3.178708791732788,
           10.845022201538086,
           3.0011463165283203,
           3.260023355484009,
           6.232069969177246,
           1.9530963897705078,
           5.574817180633545,
           12.015569686889648,
           2.1008105278015137,
           2.1519010066986084,
           7.758929252624512,
           2.712942600250244,
           1.4625532627105713,
           3.002321720123291,
           3.7679591178894043,
           8.058732986450195,
           2.5599160194396973,
           3.286634922027588,
           3.9463322162628174,
           2.551621437072754,
           5.229525566101074,
           2.7006728649139404,
           4.463506698608398,
           1.981055498123169,
           2.2995901107788086,
           4.195960521697998,
           3.168302059173584,
           2.4259533882141113,
           2.317641496658325,
           1.6495935916900635,
           2.7324047088623047,
           3.417587995529175,
           2.873077869415283,
           4.743292808532715,
           1.8179482221603394,
           9.637219429016113,
           3.9708707332611084,
           3.5646276473999023,
           2.6073691844940186,
           4.194862365722656,
           5.25830078125,
           1.4195549488067627,
           2.395747661590576,
           3.1688411235809326,
           2.665182113647461,
           5.748525619506836,
           3.3181447982788086,
           3.217630624771118,
           4.845697402954102,
           4.48604679107666,
           4.200050354003906,
           4.783515930175781,
           4.3628716468811035,
           4.476266860961914,
           4.191478252410889,
           1.3493549823760986,
           3.640451431274414,
           3.090762138366699,
           5.502739906311035,
           1.8413883447647095,
           4.186521530151367,
           1.8507304191589355,
           2.7128262519836426,
           3.679513692855835,
           3.0356264114379883,
           4.687291622161865,
           5.075215816497803,
           2.457689046859741,
           2.463624954223633,
           2.873380661010742,
           2.55540132522583,
           1.8516969680786133,
           4.064118385314941,
           6.108698844909668,
           3.4881181716918945,
           7.490363597869873,
           3.007474899291992,
           2.37526798248291,
           3.0951449871063232,
           1.3601651191711426,
           5.565934181213379,
           4.540031433105469,
           5.631135940551758,
           1.406055212020874,
           1.8646456003189087,
           1.6161913871765137,
           2.1331489086151123,
           1.8372809886932373,
           1.6018683910369873,
           1.9668406248092651,
           3.98795747756958,
           2.698657751083374,
           3.463099718093872,
           1.6835191249847412,
           1.7654469013214111,
           1.3769469261169434,
           2.1410298347473145,
           1.382291316986084,
           2.245408535003662,
           2.8543806076049805,
           2.00704026222229,
           2.6072466373443604,
           2.0921385288238525,
           2.6395506858825684,
           1.702498435974121,
           2.0562102794647217,
           4.13962984085083,
           3.2773163318634033,
           2.076881170272827,
           2.2357566356658936,
           1.6520999670028687,
           1.7550063133239746,
           1.1863213777542114,
           1.5230005979537964,
           2.177032947540283,
           1.852301836013794,
           2.7436234951019287,
           2.349181890487671,
           2.605241537094116,
           2.1675291061401367,
           2.6808388233184814,
           1.900883436203003,
           1.7617073059082031,
           3.2664794921875,
           2.079862594604492,
           2.276158332824707,
           1.2729511260986328,
           2.1374053955078125,
           1.6231316328048706,
           2.1052796840667725,
           4.004675388336182,
           3.9484729766845703,
           1.6612704992294312,
           1.6466552019119263,
           1.6339324712753296,
           1.5829544067382812,
           1.4080432653427124,
           1.9932032823562622,
           1.8510817289352417,
           2.0124740600585938,
           2.381505250930786,
           1.1874992847442627,
           2.230038642883301,
           1.585217833518982,
           1.5347082614898682,
           1.6363837718963623,
           1.608621597290039,
           1.3083693981170654,
           1.2846870422363281,
           1.339192509651184,
           1.5670742988586426,
           6.324082374572754,
           7.879327297210693,
           2.2194252014160156,
           4.034290313720703,
           2.048654556274414,
           2.5911288261413574,
           2.081116199493408,
           3.1578445434570312,
           2.577709674835205,
           2.853485584259033,
           2.5698492527008057,
           5.008662223815918,
           2.9166715145111084,
           2.1685826778411865,
           2.164595127105713,
           2.248283863067627,
           1.7447185516357422,
           3.979320526123047,
           2.985757827758789,
           2.345137119293213,
           4.582559585571289,
           2.618785858154297,
           1.592836856842041,
           1.669305682182312,
           3.6112325191497803,
           2.7951884269714355,
           4.29364013671875,
           5.4765143394470215,
           1.630215048789978,
           2.7237327098846436,
           2.566000461578369,
           2.424107074737549,
           3.207157611846924,
           2.79160475730896,
           2.661994695663452,
           3.2067928314208984,
           7.354093074798584,
           1.5628619194030762,
           6.226010799407959,
           2.7508788108825684,
           4.543268203735352,
           2.1498677730560303,
           2.6870510578155518,
           3.0222585201263428,
           2.466195583343506,
           3.199709177017212,
           2.9454402923583984,
           2.5961780548095703,
           2.2380144596099854,
           1.8544251918792725,
           3.3358325958251953,
           2.1321654319763184,
           3.8021323680877686,
           3.5843327045440674,
           2.8707144260406494,
           4.1882643699646,
           5.241052150726318,
           3.04020357131958,
           1.7295022010803223,
           2.4085001945495605,
           1.7408779859542847,
           2.194495677947998,
           4.399595737457275,
           2.993133068084717,
           4.2872443199157715,
           5.006648540496826,
           2.9871647357940674,
           2.587631940841675,
           1.7797741889953613,
           2.6300339698791504,
           1.686025619506836,
           3.1972689628601074,
           2.3060193061828613,
           3.9733664989471436,
           1.8252102136611938,
           6.92498254776001,
           2.5223276615142822,
           1.8403359651565552,
           2.2297523021698,
           3.4204211235046387,
           2.621213674545288,
           2.1082987785339355,
           2.6160075664520264,
           1.9881889820098877,
           3.382476806640625,
           3.196110725402832,
           1.8167510032653809,
           2.2539188861846924,
           2.5947861671447754,
           2.522824764251709,
           2.0367279052734375,
           2.6183557510375977,
           1.8798216581344604,
           2.9210574626922607,
           2.231522798538208,
           3.0154166221618652,
           1.939871072769165,
           2.3246500492095947,
           2.284992218017578,
           3.0066747665405273,
           3.013489246368408,
           2.032348871231079,
           2.0551059246063232,
           3.103823184967041,
           3.415076732635498,
           1.9342265129089355,
           1.9166014194488525,
           1.3681135177612305,
           2.5352160930633545,
           1.9521081447601318,
           3.111802101135254,
           3.3702661991119385,
           1.8598175048828125,
           1.3087539672851562,
           1.867518424987793,
           6.470756530761719,
           1.8604965209960938,
           3.445770263671875,
           1.8307206630706787,
           2.476318120956421,
           1.5649781227111816,
           1.9588967561721802,
           2.737668991088867,
           1.7745699882507324,
           1.8874471187591553,
           1.5436556339263916,
           3.3120579719543457,
           3.0962271690368652,
           3.9452879428863525,
           4.718228816986084,
           2.4992153644561768,
           2.4848597049713135,
           2.594182252883911,
           2.0824949741363525,
           2.0387675762176514,
           1.6464312076568604,
           2.6992855072021484,
           2.132127046585083,
           2.1780388355255127,
           2.4274158477783203,
           2.020237445831299,
           2.617258310317993,
           1.9422029256820679,
           1.859022617340088,
           1.5731282234191895,
           1.8526962995529175,
           2.8675284385681152,
           1.981490135192871,
           2.018667459487915,
           1.9213004112243652,
           2.1712212562561035,
           2.6641571521759033,
           1.2665786743164062,
           1.4999054670333862,
           3.0421526432037354,
           2.1246163845062256,
           2.5304219722747803,
           2.3631091117858887,
           3.4632339477539062,
           2.1580982208251953,
           1.2600836753845215,
           2.7673020362854004,
           1.6688361167907715,
           1.8184752464294434
          ],
          "sizemode": "area",
          "sizeref": 0.032671575546264646,
          "symbol": "circle"
         },
         "mode": "markers",
         "name": "",
         "orientation": "v",
         "showlegend": false,
         "type": "scatter",
         "x": [
          67,
          70,
          79,
          74.38709677419355,
          67,
          62.9,
          64,
          83,
          68,
          56,
          78.16216216216216,
          83.5,
          31,
          32,
          86.75675675675676,
          32.08571428571429,
          25.72972972972973,
          65,
          74.27272727272727,
          24.83783783783784,
          39.36363636363637,
          59.5,
          51.705882352941174,
          23,
          33.078947368421055,
          71.95454545454545,
          20,
          26,
          86.32352941176471,
          25.78787878787879,
          23.852941176470587,
          74.05405405405405,
          80.72222222222223,
          42,
          70.03225806451613,
          36.294117647058826,
          87.27272727272727,
          79.18181818181819,
          55.02439024390244,
          29,
          30,
          61.973684210526315,
          25,
          78.26315789473684,
          51.05714285714286,
          20.5,
          73.29411764705883,
          79.76315789473684,
          62.205128205128204,
          24,
          36,
          61.72727272727273,
          77.05555555555556,
          36.14705882352941,
          24,
          63.63333333333333,
          57.03225806451613,
          29.27777777777778,
          28.82051282051282,
          20.727272727272727,
          39,
          49.72727272727273,
          33.97222222222222,
          59,
          29,
          71,
          19,
          28.27777777777778,
          33.75,
          28,
          23.970588235294116,
          33.0625,
          37,
          58.82608695652174,
          39.38709677419355,
          56.729729729729726,
          84.17948717948718,
          19.3,
          71.375,
          74.23809523809524,
          45.388888888888886,
          22,
          47.5,
          30.22222222222222,
          91.60606060606061,
          26.68421052631579,
          46,
          71.8,
          18.6875,
          18.833333333333332,
          31.27777777777778,
          25.625,
          59.5,
          42.67741935483871,
          48.94736842105263,
          66.13513513513513,
          84.87878787878788,
          75.91891891891892,
          23,
          48.233333333333334,
          28.70967741935484,
          22.026315789473685,
          30,
          56.13333333333333,
          36,
          15.757575757575758,
          48,
          38.85,
          92.4375,
          67.78787878787878,
          16.147058823529413,
          64,
          35,
          38,
          21.085714285714285,
          41.96666666666667,
          39.205128205128204,
          15.34375,
          32.325,
          57.83870967741935,
          43.76923076923077,
          28.096774193548388,
          86.23333333333333,
          30.939393939393938,
          51.25806451612903,
          63.354838709677416,
          90.25806451612904,
          84.5,
          54.666666666666664,
          22.65714285714286,
          36.53333333333333,
          51.976190476190474,
          44.87179487179487,
          45.388888888888886,
          37.72222222222222,
          26.952380952380953,
          66,
          18.4,
          32.69444444444444,
          48.46666666666667,
          32,
          59.45454545454545,
          48.535714285714285,
          44.5,
          35.375,
          38.6,
          43,
          44.55555555555556,
          86.78571428571429,
          32,
          78.3225806451613,
          40.78947368421053,
          25.558823529411764,
          79.45,
          59.333333333333336,
          25,
          27.16216216216216,
          32.03333333333333,
          57.83870967741935,
          24.25,
          64.46666666666667,
          50.65714285714286,
          33.94444444444444,
          43,
          33.61904761904762,
          41,
          51.193548387096776,
          54.6875,
          17,
          41.470588235294116,
          47.09090909090909,
          23.114285714285714,
          30.64516129032258,
          48.4,
          13.428571428571429,
          42,
          36.8,
          27.130434782608695,
          75.7,
          36.1875,
          37.16129032258065,
          48.59375,
          34,
          41,
          33.25806451612903,
          41.57142857142857,
          53.5,
          33.225806451612904,
          40.5,
          23.72,
          25.264705882352942,
          66.8529411764706,
          34.266666666666666,
          44.266666666666666,
          29.73076923076923,
          37,
          51.03703703703704,
          27.2,
          54.44444444444444,
          23.09090909090909,
          56.806451612903224,
          40.592592592592595,
          20.64,
          47.5,
          42.3,
          63.625,
          32,
          92,
          35.57142857142857,
          27.4375,
          44.857142857142854,
          68,
          95.63636363636364,
          18.772727272727273,
          55.5,
          43,
          39,
          42.4,
          45.22222222222222,
          98,
          81.33333333333333,
          36,
          39.75,
          83.42857142857143,
          67,
          66,
          35.027027027027025,
          70.96774193548387,
          38.90625,
          67.42857142857143,
          32,
          44,
          84,
          29.216216216216218,
          23.26086956521739,
          20.357142857142858,
          18.63157894736842,
          52.23529411764706,
          75,
          75.33333333333333,
          21.25,
          44.38461538461539,
          51.05,
          56,
          37,
          72.66666666666667,
          39,
          51.666666666666664,
          64,
          95,
          61.333333333333336,
          43.5,
          55.333333333333336,
          41.5,
          28,
          31.333333333333332,
          37,
          44.5,
          60,
          88,
          38,
          40,
          32,
          98,
          91,
          106,
          106,
          98.1,
          97,
          94.5,
          85.39393939393939,
          101.91176470588235,
          87.47058823529412,
          90,
          93.2051282051282,
          101.91891891891892,
          84.02380952380952,
          92.16666666666667,
          85.70588235294117,
          92.08823529411765,
          71,
          80.57142857142857,
          101.6969696969697,
          69.82857142857142,
          86.15625,
          84,
          89.76666666666667,
          95.29411764705883,
          81.76666666666667,
          101.3,
          70,
          103.3030303030303,
          30.5,
          100.28571428571429,
          103,
          106.6,
          36.55555555555556,
          97.5,
          64.91428571428571,
          19.4,
          90.29729729729729,
          74.54054054054055,
          75.8529411764706,
          19,
          98.58064516129032,
          24.4375,
          13.894736842105264,
          76.15151515151516,
          86.9,
          95.16666666666667,
          18.82051282051282,
          65.7948717948718,
          102.25714285714285,
          18.866666666666667,
          64.48387096774194,
          53.976190476190474,
          81.5,
          76.29032258064517,
          79.93939393939394,
          78.63636363636364,
          15.333333333333334,
          99.6,
          35.97222222222222,
          108.65384615384616,
          74.73529411764706,
          20.032258064516128,
          60.973684210526315,
          16.17142857142857,
          76.6875,
          62,
          106.08571428571429,
          73.61290322580645,
          29.075,
          60.857142857142854,
          75.16666666666667,
          26.09375,
          20.771428571428572,
          47.39393939393939,
          63.93939393939394,
          68.33333333333333,
          70.33333333333333,
          22.205882352941178,
          71.5925925925926,
          70.33333333333333,
          43.42424242424242,
          41.75,
          55.39393939393939,
          83.1470588235294,
          24.972972972972972,
          65.75,
          49.294117647058826,
          14.03125,
          56.892857142857146,
          61.51724137931034,
          39.21875,
          67.97058823529412,
          12,
          25.91176470588235,
          61.59375,
          83.06451612903226,
          60.6,
          87.91666666666667,
          31.5,
          93.11764705882354,
          105.23333333333333,
          43.18181818181818,
          19.22222222222222,
          17.741935483870968,
          44.06666666666667,
          32.523809523809526,
          79.3,
          75.5,
          74,
          93.70588235294117,
          112.12121212121212,
          85.97435897435898,
          82.8529411764706,
          103.09677419354838,
          93.69047619047619,
          92.97435897435898,
          102,
          99.71428571428571,
          91.71875,
          110.72972972972973,
          78.75757575757575,
          82.65625,
          81.44444444444444,
          91.68181818181819,
          100.93333333333334,
          26.86111111111111,
          19.515151515151516,
          23.625,
          74.3225806451613,
          13.166666666666666,
          15.222222222222221,
          13.5,
          15.2,
          15.130434782608695,
          35.333333333333336,
          34.43333333333333,
          52.26315789473684,
          17.066666666666666,
          33.58064516129032,
          15.9,
          106.83333333333333,
          16.25,
          43.666666666666664,
          75,
          30,
          15.333333333333334,
          13,
          4,
          15.818181818181818,
          15.5,
          19.5,
          104.77777777777777,
          61.5,
          12.923076923076923,
          5.5,
          54,
          12,
          69,
          32.666666666666664,
          81,
          42.333333333333336,
          21.5,
          70
         ],
         "xaxis": "x",
         "y": [
          47,
          36,
          31,
          29.35483870967742,
          41,
          50.56666666666667,
          47,
          28,
          27,
          27,
          23.729729729729726,
          27.5,
          31,
          56,
          24.135135135135137,
          58.51428571428571,
          27.83783783783784,
          35,
          40.72727272727273,
          55.81081081081081,
          58.54545454545455,
          50.5,
          30.14705882352942,
          37,
          24.76315789473685,
          24.272727272727266,
          43,
          49,
          34.44117647058823,
          56.45454545454545,
          33.29411764705881,
          35.91891891891892,
          34.27777777777777,
          56,
          39.258064516129025,
          35.14705882352942,
          24.727272727272734,
          23.636363636363637,
          52.804878048780495,
          34,
          38.61290322580646,
          30.18421052631578,
          30,
          34.0263157894737,
          23.657142857142844,
          52.5,
          24.85294117647058,
          28.78947368421052,
          26.358974358974365,
          40,
          50,
          39.27272727272728,
          39.111111111111114,
          20.705882352941188,
          46,
          37.53333333333333,
          13.870967741935488,
          25.72222222222223,
          18.974358974358978,
          51.27272727272728,
          42,
          34.27272727272728,
          15.277777777777771,
          53.9,
          26,
          50.75,
          46,
          42.72222222222223,
          44.375,
          33,
          23.058823529411768,
          14.84375,
          52.5,
          45,
          28.064516129032256,
          34.16216216216216,
          18.97435897435895,
          28.53333333333333,
          47.65625,
          43.04761904761905,
          29.444444444444457,
          25,
          53.5,
          35.30555555555554,
          31.636363636363637,
          19.84210526315789,
          46,
          32.80000000000001,
          34.96875,
          32.22222222222223,
          54.27777777777777,
          48,
          33.5,
          36.87096774193549,
          56.23684210526316,
          21.756756756756744,
          18.393939393939394,
          40.16216216216219,
          47,
          39.23333333333332,
          46.51612903225808,
          37.263157894736835,
          31,
          38.33333333333334,
          31,
          45.78787878787878,
          28,
          56.875,
          23.9375,
          16.818181818181813,
          37.58823529411765,
          26,
          30,
          26,
          53.82857142857143,
          50.30000000000001,
          15.358974358974365,
          50.75,
          25.399999999999977,
          20.903225806451616,
          57.07692307692308,
          51.935483870967744,
          14.899999999999977,
          50.484848484848484,
          58.096774193548384,
          39.12903225806451,
          31.25806451612904,
          26.69999999999999,
          54.166666666666664,
          45.94285714285715,
          34.133333333333326,
          44.309523809523796,
          12.051282051282044,
          47.638888888888886,
          44.388888888888886,
          56.71428571428572,
          45.40625,
          41.73333333333332,
          37.666666666666664,
          49.16666666666667,
          47.5,
          44.24242424242425,
          44.60714285714286,
          23.5,
          10.5,
          18.94999999999999,
          33,
          22.75,
          33.35714285714283,
          18.72222222222223,
          28.032258064516128,
          12.63157894736841,
          27.14705882352939,
          24.100000000000023,
          26.791666666666657,
          34.25,
          27,
          38.69999999999999,
          50.03225806451613,
          31.78125,
          21.900000000000006,
          18.657142857142844,
          52.55555555555556,
          31.5,
          30.85714285714286,
          32.5,
          12.741935483870975,
          28.9375,
          27.5,
          19.441176470588232,
          36.39393939393938,
          42.2,
          22.774193548387103,
          10.949999999999989,
          32.35714285714286,
          14,
          21.80000000000001,
          21.82608695652175,
          22.30000000000001,
          42.9375,
          16.19354838709677,
          19.6875,
          10.800000000000011,
          13,
          52.064516129032256,
          39.17142857142858,
          38.5,
          19.25806451612904,
          9.5625,
          18.28,
          40.23529411764707,
          32.970588235294116,
          39.93333333333334,
          18.933333333333337,
          37.92307692307692,
          30,
          33.925925925925924,
          51.866666666666674,
          11.444444444444457,
          16.636363636363626,
          25.80645161290323,
          46.44444444444446,
          34.31999999999999,
          41,
          39.73333333333332,
          49,
          43.5,
          26,
          25.285714285714278,
          40.75,
          9.428571428571416,
          28,
          35.90909090909091,
          21.136363636363626,
          10,
          7,
          10,
          22.799999999999997,
          14.333333333333314,
          33,
          7.666666666666667,
          12,
          15.75,
          19.171428571428578,
          45,
          44,
          50.16216216216219,
          45.225806451612925,
          49.25,
          51.85714285714286,
          24,
          34,
          36.90625,
          52.621621621621614,
          23.52173913043478,
          37.214285714285715,
          33.05263157894737,
          51.470588235294116,
          20.83333333333333,
          30.666666666666686,
          49.125,
          6.461538461538453,
          40,
          7,
          35.71428571428571,
          42.66666666666666,
          18,
          14.666666666666657,
          19.5,
          32.5,
          45.33333333333334,
          13,
          26.666666666666657,
          14,
          48,
          44.33333333333333,
          29,
          15,
          6,
          30,
          27,
          36,
          55,
          32,
          29,
          33,
          34,
          34,
          31,
          29.5,
          29,
          28.676470588235304,
          31.264705882352928,
          31,
          33.641025641025635,
          38.67567567567568,
          35.690476190476204,
          27.23333333333335,
          31.852941176470587,
          29.058823529411764,
          56,
          35.17142857142857,
          28.181818181818183,
          53.74285714285713,
          37.375,
          26,
          27.26666666666665,
          35.14705882352942,
          29.366666666666667,
          39.875,
          49,
          39.06060606060606,
          51.125,
          39.17142857142858,
          30,
          37.19999999999999,
          61.30555555555556,
          37.5,
          55.97142857142859,
          43.10000000000002,
          26.567567567567565,
          50.27027027027026,
          53.029411764705856,
          52,
          29.741935483870975,
          60.96875,
          49.71052631578948,
          28.787878787878782,
          35.66666666666666,
          28.433333333333337,
          52,
          57.641025641025635,
          24.285714285714278,
          58.53333333333333,
          48,
          30.690476190476204,
          40.5,
          37.096774193548384,
          49.030303030303,
          45.27272727272725,
          55.94444444444446,
          26.599999999999994,
          31.861111111111114,
          28.19230769230768,
          28.882352941176464,
          59.419354838709666,
          58.89473684210526,
          43.57142857142857,
          45.375,
          33,
          37.17142857142858,
          44.419354838709694,
          29.025000000000006,
          59.62857142857143,
          53.099999999999994,
          60.15625,
          40.77142857142857,
          33.848484848484844,
          54.333333333333336,
          52.666666666666664,
          43.6,
          35.529411764705884,
          60.48148148148147,
          31.181818181818187,
          45.36363636363636,
          40.111111111111114,
          37.24242424242425,
          45.05882352941177,
          49.97297297297297,
          34.05555555555556,
          60.470588235294144,
          56.03125,
          58.46428571428572,
          34.689655172413794,
          18.4375,
          46.352941176470594,
          61,
          51.05882352941177,
          48.5,
          42.935483870967744,
          56.9,
          41.5,
          20.117647058823536,
          42.55882352941177,
          26.76666666666668,
          24.454545454545467,
          60.77777777777777,
          57.83870967741935,
          58.666666666666664,
          48.47619047619048,
          49.69999999999999,
          31,
          52,
          28.852941176470594,
          36.090909090909065,
          37.17948717948718,
          24.705882352941188,
          29.83870967741936,
          24.02380952380952,
          37.17948717948718,
          21,
          35.714285714285715,
          36.34375,
          35.16216216216219,
          24.818181818181813,
          41.1875,
          31.97222222222223,
          21.772727272727266,
          37,
          35.22222222222223,
          44.81818181818181,
          40.1875,
          46.48387096774192,
          61.666666666666686,
          38.16666666666667,
          49.666666666666686,
          38.8,
          48.739130434782595,
          52.16666666666667,
          37.23333333333332,
          49.473684210526315,
          40.19999999999999,
          42.419354838709666,
          61.30000000000001,
          22.22222222222223,
          30.75,
          6.333333333333329,
          41.375,
          14.5,
          34.22222222222223,
          42,
          45.5,
          51.09090909090909,
          61.166666666666664,
          41.5,
          18.888888888888914,
          50.5,
          55.84615384615385,
          55,
          57,
          34,
          56,
          48.33333333333333,
          45,
          12.666666666666657,
          59,
          37
         ],
         "yaxis": "y"
        }
       ],
       "layout": {
        "coloraxis": {
         "colorbar": {
          "title": {
           "text": "color"
          }
         },
         "colorscale": [
          [
           0,
           "#0d0887"
          ],
          [
           0.1111111111111111,
           "#46039f"
          ],
          [
           0.2222222222222222,
           "#7201a8"
          ],
          [
           0.3333333333333333,
           "#9c179e"
          ],
          [
           0.4444444444444444,
           "#bd3786"
          ],
          [
           0.5555555555555556,
           "#d8576b"
          ],
          [
           0.6666666666666666,
           "#ed7953"
          ],
          [
           0.7777777777777778,
           "#fb9f3a"
          ],
          [
           0.8888888888888888,
           "#fdca26"
          ],
          [
           1,
           "#f0f921"
          ]
         ]
        },
        "height": 300,
        "legend": {
         "itemsizing": "constant",
         "tracegroupgap": 0
        },
        "margin": {
         "b": 20,
         "l": 20,
         "r": 20,
         "t": 20
        },
        "template": {
         "data": {
          "bar": [
           {
            "error_x": {
             "color": "#2a3f5f"
            },
            "error_y": {
             "color": "#2a3f5f"
            },
            "marker": {
             "line": {
              "color": "#E5ECF6",
              "width": 0.5
             },
             "pattern": {
              "fillmode": "overlay",
              "size": 10,
              "solidity": 0.2
             }
            },
            "type": "bar"
           }
          ],
          "barpolar": [
           {
            "marker": {
             "line": {
              "color": "#E5ECF6",
              "width": 0.5
             },
             "pattern": {
              "fillmode": "overlay",
              "size": 10,
              "solidity": 0.2
             }
            },
            "type": "barpolar"
           }
          ],
          "carpet": [
           {
            "aaxis": {
             "endlinecolor": "#2a3f5f",
             "gridcolor": "white",
             "linecolor": "white",
             "minorgridcolor": "white",
             "startlinecolor": "#2a3f5f"
            },
            "baxis": {
             "endlinecolor": "#2a3f5f",
             "gridcolor": "white",
             "linecolor": "white",
             "minorgridcolor": "white",
             "startlinecolor": "#2a3f5f"
            },
            "type": "carpet"
           }
          ],
          "choropleth": [
           {
            "colorbar": {
             "outlinewidth": 0,
             "ticks": ""
            },
            "type": "choropleth"
           }
          ],
          "contour": [
           {
            "colorbar": {
             "outlinewidth": 0,
             "ticks": ""
            },
            "colorscale": [
             [
              0,
              "#0d0887"
             ],
             [
              0.1111111111111111,
              "#46039f"
             ],
             [
              0.2222222222222222,
              "#7201a8"
             ],
             [
              0.3333333333333333,
              "#9c179e"
             ],
             [
              0.4444444444444444,
              "#bd3786"
             ],
             [
              0.5555555555555556,
              "#d8576b"
             ],
             [
              0.6666666666666666,
              "#ed7953"
             ],
             [
              0.7777777777777778,
              "#fb9f3a"
             ],
             [
              0.8888888888888888,
              "#fdca26"
             ],
             [
              1,
              "#f0f921"
             ]
            ],
            "type": "contour"
           }
          ],
          "contourcarpet": [
           {
            "colorbar": {
             "outlinewidth": 0,
             "ticks": ""
            },
            "type": "contourcarpet"
           }
          ],
          "heatmap": [
           {
            "colorbar": {
             "outlinewidth": 0,
             "ticks": ""
            },
            "colorscale": [
             [
              0,
              "#0d0887"
             ],
             [
              0.1111111111111111,
              "#46039f"
             ],
             [
              0.2222222222222222,
              "#7201a8"
             ],
             [
              0.3333333333333333,
              "#9c179e"
             ],
             [
              0.4444444444444444,
              "#bd3786"
             ],
             [
              0.5555555555555556,
              "#d8576b"
             ],
             [
              0.6666666666666666,
              "#ed7953"
             ],
             [
              0.7777777777777778,
              "#fb9f3a"
             ],
             [
              0.8888888888888888,
              "#fdca26"
             ],
             [
              1,
              "#f0f921"
             ]
            ],
            "type": "heatmap"
           }
          ],
          "heatmapgl": [
           {
            "colorbar": {
             "outlinewidth": 0,
             "ticks": ""
            },
            "colorscale": [
             [
              0,
              "#0d0887"
             ],
             [
              0.1111111111111111,
              "#46039f"
             ],
             [
              0.2222222222222222,
              "#7201a8"
             ],
             [
              0.3333333333333333,
              "#9c179e"
             ],
             [
              0.4444444444444444,
              "#bd3786"
             ],
             [
              0.5555555555555556,
              "#d8576b"
             ],
             [
              0.6666666666666666,
              "#ed7953"
             ],
             [
              0.7777777777777778,
              "#fb9f3a"
             ],
             [
              0.8888888888888888,
              "#fdca26"
             ],
             [
              1,
              "#f0f921"
             ]
            ],
            "type": "heatmapgl"
           }
          ],
          "histogram": [
           {
            "marker": {
             "pattern": {
              "fillmode": "overlay",
              "size": 10,
              "solidity": 0.2
             }
            },
            "type": "histogram"
           }
          ],
          "histogram2d": [
           {
            "colorbar": {
             "outlinewidth": 0,
             "ticks": ""
            },
            "colorscale": [
             [
              0,
              "#0d0887"
             ],
             [
              0.1111111111111111,
              "#46039f"
             ],
             [
              0.2222222222222222,
              "#7201a8"
             ],
             [
              0.3333333333333333,
              "#9c179e"
             ],
             [
              0.4444444444444444,
              "#bd3786"
             ],
             [
              0.5555555555555556,
              "#d8576b"
             ],
             [
              0.6666666666666666,
              "#ed7953"
             ],
             [
              0.7777777777777778,
              "#fb9f3a"
             ],
             [
              0.8888888888888888,
              "#fdca26"
             ],
             [
              1,
              "#f0f921"
             ]
            ],
            "type": "histogram2d"
           }
          ],
          "histogram2dcontour": [
           {
            "colorbar": {
             "outlinewidth": 0,
             "ticks": ""
            },
            "colorscale": [
             [
              0,
              "#0d0887"
             ],
             [
              0.1111111111111111,
              "#46039f"
             ],
             [
              0.2222222222222222,
              "#7201a8"
             ],
             [
              0.3333333333333333,
              "#9c179e"
             ],
             [
              0.4444444444444444,
              "#bd3786"
             ],
             [
              0.5555555555555556,
              "#d8576b"
             ],
             [
              0.6666666666666666,
              "#ed7953"
             ],
             [
              0.7777777777777778,
              "#fb9f3a"
             ],
             [
              0.8888888888888888,
              "#fdca26"
             ],
             [
              1,
              "#f0f921"
             ]
            ],
            "type": "histogram2dcontour"
           }
          ],
          "mesh3d": [
           {
            "colorbar": {
             "outlinewidth": 0,
             "ticks": ""
            },
            "type": "mesh3d"
           }
          ],
          "parcoords": [
           {
            "line": {
             "colorbar": {
              "outlinewidth": 0,
              "ticks": ""
             }
            },
            "type": "parcoords"
           }
          ],
          "pie": [
           {
            "automargin": true,
            "type": "pie"
           }
          ],
          "scatter": [
           {
            "fillpattern": {
             "fillmode": "overlay",
             "size": 10,
             "solidity": 0.2
            },
            "type": "scatter"
           }
          ],
          "scatter3d": [
           {
            "line": {
             "colorbar": {
              "outlinewidth": 0,
              "ticks": ""
             }
            },
            "marker": {
             "colorbar": {
              "outlinewidth": 0,
              "ticks": ""
             }
            },
            "type": "scatter3d"
           }
          ],
          "scattercarpet": [
           {
            "marker": {
             "colorbar": {
              "outlinewidth": 0,
              "ticks": ""
             }
            },
            "type": "scattercarpet"
           }
          ],
          "scattergeo": [
           {
            "marker": {
             "colorbar": {
              "outlinewidth": 0,
              "ticks": ""
             }
            },
            "type": "scattergeo"
           }
          ],
          "scattergl": [
           {
            "marker": {
             "colorbar": {
              "outlinewidth": 0,
              "ticks": ""
             }
            },
            "type": "scattergl"
           }
          ],
          "scattermapbox": [
           {
            "marker": {
             "colorbar": {
              "outlinewidth": 0,
              "ticks": ""
             }
            },
            "type": "scattermapbox"
           }
          ],
          "scatterpolar": [
           {
            "marker": {
             "colorbar": {
              "outlinewidth": 0,
              "ticks": ""
             }
            },
            "type": "scatterpolar"
           }
          ],
          "scatterpolargl": [
           {
            "marker": {
             "colorbar": {
              "outlinewidth": 0,
              "ticks": ""
             }
            },
            "type": "scatterpolargl"
           }
          ],
          "scatterternary": [
           {
            "marker": {
             "colorbar": {
              "outlinewidth": 0,
              "ticks": ""
             }
            },
            "type": "scatterternary"
           }
          ],
          "surface": [
           {
            "colorbar": {
             "outlinewidth": 0,
             "ticks": ""
            },
            "colorscale": [
             [
              0,
              "#0d0887"
             ],
             [
              0.1111111111111111,
              "#46039f"
             ],
             [
              0.2222222222222222,
              "#7201a8"
             ],
             [
              0.3333333333333333,
              "#9c179e"
             ],
             [
              0.4444444444444444,
              "#bd3786"
             ],
             [
              0.5555555555555556,
              "#d8576b"
             ],
             [
              0.6666666666666666,
              "#ed7953"
             ],
             [
              0.7777777777777778,
              "#fb9f3a"
             ],
             [
              0.8888888888888888,
              "#fdca26"
             ],
             [
              1,
              "#f0f921"
             ]
            ],
            "type": "surface"
           }
          ],
          "table": [
           {
            "cells": {
             "fill": {
              "color": "#EBF0F8"
             },
             "line": {
              "color": "white"
             }
            },
            "header": {
             "fill": {
              "color": "#C8D4E3"
             },
             "line": {
              "color": "white"
             }
            },
            "type": "table"
           }
          ]
         },
         "layout": {
          "annotationdefaults": {
           "arrowcolor": "#2a3f5f",
           "arrowhead": 0,
           "arrowwidth": 1
          },
          "autotypenumbers": "strict",
          "coloraxis": {
           "colorbar": {
            "outlinewidth": 0,
            "ticks": ""
           }
          },
          "colorscale": {
           "diverging": [
            [
             0,
             "#8e0152"
            ],
            [
             0.1,
             "#c51b7d"
            ],
            [
             0.2,
             "#de77ae"
            ],
            [
             0.3,
             "#f1b6da"
            ],
            [
             0.4,
             "#fde0ef"
            ],
            [
             0.5,
             "#f7f7f7"
            ],
            [
             0.6,
             "#e6f5d0"
            ],
            [
             0.7,
             "#b8e186"
            ],
            [
             0.8,
             "#7fbc41"
            ],
            [
             0.9,
             "#4d9221"
            ],
            [
             1,
             "#276419"
            ]
           ],
           "sequential": [
            [
             0,
             "#0d0887"
            ],
            [
             0.1111111111111111,
             "#46039f"
            ],
            [
             0.2222222222222222,
             "#7201a8"
            ],
            [
             0.3333333333333333,
             "#9c179e"
            ],
            [
             0.4444444444444444,
             "#bd3786"
            ],
            [
             0.5555555555555556,
             "#d8576b"
            ],
            [
             0.6666666666666666,
             "#ed7953"
            ],
            [
             0.7777777777777778,
             "#fb9f3a"
            ],
            [
             0.8888888888888888,
             "#fdca26"
            ],
            [
             1,
             "#f0f921"
            ]
           ],
           "sequentialminus": [
            [
             0,
             "#0d0887"
            ],
            [
             0.1111111111111111,
             "#46039f"
            ],
            [
             0.2222222222222222,
             "#7201a8"
            ],
            [
             0.3333333333333333,
             "#9c179e"
            ],
            [
             0.4444444444444444,
             "#bd3786"
            ],
            [
             0.5555555555555556,
             "#d8576b"
            ],
            [
             0.6666666666666666,
             "#ed7953"
            ],
            [
             0.7777777777777778,
             "#fb9f3a"
            ],
            [
             0.8888888888888888,
             "#fdca26"
            ],
            [
             1,
             "#f0f921"
            ]
           ]
          },
          "colorway": [
           "#636efa",
           "#EF553B",
           "#00cc96",
           "#ab63fa",
           "#FFA15A",
           "#19d3f3",
           "#FF6692",
           "#B6E880",
           "#FF97FF",
           "#FECB52"
          ],
          "font": {
           "color": "#2a3f5f"
          },
          "geo": {
           "bgcolor": "white",
           "lakecolor": "white",
           "landcolor": "#E5ECF6",
           "showlakes": true,
           "showland": true,
           "subunitcolor": "white"
          },
          "hoverlabel": {
           "align": "left"
          },
          "hovermode": "closest",
          "mapbox": {
           "style": "light"
          },
          "paper_bgcolor": "white",
          "plot_bgcolor": "#E5ECF6",
          "polar": {
           "angularaxis": {
            "gridcolor": "white",
            "linecolor": "white",
            "ticks": ""
           },
           "bgcolor": "#E5ECF6",
           "radialaxis": {
            "gridcolor": "white",
            "linecolor": "white",
            "ticks": ""
           }
          },
          "scene": {
           "xaxis": {
            "backgroundcolor": "#E5ECF6",
            "gridcolor": "white",
            "gridwidth": 2,
            "linecolor": "white",
            "showbackground": true,
            "ticks": "",
            "zerolinecolor": "white"
           },
           "yaxis": {
            "backgroundcolor": "#E5ECF6",
            "gridcolor": "white",
            "gridwidth": 2,
            "linecolor": "white",
            "showbackground": true,
            "ticks": "",
            "zerolinecolor": "white"
           },
           "zaxis": {
            "backgroundcolor": "#E5ECF6",
            "gridcolor": "white",
            "gridwidth": 2,
            "linecolor": "white",
            "showbackground": true,
            "ticks": "",
            "zerolinecolor": "white"
           }
          },
          "shapedefaults": {
           "line": {
            "color": "#2a3f5f"
           }
          },
          "ternary": {
           "aaxis": {
            "gridcolor": "white",
            "linecolor": "white",
            "ticks": ""
           },
           "baxis": {
            "gridcolor": "white",
            "linecolor": "white",
            "ticks": ""
           },
           "bgcolor": "#E5ECF6",
           "caxis": {
            "gridcolor": "white",
            "linecolor": "white",
            "ticks": ""
           }
          },
          "title": {
           "x": 0.05
          },
          "xaxis": {
           "automargin": true,
           "gridcolor": "white",
           "linecolor": "white",
           "ticks": "",
           "title": {
            "standoff": 15
           },
           "zerolinecolor": "white",
           "zerolinewidth": 2
          },
          "yaxis": {
           "automargin": true,
           "gridcolor": "white",
           "linecolor": "white",
           "ticks": "",
           "title": {
            "standoff": 15
           },
           "zerolinecolor": "white",
           "zerolinewidth": 2
          }
         }
        },
        "width": 600,
        "xaxis": {
         "anchor": "y",
         "domain": [
          0,
          1
         ],
         "range": [
          0,
          128
         ],
         "title": {
          "text": "x"
         }
        },
        "yaxis": {
         "anchor": "x",
         "domain": [
          0,
          1
         ],
         "range": [
          0,
          64
         ],
         "title": {
          "text": "y"
         }
        }
       }
      }
     },
     "metadata": {},
     "output_type": "display_data"
    }
   ],
   "source": [
    "# Filter the DataFrame to include only rows where stimtype is 'loom'\n",
    "filtered_data = pooled_data[(pooled_data['stimtype'] == 'loom')]\n",
    "\n",
    "# Create the scatter plot using the filtered DataFrame\n",
    "fig = px.scatter(\n",
    "    x=filtered_data['x_centroid'],\n",
    "    y=filtered_data['y_centroid']%y_res,\n",
    "    color=filtered_data['plane_depth'],\n",
    "    size=abs(filtered_data['amplitude']),\n",
    "    opacity=filtered_data['size'] / filtered_data['size'].max()\n",
    ")\n",
    "fig.update_layout(width=600, height=300, margin=dict(l=20, r=20, t=20, b=20))\n",
    "fig.update_xaxes(range=[0, 128])\n",
    "fig.update_yaxes(range=[0, 64])\n",
    "fig.show()"
   ]
  },
  {
   "cell_type": "code",
   "execution_count": 34,
   "metadata": {},
   "outputs": [
    {
     "data": {
      "application/vnd.plotly.v1+json": {
       "config": {
        "plotlyServerURL": "https://plot.ly"
       },
       "data": [
        {
         "hovertemplate": "x=%{x}<br>y=%{y}<br>z=%{z}<br>size=%{marker.size}<br>color=%{marker.color}<extra></extra>",
         "legendgroup": "",
         "marker": {
          "color": [
           282.5,
           215,
           282.5,
           282.5,
           215,
           282.5,
           215,
           215,
           147.49999999999997,
           80,
           215,
           282.5,
           80,
           215,
           282.5,
           282.5,
           80,
           147.49999999999997,
           282.5,
           215,
           282.5,
           215,
           80,
           147.49999999999997,
           80,
           215,
           147.49999999999997,
           147.49999999999997,
           282.5,
           282.5,
           80,
           282.5,
           215,
           215,
           147.49999999999997,
           80,
           215,
           282.5,
           215,
           80,
           80,
           147.49999999999997,
           147.49999999999997,
           350,
           80,
           215,
           147.49999999999997,
           350,
           80,
           80,
           147.49999999999997,
           147.49999999999997,
           215,
           80,
           147.49999999999997,
           215,
           80,
           147.49999999999997,
           80,
           147.49999999999997,
           80,
           80,
           147.49999999999997,
           282.5,
           80,
           282.5,
           215,
           147.49999999999997,
           80,
           80,
           80,
           80,
           215,
           215,
           80,
           147.49999999999997,
           350,
           80,
           215,
           215,
           80,
           147.49999999999997,
           215,
           147.49999999999997,
           282.5,
           147.49999999999997,
           147.49999999999997,
           147.49999999999997,
           80,
           147.49999999999997,
           147.49999999999997,
           215,
           80,
           80,
           282.5,
           147.49999999999997,
           282.5,
           350,
           147.49999999999997,
           80,
           80,
           215,
           12.5,
           80,
           80,
           147.49999999999997,
           12.5,
           147.49999999999997,
           215,
           147.49999999999997,
           147.49999999999997,
           147.49999999999997,
           80,
           12.5,
           282.5,
           147.49999999999997,
           80,
           215,
           12.5,
           80,
           282.5,
           282.5,
           350,
           215,
           215,
           80,
           215,
           350,
           282.5,
           80,
           12.5,
           147.49999999999997,
           80,
           80,
           147.49999999999997,
           147.49999999999997,
           147.49999999999997,
           80,
           282.5,
           215,
           147.49999999999997,
           147.49999999999997,
           80,
           12.5,
           80,
           147.49999999999997,
           80,
           80,
           350,
           12.5,
           147.49999999999997,
           147.49999999999997,
           12.5,
           350,
           147.49999999999997,
           12.5,
           215,
           12.5,
           147.49999999999997,
           215,
           80,
           80,
           282.5,
           12.5,
           147.49999999999997,
           80,
           80,
           12.5,
           147.49999999999997,
           12.5,
           12.5,
           215,
           215,
           147.49999999999997,
           147.49999999999997,
           80,
           12.5,
           12.5,
           147.49999999999997,
           12.5,
           12.5,
           12.5,
           147.49999999999997,
           80,
           80,
           12.5,
           147.49999999999997,
           215,
           80,
           80,
           12.5,
           80,
           147.49999999999997,
           80,
           215,
           12.5,
           147.49999999999997,
           80,
           147.49999999999997,
           147.49999999999997,
           12.5,
           350,
           12.5,
           147.49999999999997,
           147.49999999999997,
           147.49999999999997,
           282.5,
           282.5,
           147.49999999999997,
           282.5,
           147.49999999999997,
           215,
           282.5,
           147.49999999999997,
           80,
           147.49999999999997,
           147.49999999999997,
           215,
           12.5,
           282.5,
           282.5,
           147.49999999999997,
           215,
           215,
           215,
           215,
           350,
           350,
           80,
           215,
           147.49999999999997,
           80,
           350,
           350,
           215,
           282.5,
           215,
           147.49999999999997,
           215,
           350,
           80,
           80,
           12.5,
           80,
           215,
           147.49999999999997,
           215,
           147.49999999999997,
           147.49999999999997,
           215,
           80,
           215,
           147.49999999999997,
           215,
           12.5,
           215,
           147.49999999999997,
           147.49999999999997,
           147.49999999999997,
           350,
           147.49999999999997,
           147.49999999999997,
           80,
           111.42857142857144,
           64.28571428571428,
           205.71428571428572,
           158.57142857142858,
           205.71428571428572,
           158.57142857142858,
           205.71428571428572,
           64.28571428571428,
           205.71428571428572,
           252.85714285714286,
           300,
           252.85714285714286,
           158.57142857142858,
           205.71428571428572,
           252.85714285714286,
           158.57142857142858,
           158.57142857142858,
           252.85714285714286,
           158.57142857142858,
           158.57142857142858,
           205.71428571428572,
           252.85714285714286,
           111.42857142857144,
           205.71428571428572,
           300,
           158.57142857142858,
           252.85714285714286,
           158.57142857142858,
           205.71428571428572,
           300,
           300,
           252.85714285714286,
           252.85714285714286,
           158.57142857142858,
           252.85714285714286,
           205.71428571428572,
           252.85714285714286,
           111.42857142857144,
           205.71428571428572,
           252.85714285714286,
           111.42857142857144,
           252.85714285714286,
           158.57142857142858,
           111.42857142857144,
           64.28571428571428,
           300,
           300,
           64.28571428571428,
           252.85714285714286,
           252.85714285714286,
           111.42857142857144,
           158.57142857142858,
           64.28571428571428,
           205.71428571428572,
           158.57142857142858,
           252.85714285714286,
           205.71428571428572,
           300,
           300,
           64.28571428571428,
           252.85714285714286,
           111.42857142857144,
           64.28571428571428,
           205.71428571428572,
           111.42857142857144,
           158.57142857142858,
           64.28571428571428,
           300,
           205.71428571428572,
           64.28571428571428,
           252.85714285714286,
           300,
           111.42857142857144,
           111.42857142857144,
           64.28571428571428,
           158.57142857142858,
           158.57142857142858,
           158.57142857142858,
           111.42857142857144,
           205.71428571428572,
           111.42857142857144,
           111.42857142857144,
           64.28571428571428,
           64.28571428571428,
           300,
           111.42857142857144,
           111.42857142857144,
           205.71428571428572,
           64.28571428571428,
           205.71428571428572,
           111.42857142857144,
           64.28571428571428,
           111.42857142857144,
           205.71428571428572,
           64.28571428571428,
           111.42857142857144,
           252.85714285714286,
           158.57142857142858,
           300,
           64.28571428571428,
           252.85714285714286,
           300,
           64.28571428571428,
           205.71428571428572,
           158.57142857142858,
           158.57142857142858,
           64.28571428571428,
           300,
           158.57142857142858,
           158.57142857142858,
           111.42857142857144,
           205.71428571428572,
           64.28571428571428,
           64.28571428571428,
           111.42857142857144,
           64.28571428571428,
           111.42857142857144,
           64.28571428571428,
           158.57142857142858,
           64.28571428571428,
           252.85714285714286,
           111.42857142857144,
           64.28571428571428,
           111.42857142857144,
           111.42857142857144,
           111.42857142857144,
           64.28571428571428,
           64.28571428571428,
           64.28571428571428,
           64.28571428571428,
           252.85714285714286,
           111.42857142857144,
           205.71428571428572,
           158.57142857142858,
           64.28571428571428,
           111.42857142857144,
           64.28571428571428,
           111.42857142857144,
           64.28571428571428,
           64.28571428571428,
           64.28571428571428,
           300,
           158.57142857142858,
           111.42857142857144,
           158.57142857142858,
           158.57142857142858,
           205.71428571428572,
           111.42857142857144,
           205.71428571428572,
           158.57142857142858,
           158.57142857142858,
           158.57142857142858,
           252.85714285714286,
           158.57142857142858,
           158.57142857142858,
           158.57142857142858,
           158.57142857142858,
           205.71428571428572,
           158.57142857142858,
           111.42857142857144,
           158.57142857142858,
           64.28571428571428,
           205.71428571428572,
           158.57142857142858
          ],
          "coloraxis": "coloraxis",
          "opacity": 1,
          "size": [
           5.169304370880127,
           12.383881568908691,
           2.950728416442871,
           3.2394394874572754,
           5.797037601470947,
           3.491334915161133,
           7.946142196655273,
           4.886739730834961,
           1.9125020503997803,
           3.3031857013702393,
           7.527618885040283,
           11.443883895874023,
           12.023859024047852,
           3.7651724815368652,
           4.667210102081299,
           3.210320472717285,
           8.56594467163086,
           4.915120601654053,
           7.699710845947266,
           8.036958694458008,
           2.5940656661987305,
           3.6015379428863525,
           9.078606605529785,
           5.807929992675781,
           7.813838958740234,
           6.740826606750488,
           5.033555030822754,
           5.155589580535889,
           5.870794296264648,
           2.4510393142700195,
           6.793848991394043,
           2.370922088623047,
           2.040494203567505,
           1.1924554109573364,
           3.8147363662719727,
           7.512545585632324,
           3.153862476348877,
           3.153406858444214,
           3.7181663513183594,
           1.3715648651123047,
           5.23274040222168,
           7.05785608291626,
           8.04429817199707,
           2.0187594890594482,
           8.931599617004395,
           7.49365758895874,
           3.4916868209838867,
           6.199788570404053,
           2.2870779037475586,
           4.313973903656006,
           2.5498993396759033,
           3.401005744934082,
           3.1473445892333984,
           13.06863021850586,
           3.723160743713379,
           4.4050798416137695,
           1.2482943534851074,
           5.678144931793213,
           8.555618286132812,
           3.2191731929779053,
           4.379782676696777,
           5.99501371383667,
           5.673834800720215,
           3.87705659866333,
           3.166658401489258,
           6.596050262451172,
           3.289698362350464,
           4.50327730178833,
           4.914271354675293,
           2.5276129245758057,
           6.2993903160095215,
           5.266557216644287,
           2.6258962154388428,
           2.2089667320251465,
           10.896867752075195,
           4.7524919509887695,
           4.208785057067871,
           2.406562566757202,
           2.747075319290161,
           4.499538421630859,
           8.853349685668945,
           8.36544418334961,
           2.0144007205963135,
           5.347407817840576,
           4.062931060791016,
           5.009930610656738,
           2.1875758171081543,
           2.7065038681030273,
           4.224015235900879,
           3.115090847015381,
           2.7167513370513916,
           3.534064292907715,
           1.9568346738815308,
           7.697083950042725,
           2.1127634048461914,
           1.908861756324768,
           2.809307098388672,
           1.8413865566253662,
           1.3343356847763062,
           3.771310329437256,
           2.9705162048339844,
           4.7913360595703125,
           6.59982967376709,
           4.633951187133789,
           3.77087664604187,
           2.163646697998047,
           2.280345916748047,
           1.3037140369415283,
           6.746522426605225,
           2.463197708129883,
           5.190887451171875,
           1.6445045471191406,
           3.178708791732788,
           10.845022201538086,
           3.0011463165283203,
           3.260023355484009,
           6.232069969177246,
           1.9530963897705078,
           5.574817180633545,
           12.015569686889648,
           2.1008105278015137,
           2.1519010066986084,
           7.758929252624512,
           2.712942600250244,
           1.4625532627105713,
           3.002321720123291,
           3.7679591178894043,
           8.058732986450195,
           2.5599160194396973,
           3.286634922027588,
           3.9463322162628174,
           2.551621437072754,
           5.229525566101074,
           2.7006728649139404,
           4.463506698608398,
           1.981055498123169,
           2.2995901107788086,
           4.195960521697998,
           3.168302059173584,
           2.4259533882141113,
           2.317641496658325,
           1.6495935916900635,
           2.7324047088623047,
           3.417587995529175,
           2.873077869415283,
           4.743292808532715,
           1.8179482221603394,
           9.637219429016113,
           3.9708707332611084,
           3.5646276473999023,
           2.6073691844940186,
           4.194862365722656,
           5.25830078125,
           1.4195549488067627,
           2.395747661590576,
           3.1688411235809326,
           2.665182113647461,
           5.748525619506836,
           3.3181447982788086,
           3.217630624771118,
           4.845697402954102,
           4.48604679107666,
           4.200050354003906,
           4.783515930175781,
           4.3628716468811035,
           4.476266860961914,
           4.191478252410889,
           1.3493549823760986,
           3.640451431274414,
           3.090762138366699,
           5.502739906311035,
           1.8413883447647095,
           4.186521530151367,
           1.8507304191589355,
           2.7128262519836426,
           3.679513692855835,
           3.0356264114379883,
           4.687291622161865,
           5.075215816497803,
           2.457689046859741,
           2.463624954223633,
           2.873380661010742,
           2.55540132522583,
           1.8516969680786133,
           4.064118385314941,
           6.108698844909668,
           3.4881181716918945,
           7.490363597869873,
           3.007474899291992,
           2.37526798248291,
           3.0951449871063232,
           1.3601651191711426,
           5.565934181213379,
           4.540031433105469,
           5.631135940551758,
           1.406055212020874,
           1.8646456003189087,
           1.6161913871765137,
           2.1331489086151123,
           1.8372809886932373,
           1.6018683910369873,
           1.9668406248092651,
           3.98795747756958,
           2.698657751083374,
           3.463099718093872,
           1.6835191249847412,
           1.7654469013214111,
           1.3769469261169434,
           2.1410298347473145,
           1.382291316986084,
           2.245408535003662,
           2.8543806076049805,
           2.00704026222229,
           2.6072466373443604,
           2.0921385288238525,
           2.6395506858825684,
           1.702498435974121,
           2.0562102794647217,
           4.13962984085083,
           3.2773163318634033,
           2.076881170272827,
           2.2357566356658936,
           1.6520999670028687,
           1.7550063133239746,
           1.1863213777542114,
           1.5230005979537964,
           2.177032947540283,
           1.852301836013794,
           2.7436234951019287,
           2.349181890487671,
           2.605241537094116,
           2.1675291061401367,
           2.6808388233184814,
           1.900883436203003,
           1.7617073059082031,
           3.2664794921875,
           2.079862594604492,
           2.276158332824707,
           1.2729511260986328,
           2.1374053955078125,
           1.6231316328048706,
           2.1052796840667725,
           4.004675388336182,
           3.9484729766845703,
           1.6612704992294312,
           1.6466552019119263,
           1.6339324712753296,
           1.5829544067382812,
           1.4080432653427124,
           1.9932032823562622,
           1.8510817289352417,
           2.0124740600585938,
           2.381505250930786,
           1.1874992847442627,
           2.230038642883301,
           1.585217833518982,
           1.5347082614898682,
           1.6363837718963623,
           1.608621597290039,
           1.3083693981170654,
           1.2846870422363281,
           1.339192509651184,
           1.5670742988586426,
           6.324082374572754,
           7.879327297210693,
           2.2194252014160156,
           4.034290313720703,
           2.048654556274414,
           2.5911288261413574,
           2.081116199493408,
           3.1578445434570312,
           2.577709674835205,
           2.853485584259033,
           2.5698492527008057,
           5.008662223815918,
           2.9166715145111084,
           2.1685826778411865,
           2.164595127105713,
           2.248283863067627,
           1.7447185516357422,
           3.979320526123047,
           2.985757827758789,
           2.345137119293213,
           4.582559585571289,
           2.618785858154297,
           1.592836856842041,
           1.669305682182312,
           3.6112325191497803,
           2.7951884269714355,
           4.29364013671875,
           5.4765143394470215,
           1.630215048789978,
           2.7237327098846436,
           2.566000461578369,
           2.424107074737549,
           3.207157611846924,
           2.79160475730896,
           2.661994695663452,
           3.2067928314208984,
           7.354093074798584,
           1.5628619194030762,
           6.226010799407959,
           2.7508788108825684,
           4.543268203735352,
           2.1498677730560303,
           2.6870510578155518,
           3.0222585201263428,
           2.466195583343506,
           3.199709177017212,
           2.9454402923583984,
           2.5961780548095703,
           2.2380144596099854,
           1.8544251918792725,
           3.3358325958251953,
           2.1321654319763184,
           3.8021323680877686,
           3.5843327045440674,
           2.8707144260406494,
           4.1882643699646,
           5.241052150726318,
           3.04020357131958,
           1.7295022010803223,
           2.4085001945495605,
           1.7408779859542847,
           2.194495677947998,
           4.399595737457275,
           2.993133068084717,
           4.2872443199157715,
           5.006648540496826,
           2.9871647357940674,
           2.587631940841675,
           1.7797741889953613,
           2.6300339698791504,
           1.686025619506836,
           3.1972689628601074,
           2.3060193061828613,
           3.9733664989471436,
           1.8252102136611938,
           6.92498254776001,
           2.5223276615142822,
           1.8403359651565552,
           2.2297523021698,
           3.4204211235046387,
           2.621213674545288,
           2.1082987785339355,
           2.6160075664520264,
           1.9881889820098877,
           3.382476806640625,
           3.196110725402832,
           1.8167510032653809,
           2.2539188861846924,
           2.5947861671447754,
           2.522824764251709,
           2.0367279052734375,
           2.6183557510375977,
           1.8798216581344604,
           2.9210574626922607,
           2.231522798538208,
           3.0154166221618652,
           1.939871072769165,
           2.3246500492095947,
           2.284992218017578,
           3.0066747665405273,
           3.013489246368408,
           2.032348871231079,
           2.0551059246063232,
           3.103823184967041,
           3.415076732635498,
           1.9342265129089355,
           1.9166014194488525,
           1.3681135177612305,
           2.5352160930633545,
           1.9521081447601318,
           3.111802101135254,
           3.3702661991119385,
           1.8598175048828125,
           1.3087539672851562,
           1.867518424987793,
           6.470756530761719,
           1.8604965209960938,
           3.445770263671875,
           1.8307206630706787,
           2.476318120956421,
           1.5649781227111816,
           1.9588967561721802,
           2.737668991088867,
           1.7745699882507324,
           1.8874471187591553,
           1.5436556339263916,
           3.3120579719543457,
           3.0962271690368652,
           3.9452879428863525,
           4.718228816986084,
           2.4992153644561768,
           2.4848597049713135,
           2.594182252883911,
           2.0824949741363525,
           2.0387675762176514,
           1.6464312076568604,
           2.6992855072021484,
           2.132127046585083,
           2.1780388355255127,
           2.4274158477783203,
           2.020237445831299,
           2.617258310317993,
           1.9422029256820679,
           1.859022617340088,
           1.5731282234191895,
           1.8526962995529175,
           2.8675284385681152,
           1.981490135192871,
           2.018667459487915,
           1.9213004112243652,
           2.1712212562561035,
           2.6641571521759033,
           1.2665786743164062,
           1.4999054670333862,
           3.0421526432037354,
           2.1246163845062256,
           2.5304219722747803,
           2.3631091117858887,
           3.4632339477539062,
           2.1580982208251953,
           1.2600836753845215,
           2.7673020362854004,
           1.6688361167907715,
           1.8184752464294434
          ],
          "sizemode": "area",
          "sizeref": 0.032671575546264646,
          "symbol": "circle"
         },
         "mode": "markers",
         "name": "",
         "scene": "scene",
         "showlegend": false,
         "type": "scatter3d",
         "x": [
          352.2734375,
          368.046875,
          415.3671875,
          391.1134072580645,
          352.2734375,
          330.71640625,
          336.5,
          436.3984375,
          357.53125,
          294.4375,
          410.9619932432432,
          439.02734375,
          162.9921875,
          168.25,
          456.15076013513516,
          168.70066964285715,
          135.28209459459458,
          341.7578125,
          390.5120738636363,
          130.59269425675677,
          206.96661931818184,
          312.83984375,
          271.85983455882354,
          120.9296875,
          173.92290296052633,
          378.32350852272725,
          105.15625,
          136.703125,
          453.87293198529414,
          135.58783143939394,
          125.41429227941175,
          389.36233108108104,
          424.4223090277778,
          220.828125,
          368.2164818548387,
          190.8276654411765,
          458.8636363636363,
          416.32315340909093,
          289.3079268292683,
          152.4765625,
          157.734375,
          325.8460115131579,
          131.4453125,
          411.49300986842104,
          268.44888392857143,
          107.78515625,
          385.36672794117646,
          419.37972861842104,
          327.06290064102564,
          126.1875,
          189.28125,
          324.5504261363636,
          405.14366319444446,
          190.05445772058823,
          126.1875,
          334.57213541666664,
          299.8649193548387,
          153.93706597222223,
          151.53285256410257,
          108.98011363636363,
          205.0546875,
          261.4566761363636,
          178.61957465277777,
          310.2109375,
          152.4765625,
          373.3046875,
          99.8984375,
          148.67925347222223,
          177.451171875,
          147.21875,
          126.03285845588235,
          173.83642578125,
          194.5390625,
          309.296535326087,
          207.08996975806454,
          298.2742820945946,
          442.59995993589746,
          101.47578125,
          375.2763671875,
          390.32998511904765,
          238.6462673611111,
          115.671875,
          249.74609375,
          158.90277777777777,
          481.64749053030306,
          140.30057565789474,
          241.859375,
          377.5109375,
          98.25537109375,
          99.02213541666666,
          164.45269097222223,
          134.7314453125,
          312.83984375,
          224.38986895161293,
          257.3560855263158,
          347.72614020270265,
          446.2767518939394,
          399.1674408783784,
          120.9296875,
          253.60182291666666,
          150.95010080645162,
          115.81023848684211,
          157.734375,
          295.13854166666664,
          189.28125,
          82.8503787878788,
          252.375,
          204.266015625,
          486.01904296875,
          356.4159564393939,
          84.89820772058825,
          336.5,
          184.0234375,
          199.796875,
          110.86473214285714,
          220.65286458333335,
          206.13321314102564,
          80.674560546875,
          169.95878906250002,
          304.10509072580646,
          230.13040865384613,
          147.72757056451613,
          453.39869791666666,
          162.6735321969697,
          269.5052923387097,
          333.1078629032258,
          474.5599798387097,
          444.28515625,
          287.4270833333333,
          119.12700892857144,
          192.08541666666665,
          273.28106398809524,
          235.92748397435895,
          238.6462673611111,
          198.33637152777777,
          141.71056547619048,
          347.015625,
          96.74374999999999,
          171.90125868055554,
          254.82864583333335,
          168.25,
          312.60085227272725,
          255.19168526785714,
          233.97265625,
          185.9951171875,
          202.9515625,
          226.0859375,
          234.26475694444446,
          456.30301339285717,
          168.25,
          411.80544354838713,
          214.46340460526315,
          134.3835018382353,
          417.733203125,
          311.9635416666667,
          131.4453125,
          142.81355574324323,
          168.42526041666665,
          304.10509072580646,
          127.501953125,
          338.9536458333333,
          266.34575892857146,
          178.47352430555554,
          226.0859375,
          176.76264880952382,
          215.5703125,
          269.16607862903226,
          287.53662109375,
          89.3828125,
          218.04457720588235,
          247.59517045454547,
          121.53058035714285,
          161.12651209677418,
          254.478125,
          70.60491071428572,
          220.828125,
          193.48749999999998,
          142.64673913043478,
          398.01640625,
          190.26708984375,
          195.38709677419357,
          255.496826171875,
          178.765625,
          215.5703125,
          174.86466733870967,
          218.57477678571428,
          281.29296875,
          174.69506048387098,
          212.94140625,
          124.7153125,
          132.83708639705884,
          351.50022977941177,
          180.16770833333334,
          232.74583333333334,
          156.31881009615384,
          194.5390625,
          268.3431712962963,
          143.0125,
          286.25868055555554,
          121.40767045454545,
          298.67767137096774,
          213.42824074074076,
          108.52125000000001,
          249.74609375,
          222.40546874999998,
          334.5283203125,
          168.25,
          483.71875,
          187.02790178571428,
          144.26123046875,
          235.85044642857142,
          357.53125,
          502.8380681818182,
          98.70348011363637,
          291.80859375,
          226.0859375,
          205.0546875,
          222.93125,
          237.76996527777777,
          515.265625,
          427.63541666666663,
          189.28125,
          208.998046875,
          438.6517857142857,
          352.2734375,
          347.015625,
          184.16554054054052,
          373.1350806451613,
          204.561767578125,
          354.5267857142857,
          168.25,
          231.34375,
          441.65625,
          153.61338682432432,
          122.30129076086956,
          107.03404017857143,
          97.96134868421052,
          274.64338235294116,
          394.3359375,
          396.08854166666663,
          111.728515625,
          233.3659855769231,
          268.411328125,
          294.4375,
          194.5390625,
          382.06770833333337,
          205.0546875,
          271.6536458333333,
          336.5,
          499.4921875,
          322.4791666666667,
          228.71484375,
          290.9322916666667,
          218.19921875,
          147.21875,
          164.74479166666666,
          194.5390625,
          233.97265625,
          315.46875,
          462.6875,
          199.796875,
          210.3125,
          168.25,
          515.265625,
          478.4609375,
          557.328125,
          557.328125,
          515.79140625,
          510.0078125,
          496.86328125,
          448.98532196969694,
          535.8329503676471,
          459.9039522058823,
          473.203125,
          490.05508814102564,
          535.8705658783783,
          441.78143601190476,
          484.59505208333337,
          450.62545955882354,
          484.182674632353,
          373.3046875,
          423.6294642857143,
          534.7035984848485,
          367.1455357142857,
          452.993408203125,
          441.65625,
          471.97630208333334,
          501.03860294117646,
          429.91380208333334,
          532.61640625,
          368.046875,
          543.1479640151515,
          160.36328125,
          527.2834821428572,
          541.5546875,
          560.4828125,
          192.20225694444446,
          512.63671875,
          341.3071428571428,
          102.00156249999999,
          474.76625844594594,
          391.92018581081084,
          398.82054227941177,
          99.8984375,
          518.3185483870967,
          128.48779296875,
          73.05592105263158,
          400.3903882575758,
          456.90390625000003,
          500.36848958333337,
          98.95472756410257,
          345.93709935897436,
          537.6488839285714,
          99.19739583333333,
          339.04410282258067,
          283.79668898809524,
          428.51171875,
          401.1202116935484,
          420.3063446969697,
          413.4552556818182,
          80.61979166666667,
          523.678125,
          189.13519965277777,
          571.2815504807693,
          392.94416360294116,
          105.3258568548387,
          320.5881990131579,
          85.02633928571429,
          403.20849609375,
          325.984375,
          557.7787946428572,
          387.0428427419355,
          152.8708984375,
          319.9754464285714,
          395.21223958333337,
          137.196044921875,
          109.2122767857143,
          249.18844696969694,
          336.1813446969697,
          359.28385416666663,
          369.79947916666663,
          116.75436580882354,
          376.42042824074076,
          369.79947916666663,
          228.3165246212121,
          219.513671875,
          291.25094696969694,
          437.17164522058823,
          131.30320945945945,
          345.701171875,
          259.17922794117646,
          73.773681640625,
          299.1319754464286,
          323.4461206896552,
          206.204833984375,
          357.3766084558823,
          63.09375,
          136.23920036764704,
          323.848388671875,
          436.73765120967744,
          318.6234375,
          462.24934895833337,
          165.62109375,
          489.5951286764706,
          553.2971354166667,
          227.0419034090909,
          101.06684027777777,
          93.28377016129032,
          231.69427083333335,
          171.00409226190476,
          416.94453125,
          396.96484375,
          389.078125,
          492.68795955882354,
          589.5123106060606,
          452.0370592948718,
          435.62522977941177,
          542.0635080645161,
          492.6069568452381,
          488.8417467948718,
          536.296875,
          524.2790178571428,
          482.239990234375,
          582.1961570945946,
          414.09256628787875,
          434.591064453125,
          428.21961805555554,
          482.04580965909093,
          530.6885416666667,
          141.23068576388889,
          102.60700757575758,
          124.2158203125,
          390.77419354838713,
          69.22786458333333,
          80.03559027777777,
          70.98046875,
          79.91875,
          79.55298913043478,
          185.77604166666669,
          181.04401041666665,
          274.78988486842104,
          89.73333333333333,
          176.56073588709677,
          83.59921875,
          561.7096354166666,
          85.439453125,
          229.59114583333331,
          394.3359375,
          157.734375,
          80.61979166666667,
          68.3515625,
          21.03125,
          83.1690340909091,
          81.49609375,
          102.52734375,
          550.9019097222222,
          323.35546875,
          67.94711538461539,
          28.91796875,
          283.921875,
          63.09375,
          362.7890625,
          171.75520833333331,
          425.8828125,
          222.58072916666669,
          113.04296875,
          368.046875
         ],
         "y": [
          247.1171875,
          189.28125,
          162.9921875,
          154.34223790322582,
          215.5703125,
          265.87005208333335,
          247.1171875,
          147.21875,
          141.9609375,
          141.9609375,
          124.76646959459458,
          144.58984375,
          162.9921875,
          294.4375,
          126.89801520270271,
          307.65714285714284,
          146.36613175675677,
          184.0234375,
          214.13636363636363,
          293.4427787162162,
          307.82102272727275,
          265.51953125,
          158.5075827205883,
          194.5390625,
          130.2000411184211,
          127.62144886363633,
          226.0859375,
          257.6328125,
          181.0852481617647,
          296.82741477272725,
          175.0542279411764,
          188.8549408783784,
          180.2261284722222,
          294.4375,
          206.41154233870964,
          184.7966452205883,
          130.01136363636368,
          124.27556818181819,
          277.6381478658537,
          178.765625,
          203.01940524193554,
          158.70291940789468,
          157.734375,
          178.9039884868422,
          124.38482142857136,
          276.03515625,
          130.6721047794117,
          151.36965460526312,
          138.5905448717949,
          210.3125,
          262.890625,
          206.4886363636364,
          205.6388888888889,
          108.8676470588236,
          241.859375,
          197.34322916666665,
          72.93094758064518,
          135.2426215277778,
          99.76362179487181,
          269.58238636363643,
          220.828125,
          180.1995738636364,
          80.32769097222219,
          283.39609375,
          136.703125,
          266.833984375,
          241.859375,
          224.6254340277778,
          233.3154296875,
          173.5078125,
          121.23897058823532,
          78.045654296875,
          276.03515625,
          236.6015625,
          147.5579637096774,
          179.61824324324323,
          99.76362179487167,
          150.02291666666665,
          250.567626953125,
          226.33630952380955,
          154.81336805555563,
          131.4453125,
          281.29296875,
          185.62999131944437,
          166.3380681818182,
          104.32606907894734,
          241.859375,
          172.45625000000007,
          183.859130859375,
          169.4184027777778,
          285.3823784722222,
          252.375,
          176.13671875,
          193.86063508064518,
          295.68277138157896,
          114.39294763513507,
          96.71188446969697,
          211.1651182432434,
          247.1171875,
          206.2815104166666,
          244.57308467741942,
          195.922697368421,
          162.9921875,
          201.5494791666667,
          162.9921875,
          240.7440814393939,
          147.21875,
          299.0380859375,
          125.85888671875,
          88.42684659090907,
          197.63189338235296,
          136.703125,
          157.734375,
          136.703125,
          283.0205357142857,
          264.46796875000007,
          80.7546073717949,
          266.833984375,
          133.5484374999999,
          109.90524193548389,
          300.09975961538464,
          273.06703629032256,
          78.34140624999988,
          265.43986742424244,
          305.4619455645161,
          205.73311491935482,
          164.34904233870972,
          140.38359374999993,
          284.7981770833333,
          241.55892857142862,
          179.46666666666664,
          232.97116815476184,
          63.36338141025637,
          250.4763454861111,
          233.3884548611111,
          298.1930803571429,
          238.737548828125,
          219.4260416666666,
          198.04427083333331,
          258.50911458333337,
          249.74609375,
          232.61837121212125,
          234.53599330357144,
          123.55859375,
          55.20703125,
          99.63554687499995,
          173.5078125,
          119.615234375,
          175.3856026785713,
          98.43793402777781,
          147.38835685483872,
          66.41447368421048,
          142.73414522058812,
          126.71328125000012,
          140.8655598958333,
          180.080078125,
          141.9609375,
          203.47734374999993,
          263.0602318548387,
          167.099853515625,
          115.14609375000003,
          98.09575892857136,
          276.32725694444446,
          165.62109375,
          162.24107142857144,
          170.87890625,
          66.99470766129036,
          152.14794921875,
          144.58984375,
          102.21806066176468,
          191.35250946969688,
          221.87968750000002,
          119.74243951612907,
          57.57304687499994,
          170.12779017857144,
          73.609375,
          114.62031250000005,
          114.75747282608701,
          117.24921875000005,
          225.75732421875,
          85.14264112903223,
          103.51318359375,
          56.78437500000006,
          68.3515625,
          273.74546370967744,
          205.95602678571433,
          202.42578125,
          101.25529233870971,
          50.27783203125,
          96.1128125,
          211.54963235294125,
          173.35317095588235,
          209.96197916666668,
          99.54791666666668,
          199.39242788461536,
          157.734375,
          178.3761574074074,
          272.70520833333336,
          60.17274305555562,
          87.47088068181813,
          135.68548387096777,
          244.19618055555563,
          180.44812499999998,
          215.5703125,
          208.9104166666666,
          257.6328125,
          228.71484375,
          136.703125,
          132.9475446428571,
          214.255859375,
          49.57366071428565,
          147.21875,
          188.80326704545453,
          111.13103693181813,
          52.578125,
          36.8046875,
          52.578125,
          119.87812499999998,
          75.36197916666657,
          173.5078125,
          40.309895833333336,
          63.09375,
          82.810546875,
          100.79977678571431,
          236.6015625,
          231.34375,
          263.7432432432434,
          237.7888104838711,
          258.947265625,
          272.65513392857144,
          126.1875,
          178.765625,
          194.046142578125,
          276.6746199324324,
          123.67289402173913,
          195.66573660714286,
          173.78453947368422,
          270.6227022058823,
          109.53776041666664,
          161.23958333333343,
          258.2900390625,
          33.973557692307644,
          210.3125,
          36.8046875,
          187.77901785714283,
          224.3333333333333,
          94.640625,
          77.11458333333329,
          102.52734375,
          170.87890625,
          238.3541666666667,
          68.3515625,
          140.2083333333333,
          73.609375,
          252.375,
          233.09635416666663,
          152.4765625,
          78.8671875,
          31.546875,
          157.734375,
          141.9609375,
          189.28125,
          289.1796875,
          168.25,
          152.4765625,
          173.5078125,
          178.765625,
          178.765625,
          162.9921875,
          155.10546875,
          152.4765625,
          150.77550551470594,
          164.38396139705875,
          162.9921875,
          176.8782051282051,
          203.34945101351352,
          187.65383184523816,
          143.18776041666675,
          167.47679227941177,
          152.7858455882353,
          294.4375,
          184.92477678571427,
          148.1747159090909,
          282.5698660714285,
          196.5107421875,
          136.703125,
          143.36302083333325,
          184.7966452205883,
          154.40442708333333,
          209.6552734375,
          257.6328125,
          205.3733428030303,
          268.8056640625,
          205.95602678571433,
          157.734375,
          195.59062499999993,
          322.33311631944446,
          197.16796875,
          294.28727678571437,
          226.6117187500001,
          139.68728885135133,
          264.31165540540536,
          278.8187040441175,
          273.40625,
          156.37752016129036,
          320.562255859375,
          261.3686266447369,
          151.3612689393939,
          187.5286458333333,
          149.49713541666668,
          273.40625,
          303.0657051282051,
          127.6897321428571,
          307.7572916666667,
          252.375,
          161.36476934523816,
          212.94140625,
          195.04788306451613,
          257.792140151515,
          238.03551136363626,
          294.1453993055556,
          139.85781249999997,
          167.5197482638889,
          148.22986778846146,
          151.85799632352936,
          312.4158266129032,
          309.65748355263156,
          229.09040178571428,
          238.5732421875,
          173.5078125,
          195.44040178571433,
          233.54863911290332,
          152.60800781250003,
          313.51584821428577,
          279.18984374999997,
          316.290283203125,
          214.3685267857143,
          177.96898674242422,
          285.6744791666667,
          276.9114583333333,
          229.240625,
          186.80698529411765,
          318.0002893518518,
          163.94815340909093,
          238.51349431818178,
          210.8967013888889,
          195.81368371212125,
          236.9108455882353,
          262.7485219594594,
          179.05772569444446,
          317.9430147058825,
          294.601806640625,
          307.3942522321429,
          182.3917025862069,
          96.94091796875,
          243.7150735294118,
          320.7265625,
          268.4577205882353,
          255.00390625,
          225.7467237903226,
          299.16953125,
          218.19921875,
          105.77481617647062,
          223.7663143382353,
          140.7341145833334,
          128.57741477272734,
          319.5581597222222,
          304.10509072580646,
          308.4583333333333,
          254.87872023809527,
          261.31328124999993,
          162.9921875,
          273.40625,
          151.7033547794118,
          189.75923295454533,
          195.48277243589746,
          129.8988970588236,
          156.88634072580646,
          126.31268601190473,
          195.48277243589746,
          110.4140625,
          187.77901785714286,
          191.088623046875,
          184.8760557432434,
          130.48934659090907,
          216.55615234375,
          168.1039496527778,
          114.47691761363633,
          194.5390625,
          185.1918402777778,
          235.64559659090907,
          211.29833984375,
          244.40347782258058,
          324.2317708333334,
          200.67317708333337,
          261.1380208333334,
          204.00312499999998,
          256.2612092391304,
          274.28255208333337,
          195.7658854166666,
          260.1233552631579,
          211.36406249999993,
          223.03301411290317,
          322.30390625000007,
          116.84027777777781,
          161.677734375,
          33.29947916666664,
          217.5419921875,
          76.23828125,
          179.9340277777778,
          220.828125,
          239.23046875,
          268.6264204545455,
          321.6028645833333,
          218.19921875,
          99.31423611111124,
          265.51953125,
          293.6286057692308,
          289.1796875,
          299.6953125,
          178.765625,
          294.4375,
          254.12760416666663,
          236.6015625,
          66.59895833333329,
          310.2109375,
          194.5390625
         ],
         "z": [
          -282.5,
          -215,
          -282.5,
          -282.5,
          -215,
          -282.5,
          -215,
          -215,
          -147.49999999999997,
          -80,
          -215,
          -282.5,
          -80,
          -215,
          -282.5,
          -282.5,
          -80,
          -147.49999999999997,
          -282.5,
          -215,
          -282.5,
          -215,
          -80,
          -147.49999999999997,
          -80,
          -215,
          -147.49999999999997,
          -147.49999999999997,
          -282.5,
          -282.5,
          -80,
          -282.5,
          -215,
          -215,
          -147.49999999999997,
          -80,
          -215,
          -282.5,
          -215,
          -80,
          -80,
          -147.49999999999997,
          -147.49999999999997,
          -350,
          -80,
          -215,
          -147.49999999999997,
          -350,
          -80,
          -80,
          -147.49999999999997,
          -147.49999999999997,
          -215,
          -80,
          -147.49999999999997,
          -215,
          -80,
          -147.49999999999997,
          -80,
          -147.49999999999997,
          -80,
          -80,
          -147.49999999999997,
          -282.5,
          -80,
          -282.5,
          -215,
          -147.49999999999997,
          -80,
          -80,
          -80,
          -80,
          -215,
          -215,
          -80,
          -147.49999999999997,
          -350,
          -80,
          -215,
          -215,
          -80,
          -147.49999999999997,
          -215,
          -147.49999999999997,
          -282.5,
          -147.49999999999997,
          -147.49999999999997,
          -147.49999999999997,
          -80,
          -147.49999999999997,
          -147.49999999999997,
          -215,
          -80,
          -80,
          -282.5,
          -147.49999999999997,
          -282.5,
          -350,
          -147.49999999999997,
          -80,
          -80,
          -215,
          -12.5,
          -80,
          -80,
          -147.49999999999997,
          -12.5,
          -147.49999999999997,
          -215,
          -147.49999999999997,
          -147.49999999999997,
          -147.49999999999997,
          -80,
          -12.5,
          -282.5,
          -147.49999999999997,
          -80,
          -215,
          -12.5,
          -80,
          -282.5,
          -282.5,
          -350,
          -215,
          -215,
          -80,
          -215,
          -350,
          -282.5,
          -80,
          -12.5,
          -147.49999999999997,
          -80,
          -80,
          -147.49999999999997,
          -147.49999999999997,
          -147.49999999999997,
          -80,
          -282.5,
          -215,
          -147.49999999999997,
          -147.49999999999997,
          -80,
          -12.5,
          -80,
          -147.49999999999997,
          -80,
          -80,
          -350,
          -12.5,
          -147.49999999999997,
          -147.49999999999997,
          -12.5,
          -350,
          -147.49999999999997,
          -12.5,
          -215,
          -12.5,
          -147.49999999999997,
          -215,
          -80,
          -80,
          -282.5,
          -12.5,
          -147.49999999999997,
          -80,
          -80,
          -12.5,
          -147.49999999999997,
          -12.5,
          -12.5,
          -215,
          -215,
          -147.49999999999997,
          -147.49999999999997,
          -80,
          -12.5,
          -12.5,
          -147.49999999999997,
          -12.5,
          -12.5,
          -12.5,
          -147.49999999999997,
          -80,
          -80,
          -12.5,
          -147.49999999999997,
          -215,
          -80,
          -80,
          -12.5,
          -80,
          -147.49999999999997,
          -80,
          -215,
          -12.5,
          -147.49999999999997,
          -80,
          -147.49999999999997,
          -147.49999999999997,
          -12.5,
          -350,
          -12.5,
          -147.49999999999997,
          -147.49999999999997,
          -147.49999999999997,
          -282.5,
          -282.5,
          -147.49999999999997,
          -282.5,
          -147.49999999999997,
          -215,
          -282.5,
          -147.49999999999997,
          -80,
          -147.49999999999997,
          -147.49999999999997,
          -215,
          -12.5,
          -282.5,
          -282.5,
          -147.49999999999997,
          -215,
          -215,
          -215,
          -215,
          -350,
          -350,
          -80,
          -215,
          -147.49999999999997,
          -80,
          -350,
          -350,
          -215,
          -282.5,
          -215,
          -147.49999999999997,
          -215,
          -350,
          -80,
          -80,
          -12.5,
          -80,
          -215,
          -147.49999999999997,
          -215,
          -147.49999999999997,
          -147.49999999999997,
          -215,
          -80,
          -215,
          -147.49999999999997,
          -215,
          -12.5,
          -215,
          -147.49999999999997,
          -147.49999999999997,
          -147.49999999999997,
          -350,
          -147.49999999999997,
          -147.49999999999997,
          -80,
          -111.42857142857144,
          -64.28571428571428,
          -205.71428571428572,
          -158.57142857142858,
          -205.71428571428572,
          -158.57142857142858,
          -205.71428571428572,
          -64.28571428571428,
          -205.71428571428572,
          -252.85714285714286,
          -300,
          -252.85714285714286,
          -158.57142857142858,
          -205.71428571428572,
          -252.85714285714286,
          -158.57142857142858,
          -158.57142857142858,
          -252.85714285714286,
          -158.57142857142858,
          -158.57142857142858,
          -205.71428571428572,
          -252.85714285714286,
          -111.42857142857144,
          -205.71428571428572,
          -300,
          -158.57142857142858,
          -252.85714285714286,
          -158.57142857142858,
          -205.71428571428572,
          -300,
          -300,
          -252.85714285714286,
          -252.85714285714286,
          -158.57142857142858,
          -252.85714285714286,
          -205.71428571428572,
          -252.85714285714286,
          -111.42857142857144,
          -205.71428571428572,
          -252.85714285714286,
          -111.42857142857144,
          -252.85714285714286,
          -158.57142857142858,
          -111.42857142857144,
          -64.28571428571428,
          -300,
          -300,
          -64.28571428571428,
          -252.85714285714286,
          -252.85714285714286,
          -111.42857142857144,
          -158.57142857142858,
          -64.28571428571428,
          -205.71428571428572,
          -158.57142857142858,
          -252.85714285714286,
          -205.71428571428572,
          -300,
          -300,
          -64.28571428571428,
          -252.85714285714286,
          -111.42857142857144,
          -64.28571428571428,
          -205.71428571428572,
          -111.42857142857144,
          -158.57142857142858,
          -64.28571428571428,
          -300,
          -205.71428571428572,
          -64.28571428571428,
          -252.85714285714286,
          -300,
          -111.42857142857144,
          -111.42857142857144,
          -64.28571428571428,
          -158.57142857142858,
          -158.57142857142858,
          -158.57142857142858,
          -111.42857142857144,
          -205.71428571428572,
          -111.42857142857144,
          -111.42857142857144,
          -64.28571428571428,
          -64.28571428571428,
          -300,
          -111.42857142857144,
          -111.42857142857144,
          -205.71428571428572,
          -64.28571428571428,
          -205.71428571428572,
          -111.42857142857144,
          -64.28571428571428,
          -111.42857142857144,
          -205.71428571428572,
          -64.28571428571428,
          -111.42857142857144,
          -252.85714285714286,
          -158.57142857142858,
          -300,
          -64.28571428571428,
          -252.85714285714286,
          -300,
          -64.28571428571428,
          -205.71428571428572,
          -158.57142857142858,
          -158.57142857142858,
          -64.28571428571428,
          -300,
          -158.57142857142858,
          -158.57142857142858,
          -111.42857142857144,
          -205.71428571428572,
          -64.28571428571428,
          -64.28571428571428,
          -111.42857142857144,
          -64.28571428571428,
          -111.42857142857144,
          -64.28571428571428,
          -158.57142857142858,
          -64.28571428571428,
          -252.85714285714286,
          -111.42857142857144,
          -64.28571428571428,
          -111.42857142857144,
          -111.42857142857144,
          -111.42857142857144,
          -64.28571428571428,
          -64.28571428571428,
          -64.28571428571428,
          -64.28571428571428,
          -252.85714285714286,
          -111.42857142857144,
          -205.71428571428572,
          -158.57142857142858,
          -64.28571428571428,
          -111.42857142857144,
          -64.28571428571428,
          -111.42857142857144,
          -64.28571428571428,
          -64.28571428571428,
          -64.28571428571428,
          -300,
          -158.57142857142858,
          -111.42857142857144,
          -158.57142857142858,
          -158.57142857142858,
          -205.71428571428572,
          -111.42857142857144,
          -205.71428571428572,
          -158.57142857142858,
          -158.57142857142858,
          -158.57142857142858,
          -252.85714285714286,
          -158.57142857142858,
          -158.57142857142858,
          -158.57142857142858,
          -158.57142857142858,
          -205.71428571428572,
          -158.57142857142858,
          -111.42857142857144,
          -158.57142857142858,
          -64.28571428571428,
          -205.71428571428572,
          -158.57142857142858
         ]
        }
       ],
       "layout": {
        "coloraxis": {
         "colorbar": {
          "title": {
           "text": "color"
          }
         },
         "colorscale": [
          [
           0,
           "#0d0887"
          ],
          [
           0.1111111111111111,
           "#46039f"
          ],
          [
           0.2222222222222222,
           "#7201a8"
          ],
          [
           0.3333333333333333,
           "#9c179e"
          ],
          [
           0.4444444444444444,
           "#bd3786"
          ],
          [
           0.5555555555555556,
           "#d8576b"
          ],
          [
           0.6666666666666666,
           "#ed7953"
          ],
          [
           0.7777777777777778,
           "#fb9f3a"
          ],
          [
           0.8888888888888888,
           "#fdca26"
          ],
          [
           1,
           "#f0f921"
          ]
         ]
        },
        "height": 300,
        "legend": {
         "itemsizing": "constant",
         "tracegroupgap": 0
        },
        "margin": {
         "b": 20,
         "l": 20,
         "r": 20,
         "t": 20
        },
        "scene": {
         "domain": {
          "x": [
           0,
           1
          ],
          "y": [
           0,
           1
          ]
         },
         "xaxis": {
          "title": {
           "text": "x"
          }
         },
         "yaxis": {
          "title": {
           "text": "y"
          }
         },
         "zaxis": {
          "title": {
           "text": "z"
          }
         }
        },
        "template": {
         "data": {
          "bar": [
           {
            "error_x": {
             "color": "#2a3f5f"
            },
            "error_y": {
             "color": "#2a3f5f"
            },
            "marker": {
             "line": {
              "color": "#E5ECF6",
              "width": 0.5
             },
             "pattern": {
              "fillmode": "overlay",
              "size": 10,
              "solidity": 0.2
             }
            },
            "type": "bar"
           }
          ],
          "barpolar": [
           {
            "marker": {
             "line": {
              "color": "#E5ECF6",
              "width": 0.5
             },
             "pattern": {
              "fillmode": "overlay",
              "size": 10,
              "solidity": 0.2
             }
            },
            "type": "barpolar"
           }
          ],
          "carpet": [
           {
            "aaxis": {
             "endlinecolor": "#2a3f5f",
             "gridcolor": "white",
             "linecolor": "white",
             "minorgridcolor": "white",
             "startlinecolor": "#2a3f5f"
            },
            "baxis": {
             "endlinecolor": "#2a3f5f",
             "gridcolor": "white",
             "linecolor": "white",
             "minorgridcolor": "white",
             "startlinecolor": "#2a3f5f"
            },
            "type": "carpet"
           }
          ],
          "choropleth": [
           {
            "colorbar": {
             "outlinewidth": 0,
             "ticks": ""
            },
            "type": "choropleth"
           }
          ],
          "contour": [
           {
            "colorbar": {
             "outlinewidth": 0,
             "ticks": ""
            },
            "colorscale": [
             [
              0,
              "#0d0887"
             ],
             [
              0.1111111111111111,
              "#46039f"
             ],
             [
              0.2222222222222222,
              "#7201a8"
             ],
             [
              0.3333333333333333,
              "#9c179e"
             ],
             [
              0.4444444444444444,
              "#bd3786"
             ],
             [
              0.5555555555555556,
              "#d8576b"
             ],
             [
              0.6666666666666666,
              "#ed7953"
             ],
             [
              0.7777777777777778,
              "#fb9f3a"
             ],
             [
              0.8888888888888888,
              "#fdca26"
             ],
             [
              1,
              "#f0f921"
             ]
            ],
            "type": "contour"
           }
          ],
          "contourcarpet": [
           {
            "colorbar": {
             "outlinewidth": 0,
             "ticks": ""
            },
            "type": "contourcarpet"
           }
          ],
          "heatmap": [
           {
            "colorbar": {
             "outlinewidth": 0,
             "ticks": ""
            },
            "colorscale": [
             [
              0,
              "#0d0887"
             ],
             [
              0.1111111111111111,
              "#46039f"
             ],
             [
              0.2222222222222222,
              "#7201a8"
             ],
             [
              0.3333333333333333,
              "#9c179e"
             ],
             [
              0.4444444444444444,
              "#bd3786"
             ],
             [
              0.5555555555555556,
              "#d8576b"
             ],
             [
              0.6666666666666666,
              "#ed7953"
             ],
             [
              0.7777777777777778,
              "#fb9f3a"
             ],
             [
              0.8888888888888888,
              "#fdca26"
             ],
             [
              1,
              "#f0f921"
             ]
            ],
            "type": "heatmap"
           }
          ],
          "heatmapgl": [
           {
            "colorbar": {
             "outlinewidth": 0,
             "ticks": ""
            },
            "colorscale": [
             [
              0,
              "#0d0887"
             ],
             [
              0.1111111111111111,
              "#46039f"
             ],
             [
              0.2222222222222222,
              "#7201a8"
             ],
             [
              0.3333333333333333,
              "#9c179e"
             ],
             [
              0.4444444444444444,
              "#bd3786"
             ],
             [
              0.5555555555555556,
              "#d8576b"
             ],
             [
              0.6666666666666666,
              "#ed7953"
             ],
             [
              0.7777777777777778,
              "#fb9f3a"
             ],
             [
              0.8888888888888888,
              "#fdca26"
             ],
             [
              1,
              "#f0f921"
             ]
            ],
            "type": "heatmapgl"
           }
          ],
          "histogram": [
           {
            "marker": {
             "pattern": {
              "fillmode": "overlay",
              "size": 10,
              "solidity": 0.2
             }
            },
            "type": "histogram"
           }
          ],
          "histogram2d": [
           {
            "colorbar": {
             "outlinewidth": 0,
             "ticks": ""
            },
            "colorscale": [
             [
              0,
              "#0d0887"
             ],
             [
              0.1111111111111111,
              "#46039f"
             ],
             [
              0.2222222222222222,
              "#7201a8"
             ],
             [
              0.3333333333333333,
              "#9c179e"
             ],
             [
              0.4444444444444444,
              "#bd3786"
             ],
             [
              0.5555555555555556,
              "#d8576b"
             ],
             [
              0.6666666666666666,
              "#ed7953"
             ],
             [
              0.7777777777777778,
              "#fb9f3a"
             ],
             [
              0.8888888888888888,
              "#fdca26"
             ],
             [
              1,
              "#f0f921"
             ]
            ],
            "type": "histogram2d"
           }
          ],
          "histogram2dcontour": [
           {
            "colorbar": {
             "outlinewidth": 0,
             "ticks": ""
            },
            "colorscale": [
             [
              0,
              "#0d0887"
             ],
             [
              0.1111111111111111,
              "#46039f"
             ],
             [
              0.2222222222222222,
              "#7201a8"
             ],
             [
              0.3333333333333333,
              "#9c179e"
             ],
             [
              0.4444444444444444,
              "#bd3786"
             ],
             [
              0.5555555555555556,
              "#d8576b"
             ],
             [
              0.6666666666666666,
              "#ed7953"
             ],
             [
              0.7777777777777778,
              "#fb9f3a"
             ],
             [
              0.8888888888888888,
              "#fdca26"
             ],
             [
              1,
              "#f0f921"
             ]
            ],
            "type": "histogram2dcontour"
           }
          ],
          "mesh3d": [
           {
            "colorbar": {
             "outlinewidth": 0,
             "ticks": ""
            },
            "type": "mesh3d"
           }
          ],
          "parcoords": [
           {
            "line": {
             "colorbar": {
              "outlinewidth": 0,
              "ticks": ""
             }
            },
            "type": "parcoords"
           }
          ],
          "pie": [
           {
            "automargin": true,
            "type": "pie"
           }
          ],
          "scatter": [
           {
            "fillpattern": {
             "fillmode": "overlay",
             "size": 10,
             "solidity": 0.2
            },
            "type": "scatter"
           }
          ],
          "scatter3d": [
           {
            "line": {
             "colorbar": {
              "outlinewidth": 0,
              "ticks": ""
             }
            },
            "marker": {
             "colorbar": {
              "outlinewidth": 0,
              "ticks": ""
             }
            },
            "type": "scatter3d"
           }
          ],
          "scattercarpet": [
           {
            "marker": {
             "colorbar": {
              "outlinewidth": 0,
              "ticks": ""
             }
            },
            "type": "scattercarpet"
           }
          ],
          "scattergeo": [
           {
            "marker": {
             "colorbar": {
              "outlinewidth": 0,
              "ticks": ""
             }
            },
            "type": "scattergeo"
           }
          ],
          "scattergl": [
           {
            "marker": {
             "colorbar": {
              "outlinewidth": 0,
              "ticks": ""
             }
            },
            "type": "scattergl"
           }
          ],
          "scattermapbox": [
           {
            "marker": {
             "colorbar": {
              "outlinewidth": 0,
              "ticks": ""
             }
            },
            "type": "scattermapbox"
           }
          ],
          "scatterpolar": [
           {
            "marker": {
             "colorbar": {
              "outlinewidth": 0,
              "ticks": ""
             }
            },
            "type": "scatterpolar"
           }
          ],
          "scatterpolargl": [
           {
            "marker": {
             "colorbar": {
              "outlinewidth": 0,
              "ticks": ""
             }
            },
            "type": "scatterpolargl"
           }
          ],
          "scatterternary": [
           {
            "marker": {
             "colorbar": {
              "outlinewidth": 0,
              "ticks": ""
             }
            },
            "type": "scatterternary"
           }
          ],
          "surface": [
           {
            "colorbar": {
             "outlinewidth": 0,
             "ticks": ""
            },
            "colorscale": [
             [
              0,
              "#0d0887"
             ],
             [
              0.1111111111111111,
              "#46039f"
             ],
             [
              0.2222222222222222,
              "#7201a8"
             ],
             [
              0.3333333333333333,
              "#9c179e"
             ],
             [
              0.4444444444444444,
              "#bd3786"
             ],
             [
              0.5555555555555556,
              "#d8576b"
             ],
             [
              0.6666666666666666,
              "#ed7953"
             ],
             [
              0.7777777777777778,
              "#fb9f3a"
             ],
             [
              0.8888888888888888,
              "#fdca26"
             ],
             [
              1,
              "#f0f921"
             ]
            ],
            "type": "surface"
           }
          ],
          "table": [
           {
            "cells": {
             "fill": {
              "color": "#EBF0F8"
             },
             "line": {
              "color": "white"
             }
            },
            "header": {
             "fill": {
              "color": "#C8D4E3"
             },
             "line": {
              "color": "white"
             }
            },
            "type": "table"
           }
          ]
         },
         "layout": {
          "annotationdefaults": {
           "arrowcolor": "#2a3f5f",
           "arrowhead": 0,
           "arrowwidth": 1
          },
          "autotypenumbers": "strict",
          "coloraxis": {
           "colorbar": {
            "outlinewidth": 0,
            "ticks": ""
           }
          },
          "colorscale": {
           "diverging": [
            [
             0,
             "#8e0152"
            ],
            [
             0.1,
             "#c51b7d"
            ],
            [
             0.2,
             "#de77ae"
            ],
            [
             0.3,
             "#f1b6da"
            ],
            [
             0.4,
             "#fde0ef"
            ],
            [
             0.5,
             "#f7f7f7"
            ],
            [
             0.6,
             "#e6f5d0"
            ],
            [
             0.7,
             "#b8e186"
            ],
            [
             0.8,
             "#7fbc41"
            ],
            [
             0.9,
             "#4d9221"
            ],
            [
             1,
             "#276419"
            ]
           ],
           "sequential": [
            [
             0,
             "#0d0887"
            ],
            [
             0.1111111111111111,
             "#46039f"
            ],
            [
             0.2222222222222222,
             "#7201a8"
            ],
            [
             0.3333333333333333,
             "#9c179e"
            ],
            [
             0.4444444444444444,
             "#bd3786"
            ],
            [
             0.5555555555555556,
             "#d8576b"
            ],
            [
             0.6666666666666666,
             "#ed7953"
            ],
            [
             0.7777777777777778,
             "#fb9f3a"
            ],
            [
             0.8888888888888888,
             "#fdca26"
            ],
            [
             1,
             "#f0f921"
            ]
           ],
           "sequentialminus": [
            [
             0,
             "#0d0887"
            ],
            [
             0.1111111111111111,
             "#46039f"
            ],
            [
             0.2222222222222222,
             "#7201a8"
            ],
            [
             0.3333333333333333,
             "#9c179e"
            ],
            [
             0.4444444444444444,
             "#bd3786"
            ],
            [
             0.5555555555555556,
             "#d8576b"
            ],
            [
             0.6666666666666666,
             "#ed7953"
            ],
            [
             0.7777777777777778,
             "#fb9f3a"
            ],
            [
             0.8888888888888888,
             "#fdca26"
            ],
            [
             1,
             "#f0f921"
            ]
           ]
          },
          "colorway": [
           "#636efa",
           "#EF553B",
           "#00cc96",
           "#ab63fa",
           "#FFA15A",
           "#19d3f3",
           "#FF6692",
           "#B6E880",
           "#FF97FF",
           "#FECB52"
          ],
          "font": {
           "color": "#2a3f5f"
          },
          "geo": {
           "bgcolor": "white",
           "lakecolor": "white",
           "landcolor": "#E5ECF6",
           "showlakes": true,
           "showland": true,
           "subunitcolor": "white"
          },
          "hoverlabel": {
           "align": "left"
          },
          "hovermode": "closest",
          "mapbox": {
           "style": "light"
          },
          "paper_bgcolor": "white",
          "plot_bgcolor": "#E5ECF6",
          "polar": {
           "angularaxis": {
            "gridcolor": "white",
            "linecolor": "white",
            "ticks": ""
           },
           "bgcolor": "#E5ECF6",
           "radialaxis": {
            "gridcolor": "white",
            "linecolor": "white",
            "ticks": ""
           }
          },
          "scene": {
           "xaxis": {
            "backgroundcolor": "#E5ECF6",
            "gridcolor": "white",
            "gridwidth": 2,
            "linecolor": "white",
            "showbackground": true,
            "ticks": "",
            "zerolinecolor": "white"
           },
           "yaxis": {
            "backgroundcolor": "#E5ECF6",
            "gridcolor": "white",
            "gridwidth": 2,
            "linecolor": "white",
            "showbackground": true,
            "ticks": "",
            "zerolinecolor": "white"
           },
           "zaxis": {
            "backgroundcolor": "#E5ECF6",
            "gridcolor": "white",
            "gridwidth": 2,
            "linecolor": "white",
            "showbackground": true,
            "ticks": "",
            "zerolinecolor": "white"
           }
          },
          "shapedefaults": {
           "line": {
            "color": "#2a3f5f"
           }
          },
          "ternary": {
           "aaxis": {
            "gridcolor": "white",
            "linecolor": "white",
            "ticks": ""
           },
           "baxis": {
            "gridcolor": "white",
            "linecolor": "white",
            "ticks": ""
           },
           "bgcolor": "#E5ECF6",
           "caxis": {
            "gridcolor": "white",
            "linecolor": "white",
            "ticks": ""
           }
          },
          "title": {
           "x": 0.05
          },
          "xaxis": {
           "automargin": true,
           "gridcolor": "white",
           "linecolor": "white",
           "ticks": "",
           "title": {
            "standoff": 15
           },
           "zerolinecolor": "white",
           "zerolinewidth": 2
          },
          "yaxis": {
           "automargin": true,
           "gridcolor": "white",
           "linecolor": "white",
           "ticks": "",
           "title": {
            "standoff": 15
           },
           "zerolinecolor": "white",
           "zerolinewidth": 2
          }
         }
        },
        "width": 600,
        "xaxis": {
         "range": [
          0,
          128
         ]
        },
        "yaxis": {
         "range": [
          0,
          64
         ]
        }
       }
      }
     },
     "metadata": {},
     "output_type": "display_data"
    }
   ],
   "source": [
    "\n",
    "\n",
    "import plotly.express as px\n",
    "\n",
    "# Filter the DataFrame to include only rows where stimtype is 'loom'\n",
    "filtered_data = pooled_data[(pooled_data['stimtype'] == 'loom')]\n",
    "\n",
    "# Create the 3D scatter plot using the filtered DataFrame\n",
    "fig = px.scatter_3d(\n",
    "    x=filtered_data['x_centroid']*scaler,\n",
    "    y=(filtered_data['y_centroid'] % y_res) * scaler,\n",
    "    z=-filtered_data['plane_depth'],  # Use plane_depth as the z-axis\n",
    "    color=filtered_data['plane_depth'],\n",
    "    size=abs(filtered_data['amplitude']),\n",
    "    opacity=1\n",
    ")\n",
    "\n",
    "# Update layout with desired width, height, and margins\n",
    "fig.update_layout(width=600, height=300, margin=dict(l=20, r=20, t=20, b=20))\n",
    "\n",
    "# Set axis ranges\n",
    "fig.update_xaxes(range=[0, 128])\n",
    "fig.update_yaxes(range=[0, 64])\n",
    "\n",
    "# Show the figure\n",
    "fig.show()\n"
   ]
  },
  {
   "cell_type": "code",
   "execution_count": 35,
   "metadata": {},
   "outputs": [
    {
     "data": {
      "text/plain": [
       "0.9286775631500742"
      ]
     },
     "execution_count": 35,
     "metadata": {},
     "output_type": "execute_result"
    }
   ],
   "source": [
    "6.25/6.73"
   ]
  },
  {
   "cell_type": "code",
   "execution_count": 36,
   "metadata": {},
   "outputs": [
    {
     "data": {
      "application/vnd.plotly.v1+json": {
       "config": {
        "plotlyServerURL": "https://plot.ly"
       },
       "data": [
        {
         "hovertemplate": "color=x241014_53_cOTm<br>x=%{x}<br>y=%{y}<br>z=%{z}<br>size=%{marker.size}<extra></extra>",
         "legendgroup": "x241014_53_cOTm",
         "marker": {
          "color": "#636efa",
          "opacity": 0.6,
          "size": [
           41,
           39,
           30,
           33,
           32,
           41,
           38,
           38,
           1,
           1,
           12,
           32,
           21,
           32,
           7,
           32,
           31,
           1,
           8,
           1,
           1,
           3,
           1
          ],
          "sizemode": "area",
          "sizeref": 0.1025,
          "symbol": "circle"
         },
         "mode": "markers",
         "name": "x241014_53_cOTm",
         "scene": "scene",
         "showlegend": true,
         "type": "scatter3d",
         "x": [
          352.2734375,
          352.2734375,
          330.71640625,
          390.5120738636363,
          312.83984375,
          289.3079268292683,
          411.49300986842104,
          419.37972861842104,
          352.2734375,
          347.015625,
          373.3046875,
          375.2763671875,
          390.32998511904765,
          486.01904296875,
          354.5267857142857,
          347.015625,
          304.10509072580646,
          399.59375,
          334.5283203125,
          304.953125,
          515.265625,
          290.9322916666667,
          441.65625
         ],
         "y": [
          247.1171875,
          215.5703125,
          265.87005208333335,
          214.13636363636363,
          265.51953125,
          277.6381478658537,
          178.9039884868422,
          151.36965460526312,
          236.6015625,
          231.34375,
          266.833984375,
          250.567626953125,
          226.33630952380955,
          125.85888671875,
          272.65513392857144,
          238.737548828125,
          263.0602318548387,
          247.1171875,
          257.6328125,
          257.6328125,
          173.5078125,
          140.2083333333333,
          141.9609375
         ],
         "z": [
          -282.5,
          -215,
          -282.5,
          -282.5,
          -215,
          -215,
          -350,
          -350,
          -215,
          -215,
          -282.5,
          -215,
          -215,
          -215,
          -215,
          -147.49999999999997,
          -147.49999999999997,
          -282.5,
          -147.49999999999997,
          -282.5,
          -282.5,
          -147.49999999999997,
          -147.49999999999997
         ]
        },
        {
         "hovertemplate": "color=241003_2_53_1cO<br>x=%{x}<br>y=%{y}<br>z=%{z}<br>size=%{marker.size}<extra></extra>",
         "legendgroup": "241003_2_53_1cO",
         "marker": {
          "color": "#EF553B",
          "opacity": 0.6,
          "size": [
           35,
           41,
           35,
           37,
           34,
           39,
           31,
           33,
           33,
           38,
           32,
           1,
           1,
           35,
           30,
           33,
           3,
           27,
           34,
           28,
           6,
           34,
           32,
           10,
           12,
           1,
           3,
           10,
           1,
           2,
           1,
           1,
           1,
           1,
           1,
           1,
           1
          ],
          "sizemode": "area",
          "sizeref": 0.1025,
          "symbol": "circle"
         },
         "mode": "markers",
         "name": "241003_2_53_1cO",
         "scene": "scene",
         "showlegend": true,
         "type": "scatter3d",
         "x": [
          367.1455357142857,
          368.046875,
          341.3071428571428,
          391.92018581081084,
          398.82054227941177,
          345.93709935897436,
          339.04410282258067,
          420.3063446969697,
          413.4552556818182,
          320.5881990131579,
          403.20849609375,
          383.8203125,
          404.8515625,
          319.9754464285714,
          395.21223958333337,
          336.1813446969697,
          359.28385416666663,
          376.42042824074076,
          437.17164522058823,
          299.1319754464286,
          357.53125,
          357.3766084558823,
          323.848388671875,
          318.6234375,
          462.24934895833337,
          394.3359375,
          317.2213541666667,
          416.94453125,
          394.3359375,
          297.06640625,
          410.109375,
          362.7890625,
          352.2734375,
          431.140625,
          415.3671875,
          389.078125,
          347.015625
         ],
         "y": [
          282.5698660714285,
          257.6328125,
          294.28727678571437,
          264.31165540540536,
          278.8187040441175,
          303.0657051282051,
          252.375,
          257.792140151515,
          238.03551136363626,
          309.65748355263156,
          238.5732421875,
          247.1171875,
          252.375,
          313.51584821428577,
          279.18984374999997,
          285.6744791666667,
          276.9114583333333,
          318.0002893518518,
          236.9108455882353,
          307.3942522321429,
          265.51953125,
          243.7150735294118,
          255.00390625,
          299.16953125,
          218.19921875,
          257.6328125,
          311.96354166666674,
          261.31328124999993,
          310.2109375,
          42.0625,
          278.6640625,
          294.4375,
          268.1484375,
          247.1171875,
          299.6953125,
          273.40625,
          304.953125
         ],
         "z": [
          -205.71428571428572,
          -158.57142857142858,
          -205.71428571428572,
          -205.71428571428572,
          -252.85714285714286,
          -252.85714285714286,
          -158.57142857142858,
          -252.85714285714286,
          -205.71428571428572,
          -205.71428571428572,
          -158.57142857142858,
          -158.57142857142858,
          -205.71428571428572,
          -252.85714285714286,
          -300,
          -158.57142857142858,
          -158.57142857142858,
          -205.71428571428572,
          -300,
          -205.71428571428572,
          -205.71428571428572,
          -111.42857142857144,
          -111.42857142857144,
          -158.57142857142858,
          -300,
          -158.57142857142858,
          -64.28571428571428,
          -300,
          -252.85714285714286,
          -64.28571428571428,
          -205.71428571428572,
          -158.57142857142858,
          -64.28571428571428,
          -205.71428571428572,
          -205.71428571428572,
          -158.57142857142858,
          -111.42857142857144
         ]
        }
       ],
       "layout": {
        "height": 600,
        "legend": {
         "itemsizing": "constant",
         "title": {
          "text": "color"
         },
         "tracegroupgap": 0
        },
        "margin": {
         "b": 20,
         "l": 20,
         "r": 20,
         "t": 20
        },
        "scene": {
         "domain": {
          "x": [
           0,
           1
          ],
          "y": [
           0,
           1
          ]
         },
         "xaxis": {
          "title": {
           "text": "x"
          }
         },
         "yaxis": {
          "title": {
           "text": "y"
          }
         },
         "zaxis": {
          "title": {
           "text": "z"
          }
         }
        },
        "template": {
         "data": {
          "bar": [
           {
            "error_x": {
             "color": "#2a3f5f"
            },
            "error_y": {
             "color": "#2a3f5f"
            },
            "marker": {
             "line": {
              "color": "#E5ECF6",
              "width": 0.5
             },
             "pattern": {
              "fillmode": "overlay",
              "size": 10,
              "solidity": 0.2
             }
            },
            "type": "bar"
           }
          ],
          "barpolar": [
           {
            "marker": {
             "line": {
              "color": "#E5ECF6",
              "width": 0.5
             },
             "pattern": {
              "fillmode": "overlay",
              "size": 10,
              "solidity": 0.2
             }
            },
            "type": "barpolar"
           }
          ],
          "carpet": [
           {
            "aaxis": {
             "endlinecolor": "#2a3f5f",
             "gridcolor": "white",
             "linecolor": "white",
             "minorgridcolor": "white",
             "startlinecolor": "#2a3f5f"
            },
            "baxis": {
             "endlinecolor": "#2a3f5f",
             "gridcolor": "white",
             "linecolor": "white",
             "minorgridcolor": "white",
             "startlinecolor": "#2a3f5f"
            },
            "type": "carpet"
           }
          ],
          "choropleth": [
           {
            "colorbar": {
             "outlinewidth": 0,
             "ticks": ""
            },
            "type": "choropleth"
           }
          ],
          "contour": [
           {
            "colorbar": {
             "outlinewidth": 0,
             "ticks": ""
            },
            "colorscale": [
             [
              0,
              "#0d0887"
             ],
             [
              0.1111111111111111,
              "#46039f"
             ],
             [
              0.2222222222222222,
              "#7201a8"
             ],
             [
              0.3333333333333333,
              "#9c179e"
             ],
             [
              0.4444444444444444,
              "#bd3786"
             ],
             [
              0.5555555555555556,
              "#d8576b"
             ],
             [
              0.6666666666666666,
              "#ed7953"
             ],
             [
              0.7777777777777778,
              "#fb9f3a"
             ],
             [
              0.8888888888888888,
              "#fdca26"
             ],
             [
              1,
              "#f0f921"
             ]
            ],
            "type": "contour"
           }
          ],
          "contourcarpet": [
           {
            "colorbar": {
             "outlinewidth": 0,
             "ticks": ""
            },
            "type": "contourcarpet"
           }
          ],
          "heatmap": [
           {
            "colorbar": {
             "outlinewidth": 0,
             "ticks": ""
            },
            "colorscale": [
             [
              0,
              "#0d0887"
             ],
             [
              0.1111111111111111,
              "#46039f"
             ],
             [
              0.2222222222222222,
              "#7201a8"
             ],
             [
              0.3333333333333333,
              "#9c179e"
             ],
             [
              0.4444444444444444,
              "#bd3786"
             ],
             [
              0.5555555555555556,
              "#d8576b"
             ],
             [
              0.6666666666666666,
              "#ed7953"
             ],
             [
              0.7777777777777778,
              "#fb9f3a"
             ],
             [
              0.8888888888888888,
              "#fdca26"
             ],
             [
              1,
              "#f0f921"
             ]
            ],
            "type": "heatmap"
           }
          ],
          "heatmapgl": [
           {
            "colorbar": {
             "outlinewidth": 0,
             "ticks": ""
            },
            "colorscale": [
             [
              0,
              "#0d0887"
             ],
             [
              0.1111111111111111,
              "#46039f"
             ],
             [
              0.2222222222222222,
              "#7201a8"
             ],
             [
              0.3333333333333333,
              "#9c179e"
             ],
             [
              0.4444444444444444,
              "#bd3786"
             ],
             [
              0.5555555555555556,
              "#d8576b"
             ],
             [
              0.6666666666666666,
              "#ed7953"
             ],
             [
              0.7777777777777778,
              "#fb9f3a"
             ],
             [
              0.8888888888888888,
              "#fdca26"
             ],
             [
              1,
              "#f0f921"
             ]
            ],
            "type": "heatmapgl"
           }
          ],
          "histogram": [
           {
            "marker": {
             "pattern": {
              "fillmode": "overlay",
              "size": 10,
              "solidity": 0.2
             }
            },
            "type": "histogram"
           }
          ],
          "histogram2d": [
           {
            "colorbar": {
             "outlinewidth": 0,
             "ticks": ""
            },
            "colorscale": [
             [
              0,
              "#0d0887"
             ],
             [
              0.1111111111111111,
              "#46039f"
             ],
             [
              0.2222222222222222,
              "#7201a8"
             ],
             [
              0.3333333333333333,
              "#9c179e"
             ],
             [
              0.4444444444444444,
              "#bd3786"
             ],
             [
              0.5555555555555556,
              "#d8576b"
             ],
             [
              0.6666666666666666,
              "#ed7953"
             ],
             [
              0.7777777777777778,
              "#fb9f3a"
             ],
             [
              0.8888888888888888,
              "#fdca26"
             ],
             [
              1,
              "#f0f921"
             ]
            ],
            "type": "histogram2d"
           }
          ],
          "histogram2dcontour": [
           {
            "colorbar": {
             "outlinewidth": 0,
             "ticks": ""
            },
            "colorscale": [
             [
              0,
              "#0d0887"
             ],
             [
              0.1111111111111111,
              "#46039f"
             ],
             [
              0.2222222222222222,
              "#7201a8"
             ],
             [
              0.3333333333333333,
              "#9c179e"
             ],
             [
              0.4444444444444444,
              "#bd3786"
             ],
             [
              0.5555555555555556,
              "#d8576b"
             ],
             [
              0.6666666666666666,
              "#ed7953"
             ],
             [
              0.7777777777777778,
              "#fb9f3a"
             ],
             [
              0.8888888888888888,
              "#fdca26"
             ],
             [
              1,
              "#f0f921"
             ]
            ],
            "type": "histogram2dcontour"
           }
          ],
          "mesh3d": [
           {
            "colorbar": {
             "outlinewidth": 0,
             "ticks": ""
            },
            "type": "mesh3d"
           }
          ],
          "parcoords": [
           {
            "line": {
             "colorbar": {
              "outlinewidth": 0,
              "ticks": ""
             }
            },
            "type": "parcoords"
           }
          ],
          "pie": [
           {
            "automargin": true,
            "type": "pie"
           }
          ],
          "scatter": [
           {
            "fillpattern": {
             "fillmode": "overlay",
             "size": 10,
             "solidity": 0.2
            },
            "type": "scatter"
           }
          ],
          "scatter3d": [
           {
            "line": {
             "colorbar": {
              "outlinewidth": 0,
              "ticks": ""
             }
            },
            "marker": {
             "colorbar": {
              "outlinewidth": 0,
              "ticks": ""
             }
            },
            "type": "scatter3d"
           }
          ],
          "scattercarpet": [
           {
            "marker": {
             "colorbar": {
              "outlinewidth": 0,
              "ticks": ""
             }
            },
            "type": "scattercarpet"
           }
          ],
          "scattergeo": [
           {
            "marker": {
             "colorbar": {
              "outlinewidth": 0,
              "ticks": ""
             }
            },
            "type": "scattergeo"
           }
          ],
          "scattergl": [
           {
            "marker": {
             "colorbar": {
              "outlinewidth": 0,
              "ticks": ""
             }
            },
            "type": "scattergl"
           }
          ],
          "scattermapbox": [
           {
            "marker": {
             "colorbar": {
              "outlinewidth": 0,
              "ticks": ""
             }
            },
            "type": "scattermapbox"
           }
          ],
          "scatterpolar": [
           {
            "marker": {
             "colorbar": {
              "outlinewidth": 0,
              "ticks": ""
             }
            },
            "type": "scatterpolar"
           }
          ],
          "scatterpolargl": [
           {
            "marker": {
             "colorbar": {
              "outlinewidth": 0,
              "ticks": ""
             }
            },
            "type": "scatterpolargl"
           }
          ],
          "scatterternary": [
           {
            "marker": {
             "colorbar": {
              "outlinewidth": 0,
              "ticks": ""
             }
            },
            "type": "scatterternary"
           }
          ],
          "surface": [
           {
            "colorbar": {
             "outlinewidth": 0,
             "ticks": ""
            },
            "colorscale": [
             [
              0,
              "#0d0887"
             ],
             [
              0.1111111111111111,
              "#46039f"
             ],
             [
              0.2222222222222222,
              "#7201a8"
             ],
             [
              0.3333333333333333,
              "#9c179e"
             ],
             [
              0.4444444444444444,
              "#bd3786"
             ],
             [
              0.5555555555555556,
              "#d8576b"
             ],
             [
              0.6666666666666666,
              "#ed7953"
             ],
             [
              0.7777777777777778,
              "#fb9f3a"
             ],
             [
              0.8888888888888888,
              "#fdca26"
             ],
             [
              1,
              "#f0f921"
             ]
            ],
            "type": "surface"
           }
          ],
          "table": [
           {
            "cells": {
             "fill": {
              "color": "#EBF0F8"
             },
             "line": {
              "color": "white"
             }
            },
            "header": {
             "fill": {
              "color": "#C8D4E3"
             },
             "line": {
              "color": "white"
             }
            },
            "type": "table"
           }
          ]
         },
         "layout": {
          "annotationdefaults": {
           "arrowcolor": "#2a3f5f",
           "arrowhead": 0,
           "arrowwidth": 1
          },
          "autotypenumbers": "strict",
          "coloraxis": {
           "colorbar": {
            "outlinewidth": 0,
            "ticks": ""
           }
          },
          "colorscale": {
           "diverging": [
            [
             0,
             "#8e0152"
            ],
            [
             0.1,
             "#c51b7d"
            ],
            [
             0.2,
             "#de77ae"
            ],
            [
             0.3,
             "#f1b6da"
            ],
            [
             0.4,
             "#fde0ef"
            ],
            [
             0.5,
             "#f7f7f7"
            ],
            [
             0.6,
             "#e6f5d0"
            ],
            [
             0.7,
             "#b8e186"
            ],
            [
             0.8,
             "#7fbc41"
            ],
            [
             0.9,
             "#4d9221"
            ],
            [
             1,
             "#276419"
            ]
           ],
           "sequential": [
            [
             0,
             "#0d0887"
            ],
            [
             0.1111111111111111,
             "#46039f"
            ],
            [
             0.2222222222222222,
             "#7201a8"
            ],
            [
             0.3333333333333333,
             "#9c179e"
            ],
            [
             0.4444444444444444,
             "#bd3786"
            ],
            [
             0.5555555555555556,
             "#d8576b"
            ],
            [
             0.6666666666666666,
             "#ed7953"
            ],
            [
             0.7777777777777778,
             "#fb9f3a"
            ],
            [
             0.8888888888888888,
             "#fdca26"
            ],
            [
             1,
             "#f0f921"
            ]
           ],
           "sequentialminus": [
            [
             0,
             "#0d0887"
            ],
            [
             0.1111111111111111,
             "#46039f"
            ],
            [
             0.2222222222222222,
             "#7201a8"
            ],
            [
             0.3333333333333333,
             "#9c179e"
            ],
            [
             0.4444444444444444,
             "#bd3786"
            ],
            [
             0.5555555555555556,
             "#d8576b"
            ],
            [
             0.6666666666666666,
             "#ed7953"
            ],
            [
             0.7777777777777778,
             "#fb9f3a"
            ],
            [
             0.8888888888888888,
             "#fdca26"
            ],
            [
             1,
             "#f0f921"
            ]
           ]
          },
          "colorway": [
           "#636efa",
           "#EF553B",
           "#00cc96",
           "#ab63fa",
           "#FFA15A",
           "#19d3f3",
           "#FF6692",
           "#B6E880",
           "#FF97FF",
           "#FECB52"
          ],
          "font": {
           "color": "#2a3f5f"
          },
          "geo": {
           "bgcolor": "white",
           "lakecolor": "white",
           "landcolor": "#E5ECF6",
           "showlakes": true,
           "showland": true,
           "subunitcolor": "white"
          },
          "hoverlabel": {
           "align": "left"
          },
          "hovermode": "closest",
          "mapbox": {
           "style": "light"
          },
          "paper_bgcolor": "white",
          "plot_bgcolor": "#E5ECF6",
          "polar": {
           "angularaxis": {
            "gridcolor": "white",
            "linecolor": "white",
            "ticks": ""
           },
           "bgcolor": "#E5ECF6",
           "radialaxis": {
            "gridcolor": "white",
            "linecolor": "white",
            "ticks": ""
           }
          },
          "scene": {
           "xaxis": {
            "backgroundcolor": "#E5ECF6",
            "gridcolor": "white",
            "gridwidth": 2,
            "linecolor": "white",
            "showbackground": true,
            "ticks": "",
            "zerolinecolor": "white"
           },
           "yaxis": {
            "backgroundcolor": "#E5ECF6",
            "gridcolor": "white",
            "gridwidth": 2,
            "linecolor": "white",
            "showbackground": true,
            "ticks": "",
            "zerolinecolor": "white"
           },
           "zaxis": {
            "backgroundcolor": "#E5ECF6",
            "gridcolor": "white",
            "gridwidth": 2,
            "linecolor": "white",
            "showbackground": true,
            "ticks": "",
            "zerolinecolor": "white"
           }
          },
          "shapedefaults": {
           "line": {
            "color": "#2a3f5f"
           }
          },
          "ternary": {
           "aaxis": {
            "gridcolor": "white",
            "linecolor": "white",
            "ticks": ""
           },
           "baxis": {
            "gridcolor": "white",
            "linecolor": "white",
            "ticks": ""
           },
           "bgcolor": "#E5ECF6",
           "caxis": {
            "gridcolor": "white",
            "linecolor": "white",
            "ticks": ""
           }
          },
          "title": {
           "x": 0.05
          },
          "xaxis": {
           "automargin": true,
           "gridcolor": "white",
           "linecolor": "white",
           "ticks": "",
           "title": {
            "standoff": 15
           },
           "zerolinecolor": "white",
           "zerolinewidth": 2
          },
          "yaxis": {
           "automargin": true,
           "gridcolor": "white",
           "linecolor": "white",
           "ticks": "",
           "title": {
            "standoff": 15
           },
           "zerolinecolor": "white",
           "zerolinewidth": 2
          }
         }
        },
        "width": 800,
        "xaxis": {
         "range": [
          0,
          128
         ]
        },
        "yaxis": {
         "range": [
          0,
          64
         ]
        }
       }
      }
     },
     "metadata": {},
     "output_type": "display_data"
    }
   ],
   "source": [
    "import plotly.express as px\n",
    "\n",
    "# Filter the DataFrame to include only the necessary rows\n",
    "filtered_data = pooled_data[(pooled_data['stimtype'] == 'moving stripes')]  # You don't need to filter for 'loom' only anymore\n",
    "\n",
    "# Calculate scaler\n",
    "range_val = 913 - 240\n",
    "pixelrange = 128\n",
    "scaler = range_val / pixelrange\n",
    "\n",
    "# Create the 3D scatter plot, using stimtype for color\n",
    "fig = px.scatter_3d(\n",
    "    x=filtered_data['x_centroid'] * scaler,\n",
    "    y=(filtered_data['y_centroid'] % y_res) * scaler,\n",
    "    z=-filtered_data['plane_depth'],  # Use plane_depth as the z-axis\n",
    "    color=filtered_data['experiment_id'],  # Color based on stimtype\n",
    "    size=abs(filtered_data['size']),\n",
    "    opacity=0.6\n",
    ")\n",
    "\n",
    "# Update layout with desired width, height, and margins\n",
    "fig.update_layout(width=800, height=600, margin=dict(l=20, r=20, t=20, b=20))\n",
    "\n",
    "# Set axis ranges\n",
    "fig.update_xaxes(range=[0, 128])\n",
    "fig.update_yaxes(range=[0, 64])\n",
    "\n",
    "# Show the figure\n",
    "fig.show()"
   ]
  },
  {
   "cell_type": "code",
   "execution_count": 37,
   "metadata": {},
   "outputs": [
    {
     "name": "stderr",
     "output_type": "stream",
     "text": [
      "C:\\Users\\Michael Forsthofer\\AppData\\Local\\Temp\\ipykernel_30432\\848643227.py:38: SettingWithCopyWarning:\n",
      "\n",
      "\n",
      "A value is trying to be set on a copy of a slice from a DataFrame.\n",
      "Try using .loc[row_indexer,col_indexer] = value instead\n",
      "\n",
      "See the caveats in the documentation: https://pandas.pydata.org/pandas-docs/stable/user_guide/indexing.html#returning-a-view-versus-a-copy\n",
      "\n"
     ]
    },
    {
     "data": {
      "application/vnd.plotly.v1+json": {
       "config": {
        "plotlyServerURL": "https://plot.ly"
       },
       "data": [
        {
         "marker": {
          "color": "gray",
          "opacity": 0.7,
          "size": [
           10.589035034179688,
           6.218621253967285,
           5.155450820922852,
           14.85568904876709,
           8.286933898925781,
           3.9804019927978516,
           3.305337905883789,
           3.716305732727051,
           4.30157470703125,
           6.250781059265137,
           19.790559768676758,
           8.526537895202637,
           7.08749532699585,
           3.460131883621216,
           4.427830219268799,
           4.9618377685546875,
           6.029113292694092,
           5.127704620361328,
           5.487027645111084,
           4.035541534423828,
           3.701115131378174,
           3.9109582901000977,
           4.154303550720215,
           8.471240997314453,
           3.187441825866699,
           3.05546236038208,
           4.1740851402282715,
           9.257493019104004,
           3.612295627593994,
           3.0850882530212402,
           4.695322513580322,
           6.184306621551514,
           2.701742649078369,
           2.920046091079712,
           4.357815265655518,
           3.504779815673828,
           3.822422981262207,
           5.488548278808594,
           3.9534523487091064,
           5.225104808807373,
           2.8888983726501465,
           3.4196648597717285,
           16.84963035583496,
           16.594764709472656,
           7.141833305358887,
           6.945498943328857,
           11.857854843139648,
           23.544361114501953,
           15.67708969116211,
           8.611940383911133,
           4.691732406616211,
           19.358049392700195,
           9.917287826538086,
           14.646324157714844,
           9.33202838897705,
           4.513580799102783,
           4.465725898742676,
           5.632926940917969,
           4.156125068664551,
           5.830604553222656,
           6.18307638168335,
           5.670929431915283,
           8.773237228393555,
           4.149898529052734,
           3.620553731918335,
           5.273541450500488,
           8.268338203430176,
           10.143619537353516,
           19.855012893676758,
           4.213404655456543,
           3.876044273376465,
           6.155831336975098,
           5.689329147338867,
           5.3471574783325195,
           4.962255954742432,
           6.191381931304932,
           6.88013219833374,
           6.015201091766357,
           10.573495864868164,
           8.836328506469727,
           5.275125980377197,
           3.3442397117614746,
           4.258393287658691,
           3.6487045288085938,
           4.988466739654541,
           6.176577091217041,
           7.072978496551514,
           6.893202781677246,
           5.268441677093506,
           4.07116174697876,
           5.378487586975098,
           3.566650152206421,
           4.061659336090088,
           2.7359256744384766,
           9.927889823913574,
           10.249993324279785,
           5.648736953735352,
           3.4031243324279785,
           3.696826219558716,
           3.9556326866149902,
           10.338608741760254,
           24.767763137817383,
           5.901456832885742,
           6.478878974914551,
           11.594075202941895,
           6.982669830322266,
           15.892284393310547,
           9.773479461669922,
           3.8250041007995605,
           6.6063714027404785,
           15.055237770080566,
           22.887767791748047,
           24.047718048095703,
           7.5303449630737305,
           9.334420204162598,
           6.42064094543457,
           17.13188934326172,
           9.830241203308105,
           15.399421691894531,
           16.073917388916016,
           5.188131332397461,
           7.203075885772705,
           18.15721321105957,
           11.615859985351562,
           15.627677917480469,
           13.481653213500977,
           10.067110061645508,
           10.311179161071777,
           11.741588592529297,
           4.902078628540039,
           13.587697982788086,
           4.741844177246094,
           4.08098840713501,
           2.384910821914673,
           7.629472732543945,
           15.025091171264648,
           6.307724952697754,
           6.306813716888428,
           7.436332702636719,
           2.7431297302246094,
           10.46548080444336,
           14.11571216583252,
           16.08859634399414,
           4.0375189781188965,
           17.86319923400879,
           14.98731517791748,
           6.983373641967773,
           12.399577140808105,
           4.574155807495117,
           8.627947807312012,
           5.099798679351807,
           6.802011489868164,
           6.294689178466797,
           26.13726043701172,
           7.446321487426758,
           8.810159683227539,
           2.496588706970215,
           11.356289863586426,
           17.111236572265625,
           6.4383463859558105,
           8.759565353393555,
           11.99002742767334,
           11.34766960144043,
           7.75411319732666,
           6.333316802978516,
           13.192100524902344,
           6.579396724700928,
           9.00655460357666,
           9.828542709350586,
           5.055225849151611,
           12.598780632019043,
           10.533114433288574,
           5.2517924308776855,
           4.417933464050293,
           21.79373550415039,
           9.504983901977539,
           8.417570114135742,
           4.813125133514404,
           5.494150638580322,
           8.999076843261719,
           17.70669937133789,
           16.73088836669922,
           4.028801441192627,
           10.694815635681152,
           8.125862121582031,
           10.019861221313477,
           4.375151634216309,
           5.413007736206055,
           8.448030471801758,
           6.230181694030762,
           5.433502674102783,
           7.06812858581543,
           3.9136693477630615,
           15.39416790008545,
           4.225526809692383,
           3.817723512649536,
           5.618614196777344,
           3.6827731132507324,
           2.6686713695526123,
           7.542620658874512,
           5.941032409667969,
           9.582672119140625,
           13.19965934753418,
           9.267902374267578,
           7.54175329208374,
           4.327293395996094,
           4.560691833496094,
           2.6074280738830566,
           13.49304485321045,
           4.926395416259766,
           10.38177490234375,
           3.2890090942382812,
           6.357417583465576,
           21.690044403076172,
           6.002292633056641,
           6.520046710968018,
           12.464139938354492,
           3.9061927795410156,
           11.14963436126709,
           24.031139373779297,
           4.201621055603027,
           4.303802013397217,
           15.517858505249023,
           5.425885200500488,
           2.9251065254211426,
           6.004643440246582,
           7.535918235778809,
           16.11746597290039,
           5.1198320388793945,
           6.573269844055176,
           7.892664432525635,
           5.103242874145508,
           10.459051132202148,
           5.401345729827881,
           8.927013397216797,
           3.962110996246338,
           4.599180221557617,
           8.391921043395996,
           6.336604118347168,
           4.851906776428223,
           4.63528299331665,
           3.299187183380127,
           5.464809417724609,
           6.83517599105835,
           5.746155738830566,
           9.48658561706543,
           3.6358964443206787,
           19.274438858032227,
           7.941741466522217,
           7.129255294799805,
           5.214738368988037,
           8.389724731445312,
           10.5166015625,
           2.8391098976135254,
           4.791495323181152,
           6.337682247161865,
           5.330364227294922,
           11.497051239013672,
           6.636289596557617,
           6.435261249542236,
           9.691394805908203,
           8.97209358215332,
           8.400100708007812,
           9.567031860351562,
           8.725743293762207,
           8.952533721923828,
           8.382956504821777,
           2.6987099647521973,
           7.280902862548828,
           6.181524276733398,
           11.00547981262207,
           3.682776689529419,
           8.373043060302734,
           3.701460838317871,
           5.425652503967285,
           7.35902738571167,
           6.071252822875977,
           9.37458324432373,
           10.150431632995605,
           4.915378093719482,
           4.927249908447266,
           5.746761322021484,
           5.11080265045166,
           3.7033939361572266,
           8.128236770629883,
           12.217397689819336,
           6.976236343383789,
           14.980727195739746,
           6.014949798583984,
           4.75053596496582,
           6.1902899742126465,
           2.720330238342285,
           11.131868362426758,
           9.080062866210938,
           11.262271881103516,
           2.812110424041748,
           3.7292912006378174,
           3.2323827743530273,
           4.266297817230225,
           3.6745619773864746,
           3.2037367820739746,
           3.9336812496185303,
           7.97591495513916,
           5.397315502166748,
           6.926199436187744,
           3.3670382499694824,
           3.5308938026428223,
           2.7538938522338867,
           4.282059669494629,
           2.764582633972168,
           4.490817070007324,
           5.708761215209961,
           4.01408052444458,
           5.214493274688721,
           4.184277057647705,
           5.279101371765137,
           3.404996871948242,
           4.112420558929443,
           8.27925968170166,
           6.554632663726807,
           4.153762340545654,
           4.471513271331787,
           3.3041999340057373,
           3.510012626647949,
           2.372642755508423,
           3.0460011959075928,
           4.354065895080566,
           3.704603672027588,
           5.487246990203857,
           4.698363780975342,
           5.210483074188232,
           4.335058212280273,
           5.361677646636963,
           3.801766872406006,
           3.5234146118164062,
           6.532958984375,
           4.159725189208984,
           4.552316665649414,
           2.5459022521972656,
           4.274810791015625,
           3.246263265609741,
           4.210559368133545,
           8.009350776672363,
           7.896945953369141,
           3.3225409984588623,
           3.2933104038238525,
           3.267864942550659,
           3.1659088134765625,
           2.816086530685425,
           3.9864065647125244,
           3.7021634578704834,
           4.0249481201171875,
           4.763010501861572,
           2.3749985694885254,
           4.460077285766602,
           3.170435667037964,
           3.0694165229797363,
           3.2727675437927246,
           3.217243194580078,
           2.616738796234131,
           2.5693740844726562,
           2.678385019302368,
           3.134148597717285,
           17.536983489990234,
           18.734683990478516,
           13.642599105834961,
           23.930343627929688,
           12.134825706481934,
           10.328737258911133,
           3.816983461380005,
           15.346357345581055,
           13.382282257080078,
           12.10794448852539,
           16.71344566345215,
           5.127324104309082,
           8.879656791687012,
           8.511736869812012,
           5.887184143066406,
           16.05669593811035,
           4.561529159545898,
           12.277709007263184,
           11.459653854370117,
           6.5979204177856445,
           4.4697184562683105,
           7.447803497314453,
           7.88055419921875,
           6.199790000915527,
           4.165899753570557,
           4.9026923179626465,
           5.3889689445495605,
           6.165446758270264,
           5.131532669067383,
           4.929463863372803,
           4.746316432952881,
           7.320015907287598,
           6.126551151275635,
           3.6011953353881836,
           6.434024810791016,
           4.116069316864014,
           4.975495338439941,
           5.654952526092529,
           4.842113494873047,
           4.627106666564941,
           3.641725540161133,
           7.952315330505371,
           5.312233924865723,
           5.341838836669922,
           5.762749671936035,
           4.099030017852783,
           5.1541218757629395,
           4.911558151245117,
           5.600279808044434,
           6.197434425354004,
           4.282102584838867,
           3.346717119216919,
           5.722718238830566,
           5.65811014175415,
           3.4807920455932617,
           8.60749340057373,
           3.90272855758667,
           6.071264266967773,
           3.0636420249938965,
           4.4290666580200195,
           3.911189556121826,
           5.245233535766602,
           4.903749942779541,
           5.738164901733398,
           4.611721992492676,
           4.192944049835205,
           8.910270690917969,
           3.4312796592712402,
           2.9892895221710205,
           4.1475749015808105,
           5.6856489181518555,
           4.387882709503174,
           3.9068167209625244,
           4.468043327331543,
           4.357492446899414,
           3.6547164916992188,
           4.990333557128906,
           3.1511104106903076,
           3.9951446056365967,
           3.4674761295318604,
           6.422182083129883,
           4.198851108551025,
           5.063369274139404,
           4.482213020324707,
           4.72203254699707,
           5.951968193054199,
           3.9619717597961426,
           4.666420936584473,
           4.190345764160156,
           6.363473892211914,
           3.204888343811035,
           6.085641860961914,
           4.4414873123168945,
           8.439109802246094,
           7.240498065948486,
           19.38526153564453,
           5.59617805480957,
           16.30206298828125,
           16.876924514770508,
           22.20769500732422,
           15.519674301147461,
           9.87962818145752,
           5.808395862579346,
           10.149666786193848,
           5.006241321563721,
           7.609787464141846,
           7.774292945861816,
           8.57107925415039,
           9.861014366149902,
           11.94005012512207,
           7.297665119171143,
           5.661799430847168,
           17.279743194580078,
           6.714972972869873,
           4.803335666656494,
           20.993799209594727,
           10.540240287780762,
           6.356504440307617,
           12.854211807250977,
           7.597808837890625,
           18.612274169921875,
           18.707504272460938,
           5.605679035186768,
           5.5249223709106445,
           8.573460578918457,
           8.093199729919434,
           11.469511032104492,
           9.04239559173584,
           8.845388412475586,
           7.575984477996826,
           8.891733169555664,
           14.018187522888184,
           5.791535377502441,
           15.958508491516113,
           8.726632118225098,
           7.121089458465576,
           7.96309757232666,
           7.245107173919678,
           8.517401695251465,
           13.277509689331055,
           5.949343204498291,
           8.530055046081543,
           9.308354377746582,
           4.774209022521973,
           7.411376953125,
           5.20512580871582,
           6.375059127807617,
           4.226686000823975,
           4.932678699493408,
           6.4424872398376465,
           6.418004512786865,
           12.617362022399902,
           6.64680814743042,
           7.091655254364014,
           5.683232307434082,
           4.517764091491699,
           4.892106533050537,
           4.251999855041504,
           6.121654510498047,
           6.2230377197265625,
           5.543066024780273,
           7.160782814025879,
           7.158224105834961,
           4.585443496704102,
           4.338077068328857,
           12.648164749145508,
           15.758654594421387,
           4.438850402832031,
           8.068580627441406,
           4.097309112548828,
           5.182257652282715,
           4.162232398986816,
           6.3156890869140625,
           5.15541934967041,
           5.706971168518066,
           5.139698505401611,
           10.017324447631836,
           5.833343029022217,
           4.337165355682373,
           4.329190254211426,
           4.496567726135254,
           3.4894371032714844,
           7.958641052246094,
           5.971515655517578,
           4.690274238586426,
           9.165119171142578,
           5.237571716308594,
           3.185673713684082,
           3.338611364364624,
           7.2224650382995605,
           5.590376853942871,
           8.5872802734375,
           10.953028678894043,
           3.260430097579956,
           5.447465419769287,
           5.132000923156738,
           4.848214149475098,
           6.414315223693848,
           5.58320951461792,
           5.323989391326904,
           6.413585662841797,
           14.708186149597168,
           3.1257238388061523,
           12.452021598815918,
           5.501757621765137,
           9.086536407470703,
           4.2997355461120605,
           5.3741021156311035,
           6.0445170402526855,
           4.932391166687012,
           6.399418354034424,
           5.890880584716797,
           5.192356109619141,
           4.476028919219971,
           3.708850383758545,
           6.671665191650391,
           4.264330863952637,
           7.604264736175537,
           7.168665409088135,
           5.741428852081299,
           8.3765287399292,
           10.482104301452637,
           6.08040714263916,
           3.4590044021606445,
           4.817000389099121,
           3.4817559719085693,
           4.388991355895996,
           8.79919147491455,
           5.986266136169434,
           8.574488639831543,
           10.013297080993652,
           5.974329471588135,
           5.17526388168335,
           3.5595483779907227,
           5.260067939758301,
           3.372051239013672,
           6.394537925720215,
           4.612038612365723,
           7.946732997894287,
           3.6504204273223877,
           13.84996509552002,
           5.0446553230285645,
           3.6806719303131104,
           4.4595046043396,
           6.840842247009277,
           5.242427349090576,
           4.216597557067871,
           5.232015132904053,
           3.9763779640197754,
           6.76495361328125,
           6.392221450805664,
           3.6335020065307617,
           4.507837772369385,
           5.189572334289551,
           5.045649528503418,
           4.073455810546875,
           5.236711502075195,
           3.759643316268921,
           5.8421149253845215,
           4.463045597076416,
           6.0308332443237305,
           3.87974214553833,
           4.6493000984191895,
           4.569984436035156,
           6.013349533081055,
           6.026978492736816,
           4.064697742462158,
           4.1102118492126465,
           6.207646369934082,
           6.830153465270996,
           3.868453025817871,
           3.833202838897705,
           2.736227035522461,
           5.070432186126709,
           3.9042162895202637,
           6.223604202270508,
           6.740532398223877,
           3.719635009765625,
           2.6175079345703125,
           3.735036849975586,
           12.941513061523438,
           3.7209930419921875,
           6.89154052734375,
           3.6614413261413574,
           4.952636241912842,
           3.1299562454223633,
           3.9177935123443604,
           5.475337982177734,
           3.549139976501465,
           3.7748942375183105,
           3.087311267852783,
           6.624115943908691,
           6.1924543380737305,
           7.890575885772705,
           9.436457633972168,
           4.9984307289123535,
           4.969719409942627,
           5.188364505767822,
           4.164989948272705,
           4.077535152435303,
           3.2928624153137207,
           5.398571014404297,
           4.264254093170166,
           4.356077671051025,
           4.854831695556641,
           4.040474891662598,
           5.234516620635986,
           3.8844058513641357,
           3.718045234680176,
           3.146256446838379,
           3.705392599105835,
           5.7350568771362305,
           3.962980270385742,
           4.03733491897583,
           3.8426008224487305,
           4.342442512512207,
           5.328314304351807,
           2.5331573486328125,
           2.9998109340667725,
           6.084305286407471,
           4.249232769012451,
           5.0608439445495605,
           4.726218223571777,
           6.9264678955078125,
           4.316196441650391,
           2.520167350769043,
           5.534604072570801,
           3.337672233581543,
           3.6369504928588867
          ]
         },
         "mode": "markers",
         "name": "All Data",
         "type": "scatter3d",
         "x": [
          352.2734375,
          352.2734375,
          330.71640625,
          390.5120738636363,
          312.83984375,
          289.3079268292683,
          411.49300986842104,
          419.37972861842104,
          352.2734375,
          347.015625,
          373.3046875,
          375.2763671875,
          390.32998511904765,
          486.01904296875,
          354.5267857142857,
          347.015625,
          304.10509072580646,
          399.59375,
          334.5283203125,
          304.953125,
          515.265625,
          290.9322916666667,
          441.65625,
          162.9921875,
          168.25,
          168.70066964285715,
          135.28209459459458,
          130.59269425675677,
          125.41429227941175,
          190.8276654411765,
          157.734375,
          107.78515625,
          126.1875,
          190.05445772058823,
          126.1875,
          152.4765625,
          177.451171875,
          157.734375,
          199.796875,
          168.42526041666665,
          180.16770833333334,
          247.1171875,
          352.2734375,
          368.046875,
          415.3671875,
          352.2734375,
          330.71640625,
          336.5,
          370.0185546875,
          439.02734375,
          341.7578125,
          390.5120738636363,
          312.83984375,
          271.85983455882354,
          453.87293198529414,
          424.4223090277778,
          368.2164818548387,
          289.3079268292683,
          325.8460115131579,
          411.49300986842104,
          419.37972861842104,
          324.5504261363636,
          405.14366319444446,
          352.2734375,
          334.57213541666664,
          347.015625,
          261.4566761363636,
          310.2109375,
          373.3046875,
          298.2742820945946,
          442.59995993589746,
          375.2763671875,
          390.32998511904765,
          238.6462673611111,
          312.83984375,
          399.1674408783784,
          295.13854166666664,
          373.1350806451613,
          354.5267857142857,
          444.28515625,
          347.015625,
          312.60085227272725,
          441.65625,
          441.65625,
          142.81355574324323,
          304.10509072580646,
          161.12651209677418,
          122.30129076086956,
          271.82890625,
          404.8515625,
          334.5283203125,
          144.58984375,
          322.4791666666667,
          352.2734375,
          336.5,
          390.5120738636363,
          375.2763671875,
          354.5267857142857,
          334.5283203125,
          294.4375,
          352.2734375,
          368.046875,
          415.3671875,
          391.1134072580645,
          352.2734375,
          330.71640625,
          336.5,
          436.3984375,
          357.53125,
          294.4375,
          410.9619932432432,
          439.02734375,
          162.9921875,
          168.25,
          456.15076013513516,
          168.70066964285715,
          135.28209459459458,
          341.7578125,
          390.5120738636363,
          130.59269425675677,
          206.96661931818184,
          312.83984375,
          271.85983455882354,
          120.9296875,
          173.92290296052633,
          378.32350852272725,
          105.15625,
          136.703125,
          453.87293198529414,
          135.58783143939394,
          125.41429227941175,
          389.36233108108104,
          424.4223090277778,
          220.828125,
          368.2164818548387,
          190.8276654411765,
          458.8636363636363,
          416.32315340909093,
          289.3079268292683,
          152.4765625,
          157.734375,
          325.8460115131579,
          131.4453125,
          411.49300986842104,
          268.44888392857143,
          107.78515625,
          385.36672794117646,
          419.37972861842104,
          327.06290064102564,
          126.1875,
          189.28125,
          324.5504261363636,
          405.14366319444446,
          190.05445772058823,
          126.1875,
          334.57213541666664,
          299.8649193548387,
          153.93706597222223,
          151.53285256410257,
          108.98011363636363,
          205.0546875,
          261.4566761363636,
          178.61957465277777,
          310.2109375,
          152.4765625,
          373.3046875,
          99.8984375,
          148.67925347222223,
          177.451171875,
          147.21875,
          126.03285845588235,
          173.83642578125,
          194.5390625,
          309.296535326087,
          207.08996975806454,
          298.2742820945946,
          442.59995993589746,
          101.47578125,
          375.2763671875,
          390.32998511904765,
          238.6462673611111,
          115.671875,
          249.74609375,
          158.90277777777777,
          481.64749053030306,
          140.30057565789474,
          241.859375,
          377.5109375,
          98.25537109375,
          99.02213541666666,
          164.45269097222223,
          134.7314453125,
          312.83984375,
          224.38986895161293,
          257.3560855263158,
          347.72614020270265,
          446.2767518939394,
          399.1674408783784,
          120.9296875,
          253.60182291666666,
          150.95010080645162,
          115.81023848684211,
          157.734375,
          295.13854166666664,
          189.28125,
          82.8503787878788,
          252.375,
          204.266015625,
          486.01904296875,
          356.4159564393939,
          84.89820772058825,
          336.5,
          184.0234375,
          199.796875,
          110.86473214285714,
          220.65286458333335,
          206.13321314102564,
          80.674560546875,
          169.95878906250002,
          304.10509072580646,
          230.13040865384613,
          147.72757056451613,
          453.39869791666666,
          162.6735321969697,
          269.5052923387097,
          333.1078629032258,
          474.5599798387097,
          444.28515625,
          287.4270833333333,
          119.12700892857144,
          192.08541666666665,
          273.28106398809524,
          235.92748397435895,
          238.6462673611111,
          198.33637152777777,
          141.71056547619048,
          347.015625,
          96.74374999999999,
          171.90125868055554,
          254.82864583333335,
          168.25,
          312.60085227272725,
          255.19168526785714,
          233.97265625,
          185.9951171875,
          202.9515625,
          226.0859375,
          234.26475694444446,
          456.30301339285717,
          168.25,
          411.80544354838713,
          214.46340460526315,
          134.3835018382353,
          417.733203125,
          311.9635416666667,
          131.4453125,
          142.81355574324323,
          168.42526041666665,
          304.10509072580646,
          127.501953125,
          338.9536458333333,
          266.34575892857146,
          178.47352430555554,
          226.0859375,
          176.76264880952382,
          215.5703125,
          269.16607862903226,
          287.53662109375,
          89.3828125,
          218.04457720588235,
          247.59517045454547,
          121.53058035714285,
          161.12651209677418,
          254.478125,
          70.60491071428572,
          220.828125,
          193.48749999999998,
          142.64673913043478,
          398.01640625,
          190.26708984375,
          195.38709677419357,
          255.496826171875,
          178.765625,
          215.5703125,
          174.86466733870967,
          218.57477678571428,
          281.29296875,
          174.69506048387098,
          212.94140625,
          124.7153125,
          132.83708639705884,
          351.50022977941177,
          180.16770833333334,
          232.74583333333334,
          156.31881009615384,
          194.5390625,
          268.3431712962963,
          143.0125,
          286.25868055555554,
          121.40767045454545,
          298.67767137096774,
          213.42824074074076,
          108.52125000000001,
          249.74609375,
          222.40546874999998,
          334.5283203125,
          168.25,
          483.71875,
          187.02790178571428,
          144.26123046875,
          235.85044642857142,
          357.53125,
          502.8380681818182,
          98.70348011363637,
          291.80859375,
          226.0859375,
          205.0546875,
          222.93125,
          237.76996527777777,
          515.265625,
          427.63541666666663,
          189.28125,
          208.998046875,
          438.6517857142857,
          352.2734375,
          347.015625,
          184.16554054054052,
          373.1350806451613,
          204.561767578125,
          354.5267857142857,
          168.25,
          231.34375,
          441.65625,
          153.61338682432432,
          122.30129076086956,
          107.03404017857143,
          97.96134868421052,
          274.64338235294116,
          394.3359375,
          396.08854166666663,
          111.728515625,
          233.3659855769231,
          268.411328125,
          294.4375,
          194.5390625,
          382.06770833333337,
          205.0546875,
          271.6536458333333,
          336.5,
          499.4921875,
          322.4791666666667,
          228.71484375,
          290.9322916666667,
          218.19921875,
          147.21875,
          164.74479166666666,
          194.5390625,
          233.97265625,
          315.46875,
          462.6875,
          199.796875,
          210.3125,
          168.25,
          367.1455357142857,
          368.046875,
          341.3071428571428,
          391.92018581081084,
          398.82054227941177,
          345.93709935897436,
          339.04410282258067,
          420.3063446969697,
          413.4552556818182,
          320.5881990131579,
          403.20849609375,
          383.8203125,
          404.8515625,
          319.9754464285714,
          395.21223958333337,
          336.1813446969697,
          359.28385416666663,
          376.42042824074076,
          437.17164522058823,
          299.1319754464286,
          357.53125,
          357.3766084558823,
          323.848388671875,
          318.6234375,
          462.24934895833337,
          394.3359375,
          317.2213541666667,
          416.94453125,
          394.3359375,
          297.06640625,
          410.109375,
          362.7890625,
          352.2734375,
          431.140625,
          415.3671875,
          389.078125,
          347.015625,
          452.0370592948718,
          414.09256628787875,
          359.28385416666663,
          441.2806919642857,
          390.77419354838713,
          378.5625,
          451.5146484375,
          89.3828125,
          658.9791666666666,
          167.66579861111111,
          317.2213541666667,
          394.3359375,
          373.3046875,
          283.921875,
          368.046875,
          651.96875,
          362.7890625,
          171.75520833333331,
          354.90234375,
          494.234375,
          157.734375,
          331.2421875,
          194.5390625,
          368.17832031250003,
          209.45988175675677,
          128.48779296875,
          428.51171875,
          189.13519965277777,
          416.4740953947369,
          105.3258568548387,
          152.8708984375,
          352.6940625,
          141.23068576388889,
          249.18844696969694,
          116.75436580882354,
          284.0971354166667,
          219.513671875,
          347.015625,
          206.204833984375,
          136.703125,
          553.2971354166667,
          227.0419034090909,
          93.28377016129032,
          367.17057291666663,
          185.1664402173913,
          171.00409226190476,
          231.82173295454547,
          50.82552083333333,
          102.52734375,
          324.81597222222223,
          392.58333333333337,
          404.8515625,
          67.94711538461539,
          128.290625,
          378.5625,
          203.30208333333331,
          450.62545955882354,
          423.6294642857143,
          367.1455357142857,
          429.91380208333334,
          368.046875,
          341.3071428571428,
          391.92018581081084,
          398.82054227941177,
          99.8984375,
          434.591064453125,
          73.05592105263158,
          252.8013091216216,
          427.83571428571423,
          400.3903882575758,
          428.21961805555554,
          98.95472756410257,
          345.93709935897436,
          99.19739583333333,
          339.04410282258067,
          283.79668898809524,
          401.1202116935484,
          452.8091856060606,
          420.3063446969697,
          413.4552556818182,
          392.94416360294116,
          320.5881990131579,
          85.02633928571429,
          403.20849609375,
          325.984375,
          383.8203125,
          320.4079071969697,
          404.8515625,
          284.086181640625,
          319.9754464285714,
          368.1889780405406,
          395.21223958333337,
          137.196044921875,
          109.2122767857143,
          336.1813446969697,
          369.79947916666663,
          376.42042824074076,
          369.79947916666663,
          396.71043346774195,
          324.99853515625,
          102.60700757575758,
          291.25094696969694,
          437.17164522058823,
          124.2158203125,
          131.30320945945945,
          345.701171875,
          73.773681640625,
          299.1319754464286,
          323.4461206896552,
          356.40457589285717,
          80.03559027777777,
          402.22265625,
          357.53125,
          357.3766084558823,
          136.23920036764704,
          323.848388671875,
          318.6234375,
          462.24934895833337,
          79.55298913043478,
          181.04401041666665,
          421.50130208333337,
          417.99609375,
          394.3359375,
          402.22265625,
          416.94453125,
          346.7063419117647,
          304.953125,
          324.2317708333333,
          515.265625,
          478.4609375,
          557.328125,
          557.328125,
          515.79140625,
          510.0078125,
          496.86328125,
          448.98532196969694,
          535.8329503676471,
          459.9039522058823,
          473.203125,
          490.05508814102564,
          535.8705658783783,
          441.78143601190476,
          484.59505208333337,
          450.62545955882354,
          484.182674632353,
          373.3046875,
          423.6294642857143,
          534.7035984848485,
          367.1455357142857,
          452.993408203125,
          441.65625,
          471.97630208333334,
          501.03860294117646,
          429.91380208333334,
          532.61640625,
          368.046875,
          543.1479640151515,
          160.36328125,
          527.2834821428572,
          541.5546875,
          560.4828125,
          192.20225694444446,
          512.63671875,
          341.3071428571428,
          102.00156249999999,
          474.76625844594594,
          391.92018581081084,
          398.82054227941177,
          99.8984375,
          518.3185483870967,
          128.48779296875,
          73.05592105263158,
          400.3903882575758,
          456.90390625000003,
          500.36848958333337,
          98.95472756410257,
          345.93709935897436,
          537.6488839285714,
          99.19739583333333,
          339.04410282258067,
          283.79668898809524,
          428.51171875,
          401.1202116935484,
          420.3063446969697,
          413.4552556818182,
          80.61979166666667,
          523.678125,
          189.13519965277777,
          571.2815504807693,
          392.94416360294116,
          105.3258568548387,
          320.5881990131579,
          85.02633928571429,
          403.20849609375,
          325.984375,
          557.7787946428572,
          387.0428427419355,
          152.8708984375,
          319.9754464285714,
          395.21223958333337,
          137.196044921875,
          109.2122767857143,
          249.18844696969694,
          336.1813446969697,
          359.28385416666663,
          369.79947916666663,
          116.75436580882354,
          376.42042824074076,
          369.79947916666663,
          228.3165246212121,
          219.513671875,
          291.25094696969694,
          437.17164522058823,
          131.30320945945945,
          345.701171875,
          259.17922794117646,
          73.773681640625,
          299.1319754464286,
          323.4461206896552,
          206.204833984375,
          357.3766084558823,
          63.09375,
          136.23920036764704,
          323.848388671875,
          436.73765120967744,
          318.6234375,
          462.24934895833337,
          165.62109375,
          489.5951286764706,
          553.2971354166667,
          227.0419034090909,
          101.06684027777777,
          93.28377016129032,
          231.69427083333335,
          171.00409226190476,
          416.94453125,
          396.96484375,
          389.078125,
          492.68795955882354,
          589.5123106060606,
          452.0370592948718,
          435.62522977941177,
          542.0635080645161,
          492.6069568452381,
          488.8417467948718,
          536.296875,
          524.2790178571428,
          482.239990234375,
          582.1961570945946,
          414.09256628787875,
          434.591064453125,
          428.21961805555554,
          482.04580965909093,
          530.6885416666667,
          141.23068576388889,
          102.60700757575758,
          124.2158203125,
          390.77419354838713,
          69.22786458333333,
          80.03559027777777,
          70.98046875,
          79.91875,
          79.55298913043478,
          185.77604166666669,
          181.04401041666665,
          274.78988486842104,
          89.73333333333333,
          176.56073588709677,
          83.59921875,
          561.7096354166666,
          85.439453125,
          229.59114583333331,
          394.3359375,
          157.734375,
          80.61979166666667,
          68.3515625,
          21.03125,
          83.1690340909091,
          81.49609375,
          102.52734375,
          550.9019097222222,
          323.35546875,
          67.94711538461539,
          28.91796875,
          283.921875,
          63.09375,
          362.7890625,
          171.75520833333331,
          425.8828125,
          222.58072916666669,
          113.04296875,
          368.046875
         ],
         "y": [
          247.1171875,
          215.5703125,
          265.87005208333335,
          214.13636363636363,
          265.51953125,
          277.6381478658537,
          178.9039884868422,
          151.36965460526312,
          236.6015625,
          231.34375,
          266.833984375,
          250.567626953125,
          226.33630952380955,
          125.85888671875,
          272.65513392857144,
          238.737548828125,
          263.0602318548387,
          247.1171875,
          257.6328125,
          257.6328125,
          173.5078125,
          140.2083333333333,
          141.9609375,
          162.9921875,
          294.4375,
          307.65714285714284,
          146.36613175675677,
          293.4427787162162,
          175.0542279411764,
          184.7966452205883,
          203.01940524193554,
          276.03515625,
          210.3125,
          108.8676470588236,
          241.859375,
          136.703125,
          233.3154296875,
          162.9921875,
          136.703125,
          203.47734374999993,
          209.96197916666668,
          141.9609375,
          247.1171875,
          189.28125,
          162.9921875,
          215.5703125,
          265.87005208333335,
          247.1171875,
          163.485107421875,
          144.58984375,
          184.0234375,
          214.13636363636363,
          265.51953125,
          158.5075827205883,
          181.0852481617647,
          180.2261284722222,
          206.41154233870964,
          277.6381478658537,
          158.70291940789468,
          178.9039884868422,
          151.36965460526312,
          206.4886363636364,
          205.6388888888889,
          236.6015625,
          197.34322916666665,
          231.34375,
          180.1995738636364,
          283.39609375,
          266.833984375,
          179.61824324324323,
          99.76362179487167,
          250.567626953125,
          226.33630952380955,
          154.81336805555563,
          176.13671875,
          211.1651182432434,
          201.5494791666667,
          237.7888104838711,
          272.65513392857144,
          140.38359374999993,
          238.737548828125,
          232.61837121212125,
          194.5390625,
          194.046142578125,
          141.9609375,
          263.0602318548387,
          119.74243951612907,
          123.67289402173913,
          175.08515625000007,
          241.859375,
          257.6328125,
          99.8984375,
          238.3541666666667,
          247.1171875,
          247.1171875,
          214.13636363636363,
          250.567626953125,
          272.65513392857144,
          257.6328125,
          36.8046875,
          247.1171875,
          189.28125,
          162.9921875,
          154.34223790322582,
          215.5703125,
          265.87005208333335,
          247.1171875,
          147.21875,
          141.9609375,
          141.9609375,
          124.76646959459458,
          144.58984375,
          162.9921875,
          294.4375,
          126.89801520270271,
          307.65714285714284,
          146.36613175675677,
          184.0234375,
          214.13636363636363,
          293.4427787162162,
          307.82102272727275,
          265.51953125,
          158.5075827205883,
          194.5390625,
          130.2000411184211,
          127.62144886363633,
          226.0859375,
          257.6328125,
          181.0852481617647,
          296.82741477272725,
          175.0542279411764,
          188.8549408783784,
          180.2261284722222,
          294.4375,
          206.41154233870964,
          184.7966452205883,
          130.01136363636368,
          124.27556818181819,
          277.6381478658537,
          178.765625,
          203.01940524193554,
          158.70291940789468,
          157.734375,
          178.9039884868422,
          124.38482142857136,
          276.03515625,
          130.6721047794117,
          151.36965460526312,
          138.5905448717949,
          210.3125,
          262.890625,
          206.4886363636364,
          205.6388888888889,
          108.8676470588236,
          241.859375,
          197.34322916666665,
          72.93094758064518,
          135.2426215277778,
          99.76362179487181,
          269.58238636363643,
          220.828125,
          180.1995738636364,
          80.32769097222219,
          283.39609375,
          136.703125,
          266.833984375,
          241.859375,
          224.6254340277778,
          233.3154296875,
          173.5078125,
          121.23897058823532,
          78.045654296875,
          276.03515625,
          236.6015625,
          147.5579637096774,
          179.61824324324323,
          99.76362179487167,
          150.02291666666665,
          250.567626953125,
          226.33630952380955,
          154.81336805555563,
          131.4453125,
          281.29296875,
          185.62999131944437,
          166.3380681818182,
          104.32606907894734,
          241.859375,
          172.45625000000007,
          183.859130859375,
          169.4184027777778,
          285.3823784722222,
          252.375,
          176.13671875,
          193.86063508064518,
          295.68277138157896,
          114.39294763513507,
          96.71188446969697,
          211.1651182432434,
          247.1171875,
          206.2815104166666,
          244.57308467741942,
          195.922697368421,
          162.9921875,
          201.5494791666667,
          162.9921875,
          240.7440814393939,
          147.21875,
          299.0380859375,
          125.85888671875,
          88.42684659090907,
          197.63189338235296,
          136.703125,
          157.734375,
          136.703125,
          283.0205357142857,
          264.46796875000007,
          80.7546073717949,
          266.833984375,
          133.5484374999999,
          109.90524193548389,
          300.09975961538464,
          273.06703629032256,
          78.34140624999988,
          265.43986742424244,
          305.4619455645161,
          205.73311491935482,
          164.34904233870972,
          140.38359374999993,
          284.7981770833333,
          241.55892857142862,
          179.46666666666664,
          232.97116815476184,
          63.36338141025637,
          250.4763454861111,
          233.3884548611111,
          298.1930803571429,
          238.737548828125,
          219.4260416666666,
          198.04427083333331,
          258.50911458333337,
          249.74609375,
          232.61837121212125,
          234.53599330357144,
          123.55859375,
          55.20703125,
          99.63554687499995,
          173.5078125,
          119.615234375,
          175.3856026785713,
          98.43793402777781,
          147.38835685483872,
          66.41447368421048,
          142.73414522058812,
          126.71328125000012,
          140.8655598958333,
          180.080078125,
          141.9609375,
          203.47734374999993,
          263.0602318548387,
          167.099853515625,
          115.14609375000003,
          98.09575892857136,
          276.32725694444446,
          165.62109375,
          162.24107142857144,
          170.87890625,
          66.99470766129036,
          152.14794921875,
          144.58984375,
          102.21806066176468,
          191.35250946969688,
          221.87968750000002,
          119.74243951612907,
          57.57304687499994,
          170.12779017857144,
          73.609375,
          114.62031250000005,
          114.75747282608701,
          117.24921875000005,
          225.75732421875,
          85.14264112903223,
          103.51318359375,
          56.78437500000006,
          68.3515625,
          273.74546370967744,
          205.95602678571433,
          202.42578125,
          101.25529233870971,
          50.27783203125,
          96.1128125,
          211.54963235294125,
          173.35317095588235,
          209.96197916666668,
          99.54791666666668,
          199.39242788461536,
          157.734375,
          178.3761574074074,
          272.70520833333336,
          60.17274305555562,
          87.47088068181813,
          135.68548387096777,
          244.19618055555563,
          180.44812499999998,
          215.5703125,
          208.9104166666666,
          257.6328125,
          228.71484375,
          136.703125,
          132.9475446428571,
          214.255859375,
          49.57366071428565,
          147.21875,
          188.80326704545453,
          111.13103693181813,
          52.578125,
          36.8046875,
          52.578125,
          119.87812499999998,
          75.36197916666657,
          173.5078125,
          40.309895833333336,
          63.09375,
          82.810546875,
          100.79977678571431,
          236.6015625,
          231.34375,
          263.7432432432434,
          237.7888104838711,
          258.947265625,
          272.65513392857144,
          126.1875,
          178.765625,
          194.046142578125,
          276.6746199324324,
          123.67289402173913,
          195.66573660714286,
          173.78453947368422,
          270.6227022058823,
          109.53776041666664,
          161.23958333333343,
          258.2900390625,
          33.973557692307644,
          210.3125,
          36.8046875,
          187.77901785714283,
          224.3333333333333,
          94.640625,
          77.11458333333329,
          102.52734375,
          170.87890625,
          238.3541666666667,
          68.3515625,
          140.2083333333333,
          73.609375,
          252.375,
          233.09635416666663,
          152.4765625,
          78.8671875,
          31.546875,
          157.734375,
          141.9609375,
          189.28125,
          289.1796875,
          282.5698660714285,
          257.6328125,
          294.28727678571437,
          264.31165540540536,
          278.8187040441175,
          303.0657051282051,
          252.375,
          257.792140151515,
          238.03551136363626,
          309.65748355263156,
          238.5732421875,
          247.1171875,
          252.375,
          313.51584821428577,
          279.18984374999997,
          285.6744791666667,
          276.9114583333333,
          318.0002893518518,
          236.9108455882353,
          307.3942522321429,
          265.51953125,
          243.7150735294118,
          255.00390625,
          299.16953125,
          218.19921875,
          257.6328125,
          311.96354166666674,
          261.31328124999993,
          310.2109375,
          42.0625,
          278.6640625,
          294.4375,
          268.1484375,
          247.1171875,
          299.6953125,
          273.40625,
          304.953125,
          195.48277243589746,
          130.48934659090907,
          276.9114583333333,
          282.0440848214286,
          244.40347782258058,
          147.21875,
          247.55533854166663,
          324.669921875,
          192.78645833333331,
          297.94270833333337,
          311.96354166666674,
          310.2109375,
          320.7265625,
          63.09375,
          289.1796875,
          184.0234375,
          294.4375,
          254.12760416666663,
          283.921875,
          226.0859375,
          289.1796875,
          205.0546875,
          105.15625,
          121.19257812500005,
          146.50823479729732,
          320.562255859375,
          212.94140625,
          167.5197482638889,
          232.31229440789468,
          312.4158266129032,
          152.60800781250003,
          95.27156250000003,
          185.1918402777778,
          177.96898674242422,
          186.80698529411765,
          102.00156250000003,
          210.8967013888889,
          134.07421875,
          96.94091796875,
          313.4970703125,
          140.7341145833334,
          128.57741477272734,
          304.10509072580646,
          212.06510416666663,
          134.64572010869563,
          254.87872023809527,
          91.77272727272734,
          292.68489583333337,
          218.19921875,
          224.9175347222222,
          233.09635416666663,
          215.5703125,
          293.6286057692308,
          246.06562500000007,
          212.94140625,
          122.68229166666664,
          167.47679227941177,
          184.92477678571427,
          282.5698660714285,
          154.40442708333333,
          257.6328125,
          294.28727678571437,
          264.31165540540536,
          278.8187040441175,
          273.40625,
          216.55615234375,
          261.3686266447369,
          143.38196790540536,
          176.21183035714282,
          151.3612689393939,
          168.1039496527778,
          273.40625,
          303.0657051282051,
          307.7572916666667,
          252.375,
          161.36476934523816,
          195.04788306451613,
          200.1155303030303,
          257.792140151515,
          238.03551136363626,
          151.85799632352936,
          309.65748355263156,
          229.09040178571428,
          238.5732421875,
          173.5078125,
          247.1171875,
          105.15625,
          252.375,
          126.680419921875,
          313.51584821428577,
          162.28167229729732,
          279.18984374999997,
          316.290283203125,
          214.3685267857143,
          285.6744791666667,
          229.240625,
          318.0002893518518,
          163.94815340909093,
          194.8782762096774,
          146.068603515625,
          235.64559659090907,
          195.81368371212125,
          236.9108455882353,
          211.29833984375,
          262.7485219594594,
          179.05772569444446,
          294.601806640625,
          307.3942522321429,
          182.3917025862069,
          179.14118303571436,
          200.67317708333337,
          304.953125,
          265.51953125,
          243.7150735294118,
          268.4577205882353,
          255.00390625,
          299.16953125,
          218.19921875,
          256.2612092391304,
          195.7658854166666,
          203.30208333333337,
          184.0234375,
          217.5419921875,
          193.6627604166667,
          261.31328124999993,
          206.6011029411764,
          324.669921875,
          324.2317708333333,
          168.25,
          152.4765625,
          173.5078125,
          178.765625,
          178.765625,
          162.9921875,
          155.10546875,
          152.4765625,
          150.77550551470594,
          164.38396139705875,
          162.9921875,
          176.8782051282051,
          203.34945101351352,
          187.65383184523816,
          143.18776041666675,
          167.47679227941177,
          152.7858455882353,
          294.4375,
          184.92477678571427,
          148.1747159090909,
          282.5698660714285,
          196.5107421875,
          136.703125,
          143.36302083333325,
          184.7966452205883,
          154.40442708333333,
          209.6552734375,
          257.6328125,
          205.3733428030303,
          268.8056640625,
          205.95602678571433,
          157.734375,
          195.59062499999993,
          322.33311631944446,
          197.16796875,
          294.28727678571437,
          226.6117187500001,
          139.68728885135133,
          264.31165540540536,
          278.8187040441175,
          273.40625,
          156.37752016129036,
          320.562255859375,
          261.3686266447369,
          151.3612689393939,
          187.5286458333333,
          149.49713541666668,
          273.40625,
          303.0657051282051,
          127.6897321428571,
          307.7572916666667,
          252.375,
          161.36476934523816,
          212.94140625,
          195.04788306451613,
          257.792140151515,
          238.03551136363626,
          294.1453993055556,
          139.85781249999997,
          167.5197482638889,
          148.22986778846146,
          151.85799632352936,
          312.4158266129032,
          309.65748355263156,
          229.09040178571428,
          238.5732421875,
          173.5078125,
          195.44040178571433,
          233.54863911290332,
          152.60800781250003,
          313.51584821428577,
          279.18984374999997,
          316.290283203125,
          214.3685267857143,
          177.96898674242422,
          285.6744791666667,
          276.9114583333333,
          229.240625,
          186.80698529411765,
          318.0002893518518,
          163.94815340909093,
          238.51349431818178,
          210.8967013888889,
          195.81368371212125,
          236.9108455882353,
          262.7485219594594,
          179.05772569444446,
          317.9430147058825,
          294.601806640625,
          307.3942522321429,
          182.3917025862069,
          96.94091796875,
          243.7150735294118,
          320.7265625,
          268.4577205882353,
          255.00390625,
          225.7467237903226,
          299.16953125,
          218.19921875,
          105.77481617647062,
          223.7663143382353,
          140.7341145833334,
          128.57741477272734,
          319.5581597222222,
          304.10509072580646,
          308.4583333333333,
          254.87872023809527,
          261.31328124999993,
          162.9921875,
          273.40625,
          151.7033547794118,
          189.75923295454533,
          195.48277243589746,
          129.8988970588236,
          156.88634072580646,
          126.31268601190473,
          195.48277243589746,
          110.4140625,
          187.77901785714286,
          191.088623046875,
          184.8760557432434,
          130.48934659090907,
          216.55615234375,
          168.1039496527778,
          114.47691761363633,
          194.5390625,
          185.1918402777778,
          235.64559659090907,
          211.29833984375,
          244.40347782258058,
          324.2317708333334,
          200.67317708333337,
          261.1380208333334,
          204.00312499999998,
          256.2612092391304,
          274.28255208333337,
          195.7658854166666,
          260.1233552631579,
          211.36406249999993,
          223.03301411290317,
          322.30390625000007,
          116.84027777777781,
          161.677734375,
          33.29947916666664,
          217.5419921875,
          76.23828125,
          179.9340277777778,
          220.828125,
          239.23046875,
          268.6264204545455,
          321.6028645833333,
          218.19921875,
          99.31423611111124,
          265.51953125,
          293.6286057692308,
          289.1796875,
          299.6953125,
          178.765625,
          294.4375,
          254.12760416666663,
          236.6015625,
          66.59895833333329,
          310.2109375,
          194.5390625
         ],
         "z": [
          -282.5,
          -215,
          -282.5,
          -282.5,
          -215,
          -215,
          -350,
          -350,
          -215,
          -215,
          -282.5,
          -215,
          -215,
          -215,
          -215,
          -147.49999999999997,
          -147.49999999999997,
          -282.5,
          -147.49999999999997,
          -282.5,
          -282.5,
          -147.49999999999997,
          -147.49999999999997,
          -80,
          -215,
          -282.5,
          -80,
          -215,
          -80,
          -80,
          -80,
          -215,
          -80,
          -80,
          -147.49999999999997,
          -80,
          -80,
          -12.5,
          -12.5,
          -12.5,
          -147.49999999999997,
          -215,
          -282.5,
          -215,
          -282.5,
          -215,
          -282.5,
          -215,
          -215,
          -282.5,
          -147.49999999999997,
          -282.5,
          -215,
          -80,
          -282.5,
          -215,
          -147.49999999999997,
          -215,
          -147.49999999999997,
          -350,
          -350,
          -147.49999999999997,
          -215,
          -215,
          -215,
          -215,
          -80,
          -282.5,
          -282.5,
          -147.49999999999997,
          -350,
          -215,
          -215,
          -80,
          -80,
          -350,
          -80,
          -350,
          -215,
          -350,
          -147.49999999999997,
          -147.49999999999997,
          -282.5,
          -350,
          -215,
          -147.49999999999997,
          -215,
          -215,
          -12.5,
          -282.5,
          -147.49999999999997,
          -215,
          -80,
          -282.5,
          -215,
          -282.5,
          -215,
          -215,
          -147.49999999999997,
          -80,
          -282.5,
          -215,
          -282.5,
          -282.5,
          -215,
          -282.5,
          -215,
          -215,
          -147.49999999999997,
          -80,
          -215,
          -282.5,
          -80,
          -215,
          -282.5,
          -282.5,
          -80,
          -147.49999999999997,
          -282.5,
          -215,
          -282.5,
          -215,
          -80,
          -147.49999999999997,
          -80,
          -215,
          -147.49999999999997,
          -147.49999999999997,
          -282.5,
          -282.5,
          -80,
          -282.5,
          -215,
          -215,
          -147.49999999999997,
          -80,
          -215,
          -282.5,
          -215,
          -80,
          -80,
          -147.49999999999997,
          -147.49999999999997,
          -350,
          -80,
          -215,
          -147.49999999999997,
          -350,
          -80,
          -80,
          -147.49999999999997,
          -147.49999999999997,
          -215,
          -80,
          -147.49999999999997,
          -215,
          -80,
          -147.49999999999997,
          -80,
          -147.49999999999997,
          -80,
          -80,
          -147.49999999999997,
          -282.5,
          -80,
          -282.5,
          -215,
          -147.49999999999997,
          -80,
          -80,
          -80,
          -80,
          -215,
          -215,
          -80,
          -147.49999999999997,
          -350,
          -80,
          -215,
          -215,
          -80,
          -147.49999999999997,
          -215,
          -147.49999999999997,
          -282.5,
          -147.49999999999997,
          -147.49999999999997,
          -147.49999999999997,
          -80,
          -147.49999999999997,
          -147.49999999999997,
          -215,
          -80,
          -80,
          -282.5,
          -147.49999999999997,
          -282.5,
          -350,
          -147.49999999999997,
          -80,
          -80,
          -215,
          -12.5,
          -80,
          -80,
          -147.49999999999997,
          -12.5,
          -147.49999999999997,
          -215,
          -147.49999999999997,
          -147.49999999999997,
          -147.49999999999997,
          -80,
          -12.5,
          -282.5,
          -147.49999999999997,
          -80,
          -215,
          -12.5,
          -80,
          -282.5,
          -282.5,
          -350,
          -215,
          -215,
          -80,
          -215,
          -350,
          -282.5,
          -80,
          -12.5,
          -147.49999999999997,
          -80,
          -80,
          -147.49999999999997,
          -147.49999999999997,
          -147.49999999999997,
          -80,
          -282.5,
          -215,
          -147.49999999999997,
          -147.49999999999997,
          -80,
          -12.5,
          -80,
          -147.49999999999997,
          -80,
          -80,
          -350,
          -12.5,
          -147.49999999999997,
          -147.49999999999997,
          -12.5,
          -350,
          -147.49999999999997,
          -12.5,
          -215,
          -12.5,
          -147.49999999999997,
          -215,
          -80,
          -80,
          -282.5,
          -12.5,
          -147.49999999999997,
          -80,
          -80,
          -12.5,
          -147.49999999999997,
          -12.5,
          -12.5,
          -215,
          -215,
          -147.49999999999997,
          -147.49999999999997,
          -80,
          -12.5,
          -12.5,
          -147.49999999999997,
          -12.5,
          -12.5,
          -12.5,
          -147.49999999999997,
          -80,
          -80,
          -12.5,
          -147.49999999999997,
          -215,
          -80,
          -80,
          -12.5,
          -80,
          -147.49999999999997,
          -80,
          -215,
          -12.5,
          -147.49999999999997,
          -80,
          -147.49999999999997,
          -147.49999999999997,
          -12.5,
          -350,
          -12.5,
          -147.49999999999997,
          -147.49999999999997,
          -147.49999999999997,
          -282.5,
          -282.5,
          -147.49999999999997,
          -282.5,
          -147.49999999999997,
          -215,
          -282.5,
          -147.49999999999997,
          -80,
          -147.49999999999997,
          -147.49999999999997,
          -215,
          -12.5,
          -282.5,
          -282.5,
          -147.49999999999997,
          -215,
          -215,
          -215,
          -215,
          -350,
          -350,
          -80,
          -215,
          -147.49999999999997,
          -80,
          -350,
          -350,
          -215,
          -282.5,
          -215,
          -147.49999999999997,
          -215,
          -350,
          -80,
          -80,
          -12.5,
          -80,
          -215,
          -147.49999999999997,
          -215,
          -147.49999999999997,
          -147.49999999999997,
          -215,
          -80,
          -215,
          -147.49999999999997,
          -215,
          -12.5,
          -215,
          -147.49999999999997,
          -147.49999999999997,
          -147.49999999999997,
          -350,
          -147.49999999999997,
          -147.49999999999997,
          -80,
          -205.71428571428572,
          -158.57142857142858,
          -205.71428571428572,
          -205.71428571428572,
          -252.85714285714286,
          -252.85714285714286,
          -158.57142857142858,
          -252.85714285714286,
          -205.71428571428572,
          -205.71428571428572,
          -158.57142857142858,
          -158.57142857142858,
          -205.71428571428572,
          -252.85714285714286,
          -300,
          -158.57142857142858,
          -158.57142857142858,
          -205.71428571428572,
          -300,
          -205.71428571428572,
          -205.71428571428572,
          -111.42857142857144,
          -111.42857142857144,
          -158.57142857142858,
          -300,
          -158.57142857142858,
          -64.28571428571428,
          -300,
          -252.85714285714286,
          -64.28571428571428,
          -205.71428571428572,
          -158.57142857142858,
          -64.28571428571428,
          -205.71428571428572,
          -205.71428571428572,
          -158.57142857142858,
          -111.42857142857144,
          -64.28571428571428,
          -111.42857142857144,
          -158.57142857142858,
          -158.57142857142858,
          -64.28571428571428,
          -64.28571428571428,
          -111.42857142857144,
          -111.42857142857144,
          -158.57142857142858,
          -111.42857142857144,
          -64.28571428571428,
          -252.85714285714286,
          -252.85714285714286,
          -111.42857142857144,
          -158.57142857142858,
          -205.71428571428572,
          -158.57142857142858,
          -111.42857142857144,
          -64.28571428571428,
          -158.57142857142858,
          -111.42857142857144,
          -64.28571428571428,
          -111.42857142857144,
          -64.28571428571428,
          -64.28571428571428,
          -158.57142857142858,
          -205.71428571428572,
          -64.28571428571428,
          -64.28571428571428,
          -64.28571428571428,
          -64.28571428571428,
          -64.28571428571428,
          -64.28571428571428,
          -64.28571428571428,
          -111.42857142857144,
          -64.28571428571428,
          -64.28571428571428,
          -64.28571428571428,
          -64.28571428571428,
          -64.28571428571428,
          -300,
          -64.28571428571428,
          -158.57142857142858,
          -111.42857142857144,
          -64.28571428571428,
          -64.28571428571428,
          -64.28571428571428,
          -111.42857142857144,
          -158.57142857142858,
          -111.42857142857144,
          -111.42857142857144,
          -111.42857142857144,
          -158.57142857142858,
          -64.28571428571428,
          -64.28571428571428,
          -111.42857142857144,
          -158.57142857142858,
          -158.57142857142858,
          -205.71428571428572,
          -158.57142857142858,
          -158.57142857142858,
          -205.71428571428572,
          -205.71428571428572,
          -252.85714285714286,
          -111.42857142857144,
          -64.28571428571428,
          -111.42857142857144,
          -64.28571428571428,
          -64.28571428571428,
          -64.28571428571428,
          -111.42857142857144,
          -64.28571428571428,
          -252.85714285714286,
          -111.42857142857144,
          -158.57142857142858,
          -64.28571428571428,
          -158.57142857142858,
          -111.42857142857144,
          -252.85714285714286,
          -205.71428571428572,
          -111.42857142857144,
          -205.71428571428572,
          -111.42857142857144,
          -158.57142857142858,
          -64.28571428571428,
          -158.57142857142858,
          -64.28571428571428,
          -205.71428571428572,
          -64.28571428571428,
          -252.85714285714286,
          -64.28571428571428,
          -300,
          -111.42857142857144,
          -111.42857142857144,
          -158.57142857142858,
          -158.57142857142858,
          -205.71428571428572,
          -111.42857142857144,
          -111.42857142857144,
          -64.28571428571428,
          -64.28571428571428,
          -64.28571428571428,
          -300,
          -64.28571428571428,
          -111.42857142857144,
          -111.42857142857144,
          -64.28571428571428,
          -205.71428571428572,
          -111.42857142857144,
          -64.28571428571428,
          -111.42857142857144,
          -252.85714285714286,
          -205.71428571428572,
          -111.42857142857144,
          -64.28571428571428,
          -111.42857142857144,
          -158.57142857142858,
          -300,
          -64.28571428571428,
          -64.28571428571428,
          -111.42857142857144,
          -111.42857142857144,
          -158.57142857142858,
          -64.28571428571428,
          -300,
          -64.28571428571428,
          -252.85714285714286,
          -158.57142857142858,
          -111.42857142857144,
          -64.28571428571428,
          -205.71428571428572,
          -158.57142857142858,
          -205.71428571428572,
          -158.57142857142858,
          -205.71428571428572,
          -64.28571428571428,
          -205.71428571428572,
          -252.85714285714286,
          -300,
          -252.85714285714286,
          -158.57142857142858,
          -205.71428571428572,
          -252.85714285714286,
          -158.57142857142858,
          -158.57142857142858,
          -252.85714285714286,
          -158.57142857142858,
          -158.57142857142858,
          -205.71428571428572,
          -252.85714285714286,
          -111.42857142857144,
          -205.71428571428572,
          -300,
          -158.57142857142858,
          -252.85714285714286,
          -158.57142857142858,
          -205.71428571428572,
          -300,
          -300,
          -252.85714285714286,
          -252.85714285714286,
          -158.57142857142858,
          -252.85714285714286,
          -205.71428571428572,
          -252.85714285714286,
          -111.42857142857144,
          -205.71428571428572,
          -252.85714285714286,
          -111.42857142857144,
          -252.85714285714286,
          -158.57142857142858,
          -111.42857142857144,
          -64.28571428571428,
          -300,
          -300,
          -64.28571428571428,
          -252.85714285714286,
          -252.85714285714286,
          -111.42857142857144,
          -158.57142857142858,
          -64.28571428571428,
          -205.71428571428572,
          -158.57142857142858,
          -252.85714285714286,
          -205.71428571428572,
          -300,
          -300,
          -64.28571428571428,
          -252.85714285714286,
          -111.42857142857144,
          -64.28571428571428,
          -205.71428571428572,
          -111.42857142857144,
          -158.57142857142858,
          -64.28571428571428,
          -300,
          -205.71428571428572,
          -64.28571428571428,
          -252.85714285714286,
          -300,
          -111.42857142857144,
          -111.42857142857144,
          -64.28571428571428,
          -158.57142857142858,
          -158.57142857142858,
          -158.57142857142858,
          -111.42857142857144,
          -205.71428571428572,
          -111.42857142857144,
          -111.42857142857144,
          -64.28571428571428,
          -64.28571428571428,
          -300,
          -111.42857142857144,
          -111.42857142857144,
          -205.71428571428572,
          -64.28571428571428,
          -205.71428571428572,
          -111.42857142857144,
          -64.28571428571428,
          -111.42857142857144,
          -205.71428571428572,
          -64.28571428571428,
          -111.42857142857144,
          -252.85714285714286,
          -158.57142857142858,
          -300,
          -64.28571428571428,
          -252.85714285714286,
          -300,
          -64.28571428571428,
          -205.71428571428572,
          -158.57142857142858,
          -158.57142857142858,
          -64.28571428571428,
          -300,
          -158.57142857142858,
          -158.57142857142858,
          -111.42857142857144,
          -205.71428571428572,
          -64.28571428571428,
          -64.28571428571428,
          -111.42857142857144,
          -64.28571428571428,
          -111.42857142857144,
          -64.28571428571428,
          -158.57142857142858,
          -64.28571428571428,
          -252.85714285714286,
          -111.42857142857144,
          -64.28571428571428,
          -111.42857142857144,
          -111.42857142857144,
          -111.42857142857144,
          -64.28571428571428,
          -64.28571428571428,
          -64.28571428571428,
          -64.28571428571428,
          -252.85714285714286,
          -111.42857142857144,
          -205.71428571428572,
          -158.57142857142858,
          -64.28571428571428,
          -111.42857142857144,
          -64.28571428571428,
          -111.42857142857144,
          -64.28571428571428,
          -64.28571428571428,
          -64.28571428571428,
          -300,
          -158.57142857142858,
          -111.42857142857144,
          -158.57142857142858,
          -158.57142857142858,
          -205.71428571428572,
          -111.42857142857144,
          -205.71428571428572,
          -158.57142857142858,
          -158.57142857142858,
          -158.57142857142858,
          -252.85714285714286,
          -158.57142857142858,
          -158.57142857142858,
          -158.57142857142858,
          -158.57142857142858,
          -205.71428571428572,
          -158.57142857142858,
          -111.42857142857144,
          -158.57142857142858,
          -64.28571428571428,
          -205.71428571428572,
          -158.57142857142858
         ]
        },
        {
         "marker": {
          "color": [
           "maroon",
           "maroon",
           "maroon",
           "maroon",
           "maroon",
           "maroon",
           "maroon"
          ],
          "opacity": 1,
          "size": [
           2.7359256744384766,
           9.927889823913574,
           10.249993324279785,
           5.648736953735352,
           3.4031243324279785,
           3.696826219558716,
           3.9556326866149902
          ]
         },
         "mode": "markers",
         "name": "dots_OFF",
         "type": "scatter3d",
         "x": [
          352.2734375,
          336.5,
          390.5120738636363,
          375.2763671875,
          354.5267857142857,
          334.5283203125,
          294.4375
         ],
         "y": [
          247.1171875,
          247.1171875,
          214.13636363636363,
          250.567626953125,
          272.65513392857144,
          257.6328125,
          36.8046875
         ],
         "z": [
          -282.5,
          -215,
          -282.5,
          -215,
          -215,
          -147.49999999999997,
          -80
         ]
        }
       ],
       "frames": [
        {
         "layout": {
          "scene": {
           "camera": {
            "eye": {
             "x": 1.5,
             "y": 0,
             "z": 0.5
            }
           }
          }
         }
        },
        {
         "layout": {
          "scene": {
           "camera": {
            "eye": {
             "x": 1.4915022003152056,
             "y": 0.1594402284710481,
             "z": 0.5
            }
           }
          }
         }
        },
        {
         "layout": {
          "scene": {
           "camera": {
            "eye": {
             "x": 1.4661050847268,
             "y": 0.31707393544443646,
             "z": 0.5
            }
           }
          }
         }
        },
        {
         "layout": {
          "scene": {
           "camera": {
            "eye": {
             "x": 1.424096412702572,
             "y": 0.47111506803292313,
             "z": 0.5
            }
           }
          }
         }
        },
        {
         "layout": {
          "scene": {
           "camera": {
            "eye": {
             "x": 1.3659521592823698,
             "y": 0.6198182786525672,
             "z": 0.5
            }
           }
          }
         }
        },
        {
         "layout": {
          "scene": {
           "camera": {
            "eye": {
             "x": 1.292331122090709,
             "y": 0.7614987005082599,
             "z": 0.5
            }
           }
          }
         }
        },
        {
         "layout": {
          "scene": {
           "camera": {
            "eye": {
             "x": 1.2040674568964456,
             "y": 0.8945510378077519,
             "z": 0.5
            }
           }
          }
         }
        },
        {
         "layout": {
          "scene": {
           "camera": {
            "eye": {
             "x": 1.102161226294601,
             "y": 1.0174677544044242,
             "z": 0.5
            }
           }
          }
         }
        },
        {
         "layout": {
          "scene": {
           "camera": {
            "eye": {
             "x": 0.9877670685975579,
             "y": 1.1288561547842078,
             "z": 0.5
            }
           }
          }
         }
        },
        {
         "layout": {
          "scene": {
           "camera": {
            "eye": {
             "x": 0.8621811153216103,
             "y": 1.2274541638622536,
             "z": 0.5
            }
           }
          }
         }
        },
        {
         "layout": {
          "scene": {
           "camera": {
            "eye": {
             "x": 0.7268263054989753,
             "y": 1.312144626797942,
             "z": 0.5
            }
           }
          }
         }
        },
        {
         "layout": {
          "scene": {
           "camera": {
            "eye": {
             "x": 0.583236263209981,
             "y": 1.3819679668056195,
             "z": 0.5
            }
           }
          }
         }
        },
        {
         "layout": {
          "scene": {
           "camera": {
            "eye": {
             "x": 0.4330379210094317,
             "y": 1.4361330575430082,
             "z": 0.5
            }
           }
          }
         }
        },
        {
         "layout": {
          "scene": {
           "camera": {
            "eye": {
             "x": 0.2779330861306718,
             "y": 1.4740261868887812,
             "z": 0.5
            }
           }
          }
         }
        },
        {
         "layout": {
          "scene": {
           "camera": {
            "eye": {
             "x": 0.11967915832962465,
             "y": 1.4952180105461252,
             "z": 0.5
            }
           }
          }
         }
        },
        {
         "layout": {
          "scene": {
           "camera": {
            "eye": {
             "x": -0.03993078215666204,
             "y": 1.499468416685179,
             "z": 0.5
            }
           }
          }
         }
        },
        {
         "layout": {
          "scene": {
           "camera": {
            "eye": {
             "x": -0.19908829092558278,
             "y": 1.4867292465060107,
             "z": 0.5
            }
           }
          }
         }
        },
        {
         "layout": {
          "scene": {
           "camera": {
            "eye": {
             "x": -0.355990049806672,
             "y": 1.457144839897065,
             "z": 0.5
            }
           }
          }
         }
        },
        {
         "layout": {
          "scene": {
           "camera": {
            "eye": {
             "x": -0.5088582991770451,
             "y": 1.41105040000655,
             "z": 0.5
            }
           }
          }
         }
        },
        {
         "layout": {
          "scene": {
           "camera": {
            "eye": {
             "x": -0.655960980688283,
             "y": 1.3489681952568289,
             "z": 0.5
            }
           }
          }
         }
        },
        {
         "layout": {
          "scene": {
           "camera": {
            "eye": {
             "x": -0.7956313621796136,
             "y": 1.2716016418345064,
             "z": 0.5
            }
           }
          }
         }
        },
        {
         "layout": {
          "scene": {
           "camera": {
            "eye": {
             "x": -0.9262869224192878,
             "y": 1.179827333703964,
             "z": 0.5
            }
           }
          }
         }
        },
        {
         "layout": {
          "scene": {
           "camera": {
            "eye": {
             "x": -1.046447281702477,
             "y": 1.074685110447473,
             "z": 0.5
            }
           }
          }
         }
        },
        {
         "layout": {
          "scene": {
           "camera": {
            "eye": {
             "x": -1.154750975144859,
             "y": 0.9573662754672304,
             "z": 0.5
            }
           }
          }
         }
        },
        {
         "layout": {
          "scene": {
           "camera": {
            "eye": {
             "x": -1.2499708786237722,
             "y": 0.8292000980417904,
             "z": 0.5
            }
           }
          }
         }
        },
        {
         "layout": {
          "scene": {
           "camera": {
            "eye": {
             "x": -1.331028112584857,
             "y": 0.6916387521739893,
             "z": 0.5
            }
           }
          }
         }
        },
        {
         "layout": {
          "scene": {
           "camera": {
            "eye": {
             "x": -1.3970042661785076,
             "y": 0.5462408628792338,
             "z": 0.5
            }
           }
          }
         }
        },
        {
         "layout": {
          "scene": {
           "camera": {
            "eye": {
             "x": -1.4471518032217738,
             "y": 0.39465384634128187,
             "z": 0.5
            }
           }
          }
         }
        },
        {
         "layout": {
          "scene": {
           "camera": {
            "eye": {
             "x": -1.4809025320820168,
             "y": 0.23859524402860816,
             "z": 0.5
            }
           }
          }
         }
        },
        {
         "layout": {
          "scene": {
           "camera": {
            "eye": {
             "x": -1.497874043515143,
             "y": 0.07983326226326813,
             "z": 0.5
            }
           }
          }
         }
        },
        {
         "layout": {
          "scene": {
           "camera": {
            "eye": {
             "x": -1.497874043515143,
             "y": -0.07983326226326776,
             "z": 0.5
            }
           }
          }
         }
        },
        {
         "layout": {
          "scene": {
           "camera": {
            "eye": {
             "x": -1.4809025320820168,
             "y": -0.23859524402860777,
             "z": 0.5
            }
           }
          }
         }
        },
        {
         "layout": {
          "scene": {
           "camera": {
            "eye": {
             "x": -1.447151803221774,
             "y": -0.39465384634128153,
             "z": 0.5
            }
           }
          }
         }
        },
        {
         "layout": {
          "scene": {
           "camera": {
            "eye": {
             "x": -1.3970042661785078,
             "y": -0.5462408628792329,
             "z": 0.5
            }
           }
          }
         }
        },
        {
         "layout": {
          "scene": {
           "camera": {
            "eye": {
             "x": -1.3310281125848578,
             "y": -0.6916387521739884,
             "z": 0.5
            }
           }
          }
         }
        },
        {
         "layout": {
          "scene": {
           "camera": {
            "eye": {
             "x": -1.2499708786237727,
             "y": -0.8292000980417896,
             "z": 0.5
            }
           }
          }
         }
        },
        {
         "layout": {
          "scene": {
           "camera": {
            "eye": {
             "x": -1.1547509751448597,
             "y": -0.9573662754672296,
             "z": 0.5
            }
           }
          }
         }
        },
        {
         "layout": {
          "scene": {
           "camera": {
            "eye": {
             "x": -1.0464472817024775,
             "y": -1.0746851104474722,
             "z": 0.5
            }
           }
          }
         }
        },
        {
         "layout": {
          "scene": {
           "camera": {
            "eye": {
             "x": -0.926286922419288,
             "y": -1.1798273337039638,
             "z": 0.5
            }
           }
          }
         }
        },
        {
         "layout": {
          "scene": {
           "camera": {
            "eye": {
             "x": -0.7956313621796139,
             "y": -1.2716016418345064,
             "z": 0.5
            }
           }
          }
         }
        },
        {
         "layout": {
          "scene": {
           "camera": {
            "eye": {
             "x": -0.6559609806882833,
             "y": -1.3489681952568287,
             "z": 0.5
            }
           }
          }
         }
        },
        {
         "layout": {
          "scene": {
           "camera": {
            "eye": {
             "x": -0.5088582991770457,
             "y": -1.4110504000065498,
             "z": 0.5
            }
           }
          }
         }
        },
        {
         "layout": {
          "scene": {
           "camera": {
            "eye": {
             "x": -0.35599004980667265,
             "y": -1.4571448398970648,
             "z": 0.5
            }
           }
          }
         }
        },
        {
         "layout": {
          "scene": {
           "camera": {
            "eye": {
             "x": -0.19908829092558344,
             "y": -1.4867292465060107,
             "z": 0.5
            }
           }
          }
         }
        },
        {
         "layout": {
          "scene": {
           "camera": {
            "eye": {
             "x": -0.03993078215666274,
             "y": -1.4994684166851788,
             "z": 0.5
            }
           }
          }
         }
        },
        {
         "layout": {
          "scene": {
           "camera": {
            "eye": {
             "x": 0.11967915832962397,
             "y": -1.4952180105461252,
             "z": 0.5
            }
           }
          }
         }
        },
        {
         "layout": {
          "scene": {
           "camera": {
            "eye": {
             "x": 0.27793308613067075,
             "y": -1.4740261868887816,
             "z": 0.5
            }
           }
          }
         }
        },
        {
         "layout": {
          "scene": {
           "camera": {
            "eye": {
             "x": 0.4330379210094307,
             "y": -1.4361330575430085,
             "z": 0.5
            }
           }
          }
         }
        },
        {
         "layout": {
          "scene": {
           "camera": {
            "eye": {
             "x": 0.5832362632099801,
             "y": -1.3819679668056197,
             "z": 0.5
            }
           }
          }
         }
        },
        {
         "layout": {
          "scene": {
           "camera": {
            "eye": {
             "x": 0.7268263054989744,
             "y": -1.3121446267979424,
             "z": 0.5
            }
           }
          }
         }
        },
        {
         "layout": {
          "scene": {
           "camera": {
            "eye": {
             "x": 0.8621811153216095,
             "y": -1.2274541638622543,
             "z": 0.5
            }
           }
          }
         }
        },
        {
         "layout": {
          "scene": {
           "camera": {
            "eye": {
             "x": 0.9877670685975571,
             "y": -1.1288561547842084,
             "z": 0.5
            }
           }
          }
         }
        },
        {
         "layout": {
          "scene": {
           "camera": {
            "eye": {
             "x": 1.1021612262946001,
             "y": -1.017467754404425,
             "z": 0.5
            }
           }
          }
         }
        },
        {
         "layout": {
          "scene": {
           "camera": {
            "eye": {
             "x": 1.204067456896445,
             "y": -0.8945510378077531,
             "z": 0.5
            }
           }
          }
         }
        },
        {
         "layout": {
          "scene": {
           "camera": {
            "eye": {
             "x": 1.292331122090709,
             "y": -0.7614987005082599,
             "z": 0.5
            }
           }
          }
         }
        },
        {
         "layout": {
          "scene": {
           "camera": {
            "eye": {
             "x": 1.3659521592823696,
             "y": -0.6198182786525673,
             "z": 0.5
            }
           }
          }
         }
        },
        {
         "layout": {
          "scene": {
           "camera": {
            "eye": {
             "x": 1.424096412702572,
             "y": -0.47111506803292336,
             "z": 0.5
            }
           }
          }
         }
        },
        {
         "layout": {
          "scene": {
           "camera": {
            "eye": {
             "x": 1.4661050847267998,
             "y": -0.3170739354444367,
             "z": 0.5
            }
           }
          }
         }
        },
        {
         "layout": {
          "scene": {
           "camera": {
            "eye": {
             "x": 1.4915022003152056,
             "y": -0.15944022847104838,
             "z": 0.5
            }
           }
          }
         }
        },
        {
         "layout": {
          "scene": {
           "camera": {
            "eye": {
             "x": 1.5,
             "y": -3.6739403974420594e-16,
             "z": 0.5
            }
           }
          }
         }
        }
       ],
       "layout": {
        "height": 600,
        "margin": {
         "b": 20,
         "l": 20,
         "r": 20,
         "t": 20
        },
        "scene": {
         "camera": {
          "eye": {
           "x": 1.5,
           "y": 1.5,
           "z": 0.5
          }
         },
         "xaxis": {
          "backgroundcolor": "rgba(0, 0, 0, 0)",
          "showbackground": false,
          "showgrid": false
         },
         "yaxis": {
          "backgroundcolor": "rgba(0, 0, 0, 0)",
          "showbackground": false,
          "showgrid": false
         },
         "zaxis": {
          "backgroundcolor": "rgba(0, 0, 0, 0)",
          "showbackground": false,
          "showgrid": false
         }
        },
        "template": {
         "data": {
          "bar": [
           {
            "error_x": {
             "color": "#2a3f5f"
            },
            "error_y": {
             "color": "#2a3f5f"
            },
            "marker": {
             "line": {
              "color": "#E5ECF6",
              "width": 0.5
             },
             "pattern": {
              "fillmode": "overlay",
              "size": 10,
              "solidity": 0.2
             }
            },
            "type": "bar"
           }
          ],
          "barpolar": [
           {
            "marker": {
             "line": {
              "color": "#E5ECF6",
              "width": 0.5
             },
             "pattern": {
              "fillmode": "overlay",
              "size": 10,
              "solidity": 0.2
             }
            },
            "type": "barpolar"
           }
          ],
          "carpet": [
           {
            "aaxis": {
             "endlinecolor": "#2a3f5f",
             "gridcolor": "white",
             "linecolor": "white",
             "minorgridcolor": "white",
             "startlinecolor": "#2a3f5f"
            },
            "baxis": {
             "endlinecolor": "#2a3f5f",
             "gridcolor": "white",
             "linecolor": "white",
             "minorgridcolor": "white",
             "startlinecolor": "#2a3f5f"
            },
            "type": "carpet"
           }
          ],
          "choropleth": [
           {
            "colorbar": {
             "outlinewidth": 0,
             "ticks": ""
            },
            "type": "choropleth"
           }
          ],
          "contour": [
           {
            "colorbar": {
             "outlinewidth": 0,
             "ticks": ""
            },
            "colorscale": [
             [
              0,
              "#0d0887"
             ],
             [
              0.1111111111111111,
              "#46039f"
             ],
             [
              0.2222222222222222,
              "#7201a8"
             ],
             [
              0.3333333333333333,
              "#9c179e"
             ],
             [
              0.4444444444444444,
              "#bd3786"
             ],
             [
              0.5555555555555556,
              "#d8576b"
             ],
             [
              0.6666666666666666,
              "#ed7953"
             ],
             [
              0.7777777777777778,
              "#fb9f3a"
             ],
             [
              0.8888888888888888,
              "#fdca26"
             ],
             [
              1,
              "#f0f921"
             ]
            ],
            "type": "contour"
           }
          ],
          "contourcarpet": [
           {
            "colorbar": {
             "outlinewidth": 0,
             "ticks": ""
            },
            "type": "contourcarpet"
           }
          ],
          "heatmap": [
           {
            "colorbar": {
             "outlinewidth": 0,
             "ticks": ""
            },
            "colorscale": [
             [
              0,
              "#0d0887"
             ],
             [
              0.1111111111111111,
              "#46039f"
             ],
             [
              0.2222222222222222,
              "#7201a8"
             ],
             [
              0.3333333333333333,
              "#9c179e"
             ],
             [
              0.4444444444444444,
              "#bd3786"
             ],
             [
              0.5555555555555556,
              "#d8576b"
             ],
             [
              0.6666666666666666,
              "#ed7953"
             ],
             [
              0.7777777777777778,
              "#fb9f3a"
             ],
             [
              0.8888888888888888,
              "#fdca26"
             ],
             [
              1,
              "#f0f921"
             ]
            ],
            "type": "heatmap"
           }
          ],
          "heatmapgl": [
           {
            "colorbar": {
             "outlinewidth": 0,
             "ticks": ""
            },
            "colorscale": [
             [
              0,
              "#0d0887"
             ],
             [
              0.1111111111111111,
              "#46039f"
             ],
             [
              0.2222222222222222,
              "#7201a8"
             ],
             [
              0.3333333333333333,
              "#9c179e"
             ],
             [
              0.4444444444444444,
              "#bd3786"
             ],
             [
              0.5555555555555556,
              "#d8576b"
             ],
             [
              0.6666666666666666,
              "#ed7953"
             ],
             [
              0.7777777777777778,
              "#fb9f3a"
             ],
             [
              0.8888888888888888,
              "#fdca26"
             ],
             [
              1,
              "#f0f921"
             ]
            ],
            "type": "heatmapgl"
           }
          ],
          "histogram": [
           {
            "marker": {
             "pattern": {
              "fillmode": "overlay",
              "size": 10,
              "solidity": 0.2
             }
            },
            "type": "histogram"
           }
          ],
          "histogram2d": [
           {
            "colorbar": {
             "outlinewidth": 0,
             "ticks": ""
            },
            "colorscale": [
             [
              0,
              "#0d0887"
             ],
             [
              0.1111111111111111,
              "#46039f"
             ],
             [
              0.2222222222222222,
              "#7201a8"
             ],
             [
              0.3333333333333333,
              "#9c179e"
             ],
             [
              0.4444444444444444,
              "#bd3786"
             ],
             [
              0.5555555555555556,
              "#d8576b"
             ],
             [
              0.6666666666666666,
              "#ed7953"
             ],
             [
              0.7777777777777778,
              "#fb9f3a"
             ],
             [
              0.8888888888888888,
              "#fdca26"
             ],
             [
              1,
              "#f0f921"
             ]
            ],
            "type": "histogram2d"
           }
          ],
          "histogram2dcontour": [
           {
            "colorbar": {
             "outlinewidth": 0,
             "ticks": ""
            },
            "colorscale": [
             [
              0,
              "#0d0887"
             ],
             [
              0.1111111111111111,
              "#46039f"
             ],
             [
              0.2222222222222222,
              "#7201a8"
             ],
             [
              0.3333333333333333,
              "#9c179e"
             ],
             [
              0.4444444444444444,
              "#bd3786"
             ],
             [
              0.5555555555555556,
              "#d8576b"
             ],
             [
              0.6666666666666666,
              "#ed7953"
             ],
             [
              0.7777777777777778,
              "#fb9f3a"
             ],
             [
              0.8888888888888888,
              "#fdca26"
             ],
             [
              1,
              "#f0f921"
             ]
            ],
            "type": "histogram2dcontour"
           }
          ],
          "mesh3d": [
           {
            "colorbar": {
             "outlinewidth": 0,
             "ticks": ""
            },
            "type": "mesh3d"
           }
          ],
          "parcoords": [
           {
            "line": {
             "colorbar": {
              "outlinewidth": 0,
              "ticks": ""
             }
            },
            "type": "parcoords"
           }
          ],
          "pie": [
           {
            "automargin": true,
            "type": "pie"
           }
          ],
          "scatter": [
           {
            "fillpattern": {
             "fillmode": "overlay",
             "size": 10,
             "solidity": 0.2
            },
            "type": "scatter"
           }
          ],
          "scatter3d": [
           {
            "line": {
             "colorbar": {
              "outlinewidth": 0,
              "ticks": ""
             }
            },
            "marker": {
             "colorbar": {
              "outlinewidth": 0,
              "ticks": ""
             }
            },
            "type": "scatter3d"
           }
          ],
          "scattercarpet": [
           {
            "marker": {
             "colorbar": {
              "outlinewidth": 0,
              "ticks": ""
             }
            },
            "type": "scattercarpet"
           }
          ],
          "scattergeo": [
           {
            "marker": {
             "colorbar": {
              "outlinewidth": 0,
              "ticks": ""
             }
            },
            "type": "scattergeo"
           }
          ],
          "scattergl": [
           {
            "marker": {
             "colorbar": {
              "outlinewidth": 0,
              "ticks": ""
             }
            },
            "type": "scattergl"
           }
          ],
          "scattermapbox": [
           {
            "marker": {
             "colorbar": {
              "outlinewidth": 0,
              "ticks": ""
             }
            },
            "type": "scattermapbox"
           }
          ],
          "scatterpolar": [
           {
            "marker": {
             "colorbar": {
              "outlinewidth": 0,
              "ticks": ""
             }
            },
            "type": "scatterpolar"
           }
          ],
          "scatterpolargl": [
           {
            "marker": {
             "colorbar": {
              "outlinewidth": 0,
              "ticks": ""
             }
            },
            "type": "scatterpolargl"
           }
          ],
          "scatterternary": [
           {
            "marker": {
             "colorbar": {
              "outlinewidth": 0,
              "ticks": ""
             }
            },
            "type": "scatterternary"
           }
          ],
          "surface": [
           {
            "colorbar": {
             "outlinewidth": 0,
             "ticks": ""
            },
            "colorscale": [
             [
              0,
              "#0d0887"
             ],
             [
              0.1111111111111111,
              "#46039f"
             ],
             [
              0.2222222222222222,
              "#7201a8"
             ],
             [
              0.3333333333333333,
              "#9c179e"
             ],
             [
              0.4444444444444444,
              "#bd3786"
             ],
             [
              0.5555555555555556,
              "#d8576b"
             ],
             [
              0.6666666666666666,
              "#ed7953"
             ],
             [
              0.7777777777777778,
              "#fb9f3a"
             ],
             [
              0.8888888888888888,
              "#fdca26"
             ],
             [
              1,
              "#f0f921"
             ]
            ],
            "type": "surface"
           }
          ],
          "table": [
           {
            "cells": {
             "fill": {
              "color": "#EBF0F8"
             },
             "line": {
              "color": "white"
             }
            },
            "header": {
             "fill": {
              "color": "#C8D4E3"
             },
             "line": {
              "color": "white"
             }
            },
            "type": "table"
           }
          ]
         },
         "layout": {
          "annotationdefaults": {
           "arrowcolor": "#2a3f5f",
           "arrowhead": 0,
           "arrowwidth": 1
          },
          "autotypenumbers": "strict",
          "coloraxis": {
           "colorbar": {
            "outlinewidth": 0,
            "ticks": ""
           }
          },
          "colorscale": {
           "diverging": [
            [
             0,
             "#8e0152"
            ],
            [
             0.1,
             "#c51b7d"
            ],
            [
             0.2,
             "#de77ae"
            ],
            [
             0.3,
             "#f1b6da"
            ],
            [
             0.4,
             "#fde0ef"
            ],
            [
             0.5,
             "#f7f7f7"
            ],
            [
             0.6,
             "#e6f5d0"
            ],
            [
             0.7,
             "#b8e186"
            ],
            [
             0.8,
             "#7fbc41"
            ],
            [
             0.9,
             "#4d9221"
            ],
            [
             1,
             "#276419"
            ]
           ],
           "sequential": [
            [
             0,
             "#0d0887"
            ],
            [
             0.1111111111111111,
             "#46039f"
            ],
            [
             0.2222222222222222,
             "#7201a8"
            ],
            [
             0.3333333333333333,
             "#9c179e"
            ],
            [
             0.4444444444444444,
             "#bd3786"
            ],
            [
             0.5555555555555556,
             "#d8576b"
            ],
            [
             0.6666666666666666,
             "#ed7953"
            ],
            [
             0.7777777777777778,
             "#fb9f3a"
            ],
            [
             0.8888888888888888,
             "#fdca26"
            ],
            [
             1,
             "#f0f921"
            ]
           ],
           "sequentialminus": [
            [
             0,
             "#0d0887"
            ],
            [
             0.1111111111111111,
             "#46039f"
            ],
            [
             0.2222222222222222,
             "#7201a8"
            ],
            [
             0.3333333333333333,
             "#9c179e"
            ],
            [
             0.4444444444444444,
             "#bd3786"
            ],
            [
             0.5555555555555556,
             "#d8576b"
            ],
            [
             0.6666666666666666,
             "#ed7953"
            ],
            [
             0.7777777777777778,
             "#fb9f3a"
            ],
            [
             0.8888888888888888,
             "#fdca26"
            ],
            [
             1,
             "#f0f921"
            ]
           ]
          },
          "colorway": [
           "#636efa",
           "#EF553B",
           "#00cc96",
           "#ab63fa",
           "#FFA15A",
           "#19d3f3",
           "#FF6692",
           "#B6E880",
           "#FF97FF",
           "#FECB52"
          ],
          "font": {
           "color": "#2a3f5f"
          },
          "geo": {
           "bgcolor": "white",
           "lakecolor": "white",
           "landcolor": "#E5ECF6",
           "showlakes": true,
           "showland": true,
           "subunitcolor": "white"
          },
          "hoverlabel": {
           "align": "left"
          },
          "hovermode": "closest",
          "mapbox": {
           "style": "light"
          },
          "paper_bgcolor": "white",
          "plot_bgcolor": "#E5ECF6",
          "polar": {
           "angularaxis": {
            "gridcolor": "white",
            "linecolor": "white",
            "ticks": ""
           },
           "bgcolor": "#E5ECF6",
           "radialaxis": {
            "gridcolor": "white",
            "linecolor": "white",
            "ticks": ""
           }
          },
          "scene": {
           "xaxis": {
            "backgroundcolor": "#E5ECF6",
            "gridcolor": "white",
            "gridwidth": 2,
            "linecolor": "white",
            "showbackground": true,
            "ticks": "",
            "zerolinecolor": "white"
           },
           "yaxis": {
            "backgroundcolor": "#E5ECF6",
            "gridcolor": "white",
            "gridwidth": 2,
            "linecolor": "white",
            "showbackground": true,
            "ticks": "",
            "zerolinecolor": "white"
           },
           "zaxis": {
            "backgroundcolor": "#E5ECF6",
            "gridcolor": "white",
            "gridwidth": 2,
            "linecolor": "white",
            "showbackground": true,
            "ticks": "",
            "zerolinecolor": "white"
           }
          },
          "shapedefaults": {
           "line": {
            "color": "#2a3f5f"
           }
          },
          "ternary": {
           "aaxis": {
            "gridcolor": "white",
            "linecolor": "white",
            "ticks": ""
           },
           "baxis": {
            "gridcolor": "white",
            "linecolor": "white",
            "ticks": ""
           },
           "bgcolor": "#E5ECF6",
           "caxis": {
            "gridcolor": "white",
            "linecolor": "white",
            "ticks": ""
           }
          },
          "title": {
           "x": 0.05
          },
          "xaxis": {
           "automargin": true,
           "gridcolor": "white",
           "linecolor": "white",
           "ticks": "",
           "title": {
            "standoff": 15
           },
           "zerolinecolor": "white",
           "zerolinewidth": 2
          },
          "yaxis": {
           "automargin": true,
           "gridcolor": "white",
           "linecolor": "white",
           "ticks": "",
           "title": {
            "standoff": 15
           },
           "zerolinecolor": "white",
           "zerolinewidth": 2
          }
         }
        },
        "updatemenus": [
         {
          "buttons": [
           {
            "args": [
             null,
             {
              "frame": {
               "duration": 100,
               "redraw": true
              },
              "fromcurrent": true,
              "mode": "immediate"
             }
            ],
            "label": "Play",
            "method": "animate"
           }
          ],
          "showactive": false,
          "type": "buttons"
         }
        ],
        "width": 800
       }
      }
     },
     "metadata": {},
     "output_type": "display_data"
    }
   ],
   "source": [
    "import plotly.graph_objects as go\n",
    "import numpy as np\n",
    "\n",
    "# Calculate scaler\n",
    "range_val = 913 - 240\n",
    "pixelrange = 128\n",
    "scaler = range_val / pixelrange\n",
    "\n",
    "# All data (background)\n",
    "all_data = pooled_data\n",
    "\n",
    "# Filtered data\n",
    "filtered_data = pooled_data[pooled_data['stimtype'] == 'dots_OFF']\n",
    "\n",
    "# Create the figure\n",
    "fig = go.Figure()\n",
    "\n",
    "# Add all data to the plot (background)\n",
    "fig.add_trace(go.Scatter3d(\n",
    "    x=all_data['x_centroid'] * scaler,\n",
    "    y=(all_data['y_centroid'] % y_res) * scaler,\n",
    "    z=-all_data['plane_depth'],\n",
    "    mode='markers',\n",
    "    marker=dict(\n",
    "        size=abs(all_data['amplitude'] * 2),\n",
    "        color='gray',  # Light color for background\n",
    "        opacity=0.7  # Low opacity to make it background-like\n",
    "    ),\n",
    "    name='All Data'\n",
    "))\n",
    "\n",
    "# Map experiment_id to a unique color\n",
    "experiment_ids = filtered_data['experiment_id'].unique()\n",
    "colors = ['maroon']  # You can choose other colors if you like\n",
    "color_map = {experiment_id: colors[i % len(colors)] for i, experiment_id in enumerate(experiment_ids)}\n",
    "\n",
    "# Apply the color map to the filtered data\n",
    "filtered_data['color'] = filtered_data['experiment_id'].map(color_map)\n",
    "\n",
    "# Add filtered data on top (foreground)\n",
    "fig.add_trace(go.Scatter3d(\n",
    "    x=filtered_data['x_centroid'] * scaler,\n",
    "    y=(filtered_data['y_centroid'] % y_res) * scaler,\n",
    "    z=-filtered_data['plane_depth'],\n",
    "    mode='markers',\n",
    "    marker=dict(\n",
    "        size=abs(filtered_data['amplitude'] * 2),\n",
    "        color=filtered_data['color'],  # Apply color based on experiment_id\n",
    "        opacity=1\n",
    "    ),\n",
    "    name='dots_OFF'  # Update name to the actual stimtype string\n",
    "))\n",
    "\n",
    "# Auto-rotation setup\n",
    "frames = [go.Frame(layout=dict(scene_camera_eye=dict(x=1.5 * np.cos(angle), y=1.5 * np.sin(angle), z=0.5)))\n",
    "          for angle in np.linspace(0, 2 * np.pi, 60)]\n",
    "\n",
    "# Update layout with background removed\n",
    "fig.update_layout(\n",
    "    width=800,\n",
    "    height=600,\n",
    "    margin=dict(l=20, r=20, t=20, b=20),\n",
    "    scene_camera_eye=dict(x=1.5, y=1.5, z=0.5),  # Initial camera position\n",
    "    scene=dict(\n",
    "        xaxis=dict(showbackground=False, backgroundcolor='rgba(0, 0, 0, 0)'),\n",
    "        yaxis=dict(showbackground=False, backgroundcolor='rgba(0, 0, 0, 0)'),\n",
    "        zaxis=dict(showbackground=False, backgroundcolor='rgba(0, 0, 0, 0)'),\n",
    "        xaxis_showgrid=False,  # Remove grid lines\n",
    "        yaxis_showgrid=False,\n",
    "        zaxis_showgrid=False\n",
    "    ),\n",
    "    updatemenus=[dict(type='buttons',\n",
    "                      showactive=False,\n",
    "                      buttons=[dict(label='Play',\n",
    "                                    method='animate',\n",
    "                                    args=[None, dict(frame=dict(duration=100, redraw=True),\n",
    "                                                     fromcurrent=True, mode='immediate')])])]\n",
    ")\n",
    "\n",
    "# Add frames to the figure for animation\n",
    "fig.frames = frames\n",
    "\n",
    "# Show the figure\n",
    "fig.show()\n"
   ]
  },
  {
   "cell_type": "code",
   "execution_count": 44,
   "metadata": {},
   "outputs": [
    {
     "name": "stderr",
     "output_type": "stream",
     "text": [
      "C:\\Users\\Michael Forsthofer\\AppData\\Local\\Temp\\ipykernel_30432\\3481284779.py:39: SettingWithCopyWarning:\n",
      "\n",
      "\n",
      "A value is trying to be set on a copy of a slice from a DataFrame.\n",
      "Try using .loc[row_indexer,col_indexer] = value instead\n",
      "\n",
      "See the caveats in the documentation: https://pandas.pydata.org/pandas-docs/stable/user_guide/indexing.html#returning-a-view-versus-a-copy\n",
      "\n"
     ]
    },
    {
     "ename": "ValueError",
     "evalue": "\n    Invalid value of type 'pandas.core.series.Series' received for the 'opacity' property of scatter3d.marker\n        Received value: 0       5.294518\n1       3.109311\n2       2.577725\n3       7.427845\n4       4.143467\n5       1.990201\n6       1.652669\n7       1.858153\n8       2.150787\n9       3.125391\n10      9.895280\n11      4.263269\n12      3.543748\n13      1.730066\n14      2.213915\n15      2.480919\n16      3.014557\n17      2.563852\n18      2.743514\n19      2.017771\n20      1.850558\n21      1.955479\n22      2.077152\n363     8.768492\n364     9.367342\n365     6.821300\n366    11.965172\n367     6.067413\n368     5.164369\n369     1.908492\n370     7.673179\n371     6.691141\n372     6.053972\n373     8.356723\n374     2.563662\n375     4.439828\n376     4.255868\n377     2.943592\n378     8.028348\n379     2.280765\n380     6.138855\n381     5.729827\n382     3.298960\n383     2.234859\n384     3.723902\n385     3.940277\n386     3.099895\n387     2.082950\n388     2.451346\n389     2.694484\n390     3.082723\n391     2.565766\n392     2.464732\n393     2.373158\n394     3.660008\n395     3.063276\n396     1.800598\n397     3.217012\n398     2.058035\n399     2.487748\nName: amplitude, dtype: float64\n\n    The 'opacity' property is a number and may be specified as:\n      - An int or float in the interval [0, 1]",
     "output_type": "error",
     "traceback": [
      "\u001b[1;31m---------------------------------------------------------------------------\u001b[0m",
      "\u001b[1;31mValueError\u001b[0m                                Traceback (most recent call last)",
      "Cell \u001b[1;32mIn[44], line 56\u001b[0m\n\u001b[0;32m     42\u001b[0m     fig\u001b[38;5;241m.\u001b[39madd_trace(go\u001b[38;5;241m.\u001b[39mScatter3d(\n\u001b[0;32m     43\u001b[0m         x\u001b[38;5;241m=\u001b[39mall_data[\u001b[38;5;124m'\u001b[39m\u001b[38;5;124mx_centroid\u001b[39m\u001b[38;5;124m'\u001b[39m] \u001b[38;5;241m*\u001b[39m scaler,\n\u001b[0;32m     44\u001b[0m         y\u001b[38;5;241m=\u001b[39m(all_data[\u001b[38;5;124m'\u001b[39m\u001b[38;5;124my_centroid\u001b[39m\u001b[38;5;124m'\u001b[39m] \u001b[38;5;241m%\u001b[39m y_res) \u001b[38;5;241m*\u001b[39m scaler,\n\u001b[1;32m   (...)\u001b[0m\n\u001b[0;32m     52\u001b[0m         name\u001b[38;5;241m=\u001b[39m\u001b[38;5;124m'\u001b[39m\u001b[38;5;124m'\u001b[39m\n\u001b[0;32m     53\u001b[0m     ), row\u001b[38;5;241m=\u001b[39m\u001b[38;5;241m1\u001b[39m, col\u001b[38;5;241m=\u001b[39mi\u001b[38;5;241m+\u001b[39m\u001b[38;5;241m1\u001b[39m)\n\u001b[0;32m     55\u001b[0m     \u001b[38;5;66;03m# Add filtered data for the specific stimtype (foreground)\u001b[39;00m\n\u001b[1;32m---> 56\u001b[0m     fig\u001b[38;5;241m.\u001b[39madd_trace(\u001b[43mgo\u001b[49m\u001b[38;5;241;43m.\u001b[39;49m\u001b[43mScatter3d\u001b[49m\u001b[43m(\u001b[49m\n\u001b[0;32m     57\u001b[0m \u001b[43m        \u001b[49m\u001b[43mx\u001b[49m\u001b[38;5;241;43m=\u001b[39;49m\u001b[43mfiltered_data\u001b[49m\u001b[43m[\u001b[49m\u001b[38;5;124;43m'\u001b[39;49m\u001b[38;5;124;43mx_centroid\u001b[39;49m\u001b[38;5;124;43m'\u001b[39;49m\u001b[43m]\u001b[49m\u001b[43m \u001b[49m\u001b[38;5;241;43m*\u001b[39;49m\u001b[43m \u001b[49m\u001b[43mscaler\u001b[49m\u001b[43m,\u001b[49m\n\u001b[0;32m     58\u001b[0m \u001b[43m        \u001b[49m\u001b[43my\u001b[49m\u001b[38;5;241;43m=\u001b[39;49m\u001b[43m(\u001b[49m\u001b[43mfiltered_data\u001b[49m\u001b[43m[\u001b[49m\u001b[38;5;124;43m'\u001b[39;49m\u001b[38;5;124;43my_centroid\u001b[39;49m\u001b[38;5;124;43m'\u001b[39;49m\u001b[43m]\u001b[49m\u001b[43m \u001b[49m\u001b[38;5;241;43m%\u001b[39;49m\u001b[43m \u001b[49m\u001b[43my_res\u001b[49m\u001b[43m)\u001b[49m\u001b[43m \u001b[49m\u001b[38;5;241;43m*\u001b[39;49m\u001b[43m \u001b[49m\u001b[43mscaler\u001b[49m\u001b[43m,\u001b[49m\n\u001b[0;32m     59\u001b[0m \u001b[43m        \u001b[49m\u001b[43mz\u001b[49m\u001b[38;5;241;43m=\u001b[39;49m\u001b[38;5;241;43m-\u001b[39;49m\u001b[43mfiltered_data\u001b[49m\u001b[43m[\u001b[49m\u001b[38;5;124;43m'\u001b[39;49m\u001b[38;5;124;43mplane_depth\u001b[39;49m\u001b[38;5;124;43m'\u001b[39;49m\u001b[43m]\u001b[49m\u001b[43m,\u001b[49m\n\u001b[0;32m     60\u001b[0m \u001b[43m        \u001b[49m\u001b[43mmode\u001b[49m\u001b[38;5;241;43m=\u001b[39;49m\u001b[38;5;124;43m'\u001b[39;49m\u001b[38;5;124;43mmarkers\u001b[39;49m\u001b[38;5;124;43m'\u001b[39;49m\u001b[43m,\u001b[49m\n\u001b[0;32m     61\u001b[0m \u001b[43m        \u001b[49m\u001b[43mmarker\u001b[49m\u001b[38;5;241;43m=\u001b[39;49m\u001b[38;5;28;43mdict\u001b[39;49m\u001b[43m(\u001b[49m\n\u001b[0;32m     62\u001b[0m \u001b[43m            \u001b[49m\u001b[43msize\u001b[49m\u001b[38;5;241;43m=\u001b[39;49m\u001b[38;5;28;43mabs\u001b[39;49m\u001b[43m(\u001b[49m\u001b[43mfiltered_data\u001b[49m\u001b[43m[\u001b[49m\u001b[38;5;124;43m'\u001b[39;49m\u001b[38;5;124;43mamplitude\u001b[39;49m\u001b[38;5;124;43m'\u001b[39;49m\u001b[43m]\u001b[49m\u001b[43m)\u001b[49m\u001b[38;5;241;43m*\u001b[39;49m\u001b[38;5;241;43m2\u001b[39;49m\u001b[43m,\u001b[49m\n\u001b[0;32m     63\u001b[0m \u001b[43m            \u001b[49m\u001b[43mcolor\u001b[49m\u001b[38;5;241;43m=\u001b[39;49m\u001b[43mfiltered_data\u001b[49m\u001b[43m[\u001b[49m\u001b[38;5;124;43m'\u001b[39;49m\u001b[38;5;124;43mcolor\u001b[39;49m\u001b[38;5;124;43m'\u001b[39;49m\u001b[43m]\u001b[49m\u001b[43m,\u001b[49m\u001b[43m  \u001b[49m\u001b[38;5;66;43;03m# Apply color based on experiment_id\u001b[39;49;00m\n\u001b[0;32m     64\u001b[0m \u001b[43m            \u001b[49m\u001b[43mopacity\u001b[49m\u001b[38;5;241;43m=\u001b[39;49m\u001b[38;5;28;43mabs\u001b[39;49m\u001b[43m(\u001b[49m\u001b[43mfiltered_data\u001b[49m\u001b[43m[\u001b[49m\u001b[38;5;124;43m'\u001b[39;49m\u001b[38;5;124;43mamplitude\u001b[39;49m\u001b[38;5;124;43m'\u001b[39;49m\u001b[43m]\u001b[49m\u001b[43m)\u001b[49m\n\u001b[0;32m     65\u001b[0m \u001b[43m        \u001b[49m\u001b[43m)\u001b[49m\u001b[43m,\u001b[49m\n\u001b[0;32m     66\u001b[0m \u001b[43m        \u001b[49m\u001b[43mname\u001b[49m\u001b[38;5;241;43m=\u001b[39;49m\u001b[43mstimtype\u001b[49m\n\u001b[0;32m     67\u001b[0m \u001b[43m    \u001b[49m\u001b[43m)\u001b[49m, row\u001b[38;5;241m=\u001b[39m\u001b[38;5;241m1\u001b[39m, col\u001b[38;5;241m=\u001b[39mi\u001b[38;5;241m+\u001b[39m\u001b[38;5;241m1\u001b[39m)\n\u001b[0;32m     68\u001b[0m     fig\u001b[38;5;241m.\u001b[39mupdate_scenes(camera\u001b[38;5;241m=\u001b[39mcamera, row\u001b[38;5;241m=\u001b[39m\u001b[38;5;241m1\u001b[39m, col\u001b[38;5;241m=\u001b[39mi\u001b[38;5;241m+\u001b[39m\u001b[38;5;241m1\u001b[39m)\n\u001b[0;32m     70\u001b[0m \u001b[38;5;66;03m# Update layout with desired width, height, and margins\u001b[39;00m\n",
      "File \u001b[1;32mc:\\miniconda3\\envs\\PYGOR-TIMESERIES\\Lib\\site-packages\\plotly\\graph_objs\\_scatter3d.py:2697\u001b[0m, in \u001b[0;36mScatter3d.__init__\u001b[1;34m(self, arg, connectgaps, customdata, customdatasrc, error_x, error_y, error_z, hoverinfo, hoverinfosrc, hoverlabel, hovertemplate, hovertemplatesrc, hovertext, hovertextsrc, ids, idssrc, legend, legendgroup, legendgrouptitle, legendrank, legendwidth, line, marker, meta, metasrc, mode, name, opacity, projection, scene, showlegend, stream, surfaceaxis, surfacecolor, text, textfont, textposition, textpositionsrc, textsrc, texttemplate, texttemplatesrc, uid, uirevision, visible, x, xcalendar, xhoverformat, xsrc, y, ycalendar, yhoverformat, ysrc, z, zcalendar, zhoverformat, zsrc, **kwargs)\u001b[0m\n\u001b[0;32m   2695\u001b[0m _v \u001b[38;5;241m=\u001b[39m marker \u001b[38;5;28;01mif\u001b[39;00m marker \u001b[38;5;129;01mis\u001b[39;00m \u001b[38;5;129;01mnot\u001b[39;00m \u001b[38;5;28;01mNone\u001b[39;00m \u001b[38;5;28;01melse\u001b[39;00m _v\n\u001b[0;32m   2696\u001b[0m \u001b[38;5;28;01mif\u001b[39;00m _v \u001b[38;5;129;01mis\u001b[39;00m \u001b[38;5;129;01mnot\u001b[39;00m \u001b[38;5;28;01mNone\u001b[39;00m:\n\u001b[1;32m-> 2697\u001b[0m     \u001b[38;5;28;43mself\u001b[39;49m\u001b[43m[\u001b[49m\u001b[38;5;124;43m\"\u001b[39;49m\u001b[38;5;124;43mmarker\u001b[39;49m\u001b[38;5;124;43m\"\u001b[39;49m\u001b[43m]\u001b[49m \u001b[38;5;241m=\u001b[39m _v\n\u001b[0;32m   2698\u001b[0m _v \u001b[38;5;241m=\u001b[39m arg\u001b[38;5;241m.\u001b[39mpop(\u001b[38;5;124m\"\u001b[39m\u001b[38;5;124mmeta\u001b[39m\u001b[38;5;124m\"\u001b[39m, \u001b[38;5;28;01mNone\u001b[39;00m)\n\u001b[0;32m   2699\u001b[0m _v \u001b[38;5;241m=\u001b[39m meta \u001b[38;5;28;01mif\u001b[39;00m meta \u001b[38;5;129;01mis\u001b[39;00m \u001b[38;5;129;01mnot\u001b[39;00m \u001b[38;5;28;01mNone\u001b[39;00m \u001b[38;5;28;01melse\u001b[39;00m _v\n",
      "File \u001b[1;32mc:\\miniconda3\\envs\\PYGOR-TIMESERIES\\Lib\\site-packages\\plotly\\basedatatypes.py:4860\u001b[0m, in \u001b[0;36mBasePlotlyType.__setitem__\u001b[1;34m(self, prop, value)\u001b[0m\n\u001b[0;32m   4858\u001b[0m \u001b[38;5;66;03m# ### Handle compound property ###\u001b[39;00m\n\u001b[0;32m   4859\u001b[0m \u001b[38;5;28;01mif\u001b[39;00m \u001b[38;5;28misinstance\u001b[39m(validator, CompoundValidator):\n\u001b[1;32m-> 4860\u001b[0m     \u001b[38;5;28;43mself\u001b[39;49m\u001b[38;5;241;43m.\u001b[39;49m\u001b[43m_set_compound_prop\u001b[49m\u001b[43m(\u001b[49m\u001b[43mprop\u001b[49m\u001b[43m,\u001b[49m\u001b[43m \u001b[49m\u001b[43mvalue\u001b[49m\u001b[43m)\u001b[49m\n\u001b[0;32m   4862\u001b[0m \u001b[38;5;66;03m# ### Handle compound array property ###\u001b[39;00m\n\u001b[0;32m   4863\u001b[0m \u001b[38;5;28;01melif\u001b[39;00m \u001b[38;5;28misinstance\u001b[39m(validator, (CompoundArrayValidator, BaseDataValidator)):\n",
      "File \u001b[1;32mc:\\miniconda3\\envs\\PYGOR-TIMESERIES\\Lib\\site-packages\\plotly\\basedatatypes.py:5271\u001b[0m, in \u001b[0;36mBasePlotlyType._set_compound_prop\u001b[1;34m(self, prop, val)\u001b[0m\n\u001b[0;32m   5268\u001b[0m \u001b[38;5;66;03m# Import value\u001b[39;00m\n\u001b[0;32m   5269\u001b[0m \u001b[38;5;66;03m# ------------\u001b[39;00m\n\u001b[0;32m   5270\u001b[0m validator \u001b[38;5;241m=\u001b[39m \u001b[38;5;28mself\u001b[39m\u001b[38;5;241m.\u001b[39m_get_validator(prop)\n\u001b[1;32m-> 5271\u001b[0m val \u001b[38;5;241m=\u001b[39m \u001b[43mvalidator\u001b[49m\u001b[38;5;241;43m.\u001b[39;49m\u001b[43mvalidate_coerce\u001b[49m\u001b[43m(\u001b[49m\u001b[43mval\u001b[49m\u001b[43m,\u001b[49m\u001b[43m \u001b[49m\u001b[43mskip_invalid\u001b[49m\u001b[38;5;241;43m=\u001b[39;49m\u001b[38;5;28;43mself\u001b[39;49m\u001b[38;5;241;43m.\u001b[39;49m\u001b[43m_skip_invalid\u001b[49m\u001b[43m)\u001b[49m\n\u001b[0;32m   5273\u001b[0m \u001b[38;5;66;03m# Save deep copies of current and new states\u001b[39;00m\n\u001b[0;32m   5274\u001b[0m \u001b[38;5;66;03m# ------------------------------------------\u001b[39;00m\n\u001b[0;32m   5275\u001b[0m curr_val \u001b[38;5;241m=\u001b[39m \u001b[38;5;28mself\u001b[39m\u001b[38;5;241m.\u001b[39m_compound_props\u001b[38;5;241m.\u001b[39mget(prop, \u001b[38;5;28;01mNone\u001b[39;00m)\n",
      "File \u001b[1;32mc:\\miniconda3\\envs\\PYGOR-TIMESERIES\\Lib\\site-packages\\_plotly_utils\\basevalidators.py:2512\u001b[0m, in \u001b[0;36mCompoundValidator.validate_coerce\u001b[1;34m(self, v, skip_invalid, _validate)\u001b[0m\n\u001b[0;32m   2509\u001b[0m     v \u001b[38;5;241m=\u001b[39m \u001b[38;5;28mself\u001b[39m\u001b[38;5;241m.\u001b[39mdata_class()\n\u001b[0;32m   2511\u001b[0m \u001b[38;5;28;01melif\u001b[39;00m \u001b[38;5;28misinstance\u001b[39m(v, \u001b[38;5;28mdict\u001b[39m):\n\u001b[1;32m-> 2512\u001b[0m     v \u001b[38;5;241m=\u001b[39m \u001b[38;5;28;43mself\u001b[39;49m\u001b[38;5;241;43m.\u001b[39;49m\u001b[43mdata_class\u001b[49m\u001b[43m(\u001b[49m\u001b[43mv\u001b[49m\u001b[43m,\u001b[49m\u001b[43m \u001b[49m\u001b[43mskip_invalid\u001b[49m\u001b[38;5;241;43m=\u001b[39;49m\u001b[43mskip_invalid\u001b[49m\u001b[43m,\u001b[49m\u001b[43m \u001b[49m\u001b[43m_validate\u001b[49m\u001b[38;5;241;43m=\u001b[39;49m\u001b[43m_validate\u001b[49m\u001b[43m)\u001b[49m\n\u001b[0;32m   2514\u001b[0m \u001b[38;5;28;01melif\u001b[39;00m \u001b[38;5;28misinstance\u001b[39m(v, \u001b[38;5;28mself\u001b[39m\u001b[38;5;241m.\u001b[39mdata_class):\n\u001b[0;32m   2515\u001b[0m     \u001b[38;5;66;03m# Copy object\u001b[39;00m\n\u001b[0;32m   2516\u001b[0m     v \u001b[38;5;241m=\u001b[39m \u001b[38;5;28mself\u001b[39m\u001b[38;5;241m.\u001b[39mdata_class(v)\n",
      "File \u001b[1;32mc:\\miniconda3\\envs\\PYGOR-TIMESERIES\\Lib\\site-packages\\plotly\\graph_objs\\scatter3d\\_marker.py:1294\u001b[0m, in \u001b[0;36mMarker.__init__\u001b[1;34m(self, arg, autocolorscale, cauto, cmax, cmid, cmin, color, coloraxis, colorbar, colorscale, colorsrc, line, opacity, reversescale, showscale, size, sizemin, sizemode, sizeref, sizesrc, symbol, symbolsrc, **kwargs)\u001b[0m\n\u001b[0;32m   1292\u001b[0m _v \u001b[38;5;241m=\u001b[39m opacity \u001b[38;5;28;01mif\u001b[39;00m opacity \u001b[38;5;129;01mis\u001b[39;00m \u001b[38;5;129;01mnot\u001b[39;00m \u001b[38;5;28;01mNone\u001b[39;00m \u001b[38;5;28;01melse\u001b[39;00m _v\n\u001b[0;32m   1293\u001b[0m \u001b[38;5;28;01mif\u001b[39;00m _v \u001b[38;5;129;01mis\u001b[39;00m \u001b[38;5;129;01mnot\u001b[39;00m \u001b[38;5;28;01mNone\u001b[39;00m:\n\u001b[1;32m-> 1294\u001b[0m     \u001b[38;5;28;43mself\u001b[39;49m\u001b[43m[\u001b[49m\u001b[38;5;124;43m\"\u001b[39;49m\u001b[38;5;124;43mopacity\u001b[39;49m\u001b[38;5;124;43m\"\u001b[39;49m\u001b[43m]\u001b[49m \u001b[38;5;241m=\u001b[39m _v\n\u001b[0;32m   1295\u001b[0m _v \u001b[38;5;241m=\u001b[39m arg\u001b[38;5;241m.\u001b[39mpop(\u001b[38;5;124m\"\u001b[39m\u001b[38;5;124mreversescale\u001b[39m\u001b[38;5;124m\"\u001b[39m, \u001b[38;5;28;01mNone\u001b[39;00m)\n\u001b[0;32m   1296\u001b[0m _v \u001b[38;5;241m=\u001b[39m reversescale \u001b[38;5;28;01mif\u001b[39;00m reversescale \u001b[38;5;129;01mis\u001b[39;00m \u001b[38;5;129;01mnot\u001b[39;00m \u001b[38;5;28;01mNone\u001b[39;00m \u001b[38;5;28;01melse\u001b[39;00m _v\n",
      "File \u001b[1;32mc:\\miniconda3\\envs\\PYGOR-TIMESERIES\\Lib\\site-packages\\plotly\\basedatatypes.py:4868\u001b[0m, in \u001b[0;36mBasePlotlyType.__setitem__\u001b[1;34m(self, prop, value)\u001b[0m\n\u001b[0;32m   4864\u001b[0m         \u001b[38;5;28mself\u001b[39m\u001b[38;5;241m.\u001b[39m_set_array_prop(prop, value)\n\u001b[0;32m   4866\u001b[0m     \u001b[38;5;66;03m# ### Handle simple property ###\u001b[39;00m\n\u001b[0;32m   4867\u001b[0m     \u001b[38;5;28;01melse\u001b[39;00m:\n\u001b[1;32m-> 4868\u001b[0m         \u001b[38;5;28;43mself\u001b[39;49m\u001b[38;5;241;43m.\u001b[39;49m\u001b[43m_set_prop\u001b[49m\u001b[43m(\u001b[49m\u001b[43mprop\u001b[49m\u001b[43m,\u001b[49m\u001b[43m \u001b[49m\u001b[43mvalue\u001b[49m\u001b[43m)\u001b[49m\n\u001b[0;32m   4869\u001b[0m \u001b[38;5;28;01melse\u001b[39;00m:\n\u001b[0;32m   4870\u001b[0m     \u001b[38;5;66;03m# Make sure properties dict is initialized\u001b[39;00m\n\u001b[0;32m   4871\u001b[0m     \u001b[38;5;28mself\u001b[39m\u001b[38;5;241m.\u001b[39m_init_props()\n",
      "File \u001b[1;32mc:\\miniconda3\\envs\\PYGOR-TIMESERIES\\Lib\\site-packages\\plotly\\basedatatypes.py:5212\u001b[0m, in \u001b[0;36mBasePlotlyType._set_prop\u001b[1;34m(self, prop, val)\u001b[0m\n\u001b[0;32m   5210\u001b[0m         \u001b[38;5;28;01mreturn\u001b[39;00m\n\u001b[0;32m   5211\u001b[0m     \u001b[38;5;28;01melse\u001b[39;00m:\n\u001b[1;32m-> 5212\u001b[0m         \u001b[38;5;28;01mraise\u001b[39;00m err\n\u001b[0;32m   5214\u001b[0m \u001b[38;5;66;03m# val is None\u001b[39;00m\n\u001b[0;32m   5215\u001b[0m \u001b[38;5;66;03m# -----------\u001b[39;00m\n\u001b[0;32m   5216\u001b[0m \u001b[38;5;28;01mif\u001b[39;00m val \u001b[38;5;129;01mis\u001b[39;00m \u001b[38;5;28;01mNone\u001b[39;00m:\n\u001b[0;32m   5217\u001b[0m     \u001b[38;5;66;03m# Check if we should send null update\u001b[39;00m\n",
      "File \u001b[1;32mc:\\miniconda3\\envs\\PYGOR-TIMESERIES\\Lib\\site-packages\\plotly\\basedatatypes.py:5207\u001b[0m, in \u001b[0;36mBasePlotlyType._set_prop\u001b[1;34m(self, prop, val)\u001b[0m\n\u001b[0;32m   5204\u001b[0m validator \u001b[38;5;241m=\u001b[39m \u001b[38;5;28mself\u001b[39m\u001b[38;5;241m.\u001b[39m_get_validator(prop)\n\u001b[0;32m   5206\u001b[0m \u001b[38;5;28;01mtry\u001b[39;00m:\n\u001b[1;32m-> 5207\u001b[0m     val \u001b[38;5;241m=\u001b[39m \u001b[43mvalidator\u001b[49m\u001b[38;5;241;43m.\u001b[39;49m\u001b[43mvalidate_coerce\u001b[49m\u001b[43m(\u001b[49m\u001b[43mval\u001b[49m\u001b[43m)\u001b[49m\n\u001b[0;32m   5208\u001b[0m \u001b[38;5;28;01mexcept\u001b[39;00m \u001b[38;5;167;01mValueError\u001b[39;00m \u001b[38;5;28;01mas\u001b[39;00m err:\n\u001b[0;32m   5209\u001b[0m     \u001b[38;5;28;01mif\u001b[39;00m \u001b[38;5;28mself\u001b[39m\u001b[38;5;241m.\u001b[39m_skip_invalid:\n",
      "File \u001b[1;32mc:\\miniconda3\\envs\\PYGOR-TIMESERIES\\Lib\\site-packages\\_plotly_utils\\basevalidators.py:807\u001b[0m, in \u001b[0;36mNumberValidator.validate_coerce\u001b[1;34m(self, v)\u001b[0m\n\u001b[0;32m    804\u001b[0m \u001b[38;5;28;01melse\u001b[39;00m:\n\u001b[0;32m    805\u001b[0m     \u001b[38;5;66;03m# Check numeric\u001b[39;00m\n\u001b[0;32m    806\u001b[0m     \u001b[38;5;28;01mif\u001b[39;00m \u001b[38;5;129;01mnot\u001b[39;00m \u001b[38;5;28misinstance\u001b[39m(v, numbers\u001b[38;5;241m.\u001b[39mNumber):\n\u001b[1;32m--> 807\u001b[0m         \u001b[38;5;28;43mself\u001b[39;49m\u001b[38;5;241;43m.\u001b[39;49m\u001b[43mraise_invalid_val\u001b[49m\u001b[43m(\u001b[49m\u001b[43mv\u001b[49m\u001b[43m)\u001b[49m\n\u001b[0;32m    809\u001b[0m     \u001b[38;5;66;03m# Check min/max\u001b[39;00m\n\u001b[0;32m    810\u001b[0m     \u001b[38;5;28;01mif\u001b[39;00m \u001b[38;5;28mself\u001b[39m\u001b[38;5;241m.\u001b[39mhas_min_max:\n",
      "File \u001b[1;32mc:\\miniconda3\\envs\\PYGOR-TIMESERIES\\Lib\\site-packages\\_plotly_utils\\basevalidators.py:296\u001b[0m, in \u001b[0;36mBaseValidator.raise_invalid_val\u001b[1;34m(self, v, inds)\u001b[0m\n\u001b[0;32m    293\u001b[0m             \u001b[38;5;28;01mfor\u001b[39;00m i \u001b[38;5;129;01min\u001b[39;00m inds:\n\u001b[0;32m    294\u001b[0m                 name \u001b[38;5;241m+\u001b[39m\u001b[38;5;241m=\u001b[39m \u001b[38;5;124m\"\u001b[39m\u001b[38;5;124m[\u001b[39m\u001b[38;5;124m\"\u001b[39m \u001b[38;5;241m+\u001b[39m \u001b[38;5;28mstr\u001b[39m(i) \u001b[38;5;241m+\u001b[39m \u001b[38;5;124m\"\u001b[39m\u001b[38;5;124m]\u001b[39m\u001b[38;5;124m\"\u001b[39m\n\u001b[1;32m--> 296\u001b[0m         \u001b[38;5;28;01mraise\u001b[39;00m \u001b[38;5;167;01mValueError\u001b[39;00m(\n\u001b[0;32m    297\u001b[0m \u001b[38;5;250m            \u001b[39m\u001b[38;5;124;03m\"\"\"\u001b[39;00m\n\u001b[0;32m    298\u001b[0m \u001b[38;5;124;03m    Invalid value of type {typ} received for the '{name}' property of {pname}\u001b[39;00m\n\u001b[0;32m    299\u001b[0m \u001b[38;5;124;03m        Received value: {v}\u001b[39;00m\n\u001b[0;32m    300\u001b[0m \n\u001b[0;32m    301\u001b[0m \u001b[38;5;124;03m{valid_clr_desc}\"\"\"\u001b[39;00m\u001b[38;5;241m.\u001b[39mformat(\n\u001b[0;32m    302\u001b[0m                 name\u001b[38;5;241m=\u001b[39mname,\n\u001b[0;32m    303\u001b[0m                 pname\u001b[38;5;241m=\u001b[39m\u001b[38;5;28mself\u001b[39m\u001b[38;5;241m.\u001b[39mparent_name,\n\u001b[0;32m    304\u001b[0m                 typ\u001b[38;5;241m=\u001b[39mtype_str(v),\n\u001b[0;32m    305\u001b[0m                 v\u001b[38;5;241m=\u001b[39m\u001b[38;5;28mrepr\u001b[39m(v),\n\u001b[0;32m    306\u001b[0m                 valid_clr_desc\u001b[38;5;241m=\u001b[39m\u001b[38;5;28mself\u001b[39m\u001b[38;5;241m.\u001b[39mdescription(),\n\u001b[0;32m    307\u001b[0m             )\n\u001b[0;32m    308\u001b[0m         )\n",
      "\u001b[1;31mValueError\u001b[0m: \n    Invalid value of type 'pandas.core.series.Series' received for the 'opacity' property of scatter3d.marker\n        Received value: 0       5.294518\n1       3.109311\n2       2.577725\n3       7.427845\n4       4.143467\n5       1.990201\n6       1.652669\n7       1.858153\n8       2.150787\n9       3.125391\n10      9.895280\n11      4.263269\n12      3.543748\n13      1.730066\n14      2.213915\n15      2.480919\n16      3.014557\n17      2.563852\n18      2.743514\n19      2.017771\n20      1.850558\n21      1.955479\n22      2.077152\n363     8.768492\n364     9.367342\n365     6.821300\n366    11.965172\n367     6.067413\n368     5.164369\n369     1.908492\n370     7.673179\n371     6.691141\n372     6.053972\n373     8.356723\n374     2.563662\n375     4.439828\n376     4.255868\n377     2.943592\n378     8.028348\n379     2.280765\n380     6.138855\n381     5.729827\n382     3.298960\n383     2.234859\n384     3.723902\n385     3.940277\n386     3.099895\n387     2.082950\n388     2.451346\n389     2.694484\n390     3.082723\n391     2.565766\n392     2.464732\n393     2.373158\n394     3.660008\n395     3.063276\n396     1.800598\n397     3.217012\n398     2.058035\n399     2.487748\nName: amplitude, dtype: float64\n\n    The 'opacity' property is a number and may be specified as:\n      - An int or float in the interval [0, 1]"
     ]
    }
   ],
   "source": [
    "import plotly.graph_objects as go\n",
    "from plotly.subplots import make_subplots\n",
    "import numpy as np\n",
    "\n",
    "# Calculate scaler\n",
    "range_val = 913 - 240\n",
    "pixelrange = 128\n",
    "scaler = range_val / pixelrange\n",
    "\n",
    "# All data (background)\n",
    "all_data = pooled_data\n",
    "\n",
    "# Get unique stimtypes\n",
    "stimtypes = pooled_data['stimtype'].unique()\n",
    "\n",
    "# Create a subplot figure\n",
    "fig = make_subplots(\n",
    "    rows=1, cols=len(stimtypes),  # One row and one column for each stimtype\n",
    "    specs=[[{'type': 'scatter3d'}] * len(stimtypes)],  # Make each subplot a 3D scatter plot\n",
    "    subplot_titles=stimtypes  # Titles for each subplot\n",
    ")\n",
    "\n",
    "# Define the camera view (adjust this as per your preferred xyz rotation)\n",
    "camera = dict(\n",
    "    eye=dict(x=0.95, y=1.25, z=0.5)  # This sets the viewing angle\n",
    ")\n",
    "\n",
    "# Add all data to each subplot as the background\n",
    "for i, stimtype in enumerate(stimtypes):\n",
    "    # Filter data by stimtype\n",
    "    filtered_data = pooled_data[pooled_data['stimtype'] == stimtype]\n",
    "    \n",
    "    # Map experiment_id to a unique color\n",
    "    experiment_ids = filtered_data['experiment_id'].unique()\n",
    "    colors = ['maroon']  # You can choose another colorscale if you like\n",
    "    color_map = {experiment_id: colors[j % len(colors)] for j, experiment_id in enumerate(experiment_ids)}\n",
    "\n",
    "    # Apply the color map to the filtered data\n",
    "    filtered_data['color'] = filtered_data['experiment_id'].map(color_map)\n",
    "\n",
    "    # Add all data (background)\n",
    "    fig.add_trace(go.Scatter3d(\n",
    "        x=all_data['x_centroid'] * scaler,\n",
    "        y=(all_data['y_centroid'] % y_res) * scaler,\n",
    "        z=-all_data['plane_depth'],\n",
    "        mode='markers',\n",
    "        marker=dict(\n",
    "            size=abs(all_data['amplitude'])*2,\n",
    "            color='gray',  # Light color for background\n",
    "            opacity=0.8  # Low opacity to make it background-like\n",
    "        ),\n",
    "        name=''\n",
    "    ), row=1, col=i+1)\n",
    "\n",
    "    # Add filtered data for the specific stimtype (foreground)\n",
    "    fig.add_trace(go.Scatter3d(\n",
    "        x=filtered_data['x_centroid'] * scaler,\n",
    "        y=(filtered_data['y_centroid'] % y_res) * scaler,\n",
    "        z=-filtered_data['plane_depth'],\n",
    "        mode='markers',\n",
    "        marker=dict(\n",
    "            size=abs(filtered_data['amplitude'])*2,\n",
    "            color=filtered_data['color'],  # Apply color based on experiment_id\n",
    "            opacity=0.7\n",
    "        ),\n",
    "        name=stimtype\n",
    "    ), row=1, col=i+1)\n",
    "    fig.update_scenes(camera=camera, row=1, col=i+1)\n",
    "\n",
    "# Update layout with desired width, height, and margins\n",
    "fig.update_layout(\n",
    "    height=400,\n",
    "    width=1800,  # Adjust the width to fit all subplots\n",
    "    margin=dict(l=20, r=20, t=40, b=20)\n",
    ")\n",
    "\n",
    "# Show the figure\n",
    "fig.show()\n"
   ]
  },
  {
   "cell_type": "code",
   "execution_count": 39,
   "metadata": {},
   "outputs": [
    {
     "data": {
      "application/vnd.plotly.v1+json": {
       "config": {
        "plotlyServerURL": "https://plot.ly"
       },
       "data": [
        {
         "hovertemplate": "x=%{x}<br>Responsive Area [px]=%{y}<extra></extra>",
         "legendgroup": "",
         "marker": {
          "color": "grey",
          "size": 9,
          "symbol": "circle"
         },
         "mode": "markers",
         "name": "",
         "orientation": "v",
         "showlegend": false,
         "type": "scatter",
         "x": [
          "dots_OFF",
          "loom",
          "moving stripes",
          "dots_OFF",
          "loom",
          "moving stripes"
         ],
         "xaxis": "x",
         "y": [
          0,
          164,
          37,
          7,
          263,
          23
         ],
         "yaxis": "y"
        },
        {
         "marker": {
          "color": "crimson",
          "size": 12,
          "symbol": "circle"
         },
         "mode": "markers",
         "name": "Mean",
         "type": "scatter",
         "x": [
          "dots_OFF",
          "loom",
          "moving stripes"
         ],
         "y": [
          3.5,
          213.5,
          30
         ]
        }
       ],
       "layout": {
        "height": 400,
        "legend": {
         "tracegroupgap": 0
        },
        "margin": {
         "b": 20,
         "l": 20,
         "r": 20,
         "t": 20
        },
        "plot_bgcolor": "white",
        "template": {
         "data": {
          "bar": [
           {
            "error_x": {
             "color": "#2a3f5f"
            },
            "error_y": {
             "color": "#2a3f5f"
            },
            "marker": {
             "line": {
              "color": "#E5ECF6",
              "width": 0.5
             },
             "pattern": {
              "fillmode": "overlay",
              "size": 10,
              "solidity": 0.2
             }
            },
            "type": "bar"
           }
          ],
          "barpolar": [
           {
            "marker": {
             "line": {
              "color": "#E5ECF6",
              "width": 0.5
             },
             "pattern": {
              "fillmode": "overlay",
              "size": 10,
              "solidity": 0.2
             }
            },
            "type": "barpolar"
           }
          ],
          "carpet": [
           {
            "aaxis": {
             "endlinecolor": "#2a3f5f",
             "gridcolor": "white",
             "linecolor": "white",
             "minorgridcolor": "white",
             "startlinecolor": "#2a3f5f"
            },
            "baxis": {
             "endlinecolor": "#2a3f5f",
             "gridcolor": "white",
             "linecolor": "white",
             "minorgridcolor": "white",
             "startlinecolor": "#2a3f5f"
            },
            "type": "carpet"
           }
          ],
          "choropleth": [
           {
            "colorbar": {
             "outlinewidth": 0,
             "ticks": ""
            },
            "type": "choropleth"
           }
          ],
          "contour": [
           {
            "colorbar": {
             "outlinewidth": 0,
             "ticks": ""
            },
            "colorscale": [
             [
              0,
              "#0d0887"
             ],
             [
              0.1111111111111111,
              "#46039f"
             ],
             [
              0.2222222222222222,
              "#7201a8"
             ],
             [
              0.3333333333333333,
              "#9c179e"
             ],
             [
              0.4444444444444444,
              "#bd3786"
             ],
             [
              0.5555555555555556,
              "#d8576b"
             ],
             [
              0.6666666666666666,
              "#ed7953"
             ],
             [
              0.7777777777777778,
              "#fb9f3a"
             ],
             [
              0.8888888888888888,
              "#fdca26"
             ],
             [
              1,
              "#f0f921"
             ]
            ],
            "type": "contour"
           }
          ],
          "contourcarpet": [
           {
            "colorbar": {
             "outlinewidth": 0,
             "ticks": ""
            },
            "type": "contourcarpet"
           }
          ],
          "heatmap": [
           {
            "colorbar": {
             "outlinewidth": 0,
             "ticks": ""
            },
            "colorscale": [
             [
              0,
              "#0d0887"
             ],
             [
              0.1111111111111111,
              "#46039f"
             ],
             [
              0.2222222222222222,
              "#7201a8"
             ],
             [
              0.3333333333333333,
              "#9c179e"
             ],
             [
              0.4444444444444444,
              "#bd3786"
             ],
             [
              0.5555555555555556,
              "#d8576b"
             ],
             [
              0.6666666666666666,
              "#ed7953"
             ],
             [
              0.7777777777777778,
              "#fb9f3a"
             ],
             [
              0.8888888888888888,
              "#fdca26"
             ],
             [
              1,
              "#f0f921"
             ]
            ],
            "type": "heatmap"
           }
          ],
          "heatmapgl": [
           {
            "colorbar": {
             "outlinewidth": 0,
             "ticks": ""
            },
            "colorscale": [
             [
              0,
              "#0d0887"
             ],
             [
              0.1111111111111111,
              "#46039f"
             ],
             [
              0.2222222222222222,
              "#7201a8"
             ],
             [
              0.3333333333333333,
              "#9c179e"
             ],
             [
              0.4444444444444444,
              "#bd3786"
             ],
             [
              0.5555555555555556,
              "#d8576b"
             ],
             [
              0.6666666666666666,
              "#ed7953"
             ],
             [
              0.7777777777777778,
              "#fb9f3a"
             ],
             [
              0.8888888888888888,
              "#fdca26"
             ],
             [
              1,
              "#f0f921"
             ]
            ],
            "type": "heatmapgl"
           }
          ],
          "histogram": [
           {
            "marker": {
             "pattern": {
              "fillmode": "overlay",
              "size": 10,
              "solidity": 0.2
             }
            },
            "type": "histogram"
           }
          ],
          "histogram2d": [
           {
            "colorbar": {
             "outlinewidth": 0,
             "ticks": ""
            },
            "colorscale": [
             [
              0,
              "#0d0887"
             ],
             [
              0.1111111111111111,
              "#46039f"
             ],
             [
              0.2222222222222222,
              "#7201a8"
             ],
             [
              0.3333333333333333,
              "#9c179e"
             ],
             [
              0.4444444444444444,
              "#bd3786"
             ],
             [
              0.5555555555555556,
              "#d8576b"
             ],
             [
              0.6666666666666666,
              "#ed7953"
             ],
             [
              0.7777777777777778,
              "#fb9f3a"
             ],
             [
              0.8888888888888888,
              "#fdca26"
             ],
             [
              1,
              "#f0f921"
             ]
            ],
            "type": "histogram2d"
           }
          ],
          "histogram2dcontour": [
           {
            "colorbar": {
             "outlinewidth": 0,
             "ticks": ""
            },
            "colorscale": [
             [
              0,
              "#0d0887"
             ],
             [
              0.1111111111111111,
              "#46039f"
             ],
             [
              0.2222222222222222,
              "#7201a8"
             ],
             [
              0.3333333333333333,
              "#9c179e"
             ],
             [
              0.4444444444444444,
              "#bd3786"
             ],
             [
              0.5555555555555556,
              "#d8576b"
             ],
             [
              0.6666666666666666,
              "#ed7953"
             ],
             [
              0.7777777777777778,
              "#fb9f3a"
             ],
             [
              0.8888888888888888,
              "#fdca26"
             ],
             [
              1,
              "#f0f921"
             ]
            ],
            "type": "histogram2dcontour"
           }
          ],
          "mesh3d": [
           {
            "colorbar": {
             "outlinewidth": 0,
             "ticks": ""
            },
            "type": "mesh3d"
           }
          ],
          "parcoords": [
           {
            "line": {
             "colorbar": {
              "outlinewidth": 0,
              "ticks": ""
             }
            },
            "type": "parcoords"
           }
          ],
          "pie": [
           {
            "automargin": true,
            "type": "pie"
           }
          ],
          "scatter": [
           {
            "fillpattern": {
             "fillmode": "overlay",
             "size": 10,
             "solidity": 0.2
            },
            "type": "scatter"
           }
          ],
          "scatter3d": [
           {
            "line": {
             "colorbar": {
              "outlinewidth": 0,
              "ticks": ""
             }
            },
            "marker": {
             "colorbar": {
              "outlinewidth": 0,
              "ticks": ""
             }
            },
            "type": "scatter3d"
           }
          ],
          "scattercarpet": [
           {
            "marker": {
             "colorbar": {
              "outlinewidth": 0,
              "ticks": ""
             }
            },
            "type": "scattercarpet"
           }
          ],
          "scattergeo": [
           {
            "marker": {
             "colorbar": {
              "outlinewidth": 0,
              "ticks": ""
             }
            },
            "type": "scattergeo"
           }
          ],
          "scattergl": [
           {
            "marker": {
             "colorbar": {
              "outlinewidth": 0,
              "ticks": ""
             }
            },
            "type": "scattergl"
           }
          ],
          "scattermapbox": [
           {
            "marker": {
             "colorbar": {
              "outlinewidth": 0,
              "ticks": ""
             }
            },
            "type": "scattermapbox"
           }
          ],
          "scatterpolar": [
           {
            "marker": {
             "colorbar": {
              "outlinewidth": 0,
              "ticks": ""
             }
            },
            "type": "scatterpolar"
           }
          ],
          "scatterpolargl": [
           {
            "marker": {
             "colorbar": {
              "outlinewidth": 0,
              "ticks": ""
             }
            },
            "type": "scatterpolargl"
           }
          ],
          "scatterternary": [
           {
            "marker": {
             "colorbar": {
              "outlinewidth": 0,
              "ticks": ""
             }
            },
            "type": "scatterternary"
           }
          ],
          "surface": [
           {
            "colorbar": {
             "outlinewidth": 0,
             "ticks": ""
            },
            "colorscale": [
             [
              0,
              "#0d0887"
             ],
             [
              0.1111111111111111,
              "#46039f"
             ],
             [
              0.2222222222222222,
              "#7201a8"
             ],
             [
              0.3333333333333333,
              "#9c179e"
             ],
             [
              0.4444444444444444,
              "#bd3786"
             ],
             [
              0.5555555555555556,
              "#d8576b"
             ],
             [
              0.6666666666666666,
              "#ed7953"
             ],
             [
              0.7777777777777778,
              "#fb9f3a"
             ],
             [
              0.8888888888888888,
              "#fdca26"
             ],
             [
              1,
              "#f0f921"
             ]
            ],
            "type": "surface"
           }
          ],
          "table": [
           {
            "cells": {
             "fill": {
              "color": "#EBF0F8"
             },
             "line": {
              "color": "white"
             }
            },
            "header": {
             "fill": {
              "color": "#C8D4E3"
             },
             "line": {
              "color": "white"
             }
            },
            "type": "table"
           }
          ]
         },
         "layout": {
          "annotationdefaults": {
           "arrowcolor": "#2a3f5f",
           "arrowhead": 0,
           "arrowwidth": 1
          },
          "autotypenumbers": "strict",
          "coloraxis": {
           "colorbar": {
            "outlinewidth": 0,
            "ticks": ""
           }
          },
          "colorscale": {
           "diverging": [
            [
             0,
             "#8e0152"
            ],
            [
             0.1,
             "#c51b7d"
            ],
            [
             0.2,
             "#de77ae"
            ],
            [
             0.3,
             "#f1b6da"
            ],
            [
             0.4,
             "#fde0ef"
            ],
            [
             0.5,
             "#f7f7f7"
            ],
            [
             0.6,
             "#e6f5d0"
            ],
            [
             0.7,
             "#b8e186"
            ],
            [
             0.8,
             "#7fbc41"
            ],
            [
             0.9,
             "#4d9221"
            ],
            [
             1,
             "#276419"
            ]
           ],
           "sequential": [
            [
             0,
             "#0d0887"
            ],
            [
             0.1111111111111111,
             "#46039f"
            ],
            [
             0.2222222222222222,
             "#7201a8"
            ],
            [
             0.3333333333333333,
             "#9c179e"
            ],
            [
             0.4444444444444444,
             "#bd3786"
            ],
            [
             0.5555555555555556,
             "#d8576b"
            ],
            [
             0.6666666666666666,
             "#ed7953"
            ],
            [
             0.7777777777777778,
             "#fb9f3a"
            ],
            [
             0.8888888888888888,
             "#fdca26"
            ],
            [
             1,
             "#f0f921"
            ]
           ],
           "sequentialminus": [
            [
             0,
             "#0d0887"
            ],
            [
             0.1111111111111111,
             "#46039f"
            ],
            [
             0.2222222222222222,
             "#7201a8"
            ],
            [
             0.3333333333333333,
             "#9c179e"
            ],
            [
             0.4444444444444444,
             "#bd3786"
            ],
            [
             0.5555555555555556,
             "#d8576b"
            ],
            [
             0.6666666666666666,
             "#ed7953"
            ],
            [
             0.7777777777777778,
             "#fb9f3a"
            ],
            [
             0.8888888888888888,
             "#fdca26"
            ],
            [
             1,
             "#f0f921"
            ]
           ]
          },
          "colorway": [
           "#636efa",
           "#EF553B",
           "#00cc96",
           "#ab63fa",
           "#FFA15A",
           "#19d3f3",
           "#FF6692",
           "#B6E880",
           "#FF97FF",
           "#FECB52"
          ],
          "font": {
           "color": "#2a3f5f"
          },
          "geo": {
           "bgcolor": "white",
           "lakecolor": "white",
           "landcolor": "#E5ECF6",
           "showlakes": true,
           "showland": true,
           "subunitcolor": "white"
          },
          "hoverlabel": {
           "align": "left"
          },
          "hovermode": "closest",
          "mapbox": {
           "style": "light"
          },
          "paper_bgcolor": "white",
          "plot_bgcolor": "#E5ECF6",
          "polar": {
           "angularaxis": {
            "gridcolor": "white",
            "linecolor": "white",
            "ticks": ""
           },
           "bgcolor": "#E5ECF6",
           "radialaxis": {
            "gridcolor": "white",
            "linecolor": "white",
            "ticks": ""
           }
          },
          "scene": {
           "xaxis": {
            "backgroundcolor": "#E5ECF6",
            "gridcolor": "white",
            "gridwidth": 2,
            "linecolor": "white",
            "showbackground": true,
            "ticks": "",
            "zerolinecolor": "white"
           },
           "yaxis": {
            "backgroundcolor": "#E5ECF6",
            "gridcolor": "white",
            "gridwidth": 2,
            "linecolor": "white",
            "showbackground": true,
            "ticks": "",
            "zerolinecolor": "white"
           },
           "zaxis": {
            "backgroundcolor": "#E5ECF6",
            "gridcolor": "white",
            "gridwidth": 2,
            "linecolor": "white",
            "showbackground": true,
            "ticks": "",
            "zerolinecolor": "white"
           }
          },
          "shapedefaults": {
           "line": {
            "color": "#2a3f5f"
           }
          },
          "ternary": {
           "aaxis": {
            "gridcolor": "white",
            "linecolor": "white",
            "ticks": ""
           },
           "baxis": {
            "gridcolor": "white",
            "linecolor": "white",
            "ticks": ""
           },
           "bgcolor": "#E5ECF6",
           "caxis": {
            "gridcolor": "white",
            "linecolor": "white",
            "ticks": ""
           }
          },
          "title": {
           "x": 0.05
          },
          "xaxis": {
           "automargin": true,
           "gridcolor": "white",
           "linecolor": "white",
           "ticks": "",
           "title": {
            "standoff": 15
           },
           "zerolinecolor": "white",
           "zerolinewidth": 2
          },
          "yaxis": {
           "automargin": true,
           "gridcolor": "white",
           "linecolor": "white",
           "ticks": "",
           "title": {
            "standoff": 15
           },
           "zerolinecolor": "white",
           "zerolinewidth": 2
          }
         }
        },
        "width": 300,
        "xaxis": {
         "anchor": "y",
         "domain": [
          0,
          1
         ],
         "linecolor": "black",
         "linewidth": 2,
         "mirror": false,
         "range": [
          -1,
          4
         ],
         "showline": true,
         "tickcolor": "black",
         "ticklen": 10,
         "ticks": "outside",
         "tickvals": [
          0,
          1,
          2,
          3
         ],
         "tickwidth": 2,
         "title": {
          "text": "x"
         }
        },
        "yaxis": {
         "anchor": "x",
         "domain": [
          0,
          1
         ],
         "linecolor": "black",
         "linewidth": 2,
         "mirror": false,
         "showline": true,
         "title": {
          "text": "Responsive Area [px]"
         }
        }
       }
      }
     },
     "metadata": {},
     "output_type": "display_data"
    }
   ],
   "source": [
    "import plotly.express as px\n",
    "import numpy as np\n",
    "import pandas as pd\n",
    "\n",
    "# Create empty lists to accumulate the data\n",
    "x_vals = []\n",
    "y_vals = []\n",
    "\n",
    "# Loop to accumulate data\n",
    "for id in np.unique(experiment_ID):\n",
    "    for idx, stim in enumerate(np.unique(stimulus)):\n",
    "        if stim == 'dots_ON':\n",
    "            continue\n",
    "        filtered_data = pooled_data[(pooled_data['stimtype'] == stim) & (pooled_data['experiment_id'] == id)]\n",
    "        responsive_area = len(filtered_data['x_centroid'])\n",
    "        x_vals.append(stim)\n",
    "        y_vals.append(responsive_area)\n",
    "\n",
    "# Create a DataFrame for easier calculation of means\n",
    "data = pd.DataFrame({'x': x_vals, 'y': y_vals})\n",
    "\n",
    "# Calculate the mean for each unique x value\n",
    "means = data.groupby('x')['y'].mean().reset_index()\n",
    "\n",
    "# Create the scatter plot after the loop\n",
    "fig = px.scatter(x=x_vals, y=y_vals, labels={'y': 'Responsive Area [px]'})\n",
    "\n",
    "# Update the layout and traces for the main scatter plot\n",
    "fig.update_layout(width=300, height=400, margin=dict(l=20, r=20, t=20, b=20))\n",
    "fig.update_traces(marker=dict(size=9, color='grey'))\n",
    "fig.update_xaxes(range=[-1, 4])\n",
    "#fig.update_yaxes(range=[-100, 4000])\n",
    "\n",
    "# Style the plot\n",
    "fig.update_layout(\n",
    "    plot_bgcolor='white',\n",
    "    xaxis=dict(\n",
    "        showline=True, linewidth=2, linecolor='black', mirror=False,\n",
    "        tickvals=[0, 1, 2, 3],\n",
    "        ticks='outside', ticklen=10, tickwidth=2, tickcolor='black'\n",
    "    ),\n",
    "    yaxis=dict(\n",
    "        showline=True, linewidth=2, linecolor='black', mirror=False\n",
    "    )\n",
    ")\n",
    "\n",
    "# Overlay black dots for the mean values\n",
    "fig.add_scatter(\n",
    "    x=means['x'], y=means['y'], \n",
    "    mode='markers', \n",
    "    marker=dict(size=12, color='crimson', symbol='circle'), \n",
    "    name='Mean'\n",
    ")\n",
    "\n",
    "# Show the plot\n",
    "fig.show()\n"
   ]
  },
  {
   "cell_type": "code",
   "execution_count": 40,
   "metadata": {},
   "outputs": [
    {
     "data": {
      "application/vnd.plotly.v1+json": {
       "config": {
        "plotlyServerURL": "https://plot.ly"
       },
       "data": [
        {
         "marker": {
          "color": "crimson"
         },
         "name": "Mean",
         "type": "bar",
         "width": 0.4,
         "x": [
          "dots_OFF",
          "loom",
          "moving stripes"
         ],
         "y": [
          3.5,
          213.5,
          30
         ]
        },
        {
         "marker": {
          "color": "black",
          "size": 9
         },
         "mode": "markers",
         "type": "scatter",
         "x": [
          "dots_OFF",
          "loom",
          "moving stripes",
          "dots_OFF",
          "loom",
          "moving stripes"
         ],
         "y": [
          0,
          164,
          37,
          7,
          263,
          23
         ]
        }
       ],
       "layout": {
        "barmode": "overlay",
        "height": 400,
        "margin": {
         "b": 20,
         "l": 20,
         "r": 20,
         "t": 20
        },
        "plot_bgcolor": "white",
        "template": {
         "data": {
          "bar": [
           {
            "error_x": {
             "color": "#2a3f5f"
            },
            "error_y": {
             "color": "#2a3f5f"
            },
            "marker": {
             "line": {
              "color": "#E5ECF6",
              "width": 0.5
             },
             "pattern": {
              "fillmode": "overlay",
              "size": 10,
              "solidity": 0.2
             }
            },
            "type": "bar"
           }
          ],
          "barpolar": [
           {
            "marker": {
             "line": {
              "color": "#E5ECF6",
              "width": 0.5
             },
             "pattern": {
              "fillmode": "overlay",
              "size": 10,
              "solidity": 0.2
             }
            },
            "type": "barpolar"
           }
          ],
          "carpet": [
           {
            "aaxis": {
             "endlinecolor": "#2a3f5f",
             "gridcolor": "white",
             "linecolor": "white",
             "minorgridcolor": "white",
             "startlinecolor": "#2a3f5f"
            },
            "baxis": {
             "endlinecolor": "#2a3f5f",
             "gridcolor": "white",
             "linecolor": "white",
             "minorgridcolor": "white",
             "startlinecolor": "#2a3f5f"
            },
            "type": "carpet"
           }
          ],
          "choropleth": [
           {
            "colorbar": {
             "outlinewidth": 0,
             "ticks": ""
            },
            "type": "choropleth"
           }
          ],
          "contour": [
           {
            "colorbar": {
             "outlinewidth": 0,
             "ticks": ""
            },
            "colorscale": [
             [
              0,
              "#0d0887"
             ],
             [
              0.1111111111111111,
              "#46039f"
             ],
             [
              0.2222222222222222,
              "#7201a8"
             ],
             [
              0.3333333333333333,
              "#9c179e"
             ],
             [
              0.4444444444444444,
              "#bd3786"
             ],
             [
              0.5555555555555556,
              "#d8576b"
             ],
             [
              0.6666666666666666,
              "#ed7953"
             ],
             [
              0.7777777777777778,
              "#fb9f3a"
             ],
             [
              0.8888888888888888,
              "#fdca26"
             ],
             [
              1,
              "#f0f921"
             ]
            ],
            "type": "contour"
           }
          ],
          "contourcarpet": [
           {
            "colorbar": {
             "outlinewidth": 0,
             "ticks": ""
            },
            "type": "contourcarpet"
           }
          ],
          "heatmap": [
           {
            "colorbar": {
             "outlinewidth": 0,
             "ticks": ""
            },
            "colorscale": [
             [
              0,
              "#0d0887"
             ],
             [
              0.1111111111111111,
              "#46039f"
             ],
             [
              0.2222222222222222,
              "#7201a8"
             ],
             [
              0.3333333333333333,
              "#9c179e"
             ],
             [
              0.4444444444444444,
              "#bd3786"
             ],
             [
              0.5555555555555556,
              "#d8576b"
             ],
             [
              0.6666666666666666,
              "#ed7953"
             ],
             [
              0.7777777777777778,
              "#fb9f3a"
             ],
             [
              0.8888888888888888,
              "#fdca26"
             ],
             [
              1,
              "#f0f921"
             ]
            ],
            "type": "heatmap"
           }
          ],
          "heatmapgl": [
           {
            "colorbar": {
             "outlinewidth": 0,
             "ticks": ""
            },
            "colorscale": [
             [
              0,
              "#0d0887"
             ],
             [
              0.1111111111111111,
              "#46039f"
             ],
             [
              0.2222222222222222,
              "#7201a8"
             ],
             [
              0.3333333333333333,
              "#9c179e"
             ],
             [
              0.4444444444444444,
              "#bd3786"
             ],
             [
              0.5555555555555556,
              "#d8576b"
             ],
             [
              0.6666666666666666,
              "#ed7953"
             ],
             [
              0.7777777777777778,
              "#fb9f3a"
             ],
             [
              0.8888888888888888,
              "#fdca26"
             ],
             [
              1,
              "#f0f921"
             ]
            ],
            "type": "heatmapgl"
           }
          ],
          "histogram": [
           {
            "marker": {
             "pattern": {
              "fillmode": "overlay",
              "size": 10,
              "solidity": 0.2
             }
            },
            "type": "histogram"
           }
          ],
          "histogram2d": [
           {
            "colorbar": {
             "outlinewidth": 0,
             "ticks": ""
            },
            "colorscale": [
             [
              0,
              "#0d0887"
             ],
             [
              0.1111111111111111,
              "#46039f"
             ],
             [
              0.2222222222222222,
              "#7201a8"
             ],
             [
              0.3333333333333333,
              "#9c179e"
             ],
             [
              0.4444444444444444,
              "#bd3786"
             ],
             [
              0.5555555555555556,
              "#d8576b"
             ],
             [
              0.6666666666666666,
              "#ed7953"
             ],
             [
              0.7777777777777778,
              "#fb9f3a"
             ],
             [
              0.8888888888888888,
              "#fdca26"
             ],
             [
              1,
              "#f0f921"
             ]
            ],
            "type": "histogram2d"
           }
          ],
          "histogram2dcontour": [
           {
            "colorbar": {
             "outlinewidth": 0,
             "ticks": ""
            },
            "colorscale": [
             [
              0,
              "#0d0887"
             ],
             [
              0.1111111111111111,
              "#46039f"
             ],
             [
              0.2222222222222222,
              "#7201a8"
             ],
             [
              0.3333333333333333,
              "#9c179e"
             ],
             [
              0.4444444444444444,
              "#bd3786"
             ],
             [
              0.5555555555555556,
              "#d8576b"
             ],
             [
              0.6666666666666666,
              "#ed7953"
             ],
             [
              0.7777777777777778,
              "#fb9f3a"
             ],
             [
              0.8888888888888888,
              "#fdca26"
             ],
             [
              1,
              "#f0f921"
             ]
            ],
            "type": "histogram2dcontour"
           }
          ],
          "mesh3d": [
           {
            "colorbar": {
             "outlinewidth": 0,
             "ticks": ""
            },
            "type": "mesh3d"
           }
          ],
          "parcoords": [
           {
            "line": {
             "colorbar": {
              "outlinewidth": 0,
              "ticks": ""
             }
            },
            "type": "parcoords"
           }
          ],
          "pie": [
           {
            "automargin": true,
            "type": "pie"
           }
          ],
          "scatter": [
           {
            "fillpattern": {
             "fillmode": "overlay",
             "size": 10,
             "solidity": 0.2
            },
            "type": "scatter"
           }
          ],
          "scatter3d": [
           {
            "line": {
             "colorbar": {
              "outlinewidth": 0,
              "ticks": ""
             }
            },
            "marker": {
             "colorbar": {
              "outlinewidth": 0,
              "ticks": ""
             }
            },
            "type": "scatter3d"
           }
          ],
          "scattercarpet": [
           {
            "marker": {
             "colorbar": {
              "outlinewidth": 0,
              "ticks": ""
             }
            },
            "type": "scattercarpet"
           }
          ],
          "scattergeo": [
           {
            "marker": {
             "colorbar": {
              "outlinewidth": 0,
              "ticks": ""
             }
            },
            "type": "scattergeo"
           }
          ],
          "scattergl": [
           {
            "marker": {
             "colorbar": {
              "outlinewidth": 0,
              "ticks": ""
             }
            },
            "type": "scattergl"
           }
          ],
          "scattermapbox": [
           {
            "marker": {
             "colorbar": {
              "outlinewidth": 0,
              "ticks": ""
             }
            },
            "type": "scattermapbox"
           }
          ],
          "scatterpolar": [
           {
            "marker": {
             "colorbar": {
              "outlinewidth": 0,
              "ticks": ""
             }
            },
            "type": "scatterpolar"
           }
          ],
          "scatterpolargl": [
           {
            "marker": {
             "colorbar": {
              "outlinewidth": 0,
              "ticks": ""
             }
            },
            "type": "scatterpolargl"
           }
          ],
          "scatterternary": [
           {
            "marker": {
             "colorbar": {
              "outlinewidth": 0,
              "ticks": ""
             }
            },
            "type": "scatterternary"
           }
          ],
          "surface": [
           {
            "colorbar": {
             "outlinewidth": 0,
             "ticks": ""
            },
            "colorscale": [
             [
              0,
              "#0d0887"
             ],
             [
              0.1111111111111111,
              "#46039f"
             ],
             [
              0.2222222222222222,
              "#7201a8"
             ],
             [
              0.3333333333333333,
              "#9c179e"
             ],
             [
              0.4444444444444444,
              "#bd3786"
             ],
             [
              0.5555555555555556,
              "#d8576b"
             ],
             [
              0.6666666666666666,
              "#ed7953"
             ],
             [
              0.7777777777777778,
              "#fb9f3a"
             ],
             [
              0.8888888888888888,
              "#fdca26"
             ],
             [
              1,
              "#f0f921"
             ]
            ],
            "type": "surface"
           }
          ],
          "table": [
           {
            "cells": {
             "fill": {
              "color": "#EBF0F8"
             },
             "line": {
              "color": "white"
             }
            },
            "header": {
             "fill": {
              "color": "#C8D4E3"
             },
             "line": {
              "color": "white"
             }
            },
            "type": "table"
           }
          ]
         },
         "layout": {
          "annotationdefaults": {
           "arrowcolor": "#2a3f5f",
           "arrowhead": 0,
           "arrowwidth": 1
          },
          "autotypenumbers": "strict",
          "coloraxis": {
           "colorbar": {
            "outlinewidth": 0,
            "ticks": ""
           }
          },
          "colorscale": {
           "diverging": [
            [
             0,
             "#8e0152"
            ],
            [
             0.1,
             "#c51b7d"
            ],
            [
             0.2,
             "#de77ae"
            ],
            [
             0.3,
             "#f1b6da"
            ],
            [
             0.4,
             "#fde0ef"
            ],
            [
             0.5,
             "#f7f7f7"
            ],
            [
             0.6,
             "#e6f5d0"
            ],
            [
             0.7,
             "#b8e186"
            ],
            [
             0.8,
             "#7fbc41"
            ],
            [
             0.9,
             "#4d9221"
            ],
            [
             1,
             "#276419"
            ]
           ],
           "sequential": [
            [
             0,
             "#0d0887"
            ],
            [
             0.1111111111111111,
             "#46039f"
            ],
            [
             0.2222222222222222,
             "#7201a8"
            ],
            [
             0.3333333333333333,
             "#9c179e"
            ],
            [
             0.4444444444444444,
             "#bd3786"
            ],
            [
             0.5555555555555556,
             "#d8576b"
            ],
            [
             0.6666666666666666,
             "#ed7953"
            ],
            [
             0.7777777777777778,
             "#fb9f3a"
            ],
            [
             0.8888888888888888,
             "#fdca26"
            ],
            [
             1,
             "#f0f921"
            ]
           ],
           "sequentialminus": [
            [
             0,
             "#0d0887"
            ],
            [
             0.1111111111111111,
             "#46039f"
            ],
            [
             0.2222222222222222,
             "#7201a8"
            ],
            [
             0.3333333333333333,
             "#9c179e"
            ],
            [
             0.4444444444444444,
             "#bd3786"
            ],
            [
             0.5555555555555556,
             "#d8576b"
            ],
            [
             0.6666666666666666,
             "#ed7953"
            ],
            [
             0.7777777777777778,
             "#fb9f3a"
            ],
            [
             0.8888888888888888,
             "#fdca26"
            ],
            [
             1,
             "#f0f921"
            ]
           ]
          },
          "colorway": [
           "#636efa",
           "#EF553B",
           "#00cc96",
           "#ab63fa",
           "#FFA15A",
           "#19d3f3",
           "#FF6692",
           "#B6E880",
           "#FF97FF",
           "#FECB52"
          ],
          "font": {
           "color": "#2a3f5f"
          },
          "geo": {
           "bgcolor": "white",
           "lakecolor": "white",
           "landcolor": "#E5ECF6",
           "showlakes": true,
           "showland": true,
           "subunitcolor": "white"
          },
          "hoverlabel": {
           "align": "left"
          },
          "hovermode": "closest",
          "mapbox": {
           "style": "light"
          },
          "paper_bgcolor": "white",
          "plot_bgcolor": "#E5ECF6",
          "polar": {
           "angularaxis": {
            "gridcolor": "white",
            "linecolor": "white",
            "ticks": ""
           },
           "bgcolor": "#E5ECF6",
           "radialaxis": {
            "gridcolor": "white",
            "linecolor": "white",
            "ticks": ""
           }
          },
          "scene": {
           "xaxis": {
            "backgroundcolor": "#E5ECF6",
            "gridcolor": "white",
            "gridwidth": 2,
            "linecolor": "white",
            "showbackground": true,
            "ticks": "",
            "zerolinecolor": "white"
           },
           "yaxis": {
            "backgroundcolor": "#E5ECF6",
            "gridcolor": "white",
            "gridwidth": 2,
            "linecolor": "white",
            "showbackground": true,
            "ticks": "",
            "zerolinecolor": "white"
           },
           "zaxis": {
            "backgroundcolor": "#E5ECF6",
            "gridcolor": "white",
            "gridwidth": 2,
            "linecolor": "white",
            "showbackground": true,
            "ticks": "",
            "zerolinecolor": "white"
           }
          },
          "shapedefaults": {
           "line": {
            "color": "#2a3f5f"
           }
          },
          "ternary": {
           "aaxis": {
            "gridcolor": "white",
            "linecolor": "white",
            "ticks": ""
           },
           "baxis": {
            "gridcolor": "white",
            "linecolor": "white",
            "ticks": ""
           },
           "bgcolor": "#E5ECF6",
           "caxis": {
            "gridcolor": "white",
            "linecolor": "white",
            "ticks": ""
           }
          },
          "title": {
           "x": 0.05
          },
          "xaxis": {
           "automargin": true,
           "gridcolor": "white",
           "linecolor": "white",
           "ticks": "",
           "title": {
            "standoff": 15
           },
           "zerolinecolor": "white",
           "zerolinewidth": 2
          },
          "yaxis": {
           "automargin": true,
           "gridcolor": "white",
           "linecolor": "white",
           "ticks": "",
           "title": {
            "standoff": 15
           },
           "zerolinecolor": "white",
           "zerolinewidth": 2
          }
         }
        },
        "width": 300,
        "xaxis": {
         "linecolor": "black",
         "linewidth": 2,
         "mirror": false,
         "showline": true,
         "tickcolor": "black",
         "tickfont": {
          "size": 16
         },
         "ticklen": 10,
         "ticks": "outside",
         "tickvals": [
          0,
          1,
          2,
          3
         ],
         "tickwidth": 2
        },
        "yaxis": {
         "linecolor": "black",
         "linewidth": 2,
         "mirror": false,
         "showline": true,
         "tickfont": {
          "size": 16
         }
        }
       }
      }
     },
     "metadata": {},
     "output_type": "display_data"
    }
   ],
   "source": [
    "import plotly.express as px\n",
    "import plotly.graph_objects as go\n",
    "import numpy as np\n",
    "import pandas as pd\n",
    "\n",
    "# Create empty lists to accumulate the data\n",
    "x_vals = []\n",
    "y_vals = []\n",
    "\n",
    "# Loop to accumulate data\n",
    "for id in np.unique(experiment_ID):\n",
    "    for idx, stim in enumerate(np.unique(stimulus)):\n",
    "        if stim == 'dots_ON':\n",
    "            continue\n",
    "        filtered_data = pooled_data[(pooled_data['stimtype'] == stim) & (pooled_data['experiment_id'] == id)]\n",
    "        responsive_area = len(filtered_data['x_centroid'])\n",
    "        x_vals.append(stim)\n",
    "        y_vals.append(responsive_area)\n",
    "\n",
    "# Create a DataFrame for easier calculation of means\n",
    "data = pd.DataFrame({'x': x_vals, 'y': y_vals})\n",
    "\n",
    "# Calculate the mean for each unique x value\n",
    "means = data.groupby('x')['y'].mean().reset_index()\n",
    "\n",
    "# Start with the bars for the means\n",
    "fig = go.Figure()\n",
    "\n",
    "# Add the bar trace for means\n",
    "fig.add_trace(go.Bar(\n",
    "    x=means['x'], \n",
    "    y=means['y'], \n",
    "    name='Mean', \n",
    "    marker=dict(color='crimson'),\n",
    "    width=0.4\n",
    "))\n",
    "\n",
    "# Overlay individual data points (scatter)\n",
    "fig.add_trace(go.Scatter(\n",
    "    x=x_vals, \n",
    "    y=y_vals, \n",
    "    mode='markers', \n",
    "    marker=dict(size=9, color='black'), \n",
    "    name=None\n",
    "))\n",
    "\n",
    "# Update layout for the combined plot\n",
    "fig.update_layout(\n",
    "    width=300, \n",
    "    height=400, \n",
    "    margin=dict(l=20, r=20, t=20, b=20),\n",
    "    plot_bgcolor='white',\n",
    "    xaxis=dict(\n",
    "        showline=True, \n",
    "        linewidth=2, \n",
    "        linecolor='black', \n",
    "        mirror=False,\n",
    "        tickvals=[0, 1, 2, 3],\n",
    "        ticks='outside', \n",
    "        ticklen=10, \n",
    "        tickwidth=2, \n",
    "        tickcolor='black',  # Increase the font size for x-axis title\n",
    "        tickfont=dict(size=16) \n",
    "    ),\n",
    "    yaxis=dict(\n",
    "        showline=True, \n",
    "        linewidth=2, \n",
    "        linecolor='black', \n",
    "        mirror=False,  # Increase the font size for x-axis title\n",
    "        tickfont=dict(size=16) \n",
    "    ),\n",
    "    barmode='overlay'  # This ensures the scatter and bars overlay correctly\n",
    ")\n",
    "\n",
    "# Show the plot\n",
    "fig.show()\n"
   ]
  },
  {
   "cell_type": "code",
   "execution_count": 41,
   "metadata": {},
   "outputs": [
    {
     "data": {
      "application/vnd.plotly.v1+json": {
       "config": {
        "plotlyServerURL": "https://plot.ly"
       },
       "data": [
        {
         "hovertemplate": "stimtype=moving stripes<br>ot_depth=%{x}<br>integral=%{y}<extra></extra>",
         "legendgroup": "moving stripes",
         "marker": {
          "color": "#636efa",
          "opacity": 0.9,
          "symbol": "circle"
         },
         "mode": "markers",
         "name": "moving stripes",
         "orientation": "v",
         "showlegend": true,
         "type": "scatter",
         "x": [
          56,
          101,
          60,
          54,
          101,
          101,
          101,
          101,
          101,
          101,
          92,
          101,
          101,
          101,
          101,
          101,
          101,
          94,
          101,
          33,
          101,
          101,
          101,
          101,
          -1,
          101,
          101,
          76,
          84,
          -1,
          68,
          101,
          101,
          -1,
          -1,
          101,
          88,
          -1,
          -1,
          -1,
          101,
          -1,
          101,
          101,
          -1,
          -1,
          -1,
          -1,
          -1,
          -1,
          -1,
          94,
          -1,
          101,
          -1,
          -1,
          101,
          101,
          -1,
          -1
         ],
         "xaxis": "x",
         "y": [
          132.00050354003906,
          74.18009948730469,
          51.6955451965332,
          199.96719360351562,
          89.97557067871094,
          32.00664138793945,
          38.18147277832031,
          38.291046142578125,
          47.047019958496094,
          74.74126434326172,
          233.0707244873047,
          100.46060943603516,
          84.92461395263672,
          16.188335418701172,
          45.666648864746094,
          57.91658401489258,
          66.5564193725586,
          49.862831115722656,
          63.261192321777344,
          0.37367546558380127,
          13.744514465332031,
          33.09651565551758,
          24.59994888305664,
          382.0909729003906,
          434.6678161621094,
          313.9339599609375,
          551.236083984375,
          284.5772399902344,
          232.14151000976562,
          77.56121826171875,
          354.74468994140625,
          298.7529602050781,
          278.0106201171875,
          371.8455505371094,
          105.43733215332031,
          151.4903106689453,
          192.90757751464844,
          104.37344360351562,
          334.5520324707031,
          89.60357666015625,
          241.84515380859375,
          268.6895751953125,
          128.1576690673828,
          81.70925903320312,
          148.21981811523438,
          153.60916137695312,
          122.0101318359375,
          65.92155456542969,
          83.57128143310547,
          78.91779327392578,
          128.6360626220703,
          63.86513137817383,
          58.405677795410156,
          64.97550201416016,
          97.95482635498047,
          76.66748046875,
          39.76919174194336,
          100.40255737304688,
          68.31556701660156,
          72.91594696044922
         ],
         "yaxis": "y"
        },
        {
         "hovertemplate": "stimtype=dots_ON<br>ot_depth=%{x}<br>integral=%{y}<extra></extra>",
         "legendgroup": "dots_ON",
         "marker": {
          "color": "#EF553B",
          "opacity": 0.9,
          "symbol": "circle"
         },
         "mode": "markers",
         "name": "dots_ON",
         "orientation": "v",
         "showlegend": true,
         "type": "scatter",
         "x": [
          101,
          101,
          78,
          101,
          101,
          101,
          101,
          101,
          101,
          101,
          101,
          101,
          101,
          101,
          101,
          101,
          101,
          101,
          101,
          56,
          101,
          32,
          101,
          60,
          101,
          101,
          40,
          101,
          54,
          101,
          101,
          81,
          101,
          101,
          101,
          101,
          101,
          101,
          101,
          101,
          101,
          101,
          101,
          101,
          67,
          92,
          101,
          101,
          101,
          101,
          101,
          101,
          101,
          101,
          101,
          101,
          101,
          101,
          101,
          81,
          101,
          101,
          101,
          101,
          101,
          101,
          93,
          101,
          101,
          101,
          -1,
          -1,
          -1,
          -1,
          -1,
          -1,
          -1,
          -1,
          -1,
          -1,
          -1,
          94,
          96,
          -1,
          -1,
          101,
          -1,
          -1,
          -1,
          -1,
          -1,
          -1,
          -1,
          -1,
          -1,
          -1,
          101,
          -1,
          -1,
          -1,
          -1,
          -1,
          -1,
          -1,
          -1,
          -1,
          -1,
          -1,
          -1,
          -1,
          -1,
          -1,
          -1,
          -1,
          -1,
          -1,
          -1,
          -1,
          -1,
          -1,
          -1,
          -1,
          -1,
          -1,
          -1,
          -1,
          -1,
          -1,
          101,
          -1,
          -1,
          101,
          101,
          76,
          -1,
          -1,
          -1,
          -1,
          -1,
          -1,
          -1,
          -1,
          84,
          -1,
          -1,
          -1,
          -1,
          -1,
          68,
          101,
          -1,
          101,
          -1,
          -1,
          -1,
          -1,
          -1,
          101,
          -1,
          88,
          -1,
          -1,
          -1,
          -1,
          -1,
          -1,
          101,
          -1,
          -1,
          -1,
          -1,
          -1,
          -1,
          -1,
          -1,
          -1,
          -1,
          101,
          -1,
          -1,
          -1,
          92,
          101,
          -1,
          -1,
          -1,
          -1,
          -1,
          -1,
          -1,
          -1,
          -1,
          -1,
          -1,
          -1,
          -1,
          94,
          -1
         ],
         "xaxis": "x",
         "y": [
          -19.39854621887207,
          -20.755220413208008,
          -18.63903045654297,
          -42.53084945678711,
          -56.00779342651367,
          -29.5858154296875,
          -20.514158248901367,
          -24.32734489440918,
          -9.309416770935059,
          -21.135440826416016,
          -14.968704223632812,
          -36.688720703125,
          -20.280624389648438,
          -37.44536209106445,
          -20.98187255859375,
          -34.7001838684082,
          -21.12190818786621,
          -4.943488121032715,
          -26.656723022460938,
          207.8870849609375,
          159.73196411132812,
          84.05917358398438,
          76.81629180908203,
          140.51690673828125,
          285.0655822753906,
          154.52720642089844,
          100.48287200927734,
          43.0401611328125,
          244.03004455566406,
          126.68059539794922,
          168.3054656982422,
          104.44762420654297,
          62.41478729248047,
          39.633522033691406,
          62.665306091308594,
          33.186283111572266,
          73.24072265625,
          78.48053741455078,
          59.387969970703125,
          113.62190246582031,
          48.5792350769043,
          25.428497314453125,
          53.66504669189453,
          105.70304107666016,
          110.41649627685547,
          240.44412231445312,
          37.553592681884766,
          52.71476745605469,
          78.35747528076172,
          61.058963775634766,
          55.143280029296875,
          54.34148406982422,
          75.2911376953125,
          88.23963165283203,
          66.56839752197266,
          118.19829559326172,
          105.80789947509766,
          51.81072235107422,
          41.949153900146484,
          39.1253547668457,
          38.417850494384766,
          70.1024169921875,
          78.9739761352539,
          75.83991241455078,
          83.8492431640625,
          53.44497299194336,
          42.420772552490234,
          57.087074279785156,
          28.007732391357422,
          26.979938507080078,
          50.87226104736328,
          43.09473419189453,
          74.28356170654297,
          46.26719284057617,
          73.34431457519531,
          66.40039825439453,
          93.16746520996094,
          62.24894714355469,
          11.443775177001953,
          3.996109962463379,
          52.42103958129883,
          115.82335662841797,
          110.433349609375,
          31.786396026611328,
          32.25645446777344,
          79.61433410644531,
          68.70214080810547,
          30.729358673095703,
          57.50369644165039,
          46.65573501586914,
          47.791900634765625,
          7.28502893447876,
          40.087284088134766,
          33.14198303222656,
          73.04911804199219,
          22.819204330444336,
          22.412723541259766,
          42.923004150390625,
          57.212581634521484,
          72.60161590576172,
          25.695741653442383,
          8.446626663208008,
          40.6651725769043,
          48.97316360473633,
          58.804569244384766,
          35.793853759765625,
          24.058483123779297,
          35.25578689575195,
          39.162933349609375,
          43.447017669677734,
          27.349416732788086,
          34.561439514160156,
          17.644351959228516,
          74.50696563720703,
          28.036060333251953,
          26.061767578125,
          24.608793258666992,
          57.3436393737793,
          54.71189498901367,
          29.545284271240234,
          60.43415832519531,
          46.5224723815918,
          93.16252899169922,
          15.518793106079102,
          58.89800262451172,
          33.71232986450195,
          101.12977600097656,
          86.78126525878906,
          429.470458984375,
          82.10804748535156,
          322.1808166503906,
          376.0798645019531,
          514.553466796875,
          324.26568603515625,
          146.79595947265625,
          78.70468139648438,
          139.67166137695312,
          56.98874282836914,
          110.44056701660156,
          108.03020477294922,
          109.54437255859375,
          122.38296508789062,
          239.05116271972656,
          106.15587615966797,
          92.02113342285156,
          235.60397338867188,
          81.88584899902344,
          77.00566101074219,
          417.5541076660156,
          209.0139923095703,
          81.96985626220703,
          257.7879943847656,
          121.62245178222656,
          349.6324157714844,
          263.8423156738281,
          87.27901458740234,
          50.812156677246094,
          156.5147247314453,
          101.669921875,
          194.86370849609375,
          142.536376953125,
          170.0946044921875,
          61.51769256591797,
          105.16956329345703,
          300.4473571777344,
          89.32505798339844,
          330.81549072265625,
          137.12164306640625,
          110.72786712646484,
          103.29768371582031,
          69.7375259399414,
          106.43063354492188,
          277.0556945800781,
          67.37899017333984,
          115.5226821899414,
          129.650390625,
          67.55183410644531,
          120.9427261352539,
          71.98785400390625,
          91.44618225097656,
          56.01779556274414,
          79.98229217529297,
          109.17593383789062,
          97.28632354736328,
          154.01107788085938,
          107.85747528076172,
          123.82097625732422,
          86.10383605957031,
          63.30984115600586,
          63.61712646484375,
          73.80315399169922,
          95.10665130615234,
          97.83023071289062,
          104.21691131591797,
          149.9947052001953,
          104.50674438476562,
          60.59218978881836,
          86.4681625366211
         ],
         "yaxis": "y"
        },
        {
         "hovertemplate": "stimtype=dots_OFF<br>ot_depth=%{x}<br>integral=%{y}<extra></extra>",
         "legendgroup": "dots_OFF",
         "marker": {
          "color": "#00cc96",
          "opacity": 0.9,
          "symbol": "circle"
         },
         "mode": "markers",
         "name": "dots_OFF",
         "orientation": "v",
         "showlegend": true,
         "type": "scatter",
         "x": [
          56,
          101,
          54,
          101,
          101,
          101,
          101
         ],
         "xaxis": "x",
         "y": [
          20.568294525146484,
          87.54695892333984,
          102.8054428100586,
          69.6205062866211,
          26.399093627929688,
          37.89981460571289,
          35.929351806640625
         ],
         "yaxis": "y"
        },
        {
         "hovertemplate": "stimtype=loom<br>ot_depth=%{x}<br>integral=%{y}<extra></extra>",
         "legendgroup": "loom",
         "marker": {
          "color": "#ab63fa",
          "opacity": 0.9,
          "symbol": "circle"
         },
         "mode": "markers",
         "name": "loom",
         "orientation": "v",
         "showlegend": true,
         "type": "scatter",
         "x": [
          56,
          101,
          32,
          4,
          101,
          60,
          101,
          101,
          101,
          101,
          101,
          40,
          101,
          101,
          43,
          78,
          101,
          101,
          54,
          101,
          71,
          101,
          101,
          101,
          101,
          101,
          101,
          101,
          81,
          78,
          101,
          30,
          101,
          101,
          101,
          101,
          101,
          5,
          101,
          101,
          101,
          101,
          101,
          101,
          101,
          101,
          101,
          101,
          101,
          101,
          101,
          101,
          101,
          101,
          101,
          101,
          101,
          101,
          101,
          101,
          101,
          101,
          101,
          67,
          101,
          92,
          101,
          101,
          101,
          101,
          101,
          101,
          101,
          101,
          101,
          101,
          101,
          101,
          101,
          101,
          101,
          101,
          101,
          101,
          94,
          101,
          101,
          101,
          101,
          101,
          101,
          101,
          101,
          101,
          60,
          101,
          15,
          101,
          101,
          101,
          101,
          101,
          101,
          101,
          101,
          101,
          101,
          101,
          101,
          101,
          101,
          101,
          101,
          101,
          74,
          101,
          101,
          101,
          101,
          101,
          60,
          30,
          101,
          101,
          101,
          101,
          101,
          101,
          58,
          101,
          101,
          101,
          101,
          101,
          101,
          101,
          101,
          101,
          -1,
          101,
          101,
          101,
          101,
          101,
          101,
          101,
          101,
          101,
          101,
          101,
          101,
          101,
          101,
          101,
          101,
          101,
          101,
          101,
          101,
          101,
          101,
          101,
          24,
          101,
          101,
          101,
          101,
          101,
          101,
          101,
          101,
          101,
          101,
          101,
          101,
          101,
          101,
          101,
          101,
          101,
          101,
          101,
          101,
          101,
          101,
          101,
          101,
          101,
          101,
          101,
          101,
          101,
          101,
          101,
          101,
          101,
          101,
          101,
          101,
          101,
          101,
          101,
          101,
          101,
          101,
          101,
          -1,
          75,
          101,
          -1,
          101,
          101,
          101,
          101,
          101,
          101,
          101,
          101,
          101,
          101,
          -1,
          101,
          101,
          101,
          101,
          101,
          101,
          101,
          101,
          101,
          101,
          101,
          101,
          101,
          101,
          -1,
          101,
          101,
          101,
          101,
          101,
          101,
          101,
          101,
          101,
          101,
          101,
          101,
          101,
          101,
          101,
          101,
          101,
          101,
          101,
          101,
          101,
          101,
          101,
          101,
          101,
          101,
          101,
          -1,
          -1,
          101,
          -1,
          101,
          -1,
          101,
          -1,
          101,
          16,
          -1,
          45,
          -1,
          101,
          15,
          -1,
          -1,
          81,
          -1,
          -1,
          101,
          39,
          -1,
          101,
          -1,
          -1,
          82,
          -1,
          101,
          -1,
          -1,
          56,
          85,
          -1,
          67,
          101,
          -1,
          -1,
          101,
          76,
          -1,
          45,
          -1,
          -1,
          -1,
          -1,
          -1,
          -1,
          84,
          37,
          -1,
          -1,
          -1,
          101,
          -1,
          68,
          101,
          -1,
          -1,
          -1,
          63,
          -1,
          -1,
          101,
          -1,
          -1,
          -1,
          -1,
          101,
          -1,
          88,
          -1,
          -1,
          -1,
          -1,
          -1,
          -1,
          -1,
          -1,
          101,
          -1,
          -1,
          -1,
          -1,
          -1,
          -1,
          -1,
          101,
          -1,
          101,
          -1,
          -1,
          -1,
          101,
          -1,
          -1,
          53,
          -1,
          -1,
          -1,
          73,
          -1,
          -1,
          101,
          -1,
          -1,
          -1,
          -1,
          -1,
          -1,
          -1,
          101,
          -1,
          -1,
          -1,
          -1,
          -1,
          -1,
          -1,
          -1,
          87,
          -1,
          -1,
          -1,
          -1,
          -1,
          -1,
          -1,
          -1,
          -1,
          48,
          -1,
          101,
          -1,
          -1,
          -1,
          -1,
          -1,
          -1,
          -1,
          -1,
          -1,
          -1,
          -1,
          -1,
          -1,
          101,
          -1,
          101,
          -1,
          -1,
          -1,
          26,
          -1,
          -1,
          -1,
          -1,
          101,
          -1,
          -1,
          -1,
          -1,
          101,
          -1
         ],
         "xaxis": "x",
         "y": [
          73.62471008300781,
          171.32740783691406,
          32.2817497253418,
          38.38703536987305,
          66.38358306884766,
          57.17898178100586,
          102.31307983398438,
          68.35266876220703,
          25.05512809753418,
          43.660335540771484,
          93.96771240234375,
          159.0182342529297,
          180.63168334960938,
          57.8151741027832,
          50.178497314453125,
          44.245750427246094,
          129.84268188476562,
          75.29634094238281,
          85.87098693847656,
          119.72219848632812,
          37.28125762939453,
          51.67500305175781,
          128.2151641845703,
          90.91656494140625,
          114.07244873046875,
          83.11109161376953,
          75.68472290039062,
          76.64128112792969,
          59.05037307739258,
          33.2289924621582,
          101.03002166748047,
          26.855390548706055,
          23.256759643554688,
          14.507505416870117,
          56.034568786621094,
          109.1944351196289,
          32.49775695800781,
          46.67757034301758,
          59.58027267456055,
          17.263866424560547,
          82.40208435058594,
          94.11202239990234,
          117.03572082519531,
          18.17601776123047,
          124.10738372802734,
          121.5093002319336,
          51.14887619018555,
          80.27725982666016,
          32.767940521240234,
          65.89351654052734,
          42.160926818847656,
          48.39427947998047,
          36.95002746582031,
          183.6483917236328,
          49.79920196533203,
          68.2509994506836,
          14.886005401611328,
          90.08538055419922,
          119.23118591308594,
          49.97505569458008,
          68.71426391601562,
          77.9122543334961,
          88.4845962524414,
          49.009178161621094,
          35.15392303466797,
          112.27973937988281,
          57.84549331665039,
          70.7881851196289,
          71.20974731445312,
          39.78428268432617,
          97.05585479736328,
          78.37126922607422,
          39.02464294433594,
          27.193096160888672,
          151.50811767578125,
          68.8041763305664,
          49.069095611572266,
          35.22397232055664,
          32.70442581176758,
          57.02717971801758,
          124.85624694824219,
          123.89332580566406,
          23.89317512512207,
          77.79451751708984,
          64.6761703491211,
          64.55792999267578,
          34.95172882080078,
          34.60449981689453,
          68.11779022216797,
          49.53885269165039,
          39.29460906982422,
          53.33151626586914,
          26.735109329223633,
          124.87950134277344,
          19.249549865722656,
          25.5074462890625,
          25.589412689208984,
          17.44021224975586,
          16.455732345581055,
          58.62662887573242,
          49.017730712890625,
          65.63082122802734,
          96.65995025634766,
          55.27400207519531,
          45.18290328979492,
          34.972412109375,
          32.68623733520508,
          21.91519546508789,
          99.40111541748047,
          33.5061149597168,
          74.60365295410156,
          21.097074508666992,
          50.87272262573242,
          156.3330078125,
          54.61500930786133,
          53.418846130371094,
          99.33549499511719,
          27.641517639160156,
          85.3019790649414,
          188.8525390625,
          30.010751724243164,
          29.435874938964844,
          98.41357421875,
          36.568138122558594,
          13.329127311706543,
          38.27626419067383,
          53.859622955322266,
          115.89464569091797,
          22.02351188659668,
          49.75386047363281,
          60.88862228393555,
          36.8728141784668,
          78.74164581298828,
          44.261474609375,
          69.70945739746094,
          28.972984313964844,
          36.23844528198242,
          69.93106842041016,
          50.904380798339844,
          36.204219818115234,
          37.22221374511719,
          24.065006256103516,
          46.37065887451172,
          54.86167907714844,
          37.0032844543457,
          67.23636627197266,
          23.443796157836914,
          140.9649658203125,
          44.695396423339844,
          47.64966583251953,
          30.644926071166992,
          60.58894348144531,
          78.13436889648438,
          15.987662315368652,
          36.919578552246094,
          45.34489440917969,
          28.456384658813477,
          82.35580444335938,
          49.76824188232422,
          49.22049331665039,
          71.7364730834961,
          59.80760192871094,
          68.63243103027344,
          66.8724136352539,
          53.780242919921875,
          66.57686614990234,
          47.079124450683594,
          17.307546615600586,
          57.55882263183594,
          48.33829879760742,
          78.63541412353516,
          20.944910049438477,
          46.699974060058594,
          22.540878295898438,
          35.69683837890625,
          38.187782287597656,
          41.201229095458984,
          68.08770751953125,
          59.27000427246094,
          34.960628509521484,
          37.316551208496094,
          44.580467224121094,
          33.084651947021484,
          25.143836975097656,
          50.610408782958984,
          85.85185241699219,
          48.263427734375,
          108.65194702148438,
          45.9979362487793,
          30.54569435119629,
          42.52397537231445,
          18.18186378479004,
          93.8515396118164,
          57.555667877197266,
          94.21546936035156,
          18.24488639831543,
          23.352476119995117,
          27.3559513092041,
          30.386791229248047,
          23.193483352661133,
          24.731290817260742,
          26.64965057373047,
          41.163238525390625,
          38.55782699584961,
          46.610660552978516,
          28.969728469848633,
          24.012704849243164,
          12.790721893310547,
          29.027179718017578,
          18.9078369140625,
          20.6330623626709,
          33.410152435302734,
          28.711017608642578,
          37.707698822021484,
          32.10854721069336,
          35.75551223754883,
          24.34673309326172,
          35.39362716674805,
          55.785343170166016,
          45.988590240478516,
          23.521862030029297,
          28.026403427124023,
          15.872756958007812,
          5.53035831451416,
          7.7558088302612305,
          12.054969787597656,
          36.88858413696289,
          19.451229095458984,
          48.033714294433594,
          19.859195709228516,
          38.10468292236328,
          20.489391326904297,
          24.167394638061523,
          33.500823974609375,
          11.738994598388672,
          50.22226333618164,
          19.41585922241211,
          32.96216583251953,
          7.065268039703369,
          17.771291732788086,
          28.436649322509766,
          20.657302856445312,
          53.77430725097656,
          58.789154052734375,
          25.024208068847656,
          12.458063125610352,
          16.025976181030273,
          14.016712188720703,
          10.282645225524902,
          35.42245864868164,
          33.0354118347168,
          32.06568908691406,
          21.021121978759766,
          11.059991836547852,
          20.087656021118164,
          19.547122955322266,
          16.829105377197266,
          25.38994598388672,
          12.538623809814453,
          10.466464042663574,
          9.72061538696289,
          8.558141708374023,
          24.612730026245117,
          104.06327819824219,
          176.19529724121094,
          53.6672477722168,
          76.83728790283203,
          64.38101959228516,
          69.17498016357422,
          50.78528594970703,
          69.13613891601562,
          66.69794464111328,
          76.52591705322266,
          67.5296630859375,
          132.6962890625,
          65.49151611328125,
          45.24332046508789,
          47.00959396362305,
          42.780208587646484,
          29.061344146728516,
          68.07384490966797,
          63.801109313964844,
          61.208072662353516,
          102.68633270263672,
          65.29141235351562,
          40.0723991394043,
          33.957244873046875,
          93.91680145263672,
          57.125370025634766,
          93.61790466308594,
          137.79617309570312,
          26.331335067749023,
          76.4229736328125,
          57.731529235839844,
          55.10563278198242,
          89.25174713134766,
          76.51980590820312,
          68.4487533569336,
          64.60005950927734,
          156.9593505859375,
          34.490238189697266,
          163.7120819091797,
          55.21463394165039,
          136.2947998046875,
          49.140953063964844,
          73.565185546875,
          96.82023620605469,
          69.13929748535156,
          73.94332122802734,
          75.4614028930664,
          76.39220428466797,
          46.40767288208008,
          23.246654510498047,
          99.20742797851562,
          53.86273956298828,
          83.31689453125,
          89.75257873535156,
          73.57564544677734,
          90.80661010742188,
          110.52300262451172,
          89.70414733886719,
          38.66999816894531,
          74.13291931152344,
          34.85585021972656,
          39.93022918701172,
          126.43809509277344,
          58.968502044677734,
          143.01220703125,
          101.48504638671875,
          70.70001220703125,
          65.58363342285156,
          42.99164962768555,
          95.57884216308594,
          17.969953536987305,
          70.82835388183594,
          50.88948059082031,
          151.0778045654297,
          59.03575897216797,
          185.66709899902344,
          52.710235595703125,
          39.956748962402344,
          68.0675048828125,
          69.56404113769531,
          71.96898651123047,
          65.71541595458984,
          72.0368881225586,
          45.41701126098633,
          70.6203384399414,
          85.17105865478516,
          24.954513549804688,
          44.40234375,
          61.04752731323242,
          58.113983154296875,
          51.273223876953125,
          82.68453216552734,
          40.38886260986328,
          75.79401397705078,
          64.24374389648438,
          73.65653991699219,
          39.8315315246582,
          55.91626739501953,
          43.626625061035156,
          104.4149169921875,
          97.88233184814453,
          28.30297088623047,
          66.49949645996094,
          101.12999725341797,
          101.70155334472656,
          37.39540100097656,
          45.38080978393555,
          21.367021560668945,
          51.58277893066406,
          50.28715133666992,
          39.58668518066406,
          56.80339050292969,
          30.7293643951416,
          19.954086303710938,
          -14.553107261657715,
          87.0300521850586,
          23.44903564453125,
          -1.0424604415893555,
          30.94501304626465,
          47.954532623291016,
          28.940502166748047,
          37.62308883666992,
          48.86888122558594,
          27.426925659179688,
          29.856449127197266,
          22.415922164916992,
          126.51719665527344,
          96.0860595703125,
          147.15750122070312,
          109.55892181396484,
          51.687034606933594,
          61.487308502197266,
          72.70980834960938,
          38.479530334472656,
          51.44338607788086,
          32.771663665771484,
          96.37358093261719,
          34.08572006225586,
          66.21920013427734,
          58.531982421875,
          63.51158905029297,
          58.45863342285156,
          40.390995025634766,
          39.3834228515625,
          4.500670433044434,
          44.0177116394043,
          64.67904663085938,
          38.07905578613281,
          21.07538414001465,
          49.2503547668457,
          49.822418212890625,
          62.200401306152344,
          2.1618731021881104,
          27.19788360595703,
          59.76972961425781,
          55.35808563232422,
          38.21717834472656,
          50.8881950378418,
          59.89041519165039,
          26.815757751464844,
          15.724379539489746,
          80.9121322631836,
          42.175743103027344,
          6.312017440795898
         ],
         "yaxis": "y"
        }
       ],
       "layout": {
        "legend": {
         "title": {
          "text": "stimtype"
         },
         "tracegroupgap": 0
        },
        "margin": {
         "t": 60
        },
        "template": {
         "data": {
          "bar": [
           {
            "error_x": {
             "color": "#2a3f5f"
            },
            "error_y": {
             "color": "#2a3f5f"
            },
            "marker": {
             "line": {
              "color": "#E5ECF6",
              "width": 0.5
             },
             "pattern": {
              "fillmode": "overlay",
              "size": 10,
              "solidity": 0.2
             }
            },
            "type": "bar"
           }
          ],
          "barpolar": [
           {
            "marker": {
             "line": {
              "color": "#E5ECF6",
              "width": 0.5
             },
             "pattern": {
              "fillmode": "overlay",
              "size": 10,
              "solidity": 0.2
             }
            },
            "type": "barpolar"
           }
          ],
          "carpet": [
           {
            "aaxis": {
             "endlinecolor": "#2a3f5f",
             "gridcolor": "white",
             "linecolor": "white",
             "minorgridcolor": "white",
             "startlinecolor": "#2a3f5f"
            },
            "baxis": {
             "endlinecolor": "#2a3f5f",
             "gridcolor": "white",
             "linecolor": "white",
             "minorgridcolor": "white",
             "startlinecolor": "#2a3f5f"
            },
            "type": "carpet"
           }
          ],
          "choropleth": [
           {
            "colorbar": {
             "outlinewidth": 0,
             "ticks": ""
            },
            "type": "choropleth"
           }
          ],
          "contour": [
           {
            "colorbar": {
             "outlinewidth": 0,
             "ticks": ""
            },
            "colorscale": [
             [
              0,
              "#0d0887"
             ],
             [
              0.1111111111111111,
              "#46039f"
             ],
             [
              0.2222222222222222,
              "#7201a8"
             ],
             [
              0.3333333333333333,
              "#9c179e"
             ],
             [
              0.4444444444444444,
              "#bd3786"
             ],
             [
              0.5555555555555556,
              "#d8576b"
             ],
             [
              0.6666666666666666,
              "#ed7953"
             ],
             [
              0.7777777777777778,
              "#fb9f3a"
             ],
             [
              0.8888888888888888,
              "#fdca26"
             ],
             [
              1,
              "#f0f921"
             ]
            ],
            "type": "contour"
           }
          ],
          "contourcarpet": [
           {
            "colorbar": {
             "outlinewidth": 0,
             "ticks": ""
            },
            "type": "contourcarpet"
           }
          ],
          "heatmap": [
           {
            "colorbar": {
             "outlinewidth": 0,
             "ticks": ""
            },
            "colorscale": [
             [
              0,
              "#0d0887"
             ],
             [
              0.1111111111111111,
              "#46039f"
             ],
             [
              0.2222222222222222,
              "#7201a8"
             ],
             [
              0.3333333333333333,
              "#9c179e"
             ],
             [
              0.4444444444444444,
              "#bd3786"
             ],
             [
              0.5555555555555556,
              "#d8576b"
             ],
             [
              0.6666666666666666,
              "#ed7953"
             ],
             [
              0.7777777777777778,
              "#fb9f3a"
             ],
             [
              0.8888888888888888,
              "#fdca26"
             ],
             [
              1,
              "#f0f921"
             ]
            ],
            "type": "heatmap"
           }
          ],
          "heatmapgl": [
           {
            "colorbar": {
             "outlinewidth": 0,
             "ticks": ""
            },
            "colorscale": [
             [
              0,
              "#0d0887"
             ],
             [
              0.1111111111111111,
              "#46039f"
             ],
             [
              0.2222222222222222,
              "#7201a8"
             ],
             [
              0.3333333333333333,
              "#9c179e"
             ],
             [
              0.4444444444444444,
              "#bd3786"
             ],
             [
              0.5555555555555556,
              "#d8576b"
             ],
             [
              0.6666666666666666,
              "#ed7953"
             ],
             [
              0.7777777777777778,
              "#fb9f3a"
             ],
             [
              0.8888888888888888,
              "#fdca26"
             ],
             [
              1,
              "#f0f921"
             ]
            ],
            "type": "heatmapgl"
           }
          ],
          "histogram": [
           {
            "marker": {
             "pattern": {
              "fillmode": "overlay",
              "size": 10,
              "solidity": 0.2
             }
            },
            "type": "histogram"
           }
          ],
          "histogram2d": [
           {
            "colorbar": {
             "outlinewidth": 0,
             "ticks": ""
            },
            "colorscale": [
             [
              0,
              "#0d0887"
             ],
             [
              0.1111111111111111,
              "#46039f"
             ],
             [
              0.2222222222222222,
              "#7201a8"
             ],
             [
              0.3333333333333333,
              "#9c179e"
             ],
             [
              0.4444444444444444,
              "#bd3786"
             ],
             [
              0.5555555555555556,
              "#d8576b"
             ],
             [
              0.6666666666666666,
              "#ed7953"
             ],
             [
              0.7777777777777778,
              "#fb9f3a"
             ],
             [
              0.8888888888888888,
              "#fdca26"
             ],
             [
              1,
              "#f0f921"
             ]
            ],
            "type": "histogram2d"
           }
          ],
          "histogram2dcontour": [
           {
            "colorbar": {
             "outlinewidth": 0,
             "ticks": ""
            },
            "colorscale": [
             [
              0,
              "#0d0887"
             ],
             [
              0.1111111111111111,
              "#46039f"
             ],
             [
              0.2222222222222222,
              "#7201a8"
             ],
             [
              0.3333333333333333,
              "#9c179e"
             ],
             [
              0.4444444444444444,
              "#bd3786"
             ],
             [
              0.5555555555555556,
              "#d8576b"
             ],
             [
              0.6666666666666666,
              "#ed7953"
             ],
             [
              0.7777777777777778,
              "#fb9f3a"
             ],
             [
              0.8888888888888888,
              "#fdca26"
             ],
             [
              1,
              "#f0f921"
             ]
            ],
            "type": "histogram2dcontour"
           }
          ],
          "mesh3d": [
           {
            "colorbar": {
             "outlinewidth": 0,
             "ticks": ""
            },
            "type": "mesh3d"
           }
          ],
          "parcoords": [
           {
            "line": {
             "colorbar": {
              "outlinewidth": 0,
              "ticks": ""
             }
            },
            "type": "parcoords"
           }
          ],
          "pie": [
           {
            "automargin": true,
            "type": "pie"
           }
          ],
          "scatter": [
           {
            "fillpattern": {
             "fillmode": "overlay",
             "size": 10,
             "solidity": 0.2
            },
            "type": "scatter"
           }
          ],
          "scatter3d": [
           {
            "line": {
             "colorbar": {
              "outlinewidth": 0,
              "ticks": ""
             }
            },
            "marker": {
             "colorbar": {
              "outlinewidth": 0,
              "ticks": ""
             }
            },
            "type": "scatter3d"
           }
          ],
          "scattercarpet": [
           {
            "marker": {
             "colorbar": {
              "outlinewidth": 0,
              "ticks": ""
             }
            },
            "type": "scattercarpet"
           }
          ],
          "scattergeo": [
           {
            "marker": {
             "colorbar": {
              "outlinewidth": 0,
              "ticks": ""
             }
            },
            "type": "scattergeo"
           }
          ],
          "scattergl": [
           {
            "marker": {
             "colorbar": {
              "outlinewidth": 0,
              "ticks": ""
             }
            },
            "type": "scattergl"
           }
          ],
          "scattermapbox": [
           {
            "marker": {
             "colorbar": {
              "outlinewidth": 0,
              "ticks": ""
             }
            },
            "type": "scattermapbox"
           }
          ],
          "scatterpolar": [
           {
            "marker": {
             "colorbar": {
              "outlinewidth": 0,
              "ticks": ""
             }
            },
            "type": "scatterpolar"
           }
          ],
          "scatterpolargl": [
           {
            "marker": {
             "colorbar": {
              "outlinewidth": 0,
              "ticks": ""
             }
            },
            "type": "scatterpolargl"
           }
          ],
          "scatterternary": [
           {
            "marker": {
             "colorbar": {
              "outlinewidth": 0,
              "ticks": ""
             }
            },
            "type": "scatterternary"
           }
          ],
          "surface": [
           {
            "colorbar": {
             "outlinewidth": 0,
             "ticks": ""
            },
            "colorscale": [
             [
              0,
              "#0d0887"
             ],
             [
              0.1111111111111111,
              "#46039f"
             ],
             [
              0.2222222222222222,
              "#7201a8"
             ],
             [
              0.3333333333333333,
              "#9c179e"
             ],
             [
              0.4444444444444444,
              "#bd3786"
             ],
             [
              0.5555555555555556,
              "#d8576b"
             ],
             [
              0.6666666666666666,
              "#ed7953"
             ],
             [
              0.7777777777777778,
              "#fb9f3a"
             ],
             [
              0.8888888888888888,
              "#fdca26"
             ],
             [
              1,
              "#f0f921"
             ]
            ],
            "type": "surface"
           }
          ],
          "table": [
           {
            "cells": {
             "fill": {
              "color": "#EBF0F8"
             },
             "line": {
              "color": "white"
             }
            },
            "header": {
             "fill": {
              "color": "#C8D4E3"
             },
             "line": {
              "color": "white"
             }
            },
            "type": "table"
           }
          ]
         },
         "layout": {
          "annotationdefaults": {
           "arrowcolor": "#2a3f5f",
           "arrowhead": 0,
           "arrowwidth": 1
          },
          "autotypenumbers": "strict",
          "coloraxis": {
           "colorbar": {
            "outlinewidth": 0,
            "ticks": ""
           }
          },
          "colorscale": {
           "diverging": [
            [
             0,
             "#8e0152"
            ],
            [
             0.1,
             "#c51b7d"
            ],
            [
             0.2,
             "#de77ae"
            ],
            [
             0.3,
             "#f1b6da"
            ],
            [
             0.4,
             "#fde0ef"
            ],
            [
             0.5,
             "#f7f7f7"
            ],
            [
             0.6,
             "#e6f5d0"
            ],
            [
             0.7,
             "#b8e186"
            ],
            [
             0.8,
             "#7fbc41"
            ],
            [
             0.9,
             "#4d9221"
            ],
            [
             1,
             "#276419"
            ]
           ],
           "sequential": [
            [
             0,
             "#0d0887"
            ],
            [
             0.1111111111111111,
             "#46039f"
            ],
            [
             0.2222222222222222,
             "#7201a8"
            ],
            [
             0.3333333333333333,
             "#9c179e"
            ],
            [
             0.4444444444444444,
             "#bd3786"
            ],
            [
             0.5555555555555556,
             "#d8576b"
            ],
            [
             0.6666666666666666,
             "#ed7953"
            ],
            [
             0.7777777777777778,
             "#fb9f3a"
            ],
            [
             0.8888888888888888,
             "#fdca26"
            ],
            [
             1,
             "#f0f921"
            ]
           ],
           "sequentialminus": [
            [
             0,
             "#0d0887"
            ],
            [
             0.1111111111111111,
             "#46039f"
            ],
            [
             0.2222222222222222,
             "#7201a8"
            ],
            [
             0.3333333333333333,
             "#9c179e"
            ],
            [
             0.4444444444444444,
             "#bd3786"
            ],
            [
             0.5555555555555556,
             "#d8576b"
            ],
            [
             0.6666666666666666,
             "#ed7953"
            ],
            [
             0.7777777777777778,
             "#fb9f3a"
            ],
            [
             0.8888888888888888,
             "#fdca26"
            ],
            [
             1,
             "#f0f921"
            ]
           ]
          },
          "colorway": [
           "#636efa",
           "#EF553B",
           "#00cc96",
           "#ab63fa",
           "#FFA15A",
           "#19d3f3",
           "#FF6692",
           "#B6E880",
           "#FF97FF",
           "#FECB52"
          ],
          "font": {
           "color": "#2a3f5f"
          },
          "geo": {
           "bgcolor": "white",
           "lakecolor": "white",
           "landcolor": "#E5ECF6",
           "showlakes": true,
           "showland": true,
           "subunitcolor": "white"
          },
          "hoverlabel": {
           "align": "left"
          },
          "hovermode": "closest",
          "mapbox": {
           "style": "light"
          },
          "paper_bgcolor": "white",
          "plot_bgcolor": "#E5ECF6",
          "polar": {
           "angularaxis": {
            "gridcolor": "white",
            "linecolor": "white",
            "ticks": ""
           },
           "bgcolor": "#E5ECF6",
           "radialaxis": {
            "gridcolor": "white",
            "linecolor": "white",
            "ticks": ""
           }
          },
          "scene": {
           "xaxis": {
            "backgroundcolor": "#E5ECF6",
            "gridcolor": "white",
            "gridwidth": 2,
            "linecolor": "white",
            "showbackground": true,
            "ticks": "",
            "zerolinecolor": "white"
           },
           "yaxis": {
            "backgroundcolor": "#E5ECF6",
            "gridcolor": "white",
            "gridwidth": 2,
            "linecolor": "white",
            "showbackground": true,
            "ticks": "",
            "zerolinecolor": "white"
           },
           "zaxis": {
            "backgroundcolor": "#E5ECF6",
            "gridcolor": "white",
            "gridwidth": 2,
            "linecolor": "white",
            "showbackground": true,
            "ticks": "",
            "zerolinecolor": "white"
           }
          },
          "shapedefaults": {
           "line": {
            "color": "#2a3f5f"
           }
          },
          "ternary": {
           "aaxis": {
            "gridcolor": "white",
            "linecolor": "white",
            "ticks": ""
           },
           "baxis": {
            "gridcolor": "white",
            "linecolor": "white",
            "ticks": ""
           },
           "bgcolor": "#E5ECF6",
           "caxis": {
            "gridcolor": "white",
            "linecolor": "white",
            "ticks": ""
           }
          },
          "title": {
           "x": 0.05
          },
          "xaxis": {
           "automargin": true,
           "gridcolor": "white",
           "linecolor": "white",
           "ticks": "",
           "title": {
            "standoff": 15
           },
           "zerolinecolor": "white",
           "zerolinewidth": 2
          },
          "yaxis": {
           "automargin": true,
           "gridcolor": "white",
           "linecolor": "white",
           "ticks": "",
           "title": {
            "standoff": 15
           },
           "zerolinecolor": "white",
           "zerolinewidth": 2
          }
         }
        },
        "xaxis": {
         "anchor": "y",
         "domain": [
          0,
          1
         ],
         "title": {
          "text": "ot_depth"
         }
        },
        "yaxis": {
         "anchor": "x",
         "domain": [
          0,
          1
         ],
         "title": {
          "text": "integral"
         }
        }
       }
      }
     },
     "metadata": {},
     "output_type": "display_data"
    }
   ],
   "source": [
    "px.scatter(pooled_data, x='ot_depth', y='integral', color=pooled_data['stimtype'], opacity=0.9)"
   ]
  },
  {
   "cell_type": "code",
   "execution_count": 42,
   "metadata": {},
   "outputs": [
    {
     "data": {
      "application/vnd.plotly.v1+json": {
       "config": {
        "plotlyServerURL": "https://plot.ly"
       },
       "data": [
        {
         "alignmentgroup": "True",
         "bingroup": "x",
         "hovertemplate": "stimtype=moving stripes<br>latency=%{x}<br>count=%{y}<extra></extra>",
         "legendgroup": "moving stripes",
         "marker": {
          "color": "#636efa",
          "opacity": 0.7,
          "pattern": {
           "shape": ""
          }
         },
         "name": "moving stripes",
         "nbinsx": 40,
         "offsetgroup": "moving stripes",
         "orientation": "v",
         "showlegend": true,
         "type": "histogram",
         "x": [
          23,
          21,
          17,
          22,
          19,
          17,
          20,
          18,
          24,
          19,
          22,
          20,
          46,
          21,
          16,
          20,
          18,
          34,
          24,
          19,
          26,
          13,
          31,
          30,
          29,
          30,
          26,
          24,
          22,
          23,
          39,
          37,
          20,
          27,
          29,
          29,
          35,
          25,
          27,
          20,
          20,
          40,
          27,
          38,
          23,
          33,
          38,
          19,
          34,
          36,
          39,
          28,
          45,
          25,
          37,
          38,
          38,
          29,
          16,
          30
         ],
         "xaxis": "x",
         "yaxis": "y"
        },
        {
         "alignmentgroup": "True",
         "bingroup": "x",
         "hovertemplate": "stimtype=dots_ON<br>latency=%{x}<br>count=%{y}<extra></extra>",
         "legendgroup": "dots_ON",
         "marker": {
          "color": "#EF553B",
          "opacity": 0.7,
          "pattern": {
           "shape": ""
          }
         },
         "name": "dots_ON",
         "nbinsx": 40,
         "offsetgroup": "dots_ON",
         "orientation": "v",
         "showlegend": true,
         "type": "histogram",
         "x": [
          46,
          25,
          27,
          28,
          35,
          28,
          46,
          46,
          36,
          28,
          27,
          19,
          22,
          22,
          46,
          28,
          46,
          46,
          25,
          38,
          37,
          35,
          38,
          37,
          36,
          36,
          36,
          39,
          37,
          36,
          26,
          40,
          35,
          39,
          37,
          29,
          34,
          36,
          38,
          37,
          23,
          38,
          39,
          28,
          36,
          39,
          37,
          41,
          35,
          35,
          28,
          32,
          37,
          36,
          31,
          35,
          28,
          34,
          25,
          36,
          32,
          42,
          32,
          44,
          36,
          34,
          30,
          38,
          25,
          31,
          70,
          67,
          64,
          53,
          71,
          67,
          68,
          62,
          64,
          71,
          69,
          37,
          33,
          45,
          67,
          68,
          40,
          66,
          58,
          50,
          71,
          39,
          69,
          64,
          71,
          67,
          71,
          71,
          71,
          68,
          70,
          46,
          71,
          70,
          56,
          43,
          67,
          60,
          68,
          71,
          71,
          62,
          71,
          54,
          70,
          71,
          70,
          48,
          64,
          71,
          44,
          50,
          69,
          68,
          39,
          64,
          68,
          69,
          61,
          69,
          61,
          57,
          50,
          60,
          66,
          66,
          70,
          70,
          66,
          69,
          68,
          66,
          70,
          56,
          69,
          61,
          71,
          47,
          67,
          48,
          60,
          66,
          46,
          63,
          68,
          66,
          71,
          60,
          63,
          67,
          64,
          71,
          71,
          70,
          43,
          71,
          68,
          64,
          65,
          68,
          70,
          71,
          70,
          71,
          70,
          67,
          67,
          68,
          67,
          66,
          71,
          55,
          52,
          70,
          66,
          69,
          40,
          63,
          67,
          70,
          54,
          69,
          65,
          62,
          42,
          70,
          56,
          69
         ],
         "xaxis": "x",
         "yaxis": "y"
        },
        {
         "alignmentgroup": "True",
         "bingroup": "x",
         "hovertemplate": "stimtype=dots_OFF<br>latency=%{x}<br>count=%{y}<extra></extra>",
         "legendgroup": "dots_OFF",
         "marker": {
          "color": "#00cc96",
          "opacity": 0.7,
          "pattern": {
           "shape": ""
          }
         },
         "name": "dots_OFF",
         "nbinsx": 40,
         "offsetgroup": "dots_OFF",
         "orientation": "v",
         "showlegend": true,
         "type": "histogram",
         "x": [
          39,
          31,
          31,
          35,
          30,
          34,
          31
         ],
         "xaxis": "x",
         "yaxis": "y"
        },
        {
         "alignmentgroup": "True",
         "bingroup": "x",
         "hovertemplate": "stimtype=loom<br>latency=%{x}<br>count=%{y}<extra></extra>",
         "legendgroup": "loom",
         "marker": {
          "color": "#ab63fa",
          "opacity": 0.7,
          "pattern": {
           "shape": ""
          }
         },
         "name": "loom",
         "nbinsx": 40,
         "offsetgroup": "loom",
         "orientation": "v",
         "showlegend": true,
         "type": "histogram",
         "x": [
          29,
          30,
          31,
          33,
          30,
          36,
          28,
          34,
          30,
          30,
          33,
          32,
          29,
          31,
          32,
          30,
          29,
          28,
          29,
          30,
          30,
          40,
          33,
          29,
          31,
          30,
          30,
          30,
          29,
          31,
          29,
          29,
          40,
          40,
          30,
          29,
          40,
          33,
          30,
          31,
          28,
          31,
          29,
          30,
          30,
          32,
          34,
          30,
          29,
          32,
          28,
          30,
          30,
          31,
          30,
          34,
          36,
          31,
          31,
          32,
          30,
          39,
          29,
          30,
          36,
          28,
          29,
          28,
          29,
          30,
          31,
          32,
          31,
          40,
          29,
          30,
          40,
          32,
          28,
          31,
          30,
          31,
          32,
          28,
          30,
          32,
          28,
          30,
          31,
          35,
          29,
          31,
          35,
          29,
          30,
          35,
          40,
          29,
          31,
          37,
          30,
          35,
          32,
          35,
          31,
          28,
          30,
          31,
          33,
          28,
          34,
          35,
          29,
          31,
          37,
          36,
          33,
          28,
          29,
          29,
          27,
          40,
          40,
          31,
          38,
          29,
          31,
          29,
          35,
          32,
          28,
          34,
          31,
          31,
          29,
          29,
          37,
          29,
          31,
          36,
          30,
          35,
          34,
          31,
          36,
          32,
          35,
          29,
          32,
          29,
          35,
          34,
          29,
          32,
          30,
          30,
          31,
          29,
          38,
          31,
          32,
          30,
          31,
          29,
          30,
          35,
          29,
          33,
          35,
          29,
          30,
          31,
          31,
          28,
          39,
          32,
          31,
          29,
          40,
          32,
          39,
          33,
          33,
          33,
          31,
          29,
          30,
          35,
          28,
          35,
          29,
          32,
          30,
          28,
          39,
          29,
          33,
          29,
          30,
          27,
          31,
          35,
          30,
          40,
          30,
          40,
          32,
          29,
          31,
          33,
          33,
          34,
          33,
          30,
          28,
          36,
          28,
          37,
          32,
          29,
          32,
          30,
          33,
          35,
          33,
          33,
          31,
          28,
          27,
          29,
          36,
          39,
          29,
          30,
          35,
          32,
          39,
          40,
          32,
          28,
          28,
          29,
          40,
          32,
          33,
          34,
          37,
          37,
          39,
          35,
          40,
          36,
          30,
          31,
          33,
          35,
          38,
          38,
          30,
          31,
          31,
          34,
          32,
          55,
          58,
          48,
          57,
          45,
          54,
          46,
          51,
          51,
          49,
          45,
          45,
          54,
          44,
          45,
          54,
          45,
          53,
          48,
          65,
          47,
          45,
          44,
          50,
          46,
          46,
          49,
          46,
          44,
          52,
          55,
          50,
          45,
          52,
          45,
          50,
          57,
          46,
          44,
          49,
          44,
          45,
          51,
          50,
          55,
          50,
          45,
          44,
          46,
          56,
          50,
          50,
          49,
          46,
          47,
          49,
          45,
          59,
          44,
          50,
          45,
          49,
          59,
          46,
          54,
          48,
          49,
          54,
          49,
          61,
          48,
          49,
          44,
          53,
          48,
          46,
          58,
          46,
          60,
          46,
          46,
          45,
          51,
          51,
          46,
          50,
          51,
          45,
          50,
          49,
          49,
          47,
          50,
          62,
          52,
          46,
          47,
          44,
          46,
          45,
          50,
          45,
          49,
          63,
          59,
          44,
          50,
          55,
          46,
          44,
          43,
          53,
          66,
          69,
          28,
          54,
          58,
          55,
          46,
          53,
          47,
          49,
          57,
          45,
          54,
          43,
          51,
          44,
          43,
          55,
          59,
          54,
          51,
          69,
          46,
          48,
          45,
          46,
          55,
          48,
          42,
          51,
          57,
          54,
          47,
          61,
          65,
          49,
          65,
          68,
          53,
          62,
          56,
          46,
          54,
          55,
          50,
          43,
          46,
          43,
          54,
          48,
          42,
          43
         ],
         "xaxis": "x",
         "yaxis": "y"
        }
       ],
       "layout": {
        "barmode": "relative",
        "legend": {
         "title": {
          "text": "stimtype"
         },
         "tracegroupgap": 0
        },
        "margin": {
         "t": 60
        },
        "template": {
         "data": {
          "bar": [
           {
            "error_x": {
             "color": "#2a3f5f"
            },
            "error_y": {
             "color": "#2a3f5f"
            },
            "marker": {
             "line": {
              "color": "#E5ECF6",
              "width": 0.5
             },
             "pattern": {
              "fillmode": "overlay",
              "size": 10,
              "solidity": 0.2
             }
            },
            "type": "bar"
           }
          ],
          "barpolar": [
           {
            "marker": {
             "line": {
              "color": "#E5ECF6",
              "width": 0.5
             },
             "pattern": {
              "fillmode": "overlay",
              "size": 10,
              "solidity": 0.2
             }
            },
            "type": "barpolar"
           }
          ],
          "carpet": [
           {
            "aaxis": {
             "endlinecolor": "#2a3f5f",
             "gridcolor": "white",
             "linecolor": "white",
             "minorgridcolor": "white",
             "startlinecolor": "#2a3f5f"
            },
            "baxis": {
             "endlinecolor": "#2a3f5f",
             "gridcolor": "white",
             "linecolor": "white",
             "minorgridcolor": "white",
             "startlinecolor": "#2a3f5f"
            },
            "type": "carpet"
           }
          ],
          "choropleth": [
           {
            "colorbar": {
             "outlinewidth": 0,
             "ticks": ""
            },
            "type": "choropleth"
           }
          ],
          "contour": [
           {
            "colorbar": {
             "outlinewidth": 0,
             "ticks": ""
            },
            "colorscale": [
             [
              0,
              "#0d0887"
             ],
             [
              0.1111111111111111,
              "#46039f"
             ],
             [
              0.2222222222222222,
              "#7201a8"
             ],
             [
              0.3333333333333333,
              "#9c179e"
             ],
             [
              0.4444444444444444,
              "#bd3786"
             ],
             [
              0.5555555555555556,
              "#d8576b"
             ],
             [
              0.6666666666666666,
              "#ed7953"
             ],
             [
              0.7777777777777778,
              "#fb9f3a"
             ],
             [
              0.8888888888888888,
              "#fdca26"
             ],
             [
              1,
              "#f0f921"
             ]
            ],
            "type": "contour"
           }
          ],
          "contourcarpet": [
           {
            "colorbar": {
             "outlinewidth": 0,
             "ticks": ""
            },
            "type": "contourcarpet"
           }
          ],
          "heatmap": [
           {
            "colorbar": {
             "outlinewidth": 0,
             "ticks": ""
            },
            "colorscale": [
             [
              0,
              "#0d0887"
             ],
             [
              0.1111111111111111,
              "#46039f"
             ],
             [
              0.2222222222222222,
              "#7201a8"
             ],
             [
              0.3333333333333333,
              "#9c179e"
             ],
             [
              0.4444444444444444,
              "#bd3786"
             ],
             [
              0.5555555555555556,
              "#d8576b"
             ],
             [
              0.6666666666666666,
              "#ed7953"
             ],
             [
              0.7777777777777778,
              "#fb9f3a"
             ],
             [
              0.8888888888888888,
              "#fdca26"
             ],
             [
              1,
              "#f0f921"
             ]
            ],
            "type": "heatmap"
           }
          ],
          "heatmapgl": [
           {
            "colorbar": {
             "outlinewidth": 0,
             "ticks": ""
            },
            "colorscale": [
             [
              0,
              "#0d0887"
             ],
             [
              0.1111111111111111,
              "#46039f"
             ],
             [
              0.2222222222222222,
              "#7201a8"
             ],
             [
              0.3333333333333333,
              "#9c179e"
             ],
             [
              0.4444444444444444,
              "#bd3786"
             ],
             [
              0.5555555555555556,
              "#d8576b"
             ],
             [
              0.6666666666666666,
              "#ed7953"
             ],
             [
              0.7777777777777778,
              "#fb9f3a"
             ],
             [
              0.8888888888888888,
              "#fdca26"
             ],
             [
              1,
              "#f0f921"
             ]
            ],
            "type": "heatmapgl"
           }
          ],
          "histogram": [
           {
            "marker": {
             "pattern": {
              "fillmode": "overlay",
              "size": 10,
              "solidity": 0.2
             }
            },
            "type": "histogram"
           }
          ],
          "histogram2d": [
           {
            "colorbar": {
             "outlinewidth": 0,
             "ticks": ""
            },
            "colorscale": [
             [
              0,
              "#0d0887"
             ],
             [
              0.1111111111111111,
              "#46039f"
             ],
             [
              0.2222222222222222,
              "#7201a8"
             ],
             [
              0.3333333333333333,
              "#9c179e"
             ],
             [
              0.4444444444444444,
              "#bd3786"
             ],
             [
              0.5555555555555556,
              "#d8576b"
             ],
             [
              0.6666666666666666,
              "#ed7953"
             ],
             [
              0.7777777777777778,
              "#fb9f3a"
             ],
             [
              0.8888888888888888,
              "#fdca26"
             ],
             [
              1,
              "#f0f921"
             ]
            ],
            "type": "histogram2d"
           }
          ],
          "histogram2dcontour": [
           {
            "colorbar": {
             "outlinewidth": 0,
             "ticks": ""
            },
            "colorscale": [
             [
              0,
              "#0d0887"
             ],
             [
              0.1111111111111111,
              "#46039f"
             ],
             [
              0.2222222222222222,
              "#7201a8"
             ],
             [
              0.3333333333333333,
              "#9c179e"
             ],
             [
              0.4444444444444444,
              "#bd3786"
             ],
             [
              0.5555555555555556,
              "#d8576b"
             ],
             [
              0.6666666666666666,
              "#ed7953"
             ],
             [
              0.7777777777777778,
              "#fb9f3a"
             ],
             [
              0.8888888888888888,
              "#fdca26"
             ],
             [
              1,
              "#f0f921"
             ]
            ],
            "type": "histogram2dcontour"
           }
          ],
          "mesh3d": [
           {
            "colorbar": {
             "outlinewidth": 0,
             "ticks": ""
            },
            "type": "mesh3d"
           }
          ],
          "parcoords": [
           {
            "line": {
             "colorbar": {
              "outlinewidth": 0,
              "ticks": ""
             }
            },
            "type": "parcoords"
           }
          ],
          "pie": [
           {
            "automargin": true,
            "type": "pie"
           }
          ],
          "scatter": [
           {
            "fillpattern": {
             "fillmode": "overlay",
             "size": 10,
             "solidity": 0.2
            },
            "type": "scatter"
           }
          ],
          "scatter3d": [
           {
            "line": {
             "colorbar": {
              "outlinewidth": 0,
              "ticks": ""
             }
            },
            "marker": {
             "colorbar": {
              "outlinewidth": 0,
              "ticks": ""
             }
            },
            "type": "scatter3d"
           }
          ],
          "scattercarpet": [
           {
            "marker": {
             "colorbar": {
              "outlinewidth": 0,
              "ticks": ""
             }
            },
            "type": "scattercarpet"
           }
          ],
          "scattergeo": [
           {
            "marker": {
             "colorbar": {
              "outlinewidth": 0,
              "ticks": ""
             }
            },
            "type": "scattergeo"
           }
          ],
          "scattergl": [
           {
            "marker": {
             "colorbar": {
              "outlinewidth": 0,
              "ticks": ""
             }
            },
            "type": "scattergl"
           }
          ],
          "scattermapbox": [
           {
            "marker": {
             "colorbar": {
              "outlinewidth": 0,
              "ticks": ""
             }
            },
            "type": "scattermapbox"
           }
          ],
          "scatterpolar": [
           {
            "marker": {
             "colorbar": {
              "outlinewidth": 0,
              "ticks": ""
             }
            },
            "type": "scatterpolar"
           }
          ],
          "scatterpolargl": [
           {
            "marker": {
             "colorbar": {
              "outlinewidth": 0,
              "ticks": ""
             }
            },
            "type": "scatterpolargl"
           }
          ],
          "scatterternary": [
           {
            "marker": {
             "colorbar": {
              "outlinewidth": 0,
              "ticks": ""
             }
            },
            "type": "scatterternary"
           }
          ],
          "surface": [
           {
            "colorbar": {
             "outlinewidth": 0,
             "ticks": ""
            },
            "colorscale": [
             [
              0,
              "#0d0887"
             ],
             [
              0.1111111111111111,
              "#46039f"
             ],
             [
              0.2222222222222222,
              "#7201a8"
             ],
             [
              0.3333333333333333,
              "#9c179e"
             ],
             [
              0.4444444444444444,
              "#bd3786"
             ],
             [
              0.5555555555555556,
              "#d8576b"
             ],
             [
              0.6666666666666666,
              "#ed7953"
             ],
             [
              0.7777777777777778,
              "#fb9f3a"
             ],
             [
              0.8888888888888888,
              "#fdca26"
             ],
             [
              1,
              "#f0f921"
             ]
            ],
            "type": "surface"
           }
          ],
          "table": [
           {
            "cells": {
             "fill": {
              "color": "#EBF0F8"
             },
             "line": {
              "color": "white"
             }
            },
            "header": {
             "fill": {
              "color": "#C8D4E3"
             },
             "line": {
              "color": "white"
             }
            },
            "type": "table"
           }
          ]
         },
         "layout": {
          "annotationdefaults": {
           "arrowcolor": "#2a3f5f",
           "arrowhead": 0,
           "arrowwidth": 1
          },
          "autotypenumbers": "strict",
          "coloraxis": {
           "colorbar": {
            "outlinewidth": 0,
            "ticks": ""
           }
          },
          "colorscale": {
           "diverging": [
            [
             0,
             "#8e0152"
            ],
            [
             0.1,
             "#c51b7d"
            ],
            [
             0.2,
             "#de77ae"
            ],
            [
             0.3,
             "#f1b6da"
            ],
            [
             0.4,
             "#fde0ef"
            ],
            [
             0.5,
             "#f7f7f7"
            ],
            [
             0.6,
             "#e6f5d0"
            ],
            [
             0.7,
             "#b8e186"
            ],
            [
             0.8,
             "#7fbc41"
            ],
            [
             0.9,
             "#4d9221"
            ],
            [
             1,
             "#276419"
            ]
           ],
           "sequential": [
            [
             0,
             "#0d0887"
            ],
            [
             0.1111111111111111,
             "#46039f"
            ],
            [
             0.2222222222222222,
             "#7201a8"
            ],
            [
             0.3333333333333333,
             "#9c179e"
            ],
            [
             0.4444444444444444,
             "#bd3786"
            ],
            [
             0.5555555555555556,
             "#d8576b"
            ],
            [
             0.6666666666666666,
             "#ed7953"
            ],
            [
             0.7777777777777778,
             "#fb9f3a"
            ],
            [
             0.8888888888888888,
             "#fdca26"
            ],
            [
             1,
             "#f0f921"
            ]
           ],
           "sequentialminus": [
            [
             0,
             "#0d0887"
            ],
            [
             0.1111111111111111,
             "#46039f"
            ],
            [
             0.2222222222222222,
             "#7201a8"
            ],
            [
             0.3333333333333333,
             "#9c179e"
            ],
            [
             0.4444444444444444,
             "#bd3786"
            ],
            [
             0.5555555555555556,
             "#d8576b"
            ],
            [
             0.6666666666666666,
             "#ed7953"
            ],
            [
             0.7777777777777778,
             "#fb9f3a"
            ],
            [
             0.8888888888888888,
             "#fdca26"
            ],
            [
             1,
             "#f0f921"
            ]
           ]
          },
          "colorway": [
           "#636efa",
           "#EF553B",
           "#00cc96",
           "#ab63fa",
           "#FFA15A",
           "#19d3f3",
           "#FF6692",
           "#B6E880",
           "#FF97FF",
           "#FECB52"
          ],
          "font": {
           "color": "#2a3f5f"
          },
          "geo": {
           "bgcolor": "white",
           "lakecolor": "white",
           "landcolor": "#E5ECF6",
           "showlakes": true,
           "showland": true,
           "subunitcolor": "white"
          },
          "hoverlabel": {
           "align": "left"
          },
          "hovermode": "closest",
          "mapbox": {
           "style": "light"
          },
          "paper_bgcolor": "white",
          "plot_bgcolor": "#E5ECF6",
          "polar": {
           "angularaxis": {
            "gridcolor": "white",
            "linecolor": "white",
            "ticks": ""
           },
           "bgcolor": "#E5ECF6",
           "radialaxis": {
            "gridcolor": "white",
            "linecolor": "white",
            "ticks": ""
           }
          },
          "scene": {
           "xaxis": {
            "backgroundcolor": "#E5ECF6",
            "gridcolor": "white",
            "gridwidth": 2,
            "linecolor": "white",
            "showbackground": true,
            "ticks": "",
            "zerolinecolor": "white"
           },
           "yaxis": {
            "backgroundcolor": "#E5ECF6",
            "gridcolor": "white",
            "gridwidth": 2,
            "linecolor": "white",
            "showbackground": true,
            "ticks": "",
            "zerolinecolor": "white"
           },
           "zaxis": {
            "backgroundcolor": "#E5ECF6",
            "gridcolor": "white",
            "gridwidth": 2,
            "linecolor": "white",
            "showbackground": true,
            "ticks": "",
            "zerolinecolor": "white"
           }
          },
          "shapedefaults": {
           "line": {
            "color": "#2a3f5f"
           }
          },
          "ternary": {
           "aaxis": {
            "gridcolor": "white",
            "linecolor": "white",
            "ticks": ""
           },
           "baxis": {
            "gridcolor": "white",
            "linecolor": "white",
            "ticks": ""
           },
           "bgcolor": "#E5ECF6",
           "caxis": {
            "gridcolor": "white",
            "linecolor": "white",
            "ticks": ""
           }
          },
          "title": {
           "x": 0.05
          },
          "xaxis": {
           "automargin": true,
           "gridcolor": "white",
           "linecolor": "white",
           "ticks": "",
           "title": {
            "standoff": 15
           },
           "zerolinecolor": "white",
           "zerolinewidth": 2
          },
          "yaxis": {
           "automargin": true,
           "gridcolor": "white",
           "linecolor": "white",
           "ticks": "",
           "title": {
            "standoff": 15
           },
           "zerolinecolor": "white",
           "zerolinewidth": 2
          }
         }
        },
        "xaxis": {
         "anchor": "y",
         "domain": [
          0,
          1
         ],
         "title": {
          "text": "latency"
         }
        },
        "yaxis": {
         "anchor": "x",
         "domain": [
          0,
          1
         ],
         "title": {
          "text": "count"
         }
        }
       }
      }
     },
     "metadata": {},
     "output_type": "display_data"
    }
   ],
   "source": [
    "px.histogram(pooled_data, x='latency', color=pooled_data['stimtype'], opacity=0.7, nbins=40)\n"
   ]
  }
 ],
 "metadata": {
  "kernelspec": {
   "display_name": "PYGOR-TIMESERIES",
   "language": "python",
   "name": "python3"
  },
  "language_info": {
   "codemirror_mode": {
    "name": "ipython",
    "version": 3
   },
   "file_extension": ".py",
   "mimetype": "text/x-python",
   "name": "python",
   "nbconvert_exporter": "python",
   "pygments_lexer": "ipython3",
   "version": "3.12.5"
  }
 },
 "nbformat": 4,
 "nbformat_minor": 2
}
