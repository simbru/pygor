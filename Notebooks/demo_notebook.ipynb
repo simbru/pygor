{
 "cells": [
  {
   "cell_type": "code",
   "execution_count": 1,
   "metadata": {},
   "outputs": [
    {
     "name": "stderr",
     "output_type": "stream",
     "text": [
      "c:\\Users\\Simen\\miniconda3\\envs\\strfclone\\lib\\site-packages\\skimage\\util\\dtype.py:27: DeprecationWarning: `np.bool8` is a deprecated alias for `np.bool_`.  (Deprecated NumPy 1.24)\n",
      "  np.bool8: (False, True),\n"
     ]
    },
    {
     "name": "stdout",
     "output_type": "stream",
     "text": [
      "Found 6 custom classes in C:\\Users\\Simen\\OneDrive\\Universitet\\PhD\\GitHub repos\\pygor\\src\\pygor\\classes\n",
      "Class names: ['CenterSurround', 'Core', 'Experiment', 'FullField', 'MovingBars', 'STRF']\n",
      "Access custom classes using 'from pygor.load import ClassName'\n"
     ]
    }
   ],
   "source": [
    "import pygor.load\n",
    "import pathlib\n",
    "import os\n",
    "import matplotlib.pyplot as plt\n",
    "import numpy as np\n",
    "%reload_ext autoreload\n",
    "%autoreload 2"
   ]
  },
  {
   "cell_type": "code",
   "execution_count": 2,
   "metadata": {},
   "outputs": [
    {
     "name": "stdout",
     "output_type": "stream",
     "text": [
      "c:\\Users\\Simen\\OneDrive\\Universitet\\PhD\\GitHub repos\\pygor\\src\\pygor\\examples\\strf_demo_data.h5\n"
     ]
    }
   ],
   "source": [
    "file_loc = pathlib.Path(os.getcwd()).parent\n",
    "example_data = file_loc.joinpath(\"src/pygor/examples/strf_demo_data.h5\")\n",
    "print(example_data)\n"
   ]
  },
  {
   "cell_type": "code",
   "execution_count": 3,
   "metadata": {},
   "outputs": [
    {
     "name": "stderr",
     "output_type": "stream",
     "text": [
      "C:\\Users\\Simen\\OneDrive\\Universitet\\PhD\\GitHub repos\\pygor\\src\\pygor\\classes\\strf.py:65: UserWarning: Rotation detected and corrected for c:\\Users\\Simen\\OneDrive\\Universitet\\PhD\\GitHub repos\\pygor\\src\\pygor\\examples\\strf_demo_data.h5\n",
      "  self.strfs = pygor.data_helpers.load_strf(HDF5_file)\n"
     ]
    }
   ],
   "source": [
    "fish1 = pygor.load.Core(example_data)\n",
    "fish2 = pygor.load.STRF(example_data)"
   ]
  },
  {
   "cell_type": "code",
   "execution_count": 191,
   "metadata": {},
   "outputs": [],
   "source": [
    "from collections import defaultdict\n",
    "from collections.abc import Iterable\n",
    "from dataclasses import dataclass, field\n",
    "import pandas as pd\n",
    "import pathlib\n",
    "\n",
    "@dataclass\n",
    "class Experiment:\n",
    "    # Initialise object properties\n",
    "    recording: list = field(default_factory=list)\n",
    "    id_dict: dict = field(default_factory=lambda: defaultdict(list))\n",
    "\n",
    "    def __exp_setter__(self, object):\n",
    "        # if object.metadata[\"filename\"] in self.id_dict[\"path\"]:\n",
    "        #     raise ValueError(\"Object already in experiment\")\n",
    "        # else:\n",
    "            self.recording.append(object)\n",
    "            self.id_dict[\"id\"].append(len(self.id_dict[\"name\"]))\n",
    "            self.id_dict[\"date\"].append(object.metadata[\"exp_date\"].strftime('%d-%m-%Y'))        \n",
    "            self.id_dict[\"name\"].append(pathlib.Path(object.metadata[\"filename\"]).stem)\n",
    "            self.id_dict[\"num_rois\"].append(object.num_rois)\n",
    "            self.id_dict[\"type\"].append(object.type)\n",
    "            self.id_dict[\"path\"].append(object.metadata[\"filename\"])   \n",
    "\n",
    "    def __exp_forgetter__(self, indices: int or list[int]):\n",
    "        # Deal with recording list\n",
    "        self.recording.pop(indices)\n",
    "        # Deal with id_dict\n",
    "        if isinstance(indices, Iterable) is False:\n",
    "            _input = [indices]\n",
    "        for k, v in self.id_dict.items():\n",
    "            # Use list comprehension to remove elements at specified indices\n",
    "            v[:] = [v[i] for i in range(len(v)) if i not in _input and i - len(v) not in _input]\n",
    "    \n",
    "    def attach_data(self, objects: object or list[object]):\n",
    "        if isinstance(objects, Iterable) is False:\n",
    "            self.__exp_setter__(objects)\n",
    "        else:\n",
    "            for i in objects:\n",
    "                self.__exp_setter__(i)\n",
    "\n",
    "    def detach_data(self, indices:int or list(int)):\n",
    "        if isinstance(indices, Iterable) is False:\n",
    "            self.__exp_forgetter__(indices)\n",
    "        else:\n",
    "            for i in indices:\n",
    "                self.__exp_forgetter__(i)\n",
    "\n",
    "    @property\n",
    "    def recording_id(self):\n",
    "        return pd.DataFrame(self.id_dict)"
   ]
  },
  {
   "cell_type": "code",
   "execution_count": 193,
   "metadata": {},
   "outputs": [
    {
     "data": {
      "text/html": [
       "<div>\n",
       "<style scoped>\n",
       "    .dataframe tbody tr th:only-of-type {\n",
       "        vertical-align: middle;\n",
       "    }\n",
       "\n",
       "    .dataframe tbody tr th {\n",
       "        vertical-align: top;\n",
       "    }\n",
       "\n",
       "    .dataframe thead th {\n",
       "        text-align: right;\n",
       "    }\n",
       "</style>\n",
       "<table border=\"1\" class=\"dataframe\">\n",
       "  <thead>\n",
       "    <tr style=\"text-align: right;\">\n",
       "      <th></th>\n",
       "      <th>id</th>\n",
       "      <th>name</th>\n",
       "      <th>date</th>\n",
       "      <th>num_rois</th>\n",
       "      <th>type</th>\n",
       "      <th>path</th>\n",
       "    </tr>\n",
       "  </thead>\n",
       "  <tbody>\n",
       "    <tr>\n",
       "      <th>0</th>\n",
       "      <td>0</td>\n",
       "      <td>strf_demo_data</td>\n",
       "      <td>07-11-2023</td>\n",
       "      <td>4</td>\n",
       "      <td>Core</td>\n",
       "      <td>c:\\Users\\Simen\\OneDrive\\Universitet\\PhD\\GitHub...</td>\n",
       "    </tr>\n",
       "    <tr>\n",
       "      <th>1</th>\n",
       "      <td>1</td>\n",
       "      <td>strf_demo_data</td>\n",
       "      <td>07-11-2023</td>\n",
       "      <td>4</td>\n",
       "      <td>STRF</td>\n",
       "      <td>c:\\Users\\Simen\\OneDrive\\Universitet\\PhD\\GitHub...</td>\n",
       "    </tr>\n",
       "    <tr>\n",
       "      <th>2</th>\n",
       "      <td>2</td>\n",
       "      <td>strf_demo_data</td>\n",
       "      <td>07-11-2023</td>\n",
       "      <td>4</td>\n",
       "      <td>Core</td>\n",
       "      <td>c:\\Users\\Simen\\OneDrive\\Universitet\\PhD\\GitHub...</td>\n",
       "    </tr>\n",
       "    <tr>\n",
       "      <th>3</th>\n",
       "      <td>3</td>\n",
       "      <td>strf_demo_data</td>\n",
       "      <td>07-11-2023</td>\n",
       "      <td>4</td>\n",
       "      <td>Core</td>\n",
       "      <td>c:\\Users\\Simen\\OneDrive\\Universitet\\PhD\\GitHub...</td>\n",
       "    </tr>\n",
       "  </tbody>\n",
       "</table>\n",
       "</div>"
      ],
      "text/plain": [
       "   id            name        date  num_rois  type  \\\n",
       "0   0  strf_demo_data  07-11-2023         4  Core   \n",
       "1   1  strf_demo_data  07-11-2023         4  STRF   \n",
       "2   2  strf_demo_data  07-11-2023         4  Core   \n",
       "3   3  strf_demo_data  07-11-2023         4  Core   \n",
       "\n",
       "                                                path  \n",
       "0  c:\\Users\\Simen\\OneDrive\\Universitet\\PhD\\GitHub...  \n",
       "1  c:\\Users\\Simen\\OneDrive\\Universitet\\PhD\\GitHub...  \n",
       "2  c:\\Users\\Simen\\OneDrive\\Universitet\\PhD\\GitHub...  \n",
       "3  c:\\Users\\Simen\\OneDrive\\Universitet\\PhD\\GitHub...  "
      ]
     },
     "execution_count": 193,
     "metadata": {},
     "output_type": "execute_result"
    }
   ],
   "source": [
    "exp = Experiment()\n",
    "exp.attach_data([fish1, fish2, fish1, fish1])\n",
    "exp.recording_id"
   ]
  },
  {
   "cell_type": "code",
   "execution_count": 194,
   "metadata": {},
   "outputs": [
    {
     "data": {
      "text/html": [
       "<div>\n",
       "<style scoped>\n",
       "    .dataframe tbody tr th:only-of-type {\n",
       "        vertical-align: middle;\n",
       "    }\n",
       "\n",
       "    .dataframe tbody tr th {\n",
       "        vertical-align: top;\n",
       "    }\n",
       "\n",
       "    .dataframe thead th {\n",
       "        text-align: right;\n",
       "    }\n",
       "</style>\n",
       "<table border=\"1\" class=\"dataframe\">\n",
       "  <thead>\n",
       "    <tr style=\"text-align: right;\">\n",
       "      <th></th>\n",
       "      <th>id</th>\n",
       "      <th>name</th>\n",
       "      <th>date</th>\n",
       "      <th>num_rois</th>\n",
       "      <th>type</th>\n",
       "      <th>path</th>\n",
       "    </tr>\n",
       "  </thead>\n",
       "  <tbody>\n",
       "    <tr>\n",
       "      <th>0</th>\n",
       "      <td>1</td>\n",
       "      <td>strf_demo_data</td>\n",
       "      <td>07-11-2023</td>\n",
       "      <td>4</td>\n",
       "      <td>STRF</td>\n",
       "      <td>c:\\Users\\Simen\\OneDrive\\Universitet\\PhD\\GitHub...</td>\n",
       "    </tr>\n",
       "    <tr>\n",
       "      <th>1</th>\n",
       "      <td>2</td>\n",
       "      <td>strf_demo_data</td>\n",
       "      <td>07-11-2023</td>\n",
       "      <td>4</td>\n",
       "      <td>Core</td>\n",
       "      <td>c:\\Users\\Simen\\OneDrive\\Universitet\\PhD\\GitHub...</td>\n",
       "    </tr>\n",
       "    <tr>\n",
       "      <th>2</th>\n",
       "      <td>3</td>\n",
       "      <td>strf_demo_data</td>\n",
       "      <td>07-11-2023</td>\n",
       "      <td>4</td>\n",
       "      <td>Core</td>\n",
       "      <td>c:\\Users\\Simen\\OneDrive\\Universitet\\PhD\\GitHub...</td>\n",
       "    </tr>\n",
       "  </tbody>\n",
       "</table>\n",
       "</div>"
      ],
      "text/plain": [
       "   id            name        date  num_rois  type  \\\n",
       "0   1  strf_demo_data  07-11-2023         4  STRF   \n",
       "1   2  strf_demo_data  07-11-2023         4  Core   \n",
       "2   3  strf_demo_data  07-11-2023         4  Core   \n",
       "\n",
       "                                                path  \n",
       "0  c:\\Users\\Simen\\OneDrive\\Universitet\\PhD\\GitHub...  \n",
       "1  c:\\Users\\Simen\\OneDrive\\Universitet\\PhD\\GitHub...  \n",
       "2  c:\\Users\\Simen\\OneDrive\\Universitet\\PhD\\GitHub...  "
      ]
     },
     "execution_count": 194,
     "metadata": {},
     "output_type": "execute_result"
    }
   ],
   "source": [
    "exp.detach_data(0)\n",
    "exp.recording_id"
   ]
  },
  {
   "cell_type": "code",
   "execution_count": null,
   "metadata": {},
   "outputs": [],
   "source": []
  },
  {
   "cell_type": "code",
   "execution_count": 41,
   "metadata": {},
   "outputs": [
    {
     "data": {
      "text/plain": [
       "[07-11-2023:Core:strf_demo_data,\n",
       " 07-11-2023:STRF:strf_demo_data,\n",
       " 07-11-2023:Core:strf_demo_data,\n",
       " 07-11-2023:Core:strf_demo_data]"
      ]
     },
     "execution_count": 41,
     "metadata": {},
     "output_type": "execute_result"
    }
   ],
   "source": [
    "exp.recording"
   ]
  },
  {
   "cell_type": "code",
   "execution_count": 33,
   "metadata": {},
   "outputs": [],
   "source": [
    "recs = [fish1, fish2]"
   ]
  },
  {
   "cell_type": "code",
   "execution_count": 20,
   "metadata": {},
   "outputs": [
    {
     "data": {
      "text/plain": [
       "pygor.classes.core_data.Core"
      ]
     },
     "execution_count": 20,
     "metadata": {},
     "output_type": "execute_result"
    }
   ],
   "source": [
    "type(fish1)"
   ]
  },
  {
   "cell_type": "code",
   "execution_count": 31,
   "metadata": {},
   "outputs": [
    {
     "name": "stdout",
     "output_type": "stream",
     "text": [
      "\n",
      "Welcome to your data object! \n",
      "Below are attributes and methods, as well as some metadata.\n",
      "Pass 'hint = True' for more tips and hints on using the data class.\n",
      "    ## Class info:\n",
      "        Current data type: \n",
      "        'Core'\n",
      "        Current metadata: \n",
      "       { 'exp_date': datetime.date(2023, 11, 7),\n",
      "         'exp_time': datetime.time(17, 3, 37),\n",
      "         'filename': 'c:\\\\Users\\\\SimenLab\\\\OneDrive\\\\Universitet\\\\PhD\\\\GitHub '\n",
      "                     'repos\\\\pygor\\\\src\\\\pygor\\\\examples\\\\strf_demo_data.h5',\n",
      "         'objectiveXYZ': (-125190.0, -71909.0, -119340.0)}\n",
      "\n",
      "    ## Attributes\n",
      "        Here's the data you have access to -> pass 'types = True' for type hints, attr (type):\n",
      "    [ 'averages', 'filename', 'frame_hz', 'images', 'ipl_depths', 'metadata', 'ms_dur', 'name', 'num_rois',\n",
      "      'phase_num', 'rois', 'snippets', 'trigger_mode', 'triggerstimes_frame', 'triggertimes', 'type']\n",
      "    \n",
      "    ## Methods\n",
      "        Here's some actions you have -> pass 'types = True' for type hints, func (return type):\n",
      "    [ 'calculate_average_images', 'get_help', 'plot_averages', 'view_drift', 'view_stack_projection',\n",
      "      'view_stack_rois']\n",
      "\n",
      "    NB: Feel free to write your own attributes (data) and methods (actions)!\n",
      "    Happy analysin' (:\n",
      "    "
     ]
    }
   ],
   "source": [
    "fish1.get_help()"
   ]
  },
  {
   "cell_type": "code",
   "execution_count": 33,
   "metadata": {},
   "outputs": [
    {
     "data": {
      "text/plain": [
       "nan"
      ]
     },
     "execution_count": 33,
     "metadata": {},
     "output_type": "execute_result"
    }
   ],
   "source": [
    "fish1.averages"
   ]
  },
  {
   "cell_type": "code",
   "execution_count": 6,
   "metadata": {},
   "outputs": [
    {
     "name": "stdout",
     "output_type": "stream",
     "text": [
      "\n",
      "Welcome to your data object! \n",
      "Below are attributes and methods, as well as some metadata.\n",
      "Pass 'hint = True' for more tips and hints on using the data class.\n",
      "    ## Class info:\n",
      "        Current data type: \n",
      "        'Core'\n",
      "        Current metadata: \n",
      "       { 'exp_date': datetime.date(2023, 11, 7),\n",
      "         'exp_time': datetime.time(17, 3, 37),\n",
      "         'filename': 'c:\\\\Users\\\\SimenLab\\\\OneDrive\\\\Universitet\\\\PhD\\\\GitHub '\n",
      "                     'repos\\\\pygor\\\\src\\\\pygor\\\\examples\\\\strf_demo_data.h5',\n",
      "         'objectiveXYZ': (-125190.0, -71909.0, -119340.0)}\n",
      "\n",
      "    - You can access these via self.data_types or self.metadata, respectively.\n",
      "        Here, 'self' referes to the variable name you give your Data object.\n",
      "    - All attributes (data) and methods (actions) are accessed likewise.\n",
      "    \n",
      "    ## Attributes\n",
      "        Here's the data you have access to -> pass 'types = True' for type hints, attr (type):\n",
      "    [ 'averages (float)', 'filename (WindowsPath)', 'frame_hz (float)', 'images (ndarray)',\n",
      "      'ipl_depths (ndarray)', 'metadata (dict)', 'ms_dur (float)', 'name (str)', 'num_rois (int)',\n",
      "      'phase_num (int)', 'rois (ndarray)', 'snippets (float)', 'trigger_mode (int)',\n",
      "      'triggerstimes_frame (ndarray)', 'triggertimes (ndarray)', 'type (str)']\n",
      "    \n",
      "        - You can change these by customising the corresponding attributes or\n",
      "            @property-decorated functions inside data_objects.py\n",
      "        - These typically get created at run-time, within the dataclass, and include data \n",
      "            properties that are simple and static.\n",
      "        - Attributes that are complex to generate should be imported from data_helpers.py \n",
      "        \n",
      "    ## Methods\n",
      "        Here's some actions you have -> pass 'types = True' for type hints, func (return type):\n",
      "    [ 'calculate_average_images (?)', 'get_help (None)', 'plot_averages (?)', 'view_drift (None)',\n",
      "      'view_stack_projection (None)', 'view_stack_rois (None)']\n",
      "\n",
      "        - You cam change these by customising the corresponding methods in\n",
      "            data_objects.py. Please wwrite documentation, preferably in numpy docstring\n",
      "            but at least a sentence explaining what the function does.\n",
      "        - These are funcitons that are evoked only when called. Most are configured\n",
      "            such that they write the result of the called computation to the object\n",
      "            for future use without re-calculating (lazy initialisation).\n",
      "        - Fast AND simple functions are exceptions to lazy initialisation.\n",
      "        \n",
      "    NB: Feel free to write your own attributes (data) and methods (actions)!\n",
      "    Happy analysin' (:\n",
      "    "
     ]
    }
   ],
   "source": [
    "fish1.get_help(hints=True, types=True)"
   ]
  },
  {
   "cell_type": "code",
   "execution_count": 13,
   "metadata": {},
   "outputs": [
    {
     "data": {
      "text/plain": [
       "array([[1.42534625e-03,            nan],\n",
       "       [2.31004936e-02,            nan],\n",
       "       [           nan, 1.16438467e-02],\n",
       "       [           nan, 1.02255935e-02],\n",
       "       [1.04898264e-14,            nan],\n",
       "       [5.45530709e-15,            nan],\n",
       "       [2.71590475e-04,            nan],\n",
       "       [2.19407390e-04,            nan],\n",
       "       [           nan, 5.09372578e-03],\n",
       "       [           nan, 1.18774417e-03],\n",
       "       [8.55176084e-02, 1.11505938e-01],\n",
       "       [3.20641407e-02, 5.71720148e-02],\n",
       "       [5.16519445e-02, 6.52630306e-02],\n",
       "       [9.93520564e-03,            nan],\n",
       "       [3.46500381e-03, 4.13908556e-02],\n",
       "       [5.52254032e-02, 4.33250471e-02]])"
      ]
     },
     "execution_count": 13,
     "metadata": {},
     "output_type": "execute_result"
    }
   ],
   "source": [
    "fish2.contours_complexities()"
   ]
  },
  {
   "cell_type": "code",
   "execution_count": 16,
   "metadata": {},
   "outputs": [],
   "source": [
    "exp = pygor.load.Experiment()"
   ]
  },
  {
   "cell_type": "code",
   "execution_count": 17,
   "metadata": {},
   "outputs": [
    {
     "data": {
      "text/plain": [
       "Experiment(['Core'])"
      ]
     },
     "execution_count": 17,
     "metadata": {},
     "output_type": "execute_result"
    }
   ],
   "source": [
    "exp"
   ]
  },
  {
   "cell_type": "code",
   "execution_count": 14,
   "metadata": {},
   "outputs": [
    {
     "data": {
      "text/plain": [
       "Core(filename=WindowsPath('c:/Users/SimenLab/OneDrive/Universitet/PhD/GitHub repos/pygor/src/pygor/examples/strf_demo_data.h5'), metadata={'filename': 'c:\\\\Users\\\\SimenLab\\\\OneDrive\\\\Universitet\\\\PhD\\\\GitHub repos\\\\pygor\\\\src\\\\pygor\\\\examples\\\\strf_demo_data.h5', 'exp_date': datetime.date(2023, 11, 7), 'exp_time': datetime.time(17, 3, 37), 'objectiveXYZ': (-125190.0, -71909.0, -119340.0)}, rois=array([[1., 1., 1., ..., 1., 1., 1.],\n",
       "       [1., 1., 1., ..., 1., 1., 1.],\n",
       "       [1., 1., 1., ..., 1., 1., 1.],\n",
       "       ...,\n",
       "       [1., 1., 1., ..., 1., 1., 1.],\n",
       "       [1., 1., 1., ..., 1., 1., 1.],\n",
       "       [1., 1., 1., ..., 1., 1., 1.]], dtype=float32), type='Core', frame_hz=15.625, averages=nan, snippets=nan, ms_dur=nan, phase_num=1, num_rois=4)"
      ]
     },
     "execution_count": 14,
     "metadata": {},
     "output_type": "execute_result"
    }
   ],
   "source": [
    "fish1"
   ]
  },
  {
   "cell_type": "code",
   "execution_count": 22,
   "metadata": {},
   "outputs": [
    {
     "data": {
      "text/plain": [
       "'Core'"
      ]
     },
     "execution_count": 22,
     "metadata": {},
     "output_type": "execute_result"
    }
   ],
   "source": [
    "fish1.__class__.__name__"
   ]
  },
  {
   "cell_type": "code",
   "execution_count": 8,
   "metadata": {},
   "outputs": [
    {
     "data": {
      "text/plain": [
       "pygor.classes.core_data.Core"
      ]
     },
     "execution_count": 8,
     "metadata": {},
     "output_type": "execute_result"
    }
   ],
   "source": [
    "type(fish1)"
   ]
  }
 ],
 "metadata": {
  "kernelspec": {
   "display_name": "strfsclone",
   "language": "python",
   "name": "python3"
  },
  "language_info": {
   "codemirror_mode": {
    "name": "ipython",
    "version": 3
   },
   "file_extension": ".py",
   "mimetype": "text/x-python",
   "name": "python",
   "nbconvert_exporter": "python",
   "pygments_lexer": "ipython3",
   "version": "3.10.8"
  }
 },
 "nbformat": 4,
 "nbformat_minor": 2
}
