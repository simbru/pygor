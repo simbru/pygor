{
 "cells": [
  {
   "cell_type": "code",
   "execution_count": 1,
   "metadata": {},
   "outputs": [
    {
     "name": "stderr",
     "output_type": "stream",
     "text": [
      "c:\\Users\\SimenLab\\miniconda3\\envs\\strfsclone\\lib\\site-packages\\skimage\\util\\dtype.py:27: DeprecationWarning: `np.bool8` is a deprecated alias for `np.bool_`.  (Deprecated NumPy 1.24)\n",
      "  np.bool8: (False, True),\n"
     ]
    },
    {
     "name": "stdout",
     "output_type": "stream",
     "text": [
      "Found 6 custom classes in C:\\Users\\SimenLab\\OneDrive\\Universitet\\PhD\\GitHub repos\\pygor\\src\\pygor\\classes\n",
      "Class names: ['CenterSurround', 'Core', 'Experiment', 'FullField', 'MovingBars', 'STRF']\n",
      "Access custom classes using 'from pygor.load import ClassName'\n"
     ]
    }
   ],
   "source": [
    "import pygor.load\n",
    "import pathlib\n",
    "import os\n",
    "%reload_ext autoreload\n",
    "%autoreload 2"
   ]
  },
  {
   "cell_type": "code",
   "execution_count": 2,
   "metadata": {},
   "outputs": [
    {
     "name": "stdout",
     "output_type": "stream",
     "text": [
      "c:\\Users\\SimenLab\\OneDrive\\Universitet\\PhD\\GitHub repos\\pygor\\src\\pygor\\examples\\strf_demo_data.h5\n"
     ]
    }
   ],
   "source": [
    "file_loc = pathlib.Path(os.getcwd()).parent\n",
    "example_data = file_loc.joinpath(\"src/pygor/examples/strf_demo_data.h5\")\n",
    "print(example_data)\n"
   ]
  },
  {
   "cell_type": "code",
   "execution_count": 3,
   "metadata": {},
   "outputs": [
    {
     "name": "stderr",
     "output_type": "stream",
     "text": [
      "C:\\Users\\SimenLab\\OneDrive\\Universitet\\PhD\\GitHub repos\\pygor\\src\\pygor\\classes\\strf.py:65: UserWarning: Rotation detected and corrected for c:\\Users\\SimenLab\\OneDrive\\Universitet\\PhD\\GitHub repos\\pygor\\src\\pygor\\examples\\strf_demo_data.h5\n",
      "  self.strfs = pygor.data_helpers.load_strf(HDF5_file)\n"
     ]
    }
   ],
   "source": [
    "fish1 = pygor.load.Core(example_data)\n",
    "fish2 = pygor.load.STRF(example_data)"
   ]
  },
  {
   "cell_type": "code",
   "execution_count": 18,
   "metadata": {},
   "outputs": [],
   "source": [
    "recs = [fish1, fish2]"
   ]
  },
  {
   "cell_type": "code",
   "execution_count": 20,
   "metadata": {},
   "outputs": [
    {
     "data": {
      "text/plain": [
       "pygor.classes.core_data.Core"
      ]
     },
     "execution_count": 20,
     "metadata": {},
     "output_type": "execute_result"
    }
   ],
   "source": [
    "type(fish1)"
   ]
  },
  {
   "cell_type": "code",
   "execution_count": 31,
   "metadata": {},
   "outputs": [
    {
     "name": "stdout",
     "output_type": "stream",
     "text": [
      "\n",
      "Welcome to your data object! \n",
      "Below are attributes and methods, as well as some metadata.\n",
      "Pass 'hint = True' for more tips and hints on using the data class.\n",
      "    ## Class info:\n",
      "        Current data type: \n",
      "        'Core'\n",
      "        Current metadata: \n",
      "       { 'exp_date': datetime.date(2023, 11, 7),\n",
      "         'exp_time': datetime.time(17, 3, 37),\n",
      "         'filename': 'c:\\\\Users\\\\SimenLab\\\\OneDrive\\\\Universitet\\\\PhD\\\\GitHub '\n",
      "                     'repos\\\\pygor\\\\src\\\\pygor\\\\examples\\\\strf_demo_data.h5',\n",
      "         'objectiveXYZ': (-125190.0, -71909.0, -119340.0)}\n",
      "\n",
      "    ## Attributes\n",
      "        Here's the data you have access to -> pass 'types = True' for type hints, attr (type):\n",
      "    [ 'averages', 'filename', 'frame_hz', 'images', 'ipl_depths', 'metadata', 'ms_dur', 'name', 'num_rois',\n",
      "      'phase_num', 'rois', 'snippets', 'trigger_mode', 'triggerstimes_frame', 'triggertimes', 'type']\n",
      "    \n",
      "    ## Methods\n",
      "        Here's some actions you have -> pass 'types = True' for type hints, func (return type):\n",
      "    [ 'calculate_average_images', 'get_help', 'plot_averages', 'view_drift', 'view_stack_projection',\n",
      "      'view_stack_rois']\n",
      "\n",
      "    NB: Feel free to write your own attributes (data) and methods (actions)!\n",
      "    Happy analysin' (:\n",
      "    "
     ]
    }
   ],
   "source": [
    "fish1.get_help()"
   ]
  },
  {
   "cell_type": "code",
   "execution_count": 33,
   "metadata": {},
   "outputs": [
    {
     "data": {
      "text/plain": [
       "nan"
      ]
     },
     "execution_count": 33,
     "metadata": {},
     "output_type": "execute_result"
    }
   ],
   "source": [
    "fish1.averages"
   ]
  },
  {
   "cell_type": "code",
   "execution_count": 6,
   "metadata": {},
   "outputs": [
    {
     "name": "stdout",
     "output_type": "stream",
     "text": [
      "\n",
      "Welcome to your data object! \n",
      "Below are attributes and methods, as well as some metadata.\n",
      "Pass 'hint = True' for more tips and hints on using the data class.\n",
      "    ## Class info:\n",
      "        Current data type: \n",
      "        'Core'\n",
      "        Current metadata: \n",
      "       { 'exp_date': datetime.date(2023, 11, 7),\n",
      "         'exp_time': datetime.time(17, 3, 37),\n",
      "         'filename': 'c:\\\\Users\\\\SimenLab\\\\OneDrive\\\\Universitet\\\\PhD\\\\GitHub '\n",
      "                     'repos\\\\pygor\\\\src\\\\pygor\\\\examples\\\\strf_demo_data.h5',\n",
      "         'objectiveXYZ': (-125190.0, -71909.0, -119340.0)}\n",
      "\n",
      "    - You can access these via self.data_types or self.metadata, respectively.\n",
      "        Here, 'self' referes to the variable name you give your Data object.\n",
      "    - All attributes (data) and methods (actions) are accessed likewise.\n",
      "    \n",
      "    ## Attributes\n",
      "        Here's the data you have access to -> pass 'types = True' for type hints, attr (type):\n",
      "    [ 'averages (float)', 'filename (WindowsPath)', 'frame_hz (float)', 'images (ndarray)',\n",
      "      'ipl_depths (ndarray)', 'metadata (dict)', 'ms_dur (float)', 'name (str)', 'num_rois (int)',\n",
      "      'phase_num (int)', 'rois (ndarray)', 'snippets (float)', 'trigger_mode (int)',\n",
      "      'triggerstimes_frame (ndarray)', 'triggertimes (ndarray)', 'type (str)']\n",
      "    \n",
      "        - You can change these by customising the corresponding attributes or\n",
      "            @property-decorated functions inside data_objects.py\n",
      "        - These typically get created at run-time, within the dataclass, and include data \n",
      "            properties that are simple and static.\n",
      "        - Attributes that are complex to generate should be imported from data_helpers.py \n",
      "        \n",
      "    ## Methods\n",
      "        Here's some actions you have -> pass 'types = True' for type hints, func (return type):\n",
      "    [ 'calculate_average_images (?)', 'get_help (None)', 'plot_averages (?)', 'view_drift (None)',\n",
      "      'view_stack_projection (None)', 'view_stack_rois (None)']\n",
      "\n",
      "        - You cam change these by customising the corresponding methods in\n",
      "            data_objects.py. Please wwrite documentation, preferably in numpy docstring\n",
      "            but at least a sentence explaining what the function does.\n",
      "        - These are funcitons that are evoked only when called. Most are configured\n",
      "            such that they write the result of the called computation to the object\n",
      "            for future use without re-calculating (lazy initialisation).\n",
      "        - Fast AND simple functions are exceptions to lazy initialisation.\n",
      "        \n",
      "    NB: Feel free to write your own attributes (data) and methods (actions)!\n",
      "    Happy analysin' (:\n",
      "    "
     ]
    }
   ],
   "source": [
    "fish1.get_help(hints=True, types=True)"
   ]
  },
  {
   "cell_type": "code",
   "execution_count": 13,
   "metadata": {},
   "outputs": [
    {
     "data": {
      "text/plain": [
       "array([[1.42534625e-03,            nan],\n",
       "       [2.31004936e-02,            nan],\n",
       "       [           nan, 1.16438467e-02],\n",
       "       [           nan, 1.02255935e-02],\n",
       "       [1.04898264e-14,            nan],\n",
       "       [5.45530709e-15,            nan],\n",
       "       [2.71590475e-04,            nan],\n",
       "       [2.19407390e-04,            nan],\n",
       "       [           nan, 5.09372578e-03],\n",
       "       [           nan, 1.18774417e-03],\n",
       "       [8.55176084e-02, 1.11505938e-01],\n",
       "       [3.20641407e-02, 5.71720148e-02],\n",
       "       [5.16519445e-02, 6.52630306e-02],\n",
       "       [9.93520564e-03,            nan],\n",
       "       [3.46500381e-03, 4.13908556e-02],\n",
       "       [5.52254032e-02, 4.33250471e-02]])"
      ]
     },
     "execution_count": 13,
     "metadata": {},
     "output_type": "execute_result"
    }
   ],
   "source": [
    "fish2.contours_complexities()"
   ]
  },
  {
   "cell_type": "code",
   "execution_count": 16,
   "metadata": {},
   "outputs": [],
   "source": [
    "exp = pygor.load.Experiment()"
   ]
  },
  {
   "cell_type": "code",
   "execution_count": 17,
   "metadata": {},
   "outputs": [
    {
     "data": {
      "text/plain": [
       "Experiment(['Core'])"
      ]
     },
     "execution_count": 17,
     "metadata": {},
     "output_type": "execute_result"
    }
   ],
   "source": [
    "exp"
   ]
  },
  {
   "cell_type": "code",
   "execution_count": 14,
   "metadata": {},
   "outputs": [
    {
     "data": {
      "text/plain": [
       "Core(filename=WindowsPath('c:/Users/SimenLab/OneDrive/Universitet/PhD/GitHub repos/pygor/src/pygor/examples/strf_demo_data.h5'), metadata={'filename': 'c:\\\\Users\\\\SimenLab\\\\OneDrive\\\\Universitet\\\\PhD\\\\GitHub repos\\\\pygor\\\\src\\\\pygor\\\\examples\\\\strf_demo_data.h5', 'exp_date': datetime.date(2023, 11, 7), 'exp_time': datetime.time(17, 3, 37), 'objectiveXYZ': (-125190.0, -71909.0, -119340.0)}, rois=array([[1., 1., 1., ..., 1., 1., 1.],\n",
       "       [1., 1., 1., ..., 1., 1., 1.],\n",
       "       [1., 1., 1., ..., 1., 1., 1.],\n",
       "       ...,\n",
       "       [1., 1., 1., ..., 1., 1., 1.],\n",
       "       [1., 1., 1., ..., 1., 1., 1.],\n",
       "       [1., 1., 1., ..., 1., 1., 1.]], dtype=float32), type='Core', frame_hz=15.625, averages=nan, snippets=nan, ms_dur=nan, phase_num=1, num_rois=4)"
      ]
     },
     "execution_count": 14,
     "metadata": {},
     "output_type": "execute_result"
    }
   ],
   "source": [
    "fish1"
   ]
  },
  {
   "cell_type": "code",
   "execution_count": 22,
   "metadata": {},
   "outputs": [
    {
     "data": {
      "text/plain": [
       "'Core'"
      ]
     },
     "execution_count": 22,
     "metadata": {},
     "output_type": "execute_result"
    }
   ],
   "source": [
    "fish1.__class__.__name__"
   ]
  },
  {
   "cell_type": "code",
   "execution_count": 8,
   "metadata": {},
   "outputs": [
    {
     "data": {
      "text/plain": [
       "pygor.classes.core_data.Core"
      ]
     },
     "execution_count": 8,
     "metadata": {},
     "output_type": "execute_result"
    }
   ],
   "source": [
    "type(fish1)"
   ]
  }
 ],
 "metadata": {
  "kernelspec": {
   "display_name": "strfsclone",
   "language": "python",
   "name": "python3"
  },
  "language_info": {
   "codemirror_mode": {
    "name": "ipython",
    "version": 3
   },
   "file_extension": ".py",
   "mimetype": "text/x-python",
   "name": "python",
   "nbconvert_exporter": "python",
   "pygments_lexer": "ipython3",
   "version": "3.10.8"
  }
 },
 "nbformat": 4,
 "nbformat_minor": 2
}
