{
 "cells": [
  {
   "cell_type": "code",
   "execution_count": 1,
   "metadata": {},
   "outputs": [
    {
     "name": "stdout",
     "output_type": "stream",
     "text": [
      "Found 6 custom classes in C:\\Users\\Simen\\Git_repos\\pygor\\src\\pygor\\classes\n",
      "Class names: ['CenterSurround', 'Core', 'Experiment', 'FullField', 'MovingBars', 'STRF']\n",
      "Access custom classes using 'from pygor.load import ClassName'\n"
     ]
    }
   ],
   "source": [
    "import pygor.filehandling\n",
    "import pygor.load\n",
    "import pygor.filehandling\n",
    "%reload_ext autoreload\n",
    "%autoreload 2"
   ]
  },
  {
   "cell_type": "markdown",
   "metadata": {},
   "source": [
    "# Get data, run analyses, and yield DataFrames"
   ]
  },
  {
   "cell_type": "code",
   "execution_count": 2,
   "metadata": {},
   "outputs": [
    {
     "data": {
      "text/plain": [
       "[WindowsPath('C:/Users/Simen/Downloads/2023-11-14_0_0_SWN_200_Colours.h5'),\n",
       " WindowsPath(\"C:/Users/Simen/Downloads/2023-6-13_'0_1_ColorSWN_200_0'.h5\")]"
      ]
     },
     "execution_count": 2,
     "metadata": {},
     "output_type": "execute_result"
    }
   ],
   "source": [
    "files = pygor.filehandling.find_files_in(\".h5\", r\"C:\\Users\\Simen\\Downloads\", match = \"SWN\", recursive=True) #\"ColoursSWN\"\n",
    "files = files[1:]\n",
    "files"
   ]
  },
  {
   "cell_type": "code",
   "execution_count": 3,
   "metadata": {},
   "outputs": [
    {
     "data": {
      "application/vnd.jupyter.widget-view+json": {
       "model_id": "1b131f9c1c0d45458306987b54dbe369",
       "version_major": 2,
       "version_minor": 0
      },
      "text/plain": [
       "Iterating through, loading, and storing listed files as objects:   0%|          | 0/2 [00:00<?, ?it/s]"
      ]
     },
     "metadata": {},
     "output_type": "display_data"
    },
    {
     "data": {
      "application/vnd.jupyter.widget-view+json": {
       "model_id": "1b62c864edee4ed082e198a534908ff1",
       "version_major": 2,
       "version_minor": 0
      },
      "text/plain": [
       "Output()"
      ]
     },
     "metadata": {},
     "output_type": "display_data"
    }
   ],
   "source": [
    "folder = r\"C:\\Users\\Simen\\Git_repos\\pygor_pickles\"\n",
    "pygor.filehandling.picklestore_objects(files, folder, as_class = pygor.load.STRF, bs_bool = True)"
   ]
  },
  {
   "cell_type": "markdown",
   "metadata": {},
   "source": [
    "# Load pre-saved data"
   ]
  },
  {
   "cell_type": "code",
   "execution_count": 3,
   "metadata": {},
   "outputs": [
    {
     "data": {
      "text/plain": [
       "[WindowsPath('C:/Users/Simen/Git_repos/pygor_pickles/2023-11-14_0_0_SWN_200_Colours.pkl'),\n",
       " WindowsPath(\"C:/Users/Simen/Git_repos/pygor_pickles/2023-6-13_'0_1_ColorSWN_200_0'.pkl\")]"
      ]
     },
     "execution_count": 3,
     "metadata": {},
     "output_type": "execute_result"
    }
   ],
   "source": [
    "folder = r\"C:\\Users\\Simen\\Git_repos\\pygor_pickles\"\n",
    "files = pygor.filehandling.find_files_in(\".pkl\", folder, match = \"SWN\", recursive=True) #\"ColoursSWN\"\n",
    "files"
   ]
  },
  {
   "cell_type": "markdown",
   "metadata": {},
   "source": [
    "# Analysis"
   ]
  },
  {
   "cell_type": "code",
   "execution_count": 50,
   "metadata": {},
   "outputs": [
    {
     "name": "stderr",
     "output_type": "stream",
     "text": [
      "C:\\Users\\Simen\\Git_repos\\pygor\\src\\pygor\\classes\\core_data.py:76: UserWarning: 'Averages0' not found in C:\\Users\\Simen\\Downloads\\2023-11-14_0_0_SWN_200_Colours.h5, setting to np.nan\n",
      "  self.averages = try_fetch(HDF5_file, \"Averages0\")\n",
      "C:\\Users\\Simen\\Git_repos\\pygor\\src\\pygor\\classes\\core_data.py:77: UserWarning: 'Snippets0' not found in C:\\Users\\Simen\\Downloads\\2023-11-14_0_0_SWN_200_Colours.h5, setting to np.nan\n",
      "  self.snippets = try_fetch(HDF5_file, \"Snippets0\")\n",
      "C:\\Users\\Simen\\Git_repos\\pygor\\src\\pygor\\classes\\strf.py:63: UserWarning: Rotation detected and corrected for C:\\Users\\Simen\\Downloads\\2023-11-14_0_0_SWN_200_Colours.h5\n",
      "  self.strfs = pygor.data_helpers.load_strf(HDF5_file)\n"
     ]
    }
   ],
   "source": [
    "obj = pygor.filehandling.load(files[0], as_class = pygor.load.STRF)"
   ]
  },
  {
   "cell_type": "code",
   "execution_count": 52,
   "metadata": {},
   "outputs": [
    {
     "data": {
      "text/plain": [
       "array([[ 2.00603999e-04,             nan],\n",
       "       [ 1.89683211e-03,             nan],\n",
       "       [ 5.77791643e-02,  7.82975315e-02],\n",
       "       [ 1.19488203e-01,  4.79481998e-02],\n",
       "       [ 2.35046897e-02,             nan],\n",
       "       [ 1.52030620e-01,  2.42531707e-02],\n",
       "       [ 9.06755865e-02,  3.31018048e-02],\n",
       "       [            nan,  2.84007461e-02],\n",
       "       [ 7.84836662e-04,             nan],\n",
       "       [ 2.05685204e-02,             nan],\n",
       "       [ 3.63457842e-04, -7.33692428e-15],\n",
       "       [ 5.02951576e-02,  8.36931614e-02],\n",
       "       [ 8.39985021e-03,             nan],\n",
       "       [ 1.21123601e-01,  1.15770663e-01],\n",
       "       [ 7.34809586e-02,  1.25980061e-02],\n",
       "       [ 4.81523912e-02,  9.56663172e-02],\n",
       "       [            nan,  5.09333485e-05],\n",
       "       [            nan,  4.75052105e-04],\n",
       "       [            nan,  3.02345500e-02],\n",
       "       [            nan,  2.21169792e-03],\n",
       "       [            nan,  1.37566899e-02],\n",
       "       [            nan,  6.78290439e-03],\n",
       "       [            nan,  1.03093786e-01],\n",
       "       [            nan,  3.48170763e-02],\n",
       "       [            nan,  9.94552488e-03],\n",
       "       [ 4.88915576e-02,  4.53912730e-02],\n",
       "       [            nan,  2.95225557e-02],\n",
       "       [            nan,  2.13523026e-03],\n",
       "       [ 6.52435521e-02,  3.00682975e-02],\n",
       "       [ 3.29815154e-02,  1.01183007e-01],\n",
       "       [            nan,  9.71311412e-03],\n",
       "       [            nan,  4.62047915e-03],\n",
       "       [ 1.34588802e-01,             nan],\n",
       "       [            nan,  9.76127966e-02],\n",
       "       [ 7.97031619e-02,  4.27584316e-02],\n",
       "       [            nan,  2.62764447e-04],\n",
       "       [            nan,  6.09965108e-02],\n",
       "       [ 3.68774747e-02,  6.25626053e-02],\n",
       "       [            nan,  1.29778324e-01],\n",
       "       [            nan,  2.98369756e-02],\n",
       "       [ 3.67757851e-02,             nan],\n",
       "       [ 1.52050721e-02,  7.51054065e-02],\n",
       "       [            nan,  3.80011529e-02],\n",
       "       [            nan,  1.13070770e-03]])"
      ]
     },
     "execution_count": 52,
     "metadata": {},
     "output_type": "execute_result"
    }
   ],
   "source": [
    "obj.calc_contours_complexities()"
   ]
  },
  {
   "cell_type": "code",
   "execution_count": 22,
   "metadata": {},
   "outputs": [
    {
     "data": {
      "text/plain": [
       "True"
      ]
     },
     "execution_count": 22,
     "metadata": {},
     "output_type": "execute_result"
    }
   ],
   "source": [
    "import numpy as np\n",
    "np.all(obj.fit_contours()[0][0]) > 0"
   ]
  },
  {
   "cell_type": "code",
   "execution_count": 33,
   "metadata": {},
   "outputs": [
    {
     "data": {
      "text/plain": [
       "True"
      ]
     },
     "execution_count": 33,
     "metadata": {},
     "output_type": "execute_result"
    }
   ],
   "source": [
    "np.all(np.array([0, 0, 0, 0])) < 0.5"
   ]
  },
  {
   "cell_type": "code",
   "execution_count": 34,
   "metadata": {},
   "outputs": [
    {
     "data": {
      "text/plain": [
       "array([[13.        , 22.14796989],\n",
       "       [12.        , 22.79920504],\n",
       "       [11.30966935, 23.        ],\n",
       "       [11.        , 23.13420011],\n",
       "       [10.        , 23.08893616],\n",
       "       [ 9.86924894, 23.        ],\n",
       "       [ 9.03147683, 22.        ],\n",
       "       [ 9.        , 21.61218624],\n",
       "       [ 8.95444045, 21.        ],\n",
       "       [ 8.930495  , 20.        ],\n",
       "       [ 9.        , 19.84124589],\n",
       "       [ 9.34159206, 19.        ],\n",
       "       [10.        , 18.31827215],\n",
       "       [11.        , 18.0360197 ],\n",
       "       [12.        , 18.32394222],\n",
       "       [13.        , 18.92867169],\n",
       "       [13.06504299, 19.        ],\n",
       "       [13.60977813, 20.        ],\n",
       "       [13.8319398 , 21.        ],\n",
       "       [13.16158765, 22.        ],\n",
       "       [13.        , 22.14796989]])"
      ]
     },
     "execution_count": 34,
     "metadata": {},
     "output_type": "execute_result"
    }
   ],
   "source": [
    "obj.fit_contours()[0][0]"
   ]
  },
  {
   "cell_type": "code",
   "execution_count": 12,
   "metadata": {},
   "outputs": [
    {
     "data": {
      "text/plain": [
       "['_Core__compare_ops_map',\n",
       " '_Core__keyword_lables',\n",
       " '_Core__skip_first_frames',\n",
       " '_Core__skip_last_frames',\n",
       " '_STRF__calc_pval_space',\n",
       " '_STRF__calc_pval_time',\n",
       " '_STRF__contours',\n",
       " '_STRF__contours_centroids',\n",
       " '__annotations__',\n",
       " '__class__',\n",
       " '__dataclass_fields__',\n",
       " '__dataclass_params__',\n",
       " '__delattr__',\n",
       " '__dict__',\n",
       " '__dir__',\n",
       " '__doc__',\n",
       " '__eq__',\n",
       " '__format__',\n",
       " '__ge__',\n",
       " '__getattribute__',\n",
       " '__gt__',\n",
       " '__hash__',\n",
       " '__init__',\n",
       " '__init_subclass__',\n",
       " '__le__',\n",
       " '__lt__',\n",
       " '__match_args__',\n",
       " '__module__',\n",
       " '__ne__',\n",
       " '__new__',\n",
       " '__post_init__',\n",
       " '__reduce__',\n",
       " '__reduce_ex__',\n",
       " '__repr__',\n",
       " '__setattr__',\n",
       " '__sizeof__',\n",
       " '__str__',\n",
       " '__subclasshook__',\n",
       " '__weakref__',\n",
       " '_pval_space',\n",
       " '_pval_time',\n",
       " 'averages',\n",
       " 'bs_bool',\n",
       " 'bs_settings',\n",
       " 'calc_LED_offset',\n",
       " 'calc_contours_centroids',\n",
       " 'calc_contours_complexities',\n",
       " 'calc_spectral_centroids',\n",
       " 'calc_spectrums',\n",
       " 'calc_tunings_amplitude',\n",
       " 'calc_tunings_area',\n",
       " 'calc_tunings_centroids',\n",
       " 'calc_tunings_peaktime',\n",
       " 'calculate_average_images',\n",
       " 'collapse_times',\n",
       " 'filename',\n",
       " 'fit_contours',\n",
       " 'frame_hz',\n",
       " 'get_bootstrap_settings',\n",
       " 'get_contours_area',\n",
       " 'get_contours_centres',\n",
       " 'get_contours_centres_by_pol',\n",
       " 'get_contours_count',\n",
       " 'get_dominant_timecourses',\n",
       " 'get_help',\n",
       " 'get_polarities',\n",
       " 'get_pvals_table',\n",
       " 'get_spatial_masks',\n",
       " 'get_strf_masks',\n",
       " 'get_timecourses',\n",
       " 'images',\n",
       " 'ipl_depths',\n",
       " 'metadata',\n",
       " 'ms_dur',\n",
       " 'multicolour',\n",
       " 'name',\n",
       " 'num_rois',\n",
       " 'num_strfs',\n",
       " 'numcolour',\n",
       " 'opponency_bool',\n",
       " 'phase_num',\n",
       " 'plot_averages',\n",
       " 'plot_chromatic_overview',\n",
       " 'polarity_category',\n",
       " 'pval_space',\n",
       " 'pval_time',\n",
       " 'rf_masks_combined',\n",
       " 'rois',\n",
       " 'run_bootstrap',\n",
       " 'save_pkl',\n",
       " 'set_bs_bool',\n",
       " 'set_default_bootstrap_settings',\n",
       " 'snippets',\n",
       " 'strf_keys',\n",
       " 'strfs',\n",
       " 'traces_raw',\n",
       " 'traces_znorm',\n",
       " 'trigger_mode',\n",
       " 'triggerstimes_frame',\n",
       " 'triggertimes',\n",
       " 'type',\n",
       " 'update_bootstrap_settings',\n",
       " 'view_drift',\n",
       " 'view_stack_projection',\n",
       " 'view_stack_rois']"
      ]
     },
     "execution_count": 12,
     "metadata": {},
     "output_type": "execute_result"
    }
   ],
   "source": [
    "dir(obj)"
   ]
  },
  {
   "cell_type": "code",
   "execution_count": 11,
   "metadata": {},
   "outputs": [
    {
     "name": "stderr",
     "output_type": "stream",
     "text": [
      "C:\\Users\\Simen\\Git_repos\\pygor\\src\\pygor\\analyses\\strf_df.py:242: RuntimeWarning: Mean of empty slice\n",
      "  complexities = utilities.multicolour_reshape(np.nanmean(contouring.complexity_weighted(data_strf_obj.contours, data_strf_obj.contours_area()), axis = 1), num_wavelengths)\n"
     ]
    },
    {
     "ename": "AttributeError",
     "evalue": "'STRF' object has no attribute 'area_tuning_functions'",
     "output_type": "error",
     "traceback": [
      "\u001b[1;31m---------------------------------------------------------------------------\u001b[0m",
      "\u001b[1;31mAttributeError\u001b[0m                            Traceback (most recent call last)",
      "\u001b[1;32mc:\\Users\\Simen\\Git_repos\\pygor\\Notebooks\\RF_analysis.ipynb Cell 9\u001b[0m line \u001b[0;36m1\n\u001b[1;32m----> <a href='vscode-notebook-cell:/c%3A/Users/Simen/Git_repos/pygor/Notebooks/RF_analysis.ipynb#X42sZmlsZQ%3D%3D?line=0'>1</a>\u001b[0m \u001b[39mdict\u001b[39m \u001b[39m=\u001b[39m pygor\u001b[39m.\u001b[39;49manalyses\u001b[39m.\u001b[39;49mstrf_df\u001b[39m.\u001b[39;49mbuild_chromaticity_dict(obj)\n",
      "File \u001b[1;32m~\\Git_repos\\pygor\\src\\pygor\\analyses\\strf_df.py:243\u001b[0m, in \u001b[0;36mbuild_chromaticity_dict\u001b[1;34m(data_strf_obj, wavelengths)\u001b[0m\n\u001b[0;32m    241\u001b[0m polarities \u001b[39m=\u001b[39m utilities\u001b[39m.\u001b[39mmulticolour_reshape(data_strf_obj\u001b[39m.\u001b[39mpolarities(), num_wavelengths)\n\u001b[0;32m    242\u001b[0m complexities \u001b[39m=\u001b[39m utilities\u001b[39m.\u001b[39mmulticolour_reshape(np\u001b[39m.\u001b[39mnanmean(contouring\u001b[39m.\u001b[39mcomplexity_weighted(data_strf_obj\u001b[39m.\u001b[39mcontours(), data_strf_obj\u001b[39m.\u001b[39mcontours_area()), axis \u001b[39m=\u001b[39m \u001b[39m1\u001b[39m), num_wavelengths)\n\u001b[1;32m--> 243\u001b[0m area_t \u001b[39m=\u001b[39m data_strf_obj\u001b[39m.\u001b[39;49marea_tuning_functions(size)\u001b[39m.\u001b[39mT\n\u001b[0;32m    244\u001b[0m ampl_t \u001b[39m=\u001b[39m data_strf_obj\u001b[39m.\u001b[39mamplitude_tuning_functions()\u001b[39m.\u001b[39mT\n\u001b[0;32m    245\u001b[0m neg_cent_t, pos_cent_t \u001b[39m=\u001b[39m data_strf_obj\u001b[39m.\u001b[39mcentroid_tuning_functions()\n",
      "\u001b[1;31mAttributeError\u001b[0m: 'STRF' object has no attribute 'area_tuning_functions'"
     ]
    }
   ],
   "source": [
    "dict = pygor.analyses.strf_df.build_chromaticity_dict(obj)"
   ]
  },
  {
   "cell_type": "code",
   "execution_count": 13,
   "metadata": {},
   "outputs": [
    {
     "ename": "AttributeError",
     "evalue": "'STRF' object has no attribute 'contours'",
     "output_type": "error",
     "traceback": [
      "\u001b[1;31m---------------------------------------------------------------------------\u001b[0m",
      "\u001b[1;31mAttributeError\u001b[0m                            Traceback (most recent call last)",
      "\u001b[1;32mc:\\Users\\Simen\\Git_repos\\pygor\\Notebooks\\RF_analysis.ipynb Cell 10\u001b[0m line \u001b[0;36m1\n\u001b[1;32m----> <a href='vscode-notebook-cell:/c%3A/Users/Simen/Git_repos/pygor/Notebooks/RF_analysis.ipynb#X43sZmlsZQ%3D%3D?line=0'>1</a>\u001b[0m obj\u001b[39m.\u001b[39;49mget_help()\n",
      "File \u001b[1;32m~\\Git_repos\\pygor\\src\\pygor\\classes\\core_data.py:129\u001b[0m, in \u001b[0;36mCore.get_help\u001b[1;34m(self, hints, types)\u001b[0m\n\u001b[0;32m    114\u001b[0m \u001b[39mdef\u001b[39;00m \u001b[39mget_help\u001b[39m(\u001b[39mself\u001b[39m, hints \u001b[39m=\u001b[39m \u001b[39mFalse\u001b[39;00m, types \u001b[39m=\u001b[39m \u001b[39mFalse\u001b[39;00m) \u001b[39m-\u001b[39m\u001b[39m>\u001b[39m \u001b[39mNone\u001b[39;00m:\n\u001b[0;32m    115\u001b[0m     \u001b[39m\"\"\"\u001b[39;00m\n\u001b[0;32m    116\u001b[0m \u001b[39m    Get help information for the object, including methods and attributes.\u001b[39;00m\n\u001b[0;32m    117\u001b[0m \n\u001b[1;32m   (...)\u001b[0m\n\u001b[0;32m    127\u001b[0m \u001b[39m    None\u001b[39;00m\n\u001b[0;32m    128\u001b[0m \u001b[39m    \"\"\"\u001b[39;00m\n\u001b[1;32m--> 129\u001b[0m     method_list \u001b[39m=\u001b[39m pygor\u001b[39m.\u001b[39;49mutils\u001b[39m.\u001b[39;49mhelpinfo\u001b[39m.\u001b[39;49mget_methods_list(\u001b[39mself\u001b[39;49m, with_returns\u001b[39m=\u001b[39;49mtypes)\n\u001b[0;32m    130\u001b[0m     attribute_list \u001b[39m=\u001b[39m pygor\u001b[39m.\u001b[39mutils\u001b[39m.\u001b[39mhelpinfo\u001b[39m.\u001b[39mget_attribute_list(\u001b[39mself\u001b[39m, with_types\u001b[39m=\u001b[39mtypes)\n\u001b[0;32m    131\u001b[0m     welcome\u001b[39m=\u001b[39mpygor\u001b[39m.\u001b[39mutils\u001b[39m.\u001b[39mhelpinfo\u001b[39m.\u001b[39mwelcome_help(\u001b[39mself\u001b[39m\u001b[39m.\u001b[39mtype, \u001b[39mself\u001b[39m\u001b[39m.\u001b[39mmetadata, hints \u001b[39m=\u001b[39m hints)\n",
      "File \u001b[1;32m~\\Git_repos\\pygor\\src\\pygor\\utils\\helpinfo.py:31\u001b[0m, in \u001b[0;36mget_methods_list\u001b[1;34m(obj, with_returns)\u001b[0m\n\u001b[0;32m     12\u001b[0m \u001b[39mdef\u001b[39;00m \u001b[39mget_methods_list\u001b[39m(obj, with_returns \u001b[39m=\u001b[39m \u001b[39mTrue\u001b[39;00m) \u001b[39m-\u001b[39m\u001b[39m>\u001b[39m \u001b[39mlist\u001b[39m:\n\u001b[0;32m     13\u001b[0m     \u001b[39m\"\"\"\u001b[39;00m\n\u001b[0;32m     14\u001b[0m \u001b[39m    Get a list of methods of a given object.\u001b[39;00m\n\u001b[0;32m     15\u001b[0m \n\u001b[1;32m   (...)\u001b[0m\n\u001b[0;32m     29\u001b[0m \n\u001b[0;32m     30\u001b[0m \u001b[39m    \"\"\"\u001b[39;00m\n\u001b[1;32m---> 31\u001b[0m     method_list \u001b[39m=\u001b[39m [func \u001b[39mfor\u001b[39;00m func \u001b[39min\u001b[39;00m \u001b[39mdir\u001b[39m(obj) \u001b[39mif\u001b[39;00m callable(\u001b[39mgetattr\u001b[39m(obj, func)) \u001b[39mis\u001b[39;00m \u001b[39mTrue\u001b[39;00m \u001b[39mand\u001b[39;00m \u001b[39m\"\u001b[39m\u001b[39m__\u001b[39m\u001b[39m\"\u001b[39m \u001b[39mnot\u001b[39;00m \u001b[39min\u001b[39;00m func]\n\u001b[0;32m     32\u001b[0m     \u001b[39m\"\"\"\u001b[39;00m\n\u001b[0;32m     33\u001b[0m \u001b[39m    TODO Sort the methods list alphabetically by the \u001b[39;00m\n\u001b[0;32m     34\u001b[0m \u001b[39m    letter in the second part of the funciton name, after '_'\u001b[39;00m\n\u001b[0;32m     35\u001b[0m \u001b[39m    \"\"\"\u001b[39;00m\n\u001b[0;32m     36\u001b[0m     \u001b[39mif\u001b[39;00m with_returns \u001b[39mis\u001b[39;00m \u001b[39mTrue\u001b[39;00m:\n",
      "File \u001b[1;32m~\\Git_repos\\pygor\\src\\pygor\\utils\\helpinfo.py:31\u001b[0m, in \u001b[0;36m<listcomp>\u001b[1;34m(.0)\u001b[0m\n\u001b[0;32m     12\u001b[0m \u001b[39mdef\u001b[39;00m \u001b[39mget_methods_list\u001b[39m(obj, with_returns \u001b[39m=\u001b[39m \u001b[39mTrue\u001b[39;00m) \u001b[39m-\u001b[39m\u001b[39m>\u001b[39m \u001b[39mlist\u001b[39m:\n\u001b[0;32m     13\u001b[0m     \u001b[39m\"\"\"\u001b[39;00m\n\u001b[0;32m     14\u001b[0m \u001b[39m    Get a list of methods of a given object.\u001b[39;00m\n\u001b[0;32m     15\u001b[0m \n\u001b[1;32m   (...)\u001b[0m\n\u001b[0;32m     29\u001b[0m \n\u001b[0;32m     30\u001b[0m \u001b[39m    \"\"\"\u001b[39;00m\n\u001b[1;32m---> 31\u001b[0m     method_list \u001b[39m=\u001b[39m [func \u001b[39mfor\u001b[39;00m func \u001b[39min\u001b[39;00m \u001b[39mdir\u001b[39m(obj) \u001b[39mif\u001b[39;00m callable(\u001b[39mgetattr\u001b[39;49m(obj, func)) \u001b[39mis\u001b[39;00m \u001b[39mTrue\u001b[39;00m \u001b[39mand\u001b[39;00m \u001b[39m\"\u001b[39m\u001b[39m__\u001b[39m\u001b[39m\"\u001b[39m \u001b[39mnot\u001b[39;00m \u001b[39min\u001b[39;00m func]\n\u001b[0;32m     32\u001b[0m     \u001b[39m\"\"\"\u001b[39;00m\n\u001b[0;32m     33\u001b[0m \u001b[39m    TODO Sort the methods list alphabetically by the \u001b[39;00m\n\u001b[0;32m     34\u001b[0m \u001b[39m    letter in the second part of the funciton name, after '_'\u001b[39;00m\n\u001b[0;32m     35\u001b[0m \u001b[39m    \"\"\"\u001b[39;00m\n\u001b[0;32m     36\u001b[0m     \u001b[39mif\u001b[39;00m with_returns \u001b[39mis\u001b[39;00m \u001b[39mTrue\u001b[39;00m:\n",
      "File \u001b[1;32m~\\Git_repos\\pygor\\src\\pygor\\classes\\strf.py:500\u001b[0m, in \u001b[0;36mSTRF.contours_count\u001b[1;34m(self)\u001b[0m\n\u001b[0;32m    497\u001b[0m \u001b[39m@property\u001b[39m\n\u001b[0;32m    498\u001b[0m \u001b[39mdef\u001b[39;00m \u001b[39mcontours_count\u001b[39m(\u001b[39mself\u001b[39m) \u001b[39m-\u001b[39m\u001b[39m>\u001b[39m \u001b[39mlist\u001b[39m:\n\u001b[0;32m    499\u001b[0m     count_list \u001b[39m=\u001b[39m []\n\u001b[1;32m--> 500\u001b[0m     \u001b[39mfor\u001b[39;00m i \u001b[39min\u001b[39;00m \u001b[39mself\u001b[39;49m\u001b[39m.\u001b[39;49mcontours():\n\u001b[0;32m    501\u001b[0m         neg_contours, pos_contours \u001b[39m=\u001b[39m i\n\u001b[0;32m    502\u001b[0m         count_tup \u001b[39m=\u001b[39m (\u001b[39mlen\u001b[39m(neg_contours), \u001b[39mlen\u001b[39m(pos_contours))\n",
      "\u001b[1;31mAttributeError\u001b[0m: 'STRF' object has no attribute 'contours'"
     ]
    }
   ],
   "source": [
    "obj.get_help()"
   ]
  },
  {
   "cell_type": "code",
   "execution_count": 6,
   "metadata": {},
   "outputs": [
    {
     "name": "stdout",
     "output_type": "stream",
     "text": [
      "Current file: C:\\Users\\Simen\\Git_repos\\pygor_pickles\\2023-11-14_0_0_SWN_200_Colours.pkl\n"
     ]
    },
    {
     "ename": "ValueError",
     "evalue": "Per-column arrays must each be 1-dimensional",
     "output_type": "error",
     "traceback": [
      "\u001b[1;31m---------------------------------------------------------------------------\u001b[0m",
      "\u001b[1;31mValueError\u001b[0m                                Traceback (most recent call last)",
      "\u001b[1;32mc:\\Users\\Simen\\Git_repos\\pygor\\Notebooks\\RF_analysis.ipynb Cell 9\u001b[0m line \u001b[0;36m2\n\u001b[0;32m      <a href='vscode-notebook-cell:/c%3A/Users/Simen/Git_repos/pygor/Notebooks/RF_analysis.ipynb#X40sZmlsZQ%3D%3D?line=0'>1</a>\u001b[0m \u001b[39mimport\u001b[39;00m \u001b[39mpygor\u001b[39;00m\u001b[39m.\u001b[39;00m\u001b[39manalyses\u001b[39;00m\u001b[39m.\u001b[39;00m\u001b[39mstrf_df\u001b[39;00m\n\u001b[1;32m----> <a href='vscode-notebook-cell:/c%3A/Users/Simen/Git_repos/pygor/Notebooks/RF_analysis.ipynb#X40sZmlsZQ%3D%3D?line=1'>2</a>\u001b[0m roi_df, rec_df, chroma_df \u001b[39m=\u001b[39m pygor\u001b[39m.\u001b[39;49manalyses\u001b[39m.\u001b[39;49mstrf_df\u001b[39m.\u001b[39;49mcompile_chroma_strf_df(files)\n",
      "File \u001b[1;32m~\\Git_repos\\pygor\\src\\pygor\\analyses\\strf_df.py:366\u001b[0m, in \u001b[0;36mcompile_chroma_strf_df\u001b[1;34m(files, summary_prints, do_bootstrap, store_objects)\u001b[0m\n\u001b[0;32m    364\u001b[0m curr_df \u001b[39m=\u001b[39m pd\u001b[39m.\u001b[39mDataFrame(build_results_dict(loaded))\n\u001b[0;32m    365\u001b[0m roi_stat_list\u001b[39m.\u001b[39mappend(curr_df)\n\u001b[1;32m--> 366\u001b[0m curr_rec \u001b[39m=\u001b[39m pd\u001b[39m.\u001b[39;49mDataFrame(build_recording_dict(loaded))\n\u001b[0;32m    367\u001b[0m \u001b[39mprint\u001b[39m(curr_rec)\n\u001b[0;32m    368\u001b[0m rec_info_list\u001b[39m.\u001b[39mappend(curr_rec)\n",
      "File \u001b[1;32mc:\\Users\\Simen\\miniconda3\\envs\\strfclone\\lib\\site-packages\\pandas\\core\\frame.py:663\u001b[0m, in \u001b[0;36mDataFrame.__init__\u001b[1;34m(self, data, index, columns, dtype, copy)\u001b[0m\n\u001b[0;32m    657\u001b[0m     mgr \u001b[39m=\u001b[39m \u001b[39mself\u001b[39m\u001b[39m.\u001b[39m_init_mgr(\n\u001b[0;32m    658\u001b[0m         data, axes\u001b[39m=\u001b[39m{\u001b[39m\"\u001b[39m\u001b[39mindex\u001b[39m\u001b[39m\"\u001b[39m: index, \u001b[39m\"\u001b[39m\u001b[39mcolumns\u001b[39m\u001b[39m\"\u001b[39m: columns}, dtype\u001b[39m=\u001b[39mdtype, copy\u001b[39m=\u001b[39mcopy\n\u001b[0;32m    659\u001b[0m     )\n\u001b[0;32m    661\u001b[0m \u001b[39melif\u001b[39;00m \u001b[39misinstance\u001b[39m(data, \u001b[39mdict\u001b[39m):\n\u001b[0;32m    662\u001b[0m     \u001b[39m# GH#38939 de facto copy defaults to False only in non-dict cases\u001b[39;00m\n\u001b[1;32m--> 663\u001b[0m     mgr \u001b[39m=\u001b[39m dict_to_mgr(data, index, columns, dtype\u001b[39m=\u001b[39;49mdtype, copy\u001b[39m=\u001b[39;49mcopy, typ\u001b[39m=\u001b[39;49mmanager)\n\u001b[0;32m    664\u001b[0m \u001b[39melif\u001b[39;00m \u001b[39misinstance\u001b[39m(data, ma\u001b[39m.\u001b[39mMaskedArray):\n\u001b[0;32m    665\u001b[0m     \u001b[39mimport\u001b[39;00m \u001b[39mnumpy\u001b[39;00m\u001b[39m.\u001b[39;00m\u001b[39mma\u001b[39;00m\u001b[39m.\u001b[39;00m\u001b[39mmrecords\u001b[39;00m \u001b[39mas\u001b[39;00m \u001b[39mmrecords\u001b[39;00m\n",
      "File \u001b[1;32mc:\\Users\\Simen\\miniconda3\\envs\\strfclone\\lib\\site-packages\\pandas\\core\\internals\\construction.py:493\u001b[0m, in \u001b[0;36mdict_to_mgr\u001b[1;34m(data, index, columns, dtype, typ, copy)\u001b[0m\n\u001b[0;32m    489\u001b[0m     \u001b[39melse\u001b[39;00m:\n\u001b[0;32m    490\u001b[0m         \u001b[39m# dtype check to exclude e.g. range objects, scalars\u001b[39;00m\n\u001b[0;32m    491\u001b[0m         arrays \u001b[39m=\u001b[39m [x\u001b[39m.\u001b[39mcopy() \u001b[39mif\u001b[39;00m \u001b[39mhasattr\u001b[39m(x, \u001b[39m\"\u001b[39m\u001b[39mdtype\u001b[39m\u001b[39m\"\u001b[39m) \u001b[39melse\u001b[39;00m x \u001b[39mfor\u001b[39;00m x \u001b[39min\u001b[39;00m arrays]\n\u001b[1;32m--> 493\u001b[0m \u001b[39mreturn\u001b[39;00m arrays_to_mgr(arrays, columns, index, dtype\u001b[39m=\u001b[39;49mdtype, typ\u001b[39m=\u001b[39;49mtyp, consolidate\u001b[39m=\u001b[39;49mcopy)\n",
      "File \u001b[1;32mc:\\Users\\Simen\\miniconda3\\envs\\strfclone\\lib\\site-packages\\pandas\\core\\internals\\construction.py:118\u001b[0m, in \u001b[0;36marrays_to_mgr\u001b[1;34m(arrays, columns, index, dtype, verify_integrity, typ, consolidate)\u001b[0m\n\u001b[0;32m    115\u001b[0m \u001b[39mif\u001b[39;00m verify_integrity:\n\u001b[0;32m    116\u001b[0m     \u001b[39m# figure out the index, if necessary\u001b[39;00m\n\u001b[0;32m    117\u001b[0m     \u001b[39mif\u001b[39;00m index \u001b[39mis\u001b[39;00m \u001b[39mNone\u001b[39;00m:\n\u001b[1;32m--> 118\u001b[0m         index \u001b[39m=\u001b[39m _extract_index(arrays)\n\u001b[0;32m    119\u001b[0m     \u001b[39melse\u001b[39;00m:\n\u001b[0;32m    120\u001b[0m         index \u001b[39m=\u001b[39m ensure_index(index)\n",
      "File \u001b[1;32mc:\\Users\\Simen\\miniconda3\\envs\\strfclone\\lib\\site-packages\\pandas\\core\\internals\\construction.py:653\u001b[0m, in \u001b[0;36m_extract_index\u001b[1;34m(data)\u001b[0m\n\u001b[0;32m    651\u001b[0m         raw_lengths\u001b[39m.\u001b[39mappend(\u001b[39mlen\u001b[39m(val))\n\u001b[0;32m    652\u001b[0m     \u001b[39melif\u001b[39;00m \u001b[39misinstance\u001b[39m(val, np\u001b[39m.\u001b[39mndarray) \u001b[39mand\u001b[39;00m val\u001b[39m.\u001b[39mndim \u001b[39m>\u001b[39m \u001b[39m1\u001b[39m:\n\u001b[1;32m--> 653\u001b[0m         \u001b[39mraise\u001b[39;00m \u001b[39mValueError\u001b[39;00m(\u001b[39m\"\u001b[39m\u001b[39mPer-column arrays must each be 1-dimensional\u001b[39m\u001b[39m\"\u001b[39m)\n\u001b[0;32m    655\u001b[0m \u001b[39mif\u001b[39;00m \u001b[39mnot\u001b[39;00m indexes \u001b[39mand\u001b[39;00m \u001b[39mnot\u001b[39;00m raw_lengths:\n\u001b[0;32m    656\u001b[0m     \u001b[39mraise\u001b[39;00m \u001b[39mValueError\u001b[39;00m(\u001b[39m\"\u001b[39m\u001b[39mIf using all scalar values, you must pass an index\u001b[39m\u001b[39m\"\u001b[39m)\n",
      "\u001b[1;31mValueError\u001b[0m: Per-column arrays must each be 1-dimensional"
     ]
    }
   ],
   "source": [
    "import pygor.analyses.strf_df\n",
    "roi_df, rec_df, chroma_df = pygor.analyses.strf_df.compile_chroma_strf_df(files)"
   ]
  }
 ],
 "metadata": {
  "kernelspec": {
   "display_name": "strfclone",
   "language": "python",
   "name": "python3"
  },
  "language_info": {
   "codemirror_mode": {
    "name": "ipython",
    "version": 3
   },
   "file_extension": ".py",
   "mimetype": "text/x-python",
   "name": "python",
   "nbconvert_exporter": "python",
   "pygments_lexer": "ipython3",
   "version": "3.10.8"
  }
 },
 "nbformat": 4,
 "nbformat_minor": 2
}
