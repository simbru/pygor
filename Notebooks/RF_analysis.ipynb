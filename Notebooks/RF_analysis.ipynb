{
 "cells": [
  {
   "cell_type": "code",
   "execution_count": 1,
   "metadata": {},
   "outputs": [
    {
     "name": "stdout",
     "output_type": "stream",
     "text": [
      "Found 6 custom classes in C:\\Users\\SimenLab\\Git_repos\\pygor\\src\\pygor\\classes\n",
      "Class names: ['CenterSurround', 'Core', 'Experiment', 'FullField', 'MovingBars', 'STRF']\n",
      "Access custom classes using 'from pygor.load import ClassName'\n"
     ]
    }
   ],
   "source": [
    "import pygor.filehandling\n",
    "import pygor.load\n",
    "import pygor.filehandling\n",
    "import os\n",
    "%reload_ext autoreload\n",
    "%autoreload 2"
   ]
  },
  {
   "cell_type": "code",
   "execution_count": 2,
   "metadata": {},
   "outputs": [
    {
     "data": {
      "text/plain": [
       "'c:\\\\Users\\\\SimenLab\\\\Git_repos\\\\pygor\\\\Notebooks'"
      ]
     },
     "execution_count": 2,
     "metadata": {},
     "output_type": "execute_result"
    }
   ],
   "source": [
    "os.getcwd()"
   ]
  },
  {
   "cell_type": "markdown",
   "metadata": {},
   "source": [
    "# Get data, run analyses, and yield DataFrames"
   ]
  },
  {
   "cell_type": "code",
   "execution_count": 3,
   "metadata": {},
   "outputs": [
    {
     "data": {
      "text/plain": [
       "[WindowsPath('../src/pygor/examples/strf_demo_data.h5')]"
      ]
     },
     "execution_count": 3,
     "metadata": {},
     "output_type": "execute_result"
    }
   ],
   "source": [
    "files = pygor.filehandling.find_files_in(\".h5\", r\"..\\src\\pygor\\examples\", match = \"demo\", recursive=True) #\"ColoursSWN\"\n",
    "files = files\n",
    "files"
   ]
  },
  {
   "cell_type": "code",
   "execution_count": 4,
   "metadata": {},
   "outputs": [
    {
     "name": "stderr",
     "output_type": "stream",
     "text": [
      "C:\\Users\\SimenLab\\Git_repos\\pygor\\src\\pygor\\classes\\core_data.py:76: UserWarning: 'Averages0' not found in ..\\src\\pygor\\examples\\strf_demo_data.h5, setting to np.nan\n",
      "  self.averages = try_fetch(HDF5_file, \"Averages0\")\n",
      "C:\\Users\\SimenLab\\Git_repos\\pygor\\src\\pygor\\classes\\core_data.py:77: UserWarning: 'Snippets0' not found in ..\\src\\pygor\\examples\\strf_demo_data.h5, setting to np.nan\n",
      "  self.snippets = try_fetch(HDF5_file, \"Snippets0\")\n",
      "C:\\Users\\SimenLab\\Git_repos\\pygor\\src\\pygor\\classes\\strf.py:63: UserWarning: Rotation detected and corrected for ..\\src\\pygor\\examples\\strf_demo_data.h5\n",
      "  self.strfs = pygor.data_helpers.load_strf(HDF5_file)\n"
     ]
    },
    {
     "name": "stdout",
     "output_type": "stream",
     "text": [
      "\n",
      "Welcome to your data object! \n",
      "Below are attributes and methods, as well as some metadata.\n",
      "Pass 'hint = True' for more tips and hints on using the data class.\n",
      "    ## Class info:\n",
      "        Current data type: \n",
      "        'STRF'\n",
      "        Current metadata: \n",
      "       { 'exp_date': datetime.date(2023, 11, 7),\n",
      "         'exp_time': datetime.time(17, 3, 37),\n",
      "         'filename': '..\\\\src\\\\pygor\\\\examples\\\\strf_demo_data.h5',\n",
      "         'objectiveXYZ': (-125190.0, -71909.0, -119340.0)}\n",
      "\n",
      "    - You can access these via self.data_types or self.metadata, respectively.\n",
      "        Here, 'self' referes to the variable name you give your Data object.\n",
      "    - All attributes (data) and methods (actions) are accessed likewise.\n",
      "    \n",
      "    ## Attributes\n",
      "        Here's the data you have access to -> pass 'types = True' for type hints, attr (type):\n",
      "    [ 'averages (NoneType)', 'bs_bool (bool)', 'bs_settings (dict)', 'filename (WindowsPath)', 'frame_hz (float)',\n",
      "      'images (ndarray)', 'ipl_depths (ndarray)', 'metadata (dict)', 'ms_dur (NoneType)', 'multicolour (bool)',\n",
      "      'name (str)', 'num_rois (int)', 'num_strfs (int)', 'numcolour (int)', 'phase_num (int)',\n",
      "      'pval_space (list)', 'pval_time (list)', 'rf_masks_combined (ndarray)', 'rois (ndarray)',\n",
      "      'snippets (NoneType)', 'strf_keys (list)', 'strfs (MaskedArray)', 'traces_raw (ndarray)',\n",
      "      'traces_znorm (ndarray)', 'trigger_mode (int)', 'triggerstimes_frame (ndarray)', 'triggertimes (ndarray)',\n",
      "      'type (str)']\n",
      "    \n",
      "        - You can change these by customising the corresponding attributes or\n",
      "            @property-decorated functions inside data_objects.py\n",
      "        - These typically get created at run-time, within the dataclass, and include data \n",
      "            properties that are simple and static.\n",
      "        - Attributes that are complex to generate should be imported from data_helpers.py \n",
      "        \n",
      "    ## Methods\n",
      "        Here's some actions you have -> pass 'types = True' for type hints, func (return type):\n",
      "    [ 'get_bootstrap_settings (dict)', 'set_bootstrap_bool (bool)', 'set_bootstrap_settings_default (None)',\n",
      "      'update_bootstrap_settings (None)', 'run_bootstrap (None)', 'calc_contours_centroids (ndarray)',\n",
      "      'calc_contours_complexities (ndarray)', 'get_contours_area (list)', 'get_contours_centres (ndarray)',\n",
      "      'get_contours_centres_by_pol (ndarray)', 'get_contours_count (list)',\n",
      "      'fit_contours (list[list[list[float, float]]])', 'view_drift (None)', 'get_help (None)',\n",
      "      'calculate_image_average (?)', 'calc_LED_offset (ndarray)', \"get_opponency_bool (['bool'])\",\n",
      "      'save_pkl (None)', 'get_polarities (ndarray)', \"get_polarity_category (['str'])\",\n",
      "      'get_pvals_table (DataFrame)', 'plot_averages (?)', 'plot_chromatic_overview (?)',\n",
      "      \"get_spatial_masks (('ndarray', 'ndarray'))\", \"calc_spectral_centroids (('ndarray', 'ndarray'))\",\n",
      "      \"calc_spectrums (('ndarray', 'ndarray'))\", 'view_stack_projection (None)', 'view_stack_rois (None)',\n",
      "      'get_strf_masks (?)', 'get_timecourses_dominant (?)', 'get_timecourses (ndarray)',\n",
      "      'collapse_times (MaskedArray)', 'calc_tunings_amplitude (ndarray)', 'calc_tunings_area (ndarray)',\n",
      "      'calc_tunings_centroids (ndarray)', 'calc_tunings_peaktime (ndarray)']\n",
      "\n",
      "        - You cam change these by customising the corresponding methods in\n",
      "            data_objects.py. Please wwrite documentation, preferably in numpy docstring\n",
      "            but at least a sentence explaining what the function does.\n",
      "        - These are funcitons that are evoked only when called. Most are configured\n",
      "            such that they write the result of the called computation to the object\n",
      "            for future use without re-calculating (lazy initialisation).\n",
      "        - Fast AND simple functions are exceptions to lazy initialisation.\n",
      "        \n",
      "    NB: Feel free to write your own attributes (data) and methods (actions)!\n",
      "    Happy analysin' (:\n",
      "    "
     ]
    }
   ],
   "source": [
    "obj = pygor.filehandling.load(files[0], as_class = pygor.load.STRF)\n",
    "obj.get_help(hints=True, types=True)"
   ]
  },
  {
   "cell_type": "code",
   "execution_count": 5,
   "metadata": {},
   "outputs": [
    {
     "data": {
      "application/vnd.jupyter.widget-view+json": {
       "model_id": "28d98dd1d8ac40309fc17f68e7c247bd",
       "version_major": 2,
       "version_minor": 0
      },
      "text/plain": [
       "Iterating through, loading, and storing listed files as objects:   0%|          | 0/1 [00:00<?, ?it/s]"
      ]
     },
     "metadata": {},
     "output_type": "display_data"
    },
    {
     "data": {
      "application/vnd.jupyter.widget-view+json": {
       "model_id": "b6ebad24e0af456e8e68711e0b8c94c7",
       "version_major": 2,
       "version_minor": 0
      },
      "text/plain": [
       "Output()"
      ]
     },
     "metadata": {},
     "output_type": "display_data"
    }
   ],
   "source": [
    "folder = r\"C:\\Users\\Simen\\Git_repos\\pygor_pickles\"\n",
    "pygor.filehandling.picklestore_objects(files, folder, as_class = pygor.load.STRF, bs_bool = True)"
   ]
  },
  {
   "cell_type": "markdown",
   "metadata": {},
   "source": [
    "# Load pre-saved data"
   ]
  },
  {
   "cell_type": "code",
   "execution_count": 6,
   "metadata": {},
   "outputs": [
    {
     "data": {
      "text/plain": [
       "[]"
      ]
     },
     "execution_count": 6,
     "metadata": {},
     "output_type": "execute_result"
    }
   ],
   "source": [
    "folder = r\"C:\\Users\\Simen\\Git_repos\\pygor_pickles\"\n",
    "files = pygor.filehandling.find_files_in(\".pkl\", folder, match = \"SWN\", recursive=True) #\"ColoursSWN\"\n",
    "files"
   ]
  },
  {
   "cell_type": "markdown",
   "metadata": {},
   "source": [
    "# Analysis"
   ]
  },
  {
   "cell_type": "code",
   "execution_count": null,
   "metadata": {},
   "outputs": [],
   "source": [
    "import pygor.analyse.strf"
   ]
  },
  {
   "cell_type": "code",
   "execution_count": 11,
   "metadata": {},
   "outputs": [
    {
     "name": "stderr",
     "output_type": "stream",
     "text": [
      "<>:1: DeprecationWarning: invalid escape sequence '\\I'\n",
      "<>:1: DeprecationWarning: invalid escape sequence '\\I'\n",
      "C:\\Users\\SimenLab\\AppData\\Local\\Temp\\ipykernel_20092\\1767102621.py:1: DeprecationWarning: invalid escape sequence '\\I'\n",
      "  files = pygor.filehandling.find_files_in(\".h5\", \"D:\\Igor analyses\\SWN\", recursive=True, match = \"SWN\") #\"ColoursSWN\"\n"
     ]
    }
   ],
   "source": [
    "files = pygor.filehandling.find_files_in(\".h5\", \"D:\\Igor analyses\\SWN\", recursive=True, match = \"SWN\") #\"ColoursSWN\"\n",
    "files = files[:4]"
   ]
  },
  {
   "cell_type": "code",
   "execution_count": 18,
   "metadata": {},
   "outputs": [
    {
     "name": "stderr",
     "output_type": "stream",
     "text": [
      "C:\\Users\\SimenLab\\Git_repos\\pygor\\src\\pygor\\classes\\core_data.py:63: UserWarning: 'Traces0_znorm' not found in D:\\Igor analyses\\SWN\\230613\\0_0_ColorSWN_200_0\\2023-6-13_0_0_ColourSWN_200_0.h5, setting to np.nan\n",
      "  self.traces_znorm = try_fetch(HDF5_file, \"Traces0_znorm\")\n",
      "C:\\Users\\SimenLab\\Git_repos\\pygor\\src\\pygor\\classes\\core_data.py:76: UserWarning: 'Averages0' not found in D:\\Igor analyses\\SWN\\230613\\0_0_ColorSWN_200_0\\2023-6-13_0_0_ColourSWN_200_0.h5, setting to np.nan\n",
      "  self.averages = try_fetch(HDF5_file, \"Averages0\")\n",
      "C:\\Users\\SimenLab\\Git_repos\\pygor\\src\\pygor\\classes\\core_data.py:77: UserWarning: 'Snippets0' not found in D:\\Igor analyses\\SWN\\230613\\0_0_ColorSWN_200_0\\2023-6-13_0_0_ColourSWN_200_0.h5, setting to np.nan\n",
      "  self.snippets = try_fetch(HDF5_file, \"Snippets0\")\n",
      "C:\\Users\\SimenLab\\Git_repos\\pygor\\src\\pygor\\classes\\strf.py:63: UserWarning: Rotation detected and corrected for D:\\Igor analyses\\SWN\\230613\\0_0_ColorSWN_200_0\\2023-6-13_0_0_ColourSWN_200_0.h5\n",
      "  self.strfs = pygor.data_helpers.load_strf(HDF5_file)\n"
     ]
    },
    {
     "name": "stdout",
     "output_type": "stream",
     "text": [
      "Attached data: <class 'pygor.classes.strf.STRF'>\n"
     ]
    },
    {
     "name": "stderr",
     "output_type": "stream",
     "text": [
      "C:\\Users\\SimenLab\\Git_repos\\pygor\\src\\pygor\\classes\\core_data.py:63: UserWarning: 'Traces0_znorm' not found in D:\\Igor analyses\\SWN\\230613\\0_1_ColorSWN_200_0\\2023-6-13_0_1_ColourSWN_200_0.h5, setting to np.nan\n",
      "  self.traces_znorm = try_fetch(HDF5_file, \"Traces0_znorm\")\n",
      "C:\\Users\\SimenLab\\Git_repos\\pygor\\src\\pygor\\classes\\core_data.py:76: UserWarning: 'Averages0' not found in D:\\Igor analyses\\SWN\\230613\\0_1_ColorSWN_200_0\\2023-6-13_0_1_ColourSWN_200_0.h5, setting to np.nan\n",
      "  self.averages = try_fetch(HDF5_file, \"Averages0\")\n",
      "C:\\Users\\SimenLab\\Git_repos\\pygor\\src\\pygor\\classes\\core_data.py:77: UserWarning: 'Snippets0' not found in D:\\Igor analyses\\SWN\\230613\\0_1_ColorSWN_200_0\\2023-6-13_0_1_ColourSWN_200_0.h5, setting to np.nan\n",
      "  self.snippets = try_fetch(HDF5_file, \"Snippets0\")\n",
      "C:\\Users\\SimenLab\\Git_repos\\pygor\\src\\pygor\\classes\\strf.py:63: UserWarning: Rotation detected and corrected for D:\\Igor analyses\\SWN\\230613\\0_1_ColorSWN_200_0\\2023-6-13_0_1_ColourSWN_200_0.h5\n",
      "  self.strfs = pygor.data_helpers.load_strf(HDF5_file)\n",
      "C:\\Users\\SimenLab\\Git_repos\\pygor\\src\\pygor\\classes\\core_data.py:63: UserWarning: 'Traces0_znorm' not found in D:\\Igor analyses\\SWN\\230614\\0_0_ColorSWN_200_0\\2023-6-14_0_0_ColorSWN_200_0.h5, setting to np.nan\n",
      "  self.traces_znorm = try_fetch(HDF5_file, \"Traces0_znorm\")\n",
      "C:\\Users\\SimenLab\\Git_repos\\pygor\\src\\pygor\\classes\\core_data.py:76: UserWarning: 'Averages0' not found in D:\\Igor analyses\\SWN\\230614\\0_0_ColorSWN_200_0\\2023-6-14_0_0_ColorSWN_200_0.h5, setting to np.nan\n",
      "  self.averages = try_fetch(HDF5_file, \"Averages0\")\n",
      "C:\\Users\\SimenLab\\Git_repos\\pygor\\src\\pygor\\classes\\core_data.py:77: UserWarning: 'Snippets0' not found in D:\\Igor analyses\\SWN\\230614\\0_0_ColorSWN_200_0\\2023-6-14_0_0_ColorSWN_200_0.h5, setting to np.nan\n",
      "  self.snippets = try_fetch(HDF5_file, \"Snippets0\")\n"
     ]
    },
    {
     "name": "stdout",
     "output_type": "stream",
     "text": [
      "Attached data: <class 'pygor.classes.strf.STRF'>\n"
     ]
    },
    {
     "name": "stderr",
     "output_type": "stream",
     "text": [
      "C:\\Users\\SimenLab\\Git_repos\\pygor\\src\\pygor\\classes\\strf.py:63: UserWarning: Rotation detected and corrected for D:\\Igor analyses\\SWN\\230614\\0_0_ColorSWN_200_0\\2023-6-14_0_0_ColorSWN_200_0.h5\n",
      "  self.strfs = pygor.data_helpers.load_strf(HDF5_file)\n"
     ]
    },
    {
     "name": "stdout",
     "output_type": "stream",
     "text": [
      "Attached data: <class 'pygor.classes.strf.STRF'>\n"
     ]
    },
    {
     "name": "stderr",
     "output_type": "stream",
     "text": [
      "C:\\Users\\SimenLab\\Git_repos\\pygor\\src\\pygor\\classes\\core_data.py:63: UserWarning: 'Traces0_znorm' not found in D:\\Igor analyses\\SWN\\230614\\0_1_ColorSWN_200_0\\2023-6-14_SMP_0_2_ColourSWN_200_0.h5, setting to np.nan\n",
      "  self.traces_znorm = try_fetch(HDF5_file, \"Traces0_znorm\")\n",
      "C:\\Users\\SimenLab\\Git_repos\\pygor\\src\\pygor\\classes\\core_data.py:76: UserWarning: 'Averages0' not found in D:\\Igor analyses\\SWN\\230614\\0_1_ColorSWN_200_0\\2023-6-14_SMP_0_2_ColourSWN_200_0.h5, setting to np.nan\n",
      "  self.averages = try_fetch(HDF5_file, \"Averages0\")\n",
      "C:\\Users\\SimenLab\\Git_repos\\pygor\\src\\pygor\\classes\\core_data.py:77: UserWarning: 'Snippets0' not found in D:\\Igor analyses\\SWN\\230614\\0_1_ColorSWN_200_0\\2023-6-14_SMP_0_2_ColourSWN_200_0.h5, setting to np.nan\n",
      "  self.snippets = try_fetch(HDF5_file, \"Snippets0\")\n",
      "C:\\Users\\SimenLab\\Git_repos\\pygor\\src\\pygor\\classes\\strf.py:63: UserWarning: Rotation detected and corrected for D:\\Igor analyses\\SWN\\230614\\0_1_ColorSWN_200_0\\2023-6-14_SMP_0_2_ColourSWN_200_0.h5\n",
      "  self.strfs = pygor.data_helpers.load_strf(HDF5_file)\n"
     ]
    },
    {
     "name": "stdout",
     "output_type": "stream",
     "text": [
      "Attached data: <class 'pygor.classes.strf.STRF'>\n"
     ]
    }
   ],
   "source": [
    "exp = pygor.load.Experiment()\n",
    "for i in files:\n",
    "    exp.attach_data(pygor.load.STRF(i))"
   ]
  },
  {
   "cell_type": "code",
   "execution_count": 25,
   "metadata": {},
   "outputs": [
    {
     "name": "stderr",
     "output_type": "stream",
     "text": [
      "C:\\Users\\SimenLab\\Git_repos\\pygor\\src\\pygor\\analyse\\strf.py:275: RuntimeWarning: Mean of empty slice\n",
      "  complexities = utilities.multicolour_reshape(np.nanmean(contouring.complexity_weighted(data_strf_obj.fit_contours(), data_strf_obj.get_contours_area()), axis = 1), num_wavelengths)\n",
      "C:\\Users\\SimenLab\\Git_repos\\pygor\\src\\pygor\\analyse\\strf.py:275: RuntimeWarning: Mean of empty slice\n",
      "  complexities = utilities.multicolour_reshape(np.nanmean(contouring.complexity_weighted(data_strf_obj.fit_contours(), data_strf_obj.get_contours_area()), axis = 1), num_wavelengths)\n",
      "C:\\Users\\SimenLab\\Git_repos\\pygor\\src\\pygor\\analyse\\strf.py:275: RuntimeWarning: Mean of empty slice\n",
      "  complexities = utilities.multicolour_reshape(np.nanmean(contouring.complexity_weighted(data_strf_obj.fit_contours(), data_strf_obj.get_contours_area()), axis = 1), num_wavelengths)\n"
     ]
    },
    {
     "data": {
      "text/html": [
       "<div>\n",
       "<style scoped>\n",
       "    .dataframe tbody tr th:only-of-type {\n",
       "        vertical-align: middle;\n",
       "    }\n",
       "\n",
       "    .dataframe tbody tr th {\n",
       "        vertical-align: top;\n",
       "    }\n",
       "\n",
       "    .dataframe thead th {\n",
       "        text-align: right;\n",
       "    }\n",
       "</style>\n",
       "<table border=\"1\" class=\"dataframe\">\n",
       "  <thead>\n",
       "    <tr style=\"text-align: right;\">\n",
       "      <th></th>\n",
       "      <th>date</th>\n",
       "      <th>path</th>\n",
       "      <th>filename</th>\n",
       "      <th>curr_path</th>\n",
       "      <th>strf_keys</th>\n",
       "      <th>cell_id</th>\n",
       "      <th>size</th>\n",
       "      <th>ipl_depths</th>\n",
       "      <th>opp_bool</th>\n",
       "      <th>ampl_375</th>\n",
       "      <th>...</th>\n",
       "      <th>peakpos_478</th>\n",
       "      <th>peakpos_588</th>\n",
       "      <th>pol_375</th>\n",
       "      <th>pol_422</th>\n",
       "      <th>pol_478</th>\n",
       "      <th>pol_588</th>\n",
       "      <th>roi</th>\n",
       "      <th>spatial_X</th>\n",
       "      <th>spatial_Y</th>\n",
       "      <th>temporal_len</th>\n",
       "    </tr>\n",
       "  </thead>\n",
       "  <tbody>\n",
       "    <tr>\n",
       "      <th>0</th>\n",
       "      <td>2023-06-13</td>\n",
       "      <td>D:\\Igor analyses\\SWN\\230613\\0_0_ColorSWN_200_0...</td>\n",
       "      <td>2023-6-13_0_0_ColourSWN_200_0.h5</td>\n",
       "      <td>D:\\Igor analyses\\SWN\\230613\\0_0_ColorSWN_200_0...</td>\n",
       "      <td>STRF0_0</td>\n",
       "      <td>2023-6-13_0_0_ColourSWN_200_006-13-2023_STRF0_0</td>\n",
       "      <td>200</td>\n",
       "      <td>74.0</td>\n",
       "      <td>True</td>\n",
       "      <td>2.587312</td>\n",
       "      <td>...</td>\n",
       "      <td>0.000</td>\n",
       "      <td>0.000</td>\n",
       "      <td>2.0</td>\n",
       "      <td>1.0</td>\n",
       "      <td>-1.0</td>\n",
       "      <td>-1.0</td>\n",
       "      <td>0</td>\n",
       "      <td>24</td>\n",
       "      <td>40</td>\n",
       "      <td>4</td>\n",
       "    </tr>\n",
       "    <tr>\n",
       "      <th>1</th>\n",
       "      <td>2023-06-13</td>\n",
       "      <td>D:\\Igor analyses\\SWN\\230613\\0_0_ColorSWN_200_0...</td>\n",
       "      <td>2023-6-13_0_0_ColourSWN_200_0.h5</td>\n",
       "      <td>D:\\Igor analyses\\SWN\\230613\\0_0_ColorSWN_200_0...</td>\n",
       "      <td>STRF0_1</td>\n",
       "      <td>2023-6-13_0_0_ColourSWN_200_006-13-2023_STRF0_1</td>\n",
       "      <td>200</td>\n",
       "      <td>10.0</td>\n",
       "      <td>True</td>\n",
       "      <td>3.062069</td>\n",
       "      <td>...</td>\n",
       "      <td>1.040</td>\n",
       "      <td>0.975</td>\n",
       "      <td>1.0</td>\n",
       "      <td>1.0</td>\n",
       "      <td>2.0</td>\n",
       "      <td>2.0</td>\n",
       "      <td>1</td>\n",
       "      <td>24</td>\n",
       "      <td>40</td>\n",
       "      <td>4</td>\n",
       "    </tr>\n",
       "    <tr>\n",
       "      <th>2</th>\n",
       "      <td>2023-06-13</td>\n",
       "      <td>D:\\Igor analyses\\SWN\\230613\\0_0_ColorSWN_200_0...</td>\n",
       "      <td>2023-6-13_0_0_ColourSWN_200_0.h5</td>\n",
       "      <td>D:\\Igor analyses\\SWN\\230613\\0_0_ColorSWN_200_0...</td>\n",
       "      <td>STRF0_2</td>\n",
       "      <td>2023-6-13_0_0_ColourSWN_200_006-13-2023_STRF0_2</td>\n",
       "      <td>200</td>\n",
       "      <td>48.0</td>\n",
       "      <td>True</td>\n",
       "      <td>5.168010</td>\n",
       "      <td>...</td>\n",
       "      <td>1.040</td>\n",
       "      <td>1.040</td>\n",
       "      <td>1.0</td>\n",
       "      <td>1.0</td>\n",
       "      <td>2.0</td>\n",
       "      <td>2.0</td>\n",
       "      <td>2</td>\n",
       "      <td>24</td>\n",
       "      <td>40</td>\n",
       "      <td>4</td>\n",
       "    </tr>\n",
       "    <tr>\n",
       "      <th>3</th>\n",
       "      <td>2023-06-13</td>\n",
       "      <td>D:\\Igor analyses\\SWN\\230613\\0_0_ColorSWN_200_0...</td>\n",
       "      <td>2023-6-13_0_0_ColourSWN_200_0.h5</td>\n",
       "      <td>D:\\Igor analyses\\SWN\\230613\\0_0_ColorSWN_200_0...</td>\n",
       "      <td>STRF0_3</td>\n",
       "      <td>2023-6-13_0_0_ColourSWN_200_006-13-2023_STRF0_3</td>\n",
       "      <td>200</td>\n",
       "      <td>67.0</td>\n",
       "      <td>True</td>\n",
       "      <td>-1.998763</td>\n",
       "      <td>...</td>\n",
       "      <td>0.000</td>\n",
       "      <td>0.000</td>\n",
       "      <td>2.0</td>\n",
       "      <td>2.0</td>\n",
       "      <td>-1.0</td>\n",
       "      <td>-1.0</td>\n",
       "      <td>3</td>\n",
       "      <td>24</td>\n",
       "      <td>40</td>\n",
       "      <td>4</td>\n",
       "    </tr>\n",
       "    <tr>\n",
       "      <th>4</th>\n",
       "      <td>2023-06-13</td>\n",
       "      <td>D:\\Igor analyses\\SWN\\230613\\0_0_ColorSWN_200_0...</td>\n",
       "      <td>2023-6-13_0_0_ColourSWN_200_0.h5</td>\n",
       "      <td>D:\\Igor analyses\\SWN\\230613\\0_0_ColorSWN_200_0...</td>\n",
       "      <td>STRF0_4</td>\n",
       "      <td>2023-6-13_0_0_ColourSWN_200_006-13-2023_STRF0_4</td>\n",
       "      <td>200</td>\n",
       "      <td>90.0</td>\n",
       "      <td>True</td>\n",
       "      <td>1.796746</td>\n",
       "      <td>...</td>\n",
       "      <td>0.000</td>\n",
       "      <td>0.000</td>\n",
       "      <td>2.0</td>\n",
       "      <td>-1.0</td>\n",
       "      <td>-1.0</td>\n",
       "      <td>-1.0</td>\n",
       "      <td>4</td>\n",
       "      <td>24</td>\n",
       "      <td>40</td>\n",
       "      <td>4</td>\n",
       "    </tr>\n",
       "    <tr>\n",
       "      <th>...</th>\n",
       "      <td>...</td>\n",
       "      <td>...</td>\n",
       "      <td>...</td>\n",
       "      <td>...</td>\n",
       "      <td>...</td>\n",
       "      <td>...</td>\n",
       "      <td>...</td>\n",
       "      <td>...</td>\n",
       "      <td>...</td>\n",
       "      <td>...</td>\n",
       "      <td>...</td>\n",
       "      <td>...</td>\n",
       "      <td>...</td>\n",
       "      <td>...</td>\n",
       "      <td>...</td>\n",
       "      <td>...</td>\n",
       "      <td>...</td>\n",
       "      <td>...</td>\n",
       "      <td>...</td>\n",
       "      <td>...</td>\n",
       "      <td>...</td>\n",
       "    </tr>\n",
       "    <tr>\n",
       "      <th>166</th>\n",
       "      <td>2023-06-14</td>\n",
       "      <td>D:\\Igor analyses\\SWN\\230614\\0_1_ColorSWN_200_0...</td>\n",
       "      <td>2023-6-14_SMP_0_2_ColourSWN_200_0.h5</td>\n",
       "      <td>D:\\Igor analyses\\SWN\\230614\\0_1_ColorSWN_200_0...</td>\n",
       "      <td>STRF0_26</td>\n",
       "      <td>2023-6-14_SMP_0_2_ColourSWN_200_006-14-2023_ST...</td>\n",
       "      <td>200</td>\n",
       "      <td>11.0</td>\n",
       "      <td>True</td>\n",
       "      <td>7.501882</td>\n",
       "      <td>...</td>\n",
       "      <td>0.975</td>\n",
       "      <td>1.170</td>\n",
       "      <td>1.0</td>\n",
       "      <td>-1.0</td>\n",
       "      <td>2.0</td>\n",
       "      <td>2.0</td>\n",
       "      <td>26</td>\n",
       "      <td>24</td>\n",
       "      <td>40</td>\n",
       "      <td>4</td>\n",
       "    </tr>\n",
       "    <tr>\n",
       "      <th>167</th>\n",
       "      <td>2023-06-14</td>\n",
       "      <td>D:\\Igor analyses\\SWN\\230614\\0_1_ColorSWN_200_0...</td>\n",
       "      <td>2023-6-14_SMP_0_2_ColourSWN_200_0.h5</td>\n",
       "      <td>D:\\Igor analyses\\SWN\\230614\\0_1_ColorSWN_200_0...</td>\n",
       "      <td>STRF0_27</td>\n",
       "      <td>2023-6-14_SMP_0_2_ColourSWN_200_006-14-2023_ST...</td>\n",
       "      <td>200</td>\n",
       "      <td>12.0</td>\n",
       "      <td>True</td>\n",
       "      <td>4.855307</td>\n",
       "      <td>...</td>\n",
       "      <td>1.105</td>\n",
       "      <td>1.040</td>\n",
       "      <td>1.0</td>\n",
       "      <td>2.0</td>\n",
       "      <td>2.0</td>\n",
       "      <td>2.0</td>\n",
       "      <td>27</td>\n",
       "      <td>24</td>\n",
       "      <td>40</td>\n",
       "      <td>4</td>\n",
       "    </tr>\n",
       "    <tr>\n",
       "      <th>168</th>\n",
       "      <td>2023-06-14</td>\n",
       "      <td>D:\\Igor analyses\\SWN\\230614\\0_1_ColorSWN_200_0...</td>\n",
       "      <td>2023-6-14_SMP_0_2_ColourSWN_200_0.h5</td>\n",
       "      <td>D:\\Igor analyses\\SWN\\230614\\0_1_ColorSWN_200_0...</td>\n",
       "      <td>STRF0_28</td>\n",
       "      <td>2023-6-14_SMP_0_2_ColourSWN_200_006-14-2023_ST...</td>\n",
       "      <td>200</td>\n",
       "      <td>14.0</td>\n",
       "      <td>True</td>\n",
       "      <td>4.572721</td>\n",
       "      <td>...</td>\n",
       "      <td>1.105</td>\n",
       "      <td>0.845</td>\n",
       "      <td>1.0</td>\n",
       "      <td>1.0</td>\n",
       "      <td>2.0</td>\n",
       "      <td>2.0</td>\n",
       "      <td>28</td>\n",
       "      <td>24</td>\n",
       "      <td>40</td>\n",
       "      <td>4</td>\n",
       "    </tr>\n",
       "    <tr>\n",
       "      <th>169</th>\n",
       "      <td>2023-06-14</td>\n",
       "      <td>D:\\Igor analyses\\SWN\\230614\\0_1_ColorSWN_200_0...</td>\n",
       "      <td>2023-6-14_SMP_0_2_ColourSWN_200_0.h5</td>\n",
       "      <td>D:\\Igor analyses\\SWN\\230614\\0_1_ColorSWN_200_0...</td>\n",
       "      <td>STRF0_29</td>\n",
       "      <td>2023-6-14_SMP_0_2_ColourSWN_200_006-14-2023_ST...</td>\n",
       "      <td>200</td>\n",
       "      <td>10.0</td>\n",
       "      <td>True</td>\n",
       "      <td>2.169332</td>\n",
       "      <td>...</td>\n",
       "      <td>1.235</td>\n",
       "      <td>0.585</td>\n",
       "      <td>1.0</td>\n",
       "      <td>2.0</td>\n",
       "      <td>2.0</td>\n",
       "      <td>2.0</td>\n",
       "      <td>29</td>\n",
       "      <td>24</td>\n",
       "      <td>40</td>\n",
       "      <td>4</td>\n",
       "    </tr>\n",
       "    <tr>\n",
       "      <th>170</th>\n",
       "      <td>2023-06-14</td>\n",
       "      <td>D:\\Igor analyses\\SWN\\230614\\0_1_ColorSWN_200_0...</td>\n",
       "      <td>2023-6-14_SMP_0_2_ColourSWN_200_0.h5</td>\n",
       "      <td>D:\\Igor analyses\\SWN\\230614\\0_1_ColorSWN_200_0...</td>\n",
       "      <td>STRF0_30</td>\n",
       "      <td>2023-6-14_SMP_0_2_ColourSWN_200_006-14-2023_ST...</td>\n",
       "      <td>200</td>\n",
       "      <td>5.0</td>\n",
       "      <td>False</td>\n",
       "      <td>-2.601584</td>\n",
       "      <td>...</td>\n",
       "      <td>1.105</td>\n",
       "      <td>1.105</td>\n",
       "      <td>2.0</td>\n",
       "      <td>2.0</td>\n",
       "      <td>2.0</td>\n",
       "      <td>2.0</td>\n",
       "      <td>30</td>\n",
       "      <td>24</td>\n",
       "      <td>40</td>\n",
       "      <td>4</td>\n",
       "    </tr>\n",
       "  </tbody>\n",
       "</table>\n",
       "<p>171 rows × 46 columns</p>\n",
       "</div>"
      ],
      "text/plain": [
       "           date                                               path  \\\n",
       "0    2023-06-13  D:\\Igor analyses\\SWN\\230613\\0_0_ColorSWN_200_0...   \n",
       "1    2023-06-13  D:\\Igor analyses\\SWN\\230613\\0_0_ColorSWN_200_0...   \n",
       "2    2023-06-13  D:\\Igor analyses\\SWN\\230613\\0_0_ColorSWN_200_0...   \n",
       "3    2023-06-13  D:\\Igor analyses\\SWN\\230613\\0_0_ColorSWN_200_0...   \n",
       "4    2023-06-13  D:\\Igor analyses\\SWN\\230613\\0_0_ColorSWN_200_0...   \n",
       "..          ...                                                ...   \n",
       "166  2023-06-14  D:\\Igor analyses\\SWN\\230614\\0_1_ColorSWN_200_0...   \n",
       "167  2023-06-14  D:\\Igor analyses\\SWN\\230614\\0_1_ColorSWN_200_0...   \n",
       "168  2023-06-14  D:\\Igor analyses\\SWN\\230614\\0_1_ColorSWN_200_0...   \n",
       "169  2023-06-14  D:\\Igor analyses\\SWN\\230614\\0_1_ColorSWN_200_0...   \n",
       "170  2023-06-14  D:\\Igor analyses\\SWN\\230614\\0_1_ColorSWN_200_0...   \n",
       "\n",
       "                                 filename  \\\n",
       "0        2023-6-13_0_0_ColourSWN_200_0.h5   \n",
       "1        2023-6-13_0_0_ColourSWN_200_0.h5   \n",
       "2        2023-6-13_0_0_ColourSWN_200_0.h5   \n",
       "3        2023-6-13_0_0_ColourSWN_200_0.h5   \n",
       "4        2023-6-13_0_0_ColourSWN_200_0.h5   \n",
       "..                                    ...   \n",
       "166  2023-6-14_SMP_0_2_ColourSWN_200_0.h5   \n",
       "167  2023-6-14_SMP_0_2_ColourSWN_200_0.h5   \n",
       "168  2023-6-14_SMP_0_2_ColourSWN_200_0.h5   \n",
       "169  2023-6-14_SMP_0_2_ColourSWN_200_0.h5   \n",
       "170  2023-6-14_SMP_0_2_ColourSWN_200_0.h5   \n",
       "\n",
       "                                             curr_path strf_keys  \\\n",
       "0    D:\\Igor analyses\\SWN\\230613\\0_0_ColorSWN_200_0...   STRF0_0   \n",
       "1    D:\\Igor analyses\\SWN\\230613\\0_0_ColorSWN_200_0...   STRF0_1   \n",
       "2    D:\\Igor analyses\\SWN\\230613\\0_0_ColorSWN_200_0...   STRF0_2   \n",
       "3    D:\\Igor analyses\\SWN\\230613\\0_0_ColorSWN_200_0...   STRF0_3   \n",
       "4    D:\\Igor analyses\\SWN\\230613\\0_0_ColorSWN_200_0...   STRF0_4   \n",
       "..                                                 ...       ...   \n",
       "166  D:\\Igor analyses\\SWN\\230614\\0_1_ColorSWN_200_0...  STRF0_26   \n",
       "167  D:\\Igor analyses\\SWN\\230614\\0_1_ColorSWN_200_0...  STRF0_27   \n",
       "168  D:\\Igor analyses\\SWN\\230614\\0_1_ColorSWN_200_0...  STRF0_28   \n",
       "169  D:\\Igor analyses\\SWN\\230614\\0_1_ColorSWN_200_0...  STRF0_29   \n",
       "170  D:\\Igor analyses\\SWN\\230614\\0_1_ColorSWN_200_0...  STRF0_30   \n",
       "\n",
       "                                               cell_id  size  ipl_depths  \\\n",
       "0      2023-6-13_0_0_ColourSWN_200_006-13-2023_STRF0_0   200        74.0   \n",
       "1      2023-6-13_0_0_ColourSWN_200_006-13-2023_STRF0_1   200        10.0   \n",
       "2      2023-6-13_0_0_ColourSWN_200_006-13-2023_STRF0_2   200        48.0   \n",
       "3      2023-6-13_0_0_ColourSWN_200_006-13-2023_STRF0_3   200        67.0   \n",
       "4      2023-6-13_0_0_ColourSWN_200_006-13-2023_STRF0_4   200        90.0   \n",
       "..                                                 ...   ...         ...   \n",
       "166  2023-6-14_SMP_0_2_ColourSWN_200_006-14-2023_ST...   200        11.0   \n",
       "167  2023-6-14_SMP_0_2_ColourSWN_200_006-14-2023_ST...   200        12.0   \n",
       "168  2023-6-14_SMP_0_2_ColourSWN_200_006-14-2023_ST...   200        14.0   \n",
       "169  2023-6-14_SMP_0_2_ColourSWN_200_006-14-2023_ST...   200        10.0   \n",
       "170  2023-6-14_SMP_0_2_ColourSWN_200_006-14-2023_ST...   200         5.0   \n",
       "\n",
       "     opp_bool  ampl_375  ...  peakpos_478  peakpos_588  pol_375  pol_422  \\\n",
       "0        True  2.587312  ...        0.000        0.000      2.0      1.0   \n",
       "1        True  3.062069  ...        1.040        0.975      1.0      1.0   \n",
       "2        True  5.168010  ...        1.040        1.040      1.0      1.0   \n",
       "3        True -1.998763  ...        0.000        0.000      2.0      2.0   \n",
       "4        True  1.796746  ...        0.000        0.000      2.0     -1.0   \n",
       "..        ...       ...  ...          ...          ...      ...      ...   \n",
       "166      True  7.501882  ...        0.975        1.170      1.0     -1.0   \n",
       "167      True  4.855307  ...        1.105        1.040      1.0      2.0   \n",
       "168      True  4.572721  ...        1.105        0.845      1.0      1.0   \n",
       "169      True  2.169332  ...        1.235        0.585      1.0      2.0   \n",
       "170     False -2.601584  ...        1.105        1.105      2.0      2.0   \n",
       "\n",
       "     pol_478  pol_588  roi spatial_X  spatial_Y  temporal_len  \n",
       "0       -1.0     -1.0    0        24         40             4  \n",
       "1        2.0      2.0    1        24         40             4  \n",
       "2        2.0      2.0    2        24         40             4  \n",
       "3       -1.0     -1.0    3        24         40             4  \n",
       "4       -1.0     -1.0    4        24         40             4  \n",
       "..       ...      ...  ...       ...        ...           ...  \n",
       "166      2.0      2.0   26        24         40             4  \n",
       "167      2.0      2.0   27        24         40             4  \n",
       "168      2.0      2.0   28        24         40             4  \n",
       "169      2.0      2.0   29        24         40             4  \n",
       "170      2.0      2.0   30        24         40             4  \n",
       "\n",
       "[171 rows x 46 columns]"
      ]
     },
     "execution_count": 25,
     "metadata": {},
     "output_type": "execute_result"
    }
   ],
   "source": [
    "chroma_df = pygor.analyse.strf.chromatic_stats_df(exp)\n",
    "chroma_df"
   ]
  }
 ],
 "metadata": {
  "kernelspec": {
   "display_name": "strfclone",
   "language": "python",
   "name": "python3"
  },
  "language_info": {
   "codemirror_mode": {
    "name": "ipython",
    "version": 3
   },
   "file_extension": ".py",
   "mimetype": "text/x-python",
   "name": "python",
   "nbconvert_exporter": "python",
   "pygments_lexer": "ipython3",
   "version": "3.10.8"
  }
 },
 "nbformat": 4,
 "nbformat_minor": 2
}
