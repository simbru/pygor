{
 "cells": [
  {
   "cell_type": "code",
   "execution_count": 1,
   "metadata": {},
   "outputs": [
    {
     "name": "stderr",
     "output_type": "stream",
     "text": [
      "c:\\Users\\SimenLab\\miniconda3\\envs\\strfsclone\\lib\\site-packages\\skimage\\util\\dtype.py:27: DeprecationWarning: `np.bool8` is a deprecated alias for `np.bool_`.  (Deprecated NumPy 1.24)\n",
      "  np.bool8: (False, True),\n"
     ]
    },
    {
     "name": "stdout",
     "output_type": "stream",
     "text": [
      "Found 6 custom classes in C:\\Users\\SimenLab\\OneDrive\\Universitet\\PhD\\GitHub repos\\pygor\\src\\pygor\\classes\n",
      "Class names: ['CenterSurround', 'Core', 'Experiment', 'FullField', 'MovingBars', 'STRF']\n",
      "Access custom classes using 'from pygor.load import ClassName'\n"
     ]
    }
   ],
   "source": [
    "import pygor.load\n",
    "import pathlib\n",
    "import os\n",
    "import sys\n",
    "import importlib\n",
    "%reload_ext autoreload\n",
    "%autoreload 2"
   ]
  },
  {
   "cell_type": "code",
   "execution_count": 2,
   "metadata": {},
   "outputs": [
    {
     "name": "stdout",
     "output_type": "stream",
     "text": [
      "Class 'CenterSurround' is already imported, skipping.\n",
      "Class 'Core' is already imported, skipping.\n",
      "Class 'Experiment' is already imported, skipping.\n",
      "Class 'FullField' is already imported, skipping.\n",
      "Class 'MovingBars' is already imported, skipping.\n",
      "Class 'STRF' is already imported, skipping.\n",
      "Access custom classes using 'from pygor.load import ClassName'\n"
     ]
    },
    {
     "name": "stderr",
     "output_type": "stream",
     "text": [
      "C:\\Users\\SimenLab\\OneDrive\\Universitet\\PhD\\GitHub repos\\pygor\\src\\pygor\\load.py:37: UserWarning: Class 'CenterSurround' is already imported, skipping.\n",
      "  warnings.warn(f\"Class '{obj.__name__}' is already imported, skipping.\", UserWarning)\n",
      "C:\\Users\\SimenLab\\OneDrive\\Universitet\\PhD\\GitHub repos\\pygor\\src\\pygor\\load.py:37: UserWarning: Class 'Core' is already imported, skipping.\n",
      "  warnings.warn(f\"Class '{obj.__name__}' is already imported, skipping.\", UserWarning)\n",
      "C:\\Users\\SimenLab\\OneDrive\\Universitet\\PhD\\GitHub repos\\pygor\\src\\pygor\\load.py:37: UserWarning: Class 'Experiment' is already imported, skipping.\n",
      "  warnings.warn(f\"Class '{obj.__name__}' is already imported, skipping.\", UserWarning)\n",
      "C:\\Users\\SimenLab\\OneDrive\\Universitet\\PhD\\GitHub repos\\pygor\\src\\pygor\\load.py:37: UserWarning: Class 'FullField' is already imported, skipping.\n",
      "  warnings.warn(f\"Class '{obj.__name__}' is already imported, skipping.\", UserWarning)\n",
      "C:\\Users\\SimenLab\\OneDrive\\Universitet\\PhD\\GitHub repos\\pygor\\src\\pygor\\load.py:37: UserWarning: Class 'MovingBars' is already imported, skipping.\n",
      "  warnings.warn(f\"Class '{obj.__name__}' is already imported, skipping.\", UserWarning)\n",
      "C:\\Users\\SimenLab\\OneDrive\\Universitet\\PhD\\GitHub repos\\pygor\\src\\pygor\\load.py:37: UserWarning: Class 'STRF' is already imported, skipping.\n",
      "  warnings.warn(f\"Class '{obj.__name__}' is already imported, skipping.\", UserWarning)\n"
     ]
    }
   ],
   "source": [
    "pygor.load.dynamic_import()"
   ]
  },
  {
   "cell_type": "code",
   "execution_count": 20,
   "metadata": {},
   "outputs": [
    {
     "name": "stdout",
     "output_type": "stream",
     "text": [
      "Submodule: centre_surround, Class: CenterSurround\n",
      "Submodule: core_data, Class: Core\n",
      "Submodule: experiment, Class: Experiment\n",
      "Submodule: full_field, Class: FullField\n",
      "Submodule: moving_bars, Class: MovingBars\n",
      "Submodule: strf, Class: STRF\n"
     ]
    }
   ],
   "source": [
    "def get_submodules(main_module_name):\n",
    "    main_module = importlib.import_module(main_module_name)\n",
    "    submodules = []\n",
    "    for submodule_name in dir(main_module):\n",
    "        submodule = getattr(main_module, submodule_name)\n",
    "        if isinstance(submodule, type(main_module)) and submodule.__package__ == main_module.__package__:\n",
    "            submodules.append(submodule)\n",
    "    return submodules\n",
    "\n",
    "def get_submodule_class_names(main_module_name):\n",
    "    main_module = importlib.import_module(main_module_name)\n",
    "    submodules_with_classes = []\n",
    "    for submodule_name in dir(main_module):\n",
    "        submodule = getattr(main_module, submodule_name)\n",
    "        if isinstance(submodule, type(main_module)) and submodule.__package__ == main_module.__package__:\n",
    "            classes = [cls.__name__ for cls in vars(submodule).values() if isinstance(cls, type) and cls.__module__ == submodule.__name__]\n",
    "            if len(classes) == 1:\n",
    "                submodules_with_classes.append((submodule_name, classes[0]))\n",
    "    return submodules_with_classes\n",
    "\n",
    "# Example usage:\n",
    "main_module_name = 'pygor.classes'\n",
    "submodules_with_classes = get_submodule_class_names(main_module_name)\n",
    "submodules = get_submodules(main_module_name)\n",
    "for submodule_name, class_name in submodules_with_classes:\n",
    "    print(f\"Submodule: {submodule_name}, Class: {class_name}\")"
   ]
  },
  {
   "cell_type": "code",
   "execution_count": 27,
   "metadata": {},
   "outputs": [
    {
     "data": {
      "text/plain": [
       "[<module 'pygor.classes.centre_surround' from 'C:\\\\Users\\\\SimenLab\\\\OneDrive\\\\Universitet\\\\PhD\\\\GitHub repos\\\\pygor\\\\src\\\\pygor\\\\classes\\\\centre_surround.py'>,\n",
       " <module 'pygor.classes.core_data' from 'C:\\\\Users\\\\SimenLab\\\\OneDrive\\\\Universitet\\\\PhD\\\\GitHub repos\\\\pygor\\\\src\\\\pygor\\\\classes\\\\core_data.py'>,\n",
       " <module 'pygor.classes.experiment' from 'C:\\\\Users\\\\SimenLab\\\\OneDrive\\\\Universitet\\\\PhD\\\\GitHub repos\\\\pygor\\\\src\\\\pygor\\\\classes\\\\experiment.py'>,\n",
       " <module 'pygor.classes.full_field' from 'C:\\\\Users\\\\SimenLab\\\\OneDrive\\\\Universitet\\\\PhD\\\\GitHub repos\\\\pygor\\\\src\\\\pygor\\\\classes\\\\full_field.py'>,\n",
       " <module 'pygor.classes.moving_bars' from 'C:\\\\Users\\\\SimenLab\\\\OneDrive\\\\Universitet\\\\PhD\\\\GitHub repos\\\\pygor\\\\src\\\\pygor\\\\classes\\\\moving_bars.py'>,\n",
       " <module 'pygor.classes.strf' from 'C:\\\\Users\\\\SimenLab\\\\OneDrive\\\\Universitet\\\\PhD\\\\GitHub repos\\\\pygor\\\\src\\\\pygor\\\\classes\\\\strf.py'>]"
      ]
     },
     "execution_count": 27,
     "metadata": {},
     "output_type": "execute_result"
    }
   ],
   "source": [
    "submodules"
   ]
  },
  {
   "cell_type": "code",
   "execution_count": 22,
   "metadata": {},
   "outputs": [
    {
     "data": {
      "text/plain": [
       "[('centre_surround', 'CenterSurround'),\n",
       " ('core_data', 'Core'),\n",
       " ('experiment', 'Experiment'),\n",
       " ('full_field', 'FullField'),\n",
       " ('moving_bars', 'MovingBars'),\n",
       " ('strf', 'STRF')]"
      ]
     },
     "execution_count": 22,
     "metadata": {},
     "output_type": "execute_result"
    }
   ],
   "source": [
    "submodules_with_classes"
   ]
  },
  {
   "cell_type": "code",
   "execution_count": 42,
   "metadata": {},
   "outputs": [
    {
     "name": "stdout",
     "output_type": "stream",
     "text": [
      "<class 'pygor.classes.centre_surround.CenterSurround'>\n",
      "<class 'pygor.classes.core_data.Core'>\n",
      "<class 'pygor.classes.experiment.Experiment'>\n",
      "<class 'pygor.classes.full_field.FullField'>\n",
      "<class 'pygor.classes.moving_bars.MovingBars'>\n",
      "<class 'pygor.classes.strf.STRF'>\n"
     ]
    }
   ],
   "source": [
    "main_module = \"pygor.classes\"\n",
    "submodules_with_classes = get_submodule_class_names(main_module)\n",
    "for submodule, user_class in submodules_with_classes:\n",
    "    submodule_full = main_module + \".\" + submodule\n",
    "    submodule_obj = importlib.import_module(submodule_full)\n",
    "    class_obj = getattr(submodule_obj, user_class)"
   ]
  },
  {
   "cell_type": "code",
   "execution_count": 3,
   "metadata": {},
   "outputs": [
    {
     "name": "stderr",
     "output_type": "stream",
     "text": [
      "C:\\Users\\SimenLab\\OneDrive\\Universitet\\PhD\\GitHub repos\\pygor\\src\\pygor\\classes\\strf.py:65: UserWarning: Rotation detected and corrected for c:\\Users\\SimenLab\\OneDrive\\Universitet\\PhD\\GitHub repos\\pygor\\Example_data\\example_exp.h5\n",
      "  self.strfs = pygor.data_helpers.load_strf(HDF5_file)\n"
     ]
    }
   ],
   "source": [
    "repo = pathlib.Path(os.getcwd()).parent\n",
    "example_data = repo.joinpath(repo, \"Example_data/example_exp.h5\")\n",
    "test_strf = pygor.analyses.STRF(example_data)\n",
    "test_data = pygor.analyses.Core(example_data)"
   ]
  },
  {
   "cell_type": "code",
   "execution_count": 5,
   "metadata": {},
   "outputs": [
    {
     "data": {
      "image/png": "[encoded data removed]",
      "text/plain": [
       "<Figure size 640x480 with 1 Axes>"
      ]
     },
     "metadata": {},
     "output_type": "display_data"
    }
   ],
   "source": [
    "test_data.view_drift()"
   ]
  },
  {
   "cell_type": "code",
   "execution_count": 8,
   "metadata": {},
   "outputs": [
    {
     "data": {
      "image/png": "[encoded data removed]",
      "text/plain": [
       "<Figure size 500x500 with 1 Axes>"
      ]
     },
     "metadata": {},
     "output_type": "display_data"
    }
   ],
   "source": [
    "test_data.view_stack_rois()"
   ]
  },
  {
   "cell_type": "code",
   "execution_count": 4,
   "metadata": {},
   "outputs": [
    {
     "data": {
      "text/plain": [
       "nan"
      ]
     },
     "execution_count": 4,
     "metadata": {},
     "output_type": "execute_result"
    }
   ],
   "source": [
    "test_data.averages"
   ]
  },
  {
   "cell_type": "code",
   "execution_count": 11,
   "metadata": {},
   "outputs": [
    {
     "ename": "AttributeError",
     "evalue": "self.averages is nan, meaning it has likely not been generated",
     "output_type": "error",
     "traceback": [
      "\u001b[1;31m---------------------------------------------------------------------------\u001b[0m",
      "\u001b[1;31mAttributeError\u001b[0m                            Traceback (most recent call last)",
      "\u001b[1;32mc:\\Users\\Simen\\OneDrive\\Universitet\\PhD\\GitHub repos\\pygor\\Notebooks\\refactor_testing.ipynb Cell 4\u001b[0m line \u001b[0;36m1\n\u001b[1;32m----> <a href='vscode-notebook-cell:/c%3A/Users/Simen/OneDrive/Universitet/PhD/GitHub%20repos/pygor/Notebooks/refactor_testing.ipynb#W5sZmlsZQ%3D%3D?line=0'>1</a>\u001b[0m test\u001b[39m.\u001b[39;49mplot_averages()\n",
      "File \u001b[1;32m~\\OneDrive\\Universitet\\PhD\\GitHub repos\\pygor\\src\\pygor\\classes\\core_data.py:258\u001b[0m, in \u001b[0;36mCore.plot_averages\u001b[1;34m(self, rois, figsize, figsize_scale, axs, **kwargs)\u001b[0m\n\u001b[0;32m    256\u001b[0m \u001b[39m# Handle arguments, keywords, and exceptions\u001b[39;00m\n\u001b[0;32m    257\u001b[0m \u001b[39mif\u001b[39;00m np\u001b[39m.\u001b[39misnan(\u001b[39mself\u001b[39m\u001b[39m.\u001b[39maverages) \u001b[39m==\u001b[39m \u001b[39mTrue\u001b[39;00m:\n\u001b[1;32m--> 258\u001b[0m     \u001b[39mraise\u001b[39;00m \u001b[39mAttributeError\u001b[39;00m(\u001b[39m\"\u001b[39m\u001b[39mself.averages is nan, meaning it has likely not been generated\u001b[39m\u001b[39m\"\u001b[39m)\n\u001b[0;32m    259\u001b[0m \u001b[39mif\u001b[39;00m \u001b[39misinstance\u001b[39m(rois, Iterable) \u001b[39mis\u001b[39;00m \u001b[39mFalse\u001b[39;00m \u001b[39mand\u001b[39;00m \u001b[39mnot\u001b[39;00m rois: \u001b[39m# I dont like this solution, but it gets around user ambigouity error if passing numpy array\u001b[39;00m\n\u001b[0;32m    260\u001b[0m     rois \u001b[39m=\u001b[39m np\u001b[39m.\u001b[39marange(\u001b[39m0\u001b[39m, \u001b[39mself\u001b[39m\u001b[39m.\u001b[39mnum_rois)\n",
      "\u001b[1;31mAttributeError\u001b[0m: self.averages is nan, meaning it has likely not been generated"
     ]
    }
   ],
   "source": [
    "test.plot_averages()"
   ]
  },
  {
   "cell_type": "code",
   "execution_count": null,
   "metadata": {},
   "outputs": [],
   "source": []
  },
  {
   "cell_type": "code",
   "execution_count": 19,
   "metadata": {},
   "outputs": [
    {
     "name": "stderr",
     "output_type": "stream",
     "text": [
      "C:\\Users\\Simen\\OneDrive\\Universitet\\PhD\\GitHub repos\\pygor\\src\\pygor\\classes\\strf.py:65: UserWarning: Rotation detected and corrected for c:\\Users\\Simen\\OneDrive\\Universitet\\PhD\\GitHub repos\\pygor\\Example_data\\example_exp.h5\n",
      "  self.strfs = pygor.data_helpers.load_strf(HDF5_file)\n",
      "."
     ]
    },
    {
     "name": "stdout",
     "output_type": "stream",
     "text": [
      "Disallowed keys: ['bs_already_ran', 'bs_datetime', 'bs_datetime_str', 'bs_dur_timedelta']\n"
     ]
    },
    {
     "name": "stderr",
     "output_type": "stream",
     "text": [
      "C:\\Users\\Simen\\OneDrive\\Universitet\\PhD\\GitHub repos\\pygor\\src\\pygor\\classes\\strf.py:179: UserWarning: Input anomalies found\n",
      "  warnings.warn(warning_string, stacklevel=0)\n"
     ]
    },
    {
     "data": {
      "application/vnd.jupyter.widget-view+json": {
       "model_id": "cdff5595a3cb4f1abdac636ce917547f",
       "version_major": 2,
       "version_minor": 0
      },
      "text/plain": [
       "Hang on, bootstrapping pygor.temporal components 10 times:   0%|          | 0/44 [00:00<?, ?it/s]"
      ]
     },
     "metadata": {},
     "output_type": "display_data"
    },
    {
     "data": {
      "application/vnd.jupyter.widget-view+json": {
       "model_id": "c86722822df74f1383c8d025b517d421",
       "version_major": 2,
       "version_minor": 0
      },
      "text/plain": [
       "Hang on, bootstrapping spatial components 10 times:   0%|          | 0/44 [00:00<?, ?it/s]"
      ]
     },
     "metadata": {},
     "output_type": "display_data"
    },
    {
     "name": "stderr",
     "output_type": "stream",
     "text": [
      ".."
     ]
    },
    {
     "name": "stdout",
     "output_type": "stream",
     "text": [
      "Storing as: C:\\Users\\Simen\\OneDrive\\Universitet\\PhD\\GitHub repos\\pygor\\tests\\test.pkl\r"
     ]
    },
    {
     "name": "stderr",
     "output_type": "stream",
     "text": [
      ".C:\\Users\\Simen\\OneDrive\\Universitet\\PhD\\GitHub repos\\pygor\\src\\pygor\\classes\\core_data.py:326: UserWarning: No repetitions detected, returning original images\n",
      "  warnings.warn(\"No repetitions detected, returning original images\")\n",
      "c:\\Users\\Simen\\miniconda3\\envs\\strfclone\\lib\\site-packages\\numpy\\lib\\function_base.py:518: RuntimeWarning: Mean of empty slice.\n",
      "  avg = a.mean(axis, **keepdims_kw)\n",
      "c:\\Users\\Simen\\miniconda3\\envs\\strfclone\\lib\\site-packages\\numpy\\core\\_methods.py:184: RuntimeWarning: invalid value encountered in divide\n",
      "  ret = um.true_divide(\n",
      "C:\\Users\\Simen\\OneDrive\\Universitet\\PhD\\GitHub repos\\pygor\\tests\\STRF_unit_test.py:30: UserWarning: Method get_help gave AttributeError\n",
      "  warnings.warn(f\"Method {i} gave AttributeError\")\n",
      "C:\\Users\\Simen\\OneDrive\\Universitet\\PhD\\GitHub repos\\pygor\\tests\\STRF_unit_test.py:30: UserWarning: Method plot_averages gave AttributeError\n",
      "  warnings.warn(f\"Method {i} gave AttributeError\")\n",
      "C:\\Users\\Simen\\OneDrive\\Universitet\\PhD\\GitHub repos\\pygor\\src\\pygor\\classes\\strf.py:598: UserWarning: size stimates in arbitrary cartesian units\n",
      "  warnings.warn(\"size stimates in arbitrary cartesian units\")\n",
      ".\n",
      "----------------------------------------------------------------------\n",
      "Ran 5 tests in 30.670s\n",
      "\n",
      "OK\n"
     ]
    }
   ],
   "source": [
    "%run -e ../tests/STRF_unit_test.py"
   ]
  },
  {
   "cell_type": "code",
   "execution_count": 156,
   "metadata": {},
   "outputs": [
    {
     "data": {
      "text/plain": [
       "'c:\\\\Users\\\\Simen\\\\OneDrive\\\\Universitet\\\\PhD\\\\GitHub repos\\\\pygor'"
      ]
     },
     "execution_count": 156,
     "metadata": {},
     "output_type": "execute_result"
    }
   ],
   "source": [
    "import os, pathlib\n",
    "os.getcwd()"
   ]
  },
  {
   "cell_type": "code",
   "execution_count": 157,
   "metadata": {},
   "outputs": [
    {
     "name": "stdout",
     "output_type": "stream",
     "text": [
      "Storing as: c:\\Users\\Simen\\OneDrive\\Universitet\\PhD\\GitHub repos\\pygor\\test.pkl\r"
     ]
    }
   ],
   "source": [
    "test.save_pkl(os.getcwd(), \"test.pkl\")"
   ]
  },
  {
   "cell_type": "code",
   "execution_count": 35,
   "metadata": {},
   "outputs": [],
   "source": [
    "import matplotlib.pyplot as plt"
   ]
  },
  {
   "cell_type": "code",
   "execution_count": 73,
   "metadata": {},
   "outputs": [
    {
     "data": {
      "text/plain": [
       "1.1945252774937223"
      ]
     },
     "execution_count": 73,
     "metadata": {},
     "output_type": "execute_result"
    }
   ],
   "source": [
    "pygor.temporal.spectral_centroid(test.timecourses()[5, 0])[2]\n"
   ]
  },
  {
   "cell_type": "code",
   "execution_count": null,
   "metadata": {},
   "outputs": [],
   "source": [
    "STRF.save_pkl"
   ]
  },
  {
   "cell_type": "code",
   "execution_count": 13,
   "metadata": {},
   "outputs": [
    {
     "data": {
      "text/plain": [
       "array([[[  0.        ,   0.17049172,   1.04181407, ..., -12.12025019,\n",
       "          -8.3210439 ,  -4.39089154],\n",
       "        [  0.        ,   0.        ,   0.        , ...,   0.        ,\n",
       "           0.        ,   0.        ]],\n",
       "\n",
       "       [[  0.        ,   0.19939171,   0.4548505 , ...,  -4.03171814,\n",
       "          -2.95838338,  -1.57717028],\n",
       "        [  0.        ,   0.        ,   0.        , ...,   0.        ,\n",
       "           0.        ,   0.        ]],\n",
       "\n",
       "       [[  0.        ,  -0.27492294,  -0.49753022, ...,  -1.09266983,\n",
       "          -0.93472604,  -0.96576875],\n",
       "        [  0.        ,   0.05597824,  -0.22194533, ...,   0.91855563,\n",
       "           1.07363275,   0.98545719]],\n",
       "\n",
       "       ...,\n",
       "\n",
       "       [[  0.        ,   0.42344721,   0.6805734 , ...,  -1.81246486,\n",
       "          -0.56769558,  -0.21154422],\n",
       "        [  0.        ,   0.61964027,   1.24321724, ...,   2.64093108,\n",
       "           3.1640968 ,   2.41279266]],\n",
       "\n",
       "       [[  0.        ,   0.        ,   0.        , ...,   0.        ,\n",
       "           0.        ,   0.        ],\n",
       "        [  0.        ,  -0.16979411,  -0.30565496, ...,   2.37192575,\n",
       "           1.50008226,   1.12481411]],\n",
       "\n",
       "       [[  0.        ,   0.        ,   0.        , ...,   0.        ,\n",
       "           0.        ,   0.        ],\n",
       "        [  0.        ,  -0.13285247,  -0.6189168 , ...,   3.45788104,\n",
       "           2.08176497,   1.00507894]]])"
      ]
     },
     "execution_count": 13,
     "metadata": {},
     "output_type": "execute_result"
    }
   ],
   "source": [
    "test.timecourses().data"
   ]
  },
  {
   "cell_type": "code",
   "execution_count": 7,
   "metadata": {},
   "outputs": [
    {
     "data": {
      "text/plain": [
       "1"
      ]
     },
     "execution_count": 7,
     "metadata": {},
     "output_type": "execute_result"
    }
   ],
   "source": [
    "test.phase_num"
   ]
  },
  {
   "cell_type": "code",
   "execution_count": 54,
   "metadata": {},
   "outputs": [
    {
     "name": "stdout",
     "output_type": "stream",
     "text": [
      "\n",
      "Welcome to your data object! \n",
      "Below are attributes and methods, as well as some metadata.\n",
      "Pass 'hint = True' for more tips and hints on using the data class.\n",
      "    ## Class info:\n",
      "        Current data type: \n",
      "        ['STRF']\n",
      "        Current metadata: \n",
      "       { 'exp_date': datetime.date(2023, 11, 14),\n",
      "         'exp_time': datetime.time(16, 16, 15),\n",
      "         'filename': 'C:\\\\Users\\\\Simen\\\\Downloads\\\\2023-11-14_0_0_SWN_200_Colours.h5',\n",
      "         'objectiveXYZ': (-126820.0, -74368.0, -124050.0)}\n",
      "\n",
      "    ## Attributes\n",
      "        Here's the data you have access to -> pass 'types = True' for type hints, attr (type):\n",
      "    [ 'averages', 'bs_bool', 'bs_settings', 'data_types', 'filename', 'frame_hz', 'images', 'ipl_depths',\n",
      "      'metadata', 'ms_dur', 'multicolour', 'name', 'num_rois', 'num_strfs', 'numcolour', 'phase_num', 'rois',\n",
      "      'snippets', 'strf_keys', 'strfs', 'trigger_mode', 'triggerstimes_frame', 'triggertimes', 'type']\n",
      "    \n",
      "    ## Methods\n",
      "        Here's some actions you have -> pass 'types = True' for type hints, func (return type):\n",
      "    [ 'calc_LED_offset', 'calculate_average_images', 'collapse_times', 'contours', 'contours_area',\n",
      "      'contours_centres', 'contours_centres_by_pol', 'contours_centroids', 'contours_complexities',\n",
      "      'contours_count', 'dominant_timecourses', 'get_bootstrap_settings', 'get_help', 'opponency_bool',\n",
      "      'plot_averages', 'plot_chromatic_overview', 'polarities', 'polarity_category', 'pval_space', 'pval_time',\n",
      "      'pvals_table', 'rf_masks', 'rf_masks_combined', 'run_bootstrap', 'save_pkl',\n",
      "      'set_default_bootstrap_settings', 'spectral_centroids', 'spectrums', 'strf_masks', 'timecourses',\n",
      "      'timecourses_noncentred', 'tunings_amplitude', 'tunings_area', 'tunings_centroids', 'tunings_peaktime',\n",
      "      'update_bootstrap_settings', 'view_drift', 'view_stack_projection', 'view_stack_rois']\n",
      "\n",
      "    NB: Feel free to write your own attributes (data) and methods (actions)!\n",
      "    Happy analysin' (:\n",
      "    "
     ]
    }
   ],
   "source": [
    "test.get_help()"
   ]
  },
  {
   "cell_type": "code",
   "execution_count": 4,
   "metadata": {},
   "outputs": [
    {
     "ename": "AttributeError",
     "evalue": "module 'pygor.data_objs' has no attribute 'data_objects_beta'",
     "output_type": "error",
     "traceback": [
      "\u001b[1;31m---------------------------------------------------------------------------\u001b[0m",
      "\u001b[1;31mAttributeError\u001b[0m                            Traceback (most recent call last)",
      "\u001b[1;32mc:\\Users\\Simen\\OneDrive\\Universitet\\PhD\\GitHub repos\\pygor\\refactor_testing.ipynb Cell 2\u001b[0m line \u001b[0;36m1\n\u001b[1;32m----> <a href='vscode-notebook-cell:/c%3A/Users/Simen/OneDrive/Universitet/PhD/GitHub%20repos/pygor/refactor_testing.ipynb#W2sZmlsZQ%3D%3D?line=0'>1</a>\u001b[0m pygor\u001b[39m.\u001b[39;49mdata_objs\u001b[39m.\u001b[39;49mdata_objects_beta\n",
      "\u001b[1;31mAttributeError\u001b[0m: module 'pygor.data_objs' has no attribute 'data_objects_beta'"
     ]
    }
   ],
   "source": [
    "pygor.data_objs.data_objects_beta"
   ]
  }
 ],
 "metadata": {
  "kernelspec": {
   "display_name": "strf",
   "language": "python",
   "name": "python3"
  },
  "language_info": {
   "codemirror_mode": {
    "name": "ipython",
    "version": 3
   },
   "file_extension": ".py",
   "mimetype": "text/x-python",
   "name": "python",
   "nbconvert_exporter": "python",
   "pygments_lexer": "ipython3",
   "version": "3.10.8"
  }
 },
 "nbformat": 4,
 "nbformat_minor": 2
}
