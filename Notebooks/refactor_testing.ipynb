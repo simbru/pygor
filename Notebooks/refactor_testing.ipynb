{
 "cells": [
  {
   "cell_type": "code",
   "execution_count": 5,
   "metadata": {},
   "outputs": [],
   "source": [
    "import pygor.load\n",
    "import pathlib\n",
    "import os\n",
    "import sys\n",
    "import importlib\n",
    "%reload_ext autoreload\n",
    "%autoreload 2"
   ]
  },
  {
   "cell_type": "code",
   "execution_count": 8,
   "metadata": {},
   "outputs": [
    {
     "name": "stdout",
     "output_type": "stream",
     "text": [
      "Access custom classes using 'from pygor.load import ClassName'\n"
     ]
    },
    {
     "name": "stderr",
     "output_type": "stream",
     "text": [
      "C:\\Users\\SimenLab\\OneDrive\\Universitet\\PhD\\GitHub repos\\pygor\\src\\pygor\\load.py:36: UserWarning: Class 'CenterSurround' is already imported, skipping.\n",
      "  print(f\"Class '{obj.__name__}' is already imported, skipping.\")\n",
      "C:\\Users\\SimenLab\\OneDrive\\Universitet\\PhD\\GitHub repos\\pygor\\src\\pygor\\load.py:36: UserWarning: Class 'Core' is already imported, skipping.\n",
      "  print(f\"Class '{obj.__name__}' is already imported, skipping.\")\n",
      "C:\\Users\\SimenLab\\OneDrive\\Universitet\\PhD\\GitHub repos\\pygor\\src\\pygor\\load.py:36: UserWarning: Class 'Experiment' is already imported, skipping.\n",
      "  print(f\"Class '{obj.__name__}' is already imported, skipping.\")\n",
      "C:\\Users\\SimenLab\\OneDrive\\Universitet\\PhD\\GitHub repos\\pygor\\src\\pygor\\load.py:36: UserWarning: Class 'FullField' is already imported, skipping.\n",
      "  print(f\"Class '{obj.__name__}' is already imported, skipping.\")\n",
      "C:\\Users\\SimenLab\\OneDrive\\Universitet\\PhD\\GitHub repos\\pygor\\src\\pygor\\load.py:36: UserWarning: Class 'MovingBars' is already imported, skipping.\n",
      "  print(f\"Class '{obj.__name__}' is already imported, skipping.\")\n",
      "C:\\Users\\SimenLab\\OneDrive\\Universitet\\PhD\\GitHub repos\\pygor\\src\\pygor\\load.py:36: UserWarning: Class 'STRF' is already imported, skipping.\n",
      "  print(f\"Class '{obj.__name__}' is already imported, skipping.\")\n"
     ]
    }
   ],
   "source": [
    "pygor.load.dynamic_import()"
   ]
  },
  {
   "cell_type": "code",
   "execution_count": 65,
   "metadata": {},
   "outputs": [
    {
     "name": "stdout",
     "output_type": "stream",
     "text": [
      "Microsoft Windows [Version 10.0.19045.4170]\n",
      "(c) Microsoft Corporation. All rights reserved.\n",
      "\n",
      "(strfsclone) c:\\Users\\SimenLab\\OneDrive\\Universitet\\PhD\\GitHub repos\\pygor\\Notebooks>cd ..\n",
      "\n",
      "(strfsclone) c:\\Users\\SimenLab\\OneDrive\\Universitet\\PhD\\GitHub repos\\pygor>cd src/pygor\n",
      "\n",
      "(strfsclone) c:\\Users\\SimenLab\\OneDrive\\Universitet\\PhD\\GitHub repos\\pygor\\src\\pygor>python -m unittest discover test\n"
     ]
    },
    {
     "name": "stderr",
     "output_type": "stream",
     "text": [
      "c:\\Users\\SimenLab\\miniconda3\\envs\\strfsclone\\lib\\site-packages\\skimage\\util\\dtype.py:27: DeprecationWarning: `np.bool8` is a deprecated alias for `np.bool_`.  (Deprecated NumPy 1.24)\n",
      "  np.bool8: (False, True),\n",
      "c:\\Users\\SimenLab\\miniconda3\\envs\\strfsclone\\lib\\site-packages\\jupyter_client\\connect.py:20: DeprecationWarning: Jupyter is migrating its paths to use standard platformdirs\n",
      "given by the platformdirs library.  To remove this warning and\n",
      "see the appropriate new directories, set the environment variable\n",
      "`JUPYTER_PLATFORM_DIRS=1` and then run `jupyter --paths`.\n",
      "The use of platformdirs will be the default in `jupyter_core` v6\n",
      "  from jupyter_core.paths import jupyter_data_dir, jupyter_runtime_dir, secure_write\n"
     ]
    },
    {
     "name": "stdout",
     "output_type": "stream",
     "text": [
      "Found 6 custom classes in C:\\Users\\SimenLab\\OneDrive\\Universitet\\PhD\\GitHub repos\\pygor\\src\\pygor\\classes\n",
      "Class names: ['CenterSurround', 'Core', 'Experiment', 'FullField', 'MovingBars', 'STRF']\n",
      "Access custom classes using 'from pygor.load import ClassName'\n"
     ]
    },
    {
     "name": "stderr",
     "output_type": "stream",
     "text": [
      "EEC:\\Users\\SimenLab\\OneDrive\\Universitet\\PhD\\GitHub repos\\pygor\\src\\pygor\\load.py:36: UserWarning: Class 'CenterSurround' is already imported, skipping.\n",
      "  warnings.warn(f\"Class '{obj.__name__}' is already imported, skipping.\", UserWarning)\n",
      "C:\\Users\\SimenLab\\OneDrive\\Universitet\\PhD\\GitHub repos\\pygor\\src\\pygor\\load.py:36: UserWarning: Class 'Core' is already imported, skipping.\n",
      "  warnings.warn(f\"Class '{obj.__name__}' is already imported, skipping.\", UserWarning)\n",
      "C:\\Users\\SimenLab\\OneDrive\\Universitet\\PhD\\GitHub repos\\pygor\\src\\pygor\\load.py:36: UserWarning: Class 'Experiment' is already imported, skipping.\n",
      "  warnings.warn(f\"Class '{obj.__name__}' is already imported, skipping.\", UserWarning)\n",
      "C:\\Users\\SimenLab\\OneDrive\\Universitet\\PhD\\GitHub repos\\pygor\\src\\pygor\\load.py:36: UserWarning: Class 'FullField' is already imported, skipping.\n",
      "  warnings.warn(f\"Class '{obj.__name__}' is already imported, skipping.\", UserWarning)\n",
      "C:\\Users\\SimenLab\\OneDrive\\Universitet\\PhD\\GitHub repos\\pygor\\src\\pygor\\load.py:36: UserWarning: Class 'MovingBars' is already imported, skipping.\n",
      "  warnings.warn(f\"Class '{obj.__name__}' is already imported, skipping.\", UserWarning)\n",
      "C:\\Users\\SimenLab\\OneDrive\\Universitet\\PhD\\GitHub repos\\pygor\\src\\pygor\\load.py:36: UserWarning: Class 'STRF' is already imported, skipping.\n",
      "  warnings.warn(f\"Class '{obj.__name__}' is already imported, skipping.\", UserWarning)\n",
      "..\n",
      "======================================================================\n",
      "ERROR: test_Core (unittest.loader._FailedTest)\n",
      "----------------------------------------------------------------------\n",
      "ImportError: Failed to import test module: test_Core\n",
      "Traceback (most recent call last):\n",
      "  File \"c:\\Users\\SimenLab\\miniconda3\\envs\\strfsclone\\lib\\unittest\\loader.py\", line 436, in _find_test_path\n",
      "    module = self._get_module_from_name(name)\n",
      "  File \"c:\\Users\\SimenLab\\miniconda3\\envs\\strfsclone\\lib\\unittest\\loader.py\", line 377, in _get_module_from_name\n",
      "    __import__(name)\n",
      "  File \"c:\\Users\\SimenLab\\OneDrive\\Universitet\\PhD\\GitHub repos\\pygor\\src\\pygor\\test\\test_Core.py\", line 1, in <module>\n",
      "    import pygor.analyses\n",
      "ModuleNotFoundError: No module named 'pygor.analyses'\n",
      "\n",
      "\n",
      "======================================================================\n",
      "ERROR: test_STRF (unittest.loader._FailedTest)\n",
      "----------------------------------------------------------------------\n",
      "ImportError: Failed to import test module: test_STRF\n",
      "Traceback (most recent call last):\n",
      "  File \"c:\\Users\\SimenLab\\miniconda3\\envs\\strfsclone\\lib\\unittest\\loader.py\", line 436, in _find_test_path\n",
      "    module = self._get_module_from_name(name)\n",
      "  File \"c:\\Users\\SimenLab\\miniconda3\\envs\\strfsclone\\lib\\unittest\\loader.py\", line 377, in _get_module_from_name\n",
      "    __import__(name)\n",
      "  File \"c:\\Users\\SimenLab\\OneDrive\\Universitet\\PhD\\GitHub repos\\pygor\\src\\pygor\\test\\test_STRF.py\", line 13, in <module>\n",
      "    strfs = pygor.load.STRF(example_data)\n",
      "  File \"<string>\", line 12, in __init__\n",
      "  File \"C:\\Users\\SimenLab\\OneDrive\\Universitet\\PhD\\GitHub repos\\pygor\\src\\pygor\\classes\\strf.py\", line 46, in __post_init__\n",
      "    super().__post_init__()\n",
      "  File \"C:\\Users\\SimenLab\\OneDrive\\Universitet\\PhD\\GitHub repos\\pygor\\src\\pygor\\classes\\core_data.py\", line 48, in __post_init__\n",
      "    with h5py.File(self.filename, 'r') as HDF5_file:\n",
      "  File \"c:\\Users\\SimenLab\\miniconda3\\envs\\strfsclone\\lib\\site-packages\\h5py\\_hl\\files.py\", line 533, in __init__\n",
      "    fid = make_fid(name, mode, userblock_size, fapl, fcpl, swmr=swmr)\n",
      "  File \"c:\\Users\\SimenLab\\miniconda3\\envs\\strfsclone\\lib\\site-packages\\h5py\\_hl\\files.py\", line 226, in make_fid\n",
      "    fid = h5f.open(name, flags, fapl=fapl)\n",
      "  File \"h5py\\_objects.pyx\", line 54, in h5py._objects.with_phil.wrapper\n",
      "  File \"h5py\\_objects.pyx\", line 55, in h5py._objects.with_phil.wrapper\n",
      "  File \"h5py\\h5f.pyx\", line 106, in h5py.h5f.open\n",
      "FileNotFoundError: [Errno 2] Unable to open file (unable to open file: name = 'c:\\Users\\SimenLab\\OneDrive\\Universitet\\PhD\\GitHub repos\\pygor\\src\\pygor\\Example_data\\example_exp.h5', errno = 2, error message = 'No such file or directory', flags = 0, o_flags = 0)\n",
      "\n",
      "\n",
      "----------------------------------------------------------------------\n",
      "Ran 4 tests in 0.002s\n",
      "\n",
      "FAILED (errors=2)\n"
     ]
    },
    {
     "name": "stdout",
     "output_type": "stream",
     "text": [
      "Access custom classes using 'from pygor.load import ClassName'\n",
      "\n",
      "(strfsclone) c:\\Users\\SimenLab\\OneDrive\\Universitet\\PhD\\GitHub repos\\pygor\\src\\pygor>"
     ]
    }
   ],
   "source": [
    "%%cmd\n",
    "cd ..\n",
    "cd src/pygor\n",
    "python -m unittest discover test"
   ]
  }
 ],
 "metadata": {
  "kernelspec": {
   "display_name": "strf",
   "language": "python",
   "name": "python3"
  },
  "language_info": {
   "codemirror_mode": {
    "name": "ipython",
    "version": 3
   },
   "file_extension": ".py",
   "mimetype": "text/x-python",
   "name": "python",
   "nbconvert_exporter": "python",
   "pygments_lexer": "ipython3",
   "version": "3.10.8"
  }
 },
 "nbformat": 4,
 "nbformat_minor": 2
}
