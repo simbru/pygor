{
 "cells": [
  {
   "cell_type": "code",
   "execution_count": 1,
   "metadata": {},
   "outputs": [],
   "source": [
    "import pygor.test\n",
    "%reload_ext autoreload\n",
    "%autoreload 2"
   ]
  },
  {
   "cell_type": "code",
   "execution_count": 7,
   "metadata": {},
   "outputs": [
    {
     "data": {
      "text/plain": [
       "True"
      ]
     },
     "execution_count": 7,
     "metadata": {},
     "output_type": "execute_result"
    }
   ],
   "source": [
    "a = None\n",
    "a is None"
   ]
  },
  {
   "cell_type": "markdown",
   "metadata": {},
   "source": [
    "Run tests"
   ]
  },
  {
   "cell_type": "code",
   "execution_count": 14,
   "metadata": {},
   "outputs": [
    {
     "name": "stdout",
     "output_type": "stream",
     "text": [
      "Microsoft Windows [Version 10.0.22631.3447]\n",
      "(c) Microsoft Corporation. All rights reserved.\n",
      "\n",
      "(strfclone) c:\\Users\\Simen\\Git_repos\\pygor\\Notebooks>cd ..\n",
      "\n",
      "(strfclone) c:\\Users\\Simen\\Git_repos\\pygor>cd src/pygor\n",
      "\n",
      "(strfclone) c:\\Users\\Simen\\Git_repos\\pygor\\src\\pygor>python -m unittest discover test\n"
     ]
    },
    {
     "name": "stderr",
     "output_type": "stream",
     "text": [
      "c:\\Users\\Simen\\miniconda3\\envs\\strfclone\\lib\\site-packages\\skimage\\util\\dtype.py:27: DeprecationWarning: `np.bool8` is a deprecated alias for `np.bool_`.  (Deprecated NumPy 1.24)\n",
      "  np.bool8: (False, True),\n",
      "c:\\Users\\Simen\\miniconda3\\envs\\strfclone\\lib\\site-packages\\jupyter_client\\connect.py:27: DeprecationWarning: Jupyter is migrating its paths to use standard platformdirs\n",
      "given by the platformdirs library.  To remove this warning and\n",
      "see the appropriate new directories, set the environment variable\n",
      "`JUPYTER_PLATFORM_DIRS=1` and then run `jupyter --paths`.\n",
      "The use of platformdirs will be the default in `jupyter_core` v6\n",
      "  from jupyter_core.paths import jupyter_data_dir\n"
     ]
    },
    {
     "name": "stdout",
     "output_type": "stream",
     "text": [
      "Found 6 custom classes in C:\\Users\\Simen\\Git_repos\\pygor\\src\\pygor\\classes\n",
      "Class names: ['CenterSurround', 'Core', 'Experiment', 'FullField', 'MovingBars', 'STRF']\n",
      "Access custom classes using 'from pygor.load import ClassName'\n"
     ]
    },
    {
     "name": "stderr",
     "output_type": "stream",
     "text": [
      "C:\\Users\\Simen\\Git_repos\\pygor\\src\\pygor\\classes\\core_data.py:76: UserWarning: 'Averages0' not found in c:\\Users\\Simen\\Git_repos\\pygor\\src\\pygor\\examples\\strf_demo_data.h5, setting to np.nan\n",
      "  self.averages = try_fetch(HDF5_file, \"Averages0\")\n",
      "C:\\Users\\Simen\\Git_repos\\pygor\\src\\pygor\\classes\\core_data.py:77: UserWarning: 'Snippets0' not found in c:\\Users\\Simen\\Git_repos\\pygor\\src\\pygor\\examples\\strf_demo_data.h5, setting to np.nan\n",
      "  self.snippets = try_fetch(HDF5_file, \"Snippets0\")\n",
      "C:\\Users\\Simen\\Git_repos\\pygor\\src\\pygor\\classes\\core_data.py:76: UserWarning: 'Averages0' not found in c:\\Users\\Simen\\Git_repos\\pygor\\src\\pygor\\examples\\strf_demo_data.h5, setting to np.nan\n",
      "  self.averages = try_fetch(HDF5_file, \"Averages0\")\n",
      "C:\\Users\\Simen\\Git_repos\\pygor\\src\\pygor\\classes\\core_data.py:77: UserWarning: 'Snippets0' not found in c:\\Users\\Simen\\Git_repos\\pygor\\src\\pygor\\examples\\strf_demo_data.h5, setting to np.nan\n",
      "  self.snippets = try_fetch(HDF5_file, \"Snippets0\")\n",
      "C:\\Users\\Simen\\Git_repos\\pygor\\src\\pygor\\classes\\strf.py:63: UserWarning: Rotation detected and corrected for c:\\Users\\Simen\\Git_repos\\pygor\\src\\pygor\\examples\\strf_demo_data.h5\n",
      "  self.strfs = pygor.data_helpers.load_strf(HDF5_file)\n",
      "......C:\\Users\\Simen\\Git_repos\\pygor\\src\\pygor\\classes\\core_data.py:361: UserWarning: No repetitions detected, returning original images\n",
      "  warnings.warn(\"No repetitions detected, returning original images\")\n",
      "c:\\Users\\Simen\\Git_repos\\pygor\\src\\pygor\\test\\test_Core.py:44: UserWarning: Method plot_averages gave AttributeError\n",
      "  warnings.warn(f\"Method {i} gave AttributeError\")\n",
      ".EC:\\Users\\Simen\\Git_repos\\pygor\\src\\pygor\\classes\\strf.py:183: UserWarning: Input anomalies found\n",
      "  warnings.warn(warning_string, stacklevel=0)\n"
     ]
    },
    {
     "name": "stdout",
     "output_type": "stream",
     "text": [
      "Disallowed keys: ['bs_already_ran', 'bs_datetime', 'bs_datetime_str', 'bs_dur_timedelta']\n"
     ]
    },
    {
     "name": "stderr",
     "output_type": "stream",
     "text": [
      ".E.EC:\\Users\\Simen\\Git_repos\\pygor\\src\\pygor\\load.py:36: UserWarning: Class 'CenterSurround' is already imported, skipping.\n",
      "  warnings.warn(f\"Class '{obj.__name__}' is already imported, skipping.\", UserWarning)\n",
      "C:\\Users\\Simen\\Git_repos\\pygor\\src\\pygor\\load.py:36: UserWarning: Class 'Core' is already imported, skipping.\n",
      "  warnings.warn(f\"Class '{obj.__name__}' is already imported, skipping.\", UserWarning)\n",
      "C:\\Users\\Simen\\Git_repos\\pygor\\src\\pygor\\load.py:36: UserWarning: Class 'Experiment' is already imported, skipping.\n",
      "  warnings.warn(f\"Class '{obj.__name__}' is already imported, skipping.\", UserWarning)\n",
      "C:\\Users\\Simen\\Git_repos\\pygor\\src\\pygor\\load.py:36: UserWarning: Class 'FullField' is already imported, skipping.\n",
      "  warnings.warn(f\"Class '{obj.__name__}' is already imported, skipping.\", UserWarning)\n",
      "C:\\Users\\Simen\\Git_repos\\pygor\\src\\pygor\\load.py:36: UserWarning: Class 'MovingBars' is already imported, skipping.\n",
      "  warnings.warn(f\"Class '{obj.__name__}' is already imported, skipping.\", UserWarning)\n",
      "C:\\Users\\Simen\\Git_repos\\pygor\\src\\pygor\\load.py:36: UserWarning: Class 'STRF' is already imported, skipping.\n",
      "  warnings.warn(f\"Class '{obj.__name__}' is already imported, skipping.\", UserWarning)\n",
      "..\n",
      "======================================================================\n",
      "ERROR: test_attributes_return (test_STRF.TestSTRF)\n",
      "----------------------------------------------------------------------\n",
      "Traceback (most recent call last):\n",
      "  File \"C:\\Users\\Simen\\Git_repos\\pygor\\src\\pygor\\classes\\strf.py\", line 387, in timecourses\n",
      "    return self.__timecourses\n",
      "AttributeError: 'STRF' object has no attribute '_STRF__timecourses'\n",
      "\n",
      "During handling of the above exception, another exception occurred:\n",
      "\n",
      "Traceback (most recent call last):\n",
      "  File \"c:\\Users\\Simen\\Git_repos\\pygor\\src\\pygor\\test\\test_STRF.py\", line 22, in test_attributes_return\n",
      "    attr_list = pygor.utils.helpinfo.get_attribute_list(strfs, with_types=False)\n",
      "  File \"C:\\Users\\Simen\\Git_repos\\pygor\\src\\pygor\\utils\\helpinfo.py\", line 59, in get_attribute_list\n",
      "    attribute_list = [attr for attr in dir(obj) if callable(getattr(obj, attr)) is False and \"__\" not in attr and attr[0] != '_']\n",
      "  File \"C:\\Users\\Simen\\Git_repos\\pygor\\src\\pygor\\utils\\helpinfo.py\", line 59, in <listcomp>\n",
      "    attribute_list = [attr for attr in dir(obj) if callable(getattr(obj, attr)) is False and \"__\" not in attr and attr[0] != '_']\n",
      "  File \"C:\\Users\\Simen\\Git_repos\\pygor\\src\\pygor\\classes\\strf.py\", line 397, in dominant_timecourses\n",
      "    for arr in self.timecourses.data:\n",
      "  File \"C:\\Users\\Simen\\Git_repos\\pygor\\src\\pygor\\classes\\strf.py\", line 389, in timecourses\n",
      "    timecourses = np.average(self.strf_masks(), axis = (3,4))\n",
      "AttributeError: 'STRF' object has no attribute 'strf_masks'\n",
      "\n",
      "======================================================================\n",
      "ERROR: test_contours (test_STRF.TestSTRF)\n",
      "----------------------------------------------------------------------\n",
      "Traceback (most recent call last):\n",
      "  File \"c:\\Users\\Simen\\Git_repos\\pygor\\src\\pygor\\test\\test_STRF.py\", line 19, in test_contours\n",
      "    strfs.contours\n",
      "AttributeError: 'STRF' object has no attribute 'contours'\n",
      "\n",
      "======================================================================\n",
      "ERROR: test_simple_methods_return (test_STRF.TestSTRF)\n",
      "----------------------------------------------------------------------\n",
      "Traceback (most recent call last):\n",
      "  File \"C:\\Users\\Simen\\Git_repos\\pygor\\src\\pygor\\classes\\strf.py\", line 387, in timecourses\n",
      "    return self.__timecourses\n",
      "AttributeError: 'STRF' object has no attribute '_STRF__timecourses'\n",
      "\n",
      "During handling of the above exception, another exception occurred:\n",
      "\n",
      "Traceback (most recent call last):\n",
      "  File \"c:\\Users\\Simen\\Git_repos\\pygor\\src\\pygor\\test\\test_STRF.py\", line 26, in test_simple_methods_return\n",
      "    meth_list = pygor.utils.helpinfo.get_methods_list(strfs, with_returns=False)\n",
      "  File \"C:\\Users\\Simen\\Git_repos\\pygor\\src\\pygor\\utils\\helpinfo.py\", line 31, in get_methods_list\n",
      "    method_list = [func for func in dir(obj) if callable(getattr(obj, func)) is True and \"__\" not in func]\n",
      "  File \"C:\\Users\\Simen\\Git_repos\\pygor\\src\\pygor\\utils\\helpinfo.py\", line 31, in <listcomp>\n",
      "    method_list = [func for func in dir(obj) if callable(getattr(obj, func)) is True and \"__\" not in func]\n",
      "  File \"C:\\Users\\Simen\\Git_repos\\pygor\\src\\pygor\\classes\\strf.py\", line 397, in dominant_timecourses\n",
      "    for arr in self.timecourses.data:\n",
      "  File \"C:\\Users\\Simen\\Git_repos\\pygor\\src\\pygor\\classes\\strf.py\", line 389, in timecourses\n",
      "    timecourses = np.average(self.strf_masks(), axis = (3,4))\n",
      "AttributeError: 'STRF' object has no attribute 'strf_masks'\n",
      "\n",
      "----------------------------------------------------------------------\n",
      "Ran 14 tests in 10.181s\n",
      "\n",
      "FAILED (errors=3)\n"
     ]
    },
    {
     "name": "stdout",
     "output_type": "stream",
     "text": [
      "Access custom classes using 'from pygor.load import ClassName'.pkl\n",
      "centre_surround\n",
      "core_data\n",
      "experiment\n",
      "full_field\n",
      "moving_bars\n",
      "strf\n",
      "\n",
      "(strfclone) c:\\Users\\Simen\\Git_repos\\pygor\\src\\pygor>"
     ]
    }
   ],
   "source": [
    "%%cmd\n",
    "cd ..\n",
    "cd src/pygor\n",
    "python -m unittest discover test"
   ]
  }
 ],
 "metadata": {
  "kernelspec": {
   "display_name": "strf",
   "language": "python",
   "name": "python3"
  },
  "language_info": {
   "codemirror_mode": {
    "name": "ipython",
    "version": 3
   },
   "file_extension": ".py",
   "mimetype": "text/x-python",
   "name": "python",
   "nbconvert_exporter": "python",
   "pygments_lexer": "ipython3",
   "version": "3.10.8"
  }
 },
 "nbformat": 4,
 "nbformat_minor": 2
}
