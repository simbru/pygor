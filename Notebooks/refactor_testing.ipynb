{
 "cells": [
  {
   "cell_type": "code",
   "execution_count": 7,
   "metadata": {},
   "outputs": [],
   "source": [
    "import pygor.experiment\n",
    "import os, pathlib\n",
    "%reload_ext autoreload\n",
    "%autoreload 2"
   ]
  },
  {
   "cell_type": "code",
   "execution_count": 41,
   "metadata": {},
   "outputs": [],
   "source": [
    "from pygor.data_objs.data_parent import Data"
   ]
  },
  {
   "cell_type": "code",
   "execution_count": 40,
   "metadata": {},
   "outputs": [
    {
     "data": {
      "text/plain": [
       "pygor.data_objs.data_parent.Data"
      ]
     },
     "execution_count": 40,
     "metadata": {},
     "output_type": "execute_result"
    }
   ],
   "source": [
    "pygor.data_objs.data_parent.Data"
   ]
  },
  {
   "cell_type": "code",
   "execution_count": 42,
   "metadata": {},
   "outputs": [
    {
     "data": {
      "text/plain": [
       "Data(filename=WindowsPath('c:/Users/SimenLab/OneDrive/Universitet/PhD/GitHub repos/pygor/Example_data/example_exp.h5'), metadata={'filename': 'c:\\\\Users\\\\SimenLab\\\\OneDrive\\\\Universitet\\\\PhD\\\\GitHub repos\\\\pygor\\\\Example_data\\\\example_exp.h5', 'exp_date': datetime.date(2023, 11, 14), 'exp_time': datetime.time(16, 16, 15), 'objectiveXYZ': (-126820.0, -74368.0, -124050.0)}, rois=array([[1., 1., 1., ..., 1., 1., 1.],\n",
       "       [1., 1., 1., ..., 1., 1., 1.],\n",
       "       [1., 1., 1., ..., 1., 1., 1.],\n",
       "       ...,\n",
       "       [1., 1., 1., ..., 1., 1., 1.],\n",
       "       [1., 1., 1., ..., 1., 1., 1.],\n",
       "       [1., 1., 1., ..., 1., 1., 1.]], dtype=float32), data_types=[], frame_hz=15.625, averages=nan, snippets=nan, ms_dur=nan, phase_num=1, num_rois=11)"
      ]
     },
     "execution_count": 42,
     "metadata": {},
     "output_type": "execute_result"
    }
   ],
   "source": [
    "Data(example_data)"
   ]
  },
  {
   "cell_type": "code",
   "execution_count": 12,
   "metadata": {},
   "outputs": [
    {
     "name": "stderr",
     "output_type": "stream",
     "text": [
      "C:\\Users\\SimenLab\\OneDrive\\Universitet\\PhD\\GitHub repos\\pygor\\src\\pygor\\experiment.py:547: UserWarning: Rotation detected and corrected for c:\\Users\\SimenLab\\OneDrive\\Universitet\\PhD\\GitHub repos\\pygor\\Example_data\\example_exp.h5\n",
      "  self.strfs = pygor.data_helpers.load_strf(HDF5_file)\n"
     ]
    }
   ],
   "source": [
    "repo = pathlib.Path(os.getcwd()).parent\n",
    "example_data = repo.joinpath(repo, \"Example_data/example_exp.h5\")\n",
    "test = pygor.experiment.STRF(example_data)"
   ]
  },
  {
   "cell_type": "code",
   "execution_count": 13,
   "metadata": {},
   "outputs": [
    {
     "ename": "AttributeError",
     "evalue": "self.averages is nan, meaning it has likely not been generated",
     "output_type": "error",
     "traceback": [
      "\u001b[1;31m---------------------------------------------------------------------------\u001b[0m",
      "\u001b[1;31mAttributeError\u001b[0m                            Traceback (most recent call last)",
      "\u001b[1;32mc:\\Users\\SimenLab\\OneDrive\\Universitet\\PhD\\GitHub repos\\pygor\\Notebooks\\refactor_testing.ipynb Cell 4\u001b[0m line \u001b[0;36m1\n\u001b[1;32m----> <a href='vscode-notebook-cell:/c%3A/Users/SimenLab/OneDrive/Universitet/PhD/GitHub%20repos/pygor/Notebooks/refactor_testing.ipynb#W2sZmlsZQ%3D%3D?line=0'>1</a>\u001b[0m test\u001b[39m.\u001b[39;49mplot_averages()\n",
      "File \u001b[1;32m~\\OneDrive\\Universitet\\PhD\\GitHub repos\\pygor\\src\\pygor\\experiment.py:311\u001b[0m, in \u001b[0;36mData.plot_averages\u001b[1;34m(self, rois, figsize, figsize_scale, axs, **kwargs)\u001b[0m\n\u001b[0;32m    309\u001b[0m \u001b[39m# Handle arguments, keywords, and exceptions\u001b[39;00m\n\u001b[0;32m    310\u001b[0m \u001b[39mif\u001b[39;00m np\u001b[39m.\u001b[39misnan(\u001b[39mself\u001b[39m\u001b[39m.\u001b[39maverages) \u001b[39m==\u001b[39m \u001b[39mTrue\u001b[39;00m:\n\u001b[1;32m--> 311\u001b[0m     \u001b[39mraise\u001b[39;00m \u001b[39mAttributeError\u001b[39;00m(\u001b[39m\"\u001b[39m\u001b[39mself.averages is nan, meaning it has likely not been generated\u001b[39m\u001b[39m\"\u001b[39m)\n\u001b[0;32m    312\u001b[0m \u001b[39mif\u001b[39;00m \u001b[39misinstance\u001b[39m(rois, Iterable) \u001b[39mis\u001b[39;00m \u001b[39mFalse\u001b[39;00m \u001b[39mand\u001b[39;00m \u001b[39mnot\u001b[39;00m rois: \u001b[39m# I dont like this solution, but it gets around user ambigouity error if passing numpy array\u001b[39;00m\n\u001b[0;32m    313\u001b[0m     rois \u001b[39m=\u001b[39m np\u001b[39m.\u001b[39marange(\u001b[39m0\u001b[39m, \u001b[39mself\u001b[39m\u001b[39m.\u001b[39mnum_rois)\n",
      "\u001b[1;31mAttributeError\u001b[0m: self.averages is nan, meaning it has likely not been generated"
     ]
    }
   ],
   "source": [
    "test.plot_averages()"
   ]
  },
  {
   "cell_type": "code",
   "execution_count": 18,
   "metadata": {},
   "outputs": [
    {
     "data": {
      "text/plain": [
       "'c:\\\\Users\\\\SimenLab\\\\OneDrive\\\\Universitet\\\\PhD\\\\GitHub repos\\\\pygorunittests/STRF_unit_test.py'"
      ]
     },
     "execution_count": 18,
     "metadata": {},
     "output_type": "execute_result"
    }
   ],
   "source": [
    "str(repo) + \"unittests/STRF_unit_test.py\""
   ]
  },
  {
   "cell_type": "code",
   "execution_count": 22,
   "metadata": {},
   "outputs": [
    {
     "data": {
      "text/plain": [
       "'c:\\\\Users\\\\SimenLab\\\\OneDrive\\\\Universitet\\\\PhD\\\\GitHub repos\\\\pygor\\\\Notebooks'"
      ]
     },
     "execution_count": 22,
     "metadata": {},
     "output_type": "execute_result"
    }
   ],
   "source": [
    "os.getcwd()"
   ]
  },
  {
   "cell_type": "code",
   "execution_count": 23,
   "metadata": {},
   "outputs": [
    {
     "ename": "FileNotFoundError",
     "evalue": "[Errno 2] Unable to open file (unable to open file: name = 'C:\\Users\\Simen\\Downloads\\2023-11-14_0_0_SWN_200_Colours.h5', errno = 2, error message = 'No such file or directory', flags = 0, o_flags = 0)",
     "output_type": "error",
     "traceback": [
      "\u001b[1;31m---------------------------------------------------------------------------\u001b[0m",
      "\u001b[1;31mFileNotFoundError\u001b[0m                         Traceback (most recent call last)",
      "File \u001b[1;32m~\\OneDrive\\Universitet\\PhD\\GitHub repos\\pygor\\unittests\\STRF_unit_test.py:11\u001b[0m\n\u001b[0;32m      9\u001b[0m loc \u001b[39m=\u001b[39m \u001b[39mr\u001b[39m\u001b[39m\"\u001b[39m\u001b[39mC:\u001b[39m\u001b[39m\\\u001b[39m\u001b[39mUsers\u001b[39m\u001b[39m\\\u001b[39m\u001b[39mSimen\u001b[39m\u001b[39m\\\u001b[39m\u001b[39mDownloads\u001b[39m\u001b[39m\\\u001b[39m\u001b[39m2023-11-14_0_0_SWN_200_Colours.h5\u001b[39m\u001b[39m\"\u001b[39m\n\u001b[0;32m     10\u001b[0m bs_bool \u001b[39m=\u001b[39m \u001b[39mFalse\u001b[39;00m\n\u001b[1;32m---> 11\u001b[0m strfs \u001b[39m=\u001b[39m pygor\u001b[39m.\u001b[39;49mexperiment\u001b[39m.\u001b[39;49mSTRF(loc)\n\u001b[0;32m     14\u001b[0m \u001b[39mclass\u001b[39;00m \u001b[39mTestSTRF\u001b[39;00m(unittest\u001b[39m.\u001b[39mTestCase):\n\u001b[0;32m     15\u001b[0m     \u001b[39mdef\u001b[39;00m \u001b[39mtest_contours\u001b[39m(\u001b[39mself\u001b[39m):\n",
      "File \u001b[1;32m<string>:12\u001b[0m, in \u001b[0;36m__init__\u001b[1;34m(self, filename, data_types, averages, snippets, ms_dur, phase_num, type, multicolour, bs_bool)\u001b[0m\n",
      "File \u001b[1;32m~\\OneDrive\\Universitet\\PhD\\GitHub repos\\pygor\\src\\pygor\\experiment.py:528\u001b[0m, in \u001b[0;36mSTRF.__post_init__\u001b[1;34m(self)\u001b[0m\n\u001b[0;32m    525\u001b[0m \u001b[39mdef\u001b[39;00m \u001b[39m__post_init__\u001b[39m(\u001b[39mself\u001b[39m):\n\u001b[0;32m    526\u001b[0m     \u001b[39m# Post initialise the contents of Data class to be inherited\u001b[39;00m\n\u001b[0;32m    527\u001b[0m     \u001b[39msuper\u001b[39m()\u001b[39m.\u001b[39m\u001b[39m__dict__\u001b[39m[\u001b[39m\"\u001b[39m\u001b[39mdata_types\u001b[39m\u001b[39m\"\u001b[39m]\u001b[39m.\u001b[39mappend(\u001b[39mself\u001b[39m\u001b[39m.\u001b[39mtype)\n\u001b[1;32m--> 528\u001b[0m     \u001b[39msuper\u001b[39;49m()\u001b[39m.\u001b[39;49m__post_init__()\n\u001b[0;32m    529\u001b[0m     \u001b[39mself\u001b[39m\u001b[39m.\u001b[39mbs_settings \u001b[39m=\u001b[39m pygor\u001b[39m.\u001b[39mdata_helpers\u001b[39m.\u001b[39mcreate_bs_dict(do_bootstrap \u001b[39m=\u001b[39m \u001b[39mself\u001b[39m\u001b[39m.\u001b[39mbs_bool)\n\u001b[0;32m    530\u001b[0m     \u001b[39mwith\u001b[39;00m h5py\u001b[39m.\u001b[39mFile(\u001b[39mself\u001b[39m\u001b[39m.\u001b[39mfilename) \u001b[39mas\u001b[39;00m HDF5_file:\n\u001b[0;32m    531\u001b[0m         \u001b[39m# Get keys for STRF, filter for only STRF + n where n is a number between 0 to 9 \u001b[39;00m\n",
      "File \u001b[1;32m~\\OneDrive\\Universitet\\PhD\\GitHub repos\\pygor\\src\\pygor\\experiment.py:102\u001b[0m, in \u001b[0;36mData.__post_init__\u001b[1;34m(self)\u001b[0m\n\u001b[0;32m    100\u001b[0m \u001b[39mif\u001b[39;00m \u001b[39misinstance\u001b[39m(\u001b[39mself\u001b[39m\u001b[39m.\u001b[39mfilename, pathlib\u001b[39m.\u001b[39mPath) \u001b[39mis\u001b[39;00m \u001b[39mFalse\u001b[39;00m:\n\u001b[0;32m    101\u001b[0m     \u001b[39mself\u001b[39m\u001b[39m.\u001b[39mfilename \u001b[39m=\u001b[39m pathlib\u001b[39m.\u001b[39mPath(\u001b[39mself\u001b[39m\u001b[39m.\u001b[39mfilename)\n\u001b[1;32m--> 102\u001b[0m \u001b[39mwith\u001b[39;00m h5py\u001b[39m.\u001b[39;49mFile(\u001b[39mself\u001b[39;49m\u001b[39m.\u001b[39;49mfilename, \u001b[39m'\u001b[39;49m\u001b[39mr\u001b[39;49m\u001b[39m'\u001b[39;49m) \u001b[39mas\u001b[39;00m HDF5_file:\n\u001b[0;32m    103\u001b[0m     \u001b[39m# Basic information\u001b[39;00m\n\u001b[0;32m    104\u001b[0m     \u001b[39mself\u001b[39m\u001b[39m.\u001b[39mmetadata \u001b[39m=\u001b[39m pygor\u001b[39m.\u001b[39mdata_helpers\u001b[39m.\u001b[39mmetadata_dict(HDF5_file)\n\u001b[0;32m    105\u001b[0m     \u001b[39mself\u001b[39m\u001b[39m.\u001b[39mrois \u001b[39m=\u001b[39m np\u001b[39m.\u001b[39mcopy(HDF5_file[\u001b[39m\"\u001b[39m\u001b[39mROIs\u001b[39m\u001b[39m\"\u001b[39m])\n",
      "File \u001b[1;32mc:\\Users\\SimenLab\\miniconda3\\envs\\strfsclone\\lib\\site-packages\\h5py\\_hl\\files.py:533\u001b[0m, in \u001b[0;36mFile.__init__\u001b[1;34m(self, name, mode, driver, libver, userblock_size, swmr, rdcc_nslots, rdcc_nbytes, rdcc_w0, track_order, fs_strategy, fs_persist, fs_threshold, fs_page_size, page_buf_size, min_meta_keep, min_raw_keep, locking, alignment_threshold, alignment_interval, **kwds)\u001b[0m\n\u001b[0;32m    525\u001b[0m     fapl \u001b[39m=\u001b[39m make_fapl(driver, libver, rdcc_nslots, rdcc_nbytes, rdcc_w0,\n\u001b[0;32m    526\u001b[0m                      locking, page_buf_size, min_meta_keep, min_raw_keep,\n\u001b[0;32m    527\u001b[0m                      alignment_threshold\u001b[39m=\u001b[39malignment_threshold,\n\u001b[0;32m    528\u001b[0m                      alignment_interval\u001b[39m=\u001b[39malignment_interval,\n\u001b[0;32m    529\u001b[0m                      \u001b[39m*\u001b[39m\u001b[39m*\u001b[39mkwds)\n\u001b[0;32m    530\u001b[0m     fcpl \u001b[39m=\u001b[39m make_fcpl(track_order\u001b[39m=\u001b[39mtrack_order, fs_strategy\u001b[39m=\u001b[39mfs_strategy,\n\u001b[0;32m    531\u001b[0m                      fs_persist\u001b[39m=\u001b[39mfs_persist, fs_threshold\u001b[39m=\u001b[39mfs_threshold,\n\u001b[0;32m    532\u001b[0m                      fs_page_size\u001b[39m=\u001b[39mfs_page_size)\n\u001b[1;32m--> 533\u001b[0m     fid \u001b[39m=\u001b[39m make_fid(name, mode, userblock_size, fapl, fcpl, swmr\u001b[39m=\u001b[39;49mswmr)\n\u001b[0;32m    535\u001b[0m \u001b[39mif\u001b[39;00m \u001b[39misinstance\u001b[39m(libver, \u001b[39mtuple\u001b[39m):\n\u001b[0;32m    536\u001b[0m     \u001b[39mself\u001b[39m\u001b[39m.\u001b[39m_libver \u001b[39m=\u001b[39m libver\n",
      "File \u001b[1;32mc:\\Users\\SimenLab\\miniconda3\\envs\\strfsclone\\lib\\site-packages\\h5py\\_hl\\files.py:226\u001b[0m, in \u001b[0;36mmake_fid\u001b[1;34m(name, mode, userblock_size, fapl, fcpl, swmr)\u001b[0m\n\u001b[0;32m    224\u001b[0m     \u001b[39mif\u001b[39;00m swmr \u001b[39mand\u001b[39;00m swmr_support:\n\u001b[0;32m    225\u001b[0m         flags \u001b[39m|\u001b[39m\u001b[39m=\u001b[39m h5f\u001b[39m.\u001b[39mACC_SWMR_READ\n\u001b[1;32m--> 226\u001b[0m     fid \u001b[39m=\u001b[39m h5f\u001b[39m.\u001b[39;49mopen(name, flags, fapl\u001b[39m=\u001b[39;49mfapl)\n\u001b[0;32m    227\u001b[0m \u001b[39melif\u001b[39;00m mode \u001b[39m==\u001b[39m \u001b[39m'\u001b[39m\u001b[39mr+\u001b[39m\u001b[39m'\u001b[39m:\n\u001b[0;32m    228\u001b[0m     fid \u001b[39m=\u001b[39m h5f\u001b[39m.\u001b[39mopen(name, h5f\u001b[39m.\u001b[39mACC_RDWR, fapl\u001b[39m=\u001b[39mfapl)\n",
      "File \u001b[1;32mh5py\\_objects.pyx:54\u001b[0m, in \u001b[0;36mh5py._objects.with_phil.wrapper\u001b[1;34m()\u001b[0m\n",
      "File \u001b[1;32mh5py\\_objects.pyx:55\u001b[0m, in \u001b[0;36mh5py._objects.with_phil.wrapper\u001b[1;34m()\u001b[0m\n",
      "File \u001b[1;32mh5py\\h5f.pyx:106\u001b[0m, in \u001b[0;36mh5py.h5f.open\u001b[1;34m()\u001b[0m\n",
      "\u001b[1;31mFileNotFoundError\u001b[0m: [Errno 2] Unable to open file (unable to open file: name = 'C:\\Users\\Simen\\Downloads\\2023-11-14_0_0_SWN_200_Colours.h5', errno = 2, error message = 'No such file or directory', flags = 0, o_flags = 0)"
     ]
    }
   ],
   "source": [
    "%run -e ../unittests/STRF_unit_test.py"
   ]
  },
  {
   "cell_type": "code",
   "execution_count": 156,
   "metadata": {},
   "outputs": [
    {
     "data": {
      "text/plain": [
       "'c:\\\\Users\\\\Simen\\\\OneDrive\\\\Universitet\\\\PhD\\\\GitHub repos\\\\pygor'"
      ]
     },
     "execution_count": 156,
     "metadata": {},
     "output_type": "execute_result"
    }
   ],
   "source": [
    "import os, pathlib\n",
    "os.getcwd()"
   ]
  },
  {
   "cell_type": "code",
   "execution_count": 157,
   "metadata": {},
   "outputs": [
    {
     "name": "stdout",
     "output_type": "stream",
     "text": [
      "Storing as: c:\\Users\\Simen\\OneDrive\\Universitet\\PhD\\GitHub repos\\pygor\\test.pkl\r"
     ]
    }
   ],
   "source": [
    "test.save_pkl(os.getcwd(), \"test.pkl\")"
   ]
  },
  {
   "cell_type": "code",
   "execution_count": 35,
   "metadata": {},
   "outputs": [],
   "source": [
    "import matplotlib.pyplot as plt"
   ]
  },
  {
   "cell_type": "code",
   "execution_count": 73,
   "metadata": {},
   "outputs": [
    {
     "data": {
      "text/plain": [
       "1.1945252774937223"
      ]
     },
     "execution_count": 73,
     "metadata": {},
     "output_type": "execute_result"
    }
   ],
   "source": [
    "pygor.temporal.spectral_centroid(test.timecourses()[5, 0])[2]\n"
   ]
  },
  {
   "cell_type": "code",
   "execution_count": null,
   "metadata": {},
   "outputs": [],
   "source": [
    "STRF.save_pkl"
   ]
  },
  {
   "cell_type": "code",
   "execution_count": 13,
   "metadata": {},
   "outputs": [
    {
     "data": {
      "text/plain": [
       "array([[[  0.        ,   0.17049172,   1.04181407, ..., -12.12025019,\n",
       "          -8.3210439 ,  -4.39089154],\n",
       "        [  0.        ,   0.        ,   0.        , ...,   0.        ,\n",
       "           0.        ,   0.        ]],\n",
       "\n",
       "       [[  0.        ,   0.19939171,   0.4548505 , ...,  -4.03171814,\n",
       "          -2.95838338,  -1.57717028],\n",
       "        [  0.        ,   0.        ,   0.        , ...,   0.        ,\n",
       "           0.        ,   0.        ]],\n",
       "\n",
       "       [[  0.        ,  -0.27492294,  -0.49753022, ...,  -1.09266983,\n",
       "          -0.93472604,  -0.96576875],\n",
       "        [  0.        ,   0.05597824,  -0.22194533, ...,   0.91855563,\n",
       "           1.07363275,   0.98545719]],\n",
       "\n",
       "       ...,\n",
       "\n",
       "       [[  0.        ,   0.42344721,   0.6805734 , ...,  -1.81246486,\n",
       "          -0.56769558,  -0.21154422],\n",
       "        [  0.        ,   0.61964027,   1.24321724, ...,   2.64093108,\n",
       "           3.1640968 ,   2.41279266]],\n",
       "\n",
       "       [[  0.        ,   0.        ,   0.        , ...,   0.        ,\n",
       "           0.        ,   0.        ],\n",
       "        [  0.        ,  -0.16979411,  -0.30565496, ...,   2.37192575,\n",
       "           1.50008226,   1.12481411]],\n",
       "\n",
       "       [[  0.        ,   0.        ,   0.        , ...,   0.        ,\n",
       "           0.        ,   0.        ],\n",
       "        [  0.        ,  -0.13285247,  -0.6189168 , ...,   3.45788104,\n",
       "           2.08176497,   1.00507894]]])"
      ]
     },
     "execution_count": 13,
     "metadata": {},
     "output_type": "execute_result"
    }
   ],
   "source": [
    "test.timecourses().data"
   ]
  },
  {
   "cell_type": "code",
   "execution_count": 7,
   "metadata": {},
   "outputs": [
    {
     "data": {
      "text/plain": [
       "1"
      ]
     },
     "execution_count": 7,
     "metadata": {},
     "output_type": "execute_result"
    }
   ],
   "source": [
    "test.phase_num"
   ]
  },
  {
   "cell_type": "code",
   "execution_count": 54,
   "metadata": {},
   "outputs": [
    {
     "name": "stdout",
     "output_type": "stream",
     "text": [
      "\n",
      "Welcome to your data object! \n",
      "Below are attributes and methods, as well as some metadata.\n",
      "Pass 'hint = True' for more tips and hints on using the data class.\n",
      "    ## Class info:\n",
      "        Current data type: \n",
      "        ['STRF']\n",
      "        Current metadata: \n",
      "       { 'exp_date': datetime.date(2023, 11, 14),\n",
      "         'exp_time': datetime.time(16, 16, 15),\n",
      "         'filename': 'C:\\\\Users\\\\Simen\\\\Downloads\\\\2023-11-14_0_0_SWN_200_Colours.h5',\n",
      "         'objectiveXYZ': (-126820.0, -74368.0, -124050.0)}\n",
      "\n",
      "    ## Attributes\n",
      "        Here's the data you have access to -> pass 'types = True' for type hints, attr (type):\n",
      "    [ 'averages', 'bs_bool', 'bs_settings', 'data_types', 'filename', 'frame_hz', 'images', 'ipl_depths',\n",
      "      'metadata', 'ms_dur', 'multicolour', 'name', 'num_rois', 'num_strfs', 'numcolour', 'phase_num', 'rois',\n",
      "      'snippets', 'strf_keys', 'strfs', 'trigger_mode', 'triggerstimes_frame', 'triggertimes', 'type']\n",
      "    \n",
      "    ## Methods\n",
      "        Here's some actions you have -> pass 'types = True' for type hints, func (return type):\n",
      "    [ 'calc_LED_offset', 'calculate_average_images', 'collapse_times', 'contours', 'contours_area',\n",
      "      'contours_centres', 'contours_centres_by_pol', 'contours_centroids', 'contours_complexities',\n",
      "      'contours_count', 'dominant_timecourses', 'get_bootstrap_settings', 'get_help', 'opponency_bool',\n",
      "      'plot_averages', 'plot_chromatic_overview', 'polarities', 'polarity_category', 'pval_space', 'pval_time',\n",
      "      'pvals_table', 'rf_masks', 'rf_masks_combined', 'run_bootstrap', 'save_pkl',\n",
      "      'set_default_bootstrap_settings', 'spectral_centroids', 'spectrums', 'strf_masks', 'timecourses',\n",
      "      'timecourses_noncentred', 'tunings_amplitude', 'tunings_area', 'tunings_centroids', 'tunings_peaktime',\n",
      "      'update_bootstrap_settings', 'view_drift', 'view_stack_projection', 'view_stack_rois']\n",
      "\n",
      "    NB: Feel free to write your own attributes (data) and methods (actions)!\n",
      "    Happy analysin' (:\n",
      "    "
     ]
    }
   ],
   "source": [
    "test.get_help()"
   ]
  },
  {
   "cell_type": "code",
   "execution_count": 4,
   "metadata": {},
   "outputs": [
    {
     "ename": "AttributeError",
     "evalue": "module 'pygor.data_objs' has no attribute 'data_objects_beta'",
     "output_type": "error",
     "traceback": [
      "\u001b[1;31m---------------------------------------------------------------------------\u001b[0m",
      "\u001b[1;31mAttributeError\u001b[0m                            Traceback (most recent call last)",
      "\u001b[1;32mc:\\Users\\Simen\\OneDrive\\Universitet\\PhD\\GitHub repos\\pygor\\refactor_testing.ipynb Cell 2\u001b[0m line \u001b[0;36m1\n\u001b[1;32m----> <a href='vscode-notebook-cell:/c%3A/Users/Simen/OneDrive/Universitet/PhD/GitHub%20repos/pygor/refactor_testing.ipynb#W2sZmlsZQ%3D%3D?line=0'>1</a>\u001b[0m pygor\u001b[39m.\u001b[39;49mdata_objs\u001b[39m.\u001b[39;49mdata_objects_beta\n",
      "\u001b[1;31mAttributeError\u001b[0m: module 'pygor.data_objs' has no attribute 'data_objects_beta'"
     ]
    }
   ],
   "source": [
    "pygor.data_objs.data_objects_beta"
   ]
  }
 ],
 "metadata": {
  "kernelspec": {
   "display_name": "strf",
   "language": "python",
   "name": "python3"
  },
  "language_info": {
   "codemirror_mode": {
    "name": "ipython",
    "version": 3
   },
   "file_extension": ".py",
   "mimetype": "text/x-python",
   "name": "python",
   "nbconvert_exporter": "python",
   "pygments_lexer": "ipython3",
   "version": "3.10.8"
  }
 },
 "nbformat": 4,
 "nbformat_minor": 2
}
