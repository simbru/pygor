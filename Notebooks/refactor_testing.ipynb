{
 "cells": [
  {
   "cell_type": "code",
   "execution_count": 1,
   "metadata": {},
   "outputs": [
    {
     "name": "stderr",
     "output_type": "stream",
     "text": [
      "c:\\Users\\Simen\\miniconda3\\envs\\strfclone\\lib\\site-packages\\skimage\\util\\dtype.py:27: DeprecationWarning: `np.bool8` is a deprecated alias for `np.bool_`.  (Deprecated NumPy 1.24)\n",
      "  np.bool8: (False, True),\n"
     ]
    },
    {
     "name": "stdout",
     "output_type": "stream",
     "text": [
      "Found 6 custom classes in C:\\Users\\Simen\\OneDrive\\Universitet\\PhD\\GitHub repos\\pygor\\src\\pygor\\classes\n",
      "Class names: ['CenterSurround', 'Core', 'Experiment', 'FullField', 'MovingBars', 'STRF']\n",
      "Access custom classes using 'from pygor.load import ClassName'\n"
     ]
    }
   ],
   "source": [
    "import pygor.load\n",
    "import pathlib\n",
    "import os\n",
    "import sys\n",
    "import importlib\n",
    "%reload_ext autoreload\n",
    "%autoreload 2"
   ]
  },
  {
   "cell_type": "code",
   "execution_count": 2,
   "metadata": {},
   "outputs": [
    {
     "name": "stdout",
     "output_type": "stream",
     "text": [
      "Microsoft Windows [Version 10.0.22631.3447]\n",
      "(c) Microsoft Corporation. All rights reserved.\n",
      "\n",
      "(strfclone) c:\\Users\\Simen\\OneDrive\\Universitet\\PhD\\GitHub repos\\pygor\\Notebooks>cd ..\n",
      "\n",
      "(strfclone) c:\\Users\\Simen\\OneDrive\\Universitet\\PhD\\GitHub repos\\pygor>cd src/pygor\n",
      "\n",
      "(strfclone) c:\\Users\\Simen\\OneDrive\\Universitet\\PhD\\GitHub repos\\pygor\\src\\pygor>python -m unittest discover test\n"
     ]
    },
    {
     "name": "stderr",
     "output_type": "stream",
     "text": [
      "c:\\Users\\Simen\\miniconda3\\envs\\strfclone\\lib\\site-packages\\skimage\\util\\dtype.py:27: DeprecationWarning: `np.bool8` is a deprecated alias for `np.bool_`.  (Deprecated NumPy 1.24)\n",
      "  np.bool8: (False, True),\n",
      "c:\\Users\\Simen\\miniconda3\\envs\\strfclone\\lib\\site-packages\\jupyter_client\\connect.py:27: DeprecationWarning: Jupyter is migrating its paths to use standard platformdirs\n",
      "given by the platformdirs library.  To remove this warning and\n",
      "see the appropriate new directories, set the environment variable\n",
      "`JUPYTER_PLATFORM_DIRS=1` and then run `jupyter --paths`.\n",
      "The use of platformdirs will be the default in `jupyter_core` v6\n",
      "  from jupyter_core.paths import jupyter_data_dir\n"
     ]
    },
    {
     "name": "stdout",
     "output_type": "stream",
     "text": [
      "Found 6 custom classes in C:\\Users\\Simen\\OneDrive\\Universitet\\PhD\\GitHub repos\\pygor\\src\\pygor\\classes\n",
      "Class names: ['CenterSurround', 'Core', 'Experiment', 'FullField', 'MovingBars', 'STRF']\n",
      "Access custom classes using 'from pygor.load import ClassName'\n",
      "c:\\Users\\Simen\\OneDrive\\Universitet\\PhD\\GitHub repos\\pygor\\src\\pygor\\examples\\strf_demo_data.h5\n"
     ]
    },
    {
     "name": "stderr",
     "output_type": "stream",
     "text": [
      "C:\\Users\\Simen\\OneDrive\\Universitet\\PhD\\GitHub repos\\pygor\\src\\pygor\\classes\\strf.py:65: UserWarning: Rotation detected and corrected for c:\\Users\\Simen\\OneDrive\\Universitet\\PhD\\GitHub repos\\pygor\\src\\pygor\\examples\\strf_demo_data.h5\n",
      "  self.strfs = pygor.data_helpers.load_strf(HDF5_file)\n",
      ".EC:\\Users\\Simen\\OneDrive\\Universitet\\PhD\\GitHub repos\\pygor\\src\\pygor\\classes\\strf.py:179: UserWarning: Input anomalies found\n",
      "  warnings.warn(warning_string, stacklevel=0)\n"
     ]
    },
    {
     "name": "stdout",
     "output_type": "stream",
     "text": [
      "Disallowed keys: ['bs_already_ran', 'bs_datetime', 'bs_datetime_str', 'bs_dur_timedelta']\n"
     ]
    },
    {
     "name": "stderr",
     "output_type": "stream",
     "text": [
      "...EC:\\Users\\Simen\\OneDrive\\Universitet\\PhD\\GitHub repos\\pygor\\src\\pygor\\load.py:36: UserWarning: Class 'CenterSurround' is already imported, skipping.\n",
      "  warnings.warn(f\"Class '{obj.__name__}' is already imported, skipping.\", UserWarning)\n",
      "C:\\Users\\Simen\\OneDrive\\Universitet\\PhD\\GitHub repos\\pygor\\src\\pygor\\load.py:36: UserWarning: Class 'Core' is already imported, skipping.\n",
      "  warnings.warn(f\"Class '{obj.__name__}' is already imported, skipping.\", UserWarning)\n",
      "C:\\Users\\Simen\\OneDrive\\Universitet\\PhD\\GitHub repos\\pygor\\src\\pygor\\load.py:36: UserWarning: Class 'Experiment' is already imported, skipping.\n",
      "  warnings.warn(f\"Class '{obj.__name__}' is already imported, skipping.\", UserWarning)\n",
      "C:\\Users\\Simen\\OneDrive\\Universitet\\PhD\\GitHub repos\\pygor\\src\\pygor\\load.py:36: UserWarning: Class 'FullField' is already imported, skipping.\n",
      "  warnings.warn(f\"Class '{obj.__name__}' is already imported, skipping.\", UserWarning)\n",
      "C:\\Users\\Simen\\OneDrive\\Universitet\\PhD\\GitHub repos\\pygor\\src\\pygor\\load.py:36: UserWarning: Class 'MovingBars' is already imported, skipping.\n",
      "  warnings.warn(f\"Class '{obj.__name__}' is already imported, skipping.\", UserWarning)\n",
      "C:\\Users\\Simen\\OneDrive\\Universitet\\PhD\\GitHub repos\\pygor\\src\\pygor\\load.py:36: UserWarning: Class 'STRF' is already imported, skipping.\n",
      "  warnings.warn(f\"Class '{obj.__name__}' is already imported, skipping.\", UserWarning)\n",
      "..\n",
      "======================================================================\n",
      "ERROR: test_attributes (test_STRF.TestSTRF)\n",
      "----------------------------------------------------------------------\n",
      "Traceback (most recent call last):\n",
      "  File \"c:\\Users\\Simen\\OneDrive\\Universitet\\PhD\\GitHub repos\\pygor\\src\\pygor\\test\\test_STRF.py\", line 20, in test_attributes\n",
      "    attr_list = pygor.data_helpers.get_attribute_list(strfs, with_types=False)\n",
      "AttributeError: module 'pygor.data_helpers' has no attribute 'get_attribute_list'\n",
      "\n",
      "======================================================================\n",
      "ERROR: test_simple_methods (test_STRF.TestSTRF)\n",
      "----------------------------------------------------------------------\n",
      "Traceback (most recent call last):\n",
      "  File \"c:\\Users\\Simen\\OneDrive\\Universitet\\PhD\\GitHub repos\\pygor\\src\\pygor\\test\\test_STRF.py\", line 24, in test_simple_methods\n",
      "    meth_list = pygor.data_helpers.get_methods_list(strfs, with_returns=False)\n",
      "AttributeError: module 'pygor.data_helpers' has no attribute 'get_methods_list'\n",
      "\n",
      "----------------------------------------------------------------------\n",
      "Ran 8 tests in 6.521s\n",
      "\n",
      "FAILED (errors=2)\n"
     ]
    },
    {
     "name": "stdout",
     "output_type": "stream",
     "text": [
      "Access custom classes using 'from pygor.load import ClassName'os\\pygor\\src\\pygor\\test\\test.pkl\n",
      "\n",
      "(strfclone) c:\\Users\\Simen\\OneDrive\\Universitet\\PhD\\GitHub repos\\pygor\\src\\pygor>"
     ]
    }
   ],
   "source": [
    "%%cmd\n",
    "cd ..\n",
    "cd src/pygor\n",
    "python -m unittest discover test"
   ]
  }
 ],
 "metadata": {
  "kernelspec": {
   "display_name": "strf",
   "language": "python",
   "name": "python3"
  },
  "language_info": {
   "codemirror_mode": {
    "name": "ipython",
    "version": 3
   },
   "file_extension": ".py",
   "mimetype": "text/x-python",
   "name": "python",
   "nbconvert_exporter": "python",
   "pygments_lexer": "ipython3",
   "version": "3.10.8"
  }
 },
 "nbformat": 4,
 "nbformat_minor": 2
}
