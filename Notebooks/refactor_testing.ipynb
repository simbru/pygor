{
 "cells": [
  {
   "cell_type": "code",
   "execution_count": 1,
   "metadata": {},
   "outputs": [],
   "source": [
    "import pygor.test\n",
    "%reload_ext autoreload\n",
    "%autoreload 2"
   ]
  },
  {
   "cell_type": "code",
   "execution_count": 7,
   "metadata": {},
   "outputs": [
    {
     "data": {
      "text/plain": [
       "True"
      ]
     },
     "execution_count": 7,
     "metadata": {},
     "output_type": "execute_result"
    }
   ],
   "source": [
    "a = None\n",
    "a is None"
   ]
  },
  {
   "cell_type": "markdown",
   "metadata": {},
   "source": [
    "Run tests"
   ]
  },
  {
   "cell_type": "code",
   "execution_count": 13,
   "metadata": {},
   "outputs": [
    {
     "name": "stdout",
     "output_type": "stream",
     "text": [
      "Microsoft Windows [Version 10.0.22631.3447]\n",
      "(c) Microsoft Corporation. All rights reserved.\n",
      "\n",
      "(strfclone) c:\\Users\\Simen\\Git_repos\\pygor\\Notebooks>cd ..\n",
      "\n",
      "(strfclone) c:\\Users\\Simen\\Git_repos\\pygor>cd src/pygor\n",
      "\n",
      "(strfclone) c:\\Users\\Simen\\Git_repos\\pygor\\src\\pygor>python -m unittest discover test\n"
     ]
    },
    {
     "name": "stderr",
     "output_type": "stream",
     "text": [
      "c:\\Users\\Simen\\miniconda3\\envs\\strfclone\\lib\\site-packages\\skimage\\util\\dtype.py:27: DeprecationWarning: `np.bool8` is a deprecated alias for `np.bool_`.  (Deprecated NumPy 1.24)\n",
      "  np.bool8: (False, True),\n",
      "c:\\Users\\Simen\\miniconda3\\envs\\strfclone\\lib\\site-packages\\jupyter_client\\connect.py:27: DeprecationWarning: Jupyter is migrating its paths to use standard platformdirs\n",
      "given by the platformdirs library.  To remove this warning and\n",
      "see the appropriate new directories, set the environment variable\n",
      "`JUPYTER_PLATFORM_DIRS=1` and then run `jupyter --paths`.\n",
      "The use of platformdirs will be the default in `jupyter_core` v6\n",
      "  from jupyter_core.paths import jupyter_data_dir\n"
     ]
    },
    {
     "name": "stdout",
     "output_type": "stream",
     "text": [
      "Found 6 custom classes in C:\\Users\\Simen\\Git_repos\\pygor\\src\\pygor\\classes\n",
      "Class names: ['CenterSurround', 'Core', 'Experiment', 'FullField', 'MovingBars', 'STRF']\n",
      "Access custom classes using 'from pygor.load import ClassName'\n"
     ]
    },
    {
     "name": "stderr",
     "output_type": "stream",
     "text": [
      "C:\\Users\\Simen\\Git_repos\\pygor\\src\\pygor\\classes\\core_data.py:76: UserWarning: 'Averages0' not found in c:\\Users\\Simen\\Git_repos\\pygor\\src\\pygor\\examples\\strf_demo_data.h5, setting to np.nan\n",
      "  self.averages = try_fetch(HDF5_file, \"Averages0\")\n",
      "C:\\Users\\Simen\\Git_repos\\pygor\\src\\pygor\\classes\\core_data.py:77: UserWarning: 'Snippets0' not found in c:\\Users\\Simen\\Git_repos\\pygor\\src\\pygor\\examples\\strf_demo_data.h5, setting to np.nan\n",
      "  self.snippets = try_fetch(HDF5_file, \"Snippets0\")\n",
      "C:\\Users\\Simen\\Git_repos\\pygor\\src\\pygor\\classes\\core_data.py:76: UserWarning: 'Averages0' not found in c:\\Users\\Simen\\Git_repos\\pygor\\src\\pygor\\examples\\strf_demo_data.h5, setting to np.nan\n",
      "  self.averages = try_fetch(HDF5_file, \"Averages0\")\n",
      "C:\\Users\\Simen\\Git_repos\\pygor\\src\\pygor\\classes\\core_data.py:77: UserWarning: 'Snippets0' not found in c:\\Users\\Simen\\Git_repos\\pygor\\src\\pygor\\examples\\strf_demo_data.h5, setting to np.nan\n",
      "  self.snippets = try_fetch(HDF5_file, \"Snippets0\")\n",
      "C:\\Users\\Simen\\Git_repos\\pygor\\src\\pygor\\classes\\strf.py:63: UserWarning: Rotation detected and corrected for c:\\Users\\Simen\\Git_repos\\pygor\\src\\pygor\\examples\\strf_demo_data.h5\n",
      "  self.strfs = pygor.data_helpers.load_strf(HDF5_file)\n",
      "......C:\\Users\\Simen\\Git_repos\\pygor\\src\\pygor\\classes\\core_data.py:361: UserWarning: No repetitions detected, returning original images\n",
      "  warnings.warn(\"No repetitions detected, returning original images\")\n",
      "c:\\Users\\Simen\\Git_repos\\pygor\\src\\pygor\\test\\test_Core.py:44: UserWarning: Method plot_averages gave AttributeError\n",
      "  warnings.warn(f\"Method {i} gave AttributeError\")\n"
     ]
    },
    {
     "name": "stdout",
     "output_type": "stream",
     "text": [
      "Disallowed keys: ['bs_already_ran', 'bs_datetime', 'bs_datetime_str', 'bs_dur_timedelta']\n"
     ]
    },
    {
     "name": "stderr",
     "output_type": "stream",
     "text": [
      "..C:\\Users\\Simen\\Git_repos\\pygor\\src\\pygor\\classes\\strf.py:183: UserWarning: Input anomalies found\n",
      "  warnings.warn(warning_string, stacklevel=0)\n",
      "...C:\\Users\\Simen\\Git_repos\\pygor\\src\\pygor\\classes\\core_data.py:361: UserWarning: No repetitions detected, returning original images\n",
      "  warnings.warn(\"No repetitions detected, returning original images\")\n",
      "c:\\Users\\Simen\\miniconda3\\envs\\strfclone\\lib\\site-packages\\numpy\\lib\\function_base.py:518: RuntimeWarning: Mean of empty slice.\n",
      "  avg = a.mean(axis, **keepdims_kw)\n",
      "c:\\Users\\Simen\\miniconda3\\envs\\strfclone\\lib\\site-packages\\numpy\\core\\_methods.py:184: RuntimeWarning: invalid value encountered in divide\n",
      "  ret = um.true_divide(\n",
      "c:\\Users\\Simen\\Git_repos\\pygor\\src\\pygor\\test\\test_STRF.py:35: UserWarning: Method plot_averages gave AttributeError\n",
      "  warnings.warn(f\"Method {i} gave AttributeError\")\n",
      "C:\\Users\\Simen\\Git_repos\\pygor\\src\\pygor\\classes\\strf.py:602: UserWarning: size stimates in arbitrary cartesian units\n",
      "  warnings.warn(\"size stimates in arbitrary cartesian units\")\n",
      ".C:\\Users\\Simen\\Git_repos\\pygor\\src\\pygor\\load.py:36: UserWarning: Class 'CenterSurround' is already imported, skipping.\n",
      "  warnings.warn(f\"Class '{obj.__name__}' is already imported, skipping.\", UserWarning)\n",
      "C:\\Users\\Simen\\Git_repos\\pygor\\src\\pygor\\load.py:36: UserWarning: Class 'Core' is already imported, skipping.\n",
      "  warnings.warn(f\"Class '{obj.__name__}' is already imported, skipping.\", UserWarning)\n",
      "C:\\Users\\Simen\\Git_repos\\pygor\\src\\pygor\\load.py:36: UserWarning: Class 'Experiment' is already imported, skipping.\n",
      "  warnings.warn(f\"Class '{obj.__name__}' is already imported, skipping.\", UserWarning)\n",
      "C:\\Users\\Simen\\Git_repos\\pygor\\src\\pygor\\load.py:36: UserWarning: Class 'FullField' is already imported, skipping.\n",
      "  warnings.warn(f\"Class '{obj.__name__}' is already imported, skipping.\", UserWarning)\n"
     ]
    },
    {
     "name": "stdout",
     "output_type": "stream",
     "text": [
      "Access custom classes using 'from pygor.load import ClassName'.pkl\n",
      "centre_surround\n",
      "core_data\n",
      "experiment\n",
      "full_field\n",
      "moving_bars\n",
      "strf\n"
     ]
    },
    {
     "name": "stderr",
     "output_type": "stream",
     "text": [
      "C:\\Users\\Simen\\Git_repos\\pygor\\src\\pygor\\load.py:36: UserWarning: Class 'MovingBars' is already imported, skipping.\n",
      "  warnings.warn(f\"Class '{obj.__name__}' is already imported, skipping.\", UserWarning)\n",
      "C:\\Users\\Simen\\Git_repos\\pygor\\src\\pygor\\load.py:36: UserWarning: Class 'STRF' is already imported, skipping.\n",
      "  warnings.warn(f\"Class '{obj.__name__}' is already imported, skipping.\", UserWarning)\n",
      "..\n",
      "----------------------------------------------------------------------\n",
      "Ran 14 tests in 13.277s\n",
      "\n",
      "OK\n"
     ]
    },
    {
     "name": "stdout",
     "output_type": "stream",
     "text": [
      "\n",
      "(strfclone) c:\\Users\\Simen\\Git_repos\\pygor\\src\\pygor>"
     ]
    }
   ],
   "source": [
    "%%cmd\n",
    "cd ..\n",
    "cd src/pygor\n",
    "python -m unittest discover test"
   ]
  }
 ],
 "metadata": {
  "kernelspec": {
   "display_name": "strf",
   "language": "python",
   "name": "python3"
  },
  "language_info": {
   "codemirror_mode": {
    "name": "ipython",
    "version": 3
   },
   "file_extension": ".py",
   "mimetype": "text/x-python",
   "name": "python",
   "nbconvert_exporter": "python",
   "pygments_lexer": "ipython3",
   "version": "3.10.8"
  }
 },
 "nbformat": 4,
 "nbformat_minor": 2
}
