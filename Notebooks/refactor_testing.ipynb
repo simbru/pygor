{
 "cells": [
  {
   "cell_type": "code",
   "execution_count": 6,
   "metadata": {},
   "outputs": [],
   "source": [
    "import pygor.test\n",
    "%reload_ext autoreload\n",
    "%autoreload 2"
   ]
  },
  {
   "cell_type": "code",
   "execution_count": 5,
   "metadata": {},
   "outputs": [
    {
     "name": "stdout",
     "output_type": "stream",
     "text": [
      "Microsoft Windows [Version 10.0.22631.3447]\n",
      "(c) Microsoft Corporation. All rights reserved.\n",
      "\n",
      "(strfclone) c:\\Users\\Simen\\OneDrive\\Universitet\\PhD\\GitHub repos\\pygor\\Notebooks>cd ..\n",
      "\n",
      "(strfclone) c:\\Users\\Simen\\OneDrive\\Universitet\\PhD\\GitHub repos\\pygor>cd src/pygor\n",
      "\n",
      "(strfclone) c:\\Users\\Simen\\OneDrive\\Universitet\\PhD\\GitHub repos\\pygor\\src\\pygor>python -m unittest discover test\n"
     ]
    },
    {
     "name": "stderr",
     "output_type": "stream",
     "text": [
      "c:\\Users\\Simen\\miniconda3\\envs\\strfclone\\lib\\site-packages\\skimage\\util\\dtype.py:27: DeprecationWarning: `np.bool8` is a deprecated alias for `np.bool_`.  (Deprecated NumPy 1.24)\n",
      "  np.bool8: (False, True),\n",
      "c:\\Users\\Simen\\miniconda3\\envs\\strfclone\\lib\\site-packages\\jupyter_client\\connect.py:27: DeprecationWarning: Jupyter is migrating its paths to use standard platformdirs\n",
      "given by the platformdirs library.  To remove this warning and\n",
      "see the appropriate new directories, set the environment variable\n",
      "`JUPYTER_PLATFORM_DIRS=1` and then run `jupyter --paths`.\n",
      "The use of platformdirs will be the default in `jupyter_core` v6\n",
      "  from jupyter_core.paths import jupyter_data_dir\n"
     ]
    },
    {
     "name": "stdout",
     "output_type": "stream",
     "text": [
      "Found 6 custom classes in C:\\Users\\Simen\\OneDrive\\Universitet\\PhD\\GitHub repos\\pygor\\src\\pygor\\classes\n",
      "Class names: ['CenterSurround', 'Core', 'Experiment', 'FullField', 'MovingBars', 'STRF']\n",
      "Access custom classes using 'from pygor.load import ClassName'\n",
      "c:\\Users\\Simen\\OneDrive\\Universitet\\PhD\\GitHub repos\\pygor\\src\\pygor\\examples\\strf_demo_data.h5\n"
     ]
    },
    {
     "name": "stderr",
     "output_type": "stream",
     "text": [
      "C:\\Users\\Simen\\OneDrive\\Universitet\\PhD\\GitHub repos\\pygor\\src\\pygor\\classes\\strf.py:65: UserWarning: Rotation detected and corrected for c:\\Users\\Simen\\OneDrive\\Universitet\\PhD\\GitHub repos\\pygor\\src\\pygor\\examples\\strf_demo_data.h5\n",
      "  self.strfs = pygor.data_helpers.load_strf(HDF5_file)\n",
      "..C:\\Users\\Simen\\OneDrive\\Universitet\\PhD\\GitHub repos\\pygor\\src\\pygor\\classes\\strf.py:179: UserWarning: Input anomalies found\n",
      "  warnings.warn(warning_string, stacklevel=0)\n"
     ]
    },
    {
     "name": "stdout",
     "output_type": "stream",
     "text": [
      "Disallowed keys: ['bs_already_ran', 'bs_datetime', 'bs_datetime_str', 'bs_dur_timedelta']\n"
     ]
    },
    {
     "name": "stderr",
     "output_type": "stream",
     "text": [
      "...C:\\Users\\Simen\\OneDrive\\Universitet\\PhD\\GitHub repos\\pygor\\src\\pygor\\classes\\core_data.py:345: UserWarning: No repetitions detected, returning original images\n",
      "  warnings.warn(\"No repetitions detected, returning original images\")\n",
      "c:\\Users\\Simen\\miniconda3\\envs\\strfclone\\lib\\site-packages\\numpy\\lib\\function_base.py:518: RuntimeWarning: Mean of empty slice.\n",
      "  avg = a.mean(axis, **keepdims_kw)\n",
      "c:\\Users\\Simen\\miniconda3\\envs\\strfclone\\lib\\site-packages\\numpy\\core\\_methods.py:184: RuntimeWarning: invalid value encountered in divide\n",
      "  ret = um.true_divide(\n"
     ]
    },
    {
     "name": "stdout",
     "output_type": "stream",
     "text": [
      "Storing as: C:\\Users\\Simen\\OneDrive\\Universitet\\PhD\\GitHub repos\\pygor\\src\\pygor\\test\\test.pkl\n",
      "Welcome to your data object! \n",
      "Below are attributes and methods, as well as some metadata.\n",
      "Pass 'hint = True' for more tips and hints on using the data class.\n",
      "    ## Class info:\n",
      "        Current data type: \n",
      "        'STRF'\n",
      "        Current metadata: \n",
      "       { 'exp_date': datetime.date(2023, 11, 7),\n",
      "         'exp_time': datetime.time(17, 3, 37),\n",
      "         'filename': 'c:\\\\Users\\\\Simen\\\\OneDrive\\\\Universitet\\\\PhD\\\\GitHub '\n",
      "                     'repos\\\\pygor\\\\src\\\\pygor\\\\examples\\\\strf_demo_data.h5',\n",
      "         'objectiveXYZ': (-125190.0, -71909.0, -119340.0)}\n",
      "\n",
      "    ## Attributes\n",
      "        Here's the data you have access to -> pass 'types = True' for type hints, attr (type):\n",
      "    [ 'averages', 'bs_bool', 'bs_settings', 'filename', 'frame_hz', 'images', 'ipl_depths', 'metadata', 'ms_dur',\n",
      "      'multicolour', 'name', 'num_rois', 'num_strfs', 'numcolour', 'phase_num', 'rois', 'snippets', 'strf_keys',\n",
      "      'strfs', 'traces_raw', 'traces_znorm', 'trigger_mode', 'triggerstimes_frame', 'triggertimes', 'type']\n",
      "    \n",
      "    ## Methods\n",
      "        Here's some actions you have -> pass 'types = True' for type hints, func (return type):\n",
      "    [ 'calc_LED_offset', 'calculate_average_images', 'collapse_times', 'contours', 'contours_area',\n",
      "      'contours_centres', 'contours_centres_by_pol', 'contours_centroids', 'contours_complexities',\n",
      "      'contours_count', 'dominant_timecourses', 'get_bootstrap_settings', 'get_help', 'opponency_bool',\n",
      "      'plot_averages', 'plot_chromatic_overview', 'polarities', 'polarity_category', 'pval_space', 'pval_time',\n",
      "      'pvals_table', 'rf_masks', 'rf_masks_combined', 'run_bootstrap', 'save_pkl',\n",
      "      'set_default_bootstrap_settings', 'spectral_centroids', 'spectrums', 'strf_masks', 'timecourses',\n",
      "      'timecourses_noncentred', 'tunings_amplitude', 'tunings_area', 'tunings_centroids', 'tunings_peaktime',\n",
      "      'update_bootstrap_settings', 'view_drift', 'view_stack_projection', 'view_stack_rois']\n",
      "\n",
      "    NB: Feel free to write your own attributes (data) and methods (actions)!\n",
      "    Happy analysin' (:\n"
     ]
    },
    {
     "name": "stderr",
     "output_type": "stream",
     "text": [
      "c:\\Users\\Simen\\OneDrive\\Universitet\\PhD\\GitHub repos\\pygor\\src\\pygor\\test\\test_STRF.py:31: UserWarning: Method plot_averages gave AttributeError\n",
      "  warnings.warn(f\"Method {i} gave AttributeError\")\n",
      "C:\\Users\\Simen\\OneDrive\\Universitet\\PhD\\GitHub repos\\pygor\\src\\pygor\\classes\\strf.py:598: UserWarning: size stimates in arbitrary cartesian units\n",
      "  warnings.warn(\"size stimates in arbitrary cartesian units\")\n",
      ".C:\\Users\\Simen\\OneDrive\\Universitet\\PhD\\GitHub repos\\pygor\\src\\pygor\\load.py:36: UserWarning: Class 'CenterSurround' is already imported, skipping.\n",
      "  warnings.warn(f\"Class '{obj.__name__}' is already imported, skipping.\", UserWarning)\n",
      "C:\\Users\\Simen\\OneDrive\\Universitet\\PhD\\GitHub repos\\pygor\\src\\pygor\\load.py:36: UserWarning: Class 'Core' is already imported, skipping.\n",
      "  warnings.warn(f\"Class '{obj.__name__}' is already imported, skipping.\", UserWarning)\n",
      "C:\\Users\\Simen\\OneDrive\\Universitet\\PhD\\GitHub repos\\pygor\\src\\pygor\\load.py:36: UserWarning: Class 'Experiment' is already imported, skipping.\n",
      "  warnings.warn(f\"Class '{obj.__name__}' is already imported, skipping.\", UserWarning)\n",
      "C:\\Users\\Simen\\OneDrive\\Universitet\\PhD\\GitHub repos\\pygor\\src\\pygor\\load.py:36: UserWarning: Class 'FullField' is already imported, skipping.\n",
      "  warnings.warn(f\"Class '{obj.__name__}' is already imported, skipping.\", UserWarning)\n"
     ]
    },
    {
     "name": "stdout",
     "output_type": "stream",
     "text": [
      "    Access custom classes using 'from pygor.load import ClassName'\n"
     ]
    },
    {
     "name": "stderr",
     "output_type": "stream",
     "text": [
      "C:\\Users\\Simen\\OneDrive\\Universitet\\PhD\\GitHub repos\\pygor\\src\\pygor\\load.py:36: UserWarning: Class 'MovingBars' is already imported, skipping.\n",
      "  warnings.warn(f\"Class '{obj.__name__}' is already imported, skipping.\", UserWarning)\n",
      "C:\\Users\\Simen\\OneDrive\\Universitet\\PhD\\GitHub repos\\pygor\\src\\pygor\\load.py:36: UserWarning: Class 'STRF' is already imported, skipping.\n",
      "  warnings.warn(f\"Class '{obj.__name__}' is already imported, skipping.\", UserWarning)\n",
      "..\n",
      "----------------------------------------------------------------------\n",
      "Ran 8 tests in 11.704s\n",
      "\n",
      "OK\n"
     ]
    },
    {
     "name": "stdout",
     "output_type": "stream",
     "text": [
      "\n",
      "(strfclone) c:\\Users\\Simen\\OneDrive\\Universitet\\PhD\\GitHub repos\\pygor\\src\\pygor>"
     ]
    }
   ],
   "source": [
    "# Run all tests\n",
    "%%cmd\n",
    "cd ..\n",
    "cd src/pygor\n",
    "python -m unittest discover test"
   ]
  }
 ],
 "metadata": {
  "kernelspec": {
   "display_name": "strf",
   "language": "python",
   "name": "python3"
  },
  "language_info": {
   "codemirror_mode": {
    "name": "ipython",
    "version": 3
   },
   "file_extension": ".py",
   "mimetype": "text/x-python",
   "name": "python",
   "nbconvert_exporter": "python",
   "pygments_lexer": "ipython3",
   "version": "3.10.8"
  }
 },
 "nbformat": 4,
 "nbformat_minor": 2
}
