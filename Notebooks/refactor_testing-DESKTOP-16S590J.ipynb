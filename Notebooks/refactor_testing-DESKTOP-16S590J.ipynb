{
 "cells": [
  {
   "cell_type": "code",
   "execution_count": 5,
   "metadata": {},
   "outputs": [],
   "source": [
    "import pygor.load\n",
    "import pathlib\n",
    "import os\n",
    "import sys\n",
    "import importlib\n",
    "%reload_ext autoreload\n",
    "%autoreload 2"
   ]
  },
  {
   "cell_type": "code",
   "execution_count": 66,
   "metadata": {},
   "outputs": [
    {
     "name": "stdout",
     "output_type": "stream",
     "text": [
      "Microsoft Windows [Version 10.0.19045.4170]\n",
      "(c) Microsoft Corporation. All rights reserved.\n",
      "\n",
      "(strfsclone) c:\\Users\\SimenLab\\OneDrive\\Universitet\\PhD\\GitHub repos\\pygor\\Notebooks>cd ..\n",
      "\n",
      "(strfsclone) c:\\Users\\SimenLab\\OneDrive\\Universitet\\PhD\\GitHub repos\\pygor>cd src/pygor\n",
      "\n",
      "(strfsclone) c:\\Users\\SimenLab\\OneDrive\\Universitet\\PhD\\GitHub repos\\pygor\\src\\pygor>python -m unittest discover test\n"
     ]
    },
    {
     "name": "stderr",
     "output_type": "stream",
     "text": [
      "c:\\Users\\SimenLab\\miniconda3\\envs\\strfsclone\\lib\\site-packages\\skimage\\util\\dtype.py:27: DeprecationWarning: `np.bool8` is a deprecated alias for `np.bool_`.  (Deprecated NumPy 1.24)\n",
      "  np.bool8: (False, True),\n",
      "c:\\Users\\SimenLab\\miniconda3\\envs\\strfsclone\\lib\\site-packages\\jupyter_client\\connect.py:20: DeprecationWarning: Jupyter is migrating its paths to use standard platformdirs\n",
      "given by the platformdirs library.  To remove this warning and\n",
      "see the appropriate new directories, set the environment variable\n",
      "`JUPYTER_PLATFORM_DIRS=1` and then run `jupyter --paths`.\n",
      "The use of platformdirs will be the default in `jupyter_core` v6\n",
      "  from jupyter_core.paths import jupyter_data_dir, jupyter_runtime_dir, secure_write\n"
     ]
    },
    {
     "name": "stdout",
     "output_type": "stream",
     "text": [
      "Found 6 custom classes in C:\\Users\\SimenLab\\OneDrive\\Universitet\\PhD\\GitHub repos\\pygor\\src\\pygor\\classes\n",
      "Class names: ['CenterSurround', 'Core', 'Experiment', 'FullField', 'MovingBars', 'STRF']\n",
      "Access custom classes using 'from pygor.load import ClassName'\n",
      "c:\\Users\\SimenLab\\OneDrive\\Universitet\\PhD\\GitHub repos\\pygor\\src\\pygor\\examples\\strf_demo_data.h5\n"
     ]
    },
    {
     "name": "stderr",
     "output_type": "stream",
     "text": [
      "C:\\Users\\SimenLab\\OneDrive\\Universitet\\PhD\\GitHub repos\\pygor\\src\\pygor\\classes\\strf.py:65: UserWarning: Rotation detected and corrected for c:\\Users\\SimenLab\\OneDrive\\Universitet\\PhD\\GitHub repos\\pygor\\src\\pygor\\examples\\strf_demo_data.h5\n",
      "  self.strfs = pygor.data_helpers.load_strf(HDF5_file)\n",
      "..C:\\Users\\SimenLab\\OneDrive\\Universitet\\PhD\\GitHub repos\\pygor\\src\\pygor\\classes\\strf.py:179: UserWarning: Input anomalies found\n",
      "  warnings.warn(warning_string, stacklevel=0)\n"
     ]
    },
    {
     "name": "stdout",
     "output_type": "stream",
     "text": [
      "Disallowed keys: ['bs_already_ran', 'bs_datetime', 'bs_datetime_str', 'bs_dur_timedelta']\n"
     ]
    },
    {
     "name": "stderr",
     "output_type": "stream",
     "text": [
      "...C:\\Users\\SimenLab\\OneDrive\\Universitet\\PhD\\GitHub repos\\pygor\\src\\pygor\\classes\\core_data.py:326: UserWarning: No repetitions detected, returning original images\n",
      "  warnings.warn(\"No repetitions detected, returning original images\")\n",
      "c:\\Users\\SimenLab\\miniconda3\\envs\\strfsclone\\lib\\site-packages\\numpy\\lib\\function_base.py:518: RuntimeWarning: Mean of empty slice.\n",
      "  avg = a.mean(axis, **keepdims_kw)\n",
      "c:\\Users\\SimenLab\\miniconda3\\envs\\strfsclone\\lib\\site-packages\\numpy\\core\\_methods.py:184: RuntimeWarning: invalid value encountered in divide\n",
      "  ret = um.true_divide(\n",
      "c:\\Users\\SimenLab\\OneDrive\\Universitet\\PhD\\GitHub repos\\pygor\\src\\pygor\\test\\test_STRF.py:30: UserWarning: Method get_help gave AttributeError\n",
      "  warnings.warn(f\"Method {i} gave AttributeError\")\n",
      "c:\\Users\\SimenLab\\OneDrive\\Universitet\\PhD\\GitHub repos\\pygor\\src\\pygor\\test\\test_STRF.py:30: UserWarning: Method plot_averages gave AttributeError\n",
      "  warnings.warn(f\"Method {i} gave AttributeError\")\n",
      "C:\\Users\\SimenLab\\OneDrive\\Universitet\\PhD\\GitHub repos\\pygor\\src\\pygor\\classes\\strf.py:598: UserWarning: size stimates in arbitrary cartesian units\n",
      "  warnings.warn(\"size stimates in arbitrary cartesian units\")\n",
      ".C:\\Users\\SimenLab\\OneDrive\\Universitet\\PhD\\GitHub repos\\pygor\\src\\pygor\\load.py:36: UserWarning: Class 'CenterSurround' is already imported, skipping.\n",
      "  warnings.warn(f\"Class '{obj.__name__}' is already imported, skipping.\", UserWarning)\n",
      "C:\\Users\\SimenLab\\OneDrive\\Universitet\\PhD\\GitHub repos\\pygor\\src\\pygor\\load.py:36: UserWarning: Class 'Core' is already imported, skipping.\n",
      "  warnings.warn(f\"Class '{obj.__name__}' is already imported, skipping.\", UserWarning)\n",
      "C:\\Users\\SimenLab\\OneDrive\\Universitet\\PhD\\GitHub repos\\pygor\\src\\pygor\\load.py:36: UserWarning: Class 'Experiment' is already imported, skipping.\n",
      "  warnings.warn(f\"Class '{obj.__name__}' is already imported, skipping.\", UserWarning)\n",
      "C:\\Users\\SimenLab\\OneDrive\\Universitet\\PhD\\GitHub repos\\pygor\\src\\pygor\\load.py:36: UserWarning: Class 'FullField' is already imported, skipping.\n",
      "  warnings.warn(f\"Class '{obj.__name__}' is already imported, skipping.\", UserWarning)\n",
      "C:\\Users\\SimenLab\\OneDrive\\Universitet\\PhD\\GitHub repos\\pygor\\src\\pygor\\load.py:36: UserWarning: Class 'MovingBars' is already imported, skipping.\n",
      "  warnings.warn(f\"Class '{obj.__name__}' is already imported, skipping.\", UserWarning)\n",
      "C:\\Users\\SimenLab\\OneDrive\\Universitet\\PhD\\GitHub repos\\pygor\\src\\pygor\\load.py:36: UserWarning: Class 'STRF' is already imported, skipping.\n",
      "  warnings.warn(f\"Class '{obj.__name__}' is already imported, skipping.\", UserWarning)\n",
      "..\n",
      "----------------------------------------------------------------------\n",
      "Ran 8 tests in 5.201s\n",
      "\n",
      "OK\n"
     ]
    },
    {
     "name": "stdout",
     "output_type": "stream",
     "text": [
      "Access custom classes using 'from pygor.load import ClassName'repos\\pygor\\src\\pygor\\test\\test.pkl\n",
      "\n",
      "(strfsclone) c:\\Users\\SimenLab\\OneDrive\\Universitet\\PhD\\GitHub repos\\pygor\\src\\pygor>"
     ]
    }
   ],
   "source": [
    "%%cmd\n",
    "cd ..\n",
    "cd src/pygor\n",
    "python -m unittest discover test"
   ]
  }
 ],
 "metadata": {
  "kernelspec": {
   "display_name": "strf",
   "language": "python",
   "name": "python3"
  },
  "language_info": {
   "codemirror_mode": {
    "name": "ipython",
    "version": 3
   },
   "file_extension": ".py",
   "mimetype": "text/x-python",
   "name": "python",
   "nbconvert_exporter": "python",
   "pygments_lexer": "ipython3",
   "version": "3.10.8"
  }
 },
 "nbformat": 4,
 "nbformat_minor": 2
}
