{
 "cells": [
  {
   "cell_type": "code",
   "execution_count": 29,
   "metadata": {},
   "outputs": [],
   "source": [
    "import pygor.experiment"
   ]
  },
  {
   "cell_type": "code",
   "execution_count": 38,
   "metadata": {},
   "outputs": [
    {
     "name": "stderr",
     "output_type": "stream",
     "text": [
      "C:\\Users\\Simen\\OneDrive\\Universitet\\PhD\\GitHub repos\\pygor\\src\\pygor\\experiment.py:542: UserWarning: Rotation detected and corrected for C:\\Users\\Simen\\Downloads\\2023-11-14_0_0_SWN_200_Colours.h5\n",
      "  self.strfs = pygor.data_helpers.load_strf(HDF5_file)\n"
     ]
    }
   ],
   "source": [
    "loc = r\"C:\\Users\\Simen\\Downloads\\2023-11-14_0_0_SWN_200_Colours.h5\"\n",
    "test = pygor.experiment.STRF(loc)"
   ]
  },
  {
   "cell_type": "code",
   "execution_count": 50,
   "metadata": {},
   "outputs": [
    {
     "data": {
      "text/plain": [
       "nan"
      ]
     },
     "execution_count": 50,
     "metadata": {},
     "output_type": "execute_result"
    }
   ],
   "source": [
    "test.averages"
   ]
  },
  {
   "cell_type": "code",
   "execution_count": 51,
   "metadata": {},
   "outputs": [
    {
     "data": {
      "text/plain": [
       "nan"
      ]
     },
     "execution_count": 51,
     "metadata": {},
     "output_type": "execute_result"
    }
   ],
   "source": [
    "getattr(test, \"averages\")"
   ]
  },
  {
   "cell_type": "code",
   "execution_count": 4,
   "metadata": {},
   "outputs": [
    {
     "ename": "AttributeError",
     "evalue": "module 'pygor' has no attribute 'data_objects_beta'",
     "output_type": "error",
     "traceback": [
      "\u001b[1;31m---------------------------------------------------------------------------\u001b[0m",
      "\u001b[1;31mAttributeError\u001b[0m                            Traceback (most recent call last)",
      "\u001b[1;32mc:\\Users\\Simen\\OneDrive\\Universitet\\PhD\\GitHub repos\\pygor\\refactor_testing.ipynb Cell 2\u001b[0m line \u001b[0;36m1\n\u001b[1;32m----> <a href='vscode-notebook-cell:/c%3A/Users/Simen/OneDrive/Universitet/PhD/GitHub%20repos/pygor/refactor_testing.ipynb#W3sZmlsZQ%3D%3D?line=0'>1</a>\u001b[0m pygor\u001b[39m.\u001b[39;49mdata_objects_beta\n",
      "\u001b[1;31mAttributeError\u001b[0m: module 'pygor' has no attribute 'data_objects_beta'"
     ]
    }
   ],
   "source": [
    "pygor.data_objects_beta"
   ]
  },
  {
   "cell_type": "code",
   "execution_count": 4,
   "metadata": {},
   "outputs": [
    {
     "ename": "AttributeError",
     "evalue": "module 'pygor.data_objs' has no attribute 'data_objects_beta'",
     "output_type": "error",
     "traceback": [
      "\u001b[1;31m---------------------------------------------------------------------------\u001b[0m",
      "\u001b[1;31mAttributeError\u001b[0m                            Traceback (most recent call last)",
      "\u001b[1;32mc:\\Users\\Simen\\OneDrive\\Universitet\\PhD\\GitHub repos\\pygor\\refactor_testing.ipynb Cell 2\u001b[0m line \u001b[0;36m1\n\u001b[1;32m----> <a href='vscode-notebook-cell:/c%3A/Users/Simen/OneDrive/Universitet/PhD/GitHub%20repos/pygor/refactor_testing.ipynb#W2sZmlsZQ%3D%3D?line=0'>1</a>\u001b[0m pygor\u001b[39m.\u001b[39;49mdata_objs\u001b[39m.\u001b[39;49mdata_objects_beta\n",
      "\u001b[1;31mAttributeError\u001b[0m: module 'pygor.data_objs' has no attribute 'data_objects_beta'"
     ]
    }
   ],
   "source": [
    "pygor.data_objs.data_objects_beta"
   ]
  }
 ],
 "metadata": {
  "kernelspec": {
   "display_name": "strf",
   "language": "python",
   "name": "python3"
  },
  "language_info": {
   "codemirror_mode": {
    "name": "ipython",
    "version": 3
   },
   "file_extension": ".py",
   "mimetype": "text/x-python",
   "name": "python",
   "nbconvert_exporter": "python",
   "pygments_lexer": "ipython3",
   "version": "3.10.8"
  }
 },
 "nbformat": 4,
 "nbformat_minor": 2
}
