{
 "cells": [
  {
   "cell_type": "code",
   "execution_count": 1,
   "metadata": {},
   "outputs": [],
   "source": [
    "import pygor.experiment\n",
    "%reload_ext autoreload\n",
    "%autoreload 2"
   ]
  },
  {
   "cell_type": "code",
   "execution_count": 2,
   "metadata": {},
   "outputs": [
    {
     "name": "stderr",
     "output_type": "stream",
     "text": [
      "C:\\Users\\Simen\\OneDrive\\Universitet\\PhD\\GitHub repos\\pygor\\src\\pygor\\experiment.py:547: UserWarning: Rotation detected and corrected for C:\\Users\\Simen\\Downloads\\2023-11-14_0_0_SWN_200_Colours.h5\n",
      "  self.strfs = pygor.data_helpers.load_strf(HDF5_file)\n"
     ]
    }
   ],
   "source": [
    "loc = r\"C:\\Users\\Simen\\Downloads\\2023-11-14_0_0_SWN_200_Colours.h5\"\n",
    "test = pygor.experiment.STRF(loc)"
   ]
  },
  {
   "cell_type": "code",
   "execution_count": 18,
   "metadata": {},
   "outputs": [
    {
     "ename": "AttributeError",
     "evalue": "self.averages is nan, meaning it has likely not been generated",
     "output_type": "error",
     "traceback": [
      "\u001b[1;31m---------------------------------------------------------------------------\u001b[0m",
      "\u001b[1;31mAttributeError\u001b[0m                            Traceback (most recent call last)",
      "\u001b[1;32mc:\\Users\\Simen\\OneDrive\\Universitet\\PhD\\GitHub repos\\pygor\\refactor_testing.ipynb Cell 3\u001b[0m line \u001b[0;36m1\n\u001b[1;32m----> <a href='vscode-notebook-cell:/c%3A/Users/Simen/OneDrive/Universitet/PhD/GitHub%20repos/pygor/refactor_testing.ipynb#X11sZmlsZQ%3D%3D?line=0'>1</a>\u001b[0m test\u001b[39m.\u001b[39;49mplot_averages()\n",
      "File \u001b[1;32m~\\OneDrive\\Universitet\\PhD\\GitHub repos\\pygor\\src\\pygor\\experiment.py:311\u001b[0m, in \u001b[0;36mData.plot_averages\u001b[1;34m(self, rois, figsize, figsize_scale, axs, **kwargs)\u001b[0m\n\u001b[0;32m    309\u001b[0m \u001b[39m# Handle arguments, keywords, and exceptions\u001b[39;00m\n\u001b[0;32m    310\u001b[0m \u001b[39mif\u001b[39;00m np\u001b[39m.\u001b[39misnan(\u001b[39mself\u001b[39m\u001b[39m.\u001b[39maverages) \u001b[39m==\u001b[39m \u001b[39mTrue\u001b[39;00m:\n\u001b[1;32m--> 311\u001b[0m     \u001b[39mraise\u001b[39;00m \u001b[39mAttributeError\u001b[39;00m(\u001b[39m\"\u001b[39m\u001b[39mself.averages is nan, meaning it has likely not been generated\u001b[39m\u001b[39m\"\u001b[39m)\n\u001b[0;32m    312\u001b[0m \u001b[39mif\u001b[39;00m \u001b[39misinstance\u001b[39m(rois, Iterable) \u001b[39mis\u001b[39;00m \u001b[39mFalse\u001b[39;00m \u001b[39mand\u001b[39;00m \u001b[39mnot\u001b[39;00m rois: \u001b[39m# I dont like this solution, but it gets around user ambigouity error if passing numpy array\u001b[39;00m\n\u001b[0;32m    313\u001b[0m     rois \u001b[39m=\u001b[39m np\u001b[39m.\u001b[39marange(\u001b[39m0\u001b[39m, \u001b[39mself\u001b[39m\u001b[39m.\u001b[39mnum_rois)\n",
      "\u001b[1;31mAttributeError\u001b[0m: self.averages is nan, meaning it has likely not been generated"
     ]
    }
   ],
   "source": [
    "test.plot_averages()"
   ]
  },
  {
   "cell_type": "code",
   "execution_count": 167,
   "metadata": {},
   "outputs": [
    {
     "data": {
      "text/plain": [
       "WindowsPath('c:/Users/Simen/OneDrive/Universitet/PhD/GitHub repos/pygor/test.pkl')"
      ]
     },
     "execution_count": 167,
     "metadata": {},
     "output_type": "execute_result"
    }
   ],
   "source": [
    "import pathlib\n",
    "dir_path = os.getcwd()\n",
    "filename = \"test.pkl\"\n",
    "pathlib.Path(dir_path, filename)"
   ]
  },
  {
   "cell_type": "code",
   "execution_count": 168,
   "metadata": {},
   "outputs": [
    {
     "name": "stderr",
     "output_type": "stream",
     "text": [
      "C:\\Users\\Simen\\OneDrive\\Universitet\\PhD\\GitHub repos\\pygor\\src\\pygor\\experiment.py:547: UserWarning: Rotation detected and corrected for C:\\Users\\Simen\\Downloads\\2023-11-14_0_0_SWN_200_Colours.h5\n",
      "  self.strfs = pygor.data_helpers.load_strf(HDF5_file)\n",
      "."
     ]
    },
    {
     "name": "stdout",
     "output_type": "stream",
     "text": [
      "Disallowed keys: ['bs_already_ran', 'bs_datetime', 'bs_datetime_str', 'bs_dur_timedelta']\n"
     ]
    },
    {
     "name": "stderr",
     "output_type": "stream",
     "text": [
      "C:\\Users\\Simen\\OneDrive\\Universitet\\PhD\\GitHub repos\\pygor\\src\\pygor\\experiment.py:661: UserWarning: Input anomalies found\n",
      "  warnings.warn(warning_string, stacklevel=0)\n"
     ]
    },
    {
     "data": {
      "application/vnd.jupyter.widget-view+json": {
       "model_id": "008ffeaab4a949378f3335f56818ff29",
       "version_major": 2,
       "version_minor": 0
      },
      "text/plain": [
       "Hang on, bootstrapping pygor.temporal components 10 times:   0%|          | 0/44 [00:00<?, ?it/s]"
      ]
     },
     "metadata": {},
     "output_type": "display_data"
    },
    {
     "data": {
      "application/vnd.jupyter.widget-view+json": {
       "model_id": "94eecbdc31414a67a6687e4a84413cfb",
       "version_major": 2,
       "version_minor": 0
      },
      "text/plain": [
       "Hang on, bootstrapping spatial components 10 times:   0%|          | 0/44 [00:00<?, ?it/s]"
      ]
     },
     "metadata": {},
     "output_type": "display_data"
    },
    {
     "name": "stderr",
     "output_type": "stream",
     "text": [
      ".."
     ]
    },
    {
     "name": "stdout",
     "output_type": "stream",
     "text": [
      "Storing as: C:\\Users\\Simen\\OneDrive\\Universitet\\PhD\\GitHub repos\\pygor\\unittests\\test.pkl\r"
     ]
    },
    {
     "name": "stderr",
     "output_type": "stream",
     "text": [
      ".C:\\Users\\Simen\\OneDrive\\Universitet\\PhD\\GitHub repos\\pygor\\src\\pygor\\experiment.py:379: UserWarning: No repetitions detected, returning original images\n",
      "  warnings.warn(\"No repetitions detected, returning original images\")\n",
      "c:\\Users\\Simen\\miniconda3\\envs\\strfclone\\lib\\site-packages\\numpy\\lib\\function_base.py:518: RuntimeWarning: Mean of empty slice.\n",
      "  avg = a.mean(axis, **keepdims_kw)\n",
      "c:\\Users\\Simen\\miniconda3\\envs\\strfclone\\lib\\site-packages\\numpy\\core\\_methods.py:184: RuntimeWarning: invalid value encountered in divide\n",
      "  ret = um.true_divide(\n"
     ]
    },
    {
     "name": "stdout",
     "output_type": "stream",
     "text": [
      "\n",
      "Welcome to your data object! \n",
      "Below are attributes and methods, as well as some metadata.\n",
      "Pass 'hint = True' for more tips and hints on using the data class.\n",
      "    ## Class info:\n",
      "        Current data type: \n",
      "        ['STRF']\n",
      "        Current metadata: \n",
      "       { 'exp_date': datetime.date(2023, 11, 14),\n",
      "         'exp_time': datetime.time(16, 16, 15),\n",
      "         'filename': 'C:\\\\Users\\\\Simen\\\\Downloads\\\\2023-11-14_0_0_SWN_200_Colours.h5',\n",
      "         'objectiveXYZ': (-126820.0, -74368.0, -124050.0)}\n",
      "\n",
      "    ## Attributes\n",
      "        Here's the data you have access to -> pass 'types = True' for type hints, attr (type):\n",
      "    [ 'averages', 'bs_bool', 'bs_settings', 'data_types', 'filename', 'frame_hz', 'images', 'ipl_depths',\n",
      "      'metadata', 'ms_dur', 'multicolour', 'name', 'num_rois', 'num_strfs', 'numcolour', 'phase_num', 'rois',\n",
      "      'snippets', 'strf_keys', 'strfs', 'trigger_mode', 'triggerstimes_frame', 'triggertimes', 'type']\n",
      "    \n",
      "    ## Methods\n",
      "        Here's some actions you have -> pass 'types = True' for type hints, func (return type):\n",
      "    [ 'calc_LED_offset', 'calculate_average_images', 'collapse_times', 'contours', 'contours_area',\n",
      "      'contours_centres', 'contours_centres_by_pol', 'contours_centroids', 'contours_complexities',\n",
      "      'contours_count', 'dominant_timecourses', 'get_bootstrap_settings', 'get_help', 'opponency_bool',\n",
      "      'plot_averages', 'plot_chromatic_overview', 'polarities', 'polarity_category', 'pval_space', 'pval_time',\n",
      "      'pvals_table', 'rf_masks', 'rf_masks_combined', 'run_bootstrap', 'save_pkl',\n",
      "      'set_default_bootstrap_settings', 'spectral_centroids', 'spectrums', 'strf_masks', 'timecourses',\n",
      "      'timecourses_noncentred', 'tunings_amplitude', 'tunings_area', 'tunings_centroids', 'tunings_peaktime',\n",
      "      'update_bootstrap_settings', 'view_drift', 'view_stack_projection', 'view_stack_rois']\n",
      "\n",
      "    NB: Feel free to write your own attributes (data) and methods (actions)!\n",
      "    Happy analysin' (:\n",
      "    "
     ]
    },
    {
     "name": "stderr",
     "output_type": "stream",
     "text": [
      "C:\\Users\\Simen\\OneDrive\\Universitet\\PhD\\GitHub repos\\pygor\\unittests\\STRF_unit_test.py:29: UserWarning: Method plot_averages gave AttributeError\n",
      "  warnings.warn(f\"Method {i} gave AttributeError\")\n",
      "C:\\Users\\Simen\\OneDrive\\Universitet\\PhD\\GitHub repos\\pygor\\src\\pygor\\experiment.py:1080: UserWarning: size stimates in arbitrary cartesian units\n",
      "  warnings.warn(\"size stimates in arbitrary cartesian units\")\n",
      "C:\\Users\\Simen\\OneDrive\\Universitet\\PhD\\GitHub repos\\pygor\\src\\pygor\\experiment.py:213: PendingDeprecationWarning: The get_cmap function will be deprecated in a future version. Use ``matplotlib.colormaps[name]`` or ``matplotlib.colormaps.get_cmap(obj)`` instead.\n",
      "  color = cm.get_cmap('jet_r', num_rois)\n",
      ".\n",
      "----------------------------------------------------------------------\n",
      "Ran 5 tests in 13.792s\n",
      "\n",
      "OK\n"
     ]
    }
   ],
   "source": [
    "%run -e unittests/STRF_unit_test.py"
   ]
  },
  {
   "cell_type": "code",
   "execution_count": 156,
   "metadata": {},
   "outputs": [
    {
     "data": {
      "text/plain": [
       "'c:\\\\Users\\\\Simen\\\\OneDrive\\\\Universitet\\\\PhD\\\\GitHub repos\\\\pygor'"
      ]
     },
     "execution_count": 156,
     "metadata": {},
     "output_type": "execute_result"
    }
   ],
   "source": [
    "import os, pathlib\n",
    "os.getcwd()"
   ]
  },
  {
   "cell_type": "code",
   "execution_count": 157,
   "metadata": {},
   "outputs": [
    {
     "name": "stdout",
     "output_type": "stream",
     "text": [
      "Storing as: c:\\Users\\Simen\\OneDrive\\Universitet\\PhD\\GitHub repos\\pygor\\test.pkl\r"
     ]
    }
   ],
   "source": [
    "test.save_pkl(os.getcwd(), \"test.pkl\")"
   ]
  },
  {
   "cell_type": "code",
   "execution_count": 35,
   "metadata": {},
   "outputs": [],
   "source": [
    "import matplotlib.pyplot as plt"
   ]
  },
  {
   "cell_type": "code",
   "execution_count": 73,
   "metadata": {},
   "outputs": [
    {
     "data": {
      "text/plain": [
       "1.1945252774937223"
      ]
     },
     "execution_count": 73,
     "metadata": {},
     "output_type": "execute_result"
    }
   ],
   "source": [
    "pygor.temporal.spectral_centroid(test.timecourses()[5, 0])[2]\n"
   ]
  },
  {
   "cell_type": "code",
   "execution_count": null,
   "metadata": {},
   "outputs": [],
   "source": [
    "STRF.save_pkl"
   ]
  },
  {
   "cell_type": "code",
   "execution_count": 13,
   "metadata": {},
   "outputs": [
    {
     "data": {
      "text/plain": [
       "array([[[  0.        ,   0.17049172,   1.04181407, ..., -12.12025019,\n",
       "          -8.3210439 ,  -4.39089154],\n",
       "        [  0.        ,   0.        ,   0.        , ...,   0.        ,\n",
       "           0.        ,   0.        ]],\n",
       "\n",
       "       [[  0.        ,   0.19939171,   0.4548505 , ...,  -4.03171814,\n",
       "          -2.95838338,  -1.57717028],\n",
       "        [  0.        ,   0.        ,   0.        , ...,   0.        ,\n",
       "           0.        ,   0.        ]],\n",
       "\n",
       "       [[  0.        ,  -0.27492294,  -0.49753022, ...,  -1.09266983,\n",
       "          -0.93472604,  -0.96576875],\n",
       "        [  0.        ,   0.05597824,  -0.22194533, ...,   0.91855563,\n",
       "           1.07363275,   0.98545719]],\n",
       "\n",
       "       ...,\n",
       "\n",
       "       [[  0.        ,   0.42344721,   0.6805734 , ...,  -1.81246486,\n",
       "          -0.56769558,  -0.21154422],\n",
       "        [  0.        ,   0.61964027,   1.24321724, ...,   2.64093108,\n",
       "           3.1640968 ,   2.41279266]],\n",
       "\n",
       "       [[  0.        ,   0.        ,   0.        , ...,   0.        ,\n",
       "           0.        ,   0.        ],\n",
       "        [  0.        ,  -0.16979411,  -0.30565496, ...,   2.37192575,\n",
       "           1.50008226,   1.12481411]],\n",
       "\n",
       "       [[  0.        ,   0.        ,   0.        , ...,   0.        ,\n",
       "           0.        ,   0.        ],\n",
       "        [  0.        ,  -0.13285247,  -0.6189168 , ...,   3.45788104,\n",
       "           2.08176497,   1.00507894]]])"
      ]
     },
     "execution_count": 13,
     "metadata": {},
     "output_type": "execute_result"
    }
   ],
   "source": [
    "test.timecourses().data"
   ]
  },
  {
   "cell_type": "code",
   "execution_count": 7,
   "metadata": {},
   "outputs": [
    {
     "data": {
      "text/plain": [
       "1"
      ]
     },
     "execution_count": 7,
     "metadata": {},
     "output_type": "execute_result"
    }
   ],
   "source": [
    "test.phase_num"
   ]
  },
  {
   "cell_type": "code",
   "execution_count": 54,
   "metadata": {},
   "outputs": [
    {
     "name": "stdout",
     "output_type": "stream",
     "text": [
      "\n",
      "Welcome to your data object! \n",
      "Below are attributes and methods, as well as some metadata.\n",
      "Pass 'hint = True' for more tips and hints on using the data class.\n",
      "    ## Class info:\n",
      "        Current data type: \n",
      "        ['STRF']\n",
      "        Current metadata: \n",
      "       { 'exp_date': datetime.date(2023, 11, 14),\n",
      "         'exp_time': datetime.time(16, 16, 15),\n",
      "         'filename': 'C:\\\\Users\\\\Simen\\\\Downloads\\\\2023-11-14_0_0_SWN_200_Colours.h5',\n",
      "         'objectiveXYZ': (-126820.0, -74368.0, -124050.0)}\n",
      "\n",
      "    ## Attributes\n",
      "        Here's the data you have access to -> pass 'types = True' for type hints, attr (type):\n",
      "    [ 'averages', 'bs_bool', 'bs_settings', 'data_types', 'filename', 'frame_hz', 'images', 'ipl_depths',\n",
      "      'metadata', 'ms_dur', 'multicolour', 'name', 'num_rois', 'num_strfs', 'numcolour', 'phase_num', 'rois',\n",
      "      'snippets', 'strf_keys', 'strfs', 'trigger_mode', 'triggerstimes_frame', 'triggertimes', 'type']\n",
      "    \n",
      "    ## Methods\n",
      "        Here's some actions you have -> pass 'types = True' for type hints, func (return type):\n",
      "    [ 'calc_LED_offset', 'calculate_average_images', 'collapse_times', 'contours', 'contours_area',\n",
      "      'contours_centres', 'contours_centres_by_pol', 'contours_centroids', 'contours_complexities',\n",
      "      'contours_count', 'dominant_timecourses', 'get_bootstrap_settings', 'get_help', 'opponency_bool',\n",
      "      'plot_averages', 'plot_chromatic_overview', 'polarities', 'polarity_category', 'pval_space', 'pval_time',\n",
      "      'pvals_table', 'rf_masks', 'rf_masks_combined', 'run_bootstrap', 'save_pkl',\n",
      "      'set_default_bootstrap_settings', 'spectral_centroids', 'spectrums', 'strf_masks', 'timecourses',\n",
      "      'timecourses_noncentred', 'tunings_amplitude', 'tunings_area', 'tunings_centroids', 'tunings_peaktime',\n",
      "      'update_bootstrap_settings', 'view_drift', 'view_stack_projection', 'view_stack_rois']\n",
      "\n",
      "    NB: Feel free to write your own attributes (data) and methods (actions)!\n",
      "    Happy analysin' (:\n",
      "    "
     ]
    }
   ],
   "source": [
    "test.get_help()"
   ]
  },
  {
   "cell_type": "code",
   "execution_count": 4,
   "metadata": {},
   "outputs": [
    {
     "ename": "AttributeError",
     "evalue": "module 'pygor.data_objs' has no attribute 'data_objects_beta'",
     "output_type": "error",
     "traceback": [
      "\u001b[1;31m---------------------------------------------------------------------------\u001b[0m",
      "\u001b[1;31mAttributeError\u001b[0m                            Traceback (most recent call last)",
      "\u001b[1;32mc:\\Users\\Simen\\OneDrive\\Universitet\\PhD\\GitHub repos\\pygor\\refactor_testing.ipynb Cell 2\u001b[0m line \u001b[0;36m1\n\u001b[1;32m----> <a href='vscode-notebook-cell:/c%3A/Users/Simen/OneDrive/Universitet/PhD/GitHub%20repos/pygor/refactor_testing.ipynb#W2sZmlsZQ%3D%3D?line=0'>1</a>\u001b[0m pygor\u001b[39m.\u001b[39;49mdata_objs\u001b[39m.\u001b[39;49mdata_objects_beta\n",
      "\u001b[1;31mAttributeError\u001b[0m: module 'pygor.data_objs' has no attribute 'data_objects_beta'"
     ]
    }
   ],
   "source": [
    "pygor.data_objs.data_objects_beta"
   ]
  }
 ],
 "metadata": {
  "kernelspec": {
   "display_name": "strf",
   "language": "python",
   "name": "python3"
  },
  "language_info": {
   "codemirror_mode": {
    "name": "ipython",
    "version": 3
   },
   "file_extension": ".py",
   "mimetype": "text/x-python",
   "name": "python",
   "nbconvert_exporter": "python",
   "pygments_lexer": "ipython3",
   "version": "3.10.8"
  }
 },
 "nbformat": 4,
 "nbformat_minor": 2
}
