version https://git-lfs.github.com/spec/v1
oid sha256:c8fd6d72b0e2805adfbf6784a3045768f2c9b1ea595f8b312b1ee156b2e9d669
size 4885388
