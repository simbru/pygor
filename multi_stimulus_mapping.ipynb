version https://git-lfs.github.com/spec/v1
oid sha256:8e32a7940bc4bbe8875d6bf284ae212686d773ede3c4ecfb83b9cb0e354c62c6
size 2580897
