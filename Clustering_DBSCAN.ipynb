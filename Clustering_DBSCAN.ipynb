{
 "cells": [
  {
   "cell_type": "code",
   "execution_count": null,
   "metadata": {},
   "outputs": [],
   "source": [
    "import pygor.load \n",
    "import numpy as np\n",
    "import matplotlib.pyplot as plt\n",
    "import pandas as pd\n",
    "from sklearn import cluster\n",
    "\n",
    "data_path = 'C:/Users/Michael Forsthofer/OneDrive - University of Sussex/BadenLab/2p-imaging/contralateral_OT_singleplane/st66/'\n",
    "\n",
    "filename = '2024-8-14_x240814_2_4cOT.h5'\n",
    "data_object = pygor.load.Core(data_path+filename)"
   ]
  },
  {
   "cell_type": "code",
   "execution_count": null,
   "metadata": {},
   "outputs": [],
   "source": [
    "def flexible_reshape(array, columns):\n",
    "    # Calculate the number of elements to keep\n",
    "    elements_to_keep = (len(array) // columns) * columns\n",
    "    # Reshape the array\n",
    "    reshaped_array = array[:elements_to_keep].reshape(-1, columns)\n",
    "    return reshaped_array\n",
    "\n",
    "triggertimes_ms = (data_object.triggerstimes_frame-data_object.triggerstimes_frame[0])/data_object.frame_hz/data_object.linedur_s\n",
    "\n",
    "mean_triggertimes_ms = flexible_reshape(triggertimes_ms, data_object.trigger_mode)\n",
    "mean_triggertimes_ms = np.mean(mean_triggertimes_ms, axis=0)-np.mean(mean_triggertimes_ms, axis=0)[0]\n",
    "\n",
    "\n",
    "\n",
    "stimtypes = ['stationary stripes','moving stripes','stationary stripes','OFF','dots_ON','OFF','ON','dots_OFF','ON',]\n",
    "\n",
    "mean_triggertimes_extended = np.round(np.append(mean_triggertimes_ms, len(traces.transpose()))).astype(int)\n",
    "stim_responses = []\n",
    "traces = data_object.averages"
   ]
  }
 ],
 "metadata": {
  "language_info": {
   "name": "python"
  }
 },
 "nbformat": 4,
 "nbformat_minor": 2
}
