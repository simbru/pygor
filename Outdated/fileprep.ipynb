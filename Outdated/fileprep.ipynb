{
 "cells": [
  {
   "cell_type": "markdown",
   "metadata": {},
   "source": [
    "## A notebook for prepping, processesing, bootstrapping, and pickeling objects for analysis"
   ]
  },
  {
   "cell_type": "code",
   "execution_count": null,
   "metadata": {},
   "outputs": [],
   "source": [
    "import filehandling"
   ]
  },
  {
   "cell_type": "code",
   "execution_count": 5,
   "metadata": {},
   "outputs": [
    {
     "data": {
      "text/plain": [
       "[WindowsPath('D:/Igor analyses/230613/0_0_ColorSWN_200_0/2023-6-13_0_0_ColourSWN_200_0.h5'),\n",
       " WindowsPath('D:/Igor analyses/230613/0_1_ColorSWN_200_0/2023-6-13_0_1_ColourSWN_200_0.h5'),\n",
       " WindowsPath('D:/Igor analyses/230614/0_1_ColorSWN_200_0/2023-6-14_SMP_0_2_ColourSWN_200_0.h5'),\n",
       " WindowsPath(\"D:/Igor analyses/230614/0_2_ColorSWN_200_0/2023-6-14_'0_2_ColourSWN_200_0'.h5\"),\n",
       " WindowsPath(\"D:/Igor analyses/230718/0_1_ColorSWN_200_0/2023-7-18_'0_1_ColourSWN_200_0'.h5\"),\n",
       " WindowsPath('D:/Igor analyses/230718/0_4_ColorSWN_200_0/2023-7-18_ColourSWN_200_0_4.h5'),\n",
       " WindowsPath(\"D:/Igor analyses/230731/0_1_ColourSWN_200_0/2023-7-31_'0_1_ColourSWN_200_0'.h5\"),\n",
       " WindowsPath(\"D:/Igor analyses/230801/0_0_ColourSWN_0/2023-8-1_'0_0_ColourSWN_200_0'.h5\"),\n",
       " WindowsPath(\"D:/Igor analyses/230802/0_1_ColourSWN_0/2023-8-2_'0_1_ColourSWN_200_0'.h5\"),\n",
       " WindowsPath(\"D:/Igor analyses/230802/0_1_ColourSWN_1H/2023-8-2_'0_1_ColourSWN_200_1H'.h5\"),\n",
       " WindowsPath('D:/Igor analyses/231107 rfs here/2023-11-7_0_0_ColourSWN_200.h5'),\n",
       " WindowsPath('D:/Igor analyses/231107 rfs here/2023-11-7_0_2_ColourSWN_200_1.h5'),\n",
       " WindowsPath('D:/Igor analyses/231107 rfs here/2023-11-7_0_4_ColourSWN_200.h5'),\n",
       " WindowsPath('D:/Igor analyses/231107 rfs here/2023-11-7_MP_0_3_ColourSWN_200_.h5'),\n",
       " WindowsPath('D:/Igor analyses/231108/2023-11-8_MP_0_0_ColourSWN_200_.h5')]"
      ]
     },
     "execution_count": 5,
     "metadata": {},
     "output_type": "execute_result"
    }
   ],
   "source": [
    "files = filehandling.find_files_in(\".h5\", r\"D:\\Igor analyses\", search_terms = [\"ColourSWN\", ], recursive=True) #\"ColoursSWN\"\n",
    "files"
   ]
  },
  {
   "cell_type": "code",
   "execution_count": 6,
   "metadata": {},
   "outputs": [
    {
     "data": {
      "application/vnd.jupyter.widget-view+json": {
       "model_id": "794197a78ffc427ea835f7299e65b26b",
       "version_major": 2,
       "version_minor": 0
      },
      "text/plain": [
       "Iterating through, loading, and storing listed files as objects:   0%|          | 0/15 [00:00<?, ?it/s]"
      ]
     },
     "metadata": {},
     "output_type": "display_data"
    },
    {
     "data": {
      "application/vnd.jupyter.widget-view+json": {
       "model_id": "a32825fc26d6473a802286ddf318e074",
       "version_major": 2,
       "version_minor": 0
      },
      "text/plain": [
       "Output()"
      ]
     },
     "metadata": {},
     "output_type": "display_data"
    }
   ],
   "source": [
    "output_to = r\"D:\\Pickles\\Test_output\"\n",
    "filehandling.picklestore_objects(files, output_to)"
   ]
  },
  {
   "cell_type": "markdown",
   "metadata": {},
   "source": [
    "### Check if pickling was was successful "
   ]
  },
  {
   "cell_type": "code",
   "execution_count": 9,
   "metadata": {},
   "outputs": [
    {
     "data": {
      "text/plain": [
       "[WindowsPath('D:/Pickles/Test_output/2023-11-7_0_0_ColourSWN_200.pkl'),\n",
       " WindowsPath('D:/Pickles/Test_output/2023-11-7_0_2_ColourSWN_200_1.pkl'),\n",
       " WindowsPath('D:/Pickles/Test_output/2023-11-7_0_4_ColourSWN_200.pkl'),\n",
       " WindowsPath('D:/Pickles/Test_output/2023-11-7_MP_0_3_ColourSWN_200_.pkl'),\n",
       " WindowsPath('D:/Pickles/Test_output/2023-11-8_MP_0_0_ColourSWN_200_.pkl'),\n",
       " WindowsPath('D:/Pickles/Test_output/2023-6-13_0_0_ColourSWN_200_0.pkl'),\n",
       " WindowsPath('D:/Pickles/Test_output/2023-6-13_0_1_ColourSWN_200_0.pkl'),\n",
       " WindowsPath(\"D:/Pickles/Test_output/2023-6-14_'0_2_ColourSWN_200_0'.pkl\"),\n",
       " WindowsPath('D:/Pickles/Test_output/2023-6-14_SMP_0_2_ColourSWN_200_0.pkl'),\n",
       " WindowsPath(\"D:/Pickles/Test_output/2023-7-18_'0_1_ColourSWN_200_0'.pkl\"),\n",
       " WindowsPath('D:/Pickles/Test_output/2023-7-18_ColourSWN_200_0_4.pkl'),\n",
       " WindowsPath(\"D:/Pickles/Test_output/2023-7-31_'0_1_ColourSWN_200_0'.pkl\"),\n",
       " WindowsPath(\"D:/Pickles/Test_output/2023-8-1_'0_0_ColourSWN_200_0'.pkl\"),\n",
       " WindowsPath(\"D:/Pickles/Test_output/2023-8-2_'0_1_ColourSWN_200_0'.pkl\"),\n",
       " WindowsPath(\"D:/Pickles/Test_output/2023-8-2_'0_1_ColourSWN_200_1H'.pkl\")]"
      ]
     },
     "execution_count": 9,
     "metadata": {},
     "output_type": "execute_result"
    }
   ],
   "source": [
    "pkl_files = files = filehandling.find_files_in(\".pkl\" ,output_to, recursive=True) #\"ColoursSWN\"\n",
    "pkl_files"
   ]
  }
 ],
 "metadata": {
  "kernelspec": {
   "display_name": "strf_beta",
   "language": "python",
   "name": "python3"
  },
  "language_info": {
   "codemirror_mode": {
    "name": "ipython",
    "version": 3
   },
   "file_extension": ".py",
   "mimetype": "text/x-python",
   "name": "python",
   "nbconvert_exporter": "python",
   "pygments_lexer": "ipython3",
   "version": "3.10.9"
  },
  "orig_nbformat": 4
 },
 "nbformat": 4,
 "nbformat_minor": 2
}
