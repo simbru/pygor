{
 "cells": [
  {
   "cell_type": "code",
   "execution_count": 1,
   "metadata": {},
   "outputs": [
    {
     "name": "stderr",
     "output_type": "stream",
     "text": [
      "c:\\Users\\SimenLab\\miniconda3\\envs\\strfsclone\\lib\\site-packages\\skimage\\util\\dtype.py:27: DeprecationWarning: `np.bool8` is a deprecated alias for `np.bool_`.  (Deprecated NumPy 1.24)\n",
      "  np.bool8: (False, True),\n"
     ]
    },
    {
     "name": "stdout",
     "output_type": "stream",
     "text": [
      "Found 6 custom classes in C:\\Users\\SimenLab\\OneDrive\\Universitet\\PhD\\GitHub repos\\pygor\\src\\pygor\\classes\n",
      "Class names: ['CenterSurround', 'Core', 'Experiment', 'FullField', 'MovingBars', 'STRF']\n",
      "Access custom classes using 'from pygor.load import ClassName'\n"
     ]
    }
   ],
   "source": [
    "import pygor.load\n",
    "import pathlib\n",
    "import os"
   ]
  },
  {
   "cell_type": "markdown",
   "metadata": {},
   "source": [
    "# The rudamentary Experiment object\n",
    "The Experiment object is intended to be simple (although use case will surely expand). Its purpose is to collect together various data object, and organise them much like one would do inside an Igor experiment. Note, however, that the sub-folder-within-subfolder structure is not accounted for (until requested).\n",
    "\n",
    "The use is as follows:\n",
    "1. Navigate to your data"
   ]
  },
  {
   "cell_type": "code",
   "execution_count": 2,
   "metadata": {},
   "outputs": [
    {
     "name": "stdout",
     "output_type": "stream",
     "text": [
      "c:\\Users\\SimenLab\\OneDrive\\Universitet\\PhD\\GitHub repos\\pygor\\src\\pygor\\examples\\strf_demo_data.h5\n"
     ]
    }
   ],
   "source": [
    "file_loc = pathlib.Path(os.getcwd()).parent\n",
    "example_data = file_loc.joinpath(\"src/pygor/examples/strf_demo_data.h5\")\n",
    "print(example_data)\n"
   ]
  },
  {
   "cell_type": "markdown",
   "metadata": {},
   "source": [
    "We then:\n",
    "\n",
    "2. Put that data into corresponding pygor objects (fetching them from pygor.load)"
   ]
  },
  {
   "cell_type": "code",
   "execution_count": 3,
   "metadata": {},
   "outputs": [
    {
     "name": "stderr",
     "output_type": "stream",
     "text": [
      "C:\\Users\\SimenLab\\OneDrive\\Universitet\\PhD\\GitHub repos\\pygor\\src\\pygor\\classes\\strf.py:65: UserWarning: Rotation detected and corrected for c:\\Users\\SimenLab\\OneDrive\\Universitet\\PhD\\GitHub repos\\pygor\\src\\pygor\\examples\\strf_demo_data.h5\n",
      "  self.strfs = pygor.data_helpers.load_strf(HDF5_file)\n"
     ]
    }
   ],
   "source": [
    "fish1 = pygor.load.Core(example_data)\n",
    "fish2 = pygor.load.STRF(example_data)"
   ]
  },
  {
   "cell_type": "markdown",
   "metadata": {},
   "source": [
    "Now:\n",
    "\n",
    "3.  Define an experiment object in much the same way"
   ]
  },
  {
   "cell_type": "code",
   "execution_count": 4,
   "metadata": {},
   "outputs": [],
   "source": [
    "exp = pygor.load.Experiment()"
   ]
  },
  {
   "cell_type": "markdown",
   "metadata": {},
   "source": [
    "Such that:\n",
    "\n",
    "4. We can now attach (insert) our data"
   ]
  },
  {
   "cell_type": "code",
   "execution_count": 5,
   "metadata": {},
   "outputs": [
    {
     "data": {
      "text/html": [
       "<div>\n",
       "<style scoped>\n",
       "    .dataframe tbody tr th:only-of-type {\n",
       "        vertical-align: middle;\n",
       "    }\n",
       "\n",
       "    .dataframe tbody tr th {\n",
       "        vertical-align: top;\n",
       "    }\n",
       "\n",
       "    .dataframe thead th {\n",
       "        text-align: right;\n",
       "    }\n",
       "</style>\n",
       "<table border=\"1\" class=\"dataframe\">\n",
       "  <thead>\n",
       "    <tr style=\"text-align: right;\">\n",
       "      <th></th>\n",
       "      <th>id</th>\n",
       "      <th>name</th>\n",
       "      <th>date</th>\n",
       "      <th>num_rois</th>\n",
       "      <th>type</th>\n",
       "      <th>path</th>\n",
       "    </tr>\n",
       "  </thead>\n",
       "  <tbody>\n",
       "    <tr>\n",
       "      <th>0</th>\n",
       "      <td>0</td>\n",
       "      <td>strf_demo_data</td>\n",
       "      <td>07-11-2023</td>\n",
       "      <td>4</td>\n",
       "      <td>Core</td>\n",
       "      <td>c:\\Users\\SimenLab\\OneDrive\\Universitet\\PhD\\Git...</td>\n",
       "    </tr>\n",
       "    <tr>\n",
       "      <th>1</th>\n",
       "      <td>1</td>\n",
       "      <td>strf_demo_data</td>\n",
       "      <td>07-11-2023</td>\n",
       "      <td>4</td>\n",
       "      <td>STRF</td>\n",
       "      <td>c:\\Users\\SimenLab\\OneDrive\\Universitet\\PhD\\Git...</td>\n",
       "    </tr>\n",
       "    <tr>\n",
       "      <th>2</th>\n",
       "      <td>2</td>\n",
       "      <td>strf_demo_data</td>\n",
       "      <td>07-11-2023</td>\n",
       "      <td>4</td>\n",
       "      <td>Core</td>\n",
       "      <td>c:\\Users\\SimenLab\\OneDrive\\Universitet\\PhD\\Git...</td>\n",
       "    </tr>\n",
       "    <tr>\n",
       "      <th>3</th>\n",
       "      <td>3</td>\n",
       "      <td>strf_demo_data</td>\n",
       "      <td>07-11-2023</td>\n",
       "      <td>4</td>\n",
       "      <td>Core</td>\n",
       "      <td>c:\\Users\\SimenLab\\OneDrive\\Universitet\\PhD\\Git...</td>\n",
       "    </tr>\n",
       "  </tbody>\n",
       "</table>\n",
       "</div>"
      ],
      "text/plain": [
       "   id            name        date  num_rois  type  \\\n",
       "0   0  strf_demo_data  07-11-2023         4  Core   \n",
       "1   1  strf_demo_data  07-11-2023         4  STRF   \n",
       "2   2  strf_demo_data  07-11-2023         4  Core   \n",
       "3   3  strf_demo_data  07-11-2023         4  Core   \n",
       "\n",
       "                                                path  \n",
       "0  c:\\Users\\SimenLab\\OneDrive\\Universitet\\PhD\\Git...  \n",
       "1  c:\\Users\\SimenLab\\OneDrive\\Universitet\\PhD\\Git...  \n",
       "2  c:\\Users\\SimenLab\\OneDrive\\Universitet\\PhD\\Git...  \n",
       "3  c:\\Users\\SimenLab\\OneDrive\\Universitet\\PhD\\Git...  "
      ]
     },
     "execution_count": 5,
     "metadata": {},
     "output_type": "execute_result"
    }
   ],
   "source": [
    "exp.attach_data([fish1, fish2, fish1, fish1])\n",
    "exp.recording_id"
   ]
  },
  {
   "cell_type": "markdown",
   "metadata": {},
   "source": [
    "Note here that you can get retrieve the data using `exp.recording[index]` and you can get an overview using `recording.recording_id`.\n",
    "\n",
    "So lets fetch the first data object in the experiment:"
   ]
  },
  {
   "cell_type": "code",
   "execution_count": 6,
   "metadata": {},
   "outputs": [
    {
     "data": {
      "text/plain": [
       "07-11-2023:Core:strf_demo_data"
      ]
     },
     "execution_count": 6,
     "metadata": {},
     "output_type": "execute_result"
    }
   ],
   "source": [
    "exp.recording[0]"
   ]
  },
  {
   "cell_type": "markdown",
   "metadata": {},
   "source": [
    "In case we want to detach (remove) data, we do so by index "
   ]
  },
  {
   "cell_type": "code",
   "execution_count": 7,
   "metadata": {},
   "outputs": [
    {
     "data": {
      "text/html": [
       "<div>\n",
       "<style scoped>\n",
       "    .dataframe tbody tr th:only-of-type {\n",
       "        vertical-align: middle;\n",
       "    }\n",
       "\n",
       "    .dataframe tbody tr th {\n",
       "        vertical-align: top;\n",
       "    }\n",
       "\n",
       "    .dataframe thead th {\n",
       "        text-align: right;\n",
       "    }\n",
       "</style>\n",
       "<table border=\"1\" class=\"dataframe\">\n",
       "  <thead>\n",
       "    <tr style=\"text-align: right;\">\n",
       "      <th></th>\n",
       "      <th>id</th>\n",
       "      <th>name</th>\n",
       "      <th>date</th>\n",
       "      <th>num_rois</th>\n",
       "      <th>type</th>\n",
       "      <th>path</th>\n",
       "    </tr>\n",
       "  </thead>\n",
       "  <tbody>\n",
       "    <tr>\n",
       "      <th>0</th>\n",
       "      <td>1</td>\n",
       "      <td>strf_demo_data</td>\n",
       "      <td>07-11-2023</td>\n",
       "      <td>4</td>\n",
       "      <td>STRF</td>\n",
       "      <td>c:\\Users\\SimenLab\\OneDrive\\Universitet\\PhD\\Git...</td>\n",
       "    </tr>\n",
       "    <tr>\n",
       "      <th>1</th>\n",
       "      <td>2</td>\n",
       "      <td>strf_demo_data</td>\n",
       "      <td>07-11-2023</td>\n",
       "      <td>4</td>\n",
       "      <td>Core</td>\n",
       "      <td>c:\\Users\\SimenLab\\OneDrive\\Universitet\\PhD\\Git...</td>\n",
       "    </tr>\n",
       "    <tr>\n",
       "      <th>2</th>\n",
       "      <td>3</td>\n",
       "      <td>strf_demo_data</td>\n",
       "      <td>07-11-2023</td>\n",
       "      <td>4</td>\n",
       "      <td>Core</td>\n",
       "      <td>c:\\Users\\SimenLab\\OneDrive\\Universitet\\PhD\\Git...</td>\n",
       "    </tr>\n",
       "  </tbody>\n",
       "</table>\n",
       "</div>"
      ],
      "text/plain": [
       "   id            name        date  num_rois  type  \\\n",
       "0   1  strf_demo_data  07-11-2023         4  STRF   \n",
       "1   2  strf_demo_data  07-11-2023         4  Core   \n",
       "2   3  strf_demo_data  07-11-2023         4  Core   \n",
       "\n",
       "                                                path  \n",
       "0  c:\\Users\\SimenLab\\OneDrive\\Universitet\\PhD\\Git...  \n",
       "1  c:\\Users\\SimenLab\\OneDrive\\Universitet\\PhD\\Git...  \n",
       "2  c:\\Users\\SimenLab\\OneDrive\\Universitet\\PhD\\Git...  "
      ]
     },
     "execution_count": 7,
     "metadata": {},
     "output_type": "execute_result"
    }
   ],
   "source": [
    "exp.detach_data(0)\n",
    "exp.recording_id"
   ]
  }
 ],
 "metadata": {
  "kernelspec": {
   "display_name": "strfsclone",
   "language": "python",
   "name": "python3"
  },
  "language_info": {
   "codemirror_mode": {
    "name": "ipython",
    "version": 3
   },
   "file_extension": ".py",
   "mimetype": "text/x-python",
   "name": "python",
   "nbconvert_exporter": "python",
   "pygments_lexer": "ipython3",
   "version": "3.10.8"
  }
 },
 "nbformat": 4,
 "nbformat_minor": 2
}
