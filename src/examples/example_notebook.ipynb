version https://git-lfs.github.com/spec/v1
oid sha256:8fff7c93f170e378a6084ce0b32b217e3f7f7cb7c4eeb46862b04841931f8934
size 112854
