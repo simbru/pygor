{
 "cells": [
  {
   "cell_type": "code",
   "execution_count": 4,
   "metadata": {},
   "outputs": [],
   "source": [
    "import h5py \n",
    "import numpy as np\n"
   ]
  },
  {
   "cell_type": "code",
   "execution_count": 97,
   "metadata": {},
   "outputs": [],
   "source": [
    "def try_fetch(file, key):\n",
    "    try:\n",
    "        result = file[key]\n",
    "        result_shape = result.shape\n",
    "        if result_shape != ():\n",
    "            result = np.array(result).T\n",
    "    except KeyError as error:\n",
    "        result = None\n",
    "        #raise KeyError(f\"'{key}' not found in {file.filename}, setting to np.nan\") from error\n",
    "        warnings.warn(f\"'{key}' not found in {file.filename}, setting to np.nan\", stacklevel=2)\n",
    "        error\n",
    "    return result\n",
    "\n",
    "def try_fetch_os_params(file, params_key):\n",
    "    \"\"\"\n",
    "    Will always default to fetching given key from file[\"OS_Parameters\"]\n",
    "    \"\"\"\n",
    "    keys = np.squeeze(list(file[\"OS_Parameters\"].attrs.items())[0][1])[1:] # this worked\n",
    "    key_indices = np.arange(len(keys))\n",
    "    key_dict = {keys[i]: i for i in key_indices}\n",
    "    return file[\"OS_Parameters\"][key_dict[params_key]]\n"
   ]
  },
  {
   "cell_type": "code",
   "execution_count": 101,
   "metadata": {},
   "outputs": [
    {
     "name": "stdout",
     "output_type": "stream",
     "text": [
      "0.5\n"
     ]
    }
   ],
   "source": [
    "path = r'D:/Box Sync/Imaging/241004/processed/2024-10-4_x241004_2_53_cOTs.h5'\n",
    "\n",
    "with h5py.File(path) as file:\n",
    "    print(try_fetch_os_params(file, 'fullFOVSize'))"
   ]
  },
  {
   "cell_type": "code",
   "execution_count": 62,
   "metadata": {},
   "outputs": [
    {
     "data": {
      "text/plain": [
       "(array([10]),)"
      ]
     },
     "execution_count": 62,
     "metadata": {},
     "output_type": "execute_result"
    }
   ],
   "source": [
    "np.where(out == 'ROI_corr_min')"
   ]
  },
  {
   "cell_type": "code",
   "execution_count": 63,
   "metadata": {},
   "outputs": [
    {
     "data": {
      "text/plain": [
       "array(['registration_averageN', 'Registration_skipN', '', 'Detrend_Skip',\n",
       "       'Detrend_nTimeBin', 'Detrend_smooth_window', 'LightArtifact_cut',\n",
       "       'fullFOVSize', 'nPlanes', '', 'ROI_corr_min', 'ROI_GaussSize',\n",
       "       'ROI_minPx', 'ROI_maxPx', 'ROIGap_px', 'ROI_SD_min',\n",
       "       'useMask4Corr', '', 'ROI_PxBinning', 'IncludeDiagonals',\n",
       "       'TimeCompress', '', 'Skip_First_Triggers', 'Skip_Last_Triggers',\n",
       "       'Baseline_nSeconds', 'Ignore1stXseconds', 'IgnoreLastXseconds', '',\n",
       "       'Trigger_Mode', 'Stim_Marker', 'nLines_lumped', 'PlotOnlyMeans',\n",
       "       'PlotOnlyHeatMap', '', 'AvgStack_make', 'AvgStack_SkipTrig',\n",
       "       'AvgStack_firstplane', '', 'QCProjection_make',\n",
       "       'QCProj_TriggersPerStim', 'QCProjection_binning', '',\n",
       "       'Clustering_nClasses', 'Clustering_SDplot', 'Events_nMax',\n",
       "       'Events_Threshold', 'Events_RateBins_s', '', 'Noise_EventSD',\n",
       "       'Noise_PxSize_degree', 'Noise_interval_sec',\n",
       "       'Noise_FilterLength_s', 'Kernel_SDplot', 'Kernel_MapPxbyPx',\n",
       "       'Kernel_MapSmth', 'Kernel_MapSDCut', 'Kernel_MapRange',\n",
       "       'Kernel_FFTRange', 'Kernel_FFTOffset', 'Noise_Compression',\n",
       "       'ROIKernelSmooth_space', 'ROIKernel_seedROI', '', 'LineDuration',\n",
       "       'samp_period', 'samp_rate_Hz', 'FOV_at_zoom065', 'Data_Channel',\n",
       "       'Data_Channel2', 'Trigger_Channel', 'Display_Stuff', '',\n",
       "       'Detrend_RatiometricData', 'Use_Znorm', 'Trigger_Threshold',\n",
       "       'Trigger_after_skip_s', 'Trigger_DisplayHeight',\n",
       "       'Trigger_LevelRead_after_lines', 'StimulatorDelay'], dtype=object)"
      ]
     },
     "execution_count": 63,
     "metadata": {},
     "output_type": "execute_result"
    }
   ],
   "source": [
    "out"
   ]
  },
  {
   "cell_type": "code",
   "execution_count": null,
   "metadata": {},
   "outputs": [],
   "source": [
    "'get', 'get_id', 'items', 'keys', "
   ]
  },
  {
   "cell_type": "code",
   "execution_count": 24,
   "metadata": {},
   "outputs": [
    {
     "data": {
      "text/plain": [
       "['__array__',\n",
       " '__bool__',\n",
       " '__class__',\n",
       " '__delattr__',\n",
       " '__dict__',\n",
       " '__dir__',\n",
       " '__doc__',\n",
       " '__eq__',\n",
       " '__format__',\n",
       " '__ge__',\n",
       " '__getattribute__',\n",
       " '__getitem__',\n",
       " '__getnewargs__',\n",
       " '__getstate__',\n",
       " '__gt__',\n",
       " '__hash__',\n",
       " '__init__',\n",
       " '__init_subclass__',\n",
       " '__iter__',\n",
       " '__le__',\n",
       " '__len__',\n",
       " '__lt__',\n",
       " '__module__',\n",
       " '__ne__',\n",
       " '__new__',\n",
       " '__nonzero__',\n",
       " '__reduce__',\n",
       " '__reduce_ex__',\n",
       " '__repr__',\n",
       " '__setattr__',\n",
       " '__setitem__',\n",
       " '__sizeof__',\n",
       " '__str__',\n",
       " '__subclasshook__',\n",
       " '__weakref__',\n",
       " '_cache_props',\n",
       " '_d',\n",
       " '_dcpl',\n",
       " '_dxpl',\n",
       " '_e',\n",
       " '_extent_type',\n",
       " '_fast_read_ok',\n",
       " '_fast_reader',\n",
       " '_filters',\n",
       " '_id',\n",
       " '_is_empty',\n",
       " '_lapl',\n",
       " '_lcpl',\n",
       " '_readonly',\n",
       " '_selector',\n",
       " 'asstr',\n",
       " 'astype',\n",
       " 'attrs',\n",
       " 'chunks',\n",
       " 'compression',\n",
       " 'compression_opts',\n",
       " 'dims',\n",
       " 'dtype',\n",
       " 'external',\n",
       " 'fields',\n",
       " 'file',\n",
       " 'fillvalue',\n",
       " 'fletcher32',\n",
       " 'flush',\n",
       " 'id',\n",
       " 'is_scale',\n",
       " 'is_virtual',\n",
       " 'iter_chunks',\n",
       " 'len',\n",
       " 'make_scale',\n",
       " 'maxshape',\n",
       " 'name',\n",
       " 'nbytes',\n",
       " 'ndim',\n",
       " 'parent',\n",
       " 'read_direct',\n",
       " 'ref',\n",
       " 'refresh',\n",
       " 'regionref',\n",
       " 'resize',\n",
       " 'scaleoffset',\n",
       " 'shape',\n",
       " 'shuffle',\n",
       " 'size',\n",
       " 'virtual_sources',\n",
       " 'write_direct']"
      ]
     },
     "execution_count": 24,
     "metadata": {},
     "output_type": "execute_result"
    }
   ],
   "source": [
    "mydir"
   ]
  }
 ],
 "metadata": {
  "kernelspec": {
   "display_name": "PYGOR-TIMESERIES",
   "language": "python",
   "name": "python3"
  },
  "language_info": {
   "codemirror_mode": {
    "name": "ipython",
    "version": 3
   },
   "file_extension": ".py",
   "mimetype": "text/x-python",
   "name": "python",
   "nbconvert_exporter": "python",
   "pygments_lexer": "ipython3",
   "version": "3.12.5"
  }
 },
 "nbformat": 4,
 "nbformat_minor": 2
}
