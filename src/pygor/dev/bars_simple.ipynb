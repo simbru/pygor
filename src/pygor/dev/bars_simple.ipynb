version https://git-lfs.github.com/spec/v1
oid sha256:1a3b0d9425c83e3cf471007f52d19974daba91c93d850cf1f7467d5cc7720afc
size 2114
