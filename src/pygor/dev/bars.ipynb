version https://git-lfs.github.com/spec/v1
oid sha256:da7eea7601a0f749d4a632fa0ca7686a26c740b1da2040027c4b0a8c245ce87b
size 3308929
