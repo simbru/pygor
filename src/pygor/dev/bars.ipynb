version https://git-lfs.github.com/spec/v1
oid sha256:df87141a3aa5a35eb475b8b92ad5593da442adfc9c1401d64cd23e79cbe184bc
size 1632707
