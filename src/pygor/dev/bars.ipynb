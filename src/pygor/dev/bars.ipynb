version https://git-lfs.github.com/spec/v1
oid sha256:d113aa9522b2a90ff1301e548238ae0005cd312b711f54612cc4e4b775231a87
size 363549
