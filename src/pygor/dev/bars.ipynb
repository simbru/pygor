version https://git-lfs.github.com/spec/v1
oid sha256:b60e71c5ded602cb7f9b74a68de4729bfffa1a8aeea519b0b68b4bde533e27f5
size 234769
