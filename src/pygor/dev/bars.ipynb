version https://git-lfs.github.com/spec/v1
oid sha256:3a442c6edc1d3a4aafbbe461ab7520e70fc6ef0b75a0e556cb54e8b893d431ea
size 67258
