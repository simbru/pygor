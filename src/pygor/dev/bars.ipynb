version https://git-lfs.github.com/spec/v1
oid sha256:f9536b0c4a7c4c8d531043684f3464fc6edf170c92c8a67ae2f91a83f4fc36de
size 223706
