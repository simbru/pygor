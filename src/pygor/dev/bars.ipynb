version https://git-lfs.github.com/spec/v1
oid sha256:596f9a55c160137aa3854f157d1b101b6d952840e3f62c84bf78a614bd65fcd4
size 294219
