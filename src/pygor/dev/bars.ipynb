version https://git-lfs.github.com/spec/v1
oid sha256:a14e8a7415d62a8c732da126a8ac48dec948648a132b13d7dcc830a3b805e535
size 438933
