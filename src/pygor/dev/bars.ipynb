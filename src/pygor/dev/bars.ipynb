version https://git-lfs.github.com/spec/v1
oid sha256:966d6c8436ac8563a348056911edc2934c5d38f340734321b375dc7c9177760e
size 1548745
