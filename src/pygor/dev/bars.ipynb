version https://git-lfs.github.com/spec/v1
oid sha256:6bbcecd66c11024694db2e6248577d840f14ba8af90e5fe52db4a26d580d1708
size 3200268
