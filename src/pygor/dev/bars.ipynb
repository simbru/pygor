version https://git-lfs.github.com/spec/v1
oid sha256:0ef303d726c992b7a852041e6c58664de2ab31a8078722530921a8228a78c7d1
size 3869408
