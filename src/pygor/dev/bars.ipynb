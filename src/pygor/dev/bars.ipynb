version https://git-lfs.github.com/spec/v1
oid sha256:ac069c343be0fb5dc88c45a4ed5987a3a90f35671a02b1cc7c0af375af4dfbf6
size 1543038
