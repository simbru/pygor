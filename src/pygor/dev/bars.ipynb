version https://git-lfs.github.com/spec/v1
oid sha256:de5b9789dc7d8ab3bf8aa2ca6507358fd6e3c3543622db3f057df93a3cf3d1af
size 418295
