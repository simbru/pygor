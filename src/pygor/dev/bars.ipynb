version https://git-lfs.github.com/spec/v1
oid sha256:7f1cd5ded12333e5a0cb2f6ab5d37e59ee81dedd670985f857a507a3f25e275a
size 248322
