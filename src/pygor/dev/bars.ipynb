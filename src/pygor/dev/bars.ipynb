version https://git-lfs.github.com/spec/v1
oid sha256:8c2d8fb3af61a038f778c301982ffbcd54ed019277a9ba672e3f403f4cace72a
size 295612
