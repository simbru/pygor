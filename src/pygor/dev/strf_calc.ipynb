version https://git-lfs.github.com/spec/v1
oid sha256:e0afb62941ddc6e26da0cdb4a21808ee9cbeafe9f38fe5538e6c15df5dac6a87
size 2150484
